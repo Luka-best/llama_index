{
 "cells": [
  {
   "cell_type": "code",
   "execution_count": null,
   "id": "c9406693-d9ea-4b3b-98e1-4fed18c32228",
   "metadata": {
    "tags": []
   },
   "outputs": [],
   "source": [
    "from main import benchmark"
   ]
  },
  {
   "cell_type": "code",
   "execution_count": null,
   "id": "fea5e72e-1dfd-4316-b046-1518631b7813",
   "metadata": {
    "tags": []
   },
   "outputs": [],
   "source": [
    "df = benchmark()"
   ]
  },
  {
   "cell_type": "code",
   "execution_count": null,
   "id": "8d287a88-f619-4d9e-9554-99817ba410fd",
   "metadata": {},
   "outputs": [],
   "source": []
  }
 ],
 "metadata": {
  "kernelspec": {
   "display_name": "Python 3 (ipykernel)",
   "language": "python",
   "name": "python3"
  },
  "language_info": {
   "codemirror_mode": {
    "name": "ipython",
    "version": 3
   },
   "file_extension": ".py",
   "mimetype": "text/x-python",
   "name": "python",
   "nbconvert_exporter": "python",
   "pygments_lexer": "ipython3",
   "version": "3.9.16"
  }
 },
 "nbformat": 4,
 "nbformat_minor": 5
}
