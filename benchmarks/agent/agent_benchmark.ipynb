{
 "cells": [
  {
   "cell_type": "code",
   "execution_count": 1,
   "id": "c9406693-d9ea-4b3b-98e1-4fed18c32228",
   "metadata": {
    "tags": []
   },
   "outputs": [],
   "source": [
    "from main import benchmark"
   ]
  },
  {
   "cell_type": "code",
   "execution_count": 8,
   "id": "fea5e72e-1dfd-4316-b046-1518631b7813",
   "metadata": {
    "tags": []
   },
   "outputs": [
    {
     "name": "stdout",
     "output_type": "stream",
     "text": [
      "=========================================\n",
      "Evaluating | react | llama13b-v2-chat | What is 123 + 321 * 2? |\n",
      "\u001b[38;5;200m\u001b[1;3mThought: I need to use a tool to help me answer the question.\n",
      "Action: multiply\n",
      "Action Input: {'a': 321, 'b': 2}\n",
      "\u001b[0m\u001b[36;1m\u001b[1;3mObservation: 642\n",
      "\u001b[0m\u001b[38;5;200m\u001b[1;3mResponse: 765\n",
      "\u001b[0mExpected response: 765\n",
      "Actual response: 765\n",
      "Outcome: True\n",
      "=========================================\n",
      "Evaluating | react | llama13b-v2-chat | What is 3 to the power of 4? |\n",
      "\u001b[38;5;200m\u001b[1;3mThought: I need to use a tool to help me answer the question.\n",
      "Action: multiply\n",
      "Action Input: {'a': 3, 'b': 4}\n",
      "\u001b[0m\u001b[36;1m\u001b[1;3mObservation: 12\n",
      "\u001b[0m\u001b[38;5;200m\u001b[1;3mResponse: 12\n",
      "\u001b[0mExpected response: 81\n",
      "Actual response: 12\n",
      "Outcome: False\n",
      "=========================================\n",
      "Evaluating | react | llama13b-v2-chat | Dial the number 4151 then hit enter. |\n",
      "\u001b[38;5;200m\u001b[1;3mThought: I need to use a tool to help me answer the question.\n",
      "Action: dial_digit\n",
      "Action Input: {'number': '4151'}\n",
      "\u001b[0mFailed due to:  \n",
      "Expected response: 4151\n",
      "Actual response: None\n",
      "Outcome: False\n",
      "=========================================\n",
      "Evaluating | react | llama13b-v2-chat | Dial the number for john smith, then hit enter. |\n",
      "\u001b[38;5;200m\u001b[1;3mThought: I need to use a tool to help me answer the question.\n",
      "Action: dial_digit\n",
      "Action Input: {'number': '555-1234'}\n",
      "\u001b[0mFailed due to:  \n",
      "Expected response: 2135\n",
      "Actual response: None\n",
      "Outcome: False\n",
      "openai does not work with llama13b-v2-chat\n",
      "openai does not work with llama13b-v2-chat\n",
      "openai does not work with llama13b-v2-chat\n",
      "openai does not work with llama13b-v2-chat\n"
     ]
    }
   ],
   "source": [
    "df = benchmark(verbose=True, models=[\"llama13b-v2-chat\"])"
   ]
  },
  {
   "cell_type": "markdown",
   "id": "c415b6df-2c63-4927-b9ac-53f9879abed9",
   "metadata": {},
   "source": [
    "## Analysis"
   ]
  },
  {
   "cell_type": "markdown",
   "id": "649e5621-566c-4206-ab78-853941595027",
   "metadata": {},
   "source": [
    "Break down by agent type "
   ]
  },
  {
   "cell_type": "code",
   "execution_count": 3,
   "id": "8d287a88-f619-4d9e-9554-99817ba410fd",
   "metadata": {
    "tags": []
   },
   "outputs": [
    {
     "data": {
      "text/plain": [
       "agent\n",
       "react    0.0\n",
       "Name: outcome, dtype: float64"
      ]
     },
     "execution_count": 3,
     "metadata": {},
     "output_type": "execute_result"
    }
   ],
   "source": [
    "df.groupby(\"agent\").outcome.mean()"
   ]
  },
  {
   "cell_type": "markdown",
   "id": "d07e72c1-6ef9-4be9-b3ce-96d20ec7eef5",
   "metadata": {
    "tags": []
   },
   "source": [
    "Break down by model "
   ]
  },
  {
   "cell_type": "code",
   "execution_count": 4,
   "id": "6a1c1323-12bf-4022-8495-642f619d80f4",
   "metadata": {
    "tags": []
   },
   "outputs": [
    {
     "data": {
      "text/plain": [
       "model\n",
       "llama70b-v2-chat    0.0\n",
       "Name: outcome, dtype: float64"
      ]
     },
     "execution_count": 4,
     "metadata": {},
     "output_type": "execute_result"
    }
   ],
   "source": [
    "df.groupby(\"model\").outcome.mean()"
   ]
  },
  {
   "cell_type": "markdown",
   "id": "8a1f5e50-75ea-47c7-b24c-ad40950473ad",
   "metadata": {
    "tags": []
   },
   "source": [
    "Break down by task"
   ]
  },
  {
   "cell_type": "code",
   "execution_count": 5,
   "id": "161eae93-75e1-4d2e-a006-4336cc05eef4",
   "metadata": {
    "tags": []
   },
   "outputs": [
    {
     "data": {
      "text/plain": [
       "task\n",
       "add_then_multiply    0.0\n",
       "dial_then_enter      0.0\n",
       "power                0.0\n",
       "search_then_dial     0.0\n",
       "Name: outcome, dtype: float64"
      ]
     },
     "execution_count": 5,
     "metadata": {},
     "output_type": "execute_result"
    }
   ],
   "source": [
    "df.groupby(\"task\").outcome.mean()"
   ]
  }
 ],
 "metadata": {
  "kernelspec": {
   "display_name": "Python 3 (ipykernel)",
   "language": "python",
   "name": "python3"
  },
  "language_info": {
   "codemirror_mode": {
    "name": "ipython",
    "version": 3
   },
   "file_extension": ".py",
   "mimetype": "text/x-python",
   "name": "python",
   "nbconvert_exporter": "python",
   "pygments_lexer": "ipython3",
   "version": "3.9.16"
  }
 },
 "nbformat": 4,
 "nbformat_minor": 5
}
