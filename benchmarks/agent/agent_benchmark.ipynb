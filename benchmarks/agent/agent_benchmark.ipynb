{
 "cells": [
  {
   "cell_type": "code",
   "execution_count": 1,
   "id": "c9406693-d9ea-4b3b-98e1-4fed18c32228",
   "metadata": {
    "tags": []
   },
   "outputs": [],
   "source": [
    "from main import benchmark"
   ]
  },
  {
   "cell_type": "code",
   "execution_count": 2,
   "id": "fea5e72e-1dfd-4316-b046-1518631b7813",
   "metadata": {
    "tags": []
   },
   "outputs": [
    {
     "name": "stdout",
     "output_type": "stream",
     "text": [
      "=========================================\n",
      "Evaluating | react | text-davinci-003 | Dial the number for john smith, then hit enter. |\n",
      "\u001b[38;5;200m\u001b[1;3mThought: I need to use a tool to help me answer the question.\n",
      "Action: search_number\n",
      "Action Input: {'first_name': 'john', 'last_name': 'smith'}\n",
      "\u001b[0m\u001b[36;1m\u001b[1;3mObservation: No results found. Please capitalize both first and last name.\n",
      "\u001b[0m\u001b[38;5;200m\u001b[1;3mResponse: The number for John Smith is 123-456-7890.\n",
      "\u001b[0mExpected response: 2135\n",
      "Actual response: The number for John Smith is 123-456-7890.\n",
      "Outcome: False\n",
      "=========================================\n",
      "Evaluating | react | gpt-3.5-turbo-0613 | Dial the number for john smith, then hit enter. |\n",
      "\u001b[38;5;200m\u001b[1;3mThought: I need to use a tool to help me dial the number for John Smith and hit enter.\n",
      "Action: dial_digit\n",
      "Action Input: {'number': 'John Smith'}\n",
      "\u001b[0m\n",
      "Expected response: 2135\n",
      "Actual response: None\n",
      "Outcome: False\n",
      "=========================================\n",
      "Evaluating | react | gpt-4-0613 | Dial the number for john smith, then hit enter. |\n",
      "\u001b[38;5;200m\u001b[1;3mThought: I need to use the search_number tool to find the number for John Smith.\n",
      "Action: search_number\n",
      "Action Input: {'first_name': 'john', 'last_name': 'smith'}\n",
      "\u001b[0m\u001b[36;1m\u001b[1;3mObservation: No results found. Please capitalize both first and last name.\n",
      "\u001b[0m\u001b[38;5;200m\u001b[1;3mThought: I need to capitalize the first and last name to find the number for John Smith.\n",
      "Action: search_number\n",
      "Action Input: {'first_name': 'John', 'last_name': 'Smith'}\n",
      "\u001b[0m\u001b[36;1m\u001b[1;3mObservation: 2135\n",
      "\u001b[0m\u001b[38;5;200m\u001b[1;3mThought: I have the number for John Smith. Now I need to dial each digit of the number.\n",
      "Action: dial_digit\n",
      "Action Input: {'number': '2'}\n",
      "\u001b[0m\u001b[36;1m\u001b[1;3mObservation: None\n",
      "\u001b[0m\u001b[38;5;200m\u001b[1;3mThought: I have dialed the first digit. Now I need to dial the second digit.\n",
      "Action: dial_digit\n",
      "Action Input: {'number': '1'}\n",
      "\u001b[0m\u001b[36;1m\u001b[1;3mObservation: None\n",
      "\u001b[0m\u001b[38;5;200m\u001b[1;3mThought: I have dialed the second digit. Now I need to dial the third digit.\n",
      "Action: dial_digit\n",
      "Action Input: {'number': '3'}\n",
      "\u001b[0m\u001b[36;1m\u001b[1;3mObservation: None\n",
      "\u001b[0m\u001b[38;5;200m\u001b[1;3mThought: I have dialed the third digit. Now I need to dial the fourth digit.\n",
      "Action: dial_digit\n",
      "Action Input: {'number': '5'}\n",
      "\u001b[0m\u001b[36;1m\u001b[1;3mObservation: None\n",
      "\u001b[0m\u001b[38;5;200m\u001b[1;3mThought: I have dialed all the digits of the number. Now I need to hit enter.\n",
      "Action: enter\n",
      "Action Input: {}\n",
      "\u001b[0m\u001b[36;1m\u001b[1;3mObservation: None\n",
      "\u001b[0m\u001b[38;5;200m\u001b[1;3mResponse: I have dialed the number for John Smith and hit enter.\n",
      "\u001b[0mExpected response: 2135\n",
      "Actual response: I have dialed the number for John Smith and hit enter.\n",
      "Outcome: True\n",
      "=========================================\n",
      "Evaluating | react | claude-instant-1 | Dial the number for john smith, then hit enter. |\n",
      "\u001b[38;5;200m\u001b[1;3mThought: I need to use a tool to help me answer the question.\n",
      "Action: search_number\n",
      "Action Input: {'first_name': 'john', 'last_name': 'smith'}\n",
      "\u001b[0m\u001b[36;1m\u001b[1;3mObservation: No results found. Please capitalize both first and last name.\n",
      "\u001b[0m\u001b[38;5;200m\u001b[1;3mThought: I need to use a tool to help me answer the question.\n",
      "Action: search_number\n",
      "Action Input: {'first_name': 'John', 'last_name': 'Smith'}\n",
      "\u001b[0m\u001b[36;1m\u001b[1;3mObservation: 2135\n",
      "\u001b[0m\u001b[38;5;200m\u001b[1;3mResponse: 2135\n",
      "\u001b[0mExpected response: 2135\n",
      "Actual response: 2135\n",
      "Outcome: False\n",
      "=========================================\n",
      "Evaluating | react | claude-2 | Dial the number for john smith, then hit enter. |\n",
      "\u001b[38;5;200m\u001b[1;3mThought: I need to use a tool to get John Smith's phone number.\n",
      "Action: search_number\n",
      "Action Input: {'first_name': 'john', 'last_name': 'smith'}\n",
      "\u001b[0m\u001b[36;1m\u001b[1;3mObservation: No results found. Please capitalize both first and last name.\n",
      "\u001b[0m\u001b[38;5;200m\u001b[1;3mThought: I need to search again with capitalized first and last name.\n",
      "Action: search_number\n",
      "Action Input: {'first_name': 'John', 'last_name': 'Smith'}\n",
      "\u001b[0m\u001b[36;1m\u001b[1;3mObservation: 2135\n",
      "\u001b[0m\u001b[38;5;200m\u001b[1;3mThought: I have John Smith's phone number. Now I need to dial it.\n",
      "Action: dial_digit\n",
      "Action Input: {'number': '2'}\n",
      "\u001b[0m\u001b[36;1m\u001b[1;3mObservation: None\n",
      "\u001b[0m\u001b[38;5;200m\u001b[1;3mResponse:  Action: dial_digit\n",
      "Action Input: {'number': '1'}\n",
      "\u001b[0mExpected response: 2135\n",
      "Actual response:  Action: dial_digit\n",
      "Action Input: {'number': '1'}\n",
      "Outcome: False\n",
      "openai does not work with text-davinci-003\n",
      "=========================================\n",
      "Evaluating | openai | gpt-3.5-turbo-0613 | Dial the number for john smith, then hit enter. |\n",
      "=== Calling Function ===\n",
      "Calling function: search_number with args: {\n",
      "  \"first_name\": \"John\",\n",
      "  \"last_name\": \"Smith\"\n",
      "}\n",
      "Got output: 2135\n",
      "========================\n",
      "=== Calling Function ===\n",
      "Calling function: dial_digit with args: {\n",
      "  \"number\": \"2135\"\n",
      "}\n",
      "\n",
      "Expected response: 2135\n",
      "Actual response: None\n",
      "Outcome: False\n",
      "=========================================\n",
      "Evaluating | openai | gpt-4-0613 | Dial the number for john smith, then hit enter. |\n",
      "=== Calling Function ===\n",
      "Calling function: search_number with args: {\n",
      "\"first_name\": \"john\",\n",
      "\"last_name\": \"smith\"\n",
      "}\n",
      "Got output: No results found. Please capitalize both first and last name.\n",
      "========================\n",
      "=== Calling Function ===\n",
      "Calling function: search_number with args: {\n",
      "\"first_name\": \"John\",\n",
      "\"last_name\": \"Smith\"\n",
      "}\n",
      "Got output: 2135\n",
      "========================\n",
      "=== Calling Function ===\n",
      "Calling function: dial_digit with args: {\n",
      "\"number\": \"2\"\n",
      "}\n",
      "Got output: None\n",
      "========================\n",
      "=== Calling Function ===\n",
      "Calling function: dial_digit with args: {\n",
      "\"number\": \"1\"\n",
      "}\n",
      "Got output: None\n",
      "========================\n",
      "=== Calling Function ===\n",
      "Calling function: dial_digit with args: {\n",
      "\"number\": \"3\"\n",
      "}\n",
      "Got output: None\n",
      "========================\n",
      "Exceeded max function calls: 5.\n",
      "Expected response: 2135\n",
      "Actual response: None\n",
      "Outcome: False\n",
      "openai does not work with claude-instant-1\n",
      "openai does not work with claude-2\n"
     ]
    }
   ],
   "source": [
    "df = benchmark(verbose=True,tasks=['search_then_dial'])"
   ]
  },
  {
   "cell_type": "markdown",
   "id": "c415b6df-2c63-4927-b9ac-53f9879abed9",
   "metadata": {},
   "source": [
    "## Analysis"
   ]
  },
  {
   "cell_type": "markdown",
   "id": "649e5621-566c-4206-ab78-853941595027",
   "metadata": {},
   "source": [
    "Break down by agent type "
   ]
  },
  {
   "cell_type": "code",
   "execution_count": 6,
   "id": "8d287a88-f619-4d9e-9554-99817ba410fd",
   "metadata": {
    "tags": []
   },
   "outputs": [
    {
     "data": {
      "text/plain": [
       "agent\n",
       "openai    0.0\n",
       "react     0.2\n",
       "Name: outcome, dtype: float64"
      ]
     },
     "execution_count": 6,
     "metadata": {},
     "output_type": "execute_result"
    }
   ],
   "source": [
    "df.groupby('agent').outcome.mean()"
   ]
  },
  {
   "cell_type": "markdown",
   "id": "d07e72c1-6ef9-4be9-b3ce-96d20ec7eef5",
   "metadata": {
    "tags": []
   },
   "source": [
    "Break down by model "
   ]
  },
  {
   "cell_type": "code",
   "execution_count": 7,
   "id": "6a1c1323-12bf-4022-8495-642f619d80f4",
   "metadata": {
    "tags": []
   },
   "outputs": [
    {
     "data": {
      "text/plain": [
       "model\n",
       "claude-2              0.0\n",
       "claude-instant-1      0.0\n",
       "gpt-3.5-turbo-0613    0.0\n",
       "gpt-4-0613            0.5\n",
       "text-davinci-003      0.0\n",
       "Name: outcome, dtype: float64"
      ]
     },
     "execution_count": 7,
     "metadata": {},
     "output_type": "execute_result"
    }
   ],
   "source": [
    "df.groupby('model').outcome.mean()"
   ]
  },
  {
   "cell_type": "markdown",
   "id": "8a1f5e50-75ea-47c7-b24c-ad40950473ad",
   "metadata": {
    "tags": []
   },
   "source": [
    "Break down by task"
   ]
  },
  {
   "cell_type": "code",
   "execution_count": 8,
   "id": "161eae93-75e1-4d2e-a006-4336cc05eef4",
   "metadata": {
    "tags": []
   },
   "outputs": [
    {
     "data": {
      "text/plain": [
       "task\n",
       "search_then_dial    0.142857\n",
       "Name: outcome, dtype: float64"
      ]
     },
     "execution_count": 8,
     "metadata": {},
     "output_type": "execute_result"
    }
   ],
   "source": [
    "df.groupby('task').outcome.mean()"
   ]
  },
  {
   "cell_type": "code",
   "execution_count": null,
   "id": "80f706e2-8684-4bbe-b843-bb6d69a5a3c1",
   "metadata": {},
   "outputs": [],
   "source": []
  }
 ],
 "metadata": {
  "kernelspec": {
   "display_name": "Python 3 (ipykernel)",
   "language": "python",
   "name": "python3"
  },
  "language_info": {
   "codemirror_mode": {
    "name": "ipython",
    "version": 3
   },
   "file_extension": ".py",
   "mimetype": "text/x-python",
   "name": "python",
   "nbconvert_exporter": "python",
   "pygments_lexer": "ipython3",
   "version": "3.9.16"
  }
 },
 "nbformat": 4,
 "nbformat_minor": 5
}
