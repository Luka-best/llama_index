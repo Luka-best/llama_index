{
 "cells": [
  {
   "cell_type": "markdown",
   "id": "27beb3c1-4d05-4645-85e5-60c28bdaaae2",
   "metadata": {},
   "source": [
    "# Privacy-Safe NetworkRetriever Demo"
   ]
  },
  {
   "cell_type": "code",
   "execution_count": null,
   "id": "ff743622-6887-4121-8049-44110b366f06",
   "metadata": {},
   "outputs": [],
   "source": [
    "import os\n",
    "import tqdm\n",
    "\n",
    "from llama_index.core.llama_dataset.simple import LabelledSimpleDataset\n",
    "from llama_index.networks.network.retriever import NetworkRetriever\n",
    "from llama_index.networks.contributor.retriever import ContributorRetrieverClient"
   ]
  },
  {
   "cell_type": "code",
   "execution_count": null,
   "id": "ee0673fd-2bcc-4a45-8caa-a2714377ac5c",
   "metadata": {},
   "outputs": [],
   "source": [
    "import nest_asyncio\n",
    "\n",
    "nest_asyncio.apply()"
   ]
  },
  {
   "cell_type": "markdown",
   "id": "21063788-6349-4539-b946-74415770d74d",
   "metadata": {},
   "source": [
    "### Load Symptom2Disease TestData"
   ]
  },
  {
   "cell_type": "code",
   "execution_count": null,
   "id": "a8f6724f-1918-4b82-8937-f0736bc8ec2d",
   "metadata": {},
   "outputs": [],
   "source": [
    "test_dataset = LabelledSimpleDataset.from_json(\"./symptom_2_disease_test.json\")"
   ]
  },
  {
   "cell_type": "code",
   "execution_count": null,
   "id": "c5a3e16b-bf70-487f-a32f-d97145d3f439",
   "metadata": {},
   "outputs": [
    {
     "data": {
      "text/html": [
       "<div>\n",
       "<style scoped>\n",
       "    .dataframe tbody tr th:only-of-type {\n",
       "        vertical-align: middle;\n",
       "    }\n",
       "\n",
       "    .dataframe tbody tr th {\n",
       "        vertical-align: top;\n",
       "    }\n",
       "\n",
       "    .dataframe thead th {\n",
       "        text-align: right;\n",
       "    }\n",
       "</style>\n",
       "<table border=\"1\" class=\"dataframe\">\n",
       "  <thead>\n",
       "    <tr style=\"text-align: right;\">\n",
       "      <th></th>\n",
       "      <th>reference_label</th>\n",
       "      <th>text</th>\n",
       "      <th>text_by</th>\n",
       "    </tr>\n",
       "  </thead>\n",
       "  <tbody>\n",
       "    <tr>\n",
       "      <th>0</th>\n",
       "      <td>Common Cold</td>\n",
       "      <td>I'm constantly sneezing and my body is shaking...</td>\n",
       "      <td>human</td>\n",
       "    </tr>\n",
       "    <tr>\n",
       "      <th>1</th>\n",
       "      <td>Bronchial Asthma</td>\n",
       "      <td>I have a cough that has continued for days, an...</td>\n",
       "      <td>human</td>\n",
       "    </tr>\n",
       "    <tr>\n",
       "      <th>2</th>\n",
       "      <td>Bronchial Asthma</td>\n",
       "      <td>I've got a cough that won't go away, and I'm e...</td>\n",
       "      <td>human</td>\n",
       "    </tr>\n",
       "    <tr>\n",
       "      <th>3</th>\n",
       "      <td>Fungal infection</td>\n",
       "      <td>My body has been itching terribly all over, an...</td>\n",
       "      <td>human</td>\n",
       "    </tr>\n",
       "    <tr>\n",
       "      <th>4</th>\n",
       "      <td>Acne</td>\n",
       "      <td>When I awoke this morning, I saw a severe rash...</td>\n",
       "      <td>human</td>\n",
       "    </tr>\n",
       "  </tbody>\n",
       "</table>\n",
       "</div>"
      ],
      "text/plain": [
       "    reference_label                                               text text_by\n",
       "0       Common Cold  I'm constantly sneezing and my body is shaking...   human\n",
       "1  Bronchial Asthma  I have a cough that has continued for days, an...   human\n",
       "2  Bronchial Asthma  I've got a cough that won't go away, and I'm e...   human\n",
       "3  Fungal infection  My body has been itching terribly all over, an...   human\n",
       "4              Acne  When I awoke this morning, I saw a severe rash...   human"
      ]
     },
     "execution_count": null,
     "metadata": {},
     "output_type": "execute_result"
    }
   ],
   "source": [
    "test_dataset.to_pandas()[:5]"
   ]
  },
  {
   "cell_type": "markdown",
   "id": "f4b28402-2de2-4766-a116-bb59fc91459a",
   "metadata": {},
   "source": [
    "### NetworkRetriever"
   ]
  },
  {
   "cell_type": "code",
   "execution_count": null,
   "id": "c1c19958-cb5d-49b4-af8a-76265f108286",
   "metadata": {},
   "outputs": [],
   "source": [
    "# setup ContributorClients to connect to ContributorServices\n",
    "contributors = [\n",
    "    ContributorRetrieverClient.from_config_file(\n",
    "        env_file=f\"./client-env-files/.env.contributor_{ix}.client\"\n",
    "    )\n",
    "    for ix in range(1, 3)\n",
    "]"
   ]
  },
  {
   "cell_type": "markdown",
   "id": "b287fe46-966d-44bf-b8eb-4211a2e26c27",
   "metadata": {},
   "source": [
    "#### Optional Reranker"
   ]
  },
  {
   "cell_type": "code",
   "execution_count": null,
   "id": "eb97c0cb-1674-4f75-a656-b36062adca3d",
   "metadata": {},
   "outputs": [],
   "source": [
    "from llama_index.postprocessor.cohere_rerank import CohereRerank\n",
    "\n",
    "reranker = CohereRerank(top_n=5)"
   ]
  },
  {
   "cell_type": "code",
   "execution_count": null,
   "id": "4444b24a-fda4-488f-9889-72525eafe977",
   "metadata": {},
   "outputs": [],
   "source": [
    "network_retriever = NetworkRetriever(\n",
    "    contributors=contributors, rerank=True, reranker=reranker\n",
    ")"
   ]
  },
  {
   "cell_type": "markdown",
   "id": "ee04f3cd-3149-42d6-bf8b-16ec4aea7882",
   "metadata": {},
   "source": [
    "### NetworkRetriever Results"
   ]
  },
  {
   "cell_type": "code",
   "execution_count": null,
   "id": "86eaf73c-3498-4f6b-b3e3-4de0bf916ebd",
   "metadata": {},
   "outputs": [
    {
     "name": "stderr",
     "output_type": "stream",
     "text": [
      "100%|███████████████████████████████████████████████████████████████████████████████████| 240/240 [01:39<00:00,  2.42it/s]\n"
     ]
    }
   ],
   "source": [
    "network_retrievals = []\n",
    "for example in tqdm.tqdm(test_dataset[:]):\n",
    "    network_retrievals.append(await network_retriever.aretrieve(example.text))"
   ]
  },
  {
   "cell_type": "markdown",
   "id": "a602192b-b9b0-4a15-8b4a-e7224f6dae0f",
   "metadata": {},
   "source": [
    "### Contributor1 Retriever Results"
   ]
  },
  {
   "cell_type": "code",
   "execution_count": null,
   "id": "0bf9b4b3-77e8-48cf-a580-4a936f739263",
   "metadata": {},
   "outputs": [
    {
     "name": "stderr",
     "output_type": "stream",
     "text": [
      "100%|███████████████████████████████████████████████████████████████████████████████████| 240/240 [00:56<00:00,  4.26it/s]\n"
     ]
    }
   ],
   "source": [
    "contributor1_retriever = NetworkRetriever(contributors=contributors[:1])\n",
    "contributor1_retrievals = []\n",
    "for example in tqdm.tqdm(test_dataset[:]):\n",
    "    contributor1_retrievals.append(await contributor1_retriever.aretrieve(example.text))"
   ]
  },
  {
   "cell_type": "markdown",
   "id": "a94136b0-d1c3-4bef-9571-d11811a5c21b",
   "metadata": {},
   "source": [
    "### Contributor2 Retriever Results"
   ]
  },
  {
   "cell_type": "code",
   "execution_count": null,
   "id": "840a514b-16b9-43ae-b14e-a7749f3b703a",
   "metadata": {},
   "outputs": [
    {
     "name": "stderr",
     "output_type": "stream",
     "text": [
      "100%|███████████████████████████████████████████████████████████████████████████████████| 240/240 [00:55<00:00,  4.33it/s]\n"
     ]
    }
   ],
   "source": [
    "contributor2_retriever = NetworkRetriever(contributors=contributors[1:2])\n",
    "contributor2_retrievals = []\n",
    "for example in tqdm.tqdm(test_dataset[:]):\n",
    "    contributor2_retrievals.append(await contributor2_retriever.aretrieve(example.text))"
   ]
  },
  {
   "cell_type": "markdown",
   "id": "6f820817-b086-4fd3-afb4-d005de6b5cc7",
   "metadata": {},
   "source": [
    "### Evaluations"
   ]
  },
  {
   "cell_type": "code",
   "execution_count": null,
   "id": "7b0beb89-1e16-454b-83fc-d76ee00477fe",
   "metadata": {},
   "outputs": [],
   "source": [
    "from typing import List\n",
    "from llama_index.core.schema import NodeWithScore\n",
    "\n",
    "\n",
    "def compute_hit(retrieved_nodes: List[NodeWithScore], expected_label: str):\n",
    "    return any(r.metadata[\"reference_label\"] == expected_label for r in retrieved_nodes)\n",
    "\n",
    "\n",
    "def compute_reciprocal_rank(retrieved_nodes: List[NodeWithScore], expected_label: str):\n",
    "    for i, r in enumerate(retrieved_nodes):\n",
    "        if r.metadata[\"reference_label\"] == expected_label:\n",
    "            return 1.0 / (i + 1)\n",
    "    return 0"
   ]
  },
  {
   "cell_type": "markdown",
   "id": "0133f971-8169-44f7-ac03-7d7c655fcb12",
   "metadata": {},
   "source": [
    "#### NetworkRetriever"
   ]
  },
  {
   "cell_type": "code",
   "execution_count": null,
   "id": "3f8ea6e4-49d9-479c-847b-305d79dcbf3c",
   "metadata": {},
   "outputs": [],
   "source": [
    "network_retriver_hits = [\n",
    "    compute_hit(r, ex.reference_label)\n",
    "    for r, ex in zip(network_retrievals, test_dataset.examples)\n",
    "]\n",
    "network_retriver_reciprocal_ranks = [\n",
    "    compute_reciprocal_rank(r, ex.reference_label)\n",
    "    for r, ex in zip(network_retrievals, test_dataset.examples)\n",
    "]"
   ]
  },
  {
   "cell_type": "markdown",
   "id": "ddccc648-df7d-49d5-b3ad-3d8f4b3a511f",
   "metadata": {},
   "source": [
    "#### Contributor 1"
   ]
  },
  {
   "cell_type": "code",
   "execution_count": null,
   "id": "17e35e26-09eb-49d6-af7d-163b26d135af",
   "metadata": {},
   "outputs": [],
   "source": [
    "contributor1_retriever_hits = [\n",
    "    compute_hit(r, ex.reference_label)\n",
    "    for r, ex in zip(contributor1_retrievals, test_dataset.examples)\n",
    "]\n",
    "contributor1_retriever_reciprocal_ranks = [\n",
    "    compute_reciprocal_rank(r, ex.reference_label)\n",
    "    for r, ex in zip(contributor1_retrievals, test_dataset.examples)\n",
    "]"
   ]
  },
  {
   "cell_type": "markdown",
   "id": "d435e6ba-f499-4435-b6e6-4dad09b03222",
   "metadata": {},
   "source": [
    "#### Contributor 2"
   ]
  },
  {
   "cell_type": "code",
   "execution_count": null,
   "id": "d30c87d3-022e-4503-bc3d-10a1852224d3",
   "metadata": {},
   "outputs": [],
   "source": [
    "contributor2_retriever_hits = [\n",
    "    compute_hit(r, ex.reference_label)\n",
    "    for r, ex in zip(contributor2_retrievals, test_dataset.examples)\n",
    "]\n",
    "contributor2_retriever_reciprocal_ranks = [\n",
    "    compute_reciprocal_rank(r, ex.reference_label)\n",
    "    for r, ex in zip(contributor2_retrievals, test_dataset.examples)\n",
    "]"
   ]
  },
  {
   "cell_type": "markdown",
   "id": "5933fe39-a3eb-4700-9bdb-200517d0a760",
   "metadata": {},
   "source": [
    "#### Summary Report"
   ]
  },
  {
   "cell_type": "code",
   "execution_count": null,
   "id": "4a457c11-3968-40b1-81c9-8e98a9bfc5a4",
   "metadata": {},
   "outputs": [
    {
     "data": {
      "text/html": [
       "<div>\n",
       "<style scoped>\n",
       "    .dataframe tbody tr th:only-of-type {\n",
       "        vertical-align: middle;\n",
       "    }\n",
       "\n",
       "    .dataframe tbody tr th {\n",
       "        vertical-align: top;\n",
       "    }\n",
       "\n",
       "    .dataframe thead th {\n",
       "        text-align: right;\n",
       "    }\n",
       "</style>\n",
       "<table border=\"1\" class=\"dataframe\">\n",
       "  <thead>\n",
       "    <tr style=\"text-align: right;\">\n",
       "      <th></th>\n",
       "      <th>retriever</th>\n",
       "      <th>hit rate</th>\n",
       "      <th>mean reciprocal rank</th>\n",
       "    </tr>\n",
       "  </thead>\n",
       "  <tbody>\n",
       "    <tr>\n",
       "      <th>0</th>\n",
       "      <td>network</td>\n",
       "      <td>0.829167</td>\n",
       "      <td>0.709097</td>\n",
       "    </tr>\n",
       "    <tr>\n",
       "      <th>1</th>\n",
       "      <td>contributor1</td>\n",
       "      <td>0.470833</td>\n",
       "      <td>0.422917</td>\n",
       "    </tr>\n",
       "    <tr>\n",
       "      <th>2</th>\n",
       "      <td>contributor2</td>\n",
       "      <td>0.416667</td>\n",
       "      <td>0.368333</td>\n",
       "    </tr>\n",
       "  </tbody>\n",
       "</table>\n",
       "</div>"
      ],
      "text/plain": [
       "      retriever  hit rate  mean reciprocal rank\n",
       "0       network  0.829167              0.709097\n",
       "1  contributor1  0.470833              0.422917\n",
       "2  contributor2  0.416667              0.368333"
      ]
     },
     "execution_count": null,
     "metadata": {},
     "output_type": "execute_result"
    }
   ],
   "source": [
    "import pandas as pd\n",
    "\n",
    "num_examples = len(test_dataset.examples)\n",
    "summary_data = {\n",
    "    \"retriever\": [\"network\", \"contributor1\", \"contributor2\"],\n",
    "    \"hit rate\": [\n",
    "        sum(network_retriver_hits) / num_examples,\n",
    "        sum(contributor1_retriever_hits) / num_examples,\n",
    "        sum(contributor2_retriever_hits) / num_examples,\n",
    "    ],\n",
    "    \"mean reciprocal rank\": [\n",
    "        sum(network_retriver_reciprocal_ranks) / num_examples,\n",
    "        sum(contributor1_retriever_reciprocal_ranks) / num_examples,\n",
    "        sum(contributor2_retriever_reciprocal_ranks) / num_examples,\n",
    "    ],\n",
    "}\n",
    "summary_df = pd.DataFrame(summary_data)\n",
    "summary_df"
   ]
  }
 ],
 "metadata": {
  "kernelspec": {
   "display_name": "networks-retriever-demo",
   "language": "python",
   "name": "networks-retriever-demo"
  },
  "language_info": {
   "codemirror_mode": {
    "name": "ipython",
    "version": 3
   },
   "file_extension": ".py",
   "mimetype": "text/x-python",
   "name": "python",
   "nbconvert_exporter": "python",
   "pygments_lexer": "ipython3"
  }
 },
 "nbformat": 4,
 "nbformat_minor": 5
}
