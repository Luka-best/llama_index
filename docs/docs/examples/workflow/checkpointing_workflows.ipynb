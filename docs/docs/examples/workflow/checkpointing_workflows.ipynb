{
 "cells": [
  {
   "cell_type": "markdown",
   "metadata": {},
   "source": [
    "# Checkpointing in Workflows"
   ]
  },
  {
   "cell_type": "markdown",
   "metadata": {},
   "source": [
    "During the execution of a Workflow, `Checkpoint` objects are automatically stored within the `Context` class. By default, `Checkpoints` are automatically created at the completion of a step. At such instants in the Workflow execution, we checkpoint the name of the last completed step, it's input `Event`, it's output `Event`, as well as a snapshot of the `Context` itself. We also store a `Checkpoint` before the emission of the `StartEvent`, but note that running from these special checkpoints are essentially equivalent to the typical execution of a `Workflow` -- we add it here purely for convenience.\n",
    "\n",
    "In this notebook, we demonstrate how to make use of such checkpoints. Specifically, we'll show how to obtain the list of all of the stored checkpoints, filter this list, and even how to re-run a `Workflow` from any one them."
   ]
  },
  {
   "cell_type": "markdown",
   "metadata": {},
   "source": [
    "## Defining the Workflow"
   ]
  },
  {
   "cell_type": "code",
   "execution_count": null,
   "metadata": {},
   "outputs": [],
   "source": [
    "import os\n",
    "\n",
    "api_key = os.environ.get(\"OPENAI_API_KEY\")"
   ]
  },
  {
   "cell_type": "code",
   "execution_count": null,
   "metadata": {},
   "outputs": [],
   "source": [
    "from llama_index.core.workflow import (\n",
    "    Workflow,\n",
    "    step,\n",
    "    StartEvent,\n",
    "    StopEvent,\n",
    "    Event,\n",
    "    Context,\n",
    ")\n",
    "from llama_index.llms.openai import OpenAI\n",
    "\n",
    "\n",
    "class JokeEvent(Event):\n",
    "    joke: str\n",
    "\n",
    "\n",
    "class JokeFlow(Workflow):\n",
    "    llm = OpenAI(api_key=api_key)\n",
    "\n",
    "    @step\n",
    "    async def generate_joke(self, ev: StartEvent) -> JokeEvent:\n",
    "        topic = ev.topic\n",
    "\n",
    "        prompt = f\"Write your best joke about {topic}.\"\n",
    "        response = await self.llm.acomplete(prompt)\n",
    "        return JokeEvent(joke=str(response))\n",
    "\n",
    "    @step\n",
    "    async def critique_joke(self, ev: JokeEvent) -> StopEvent:\n",
    "        joke = ev.joke\n",
    "\n",
    "        prompt = f\"Give a thorough analysis and critique of the following joke: {joke}\"\n",
    "        response = await self.llm.acomplete(prompt)\n",
    "        return StopEvent(result=str(response))"
   ]
  },
  {
   "cell_type": "markdown",
   "metadata": {},
   "source": [
    "### Running Without Automatic Checkpointing"
   ]
  },
  {
   "cell_type": "markdown",
   "metadata": {},
   "source": [
    "By default, automatic checkpointing is disabled. However, this can be enabled for any run via the `store_checkpoints` parameter, which we will show later in this notebook."
   ]
  },
  {
   "cell_type": "code",
   "execution_count": null,
   "metadata": {},
   "outputs": [
    {
     "data": {
      "text/plain": [
       "'This joke plays on the double meaning of the word \"nitrates,\" which can refer to both a chemical compound and a form of payment for services rendered. The humor lies in the unexpected twist of associating a scientific term with a financial concept.\\n\\nOne strength of this joke is its clever wordplay and the way it combines two unrelated concepts in a humorous way. The punchline is unexpected and plays on the audience\\'s knowledge of chemistry and economics, making it more engaging for those who understand the reference.\\n\\nHowever, one potential weakness of this joke is that it may not be easily understood by those who are not familiar with chemistry or the concept of day rates. The humor relies heavily on the audience\\'s background knowledge, which could limit its appeal to a more niche audience.\\n\\nOverall, this joke is a clever play on words that can be appreciated by those with a background in chemistry or economics. It effectively combines two unrelated concepts to create a humorous and unexpected punchline.'"
      ]
     },
     "execution_count": null,
     "metadata": {},
     "output_type": "execute_result"
    }
   ],
   "source": [
    "# instantiate Jokeflow\n",
    "workflow = JokeFlow()\n",
    "ctx = Context(workflow=workflow)\n",
    "\n",
    "handler = workflow.run(topic=\"chemistry\", ctx=ctx, store_checkpoints=False)\n",
    "await handler"
   ]
  },
  {
   "cell_type": "code",
   "execution_count": null,
   "metadata": {},
   "outputs": [
    {
     "data": {
      "text/plain": [
       "0"
      ]
     },
     "execution_count": null,
     "metadata": {},
     "output_type": "execute_result"
    }
   ],
   "source": [
    "len(ctx.checkpoints)"
   ]
  },
  {
   "cell_type": "markdown",
   "metadata": {},
   "source": [
    "As we can see the number of stored checkpoints in our `Context` is 0."
   ]
  },
  {
   "cell_type": "code",
   "execution_count": null,
   "metadata": {},
   "outputs": [
    {
     "data": {
      "text/plain": [
       "6"
      ]
     },
     "execution_count": null,
     "metadata": {},
     "output_type": "execute_result"
    }
   ],
   "source": [
    "additional_topics = [\"biology\", \"history\"]\n",
    "\n",
    "for topic in additional_topics:\n",
    "    handler = workflow.run(\n",
    "        ctx=ctx, topic=topic, store_checkpoints=True\n",
    "    )  # same Context that was used before\n",
    "    await handler\n",
    "\n",
    "len(handler.ctx.checkpoints)"
   ]
  },
  {
   "cell_type": "code",
   "execution_count": null,
   "metadata": {},
   "outputs": [
    {
     "data": {
      "text/plain": [
       "['This joke plays on the idea of a biologist and a mathematician being in a relationship, which is already a humorous concept due to the perceived diffe',\n",
       " 'Analysis:\\nThis joke plays on the double meaning of the word \"pupils,\" which can refer to both the students in a classroom and the black part of the ey']"
      ]
     },
     "execution_count": null,
     "metadata": {},
     "output_type": "execute_result"
    }
   ],
   "source": [
    "# Filter by output event StopEvent\n",
    "checkpoints_that_emit_stop_event = ctx.filter_checkpoints(\n",
    "    output_event_type=StopEvent\n",
    ")\n",
    "len(checkpoints_that_emit_stop_event)\n",
    "[ckpt.output_event.result[:150] for ckpt in checkpoints_that_emit_stop_event]"
   ]
  },
  {
   "cell_type": "code",
   "execution_count": null,
   "metadata": {},
   "outputs": [
    {
     "data": {
      "text/plain": [
       "[\"Why did the biologist break up with the mathematician?\\n\\nBecause they couldn't find a common gene!\",\n",
       " \"Why did the history teacher go to jail?\\n\\nBecause he couldn't control his pupils!\"]"
      ]
     },
     "execution_count": null,
     "metadata": {},
     "output_type": "execute_result"
    }
   ],
   "source": [
    "# Filter by the name of last completed step\n",
    "checkpoints_right_after_generate_joke_step = ctx.filter_checkpoints(\n",
    "    last_completed_step=\"generate_joke\"\n",
    ")\n",
    "len(checkpoints_right_after_generate_joke_step)\n",
    "[\n",
    "    ckpt.output_event.joke[:150]\n",
    "    for ckpt in checkpoints_right_after_generate_joke_step\n",
    "]"
   ]
  },
  {
   "cell_type": "markdown",
   "metadata": {},
   "source": [
    "### Running the Workflow"
   ]
  },
  {
   "cell_type": "code",
   "execution_count": null,
   "metadata": {},
   "outputs": [
    {
     "data": {
      "text/plain": [
       "\"This joke plays on the mathematical concept of the equal sign, which is used to show that two quantities are the same. The humor comes from personifying the equal sign as a humble character who recognizes that it is not superior or inferior to anyone else.\\n\\nOne of the strengths of this joke is its clever wordplay and the unexpected twist on the concept of humility. By attributing human characteristics to a mathematical symbol, the joke creates a humorous and relatable scenario.\\n\\nHowever, one potential weakness of this joke is that it may be too niche or intellectual for some audiences. Not everyone may immediately grasp the connection between the equal sign and humility, which could limit the joke's appeal.\\n\\nOverall, this joke is a clever play on words that will likely resonate with those familiar with basic math concepts. Its humor lies in the unexpected personification of a mathematical symbol and the clever twist on the concept of humility.\""
      ]
     },
     "execution_count": null,
     "metadata": {},
     "output_type": "execute_result"
    }
   ],
   "source": [
    "# run the workflow again, but this time with checkpointing enabled\n",
    "handler = workflow.run(ctx=ctx, topic=\"math\", store_checkpoints=True)\n",
    "await handler"
   ]
  },
  {
   "cell_type": "markdown",
   "metadata": {},
   "source": [
    "### Listing the saved Checkpoints"
   ]
  },
  {
   "cell_type": "code",
   "execution_count": null,
   "metadata": {},
   "outputs": [
    {
     "data": {
      "text/plain": [
       "[Checkpoint(id_='5a5a2bdc-d20f-400d-84d8-9d7244b5007e', last_completed_step=None, input_event=None, output_event=StartEvent(), ctx_state={'globals': {}, 'streaming_queue': '[\"{\\\\\"__is_pydantic\\\\\": true, \\\\\"value\\\\\": {\\\\\"result\\\\\": \\\\\"This joke plays on the double meaning of the word \\\\\\\\\\\\\"nitrates,\\\\\\\\\\\\\" which can refer to both a chemical compound and a form of payment for services rendered. The humor lies in the unexpected twist of associating a scientific term with a financial concept.\\\\\\\\n\\\\\\\\nOne strength of this joke is its clever wordplay and the way it combines two unrelated concepts in a humorous way. The punchline is unexpected and plays on the audience\\'s knowledge of chemistry and economics, making it more engaging for those who understand the reference.\\\\\\\\n\\\\\\\\nHowever, one potential weakness of this joke is that it may not be easily understood by those who are not familiar with chemistry or the concept of day rates. The humor relies heavily on the audience\\'s background knowledge, which could limit its appeal to a more niche audience.\\\\\\\\n\\\\\\\\nOverall, this joke is a clever play on words that can be appreciated by those with a background in chemistry or economics. It effectively combines two unrelated concepts to create a humorous and unexpected punchline.\\\\\"}, \\\\\"qualified_name\\\\\": \\\\\"llama_index.core.workflow.events.StopEvent\\\\\"}\"]', 'queues': {'_done': '[]', 'critique_joke': '[]', 'generate_joke': '[]'}, 'stepwise': False, 'events_buffer': {}, 'accepted_events': [('generate_joke', 'StartEvent'), ('critique_joke', 'JokeEvent'), ('generate_joke', 'StartEvent'), ('critique_joke', 'JokeEvent'), ('generate_joke', 'StartEvent'), ('critique_joke', 'JokeEvent'), ('generate_joke', 'StartEvent'), ('critique_joke', 'JokeEvent')], 'is_running': False}),\n",
       " Checkpoint(id_='bdf90402-89bf-44c1-8714-79d68a751404', last_completed_step='generate_joke', input_event=StartEvent(), output_event=JokeEvent(joke=\"Why did the biologist break up with the mathematician?\\n\\nBecause they couldn't find a common gene!\"), ctx_state={'globals': {}, 'streaming_queue': '[\"{\\\\\"__is_pydantic\\\\\": true, \\\\\"value\\\\\": {\\\\\"result\\\\\": \\\\\"This joke plays on the double meaning of the word \\\\\\\\\\\\\"nitrates,\\\\\\\\\\\\\" which can refer to both a chemical compound and a form of payment for services rendered. The humor lies in the unexpected twist of associating a scientific term with a financial concept.\\\\\\\\n\\\\\\\\nOne strength of this joke is its clever wordplay and the way it combines two unrelated concepts in a humorous way. The punchline is unexpected and plays on the audience\\'s knowledge of chemistry and economics, making it more engaging for those who understand the reference.\\\\\\\\n\\\\\\\\nHowever, one potential weakness of this joke is that it may not be easily understood by those who are not familiar with chemistry or the concept of day rates. The humor relies heavily on the audience\\'s background knowledge, which could limit its appeal to a more niche audience.\\\\\\\\n\\\\\\\\nOverall, this joke is a clever play on words that can be appreciated by those with a background in chemistry or economics. It effectively combines two unrelated concepts to create a humorous and unexpected punchline.\\\\\"}, \\\\\"qualified_name\\\\\": \\\\\"llama_index.core.workflow.events.StopEvent\\\\\"}\"]', 'queues': {'_done': '[]', 'critique_joke': '[]', 'generate_joke': '[]'}, 'stepwise': False, 'events_buffer': {}, 'accepted_events': [('generate_joke', 'StartEvent'), ('critique_joke', 'JokeEvent'), ('generate_joke', 'StartEvent'), ('critique_joke', 'JokeEvent'), ('generate_joke', 'StartEvent'), ('critique_joke', 'JokeEvent'), ('generate_joke', 'StartEvent'), ('critique_joke', 'JokeEvent')], 'is_running': True}),\n",
       " Checkpoint(id_='e93c68f1-d25a-4f4a-a4ad-e9edda07a502', last_completed_step='critique_joke', input_event=JokeEvent(joke=\"Why did the biologist break up with the mathematician?\\n\\nBecause they couldn't find a common gene!\"), output_event=StopEvent(result='This joke plays on the idea of a biologist and a mathematician being in a relationship, which is already a humorous concept due to the perceived differences in their fields of study. The punchline, \"they couldn\\'t find a common gene,\" is a clever play on words, as \"gene\" can refer to both a unit of heredity in biology and a shared trait or characteristic in a relationship.\\n\\nOne of the strengths of this joke is its clever wordplay and the unexpected twist in the punchline. It combines elements of both biology and mathematics in a way that is both humorous and relatable to a wide audience. Additionally, the joke relies on a common stereotype of biologists and mathematicians as having different ways of thinking and approaching problems, adding an extra layer of humor.\\n\\nHowever, one potential weakness of this joke is that it may not be immediately accessible to all audiences. Some people may not be familiar with the specific terminology used in biology and mathematics, which could make the punchline less effective. Additionally, the joke relies on a somewhat stereotypical portrayal of biologists and mathematicians, which may not resonate with everyone.\\n\\nOverall, this joke is a clever and humorous play on words that effectively combines elements of biology and mathematics in a way that is both entertaining and relatable. While it may not be universally understood, it is likely to be appreciated by those with a background in science or a love of puns.'), ctx_state={'globals': {}, 'streaming_queue': '[\"{\\\\\"__is_pydantic\\\\\": true, \\\\\"value\\\\\": {\\\\\"result\\\\\": \\\\\"This joke plays on the double meaning of the word \\\\\\\\\\\\\"nitrates,\\\\\\\\\\\\\" which can refer to both a chemical compound and a form of payment for services rendered. The humor lies in the unexpected twist of associating a scientific term with a financial concept.\\\\\\\\n\\\\\\\\nOne strength of this joke is its clever wordplay and the way it combines two unrelated concepts in a humorous way. The punchline is unexpected and plays on the audience\\'s knowledge of chemistry and economics, making it more engaging for those who understand the reference.\\\\\\\\n\\\\\\\\nHowever, one potential weakness of this joke is that it may not be easily understood by those who are not familiar with chemistry or the concept of day rates. The humor relies heavily on the audience\\'s background knowledge, which could limit its appeal to a more niche audience.\\\\\\\\n\\\\\\\\nOverall, this joke is a clever play on words that can be appreciated by those with a background in chemistry or economics. It effectively combines two unrelated concepts to create a humorous and unexpected punchline.\\\\\"}, \\\\\"qualified_name\\\\\": \\\\\"llama_index.core.workflow.events.StopEvent\\\\\"}\"]', 'queues': {'_done': '[]', 'critique_joke': '[]', 'generate_joke': '[]'}, 'stepwise': False, 'events_buffer': {}, 'accepted_events': [('generate_joke', 'StartEvent'), ('critique_joke', 'JokeEvent'), ('generate_joke', 'StartEvent'), ('critique_joke', 'JokeEvent'), ('generate_joke', 'StartEvent'), ('critique_joke', 'JokeEvent'), ('generate_joke', 'StartEvent'), ('critique_joke', 'JokeEvent')], 'is_running': True}),\n",
       " Checkpoint(id_='8e59b28a-5dc6-4a23-95f3-d75e512d459d', last_completed_step=None, input_event=None, output_event=StartEvent(), ctx_state={'globals': {}, 'streaming_queue': '[\"{\\\\\"__is_pydantic\\\\\": true, \\\\\"value\\\\\": {\\\\\"result\\\\\": \\\\\"This joke plays on the double meaning of the word \\\\\\\\\\\\\"nitrates,\\\\\\\\\\\\\" which can refer to both a chemical compound and a form of payment for services rendered. The humor lies in the unexpected twist of associating a scientific term with a financial concept.\\\\\\\\n\\\\\\\\nOne strength of this joke is its clever wordplay and the way it combines two unrelated concepts in a humorous way. The punchline is unexpected and plays on the audience\\'s knowledge of chemistry and economics, making it more engaging for those who understand the reference.\\\\\\\\n\\\\\\\\nHowever, one potential weakness of this joke is that it may not be easily understood by those who are not familiar with chemistry or the concept of day rates. The humor relies heavily on the audience\\'s background knowledge, which could limit its appeal to a more niche audience.\\\\\\\\n\\\\\\\\nOverall, this joke is a clever play on words that can be appreciated by those with a background in chemistry or economics. It effectively combines two unrelated concepts to create a humorous and unexpected punchline.\\\\\"}, \\\\\"qualified_name\\\\\": \\\\\"llama_index.core.workflow.events.StopEvent\\\\\"}\", \"{\\\\\"__is_pydantic\\\\\": true, \\\\\"value\\\\\": {\\\\\"result\\\\\": \\\\\"This joke plays on the idea of a biologist and a mathematician being in a relationship, which is already a humorous concept due to the perceived differences in their fields of study. The punchline, \\\\\\\\\\\\\"they couldn\\'t find a common gene,\\\\\\\\\\\\\" is a clever play on words, as \\\\\\\\\\\\\"gene\\\\\\\\\\\\\" can refer to both a unit of heredity in biology and a shared trait or characteristic in a relationship.\\\\\\\\n\\\\\\\\nOne of the strengths of this joke is its clever wordplay and the unexpected twist in the punchline. It combines elements of both biology and mathematics in a way that is both humorous and relatable to a wide audience. Additionally, the joke relies on a common stereotype of biologists and mathematicians as having different ways of thinking and approaching problems, adding an extra layer of humor.\\\\\\\\n\\\\\\\\nHowever, one potential weakness of this joke is that it may not be immediately accessible to all audiences. Some people may not be familiar with the specific terminology used in biology and mathematics, which could make the punchline less effective. Additionally, the joke relies on a somewhat stereotypical portrayal of biologists and mathematicians, which may not resonate with everyone.\\\\\\\\n\\\\\\\\nOverall, this joke is a clever and humorous play on words that effectively combines elements of biology and mathematics in a way that is both entertaining and relatable. While it may not be universally understood, it is likely to be appreciated by those with a background in science or a love of puns.\\\\\"}, \\\\\"qualified_name\\\\\": \\\\\"llama_index.core.workflow.events.StopEvent\\\\\"}\"]', 'queues': {'_done': '[]', 'critique_joke': '[]', 'generate_joke': '[]'}, 'stepwise': False, 'events_buffer': {}, 'accepted_events': [('generate_joke', 'StartEvent'), ('critique_joke', 'JokeEvent'), ('generate_joke', 'StartEvent'), ('critique_joke', 'JokeEvent'), ('generate_joke', 'StartEvent'), ('critique_joke', 'JokeEvent'), ('generate_joke', 'StartEvent'), ('critique_joke', 'JokeEvent')], 'is_running': False}),\n",
       " Checkpoint(id_='2c57fa1a-7c0e-4c73-b102-64c829b87e18', last_completed_step='generate_joke', input_event=StartEvent(), output_event=JokeEvent(joke=\"Why did the history teacher go to jail?\\n\\nBecause he couldn't control his pupils!\"), ctx_state={'globals': {}, 'streaming_queue': '[\"{\\\\\"__is_pydantic\\\\\": true, \\\\\"value\\\\\": {\\\\\"result\\\\\": \\\\\"This joke plays on the double meaning of the word \\\\\\\\\\\\\"nitrates,\\\\\\\\\\\\\" which can refer to both a chemical compound and a form of payment for services rendered. The humor lies in the unexpected twist of associating a scientific term with a financial concept.\\\\\\\\n\\\\\\\\nOne strength of this joke is its clever wordplay and the way it combines two unrelated concepts in a humorous way. The punchline is unexpected and plays on the audience\\'s knowledge of chemistry and economics, making it more engaging for those who understand the reference.\\\\\\\\n\\\\\\\\nHowever, one potential weakness of this joke is that it may not be easily understood by those who are not familiar with chemistry or the concept of day rates. The humor relies heavily on the audience\\'s background knowledge, which could limit its appeal to a more niche audience.\\\\\\\\n\\\\\\\\nOverall, this joke is a clever play on words that can be appreciated by those with a background in chemistry or economics. It effectively combines two unrelated concepts to create a humorous and unexpected punchline.\\\\\"}, \\\\\"qualified_name\\\\\": \\\\\"llama_index.core.workflow.events.StopEvent\\\\\"}\", \"{\\\\\"__is_pydantic\\\\\": true, \\\\\"value\\\\\": {\\\\\"result\\\\\": \\\\\"This joke plays on the idea of a biologist and a mathematician being in a relationship, which is already a humorous concept due to the perceived differences in their fields of study. The punchline, \\\\\\\\\\\\\"they couldn\\'t find a common gene,\\\\\\\\\\\\\" is a clever play on words, as \\\\\\\\\\\\\"gene\\\\\\\\\\\\\" can refer to both a unit of heredity in biology and a shared trait or characteristic in a relationship.\\\\\\\\n\\\\\\\\nOne of the strengths of this joke is its clever wordplay and the unexpected twist in the punchline. It combines elements of both biology and mathematics in a way that is both humorous and relatable to a wide audience. Additionally, the joke relies on a common stereotype of biologists and mathematicians as having different ways of thinking and approaching problems, adding an extra layer of humor.\\\\\\\\n\\\\\\\\nHowever, one potential weakness of this joke is that it may not be immediately accessible to all audiences. Some people may not be familiar with the specific terminology used in biology and mathematics, which could make the punchline less effective. Additionally, the joke relies on a somewhat stereotypical portrayal of biologists and mathematicians, which may not resonate with everyone.\\\\\\\\n\\\\\\\\nOverall, this joke is a clever and humorous play on words that effectively combines elements of biology and mathematics in a way that is both entertaining and relatable. While it may not be universally understood, it is likely to be appreciated by those with a background in science or a love of puns.\\\\\"}, \\\\\"qualified_name\\\\\": \\\\\"llama_index.core.workflow.events.StopEvent\\\\\"}\"]', 'queues': {'_done': '[]', 'critique_joke': '[]', 'generate_joke': '[]'}, 'stepwise': False, 'events_buffer': {}, 'accepted_events': [('generate_joke', 'StartEvent'), ('critique_joke', 'JokeEvent'), ('generate_joke', 'StartEvent'), ('critique_joke', 'JokeEvent'), ('generate_joke', 'StartEvent'), ('critique_joke', 'JokeEvent'), ('generate_joke', 'StartEvent'), ('critique_joke', 'JokeEvent')], 'is_running': True}),\n",
       " Checkpoint(id_='f1f9587e-0b87-4455-b9fe-abe4c8729db9', last_completed_step='critique_joke', input_event=JokeEvent(joke=\"Why did the history teacher go to jail?\\n\\nBecause he couldn't control his pupils!\"), output_event=StopEvent(result='Analysis:\\nThis joke plays on the double meaning of the word \"pupils,\" which can refer to both the students in a classroom and the black part of the eye that dilates and contracts in response to light. The humor comes from the clever wordplay and the unexpected twist at the end of the joke.\\n\\nCritique:\\nOverall, this joke is quite clever and has a good punchline. The wordplay is effective and adds an element of surprise to the joke. However, some may find the subject matter of a teacher going to jail to be in poor taste or offensive. Additionally, the joke relies heavily on puns, which may not appeal to all audiences. Overall, while the joke is well-crafted and has a clever twist, it may not be to everyone\\'s taste.'), ctx_state={'globals': {}, 'streaming_queue': '[\"{\\\\\"__is_pydantic\\\\\": true, \\\\\"value\\\\\": {\\\\\"result\\\\\": \\\\\"This joke plays on the double meaning of the word \\\\\\\\\\\\\"nitrates,\\\\\\\\\\\\\" which can refer to both a chemical compound and a form of payment for services rendered. The humor lies in the unexpected twist of associating a scientific term with a financial concept.\\\\\\\\n\\\\\\\\nOne strength of this joke is its clever wordplay and the way it combines two unrelated concepts in a humorous way. The punchline is unexpected and plays on the audience\\'s knowledge of chemistry and economics, making it more engaging for those who understand the reference.\\\\\\\\n\\\\\\\\nHowever, one potential weakness of this joke is that it may not be easily understood by those who are not familiar with chemistry or the concept of day rates. The humor relies heavily on the audience\\'s background knowledge, which could limit its appeal to a more niche audience.\\\\\\\\n\\\\\\\\nOverall, this joke is a clever play on words that can be appreciated by those with a background in chemistry or economics. It effectively combines two unrelated concepts to create a humorous and unexpected punchline.\\\\\"}, \\\\\"qualified_name\\\\\": \\\\\"llama_index.core.workflow.events.StopEvent\\\\\"}\", \"{\\\\\"__is_pydantic\\\\\": true, \\\\\"value\\\\\": {\\\\\"result\\\\\": \\\\\"This joke plays on the idea of a biologist and a mathematician being in a relationship, which is already a humorous concept due to the perceived differences in their fields of study. The punchline, \\\\\\\\\\\\\"they couldn\\'t find a common gene,\\\\\\\\\\\\\" is a clever play on words, as \\\\\\\\\\\\\"gene\\\\\\\\\\\\\" can refer to both a unit of heredity in biology and a shared trait or characteristic in a relationship.\\\\\\\\n\\\\\\\\nOne of the strengths of this joke is its clever wordplay and the unexpected twist in the punchline. It combines elements of both biology and mathematics in a way that is both humorous and relatable to a wide audience. Additionally, the joke relies on a common stereotype of biologists and mathematicians as having different ways of thinking and approaching problems, adding an extra layer of humor.\\\\\\\\n\\\\\\\\nHowever, one potential weakness of this joke is that it may not be immediately accessible to all audiences. Some people may not be familiar with the specific terminology used in biology and mathematics, which could make the punchline less effective. Additionally, the joke relies on a somewhat stereotypical portrayal of biologists and mathematicians, which may not resonate with everyone.\\\\\\\\n\\\\\\\\nOverall, this joke is a clever and humorous play on words that effectively combines elements of biology and mathematics in a way that is both entertaining and relatable. While it may not be universally understood, it is likely to be appreciated by those with a background in science or a love of puns.\\\\\"}, \\\\\"qualified_name\\\\\": \\\\\"llama_index.core.workflow.events.StopEvent\\\\\"}\"]', 'queues': {'_done': '[]', 'critique_joke': '[]', 'generate_joke': '[]'}, 'stepwise': False, 'events_buffer': {}, 'accepted_events': [('generate_joke', 'StartEvent'), ('critique_joke', 'JokeEvent'), ('generate_joke', 'StartEvent'), ('critique_joke', 'JokeEvent'), ('generate_joke', 'StartEvent'), ('critique_joke', 'JokeEvent'), ('generate_joke', 'StartEvent'), ('critique_joke', 'JokeEvent')], 'is_running': True}),\n",
       " Checkpoint(id_='5217161f-e8f5-4bd6-8b5d-9be880450b78', last_completed_step=None, input_event=None, output_event=StartEvent(), ctx_state={'globals': {}, 'streaming_queue': '[\"{\\\\\"__is_pydantic\\\\\": true, \\\\\"value\\\\\": {\\\\\"result\\\\\": \\\\\"This joke plays on the double meaning of the word \\\\\\\\\\\\\"nitrates,\\\\\\\\\\\\\" which can refer to both a chemical compound and a form of payment for services rendered. The humor lies in the unexpected twist of associating a scientific term with a financial concept.\\\\\\\\n\\\\\\\\nOne strength of this joke is its clever wordplay and the way it combines two unrelated concepts in a humorous way. The punchline is unexpected and plays on the audience\\'s knowledge of chemistry and economics, making it more engaging for those who understand the reference.\\\\\\\\n\\\\\\\\nHowever, one potential weakness of this joke is that it may not be easily understood by those who are not familiar with chemistry or the concept of day rates. The humor relies heavily on the audience\\'s background knowledge, which could limit its appeal to a more niche audience.\\\\\\\\n\\\\\\\\nOverall, this joke is a clever play on words that can be appreciated by those with a background in chemistry or economics. It effectively combines two unrelated concepts to create a humorous and unexpected punchline.\\\\\"}, \\\\\"qualified_name\\\\\": \\\\\"llama_index.core.workflow.events.StopEvent\\\\\"}\", \"{\\\\\"__is_pydantic\\\\\": true, \\\\\"value\\\\\": {\\\\\"result\\\\\": \\\\\"This joke plays on the idea of a biologist and a mathematician being in a relationship, which is already a humorous concept due to the perceived differences in their fields of study. The punchline, \\\\\\\\\\\\\"they couldn\\'t find a common gene,\\\\\\\\\\\\\" is a clever play on words, as \\\\\\\\\\\\\"gene\\\\\\\\\\\\\" can refer to both a unit of heredity in biology and a shared trait or characteristic in a relationship.\\\\\\\\n\\\\\\\\nOne of the strengths of this joke is its clever wordplay and the unexpected twist in the punchline. It combines elements of both biology and mathematics in a way that is both humorous and relatable to a wide audience. Additionally, the joke relies on a common stereotype of biologists and mathematicians as having different ways of thinking and approaching problems, adding an extra layer of humor.\\\\\\\\n\\\\\\\\nHowever, one potential weakness of this joke is that it may not be immediately accessible to all audiences. Some people may not be familiar with the specific terminology used in biology and mathematics, which could make the punchline less effective. Additionally, the joke relies on a somewhat stereotypical portrayal of biologists and mathematicians, which may not resonate with everyone.\\\\\\\\n\\\\\\\\nOverall, this joke is a clever and humorous play on words that effectively combines elements of biology and mathematics in a way that is both entertaining and relatable. While it may not be universally understood, it is likely to be appreciated by those with a background in science or a love of puns.\\\\\"}, \\\\\"qualified_name\\\\\": \\\\\"llama_index.core.workflow.events.StopEvent\\\\\"}\", \"{\\\\\"__is_pydantic\\\\\": true, \\\\\"value\\\\\": {\\\\\"result\\\\\": \\\\\"Analysis:\\\\\\\\nThis joke plays on the double meaning of the word \\\\\\\\\\\\\"pupils,\\\\\\\\\\\\\" which can refer to both the students in a classroom and the black part of the eye that dilates and contracts in response to light. The humor comes from the clever wordplay and the unexpected twist at the end of the joke.\\\\\\\\n\\\\\\\\nCritique:\\\\\\\\nOverall, this joke is quite clever and has a good punchline. The wordplay is effective and adds an element of surprise to the joke. However, some may find the subject matter of a teacher going to jail to be in poor taste or offensive. Additionally, the joke relies heavily on puns, which may not appeal to all audiences. Overall, while the joke is well-crafted and has a clever twist, it may not be to everyone\\'s taste.\\\\\"}, \\\\\"qualified_name\\\\\": \\\\\"llama_index.core.workflow.events.StopEvent\\\\\"}\"]', 'queues': {'_done': '[]', 'critique_joke': '[]', 'generate_joke': '[]'}, 'stepwise': False, 'events_buffer': {}, 'accepted_events': [('generate_joke', 'StartEvent'), ('critique_joke', 'JokeEvent'), ('generate_joke', 'StartEvent'), ('critique_joke', 'JokeEvent'), ('generate_joke', 'StartEvent'), ('critique_joke', 'JokeEvent'), ('generate_joke', 'StartEvent'), ('critique_joke', 'JokeEvent')], 'is_running': False}),\n",
       " Checkpoint(id_='16df0113-8c4c-4884-86c5-ce1421bf744d', last_completed_step='generate_joke', input_event=StartEvent(), output_event=JokeEvent(joke=\"Why was the equal sign so humble?\\n\\nBecause he knew he wasn't less than or greater than anyone else!\"), ctx_state={'globals': {}, 'streaming_queue': '[\"{\\\\\"__is_pydantic\\\\\": true, \\\\\"value\\\\\": {\\\\\"result\\\\\": \\\\\"This joke plays on the double meaning of the word \\\\\\\\\\\\\"nitrates,\\\\\\\\\\\\\" which can refer to both a chemical compound and a form of payment for services rendered. The humor lies in the unexpected twist of associating a scientific term with a financial concept.\\\\\\\\n\\\\\\\\nOne strength of this joke is its clever wordplay and the way it combines two unrelated concepts in a humorous way. The punchline is unexpected and plays on the audience\\'s knowledge of chemistry and economics, making it more engaging for those who understand the reference.\\\\\\\\n\\\\\\\\nHowever, one potential weakness of this joke is that it may not be easily understood by those who are not familiar with chemistry or the concept of day rates. The humor relies heavily on the audience\\'s background knowledge, which could limit its appeal to a more niche audience.\\\\\\\\n\\\\\\\\nOverall, this joke is a clever play on words that can be appreciated by those with a background in chemistry or economics. It effectively combines two unrelated concepts to create a humorous and unexpected punchline.\\\\\"}, \\\\\"qualified_name\\\\\": \\\\\"llama_index.core.workflow.events.StopEvent\\\\\"}\", \"{\\\\\"__is_pydantic\\\\\": true, \\\\\"value\\\\\": {\\\\\"result\\\\\": \\\\\"This joke plays on the idea of a biologist and a mathematician being in a relationship, which is already a humorous concept due to the perceived differences in their fields of study. The punchline, \\\\\\\\\\\\\"they couldn\\'t find a common gene,\\\\\\\\\\\\\" is a clever play on words, as \\\\\\\\\\\\\"gene\\\\\\\\\\\\\" can refer to both a unit of heredity in biology and a shared trait or characteristic in a relationship.\\\\\\\\n\\\\\\\\nOne of the strengths of this joke is its clever wordplay and the unexpected twist in the punchline. It combines elements of both biology and mathematics in a way that is both humorous and relatable to a wide audience. Additionally, the joke relies on a common stereotype of biologists and mathematicians as having different ways of thinking and approaching problems, adding an extra layer of humor.\\\\\\\\n\\\\\\\\nHowever, one potential weakness of this joke is that it may not be immediately accessible to all audiences. Some people may not be familiar with the specific terminology used in biology and mathematics, which could make the punchline less effective. Additionally, the joke relies on a somewhat stereotypical portrayal of biologists and mathematicians, which may not resonate with everyone.\\\\\\\\n\\\\\\\\nOverall, this joke is a clever and humorous play on words that effectively combines elements of biology and mathematics in a way that is both entertaining and relatable. While it may not be universally understood, it is likely to be appreciated by those with a background in science or a love of puns.\\\\\"}, \\\\\"qualified_name\\\\\": \\\\\"llama_index.core.workflow.events.StopEvent\\\\\"}\", \"{\\\\\"__is_pydantic\\\\\": true, \\\\\"value\\\\\": {\\\\\"result\\\\\": \\\\\"Analysis:\\\\\\\\nThis joke plays on the double meaning of the word \\\\\\\\\\\\\"pupils,\\\\\\\\\\\\\" which can refer to both the students in a classroom and the black part of the eye that dilates and contracts in response to light. The humor comes from the clever wordplay and the unexpected twist at the end of the joke.\\\\\\\\n\\\\\\\\nCritique:\\\\\\\\nOverall, this joke is quite clever and has a good punchline. The wordplay is effective and adds an element of surprise to the joke. However, some may find the subject matter of a teacher going to jail to be in poor taste or offensive. Additionally, the joke relies heavily on puns, which may not appeal to all audiences. Overall, while the joke is well-crafted and has a clever twist, it may not be to everyone\\'s taste.\\\\\"}, \\\\\"qualified_name\\\\\": \\\\\"llama_index.core.workflow.events.StopEvent\\\\\"}\"]', 'queues': {'_done': '[]', 'critique_joke': '[]', 'generate_joke': '[]'}, 'stepwise': False, 'events_buffer': {}, 'accepted_events': [('generate_joke', 'StartEvent'), ('critique_joke', 'JokeEvent'), ('generate_joke', 'StartEvent'), ('critique_joke', 'JokeEvent'), ('generate_joke', 'StartEvent'), ('critique_joke', 'JokeEvent'), ('generate_joke', 'StartEvent'), ('critique_joke', 'JokeEvent')], 'is_running': True}),\n",
       " Checkpoint(id_='1ea97b1e-6f3b-4df2-b97f-396b7176be3b', last_completed_step='critique_joke', input_event=JokeEvent(joke=\"Why was the equal sign so humble?\\n\\nBecause he knew he wasn't less than or greater than anyone else!\"), output_event=StopEvent(result=\"This joke plays on the mathematical concept of the equal sign, which is used to show that two quantities are the same. The humor comes from personifying the equal sign as a humble character who recognizes that it is not superior or inferior to anyone else.\\n\\nOne of the strengths of this joke is its clever wordplay and the unexpected twist on the concept of humility. By attributing human characteristics to a mathematical symbol, the joke creates a humorous and relatable scenario.\\n\\nHowever, one potential weakness of this joke is that it may be too niche or intellectual for some audiences. Not everyone may immediately grasp the connection between the equal sign and humility, which could limit the joke's appeal.\\n\\nOverall, this joke is a clever play on words that will likely resonate with those familiar with basic math concepts. Its humor lies in the unexpected personification of a mathematical symbol and the clever twist on the concept of humility.\"), ctx_state={'globals': {}, 'streaming_queue': '[\"{\\\\\"__is_pydantic\\\\\": true, \\\\\"value\\\\\": {\\\\\"result\\\\\": \\\\\"This joke plays on the double meaning of the word \\\\\\\\\\\\\"nitrates,\\\\\\\\\\\\\" which can refer to both a chemical compound and a form of payment for services rendered. The humor lies in the unexpected twist of associating a scientific term with a financial concept.\\\\\\\\n\\\\\\\\nOne strength of this joke is its clever wordplay and the way it combines two unrelated concepts in a humorous way. The punchline is unexpected and plays on the audience\\'s knowledge of chemistry and economics, making it more engaging for those who understand the reference.\\\\\\\\n\\\\\\\\nHowever, one potential weakness of this joke is that it may not be easily understood by those who are not familiar with chemistry or the concept of day rates. The humor relies heavily on the audience\\'s background knowledge, which could limit its appeal to a more niche audience.\\\\\\\\n\\\\\\\\nOverall, this joke is a clever play on words that can be appreciated by those with a background in chemistry or economics. It effectively combines two unrelated concepts to create a humorous and unexpected punchline.\\\\\"}, \\\\\"qualified_name\\\\\": \\\\\"llama_index.core.workflow.events.StopEvent\\\\\"}\", \"{\\\\\"__is_pydantic\\\\\": true, \\\\\"value\\\\\": {\\\\\"result\\\\\": \\\\\"This joke plays on the idea of a biologist and a mathematician being in a relationship, which is already a humorous concept due to the perceived differences in their fields of study. The punchline, \\\\\\\\\\\\\"they couldn\\'t find a common gene,\\\\\\\\\\\\\" is a clever play on words, as \\\\\\\\\\\\\"gene\\\\\\\\\\\\\" can refer to both a unit of heredity in biology and a shared trait or characteristic in a relationship.\\\\\\\\n\\\\\\\\nOne of the strengths of this joke is its clever wordplay and the unexpected twist in the punchline. It combines elements of both biology and mathematics in a way that is both humorous and relatable to a wide audience. Additionally, the joke relies on a common stereotype of biologists and mathematicians as having different ways of thinking and approaching problems, adding an extra layer of humor.\\\\\\\\n\\\\\\\\nHowever, one potential weakness of this joke is that it may not be immediately accessible to all audiences. Some people may not be familiar with the specific terminology used in biology and mathematics, which could make the punchline less effective. Additionally, the joke relies on a somewhat stereotypical portrayal of biologists and mathematicians, which may not resonate with everyone.\\\\\\\\n\\\\\\\\nOverall, this joke is a clever and humorous play on words that effectively combines elements of biology and mathematics in a way that is both entertaining and relatable. While it may not be universally understood, it is likely to be appreciated by those with a background in science or a love of puns.\\\\\"}, \\\\\"qualified_name\\\\\": \\\\\"llama_index.core.workflow.events.StopEvent\\\\\"}\", \"{\\\\\"__is_pydantic\\\\\": true, \\\\\"value\\\\\": {\\\\\"result\\\\\": \\\\\"Analysis:\\\\\\\\nThis joke plays on the double meaning of the word \\\\\\\\\\\\\"pupils,\\\\\\\\\\\\\" which can refer to both the students in a classroom and the black part of the eye that dilates and contracts in response to light. The humor comes from the clever wordplay and the unexpected twist at the end of the joke.\\\\\\\\n\\\\\\\\nCritique:\\\\\\\\nOverall, this joke is quite clever and has a good punchline. The wordplay is effective and adds an element of surprise to the joke. However, some may find the subject matter of a teacher going to jail to be in poor taste or offensive. Additionally, the joke relies heavily on puns, which may not appeal to all audiences. Overall, while the joke is well-crafted and has a clever twist, it may not be to everyone\\'s taste.\\\\\"}, \\\\\"qualified_name\\\\\": \\\\\"llama_index.core.workflow.events.StopEvent\\\\\"}\"]', 'queues': {'_done': '[]', 'critique_joke': '[]', 'generate_joke': '[]'}, 'stepwise': False, 'events_buffer': {}, 'accepted_events': [('generate_joke', 'StartEvent'), ('critique_joke', 'JokeEvent'), ('generate_joke', 'StartEvent'), ('critique_joke', 'JokeEvent'), ('generate_joke', 'StartEvent'), ('critique_joke', 'JokeEvent'), ('generate_joke', 'StartEvent'), ('critique_joke', 'JokeEvent')], 'is_running': True})]"
      ]
     },
     "execution_count": null,
     "metadata": {},
     "output_type": "execute_result"
    }
   ],
   "source": [
    "handler.ctx.checkpoints"
   ]
  },
  {
   "cell_type": "code",
   "execution_count": null,
   "metadata": {},
   "outputs": [
    {
     "data": {
      "text/plain": [
       "9"
      ]
     },
     "execution_count": null,
     "metadata": {},
     "output_type": "execute_result"
    }
   ],
   "source": [
    "len(handler.ctx.checkpoints)"
   ]
  },
  {
   "cell_type": "markdown",
   "metadata": {},
   "source": [
    "There are 3 stored checkpoints after this first run. The first of these checkpoints are created just before the emission of the `StartEvent`. This can be thought of as a \"startup\" step being completed which has a null input `Event` and whose output event is the `StartEvent`. The remaining two of these checkpoints are made at the completion of each of the two steps in this Workflow. "
   ]
  },
  {
   "cell_type": "markdown",
   "metadata": {},
   "source": [
    "### Filtering the Checkpoints"
   ]
  },
  {
   "cell_type": "markdown",
   "metadata": {},
   "source": [
    "Before showcasing how to filter through checkpoints, let's first make things a bit more interesting by executing the workflow a few more times. Here, we'll run the workflow for two more additional topics. Since each entire run will result in 3 stored checkpoints each, we should have a total of 9 checkpoints after executing the below cell. "
   ]
  },
  {
   "cell_type": "markdown",
   "metadata": {},
   "source": [
    "### Re-Run Workflow from a specific checkpoint"
   ]
  },
  {
   "cell_type": "code",
   "execution_count": null,
   "metadata": {},
   "outputs": [
    {
     "data": {
      "text/plain": [
       "'Analysis:\\nThis joke plays on the double meaning of the word \"pupils,\" which can refer to both the students in a classroom and the black part of the eye that dilates and contracts in response to light. The humor comes from the clever wordplay and the unexpected twist at the end of the joke.\\n\\nCritique:\\nOverall, this joke is quite clever and has a good punchline. It effectively combines a common school scenario (a teacher struggling to control their students) with a pun on a medical term (pupils). The joke is simple and easy to understand, making it accessible to a wide audience. However, some may find the joke to be a bit predictable or corny, as pun-based humor can be hit or miss depending on personal taste. Additionally, the joke relies heavily on wordplay and may not be as funny to those who do not appreciate puns. Overall, while this joke may not be groundbreaking or particularly original, it is a lighthearted and amusing play on words that is likely to elicit a chuckle from many people.'"
      ]
     },
     "execution_count": null,
     "metadata": {},
     "output_type": "execute_result"
    }
   ],
   "source": [
    "ckpt = checkpoints_right_after_generate_joke_step[1]\n",
    "handler = workflow.run_from(checkpoint=ckpt, ctx=ctx, store_checkpoints=True)\n",
    "await handler"
   ]
  },
  {
   "cell_type": "markdown",
   "metadata": {},
   "source": [
    "Since we've executed from the checkpoint that represents the end of \"generate_joke\" step, there is only one additional checkpoint that gets stored i.e., the one that is stored after the completion of the next step, namely \"critique_joke\"."
   ]
  },
  {
   "cell_type": "code",
   "execution_count": null,
   "metadata": {},
   "outputs": [
    {
     "data": {
      "text/plain": [
       "10"
      ]
     },
     "execution_count": null,
     "metadata": {},
     "output_type": "execute_result"
    }
   ],
   "source": [
    "len(ctx.checkpoints)"
   ]
  }
 ],
 "metadata": {
  "kernelspec": {
   "display_name": "llama-index-core",
   "language": "python",
   "name": "llama-index-core"
  },
  "language_info": {
   "codemirror_mode": {
    "name": "ipython",
    "version": 3
   },
   "file_extension": ".py",
   "mimetype": "text/x-python",
   "name": "python",
   "nbconvert_exporter": "python",
   "pygments_lexer": "ipython3"
  }
 },
 "nbformat": 4,
 "nbformat_minor": 4
}
