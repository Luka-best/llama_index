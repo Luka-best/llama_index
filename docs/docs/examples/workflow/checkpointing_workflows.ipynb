{
 "cells": [
  {
   "cell_type": "markdown",
   "metadata": {},
   "source": [
    "# Checkpointing in Workflows"
   ]
  },
  {
   "cell_type": "markdown",
   "metadata": {},
   "source": [
    "During the execution of a Workflow, `Checkpoint` objects are automatically stored within the `Context` class. By default, `Checkpoints` are automatically created at the completion of a step. At such instants in the Workflow execution, we checkpoint the name of the last completed step, it's input `Event`, it's output `Event`, as well as a snapshot of the `Context` itself. We also store a `Checkpoint` before the emission of the `StartEvent`, but note that running from these special checkpoints are essentially equivalent to the typical execution of a `Workflow` -- we add it here purely for convenience.\n",
    "\n",
    "In this notebook, we demonstrate how to make use of such checkpoints. Specifically, we'll show how to obtain the list of all of the stored checkpoints, filter this list, and even how to re-run a `Workflow` from any one them."
   ]
  },
  {
   "cell_type": "markdown",
   "metadata": {},
   "source": [
    "## Defining the Workflow"
   ]
  },
  {
   "cell_type": "code",
   "execution_count": null,
   "metadata": {},
   "outputs": [],
   "source": [
    "import os\n",
    "\n",
    "api_key = os.environ.get(\"OPENAI_API_KEY\")"
   ]
  },
  {
   "cell_type": "code",
   "execution_count": null,
   "metadata": {},
   "outputs": [],
   "source": [
    "from llama_index.core.workflow import (\n",
    "    Workflow,\n",
    "    step,\n",
    "    StartEvent,\n",
    "    StopEvent,\n",
    "    Event,\n",
    "    Context,\n",
    ")\n",
    "from llama_index.llms.openai import OpenAI\n",
    "\n",
    "\n",
    "class JokeEvent(Event):\n",
    "    joke: str\n",
    "\n",
    "\n",
    "class JokeFlow(Workflow):\n",
    "    llm = OpenAI(api_key=api_key)\n",
    "\n",
    "    @step\n",
    "    async def generate_joke(self, ev: StartEvent) -> JokeEvent:\n",
    "        topic = ev.topic\n",
    "\n",
    "        prompt = f\"Write your best joke about {topic}.\"\n",
    "        response = await self.llm.acomplete(prompt)\n",
    "        return JokeEvent(joke=str(response))\n",
    "\n",
    "    @step\n",
    "    async def critique_joke(self, ev: JokeEvent) -> StopEvent:\n",
    "        joke = ev.joke\n",
    "\n",
    "        prompt = f\"Give a thorough analysis and critique of the following joke: {joke}\"\n",
    "        response = await self.llm.acomplete(prompt)\n",
    "        return StopEvent(result=str(response))"
   ]
  },
  {
   "cell_type": "markdown",
   "metadata": {},
   "source": [
    "### Running the Workflow"
   ]
  },
  {
   "cell_type": "code",
   "execution_count": null,
   "metadata": {},
   "outputs": [
    {
     "data": {
      "text/plain": [
       "'Analysis:\\nThis joke plays on the mathematical concept of the equal sign, which is used to show that two quantities are the same. The humor comes from personifying the equal sign and attributing human emotions and characteristics to it. The punchline relies on a play on words, as \"less than\" and \"greater than\" are mathematical symbols used to show inequality.\\n\\nCritique:\\n- Clever wordplay: The joke cleverly uses mathematical symbols and concepts to create humor. The play on words with \"less than\" and \"greater than\" adds an extra layer of wit to the joke.\\n- Relatable: The joke is relatable to anyone familiar with basic math, making it accessible to a wide audience.\\n- Simple and straightforward: The joke is easy to understand and doesn\\'t require any complex setup or explanation, making it effective for quick, lighthearted humor.\\n- Lack of depth: While the joke is amusing, it may be considered somewhat shallow or predictable. The punchline is fairly straightforward and doesn\\'t offer much in terms of complexity or depth.\\n- Limited appeal: The joke may not resonate with those who are not familiar with basic math concepts, limiting its appeal to a specific audience.\\n\\nOverall, this joke is a light-hearted and clever play on mathematical concepts that is likely to elicit a chuckle from those who appreciate wordplay and puns. However, its simplicity and lack of depth may prevent it from being considered a particularly memorable or impactful joke.'"
      ]
     },
     "execution_count": null,
     "metadata": {},
     "output_type": "execute_result"
    }
   ],
   "source": [
    "# instantiate Jokeflow\n",
    "workflow = JokeFlow()\n",
    "ctx = Context(workflow=workflow)\n",
    "\n",
    "# run it\n",
    "handler = workflow.run(ctx=ctx, topic=\"math\")\n",
    "await handler"
   ]
  },
  {
   "cell_type": "markdown",
   "metadata": {},
   "source": [
    "### Listing the saved Checkpoints"
   ]
  },
  {
   "cell_type": "code",
   "execution_count": null,
   "metadata": {},
   "outputs": [
    {
     "data": {
      "text/plain": [
       "[Checkpoint(id_='0edf950e-2805-4ade-a67f-55d0d1225e4c', last_completed_step=None, input_event=None, output_event=StartEvent(), ctx_state={'globals': {}, 'streaming_queue': '[]', 'queues': {'_done': '[]', 'critique_joke': '[]', 'generate_joke': '[]'}, 'stepwise': False, 'events_buffer': {}, 'accepted_events': [('generate_joke', 'StartEvent'), ('critique_joke', 'JokeEvent')], 'checkpoints': [], 'is_running': False}),\n",
       " Checkpoint(id_='4f7f257f-36c7-4cbc-9339-9622393f2584', last_completed_step='generate_joke', input_event=StartEvent(), output_event=JokeEvent(joke=\"Why was the equal sign so humble?\\n\\nBecause he knew he wasn't less than or greater than anyone else.\"), ctx_state={'globals': {}, 'streaming_queue': '[]', 'queues': {'_done': '[]', 'critique_joke': '[]', 'generate_joke': '[]'}, 'stepwise': False, 'events_buffer': {}, 'accepted_events': [('generate_joke', 'StartEvent'), ('critique_joke', 'JokeEvent')], 'checkpoints': ['{\"__is_pydantic\": true, \"value\": {\"id_\": \"0edf950e-2805-4ade-a67f-55d0d1225e4c\", \"last_completed_step\": null, \"input_event\": null, \"output_event\": {\"_data\": {\"topic\": \"math\"}}, \"ctx_state\": {\"globals\": {}, \"streaming_queue\": \"[]\", \"queues\": {\"_done\": \"[]\", \"critique_joke\": \"[]\", \"generate_joke\": \"[]\"}, \"stepwise\": false, \"events_buffer\": {}, \"accepted_events\": [[\"generate_joke\", \"StartEvent\"]], \"checkpoints\": [], \"is_running\": false}}, \"qualified_name\": \"llama_index.core.workflow.checkpoint.Checkpoint\"}'], 'is_running': True}),\n",
       " Checkpoint(id_='c12a0849-59a1-490e-bd42-c705718da63e', last_completed_step='critique_joke', input_event=JokeEvent(joke=\"Why was the equal sign so humble?\\n\\nBecause he knew he wasn't less than or greater than anyone else.\"), output_event=StopEvent(result='Analysis:\\nThis joke plays on the mathematical concept of the equal sign, which is used to show that two quantities are the same. The humor comes from personifying the equal sign and attributing human emotions and characteristics to it. The punchline relies on a play on words, as \"less than\" and \"greater than\" are mathematical symbols used to show inequality.\\n\\nCritique:\\n- Clever wordplay: The joke cleverly uses mathematical symbols and concepts to create humor. The play on words with \"less than\" and \"greater than\" adds an extra layer of wit to the joke.\\n- Relatable: The joke is relatable to anyone familiar with basic math, making it accessible to a wide audience.\\n- Simple and straightforward: The joke is easy to understand and doesn\\'t require any complex setup or explanation, making it effective for quick, lighthearted humor.\\n- Lack of depth: While the joke is amusing, it may be considered somewhat shallow or predictable. The punchline is fairly straightforward and doesn\\'t offer much in terms of complexity or depth.\\n- Limited appeal: The joke may not resonate with those who are not familiar with basic math concepts, limiting its appeal to a specific audience.\\n\\nOverall, this joke is a light-hearted and clever play on mathematical concepts that is likely to elicit a chuckle from those who appreciate wordplay and puns. However, its simplicity and lack of depth may prevent it from being considered a particularly memorable or impactful joke.'), ctx_state={'globals': {}, 'streaming_queue': '[]', 'queues': {'_done': '[]', 'critique_joke': '[]', 'generate_joke': '[]'}, 'stepwise': False, 'events_buffer': {}, 'accepted_events': [('generate_joke', 'StartEvent'), ('critique_joke', 'JokeEvent')], 'checkpoints': ['{\"__is_pydantic\": true, \"value\": {\"id_\": \"0edf950e-2805-4ade-a67f-55d0d1225e4c\", \"last_completed_step\": null, \"input_event\": null, \"output_event\": {\"_data\": {\"topic\": \"math\"}}, \"ctx_state\": {\"globals\": {}, \"streaming_queue\": \"[]\", \"queues\": {\"_done\": \"[]\", \"critique_joke\": \"[]\", \"generate_joke\": \"[]\"}, \"stepwise\": false, \"events_buffer\": {}, \"accepted_events\": [[\"generate_joke\", \"StartEvent\"], [\"critique_joke\", \"JokeEvent\"]], \"checkpoints\": [], \"is_running\": false}}, \"qualified_name\": \"llama_index.core.workflow.checkpoint.Checkpoint\"}', '{\"__is_pydantic\": true, \"value\": {\"id_\": \"4f7f257f-36c7-4cbc-9339-9622393f2584\", \"last_completed_step\": \"generate_joke\", \"input_event\": {\"_data\": {\"topic\": \"math\"}}, \"output_event\": {}, \"ctx_state\": {\"globals\": {}, \"streaming_queue\": \"[]\", \"queues\": {\"_done\": \"[]\", \"critique_joke\": \"[]\", \"generate_joke\": \"[]\"}, \"stepwise\": false, \"events_buffer\": {}, \"accepted_events\": [[\"generate_joke\", \"StartEvent\"], [\"critique_joke\", \"JokeEvent\"]], \"checkpoints\": [\"{\\\\\"__is_pydantic\\\\\": true, \\\\\"value\\\\\": {\\\\\"id_\\\\\": \\\\\"0edf950e-2805-4ade-a67f-55d0d1225e4c\\\\\", \\\\\"last_completed_step\\\\\": null, \\\\\"input_event\\\\\": null, \\\\\"output_event\\\\\": {\\\\\"_data\\\\\": {\\\\\"topic\\\\\": \\\\\"math\\\\\"}}, \\\\\"ctx_state\\\\\": {\\\\\"globals\\\\\": {}, \\\\\"streaming_queue\\\\\": \\\\\"[]\\\\\", \\\\\"queues\\\\\": {\\\\\"_done\\\\\": \\\\\"[]\\\\\", \\\\\"critique_joke\\\\\": \\\\\"[]\\\\\", \\\\\"generate_joke\\\\\": \\\\\"[]\\\\\"}, \\\\\"stepwise\\\\\": false, \\\\\"events_buffer\\\\\": {}, \\\\\"accepted_events\\\\\": [[\\\\\"generate_joke\\\\\", \\\\\"StartEvent\\\\\"]], \\\\\"checkpoints\\\\\": [], \\\\\"is_running\\\\\": false}}, \\\\\"qualified_name\\\\\": \\\\\"llama_index.core.workflow.checkpoint.Checkpoint\\\\\"}\"], \"is_running\": true}}, \"qualified_name\": \"llama_index.core.workflow.checkpoint.Checkpoint\"}'], 'is_running': True})]"
      ]
     },
     "execution_count": null,
     "metadata": {},
     "output_type": "execute_result"
    }
   ],
   "source": [
    "handler.ctx.checkpoints"
   ]
  },
  {
   "cell_type": "code",
   "execution_count": null,
   "metadata": {},
   "outputs": [
    {
     "data": {
      "text/plain": [
       "3"
      ]
     },
     "execution_count": null,
     "metadata": {},
     "output_type": "execute_result"
    }
   ],
   "source": [
    "len(handler.ctx.checkpoints)"
   ]
  },
  {
   "cell_type": "markdown",
   "metadata": {},
   "source": [
    "There are 3 stored checkpoints after this first run. The first of these checkpoints are created just before the emission of the `StartEvent`. This can be thought of as a \"startup\" step being completed which has a null input `Event` and whose output event is the `StartEvent`. The remaining two of these checkpoints are made at the completion of each of the two steps in this Workflow. "
   ]
  },
  {
   "cell_type": "markdown",
   "metadata": {},
   "source": [
    "### Filtering the Checkpoints"
   ]
  },
  {
   "cell_type": "markdown",
   "metadata": {},
   "source": [
    "Before showcasing how to filter through checkpoints, let's first make things a bit more interesting by executing the workflow a few more times. Here, we'll run the workflow for two more additional topics. Since each entire run will result in 3 stored checkpoints each, we should have a total of 9 checkpoints after executing the below cell. "
   ]
  },
  {
   "cell_type": "code",
   "execution_count": null,
   "metadata": {},
   "outputs": [
    {
     "data": {
      "text/plain": [
       "9"
      ]
     },
     "execution_count": null,
     "metadata": {},
     "output_type": "execute_result"
    }
   ],
   "source": [
    "additional_topics = [\"biology\", \"history\"]\n",
    "\n",
    "for topic in additional_topics:\n",
    "    handler = workflow.run(\n",
    "        ctx=ctx, topic=topic\n",
    "    )  # same Context that was used before\n",
    "    await handler\n",
    "\n",
    "len(handler.ctx.checkpoints)"
   ]
  },
  {
   "cell_type": "code",
   "execution_count": null,
   "metadata": {},
   "outputs": [
    {
     "data": {
      "text/plain": [
       "['Analysis:\\nThis joke plays on the mathematical concept of the equal sign, which is used to show that two quantities are the same. The humor comes from ',\n",
       " 'This joke plays on the idea of biologists studying genes and mathematicians working with numbers, creating a humorous scenario where the two disciplin',\n",
       " 'Analysis:\\nThis joke plays on the double meaning of the word \"pupils,\" which can refer to both the students in a classroom and the black part of the ey']"
      ]
     },
     "execution_count": null,
     "metadata": {},
     "output_type": "execute_result"
    }
   ],
   "source": [
    "# Filter by output event StopEvent\n",
    "checkpoints_that_emit_stop_event = ctx.filter_checkpoints(\n",
    "    output_event_type=StopEvent\n",
    ")\n",
    "len(checkpoints_that_emit_stop_event)\n",
    "[ckpt.output_event.result[:150] for ckpt in checkpoints_that_emit_stop_event]"
   ]
  },
  {
   "cell_type": "code",
   "execution_count": null,
   "metadata": {},
   "outputs": [
    {
     "data": {
      "text/plain": [
       "[\"Why was the equal sign so humble?\\n\\nBecause he knew he wasn't less than or greater than anyone else.\",\n",
       " \"Why did the biologist break up with the mathematician?\\n\\nBecause they couldn't find a common gene!\",\n",
       " \"Why did the history teacher go to jail?\\n\\nBecause he couldn't control his pupils!\"]"
      ]
     },
     "execution_count": null,
     "metadata": {},
     "output_type": "execute_result"
    }
   ],
   "source": [
    "# Filter by the name of last completed step\n",
    "checkpoints_right_after_generate_joke_step = ctx.filter_checkpoints(\n",
    "    last_completed_step=\"generate_joke\"\n",
    ")\n",
    "len(checkpoints_right_after_generate_joke_step)\n",
    "[\n",
    "    ckpt.output_event.joke[:150]\n",
    "    for ckpt in checkpoints_right_after_generate_joke_step\n",
    "]"
   ]
  },
  {
   "cell_type": "markdown",
   "metadata": {},
   "source": [
    "### Re-Run Workflow from a specific checkpoint"
   ]
  },
  {
   "cell_type": "code",
   "execution_count": null,
   "metadata": {},
   "outputs": [
    {
     "data": {
      "text/plain": [
       "'This joke plays on the idea of a biologist and a mathematician being in a relationship, which is already a humorous concept due to the perceived differences in their fields of study. The punchline, \"they couldn\\'t find a common gene,\" is a clever play on words, as \"gene\" can refer to a unit of heredity in biology, but in this context, it is used to mean a common interest or trait.\\n\\nOverall, the joke is light-hearted and plays on the stereotypes of biologists and mathematicians having different ways of thinking and approaching problems. It also cleverly combines scientific terminology with a common relationship issue, making it accessible to a wide audience.\\n\\nHowever, some may find the joke to be a bit simplistic or predictable, as the punchline is somewhat telegraphed by the setup. Additionally, the joke relies heavily on stereotypes about scientists, which may not resonate with everyone. \\n\\nIn conclusion, while the joke is clever and plays on the differences between biologists and mathematicians, it may not be the most original or thought-provoking joke. It is a light-hearted and amusing play on words that is likely to elicit a chuckle from those familiar with the fields of biology and mathematics.'"
      ]
     },
     "execution_count": null,
     "metadata": {},
     "output_type": "execute_result"
    }
   ],
   "source": [
    "ckpt = checkpoints_right_after_generate_joke_step[1]\n",
    "handler = workflow.run_from(checkpoint=ckpt, ctx=ctx)\n",
    "await handler"
   ]
  },
  {
   "cell_type": "markdown",
   "metadata": {},
   "source": [
    "Since we've executed from the checkpoint that represents the end of \"generate_joke\" step, there is only one additional checkpoint that gets stored i.e., the one that is stored after the completion of the next step, namely \"critique_joke\"."
   ]
  },
  {
   "cell_type": "code",
   "execution_count": null,
   "metadata": {},
   "outputs": [
    {
     "data": {
      "text/plain": [
       "10"
      ]
     },
     "execution_count": null,
     "metadata": {},
     "output_type": "execute_result"
    }
   ],
   "source": [
    "len(ctx.checkpoints)"
   ]
  },
  {
   "cell_type": "markdown",
   "metadata": {},
   "source": [
    "### Disabling Automatic Checkpointing"
   ]
  },
  {
   "cell_type": "markdown",
   "metadata": {},
   "source": [
    "By default, automatic checkpointing is enabled. However, this can be disabled for any run via the `store_checkpoints` parameter."
   ]
  },
  {
   "cell_type": "code",
   "execution_count": null,
   "metadata": {},
   "outputs": [
    {
     "data": {
      "text/plain": [
       "'This joke plays on the double meaning of the word \"nitrates.\" In chemistry, nitrates are a type of compound, while in everyday language, \"day rates\" refers to the cost of something for a day. The humor comes from the unexpected comparison between the two meanings.\\n\\nOne positive aspect of this joke is its clever wordplay and the unexpected twist at the end. The punchline is unexpected and plays on the audience\\'s knowledge of chemistry terms, making it a clever and witty joke for those who understand the reference.\\n\\nHowever, one potential critique of this joke is that it may not be easily understood by those who are not familiar with chemistry terms. The humor relies heavily on the audience\\'s knowledge of nitrates and their cost, which may limit the joke\\'s appeal to a more niche audience.\\n\\nOverall, this joke is a clever play on words that can be appreciated by those with a background in chemistry. It effectively combines science terminology with everyday language to create a humorous and unexpected punchline.'"
      ]
     },
     "execution_count": null,
     "metadata": {},
     "output_type": "execute_result"
    }
   ],
   "source": [
    "handler = workflow.run(topic=\"chemistry\", ctx=ctx, store_checkpoints=False)\n",
    "await handler"
   ]
  },
  {
   "cell_type": "code",
   "execution_count": null,
   "metadata": {},
   "outputs": [
    {
     "data": {
      "text/plain": [
       "10"
      ]
     },
     "execution_count": null,
     "metadata": {},
     "output_type": "execute_result"
    }
   ],
   "source": [
    "len(ctx.checkpoints)"
   ]
  },
  {
   "cell_type": "markdown",
   "metadata": {},
   "source": [
    "As we can see the number of stored checkpoints in our `Context` has not increased from the run prior to the one just executed above. In other words, the run above didn't produce any new checkpoints since we disabled checkpointing for that run."
   ]
  }
 ],
 "metadata": {
  "kernelspec": {
   "display_name": "llama-index-core",
   "language": "python",
   "name": "llama-index-core"
  },
  "language_info": {
   "codemirror_mode": {
    "name": "ipython",
    "version": 3
   },
   "file_extension": ".py",
   "mimetype": "text/x-python",
   "name": "python",
   "nbconvert_exporter": "python",
   "pygments_lexer": "ipython3"
  }
 },
 "nbformat": 4,
 "nbformat_minor": 4
}
