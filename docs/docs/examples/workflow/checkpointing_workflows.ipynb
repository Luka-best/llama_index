{
 "cells": [
  {
   "cell_type": "markdown",
   "metadata": {},
   "source": [
    "# Checkpointing Workflow Runs"
   ]
  },
  {
   "cell_type": "markdown",
   "metadata": {},
   "source": [
    "A `Checkpoint` is a snapshot taken during a `Workflow` run that can be inspected and also be used as a starting point in future `Workflow` runs. These checkpoints can become quite helpful when debugging a `Workflow`. For example, if your `Workflow` has many steps and you want to test out the later steps (likely after making some modifications to them), you can save a lot of time by running from the appropriate `Checkpoint` to skip the execution of those earlier steps.\n",
    "\n",
    "What get's stored in a `Checkpoint`?\n",
    "\n",
    "- `Checkpoint` objects are centered around the last completed step of the workflow run. They contain the name of the last completed step, that step's input event as well as it's output event, and finally a snapshot of the run's `Context`.\n",
    "\n",
    "When do `Checkpoint`'s happen?\n",
    "\n",
    "- When enabled, `Checkpoints` are automatically created and stored in the `Workflow.checkpoints` attribute after every completed step of the `Workflow`.\n",
    "\n",
    "In the rest of this notebook, we demonstrate:\n",
    "\n",
    "1. How to enable checkpoints\n",
    "2. Filter the stored checkpoints, and\n",
    "3. Finally run from a chosen checkpoint"
   ]
  },
  {
   "cell_type": "markdown",
   "metadata": {},
   "source": [
    "## Define a Workflow"
   ]
  },
  {
   "cell_type": "code",
   "execution_count": null,
   "metadata": {},
   "outputs": [],
   "source": [
    "import os\n",
    "\n",
    "api_key = os.environ.get(\"OPENAI_API_KEY\")"
   ]
  },
  {
   "cell_type": "code",
   "execution_count": null,
   "metadata": {},
   "outputs": [],
   "source": [
    "from llama_index.core.workflow import (\n",
    "    Workflow,\n",
    "    step,\n",
    "    StartEvent,\n",
    "    StopEvent,\n",
    "    Event,\n",
    "    Context,\n",
    ")\n",
    "from llama_index.llms.openai import OpenAI\n",
    "\n",
    "\n",
    "class JokeEvent(Event):\n",
    "    joke: str\n",
    "\n",
    "\n",
    "class JokeFlow(Workflow):\n",
    "    llm = OpenAI(api_key=api_key)\n",
    "\n",
    "    @step\n",
    "    async def generate_joke(self, ev: StartEvent) -> JokeEvent:\n",
    "        topic = ev.topic\n",
    "\n",
    "        prompt = f\"Write your best joke about {topic}.\"\n",
    "        response = await self.llm.acomplete(prompt)\n",
    "        return JokeEvent(joke=str(response))\n",
    "\n",
    "    @step\n",
    "    async def critique_joke(self, ev: JokeEvent) -> StopEvent:\n",
    "        joke = ev.joke\n",
    "\n",
    "        prompt = f\"Give a thorough analysis and critique of the following joke: {joke}\"\n",
    "        response = await self.llm.acomplete(prompt)\n",
    "        return StopEvent(result=str(response))"
   ]
  },
  {
   "cell_type": "markdown",
   "metadata": {},
   "source": [
    "### Running With Checkpointing Disabled (Default)"
   ]
  },
  {
   "cell_type": "markdown",
   "metadata": {},
   "source": [
    "By default, automatic checkpointing is disabled. However, this can be enabled for any run via the `store_checkpoints` parameter."
   ]
  },
  {
   "cell_type": "code",
   "execution_count": null,
   "metadata": {},
   "outputs": [
    {
     "data": {
      "text/plain": [
       "'This joke plays on the double meaning of the word \"rates,\" which can refer to both the cost of something and the passage of time. The punchline suggests that chemists prefer nitrates because they are cheaper than day rates, implying that chemists are frugal or cost-conscious individuals.\\n\\nOverall, the joke is clever and plays on a pun that is likely to be appreciated by those familiar with chemistry and the concept of nitrates. However, the humor may be lost on those who are not well-versed in chemistry terminology. Additionally, the joke relies on a somewhat niche subject matter, which may limit its appeal to a broader audience.\\n\\nIn terms of structure, the joke follows a classic setup and punchline format, with the punchline providing a surprising twist that subverts the listener\\'s expectations. The wordplay is effective in creating humor, and the joke is concise and to the point.\\n\\nIn conclusion, while the joke may not be universally appealing, it is a clever play on words that is likely to be enjoyed by those with a background in chemistry. It effectively uses puns and wordplay to create humor, making it a successful joke within its niche audience.'"
      ]
     },
     "execution_count": null,
     "metadata": {},
     "output_type": "execute_result"
    }
   ],
   "source": [
    "# instantiate Jokeflow\n",
    "workflow = JokeFlow()\n",
    "\n",
    "handler = workflow.run(\n",
    "    topic=\"chemistry\",\n",
    "    store_checkpoints=False,\n",
    ")\n",
    "await handler"
   ]
  },
  {
   "cell_type": "code",
   "execution_count": null,
   "metadata": {},
   "outputs": [
    {
     "data": {
      "text/plain": [
       "{}"
      ]
     },
     "execution_count": null,
     "metadata": {},
     "output_type": "execute_result"
    }
   ],
   "source": [
    "workflow.checkpoints"
   ]
  },
  {
   "cell_type": "markdown",
   "metadata": {},
   "source": [
    "As we can see there are no entries in our `Workflow.checkpoints` attribute."
   ]
  },
  {
   "cell_type": "markdown",
   "metadata": {},
   "source": [
    "### Running the Workflow With Checkpointing Enabled"
   ]
  },
  {
   "cell_type": "code",
   "execution_count": null,
   "metadata": {},
   "outputs": [
    {
     "data": {
      "text/plain": [
       "'Analysis:\\nThis joke plays on the mathematical concept of the equal sign, which is used to show that two quantities are the same. The humor comes from personifying the equal sign and attributing human emotions and characteristics to it. The joke relies on the double meaning of \"humble,\" which can mean both modest and also not thinking of oneself as better or worse than others.\\n\\nCritique:\\nThis joke is clever and plays on a common mathematical symbol in a humorous way. It is a light-hearted and punny joke that is likely to elicit a chuckle from those who understand the mathematical reference. However, the joke may not be universally understood by all audiences, particularly those who are not familiar with mathematical concepts. Additionally, the humor may be considered somewhat simplistic or corny by some, as it relies on a basic pun and wordplay. Overall, while the joke is amusing in its simplicity, it may not be considered particularly sophisticated or original.'"
      ]
     },
     "execution_count": null,
     "metadata": {},
     "output_type": "execute_result"
    }
   ],
   "source": [
    "# run the workflow again, but this time with checkpointing enabled\n",
    "handler = workflow.run(topic=\"math\", store_checkpoints=True)\n",
    "await handler"
   ]
  },
  {
   "cell_type": "code",
   "execution_count": null,
   "metadata": {},
   "outputs": [
    {
     "data": {
      "text/plain": [
       "{'f1e6733f-9bea-4ef7-8f84-db7c0e344217': [Checkpoint(id_='3a85a574-4334-4305-8d54-67bc760c290f', last_completed_step=None, input_event=None, output_event=StartEvent(run_id='f1e6733f-9bea-4ef7-8f84-db7c0e344217'), ctx_state={'globals': {}, 'streaming_queue': '[]', 'queues': {'_done': '[]', 'critique_joke': '[]', 'generate_joke': '[]'}, 'stepwise': False, 'events_buffer': {}, 'accepted_events': [('generate_joke', 'StartEvent'), ('critique_joke', 'JokeEvent')], 'broker_log': [], 'is_running': False}),\n",
       "  Checkpoint(id_='99b941c0-f887-4752-8500-7066ea1b5c9d', last_completed_step='generate_joke', input_event=StartEvent(run_id='f1e6733f-9bea-4ef7-8f84-db7c0e344217'), output_event=JokeEvent(run_id='f1e6733f-9bea-4ef7-8f84-db7c0e344217', joke=\"Why was the equal sign so humble?\\n\\nBecause he knew he wasn't less than or greater than anyone else.\"), ctx_state={'globals': {}, 'streaming_queue': '[]', 'queues': {'_done': '[]', 'critique_joke': '[]', 'generate_joke': '[]'}, 'stepwise': False, 'events_buffer': {}, 'accepted_events': [('generate_joke', 'StartEvent'), ('critique_joke', 'JokeEvent')], 'broker_log': ['{\"__is_pydantic\": true, \"value\": {\"run_id\": \"f1e6733f-9bea-4ef7-8f84-db7c0e344217\", \"_data\": {\"topic\": \"math\"}}, \"qualified_name\": \"llama_index.core.workflow.events.StartEvent\"}'], 'is_running': True}),\n",
       "  Checkpoint(id_='5e6528d7-0907-4113-a2f6-78043bae6624', last_completed_step='critique_joke', input_event=JokeEvent(run_id='f1e6733f-9bea-4ef7-8f84-db7c0e344217', joke=\"Why was the equal sign so humble?\\n\\nBecause he knew he wasn't less than or greater than anyone else.\"), output_event=StopEvent(run_id='f1e6733f-9bea-4ef7-8f84-db7c0e344217', result='Analysis:\\nThis joke plays on the mathematical concept of the equal sign, which is used to show that two quantities are the same. The humor comes from personifying the equal sign and attributing human emotions and characteristics to it. The joke relies on the double meaning of \"humble,\" which can mean both modest and also not thinking of oneself as better or worse than others.\\n\\nCritique:\\nThis joke is clever and plays on a common mathematical symbol in a humorous way. It is a light-hearted and punny joke that is likely to elicit a chuckle from those who understand the mathematical reference. However, the joke may not be universally understood by all audiences, particularly those who are not familiar with mathematical concepts. Additionally, the humor may be considered somewhat simplistic or corny by some, as it relies on a basic pun and wordplay. Overall, while the joke is amusing in its simplicity, it may not be considered particularly sophisticated or original.'), ctx_state={'globals': {}, 'streaming_queue': '[]', 'queues': {'_done': '[]', 'critique_joke': '[]', 'generate_joke': '[]'}, 'stepwise': False, 'events_buffer': {}, 'accepted_events': [('generate_joke', 'StartEvent'), ('critique_joke', 'JokeEvent')], 'broker_log': ['{\"__is_pydantic\": true, \"value\": {\"run_id\": \"f1e6733f-9bea-4ef7-8f84-db7c0e344217\", \"_data\": {\"topic\": \"math\"}}, \"qualified_name\": \"llama_index.core.workflow.events.StartEvent\"}', '{\"__is_pydantic\": true, \"value\": {\"run_id\": \"f1e6733f-9bea-4ef7-8f84-db7c0e344217\", \"joke\": \"Why was the equal sign so humble?\\\\n\\\\nBecause he knew he wasn\\'t less than or greater than anyone else.\"}, \"qualified_name\": \"__main__.JokeEvent\"}'], 'is_running': True})]}"
      ]
     },
     "execution_count": null,
     "metadata": {},
     "output_type": "execute_result"
    }
   ],
   "source": [
    "workflow.checkpoints"
   ]
  },
  {
   "cell_type": "markdown",
   "metadata": {},
   "source": [
    "After enabling checkpointing with specifying `store_checkpoints=True` in the `run()` call, we see that there is a new entry within the `checkpoints` dict. Checkpoints are organized by `run_id`'s and each invocation of a `run()` or `run_from()` (demo'ed later in this notebook) kicks off a new run with it's unique `run_id`.\n",
    "\n",
    "We can see here that there are 3 stored checkpoints after this first run. The first of these checkpoints are created just before the emission of the `StartEvent`. This can be thought of there being a fictitious \"startup\" step that is completed (and thus checkpointed), which contains a null input `Event` and whose output event is the `StartEvent`. The remaining two of these checkpoints are made at the completion of each of the two steps—`generate_joke` and `critique_joke`—in this Workflow. "
   ]
  },
  {
   "cell_type": "code",
   "execution_count": null,
   "metadata": {},
   "outputs": [
    {
     "name": "stdout",
     "output_type": "stream",
     "text": [
      "Run: f1e6733f-9bea-4ef7-8f84-db7c0e344217 has 3 stored checkpoints\n"
     ]
    }
   ],
   "source": [
    "for run_id, ckpts in workflow.checkpoints.items():\n",
    "    print(f\"Run: {run_id} has {len(ckpts)} stored checkpoints\")"
   ]
  },
  {
   "cell_type": "markdown",
   "metadata": {},
   "source": [
    "### Filtering the Checkpoints"
   ]
  },
  {
   "cell_type": "markdown",
   "metadata": {},
   "source": [
    "With checkpointing enabled, every run of a `Workflow`, will create a new entry in the `Workflow.checkpoints` dict attribute. To assist in navigating through these store checkpoints, we provide the `Workflow.filter_checkpoints()` method.\n",
    "\n",
    "Before showcasing how to filter through checkpoints using this method, let's first make things a bit more interesting by executing the workflow a few more times. Here, we'll run the workflow for two more additional topics. Since each entire run will result in 3 stored checkpoints each, we should have a total of 9 checkpoints after executing the below cell. "
   ]
  },
  {
   "cell_type": "code",
   "execution_count": null,
   "metadata": {},
   "outputs": [],
   "source": [
    "additional_topics = [\"biology\", \"history\"]\n",
    "\n",
    "for topic in additional_topics:\n",
    "    handler = workflow.run(topic=topic, store_checkpoints=True)\n",
    "    await handler"
   ]
  },
  {
   "cell_type": "code",
   "execution_count": null,
   "metadata": {},
   "outputs": [
    {
     "name": "stdout",
     "output_type": "stream",
     "text": [
      "Run: f1e6733f-9bea-4ef7-8f84-db7c0e344217 has 3 stored checkpoints\n",
      "Run: 12329630-81ba-4244-b00f-9972c5c642bb has 3 stored checkpoints\n",
      "Run: 9a6ff65f-f619-45dc-82c2-b100787ba165 has 3 stored checkpoints\n"
     ]
    }
   ],
   "source": [
    "for run_id, ckpts in workflow.checkpoints.items():\n",
    "    print(f\"Run: {run_id} has {len(ckpts)} stored checkpoints\")"
   ]
  },
  {
   "cell_type": "markdown",
   "metadata": {},
   "source": [
    "At this point, we can filter by:\n",
    "\n",
    "- The name of the last completed step by speciying the param `last_completed_step`\n",
    "- The event type of the last completed step's output event by specifying `output_event_type`\n",
    "- Similarly, the event type of the last completed step's input event by specifying `input_event_type`\n",
    "\n",
    "Specifying multiple of these filters will be combined by the \"AND\" operator."
   ]
  },
  {
   "cell_type": "code",
   "execution_count": null,
   "metadata": {},
   "outputs": [
    {
     "data": {
      "text/plain": [
       "[Checkpoint(id_='d6d5f38b-f031-43b5-a08d-69551a9ad70d', last_completed_step='generate_joke', input_event=StartEvent(run_id='12329630-81ba-4244-b00f-9972c5c642bb'), output_event=JokeEvent(run_id='12329630-81ba-4244-b00f-9972c5c642bb', joke='Why did the biologist break up with the mathematician?\\n\\nBecause they couldn\\'t find a common \"cell\"!'), ctx_state={'globals': {}, 'streaming_queue': '[]', 'queues': {'_done': '[]', 'critique_joke': '[]', 'generate_joke': '[]'}, 'stepwise': False, 'events_buffer': {}, 'accepted_events': [('generate_joke', 'StartEvent'), ('critique_joke', 'JokeEvent')], 'broker_log': ['{\"__is_pydantic\": true, \"value\": {\"run_id\": \"12329630-81ba-4244-b00f-9972c5c642bb\", \"_data\": {\"topic\": \"biology\"}}, \"qualified_name\": \"llama_index.core.workflow.events.StartEvent\"}'], 'is_running': True})]"
      ]
     },
     "execution_count": null,
     "metadata": {},
     "output_type": "execute_result"
    }
   ],
   "source": [
    "# Filter by the name of last completed step\n",
    "checkpoints_right_after_generate_joke_step = workflow.filter_checkpoints(\n",
    "    last_completed_step=\"generate_joke\",\n",
    "    run_id=list(workflow.checkpoints.keys())[1],\n",
    ")\n",
    "\n",
    "# checkpoint ids\n",
    "[ckpt for ckpt in checkpoints_right_after_generate_joke_step]"
   ]
  },
  {
   "cell_type": "code",
   "execution_count": null,
   "metadata": {},
   "outputs": [
    {
     "data": {
      "text/plain": [
       "[Checkpoint(id_='5e6528d7-0907-4113-a2f6-78043bae6624', last_completed_step='critique_joke', input_event=JokeEvent(run_id='f1e6733f-9bea-4ef7-8f84-db7c0e344217', joke=\"Why was the equal sign so humble?\\n\\nBecause he knew he wasn't less than or greater than anyone else.\"), output_event=StopEvent(run_id='f1e6733f-9bea-4ef7-8f84-db7c0e344217', result='Analysis:\\nThis joke plays on the mathematical concept of the equal sign, which is used to show that two quantities are the same. The humor comes from personifying the equal sign and attributing human emotions and characteristics to it. The joke relies on the double meaning of \"humble,\" which can mean both modest and also not thinking of oneself as better or worse than others.\\n\\nCritique:\\nThis joke is clever and plays on a common mathematical symbol in a humorous way. It is a light-hearted and punny joke that is likely to elicit a chuckle from those who understand the mathematical reference. However, the joke may not be universally understood by all audiences, particularly those who are not familiar with mathematical concepts. Additionally, the humor may be considered somewhat simplistic or corny by some, as it relies on a basic pun and wordplay. Overall, while the joke is amusing in its simplicity, it may not be considered particularly sophisticated or original.'), ctx_state={'globals': {}, 'streaming_queue': '[]', 'queues': {'_done': '[]', 'critique_joke': '[]', 'generate_joke': '[]'}, 'stepwise': False, 'events_buffer': {}, 'accepted_events': [('generate_joke', 'StartEvent'), ('critique_joke', 'JokeEvent')], 'broker_log': ['{\"__is_pydantic\": true, \"value\": {\"run_id\": \"f1e6733f-9bea-4ef7-8f84-db7c0e344217\", \"_data\": {\"topic\": \"math\"}}, \"qualified_name\": \"llama_index.core.workflow.events.StartEvent\"}', '{\"__is_pydantic\": true, \"value\": {\"run_id\": \"f1e6733f-9bea-4ef7-8f84-db7c0e344217\", \"joke\": \"Why was the equal sign so humble?\\\\n\\\\nBecause he knew he wasn\\'t less than or greater than anyone else.\"}, \"qualified_name\": \"__main__.JokeEvent\"}'], 'is_running': True}),\n",
       " Checkpoint(id_='0776f575-722a-4baa-a150-9ae86ad7ed86', last_completed_step='critique_joke', input_event=JokeEvent(run_id='12329630-81ba-4244-b00f-9972c5c642bb', joke='Why did the biologist break up with the mathematician?\\n\\nBecause they couldn\\'t find a common \"cell\"!'), output_event=StopEvent(run_id='12329630-81ba-4244-b00f-9972c5c642bb', result='This joke plays on the double meaning of the word \"cell\" - in biology, a cell is the basic structural and functional unit of all living organisms, while in mathematics, a cell can refer to a unit in a matrix or grid. The joke suggests that the biologist and mathematician couldn\\'t find a common ground or connection because they were coming from different fields with different perspectives and ways of thinking.\\n\\nOverall, the joke is clever and plays on the stereotypes of biologists and mathematicians having different approaches to problem-solving. It also highlights the importance of finding common ground and understanding in relationships, whether they be personal or professional.\\n\\nHowever, some may find the joke to be a bit simplistic or stereotypical in its portrayal of biologists and mathematicians. It relies on a basic pun and doesn\\'t delve deeper into the complexities of the relationship between the two disciplines. Additionally, the punchline may not be immediately obvious to all audiences, as it requires some knowledge of both biology and mathematics to fully appreciate.\\n\\nIn conclusion, while the joke is amusing and plays on the differences between biologists and mathematicians, it may not be the most sophisticated or nuanced humor. It could be improved by adding more depth or complexity to the relationship between the two characters.'), ctx_state={'globals': {}, 'streaming_queue': '[]', 'queues': {'_done': '[]', 'critique_joke': '[]', 'generate_joke': '[]'}, 'stepwise': False, 'events_buffer': {}, 'accepted_events': [('generate_joke', 'StartEvent'), ('critique_joke', 'JokeEvent')], 'broker_log': ['{\"__is_pydantic\": true, \"value\": {\"run_id\": \"12329630-81ba-4244-b00f-9972c5c642bb\", \"_data\": {\"topic\": \"biology\"}}, \"qualified_name\": \"llama_index.core.workflow.events.StartEvent\"}', '{\"__is_pydantic\": true, \"value\": {\"run_id\": \"12329630-81ba-4244-b00f-9972c5c642bb\", \"joke\": \"Why did the biologist break up with the mathematician?\\\\n\\\\nBecause they couldn\\'t find a common \\\\\"cell\\\\\"!\"}, \"qualified_name\": \"__main__.JokeEvent\"}'], 'is_running': True}),\n",
       " Checkpoint(id_='bb625f21-2670-43ad-89fe-235167818ce6', last_completed_step='critique_joke', input_event=JokeEvent(run_id='9a6ff65f-f619-45dc-82c2-b100787ba165', joke='Why did the history teacher go to the beach?\\n\\nTo catch up on some \"current events\"!'), output_event=StopEvent(run_id='9a6ff65f-f619-45dc-82c2-b100787ba165', result='Analysis:\\nThis joke plays on the double meaning of the phrase \"current events.\" In one sense, \"current events\" refers to the latest news and happenings in the world. In another sense, \"current events\" can also refer to the movement of water, such as in a river or ocean.\\n\\nThe joke sets up the expectation that the history teacher is going to the beach to relax or enjoy the sun, but then subverts that expectation by revealing that the teacher is actually going to the beach to study the movement of water, or \"current events.\"\\n\\nCritique:\\nOverall, this joke is clever and plays on a pun that is likely to elicit a chuckle or a smile from the audience. It is a light-hearted and playful joke that is easy to understand and appreciate.\\n\\nHowever, some may find the joke to be a bit predictable or corny, as puns are a common form of humor and may not be to everyone\\'s taste. Additionally, the joke relies heavily on wordplay and may not be as universally funny as other types of humor.\\n\\nIn conclusion, while this joke may not be groundbreaking or particularly original, it is a fun and harmless play on words that is likely to entertain those who appreciate pun-based humor.'), ctx_state={'globals': {}, 'streaming_queue': '[]', 'queues': {'_done': '[]', 'critique_joke': '[]', 'generate_joke': '[]'}, 'stepwise': False, 'events_buffer': {}, 'accepted_events': [('generate_joke', 'StartEvent'), ('critique_joke', 'JokeEvent')], 'broker_log': ['{\"__is_pydantic\": true, \"value\": {\"run_id\": \"9a6ff65f-f619-45dc-82c2-b100787ba165\", \"_data\": {\"topic\": \"history\"}}, \"qualified_name\": \"llama_index.core.workflow.events.StartEvent\"}', '{\"__is_pydantic\": true, \"value\": {\"run_id\": \"9a6ff65f-f619-45dc-82c2-b100787ba165\", \"joke\": \"Why did the history teacher go to the beach?\\\\n\\\\nTo catch up on some \\\\\"current events\\\\\"!\"}, \"qualified_name\": \"__main__.JokeEvent\"}'], 'is_running': True})]"
      ]
     },
     "execution_count": null,
     "metadata": {},
     "output_type": "execute_result"
    }
   ],
   "source": [
    "# Filter by output event StopEvent\n",
    "checkpoints_that_emit_stop_event = workflow.filter_checkpoints(\n",
    "    output_event_type=StopEvent\n",
    ")\n",
    "\n",
    "# checkpoint ids\n",
    "[ckpt for ckpt in checkpoints_that_emit_stop_event]"
   ]
  },
  {
   "cell_type": "markdown",
   "metadata": {},
   "source": [
    "### Re-Run Workflow from a specific checkpoint"
   ]
  },
  {
   "cell_type": "markdown",
   "metadata": {},
   "source": [
    "To run from a chosen `Checkpoint` we can use the `Workflow.run_from()` method. NOTE that doing so will lead to a new `run` and it's checkpoints if enabled will be stored under the newly assigned `run_id`."
   ]
  },
  {
   "cell_type": "code",
   "execution_count": null,
   "metadata": {},
   "outputs": [],
   "source": [
    "ckpt = checkpoints_right_after_generate_joke_step[0]\n",
    "num_runs_from_checkpoint = 2  # to make things interesting\n",
    "\n",
    "for _ in range(num_runs_from_checkpoint):\n",
    "    handler = workflow.run_from(checkpoint=ckpt, store_checkpoints=True)\n",
    "    await handler"
   ]
  },
  {
   "cell_type": "code",
   "execution_count": null,
   "metadata": {},
   "outputs": [
    {
     "name": "stdout",
     "output_type": "stream",
     "text": [
      "Run: f1e6733f-9bea-4ef7-8f84-db7c0e344217 has 3 stored checkpoints\n",
      "Run: 12329630-81ba-4244-b00f-9972c5c642bb has 3 stored checkpoints\n",
      "Run: 9a6ff65f-f619-45dc-82c2-b100787ba165 has 3 stored checkpoints\n",
      "Run: 15e12fc8-2508-4e77-b6c2-2052d5484c7a has 1 stored checkpoints\n",
      "Run: 4aefa694-62f1-4f0a-a7e9-55525cf79a5a has 1 stored checkpoints\n"
     ]
    }
   ],
   "source": [
    "for run_id, ckpts in workflow.checkpoints.items():\n",
    "    print(f\"Run: {run_id} has {len(ckpts)} stored checkpoints\")"
   ]
  },
  {
   "cell_type": "markdown",
   "metadata": {},
   "source": [
    "Since we've executed from the checkpoint that represents the end of \"generate_joke\" step, there is only one additional checkpoint that gets stored in these \"partial\" runs."
   ]
  }
 ],
 "metadata": {
  "kernelspec": {
   "display_name": "llama-index-core",
   "language": "python",
   "name": "llama-index-core"
  },
  "language_info": {
   "codemirror_mode": {
    "name": "ipython",
    "version": 3
   },
   "file_extension": ".py",
   "mimetype": "text/x-python",
   "name": "python",
   "nbconvert_exporter": "python",
   "pygments_lexer": "ipython3"
  }
 },
 "nbformat": 4,
 "nbformat_minor": 4
}
