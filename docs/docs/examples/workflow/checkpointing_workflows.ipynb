{
 "cells": [
  {
   "cell_type": "markdown",
   "metadata": {},
   "source": [
    "# Checkpointing in Workflows"
   ]
  },
  {
   "cell_type": "markdown",
   "metadata": {},
   "source": [
    "During the execution of a Workflow, `Checkpoint` objects are automatically stored within the `Context` class. By default, `Checkpoints` are automatically created at the completion of a step. At such instants in the Workflow execution, we checkpoint the name of the last completed step, it's input `Event`, it's output `Event`, as well as a snapshot of the `Context` itself. We also store a `Checkpoint` before the emission of the `StartEvent`, but note that running from these special checkpoints are essentially equivalent to the typical execution of a `Workflow` -- we add it here purely for convenience.\n",
    "\n",
    "In this notebook, we demonstrate how to make use of such checkpoints. Specifically, we'll show how to obtain the list of all of the stored checkpoints, filter this list, and even how to re-run a `Workflow` from any one them."
   ]
  },
  {
   "cell_type": "markdown",
   "metadata": {},
   "source": [
    "## Defining the Workflow"
   ]
  },
  {
   "cell_type": "code",
   "execution_count": null,
   "metadata": {},
   "outputs": [],
   "source": [
    "import os\n",
    "\n",
    "api_key = os.environ.get(\"OPENAI_API_KEY\")"
   ]
  },
  {
   "cell_type": "code",
   "execution_count": null,
   "metadata": {},
   "outputs": [],
   "source": [
    "from llama_index.core.workflow import (\n",
    "    Workflow,\n",
    "    step,\n",
    "    StartEvent,\n",
    "    StopEvent,\n",
    "    Event,\n",
    "    Context,\n",
    ")\n",
    "from llama_index.llms.openai import OpenAI\n",
    "\n",
    "\n",
    "class JokeEvent(Event):\n",
    "    joke: str\n",
    "\n",
    "\n",
    "class JokeFlow(Workflow):\n",
    "    llm = OpenAI(api_key=api_key)\n",
    "\n",
    "    @step\n",
    "    async def generate_joke(self, ev: StartEvent) -> JokeEvent:\n",
    "        topic = ev.topic\n",
    "\n",
    "        prompt = f\"Write your best joke about {topic}.\"\n",
    "        response = await self.llm.acomplete(prompt)\n",
    "        return JokeEvent(joke=str(response))\n",
    "\n",
    "    @step\n",
    "    async def critique_joke(self, ev: JokeEvent) -> StopEvent:\n",
    "        joke = ev.joke\n",
    "\n",
    "        prompt = f\"Give a thorough analysis and critique of the following joke: {joke}\"\n",
    "        response = await self.llm.acomplete(prompt)\n",
    "        return StopEvent(result=str(response))"
   ]
  },
  {
   "cell_type": "markdown",
   "metadata": {},
   "source": [
    "### Running the Workflow"
   ]
  },
  {
   "cell_type": "code",
   "execution_count": null,
   "metadata": {},
   "outputs": [
    {
     "data": {
      "text/plain": [
       "'Analysis:\\nThis joke plays on the mathematical concept of the equal sign, which is used to show that two quantities are the same. The humor comes from personifying the equal sign and attributing human emotions and characteristics to it. The joke relies on the double meaning of the word \"equal\" - not only in the mathematical sense but also in the sense of being humble and not thinking oneself better or worse than others.\\n\\nCritique:\\nThis joke is clever and plays on a common mathematical symbol in a humorous way. The punchline is unexpected and plays on the idea of humility, which adds an extra layer to the joke. However, the joke may not be immediately understood by everyone, especially those who are not familiar with mathematical symbols. Additionally, the humor may be considered somewhat niche and may not appeal to a wide audience. Overall, while the joke is clever and well-crafted, its niche appeal may limit its effectiveness in reaching a broader audience.'"
      ]
     },
     "execution_count": null,
     "metadata": {},
     "output_type": "execute_result"
    }
   ],
   "source": [
    "# instantiate Jokeflow\n",
    "workflow = JokeFlow()\n",
    "ctx = Context(workflow=workflow)\n",
    "\n",
    "# run it\n",
    "handler = workflow.run(ctx=ctx, topic=\"math\")\n",
    "await handler"
   ]
  },
  {
   "cell_type": "markdown",
   "metadata": {},
   "source": [
    "### Listing the saved Checkpoints"
   ]
  },
  {
   "cell_type": "code",
   "execution_count": null,
   "metadata": {},
   "outputs": [
    {
     "data": {
      "text/plain": [
       "[Checkpoint(id_='ed3ba540-b174-4d97-add8-87fce11dba48', last_completed_step=None, input_event=None, output_event=StartEvent(), ctx_state={'globals': {}, 'streaming_queue': '[]', 'queues': {'_done': '[]', 'critique_joke': '[]', 'generate_joke': '[]'}, 'stepwise': False, 'events_buffer': {}, 'accepted_events': [('generate_joke', 'StartEvent'), ('critique_joke', 'JokeEvent')], 'broker_log': [], 'is_running': False}),\n",
       " Checkpoint(id_='d65bd3e1-38f6-44b1-90fe-d024cd14dead', last_completed_step='generate_joke', input_event=StartEvent(), output_event=JokeEvent(joke=\"Why was the equal sign so humble?\\n\\nBecause he knew he wasn't less than or greater than anyone else.\"), ctx_state={'globals': {}, 'streaming_queue': '[]', 'queues': {'_done': '[]', 'critique_joke': '[]', 'generate_joke': '[]'}, 'stepwise': False, 'events_buffer': {}, 'accepted_events': [('generate_joke', 'StartEvent'), ('critique_joke', 'JokeEvent')], 'broker_log': ['{\"__is_pydantic\": true, \"value\": {\"id_\": \"ed3ba540-b174-4d97-add8-87fce11dba48\", \"last_completed_step\": null, \"input_event\": null, \"output_event\": {\"_data\": {\"topic\": \"math\"}}, \"ctx_state\": {\"globals\": {}, \"streaming_queue\": \"[]\", \"queues\": {\"_done\": \"[]\", \"critique_joke\": \"[]\", \"generate_joke\": \"[]\"}, \"stepwise\": false, \"events_buffer\": {}, \"accepted_events\": [[\"generate_joke\", \"StartEvent\"]], \"broker_log\": [], \"is_running\": false}}, \"qualified_name\": \"llama_index.core.workflow.checkpoint.Checkpoint\"}'], 'is_running': True}),\n",
       " Checkpoint(id_='97359cda-d6d3-4076-ab1e-854e77c5b419', last_completed_step='critique_joke', input_event=JokeEvent(joke=\"Why was the equal sign so humble?\\n\\nBecause he knew he wasn't less than or greater than anyone else.\"), output_event=StopEvent(result='Analysis:\\nThis joke plays on the mathematical concept of the equal sign, which is used to show that two quantities are the same. The humor comes from personifying the equal sign and attributing human emotions and characteristics to it. The joke relies on the double meaning of the word \"equal\" - not only in the mathematical sense but also in the sense of being humble and not thinking oneself better or worse than others.\\n\\nCritique:\\nThis joke is clever and plays on a common mathematical symbol in a humorous way. The punchline is unexpected and plays on the idea of humility, which adds an extra layer to the joke. However, the joke may not be immediately understood by everyone, especially those who are not familiar with mathematical symbols. Additionally, the humor may be considered somewhat niche and may not appeal to a wide audience. Overall, while the joke is clever and well-crafted, its niche appeal may limit its effectiveness in reaching a broader audience.'), ctx_state={'globals': {}, 'streaming_queue': '[]', 'queues': {'_done': '[]', 'critique_joke': '[]', 'generate_joke': '[]'}, 'stepwise': False, 'events_buffer': {}, 'accepted_events': [('generate_joke', 'StartEvent'), ('critique_joke', 'JokeEvent')], 'broker_log': ['{\"__is_pydantic\": true, \"value\": {\"id_\": \"ed3ba540-b174-4d97-add8-87fce11dba48\", \"last_completed_step\": null, \"input_event\": null, \"output_event\": {\"_data\": {\"topic\": \"math\"}}, \"ctx_state\": {\"globals\": {}, \"streaming_queue\": \"[]\", \"queues\": {\"_done\": \"[]\", \"critique_joke\": \"[]\", \"generate_joke\": \"[]\"}, \"stepwise\": false, \"events_buffer\": {}, \"accepted_events\": [[\"generate_joke\", \"StartEvent\"], [\"critique_joke\", \"JokeEvent\"]], \"broker_log\": [], \"is_running\": false}}, \"qualified_name\": \"llama_index.core.workflow.checkpoint.Checkpoint\"}', '{\"__is_pydantic\": true, \"value\": {\"id_\": \"d65bd3e1-38f6-44b1-90fe-d024cd14dead\", \"last_completed_step\": \"generate_joke\", \"input_event\": {\"_data\": {\"topic\": \"math\"}}, \"output_event\": {}, \"ctx_state\": {\"globals\": {}, \"streaming_queue\": \"[]\", \"queues\": {\"_done\": \"[]\", \"critique_joke\": \"[]\", \"generate_joke\": \"[]\"}, \"stepwise\": false, \"events_buffer\": {}, \"accepted_events\": [[\"generate_joke\", \"StartEvent\"], [\"critique_joke\", \"JokeEvent\"]], \"broker_log\": [\"{\\\\\"__is_pydantic\\\\\": true, \\\\\"value\\\\\": {\\\\\"id_\\\\\": \\\\\"ed3ba540-b174-4d97-add8-87fce11dba48\\\\\", \\\\\"last_completed_step\\\\\": null, \\\\\"input_event\\\\\": null, \\\\\"output_event\\\\\": {\\\\\"_data\\\\\": {\\\\\"topic\\\\\": \\\\\"math\\\\\"}}, \\\\\"ctx_state\\\\\": {\\\\\"globals\\\\\": {}, \\\\\"streaming_queue\\\\\": \\\\\"[]\\\\\", \\\\\"queues\\\\\": {\\\\\"_done\\\\\": \\\\\"[]\\\\\", \\\\\"critique_joke\\\\\": \\\\\"[]\\\\\", \\\\\"generate_joke\\\\\": \\\\\"[]\\\\\"}, \\\\\"stepwise\\\\\": false, \\\\\"events_buffer\\\\\": {}, \\\\\"accepted_events\\\\\": [[\\\\\"generate_joke\\\\\", \\\\\"StartEvent\\\\\"]], \\\\\"broker_log\\\\\": [], \\\\\"is_running\\\\\": false}}, \\\\\"qualified_name\\\\\": \\\\\"llama_index.core.workflow.checkpoint.Checkpoint\\\\\"}\"], \"is_running\": true}}, \"qualified_name\": \"llama_index.core.workflow.checkpoint.Checkpoint\"}'], 'is_running': True})]"
      ]
     },
     "execution_count": null,
     "metadata": {},
     "output_type": "execute_result"
    }
   ],
   "source": [
    "handler.ctx.checkpoints"
   ]
  },
  {
   "cell_type": "code",
   "execution_count": null,
   "metadata": {},
   "outputs": [
    {
     "data": {
      "text/plain": [
       "3"
      ]
     },
     "execution_count": null,
     "metadata": {},
     "output_type": "execute_result"
    }
   ],
   "source": [
    "len(handler.ctx.checkpoints)"
   ]
  },
  {
   "cell_type": "markdown",
   "metadata": {},
   "source": [
    "There are 3 stored checkpoints after this first run. The first of these checkpoints are created just before the emission of the `StartEvent`. This can be thought of as a \"startup\" step being completed which has a null input `Event` and whose output event is the `StartEvent`. The remaining two of these checkpoints are made at the completion of each of the two steps in this Workflow. "
   ]
  },
  {
   "cell_type": "markdown",
   "metadata": {},
   "source": [
    "### Filtering the Checkpoints"
   ]
  },
  {
   "cell_type": "markdown",
   "metadata": {},
   "source": [
    "Before showcasing how to filter through checkpoints, let's first make things a bit more interesting by executing the workflow a few more times. Here, we'll run the workflow for two more additional topics. Since each entire run will result in 3 stored checkpoints each, we should have a total of 9 checkpoints after executing the below cell. "
   ]
  },
  {
   "cell_type": "code",
   "execution_count": null,
   "metadata": {},
   "outputs": [
    {
     "data": {
      "text/plain": [
       "9"
      ]
     },
     "execution_count": null,
     "metadata": {},
     "output_type": "execute_result"
    }
   ],
   "source": [
    "additional_topics = [\"biology\", \"history\"]\n",
    "\n",
    "for topic in additional_topics:\n",
    "    handler = workflow.run(\n",
    "        ctx=ctx, topic=topic\n",
    "    )  # same Context that was used before\n",
    "    await handler\n",
    "\n",
    "len(handler.ctx.checkpoints)"
   ]
  },
  {
   "cell_type": "code",
   "execution_count": null,
   "metadata": {},
   "outputs": [
    {
     "data": {
      "text/plain": [
       "['Analysis:\\nThis joke plays on the mathematical concept of the equal sign, which is used to show that two quantities are the same. The humor comes from ',\n",
       " 'This joke plays on the double meaning of the word \"cell\" - in biology, a cell is the basic structural and functional unit of all living organisms, whi',\n",
       " 'Analysis:\\nThis joke plays on the double meaning of the word \"pupils,\" which can refer to both the students in a classroom and the black part of the ey']"
      ]
     },
     "execution_count": null,
     "metadata": {},
     "output_type": "execute_result"
    }
   ],
   "source": [
    "# Filter by output event StopEvent\n",
    "checkpoints_that_emit_stop_event = ctx.filter_checkpoints(\n",
    "    output_event_type=StopEvent\n",
    ")\n",
    "len(checkpoints_that_emit_stop_event)\n",
    "[ckpt.output_event.result[:150] for ckpt in checkpoints_that_emit_stop_event]"
   ]
  },
  {
   "cell_type": "code",
   "execution_count": null,
   "metadata": {},
   "outputs": [
    {
     "data": {
      "text/plain": [
       "[\"Why was the equal sign so humble?\\n\\nBecause he knew he wasn't less than or greater than anyone else.\",\n",
       " 'Why did the biologist break up with the mathematician?\\n\\nBecause they couldn\\'t find a common \"cell\"!',\n",
       " \"Why did the history teacher go to jail?\\n\\nBecause he couldn't control his pupils!\"]"
      ]
     },
     "execution_count": null,
     "metadata": {},
     "output_type": "execute_result"
    }
   ],
   "source": [
    "# Filter by the name of last completed step\n",
    "checkpoints_right_after_generate_joke_step = ctx.filter_checkpoints(\n",
    "    last_completed_step=\"generate_joke\"\n",
    ")\n",
    "len(checkpoints_right_after_generate_joke_step)\n",
    "[\n",
    "    ckpt.output_event.joke[:150]\n",
    "    for ckpt in checkpoints_right_after_generate_joke_step\n",
    "]"
   ]
  },
  {
   "cell_type": "markdown",
   "metadata": {},
   "source": [
    "### Re-Run Workflow from a specific checkpoint"
   ]
  },
  {
   "cell_type": "code",
   "execution_count": null,
   "metadata": {},
   "outputs": [
    {
     "data": {
      "text/plain": [
       "'This joke plays on the double meaning of the word \"cell\" - in biology, a cell is the basic structural and functional unit of all living organisms, while in mathematics, a cell can refer to a unit in a grid or matrix. The joke implies that the biologist and mathematician couldn\\'t find a common ground or connection because they were using the word \"cell\" in different contexts.\\n\\nOverall, the joke is clever and plays on the different disciplines of biology and mathematics. It relies on a pun to create humor, which can be effective in engaging the audience. However, some may find the joke to be a bit simplistic or predictable, as it follows a common formula of setting up a scenario with two different types of people and revealing a pun as the punchline.\\n\\nIn terms of critique, the joke could be seen as reinforcing stereotypes about the differences between scientists and mathematicians. It may also be considered niche humor, as it requires a basic understanding of biology and mathematics to fully appreciate the joke. Additionally, some may find the joke to be a bit corny or cheesy.\\n\\nOverall, while the joke is clever and plays on wordplay effectively, it may not be to everyone\\'s taste and could be seen as somewhat predictable or stereotypical.'"
      ]
     },
     "execution_count": null,
     "metadata": {},
     "output_type": "execute_result"
    }
   ],
   "source": [
    "ckpt = checkpoints_right_after_generate_joke_step[1]\n",
    "handler = workflow.run_from(checkpoint=ckpt, ctx=ctx)\n",
    "await handler"
   ]
  },
  {
   "cell_type": "markdown",
   "metadata": {},
   "source": [
    "Since we've executed from the checkpoint that represents the end of \"generate_joke\" step, there is only one additional checkpoint that gets stored i.e., the one that is stored after the completion of the next step, namely \"critique_joke\"."
   ]
  },
  {
   "cell_type": "code",
   "execution_count": null,
   "metadata": {},
   "outputs": [
    {
     "data": {
      "text/plain": [
       "10"
      ]
     },
     "execution_count": null,
     "metadata": {},
     "output_type": "execute_result"
    }
   ],
   "source": [
    "len(ctx.checkpoints)"
   ]
  }
 ],
 "metadata": {
  "kernelspec": {
   "display_name": "llama-index-core",
   "language": "python",
   "name": "llama-index-core"
  },
  "language_info": {
   "codemirror_mode": {
    "name": "ipython",
    "version": 3
   },
   "file_extension": ".py",
   "mimetype": "text/x-python",
   "name": "python",
   "nbconvert_exporter": "python",
   "pygments_lexer": "ipython3"
  }
 },
 "nbformat": 4,
 "nbformat_minor": 4
}
