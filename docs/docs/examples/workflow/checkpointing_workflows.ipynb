{
 "cells": [
  {
   "cell_type": "markdown",
   "metadata": {},
   "source": [
    "# Checkpointing Workflow Runs"
   ]
  },
  {
   "cell_type": "markdown",
   "metadata": {},
   "source": [
    "A `Checkpoint` is a snapshot taken during a `Workflow` run that can be inspected and also be used as a starting point in future `Workflow` runs. These checkpoints can become quite helpful when debugging a `Workflow`. For example, if your `Workflow` has many steps and you want to test out the later steps (likely after making some modifications to them), you can save a lot of time by running from the appropriate `Checkpoint` to skip the execution of those earlier steps.\n",
    "\n",
    "What get's stored in a `Checkpoint`?\n",
    "\n",
    "- `Checkpoint` objects are centered around the last completed step of the workflow run. They contain the name of the last completed step, that step's input event as well as it's output event, and finally a snapshot of the run's `Context`.\n",
    "\n",
    "When do `Checkpoint`'s happen?\n",
    "\n",
    "- When enabled, `Checkpoints` are automatically created and stored in the `Workflow.checkpoints` attribute after every completed step of the `Workflow`.\n",
    "\n",
    "In the rest of this notebook, we demonstrate:\n",
    "\n",
    "1. How to enable checkpoints\n",
    "2. Filter the stored checkpoints, and\n",
    "3. Finally run from a chosen checkpoint"
   ]
  },
  {
   "cell_type": "markdown",
   "metadata": {},
   "source": [
    "## Define a Workflow"
   ]
  },
  {
   "cell_type": "code",
   "execution_count": null,
   "metadata": {},
   "outputs": [],
   "source": [
    "import os\n",
    "\n",
    "api_key = os.environ.get(\"OPENAI_API_KEY\")"
   ]
  },
  {
   "cell_type": "code",
   "execution_count": null,
   "metadata": {},
   "outputs": [],
   "source": [
    "from llama_index.core.workflow import (\n",
    "    Workflow,\n",
    "    step,\n",
    "    StartEvent,\n",
    "    StopEvent,\n",
    "    Event,\n",
    "    Context,\n",
    ")\n",
    "from llama_index.llms.openai import OpenAI\n",
    "\n",
    "\n",
    "class JokeEvent(Event):\n",
    "    joke: str\n",
    "\n",
    "\n",
    "class JokeFlow(Workflow):\n",
    "    llm = OpenAI(api_key=api_key)\n",
    "\n",
    "    @step\n",
    "    async def generate_joke(self, ev: StartEvent) -> JokeEvent:\n",
    "        topic = ev.topic\n",
    "\n",
    "        prompt = f\"Write your best joke about {topic}.\"\n",
    "        response = await self.llm.acomplete(prompt)\n",
    "        return JokeEvent(joke=str(response))\n",
    "\n",
    "    @step\n",
    "    async def critique_joke(self, ev: JokeEvent) -> StopEvent:\n",
    "        joke = ev.joke\n",
    "\n",
    "        prompt = f\"Give a thorough analysis and critique of the following joke: {joke}\"\n",
    "        response = await self.llm.acomplete(prompt)\n",
    "        return StopEvent(result=str(response))"
   ]
  },
  {
   "cell_type": "markdown",
   "metadata": {},
   "source": [
    "### Running With Checkpointing Disabled (Default)"
   ]
  },
  {
   "cell_type": "markdown",
   "metadata": {},
   "source": [
    "By default, automatic checkpointing is disabled. However, this can be enabled for any run via the `store_checkpoints` parameter."
   ]
  },
  {
   "cell_type": "code",
   "execution_count": null,
   "metadata": {},
   "outputs": [],
   "source": [
    "from llama_index.core.workflow.checkpointer import WorkflowCheckpointer"
   ]
  },
  {
   "cell_type": "code",
   "execution_count": null,
   "metadata": {},
   "outputs": [],
   "source": [
    "# instantiate Jokeflow\n",
    "workflow = JokeFlow()\n",
    "wflow_ckptr = WorkflowCheckpointer(workflow=workflow)"
   ]
  },
  {
   "cell_type": "code",
   "execution_count": null,
   "metadata": {},
   "outputs": [
    {
     "data": {
      "text/plain": [
       "'This joke plays on the double meaning of the word \"nitrates,\" which can refer to both a chemical compound and a form of payment for services rendered. The humor lies in the unexpected twist of associating a scientific term with a financial concept.\\n\\nOne strength of this joke is its clever wordplay and the unexpected connection between chemistry and economics. It requires the listener to make a mental leap between two seemingly unrelated concepts, which can make the punchline more satisfying.\\n\\nHowever, one potential weakness of this joke is that it relies heavily on a specific knowledge of chemistry and may not be easily understood by those who are not familiar with the subject. Additionally, the humor may be considered somewhat niche and may not appeal to a broad audience.\\n\\nOverall, while this joke may be appreciated by those with a background in chemistry, its limited appeal and reliance on niche knowledge may limit its effectiveness as a joke for a general audience.'"
      ]
     },
     "execution_count": null,
     "metadata": {},
     "output_type": "execute_result"
    }
   ],
   "source": [
    "handler = wflow_ckptr.run(\n",
    "    topic=\"chemistry\",\n",
    "    store_checkpoints=False,\n",
    ")\n",
    "await handler"
   ]
  },
  {
   "cell_type": "code",
   "execution_count": null,
   "metadata": {},
   "outputs": [
    {
     "data": {
      "text/plain": [
       "{'27598cfb-fccf-4ef1-98bc-1efadcc062c8': [Checkpoint(id_='840b57c3-a291-455f-9ddd-0edbb0f1bb15', last_completed_step='generate_joke', input_event=StartEvent(), output_event=JokeEvent(joke=\"Why do chemists like nitrates so much?\\n\\nBecause they're cheaper than day rates!\"), ctx_state={'globals': {}, 'streaming_queue': '[]', 'queues': {'_done': '[]', 'critique_joke': '[]', 'generate_joke': '[]'}, 'stepwise': False, 'events_buffer': {}, 'accepted_events': [('generate_joke', 'StartEvent'), ('critique_joke', 'JokeEvent')], 'broker_log': ['{\"__is_pydantic\": true, \"value\": {\"_data\": {\"topic\": \"chemistry\", \"store_checkpoints\": false}}, \"qualified_name\": \"llama_index.core.workflow.events.StartEvent\"}'], 'is_running': True}),\n",
       "  Checkpoint(id_='c0283a8e-c7b2-4989-aeef-c8d4a957cf3e', last_completed_step='critique_joke', input_event=JokeEvent(joke=\"Why do chemists like nitrates so much?\\n\\nBecause they're cheaper than day rates!\"), output_event=StopEvent(result='This joke plays on the double meaning of the word \"nitrates,\" which can refer to both a chemical compound and a form of payment for services rendered. The humor lies in the unexpected twist of associating a scientific term with a financial concept.\\n\\nOne strength of this joke is its clever wordplay and the unexpected connection between chemistry and economics. It requires the listener to make a mental leap between two seemingly unrelated concepts, which can make the punchline more satisfying.\\n\\nHowever, one potential weakness of this joke is that it relies heavily on a specific knowledge of chemistry and may not be easily understood by those who are not familiar with the subject. Additionally, the humor may be considered somewhat niche and may not appeal to a broad audience.\\n\\nOverall, while this joke may be appreciated by those with a background in chemistry, its limited appeal and reliance on niche knowledge may limit its effectiveness as a joke for a general audience.'), ctx_state={'globals': {}, 'streaming_queue': '[]', 'queues': {'_done': '[]', 'critique_joke': '[]', 'generate_joke': '[]'}, 'stepwise': False, 'events_buffer': {}, 'accepted_events': [('generate_joke', 'StartEvent'), ('critique_joke', 'JokeEvent')], 'broker_log': ['{\"__is_pydantic\": true, \"value\": {\"_data\": {\"topic\": \"chemistry\", \"store_checkpoints\": false}}, \"qualified_name\": \"llama_index.core.workflow.events.StartEvent\"}', '{\"__is_pydantic\": true, \"value\": {\"joke\": \"Why do chemists like nitrates so much?\\\\n\\\\nBecause they\\'re cheaper than day rates!\"}, \"qualified_name\": \"__main__.JokeEvent\"}'], 'is_running': True})]}"
      ]
     },
     "execution_count": null,
     "metadata": {},
     "output_type": "execute_result"
    }
   ],
   "source": [
    "wflow_ckptr.checkpoints"
   ]
  },
  {
   "cell_type": "markdown",
   "metadata": {},
   "source": [
    "As we can see there are no entries in our `Workflow.checkpoints` attribute."
   ]
  },
  {
   "cell_type": "markdown",
   "metadata": {},
   "source": [
    "### Running the Workflow With Checkpointing Enabled"
   ]
  },
  {
   "cell_type": "code",
   "execution_count": null,
   "metadata": {},
   "outputs": [
    {
     "data": {
      "text/plain": [
       "'Analysis:\\nThis joke plays on the mathematical concept of the equal sign, which is used to show that two quantities are the same. The humor comes from personifying the equal sign and attributing human emotions and characteristics to it. By saying that the equal sign is humble because it knows it is not less than or greater than anyone else, the joke cleverly ties in the mathematical meaning of equality with the idea of humility.\\n\\nCritique:\\nOverall, this joke is clever and well-crafted. It effectively combines a mathematical concept with a play on words to create humor. The punchline is unexpected and plays on the double meaning of \"less than\" and \"greater than\" in both a mathematical and a personal sense. However, some may find the joke to be a bit too niche or intellectual, as it relies on a basic understanding of math to fully appreciate the humor. Additionally, the joke may not be as universally relatable as other types of humor, as not everyone may find math jokes funny. Overall, though, this joke is a solid example of wordplay and clever humor.'"
      ]
     },
     "execution_count": null,
     "metadata": {},
     "output_type": "execute_result"
    }
   ],
   "source": [
    "# run the workflow again, but this time with checkpointing enabled\n",
    "handler = wflow_ckptr.run(topic=\"math\", store_checkpoints=True)\n",
    "await handler"
   ]
  },
  {
   "cell_type": "code",
   "execution_count": null,
   "metadata": {},
   "outputs": [
    {
     "data": {
      "text/plain": [
       "{'27598cfb-fccf-4ef1-98bc-1efadcc062c8': [Checkpoint(id_='840b57c3-a291-455f-9ddd-0edbb0f1bb15', last_completed_step='generate_joke', input_event=StartEvent(), output_event=JokeEvent(joke=\"Why do chemists like nitrates so much?\\n\\nBecause they're cheaper than day rates!\"), ctx_state={'globals': {}, 'streaming_queue': '[]', 'queues': {'_done': '[]', 'critique_joke': '[]', 'generate_joke': '[]'}, 'stepwise': False, 'events_buffer': {}, 'accepted_events': [('generate_joke', 'StartEvent'), ('critique_joke', 'JokeEvent')], 'broker_log': ['{\"__is_pydantic\": true, \"value\": {\"_data\": {\"topic\": \"chemistry\", \"store_checkpoints\": false}}, \"qualified_name\": \"llama_index.core.workflow.events.StartEvent\"}'], 'is_running': True}),\n",
       "  Checkpoint(id_='c0283a8e-c7b2-4989-aeef-c8d4a957cf3e', last_completed_step='critique_joke', input_event=JokeEvent(joke=\"Why do chemists like nitrates so much?\\n\\nBecause they're cheaper than day rates!\"), output_event=StopEvent(result='This joke plays on the double meaning of the word \"nitrates,\" which can refer to both a chemical compound and a form of payment for services rendered. The humor lies in the unexpected twist of associating a scientific term with a financial concept.\\n\\nOne strength of this joke is its clever wordplay and the unexpected connection between chemistry and economics. It requires the listener to make a mental leap between two seemingly unrelated concepts, which can make the punchline more satisfying.\\n\\nHowever, one potential weakness of this joke is that it relies heavily on a specific knowledge of chemistry and may not be easily understood by those who are not familiar with the subject. Additionally, the humor may be considered somewhat niche and may not appeal to a broad audience.\\n\\nOverall, while this joke may be appreciated by those with a background in chemistry, its limited appeal and reliance on niche knowledge may limit its effectiveness as a joke for a general audience.'), ctx_state={'globals': {}, 'streaming_queue': '[]', 'queues': {'_done': '[]', 'critique_joke': '[]', 'generate_joke': '[]'}, 'stepwise': False, 'events_buffer': {}, 'accepted_events': [('generate_joke', 'StartEvent'), ('critique_joke', 'JokeEvent')], 'broker_log': ['{\"__is_pydantic\": true, \"value\": {\"_data\": {\"topic\": \"chemistry\", \"store_checkpoints\": false}}, \"qualified_name\": \"llama_index.core.workflow.events.StartEvent\"}', '{\"__is_pydantic\": true, \"value\": {\"joke\": \"Why do chemists like nitrates so much?\\\\n\\\\nBecause they\\'re cheaper than day rates!\"}, \"qualified_name\": \"__main__.JokeEvent\"}'], 'is_running': True})],\n",
       " 'df3781d7-824a-48a4-8c07-56c8600a0c6b': [Checkpoint(id_='1cbfd7b5-9b70-4963-be84-e4387eab4ada', last_completed_step='generate_joke', input_event=StartEvent(), output_event=JokeEvent(joke=\"Why was the equal sign so humble?\\n\\nBecause he knew he wasn't less than or greater than anyone else.\"), ctx_state={'globals': {}, 'streaming_queue': '[]', 'queues': {'_done': '[]', 'critique_joke': '[]', 'generate_joke': '[]'}, 'stepwise': False, 'events_buffer': {}, 'accepted_events': [('generate_joke', 'StartEvent'), ('critique_joke', 'JokeEvent')], 'broker_log': ['{\"__is_pydantic\": true, \"value\": {\"_data\": {\"topic\": \"math\", \"store_checkpoints\": true}}, \"qualified_name\": \"llama_index.core.workflow.events.StartEvent\"}'], 'is_running': True}),\n",
       "  Checkpoint(id_='7ff1f6fd-f20f-4c21-b5d4-507e30e4b9a1', last_completed_step='critique_joke', input_event=JokeEvent(joke=\"Why was the equal sign so humble?\\n\\nBecause he knew he wasn't less than or greater than anyone else.\"), output_event=StopEvent(result='Analysis:\\nThis joke plays on the mathematical concept of the equal sign, which is used to show that two quantities are the same. The humor comes from personifying the equal sign and attributing human emotions and characteristics to it. By saying that the equal sign is humble because it knows it is not less than or greater than anyone else, the joke cleverly ties in the mathematical meaning of equality with the idea of humility.\\n\\nCritique:\\nOverall, this joke is clever and well-crafted. It effectively combines a mathematical concept with a play on words to create humor. The punchline is unexpected and plays on the double meaning of \"less than\" and \"greater than\" in both a mathematical and a personal sense. However, some may find the joke to be a bit too niche or intellectual, as it relies on a basic understanding of math to fully appreciate the humor. Additionally, the joke may not be as universally relatable as other types of humor, as not everyone may find math jokes funny. Overall, though, this joke is a solid example of wordplay and clever humor.'), ctx_state={'globals': {}, 'streaming_queue': '[]', 'queues': {'_done': '[]', 'critique_joke': '[]', 'generate_joke': '[]'}, 'stepwise': False, 'events_buffer': {}, 'accepted_events': [('generate_joke', 'StartEvent'), ('critique_joke', 'JokeEvent')], 'broker_log': ['{\"__is_pydantic\": true, \"value\": {\"_data\": {\"topic\": \"math\", \"store_checkpoints\": true}}, \"qualified_name\": \"llama_index.core.workflow.events.StartEvent\"}', '{\"__is_pydantic\": true, \"value\": {\"joke\": \"Why was the equal sign so humble?\\\\n\\\\nBecause he knew he wasn\\'t less than or greater than anyone else.\"}, \"qualified_name\": \"__main__.JokeEvent\"}'], 'is_running': True})]}"
      ]
     },
     "execution_count": null,
     "metadata": {},
     "output_type": "execute_result"
    }
   ],
   "source": [
    "wflow_ckptr.checkpoints"
   ]
  },
  {
   "cell_type": "markdown",
   "metadata": {},
   "source": [
    "After enabling checkpointing with specifying `store_checkpoints=True` in the `run()` call, we see that there is a new entry within the `checkpoints` dict. Checkpoints are organized by `run_id`'s and each invocation of a `run()` or `run_from()` (demo'ed later in this notebook) kicks off a new run with it's unique `run_id`.\n",
    "\n",
    "We can see here that there are 3 stored checkpoints after this first run. The first of these checkpoints are created just before the emission of the `StartEvent`. This can be thought of there being a fictitious \"startup\" step that is completed (and thus checkpointed), which contains a null input `Event` and whose output event is the `StartEvent`. The remaining two of these checkpoints are made at the completion of each of the two steps—`generate_joke` and `critique_joke`—in this Workflow. "
   ]
  },
  {
   "cell_type": "code",
   "execution_count": null,
   "metadata": {},
   "outputs": [
    {
     "name": "stdout",
     "output_type": "stream",
     "text": [
      "Run: 27598cfb-fccf-4ef1-98bc-1efadcc062c8 has 2 stored checkpoints\n",
      "Run: df3781d7-824a-48a4-8c07-56c8600a0c6b has 2 stored checkpoints\n"
     ]
    }
   ],
   "source": [
    "for run_id, ckpts in wflow_ckptr.checkpoints.items():\n",
    "    print(f\"Run: {run_id} has {len(ckpts)} stored checkpoints\")"
   ]
  },
  {
   "cell_type": "markdown",
   "metadata": {},
   "source": [
    "### Filtering the Checkpoints"
   ]
  },
  {
   "cell_type": "markdown",
   "metadata": {},
   "source": [
    "With checkpointing enabled, every run of a `Workflow`, will create a new entry in the `Workflow.checkpoints` dict attribute. To assist in navigating through these store checkpoints, we provide the `Workflow.filter_checkpoints()` method.\n",
    "\n",
    "Before showcasing how to filter through checkpoints using this method, let's first make things a bit more interesting by executing the workflow a few more times. Here, we'll run the workflow for two more additional topics. Since each entire run will result in 3 stored checkpoints each, we should have a total of 9 checkpoints after executing the below cell. "
   ]
  },
  {
   "cell_type": "code",
   "execution_count": null,
   "metadata": {},
   "outputs": [],
   "source": [
    "additional_topics = [\"biology\", \"history\"]\n",
    "\n",
    "for topic in additional_topics:\n",
    "    handler = wflow_ckptr.run(topic=topic)\n",
    "    await handler"
   ]
  },
  {
   "cell_type": "code",
   "execution_count": null,
   "metadata": {},
   "outputs": [
    {
     "name": "stdout",
     "output_type": "stream",
     "text": [
      "Run: 27598cfb-fccf-4ef1-98bc-1efadcc062c8 has 2 stored checkpoints\n",
      "Run: df3781d7-824a-48a4-8c07-56c8600a0c6b has 2 stored checkpoints\n",
      "Run: 7f099be8-6ed4-4ef0-92c4-4bc0daa93afb has 2 stored checkpoints\n",
      "Run: 5099b0b0-0135-4579-9736-2b8f2fd324cc has 2 stored checkpoints\n"
     ]
    }
   ],
   "source": [
    "for run_id, ckpts in wflow_ckptr.checkpoints.items():\n",
    "    print(f\"Run: {run_id} has {len(ckpts)} stored checkpoints\")"
   ]
  },
  {
   "cell_type": "markdown",
   "metadata": {},
   "source": [
    "At this point, we can filter by:\n",
    "\n",
    "- The name of the last completed step by speciying the param `last_completed_step`\n",
    "- The event type of the last completed step's output event by specifying `output_event_type`\n",
    "- Similarly, the event type of the last completed step's input event by specifying `input_event_type`\n",
    "\n",
    "Specifying multiple of these filters will be combined by the \"AND\" operator."
   ]
  },
  {
   "cell_type": "code",
   "execution_count": null,
   "metadata": {},
   "outputs": [
    {
     "data": {
      "text/plain": [
       "[Checkpoint(id_='1cbfd7b5-9b70-4963-be84-e4387eab4ada', last_completed_step='generate_joke', input_event=StartEvent(), output_event=JokeEvent(joke=\"Why was the equal sign so humble?\\n\\nBecause he knew he wasn't less than or greater than anyone else.\"), ctx_state={'globals': {}, 'streaming_queue': '[]', 'queues': {'_done': '[]', 'critique_joke': '[]', 'generate_joke': '[]'}, 'stepwise': False, 'events_buffer': {}, 'accepted_events': [('generate_joke', 'StartEvent'), ('critique_joke', 'JokeEvent')], 'broker_log': ['{\"__is_pydantic\": true, \"value\": {\"_data\": {\"topic\": \"math\", \"store_checkpoints\": true}}, \"qualified_name\": \"llama_index.core.workflow.events.StartEvent\"}'], 'is_running': True})]"
      ]
     },
     "execution_count": null,
     "metadata": {},
     "output_type": "execute_result"
    }
   ],
   "source": [
    "# Filter by the name of last completed step\n",
    "checkpoints_right_after_generate_joke_step = wflow_ckptr.filter_checkpoints(\n",
    "    last_completed_step=\"generate_joke\",\n",
    "    run_id=list(wflow_ckptr.checkpoints.keys())[1],\n",
    ")\n",
    "\n",
    "# checkpoint ids\n",
    "[ckpt for ckpt in checkpoints_right_after_generate_joke_step]"
   ]
  },
  {
   "cell_type": "code",
   "execution_count": null,
   "metadata": {},
   "outputs": [
    {
     "data": {
      "text/plain": [
       "[Checkpoint(id_='c0283a8e-c7b2-4989-aeef-c8d4a957cf3e', last_completed_step='critique_joke', input_event=JokeEvent(joke=\"Why do chemists like nitrates so much?\\n\\nBecause they're cheaper than day rates!\"), output_event=StopEvent(result='This joke plays on the double meaning of the word \"nitrates,\" which can refer to both a chemical compound and a form of payment for services rendered. The humor lies in the unexpected twist of associating a scientific term with a financial concept.\\n\\nOne strength of this joke is its clever wordplay and the unexpected connection between chemistry and economics. It requires the listener to make a mental leap between two seemingly unrelated concepts, which can make the punchline more satisfying.\\n\\nHowever, one potential weakness of this joke is that it relies heavily on a specific knowledge of chemistry and may not be easily understood by those who are not familiar with the subject. Additionally, the humor may be considered somewhat niche and may not appeal to a broad audience.\\n\\nOverall, while this joke may be appreciated by those with a background in chemistry, its limited appeal and reliance on niche knowledge may limit its effectiveness as a joke for a general audience.'), ctx_state={'globals': {}, 'streaming_queue': '[]', 'queues': {'_done': '[]', 'critique_joke': '[]', 'generate_joke': '[]'}, 'stepwise': False, 'events_buffer': {}, 'accepted_events': [('generate_joke', 'StartEvent'), ('critique_joke', 'JokeEvent')], 'broker_log': ['{\"__is_pydantic\": true, \"value\": {\"_data\": {\"topic\": \"chemistry\", \"store_checkpoints\": false}}, \"qualified_name\": \"llama_index.core.workflow.events.StartEvent\"}', '{\"__is_pydantic\": true, \"value\": {\"joke\": \"Why do chemists like nitrates so much?\\\\n\\\\nBecause they\\'re cheaper than day rates!\"}, \"qualified_name\": \"__main__.JokeEvent\"}'], 'is_running': True}),\n",
       " Checkpoint(id_='7ff1f6fd-f20f-4c21-b5d4-507e30e4b9a1', last_completed_step='critique_joke', input_event=JokeEvent(joke=\"Why was the equal sign so humble?\\n\\nBecause he knew he wasn't less than or greater than anyone else.\"), output_event=StopEvent(result='Analysis:\\nThis joke plays on the mathematical concept of the equal sign, which is used to show that two quantities are the same. The humor comes from personifying the equal sign and attributing human emotions and characteristics to it. By saying that the equal sign is humble because it knows it is not less than or greater than anyone else, the joke cleverly ties in the mathematical meaning of equality with the idea of humility.\\n\\nCritique:\\nOverall, this joke is clever and well-crafted. It effectively combines a mathematical concept with a play on words to create humor. The punchline is unexpected and plays on the double meaning of \"less than\" and \"greater than\" in both a mathematical and a personal sense. However, some may find the joke to be a bit too niche or intellectual, as it relies on a basic understanding of math to fully appreciate the humor. Additionally, the joke may not be as universally relatable as other types of humor, as not everyone may find math jokes funny. Overall, though, this joke is a solid example of wordplay and clever humor.'), ctx_state={'globals': {}, 'streaming_queue': '[]', 'queues': {'_done': '[]', 'critique_joke': '[]', 'generate_joke': '[]'}, 'stepwise': False, 'events_buffer': {}, 'accepted_events': [('generate_joke', 'StartEvent'), ('critique_joke', 'JokeEvent')], 'broker_log': ['{\"__is_pydantic\": true, \"value\": {\"_data\": {\"topic\": \"math\", \"store_checkpoints\": true}}, \"qualified_name\": \"llama_index.core.workflow.events.StartEvent\"}', '{\"__is_pydantic\": true, \"value\": {\"joke\": \"Why was the equal sign so humble?\\\\n\\\\nBecause he knew he wasn\\'t less than or greater than anyone else.\"}, \"qualified_name\": \"__main__.JokeEvent\"}'], 'is_running': True}),\n",
       " Checkpoint(id_='c5d8b5f7-1f65-40af-af18-21e62430a21c', last_completed_step='critique_joke', input_event=JokeEvent(joke=\"Why did the biologist break up with the mathematician? \\nBecause they couldn't find a common denominator!\"), output_event=StopEvent(result='This joke plays on the common stereotype that biologists and mathematicians have different ways of thinking and approaching problems. Biologists typically deal with living organisms and systems, while mathematicians work with numbers and abstract concepts. The punchline of the joke, \"they couldn\\'t find a common denominator,\" is a play on words, as \"common denominator\" is a mathematical term used to find a common factor between two or more numbers.\\n\\nOverall, the joke is clever and humorous, as it combines elements of both biology and mathematics in a light-hearted way. It also highlights the idea that people from different fields may have difficulty understanding each other\\'s perspectives and finding common ground.\\n\\nHowever, some may find the joke to be a bit simplistic and reliant on stereotypes about scientists and academics. It also perpetuates the idea that people from different disciplines cannot have successful relationships or collaborations, which may not always be true in reality.\\n\\nIn conclusion, while the joke is amusing and plays on the differences between biologists and mathematicians, it may also reinforce stereotypes and oversimplify the complexities of interdisciplinary relationships.'), ctx_state={'globals': {}, 'streaming_queue': '[]', 'queues': {'_done': '[]', 'critique_joke': '[]', 'generate_joke': '[]'}, 'stepwise': False, 'events_buffer': {}, 'accepted_events': [('generate_joke', 'StartEvent'), ('critique_joke', 'JokeEvent')], 'broker_log': ['{\"__is_pydantic\": true, \"value\": {\"_data\": {\"topic\": \"biology\"}}, \"qualified_name\": \"llama_index.core.workflow.events.StartEvent\"}', '{\"__is_pydantic\": true, \"value\": {\"joke\": \"Why did the biologist break up with the mathematician? \\\\nBecause they couldn\\'t find a common denominator!\"}, \"qualified_name\": \"__main__.JokeEvent\"}'], 'is_running': True}),\n",
       " Checkpoint(id_='2844224e-4c7d-4973-b59b-fc27f2cc96bb', last_completed_step='critique_joke', input_event=JokeEvent(joke=\"Why did the history teacher go to jail?\\n\\nBecause he couldn't control his pupils!\"), output_event=StopEvent(result='Analysis:\\nThis joke plays on the double meaning of the word \"pupils,\" which can refer to both the students in a classroom and the black part of the eye that regulates the amount of light entering. The humor comes from the unexpected twist in the punchline, where the assumption that the teacher is being punished for something related to his students is subverted by the revelation that it is actually his inability to control his own eyes that landed him in jail.\\n\\nCritique:\\nOverall, this joke is clever and plays with language in a creative way. The use of a pun adds an element of surprise and humor to the punchline. However, some may find the joke to be a bit corny or predictable, as puns are a common form of humor. Additionally, the joke relies on a somewhat stereotypical portrayal of history teachers as strict and disciplinarian, which may not resonate with everyone. Overall, while the joke is amusing, it may not be considered particularly original or groundbreaking in terms of comedy.'), ctx_state={'globals': {}, 'streaming_queue': '[]', 'queues': {'_done': '[]', 'critique_joke': '[]', 'generate_joke': '[]'}, 'stepwise': False, 'events_buffer': {}, 'accepted_events': [('generate_joke', 'StartEvent'), ('critique_joke', 'JokeEvent')], 'broker_log': ['{\"__is_pydantic\": true, \"value\": {\"_data\": {\"topic\": \"history\"}}, \"qualified_name\": \"llama_index.core.workflow.events.StartEvent\"}', '{\"__is_pydantic\": true, \"value\": {\"joke\": \"Why did the history teacher go to jail?\\\\n\\\\nBecause he couldn\\'t control his pupils!\"}, \"qualified_name\": \"__main__.JokeEvent\"}'], 'is_running': True})]"
      ]
     },
     "execution_count": null,
     "metadata": {},
     "output_type": "execute_result"
    }
   ],
   "source": [
    "# Filter by output event StopEvent\n",
    "checkpoints_that_emit_stop_event = wflow_ckptr.filter_checkpoints(\n",
    "    output_event_type=StopEvent\n",
    ")\n",
    "\n",
    "# checkpoint ids\n",
    "[ckpt for ckpt in checkpoints_that_emit_stop_event]"
   ]
  },
  {
   "cell_type": "markdown",
   "metadata": {},
   "source": [
    "### Re-Run Workflow from a specific checkpoint"
   ]
  },
  {
   "cell_type": "markdown",
   "metadata": {},
   "source": [
    "To run from a chosen `Checkpoint` we can use the `Workflow.run_from()` method. NOTE that doing so will lead to a new `run` and it's checkpoints if enabled will be stored under the newly assigned `run_id`."
   ]
  },
  {
   "cell_type": "code",
   "execution_count": null,
   "metadata": {},
   "outputs": [],
   "source": [
    "# can work with a new instance\n",
    "new_workflow_instance = JokeFlow()\n",
    "wflow_ckptr.workflow = new_workflow_instance\n",
    "\n",
    "ckpt = checkpoints_right_after_generate_joke_step[0]\n",
    "num_runs_from_checkpoint = 2  # to make things interesting\n",
    "\n",
    "for _ in range(num_runs_from_checkpoint):\n",
    "    handler = wflow_ckptr.run_from(checkpoint=ckpt)\n",
    "    await handler"
   ]
  },
  {
   "cell_type": "code",
   "execution_count": null,
   "metadata": {},
   "outputs": [
    {
     "name": "stdout",
     "output_type": "stream",
     "text": [
      "Run: 27598cfb-fccf-4ef1-98bc-1efadcc062c8 has 2 stored checkpoints\n",
      "Run: df3781d7-824a-48a4-8c07-56c8600a0c6b has 2 stored checkpoints\n",
      "Run: 7f099be8-6ed4-4ef0-92c4-4bc0daa93afb has 2 stored checkpoints\n",
      "Run: 5099b0b0-0135-4579-9736-2b8f2fd324cc has 2 stored checkpoints\n",
      "Run: 1db86c39-e6a5-4bac-9adb-e7831088f27e has 1 stored checkpoints\n",
      "Run: f34d0c19-9f44-46b4-8445-1826aa241d06 has 1 stored checkpoints\n"
     ]
    }
   ],
   "source": [
    "for run_id, ckpts in wflow_ckptr.checkpoints.items():\n",
    "    print(f\"Run: {run_id} has {len(ckpts)} stored checkpoints\")"
   ]
  },
  {
   "cell_type": "markdown",
   "metadata": {},
   "source": [
    "Since we've executed from the checkpoint that represents the end of \"generate_joke\" step, there is only one additional checkpoint that gets stored in these \"partial\" runs."
   ]
  },
  {
   "cell_type": "markdown",
   "metadata": {},
   "source": [
    "### Disabling Checkpoints"
   ]
  },
  {
   "cell_type": "code",
   "execution_count": null,
   "metadata": {},
   "outputs": [
    {
     "data": {
      "text/plain": [
       "{'critique_joke': True, 'generate_joke': True}"
      ]
     },
     "execution_count": null,
     "metadata": {},
     "output_type": "execute_result"
    }
   ],
   "source": [
    "wflow_ckptr.checkpoints_config"
   ]
  },
  {
   "cell_type": "code",
   "execution_count": null,
   "metadata": {},
   "outputs": [
    {
     "data": {
      "text/plain": [
       "{'critique_joke': False}"
      ]
     },
     "execution_count": null,
     "metadata": {},
     "output_type": "execute_result"
    }
   ],
   "source": [
    "wflow_ckptr.disable_checkpoint(\"critique_joke\")"
   ]
  },
  {
   "cell_type": "code",
   "execution_count": null,
   "metadata": {},
   "outputs": [
    {
     "data": {
      "text/plain": [
       "'Analysis:\\nThis joke plays on the double meaning of the phrase \"brush strokes.\" In art, brush strokes refer to the marks made by a paintbrush on a canvas, while in a psychological context, \"strokes\" can refer to positive reinforcement or approval. The joke suggests that the artist went to therapy because they had too many brush strokes, implying that they were seeking validation or approval for their work.\\n\\nCritique:\\n- Clever wordplay: The joke is clever in its use of the double meaning of \"brush strokes\" to create humor. It requires the listener to make a connection between the two meanings, which can be satisfying for those who appreciate wordplay.\\n- Relatable: The joke may resonate with artists or anyone familiar with the creative process, as seeking validation for one\\'s work is a common experience.\\n- Lack of depth: While the joke is clever, it may be seen as somewhat shallow or predictable. The punchline is fairly straightforward and doesn\\'t offer much in terms of complexity or depth.\\n- Limited audience: The joke\\'s humor may be lost on those who are not familiar with art terminology or the concept of seeking validation for creative work. This could limit its appeal to a more niche audience.\\n\\nOverall, the joke is a light-hearted play on words that may appeal to those with an interest in art or creativity. While it may not be the most sophisticated or nuanced joke, it succeeds in eliciting a chuckle through its clever wordplay.'"
      ]
     },
     "execution_count": null,
     "metadata": {},
     "output_type": "execute_result"
    }
   ],
   "source": [
    "handler = wflow_ckptr.run(topic=\"art\")\n",
    "await handler"
   ]
  },
  {
   "cell_type": "code",
   "execution_count": null,
   "metadata": {},
   "outputs": [
    {
     "name": "stdout",
     "output_type": "stream",
     "text": [
      "Run: 27598cfb-fccf-4ef1-98bc-1efadcc062c8 has ['generate_joke', 'critique_joke']\n",
      "Run: df3781d7-824a-48a4-8c07-56c8600a0c6b has ['generate_joke', 'critique_joke']\n",
      "Run: 7f099be8-6ed4-4ef0-92c4-4bc0daa93afb has ['generate_joke', 'critique_joke']\n",
      "Run: 5099b0b0-0135-4579-9736-2b8f2fd324cc has ['generate_joke', 'critique_joke']\n",
      "Run: 1db86c39-e6a5-4bac-9adb-e7831088f27e has ['critique_joke']\n",
      "Run: f34d0c19-9f44-46b4-8445-1826aa241d06 has ['critique_joke']\n",
      "Run: da1f9c18-dd1b-4e85-8bcb-562456d7f7e7 has ['generate_joke']\n"
     ]
    }
   ],
   "source": [
    "for run_id, ckpts in wflow_ckptr.checkpoints.items():\n",
    "    print(f\"Run: {run_id} has {[c.last_completed_step for c in ckpts]}\")"
   ]
  },
  {
   "cell_type": "markdown",
   "metadata": {},
   "source": [
    "### Enable Checkpoints"
   ]
  },
  {
   "cell_type": "code",
   "execution_count": null,
   "metadata": {},
   "outputs": [
    {
     "data": {
      "text/plain": [
       "{'critique_joke': True}"
      ]
     },
     "execution_count": null,
     "metadata": {},
     "output_type": "execute_result"
    }
   ],
   "source": [
    "wflow_ckptr.enable_checkpoint(\"critique_joke\")"
   ]
  },
  {
   "cell_type": "code",
   "execution_count": null,
   "metadata": {},
   "outputs": [
    {
     "data": {
      "text/plain": [
       "'Analysis:\\nThis joke plays on the double meaning of the phrase \"draw blood.\" In the medical context, \"drawing blood\" refers to the process of taking a blood sample from a patient for testing. However, in a more literal sense, \"drawing blood\" can also mean causing someone to bleed, typically through physical injury.\\n\\nThe joke sets up the expectation that the doctor carries a red pen for medical purposes, but then subverts that expectation by revealing a more humorous and unexpected reason - to draw blood in the literal sense. This unexpected twist is what makes the joke funny.\\n\\nCritique:\\nOverall, this joke is clever and plays on the dual meanings of a common medical term. The punchline is unexpected and adds an element of surprise, which is essential for a successful joke. However, the humor may be a bit dark or morbid for some audiences, as it involves the idea of causing someone to bleed.\\n\\nAdditionally, the joke relies heavily on wordplay and may not be immediately understood by all listeners. Some people may not make the connection between \"drawing blood\" and the act of causing someone to bleed, which could lessen the impact of the punchline.\\n\\nIn conclusion, while this joke is clever and has the potential to elicit a chuckle from those who appreciate wordplay, it may not be universally appealing due to its dark humor and reliance on a specific interpretation of the phrase \"draw blood.\"'"
      ]
     },
     "execution_count": null,
     "metadata": {},
     "output_type": "execute_result"
    }
   ],
   "source": [
    "handler = wflow_ckptr.run(topic=\"medicine\")\n",
    "await handler"
   ]
  },
  {
   "cell_type": "code",
   "execution_count": null,
   "metadata": {},
   "outputs": [
    {
     "name": "stdout",
     "output_type": "stream",
     "text": [
      "Run: 27598cfb-fccf-4ef1-98bc-1efadcc062c8 has ['generate_joke', 'critique_joke']\n",
      "Run: df3781d7-824a-48a4-8c07-56c8600a0c6b has ['generate_joke', 'critique_joke']\n",
      "Run: 7f099be8-6ed4-4ef0-92c4-4bc0daa93afb has ['generate_joke', 'critique_joke']\n",
      "Run: 5099b0b0-0135-4579-9736-2b8f2fd324cc has ['generate_joke', 'critique_joke']\n",
      "Run: 1db86c39-e6a5-4bac-9adb-e7831088f27e has ['critique_joke']\n",
      "Run: f34d0c19-9f44-46b4-8445-1826aa241d06 has ['critique_joke']\n",
      "Run: da1f9c18-dd1b-4e85-8bcb-562456d7f7e7 has ['generate_joke']\n",
      "Run: 3ef2b39e-fff1-4d7c-bf75-a70a8143416d has ['generate_joke', 'critique_joke']\n"
     ]
    }
   ],
   "source": [
    "for run_id, ckpts in wflow_ckptr.checkpoints.items():\n",
    "    print(f\"Run: {run_id} has {[c.last_completed_step for c in ckpts]}\")"
   ]
  }
 ],
 "metadata": {
  "kernelspec": {
   "display_name": "llama-index-core",
   "language": "python",
   "name": "llama-index-core"
  },
  "language_info": {
   "codemirror_mode": {
    "name": "ipython",
    "version": 3
   },
   "file_extension": ".py",
   "mimetype": "text/x-python",
   "name": "python",
   "nbconvert_exporter": "python",
   "pygments_lexer": "ipython3"
  }
 },
 "nbformat": 4,
 "nbformat_minor": 4
}
