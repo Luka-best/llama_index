{
 "cells": [
  {
   "cell_type": "markdown",
   "metadata": {},
   "source": [
    "# Checkpointing in Workflows"
   ]
  },
  {
   "cell_type": "markdown",
   "metadata": {},
   "source": [
    "During the execution of a Workflow, `Checkpoint` objects are automatically stored within the `Context` class. By default, `Checkpoints` are automatically created at the completion of a step. At such instants in the Workflow execution, we checkpoint the name of the last completed step, it's input `Event`, it's output `Event`, as well as a snapshot of the `Context` itself. We also store a `Checkpoint` before the emission of the `StartEvent`, but note that running from these special checkpoints are essentially equivalent to the typical execution of a `Workflow` -- we add it here purely for convenience.\n",
    "\n",
    "In this notebook, we demonstrate how to make use of such checkpoints. Specifically, we'll show how to obtain the list of all of the stored checkpoints, filter this list, and even how to re-run a `Workflow` from any one them."
   ]
  },
  {
   "cell_type": "markdown",
   "metadata": {},
   "source": [
    "## Defining the Workflow"
   ]
  },
  {
   "cell_type": "code",
   "execution_count": null,
   "metadata": {},
   "outputs": [],
   "source": [
    "import os\n",
    "\n",
    "api_key = os.environ.get(\"OPENAI_API_KEY\")"
   ]
  },
  {
   "cell_type": "code",
   "execution_count": null,
   "metadata": {},
   "outputs": [],
   "source": [
    "from llama_index.core.workflow import (\n",
    "    Workflow,\n",
    "    step,\n",
    "    StartEvent,\n",
    "    StopEvent,\n",
    "    Event,\n",
    "    Context,\n",
    ")\n",
    "from llama_index.llms.openai import OpenAI\n",
    "\n",
    "\n",
    "class JokeEvent(Event):\n",
    "    joke: str\n",
    "\n",
    "\n",
    "class JokeFlow(Workflow):\n",
    "    llm = OpenAI(api_key=api_key)\n",
    "\n",
    "    @step\n",
    "    async def generate_joke(self, ev: StartEvent) -> JokeEvent:\n",
    "        topic = ev.topic\n",
    "\n",
    "        prompt = f\"Write your best joke about {topic}.\"\n",
    "        response = await self.llm.acomplete(prompt)\n",
    "        return JokeEvent(joke=str(response))\n",
    "\n",
    "    @step\n",
    "    async def critique_joke(self, ev: JokeEvent) -> StopEvent:\n",
    "        joke = ev.joke\n",
    "\n",
    "        prompt = f\"Give a thorough analysis and critique of the following joke: {joke}\"\n",
    "        response = await self.llm.acomplete(prompt)\n",
    "        return StopEvent(result=str(response))"
   ]
  },
  {
   "cell_type": "markdown",
   "metadata": {},
   "source": [
    "### Running Without Automatic Checkpointing"
   ]
  },
  {
   "cell_type": "markdown",
   "metadata": {},
   "source": [
    "By default, automatic checkpointing is disabled. However, this can be enabled for any run via the `store_checkpoints` parameter, which we will show later in this notebook."
   ]
  },
  {
   "cell_type": "code",
   "execution_count": null,
   "metadata": {},
   "outputs": [
    {
     "data": {
      "text/plain": [
       "'Analysis:\\nThis joke plays on the double meaning of the word \"rates,\" which can refer to both the cost of something (day rates) and the chemical compound nitrate. The humor comes from the unexpected twist in the punchline, where the listener is led to believe the joke is about the cost of nitrates but then it turns out to be a play on words.\\n\\nCritique:\\nOverall, this joke is clever and plays on the knowledge of chemistry and wordplay. It requires a certain level of understanding of both concepts to fully appreciate the humor. However, some may find the joke to be a bit niche and not easily accessible to a general audience. Additionally, the punchline may not be as strong or laugh-out-loud funny as some other jokes, as it relies more on wordplay than a traditional setup and punchline structure. Overall, while the joke is clever and well-crafted, it may not appeal to everyone due to its niche subject matter.'"
      ]
     },
     "execution_count": null,
     "metadata": {},
     "output_type": "execute_result"
    }
   ],
   "source": [
    "# instantiate Jokeflow\n",
    "workflow = JokeFlow()\n",
    "# ctx = Context(workflow=workflow)\n",
    "\n",
    "handler = workflow.run(\n",
    "    topic=\"chemistry\",\n",
    "    # ctx=ctx,\n",
    "    store_checkpoints=False,\n",
    ")\n",
    "await handler"
   ]
  },
  {
   "cell_type": "code",
   "execution_count": null,
   "metadata": {},
   "outputs": [
    {
     "data": {
      "text/plain": [
       "0"
      ]
     },
     "execution_count": null,
     "metadata": {},
     "output_type": "execute_result"
    }
   ],
   "source": [
    "len(workflow.checkpoints)"
   ]
  },
  {
   "cell_type": "markdown",
   "metadata": {},
   "source": [
    "As we can see the number of stored checkpoints in our `Context` is 0."
   ]
  },
  {
   "cell_type": "markdown",
   "metadata": {},
   "source": [
    "### Running the Workflow With Checkpointing Enabled"
   ]
  },
  {
   "cell_type": "code",
   "execution_count": null,
   "metadata": {},
   "outputs": [
    {
     "data": {
      "text/plain": [
       "'Analysis:\\nThis joke plays on the mathematical concept of the equal sign, which is used to show that two quantities are the same. The humor comes from personifying the equal sign and attributing human emotions and characteristics to it. The punchline relies on a play on words, as \"less than\" and \"greater than\" are mathematical symbols used to show inequality.\\n\\nCritique:\\n- Clever wordplay: The joke cleverly uses mathematical symbols and concepts to create humor. The play on words with \"less than\" and \"greater than\" adds an extra layer of wit to the joke.\\n- Relatable: The joke is relatable to anyone familiar with basic math, making it accessible to a wide audience.\\n- Short and sweet: The joke is concise and to the point, making it easy to understand and appreciate quickly.\\n- Lack of depth: While the joke is clever, it may be seen as somewhat shallow or simplistic. It relies on a basic pun and does not have a deeper underlying message or social commentary.\\n- Predictable: The punchline of the joke is somewhat predictable, as the setup leads the audience to expect a play on the concept of equality.\\n\\nOverall, this joke is a lighthearted and clever play on mathematical concepts that is likely to elicit a chuckle from those who appreciate wordplay and puns.'"
      ]
     },
     "execution_count": null,
     "metadata": {},
     "output_type": "execute_result"
    }
   ],
   "source": [
    "# run the workflow again, but this time with checkpointing enabled\n",
    "handler = workflow.run(topic=\"math\", store_checkpoints=True)\n",
    "await handler"
   ]
  },
  {
   "cell_type": "markdown",
   "metadata": {},
   "source": [
    "### Listing the saved Checkpoints"
   ]
  },
  {
   "cell_type": "markdown",
   "metadata": {},
   "source": [
    "There are 3 stored checkpoints after this first run. The first of these checkpoints are created just before the emission of the `StartEvent`. This can be thought of as a \"startup\" step being completed which has a null input `Event` and whose output event is the `StartEvent`. The remaining two of these checkpoints are made at the completion of each of the two steps in this Workflow. "
   ]
  },
  {
   "cell_type": "code",
   "execution_count": null,
   "metadata": {},
   "outputs": [
    {
     "data": {
      "text/plain": [
       "{'a77e788e-bcd4-42cf-9981-2325f2e1fd4e': [Checkpoint(id_='5e466c0e-4158-4d46-ac22-ef9e616cfc5a', last_completed_step=None, input_event=None, output_event=StartEvent(run_id='a77e788e-bcd4-42cf-9981-2325f2e1fd4e'), ctx_state={'globals': {}, 'streaming_queue': '[]', 'queues': {'_done': '[]', 'critique_joke': '[]', 'generate_joke': '[]'}, 'stepwise': False, 'events_buffer': {}, 'accepted_events': [('generate_joke', 'StartEvent'), ('critique_joke', 'JokeEvent')], 'is_running': False}),\n",
       "  Checkpoint(id_='49777d08-a638-4a5a-ba12-9bc1613f7fba', last_completed_step='generate_joke', input_event=StartEvent(run_id='a77e788e-bcd4-42cf-9981-2325f2e1fd4e'), output_event=JokeEvent(run_id='a77e788e-bcd4-42cf-9981-2325f2e1fd4e', joke=\"Why was the equal sign so humble?\\n\\nBecause he knew he wasn't less than or greater than anyone else.\"), ctx_state={'globals': {}, 'streaming_queue': '[]', 'queues': {'_done': '[]', 'critique_joke': '[]', 'generate_joke': '[]'}, 'stepwise': False, 'events_buffer': {}, 'accepted_events': [('generate_joke', 'StartEvent'), ('critique_joke', 'JokeEvent')], 'is_running': True}),\n",
       "  Checkpoint(id_='b1ab3216-70e2-4810-ac55-4c524d5ea3c1', last_completed_step='critique_joke', input_event=JokeEvent(run_id='a77e788e-bcd4-42cf-9981-2325f2e1fd4e', joke=\"Why was the equal sign so humble?\\n\\nBecause he knew he wasn't less than or greater than anyone else.\"), output_event=StopEvent(run_id='a77e788e-bcd4-42cf-9981-2325f2e1fd4e', result='Analysis:\\nThis joke plays on the mathematical concept of the equal sign, which is used to show that two quantities are the same. The humor comes from personifying the equal sign and attributing human emotions and characteristics to it. The punchline relies on a play on words, as \"less than\" and \"greater than\" are mathematical symbols used to show inequality.\\n\\nCritique:\\n- Clever wordplay: The joke cleverly uses mathematical symbols and concepts to create humor. The play on words with \"less than\" and \"greater than\" adds an extra layer of wit to the joke.\\n- Relatable: The joke is relatable to anyone familiar with basic math, making it accessible to a wide audience.\\n- Short and sweet: The joke is concise and to the point, making it easy to understand and appreciate quickly.\\n- Lack of depth: While the joke is clever, it may be seen as somewhat shallow or simplistic. It relies on a basic pun and does not have a deeper underlying message or social commentary.\\n- Predictable: The punchline of the joke is somewhat predictable, as the setup leads the audience to expect a play on the concept of equality.\\n\\nOverall, this joke is a lighthearted and clever play on mathematical concepts that is likely to elicit a chuckle from those who appreciate wordplay and puns.'), ctx_state={'globals': {}, 'streaming_queue': '[]', 'queues': {'_done': '[]', 'critique_joke': '[]', 'generate_joke': '[]'}, 'stepwise': False, 'events_buffer': {}, 'accepted_events': [('generate_joke', 'StartEvent'), ('critique_joke', 'JokeEvent')], 'is_running': True})]}"
      ]
     },
     "execution_count": null,
     "metadata": {},
     "output_type": "execute_result"
    }
   ],
   "source": [
    "workflow.checkpoints"
   ]
  },
  {
   "cell_type": "code",
   "execution_count": null,
   "metadata": {},
   "outputs": [
    {
     "name": "stdout",
     "output_type": "stream",
     "text": [
      "Run: a77e788e-bcd4-42cf-9981-2325f2e1fd4e has 3 stored checkpoints\n"
     ]
    }
   ],
   "source": [
    "for run_id, ckpts in workflow.checkpoints.items():\n",
    "    print(f\"Run: {run_id} has {len(ckpts)} stored checkpoints\")"
   ]
  },
  {
   "cell_type": "markdown",
   "metadata": {},
   "source": [
    "### Filtering the Checkpoints"
   ]
  },
  {
   "cell_type": "markdown",
   "metadata": {},
   "source": [
    "Before showcasing how to filter through checkpoints, let's first make things a bit more interesting by executing the workflow a few more times. Here, we'll run the workflow for two more additional topics. Since each entire run will result in 3 stored checkpoints each, we should have a total of 9 checkpoints after executing the below cell. "
   ]
  },
  {
   "cell_type": "code",
   "execution_count": null,
   "metadata": {},
   "outputs": [],
   "source": [
    "additional_topics = [\"biology\", \"history\"]\n",
    "\n",
    "for topic in additional_topics:\n",
    "    handler = workflow.run(topic=topic, store_checkpoints=True)\n",
    "    await handler"
   ]
  },
  {
   "cell_type": "code",
   "execution_count": null,
   "metadata": {},
   "outputs": [
    {
     "name": "stdout",
     "output_type": "stream",
     "text": [
      "Run: a77e788e-bcd4-42cf-9981-2325f2e1fd4e has 3 stored checkpoints\n",
      "Run: fa60dd7c-70ea-46f4-a98b-8a9f9a93e2a2 has 3 stored checkpoints\n",
      "Run: 38627bfd-64ac-43d0-9dc6-030b4e1520e6 has 3 stored checkpoints\n"
     ]
    }
   ],
   "source": [
    "for run_id, ckpts in workflow.checkpoints.items():\n",
    "    print(f\"Run: {run_id} has {len(ckpts)} stored checkpoints\")"
   ]
  },
  {
   "cell_type": "code",
   "execution_count": null,
   "metadata": {},
   "outputs": [
    {
     "data": {
      "text/plain": [
       "[Checkpoint(id_='b2c3bc8c-9cde-4be2-84e8-b33b48bdbc56', last_completed_step='generate_joke', input_event=StartEvent(run_id='fa60dd7c-70ea-46f4-a98b-8a9f9a93e2a2'), output_event=JokeEvent(run_id='fa60dd7c-70ea-46f4-a98b-8a9f9a93e2a2', joke=\"Why did the biologist break up with the mathematician?\\n\\nBecause they couldn't find a common denominator!\"), ctx_state={'globals': {}, 'streaming_queue': '[]', 'queues': {'_done': '[]', 'critique_joke': '[]', 'generate_joke': '[]'}, 'stepwise': False, 'events_buffer': {}, 'accepted_events': [('generate_joke', 'StartEvent'), ('critique_joke', 'JokeEvent')], 'is_running': True})]"
      ]
     },
     "execution_count": null,
     "metadata": {},
     "output_type": "execute_result"
    }
   ],
   "source": [
    "# Filter by the name of last completed step\n",
    "checkpoints_right_after_generate_joke_step = workflow.filter_checkpoints(\n",
    "    last_completed_step=\"generate_joke\",\n",
    "    run_id=list(workflow.checkpoints.keys())[1],\n",
    ")\n",
    "\n",
    "# checkpoint ids\n",
    "[ckpt for ckpt in checkpoints_right_after_generate_joke_step]"
   ]
  },
  {
   "cell_type": "code",
   "execution_count": null,
   "metadata": {},
   "outputs": [
    {
     "data": {
      "text/plain": [
       "[Checkpoint(id_='b1ab3216-70e2-4810-ac55-4c524d5ea3c1', last_completed_step='critique_joke', input_event=JokeEvent(run_id='a77e788e-bcd4-42cf-9981-2325f2e1fd4e', joke=\"Why was the equal sign so humble?\\n\\nBecause he knew he wasn't less than or greater than anyone else.\"), output_event=StopEvent(run_id='a77e788e-bcd4-42cf-9981-2325f2e1fd4e', result='Analysis:\\nThis joke plays on the mathematical concept of the equal sign, which is used to show that two quantities are the same. The humor comes from personifying the equal sign and attributing human emotions and characteristics to it. The punchline relies on a play on words, as \"less than\" and \"greater than\" are mathematical symbols used to show inequality.\\n\\nCritique:\\n- Clever wordplay: The joke cleverly uses mathematical symbols and concepts to create humor. The play on words with \"less than\" and \"greater than\" adds an extra layer of wit to the joke.\\n- Relatable: The joke is relatable to anyone familiar with basic math, making it accessible to a wide audience.\\n- Short and sweet: The joke is concise and to the point, making it easy to understand and appreciate quickly.\\n- Lack of depth: While the joke is clever, it may be seen as somewhat shallow or simplistic. It relies on a basic pun and does not have a deeper underlying message or social commentary.\\n- Predictable: The punchline of the joke is somewhat predictable, as the setup leads the audience to expect a play on the concept of equality.\\n\\nOverall, this joke is a lighthearted and clever play on mathematical concepts that is likely to elicit a chuckle from those who appreciate wordplay and puns.'), ctx_state={'globals': {}, 'streaming_queue': '[]', 'queues': {'_done': '[]', 'critique_joke': '[]', 'generate_joke': '[]'}, 'stepwise': False, 'events_buffer': {}, 'accepted_events': [('generate_joke', 'StartEvent'), ('critique_joke', 'JokeEvent')], 'is_running': True}),\n",
       " Checkpoint(id_='a8ad4ba3-885e-4e95-af05-07629c7223d3', last_completed_step='critique_joke', input_event=JokeEvent(run_id='fa60dd7c-70ea-46f4-a98b-8a9f9a93e2a2', joke=\"Why did the biologist break up with the mathematician?\\n\\nBecause they couldn't find a common denominator!\"), output_event=StopEvent(run_id='fa60dd7c-70ea-46f4-a98b-8a9f9a93e2a2', result='This joke plays on the common stereotype that biologists and mathematicians have very different ways of thinking and approaching problems. The punchline, \"they couldn\\'t find a common denominator,\" is a clever play on words that combines mathematical terminology with the idea of finding common ground in a relationship.\\n\\nOne of the strengths of this joke is its simplicity and accessibility. Most people are familiar with the concept of a common denominator from their math education, so the punchline is easy to understand and appreciate. Additionally, the joke sets up a clear premise (the biologist and mathematician breaking up) and delivers a satisfying punchline that ties back to that premise.\\n\\nHowever, some may find this joke to be a bit cliché or predictable. The idea of a biologist and mathematician breaking up due to their differences is a common trope in jokes and humor, so the punchline may not feel particularly fresh or original to some audiences.\\n\\nOverall, while this joke may not be groundbreaking or particularly innovative, it is a solid example of a pun-based joke that effectively combines two different fields of study in a humorous way. It is likely to elicit a chuckle or a smile from many listeners, making it a successful joke in terms of its intended purpose.'), ctx_state={'globals': {}, 'streaming_queue': '[]', 'queues': {'_done': '[]', 'critique_joke': '[]', 'generate_joke': '[]'}, 'stepwise': False, 'events_buffer': {}, 'accepted_events': [('generate_joke', 'StartEvent'), ('critique_joke', 'JokeEvent')], 'is_running': True}),\n",
       " Checkpoint(id_='2e5f9bb4-cd63-45e7-abec-f8129f0f5fbc', last_completed_step='critique_joke', input_event=JokeEvent(run_id='38627bfd-64ac-43d0-9dc6-030b4e1520e6', joke=\"Why did the history teacher go to jail?\\n\\nBecause he couldn't control his pupils!\"), output_event=StopEvent(run_id='38627bfd-64ac-43d0-9dc6-030b4e1520e6', result='Analysis:\\nThis joke plays on the double meaning of the word \"pupils,\" which can refer to both the students in a classroom and the black part of the eye that dilates and contracts in response to light. The humor comes from the clever wordplay and the unexpected twist at the end of the joke.\\n\\nCritique:\\n- Clever wordplay: The use of the word \"pupils\" in two different contexts adds a layer of cleverness to the joke. It requires the listener to make a quick mental shift in understanding the punchline, which can enhance the humor.\\n- Unexpected twist: The punchline of the joke is unexpected and catches the listener off guard, which can make it more memorable and enjoyable. The fact that the history teacher is going to jail for not being able to control his eye pupils is a humorous and absurd conclusion.\\n- Relatability: The joke relies on the common experience of teachers struggling to control their students in a classroom setting, which makes it relatable to many people. This relatability can enhance the humor for those who have had similar experiences.\\n- Lack of depth: While the wordplay and twist in the joke are clever, it may be considered somewhat shallow or simplistic compared to more nuanced or layered forms of humor. Some may find the joke to be too straightforward or predictable.\\n- Potential offensiveness: Some may find the joke to be offensive or inappropriate, as it implies that a teacher going to jail is a humorous or lighthearted situation. It may also be seen as making light of the serious issue of teachers struggling to maintain discipline in a classroom.\\n\\nOverall, the joke is a clever play on words that can elicit a chuckle from those who appreciate wordplay and unexpected twists. However, its simplicity and potential offensiveness may limit its appeal to a wider audience.'), ctx_state={'globals': {}, 'streaming_queue': '[]', 'queues': {'_done': '[]', 'critique_joke': '[]', 'generate_joke': '[]'}, 'stepwise': False, 'events_buffer': {}, 'accepted_events': [('generate_joke', 'StartEvent'), ('critique_joke', 'JokeEvent')], 'is_running': True})]"
      ]
     },
     "execution_count": null,
     "metadata": {},
     "output_type": "execute_result"
    }
   ],
   "source": [
    "# Filter by output event StopEvent\n",
    "checkpoints_that_emit_stop_event = workflow.filter_checkpoints(\n",
    "    output_event_type=StopEvent\n",
    ")\n",
    "\n",
    "# checkpoint ids\n",
    "[ckpt for ckpt in checkpoints_that_emit_stop_event]"
   ]
  },
  {
   "cell_type": "markdown",
   "metadata": {},
   "source": [
    "### Re-Run Workflow from a specific checkpoint"
   ]
  },
  {
   "cell_type": "code",
   "execution_count": null,
   "metadata": {},
   "outputs": [
    {
     "data": {
      "text/plain": [
       "'This joke plays on the common phrase \"finding a common denominator,\" which is a mathematical term used when adding or subtracting fractions. In this context, the joke implies that the biologist and mathematician could not find a common ground or understanding between their two fields of study, leading to their breakup.\\n\\nOverall, the joke is clever and humorous in its use of wordplay and pun. It effectively combines elements of biology and mathematics to create a light-hearted and relatable scenario. The punchline is unexpected and plays on the idea of compatibility in relationships, adding an extra layer of humor.\\n\\nHowever, some may argue that the joke perpetuates stereotypes about the differences between scientists and mathematicians, suggesting that they are incompatible due to the nature of their respective fields. This could be seen as reductive and oversimplifying the complexities of individuals and their relationships.\\n\\nIn conclusion, while the joke is witty and entertaining, it may also reinforce stereotypes about scientists and mathematicians. It is important to consider the implications of such humor and be mindful of the underlying messages it may convey.'"
      ]
     },
     "execution_count": null,
     "metadata": {},
     "output_type": "execute_result"
    }
   ],
   "source": [
    "ckpt = checkpoints_right_after_generate_joke_step[0]\n",
    "handler = workflow.run_from(checkpoint=ckpt, store_checkpoints=True)\n",
    "await handler"
   ]
  },
  {
   "cell_type": "code",
   "execution_count": null,
   "metadata": {},
   "outputs": [
    {
     "name": "stdout",
     "output_type": "stream",
     "text": [
      "Run: a77e788e-bcd4-42cf-9981-2325f2e1fd4e has 3 stored checkpoints\n",
      "Run: fa60dd7c-70ea-46f4-a98b-8a9f9a93e2a2 has 3 stored checkpoints\n",
      "Run: 38627bfd-64ac-43d0-9dc6-030b4e1520e6 has 3 stored checkpoints\n",
      "Run: ee135931-dc8c-4939-a09b-8ce5d7c536d6 has 1 stored checkpoints\n"
     ]
    }
   ],
   "source": [
    "for run_id, ckpts in workflow.checkpoints.items():\n",
    "    print(f\"Run: {run_id} has {len(ckpts)} stored checkpoints\")"
   ]
  },
  {
   "cell_type": "markdown",
   "metadata": {},
   "source": [
    "Since we've executed from the checkpoint that represents the end of \"generate_joke\" step, there is only one additional checkpoint that gets stored i.e., the one that is stored after the completion of the next step, namely \"critique_joke\"."
   ]
  }
 ],
 "metadata": {
  "kernelspec": {
   "display_name": "llama-index-core",
   "language": "python",
   "name": "llama-index-core"
  },
  "language_info": {
   "codemirror_mode": {
    "name": "ipython",
    "version": 3
   },
   "file_extension": ".py",
   "mimetype": "text/x-python",
   "name": "python",
   "nbconvert_exporter": "python",
   "pygments_lexer": "ipython3"
  }
 },
 "nbformat": 4,
 "nbformat_minor": 4
}
