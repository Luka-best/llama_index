{
 "cells": [
  {
   "cell_type": "markdown",
   "id": "b4a4fc96-58a8-4b0b-a4fb-077ef16b59e2",
   "metadata": {},
   "source": [
    "# Human In The Loop Patterns"
   ]
  },
  {
   "cell_type": "markdown",
   "id": "fc5b9b3a-39ad-4d9f-b005-7471d84e3424",
   "metadata": {},
   "source": [
    "Humans may be needed:\n",
    "\n",
    "1. Validation of a workflow execution\n",
    "2. Assistance for executing a specific step in a workflow\n",
    "3. Intervention/modification of a step result"
   ]
  },
  {
   "cell_type": "markdown",
   "id": "9a572a83-dbc5-4d2b-ae8e-f29bd163cbf4",
   "metadata": {},
   "source": [
    "They can be implemented as steps within a workflow."
   ]
  },
  {
   "cell_type": "code",
   "execution_count": null,
   "id": "37d3d644-f7f4-4e26-b152-4f5847f3e7eb",
   "metadata": {},
   "outputs": [],
   "source": [
    "from typing import Any, Awaitable, Protocol, runtime_checkable\n",
    "\n",
    "from llama_index.core.workflow import (\n",
    "    Context,\n",
    "    StartEvent,\n",
    "    StopEvent,\n",
    "    Workflow,\n",
    "    step,\n",
    ")\n",
    "from llama_index.llms.openai import OpenAI\n",
    "from llama_index.core.bridge.pydantic import BaseModel, Field"
   ]
  },
  {
   "cell_type": "code",
   "execution_count": null,
   "id": "abed042e-afb7-4e29-9d23-1374d3583c30",
   "metadata": {},
   "outputs": [],
   "source": [
    "class IncrementAdventureEvent(Event):\n",
    "    new_plot: str\n",
    "    new_actions: List[str]\n",
    "\n",
    "\n",
    "class HumanInputEvent(Event):\n",
    "    chosen_action: str"
   ]
  },
  {
   "cell_type": "code",
   "execution_count": null,
   "id": "49efbd89-5517-450f-b6b7-5c8d65ba63c9",
   "metadata": {},
   "outputs": [],
   "source": [
    "\"\"\"\n",
    "CHOOSE YOUR OWN ADVENTURE TEMPLATE\n",
    "\n",
    "PLOT: ...\n",
    "ACTIONS: ...\n",
    "CHOICE: ...\n",
    "\n",
    "PLOT: ...\n",
    "ACTIONS: ...\n",
    "CHOICE: ...\n",
    "\n",
    "FINAL_PLOT: ...\n",
    "\"\"\""
   ]
  },
  {
   "cell_type": "code",
   "execution_count": null,
   "id": "83ed549a-36ec-446c-963f-d0ced185622f",
   "metadata": {},
   "outputs": [],
   "source": [
    "class ChooseYourOwnAdventureWorkflow(Workflow):\n",
    "    def __init__(self, max_steps: int = 3):\n",
    "        self.llm = OpenAI(\"gpt-4o\")\n",
    "        self.max_steps = 3\n",
    "\n",
    "    @step\n",
    "    async def advance_story(\n",
    "        self, ctx: Context, ev: StartEvent | HumanInputEvent\n",
    "    ) -> IncrementAdventureEvent | StopEvent:\n",
    "        blocks = ctx.get(\"blocks\", [])\n",
    "\n",
    "        if isinstance(ev, StartEvent):\n",
    "            # start a new story\n",
    "            new_plot, new_actions = self.llm.predict\n",
    "        else:\n",
    "            chosen_action = str(ev.get(\"chosen_action\"))\n",
    "            # continue story with chosen action\n",
    "            new_plot, new_actions = self.llm.predict\n",
    "\n",
    "        return IncrementAdventureEvent(\n",
    "            new_plot=new_plot, new_actions=new_actions\n",
    "        )\n",
    "\n",
    "    @step\n",
    "    async def prompt_human(\n",
    "        self, ctx: Context, ev: IncrementAdventureEvent\n",
    "    ) -> HumanInputEvent:\n",
    "        num_steps = ctx.get(\"num_steps\")\n",
    "\n",
    "        # get human input\n",
    "        human_prompt = ...\n",
    "        human_input = input(human_prompt)\n",
    "\n",
    "        # clean up selection"
   ]
  },
  {
   "cell_type": "markdown",
   "id": "384313a6-b664-4bd5-abc4-25c84e5097a7",
   "metadata": {},
   "source": [
    "Or as a `Workflow` themselves:"
   ]
  },
  {
   "cell_type": "code",
   "execution_count": null,
   "id": "cb6b955e-e27f-43e7-b673-18d9e4b4ee55",
   "metadata": {},
   "outputs": [],
   "source": [
    "class HumanInputWorkflow(Workflow):\n",
    "    @step\n",
    "    async def human_input(self, ev: StartEvent) -> StopEvent:\n",
    "        prompt = str(ev.get(\"prompt\", \"\"))\n",
    "        human_input = input(prompt)\n",
    "        return StopEvent(result=human_input)"
   ]
  }
 ],
 "metadata": {
  "kernelspec": {
   "display_name": "llama-index-core",
   "language": "python",
   "name": "llama-index-core"
  },
  "language_info": {
   "codemirror_mode": {
    "name": "ipython",
    "version": 3
   },
   "file_extension": ".py",
   "mimetype": "text/x-python",
   "name": "python",
   "nbconvert_exporter": "python",
   "pygments_lexer": "ipython3"
  }
 },
 "nbformat": 4,
 "nbformat_minor": 5
}
