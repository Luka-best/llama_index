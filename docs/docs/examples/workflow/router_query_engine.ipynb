{
 "cells": [
  {
   "cell_type": "markdown",
   "metadata": {},
   "source": [
    "<a href=\"https://colab.research.google.com/github/jerryjliu/llama_index/blob/main/docs/docs/examples/workflow/router_query_engine.ipynb\" target=\"_parent\"><img src=\"https://colab.research.google.com/assets/colab-badge.svg\" alt=\"Open In Colab\"/></a>"
   ]
  },
  {
   "cell_type": "markdown",
   "metadata": {},
   "source": [
    "# Router Query Engine\n",
    "\n",
    "`RouterQueryEngine` chooses the most appropriate query engine from multiple options to process a given query.\n",
    "\n",
    "This notebook walks through implementation of Router Query Engine, using workflows.\n",
    "\n",
    "Specifically we will implement [RouterQueryEngine](https://docs.llamaindex.ai/en/stable/examples/query_engine/RouterQueryEngine/)."
   ]
  },
  {
   "cell_type": "code",
   "execution_count": null,
   "metadata": {},
   "outputs": [],
   "source": [
    "!pip install -U llama-index"
   ]
  },
  {
   "cell_type": "code",
   "execution_count": null,
   "metadata": {},
   "outputs": [],
   "source": [
    "import os\n",
    "\n",
    "os.environ[\"OPENAI_API_KEY\"] = \"sk-...\""
   ]
  },
  {
   "cell_type": "markdown",
   "metadata": {},
   "source": [
    "Since workflows are async first, this all runs fine in a notebook. If you were running in your own code, you would want to use `asyncio.run()` to start an async event loop if one isn't already running.\n",
    "\n",
    "```python\n",
    "async def main():\n",
    "    <async code>\n",
    "\n",
    "if __name__ == \"__main__\":\n",
    "    import asyncio\n",
    "    asyncio.run(main())\n",
    "```"
   ]
  },
  {
   "cell_type": "markdown",
   "metadata": {},
   "source": [
    "## Define Events"
   ]
  },
  {
   "cell_type": "code",
   "execution_count": null,
   "metadata": {},
   "outputs": [
    {
     "name": "stderr",
     "output_type": "stream",
     "text": [
      "[nltk_data] Downloading package punkt_tab to\n",
      "[nltk_data]     /Users/ravithejad/Desktop/llamaindex/lib/python3.9/sit\n",
      "[nltk_data]     e-packages/llama_index/core/_static/nltk_cache...\n",
      "[nltk_data]   Package punkt_tab is already up-to-date!\n"
     ]
    }
   ],
   "source": [
    "from llama_index.core.workflow import Event\n",
    "from llama_index.core.base.base_selector import SelectorResult\n",
    "from typing import Dict, List, Any\n",
    "from llama_index.core.base.response.schema import RESPONSE_TYPE\n",
    "\n",
    "\n",
    "class QueryEngineSelectionEvent(Event):\n",
    "    \"\"\"Result of selecting the query engine tools.\"\"\"\n",
    "\n",
    "    selected_query_engines: SelectorResult\n",
    "\n",
    "\n",
    "class SynthesizeEvent(Event):\n",
    "    \"\"\"Event for synthesizing the response from different query engines.\"\"\"\n",
    "\n",
    "    result: List[RESPONSE_TYPE]\n",
    "    selected_query_engines: SelectorResult"
   ]
  },
  {
   "cell_type": "markdown",
   "metadata": {},
   "source": [
    "## The Workflow\n",
    "\n",
    "`selector:`\n",
    "\n",
    "1. It takes a StartEvent as input and returns a QueryEngineSelectionEvent.\n",
    "2. The `LLMSingleSelector`/ `PydanticSingleSelector`/ `PydanticMultiSelector` will select one/ multiple query engine tools.\n",
    "\n",
    "`generate_responses:`\n",
    "\n",
    "This function uses the selected query engines to generate responses and returns SynthesizeEvent.\n",
    "\n",
    "`synthesize_responses:`\n",
    "\n",
    "This function combines the generated responses and synthesizes the final response if multiple query engines are selected otherwise returns the single generated response.\n",
    "\n",
    "\n",
    "The steps will use the built-in `StartEvent` and `StopEvent` events.\n",
    "\n",
    "With our events defined, we can construct our workflow and steps. "
   ]
  },
  {
   "cell_type": "code",
   "execution_count": null,
   "metadata": {},
   "outputs": [],
   "source": [
    "from llama_index.core.workflow import (\n",
    "    Context,\n",
    "    Workflow,\n",
    "    StartEvent,\n",
    "    StopEvent,\n",
    "    step,\n",
    ")\n",
    "\n",
    "from llama_index.llms.openai import OpenAI\n",
    "from llama_index.core.selectors.utils import get_selector_from_llm\n",
    "from llama_index.core.base.response.schema import (\n",
    "    PydanticResponse,\n",
    "    Response,\n",
    "    StreamingResponse,\n",
    ")\n",
    "from llama_index.core.bridge.pydantic import BaseModel\n",
    "from llama_index.core.response_synthesizers import TreeSummarize\n",
    "from llama_index.core.schema import QueryBundle\n",
    "from llama_index.core import Settings\n",
    "\n",
    "from IPython.display import Markdown, display\n",
    "\n",
    "\n",
    "class RouterQueryEngineWorkflow(Workflow):\n",
    "    @step\n",
    "    async def selector(\n",
    "        self, ctx: Context, ev: StartEvent\n",
    "    ) -> QueryEngineSelectionEvent:\n",
    "        \"\"\"\n",
    "        Selects a single/ multiple query engines based on the query.\n",
    "        \"\"\"\n",
    "\n",
    "        ctx.data[\"query\"] = ev.get(\"query\")\n",
    "        ctx.data[\"llm\"] = ev.get(\"llm\")\n",
    "        ctx.data[\"query_engine_tools\"] = ev.get(\"query_engine_tools\")\n",
    "        ctx.data[\"summarizer\"] = ev.get(\"summarizer\")\n",
    "\n",
    "        llm = Settings.llm\n",
    "        select_multiple_query_engines = ev.get(\"select_multi\")\n",
    "        query = ev.get(\"query\")\n",
    "        query_engine_tools = ev.get(\"query_engine_tools\")\n",
    "\n",
    "        selector = get_selector_from_llm(\n",
    "            llm, is_multi=select_multiple_query_engines\n",
    "        )\n",
    "\n",
    "        query_engines_metadata = [\n",
    "            query_engine.metadata for query_engine in query_engine_tools\n",
    "        ]\n",
    "\n",
    "        selected_query_engines = await selector.aselect(\n",
    "            query_engines_metadata, query\n",
    "        )\n",
    "\n",
    "        return QueryEngineSelectionEvent(\n",
    "            selected_query_engines=selected_query_engines\n",
    "        )\n",
    "\n",
    "    @step\n",
    "    async def generate_responses(\n",
    "        self, ctx: Context, ev: QueryEngineSelectionEvent\n",
    "    ) -> SynthesizeEvent:\n",
    "        \"\"\"Generate the responses from the selected query engines.\"\"\"\n",
    "\n",
    "        query = ctx.data.get(\"query\")\n",
    "        selected_query_engines = ev.selected_query_engines\n",
    "        query_engine_tools = ctx.data[\"query_engine_tools\"]\n",
    "\n",
    "        query_engines = [engine.query_engine for engine in query_engine_tools]\n",
    "\n",
    "        print(\n",
    "            f\"number of selected query engines: {len(selected_query_engines.selections)}\"\n",
    "        )\n",
    "\n",
    "        if len(selected_query_engines.selections) > 1:\n",
    "            response_generated = []\n",
    "            for selected_query_engine in selected_query_engines.selections:\n",
    "                print(\n",
    "                    f\"Selected query engine: {selected_query_engine.index}: {selected_query_engine.reason}\"\n",
    "                )\n",
    "                query_engine = query_engines[selected_query_engine.index]\n",
    "                response_generated.append(query_engine.query(query))\n",
    "\n",
    "        else:\n",
    "            query_engine = query_engines[\n",
    "                selected_query_engines.selections[0].index\n",
    "            ]\n",
    "\n",
    "            print(\n",
    "                f\"Selected query engine: {selected_query_engines.ind}: {selected_query_engines.reason}\"\n",
    "            )\n",
    "\n",
    "            response_generated = [query_engine.query(query)]\n",
    "\n",
    "        return SynthesizeEvent(\n",
    "            result=response_generated,\n",
    "            selected_query_engines=selected_query_engines,\n",
    "        )\n",
    "\n",
    "    async def acombine_responses(\n",
    "        self,\n",
    "        summarizer: TreeSummarize,\n",
    "        responses: List[RESPONSE_TYPE],\n",
    "        query_bundle: QueryBundle,\n",
    "    ) -> RESPONSE_TYPE:\n",
    "        \"\"\"Async combine multiple response from sub-engines.\"\"\"\n",
    "\n",
    "        print(\"Combining responses from multiple query engines.\")\n",
    "\n",
    "        response_strs = []\n",
    "        source_nodes = []\n",
    "        for response in responses:\n",
    "            if isinstance(response, (StreamingResponse, PydanticResponse)):\n",
    "                response_obj = response.get_response()\n",
    "            else:\n",
    "                response_obj = response\n",
    "            source_nodes.extend(response_obj.source_nodes)\n",
    "            response_strs.append(str(response))\n",
    "\n",
    "        summary = await summarizer.aget_response(\n",
    "            query_bundle.query_str, response_strs\n",
    "        )\n",
    "\n",
    "        if isinstance(summary, str):\n",
    "            return Response(response=summary, source_nodes=source_nodes)\n",
    "        elif isinstance(summary, BaseModel):\n",
    "            return PydanticResponse(\n",
    "                response=summary, source_nodes=source_nodes\n",
    "            )\n",
    "        else:\n",
    "            return StreamingResponse(\n",
    "                response_gen=summary, source_nodes=source_nodes\n",
    "            )\n",
    "\n",
    "    @step\n",
    "    async def synthesize_responses(\n",
    "        self, ctx: Context, ev: SynthesizeEvent\n",
    "    ) -> StopEvent:\n",
    "        \"\"\"Synthesizes the responses from the generated responses.\"\"\"\n",
    "\n",
    "        response_generated = ev.result\n",
    "        query = ctx.data.get(\"query\")\n",
    "        summarizer = ctx.data[\"summarizer\"]\n",
    "        selected_query_engines = ev.selected_query_engines\n",
    "\n",
    "        if len(response_generated) > 1:\n",
    "            response = await self.acombine_responses(\n",
    "                summarizer, response_generated, QueryBundle(query_str=query)\n",
    "            )\n",
    "        else:\n",
    "            response = response_generated[0]\n",
    "\n",
    "        response.metadata = response.metadata or {}\n",
    "        response.metadata[\"selector_result\"] = selected_query_engines\n",
    "\n",
    "        return StopEvent(result=response)"
   ]
  },
  {
   "cell_type": "markdown",
   "metadata": {},
   "source": [
    "## Define LLM"
   ]
  },
  {
   "cell_type": "code",
   "execution_count": null,
   "metadata": {},
   "outputs": [],
   "source": [
    "llm = OpenAI(model=\"gpt-4o-mini\")\n",
    "Settings.llm = llm"
   ]
  },
  {
   "cell_type": "markdown",
   "metadata": {},
   "source": [
    "## Define Summarizer"
   ]
  },
  {
   "cell_type": "code",
   "execution_count": null,
   "metadata": {},
   "outputs": [],
   "source": [
    "from llama_index.core.prompts.default_prompt_selectors import (\n",
    "    DEFAULT_TREE_SUMMARIZE_PROMPT_SEL,\n",
    ")\n",
    "\n",
    "summarizer = TreeSummarize(\n",
    "    llm=llm,\n",
    "    summary_template=DEFAULT_TREE_SUMMARIZE_PROMPT_SEL,\n",
    ")"
   ]
  },
  {
   "cell_type": "markdown",
   "metadata": {},
   "source": [
    "## Download Data"
   ]
  },
  {
   "cell_type": "code",
   "execution_count": null,
   "metadata": {},
   "outputs": [
    {
     "name": "stdout",
     "output_type": "stream",
     "text": [
      "--2024-08-26 12:24:38--  https://raw.githubusercontent.com/run-llama/llama_index/main/docs/docs/examples/data/paul_graham/paul_graham_essay.txt\n",
      "Resolving raw.githubusercontent.com (raw.githubusercontent.com)... 185.199.111.133, 185.199.108.133, 185.199.109.133, ...\n",
      "Connecting to raw.githubusercontent.com (raw.githubusercontent.com)|185.199.111.133|:443... connected.\n",
      "HTTP request sent, awaiting response... 200 OK\n",
      "Length: 75042 (73K) [text/plain]\n",
      "Saving to: ‘data/paul_graham/paul_graham_essay.txt’\n",
      "\n",
      "data/paul_graham/pa 100%[===================>]  73.28K  --.-KB/s    in 0.01s   \n",
      "\n",
      "2024-08-26 12:24:38 (5.05 MB/s) - ‘data/paul_graham/paul_graham_essay.txt’ saved [75042/75042]\n",
      "\n"
     ]
    }
   ],
   "source": [
    "!mkdir -p 'data/paul_graham/'\n",
    "!wget 'https://raw.githubusercontent.com/run-llama/llama_index/main/docs/docs/examples/data/paul_graham/paul_graham_essay.txt' -O 'data/paul_graham/paul_graham_essay.txt'"
   ]
  },
  {
   "cell_type": "markdown",
   "metadata": {},
   "source": [
    "## Load Data"
   ]
  },
  {
   "cell_type": "code",
   "execution_count": null,
   "metadata": {},
   "outputs": [],
   "source": [
    "from llama_index.core import SimpleDirectoryReader\n",
    "\n",
    "documents = SimpleDirectoryReader(\"./data/paul_graham\").load_data()"
   ]
  },
  {
   "cell_type": "markdown",
   "metadata": {},
   "source": [
    "## Create Nodes"
   ]
  },
  {
   "cell_type": "code",
   "execution_count": null,
   "metadata": {},
   "outputs": [],
   "source": [
    "nodes = Settings.node_parser.get_nodes_from_documents(documents)"
   ]
  },
  {
   "cell_type": "markdown",
   "metadata": {},
   "source": [
    "## Create Indices\n",
    "\n",
    "We will create three indices SummaryIndex, VectorStoreIndex and SimpleKeywordTableIndex."
   ]
  },
  {
   "cell_type": "code",
   "execution_count": null,
   "metadata": {},
   "outputs": [],
   "source": [
    "from llama_index.core import (\n",
    "    VectorStoreIndex,\n",
    "    SummaryIndex,\n",
    "    SimpleKeywordTableIndex,\n",
    ")\n",
    "\n",
    "summary_index = SummaryIndex(nodes)\n",
    "vector_index = VectorStoreIndex(nodes)\n",
    "keyword_index = SimpleKeywordTableIndex(nodes)"
   ]
  },
  {
   "cell_type": "markdown",
   "metadata": {},
   "source": [
    "## Create Query Engine Tools"
   ]
  },
  {
   "cell_type": "code",
   "execution_count": null,
   "metadata": {},
   "outputs": [],
   "source": [
    "from llama_index.core.tools import QueryEngineTool\n",
    "\n",
    "list_query_engine = summary_index.as_query_engine(\n",
    "    response_mode=\"tree_summarize\",\n",
    "    use_async=True,\n",
    ")\n",
    "vector_query_engine = vector_index.as_query_engine()\n",
    "keyword_query_engine = keyword_index.as_query_engine()\n",
    "\n",
    "list_tool = QueryEngineTool.from_defaults(\n",
    "    query_engine=list_query_engine,\n",
    "    description=(\n",
    "        \"Useful for summarization questions related to Paul Graham eassy on\"\n",
    "        \" What I Worked On.\"\n",
    "    ),\n",
    ")\n",
    "\n",
    "vector_tool = QueryEngineTool.from_defaults(\n",
    "    query_engine=vector_query_engine,\n",
    "    description=(\n",
    "        \"Useful for retrieving specific context from Paul Graham essay on What\"\n",
    "        \" I Worked On.\"\n",
    "    ),\n",
    ")\n",
    "\n",
    "keyword_tool = QueryEngineTool.from_defaults(\n",
    "    query_engine=keyword_query_engine,\n",
    "    description=(\n",
    "        \"Useful for retrieving specific context using keywords from Paul\"\n",
    "        \" Graham essay on What I Worked On.\"\n",
    "    ),\n",
    ")\n",
    "\n",
    "query_engine_tools = [list_tool, vector_tool, keyword_tool]"
   ]
  },
  {
   "cell_type": "markdown",
   "metadata": {},
   "source": [
    "## Run the Workflow!"
   ]
  },
  {
   "cell_type": "code",
   "execution_count": null,
   "metadata": {},
   "outputs": [],
   "source": [
    "import nest_asyncio\n",
    "\n",
    "nest_asyncio.apply()\n",
    "\n",
    "w = RouterQueryEngineWorkflow(timeout=200)"
   ]
  },
  {
   "cell_type": "markdown",
   "metadata": {},
   "source": [
    "### Querying"
   ]
  },
  {
   "cell_type": "markdown",
   "metadata": {},
   "source": [
    "#### Summarization Query"
   ]
  },
  {
   "cell_type": "code",
   "execution_count": null,
   "metadata": {},
   "outputs": [
    {
     "name": "stdout",
     "output_type": "stream",
     "text": [
      "number of selected query engines: 1\n",
      "Selected query engine: 0: This choice directly addresses the need for a summary of the document.\n"
     ]
    },
    {
     "data": {
      "text/markdown": [
       "> Question: Provide the summary of the document?"
      ],
      "text/plain": [
       "<IPython.core.display.Markdown object>"
      ]
     },
     "metadata": {},
     "output_type": "display_data"
    },
    {
     "data": {
      "text/markdown": [
       "Answer: The document chronicles the journey of an individual who navigated through various fields, including writing, programming, artificial intelligence, and art, before ultimately becoming a prominent figure in the startup ecosystem. It begins with early experiences in writing short stories and programming on an IBM 1401, transitioning to microcomputers and discovering a passion for coding, particularly in Lisp.\n",
       "\n",
       "The narrative details a shift from studying philosophy to pursuing artificial intelligence, influenced by literature and documentaries. Despite initial enthusiasm, the author became disillusioned with the limitations of AI as practiced at the time, leading to a focus on Lisp and the writing of a book on the subject.\n",
       "\n",
       "After a stint in art school, the author returned to programming and co-founded Viaweb, an early e-commerce platform that was later acquired by Yahoo. The experience at Viaweb highlighted the importance of growth rates in startups and the challenges of managing a growing company.\n",
       "\n",
       "Following the acquisition, the author faced a period of burnout but eventually transitioned into angel investing and co-founded Y Combinator, a startup accelerator that revolutionized early-stage funding. The document reflects on the evolution of Y Combinator, its unique batch model, and the supportive community it fostered among startups.\n",
       "\n",
       "As the narrative progresses, the author contemplates the balance between personal and professional life, particularly after family health issues. The conclusion emphasizes a return to painting and writing essays, alongside the development of a new Lisp dialect called Bel, showcasing a continuous exploration of creativity and technology throughout the author's life."
      ],
      "text/plain": [
       "<IPython.core.display.Markdown object>"
      ]
     },
     "metadata": {},
     "output_type": "display_data"
    }
   ],
   "source": [
    "# This should use summary query engine/ tool.\n",
    "\n",
    "query = \"Provide the summary of the document?\"\n",
    "\n",
    "result = await w.run(\n",
    "    query=query,\n",
    "    llm=llm,\n",
    "    query_engine_tools=query_engine_tools,\n",
    "    summarizer=summarizer,\n",
    "    select_multi=True,  # You can change it to default it to select only one query engine.\n",
    ")\n",
    "\n",
    "display(\n",
    "    Markdown(\"> Question: {}\".format(query)),\n",
    "    Markdown(\"Answer: {}\".format(result)),\n",
    ")"
   ]
  },
  {
   "cell_type": "markdown",
   "metadata": {},
   "source": [
    "#### Pointed Context Query"
   ]
  },
  {
   "cell_type": "code",
   "execution_count": null,
   "metadata": {},
   "outputs": [
    {
     "name": "stdout",
     "output_type": "stream",
     "text": [
      "number of selected query engines: 1\n",
      "Selected query engine: 1: The question asks for specific context about the author's experiences growing up, which aligns with retrieving specific context from the essay.\n"
     ]
    },
    {
     "data": {
      "text/markdown": [
       "> Question: What did the author do growing up?"
      ],
      "text/plain": [
       "<IPython.core.display.Markdown object>"
      ]
     },
     "metadata": {},
     "output_type": "display_data"
    },
    {
     "data": {
      "text/markdown": [
       "Answer: Growing up, the author focused on writing and programming outside of school. Initially, he wrote short stories, which he later described as lacking in plot but rich in character emotions. He began programming at a young age on an IBM 1401, using punch cards, but found it puzzling and limited due to the lack of input data. As technology evolved, he transitioned to microcomputers, where he started writing simple games and a word processor. Despite enjoying programming, he initially planned to study philosophy in college, believing it to be a pursuit of ultimate truths. However, he later switched his focus to artificial intelligence, influenced by literature and documentaries."
      ],
      "text/plain": [
       "<IPython.core.display.Markdown object>"
      ]
     },
     "metadata": {},
     "output_type": "display_data"
    }
   ],
   "source": [
    "# This should use vector query engine/ tool.\n",
    "\n",
    "query = \"What did the author do growing up?\"\n",
    "\n",
    "result = await w.run(\n",
    "    query=query,\n",
    "    llm=llm,\n",
    "    query_engine_tools=query_engine_tools,\n",
    "    summarizer=summarizer,\n",
    "    select_multi=False,  # You can change it to select multiple query engines.\n",
    ")\n",
    "\n",
    "display(\n",
    "    Markdown(\"> Question: {}\".format(query)),\n",
    "    Markdown(\"Answer: {}\".format(result)),\n",
    ")"
   ]
  },
  {
   "cell_type": "code",
   "execution_count": null,
   "metadata": {},
   "outputs": [
    {
     "name": "stdout",
     "output_type": "stream",
     "text": [
      "number of selected query engines: 2\n",
      "Selected query engine: 1: This choice is useful for retrieving specific context related to notable events and people from the author's time at Interleaf and YC.\n",
      "Selected query engine: 2: This choice allows for retrieving specific context using keywords, which can help in identifying notable events and people.\n",
      "Combining responses from multiple query engines.\n"
     ]
    },
    {
     "data": {
      "text/markdown": [
       "> Question: What were noteable events and people from the authors time at Interleaf and YC?"
      ],
      "text/plain": [
       "<IPython.core.display.Markdown object>"
      ]
     },
     "metadata": {},
     "output_type": "display_data"
    },
    {
     "data": {
      "text/markdown": [
       "Answer: During the author's time at Interleaf, notable events included the existence of a large Release Engineering group, which underscored the complexities of software updates and versioning. The introduction of a scripting language inspired by Emacs, a dialect of Lisp, was also significant. The author reflected on their experience as a bad employee, learning important lessons about the dynamics of technology companies, particularly the value of being run by product people rather than salespeople.\n",
       "\n",
       "At Y Combinator (YC), key events included a significant deal involving seed funding with Idelle's husband, Julian, which influenced YC's funding model. The transition of leadership to Sam Altman as president marked a pivotal moment, as the author stepped back to ensure YC's evolution and longevity. The author highlighted the contributions of individuals such as Jessica Livingston, Trevor Blackwell, Robert Morris, and the Collison brothers, who played crucial roles in the development of projects and the overall experience at YC. Additionally, the stress of managing Hacker News, which evolved from a news aggregator for startup founders to a broader platform, was a notable aspect of this period."
      ],
      "text/plain": [
       "<IPython.core.display.Markdown object>"
      ]
     },
     "metadata": {},
     "output_type": "display_data"
    }
   ],
   "source": [
    "# This query could use either a keyword or vector query engine\n",
    "# so it will combine responses from both\n",
    "\n",
    "query = \"What were noteable events and people from the authors time at Interleaf and YC?\"\n",
    "\n",
    "result = await w.run(\n",
    "    query=query,\n",
    "    llm=llm,\n",
    "    query_engine_tools=query_engine_tools,\n",
    "    summarizer=summarizer,\n",
    "    select_multi=True,  # Since query should use two query engine tools, we enabled it.\n",
    ")\n",
    "\n",
    "display(\n",
    "    Markdown(\"> Question: {}\".format(query)),\n",
    "    Markdown(\"Answer: {}\".format(result)),\n",
    ")"
   ]
  }
 ],
 "metadata": {
  "kernelspec": {
   "display_name": "llamaindex",
   "language": "python",
   "name": "llamaindex"
  },
  "language_info": {
   "codemirror_mode": {
    "name": "ipython",
    "version": 3
   },
   "file_extension": ".py",
   "mimetype": "text/x-python",
   "name": "python",
   "nbconvert_exporter": "python",
   "pygments_lexer": "ipython3"
  }
 },
 "nbformat": 4,
 "nbformat_minor": 2
}
