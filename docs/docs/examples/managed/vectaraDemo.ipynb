{
 "cells": [
  {
   "cell_type": "markdown",
   "id": "adf7d63d",
   "metadata": {},
   "source": [
    "<a href=\"https://colab.research.google.com/github/jerryjliu/llama_index/blob/main/docs/examples/managed/vectaraDemo.ipynb\" target=\"_parent\"><img src=\"https://colab.research.google.com/assets/colab-badge.svg\" alt=\"Open In Colab\"/></a>"
   ]
  },
  {
   "cell_type": "markdown",
   "id": "db0855d0",
   "metadata": {},
   "source": [
    "# Vectara Managed Index\n",
    "In this notebook we are going to show how to use [Vectara](https://vectara.com) with LlamaIndex.\n",
    "\n",
    "Vectara provides an end-to-end managed service for Retrieval Augmented Generation or RAG, which includes:\n",
    "1. A way to extract text from document files and chunk them into sentences.\n",
    "2. The state-of-the-art [Boomerang](https://vectara.com/how-boomerang-takes-retrieval-augmented-generation-to-the-next-level-via-grounded-generation/) embeddings model. Each text chunk is encoded into a vector embedding using Boomerang, and stored in the Vectara internal vector store. Thus, when using Vectara with LlamaIndex you do not need to call a separate embedding model - this happens automatically within the Vectara backend.\n",
    "3. A query service that automatically encodes the query into embedding, and retrieves the most relevant text segments (including support for [Hybrid Search](https://docs.vectara.com/docs/api-reference/search-apis/lexical-matching) and [MMR](https://vectara.com/get-diverse-results-and-comprehensive-summaries-with-vectaras-mmr-reranker/), [Multilingual](https://vectara.com/blog/unlocking-the-state-of-the-art-reranker-introducing-the-vectara-multilingual-reranker_v1/), or [User Defined Function](https://vectara.com/blog/introducing-user-defined-functions-for-vectara/) reranking)\n",
    "4. An option to a create [generative summary](https://docs.vectara.com/docs/learn/grounded-generation/grounded-generation-overview) with a selection of different LLMs (including [Mockingbird](https://vectara.com/blog/mockingbird-is-a-rag-specific-llm-that-beats-gpt-4-gemini-1-5-pro-in-rag-output-quality/)), based on the retrieved documents, including citations.\n",
    "\n",
    "See the [Vectara API documentation](https://docs.vectara.com/docs/) for more information on how to use the API."
   ]
  },
  {
   "cell_type": "markdown",
   "id": "cfe2497c",
   "metadata": {},
   "source": [
    "## Getting Started\n",
    "\n",
    "If you're opening this Notebook on colab, you will probably need to install LlamaIndex 🦙."
   ]
  },
  {
   "cell_type": "code",
   "execution_count": null,
   "id": "6019e01a",
   "metadata": {},
   "outputs": [],
   "source": [
    "!pip install llama-index lama-index-indices-managed-vectara"
   ]
  },
  {
   "cell_type": "markdown",
   "id": "2b201796-4463-4ec4-b537-d855a384878c",
   "metadata": {},
   "source": [
    "To get started with Vectara, [sign up](https://vectara.com/integrations/llamaindex) (if you haven't already) and follow our [quickstart guide](https://docs.vectara.com/docs/quickstart) to create a corpus and an API key.\n",
    "\n",
    "Once you have these, you can provide them as environment variables, which will be used by the LlamaIndex code later on.\n",
    "\n",
    "```\n",
    "import os\n",
    "os.environ['VECTARA_API_KEY'] = \"<YOUR_VECTARA_API_KEY>\"\n",
    "os.environ['VECTARA_CORPUS_ID'] = \"<YOUR_VECTARA_CORPUS_ID>\"\n",
    "os.environ['VECTARA_CUSTOMER_ID'] = \"<YOUR_VECTARA_CUSTOMER_ID>\"\n",
    "```"
   ]
  },
  {
   "cell_type": "markdown",
   "id": "f7010b1d-d1bb-4f08-9309-a328bb4ea396",
   "metadata": {},
   "source": [
    "## RAG with LlamaIndex and Vectara\n",
    "\n",
    "There are a few ways you can index your data into Vectara, including:\n",
    "1. With the `from_documents()` or `insert_file()` methods of `VectaraIndex`\n",
    "2. Uploading files directly in the [Vectara console](https://console.vectara.com/)\n",
    "3. Using Vectara's FILE_UPLOAD or standard indexing APIs\n",
    "4. Using [vectara-ingest](https://github.com/vectara/vectara-ingest), an open source crawler/indexer project\n",
    "5. Using one of our ingest integration partners like Airbyte, Unstructured or DataVolo.\n",
    "\n",
    "For this purpose, we will use a simple set of small documents, so using `VectaraIndex` directly for the ingest is good enough.\n",
    "\n",
    "Let's ingest the \"AI bill of rights\" document into our new corpus."
   ]
  },
  {
   "cell_type": "code",
   "execution_count": null,
   "id": "c154dd4b",
   "metadata": {},
   "outputs": [
    {
     "data": {
      "text/plain": [
       "'ai-bill-of-rights.pdf'"
      ]
     },
     "execution_count": null,
     "metadata": {},
     "output_type": "execute_result"
    }
   ],
   "source": [
    "from llama_index.indices.managed.vectara import VectaraIndex\n",
    "import requests\n",
    "\n",
    "url = \"https://www.whitehouse.gov/wp-content/uploads/2022/10/Blueprint-for-an-AI-Bill-of-Rights.pdf\"\n",
    "response = requests.get(url)\n",
    "local_path = \"ai-bill-of-rights.pdf\"\n",
    "with open(local_path, \"wb\") as file:\n",
    "    file.write(response.content)\n",
    "\n",
    "index = VectaraIndex()\n",
    "index.insert_file(\n",
    "    local_path, metadata={\"name\": \"AI bill of rights\", \"year\": 2022}\n",
    ")"
   ]
  },
  {
   "cell_type": "markdown",
   "id": "8ee4473a-094f-4d0a-a825-e1213db07240",
   "metadata": {},
   "source": [
    "### Running single queries with Vectara Query Engine\n",
    "Now that we've uploaded the document (or if documents have been uploaded previously) we can go and ask questions directly in LlamaIndex. This activates Vectara's RAG pipeline. \n",
    "\n",
    "To use Vectara's internal LLM for summarization, make sure you specify `summary_enabled=True` when you generate the Query engine. Here's an example:"
   ]
  },
  {
   "cell_type": "code",
   "execution_count": null,
   "id": "bb174ec3",
   "metadata": {},
   "outputs": [],
   "source": [
    "questions = [\n",
    "    \"What are the risks of AI?\",\n",
    "    \"What should we do to prevent bad actors from using AI?\",\n",
    "    \"What are the benefits?\",\n",
    "]"
   ]
  },
  {
   "cell_type": "code",
   "execution_count": null,
   "id": "890f7133",
   "metadata": {},
   "outputs": [],
   "source": [
    "qe = index.as_query_engine(\n",
    "    summary_enabled=True, summary_prompt_name=\"mockingbird-1.0-2024-07-16\"\n",
    ")\n",
    "qe.query(questions[0]).response"
   ]
  },
  {
   "cell_type": "markdown",
   "id": "5c464a9a-0386-43d5-b074-c7ee8eb1d3fe",
   "metadata": {},
   "source": [
    "If you want the response to be returned in streaming mode, simply set `streaming=True`"
   ]
  },
  {
   "cell_type": "code",
   "execution_count": null,
   "id": "e4eafb4c-4fe7-4e81-b588-dd83979917fc",
   "metadata": {},
   "outputs": [],
   "source": [
    "qe = index.as_query_engine(\n",
    "    summary_enabled=True,\n",
    "    summary_prompt_name=\"mockingbird-1.0-2024-07-16\",\n",
    "    streaming=True,\n",
    ")\n",
    "response = qe.query(questions[0])\n",
    "\n",
    "for chunk in response.response_gen:\n",
    "    print(chunk.delta or \"\", end=\"\", flush=True)"
   ]
  },
  {
   "cell_type": "markdown",
   "id": "d2e74c56-2fd3-4e0d-a387-d6088766ce2c",
   "metadata": {},
   "source": [
    "### Using Vectara Chat\n",
    "\n",
    "Vectara also supports a simple chat mode. In this mode the chat history is maintained by Vectara and so you don't have to worry about it. To use it simple call `as_chat_engine`.\n",
    "\n",
    "(Chat mode always uses Vectara's summarization so you don't have to explicitly specify `summary_enabled=True` like before)"
   ]
  },
  {
   "cell_type": "code",
   "execution_count": null,
   "id": "72eb45dc-b02b-4c5f-9f93-28d0e20d6b3f",
   "metadata": {},
   "outputs": [],
   "source": [
    "ce = index.as_chat_engine()"
   ]
  },
  {
   "cell_type": "code",
   "execution_count": null,
   "id": "4907248f-ff80-41fa-98e9-b1e4bb1b1400",
   "metadata": {},
   "outputs": [],
   "source": [
    "for q in questions:\n",
    "    print(f\"Question: {q}\\n\")\n",
    "    response = ce.chat(q).response\n",
    "    print(f\"Response: {response}\\n\")"
   ]
  },
  {
   "cell_type": "markdown",
   "id": "b105809b-efea-4937-b6a3-e3de8986aa8c",
   "metadata": {},
   "source": [
    "Of course streaming works as well with Chat:"
   ]
  },
  {
   "cell_type": "code",
   "execution_count": null,
   "id": "61cc0885-01a4-4569-864d-0eb8bbc70eab",
   "metadata": {},
   "outputs": [],
   "source": [
    "ce = index.as_chat_engine(streaming=True)"
   ]
  },
  {
   "cell_type": "code",
   "execution_count": null,
   "id": "e44797ff-d23f-4d6a-9839-82aec6040af0",
   "metadata": {},
   "outputs": [],
   "source": [
    "response = ce.stream_chat(\n",
    "    \"Will artificial intelligence take over the government?\"\n",
    ")\n",
    "for chunk in response.chat_stream:\n",
    "    print(chunk.delta or \"\", end=\"\", flush=True)"
   ]
  },
  {
   "cell_type": "markdown",
   "id": "e52fe86d-b0d5-4520-bac2-df9324a5eacc",
   "metadata": {},
   "source": [
    "### Agentic RAG\n",
    "\n",
    "Vectara also has its own package, [vectara-agentic](https://github.com/vectara/py-vectara-agentic), built on top of many features from LlamaIndex to easily implement agentic RAG applications. It allows you to create your own AI assistant with RAG query tools and other custom tools, such as making API calls to retrieve information from financial websites. You can find the full documentation for vectara-agentic [here](https://vectara.github.io/vectara-agentic-docs/).\n",
    "\n",
    "Let's create a ReAct Agent with a single RAG tool using vectara-agentic.\n",
    "For this you would need to use another LLM as the driver of the agent resoning, and we are using OpenAI's GPT4o here as an example.\n",
    "(for this to work, please make sure you have `OPENAI_API_KEY` defined in your environment)."
   ]
  },
  {
   "cell_type": "code",
   "execution_count": null,
   "id": "69f0d504-bc72-4dfc-8cdf-83b8aa69206c",
   "metadata": {},
   "outputs": [],
   "source": [
    "!pip install vectara-agentic"
   ]
  },
  {
   "cell_type": "markdown",
   "id": "7b8425b7-6235-408b-a02e-ff332916b4d6",
   "metadata": {},
   "source": [
    "UNCOMMENT NAME ARGUMENT WHEN NEW VERSION OF VECTARA AGENTIC IS RELEASED. MAKE SURE THE AGENT DOES NOT USE \"vectara_11\" as the first Action"
   ]
  },
  {
   "cell_type": "code",
   "execution_count": null,
   "id": "ee674bf5-fccb-42cb-8499-77aad14fc538",
   "metadata": {},
   "outputs": [
    {
     "name": "stdout",
     "output_type": "stream",
     "text": [
      "> Running step 8727a7bd-c235-44cf-aff5-6b15c82c46ce. Step input: What are the risks of AI? What are the benefits? Compare and contrast and provide a summary with arguments for and against from experts.\n",
      "\u001b[1;3;38;5;200mThought: The current language of the user is: English. I need to use a tool to help me answer the question.\n",
      "Action: vectara_11\n",
      "Action Input: {'query': 'What are the risks and benefits of AI? Compare and contrast with expert opinions.'}\n",
      "\u001b[0m\u001b[1;3;34mObservation: {'response': 'The risks of AI include biased data and discriminatory outcomes, opaque decision-making processes, and lack of public trust and understanding of algorithmic systems [1]. These risks can lead to harm, particularly in high-stakes settings, and it is essential to design AI systems with transparency, value-sensitive and participatory design, and explanations designed for relevant stakeholders [1]. The benefits of AI-enabled systems include the potential to build better and more innovative infrastructure, but it is crucial to have thoughtful and responsible development and integration of technology within communities [2]. To mitigate risks, industry is providing innovative solutions, such as risk assessments, auditing mechanisms, and documentation procedures, and the government is developing frameworks and standards to ensure safe and effective systems [4]. Additionally, data privacy is a foundational principle required for achieving all other principles, and surveillance and data collection, sharing, use, and reuse must be addressed to prevent harm [5].', 'citation_metadata': {'metadata for citation 1': {'page': '56', 'title': 'Blueprint for an AI Bill of Rights', 'lang': 'eng', 'section': '4', 'offset': '9099', 'len': '689', 'CreationDate': '1663695035', 'Producer': 'iLovePDF', 'Title': 'Blueprint for an AI Bill of Rights', 'Creator': 'Adobe Illustrator 26.3 (Macintosh)', 'ModDate': '1664808078', 'name': 'AI bill of rights', 'year': '2022', 'framework': 'llama_index'}, 'metadata for citation 2': {'page': '56', 'title': 'Blueprint for an AI Bill of Rights', 'lang': 'eng', 'section': '4', 'offset': '1', 'len': '140', 'CreationDate': '1663695035', 'Producer': 'iLovePDF', 'Title': 'Blueprint for an AI Bill of Rights', 'Creator': 'Adobe Illustrator 26.3 (Macintosh)', 'ModDate': '1664808078', 'name': 'AI bill of rights', 'year': '2022', 'framework': 'llama_index'}, 'metadata for citation 4': {'page': '1', 'lang': 'eng', 'section': '1', 'offset': '52952', 'len': '1025', 'CreationDate': '1663695035', 'Producer': 'iLovePDF', 'Title': 'Blueprint for an AI Bill of Rights', 'Creator': 'Adobe Illustrator 26.3 (Macintosh)', 'ModDate': '1664808078', 'name': 'AI bill of rights', 'year': '2022', 'framework': 'llama_index', 'title': 'Blueprint for an AI Bill of Rights'}, 'metadata for citation 5': {'page': '1', 'lang': 'eng', 'section': '1', 'offset': '80427', 'len': '109', 'CreationDate': '1663695035', 'Producer': 'iLovePDF', 'Title': 'Blueprint for an AI Bill of Rights', 'Creator': 'Adobe Illustrator 26.3 (Macintosh)', 'ModDate': '1664808078', 'name': 'AI bill of rights', 'year': '2022', 'framework': 'llama_index', 'title': 'Blueprint for an AI Bill of Rights'}}, 'factual_consistency': 0.89026827}\n",
      "\u001b[0m> Running step 9c957589-91fb-4a4c-9c54-e12e12d02c04. Step input: None\n",
      "\u001b[1;3;38;5;200mThought: I can answer without using any more tools. I'll use the user's language to answer.\n",
      "Answer: The risks of AI include biased data and discriminatory outcomes, opaque decision-making processes, and a lack of public trust and understanding of algorithmic systems. These risks can lead to harm, especially in high-stakes settings, making it essential to design AI systems with transparency and stakeholder engagement. On the other hand, the benefits of AI include the potential to innovate and improve infrastructure. However, this requires thoughtful and responsible development and integration within communities.\n",
      "\n",
      "To mitigate risks, the industry is developing solutions like risk assessments, auditing mechanisms, and documentation procedures, while governments are creating frameworks and standards to ensure safe and effective systems. Data privacy is also a foundational principle that must be addressed to prevent harm from surveillance and data misuse.\n",
      "\n",
      "Experts argue for the responsible development of AI to harness its benefits while minimizing risks. The \"Blueprint for an AI Bill of Rights\" provides a framework for achieving this balance by emphasizing transparency, accountability, and stakeholder involvement.\n",
      "\u001b[0mThe risks of AI include biased data and discriminatory outcomes, opaque decision-making processes, and a lack of public trust and understanding of algorithmic systems. These risks can lead to harm, especially in high-stakes settings, making it essential to design AI systems with transparency and stakeholder engagement. On the other hand, the benefits of AI include the potential to innovate and improve infrastructure. However, this requires thoughtful and responsible development and integration within communities.\n",
      "\n",
      "To mitigate risks, the industry is developing solutions like risk assessments, auditing mechanisms, and documentation procedures, while governments are creating frameworks and standards to ensure safe and effective systems. Data privacy is also a foundational principle that must be addressed to prevent harm from surveillance and data misuse.\n",
      "\n",
      "Experts argue for the responsible development of AI to harness its benefits while minimizing risks. The \"Blueprint for an AI Bill of Rights\" provides a framework for achieving this balance by emphasizing transparency, accountability, and stakeholder involvement.\n"
     ]
    }
   ],
   "source": [
    "from vectara_agentic.agent import Agent\n",
    "import os\n",
    "from dotenv import load_dotenv\n",
    "\n",
    "load_dotenv(override=True)\n",
    "\n",
    "api_key = str(os.environ[\"VECTARA_API_KEY\"])\n",
    "corpus_id = str(os.environ[\"VECTARA_CORPUS_ID\"])\n",
    "customer_id = str(os.environ[\"VECTARA_CUSTOMER_ID\"])\n",
    "\n",
    "agent = Agent.from_corpus(\n",
    "    # name=\"Vectara Query Tool\",\n",
    "    vectara_customer_id=customer_id,\n",
    "    vectara_corpus_id=corpus_id,\n",
    "    vectara_api_key=api_key,\n",
    "    data_description=\"AI regulations\",\n",
    "    assistant_specialty=\"artificial intelligence\",\n",
    "    verbose=True,\n",
    "    vectara_summary_num_results=5,\n",
    "    vectara_summarizer=\"mockingbird-1.0-2024-07-16\",\n",
    "    vectara_reranker=\"mmr\",\n",
    "    vectara_rerank_k=50,\n",
    ")\n",
    "\n",
    "print(\n",
    "    agent.chat(\n",
    "        \"What are the risks of AI? What are the benefits? Compare and contrast and provide a summary with arguments for and against from experts.\"\n",
    "    )\n",
    ")"
   ]
  }
 ],
 "metadata": {
  "kernelspec": {
   "display_name": "Python 3 (ipykernel)",
   "language": "python",
   "name": "python3"
  },
  "language_info": {
   "codemirror_mode": {
    "name": "ipython",
    "version": 3
   },
   "file_extension": ".py",
   "mimetype": "text/x-python",
   "name": "python",
   "nbconvert_exporter": "python",
   "pygments_lexer": "ipython3"
  }
 },
 "nbformat": 4,
 "nbformat_minor": 5
}
