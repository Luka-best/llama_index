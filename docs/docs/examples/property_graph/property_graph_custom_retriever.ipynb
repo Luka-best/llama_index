{
 "cells": [
  {
   "cell_type": "markdown",
   "id": "9bfdaff2-6478-4fc7-a717-c56cb5b8b1c2",
   "metadata": {},
   "source": [
    "# Defining a Custom Property Graph Retriever\n",
    "\n",
    "This guide shows you how to define a custom retriever against a property graph.\n",
    "\n",
    "It is more involved than using our out-of-the-box graph retrievers, but allows you to have granular control over the retrieval process so that it's better tailored for your application. \n",
    "\n",
    "We show you how to define an advanced retrieval flow by directly leveraging the property graph store. We'll execute both vector search and text-to-cypher retrieval, and then combine the results through a reranking module."
   ]
  },
  {
   "cell_type": "code",
   "execution_count": null,
   "id": "c0bcf776-7e25-4f3b-9cf7-edd954cede01",
   "metadata": {},
   "outputs": [],
   "source": [
    "%pip install llama-index"
   ]
  },
  {
   "cell_type": "markdown",
   "id": "6159b260-0061-4323-897f-f12e261da235",
   "metadata": {},
   "source": [
    "## Setup and Build the Property Graph"
   ]
  },
  {
   "cell_type": "code",
   "execution_count": null,
   "id": "6389fe2a-6573-4847-a7ca-756b3f94d34f",
   "metadata": {},
   "outputs": [],
   "source": [
    "import nest_asyncio\n",
    "nest_asyncio.apply()"
   ]
  },
  {
   "cell_type": "code",
   "execution_count": null,
   "id": "fa4d0d28-d20a-4378-8f3b-2f0ed776d2ac",
   "metadata": {},
   "outputs": [],
   "source": [
    "import os\n",
    "\n",
    "os.environ[\"OPENAI_API_KEY\"] = \"sk-proj-...\""
   ]
  },
  {
   "cell_type": "markdown",
   "id": "12dc1433-c1e6-4a77-9c3b-2b4e52bae23d",
   "metadata": {},
   "source": [
    "#### Load Paul Graham Essay"
   ]
  },
  {
   "cell_type": "code",
   "execution_count": null,
   "id": "57333740-ec57-42d6-ae60-8fc3fa58c504",
   "metadata": {},
   "outputs": [],
   "source": [
    "!mkdir -p 'data/paul_graham/'\n",
    "!wget 'https://raw.githubusercontent.com/run-llama/llama_index/main/docs/docs/examples/data/paul_graham/paul_graham_essay.txt' -O 'data/paul_graham/paul_graham_essay.txt'"
   ]
  },
  {
   "cell_type": "code",
   "execution_count": null,
   "id": "1685f988-9d8f-4ac7-bf90-822430c01414",
   "metadata": {},
   "outputs": [],
   "source": [
    "from llama_index.core import SimpleDirectoryReader\n",
    "\n",
    "documents = SimpleDirectoryReader(\"./data/paul_graham/\").load_data()"
   ]
  },
  {
   "cell_type": "markdown",
   "id": "2183f0ce-ae84-41cb-bcfa-3f81705e24e8",
   "metadata": {},
   "source": [
    "#### Define Default LLMs "
   ]
  },
  {
   "cell_type": "code",
   "execution_count": null,
   "id": "d06478af-01bc-43ed-aabc-30d193d6482a",
   "metadata": {},
   "outputs": [],
   "source": [
    "from llama_index.embeddings.openai import OpenAIEmbedding\n",
    "from llama_index.llms.openai import OpenAI\n",
    "\n",
    "llm = OpenAI(model=\"gpt-3.5-turbo\", temperature=0.3)\n",
    "embed_model = OpenAIEmbedding(model_name=\"text-embedding-3-small\")"
   ]
  },
  {
   "cell_type": "markdown",
   "id": "35a33a72-323a-4462-9d91-a2ae6ff04f9f",
   "metadata": {},
   "source": [
    "#### Build the Property Graph"
   ]
  },
  {
   "cell_type": "code",
   "execution_count": null,
   "id": "67f2faf0-e079-4f1f-97d7-65a0cd64eabb",
   "metadata": {},
   "outputs": [],
   "source": [
    "from llama_index.core import PropertyGraphIndex\n",
    "\n",
    "index = PropertyGraphIndex.from_documents(\n",
    "    documents,\n",
    "    llm=llm,\n",
    "    embed_model=embed_model,\n",
    "    show_progress=True,\n",
    ")"
   ]
  },
  {
   "cell_type": "markdown",
   "id": "6097923a-4cd9-4c82-9a88-4f89144e06c9",
   "metadata": {},
   "source": [
    "## Define Custom Retriever\n",
    "\n",
    "Now we define a custom retriever by subclassing `CustomPGRetriever`. \n",
    "\n",
    "#### 1. Initialization \n",
    "We initialize two pre-existing property graph retrievers: the `VectorContextRetriever` and the `TextToCypherRetriever`, as well as the cohere reranker.\n",
    "\n",
    "#### 2. Define `custom_retrieve`\n",
    "\n",
    "We then define the `custom_retrieve` function. It passes nodes through the two retrievers and gets back a final ranked list."
   ]
  },
  {
   "cell_type": "code",
   "execution_count": null,
   "id": "f69a555b-4029-4b74-9c96-6da617f651aa",
   "metadata": {},
   "outputs": [],
   "source": [
    "from llama_index.retrievers import (\n",
    "    CustomPGRetriever, \n",
    "    VectorContextRetriever, \n",
    "    TextToCypherRetriever\n",
    ")\n",
    "from llama_index.core.graph_stores import PropertyGraphStore\n",
    "from llama_index.core.vector_stores import VectorStore\n",
    "from llama_index.core.embeddings import BaseEmbedding\n",
    "from llama_index.core.prompts import PromptTemplate\n",
    "from llama_index.core.llms import LLM\n",
    "from llama_index.postprocessor.cohere_rerank import CohereRerank\n",
    "\n",
    "\n",
    "from typing import Optional, Any, Union\n",
    "\n",
    "\n",
    "class MyCustomRetriever(CustomPGRetriever):\n",
    "    \"\"\"Custom retriever with cohere reranking.\"\"\"\n",
    "\n",
    "    def init(\n",
    "        graph_store: PropertyGraphStore,\n",
    "        ## vector context retriever params\n",
    "        include_text: bool = True,\n",
    "        embed_model: Optional[BaseEmbedding] = None,\n",
    "        vector_store: Optional[VectorStore] = None,\n",
    "        similarity_top_k: int = 4,\n",
    "        path_depth: int = 1,\n",
    "        ## text-to-cypher params\n",
    "        llm: Optional[LLM] = None,\n",
    "        text_to_cypher_template: Optional[Union[PromptTemplate, str]] = None,\n",
    "        ## cohere reranker params \n",
    "        cohere_api_key: Optional[str] = None,\n",
    "        cohere_top_n: int = 2\n",
    "        **kwargs: Any,\n",
    "    ) -> None:\n",
    "        \"\"\"Uses any kwargs passed in from class constructor.\"\"\"\n",
    "        \n",
    "        self.vector_retriever = VectorContextRetriever(\n",
    "            graph_store,\n",
    "            include_text=include_text,\n",
    "            embed_model=embed_model,\n",
    "            vector_store=vector_store,\n",
    "            similarity_top_k=similarity_top_k,\n",
    "            path_depth=path_depth\n",
    "        )\n",
    "        \n",
    "        self.cypher_retriever = TextToCypherRetriever(\n",
    "            graph_store,\n",
    "            llm=llm,\n",
    "            text_to_cypher_template=text_to_cypher_template\n",
    "            ## NOTE: you can attach other parameters here if you'd like \n",
    "        )\n",
    "        \n",
    "        self.reranker = CohereRerank(api_key=cohere_api_key, top_n=cohere_top_n)\n",
    "\n",
    "    def custom_retrieve(self, query_str: str) -> str:\n",
    "        \"\"\"Define custom retriever with reranking.\"\"\" \n",
    "        nodes_1 = self.vector_retriever.retrieve(query_str)\n",
    "        nodes_2 = self.cypher_retriever.retrieve(query_str)\n",
    "        reranked_nodes = self.reranker.postprocess_nodes(nodes_1 + nodes_2)\n",
    "        \n",
    "        \n",
    "        ## TMP: please change\n",
    "        final_text = \"\\n\\n\".join([n.get_content(metadata_mode=\"llm\") for n in reranked_nodes])\n",
    "        \n",
    "        return final_text\n",
    "        \n",
    "\n",
    "    # optional async method\n",
    "    # async def acustom_retrieve(self, query_str: str) -> str:\n",
    "    #     ..."
   ]
  },
  {
   "cell_type": "markdown",
   "id": "e9a7ad0b-f170-40e8-b9bd-76deb5b42bdc",
   "metadata": {},
   "source": [
    "## Test out the Custom Retriever\n",
    "\n",
    "Now let's initialize and test out the custom retriever against our data! \n",
    "\n",
    "To build a full RAG pipeline, we use the `RetrieverQueryEngine` to combine our retriever with the LLM synthesis module - this is also used under the hood for the property graph index."
   ]
  },
  {
   "cell_type": "code",
   "execution_count": null,
   "id": "7346d827-9fd8-42bf-8bc9-548f23da68fe",
   "metadata": {},
   "outputs": [],
   "source": [
    "custom_retriever = MyCustomRetriever(\n",
    "    index.property_graph_store,\n",
    "    include_text=True,\n",
    "    vector_store=index.vector_store\n",
    ")"
   ]
  },
  {
   "cell_type": "code",
   "execution_count": null,
   "id": "1af69b34-184a-457a-9e98-d32b103ac0bd",
   "metadata": {},
   "outputs": [],
   "source": [
    "from llama_index.core.query_engine import RetrieverQueryEngine\n",
    "\n",
    "query_engine = RetrieverQueryEngine(\n",
    "    custom_retriever,\n",
    "    llm=llm\n",
    ")"
   ]
  },
  {
   "cell_type": "markdown",
   "id": "79c9e150-b02f-4819-becf-b68375558fce",
   "metadata": {},
   "source": [
    "#### Try out a 'baseline'\n",
    "\n",
    "We compare against a baseline retriever that's the vector context only."
   ]
  },
  {
   "cell_type": "code",
   "execution_count": null,
   "id": "963306cc-3fb2-4a7d-9f1f-c8e6f66747c5",
   "metadata": {},
   "outputs": [],
   "source": [
    "base_retriever = VectorContextRetriever(index.graph_store, include_text=True)\n",
    "base_query_engine = index.as_query_engine(\n",
    "    sub_retrievers=[base_retriever]\n",
    ")"
   ]
  },
  {
   "cell_type": "markdown",
   "id": "3f7e5bda-b11d-4544-adb9-ebed298fe070",
   "metadata": {},
   "source": [
    "### Try out some Queries"
   ]
  },
  {
   "cell_type": "code",
   "execution_count": null,
   "id": "a950e8b7-91db-4153-8528-47a8b91d77f6",
   "metadata": {},
   "outputs": [],
   "source": [
    "query_engine.query(\"What happened at Interleaf and Viaweb?\")"
   ]
  },
  {
   "cell_type": "code",
   "execution_count": null,
   "id": "ce50271c-1d42-434f-a541-909d731bff54",
   "metadata": {},
   "outputs": [],
   "source": [
    "base_query_engine.query(\"What happened at Interleaf and Viaweb?\") "
   ]
  }
 ],
 "metadata": {
  "kernelspec": {
   "display_name": "llama_index_logan",
   "language": "python",
   "name": "llama_index_logan"
  },
  "language_info": {
   "codemirror_mode": {
    "name": "ipython",
    "version": 3
   },
   "file_extension": ".py",
   "mimetype": "text/x-python",
   "name": "python",
   "nbconvert_exporter": "python",
   "pygments_lexer": "ipython3",
   "version": "3.10.8"
  }
 },
 "nbformat": 4,
 "nbformat_minor": 5
}
