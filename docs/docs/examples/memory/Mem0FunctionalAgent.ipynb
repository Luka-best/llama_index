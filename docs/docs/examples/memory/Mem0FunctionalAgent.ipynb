{
 "cells": [
  {
   "cell_type": "markdown",
   "metadata": {},
   "source": [
    "## Mem0 for Function Calling Agents\n",
    "\n",
    "Use `Mem0` as memory for `FunctionCallingAgents`. "
   ]
  },
  {
   "cell_type": "code",
   "execution_count": null,
   "metadata": {},
   "outputs": [],
   "source": [
    "from llama_index.core.tools import FunctionTool\n",
    "from llama_index.core.agent import FunctionCallingAgent\n",
    "\n",
    "import nest_asyncio\n",
    "\n",
    "nest_asyncio.apply()"
   ]
  },
  {
   "cell_type": "markdown",
   "metadata": {},
   "source": [
    "Using `from_client` (for Mem0 platform API): "
   ]
  },
  {
   "cell_type": "code",
   "execution_count": null,
   "metadata": {},
   "outputs": [],
   "source": [
    "from llama_index.memory.mem0 import Mem0Memory\n",
    "\n",
    "context = {\"user_id\": \"hamlin_3\"}\n",
    "memory = Mem0Memory.from_client(\n",
    "    context=context,\n",
    "    api_key=\"<your-mem0-api-key>\",\n",
    ")"
   ]
  },
  {
   "cell_type": "code",
   "execution_count": null,
   "metadata": {},
   "outputs": [],
   "source": [
    "# Initialize llm\n",
    "import os\n",
    "\n",
    "os.environ[\"OPENAI_API_KEY\"] = \"<your-openai-api-key>\"\n",
    "from llama_index.llms.openai import OpenAI\n",
    "\n",
    "llm = OpenAI(model=\"gpt-4o\")"
   ]
  },
  {
   "cell_type": "code",
   "execution_count": null,
   "metadata": {},
   "outputs": [],
   "source": [
    "def call_fn(name: str):\n",
    "    \"\"\"Call the provided name.\n",
    "    Args:\n",
    "        name: str (Name of the person)\n",
    "    \"\"\"\n",
    "    print(f\"Calling... {name}\")\n",
    "\n",
    "\n",
    "def email_fn(name: str):\n",
    "    \"\"\"Email the provided name.\n",
    "    Args:\n",
    "        name: str (Name of the person)\n",
    "    \"\"\"\n",
    "    print(f\"Emailing... {name}\")\n",
    "\n",
    "\n",
    "call_tool = FunctionTool.from_defaults(fn=call_fn)\n",
    "email_tool = FunctionTool.from_defaults(fn=email_fn)"
   ]
  },
  {
   "cell_type": "code",
   "execution_count": null,
   "metadata": {},
   "outputs": [],
   "source": [
    "agent = FunctionCallingAgent.from_tools(\n",
    "    [call_tool, email_tool],\n",
    "    llm=llm,\n",
    "    memory=memory,\n",
    "    verbose=True,\n",
    ")"
   ]
  },
  {
   "cell_type": "code",
   "execution_count": null,
   "metadata": {},
   "outputs": [
    {
     "name": "stdout",
     "output_type": "stream",
     "text": [
      "> Running step e283ae38-3af8-451e-bcf3-5bb494eaba3a. Step input: Hi, My name is Mayank.\n",
      "Added user message to memory: Hi, My name is Mayank.\n",
      "=== LLM Response ===\n",
      "Hello Mayank! How can I assist you today?\n"
     ]
    }
   ],
   "source": [
    "response = agent.chat(\"Hi, My name is Mayank.\")"
   ]
  },
  {
   "cell_type": "code",
   "execution_count": null,
   "metadata": {},
   "outputs": [
    {
     "name": "stdout",
     "output_type": "stream",
     "text": [
      "> Running step 153097e0-3e6a-48ad-b278-91f93974ae1e. Step input: My preferred way of communication would be Email.\n",
      "Added user message to memory: My preferred way of communication would be Email.\n",
      "=== LLM Response ===\n",
      "Got it, Mayank! If you need to communicate via email, just let me know, and I can assist you with that.\n"
     ]
    }
   ],
   "source": [
    "response = agent.chat(\"My preferred way of communication would be Email.\")"
   ]
  },
  {
   "cell_type": "code",
   "execution_count": null,
   "metadata": {},
   "outputs": [
    {
     "name": "stdout",
     "output_type": "stream",
     "text": [
      "> Running step c5b21f9d-669a-48c2-9a7b-f120d72ccbbd. Step input: Send me an update of your product.\n",
      "Added user message to memory: Send me an update of your product.\n",
      "=== Calling Function ===\n",
      "Calling function: email_fn with args: {\"name\": \"Mayank\"}\n",
      "Emailing... Mayank\n",
      "=== Function Output ===\n",
      "None\n",
      "> Running step 121d4201-00f3-44cd-8d25-2c2b9f4e42b8. Step input: None\n",
      "=== LLM Response ===\n",
      "I've sent you an update of our product via email. If you have any questions or need further information, feel free to ask!\n"
     ]
    }
   ],
   "source": [
    "response = agent.chat(\"Send me an update of your product.\")"
   ]
  },
  {
   "cell_type": "markdown",
   "metadata": {},
   "source": [
    "Using `from_config` (for Mem0 OSS)"
   ]
  },
  {
   "cell_type": "code",
   "execution_count": null,
   "metadata": {},
   "outputs": [],
   "source": [
    "config = {\n",
    "    \"vector_store\": {\n",
    "        \"provider\": \"qdrant\",\n",
    "        \"config\": {\n",
    "            \"collection_name\": \"test_9\",\n",
    "            \"host\": \"localhost\",\n",
    "            \"port\": 6333,\n",
    "            \"embedding_model_dims\": 1536,  # Change this according to your local model's dimensions\n",
    "        },\n",
    "    },\n",
    "    \"llm\": {\n",
    "        \"provider\": \"openai\",\n",
    "        \"config\": {\n",
    "            \"model\": \"gpt-4o\",\n",
    "            \"temperature\": 0.2,\n",
    "            \"max_tokens\": 1500,\n",
    "        },\n",
    "    },\n",
    "    \"embedder\": {\n",
    "        \"provider\": \"openai\",\n",
    "        \"config\": {\"model\": \"text-embedding-3-small\"},\n",
    "    },\n",
    "    \"version\": \"v1.1\",\n",
    "}\n",
    "memory = Mem0Memory.from_config(\n",
    "    context=context,\n",
    "    config=config,\n",
    ")"
   ]
  },
  {
   "cell_type": "code",
   "execution_count": null,
   "metadata": {},
   "outputs": [],
   "source": [
    "agent = FunctionCallingAgent.from_tools(\n",
    "    [call_tool, email_tool],\n",
    "    llm=llm,\n",
    "    memory=memory,\n",
    "    verbose=True,\n",
    ")"
   ]
  },
  {
   "cell_type": "code",
   "execution_count": null,
   "metadata": {},
   "outputs": [
    {
     "name": "stdout",
     "output_type": "stream",
     "text": [
      "> Running step cbc67d5b-e472-461f-b87c-8592e3a98aa5. Step input: Hi, My name is Mayank.\n",
      "Added user message to memory: Hi, My name is Mayank.\n",
      "=== LLM Response ===\n",
      "Hello Mayank! How can I assist you today?\n"
     ]
    }
   ],
   "source": [
    "response = agent.chat(\"Hi, My name is Mayank.\")"
   ]
  },
  {
   "cell_type": "code",
   "execution_count": null,
   "metadata": {},
   "outputs": [
    {
     "name": "stdout",
     "output_type": "stream",
     "text": [
      "> Running step 5fedb9e1-81e2-4b82-b4a3-489db1351f9d. Step input: My preferred way of communication would be Call.\n",
      "Added user message to memory: My preferred way of communication would be Call.\n",
      "=== LLM Response ===\n",
      "Got it, Mayank! If you need any assistance or want to communicate, I'll make sure to call you. Let me know if there's anything specific you need help with!\n"
     ]
    }
   ],
   "source": [
    "response = agent.chat(\"My preferred way of communication would be Call.\")"
   ]
  },
  {
   "cell_type": "code",
   "execution_count": null,
   "metadata": {},
   "outputs": [
    {
     "name": "stdout",
     "output_type": "stream",
     "text": [
      "> Running step 051c41de-fdad-48d0-80be-9025a30f04dc. Step input: Send me an update of your product.\n",
      "Added user message to memory: Send me an update of your product.\n",
      "=== Calling Function ===\n",
      "Calling function: call_fn with args: {\"name\": \"Mayank\"}\n",
      "Calling... Mayank\n",
      "=== Function Output ===\n",
      "None\n",
      "> Running step 30584542-8f9f-4e74-a65c-e5bdfb159ff7. Step input: None\n",
      "=== LLM Response ===\n",
      "I've given you a call to provide the update on our product. If there's anything else you need, feel free to let me know!\n"
     ]
    }
   ],
   "source": [
    "response = agent.chat(\"Send me an update of your product.\")"
   ]
  }
 ],
 "metadata": {
  "kernelspec": {
   "display_name": ".venv",
   "language": "python",
   "name": "python3"
  },
  "language_info": {
   "codemirror_mode": {
    "name": "ipython",
    "version": 3
   },
   "file_extension": ".py",
   "mimetype": "text/x-python",
   "name": "python",
   "nbconvert_exporter": "python",
   "pygments_lexer": "ipython3"
  }
 },
 "nbformat": 4,
 "nbformat_minor": 2
}
