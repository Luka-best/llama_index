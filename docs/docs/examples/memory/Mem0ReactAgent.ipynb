{
 "cells": [
  {
   "cell_type": "code",
   "execution_count": null,
   "metadata": {},
   "outputs": [],
   "source": [
    "from llama_index.core.agent import ReActAgent\n",
    "\n",
    "from llama_index.core.agent import ReActAgent\n",
    "from llama_index.llms.openai import OpenAI\n",
    "from llama_index.core.tools import FunctionTool\n",
    "\n",
    "import nest_asyncio\n",
    "\n",
    "nest_asyncio.apply()"
   ]
  },
  {
   "cell_type": "code",
   "execution_count": null,
   "metadata": {},
   "outputs": [],
   "source": [
    "# Initialize llm\n",
    "import os\n",
    "\n",
    "os.environ[\"OPENAI_API_KEY\"] = \"<your-openai-api-key>\"\n",
    "llm = OpenAI(model=\"gpt-4o\")"
   ]
  },
  {
   "cell_type": "code",
   "execution_count": null,
   "metadata": {},
   "outputs": [],
   "source": [
    "from llama_index.memory.mem0 import Mem0Memory\n",
    "\n",
    "context = {\"user_id\": \"hamlin_6\"}\n",
    "memory = Mem0Memory.from_client(\n",
    "    context=context,\n",
    "    api_key=\"<your-mem0-api-key>\",\n",
    ")"
   ]
  },
  {
   "cell_type": "code",
   "execution_count": null,
   "metadata": {},
   "outputs": [],
   "source": [
    "def call_fn(name: str):\n",
    "    \"\"\"Call the provided name. Returns None\n",
    "    Args:\n",
    "        name: str (Name of the person)\n",
    "    \"\"\"\n",
    "    print(f\"Calling... {name}\")\n",
    "\n",
    "\n",
    "def email_fn(name: str):\n",
    "    \"\"\"Email the provided name. Returns None\n",
    "    Args:\n",
    "        name: str (Name of the person)\n",
    "    \"\"\"\n",
    "    print(f\"Emailing... {name}\")\n",
    "\n",
    "\n",
    "call_tool = FunctionTool.from_defaults(fn=call_fn)\n",
    "email_tool = FunctionTool.from_defaults(fn=email_fn)"
   ]
  },
  {
   "cell_type": "code",
   "execution_count": null,
   "metadata": {},
   "outputs": [],
   "source": [
    "agent = ReActAgent.from_tools(\n",
    "    [call_tool, email_tool], llm=llm, memory=memory, verbose=True\n",
    ")"
   ]
  },
  {
   "cell_type": "code",
   "execution_count": null,
   "metadata": {},
   "outputs": [
    {
     "name": "stdout",
     "output_type": "stream",
     "text": [
      "> Running step 37c5a30d-2382-4348-bbb5-56b4f472dbb2. Step input: Hi, My name is Mayank.\n",
      "\u001b[1;3;38;5;200mThought: (Implicit) I can answer without any more tools!\n",
      "Answer: Hello Mayank! How can I assist you today?\n",
      "\u001b[0m"
     ]
    }
   ],
   "source": [
    "response = agent.chat(\"Hi, My name is Mayank.\")"
   ]
  },
  {
   "cell_type": "code",
   "execution_count": null,
   "metadata": {},
   "outputs": [
    {
     "name": "stdout",
     "output_type": "stream",
     "text": [
      "> Running step dd198754-598e-4b7c-a49c-1522842e9458. Step input: My preferred way of communication would be Email.\n",
      "\u001b[1;3;38;5;200mThought: (Implicit) I can answer without any more tools!\n",
      "Answer: Thank you for letting me know, Mayank. If you need any assistance or have any requests, feel free to let me know, and I can communicate with you via email.\n",
      "\u001b[0m"
     ]
    }
   ],
   "source": [
    "response = agent.chat(\"My preferred way of communication would be Email.\")"
   ]
  },
  {
   "cell_type": "code",
   "execution_count": null,
   "metadata": {},
   "outputs": [
    {
     "name": "stdout",
     "output_type": "stream",
     "text": [
      "> Running step 5677e204-46f4-4f1b-a387-ce2d36c3bece. Step input: Send me an update of your product.\n",
      "\u001b[1;3;38;5;200mThought: The current language of the user is English. I need to use a tool to send an email with the product update to Mayank.\n",
      "Action: email_fn\n",
      "Action Input: {'name': 'Mayank'}\n",
      "\u001b[0mEmailing... Mayank\n",
      "\u001b[1;3;34mObservation: None\n",
      "\u001b[0m> Running step 26db266b-dae9-4057-847c-d18895763e69. Step input: None\n",
      "\u001b[1;3;38;5;200mThought: The email has been sent to Mayank with the product update. I can now confirm this to the user.\n",
      "Answer: I've sent you an email with the update on our product. Please check your inbox. If you have any questions or need further information, feel free to let me know!\n",
      "\u001b[0m"
     ]
    }
   ],
   "source": [
    "response = agent.chat(\"Send me an update of your product.\")"
   ]
  },
  {
   "cell_type": "code",
   "execution_count": null,
   "metadata": {},
   "outputs": [
    {
     "name": "stdout",
     "output_type": "stream",
     "text": [
      "> Running step f1d5a769-9055-450b-b3ed-d4a69cee0977. Step input: First call me and then communicate me requirements.\n",
      "\u001b[1;3;38;5;200mThought: The current language of the user is English. I need to use a tool to help me call the user first.\n",
      "Action: call_fn\n",
      "Action Input: {'name': 'Mayank'}\n",
      "\u001b[0mCalling... Mayank\n",
      "\u001b[1;3;34mObservation: None\n",
      "\u001b[0m> Running step 87d29131-86d5-4ce6-88d6-3d81ac51c3b0. Step input: None\n",
      "\u001b[1;3;38;5;200mThought: I have completed the call action. Now, I need to communicate the requirements via email as per the user's preference.\n",
      "Action: email_fn\n",
      "Action Input: {'name': 'Mayank'}\n",
      "\u001b[0mEmailing... Mayank\n",
      "\u001b[1;3;34mObservation: None\n",
      "\u001b[0m> Running step 92bc572b-2c2f-4079-9b42-f74fedb6bf96. Step input: None\n",
      "\u001b[1;3;38;5;200mThought: I have completed both the call and email actions.\n",
      "Answer: I have called you and sent you an email with the requirements. Please check your inbox, and feel free to reach out if you have any questions or need further assistance!\n",
      "\u001b[0m"
     ]
    }
   ],
   "source": [
    "response = agent.chat(\"First call me and then communicate me requirements.\")"
   ]
  }
 ],
 "metadata": {
  "kernelspec": {
   "display_name": ".venv",
   "language": "python",
   "name": "python3"
  },
  "language_info": {
   "codemirror_mode": {
    "name": "ipython",
    "version": 3
   },
   "file_extension": ".py",
   "mimetype": "text/x-python",
   "name": "python",
   "nbconvert_exporter": "python",
   "pygments_lexer": "ipython3"
  }
 },
 "nbformat": 4,
 "nbformat_minor": 2
}
