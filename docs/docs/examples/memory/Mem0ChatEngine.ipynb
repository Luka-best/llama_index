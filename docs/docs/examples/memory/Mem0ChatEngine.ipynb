{
 "cells": [
  {
   "cell_type": "markdown",
   "metadata": {},
   "source": [
    "## Mem0 for Chat Engines\n",
    "\n",
    "Use `Mem0` as memory to `SimpleChatEngine`. "
   ]
  },
  {
   "cell_type": "markdown",
   "metadata": {},
   "source": [
    "Using `from_client` (for Mem0 platform API): "
   ]
  },
  {
   "cell_type": "code",
   "execution_count": 1,
   "metadata": {},
   "outputs": [
    {
     "name": "stderr",
     "output_type": "stream",
     "text": [
      "[nltk_data] Downloading package punkt_tab to\n",
      "[nltk_data]     /Users/mayanksolanki/open-source/llama_index_3/llama_i\n",
      "[nltk_data]     ndex/.venv/lib/python3.12/site-\n",
      "[nltk_data]     packages/llama_index/core/_static/nltk_cache...\n",
      "[nltk_data]   Package punkt_tab is already up-to-date!\n"
     ]
    }
   ],
   "source": [
    "# Initializing memory\n",
    "from llama_index.memory.mem0 import Mem0ChatEngineMemory\n",
    "context_dict = {\n",
    "    \"user_id\": \"mayank_3\"\n",
    "}\n",
    "memory = Mem0ChatEngineMemory.from_client(\n",
    "    context_dict=context_dict,\n",
    "    api_key=\"<your_api_key>\"\n",
    ")"
   ]
  },
  {
   "cell_type": "code",
   "execution_count": 2,
   "metadata": {},
   "outputs": [],
   "source": [
    "# Initialize llm\n",
    "import os\n",
    "os.environ[\"OPENAI_API_KEY\"] = \"<your_api_key>\"\n",
    "from llama_index.llms.openai import OpenAI\n",
    "llm = OpenAI(model=\"gpt-4o\")"
   ]
  },
  {
   "cell_type": "code",
   "execution_count": 3,
   "metadata": {},
   "outputs": [],
   "source": [
    "# Initialize chat engine\n",
    "from llama_index.core.chat_engine.simple import SimpleChatEngine\n",
    "agent = SimpleChatEngine.from_defaults(\n",
    "    llm=llm,\n",
    "    memory=memory # set you memory here\n",
    ")"
   ]
  },
  {
   "cell_type": "code",
   "execution_count": 4,
   "metadata": {},
   "outputs": [
    {
     "name": "stdout",
     "output_type": "stream",
     "text": [
      "Hello Mayank! How can I assist you today?\n"
     ]
    }
   ],
   "source": [
    "response = agent.chat(\"Hi, My name is mayank\")\n",
    "print(response)"
   ]
  },
  {
   "cell_type": "code",
   "execution_count": 5,
   "metadata": {},
   "outputs": [
    {
     "name": "stdout",
     "output_type": "stream",
     "text": [
      "That sounds exciting! San Francisco has a lot to offer. Do you have any specific places or activities in mind that you want to explore while you're there?\n"
     ]
    }
   ],
   "source": [
    "response = agent.chat(\"I am planning to visit SF tommorow.\")\n",
    "print(response)"
   ]
  },
  {
   "cell_type": "code",
   "execution_count": 6,
   "metadata": {},
   "outputs": [
    {
     "name": "stdout",
     "output_type": "stream",
     "text": [
      "Since you're planning to visit San Francisco tomorrow, it might be best to schedule the meeting either early in the morning before your trip or later in the evening after your activities. This way, you can avoid any potential conflicts with your travel plans.\n"
     ]
    }
   ],
   "source": [
    "response = agent.chat(\"Suggest a suitable time to schedule a meeting tommorow?\")\n",
    "print(response)"
   ]
  },
  {
   "cell_type": "markdown",
   "metadata": {},
   "source": [
    "Using `from_config` (for Mem0 OSS)"
   ]
  },
  {
   "cell_type": "code",
   "execution_count": 7,
   "metadata": {},
   "outputs": [],
   "source": [
    "config = {\n",
    "    \"vector_store\": {\n",
    "        \"provider\": \"qdrant\",\n",
    "        \"config\": {\n",
    "            \"collection_name\": \"test_7\",\n",
    "            \"host\": \"localhost\",\n",
    "            \"port\": 6333,\n",
    "            \"embedding_model_dims\": 1536,  # Change this according to your local model's dimensions\n",
    "        },\n",
    "    },\n",
    "    \"llm\": {\n",
    "        \"provider\": \"openai\",\n",
    "        \"config\": {\n",
    "            \"model\": \"gpt-4o\",\n",
    "            \"temperature\": 0.2,\n",
    "            \"max_tokens\": 1500,\n",
    "        }\n",
    "    },\n",
    "    \"embedder\": {\n",
    "        \"provider\": \"openai\",\n",
    "        \"config\": {\n",
    "            \"model\": \"text-embedding-3-small\"\n",
    "        }\n",
    "    },\n",
    "    \"version\": \"v1.1\"\n",
    "}\n",
    "\n",
    "# Initialize memory\n",
    "memory = Mem0ChatEngineMemory.from_config(\n",
    "    confif_dict=config,\n",
    "    context_dict=context_dict\n",
    ")"
   ]
  },
  {
   "cell_type": "code",
   "execution_count": 8,
   "metadata": {},
   "outputs": [],
   "source": [
    "agent = SimpleChatEngine.from_defaults(\n",
    "    llm=llm,\n",
    "    memory=memory # set you memory here\n",
    ")"
   ]
  },
  {
   "cell_type": "code",
   "execution_count": 9,
   "metadata": {},
   "outputs": [
    {
     "name": "stdout",
     "output_type": "stream",
     "text": [
      "Hello Mayank! How can I assist you today?\n"
     ]
    }
   ],
   "source": [
    "response = agent.chat(\"Hi, My name is mayank\")\n",
    "print(response)"
   ]
  },
  {
   "cell_type": "code",
   "execution_count": 10,
   "metadata": {},
   "outputs": [
    {
     "name": "stdout",
     "output_type": "stream",
     "text": [
      "That sounds exciting! Since you're planning to visit San Francisco tomorrow, here are a few suggestions to make the most of your trip:\n",
      "\n",
      "1. **Golden Gate Bridge**: A must-see iconic landmark. You can walk or bike across for stunning views.\n",
      "\n",
      "2. **Alcatraz Island**: Take a ferry to explore the historic prison. It's best to book tickets in advance.\n",
      "\n",
      "3. **Fisherman's Wharf**: Enjoy fresh seafood, street performers, and visit the sea lions at Pier 39.\n",
      "\n",
      "4. **Chinatown**: Explore the vibrant culture, shops, and try some authentic Chinese cuisine.\n",
      "\n",
      "5. **Golden Gate Park**: Visit the museums, gardens, and enjoy a leisurely stroll or a paddle boat ride.\n",
      "\n",
      "6. **Lombard Street**: Known as the \"crookedest street in the world,\" it's a fun spot for photos.\n",
      "\n",
      "7. **Cable Car Ride**: Experience a classic San Francisco cable car ride for a unique view of the city.\n",
      "\n",
      "Make sure to check the weather and plan your itinerary accordingly. Have a great trip!\n"
     ]
    }
   ],
   "source": [
    "response = agent.chat(\"I am planning to visit SF tommorow.\")\n",
    "print(response)"
   ]
  },
  {
   "cell_type": "code",
   "execution_count": 15,
   "metadata": {},
   "outputs": [
    {
     "name": "stdout",
     "output_type": "stream",
     "text": [
      "Based on the information provided, you are planning to visit San Francisco on October 19, 2024. However, since today is still in October 2023, it seems you don't have any specific plans for tomorrow yet.\n"
     ]
    }
   ],
   "source": [
    "response = agent.chat(\"Where I will be visiting tommorow?\")\n",
    "print(response)"
   ]
  },
  {
   "cell_type": "markdown",
   "metadata": {},
   "source": [
    "Using `set_context` and `get_context`"
   ]
  },
  {
   "cell_type": "code",
   "execution_count": 25,
   "metadata": {},
   "outputs": [],
   "source": [
    "memory.set_context({\n",
    "    \"user_id\": \"jhon_1\"\n",
    "})"
   ]
  },
  {
   "cell_type": "code",
   "execution_count": 26,
   "metadata": {},
   "outputs": [
    {
     "data": {
      "text/plain": [
       "{'user_id': 'jhon_1'}"
      ]
     },
     "execution_count": 26,
     "metadata": {},
     "output_type": "execute_result"
    }
   ],
   "source": [
    "memory.get_context()"
   ]
  }
 ],
 "metadata": {
  "kernelspec": {
   "display_name": "llama-index-C8qa2pNc-py3.12",
   "language": "python",
   "name": "python3"
  },
  "language_info": {
   "codemirror_mode": {
    "name": "ipython",
    "version": 3
   },
   "file_extension": ".py",
   "mimetype": "text/x-python",
   "name": "python",
   "nbconvert_exporter": "python",
   "pygments_lexer": "ipython3",
   "version": "3.12.5"
  }
 },
 "nbformat": 4,
 "nbformat_minor": 2
}
