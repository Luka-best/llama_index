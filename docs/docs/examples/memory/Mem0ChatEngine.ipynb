{
 "cells": [
  {
   "cell_type": "markdown",
   "metadata": {},
   "source": [
    "## Mem0 for Chat Engines\n",
    "\n",
    "Use `Mem0` as memory to `SimpleChatEngine`. "
   ]
  },
  {
   "cell_type": "markdown",
   "metadata": {},
   "source": [
    "Using `from_client` (for Mem0 platform API): "
   ]
  },
  {
   "cell_type": "code",
   "execution_count": 1,
   "metadata": {},
   "outputs": [],
   "source": [
    "# Initializing memory\n",
    "from llama_index.memory.mem0 import Mem0Composable\n",
    "context_dict = {\n",
    "    \"user_id\": \"mayank_10\"\n",
    "}\n",
    "memory = Mem0Composable.from_client(\n",
    "    context_dict=context_dict,\n",
    "    api_key=\"<your_api_key>\"\n",
    ")"
   ]
  },
  {
   "cell_type": "code",
   "execution_count": 2,
   "metadata": {},
   "outputs": [],
   "source": [
    "# Initialize llm\n",
    "import os\n",
    "os.environ[\"OPENAI_API_KEY\"] = \"<your_api_key>\"\n",
    "from llama_index.llms.openai import OpenAI\n",
    "llm = OpenAI(model=\"gpt-4o\")"
   ]
  },
  {
   "cell_type": "code",
   "execution_count": 3,
   "metadata": {},
   "outputs": [],
   "source": [
    "# Initialize chat engine\n",
    "from llama_index.core.chat_engine.simple import SimpleChatEngine\n",
    "agent = SimpleChatEngine.from_defaults(\n",
    "    llm=llm,\n",
    "    memory=memory # set you memory here\n",
    ")"
   ]
  },
  {
   "cell_type": "code",
   "execution_count": 4,
   "metadata": {},
   "outputs": [
    {
     "name": "stdout",
     "output_type": "stream",
     "text": [
      "Hello Mayank! How can I assist you today?\n"
     ]
    }
   ],
   "source": [
    "response = agent.chat(\"Hi, My name is mayank\")\n",
    "print(response)"
   ]
  },
  {
   "cell_type": "code",
   "execution_count": 5,
   "metadata": {},
   "outputs": [
    {
     "name": "stdout",
     "output_type": "stream",
     "text": [
      "That sounds exciting! San Francisco has a lot to offer. Do you have any specific places or activities in mind that you’d like to explore while you’re there?\n"
     ]
    }
   ],
   "source": [
    "response = agent.chat(\"I am planning to visit SF tommorow.\")\n",
    "print(response)"
   ]
  },
  {
   "cell_type": "code",
   "execution_count": 6,
   "metadata": {},
   "outputs": [
    {
     "name": "stdout",
     "output_type": "stream",
     "text": [
      "When scheduling a meeting in San Francisco, it's important to consider factors like traffic and popular tourist times. Generally, late morning or early afternoon, around 11:00 AM to 2:00 PM, can be a good time to avoid rush hour and have a productive meeting. However, it ultimately depends on your itinerary and preferences. Let me know if you need more specific advice!\n"
     ]
    }
   ],
   "source": [
    "response = agent.chat(\"Suggest a suitable time to schedule a meeting tommorow?\")\n",
    "print(response)"
   ]
  },
  {
   "cell_type": "markdown",
   "metadata": {},
   "source": [
    "Using `from_config` (for Mem0 OSS)"
   ]
  },
  {
   "cell_type": "code",
   "execution_count": 7,
   "metadata": {},
   "outputs": [],
   "source": [
    "config = {\n",
    "    \"vector_store\": {\n",
    "        \"provider\": \"qdrant\",\n",
    "        \"config\": {\n",
    "            \"collection_name\": \"test_7\",\n",
    "            \"host\": \"localhost\",\n",
    "            \"port\": 6333,\n",
    "            \"embedding_model_dims\": 1536,  # Change this according to your local model's dimensions\n",
    "        },\n",
    "    },\n",
    "    \"llm\": {\n",
    "        \"provider\": \"openai\",\n",
    "        \"config\": {\n",
    "            \"model\": \"gpt-4o\",\n",
    "            \"temperature\": 0.2,\n",
    "            \"max_tokens\": 1500,\n",
    "        }\n",
    "    },\n",
    "    \"embedder\": {\n",
    "        \"provider\": \"openai\",\n",
    "        \"config\": {\n",
    "            \"model\": \"text-embedding-3-small\"\n",
    "        }\n",
    "    },\n",
    "    \"version\": \"v1.1\"\n",
    "}\n",
    "\n",
    "# Initialize memory\n",
    "memory = Mem0Composable.from_config(\n",
    "    confif_dict=config,\n",
    "    context_dict=context_dict\n",
    ")"
   ]
  },
  {
   "cell_type": "code",
   "execution_count": 8,
   "metadata": {},
   "outputs": [],
   "source": [
    "agent = SimpleChatEngine.from_defaults(\n",
    "    llm=llm,\n",
    "    memory=memory # set you memory here\n",
    ")"
   ]
  },
  {
   "cell_type": "code",
   "execution_count": 9,
   "metadata": {},
   "outputs": [
    {
     "name": "stdout",
     "output_type": "stream",
     "text": [
      "Hello Mayank! How can I assist you today?\n"
     ]
    }
   ],
   "source": [
    "response = agent.chat(\"Hi, My name is mayank\")\n",
    "print(response)"
   ]
  },
  {
   "cell_type": "code",
   "execution_count": 10,
   "metadata": {},
   "outputs": [
    {
     "name": "stdout",
     "output_type": "stream",
     "text": [
      "That sounds exciting! San Francisco has a lot to offer. Do you have any specific places or activities in mind that you’d like to explore while you’re there?\n"
     ]
    }
   ],
   "source": [
    "response = agent.chat(\"I am planning to visit SF tommorow.\")\n",
    "print(response)"
   ]
  },
  {
   "cell_type": "code",
   "execution_count": 11,
   "metadata": {},
   "outputs": [
    {
     "name": "stdout",
     "output_type": "stream",
     "text": [
      "Since you mentioned you're planning to visit San Francisco, you might consider checking out some popular spots like the Golden Gate Bridge, Alcatraz Island, Fisherman's Wharf, or exploring neighborhoods like Chinatown and Haight-Ashbury. If you have specific interests, let me know, and I can suggest more tailored activities!\n"
     ]
    }
   ],
   "source": [
    "response = agent.chat(\"Where I will be visiting tommorow?\")\n",
    "print(response)"
   ]
  }
 ],
 "metadata": {
  "kernelspec": {
   "display_name": "llama-index-C8qa2pNc-py3.12",
   "language": "python",
   "name": "python3"
  },
  "language_info": {
   "codemirror_mode": {
    "name": "ipython",
    "version": 3
   },
   "file_extension": ".py",
   "mimetype": "text/x-python",
   "name": "python",
   "nbconvert_exporter": "python",
   "pygments_lexer": "ipython3",
   "version": "3.12.5"
  }
 },
 "nbformat": 4,
 "nbformat_minor": 2
}
