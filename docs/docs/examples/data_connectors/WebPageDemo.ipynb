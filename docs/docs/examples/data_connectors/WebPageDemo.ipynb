{
 "cells": [
  {
   "attachments": {},
   "cell_type": "markdown",
   "id": "5747e926",
   "metadata": {},
   "source": [
    "<a href=\"https://colab.research.google.com/github/run-llama/llama_index/blob/main/docs/docs/examples/data_connectors/WebPageDemo.ipynb\" target=\"_parent\"><img src=\"https://colab.research.google.com/assets/colab-badge.svg\" alt=\"Open In Colab\"/></a>"
   ]
  },
  {
   "cell_type": "markdown",
   "id": "30146ad2-f165-4f4b-ae07-fe6597a2964f",
   "metadata": {},
   "source": [
    "# Web Page Reader\n",
    "\n",
    "Demonstrates our web page reader."
   ]
  },
  {
   "cell_type": "code",
   "execution_count": null,
   "id": "9f9959b5",
   "metadata": {},
   "outputs": [],
   "source": [
    "%pip install llama-index-readers-web"
   ]
  },
  {
   "cell_type": "code",
   "execution_count": null,
   "id": "3c39063b",
   "metadata": {},
   "outputs": [],
   "source": [
    "import logging\n",
    "import sys\n",
    "\n",
    "logging.basicConfig(stream=sys.stdout, level=logging.INFO)\n",
    "logging.getLogger().addHandler(logging.StreamHandler(stream=sys.stdout))"
   ]
  },
  {
   "cell_type": "markdown",
   "id": "2315a154-f72d-4447-b1eb-cde9b66868cb",
   "metadata": {},
   "source": [
    "#### Using SimpleWebPageReader"
   ]
  },
  {
   "attachments": {},
   "cell_type": "markdown",
   "id": "bed9032b",
   "metadata": {},
   "source": [
    "If you're opening this Notebook on colab, you will probably need to install LlamaIndex 🦙."
   ]
  },
  {
   "cell_type": "code",
   "execution_count": null,
   "id": "c6760b64",
   "metadata": {},
   "outputs": [
    {
     "name": "stdout",
     "output_type": "stream",
     "text": [
      "/Users/calebpeffer/Documents/GitHub/llama_index\n",
      "Obtaining file:///Users/calebpeffer/Documents/GitHub/llama_index\n",
      "  Installing build dependencies ... \u001b[?25ldone\n",
      "\u001b[?25h  Checking if build backend supports build_editable ... \u001b[?25ldone\n",
      "\u001b[?25h  Getting requirements to build editable ... \u001b[?25ldone\n",
      "\u001b[?25h  Preparing editable metadata (pyproject.toml) ... \u001b[?25ldone\n",
      "\u001b[?25hRequirement already satisfied: llama-index-agent-openai<0.3.0,>=0.1.4 in /Users/calebpeffer/opt/miniconda3/envs/newenvname/lib/python3.9/site-packages (from llama-index==0.10.28) (0.2.2)\n",
      "Requirement already satisfied: llama-index-cli<0.2.0,>=0.1.2 in /Users/calebpeffer/opt/miniconda3/envs/newenvname/lib/python3.9/site-packages (from llama-index==0.10.28) (0.1.11)\n",
      "Requirement already satisfied: llama-index-core<0.11.0,>=0.10.28 in /Users/calebpeffer/opt/miniconda3/envs/newenvname/lib/python3.9/site-packages (from llama-index==0.10.28) (0.10.28)\n",
      "Requirement already satisfied: llama-index-embeddings-openai<0.2.0,>=0.1.5 in /Users/calebpeffer/opt/miniconda3/envs/newenvname/lib/python3.9/site-packages (from llama-index==0.10.28) (0.1.7)\n",
      "Requirement already satisfied: llama-index-indices-managed-llama-cloud<0.2.0,>=0.1.2 in /Users/calebpeffer/opt/miniconda3/envs/newenvname/lib/python3.9/site-packages (from llama-index==0.10.28) (0.1.5)\n",
      "Requirement already satisfied: llama-index-legacy<0.10.0,>=0.9.48 in /Users/calebpeffer/opt/miniconda3/envs/newenvname/lib/python3.9/site-packages (from llama-index==0.10.28) (0.9.48)\n",
      "Requirement already satisfied: llama-index-llms-openai<0.2.0,>=0.1.13 in /Users/calebpeffer/opt/miniconda3/envs/newenvname/lib/python3.9/site-packages (from llama-index==0.10.28) (0.1.15)\n",
      "Requirement already satisfied: llama-index-multi-modal-llms-openai<0.2.0,>=0.1.3 in /Users/calebpeffer/opt/miniconda3/envs/newenvname/lib/python3.9/site-packages (from llama-index==0.10.28) (0.1.5)\n",
      "Requirement already satisfied: llama-index-program-openai<0.2.0,>=0.1.3 in /Users/calebpeffer/opt/miniconda3/envs/newenvname/lib/python3.9/site-packages (from llama-index==0.10.28) (0.1.5)\n",
      "Requirement already satisfied: llama-index-question-gen-openai<0.2.0,>=0.1.2 in /Users/calebpeffer/opt/miniconda3/envs/newenvname/lib/python3.9/site-packages (from llama-index==0.10.28) (0.1.3)\n",
      "Requirement already satisfied: llama-index-readers-file<0.2.0,>=0.1.4 in /Users/calebpeffer/opt/miniconda3/envs/newenvname/lib/python3.9/site-packages (from llama-index==0.10.28) (0.1.17)\n",
      "Requirement already satisfied: llama-index-readers-llama-parse<0.2.0,>=0.1.2 in /Users/calebpeffer/opt/miniconda3/envs/newenvname/lib/python3.9/site-packages (from llama-index==0.10.28) (0.1.4)\n",
      "Requirement already satisfied: openai>=1.14.0 in /Users/calebpeffer/opt/miniconda3/envs/newenvname/lib/python3.9/site-packages (from llama-index-agent-openai<0.3.0,>=0.1.4->llama-index==0.10.28) (1.17.1)\n",
      "Requirement already satisfied: PyYAML>=6.0.1 in /Users/calebpeffer/opt/miniconda3/envs/newenvname/lib/python3.9/site-packages (from llama-index-core<0.11.0,>=0.10.28->llama-index==0.10.28) (6.0.1)\n",
      "Requirement already satisfied: SQLAlchemy>=1.4.49 in /Users/calebpeffer/opt/miniconda3/envs/newenvname/lib/python3.9/site-packages (from SQLAlchemy[asyncio]>=1.4.49->llama-index-core<0.11.0,>=0.10.28->llama-index==0.10.28) (2.0.29)\n",
      "Requirement already satisfied: aiohttp<4.0.0,>=3.8.6 in /Users/calebpeffer/opt/miniconda3/envs/newenvname/lib/python3.9/site-packages (from llama-index-core<0.11.0,>=0.10.28->llama-index==0.10.28) (3.9.4)\n",
      "Requirement already satisfied: dataclasses-json in /Users/calebpeffer/opt/miniconda3/envs/newenvname/lib/python3.9/site-packages (from llama-index-core<0.11.0,>=0.10.28->llama-index==0.10.28) (0.6.4)\n",
      "Requirement already satisfied: deprecated>=1.2.9.3 in /Users/calebpeffer/opt/miniconda3/envs/newenvname/lib/python3.9/site-packages (from llama-index-core<0.11.0,>=0.10.28->llama-index==0.10.28) (1.2.14)\n",
      "Requirement already satisfied: dirtyjson<2.0.0,>=1.0.8 in /Users/calebpeffer/opt/miniconda3/envs/newenvname/lib/python3.9/site-packages (from llama-index-core<0.11.0,>=0.10.28->llama-index==0.10.28) (1.0.8)\n",
      "Requirement already satisfied: fsspec>=2023.5.0 in /Users/calebpeffer/opt/miniconda3/envs/newenvname/lib/python3.9/site-packages (from llama-index-core<0.11.0,>=0.10.28->llama-index==0.10.28) (2024.3.1)\n",
      "Requirement already satisfied: httpx in /Users/calebpeffer/opt/miniconda3/envs/newenvname/lib/python3.9/site-packages (from llama-index-core<0.11.0,>=0.10.28->llama-index==0.10.28) (0.27.0)\n",
      "Requirement already satisfied: llamaindex-py-client<0.2.0,>=0.1.16 in /Users/calebpeffer/opt/miniconda3/envs/newenvname/lib/python3.9/site-packages (from llama-index-core<0.11.0,>=0.10.28->llama-index==0.10.28) (0.1.18)\n",
      "Requirement already satisfied: nest-asyncio<2.0.0,>=1.5.8 in /Users/calebpeffer/opt/miniconda3/envs/newenvname/lib/python3.9/site-packages (from llama-index-core<0.11.0,>=0.10.28->llama-index==0.10.28) (1.6.0)\n",
      "Requirement already satisfied: networkx>=3.0 in /Users/calebpeffer/opt/miniconda3/envs/newenvname/lib/python3.9/site-packages (from llama-index-core<0.11.0,>=0.10.28->llama-index==0.10.28) (3.2.1)\n",
      "Requirement already satisfied: nltk<4.0.0,>=3.8.1 in /Users/calebpeffer/opt/miniconda3/envs/newenvname/lib/python3.9/site-packages (from llama-index-core<0.11.0,>=0.10.28->llama-index==0.10.28) (3.8.1)\n",
      "Requirement already satisfied: numpy in /Users/calebpeffer/opt/miniconda3/envs/newenvname/lib/python3.9/site-packages (from llama-index-core<0.11.0,>=0.10.28->llama-index==0.10.28) (1.26.4)\n",
      "Requirement already satisfied: pandas in /Users/calebpeffer/opt/miniconda3/envs/newenvname/lib/python3.9/site-packages (from llama-index-core<0.11.0,>=0.10.28->llama-index==0.10.28) (2.2.2)\n",
      "Requirement already satisfied: pillow>=9.0.0 in /Users/calebpeffer/opt/miniconda3/envs/newenvname/lib/python3.9/site-packages (from llama-index-core<0.11.0,>=0.10.28->llama-index==0.10.28) (10.3.0)\n",
      "Requirement already satisfied: requests>=2.31.0 in /Users/calebpeffer/opt/miniconda3/envs/newenvname/lib/python3.9/site-packages (from llama-index-core<0.11.0,>=0.10.28->llama-index==0.10.28) (2.31.0)\n",
      "Requirement already satisfied: tenacity<9.0.0,>=8.2.0 in /Users/calebpeffer/opt/miniconda3/envs/newenvname/lib/python3.9/site-packages (from llama-index-core<0.11.0,>=0.10.28->llama-index==0.10.28) (8.2.3)\n",
      "Requirement already satisfied: tiktoken>=0.3.3 in /Users/calebpeffer/opt/miniconda3/envs/newenvname/lib/python3.9/site-packages (from llama-index-core<0.11.0,>=0.10.28->llama-index==0.10.28) (0.6.0)\n",
      "Requirement already satisfied: tqdm<5.0.0,>=4.66.1 in /Users/calebpeffer/opt/miniconda3/envs/newenvname/lib/python3.9/site-packages (from llama-index-core<0.11.0,>=0.10.28->llama-index==0.10.28) (4.66.2)\n",
      "Requirement already satisfied: typing-extensions>=4.5.0 in /Users/calebpeffer/opt/miniconda3/envs/newenvname/lib/python3.9/site-packages (from llama-index-core<0.11.0,>=0.10.28->llama-index==0.10.28) (4.11.0)\n",
      "Requirement already satisfied: typing-inspect>=0.8.0 in /Users/calebpeffer/opt/miniconda3/envs/newenvname/lib/python3.9/site-packages (from llama-index-core<0.11.0,>=0.10.28->llama-index==0.10.28) (0.9.0)\n",
      "Requirement already satisfied: wrapt in /Users/calebpeffer/opt/miniconda3/envs/newenvname/lib/python3.9/site-packages (from llama-index-core<0.11.0,>=0.10.28->llama-index==0.10.28) (1.16.0)\n",
      "Requirement already satisfied: beautifulsoup4<5.0.0,>=4.12.3 in /Users/calebpeffer/opt/miniconda3/envs/newenvname/lib/python3.9/site-packages (from llama-index-readers-file<0.2.0,>=0.1.4->llama-index==0.10.28) (4.12.3)\n",
      "Requirement already satisfied: pypdf<5.0.0,>=4.0.1 in /Users/calebpeffer/opt/miniconda3/envs/newenvname/lib/python3.9/site-packages (from llama-index-readers-file<0.2.0,>=0.1.4->llama-index==0.10.28) (4.2.0)\n",
      "Requirement already satisfied: striprtf<0.0.27,>=0.0.26 in /Users/calebpeffer/opt/miniconda3/envs/newenvname/lib/python3.9/site-packages (from llama-index-readers-file<0.2.0,>=0.1.4->llama-index==0.10.28) (0.0.26)\n",
      "Requirement already satisfied: llama-parse<0.5.0,>=0.4.0 in /Users/calebpeffer/opt/miniconda3/envs/newenvname/lib/python3.9/site-packages (from llama-index-readers-llama-parse<0.2.0,>=0.1.2->llama-index==0.10.28) (0.4.0)\n",
      "Requirement already satisfied: aiosignal>=1.1.2 in /Users/calebpeffer/opt/miniconda3/envs/newenvname/lib/python3.9/site-packages (from aiohttp<4.0.0,>=3.8.6->llama-index-core<0.11.0,>=0.10.28->llama-index==0.10.28) (1.3.1)\n",
      "Requirement already satisfied: attrs>=17.3.0 in /Users/calebpeffer/opt/miniconda3/envs/newenvname/lib/python3.9/site-packages (from aiohttp<4.0.0,>=3.8.6->llama-index-core<0.11.0,>=0.10.28->llama-index==0.10.28) (23.2.0)\n",
      "Requirement already satisfied: frozenlist>=1.1.1 in /Users/calebpeffer/opt/miniconda3/envs/newenvname/lib/python3.9/site-packages (from aiohttp<4.0.0,>=3.8.6->llama-index-core<0.11.0,>=0.10.28->llama-index==0.10.28) (1.4.1)\n",
      "Requirement already satisfied: multidict<7.0,>=4.5 in /Users/calebpeffer/opt/miniconda3/envs/newenvname/lib/python3.9/site-packages (from aiohttp<4.0.0,>=3.8.6->llama-index-core<0.11.0,>=0.10.28->llama-index==0.10.28) (6.0.5)\n",
      "Requirement already satisfied: yarl<2.0,>=1.0 in /Users/calebpeffer/opt/miniconda3/envs/newenvname/lib/python3.9/site-packages (from aiohttp<4.0.0,>=3.8.6->llama-index-core<0.11.0,>=0.10.28->llama-index==0.10.28) (1.9.4)\n",
      "Requirement already satisfied: async-timeout<5.0,>=4.0 in /Users/calebpeffer/opt/miniconda3/envs/newenvname/lib/python3.9/site-packages (from aiohttp<4.0.0,>=3.8.6->llama-index-core<0.11.0,>=0.10.28->llama-index==0.10.28) (4.0.3)\n",
      "Requirement already satisfied: soupsieve>1.2 in /Users/calebpeffer/opt/miniconda3/envs/newenvname/lib/python3.9/site-packages (from beautifulsoup4<5.0.0,>=4.12.3->llama-index-readers-file<0.2.0,>=0.1.4->llama-index==0.10.28) (2.5)\n",
      "Requirement already satisfied: pydantic>=1.10 in /Users/calebpeffer/opt/miniconda3/envs/newenvname/lib/python3.9/site-packages (from llamaindex-py-client<0.2.0,>=0.1.16->llama-index-core<0.11.0,>=0.10.28->llama-index==0.10.28) (2.7.0)\n",
      "Requirement already satisfied: anyio in /Users/calebpeffer/opt/miniconda3/envs/newenvname/lib/python3.9/site-packages (from httpx->llama-index-core<0.11.0,>=0.10.28->llama-index==0.10.28) (4.3.0)\n",
      "Requirement already satisfied: certifi in /Users/calebpeffer/opt/miniconda3/envs/newenvname/lib/python3.9/site-packages (from httpx->llama-index-core<0.11.0,>=0.10.28->llama-index==0.10.28) (2024.2.2)\n",
      "Requirement already satisfied: httpcore==1.* in /Users/calebpeffer/opt/miniconda3/envs/newenvname/lib/python3.9/site-packages (from httpx->llama-index-core<0.11.0,>=0.10.28->llama-index==0.10.28) (1.0.5)\n",
      "Requirement already satisfied: idna in /Users/calebpeffer/opt/miniconda3/envs/newenvname/lib/python3.9/site-packages (from httpx->llama-index-core<0.11.0,>=0.10.28->llama-index==0.10.28) (3.7)\n",
      "Requirement already satisfied: sniffio in /Users/calebpeffer/opt/miniconda3/envs/newenvname/lib/python3.9/site-packages (from httpx->llama-index-core<0.11.0,>=0.10.28->llama-index==0.10.28) (1.3.1)\n",
      "Requirement already satisfied: h11<0.15,>=0.13 in /Users/calebpeffer/opt/miniconda3/envs/newenvname/lib/python3.9/site-packages (from httpcore==1.*->httpx->llama-index-core<0.11.0,>=0.10.28->llama-index==0.10.28) (0.14.0)\n",
      "Requirement already satisfied: click in /Users/calebpeffer/opt/miniconda3/envs/newenvname/lib/python3.9/site-packages (from nltk<4.0.0,>=3.8.1->llama-index-core<0.11.0,>=0.10.28->llama-index==0.10.28) (8.1.7)\n",
      "Requirement already satisfied: joblib in /Users/calebpeffer/opt/miniconda3/envs/newenvname/lib/python3.9/site-packages (from nltk<4.0.0,>=3.8.1->llama-index-core<0.11.0,>=0.10.28->llama-index==0.10.28) (1.4.0)\n",
      "Requirement already satisfied: regex>=2021.8.3 in /Users/calebpeffer/opt/miniconda3/envs/newenvname/lib/python3.9/site-packages (from nltk<4.0.0,>=3.8.1->llama-index-core<0.11.0,>=0.10.28->llama-index==0.10.28) (2023.12.25)\n",
      "Requirement already satisfied: distro<2,>=1.7.0 in /Users/calebpeffer/opt/miniconda3/envs/newenvname/lib/python3.9/site-packages (from openai>=1.14.0->llama-index-agent-openai<0.3.0,>=0.1.4->llama-index==0.10.28) (1.9.0)\n",
      "Requirement already satisfied: charset-normalizer<4,>=2 in /Users/calebpeffer/opt/miniconda3/envs/newenvname/lib/python3.9/site-packages (from requests>=2.31.0->llama-index-core<0.11.0,>=0.10.28->llama-index==0.10.28) (3.3.2)\n",
      "Requirement already satisfied: urllib3<3,>=1.21.1 in /Users/calebpeffer/opt/miniconda3/envs/newenvname/lib/python3.9/site-packages (from requests>=2.31.0->llama-index-core<0.11.0,>=0.10.28->llama-index==0.10.28) (2.2.1)\n",
      "Requirement already satisfied: greenlet!=0.4.17 in /Users/calebpeffer/opt/miniconda3/envs/newenvname/lib/python3.9/site-packages (from SQLAlchemy[asyncio]>=1.4.49->llama-index-core<0.11.0,>=0.10.28->llama-index==0.10.28) (3.0.3)\n",
      "Requirement already satisfied: mypy-extensions>=0.3.0 in /Users/calebpeffer/opt/miniconda3/envs/newenvname/lib/python3.9/site-packages (from typing-inspect>=0.8.0->llama-index-core<0.11.0,>=0.10.28->llama-index==0.10.28) (1.0.0)\n",
      "Requirement already satisfied: marshmallow<4.0.0,>=3.18.0 in /Users/calebpeffer/opt/miniconda3/envs/newenvname/lib/python3.9/site-packages (from dataclasses-json->llama-index-core<0.11.0,>=0.10.28->llama-index==0.10.28) (3.21.1)\n",
      "Requirement already satisfied: python-dateutil>=2.8.2 in /Users/calebpeffer/opt/miniconda3/envs/newenvname/lib/python3.9/site-packages (from pandas->llama-index-core<0.11.0,>=0.10.28->llama-index==0.10.28) (2.9.0)\n",
      "Requirement already satisfied: pytz>=2020.1 in /Users/calebpeffer/opt/miniconda3/envs/newenvname/lib/python3.9/site-packages (from pandas->llama-index-core<0.11.0,>=0.10.28->llama-index==0.10.28) (2024.1)\n",
      "Requirement already satisfied: tzdata>=2022.7 in /Users/calebpeffer/opt/miniconda3/envs/newenvname/lib/python3.9/site-packages (from pandas->llama-index-core<0.11.0,>=0.10.28->llama-index==0.10.28) (2024.1)\n",
      "Requirement already satisfied: exceptiongroup>=1.0.2 in /Users/calebpeffer/opt/miniconda3/envs/newenvname/lib/python3.9/site-packages (from anyio->httpx->llama-index-core<0.11.0,>=0.10.28->llama-index==0.10.28) (1.2.0)\n",
      "Requirement already satisfied: packaging>=17.0 in /Users/calebpeffer/opt/miniconda3/envs/newenvname/lib/python3.9/site-packages (from marshmallow<4.0.0,>=3.18.0->dataclasses-json->llama-index-core<0.11.0,>=0.10.28->llama-index==0.10.28) (24.0)\n",
      "Requirement already satisfied: annotated-types>=0.4.0 in /Users/calebpeffer/opt/miniconda3/envs/newenvname/lib/python3.9/site-packages (from pydantic>=1.10->llamaindex-py-client<0.2.0,>=0.1.16->llama-index-core<0.11.0,>=0.10.28->llama-index==0.10.28) (0.6.0)\n",
      "Requirement already satisfied: pydantic-core==2.18.1 in /Users/calebpeffer/opt/miniconda3/envs/newenvname/lib/python3.9/site-packages (from pydantic>=1.10->llamaindex-py-client<0.2.0,>=0.1.16->llama-index-core<0.11.0,>=0.10.28->llama-index==0.10.28) (2.18.1)\n",
      "Requirement already satisfied: six>=1.5 in /Users/calebpeffer/opt/miniconda3/envs/newenvname/lib/python3.9/site-packages (from python-dateutil>=2.8.2->pandas->llama-index-core<0.11.0,>=0.10.28->llama-index==0.10.28) (1.16.0)\n",
      "Building wheels for collected packages: llama-index\n",
      "  Building editable for llama-index (pyproject.toml) ... \u001b[?25ldone\n",
      "\u001b[?25h  Created wheel for llama-index: filename=llama_index-0.10.28-py3-none-any.whl size=6892 sha256=36430e65a6696095e974b65e0e7aa9f4033a2a7c95c4b763d642f74e66951aae\n",
      "  Stored in directory: /private/var/folders/cp/3pb58ss96lb4yn0y_k9jlblh0000gn/T/pip-ephem-wheel-cache-c3fzb4i7/wheels/05/89/c0/971750ca0d404aa1b63d7f518e75658e5895af2fdcc0d5a0d8\n",
      "Successfully built llama-index\n",
      "Installing collected packages: llama-index\n",
      "  Attempting uninstall: llama-index\n",
      "    Found existing installation: llama-index 0.10.28\n",
      "    Uninstalling llama-index-0.10.28:\n",
      "      Successfully uninstalled llama-index-0.10.28\n",
      "Successfully installed llama-index-0.10.28\n"
     ]
    }
   ],
   "source": [
    "!pip install llama-index"
   ]
  },
  {
   "cell_type": "code",
   "execution_count": null,
   "id": "87bf7ecd-50cd-47da-9f0e-bc48d7ae45d8",
   "metadata": {},
   "outputs": [],
   "source": [
    "from llama_index.core import SummaryIndex\n",
    "from llama_index.readers.web import SimpleWebPageReader\n",
    "from IPython.display import Markdown, display\n",
    "import os"
   ]
  },
  {
   "cell_type": "code",
   "execution_count": null,
   "id": "b6de3929-51eb-4064-b4b6-c203bb6debc4",
   "metadata": {},
   "outputs": [],
   "source": [
    "# NOTE: the html_to_text=True option requires html2text to be installed"
   ]
  },
  {
   "cell_type": "code",
   "execution_count": null,
   "id": "663403de-2e6e-4340-ab8f-8ee681bc06aa",
   "metadata": {},
   "outputs": [],
   "source": [
    "documents = SimpleWebPageReader(html_to_text=True).load_data(\n",
    "    [\"http://paulgraham.com/worked.html\"]\n",
    ")"
   ]
  },
  {
   "cell_type": "code",
   "execution_count": null,
   "id": "b8cd183a-2423-4a3e-ad92-dfe89ed5454e",
   "metadata": {},
   "outputs": [],
   "source": [
    "documents[0]"
   ]
  },
  {
   "cell_type": "code",
   "execution_count": null,
   "id": "26854cc3-af61-4910-ab6b-3bed6acfb447",
   "metadata": {},
   "outputs": [],
   "source": [
    "index = SummaryIndex.from_documents(documents)"
   ]
  },
  {
   "cell_type": "code",
   "execution_count": null,
   "id": "5cfdf87a-97cb-481f-ad51-be5bf8b5217f",
   "metadata": {},
   "outputs": [],
   "source": [
    "# set Logging to DEBUG for more detailed outputs\n",
    "query_engine = index.as_query_engine()\n",
    "response = query_engine.query(\"What did the author do growing up?\")"
   ]
  },
  {
   "cell_type": "code",
   "execution_count": null,
   "id": "7278d033-cae3-4ddf-96bd-75ea570ca53f",
   "metadata": {},
   "outputs": [],
   "source": [
    "display(Markdown(f\"<b>{response}</b>\"))"
   ]
  },
  {
   "cell_type": "markdown",
   "id": "15f46387",
   "metadata": {},
   "source": [
    "### Using FireCrawl Reader 🔥\n"
   ]
  },
  {
   "cell_type": "markdown",
   "id": "dd82bd7c",
   "metadata": {},
   "source": [
    "Firecrawl is an api that turns entire websites into clean, LLM accessible markdown."
   ]
  },
  {
   "cell_type": "markdown",
   "id": "45f8ac3f",
   "metadata": {},
   "source": [
    "Using Firecrawl to gather an entire website"
   ]
  },
  {
   "cell_type": "code",
   "execution_count": null,
   "id": "0f8b884f",
   "metadata": {},
   "outputs": [],
   "source": [
    "from llama_index.readers.web import FireCrawlWebReader"
   ]
  },
  {
   "cell_type": "code",
   "execution_count": null,
   "id": "b6f8dd98",
   "metadata": {},
   "outputs": [],
   "source": [
    "# using firecrawl to crawl a website\n",
    "firecrawl_reader = FireCrawlWebReader(\n",
    "    api_key=\"<your_api_key>\",  # Replace with your actual API key from https://www.firecrawl.dev/\n",
    "    mode=\"scrape\",  # Choose between \"crawl\" and \"scrape\" for single page scraping\n",
    "    params={\"additional\": \"parameters\"},  # Optional additional parameters\n",
    ")\n",
    "\n",
    "# Load documents from a single page URL\n",
    "documents = firecrawl_reader.load_data(url=\"http://paulgraham.com/\")"
   ]
  },
  {
   "cell_type": "code",
   "execution_count": null,
   "id": "7b97adc6",
   "metadata": {},
   "outputs": [],
   "source": [
    "index = SummaryIndex.from_documents(documents)"
   ]
  },
  {
   "cell_type": "code",
   "execution_count": null,
   "id": "8f867baa",
   "metadata": {},
   "outputs": [],
   "source": [
    "# set Logging to DEBUG for more detailed outputs\n",
    "query_engine = index.as_query_engine()\n",
    "response = query_engine.query(\"What did the author do growing up?\")"
   ]
  },
  {
   "cell_type": "code",
   "execution_count": null,
   "id": "7fda42e8",
   "metadata": {},
   "outputs": [],
   "source": [
    "display(Markdown(f\"<b>{response}</b>\"))"
   ]
  },
  {
   "cell_type": "markdown",
   "id": "b11b2d94",
   "metadata": {},
   "source": [
    "Using firecrawl for a single page\n"
   ]
  },
  {
   "cell_type": "code",
   "execution_count": null,
   "id": "870e74da",
   "metadata": {},
   "outputs": [
    {
     "ename": "",
     "evalue": "",
     "output_type": "error",
     "traceback": [
      "\u001b[1;31mRunning cells with '/opt/homebrew/bin/python3' requires the ipykernel package.\n",
      "\u001b[1;31mRun the following command to install 'ipykernel' into the Python environment. \n",
      "\u001b[1;31mCommand: '/opt/homebrew/bin/python3 -m pip install ipykernel -U --user --force-reinstall'"
     ]
    }
   ],
   "source": [
    "# Initialize the FireCrawlWebReader with your API key and desired mode\n",
    "from llama_index.readers.web.firecrawl_web.base import FireCrawlWebReader\n",
    "\n",
    "firecrawl_reader = FireCrawlWebReader(\n",
    "    api_key=\"<your_api_key>\",  # Replace with your actual API key from https://www.firecrawl.dev/\n",
    "    mode=\"scrape\",  # Choose between \"crawl\" and \"scrape\" for single page scraping\n",
    "    params={\"additional\": \"parameters\"},  # Optional additional parameters\n",
    ")\n",
    "\n",
    "# Load documents from a single page URL\n",
    "documents = firecrawl_reader.load_data(url=\"http://paulgraham.com/worked.html\")"
   ]
  },
  {
   "cell_type": "code",
   "execution_count": null,
   "id": "ce0cbeb5",
   "metadata": {},
   "outputs": [],
   "source": [
    "index = SummaryIndex.from_documents(documents)"
   ]
  },
  {
   "cell_type": "code",
   "execution_count": null,
   "id": "955dce83",
   "metadata": {},
   "outputs": [],
   "source": [
    "# set Logging to DEBUG for more detailed outputs\n",
    "query_engine = index.as_query_engine()\n",
    "response = query_engine.query(\"What did the author do growing up?\")"
   ]
  },
  {
   "cell_type": "code",
   "execution_count": null,
   "id": "a0336385",
   "metadata": {},
   "outputs": [],
   "source": [
    "display(Markdown(f\"<b>{response}</b>\"))"
   ]
  },
  {
   "cell_type": "markdown",
   "id": "2708dc99-0e4d-4c7e-b180-8392286d87c2",
   "metadata": {},
   "source": [
    "#### Using TrafilaturaWebReader"
   ]
  },
  {
   "cell_type": "code",
   "execution_count": null,
   "id": "aa2d54c6-c694-4852-a743-165e4777bd56",
   "metadata": {},
   "outputs": [
    {
     "ename": "ModuleNotFoundError",
     "evalue": "No module named 'llama_index.readers.web'",
     "output_type": "error",
     "traceback": [
      "\u001b[0;31m---------------------------------------------------------------------------\u001b[0m",
      "\u001b[0;31mModuleNotFoundError\u001b[0m                       Traceback (most recent call last)",
      "Cell \u001b[0;32mIn[7], line 1\u001b[0m\n\u001b[0;32m----> 1\u001b[0m \u001b[38;5;28;01mfrom\u001b[39;00m \u001b[38;5;21;01mllama_index\u001b[39;00m\u001b[38;5;21;01m.\u001b[39;00m\u001b[38;5;21;01mreaders\u001b[39;00m\u001b[38;5;21;01m.\u001b[39;00m\u001b[38;5;21;01mweb\u001b[39;00m \u001b[38;5;28;01mimport\u001b[39;00m TrafilaturaWebReader\n",
      "\u001b[0;31mModuleNotFoundError\u001b[0m: No module named 'llama_index.readers.web'"
     ]
    }
   ],
   "source": [
    "from llama_index.readers.web import TrafilaturaWebReader"
   ]
  },
  {
   "cell_type": "code",
   "execution_count": null,
   "id": "46854f2f-426e-40a3-a87f-5fb51f90e14c",
   "metadata": {},
   "outputs": [],
   "source": [
    "documents = TrafilaturaWebReader().load_data(\n",
    "    [\"http://paulgraham.com/worked.html\"]\n",
    ")"
   ]
  },
  {
   "cell_type": "code",
   "execution_count": null,
   "id": "80752ad3-1ed8-4695-9247-22efbe475746",
   "metadata": {},
   "outputs": [],
   "source": [
    "index = SummaryIndex.from_documents(documents)"
   ]
  },
  {
   "cell_type": "code",
   "execution_count": null,
   "id": "8cc9b154-1dcf-479b-b49b-251874aea506",
   "metadata": {},
   "outputs": [],
   "source": [
    "# set Logging to DEBUG for more detailed outputs\n",
    "query_engine = index.as_query_engine()\n",
    "response = query_engine.query(\"What did the author do growing up?\")"
   ]
  },
  {
   "cell_type": "code",
   "execution_count": null,
   "id": "971b6415-8bcd-4d8b-a1de-9b7ada3cd392",
   "metadata": {},
   "outputs": [],
   "source": [
    "display(Markdown(f\"<b>{response}</b>\"))"
   ]
  },
  {
   "cell_type": "markdown",
   "id": "b2b6d07c",
   "metadata": {},
   "source": [
    "### Using RssReader"
   ]
  },
  {
   "cell_type": "code",
   "execution_count": null,
   "id": "a5ad5ca8",
   "metadata": {},
   "outputs": [],
   "source": [
    "from llama_index.core import SummaryIndex\n",
    "from llama_index.readers.web import RssReader\n",
    "\n",
    "documents = RssReader().load_data(\n",
    "    [\"https://rss.nytimes.com/services/xml/rss/nyt/HomePage.xml\"]\n",
    ")\n",
    "\n",
    "index = SummaryIndex.from_documents(documents)\n",
    "\n",
    "# set Logging to DEBUG for more detailed outputs\n",
    "query_engine = index.as_query_engine()\n",
    "response = query_engine.query(\"What happened in the news today?\")"
   ]
  }
 ],
 "metadata": {
  "kernelspec": {
   "display_name": "Python 3 (ipykernel)",
   "language": "python",
   "name": "python3"
  },
  "language_info": {
   "codemirror_mode": {
    "name": "ipython",
    "version": 3
   },
   "file_extension": ".py",
   "mimetype": "text/x-python",
   "name": "python",
   "nbconvert_exporter": "python",
   "pygments_lexer": "ipython3"
  },
  "vscode": {
   "interpreter": {
    "hash": "c32397a35d2e76e766f80c3872b208f0c0029e8a6a9b8e2a8fe7b1641cfa009b"
   }
  }
 },
 "nbformat": 4,
 "nbformat_minor": 5
}
