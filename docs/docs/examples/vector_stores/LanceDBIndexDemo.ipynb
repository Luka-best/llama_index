{
 "cells": [
  {
   "attachments": {},
   "cell_type": "markdown",
   "id": "2db56c9b",
   "metadata": {},
   "source": [
    "<a href=\"https://colab.research.google.com/github/run-llama/llama_index/blob/main/docs/docs/examples/vector_stores/LanceDBIndexDemo.ipynb\" target=\"_parent\"><img src=\"https://colab.research.google.com/assets/colab-badge.svg\" alt=\"Open In Colab\"/></a>"
   ]
  },
  {
   "attachments": {},
   "cell_type": "markdown",
   "id": "db0855d0",
   "metadata": {},
   "source": [
    "# LanceDB Vector Store\n",
    "In this notebook we are going to show how to use [LanceDB](https://www.lancedb.com) to perform vector searches in LlamaIndex"
   ]
  },
  {
   "attachments": {},
   "cell_type": "markdown",
   "id": "f44170b2",
   "metadata": {},
   "source": [
    "If you're opening this Notebook on colab, you will probably need to install LlamaIndex 🦙."
   ]
  },
  {
   "cell_type": "code",
   "execution_count": null,
   "id": "6c84199c",
   "metadata": {},
   "outputs": [
    {
     "name": "stdout",
     "output_type": "stream",
     "text": [
      "Requirement already satisfied: llama-index-vector-stores-lancedb in /Users/raghavdixit/Desktop/open_source/llama_index_lance/.venv/lib/python3.10/site-packages (0.1.3)\n",
      "Requirement already satisfied: lancedb<0.6.0,>=0.5.1 in /Users/raghavdixit/Desktop/open_source/llama_index_lance/.venv/lib/python3.10/site-packages (from llama-index-vector-stores-lancedb) (0.5.7)\n",
      "Requirement already satisfied: llama-index-core<0.11.0,>=0.10.1 in /Users/raghavdixit/Desktop/open_source/llama_index_lance/.venv/lib/python3.10/site-packages (from llama-index-vector-stores-lancedb) (0.10.35)\n",
      "Requirement already satisfied: deprecation in /Users/raghavdixit/Desktop/open_source/llama_index_lance/.venv/lib/python3.10/site-packages (from lancedb<0.6.0,>=0.5.1->llama-index-vector-stores-lancedb) (2.1.0)\n",
      "Requirement already satisfied: pylance==0.9.18 in /Users/raghavdixit/Desktop/open_source/llama_index_lance/.venv/lib/python3.10/site-packages (from lancedb<0.6.0,>=0.5.1->llama-index-vector-stores-lancedb) (0.9.18)\n",
      "Requirement already satisfied: ratelimiter~=1.0 in /Users/raghavdixit/Desktop/open_source/llama_index_lance/.venv/lib/python3.10/site-packages (from lancedb<0.6.0,>=0.5.1->llama-index-vector-stores-lancedb) (1.2.0.post0)\n",
      "Requirement already satisfied: retry>=0.9.2 in /Users/raghavdixit/Desktop/open_source/llama_index_lance/.venv/lib/python3.10/site-packages (from lancedb<0.6.0,>=0.5.1->llama-index-vector-stores-lancedb) (0.9.2)\n",
      "Requirement already satisfied: tqdm>=4.27.0 in /Users/raghavdixit/Desktop/open_source/llama_index_lance/.venv/lib/python3.10/site-packages (from lancedb<0.6.0,>=0.5.1->llama-index-vector-stores-lancedb) (4.66.4)\n",
      "Requirement already satisfied: pydantic>=1.10 in /Users/raghavdixit/Desktop/open_source/llama_index_lance/.venv/lib/python3.10/site-packages (from lancedb<0.6.0,>=0.5.1->llama-index-vector-stores-lancedb) (1.10.15)\n",
      "Requirement already satisfied: attrs>=21.3.0 in /Users/raghavdixit/Desktop/open_source/llama_index_lance/.venv/lib/python3.10/site-packages (from lancedb<0.6.0,>=0.5.1->llama-index-vector-stores-lancedb) (23.2.0)\n",
      "Requirement already satisfied: semver>=3.0 in /Users/raghavdixit/Desktop/open_source/llama_index_lance/.venv/lib/python3.10/site-packages (from lancedb<0.6.0,>=0.5.1->llama-index-vector-stores-lancedb) (3.0.2)\n",
      "Requirement already satisfied: cachetools in /Users/raghavdixit/Desktop/open_source/llama_index_lance/.venv/lib/python3.10/site-packages (from lancedb<0.6.0,>=0.5.1->llama-index-vector-stores-lancedb) (5.3.3)\n",
      "Requirement already satisfied: pyyaml>=6.0 in /Users/raghavdixit/Desktop/open_source/llama_index_lance/.venv/lib/python3.10/site-packages (from lancedb<0.6.0,>=0.5.1->llama-index-vector-stores-lancedb) (6.0.1)\n",
      "Requirement already satisfied: click>=8.1.7 in /Users/raghavdixit/Desktop/open_source/llama_index_lance/.venv/lib/python3.10/site-packages (from lancedb<0.6.0,>=0.5.1->llama-index-vector-stores-lancedb) (8.1.7)\n",
      "Requirement already satisfied: requests>=2.31.0 in /Users/raghavdixit/Desktop/open_source/llama_index_lance/.venv/lib/python3.10/site-packages (from lancedb<0.6.0,>=0.5.1->llama-index-vector-stores-lancedb) (2.31.0)\n",
      "Requirement already satisfied: overrides>=0.7 in /Users/raghavdixit/Desktop/open_source/llama_index_lance/.venv/lib/python3.10/site-packages (from lancedb<0.6.0,>=0.5.1->llama-index-vector-stores-lancedb) (7.7.0)\n",
      "Requirement already satisfied: pyarrow>=12 in /Users/raghavdixit/Desktop/open_source/llama_index_lance/.venv/lib/python3.10/site-packages (from pylance==0.9.18->lancedb<0.6.0,>=0.5.1->llama-index-vector-stores-lancedb) (14.0.0)\n",
      "Requirement already satisfied: numpy>=1.22 in /Users/raghavdixit/Desktop/open_source/llama_index_lance/.venv/lib/python3.10/site-packages (from pylance==0.9.18->lancedb<0.6.0,>=0.5.1->llama-index-vector-stores-lancedb) (1.24.4)\n",
      "Requirement already satisfied: SQLAlchemy>=1.4.49 in /Users/raghavdixit/Desktop/open_source/llama_index_lance/.venv/lib/python3.10/site-packages (from SQLAlchemy[asyncio]>=1.4.49->llama-index-core<0.11.0,>=0.10.1->llama-index-vector-stores-lancedb) (2.0.30)\n",
      "Requirement already satisfied: aiohttp<4.0.0,>=3.8.6 in /Users/raghavdixit/Desktop/open_source/llama_index_lance/.venv/lib/python3.10/site-packages (from llama-index-core<0.11.0,>=0.10.1->llama-index-vector-stores-lancedb) (3.9.5)\n",
      "Requirement already satisfied: dataclasses-json in /Users/raghavdixit/Desktop/open_source/llama_index_lance/.venv/lib/python3.10/site-packages (from llama-index-core<0.11.0,>=0.10.1->llama-index-vector-stores-lancedb) (0.6.5)\n",
      "Requirement already satisfied: deprecated>=1.2.9.3 in /Users/raghavdixit/Desktop/open_source/llama_index_lance/.venv/lib/python3.10/site-packages (from llama-index-core<0.11.0,>=0.10.1->llama-index-vector-stores-lancedb) (1.2.14)\n",
      "Requirement already satisfied: dirtyjson<2.0.0,>=1.0.8 in /Users/raghavdixit/Desktop/open_source/llama_index_lance/.venv/lib/python3.10/site-packages (from llama-index-core<0.11.0,>=0.10.1->llama-index-vector-stores-lancedb) (1.0.8)\n",
      "Requirement already satisfied: fsspec>=2023.5.0 in /Users/raghavdixit/Desktop/open_source/llama_index_lance/.venv/lib/python3.10/site-packages (from llama-index-core<0.11.0,>=0.10.1->llama-index-vector-stores-lancedb) (2024.3.1)\n",
      "Requirement already satisfied: httpx in /Users/raghavdixit/Desktop/open_source/llama_index_lance/.venv/lib/python3.10/site-packages (from llama-index-core<0.11.0,>=0.10.1->llama-index-vector-stores-lancedb) (0.27.0)\n",
      "Requirement already satisfied: llamaindex-py-client<0.2.0,>=0.1.18 in /Users/raghavdixit/Desktop/open_source/llama_index_lance/.venv/lib/python3.10/site-packages (from llama-index-core<0.11.0,>=0.10.1->llama-index-vector-stores-lancedb) (0.1.19)\n",
      "Requirement already satisfied: nest-asyncio<2.0.0,>=1.5.8 in /Users/raghavdixit/Desktop/open_source/llama_index_lance/.venv/lib/python3.10/site-packages (from llama-index-core<0.11.0,>=0.10.1->llama-index-vector-stores-lancedb) (1.6.0)\n",
      "Requirement already satisfied: networkx>=3.0 in /Users/raghavdixit/Desktop/open_source/llama_index_lance/.venv/lib/python3.10/site-packages (from llama-index-core<0.11.0,>=0.10.1->llama-index-vector-stores-lancedb) (3.1)\n",
      "Requirement already satisfied: nltk<4.0.0,>=3.8.1 in /Users/raghavdixit/Desktop/open_source/llama_index_lance/.venv/lib/python3.10/site-packages (from llama-index-core<0.11.0,>=0.10.1->llama-index-vector-stores-lancedb) (3.8.1)\n",
      "Requirement already satisfied: openai>=1.1.0 in /Users/raghavdixit/Desktop/open_source/llama_index_lance/.venv/lib/python3.10/site-packages (from llama-index-core<0.11.0,>=0.10.1->llama-index-vector-stores-lancedb) (1.26.0)\n",
      "Requirement already satisfied: pandas in /Users/raghavdixit/Desktop/open_source/llama_index_lance/.venv/lib/python3.10/site-packages (from llama-index-core<0.11.0,>=0.10.1->llama-index-vector-stores-lancedb) (2.0.3)\n",
      "Requirement already satisfied: pillow>=9.0.0 in /Users/raghavdixit/Desktop/open_source/llama_index_lance/.venv/lib/python3.10/site-packages (from llama-index-core<0.11.0,>=0.10.1->llama-index-vector-stores-lancedb) (10.3.0)\n",
      "Requirement already satisfied: tenacity<9.0.0,>=8.2.0 in /Users/raghavdixit/Desktop/open_source/llama_index_lance/.venv/lib/python3.10/site-packages (from llama-index-core<0.11.0,>=0.10.1->llama-index-vector-stores-lancedb) (8.3.0)\n",
      "Requirement already satisfied: tiktoken>=0.3.3 in /Users/raghavdixit/Desktop/open_source/llama_index_lance/.venv/lib/python3.10/site-packages (from llama-index-core<0.11.0,>=0.10.1->llama-index-vector-stores-lancedb) (0.6.0)\n",
      "Requirement already satisfied: typing-extensions>=4.5.0 in /Users/raghavdixit/Desktop/open_source/llama_index_lance/.venv/lib/python3.10/site-packages (from llama-index-core<0.11.0,>=0.10.1->llama-index-vector-stores-lancedb) (4.11.0)\n",
      "Requirement already satisfied: typing-inspect>=0.8.0 in /Users/raghavdixit/Desktop/open_source/llama_index_lance/.venv/lib/python3.10/site-packages (from llama-index-core<0.11.0,>=0.10.1->llama-index-vector-stores-lancedb) (0.9.0)\n",
      "Requirement already satisfied: wrapt in /Users/raghavdixit/Desktop/open_source/llama_index_lance/.venv/lib/python3.10/site-packages (from llama-index-core<0.11.0,>=0.10.1->llama-index-vector-stores-lancedb) (1.16.0)\n",
      "Requirement already satisfied: aiosignal>=1.1.2 in /Users/raghavdixit/Desktop/open_source/llama_index_lance/.venv/lib/python3.10/site-packages (from aiohttp<4.0.0,>=3.8.6->llama-index-core<0.11.0,>=0.10.1->llama-index-vector-stores-lancedb) (1.3.1)\n",
      "Requirement already satisfied: frozenlist>=1.1.1 in /Users/raghavdixit/Desktop/open_source/llama_index_lance/.venv/lib/python3.10/site-packages (from aiohttp<4.0.0,>=3.8.6->llama-index-core<0.11.0,>=0.10.1->llama-index-vector-stores-lancedb) (1.4.1)\n",
      "Requirement already satisfied: multidict<7.0,>=4.5 in /Users/raghavdixit/Desktop/open_source/llama_index_lance/.venv/lib/python3.10/site-packages (from aiohttp<4.0.0,>=3.8.6->llama-index-core<0.11.0,>=0.10.1->llama-index-vector-stores-lancedb) (6.0.5)\n",
      "Requirement already satisfied: yarl<2.0,>=1.0 in /Users/raghavdixit/Desktop/open_source/llama_index_lance/.venv/lib/python3.10/site-packages (from aiohttp<4.0.0,>=3.8.6->llama-index-core<0.11.0,>=0.10.1->llama-index-vector-stores-lancedb) (1.9.4)\n",
      "Requirement already satisfied: async-timeout<5.0,>=4.0 in /Users/raghavdixit/Desktop/open_source/llama_index_lance/.venv/lib/python3.10/site-packages (from aiohttp<4.0.0,>=3.8.6->llama-index-core<0.11.0,>=0.10.1->llama-index-vector-stores-lancedb) (4.0.3)\n",
      "Requirement already satisfied: anyio in /Users/raghavdixit/Desktop/open_source/llama_index_lance/.venv/lib/python3.10/site-packages (from httpx->llama-index-core<0.11.0,>=0.10.1->llama-index-vector-stores-lancedb) (4.3.0)\n",
      "Requirement already satisfied: certifi in /Users/raghavdixit/Desktop/open_source/llama_index_lance/.venv/lib/python3.10/site-packages (from httpx->llama-index-core<0.11.0,>=0.10.1->llama-index-vector-stores-lancedb) (2024.2.2)\n",
      "Requirement already satisfied: httpcore==1.* in /Users/raghavdixit/Desktop/open_source/llama_index_lance/.venv/lib/python3.10/site-packages (from httpx->llama-index-core<0.11.0,>=0.10.1->llama-index-vector-stores-lancedb) (1.0.5)\n",
      "Requirement already satisfied: idna in /Users/raghavdixit/Desktop/open_source/llama_index_lance/.venv/lib/python3.10/site-packages (from httpx->llama-index-core<0.11.0,>=0.10.1->llama-index-vector-stores-lancedb) (3.7)\n",
      "Requirement already satisfied: sniffio in /Users/raghavdixit/Desktop/open_source/llama_index_lance/.venv/lib/python3.10/site-packages (from httpx->llama-index-core<0.11.0,>=0.10.1->llama-index-vector-stores-lancedb) (1.3.1)\n",
      "Requirement already satisfied: h11<0.15,>=0.13 in /Users/raghavdixit/Desktop/open_source/llama_index_lance/.venv/lib/python3.10/site-packages (from httpcore==1.*->httpx->llama-index-core<0.11.0,>=0.10.1->llama-index-vector-stores-lancedb) (0.14.0)\n",
      "Requirement already satisfied: joblib in /Users/raghavdixit/Desktop/open_source/llama_index_lance/.venv/lib/python3.10/site-packages (from nltk<4.0.0,>=3.8.1->llama-index-core<0.11.0,>=0.10.1->llama-index-vector-stores-lancedb) (1.4.2)\n",
      "Requirement already satisfied: regex>=2021.8.3 in /Users/raghavdixit/Desktop/open_source/llama_index_lance/.venv/lib/python3.10/site-packages (from nltk<4.0.0,>=3.8.1->llama-index-core<0.11.0,>=0.10.1->llama-index-vector-stores-lancedb) (2024.4.28)\n",
      "Requirement already satisfied: distro<2,>=1.7.0 in /Users/raghavdixit/Desktop/open_source/llama_index_lance/.venv/lib/python3.10/site-packages (from openai>=1.1.0->llama-index-core<0.11.0,>=0.10.1->llama-index-vector-stores-lancedb) (1.9.0)\n",
      "Requirement already satisfied: charset-normalizer<4,>=2 in /Users/raghavdixit/Desktop/open_source/llama_index_lance/.venv/lib/python3.10/site-packages (from requests>=2.31.0->lancedb<0.6.0,>=0.5.1->llama-index-vector-stores-lancedb) (3.3.2)\n",
      "Requirement already satisfied: urllib3<3,>=1.21.1 in /Users/raghavdixit/Desktop/open_source/llama_index_lance/.venv/lib/python3.10/site-packages (from requests>=2.31.0->lancedb<0.6.0,>=0.5.1->llama-index-vector-stores-lancedb) (2.2.1)\n",
      "Requirement already satisfied: decorator>=3.4.2 in /Users/raghavdixit/Desktop/open_source/llama_index_lance/.venv/lib/python3.10/site-packages (from retry>=0.9.2->lancedb<0.6.0,>=0.5.1->llama-index-vector-stores-lancedb) (5.1.1)\n",
      "Requirement already satisfied: py<2.0.0,>=1.4.26 in /Users/raghavdixit/Desktop/open_source/llama_index_lance/.venv/lib/python3.10/site-packages (from retry>=0.9.2->lancedb<0.6.0,>=0.5.1->llama-index-vector-stores-lancedb) (1.11.0)\n",
      "Requirement already satisfied: greenlet!=0.4.17 in /Users/raghavdixit/Desktop/open_source/llama_index_lance/.venv/lib/python3.10/site-packages (from SQLAlchemy[asyncio]>=1.4.49->llama-index-core<0.11.0,>=0.10.1->llama-index-vector-stores-lancedb) (3.0.3)\n",
      "Requirement already satisfied: mypy-extensions>=0.3.0 in /Users/raghavdixit/Desktop/open_source/llama_index_lance/.venv/lib/python3.10/site-packages (from typing-inspect>=0.8.0->llama-index-core<0.11.0,>=0.10.1->llama-index-vector-stores-lancedb) (1.0.0)\n",
      "Requirement already satisfied: marshmallow<4.0.0,>=3.18.0 in /Users/raghavdixit/Desktop/open_source/llama_index_lance/.venv/lib/python3.10/site-packages (from dataclasses-json->llama-index-core<0.11.0,>=0.10.1->llama-index-vector-stores-lancedb) (3.21.2)\n",
      "Requirement already satisfied: packaging in /Users/raghavdixit/Desktop/open_source/llama_index_lance/.venv/lib/python3.10/site-packages (from deprecation->lancedb<0.6.0,>=0.5.1->llama-index-vector-stores-lancedb) (24.0)\n",
      "Requirement already satisfied: python-dateutil>=2.8.2 in /Users/raghavdixit/Desktop/open_source/llama_index_lance/.venv/lib/python3.10/site-packages (from pandas->llama-index-core<0.11.0,>=0.10.1->llama-index-vector-stores-lancedb) (2.9.0.post0)\n",
      "Requirement already satisfied: pytz>=2020.1 in /Users/raghavdixit/Desktop/open_source/llama_index_lance/.venv/lib/python3.10/site-packages (from pandas->llama-index-core<0.11.0,>=0.10.1->llama-index-vector-stores-lancedb) (2024.1)\n",
      "Requirement already satisfied: tzdata>=2022.1 in /Users/raghavdixit/Desktop/open_source/llama_index_lance/.venv/lib/python3.10/site-packages (from pandas->llama-index-core<0.11.0,>=0.10.1->llama-index-vector-stores-lancedb) (2024.1)\n",
      "Requirement already satisfied: exceptiongroup>=1.0.2 in /Users/raghavdixit/Desktop/open_source/llama_index_lance/.venv/lib/python3.10/site-packages (from anyio->httpx->llama-index-core<0.11.0,>=0.10.1->llama-index-vector-stores-lancedb) (1.2.1)\n",
      "Requirement already satisfied: six>=1.5 in /Users/raghavdixit/Desktop/open_source/llama_index_lance/.venv/lib/python3.10/site-packages (from python-dateutil>=2.8.2->pandas->llama-index-core<0.11.0,>=0.10.1->llama-index-vector-stores-lancedb) (1.16.0)\n",
      "\n",
      "\u001b[1m[\u001b[0m\u001b[34;49mnotice\u001b[0m\u001b[1;39;49m]\u001b[0m\u001b[39;49m A new release of pip is available: \u001b[0m\u001b[31;49m23.3.1\u001b[0m\u001b[39;49m -> \u001b[0m\u001b[32;49m24.0\u001b[0m\n",
      "\u001b[1m[\u001b[0m\u001b[34;49mnotice\u001b[0m\u001b[1;39;49m]\u001b[0m\u001b[39;49m To update, run: \u001b[0m\u001b[32;49mpip install --upgrade pip\u001b[0m\n",
      "Note: you may need to restart the kernel to use updated packages.\n"
     ]
    }
   ],
   "source": [
    "%pip install llama-index-vector-stores-lancedb"
   ]
  },
  {
   "cell_type": "code",
   "execution_count": null,
   "id": "99939438",
   "metadata": {},
   "outputs": [],
   "source": [
    "# Refresh vector store URI if restarting or re-using the same notebook\n",
    "! rm -rf ./lancedb"
   ]
  },
  {
   "cell_type": "code",
   "execution_count": null,
   "id": "c2d1c538",
   "metadata": {},
   "outputs": [
    {
     "name": "stderr",
     "output_type": "stream",
     "text": [
      "/Users/raghavdixit/Desktop/open_source/llama_index_lance/.venv/lib/python3.10/site-packages/tqdm/auto.py:21: TqdmWarning: IProgress not found. Please update jupyter and ipywidgets. See https://ipywidgets.readthedocs.io/en/stable/user_install.html\n",
      "  from .autonotebook import tqdm as notebook_tqdm\n"
     ]
    }
   ],
   "source": [
    "import logging\n",
    "import sys\n",
    "\n",
    "# Uncomment to see debug logs\n",
    "# logging.basicConfig(stream=sys.stdout, level=logging.DEBUG)\n",
    "# logging.getLogger().addHandler(logging.StreamHandler(stream=sys.stdout))\n",
    "\n",
    "\n",
    "from llama_index.core import SimpleDirectoryReader, Document, StorageContext\n",
    "from llama_index.core import VectorStoreIndex\n",
    "from llama_index.vector_stores.lancedb import LanceDBVectorStore\n",
    "import textwrap"
   ]
  },
  {
   "attachments": {},
   "cell_type": "markdown",
   "id": "26c71b6d",
   "metadata": {},
   "source": [
    "### Setup OpenAI\n",
    "The first step is to configure the openai key. It will be used to created embeddings for the documents loaded into the index"
   ]
  },
  {
   "cell_type": "code",
   "execution_count": null,
   "id": "67b86621",
   "metadata": {},
   "outputs": [],
   "source": [
    "import openai\n",
    "\n",
    "openai.api_key = \"sk-...\""
   ]
  },
  {
   "attachments": {},
   "cell_type": "markdown",
   "id": "073f0a68",
   "metadata": {},
   "source": [
    "Download Data"
   ]
  },
  {
   "cell_type": "code",
   "execution_count": null,
   "id": "eef1b911",
   "metadata": {},
   "outputs": [
    {
     "name": "stdout",
     "output_type": "stream",
     "text": [
      "--2024-05-25 09:23:32--  https://raw.githubusercontent.com/run-llama/llama_index/main/docs/docs/examples/data/paul_graham/paul_graham_essay.txt\n",
      "Resolving raw.githubusercontent.com (raw.githubusercontent.com)... 185.199.108.133, 185.199.109.133, 185.199.111.133, ...\n",
      "Connecting to raw.githubusercontent.com (raw.githubusercontent.com)|185.199.108.133|:443... connected.\n",
      "HTTP request sent, awaiting response... 200 OK\n",
      "Length: 75042 (73K) [text/plain]\n",
      "Saving to: ‘data/paul_graham/paul_graham_essay.txt’\n",
      "\n",
      "data/paul_graham/pa 100%[===================>]  73.28K  --.-KB/s    in 0.02s   \n",
      "\n",
      "2024-05-25 09:23:33 (4.75 MB/s) - ‘data/paul_graham/paul_graham_essay.txt’ saved [75042/75042]\n",
      "\n"
     ]
    }
   ],
   "source": [
    "!mkdir -p 'data/paul_graham/'\n",
    "!wget 'https://raw.githubusercontent.com/run-llama/llama_index/main/docs/docs/examples/data/paul_graham/paul_graham_essay.txt' -O 'data/paul_graham/paul_graham_essay.txt'"
   ]
  },
  {
   "attachments": {},
   "cell_type": "markdown",
   "id": "f7010b1d-d1bb-4f08-9309-a328bb4ea396",
   "metadata": {},
   "source": [
    "### Loading documents\n",
    "Load the documents stored in the `data/paul_graham/` using the SimpleDirectoryReader"
   ]
  },
  {
   "cell_type": "code",
   "execution_count": null,
   "id": "c154dd4b",
   "metadata": {},
   "outputs": [
    {
     "name": "stdout",
     "output_type": "stream",
     "text": [
      "Document ID: 5e8699c1-16de-4a09-b971-ea96bb433192 Document Hash: 5ab3d2afb40423246d5a57f660d5c2cec31f1d980b97ddac1e01faba5a65771a\n"
     ]
    }
   ],
   "source": [
    "documents = SimpleDirectoryReader(\"./data/paul_graham/\").load_data()\n",
    "print(\"Document ID:\", documents[0].doc_id, \"Document Hash:\", documents[0].hash)"
   ]
  },
  {
   "attachments": {},
   "cell_type": "markdown",
   "id": "c0232fd1",
   "metadata": {},
   "source": [
    "### Create the index\n",
    "Here we create an index backed by LanceDB using the documents loaded previously. LanceDBVectorStore takes a few arguments.\n",
    "- uri (str, required): Location where LanceDB will store its files.\n",
    "- table_name (str, optional): The table name where the embeddings will be stored. Defaults to \"vectors\".\n",
    "- nprobes (int, optional): The number of probes used. A higher number makes search more accurate but also slower. Defaults to 20.\n",
    "- refine_factor: (int, optional): Refine the results by reading extra elements and re-ranking them in memory. Defaults to None\n",
    "\n",
    "- More details can be found at [LanceDB docs](https://lancedb.github.io/lancedb/ann_indexes)"
   ]
  },
  {
   "cell_type": "markdown",
   "id": "1f2e20ef",
   "metadata": {},
   "source": [
    "##### For LanceDB cloud :\n",
    "```python\n",
    "vector_store = LanceDBVectorStore( \n",
    "    uri=\"db://db_name\", # your remote DB URI\n",
    "    api_key=\"sk_..\", # lancedb cloud api key\n",
    "    region=\"your-region\" # the region you configured\n",
    "    ...\n",
    ")"
   ]
  },
  {
   "cell_type": "code",
   "execution_count": null,
   "id": "8731da62",
   "metadata": {},
   "outputs": [
    {
     "name": "stderr",
     "output_type": "stream",
     "text": [
      "[2024-05-25T08:23:34Z WARN  lance::dataset] No existing dataset at /Users/raghavdixit/Desktop/open_source/llama_index_lance/docs/docs/examples/vector_stores/lancedb/vectors.lance, it will be created\n"
     ]
    }
   ],
   "source": [
    "vector_store = LanceDBVectorStore(uri=\"./lancedb\", mode=\"overwrite\")\n",
    "storage_context = StorageContext.from_defaults(vector_store=vector_store)\n",
    "\n",
    "index = VectorStoreIndex.from_documents(\n",
    "    documents, storage_context=storage_context\n",
    ")"
   ]
  },
  {
   "attachments": {},
   "cell_type": "markdown",
   "id": "8ee4473a-094f-4d0a-a825-e1213db07240",
   "metadata": {},
   "source": [
    "### Query the index\n",
    "We can now ask questions using our index. We can use filtering via `MetadataFilters` or use native lance `where` clause."
   ]
  },
  {
   "cell_type": "code",
   "execution_count": null,
   "id": "5eb6419b",
   "metadata": {},
   "outputs": [],
   "source": [
    "from llama_index.core.vector_stores import (\n",
    "    MetadataFilters,\n",
    "    FilterOperator,\n",
    "    FilterCondition,\n",
    "    MetadataFilter,\n",
    ")\n",
    "\n",
    "query_filters = MetadataFilters(\n",
    "    filters=[\n",
    "        MetadataFilter(\n",
    "            key=\"creation_date\", operator=FilterOperator.EQ, value=\"2024-05-25\"\n",
    "        ),\n",
    "        MetadataFilter(\n",
    "            key=\"file_size\", value=75040, operator=FilterOperator.GT\n",
    "        ),\n",
    "    ],\n",
    "    condition=FilterCondition.AND,\n",
    ")"
   ]
  },
  {
   "cell_type": "markdown",
   "id": "ee201930",
   "metadata": {},
   "source": [
    "### Hybrid Search\n",
    "\n",
    "LanceDB offers hybrid search with reranking capabilities. For complete documentation, refer [here](https://lancedb.github.io/lancedb/hybrid_search/hybrid_search/).\n",
    "\n",
    "This example uses the `colbert` reranker. The following cell installs the necessary dependencies for `colbert`. If you choose a different reranker, make sure to adjust the dependencies accordingly."
   ]
  },
  {
   "cell_type": "code",
   "execution_count": null,
   "id": "e12d1454",
   "metadata": {},
   "outputs": [
    {
     "name": "stdout",
     "output_type": "stream",
     "text": [
      "Collecting tantivy@ git+https://github.com/quickwit-oss/tantivy-py#164adc87e1a033117001cf70e38c82a53014d985\n",
      "  Cloning https://github.com/quickwit-oss/tantivy-py to /private/var/folders/ts/x9s4jq3d03v5_s2wlg8bkg8r0000gn/T/pip-install-74mt6c0k/tantivy_016fa0cb5b0a444595109971e8847f03\n",
      "  Running command git clone --filter=blob:none --quiet https://github.com/quickwit-oss/tantivy-py /private/var/folders/ts/x9s4jq3d03v5_s2wlg8bkg8r0000gn/T/pip-install-74mt6c0k/tantivy_016fa0cb5b0a444595109971e8847f03\n",
      "  Resolved https://github.com/quickwit-oss/tantivy-py to commit b81b2ba1e98f59f484579f0aa4d5c0b4d82eff1b\n",
      "  Installing build dependencies ... \u001b[?25ldone\n",
      "\u001b[?25h  Getting requirements to build wheel ... \u001b[?25ldone\n",
      "\u001b[?25h  Preparing metadata (pyproject.toml) ... \u001b[?25ldone\n",
      "\u001b[?25hRequirement already satisfied: torch in /Users/raghavdixit/Desktop/open_source/llama_index_lance/.venv/lib/python3.10/site-packages (2.3.0)\n",
      "Requirement already satisfied: transformers in /Users/raghavdixit/Desktop/open_source/llama_index_lance/.venv/lib/python3.10/site-packages (4.41.1)\n",
      "Requirement already satisfied: filelock in /Users/raghavdixit/Desktop/open_source/llama_index_lance/.venv/lib/python3.10/site-packages (from torch) (3.14.0)\n",
      "Requirement already satisfied: typing-extensions>=4.8.0 in /Users/raghavdixit/Desktop/open_source/llama_index_lance/.venv/lib/python3.10/site-packages (from torch) (4.11.0)\n",
      "Requirement already satisfied: sympy in /Users/raghavdixit/Desktop/open_source/llama_index_lance/.venv/lib/python3.10/site-packages (from torch) (1.12)\n",
      "Requirement already satisfied: networkx in /Users/raghavdixit/Desktop/open_source/llama_index_lance/.venv/lib/python3.10/site-packages (from torch) (3.1)\n",
      "Requirement already satisfied: jinja2 in /Users/raghavdixit/Desktop/open_source/llama_index_lance/.venv/lib/python3.10/site-packages (from torch) (3.1.4)\n",
      "Requirement already satisfied: fsspec in /Users/raghavdixit/Desktop/open_source/llama_index_lance/.venv/lib/python3.10/site-packages (from torch) (2024.3.1)\n",
      "Requirement already satisfied: huggingface-hub<1.0,>=0.23.0 in /Users/raghavdixit/Desktop/open_source/llama_index_lance/.venv/lib/python3.10/site-packages (from transformers) (0.23.1)\n",
      "Requirement already satisfied: numpy>=1.17 in /Users/raghavdixit/Desktop/open_source/llama_index_lance/.venv/lib/python3.10/site-packages (from transformers) (1.24.4)\n",
      "Requirement already satisfied: packaging>=20.0 in /Users/raghavdixit/Desktop/open_source/llama_index_lance/.venv/lib/python3.10/site-packages (from transformers) (24.0)\n",
      "Requirement already satisfied: pyyaml>=5.1 in /Users/raghavdixit/Desktop/open_source/llama_index_lance/.venv/lib/python3.10/site-packages (from transformers) (6.0.1)\n",
      "Requirement already satisfied: regex!=2019.12.17 in /Users/raghavdixit/Desktop/open_source/llama_index_lance/.venv/lib/python3.10/site-packages (from transformers) (2024.4.28)\n",
      "Requirement already satisfied: requests in /Users/raghavdixit/Desktop/open_source/llama_index_lance/.venv/lib/python3.10/site-packages (from transformers) (2.31.0)\n",
      "Requirement already satisfied: tokenizers<0.20,>=0.19 in /Users/raghavdixit/Desktop/open_source/llama_index_lance/.venv/lib/python3.10/site-packages (from transformers) (0.19.1)\n",
      "Requirement already satisfied: safetensors>=0.4.1 in /Users/raghavdixit/Desktop/open_source/llama_index_lance/.venv/lib/python3.10/site-packages (from transformers) (0.4.3)\n",
      "Requirement already satisfied: tqdm>=4.27 in /Users/raghavdixit/Desktop/open_source/llama_index_lance/.venv/lib/python3.10/site-packages (from transformers) (4.66.4)\n",
      "Requirement already satisfied: MarkupSafe>=2.0 in /Users/raghavdixit/Desktop/open_source/llama_index_lance/.venv/lib/python3.10/site-packages (from jinja2->torch) (2.1.5)\n",
      "Requirement already satisfied: charset-normalizer<4,>=2 in /Users/raghavdixit/Desktop/open_source/llama_index_lance/.venv/lib/python3.10/site-packages (from requests->transformers) (3.3.2)\n",
      "Requirement already satisfied: idna<4,>=2.5 in /Users/raghavdixit/Desktop/open_source/llama_index_lance/.venv/lib/python3.10/site-packages (from requests->transformers) (3.7)\n",
      "Requirement already satisfied: urllib3<3,>=1.21.1 in /Users/raghavdixit/Desktop/open_source/llama_index_lance/.venv/lib/python3.10/site-packages (from requests->transformers) (2.2.1)\n",
      "Requirement already satisfied: certifi>=2017.4.17 in /Users/raghavdixit/Desktop/open_source/llama_index_lance/.venv/lib/python3.10/site-packages (from requests->transformers) (2024.2.2)\n",
      "Requirement already satisfied: mpmath>=0.19 in /Users/raghavdixit/Desktop/open_source/llama_index_lance/.venv/lib/python3.10/site-packages (from sympy->torch) (1.3.0)\n",
      "\n",
      "\u001b[1m[\u001b[0m\u001b[34;49mnotice\u001b[0m\u001b[1;39;49m]\u001b[0m\u001b[39;49m A new release of pip is available: \u001b[0m\u001b[31;49m23.3.1\u001b[0m\u001b[39;49m -> \u001b[0m\u001b[32;49m24.0\u001b[0m\n",
      "\u001b[1m[\u001b[0m\u001b[34;49mnotice\u001b[0m\u001b[1;39;49m]\u001b[0m\u001b[39;49m To update, run: \u001b[0m\u001b[32;49mpip install --upgrade pip\u001b[0m\n"
     ]
    }
   ],
   "source": [
    "! pip install -U torch transformers tantivy@git+https://github.com/quickwit-oss/tantivy-py#164adc87e1a033117001cf70e38c82a53014d985"
   ]
  },
  {
   "cell_type": "markdown",
   "id": "c742cb07",
   "metadata": {},
   "source": [
    "if you want to add a reranker at vector store initialization, you can pass it in the arguments like below :\n",
    "```\n",
    "from lancedb.rerankers import ColbertReranker\n",
    "reranker = ColbertReranker()\n",
    "vector_store = LanceDBVectorStore(uri=\"./lancedb\", reranker=reranker, mode=\"overwrite\")\n",
    "```"
   ]
  },
  {
   "cell_type": "code",
   "execution_count": null,
   "id": "27ea047b",
   "metadata": {},
   "outputs": [],
   "source": [
    "import lancedb"
   ]
  },
  {
   "cell_type": "code",
   "execution_count": null,
   "id": "8414517f",
   "metadata": {},
   "outputs": [
    {
     "name": "stderr",
     "output_type": "stream",
     "text": [
      "/Users/raghavdixit/Desktop/open_source/llama_index_lance/.venv/lib/python3.10/site-packages/lancedb/rerankers/colbert.py:42: FutureWarning: promote has been superseded by mode='default'.\n",
      "  combined_results = self.merge_results(vector_results, fts_results)\n"
     ]
    }
   ],
   "source": [
    "from lancedb.rerankers import ColbertReranker\n",
    "\n",
    "reranker = ColbertReranker()\n",
    "vector_store._add_reranker(reranker)\n",
    "\n",
    "query_engine = index.as_query_engine(\n",
    "    filters=query_filters,\n",
    "    vector_store_kwargs={\n",
    "        \"query_type\": \"hybrid\",\n",
    "    },\n",
    ")\n",
    "\n",
    "response = query_engine.query(\"How much did Viaweb charge per month?\")"
   ]
  },
  {
   "cell_type": "code",
   "execution_count": null,
   "id": "2a045fd3",
   "metadata": {},
   "outputs": [
    {
     "name": "stdout",
     "output_type": "stream",
     "text": [
      "Viaweb charged $100 a month for a small store and $300 a month for a big one.\n",
      "metadata - {'5501ddd1-c61f-4c53-ac37-59fa59898cbc': {'file_path': '/Users/raghavdixit/Desktop/open_source/llama_index_lance/docs/docs/examples/vector_stores/data/paul_graham/paul_graham_essay.txt', 'file_name': 'paul_graham_essay.txt', 'file_type': 'text/plain', 'file_size': 75042, 'creation_date': '2024-05-25', 'last_modified_date': '2024-05-25'}, '9c578ce2-6876-4806-b3f7-28cfe4d33c89': {'file_path': '/Users/raghavdixit/Desktop/open_source/llama_index_lance/docs/docs/examples/vector_stores/data/paul_graham/paul_graham_essay.txt', 'file_name': 'paul_graham_essay.txt', 'file_type': 'text/plain', 'file_size': 75042, 'creation_date': '2024-05-25', 'last_modified_date': '2024-05-25'}}\n"
     ]
    }
   ],
   "source": [
    "print(response)\n",
    "print(\"metadata -\", response.metadata)"
   ]
  },
  {
   "cell_type": "markdown",
   "id": "0c1c6c73",
   "metadata": {},
   "source": [
    "##### lance filters(SQL like) directly via the `where` clause :"
   ]
  },
  {
   "cell_type": "code",
   "execution_count": null,
   "id": "0a2bcc07",
   "metadata": {},
   "outputs": [],
   "source": [
    "lance_filter = \"metadata.file_name = 'paul_graham_essay.txt' \"\n",
    "retriever = index.as_retriever(vector_store_kwargs={\"where\": lance_filter})\n",
    "response = retriever.retrieve(\"What did the author do growing up?\")"
   ]
  },
  {
   "cell_type": "code",
   "execution_count": null,
   "id": "7ac47cf9",
   "metadata": {},
   "outputs": [
    {
     "name": "stdout",
     "output_type": "stream",
     "text": [
      "What I Worked On\n",
      "\n",
      "February 2021\n",
      "\n",
      "Before college the two main things I worked on, outside of school, were writing and programming. I didn't write essays. I wrote what beginning writers were supposed to write then, and probably still are: short stories. My stories were awful. They had hardly any plot, just characters with strong feelings, which I imagined made them deep.\n",
      "\n",
      "The first programs I tried writing were on the IBM 1401 that our school district used for what was then called \"data processing.\" This was in 9th grade, so I was 13 or 14. The school district's 1401 happened to be in the basement of our junior high school, and my friend Rich Draves and I got permission to use it. It was like a mini Bond villain's lair down there, with all these alien-looking machines — CPU, disk drives, printer, card reader — sitting up on a raised floor under bright fluorescent lights.\n",
      "\n",
      "The language we used was an early version of Fortran. You had to type programs on punch cards, then stack them in the card reader and press a button to load the program into memory and run it. The result would ordinarily be to print something on the spectacularly loud printer.\n",
      "\n",
      "I was puzzled by the 1401. I couldn't figure out what to do with it. And in retrospect there's not much I could have done with it. The only form of input to programs was data stored on punched cards, and I didn't have any data stored on punched cards. The only other option was to do things that didn't rely on any input, like calculate approximations of pi, but I didn't know enough math to do anything interesting of that type. So I'm not surprised I can't remember any programs I wrote, because they can't have done much. My clearest memory is of the moment I learned it was possible for programs not to terminate, when one of mine didn't. On a machine without time-sharing, this was a social as well as a technical error, as the data center manager's expression made clear.\n",
      "\n",
      "With microcomputers, everything changed. Now you could have a computer sitting right in front of you, on a desk, that could respond to your keystrokes as it was running instead of just churning through a stack of punch cards and then stopping. [1]\n",
      "\n",
      "The first of my friends to get a microcomputer built it himself. It was sold as a kit by Heathkit. I remember vividly how impressed and envious I felt watching him sitting in front of it, typing programs right into the computer.\n",
      "\n",
      "Computers were expensive in those days and it took me years of nagging before I convinced my father to buy one, a TRS-80, in about 1980. The gold standard then was the Apple II, but a TRS-80 was good enough. This was when I really started programming. I wrote simple games, a program to predict how high my model rockets would fly, and a word processor that my father used to write at least one book. There was only room in memory for about 2 pages of text, so he'd write 2 pages at a time and then print them out, but it was a lot better than a typewriter.\n",
      "\n",
      "Though I liked programming, I didn't plan to study it in college. In college I was going to study philosophy, which sounded much more powerful. It seemed, to my naive high school self, to be the study of the ultimate truths, compared to which the things studied in other fields would be mere domain knowledge. What I discovered when I got to college was that the other fields took up so much of the space of ideas that there wasn't much left for these supposed ultimate truths. All that seemed left for philosophy were edge cases that people in other fields felt could safely be ignored.\n",
      "\n",
      "I couldn't have put this into words when I was 18. All I knew at the time was that I kept taking philosophy courses and they kept being boring. So I decided to switch to AI.\n",
      "\n",
      "AI was in the air in the mid 1980s, but there were two things especially that made me want to work on it: a novel by Heinlein called The Moon is a Harsh Mistress, which featured an intelligent computer called Mike, and a PBS documentary that showed Terry Winograd using SHRDLU. I haven't tried rereading The Moon is a Harsh Mistress, so I don't know how well it has aged, but when I read it I was drawn entirely into its world.\n",
      "metadata - {'file_path': '/Users/raghavdixit/Desktop/open_source/llama_index_lance/docs/docs/examples/vector_stores/data/paul_graham/paul_graham_essay.txt', 'file_name': 'paul_graham_essay.txt', 'file_type': 'text/plain', 'file_size': 75042, 'creation_date': '2024-05-25', 'last_modified_date': '2024-05-25'}\n"
     ]
    }
   ],
   "source": [
    "print(response[0].get_content())\n",
    "print(\"metadata -\", response[0].metadata)"
   ]
  },
  {
   "attachments": {},
   "cell_type": "markdown",
   "id": "6afc84ac",
   "metadata": {},
   "source": [
    "### Appending data\n",
    "You can also add data to an existing index"
   ]
  },
  {
   "cell_type": "code",
   "execution_count": null,
   "id": "069fc099",
   "metadata": {},
   "outputs": [],
   "source": [
    "del index\n",
    "\n",
    "index = VectorStoreIndex.from_documents(\n",
    "    [Document(text=\"The sky is purple in Portland, Maine\")],\n",
    "    uri=\"/tmp/new_dataset\",\n",
    ")"
   ]
  },
  {
   "cell_type": "code",
   "execution_count": null,
   "id": "b5cffcfe",
   "metadata": {},
   "outputs": [
    {
     "name": "stdout",
     "output_type": "stream",
     "text": [
      "Portland, Maine\n"
     ]
    }
   ],
   "source": [
    "query_engine = index.as_query_engine()\n",
    "response = query_engine.query(\"Where is the sky purple?\")\n",
    "print(textwrap.fill(str(response), 100))"
   ]
  },
  {
   "cell_type": "markdown",
   "id": "ec548a02",
   "metadata": {},
   "source": [
    "You can also create an index from an existing table"
   ]
  },
  {
   "cell_type": "code",
   "execution_count": null,
   "id": "dc99404d",
   "metadata": {},
   "outputs": [],
   "source": [
    "del index\n",
    "\n",
    "vec_store = LanceDBVectorStore.from_table(vector_store._table)\n",
    "index = VectorStoreIndex.from_vector_store(vec_store)"
   ]
  },
  {
   "cell_type": "code",
   "execution_count": null,
   "id": "7b2e8cca",
   "metadata": {},
   "outputs": [
    {
     "name": "stdout",
     "output_type": "stream",
     "text": [
      "The author started Viaweb and Aspra.\n"
     ]
    }
   ],
   "source": [
    "query_engine = index.as_query_engine()\n",
    "response = query_engine.query(\"What companies did the author start?\")\n",
    "print(textwrap.fill(str(response), 100))"
   ]
  }
 ],
 "metadata": {
  "kernelspec": {
   "display_name": "Python 3 (ipykernel)",
   "language": "python",
   "name": "python3"
  },
  "language_info": {
   "codemirror_mode": {
    "name": "ipython",
    "version": 3
   },
   "file_extension": ".py",
   "mimetype": "text/x-python",
   "name": "python",
   "nbconvert_exporter": "python",
   "pygments_lexer": "ipython3"
  }
 },
 "nbformat": 4,
 "nbformat_minor": 5
}
