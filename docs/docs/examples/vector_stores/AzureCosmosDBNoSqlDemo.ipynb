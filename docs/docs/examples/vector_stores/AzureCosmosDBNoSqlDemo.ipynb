{
 "cells": [
  {
   "cell_type": "markdown",
   "id": "6463dfe0-31f0-494e-995e-9d3b96db0eeb",
   "metadata": {},
   "source": [
    "# Azure Cosmos DB No SQL Vector Store\n",
    "\n",
    "In this notebook we are going to show a quick demo of how to use AzureCosmosDBNoSqlVectorSearch to perform vector searches in LlamaIndex.\n",
    "\n",
    "If you're opening this Notebook on colab, you will probably need to install LlamaIndex 🦙."
   ]
  },
  {
   "cell_type": "code",
   "execution_count": 8,
   "id": "d865e38e-7cfb-44fc-a811-ccbbb6bd5c8e",
   "metadata": {},
   "outputs": [
    {
     "name": "stdout",
     "output_type": "stream",
     "text": [
      "Requirement already satisfied: llama-index-embeddings-openai in c:\\users\\t-garagundi\\appdata\\local\\programs\\python\\python312\\lib\\site-packages (0.1.10)\n",
      "Requirement already satisfied: llama-index-core<0.11.0,>=0.10.1 in c:\\users\\t-garagundi\\appdata\\local\\programs\\python\\python312\\lib\\site-packages (from llama-index-embeddings-openai) (0.10.43)\n",
      "Requirement already satisfied: PyYAML>=6.0.1 in c:\\users\\t-garagundi\\appdata\\local\\programs\\python\\python312\\lib\\site-packages (from llama-index-core<0.11.0,>=0.10.1->llama-index-embeddings-openai) (6.0.1)\n",
      "Requirement already satisfied: SQLAlchemy>=1.4.49 in c:\\users\\t-garagundi\\appdata\\local\\programs\\python\\python312\\lib\\site-packages (from SQLAlchemy[asyncio]>=1.4.49->llama-index-core<0.11.0,>=0.10.1->llama-index-embeddings-openai) (2.0.30)\n",
      "Requirement already satisfied: aiohttp<4.0.0,>=3.8.6 in c:\\users\\t-garagundi\\appdata\\local\\programs\\python\\python312\\lib\\site-packages (from llama-index-core<0.11.0,>=0.10.1->llama-index-embeddings-openai) (3.9.5)\n",
      "Requirement already satisfied: dataclasses-json in c:\\users\\t-garagundi\\appdata\\local\\programs\\python\\python312\\lib\\site-packages (from llama-index-core<0.11.0,>=0.10.1->llama-index-embeddings-openai) (0.6.6)\n",
      "Requirement already satisfied: deprecated>=1.2.9.3 in c:\\users\\t-garagundi\\appdata\\local\\programs\\python\\python312\\lib\\site-packages (from llama-index-core<0.11.0,>=0.10.1->llama-index-embeddings-openai) (1.2.14)\n",
      "Requirement already satisfied: dirtyjson<2.0.0,>=1.0.8 in c:\\users\\t-garagundi\\appdata\\local\\programs\\python\\python312\\lib\\site-packages (from llama-index-core<0.11.0,>=0.10.1->llama-index-embeddings-openai) (1.0.8)\n",
      "Requirement already satisfied: fsspec>=2023.5.0 in c:\\users\\t-garagundi\\appdata\\local\\programs\\python\\python312\\lib\\site-packages (from llama-index-core<0.11.0,>=0.10.1->llama-index-embeddings-openai) (2024.6.0)\n",
      "Requirement already satisfied: httpx in c:\\users\\t-garagundi\\appdata\\local\\programs\\python\\python312\\lib\\site-packages (from llama-index-core<0.11.0,>=0.10.1->llama-index-embeddings-openai) (0.27.0)\n",
      "Requirement already satisfied: llamaindex-py-client<0.2.0,>=0.1.18 in c:\\users\\t-garagundi\\appdata\\local\\programs\\python\\python312\\lib\\site-packages (from llama-index-core<0.11.0,>=0.10.1->llama-index-embeddings-openai) (0.1.19)\n",
      "Requirement already satisfied: nest-asyncio<2.0.0,>=1.5.8 in c:\\users\\t-garagundi\\appdata\\local\\programs\\python\\python312\\lib\\site-packages (from llama-index-core<0.11.0,>=0.10.1->llama-index-embeddings-openai) (1.6.0)\n",
      "Requirement already satisfied: networkx>=3.0 in c:\\users\\t-garagundi\\appdata\\local\\programs\\python\\python312\\lib\\site-packages (from llama-index-core<0.11.0,>=0.10.1->llama-index-embeddings-openai) (3.3)\n",
      "Requirement already satisfied: nltk<4.0.0,>=3.8.1 in c:\\users\\t-garagundi\\appdata\\local\\programs\\python\\python312\\lib\\site-packages (from llama-index-core<0.11.0,>=0.10.1->llama-index-embeddings-openai) (3.8.1)\n",
      "Requirement already satisfied: numpy in c:\\users\\t-garagundi\\appdata\\local\\programs\\python\\python312\\lib\\site-packages (from llama-index-core<0.11.0,>=0.10.1->llama-index-embeddings-openai) (1.26.4)\n",
      "Requirement already satisfied: openai>=1.1.0 in c:\\users\\t-garagundi\\appdata\\local\\programs\\python\\python312\\lib\\site-packages (from llama-index-core<0.11.0,>=0.10.1->llama-index-embeddings-openai) (1.31.0)\n",
      "Requirement already satisfied: pandas in c:\\users\\t-garagundi\\appdata\\local\\programs\\python\\python312\\lib\\site-packages (from llama-index-core<0.11.0,>=0.10.1->llama-index-embeddings-openai) (2.2.2)\n",
      "Requirement already satisfied: pillow>=9.0.0 in c:\\users\\t-garagundi\\appdata\\local\\programs\\python\\python312\\lib\\site-packages (from llama-index-core<0.11.0,>=0.10.1->llama-index-embeddings-openai) (10.3.0)\n",
      "Requirement already satisfied: requests>=2.31.0 in c:\\users\\t-garagundi\\appdata\\local\\programs\\python\\python312\\lib\\site-packages (from llama-index-core<0.11.0,>=0.10.1->llama-index-embeddings-openai) (2.32.2)\n",
      "Requirement already satisfied: tenacity<9.0.0,>=8.2.0 in c:\\users\\t-garagundi\\appdata\\local\\programs\\python\\python312\\lib\\site-packages (from llama-index-core<0.11.0,>=0.10.1->llama-index-embeddings-openai) (8.3.0)\n",
      "Requirement already satisfied: tiktoken>=0.3.3 in c:\\users\\t-garagundi\\appdata\\local\\programs\\python\\python312\\lib\\site-packages (from llama-index-core<0.11.0,>=0.10.1->llama-index-embeddings-openai) (0.7.0)\n",
      "Requirement already satisfied: tqdm<5.0.0,>=4.66.1 in c:\\users\\t-garagundi\\appdata\\local\\programs\\python\\python312\\lib\\site-packages (from llama-index-core<0.11.0,>=0.10.1->llama-index-embeddings-openai) (4.66.4)\n",
      "Requirement already satisfied: typing-extensions>=4.5.0 in c:\\users\\t-garagundi\\appdata\\local\\programs\\python\\python312\\lib\\site-packages (from llama-index-core<0.11.0,>=0.10.1->llama-index-embeddings-openai) (4.12.0)\n",
      "Requirement already satisfied: typing-inspect>=0.8.0 in c:\\users\\t-garagundi\\appdata\\local\\programs\\python\\python312\\lib\\site-packages (from llama-index-core<0.11.0,>=0.10.1->llama-index-embeddings-openai) (0.9.0)\n",
      "Requirement already satisfied: wrapt in c:\\users\\t-garagundi\\appdata\\local\\programs\\python\\python312\\lib\\site-packages (from llama-index-core<0.11.0,>=0.10.1->llama-index-embeddings-openai) (1.16.0)\n",
      "Requirement already satisfied: aiosignal>=1.1.2 in c:\\users\\t-garagundi\\appdata\\local\\programs\\python\\python312\\lib\\site-packages (from aiohttp<4.0.0,>=3.8.6->llama-index-core<0.11.0,>=0.10.1->llama-index-embeddings-openai) (1.3.1)\n",
      "Requirement already satisfied: attrs>=17.3.0 in c:\\users\\t-garagundi\\appdata\\local\\programs\\python\\python312\\lib\\site-packages (from aiohttp<4.0.0,>=3.8.6->llama-index-core<0.11.0,>=0.10.1->llama-index-embeddings-openai) (23.2.0)\n",
      "Requirement already satisfied: frozenlist>=1.1.1 in c:\\users\\t-garagundi\\appdata\\local\\programs\\python\\python312\\lib\\site-packages (from aiohttp<4.0.0,>=3.8.6->llama-index-core<0.11.0,>=0.10.1->llama-index-embeddings-openai) (1.4.1)\n",
      "Requirement already satisfied: multidict<7.0,>=4.5 in c:\\users\\t-garagundi\\appdata\\local\\programs\\python\\python312\\lib\\site-packages (from aiohttp<4.0.0,>=3.8.6->llama-index-core<0.11.0,>=0.10.1->llama-index-embeddings-openai) (6.0.5)\n",
      "Requirement already satisfied: yarl<2.0,>=1.0 in c:\\users\\t-garagundi\\appdata\\local\\programs\\python\\python312\\lib\\site-packages (from aiohttp<4.0.0,>=3.8.6->llama-index-core<0.11.0,>=0.10.1->llama-index-embeddings-openai) (1.9.4)\n",
      "Requirement already satisfied: pydantic>=1.10 in c:\\users\\t-garagundi\\appdata\\local\\programs\\python\\python312\\lib\\site-packages (from llamaindex-py-client<0.2.0,>=0.1.18->llama-index-core<0.11.0,>=0.10.1->llama-index-embeddings-openai) (2.7.3)\n",
      "Requirement already satisfied: anyio in c:\\users\\t-garagundi\\appdata\\local\\programs\\python\\python312\\lib\\site-packages (from httpx->llama-index-core<0.11.0,>=0.10.1->llama-index-embeddings-openai) (4.4.0)\n",
      "Requirement already satisfied: certifi in c:\\users\\t-garagundi\\appdata\\local\\programs\\python\\python312\\lib\\site-packages (from httpx->llama-index-core<0.11.0,>=0.10.1->llama-index-embeddings-openai) (2024.2.2)\n",
      "Requirement already satisfied: httpcore==1.* in c:\\users\\t-garagundi\\appdata\\local\\programs\\python\\python312\\lib\\site-packages (from httpx->llama-index-core<0.11.0,>=0.10.1->llama-index-embeddings-openai) (1.0.5)\n",
      "Requirement already satisfied: idna in c:\\users\\t-garagundi\\appdata\\local\\programs\\python\\python312\\lib\\site-packages (from httpx->llama-index-core<0.11.0,>=0.10.1->llama-index-embeddings-openai) (3.7)\n",
      "Requirement already satisfied: sniffio in c:\\users\\t-garagundi\\appdata\\local\\programs\\python\\python312\\lib\\site-packages (from httpx->llama-index-core<0.11.0,>=0.10.1->llama-index-embeddings-openai) (1.3.1)\n",
      "Requirement already satisfied: h11<0.15,>=0.13 in c:\\users\\t-garagundi\\appdata\\local\\programs\\python\\python312\\lib\\site-packages (from httpcore==1.*->httpx->llama-index-core<0.11.0,>=0.10.1->llama-index-embeddings-openai) (0.14.0)\n",
      "Requirement already satisfied: click in c:\\users\\t-garagundi\\appdata\\local\\programs\\python\\python312\\lib\\site-packages (from nltk<4.0.0,>=3.8.1->llama-index-core<0.11.0,>=0.10.1->llama-index-embeddings-openai) (8.1.7)\n",
      "Requirement already satisfied: joblib in c:\\users\\t-garagundi\\appdata\\local\\programs\\python\\python312\\lib\\site-packages (from nltk<4.0.0,>=3.8.1->llama-index-core<0.11.0,>=0.10.1->llama-index-embeddings-openai) (1.4.2)\n",
      "Requirement already satisfied: regex>=2021.8.3 in c:\\users\\t-garagundi\\appdata\\local\\programs\\python\\python312\\lib\\site-packages (from nltk<4.0.0,>=3.8.1->llama-index-core<0.11.0,>=0.10.1->llama-index-embeddings-openai) (2024.5.15)\n",
      "Requirement already satisfied: distro<2,>=1.7.0 in c:\\users\\t-garagundi\\appdata\\local\\programs\\python\\python312\\lib\\site-packages (from openai>=1.1.0->llama-index-core<0.11.0,>=0.10.1->llama-index-embeddings-openai) (1.9.0)\n",
      "Requirement already satisfied: charset-normalizer<4,>=2 in c:\\users\\t-garagundi\\appdata\\local\\programs\\python\\python312\\lib\\site-packages (from requests>=2.31.0->llama-index-core<0.11.0,>=0.10.1->llama-index-embeddings-openai) (3.3.2)\n",
      "Requirement already satisfied: urllib3<3,>=1.21.1 in c:\\users\\t-garagundi\\appdata\\local\\programs\\python\\python312\\lib\\site-packages (from requests>=2.31.0->llama-index-core<0.11.0,>=0.10.1->llama-index-embeddings-openai) (2.2.1)\n",
      "Requirement already satisfied: greenlet!=0.4.17 in c:\\users\\t-garagundi\\appdata\\local\\programs\\python\\python312\\lib\\site-packages (from SQLAlchemy>=1.4.49->SQLAlchemy[asyncio]>=1.4.49->llama-index-core<0.11.0,>=0.10.1->llama-index-embeddings-openai) (3.0.3)\n",
      "Requirement already satisfied: colorama in c:\\users\\t-garagundi\\appdata\\local\\programs\\python\\python312\\lib\\site-packages (from tqdm<5.0.0,>=4.66.1->llama-index-core<0.11.0,>=0.10.1->llama-index-embeddings-openai) (0.4.6)\n",
      "Requirement already satisfied: mypy-extensions>=0.3.0 in c:\\users\\t-garagundi\\appdata\\local\\programs\\python\\python312\\lib\\site-packages (from typing-inspect>=0.8.0->llama-index-core<0.11.0,>=0.10.1->llama-index-embeddings-openai) (1.0.0)\n",
      "Requirement already satisfied: marshmallow<4.0.0,>=3.18.0 in c:\\users\\t-garagundi\\appdata\\local\\programs\\python\\python312\\lib\\site-packages (from dataclasses-json->llama-index-core<0.11.0,>=0.10.1->llama-index-embeddings-openai) (3.21.3)\n",
      "Requirement already satisfied: python-dateutil>=2.8.2 in c:\\users\\t-garagundi\\appdata\\local\\programs\\python\\python312\\lib\\site-packages (from pandas->llama-index-core<0.11.0,>=0.10.1->llama-index-embeddings-openai) (2.9.0.post0)\n",
      "Requirement already satisfied: pytz>=2020.1 in c:\\users\\t-garagundi\\appdata\\local\\programs\\python\\python312\\lib\\site-packages (from pandas->llama-index-core<0.11.0,>=0.10.1->llama-index-embeddings-openai) (2024.1)\n",
      "Requirement already satisfied: tzdata>=2022.7 in c:\\users\\t-garagundi\\appdata\\local\\programs\\python\\python312\\lib\\site-packages (from pandas->llama-index-core<0.11.0,>=0.10.1->llama-index-embeddings-openai) (2024.1)\n",
      "Requirement already satisfied: packaging>=17.0 in c:\\users\\t-garagundi\\appdata\\local\\programs\\python\\python312\\lib\\site-packages (from marshmallow<4.0.0,>=3.18.0->dataclasses-json->llama-index-core<0.11.0,>=0.10.1->llama-index-embeddings-openai) (24.0)\n",
      "Requirement already satisfied: annotated-types>=0.4.0 in c:\\users\\t-garagundi\\appdata\\local\\programs\\python\\python312\\lib\\site-packages (from pydantic>=1.10->llamaindex-py-client<0.2.0,>=0.1.18->llama-index-core<0.11.0,>=0.10.1->llama-index-embeddings-openai) (0.7.0)\n",
      "Requirement already satisfied: pydantic-core==2.18.4 in c:\\users\\t-garagundi\\appdata\\local\\programs\\python\\python312\\lib\\site-packages (from pydantic>=1.10->llamaindex-py-client<0.2.0,>=0.1.18->llama-index-core<0.11.0,>=0.10.1->llama-index-embeddings-openai) (2.18.4)\n",
      "Requirement already satisfied: six>=1.5 in c:\\users\\t-garagundi\\appdata\\local\\programs\\python\\python312\\lib\\site-packages (from python-dateutil>=2.8.2->pandas->llama-index-core<0.11.0,>=0.10.1->llama-index-embeddings-openai) (1.16.0)\n",
      "Note: you may need to restart the kernel to use updated packages.\n",
      "Requirement already satisfied: llama-index-llms-azure-openai in c:\\users\\t-garagundi\\appdata\\local\\programs\\python\\python312\\lib\\site-packages (0.1.8)\n",
      "Requirement already satisfied: azure-identity<2.0.0,>=1.15.0 in c:\\users\\t-garagundi\\appdata\\local\\programs\\python\\python312\\lib\\site-packages (from llama-index-llms-azure-openai) (1.17.0)\n",
      "Requirement already satisfied: httpx in c:\\users\\t-garagundi\\appdata\\local\\programs\\python\\python312\\lib\\site-packages (from llama-index-llms-azure-openai) (0.27.0)\n",
      "Requirement already satisfied: llama-index-core<0.11.0,>=0.10.11.post1 in c:\\users\\t-garagundi\\appdata\\local\\programs\\python\\python312\\lib\\site-packages (from llama-index-llms-azure-openai) (0.10.43)\n",
      "Requirement already satisfied: llama-index-llms-openai<0.2.0,>=0.1.1 in c:\\users\\t-garagundi\\appdata\\local\\programs\\python\\python312\\lib\\site-packages (from llama-index-llms-azure-openai) (0.1.22)\n",
      "Requirement already satisfied: azure-core>=1.23.0 in c:\\users\\t-garagundi\\appdata\\local\\programs\\python\\python312\\lib\\site-packages (from azure-identity<2.0.0,>=1.15.0->llama-index-llms-azure-openai) (1.30.1)\n",
      "Requirement already satisfied: cryptography>=2.5 in c:\\users\\t-garagundi\\appdata\\local\\programs\\python\\python312\\lib\\site-packages (from azure-identity<2.0.0,>=1.15.0->llama-index-llms-azure-openai) (42.0.8)\n",
      "Requirement already satisfied: msal>=1.24.0 in c:\\users\\t-garagundi\\appdata\\local\\programs\\python\\python312\\lib\\site-packages (from azure-identity<2.0.0,>=1.15.0->llama-index-llms-azure-openai) (1.28.1)\n",
      "Requirement already satisfied: msal-extensions>=0.3.0 in c:\\users\\t-garagundi\\appdata\\local\\programs\\python\\python312\\lib\\site-packages (from azure-identity<2.0.0,>=1.15.0->llama-index-llms-azure-openai) (1.1.0)\n",
      "Requirement already satisfied: typing-extensions>=4.0.0 in c:\\users\\t-garagundi\\appdata\\local\\programs\\python\\python312\\lib\\site-packages (from azure-identity<2.0.0,>=1.15.0->llama-index-llms-azure-openai) (4.12.0)\n",
      "Requirement already satisfied: PyYAML>=6.0.1 in c:\\users\\t-garagundi\\appdata\\local\\programs\\python\\python312\\lib\\site-packages (from llama-index-core<0.11.0,>=0.10.11.post1->llama-index-llms-azure-openai) (6.0.1)\n",
      "Requirement already satisfied: SQLAlchemy>=1.4.49 in c:\\users\\t-garagundi\\appdata\\local\\programs\\python\\python312\\lib\\site-packages (from SQLAlchemy[asyncio]>=1.4.49->llama-index-core<0.11.0,>=0.10.11.post1->llama-index-llms-azure-openai) (2.0.30)\n",
      "Requirement already satisfied: aiohttp<4.0.0,>=3.8.6 in c:\\users\\t-garagundi\\appdata\\local\\programs\\python\\python312\\lib\\site-packages (from llama-index-core<0.11.0,>=0.10.11.post1->llama-index-llms-azure-openai) (3.9.5)\n",
      "Requirement already satisfied: dataclasses-json in c:\\users\\t-garagundi\\appdata\\local\\programs\\python\\python312\\lib\\site-packages (from llama-index-core<0.11.0,>=0.10.11.post1->llama-index-llms-azure-openai) (0.6.6)\n",
      "Requirement already satisfied: deprecated>=1.2.9.3 in c:\\users\\t-garagundi\\appdata\\local\\programs\\python\\python312\\lib\\site-packages (from llama-index-core<0.11.0,>=0.10.11.post1->llama-index-llms-azure-openai) (1.2.14)\n",
      "Requirement already satisfied: dirtyjson<2.0.0,>=1.0.8 in c:\\users\\t-garagundi\\appdata\\local\\programs\\python\\python312\\lib\\site-packages (from llama-index-core<0.11.0,>=0.10.11.post1->llama-index-llms-azure-openai) (1.0.8)\n",
      "Requirement already satisfied: fsspec>=2023.5.0 in c:\\users\\t-garagundi\\appdata\\local\\programs\\python\\python312\\lib\\site-packages (from llama-index-core<0.11.0,>=0.10.11.post1->llama-index-llms-azure-openai) (2024.6.0)\n",
      "Requirement already satisfied: llamaindex-py-client<0.2.0,>=0.1.18 in c:\\users\\t-garagundi\\appdata\\local\\programs\\python\\python312\\lib\\site-packages (from llama-index-core<0.11.0,>=0.10.11.post1->llama-index-llms-azure-openai) (0.1.19)\n",
      "Requirement already satisfied: nest-asyncio<2.0.0,>=1.5.8 in c:\\users\\t-garagundi\\appdata\\local\\programs\\python\\python312\\lib\\site-packages (from llama-index-core<0.11.0,>=0.10.11.post1->llama-index-llms-azure-openai) (1.6.0)\n",
      "Requirement already satisfied: networkx>=3.0 in c:\\users\\t-garagundi\\appdata\\local\\programs\\python\\python312\\lib\\site-packages (from llama-index-core<0.11.0,>=0.10.11.post1->llama-index-llms-azure-openai) (3.3)\n",
      "Requirement already satisfied: nltk<4.0.0,>=3.8.1 in c:\\users\\t-garagundi\\appdata\\local\\programs\\python\\python312\\lib\\site-packages (from llama-index-core<0.11.0,>=0.10.11.post1->llama-index-llms-azure-openai) (3.8.1)\n",
      "Requirement already satisfied: numpy in c:\\users\\t-garagundi\\appdata\\local\\programs\\python\\python312\\lib\\site-packages (from llama-index-core<0.11.0,>=0.10.11.post1->llama-index-llms-azure-openai) (1.26.4)\n",
      "Requirement already satisfied: openai>=1.1.0 in c:\\users\\t-garagundi\\appdata\\local\\programs\\python\\python312\\lib\\site-packages (from llama-index-core<0.11.0,>=0.10.11.post1->llama-index-llms-azure-openai) (1.31.0)\n",
      "Requirement already satisfied: pandas in c:\\users\\t-garagundi\\appdata\\local\\programs\\python\\python312\\lib\\site-packages (from llama-index-core<0.11.0,>=0.10.11.post1->llama-index-llms-azure-openai) (2.2.2)\n",
      "Requirement already satisfied: pillow>=9.0.0 in c:\\users\\t-garagundi\\appdata\\local\\programs\\python\\python312\\lib\\site-packages (from llama-index-core<0.11.0,>=0.10.11.post1->llama-index-llms-azure-openai) (10.3.0)\n",
      "Requirement already satisfied: requests>=2.31.0 in c:\\users\\t-garagundi\\appdata\\local\\programs\\python\\python312\\lib\\site-packages (from llama-index-core<0.11.0,>=0.10.11.post1->llama-index-llms-azure-openai) (2.32.2)\n",
      "Requirement already satisfied: tenacity<9.0.0,>=8.2.0 in c:\\users\\t-garagundi\\appdata\\local\\programs\\python\\python312\\lib\\site-packages (from llama-index-core<0.11.0,>=0.10.11.post1->llama-index-llms-azure-openai) (8.3.0)\n",
      "Requirement already satisfied: tiktoken>=0.3.3 in c:\\users\\t-garagundi\\appdata\\local\\programs\\python\\python312\\lib\\site-packages (from llama-index-core<0.11.0,>=0.10.11.post1->llama-index-llms-azure-openai) (0.7.0)\n",
      "Requirement already satisfied: tqdm<5.0.0,>=4.66.1 in c:\\users\\t-garagundi\\appdata\\local\\programs\\python\\python312\\lib\\site-packages (from llama-index-core<0.11.0,>=0.10.11.post1->llama-index-llms-azure-openai) (4.66.4)\n",
      "Requirement already satisfied: typing-inspect>=0.8.0 in c:\\users\\t-garagundi\\appdata\\local\\programs\\python\\python312\\lib\\site-packages (from llama-index-core<0.11.0,>=0.10.11.post1->llama-index-llms-azure-openai) (0.9.0)\n",
      "Requirement already satisfied: wrapt in c:\\users\\t-garagundi\\appdata\\local\\programs\\python\\python312\\lib\\site-packages (from llama-index-core<0.11.0,>=0.10.11.post1->llama-index-llms-azure-openai) (1.16.0)\n",
      "Requirement already satisfied: anyio in c:\\users\\t-garagundi\\appdata\\local\\programs\\python\\python312\\lib\\site-packages (from httpx->llama-index-llms-azure-openai) (4.4.0)\n",
      "Requirement already satisfied: certifi in c:\\users\\t-garagundi\\appdata\\local\\programs\\python\\python312\\lib\\site-packages (from httpx->llama-index-llms-azure-openai) (2024.2.2)\n",
      "Requirement already satisfied: httpcore==1.* in c:\\users\\t-garagundi\\appdata\\local\\programs\\python\\python312\\lib\\site-packages (from httpx->llama-index-llms-azure-openai) (1.0.5)\n",
      "Requirement already satisfied: idna in c:\\users\\t-garagundi\\appdata\\local\\programs\\python\\python312\\lib\\site-packages (from httpx->llama-index-llms-azure-openai) (3.7)\n",
      "Requirement already satisfied: sniffio in c:\\users\\t-garagundi\\appdata\\local\\programs\\python\\python312\\lib\\site-packages (from httpx->llama-index-llms-azure-openai) (1.3.1)\n",
      "Requirement already satisfied: h11<0.15,>=0.13 in c:\\users\\t-garagundi\\appdata\\local\\programs\\python\\python312\\lib\\site-packages (from httpcore==1.*->httpx->llama-index-llms-azure-openai) (0.14.0)\n",
      "Requirement already satisfied: aiosignal>=1.1.2 in c:\\users\\t-garagundi\\appdata\\local\\programs\\python\\python312\\lib\\site-packages (from aiohttp<4.0.0,>=3.8.6->llama-index-core<0.11.0,>=0.10.11.post1->llama-index-llms-azure-openai) (1.3.1)\n",
      "Requirement already satisfied: attrs>=17.3.0 in c:\\users\\t-garagundi\\appdata\\local\\programs\\python\\python312\\lib\\site-packages (from aiohttp<4.0.0,>=3.8.6->llama-index-core<0.11.0,>=0.10.11.post1->llama-index-llms-azure-openai) (23.2.0)\n",
      "Requirement already satisfied: frozenlist>=1.1.1 in c:\\users\\t-garagundi\\appdata\\local\\programs\\python\\python312\\lib\\site-packages (from aiohttp<4.0.0,>=3.8.6->llama-index-core<0.11.0,>=0.10.11.post1->llama-index-llms-azure-openai) (1.4.1)\n",
      "Requirement already satisfied: multidict<7.0,>=4.5 in c:\\users\\t-garagundi\\appdata\\local\\programs\\python\\python312\\lib\\site-packages (from aiohttp<4.0.0,>=3.8.6->llama-index-core<0.11.0,>=0.10.11.post1->llama-index-llms-azure-openai) (6.0.5)\n",
      "Requirement already satisfied: yarl<2.0,>=1.0 in c:\\users\\t-garagundi\\appdata\\local\\programs\\python\\python312\\lib\\site-packages (from aiohttp<4.0.0,>=3.8.6->llama-index-core<0.11.0,>=0.10.11.post1->llama-index-llms-azure-openai) (1.9.4)\n",
      "Requirement already satisfied: six>=1.11.0 in c:\\users\\t-garagundi\\appdata\\local\\programs\\python\\python312\\lib\\site-packages (from azure-core>=1.23.0->azure-identity<2.0.0,>=1.15.0->llama-index-llms-azure-openai) (1.16.0)\n",
      "Requirement already satisfied: cffi>=1.12 in c:\\users\\t-garagundi\\appdata\\local\\programs\\python\\python312\\lib\\site-packages (from cryptography>=2.5->azure-identity<2.0.0,>=1.15.0->llama-index-llms-azure-openai) (1.16.0)\n",
      "Requirement already satisfied: pydantic>=1.10 in c:\\users\\t-garagundi\\appdata\\local\\programs\\python\\python312\\lib\\site-packages (from llamaindex-py-client<0.2.0,>=0.1.18->llama-index-core<0.11.0,>=0.10.11.post1->llama-index-llms-azure-openai) (2.7.3)\n",
      "Requirement already satisfied: PyJWT<3,>=1.0.0 in c:\\users\\t-garagundi\\appdata\\local\\programs\\python\\python312\\lib\\site-packages (from PyJWT[crypto]<3,>=1.0.0->msal>=1.24.0->azure-identity<2.0.0,>=1.15.0->llama-index-llms-azure-openai) (2.8.0)\n",
      "Requirement already satisfied: packaging in c:\\users\\t-garagundi\\appdata\\local\\programs\\python\\python312\\lib\\site-packages (from msal-extensions>=0.3.0->azure-identity<2.0.0,>=1.15.0->llama-index-llms-azure-openai) (24.0)\n",
      "Requirement already satisfied: portalocker<3,>=1.6 in c:\\users\\t-garagundi\\appdata\\local\\programs\\python\\python312\\lib\\site-packages (from msal-extensions>=0.3.0->azure-identity<2.0.0,>=1.15.0->llama-index-llms-azure-openai) (2.8.2)\n",
      "Requirement already satisfied: click in c:\\users\\t-garagundi\\appdata\\local\\programs\\python\\python312\\lib\\site-packages (from nltk<4.0.0,>=3.8.1->llama-index-core<0.11.0,>=0.10.11.post1->llama-index-llms-azure-openai) (8.1.7)\n",
      "Requirement already satisfied: joblib in c:\\users\\t-garagundi\\appdata\\local\\programs\\python\\python312\\lib\\site-packages (from nltk<4.0.0,>=3.8.1->llama-index-core<0.11.0,>=0.10.11.post1->llama-index-llms-azure-openai) (1.4.2)\n",
      "Requirement already satisfied: regex>=2021.8.3 in c:\\users\\t-garagundi\\appdata\\local\\programs\\python\\python312\\lib\\site-packages (from nltk<4.0.0,>=3.8.1->llama-index-core<0.11.0,>=0.10.11.post1->llama-index-llms-azure-openai) (2024.5.15)\n",
      "Requirement already satisfied: distro<2,>=1.7.0 in c:\\users\\t-garagundi\\appdata\\local\\programs\\python\\python312\\lib\\site-packages (from openai>=1.1.0->llama-index-core<0.11.0,>=0.10.11.post1->llama-index-llms-azure-openai) (1.9.0)\n",
      "Requirement already satisfied: charset-normalizer<4,>=2 in c:\\users\\t-garagundi\\appdata\\local\\programs\\python\\python312\\lib\\site-packages (from requests>=2.31.0->llama-index-core<0.11.0,>=0.10.11.post1->llama-index-llms-azure-openai) (3.3.2)\n",
      "Requirement already satisfied: urllib3<3,>=1.21.1 in c:\\users\\t-garagundi\\appdata\\local\\programs\\python\\python312\\lib\\site-packages (from requests>=2.31.0->llama-index-core<0.11.0,>=0.10.11.post1->llama-index-llms-azure-openai) (2.2.1)\n",
      "Requirement already satisfied: greenlet!=0.4.17 in c:\\users\\t-garagundi\\appdata\\local\\programs\\python\\python312\\lib\\site-packages (from SQLAlchemy>=1.4.49->SQLAlchemy[asyncio]>=1.4.49->llama-index-core<0.11.0,>=0.10.11.post1->llama-index-llms-azure-openai) (3.0.3)\n",
      "Requirement already satisfied: colorama in c:\\users\\t-garagundi\\appdata\\local\\programs\\python\\python312\\lib\\site-packages (from tqdm<5.0.0,>=4.66.1->llama-index-core<0.11.0,>=0.10.11.post1->llama-index-llms-azure-openai) (0.4.6)\n",
      "Requirement already satisfied: mypy-extensions>=0.3.0 in c:\\users\\t-garagundi\\appdata\\local\\programs\\python\\python312\\lib\\site-packages (from typing-inspect>=0.8.0->llama-index-core<0.11.0,>=0.10.11.post1->llama-index-llms-azure-openai) (1.0.0)\n",
      "Requirement already satisfied: marshmallow<4.0.0,>=3.18.0 in c:\\users\\t-garagundi\\appdata\\local\\programs\\python\\python312\\lib\\site-packages (from dataclasses-json->llama-index-core<0.11.0,>=0.10.11.post1->llama-index-llms-azure-openai) (3.21.3)\n",
      "Requirement already satisfied: python-dateutil>=2.8.2 in c:\\users\\t-garagundi\\appdata\\local\\programs\\python\\python312\\lib\\site-packages (from pandas->llama-index-core<0.11.0,>=0.10.11.post1->llama-index-llms-azure-openai) (2.9.0.post0)\n",
      "Requirement already satisfied: pytz>=2020.1 in c:\\users\\t-garagundi\\appdata\\local\\programs\\python\\python312\\lib\\site-packages (from pandas->llama-index-core<0.11.0,>=0.10.11.post1->llama-index-llms-azure-openai) (2024.1)\n",
      "Requirement already satisfied: tzdata>=2022.7 in c:\\users\\t-garagundi\\appdata\\local\\programs\\python\\python312\\lib\\site-packages (from pandas->llama-index-core<0.11.0,>=0.10.11.post1->llama-index-llms-azure-openai) (2024.1)\n",
      "Requirement already satisfied: pycparser in c:\\users\\t-garagundi\\appdata\\local\\programs\\python\\python312\\lib\\site-packages (from cffi>=1.12->cryptography>=2.5->azure-identity<2.0.0,>=1.15.0->llama-index-llms-azure-openai) (2.22)\n",
      "Requirement already satisfied: pywin32>=226 in c:\\users\\t-garagundi\\appdata\\local\\programs\\python\\python312\\lib\\site-packages (from portalocker<3,>=1.6->msal-extensions>=0.3.0->azure-identity<2.0.0,>=1.15.0->llama-index-llms-azure-openai) (306)\n",
      "Requirement already satisfied: annotated-types>=0.4.0 in c:\\users\\t-garagundi\\appdata\\local\\programs\\python\\python312\\lib\\site-packages (from pydantic>=1.10->llamaindex-py-client<0.2.0,>=0.1.18->llama-index-core<0.11.0,>=0.10.11.post1->llama-index-llms-azure-openai) (0.7.0)\n",
      "Requirement already satisfied: pydantic-core==2.18.4 in c:\\users\\t-garagundi\\appdata\\local\\programs\\python\\python312\\lib\\site-packages (from pydantic>=1.10->llamaindex-py-client<0.2.0,>=0.1.18->llama-index-core<0.11.0,>=0.10.11.post1->llama-index-llms-azure-openai) (2.18.4)\n",
      "Note: you may need to restart the kernel to use updated packages.\n"
     ]
    }
   ],
   "source": [
    "%pip install llama-index-embeddings-openai\n",
    "%pip install llama-index-llms-azure-openai"
   ]
  },
  {
   "cell_type": "code",
   "execution_count": 9,
   "id": "5ed73758-4a14-4c9e-a4de-7c9c584fbdc0",
   "metadata": {},
   "outputs": [
    {
     "name": "stdout",
     "output_type": "stream",
     "text": [
      "Requirement already satisfied: llama-index in c:\\users\\t-garagundi\\appdata\\local\\programs\\python\\python312\\lib\\site-packages (0.10.43)\n",
      "Requirement already satisfied: llama-index-agent-openai<0.3.0,>=0.1.4 in c:\\users\\t-garagundi\\appdata\\local\\programs\\python\\python312\\lib\\site-packages (from llama-index) (0.2.7)\n",
      "Requirement already satisfied: llama-index-cli<0.2.0,>=0.1.2 in c:\\users\\t-garagundi\\appdata\\local\\programs\\python\\python312\\lib\\site-packages (from llama-index) (0.1.12)\n",
      "Requirement already satisfied: llama-index-core==0.10.43 in c:\\users\\t-garagundi\\appdata\\local\\programs\\python\\python312\\lib\\site-packages (from llama-index) (0.10.43)\n",
      "Requirement already satisfied: llama-index-embeddings-openai<0.2.0,>=0.1.5 in c:\\users\\t-garagundi\\appdata\\local\\programs\\python\\python312\\lib\\site-packages (from llama-index) (0.1.10)\n",
      "Requirement already satisfied: llama-index-indices-managed-llama-cloud<0.2.0,>=0.1.2 in c:\\users\\t-garagundi\\appdata\\local\\programs\\python\\python312\\lib\\site-packages (from llama-index) (0.1.6)\n",
      "Requirement already satisfied: llama-index-legacy<0.10.0,>=0.9.48 in c:\\users\\t-garagundi\\appdata\\local\\programs\\python\\python312\\lib\\site-packages (from llama-index) (0.9.48)\n",
      "Requirement already satisfied: llama-index-llms-openai<0.2.0,>=0.1.13 in c:\\users\\t-garagundi\\appdata\\local\\programs\\python\\python312\\lib\\site-packages (from llama-index) (0.1.22)\n",
      "Requirement already satisfied: llama-index-multi-modal-llms-openai<0.2.0,>=0.1.3 in c:\\users\\t-garagundi\\appdata\\local\\programs\\python\\python312\\lib\\site-packages (from llama-index) (0.1.6)\n",
      "Requirement already satisfied: llama-index-program-openai<0.2.0,>=0.1.3 in c:\\users\\t-garagundi\\appdata\\local\\programs\\python\\python312\\lib\\site-packages (from llama-index) (0.1.6)\n",
      "Requirement already satisfied: llama-index-question-gen-openai<0.2.0,>=0.1.2 in c:\\users\\t-garagundi\\appdata\\local\\programs\\python\\python312\\lib\\site-packages (from llama-index) (0.1.3)\n",
      "Requirement already satisfied: llama-index-readers-file<0.2.0,>=0.1.4 in c:\\users\\t-garagundi\\appdata\\local\\programs\\python\\python312\\lib\\site-packages (from llama-index) (0.1.23)\n",
      "Requirement already satisfied: llama-index-readers-llama-parse<0.2.0,>=0.1.2 in c:\\users\\t-garagundi\\appdata\\local\\programs\\python\\python312\\lib\\site-packages (from llama-index) (0.1.4)\n",
      "Requirement already satisfied: PyYAML>=6.0.1 in c:\\users\\t-garagundi\\appdata\\local\\programs\\python\\python312\\lib\\site-packages (from llama-index-core==0.10.43->llama-index) (6.0.1)\n",
      "Requirement already satisfied: SQLAlchemy>=1.4.49 in c:\\users\\t-garagundi\\appdata\\local\\programs\\python\\python312\\lib\\site-packages (from SQLAlchemy[asyncio]>=1.4.49->llama-index-core==0.10.43->llama-index) (2.0.30)\n",
      "Requirement already satisfied: aiohttp<4.0.0,>=3.8.6 in c:\\users\\t-garagundi\\appdata\\local\\programs\\python\\python312\\lib\\site-packages (from llama-index-core==0.10.43->llama-index) (3.9.5)\n",
      "Requirement already satisfied: dataclasses-json in c:\\users\\t-garagundi\\appdata\\local\\programs\\python\\python312\\lib\\site-packages (from llama-index-core==0.10.43->llama-index) (0.6.6)\n",
      "Requirement already satisfied: deprecated>=1.2.9.3 in c:\\users\\t-garagundi\\appdata\\local\\programs\\python\\python312\\lib\\site-packages (from llama-index-core==0.10.43->llama-index) (1.2.14)\n",
      "Requirement already satisfied: dirtyjson<2.0.0,>=1.0.8 in c:\\users\\t-garagundi\\appdata\\local\\programs\\python\\python312\\lib\\site-packages (from llama-index-core==0.10.43->llama-index) (1.0.8)\n",
      "Requirement already satisfied: fsspec>=2023.5.0 in c:\\users\\t-garagundi\\appdata\\local\\programs\\python\\python312\\lib\\site-packages (from llama-index-core==0.10.43->llama-index) (2024.6.0)\n",
      "Requirement already satisfied: httpx in c:\\users\\t-garagundi\\appdata\\local\\programs\\python\\python312\\lib\\site-packages (from llama-index-core==0.10.43->llama-index) (0.27.0)\n",
      "Requirement already satisfied: llamaindex-py-client<0.2.0,>=0.1.18 in c:\\users\\t-garagundi\\appdata\\local\\programs\\python\\python312\\lib\\site-packages (from llama-index-core==0.10.43->llama-index) (0.1.19)\n",
      "Requirement already satisfied: nest-asyncio<2.0.0,>=1.5.8 in c:\\users\\t-garagundi\\appdata\\local\\programs\\python\\python312\\lib\\site-packages (from llama-index-core==0.10.43->llama-index) (1.6.0)\n",
      "Requirement already satisfied: networkx>=3.0 in c:\\users\\t-garagundi\\appdata\\local\\programs\\python\\python312\\lib\\site-packages (from llama-index-core==0.10.43->llama-index) (3.3)\n",
      "Requirement already satisfied: nltk<4.0.0,>=3.8.1 in c:\\users\\t-garagundi\\appdata\\local\\programs\\python\\python312\\lib\\site-packages (from llama-index-core==0.10.43->llama-index) (3.8.1)\n",
      "Requirement already satisfied: numpy in c:\\users\\t-garagundi\\appdata\\local\\programs\\python\\python312\\lib\\site-packages (from llama-index-core==0.10.43->llama-index) (1.26.4)\n",
      "Requirement already satisfied: openai>=1.1.0 in c:\\users\\t-garagundi\\appdata\\local\\programs\\python\\python312\\lib\\site-packages (from llama-index-core==0.10.43->llama-index) (1.31.0)\n",
      "Requirement already satisfied: pandas in c:\\users\\t-garagundi\\appdata\\local\\programs\\python\\python312\\lib\\site-packages (from llama-index-core==0.10.43->llama-index) (2.2.2)\n",
      "Requirement already satisfied: pillow>=9.0.0 in c:\\users\\t-garagundi\\appdata\\local\\programs\\python\\python312\\lib\\site-packages (from llama-index-core==0.10.43->llama-index) (10.3.0)\n",
      "Requirement already satisfied: requests>=2.31.0 in c:\\users\\t-garagundi\\appdata\\local\\programs\\python\\python312\\lib\\site-packages (from llama-index-core==0.10.43->llama-index) (2.32.2)\n",
      "Requirement already satisfied: tenacity<9.0.0,>=8.2.0 in c:\\users\\t-garagundi\\appdata\\local\\programs\\python\\python312\\lib\\site-packages (from llama-index-core==0.10.43->llama-index) (8.3.0)\n",
      "Requirement already satisfied: tiktoken>=0.3.3 in c:\\users\\t-garagundi\\appdata\\local\\programs\\python\\python312\\lib\\site-packages (from llama-index-core==0.10.43->llama-index) (0.7.0)\n",
      "Requirement already satisfied: tqdm<5.0.0,>=4.66.1 in c:\\users\\t-garagundi\\appdata\\local\\programs\\python\\python312\\lib\\site-packages (from llama-index-core==0.10.43->llama-index) (4.66.4)\n",
      "Requirement already satisfied: typing-extensions>=4.5.0 in c:\\users\\t-garagundi\\appdata\\local\\programs\\python\\python312\\lib\\site-packages (from llama-index-core==0.10.43->llama-index) (4.12.0)\n",
      "Requirement already satisfied: typing-inspect>=0.8.0 in c:\\users\\t-garagundi\\appdata\\local\\programs\\python\\python312\\lib\\site-packages (from llama-index-core==0.10.43->llama-index) (0.9.0)\n",
      "Requirement already satisfied: wrapt in c:\\users\\t-garagundi\\appdata\\local\\programs\\python\\python312\\lib\\site-packages (from llama-index-core==0.10.43->llama-index) (1.16.0)\n",
      "Requirement already satisfied: beautifulsoup4<5.0.0,>=4.12.3 in c:\\users\\t-garagundi\\appdata\\local\\programs\\python\\python312\\lib\\site-packages (from llama-index-readers-file<0.2.0,>=0.1.4->llama-index) (4.12.3)\n",
      "Requirement already satisfied: pypdf<5.0.0,>=4.0.1 in c:\\users\\t-garagundi\\appdata\\local\\programs\\python\\python312\\lib\\site-packages (from llama-index-readers-file<0.2.0,>=0.1.4->llama-index) (4.2.0)\n",
      "Requirement already satisfied: striprtf<0.0.27,>=0.0.26 in c:\\users\\t-garagundi\\appdata\\local\\programs\\python\\python312\\lib\\site-packages (from llama-index-readers-file<0.2.0,>=0.1.4->llama-index) (0.0.26)\n",
      "Requirement already satisfied: llama-parse<0.5.0,>=0.4.0 in c:\\users\\t-garagundi\\appdata\\local\\programs\\python\\python312\\lib\\site-packages (from llama-index-readers-llama-parse<0.2.0,>=0.1.2->llama-index) (0.4.4)\n",
      "Requirement already satisfied: aiosignal>=1.1.2 in c:\\users\\t-garagundi\\appdata\\local\\programs\\python\\python312\\lib\\site-packages (from aiohttp<4.0.0,>=3.8.6->llama-index-core==0.10.43->llama-index) (1.3.1)\n",
      "Requirement already satisfied: attrs>=17.3.0 in c:\\users\\t-garagundi\\appdata\\local\\programs\\python\\python312\\lib\\site-packages (from aiohttp<4.0.0,>=3.8.6->llama-index-core==0.10.43->llama-index) (23.2.0)\n",
      "Requirement already satisfied: frozenlist>=1.1.1 in c:\\users\\t-garagundi\\appdata\\local\\programs\\python\\python312\\lib\\site-packages (from aiohttp<4.0.0,>=3.8.6->llama-index-core==0.10.43->llama-index) (1.4.1)\n",
      "Requirement already satisfied: multidict<7.0,>=4.5 in c:\\users\\t-garagundi\\appdata\\local\\programs\\python\\python312\\lib\\site-packages (from aiohttp<4.0.0,>=3.8.6->llama-index-core==0.10.43->llama-index) (6.0.5)\n",
      "Requirement already satisfied: yarl<2.0,>=1.0 in c:\\users\\t-garagundi\\appdata\\local\\programs\\python\\python312\\lib\\site-packages (from aiohttp<4.0.0,>=3.8.6->llama-index-core==0.10.43->llama-index) (1.9.4)\n",
      "Requirement already satisfied: soupsieve>1.2 in c:\\users\\t-garagundi\\appdata\\local\\programs\\python\\python312\\lib\\site-packages (from beautifulsoup4<5.0.0,>=4.12.3->llama-index-readers-file<0.2.0,>=0.1.4->llama-index) (2.5)\n",
      "Requirement already satisfied: pydantic>=1.10 in c:\\users\\t-garagundi\\appdata\\local\\programs\\python\\python312\\lib\\site-packages (from llamaindex-py-client<0.2.0,>=0.1.18->llama-index-core==0.10.43->llama-index) (2.7.3)\n",
      "Requirement already satisfied: anyio in c:\\users\\t-garagundi\\appdata\\local\\programs\\python\\python312\\lib\\site-packages (from httpx->llama-index-core==0.10.43->llama-index) (4.4.0)\n",
      "Requirement already satisfied: certifi in c:\\users\\t-garagundi\\appdata\\local\\programs\\python\\python312\\lib\\site-packages (from httpx->llama-index-core==0.10.43->llama-index) (2024.2.2)\n",
      "Requirement already satisfied: httpcore==1.* in c:\\users\\t-garagundi\\appdata\\local\\programs\\python\\python312\\lib\\site-packages (from httpx->llama-index-core==0.10.43->llama-index) (1.0.5)\n",
      "Requirement already satisfied: idna in c:\\users\\t-garagundi\\appdata\\local\\programs\\python\\python312\\lib\\site-packages (from httpx->llama-index-core==0.10.43->llama-index) (3.7)\n",
      "Requirement already satisfied: sniffio in c:\\users\\t-garagundi\\appdata\\local\\programs\\python\\python312\\lib\\site-packages (from httpx->llama-index-core==0.10.43->llama-index) (1.3.1)\n",
      "Requirement already satisfied: h11<0.15,>=0.13 in c:\\users\\t-garagundi\\appdata\\local\\programs\\python\\python312\\lib\\site-packages (from httpcore==1.*->httpx->llama-index-core==0.10.43->llama-index) (0.14.0)\n",
      "Requirement already satisfied: click in c:\\users\\t-garagundi\\appdata\\local\\programs\\python\\python312\\lib\\site-packages (from nltk<4.0.0,>=3.8.1->llama-index-core==0.10.43->llama-index) (8.1.7)\n",
      "Requirement already satisfied: joblib in c:\\users\\t-garagundi\\appdata\\local\\programs\\python\\python312\\lib\\site-packages (from nltk<4.0.0,>=3.8.1->llama-index-core==0.10.43->llama-index) (1.4.2)\n",
      "Requirement already satisfied: regex>=2021.8.3 in c:\\users\\t-garagundi\\appdata\\local\\programs\\python\\python312\\lib\\site-packages (from nltk<4.0.0,>=3.8.1->llama-index-core==0.10.43->llama-index) (2024.5.15)\n",
      "Requirement already satisfied: distro<2,>=1.7.0 in c:\\users\\t-garagundi\\appdata\\local\\programs\\python\\python312\\lib\\site-packages (from openai>=1.1.0->llama-index-core==0.10.43->llama-index) (1.9.0)\n",
      "Requirement already satisfied: charset-normalizer<4,>=2 in c:\\users\\t-garagundi\\appdata\\local\\programs\\python\\python312\\lib\\site-packages (from requests>=2.31.0->llama-index-core==0.10.43->llama-index) (3.3.2)\n",
      "Requirement already satisfied: urllib3<3,>=1.21.1 in c:\\users\\t-garagundi\\appdata\\local\\programs\\python\\python312\\lib\\site-packages (from requests>=2.31.0->llama-index-core==0.10.43->llama-index) (2.2.1)\n",
      "Requirement already satisfied: greenlet!=0.4.17 in c:\\users\\t-garagundi\\appdata\\local\\programs\\python\\python312\\lib\\site-packages (from SQLAlchemy>=1.4.49->SQLAlchemy[asyncio]>=1.4.49->llama-index-core==0.10.43->llama-index) (3.0.3)\n",
      "Requirement already satisfied: colorama in c:\\users\\t-garagundi\\appdata\\local\\programs\\python\\python312\\lib\\site-packages (from tqdm<5.0.0,>=4.66.1->llama-index-core==0.10.43->llama-index) (0.4.6)\n",
      "Requirement already satisfied: mypy-extensions>=0.3.0 in c:\\users\\t-garagundi\\appdata\\local\\programs\\python\\python312\\lib\\site-packages (from typing-inspect>=0.8.0->llama-index-core==0.10.43->llama-index) (1.0.0)\n",
      "Requirement already satisfied: marshmallow<4.0.0,>=3.18.0 in c:\\users\\t-garagundi\\appdata\\local\\programs\\python\\python312\\lib\\site-packages (from dataclasses-json->llama-index-core==0.10.43->llama-index) (3.21.3)\n",
      "Requirement already satisfied: python-dateutil>=2.8.2 in c:\\users\\t-garagundi\\appdata\\local\\programs\\python\\python312\\lib\\site-packages (from pandas->llama-index-core==0.10.43->llama-index) (2.9.0.post0)\n",
      "Requirement already satisfied: pytz>=2020.1 in c:\\users\\t-garagundi\\appdata\\local\\programs\\python\\python312\\lib\\site-packages (from pandas->llama-index-core==0.10.43->llama-index) (2024.1)\n",
      "Requirement already satisfied: tzdata>=2022.7 in c:\\users\\t-garagundi\\appdata\\local\\programs\\python\\python312\\lib\\site-packages (from pandas->llama-index-core==0.10.43->llama-index) (2024.1)\n",
      "Requirement already satisfied: packaging>=17.0 in c:\\users\\t-garagundi\\appdata\\local\\programs\\python\\python312\\lib\\site-packages (from marshmallow<4.0.0,>=3.18.0->dataclasses-json->llama-index-core==0.10.43->llama-index) (24.0)\n",
      "Requirement already satisfied: annotated-types>=0.4.0 in c:\\users\\t-garagundi\\appdata\\local\\programs\\python\\python312\\lib\\site-packages (from pydantic>=1.10->llamaindex-py-client<0.2.0,>=0.1.18->llama-index-core==0.10.43->llama-index) (0.7.0)\n",
      "Requirement already satisfied: pydantic-core==2.18.4 in c:\\users\\t-garagundi\\appdata\\local\\programs\\python\\python312\\lib\\site-packages (from pydantic>=1.10->llamaindex-py-client<0.2.0,>=0.1.18->llama-index-core==0.10.43->llama-index) (2.18.4)\n",
      "Requirement already satisfied: six>=1.5 in c:\\users\\t-garagundi\\appdata\\local\\programs\\python\\python312\\lib\\site-packages (from python-dateutil>=2.8.2->pandas->llama-index-core==0.10.43->llama-index) (1.16.0)\n"
     ]
    }
   ],
   "source": [
    "!pip install llama-index"
   ]
  },
  {
   "cell_type": "code",
   "execution_count": 12,
   "id": "0609a213-479b-4924-8a31-07f9076bcb4a",
   "metadata": {},
   "outputs": [],
   "source": [
    "import os\n",
    "import json\n",
    "import openai\n",
    "from llama_index.llms.azure_openai import AzureOpenAI\n",
    "from llama_index.embeddings.openai import OpenAIEmbedding\n",
    "from llama_index.core import VectorStoreIndex, SimpleDirectoryReader\n",
    "from llama_index.embeddings.azure_openai import AzureOpenAIEmbedding\n"
   ]
  },
  {
   "cell_type": "markdown",
   "id": "d1cf060d-7ab1-4a56-8098-4fb306d3401e",
   "metadata": {},
   "source": [
    "# Setup Azure OpenAI\n",
    "\n",
    "The first step is to configure the llm and the embeddings model. These models will be used to create embeddings for the documents loaded into the database and for llm completions."
   ]
  },
  {
   "cell_type": "code",
   "execution_count": 18,
   "id": "230c386e-b118-4cef-aabe-37f78e478f97",
   "metadata": {},
   "outputs": [],
   "source": [
    "llm = AzureOpenAI(    \n",
    "    model=\"AZURE_OPENAI_MODEL\",\n",
    "    deployment_name=\"AZURE_OPENAI_DEPLOYMENT_NAME\",\n",
    "    azure_endpoint=\"AZURE_OPENAI_BASE\",\n",
    "    api_key=\"AZURE_OPENAI_KEY\",\n",
    "    api_version=\"AZURE_OPENAI_VERSION\",\n",
    ")\n",
    "\n",
    "embed_model = AzureOpenAIEmbedding(\n",
    "    model=\"AZURE_OPENAI_EMBEDDING_MODEL\",\n",
    "    deployment_name=\"AZURE_OPENAI_EMBEDDING_MODEL_DEPLOYMENT_NAME\",\n",
    "    azure_endpoint=\"AZURE_OPENAI_BASE\",\n",
    "    api_key=\"AZURE_OPENAI_KEY\",\n",
    "    api_version=\"AZURE_OPENAI_VERSION\",\n",
    ")"
   ]
  },
  {
   "cell_type": "code",
   "execution_count": 19,
   "id": "8da35d45-9689-4f3a-9011-1cda0fb361ea",
   "metadata": {},
   "outputs": [],
   "source": [
    "from llama_index.core import Settings\n",
    "\n",
    "Settings.llm=llm\n",
    "Settings.embed_model=embed_model"
   ]
  },
  {
   "cell_type": "markdown",
   "id": "084aa964-7222-47b2-bdab-825c85a6ffed",
   "metadata": {},
   "source": [
    "# Loading Documents\n",
    "\n",
    "In this example we will be using the paul_graham essay which will be processed by the SimpleDirectoryReader."
   ]
  },
  {
   "cell_type": "code",
   "execution_count": 20,
   "id": "8f689978-93c6-4c34-9a6e-9fca606a1058",
   "metadata": {},
   "outputs": [
    {
     "name": "stdout",
     "output_type": "stream",
     "text": [
      "Document ID: 02615dc0-7189-4b4a-ad6b-f6ebc44f1364\n"
     ]
    }
   ],
   "source": [
    "from llama_index.core import SimpleDirectoryReader\n",
    "\n",
    "documents = SimpleDirectoryReader(input_files=[r\"\\examples\\data\\paul_graham\\paul_graham_essay.txt\"]).load_data()\n",
    "\n",
    "print(\"Document ID:\", documents[0].doc_id)"
   ]
  },
  {
   "cell_type": "markdown",
   "id": "e6c5f4bf-411e-482d-8ada-580dad6575ee",
   "metadata": {},
   "source": [
    "# Create the index\n",
    "\n",
    "Here we establish the connection to cosmos db nosql and create a vector store index."
   ]
  },
  {
   "cell_type": "code",
   "execution_count": 21,
   "id": "4eb1251c-8bbb-416d-9c32-c7260d039900",
   "metadata": {},
   "outputs": [],
   "source": [
    "from azure.cosmos import CosmosClient, PartitionKey\n",
    "from llama_index.vector_stores.azurecosmosnosql import AzureCosmosDBNoSqlVectorSearch\n",
    "from llama_index.core import StorageContext\n",
    "\n",
    "#create cosmos client\n",
    "URL = 'AZURE_COSMOS_CONNECTION_STRING'\n",
    "KEY = 'AZURE_COSMOS_KEY'\n",
    "client = CosmosClient(URL, credential=KEY)\n",
    "\n",
    "#specify vector store properties\n",
    "indexing_policy = {\n",
    "    \"indexingMode\": \"consistent\",\n",
    "    \"includedPaths\": [{\"path\": \"/*\"}],\n",
    "    \"excludedPaths\": [{\"path\": '/\"_etag\"/?'}],\n",
    "    \"vectorIndexes\": [{\"path\": \"/embedding\", \"type\": \"quantizedFlat\"}],\n",
    "}\n",
    "\n",
    "vector_embedding_policy = {\n",
    "    \"vectorEmbeddings\": [\n",
    "        {\n",
    "            \"path\": \"/embedding\",\n",
    "            \"dataType\": \"float32\",\n",
    "            \"distanceFunction\": \"cosine\",\n",
    "            \"dimensions\": 3072,\n",
    "        }\n",
    "    ]\n",
    "}\n",
    "\n",
    "partition_key = PartitionKey(path=\"/id\")\n",
    "cosmos_container_properties_test = {\"partition_key\": partition_key}\n",
    "cosmos_database_properties_test = {}\n",
    "\n",
    "#create vector store\n",
    "store = AzureCosmosDBNoSqlVectorSearch(cosmos_client=client,\n",
    "                                       vector_embedding_policy=vector_embedding_policy,\n",
    "                                       indexing_policy=indexing_policy,\n",
    "                                       cosmos_container_properties=cosmos_container_properties_test,\n",
    "                                       cosmos_database_properties=cosmos_database_properties_test,\n",
    "                                       create_container=True,)\n",
    "\n",
    "storage_context = StorageContext.from_defaults(vector_store=store)\n",
    "\n",
    "index = VectorStoreIndex.from_documents(\n",
    "        documents, storage_context=storage_context\n",
    "    )\n"
   ]
  },
  {
   "cell_type": "markdown",
   "id": "70671760-c408-4f94-b4c8-f9b7aad47644",
   "metadata": {},
   "source": [
    "# Query the index\n",
    "We can now ask questions using our index."
   ]
  },
  {
   "cell_type": "code",
   "execution_count": 22,
   "id": "930a6143-62c9-4377-8955-0c05bfb7e1a2",
   "metadata": {},
   "outputs": [],
   "source": [
    "query_engine = index.as_query_engine()\n",
    "response = query_engine.query(\"What did the author love working on?\")"
   ]
  },
  {
   "cell_type": "code",
   "execution_count": 23,
   "id": "c572a6cd-34db-47e1-897c-a03048173882",
   "metadata": {},
   "outputs": [
    {
     "name": "stdout",
     "output_type": "stream",
     "text": [
      "Before college, the author loved working on writing and programming. They wrote short stories and\n",
      "tried writing programs on the IBM 1401 in 9th grade. With microcomputers, the author's interest in\n",
      "programming grew and they wrote simple games, a program to predict how high their model rockets\n",
      "would fly, and a word processor that their father used to write at least one book.\n"
     ]
    }
   ],
   "source": [
    "import textwrap\n",
    "\n",
    "print(textwrap.fill(str(response), 100))"
   ]
  }
 ],
 "metadata": {
  "kernelspec": {
   "display_name": "Python 3 (ipykernel)",
   "language": "python",
   "name": "python3"
  },
  "language_info": {
   "codemirror_mode": {
    "name": "ipython",
    "version": 3
   },
   "file_extension": ".py",
   "mimetype": "text/x-python",
   "name": "python",
   "nbconvert_exporter": "python",
   "pygments_lexer": "ipython3",
   "version": "3.12.3"
  }
 },
 "nbformat": 4,
 "nbformat_minor": 5
}
