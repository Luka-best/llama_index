{
 "cells": [
  {
   "attachments": {},
   "cell_type": "markdown",
   "id": "016b5598",
   "metadata": {},
   "source": [
    "<a href=\"https://colab.research.google.com/github/run-llama/llama_index/blob/main/docs/docs/examples/vector_stores/RedisIndexDemo.ipynb\" target=\"_parent\"><img src=\"https://colab.research.google.com/assets/colab-badge.svg\" alt=\"Open In Colab\"/></a>"
   ]
  },
  {
   "attachments": {},
   "cell_type": "markdown",
   "id": "0b692c73",
   "metadata": {},
   "source": [
    "# Redis Vector Store"
   ]
  },
  {
   "attachments": {},
   "cell_type": "markdown",
   "id": "1e7787c2",
   "metadata": {},
   "source": [
    "In this notebook we are going to show a quick demo of using the RedisVectorStore."
   ]
  },
  {
   "attachments": {},
   "cell_type": "markdown",
   "id": "c479ce87",
   "metadata": {},
   "source": [
    "If you're opening this Notebook on colab, you will probably need to install LlamaIndex 🦙."
   ]
  },
  {
   "cell_type": "code",
   "execution_count": null,
   "id": "1730d643",
   "metadata": {},
   "outputs": [],
   "source": [
    "%pip install -U llama-index-vector-stores-redis"
   ]
  },
  {
   "cell_type": "code",
   "execution_count": null,
   "id": "c71a947d",
   "metadata": {},
   "outputs": [],
   "source": [
    "!pip install llama-index"
   ]
  },
  {
   "cell_type": "code",
   "execution_count": null,
   "id": "47264e32",
   "metadata": {},
   "outputs": [],
   "source": [
    "import os\n",
    "import sys\n",
    "import logging\n",
    "import textwrap\n",
    "\n",
    "import warnings\n",
    "\n",
    "warnings.filterwarnings(\"ignore\")\n",
    "\n",
    "\n",
    "# Uncomment to see debug logs\n",
    "logging.basicConfig(stream=sys.stdout, level=logging.INFO)\n",
    "logging.getLogger().addHandler(logging.StreamHandler(stream=sys.stdout))\n",
    "\n",
    "from llama_index.core import VectorStoreIndex, SimpleDirectoryReader, Document\n",
    "from llama_index.vector_stores.redis import RedisVectorStore\n",
    "from IPython.display import Markdown, display"
   ]
  },
  {
   "attachments": {},
   "cell_type": "markdown",
   "id": "3c692310",
   "metadata": {},
   "source": [
    "### Start Redis\n",
    "\n",
    "The easiest way to start Redis is using the [Redis Stack](https://hub.docker.com/r/redis/redis-stack) docker image or\n",
    "quickly signing up for a [FREE Redis Cloud](https://redis.com/try-free) instance.\n",
    "\n",
    "To follow every step of this tutorial, launch the image as follows:\n",
    "\n",
    "```bash\n",
    "docker run --name redis-vecdb -d -p 6379:6379 -p 8001:8001 redis/redis-stack:latest\n",
    "```\n",
    "\n",
    "This will also launch the RedisInsight UI on port 8001 which you can view at http://localhost:8001.\n"
   ]
  },
  {
   "attachments": {},
   "cell_type": "markdown",
   "id": "f9b97a89",
   "metadata": {},
   "source": [
    "### Setup OpenAI\n",
    "Lets first begin by adding the openai api key. This will allow us to access openai for embeddings and to use chatgpt."
   ]
  },
  {
   "cell_type": "code",
   "execution_count": null,
   "id": "0c9f4d21-145a-401e-95ff-ccb259e8ef84",
   "metadata": {},
   "outputs": [],
   "source": [
    "import getpass\n",
    "\n",
    "oai_api_key = getpass.getpass(\"OpenAI API Key:\")\n",
    "os.environ[\"OPENAI_API_KEY\"] = oai_api_key"
   ]
  },
  {
   "attachments": {},
   "cell_type": "markdown",
   "id": "103ff054",
   "metadata": {},
   "source": [
    "Download Data"
   ]
  },
  {
   "cell_type": "code",
   "execution_count": null,
   "id": "304ad9d8",
   "metadata": {},
   "outputs": [],
   "source": [
    "!mkdir -p 'data/paul_graham/'\n",
    "!wget 'https://raw.githubusercontent.com/run-llama/llama_index/main/docs/docs/examples/data/paul_graham/paul_graham_essay.txt' -O 'data/paul_graham/paul_graham_essay.txt'"
   ]
  },
  {
   "attachments": {},
   "cell_type": "markdown",
   "id": "59ff935d",
   "metadata": {},
   "source": [
    "### Read in a dataset\n",
    "Here we will use a set of Paul Graham essays to provide the text to turn into embeddings, store in a ``RedisVectorStore`` and query to find context for our LLM QnA loop."
   ]
  },
  {
   "cell_type": "code",
   "execution_count": null,
   "id": "68cbd239-880e-41a3-98d8-dbb3fab55431",
   "metadata": {},
   "outputs": [],
   "source": [
    "# load documents\n",
    "documents = SimpleDirectoryReader(\"./data/paul_graham\").load_data()\n",
    "print(\n",
    "    \"Document ID:\",\n",
    "    documents[0].id_,\n",
    "    \"Document Filename:\",\n",
    "    documents[0].metadata[\"file_name\"],\n",
    ")"
   ]
  },
  {
   "attachments": {},
   "cell_type": "markdown",
   "id": "ce335c9a",
   "metadata": {},
   "source": [
    "You can process your files individually using [SimpleDirectoryReader](/examples/data_connectors/simple_directory_reader.ipynb):"
   ]
  },
  {
   "cell_type": "code",
   "execution_count": null,
   "id": "1f67cb2a",
   "metadata": {},
   "outputs": [],
   "source": [
    "loader = SimpleDirectoryReader(\"./data/paul_graham\")\n",
    "documents = loader.load_data()\n",
    "for file in loader.input_files:\n",
    "    print(file)\n",
    "    # Here is where you would do any preprocessing"
   ]
  },
  {
   "attachments": {},
   "cell_type": "markdown",
   "id": "dd270925",
   "metadata": {},
   "source": [
    "### Initialize the default Redis Vector Store\n",
    "\n",
    "Now we have our documents prepared, we can initialize the Redis Vector Store with **default** settings. This will allow us to store our vectors in Redis and create an index for real-time search."
   ]
  },
  {
   "cell_type": "code",
   "execution_count": null,
   "id": "ba1558b3",
   "metadata": {},
   "outputs": [],
   "source": [
    "from llama_index.core import StorageContext\n",
    "from redis import Redis\n",
    "\n",
    "# create a Redis client connection\n",
    "redis_client = Redis.from_url(\"redis://localhost:6379\")\n",
    "\n",
    "# create the vector store wrapper\n",
    "vector_store = RedisVectorStore(redis_client=redis_client, overwrite=True)\n",
    "\n",
    "# load storage context\n",
    "storage_context = StorageContext.from_defaults(vector_store=vector_store)\n",
    "\n",
    "# build and load index from documents and storage context\n",
    "index = VectorStoreIndex.from_documents(\n",
    "    documents, storage_context=storage_context\n",
    ")"
   ]
  },
  {
   "cell_type": "markdown",
   "id": "dc00b3fb",
   "metadata": {},
   "source": [
    "### Query the default vector store\n",
    "\n",
    "Now that we have our data stored in the index, we can ask questions against the index.\n",
    "\n",
    "The index will use the data as the knowledge base for an LLM. The default setting for as_query_engine() utilizes OpenAI embeddings and GPT as the language model. Therefore, an OpenAI key is required unless you opt for a customized or local language model.\n",
    "\n",
    "Below we will test searches against out index and then full RAG with an LLM."
   ]
  },
  {
   "cell_type": "code",
   "execution_count": null,
   "id": "c50a593f",
   "metadata": {},
   "outputs": [],
   "source": [
    "query_engine = index.as_query_engine()\n",
    "retriever = index.as_retriever()"
   ]
  },
  {
   "cell_type": "code",
   "execution_count": null,
   "id": "e3f0daf7",
   "metadata": {},
   "outputs": [],
   "source": [
    "sources = query_engine.retrieve(\"What did the author learn?\")\n",
    "print(sources)"
   ]
  },
  {
   "cell_type": "code",
   "execution_count": null,
   "id": "e13d7726",
   "metadata": {},
   "outputs": [],
   "source": [
    "response = query_engine.query(\"What did the author learn?\")\n",
    "print(textwrap.fill(str(response), 100))"
   ]
  },
  {
   "cell_type": "code",
   "execution_count": null,
   "id": "4b99b79b",
   "metadata": {},
   "outputs": [],
   "source": [
    "sources = query_engine.retrieve(\"What was a hard moment for the author?\")\n",
    "print(sources)"
   ]
  },
  {
   "cell_type": "code",
   "execution_count": null,
   "id": "c0838ee1",
   "metadata": {},
   "outputs": [],
   "source": [
    "response = query_engine.query(\"What was a hard moment for the author?\")\n",
    "print(textwrap.fill(str(response), 100))"
   ]
  },
  {
   "cell_type": "markdown",
   "id": "831452c8",
   "metadata": {},
   "source": [
    "### Use a custom index schema\n",
    "\n",
    "In most use cases, you need the ability to customize the underling index configuration\n",
    "and specification. For example, this is handy in order to define specific metadata filters you wish to enable.\n",
    "\n",
    "With Redis, this is as simple as defining an index schema object\n",
    "(from file or dict) and passing it through to the vector store client wrapper.\n",
    "\n",
    "For this example, we will:\n",
    "1. switch the embedding model to [Cohere](cohereai.com)\n",
    "2. add an additional metadata field for the document `updated_at` timestamp\n",
    "3. index the existing `file_name` metadata field"
   ]
  },
  {
   "cell_type": "code",
   "execution_count": null,
   "id": "8dc07cd3",
   "metadata": {},
   "outputs": [],
   "source": [
    "# set up Cohere Key\n",
    "import getpass\n",
    "\n",
    "co_api_key = getpass.getpass(\"Cohere API Key:\")\n",
    "os.environ[\"COHERE_API_KEY\"] = co_api_key"
   ]
  },
  {
   "cell_type": "code",
   "execution_count": null,
   "id": "b39f66a2",
   "metadata": {},
   "outputs": [],
   "source": [
    "documents[0]"
   ]
  },
  {
   "cell_type": "code",
   "execution_count": null,
   "id": "2022e92a",
   "metadata": {},
   "outputs": [],
   "source": [
    "from llama_index.core.settings import Settings\n",
    "from llama_index.embeddings.cohere import CohereEmbedding\n",
    "\n",
    "# set llamaindex to use Cohere embeddings\n",
    "Settings.embed_model = CohereEmbedding()"
   ]
  },
  {
   "cell_type": "code",
   "execution_count": null,
   "id": "c07e9747",
   "metadata": {},
   "outputs": [],
   "source": [
    "from redisvl.schema import IndexSchema\n",
    "\n",
    "\n",
    "custom_schema = IndexSchema.from_dict(\n",
    "    {\n",
    "        # customize basic index specs\n",
    "        \"index\": {\n",
    "            \"name\": \"paul_graham\",\n",
    "            \"prefix\": \"essay\",\n",
    "            \"key_separator\": \":\",\n",
    "        },\n",
    "        # customize fields that are indexed\n",
    "        \"fields\": [\n",
    "            # required fields for llamaindex\n",
    "            {\"type\": \"tag\", \"name\": \"id\"},\n",
    "            {\"type\": \"tag\", \"name\": \"doc_id\"},\n",
    "            {\"type\": \"text\", \"name\": \"text\"},\n",
    "            # custom metadata fields\n",
    "            {\"type\": \"numeric\", \"name\": \"created_at\"},\n",
    "            {\"type\": \"tag\", \"name\": \"file_name\"},\n",
    "            # custom vector field definition\n",
    "            {\n",
    "                \"type\": \"vector\",\n",
    "                \"name\": \"vector\",\n",
    "                \"attrs\": {\n",
    "                    \"dims\": 1024,\n",
    "                    \"algorithm\": \"hnsw\",\n",
    "                    \"distance_metric\": \"cosine\",\n",
    "                },\n",
    "            },\n",
    "        ],\n",
    "    }\n",
    ")"
   ]
  },
  {
   "cell_type": "code",
   "execution_count": null,
   "id": "22184dd0",
   "metadata": {},
   "outputs": [],
   "source": [
    "custom_schema.index"
   ]
  },
  {
   "cell_type": "code",
   "execution_count": null,
   "id": "2bf50ab5",
   "metadata": {},
   "outputs": [],
   "source": [
    "custom_schema.fields"
   ]
  },
  {
   "cell_type": "markdown",
   "id": "b05ebd97",
   "metadata": {},
   "source": [
    "Learn more about [schema and index design](https://redisvl.com) with redis."
   ]
  },
  {
   "cell_type": "code",
   "execution_count": null,
   "id": "61b01276",
   "metadata": {},
   "outputs": [],
   "source": [
    "from datetime import datetime\n",
    "\n",
    "\n",
    "def date_to_timestamp(date_string: str) -> int:\n",
    "    date_format: str = \"%Y-%m-%d\"\n",
    "    return int(datetime.strptime(date_string, date_format).timestamp())\n",
    "\n",
    "\n",
    "# iterate through documents and add new field\n",
    "for document in documents:\n",
    "    document.metadata[\"updated_at\"] = date_to_timestamp(\n",
    "        document.metadata[\"last_modified_date\"]\n",
    "    )"
   ]
  },
  {
   "cell_type": "code",
   "execution_count": null,
   "id": "e871823e",
   "metadata": {},
   "outputs": [],
   "source": [
    "vector_store = RedisVectorStore(\n",
    "    schema=custom_schema,  # provide customized schema\n",
    "    redis_client=redis_client,\n",
    "    overwrite=True,\n",
    ")\n",
    "\n",
    "storage_context = StorageContext.from_defaults(vector_store=vector_store)\n",
    "\n",
    "# build and load index from documents and storage context\n",
    "index = VectorStoreIndex.from_documents(\n",
    "    documents, storage_context=storage_context\n",
    ")"
   ]
  },
  {
   "cell_type": "markdown",
   "id": "3791a32c",
   "metadata": {},
   "source": [
    "### Query the vector store and filter on metadata\n",
    "Now that we have additional metadata indexed in Redis, let's try some queries with filters."
   ]
  },
  {
   "cell_type": "code",
   "execution_count": null,
   "id": "bb2c21ad",
   "metadata": {},
   "outputs": [],
   "source": [
    "from llama_index.core.vector_stores import (\n",
    "    MetadataFilters,\n",
    "    MetadataFilter,\n",
    "    ExactMatchFilter,\n",
    ")\n",
    "\n",
    "\n",
    "retriever = index.as_retriever(\n",
    "    similarity_top_k=3,\n",
    "    filters=MetadataFilters(\n",
    "        filters=[\n",
    "            ExactMatchFilter(key=\"file_name\", value=\"paul_graham_essay.txt\"),\n",
    "            MetadataFilter(\n",
    "                key=\"updated_at\",\n",
    "                value=date_to_timestamp(\"2024-01-01\"),\n",
    "                operator=\">=\",\n",
    "            ),\n",
    "        ],\n",
    "        condition=\"and\",\n",
    "    ),\n",
    ")\n",
    "\n",
    "sources = retriever.retrieve(\"What did the author learn?\")\n",
    "print(sources)"
   ]
  },
  {
   "attachments": {},
   "cell_type": "markdown",
   "id": "8c8849ba",
   "metadata": {},
   "source": [
    "### Restoring from an existing index in Redis\n",
    "Restoring from an index requires a Redis connection client (or URL), `overwrite=False`, and passing in the same schema object used before. (This can be offloaded to a YAML file for convenience using `.to_yaml()`)"
   ]
  },
  {
   "cell_type": "code",
   "execution_count": null,
   "id": "6792f189",
   "metadata": {},
   "outputs": [],
   "source": [
    "custom_schema.to_yaml(\"paul_graham.yaml\")"
   ]
  },
  {
   "cell_type": "code",
   "execution_count": null,
   "id": "95817a85",
   "metadata": {},
   "outputs": [],
   "source": [
    "vector_store = RedisVectorStore(\n",
    "    schema=IndexSchema.from_yaml(\"paul_graham.yaml\"),\n",
    "    redis_client=redis_client,\n",
    "    overwrite=False,\n",
    ")\n",
    "index = VectorStoreIndex.from_vector_store(vector_store=vector_store)"
   ]
  },
  {
   "cell_type": "markdown",
   "id": "82ea32aa",
   "metadata": {},
   "source": [
    "**In the near future** -- we will implement a convenience method to load just using an index name:\n",
    "```python\n",
    "RedisVectorStore.from_existing_index(index_name=\"paul_graham\", redis_client=redis_client)\n",
    "```"
   ]
  },
  {
   "attachments": {},
   "cell_type": "markdown",
   "id": "52b975a7",
   "metadata": {},
   "source": [
    "### Deleting documents or index completely\n",
    "\n",
    "Sometimes it may be useful to delete documents or the entire index. This can be done using the `delete` and `delete_index` methods."
   ]
  },
  {
   "cell_type": "code",
   "execution_count": null,
   "id": "6fe322f7",
   "metadata": {},
   "outputs": [],
   "source": [
    "document_id = documents[0].doc_id\n",
    "document_id"
   ]
  },
  {
   "cell_type": "code",
   "execution_count": null,
   "id": "0ce45788",
   "metadata": {},
   "outputs": [],
   "source": [
    "print(\"Number of documents before deleting\", redis_client.dbsize())\n",
    "vector_store.delete(document_id)\n",
    "print(\"Number of documents after deleting\", redis_client.dbsize())"
   ]
  },
  {
   "cell_type": "markdown",
   "id": "442e8acf",
   "metadata": {},
   "source": [
    "However, the Redis index still exists (with no associated documents) for continuous upsert."
   ]
  },
  {
   "cell_type": "code",
   "execution_count": null,
   "id": "12eda458",
   "metadata": {},
   "outputs": [],
   "source": [
    "vector_store.index_exists()"
   ]
  },
  {
   "cell_type": "code",
   "execution_count": null,
   "id": "c380605a",
   "metadata": {},
   "outputs": [],
   "source": [
    "# now lets delete the index entirely\n",
    "# this will delete all the documents and the index\n",
    "vector_store.delete_index()"
   ]
  },
  {
   "cell_type": "code",
   "execution_count": null,
   "id": "474ad4ee",
   "metadata": {},
   "outputs": [],
   "source": [
    "print(\"Number of documents after deleting\", redis_client.dbsize())"
   ]
  },
  {
   "attachments": {},
   "cell_type": "markdown",
   "id": "07514f85",
   "metadata": {},
   "source": [
    "### Troubleshooting\n",
    "\n",
    "If you get an empty query result, there a couple of issues to check:\n",
    "\n",
    "#### Prefix issues\n",
    "\n",
    "Redis expects all records to have a key prefix that segments the keyspace into \"partitions\"\n",
    "for potentially different applications, use cases, and clients.\n",
    "\n",
    "Make sure that the chosen `prefix`, as part of the index schema, is consistent across your code (tied to a specific index).\n",
    "\n",
    "To see what prefix your index was created with, you can run `FT.INFO <name of your index>` in the Redis CLI and look under `index_definition` => `prefixes`.\n",
    "\n",
    "#### Data versus Index\n",
    "Redis treats the records in the dataset and the index as different entities. This allows you more flexibility in performing updates, upserts, and index schema migrations.\n",
    "\n",
    "If you have an existing index and want to make sure it's dropped, you can run `FT.DROPINDEX <name of your index>` in the Redis CLI. Note that this will *not* drop your actual data unless you pass `DD`\n",
    "\n",
    "#### Empty queries when using metadata\n",
    "\n",
    "If you add metadata to the index *after* it has already been created and then try to query over that metadata, your queries will come back empty.\n",
    "\n",
    "Redis indexes fields upon index creation only (similar to how it indexes the prefixes, above)."
   ]
  }
 ],
 "metadata": {
  "kernelspec": {
   "display_name": "Python 3 (ipykernel)",
   "language": "python",
   "name": "python3"
  },
  "language_info": {
   "codemirror_mode": {
    "name": "ipython",
    "version": 3
   },
   "file_extension": ".py",
   "mimetype": "text/x-python",
   "name": "python",
   "nbconvert_exporter": "python",
   "pygments_lexer": "ipython3"
  }
 },
 "nbformat": 4,
 "nbformat_minor": 5
}
