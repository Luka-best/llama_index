{
 "cells": [
  {
   "cell_type": "markdown",
   "metadata": {},
   "source": [
    "# MyMagic AI LLM"
   ]
  },
  {
   "cell_type": "markdown",
   "metadata": {},
   "source": [
    "## Introduction\n",
    "This notebook demonstrates how to use MyMagicAI for batch inference on massive data stored in cloud buckets. The only enpoints implemented are `complete` and `acomplete` which can work on many use cases including Completion, Summariation and Extraction.\n",
    "To use this notebook, you need an API key (Personal Access Token) from MyMagicAI and data stored in cloud buckets.\n",
    "Sign up by clicking Get Started at [MyMagicAI's website](https://mymagic.ai/) to get your API key.\n"
   ]
  },
  {
   "cell_type": "markdown",
   "metadata": {},
   "source": [
    "## Setup\n",
    "To set up your bucket and grant MyMagic API a secure access to your cloud storage, please visit [MyMagic docs](https://docs.mymagic.ai/) for reference.\n",
    "If you're opening this Notebook on colab, you will probably need to install LlamaIndex 🦙.\n"
   ]
  },
  {
   "cell_type": "code",
   "execution_count": 1,
   "metadata": {},
   "outputs": [
    {
     "name": "stdout",
     "output_type": "stream",
     "text": [
      "Looking in indexes: https://pypi.org/simple, https://pypi.ngc.nvidia.com\n",
      "Obtaining file:///home/vitali/Documents/llama_index/llama-index-integrations/llms/llama-index-llms-mymagic\n",
      "  Installing build dependencies ... \u001b[?25ldone\n",
      "\u001b[?25h  Checking if build backend supports build_editable ... \u001b[?25ldone\n",
      "\u001b[?25h  Getting requirements to build editable ... \u001b[?25ldone\n",
      "\u001b[?25h  Preparing editable metadata (pyproject.toml) ... \u001b[?25ldone\n",
      "\u001b[?25hRequirement already satisfied: llama-index-core<0.11.0,>=0.10.0 in /home/vitali/Documents/llama_index/venv/lib/python3.11/site-packages (from llama-index-llms-mymagic==0.1.7) (0.10.31)\n",
      "Requirement already satisfied: PyYAML>=6.0.1 in /home/vitali/Documents/llama_index/venv/lib/python3.11/site-packages (from llama-index-core<0.11.0,>=0.10.0->llama-index-llms-mymagic==0.1.7) (6.0.1)\n",
      "Requirement already satisfied: SQLAlchemy>=1.4.49 in /home/vitali/Documents/llama_index/venv/lib/python3.11/site-packages (from SQLAlchemy[asyncio]>=1.4.49->llama-index-core<0.11.0,>=0.10.0->llama-index-llms-mymagic==0.1.7) (2.0.29)\n",
      "Requirement already satisfied: aiohttp<4.0.0,>=3.8.6 in /home/vitali/Documents/llama_index/venv/lib/python3.11/site-packages (from llama-index-core<0.11.0,>=0.10.0->llama-index-llms-mymagic==0.1.7) (3.9.5)\n",
      "Requirement already satisfied: dataclasses-json in /home/vitali/Documents/llama_index/venv/lib/python3.11/site-packages (from llama-index-core<0.11.0,>=0.10.0->llama-index-llms-mymagic==0.1.7) (0.6.4)\n",
      "Requirement already satisfied: deprecated>=1.2.9.3 in /home/vitali/Documents/llama_index/venv/lib/python3.11/site-packages (from llama-index-core<0.11.0,>=0.10.0->llama-index-llms-mymagic==0.1.7) (1.2.14)\n",
      "Requirement already satisfied: dirtyjson<2.0.0,>=1.0.8 in /home/vitali/Documents/llama_index/venv/lib/python3.11/site-packages (from llama-index-core<0.11.0,>=0.10.0->llama-index-llms-mymagic==0.1.7) (1.0.8)\n",
      "Requirement already satisfied: fsspec>=2023.5.0 in /home/vitali/Documents/llama_index/venv/lib/python3.11/site-packages (from llama-index-core<0.11.0,>=0.10.0->llama-index-llms-mymagic==0.1.7) (2024.3.1)\n",
      "Requirement already satisfied: httpx in /home/vitali/Documents/llama_index/venv/lib/python3.11/site-packages (from llama-index-core<0.11.0,>=0.10.0->llama-index-llms-mymagic==0.1.7) (0.27.0)\n",
      "Requirement already satisfied: llamaindex-py-client<0.2.0,>=0.1.18 in /home/vitali/Documents/llama_index/venv/lib/python3.11/site-packages (from llama-index-core<0.11.0,>=0.10.0->llama-index-llms-mymagic==0.1.7) (0.1.18)\n",
      "Requirement already satisfied: nest-asyncio<2.0.0,>=1.5.8 in /home/vitali/Documents/llama_index/venv/lib/python3.11/site-packages (from llama-index-core<0.11.0,>=0.10.0->llama-index-llms-mymagic==0.1.7) (1.6.0)\n",
      "Requirement already satisfied: networkx>=3.0 in /home/vitali/Documents/llama_index/venv/lib/python3.11/site-packages (from llama-index-core<0.11.0,>=0.10.0->llama-index-llms-mymagic==0.1.7) (3.3)\n",
      "Requirement already satisfied: nltk<4.0.0,>=3.8.1 in /home/vitali/Documents/llama_index/venv/lib/python3.11/site-packages (from llama-index-core<0.11.0,>=0.10.0->llama-index-llms-mymagic==0.1.7) (3.8.1)\n",
      "Requirement already satisfied: numpy in /home/vitali/Documents/llama_index/venv/lib/python3.11/site-packages (from llama-index-core<0.11.0,>=0.10.0->llama-index-llms-mymagic==0.1.7) (1.26.4)\n",
      "Requirement already satisfied: openai>=1.1.0 in /home/vitali/Documents/llama_index/venv/lib/python3.11/site-packages (from llama-index-core<0.11.0,>=0.10.0->llama-index-llms-mymagic==0.1.7) (1.23.6)\n",
      "Requirement already satisfied: pandas in /home/vitali/Documents/llama_index/venv/lib/python3.11/site-packages (from llama-index-core<0.11.0,>=0.10.0->llama-index-llms-mymagic==0.1.7) (2.2.2)\n",
      "Requirement already satisfied: pillow>=9.0.0 in /home/vitali/Documents/llama_index/venv/lib/python3.11/site-packages (from llama-index-core<0.11.0,>=0.10.0->llama-index-llms-mymagic==0.1.7) (10.3.0)\n",
      "Requirement already satisfied: requests>=2.31.0 in /home/vitali/Documents/llama_index/venv/lib/python3.11/site-packages (from llama-index-core<0.11.0,>=0.10.0->llama-index-llms-mymagic==0.1.7) (2.31.0)\n",
      "Requirement already satisfied: tenacity<9.0.0,>=8.2.0 in /home/vitali/Documents/llama_index/venv/lib/python3.11/site-packages (from llama-index-core<0.11.0,>=0.10.0->llama-index-llms-mymagic==0.1.7) (8.2.3)\n",
      "Requirement already satisfied: tiktoken>=0.3.3 in /home/vitali/Documents/llama_index/venv/lib/python3.11/site-packages (from llama-index-core<0.11.0,>=0.10.0->llama-index-llms-mymagic==0.1.7) (0.6.0)\n",
      "Requirement already satisfied: tqdm<5.0.0,>=4.66.1 in /home/vitali/Documents/llama_index/venv/lib/python3.11/site-packages (from llama-index-core<0.11.0,>=0.10.0->llama-index-llms-mymagic==0.1.7) (4.66.2)\n",
      "Requirement already satisfied: typing-extensions>=4.5.0 in /home/vitali/Documents/llama_index/venv/lib/python3.11/site-packages (from llama-index-core<0.11.0,>=0.10.0->llama-index-llms-mymagic==0.1.7) (4.11.0)\n",
      "Requirement already satisfied: typing-inspect>=0.8.0 in /home/vitali/Documents/llama_index/venv/lib/python3.11/site-packages (from llama-index-core<0.11.0,>=0.10.0->llama-index-llms-mymagic==0.1.7) (0.9.0)\n",
      "Requirement already satisfied: wrapt in /home/vitali/Documents/llama_index/venv/lib/python3.11/site-packages (from llama-index-core<0.11.0,>=0.10.0->llama-index-llms-mymagic==0.1.7) (1.16.0)\n",
      "Requirement already satisfied: aiosignal>=1.1.2 in /home/vitali/Documents/llama_index/venv/lib/python3.11/site-packages (from aiohttp<4.0.0,>=3.8.6->llama-index-core<0.11.0,>=0.10.0->llama-index-llms-mymagic==0.1.7) (1.3.1)\n",
      "Requirement already satisfied: attrs>=17.3.0 in /home/vitali/Documents/llama_index/venv/lib/python3.11/site-packages (from aiohttp<4.0.0,>=3.8.6->llama-index-core<0.11.0,>=0.10.0->llama-index-llms-mymagic==0.1.7) (23.2.0)\n",
      "Requirement already satisfied: frozenlist>=1.1.1 in /home/vitali/Documents/llama_index/venv/lib/python3.11/site-packages (from aiohttp<4.0.0,>=3.8.6->llama-index-core<0.11.0,>=0.10.0->llama-index-llms-mymagic==0.1.7) (1.4.1)\n",
      "Requirement already satisfied: multidict<7.0,>=4.5 in /home/vitali/Documents/llama_index/venv/lib/python3.11/site-packages (from aiohttp<4.0.0,>=3.8.6->llama-index-core<0.11.0,>=0.10.0->llama-index-llms-mymagic==0.1.7) (6.0.5)\n",
      "Requirement already satisfied: yarl<2.0,>=1.0 in /home/vitali/Documents/llama_index/venv/lib/python3.11/site-packages (from aiohttp<4.0.0,>=3.8.6->llama-index-core<0.11.0,>=0.10.0->llama-index-llms-mymagic==0.1.7) (1.9.4)\n",
      "Requirement already satisfied: pydantic>=1.10 in /home/vitali/Documents/llama_index/venv/lib/python3.11/site-packages (from llamaindex-py-client<0.2.0,>=0.1.18->llama-index-core<0.11.0,>=0.10.0->llama-index-llms-mymagic==0.1.7) (2.7.1)\n",
      "Requirement already satisfied: anyio in /home/vitali/Documents/llama_index/venv/lib/python3.11/site-packages (from httpx->llama-index-core<0.11.0,>=0.10.0->llama-index-llms-mymagic==0.1.7) (4.3.0)\n",
      "Requirement already satisfied: certifi in /home/vitali/Documents/llama_index/venv/lib/python3.11/site-packages (from httpx->llama-index-core<0.11.0,>=0.10.0->llama-index-llms-mymagic==0.1.7) (2024.2.2)\n",
      "Requirement already satisfied: httpcore==1.* in /home/vitali/Documents/llama_index/venv/lib/python3.11/site-packages (from httpx->llama-index-core<0.11.0,>=0.10.0->llama-index-llms-mymagic==0.1.7) (1.0.5)\n",
      "Requirement already satisfied: idna in /home/vitali/Documents/llama_index/venv/lib/python3.11/site-packages (from httpx->llama-index-core<0.11.0,>=0.10.0->llama-index-llms-mymagic==0.1.7) (3.7)\n",
      "Requirement already satisfied: sniffio in /home/vitali/Documents/llama_index/venv/lib/python3.11/site-packages (from httpx->llama-index-core<0.11.0,>=0.10.0->llama-index-llms-mymagic==0.1.7) (1.3.1)\n",
      "Requirement already satisfied: h11<0.15,>=0.13 in /home/vitali/Documents/llama_index/venv/lib/python3.11/site-packages (from httpcore==1.*->httpx->llama-index-core<0.11.0,>=0.10.0->llama-index-llms-mymagic==0.1.7) (0.14.0)\n",
      "Requirement already satisfied: click in /home/vitali/Documents/llama_index/venv/lib/python3.11/site-packages (from nltk<4.0.0,>=3.8.1->llama-index-core<0.11.0,>=0.10.0->llama-index-llms-mymagic==0.1.7) (8.1.7)\n",
      "Requirement already satisfied: joblib in /home/vitali/Documents/llama_index/venv/lib/python3.11/site-packages (from nltk<4.0.0,>=3.8.1->llama-index-core<0.11.0,>=0.10.0->llama-index-llms-mymagic==0.1.7) (1.4.0)\n",
      "Requirement already satisfied: regex>=2021.8.3 in /home/vitali/Documents/llama_index/venv/lib/python3.11/site-packages (from nltk<4.0.0,>=3.8.1->llama-index-core<0.11.0,>=0.10.0->llama-index-llms-mymagic==0.1.7) (2024.4.16)\n",
      "Requirement already satisfied: distro<2,>=1.7.0 in /home/vitali/Documents/llama_index/venv/lib/python3.11/site-packages (from openai>=1.1.0->llama-index-core<0.11.0,>=0.10.0->llama-index-llms-mymagic==0.1.7) (1.9.0)\n",
      "Requirement already satisfied: charset-normalizer<4,>=2 in /home/vitali/Documents/llama_index/venv/lib/python3.11/site-packages (from requests>=2.31.0->llama-index-core<0.11.0,>=0.10.0->llama-index-llms-mymagic==0.1.7) (3.3.2)\n",
      "Requirement already satisfied: urllib3<3,>=1.21.1 in /home/vitali/Documents/llama_index/venv/lib/python3.11/site-packages (from requests>=2.31.0->llama-index-core<0.11.0,>=0.10.0->llama-index-llms-mymagic==0.1.7) (2.2.1)\n",
      "Requirement already satisfied: greenlet!=0.4.17 in /home/vitali/Documents/llama_index/venv/lib/python3.11/site-packages (from SQLAlchemy>=1.4.49->SQLAlchemy[asyncio]>=1.4.49->llama-index-core<0.11.0,>=0.10.0->llama-index-llms-mymagic==0.1.7) (3.0.3)\n",
      "Requirement already satisfied: mypy-extensions>=0.3.0 in /home/vitali/Documents/llama_index/venv/lib/python3.11/site-packages (from typing-inspect>=0.8.0->llama-index-core<0.11.0,>=0.10.0->llama-index-llms-mymagic==0.1.7) (1.0.0)\n",
      "Requirement already satisfied: marshmallow<4.0.0,>=3.18.0 in /home/vitali/Documents/llama_index/venv/lib/python3.11/site-packages (from dataclasses-json->llama-index-core<0.11.0,>=0.10.0->llama-index-llms-mymagic==0.1.7) (3.21.1)\n",
      "Requirement already satisfied: python-dateutil>=2.8.2 in /home/vitali/Documents/llama_index/venv/lib/python3.11/site-packages (from pandas->llama-index-core<0.11.0,>=0.10.0->llama-index-llms-mymagic==0.1.7) (2.9.0.post0)\n",
      "Requirement already satisfied: pytz>=2020.1 in /home/vitali/Documents/llama_index/venv/lib/python3.11/site-packages (from pandas->llama-index-core<0.11.0,>=0.10.0->llama-index-llms-mymagic==0.1.7) (2024.1)\n",
      "Requirement already satisfied: tzdata>=2022.7 in /home/vitali/Documents/llama_index/venv/lib/python3.11/site-packages (from pandas->llama-index-core<0.11.0,>=0.10.0->llama-index-llms-mymagic==0.1.7) (2024.1)\n",
      "Requirement already satisfied: packaging>=17.0 in /home/vitali/Documents/llama_index/venv/lib/python3.11/site-packages (from marshmallow<4.0.0,>=3.18.0->dataclasses-json->llama-index-core<0.11.0,>=0.10.0->llama-index-llms-mymagic==0.1.7) (24.0)\n",
      "Requirement already satisfied: annotated-types>=0.4.0 in /home/vitali/Documents/llama_index/venv/lib/python3.11/site-packages (from pydantic>=1.10->llamaindex-py-client<0.2.0,>=0.1.18->llama-index-core<0.11.0,>=0.10.0->llama-index-llms-mymagic==0.1.7) (0.6.0)\n",
      "Requirement already satisfied: pydantic-core==2.18.2 in /home/vitali/Documents/llama_index/venv/lib/python3.11/site-packages (from pydantic>=1.10->llamaindex-py-client<0.2.0,>=0.1.18->llama-index-core<0.11.0,>=0.10.0->llama-index-llms-mymagic==0.1.7) (2.18.2)\n",
      "Requirement already satisfied: six>=1.5 in /home/vitali/Documents/llama_index/venv/lib/python3.11/site-packages (from python-dateutil>=2.8.2->pandas->llama-index-core<0.11.0,>=0.10.0->llama-index-llms-mymagic==0.1.7) (1.16.0)\n",
      "Building wheels for collected packages: llama-index-llms-mymagic\n",
      "  Building editable for llama-index-llms-mymagic (pyproject.toml) ... \u001b[?25ldone\n",
      "\u001b[?25h  Created wheel for llama-index-llms-mymagic: filename=llama_index_llms_mymagic-0.1.7-py3-none-any.whl size=1330 sha256=983ba93a523dc1165175bdfed72ee4792775d8a1bf9a22dc852e36a688200785\n",
      "  Stored in directory: /tmp/pip-ephem-wheel-cache-64quh3kd/wheels/8e/1e/9c/c70f435a373a532f6249fd0c49e4fe2cb9ea9ea7cf4ac5e1d6\n",
      "Successfully built llama-index-llms-mymagic\n",
      "Installing collected packages: llama-index-llms-mymagic\n",
      "  Attempting uninstall: llama-index-llms-mymagic\n",
      "    Found existing installation: llama-index-llms-mymagic 0.1.7\n",
      "    Uninstalling llama-index-llms-mymagic-0.1.7:\n",
      "      Successfully uninstalled llama-index-llms-mymagic-0.1.7\n",
      "Successfully installed llama-index-llms-mymagic-0.1.7\n",
      "Note: you may need to restart the kernel to use updated packages.\n"
     ]
    }
   ],
   "source": [
    "# %pip install llama-index-llms-mymagic\n",
    "%pip install -e /home/vitali/Documents/llama_index/llama-index-integrations/llms/llama-index-llms-mymagic"
   ]
  },
  {
   "cell_type": "code",
   "execution_count": null,
   "metadata": {},
   "outputs": [],
   "source": [
    "!pip install llama-index"
   ]
  },
  {
   "cell_type": "code",
   "execution_count": 2,
   "metadata": {},
   "outputs": [],
   "source": [
    "from llama_index.llms.mymagic import MyMagicAI"
   ]
  },
  {
   "cell_type": "code",
   "execution_count": 3,
   "metadata": {},
   "outputs": [],
   "source": [
    "llm = MyMagicAI(\n",
    "    api_key=\"test______________________Vitai\",\n",
    "    storage_provider=\"gcs\",  # s3, gcs\n",
    "    bucket_name=\"test-mymagic-2\",\n",
    "    session=\"simple-session\",  # files should be located in this folder on which batch inference will be run\n",
    "    # role_arn=\"arn:aws:iam::058264432731:role/mymagic-role\",\n",
    "    system_prompt=\"You are a helpful AI assistant\",\n",
    "    # region=\"eu-west-2\",\n",
    "    return_output=False,  # Whether you want MyMagic API to return the output json\n",
    "    input_json_file=\"reviews_1_4.json\",  # name of the input file (stored on the bucket)\n",
    "    structured_output=None,  # json schema of the output\n",
    ")"
   ]
  },
  {
   "cell_type": "markdown",
   "metadata": {},
   "source": [
    "Note: if return_output is set True above, max_tokens should be set to atleast 100 "
   ]
  },
  {
   "cell_type": "code",
   "execution_count": 5,
   "metadata": {},
   "outputs": [],
   "source": [
    "resp = llm.complete(\n",
    "    question=\"Describe what this is about in a few words\",\n",
    "    model=\"mixtral8x7\",  # currently we support mistral7b, llama7b, mixtral8x7b, codellama70b, llama70b, more to come...\n",
    "    max_tokens=100,  # number of tokens to generate, default is 10\n",
    ")"
   ]
  },
  {
   "cell_type": "code",
   "execution_count": null,
   "metadata": {},
   "outputs": [],
   "source": [
    "# The response indicated that the final output is stored in your bucket or raises an exception if the job failed\n",
    "print(resp)"
   ]
  },
  {
   "cell_type": "markdown",
   "metadata": {},
   "source": [
    "## Asynchronous Requests by using `acomplete` endpoint\n",
    "For asynchronous operations, use the following approach."
   ]
  },
  {
   "cell_type": "code",
   "execution_count": null,
   "metadata": {},
   "outputs": [],
   "source": [
    "import asyncio"
   ]
  },
  {
   "cell_type": "code",
   "execution_count": null,
   "metadata": {},
   "outputs": [],
   "source": [
    "async def main():\n",
    "    response = await llm.acomplete(\n",
    "        question=\"Describe what this is about in a few words\",\n",
    "        model=\"mixtral8x7\",  # currently we support mistral7b, llama7b, mixtral8x7,codellama70b, llama70b, more to come...\n",
    "        max_tokens=100,  # number of tokens to generate, default is 10\n",
    "    )\n",
    "\n",
    "    print(\"Async completion response:\", response)"
   ]
  },
  {
   "cell_type": "code",
   "execution_count": null,
   "metadata": {},
   "outputs": [],
   "source": [
    "await main()"
   ]
  }
 ],
 "metadata": {
  "kernelspec": {
   "display_name": "llama-index-dKXgjzWQ-py3.11",
   "language": "python",
   "name": "python3"
  },
  "language_info": {
   "codemirror_mode": {
    "name": "ipython",
    "version": 3
   },
   "file_extension": ".py",
   "mimetype": "text/x-python",
   "name": "python",
   "nbconvert_exporter": "python",
   "pygments_lexer": "ipython3",
   "version": "3.11.8"
  }
 },
 "nbformat": 4,
 "nbformat_minor": 2
}
