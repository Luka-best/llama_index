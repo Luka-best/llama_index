{
 "cells": [
  {
   "cell_type": "markdown",
   "id": "d1569ee221ea8a3f",
   "metadata": {},
   "source": [
    "<a target=\"_blank\" href=\"https://colab.research.google.com/github/https://colab.research.google.com/github/run-llama/llama_index/blob/main/docs/docs/examples/llm/deepinfra.ipynb\">\n",
    "  <img src=\"https://colab.research.google.com/assets/colab-badge.svg\" alt=\"Open In Colab\"/>\n",
    "</a>"
   ]
  },
  {
   "cell_type": "markdown",
   "id": "9e3a8796-edc8-43f2-94ad-fe4fb20d70ed",
   "metadata": {},
   "source": [
    "# DeepInfra\n",
    "This notebook demonstrates how to use the LlamaIndex DeepInfra LLM.\n",
    "It covers the following scenarios:\n",
    "- Completion methods\n",
    "- Chat methods\n",
    "- Asynchronous completion methods\n",
    "- Asynchronous chat methods\n",
    "\n",
    "Check out available LLM models at [DeepInfra](https://deepinfra.com./models/text-generation)"
   ]
  },
  {
   "attachments": {},
   "cell_type": "markdown",
   "id": "1f1b7133",
   "metadata": {},
   "source": [
    "If you're opening this Notebook on colab, you will probably need to install LlamaIndex 🦙."
   ]
  },
  {
   "cell_type": "code",
   "execution_count": null,
   "id": "f7b27c9f",
   "metadata": {},
   "outputs": [
    {
     "name": "stdout",
     "output_type": "stream",
     "text": [
      "\u001b[31mERROR: Could not find a version that satisfies the requirement llama-index-llms-deepinfra (from versions: none)\u001b[0m\u001b[31m\r\n",
      "\u001b[0m\u001b[31mERROR: No matching distribution found for llama-index-llms-deepinfra\u001b[0m\u001b[31m\r\n",
      "\u001b[0m\r\n",
      "\u001b[1m[\u001b[0m\u001b[34;49mnotice\u001b[0m\u001b[1;39;49m]\u001b[0m\u001b[39;49m A new release of pip is available: \u001b[0m\u001b[31;49m23.3.1\u001b[0m\u001b[39;49m -> \u001b[0m\u001b[32;49m24.0\u001b[0m\r\n",
      "\u001b[1m[\u001b[0m\u001b[34;49mnotice\u001b[0m\u001b[1;39;49m]\u001b[0m\u001b[39;49m To update, run: \u001b[0m\u001b[32;49mpython3.10 -m pip install --upgrade pip\u001b[0m\r\n",
      "Note: you may need to restart the kernel to use updated packages.\n"
     ]
    }
   ],
   "source": [
    "%pip install llama-index-llms-deepinfra"
   ]
  },
  {
   "cell_type": "code",
   "execution_count": null,
   "id": "afb8de1e",
   "metadata": {},
   "outputs": [
    {
     "name": "stdout",
     "output_type": "stream",
     "text": [
      "Requirement already satisfied: llama-index in /opt/homebrew/lib/python3.10/site-packages (0.10.34)\r\n",
      "Requirement already satisfied: llama-index-agent-openai<0.3.0,>=0.1.4 in /opt/homebrew/lib/python3.10/site-packages (from llama-index) (0.2.3)\r\n",
      "Requirement already satisfied: llama-index-cli<0.2.0,>=0.1.2 in /opt/homebrew/lib/python3.10/site-packages (from llama-index) (0.1.12)\r\n",
      "Requirement already satisfied: llama-index-core<0.11.0,>=0.10.34 in /opt/homebrew/lib/python3.10/site-packages (from llama-index) (0.10.34)\r\n",
      "Requirement already satisfied: llama-index-embeddings-openai<0.2.0,>=0.1.5 in /opt/homebrew/lib/python3.10/site-packages (from llama-index) (0.1.9)\r\n",
      "Requirement already satisfied: llama-index-indices-managed-llama-cloud<0.2.0,>=0.1.2 in /opt/homebrew/lib/python3.10/site-packages (from llama-index) (0.1.6)\r\n",
      "Requirement already satisfied: llama-index-legacy<0.10.0,>=0.9.48 in /opt/homebrew/lib/python3.10/site-packages (from llama-index) (0.9.48)\r\n",
      "Requirement already satisfied: llama-index-llms-openai<0.2.0,>=0.1.13 in /opt/homebrew/lib/python3.10/site-packages (from llama-index) (0.1.16)\r\n",
      "Requirement already satisfied: llama-index-multi-modal-llms-openai<0.2.0,>=0.1.3 in /opt/homebrew/lib/python3.10/site-packages (from llama-index) (0.1.5)\r\n",
      "Requirement already satisfied: llama-index-program-openai<0.2.0,>=0.1.3 in /opt/homebrew/lib/python3.10/site-packages (from llama-index) (0.1.6)\r\n",
      "Requirement already satisfied: llama-index-question-gen-openai<0.2.0,>=0.1.2 in /opt/homebrew/lib/python3.10/site-packages (from llama-index) (0.1.3)\r\n",
      "Requirement already satisfied: llama-index-readers-file<0.2.0,>=0.1.4 in /opt/homebrew/lib/python3.10/site-packages (from llama-index) (0.1.20)\r\n",
      "Requirement already satisfied: llama-index-readers-llama-parse<0.2.0,>=0.1.2 in /opt/homebrew/lib/python3.10/site-packages (from llama-index) (0.1.4)\r\n",
      "Requirement already satisfied: openai>=1.14.0 in /opt/homebrew/lib/python3.10/site-packages (from llama-index-agent-openai<0.3.0,>=0.1.4->llama-index) (1.25.1)\r\n",
      "Requirement already satisfied: PyYAML>=6.0.1 in /opt/homebrew/lib/python3.10/site-packages (from llama-index-core<0.11.0,>=0.10.34->llama-index) (6.0.1)\r\n",
      "Requirement already satisfied: SQLAlchemy>=1.4.49 in /opt/homebrew/lib/python3.10/site-packages (from SQLAlchemy[asyncio]>=1.4.49->llama-index-core<0.11.0,>=0.10.34->llama-index) (2.0.15)\r\n",
      "Requirement already satisfied: aiohttp<4.0.0,>=3.8.6 in /opt/homebrew/lib/python3.10/site-packages (from llama-index-core<0.11.0,>=0.10.34->llama-index) (3.9.5)\r\n",
      "Requirement already satisfied: dataclasses-json in /opt/homebrew/lib/python3.10/site-packages (from llama-index-core<0.11.0,>=0.10.34->llama-index) (0.5.7)\r\n",
      "Requirement already satisfied: deprecated>=1.2.9.3 in /opt/homebrew/lib/python3.10/site-packages (from llama-index-core<0.11.0,>=0.10.34->llama-index) (1.2.14)\r\n",
      "Requirement already satisfied: dirtyjson<2.0.0,>=1.0.8 in /opt/homebrew/lib/python3.10/site-packages (from llama-index-core<0.11.0,>=0.10.34->llama-index) (1.0.8)\r\n",
      "Requirement already satisfied: fsspec>=2023.5.0 in /opt/homebrew/lib/python3.10/site-packages (from llama-index-core<0.11.0,>=0.10.34->llama-index) (2024.3.1)\r\n",
      "Requirement already satisfied: httpx in /opt/homebrew/lib/python3.10/site-packages (from llama-index-core<0.11.0,>=0.10.34->llama-index) (0.24.0)\r\n",
      "Requirement already satisfied: llamaindex-py-client<0.2.0,>=0.1.18 in /opt/homebrew/lib/python3.10/site-packages (from llama-index-core<0.11.0,>=0.10.34->llama-index) (0.1.19)\r\n",
      "Requirement already satisfied: nest-asyncio<2.0.0,>=1.5.8 in /opt/homebrew/lib/python3.10/site-packages (from llama-index-core<0.11.0,>=0.10.34->llama-index) (1.6.0)\r\n",
      "Requirement already satisfied: networkx>=3.0 in /opt/homebrew/lib/python3.10/site-packages (from llama-index-core<0.11.0,>=0.10.34->llama-index) (3.3)\r\n",
      "Requirement already satisfied: nltk<4.0.0,>=3.8.1 in /opt/homebrew/lib/python3.10/site-packages (from llama-index-core<0.11.0,>=0.10.34->llama-index) (3.8.1)\r\n",
      "Requirement already satisfied: numpy in /opt/homebrew/lib/python3.10/site-packages (from llama-index-core<0.11.0,>=0.10.34->llama-index) (1.24.2)\r\n",
      "Requirement already satisfied: pandas in /opt/homebrew/lib/python3.10/site-packages (from llama-index-core<0.11.0,>=0.10.34->llama-index) (1.3.3)\r\n",
      "Requirement already satisfied: pillow>=9.0.0 in /opt/homebrew/lib/python3.10/site-packages (from llama-index-core<0.11.0,>=0.10.34->llama-index) (9.3.0)\r\n",
      "Requirement already satisfied: requests>=2.31.0 in /opt/homebrew/lib/python3.10/site-packages (from llama-index-core<0.11.0,>=0.10.34->llama-index) (2.31.0)\r\n",
      "Requirement already satisfied: tenacity<9.0.0,>=8.2.0 in /opt/homebrew/lib/python3.10/site-packages (from llama-index-core<0.11.0,>=0.10.34->llama-index) (8.2.2)\r\n",
      "Requirement already satisfied: tiktoken>=0.3.3 in /opt/homebrew/lib/python3.10/site-packages (from llama-index-core<0.11.0,>=0.10.34->llama-index) (0.3.3)\r\n",
      "Requirement already satisfied: tqdm<5.0.0,>=4.66.1 in /opt/homebrew/lib/python3.10/site-packages (from llama-index-core<0.11.0,>=0.10.34->llama-index) (4.66.4)\r\n",
      "Requirement already satisfied: typing-extensions>=4.5.0 in /opt/homebrew/lib/python3.10/site-packages (from llama-index-core<0.11.0,>=0.10.34->llama-index) (4.11.0)\r\n",
      "Requirement already satisfied: typing-inspect>=0.8.0 in /opt/homebrew/lib/python3.10/site-packages (from llama-index-core<0.11.0,>=0.10.34->llama-index) (0.9.0)\r\n",
      "Requirement already satisfied: wrapt in /opt/homebrew/lib/python3.10/site-packages (from llama-index-core<0.11.0,>=0.10.34->llama-index) (1.14.1)\r\n",
      "Requirement already satisfied: beautifulsoup4<5.0.0,>=4.12.3 in /opt/homebrew/lib/python3.10/site-packages (from llama-index-readers-file<0.2.0,>=0.1.4->llama-index) (4.12.3)\r\n",
      "Requirement already satisfied: pypdf<5.0.0,>=4.0.1 in /opt/homebrew/lib/python3.10/site-packages (from llama-index-readers-file<0.2.0,>=0.1.4->llama-index) (4.2.0)\r\n",
      "Requirement already satisfied: striprtf<0.0.27,>=0.0.26 in /opt/homebrew/lib/python3.10/site-packages (from llama-index-readers-file<0.2.0,>=0.1.4->llama-index) (0.0.26)\r\n",
      "Requirement already satisfied: llama-parse<0.5.0,>=0.4.0 in /opt/homebrew/lib/python3.10/site-packages (from llama-index-readers-llama-parse<0.2.0,>=0.1.2->llama-index) (0.4.2)\r\n",
      "Requirement already satisfied: aiosignal>=1.1.2 in /opt/homebrew/lib/python3.10/site-packages (from aiohttp<4.0.0,>=3.8.6->llama-index-core<0.11.0,>=0.10.34->llama-index) (1.3.1)\r\n",
      "Requirement already satisfied: attrs>=17.3.0 in /opt/homebrew/lib/python3.10/site-packages (from aiohttp<4.0.0,>=3.8.6->llama-index-core<0.11.0,>=0.10.34->llama-index) (23.1.0)\r\n",
      "Requirement already satisfied: frozenlist>=1.1.1 in /opt/homebrew/lib/python3.10/site-packages (from aiohttp<4.0.0,>=3.8.6->llama-index-core<0.11.0,>=0.10.34->llama-index) (1.3.3)\r\n",
      "Requirement already satisfied: multidict<7.0,>=4.5 in /opt/homebrew/lib/python3.10/site-packages (from aiohttp<4.0.0,>=3.8.6->llama-index-core<0.11.0,>=0.10.34->llama-index) (6.0.4)\r\n",
      "Requirement already satisfied: yarl<2.0,>=1.0 in /opt/homebrew/lib/python3.10/site-packages (from aiohttp<4.0.0,>=3.8.6->llama-index-core<0.11.0,>=0.10.34->llama-index) (1.9.2)\r\n",
      "Requirement already satisfied: async-timeout<5.0,>=4.0 in /opt/homebrew/lib/python3.10/site-packages (from aiohttp<4.0.0,>=3.8.6->llama-index-core<0.11.0,>=0.10.34->llama-index) (4.0.2)\r\n",
      "Requirement already satisfied: soupsieve>1.2 in /opt/homebrew/lib/python3.10/site-packages (from beautifulsoup4<5.0.0,>=4.12.3->llama-index-readers-file<0.2.0,>=0.1.4->llama-index) (2.3.2.post1)\r\n",
      "Requirement already satisfied: pydantic>=1.10 in /opt/homebrew/lib/python3.10/site-packages (from llamaindex-py-client<0.2.0,>=0.1.18->llama-index-core<0.11.0,>=0.10.34->llama-index) (2.7.1)\r\n",
      "Requirement already satisfied: certifi in /opt/homebrew/lib/python3.10/site-packages (from httpx->llama-index-core<0.11.0,>=0.10.34->llama-index) (2023.5.7)\r\n",
      "Requirement already satisfied: httpcore<0.18.0,>=0.15.0 in /opt/homebrew/lib/python3.10/site-packages (from httpx->llama-index-core<0.11.0,>=0.10.34->llama-index) (0.17.0)\r\n",
      "Requirement already satisfied: idna in /opt/homebrew/lib/python3.10/site-packages (from httpx->llama-index-core<0.11.0,>=0.10.34->llama-index) (3.4)\r\n",
      "Requirement already satisfied: sniffio in /opt/homebrew/lib/python3.10/site-packages (from httpx->llama-index-core<0.11.0,>=0.10.34->llama-index) (1.2.0)\r\n",
      "Requirement already satisfied: click in /opt/homebrew/lib/python3.10/site-packages (from nltk<4.0.0,>=3.8.1->llama-index-core<0.11.0,>=0.10.34->llama-index) (8.1.3)\r\n",
      "Requirement already satisfied: joblib in /opt/homebrew/lib/python3.10/site-packages (from nltk<4.0.0,>=3.8.1->llama-index-core<0.11.0,>=0.10.34->llama-index) (1.1.0)\r\n",
      "Requirement already satisfied: regex>=2021.8.3 in /opt/homebrew/lib/python3.10/site-packages (from nltk<4.0.0,>=3.8.1->llama-index-core<0.11.0,>=0.10.34->llama-index) (2022.8.17)\r\n",
      "Requirement already satisfied: anyio<5,>=3.5.0 in /opt/homebrew/lib/python3.10/site-packages (from openai>=1.14.0->llama-index-agent-openai<0.3.0,>=0.1.4->llama-index) (3.6.1)\r\n",
      "Requirement already satisfied: distro<2,>=1.7.0 in /opt/homebrew/lib/python3.10/site-packages (from openai>=1.14.0->llama-index-agent-openai<0.3.0,>=0.1.4->llama-index) (1.9.0)\r\n",
      "Requirement already satisfied: charset-normalizer<4,>=2 in /opt/homebrew/lib/python3.10/site-packages (from requests>=2.31.0->llama-index-core<0.11.0,>=0.10.34->llama-index) (3.1.0)\r\n",
      "Requirement already satisfied: urllib3<3,>=1.21.1 in /opt/homebrew/lib/python3.10/site-packages (from requests>=2.31.0->llama-index-core<0.11.0,>=0.10.34->llama-index) (1.26.16)\r\n",
      "Requirement already satisfied: greenlet!=0.4.17 in /opt/homebrew/lib/python3.10/site-packages (from SQLAlchemy[asyncio]>=1.4.49->llama-index-core<0.11.0,>=0.10.34->llama-index) (3.0.3)\r\n",
      "Requirement already satisfied: mypy-extensions>=0.3.0 in /opt/homebrew/lib/python3.10/site-packages (from typing-inspect>=0.8.0->llama-index-core<0.11.0,>=0.10.34->llama-index) (1.0.0)\r\n",
      "Requirement already satisfied: marshmallow<4.0.0,>=3.3.0 in /opt/homebrew/lib/python3.10/site-packages (from dataclasses-json->llama-index-core<0.11.0,>=0.10.34->llama-index) (3.19.0)\r\n",
      "Requirement already satisfied: marshmallow-enum<2.0.0,>=1.5.1 in /opt/homebrew/lib/python3.10/site-packages (from dataclasses-json->llama-index-core<0.11.0,>=0.10.34->llama-index) (1.5.1)\r\n",
      "Requirement already satisfied: python-dateutil>=2.7.3 in /opt/homebrew/lib/python3.10/site-packages (from pandas->llama-index-core<0.11.0,>=0.10.34->llama-index) (2.8.2)\r\n",
      "Requirement already satisfied: pytz>=2017.3 in /opt/homebrew/lib/python3.10/site-packages (from pandas->llama-index-core<0.11.0,>=0.10.34->llama-index) (2023.3)\r\n",
      "Requirement already satisfied: h11<0.15,>=0.13 in /opt/homebrew/lib/python3.10/site-packages (from httpcore<0.18.0,>=0.15.0->httpx->llama-index-core<0.11.0,>=0.10.34->llama-index) (0.14.0)\r\n",
      "Requirement already satisfied: packaging>=17.0 in /opt/homebrew/lib/python3.10/site-packages (from marshmallow<4.0.0,>=3.3.0->dataclasses-json->llama-index-core<0.11.0,>=0.10.34->llama-index) (23.1)\r\n",
      "Requirement already satisfied: annotated-types>=0.4.0 in /opt/homebrew/lib/python3.10/site-packages (from pydantic>=1.10->llamaindex-py-client<0.2.0,>=0.1.18->llama-index-core<0.11.0,>=0.10.34->llama-index) (0.6.0)\r\n",
      "Requirement already satisfied: pydantic-core==2.18.2 in /opt/homebrew/lib/python3.10/site-packages (from pydantic>=1.10->llamaindex-py-client<0.2.0,>=0.1.18->llama-index-core<0.11.0,>=0.10.34->llama-index) (2.18.2)\r\n",
      "Requirement already satisfied: six>=1.5 in /opt/homebrew/lib/python3.10/site-packages (from python-dateutil>=2.7.3->pandas->llama-index-core<0.11.0,>=0.10.34->llama-index) (1.16.0)\r\n",
      "\u001b[33mDEPRECATION: pytorch-lightning 1.7.7 has a non-standard dependency specifier torch>=1.9.*. pip 24.0 will enforce this behaviour change. A possible replacement is to upgrade to a newer version of pytorch-lightning or contact the author to suggest that they release a version with a conforming dependency specifiers. Discussion can be found at https://github.com/pypa/pip/issues/12063\u001b[0m\u001b[33m\r\n",
      "\u001b[0m\r\n",
      "\u001b[1m[\u001b[0m\u001b[34;49mnotice\u001b[0m\u001b[1;39;49m]\u001b[0m\u001b[39;49m A new release of pip is available: \u001b[0m\u001b[31;49m23.3.1\u001b[0m\u001b[39;49m -> \u001b[0m\u001b[32;49m24.0\u001b[0m\r\n",
      "\u001b[1m[\u001b[0m\u001b[34;49mnotice\u001b[0m\u001b[1;39;49m]\u001b[0m\u001b[39;49m To update, run: \u001b[0m\u001b[32;49mpython3.10 -m pip install --upgrade pip\u001b[0m\r\n"
     ]
    }
   ],
   "source": [
    "!pip install llama-index"
   ]
  },
  {
   "cell_type": "code",
   "execution_count": null,
   "id": "60be18ae-c957-4ac2-a58a-0652e18ee6d6",
   "metadata": {},
   "outputs": [
    {
     "ename": "ModuleNotFoundError",
     "evalue": "No module named 'llama_index.llms.deepinfra'",
     "output_type": "error",
     "traceback": [
      "\u001b[0;31m---------------------------------------------------------------------------\u001b[0m",
      "\u001b[0;31mModuleNotFoundError\u001b[0m                       Traceback (most recent call last)",
      "Cell \u001b[0;32mIn[5], line 1\u001b[0m\n\u001b[0;32m----> 1\u001b[0m \u001b[38;5;28;01mfrom\u001b[39;00m \u001b[38;5;21;01mllama_index\u001b[39;00m\u001b[38;5;21;01m.\u001b[39;00m\u001b[38;5;21;01mllms\u001b[39;00m\u001b[38;5;21;01m.\u001b[39;00m\u001b[38;5;21;01mdeepinfra\u001b[39;00m \u001b[38;5;28;01mimport\u001b[39;00m DeepInfraLLM\n\u001b[1;32m      3\u001b[0m api_key \u001b[38;5;241m=\u001b[39m \u001b[38;5;124m\"\u001b[39m\u001b[38;5;124mDEEPINFRA_API_KEY\u001b[39m\u001b[38;5;124m\"\u001b[39m\n\u001b[1;32m      4\u001b[0m DeepInfraLLM(api_key\u001b[38;5;241m=\u001b[39mapi_key)\u001b[38;5;241m.\u001b[39mcomplete(\u001b[38;5;124m\"\u001b[39m\u001b[38;5;124mHello, world!\u001b[39m\u001b[38;5;124m\"\u001b[39m)\n",
      "\u001b[0;31mModuleNotFoundError\u001b[0m: No module named 'llama_index.llms.deepinfra'"
     ]
    }
   ],
   "source": [
    "from llama_index.llms.deepinfra import DeepInfraLLM\n",
    "from llama_index.core.base.llms.types import ChatMessage, MessageRole\n",
    "\n",
    "api_key = \"DEEPINFRA_API_KEY\"\n",
    "DeepInfraLLM(api_key=api_key).complete(\"Hello, world!\")"
   ]
  },
  {
   "cell_type": "markdown",
   "id": "009d3f1c-ef35-4126-ae82-0b97adb746e3",
   "metadata": {},
   "source": [
    "## Configure Model"
   ]
  },
  {
   "cell_type": "code",
   "execution_count": null,
   "id": "e973e3d1-a3c9-43b9-bee1-af3e57946ac3",
   "metadata": {},
   "outputs": [],
   "source": [
    "from llama_index.llms.deepinfra import DeepInfraLLM\n",
    "\n",
    "llm = DeepInfraLLM(\n",
    "    model=\"meta-llama/Meta-Llama-3-8B-Instruct\", api_key=api_key\n",
    ")"
   ]
  },
  {
   "cell_type": "code",
   "execution_count": null,
   "id": "2edc85ca-df17-4774-a3ea-e80109fa1811",
   "metadata": {},
   "outputs": [],
   "source": [
    "llm.complete(\"Hello, world!\")"
   ]
  },
  {
   "cell_type": "markdown",
   "id": "df5fa1ab-f598-46da-80f3-f6af5dd2fe83",
   "metadata": {},
   "source": [
    "## Async completion"
   ]
  },
  {
   "cell_type": "code",
   "execution_count": null,
   "id": "3e088b90-12b6-4211-a9ca-696e9897e9ae",
   "metadata": {},
   "outputs": [],
   "source": [
    "await llm.acomplete(\"Hello, world!\")"
   ]
  },
  {
   "cell_type": "markdown",
   "id": "655ca7789b7a319e",
   "metadata": {},
   "source": [
    "# Chat "
   ]
  },
  {
   "cell_type": "code",
   "execution_count": null,
   "id": "747ea8e56c915492",
   "metadata": {},
   "outputs": [],
   "source": [
    "chat_messages = [\n",
    "    ChatMessage(role=MessageRole.USER, content=\"Are you there?\"),\n",
    "    ChatMessage(\n",
    "        role=MessageRole.ASSISTANT,\n",
    "        content=\"Yes, I'm here. How can I help you?\",\n",
    "    ),\n",
    "    ChatMessage(\n",
    "        role=MessageRole.USER, content=\"Where is the nearest coffee shop?\"\n",
    "    ),\n",
    "]"
   ]
  },
  {
   "cell_type": "code",
   "execution_count": null,
   "id": "9230934ecd43282a",
   "metadata": {},
   "outputs": [],
   "source": [
    "llm.chat(chat_messages)"
   ]
  },
  {
   "cell_type": "markdown",
   "id": "6b7405b232f9ef55",
   "metadata": {},
   "source": [
    "# Async chat"
   ]
  },
  {
   "cell_type": "code",
   "execution_count": null,
   "id": "99953789c1a18df2",
   "metadata": {},
   "outputs": [],
   "source": [
    "await llm.achat(chat_messages)"
   ]
  }
 ],
 "metadata": {
  "kernelspec": {
   "display_name": "Python 3 (ipykernel)",
   "language": "python",
   "name": "python3"
  },
  "language_info": {
   "codemirror_mode": {
    "name": "ipython",
    "version": 3
   },
   "file_extension": ".py",
   "mimetype": "text/x-python",
   "name": "python",
   "nbconvert_exporter": "python",
   "pygments_lexer": "ipython3"
  }
 },
 "nbformat": 4,
 "nbformat_minor": 5
}
