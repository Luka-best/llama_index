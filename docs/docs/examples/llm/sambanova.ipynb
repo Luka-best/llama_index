{
 "cells": [
  {
   "cell_type": "markdown",
   "metadata": {},
   "source": [
    "# SambaNova Cloud\n",
    "\n",
    "This will help you getting started with **[SambaNova](https://sambanova.ai/)'s** [SambaNova Cloud](https://cloud.sambanova.ai/), which is a platform for performing inference with open-source models.\n",
    "\n",
    "## Setup\n",
    "\n",
    "To access SambaNova Cloud model you will need to create a [SambaNovaCloud](https://cloud.sambanova.ai/) account, get an API key, install the `llama-index-llms-sambanova` integration package, and install the `SSEClient` Package.\n",
    "\n",
    "```bash\n",
    "pip install llama-index-llms-sambanova\n",
    "pip install sseclient-py\n",
    "```\n",
    "\n",
    "### Credentials\n",
    "\n",
    "Get an API Key from [cloud.sambanova.ai](https://cloud.sambanova.ai/apis) and add it to your environment variables:\n",
    "\n",
    "``` bash\n",
    "export SAMBANOVA_API_KEY=\"your-api-key-here\"\n",
    "```"
   ]
  },
  {
   "cell_type": "code",
   "execution_count": null,
   "metadata": {},
   "outputs": [],
   "source": [
    "import getpass\n",
    "import os\n",
    "\n",
    "if not os.getenv(\"SAMBANOVA_API_KEY\"):\n",
    "    os.environ[\"SAMBANOVA_API_KEY\"] = getpass.getpass(\n",
    "        \"Enter your SambaNova Cloud API key: \"\n",
    "    )"
   ]
  },
  {
   "cell_type": "markdown",
   "metadata": {},
   "source": [
    "### Installation\n",
    "\n",
    "The Llama-Index __SambaNovaCloud__ integration lives in the `langchain-index-integrations` package, and it can be installed with the following commands:"
   ]
  },
  {
   "cell_type": "code",
   "execution_count": null,
   "metadata": {},
   "outputs": [],
   "source": [
    "%pip install \"llama-index-llms-sambanova>=0.3\"\n",
    "%pip install sseclient-py"
   ]
  },
  {
   "cell_type": "markdown",
   "metadata": {},
   "source": [
    "## Instantiation\n",
    "\n",
    "Now we can instantiate our model object and generate chat completions:"
   ]
  },
  {
   "cell_type": "code",
   "execution_count": null,
   "metadata": {},
   "outputs": [],
   "source": [
    "from llama_index.llms.sambanova import SambaNovaCloud\n",
    "\n",
    "llm = SambaNovaCloud(\n",
    "    model=\"Meta-Llama-3.1-70B-Instruct\",\n",
    "    max_tokens=1024,\n",
    "    temperature=0.7,\n",
    "    top_k=1,\n",
    "    top_p=0.01,\n",
    ")"
   ]
  },
  {
   "cell_type": "markdown",
   "metadata": {},
   "source": [
    "## Invocation\n",
    "\n",
    "Given the following system and user messages, let's explore different ways of calling a SambaNova Cloud model. "
   ]
  },
  {
   "cell_type": "code",
   "execution_count": null,
   "metadata": {},
   "outputs": [],
   "source": [
    "from llama_index.core.base.llms.types import (\n",
    "    ChatMessage,\n",
    "    MessageRole,\n",
    ")\n",
    "\n",
    "system_msg = ChatMessage(\n",
    "    role=MessageRole.SYSTEM,\n",
    "    content=\"You are a helpful assistant that translates English to French. Translate the user sentence.\",\n",
    ")\n",
    "user_msg = ChatMessage(role=MessageRole.USER, content=\"I love programming.\")\n",
    "\n",
    "messages = [\n",
    "    system_msg,\n",
    "    user_msg,\n",
    "]"
   ]
  },
  {
   "cell_type": "markdown",
   "metadata": {},
   "source": [
    "### Chat"
   ]
  },
  {
   "cell_type": "code",
   "execution_count": null,
   "metadata": {},
   "outputs": [
    {
     "data": {
      "text/plain": [
       "ChatMessage(role=<MessageRole.ASSISTANT: 'assistant'>, content=\"J'adore la programmation.\", additional_kwargs={'id': 'b171e958-d83c-4afc-b57a-aefc724ccd08', 'finish_reason': 'stop', 'usage': {'acceptance_rate': 7, 'completion_tokens': 8, 'completion_tokens_after_first_per_sec': 194.3169682449336, 'completion_tokens_after_first_per_sec_first_ten': 617.3930816948796, 'completion_tokens_per_sec': 53.096356310081546, 'end_time': 1730485767.645042, 'is_last_response': True, 'prompt_tokens': 55, 'start_time': 1730485767.4713066, 'time_to_first_token': 0.137711763381958, 'total_latency': 0.1506694725581578, 'total_tokens': 63, 'total_tokens_per_sec': 418.13380594189215}, 'model_name': 'Meta-Llama-3.1-70B-Instruct', 'system_fingerprint': 'fastcoe', 'created': 1730485767})"
      ]
     },
     "execution_count": null,
     "metadata": {},
     "output_type": "execute_result"
    }
   ],
   "source": [
    "ai_msg = llm.chat(messages)\n",
    "ai_msg.message"
   ]
  },
  {
   "cell_type": "code",
   "execution_count": null,
   "metadata": {},
   "outputs": [
    {
     "name": "stdout",
     "output_type": "stream",
     "text": [
      "J'adore la programmation.\n"
     ]
    }
   ],
   "source": [
    "print(ai_msg.message.content)"
   ]
  },
  {
   "cell_type": "markdown",
   "metadata": {},
   "source": [
    "### Complete"
   ]
  },
  {
   "cell_type": "code",
   "execution_count": null,
   "metadata": {},
   "outputs": [
    {
     "data": {
      "text/plain": [
       "CompletionResponse(text='Programming can be a fun and rewarding hobby, as well as a challenging and lucrative career. What kind of programming do you enjoy most? Are you more into web development, mobile app development, game development, or something else?', additional_kwargs={'id': 'e5121301-5246-4c01-a720-5c2306a268b1', 'finish_reason': 'stop', 'usage': {'acceptance_rate': 5.666666666666667, 'completion_tokens': 45, 'completion_tokens_after_first_per_sec': 382.1143303193373, 'completion_tokens_after_first_per_sec_first_ten': 502.6854618966545, 'completion_tokens_per_sec': 198.68200517305698, 'end_time': 1730485768.5746315, 'is_last_response': True, 'prompt_tokens': 39, 'start_time': 1730485768.3225093, 'time_to_first_token': 0.13697338104248047, 'total_latency': 0.22649258024552288, 'total_tokens': 84, 'total_tokens_per_sec': 370.8730763230397}, 'model_name': 'Meta-Llama-3.1-70B-Instruct', 'system_fingerprint': 'fastcoe', 'created': 1730485768}, raw=None, logprobs=None, delta=None)"
      ]
     },
     "execution_count": null,
     "metadata": {},
     "output_type": "execute_result"
    }
   ],
   "source": [
    "ai_msg = llm.complete(user_msg.content)\n",
    "ai_msg"
   ]
  },
  {
   "cell_type": "code",
   "execution_count": null,
   "metadata": {},
   "outputs": [
    {
     "name": "stdout",
     "output_type": "stream",
     "text": [
      "Programming can be a fun and rewarding hobby, as well as a challenging and lucrative career. What kind of programming do you enjoy most? Are you more into web development, mobile app development, game development, or something else?\n"
     ]
    }
   ],
   "source": [
    "print(ai_msg.text)"
   ]
  },
  {
   "cell_type": "markdown",
   "metadata": {},
   "source": [
    "## Streaming"
   ]
  },
  {
   "cell_type": "markdown",
   "metadata": {},
   "source": [
    "### Chat"
   ]
  },
  {
   "cell_type": "code",
   "execution_count": null,
   "metadata": {},
   "outputs": [
    {
     "data": {
      "text/plain": [
       "[ChatResponse(message=ChatMessage(role=<MessageRole.ASSISTANT: 'assistant'>, content='', additional_kwargs={'id': '1a559ecf-7996-492b-945b-3d24b496dd84', 'finish_reason': None}), raw={'choices': [{'delta': {'content': '', 'role': 'assistant'}, 'finish_reason': None, 'index': 0, 'logprobs': None}], 'created': 1730485769, 'id': '1a559ecf-7996-492b-945b-3d24b496dd84', 'model': 'Meta-Llama-3.1-70B-Instruct', 'object': 'chat.completion.chunk', 'system_fingerprint': 'fastcoe'}, delta='', logprobs=None, additional_kwargs={}),\n",
       " ChatResponse(message=ChatMessage(role=<MessageRole.ASSISTANT: 'assistant'>, content='', additional_kwargs={'id': '1a559ecf-7996-492b-945b-3d24b496dd84', 'finish_reason': None}), raw={'choices': [{'delta': {'content': '', 'role': 'assistant'}, 'finish_reason': None, 'index': 0, 'logprobs': None}], 'created': 1730485769, 'id': '1a559ecf-7996-492b-945b-3d24b496dd84', 'model': 'Meta-Llama-3.1-70B-Instruct', 'object': 'chat.completion.chunk', 'system_fingerprint': 'fastcoe'}, delta='', logprobs=None, additional_kwargs={}),\n",
       " ChatResponse(message=ChatMessage(role=<MessageRole.ASSISTANT: 'assistant'>, content=\"J'adore \", additional_kwargs={'id': '1a559ecf-7996-492b-945b-3d24b496dd84', 'finish_reason': None}), raw={'choices': [{'delta': {'content': \"J'adore \", 'role': 'assistant'}, 'finish_reason': None, 'index': 0, 'logprobs': None}], 'created': 1730485769, 'id': '1a559ecf-7996-492b-945b-3d24b496dd84', 'model': 'Meta-Llama-3.1-70B-Instruct', 'object': 'chat.completion.chunk', 'system_fingerprint': 'fastcoe'}, delta=\"J'adore \", logprobs=None, additional_kwargs={}),\n",
       " ChatResponse(message=ChatMessage(role=<MessageRole.ASSISTANT: 'assistant'>, content=\"J'adore la programmation.\", additional_kwargs={'id': '1a559ecf-7996-492b-945b-3d24b496dd84', 'finish_reason': None}), raw={'choices': [{'delta': {'content': 'la programmation.', 'role': 'assistant'}, 'finish_reason': None, 'index': 0, 'logprobs': None}], 'created': 1730485769, 'id': '1a559ecf-7996-492b-945b-3d24b496dd84', 'model': 'Meta-Llama-3.1-70B-Instruct', 'object': 'chat.completion.chunk', 'system_fingerprint': 'fastcoe'}, delta='la programmation.', logprobs=None, additional_kwargs={}),\n",
       " ChatResponse(message=ChatMessage(role=<MessageRole.ASSISTANT: 'assistant'>, content=\"J'adore la programmation.\", additional_kwargs={'id': '1a559ecf-7996-492b-945b-3d24b496dd84', 'finish_reason': None}), raw={'choices': [{'delta': {'content': '', 'role': 'assistant'}, 'finish_reason': None, 'index': 0, 'logprobs': None}], 'created': 1730485769, 'id': '1a559ecf-7996-492b-945b-3d24b496dd84', 'model': 'Meta-Llama-3.1-70B-Instruct', 'object': 'chat.completion.chunk', 'system_fingerprint': 'fastcoe'}, delta='', logprobs=None, additional_kwargs={}),\n",
       " ChatResponse(message=ChatMessage(role=<MessageRole.ASSISTANT: 'assistant'>, content=\"J'adore la programmation.\", additional_kwargs={'id': '1a559ecf-7996-492b-945b-3d24b496dd84', 'finish_reason': 'stop'}), raw={'choices': [{'delta': {'content': ''}, 'finish_reason': 'stop', 'index': 0, 'logprobs': None}], 'created': 1730485769, 'id': '1a559ecf-7996-492b-945b-3d24b496dd84', 'model': 'Meta-Llama-3.1-70B-Instruct', 'object': 'chat.completion.chunk', 'system_fingerprint': 'fastcoe'}, delta='', logprobs=None, additional_kwargs={}),\n",
       " ChatResponse(message=ChatMessage(role=<MessageRole.ASSISTANT: 'assistant'>, content=\"J'adore la programmation.\", additional_kwargs={'id': '1a559ecf-7996-492b-945b-3d24b496dd84', 'finish_reason': None, 'usage': {'acceptance_rate': 14, 'completion_tokens': 8, 'completion_tokens_after_first_per_sec': 198.14896201711525, 'completion_tokens_after_first_per_sec_first_ten': 858.3954273685441, 'completion_tokens_per_sec': 34.78348147248639, 'end_time': 1730485769.5280962, 'is_last_response': True, 'prompt_tokens': 55, 'start_time': 1730485769.2720947, 'time_to_first_token': 0.2206745147705078, 'total_latency': 0.22999422890799387, 'total_tokens': 63, 'total_tokens_per_sec': 273.9199165958304}, 'model_name': 'Meta-Llama-3.1-70B-Instruct', 'system_fingerprint': 'fastcoe', 'created': 1730485769}), raw={'choices': [], 'created': 1730485769, 'id': '1a559ecf-7996-492b-945b-3d24b496dd84', 'model': 'Meta-Llama-3.1-70B-Instruct', 'object': 'chat.completion.chunk', 'system_fingerprint': 'fastcoe', 'usage': {'acceptance_rate': 14, 'completion_tokens': 8, 'completion_tokens_after_first_per_sec': 198.14896201711525, 'completion_tokens_after_first_per_sec_first_ten': 858.3954273685441, 'completion_tokens_per_sec': 34.78348147248639, 'end_time': 1730485769.5280962, 'is_last_response': True, 'prompt_tokens': 55, 'start_time': 1730485769.2720947, 'time_to_first_token': 0.2206745147705078, 'total_latency': 0.22999422890799387, 'total_tokens': 63, 'total_tokens_per_sec': 273.9199165958304}}, delta='', logprobs=None, additional_kwargs={})]"
      ]
     },
     "execution_count": null,
     "metadata": {},
     "output_type": "execute_result"
    }
   ],
   "source": [
    "ai_stream_msgs = []\n",
    "for stream in llm.stream_chat(messages):\n",
    "    ai_stream_msgs.append(stream)\n",
    "ai_stream_msgs"
   ]
  },
  {
   "cell_type": "code",
   "execution_count": null,
   "metadata": {},
   "outputs": [
    {
     "name": "stdout",
     "output_type": "stream",
     "text": [
      "assistant: J'adore la programmation.\n"
     ]
    }
   ],
   "source": [
    "print(ai_stream_msgs[-1])"
   ]
  },
  {
   "cell_type": "markdown",
   "metadata": {},
   "source": [
    "### Complete"
   ]
  },
  {
   "cell_type": "code",
   "execution_count": null,
   "metadata": {},
   "outputs": [
    {
     "data": {
      "text/plain": [
       "[CompletionResponse(text='', additional_kwargs={'id': '7730bbef-a8e1-42d7-8a09-b90074184c79', 'finish_reason': None}, raw={'choices': [{'delta': {'content': '', 'role': 'assistant'}, 'finish_reason': None, 'index': 0, 'logprobs': None}], 'created': 1730485770, 'id': '7730bbef-a8e1-42d7-8a09-b90074184c79', 'model': 'Meta-Llama-3.1-70B-Instruct', 'object': 'chat.completion.chunk', 'system_fingerprint': 'fastcoe'}, logprobs=None, delta=''),\n",
       " CompletionResponse(text='Programming can be ', additional_kwargs={'id': '7730bbef-a8e1-42d7-8a09-b90074184c79', 'finish_reason': None}, raw={'choices': [{'delta': {'content': 'Programming can be ', 'role': 'assistant'}, 'finish_reason': None, 'index': 0, 'logprobs': None}], 'created': 1730485770, 'id': '7730bbef-a8e1-42d7-8a09-b90074184c79', 'model': 'Meta-Llama-3.1-70B-Instruct', 'object': 'chat.completion.chunk', 'system_fingerprint': 'fastcoe'}, logprobs=None, delta='Programming can be '),\n",
       " CompletionResponse(text='Programming can be a fun and ', additional_kwargs={'id': '7730bbef-a8e1-42d7-8a09-b90074184c79', 'finish_reason': None}, raw={'choices': [{'delta': {'content': 'a fun and ', 'role': 'assistant'}, 'finish_reason': None, 'index': 0, 'logprobs': None}], 'created': 1730485770, 'id': '7730bbef-a8e1-42d7-8a09-b90074184c79', 'model': 'Meta-Llama-3.1-70B-Instruct', 'object': 'chat.completion.chunk', 'system_fingerprint': 'fastcoe'}, logprobs=None, delta='a fun and '),\n",
       " CompletionResponse(text='Programming can be a fun and rewarding hobby, as well as a challenging and lucrative ', additional_kwargs={'id': '7730bbef-a8e1-42d7-8a09-b90074184c79', 'finish_reason': None}, raw={'choices': [{'delta': {'content': 'rewarding hobby, as well as a challenging and lucrative ', 'role': 'assistant'}, 'finish_reason': None, 'index': 0, 'logprobs': None}], 'created': 1730485770, 'id': '7730bbef-a8e1-42d7-8a09-b90074184c79', 'model': 'Meta-Llama-3.1-70B-Instruct', 'object': 'chat.completion.chunk', 'system_fingerprint': 'fastcoe'}, logprobs=None, delta='rewarding hobby, as well as a challenging and lucrative '),\n",
       " CompletionResponse(text='Programming can be a fun and rewarding hobby, as well as a challenging and lucrative career. What kind of ', additional_kwargs={'id': '7730bbef-a8e1-42d7-8a09-b90074184c79', 'finish_reason': None}, raw={'choices': [{'delta': {'content': 'career. What kind of ', 'role': 'assistant'}, 'finish_reason': None, 'index': 0, 'logprobs': None}], 'created': 1730485770, 'id': '7730bbef-a8e1-42d7-8a09-b90074184c79', 'model': 'Meta-Llama-3.1-70B-Instruct', 'object': 'chat.completion.chunk', 'system_fingerprint': 'fastcoe'}, logprobs=None, delta='career. What kind of '),\n",
       " CompletionResponse(text='Programming can be a fun and rewarding hobby, as well as a challenging and lucrative career. What kind of programming do you ', additional_kwargs={'id': '7730bbef-a8e1-42d7-8a09-b90074184c79', 'finish_reason': None}, raw={'choices': [{'delta': {'content': 'programming do you ', 'role': 'assistant'}, 'finish_reason': None, 'index': 0, 'logprobs': None}], 'created': 1730485770, 'id': '7730bbef-a8e1-42d7-8a09-b90074184c79', 'model': 'Meta-Llama-3.1-70B-Instruct', 'object': 'chat.completion.chunk', 'system_fingerprint': 'fastcoe'}, logprobs=None, delta='programming do you '),\n",
       " CompletionResponse(text='Programming can be a fun and rewarding hobby, as well as a challenging and lucrative career. What kind of programming do you enjoy most? Are ', additional_kwargs={'id': '7730bbef-a8e1-42d7-8a09-b90074184c79', 'finish_reason': None}, raw={'choices': [{'delta': {'content': 'enjoy most? Are ', 'role': 'assistant'}, 'finish_reason': None, 'index': 0, 'logprobs': None}], 'created': 1730485770, 'id': '7730bbef-a8e1-42d7-8a09-b90074184c79', 'model': 'Meta-Llama-3.1-70B-Instruct', 'object': 'chat.completion.chunk', 'system_fingerprint': 'fastcoe'}, logprobs=None, delta='enjoy most? Are '),\n",
       " CompletionResponse(text='Programming can be a fun and rewarding hobby, as well as a challenging and lucrative career. What kind of programming do you enjoy most? Are you more into web development, mobile app development, ', additional_kwargs={'id': '7730bbef-a8e1-42d7-8a09-b90074184c79', 'finish_reason': None}, raw={'choices': [{'delta': {'content': 'you more into web development, mobile app development, ', 'role': 'assistant'}, 'finish_reason': None, 'index': 0, 'logprobs': None}], 'created': 1730485770, 'id': '7730bbef-a8e1-42d7-8a09-b90074184c79', 'model': 'Meta-Llama-3.1-70B-Instruct', 'object': 'chat.completion.chunk', 'system_fingerprint': 'fastcoe'}, logprobs=None, delta='you more into web development, mobile app development, '),\n",
       " CompletionResponse(text='Programming can be a fun and rewarding hobby, as well as a challenging and lucrative career. What kind of programming do you enjoy most? Are you more into web development, mobile app development, game development, or ', additional_kwargs={'id': '7730bbef-a8e1-42d7-8a09-b90074184c79', 'finish_reason': None}, raw={'choices': [{'delta': {'content': 'game development, or ', 'role': 'assistant'}, 'finish_reason': None, 'index': 0, 'logprobs': None}], 'created': 1730485770, 'id': '7730bbef-a8e1-42d7-8a09-b90074184c79', 'model': 'Meta-Llama-3.1-70B-Instruct', 'object': 'chat.completion.chunk', 'system_fingerprint': 'fastcoe'}, logprobs=None, delta='game development, or '),\n",
       " CompletionResponse(text='Programming can be a fun and rewarding hobby, as well as a challenging and lucrative career. What kind of programming do you enjoy most? Are you more into web development, mobile app development, game development, or something else?', additional_kwargs={'id': '7730bbef-a8e1-42d7-8a09-b90074184c79', 'finish_reason': None}, raw={'choices': [{'delta': {'content': 'something else?', 'role': 'assistant'}, 'finish_reason': None, 'index': 0, 'logprobs': None}], 'created': 1730485770, 'id': '7730bbef-a8e1-42d7-8a09-b90074184c79', 'model': 'Meta-Llama-3.1-70B-Instruct', 'object': 'chat.completion.chunk', 'system_fingerprint': 'fastcoe'}, logprobs=None, delta='something else?'),\n",
       " CompletionResponse(text='Programming can be a fun and rewarding hobby, as well as a challenging and lucrative career. What kind of programming do you enjoy most? Are you more into web development, mobile app development, game development, or something else?', additional_kwargs={'id': '7730bbef-a8e1-42d7-8a09-b90074184c79', 'finish_reason': 'stop'}, raw={'choices': [{'delta': {'content': ''}, 'finish_reason': 'stop', 'index': 0, 'logprobs': None}], 'created': 1730485770, 'id': '7730bbef-a8e1-42d7-8a09-b90074184c79', 'model': 'Meta-Llama-3.1-70B-Instruct', 'object': 'chat.completion.chunk', 'system_fingerprint': 'fastcoe'}, logprobs=None, delta=''),\n",
       " CompletionResponse(text='Programming can be a fun and rewarding hobby, as well as a challenging and lucrative career. What kind of programming do you enjoy most? Are you more into web development, mobile app development, game development, or something else?', additional_kwargs={'id': '7730bbef-a8e1-42d7-8a09-b90074184c79', 'finish_reason': None, 'usage': {'acceptance_rate': 6.375, 'completion_tokens': 45, 'completion_tokens_after_first_per_sec': 295.26010495328296, 'completion_tokens_after_first_per_sec_first_ten': 390.29453064560863, 'completion_tokens_per_sec': 136.7998336219567, 'end_time': 1730485770.5843513, 'is_last_response': True, 'prompt_tokens': 39, 'start_time': 1730485770.22168, 'time_to_first_token': 0.21365022659301758, 'total_latency': 0.3289477684918572, 'total_tokens': 84, 'total_tokens_per_sec': 255.35968942765254}, 'model_name': 'Meta-Llama-3.1-70B-Instruct', 'system_fingerprint': 'fastcoe', 'created': 1730485770}, raw={'choices': [], 'created': 1730485770, 'id': '7730bbef-a8e1-42d7-8a09-b90074184c79', 'model': 'Meta-Llama-3.1-70B-Instruct', 'object': 'chat.completion.chunk', 'system_fingerprint': 'fastcoe', 'usage': {'acceptance_rate': 6.375, 'completion_tokens': 45, 'completion_tokens_after_first_per_sec': 295.26010495328296, 'completion_tokens_after_first_per_sec_first_ten': 390.29453064560863, 'completion_tokens_per_sec': 136.7998336219567, 'end_time': 1730485770.5843513, 'is_last_response': True, 'prompt_tokens': 39, 'start_time': 1730485770.22168, 'time_to_first_token': 0.21365022659301758, 'total_latency': 0.3289477684918572, 'total_tokens': 84, 'total_tokens_per_sec': 255.35968942765254}}, logprobs=None, delta='')]"
      ]
     },
     "execution_count": null,
     "metadata": {},
     "output_type": "execute_result"
    }
   ],
   "source": [
    "ai_stream_msgs = []\n",
    "for stream in llm.stream_complete(user_msg.content):\n",
    "    ai_stream_msgs.append(stream)\n",
    "ai_stream_msgs"
   ]
  },
  {
   "cell_type": "code",
   "execution_count": null,
   "metadata": {},
   "outputs": [
    {
     "name": "stdout",
     "output_type": "stream",
     "text": [
      "Programming can be a fun and rewarding hobby, as well as a challenging and lucrative career. What kind of programming do you enjoy most? Are you more into web development, mobile app development, game development, or something else?\n"
     ]
    }
   ],
   "source": [
    "print(ai_stream_msgs[-1])"
   ]
  },
  {
   "cell_type": "markdown",
   "metadata": {},
   "source": [
    "## Async"
   ]
  },
  {
   "cell_type": "markdown",
   "metadata": {},
   "source": [
    "### Chat"
   ]
  },
  {
   "cell_type": "code",
   "execution_count": null,
   "metadata": {},
   "outputs": [
    {
     "data": {
      "text/plain": [
       "ChatResponse(message=ChatMessage(role=<MessageRole.ASSISTANT: 'assistant'>, content=\"J'adore la programmation.\", additional_kwargs={'id': '011712d7-17b8-489b-b91b-5ed37b3df7a4', 'finish_reason': 'stop', 'usage': {'acceptance_rate': 7, 'completion_tokens': 8, 'completion_tokens_after_first_per_sec': 179.02735399212185, 'completion_tokens_after_first_per_sec_first_ten': 570.3432145771009, 'completion_tokens_per_sec': 50.02144003959445, 'end_time': 1730485771.4568532, 'is_last_response': True, 'prompt_tokens': 55, 'start_time': 1730485771.2718482, 'time_to_first_token': 0.1459047794342041, 'total_latency': 0.15993142127990723, 'total_tokens': 63, 'total_tokens_per_sec': 393.9188403118063}, 'model_name': 'Meta-Llama-3.1-70B-Instruct', 'system_fingerprint': 'fastcoe', 'created': 1730485771}), raw=None, delta=None, logprobs=None, additional_kwargs={})"
      ]
     },
     "execution_count": null,
     "metadata": {},
     "output_type": "execute_result"
    }
   ],
   "source": [
    "ai_msg = await llm.achat(messages)\n",
    "ai_msg"
   ]
  },
  {
   "cell_type": "code",
   "execution_count": null,
   "metadata": {},
   "outputs": [
    {
     "name": "stdout",
     "output_type": "stream",
     "text": [
      "J'adore la programmation.\n"
     ]
    }
   ],
   "source": [
    "print(ai_msg.message.content)"
   ]
  },
  {
   "cell_type": "markdown",
   "metadata": {},
   "source": [
    "### Complete"
   ]
  },
  {
   "cell_type": "code",
   "execution_count": null,
   "metadata": {},
   "outputs": [
    {
     "data": {
      "text/plain": [
       "CompletionResponse(text='Programming can be a fun and rewarding hobby, as well as a challenging and lucrative career. What kind of programming do you enjoy most? Are you more into web development, mobile app development, game development, or something else?', additional_kwargs={'id': '2ed0ec89-dfae-4943-8cfd-894fb8014ef4', 'finish_reason': 'stop', 'usage': {'acceptance_rate': 5.666666666666667, 'completion_tokens': 45, 'completion_tokens_after_first_per_sec': 266.1030386748298, 'completion_tokens_after_first_per_sec_first_ten': 347.115940335709, 'completion_tokens_per_sec': 131.3514652662143, 'end_time': 1730485772.5302963, 'is_last_response': True, 'prompt_tokens': 39, 'start_time': 1730485772.1519942, 'time_to_first_token': 0.2129526138305664, 'total_latency': 0.342592295478372, 'total_tokens': 84, 'total_tokens_per_sec': 245.18940183026666}, 'model_name': 'Meta-Llama-3.1-70B-Instruct', 'system_fingerprint': 'fastcoe', 'created': 1730485772}, raw=None, logprobs=None, delta=None)"
      ]
     },
     "execution_count": null,
     "metadata": {},
     "output_type": "execute_result"
    }
   ],
   "source": [
    "ai_msg = await llm.acomplete(user_msg.content)\n",
    "ai_msg"
   ]
  },
  {
   "cell_type": "code",
   "execution_count": null,
   "metadata": {},
   "outputs": [
    {
     "name": "stdout",
     "output_type": "stream",
     "text": [
      "Programming can be a fun and rewarding hobby, as well as a challenging and lucrative career. What kind of programming do you enjoy most? Are you more into web development, mobile app development, game development, or something else?\n"
     ]
    }
   ],
   "source": [
    "print(ai_msg.text)"
   ]
  },
  {
   "cell_type": "markdown",
   "metadata": {},
   "source": [
    "## Async Streaming\n",
    "\n",
    "Not supported yet. Coming soon!"
   ]
  }
 ],
 "metadata": {
  "kernelspec": {
   "display_name": "llamaindex_venv",
   "language": "python",
   "name": "llamaindex_venv"
  },
  "language_info": {
   "codemirror_mode": {
    "name": "ipython",
    "version": 3
   },
   "file_extension": ".py",
   "mimetype": "text/x-python",
   "name": "python",
   "nbconvert_exporter": "python",
   "pygments_lexer": "ipython3"
  }
 },
 "nbformat": 4,
 "nbformat_minor": 2
}
