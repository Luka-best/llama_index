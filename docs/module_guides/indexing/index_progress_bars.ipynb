{
 "cells": [
  {
   "cell_type": "markdown",
   "metadata": {},
   "source": [
    "# Show tqdm progress bars for all primrary index creation operations\n",
    "\n",
    "When creating an index, you can optionally set the `show_progress` flag from the `from_documents` index creation call to see tqdm progress bars for the slowest parts of the indexing process (e.g parsing nodes from a document, creating embeddings...etc.)\n",
    "\n",
    "`KeywordTableIndex.from_documents(documents=documents, show_progress=True)`\n",
    "\n",
    "Install and upgrade `ipywidgets` if the tqdm progress bars don't look like the image above.\n",
    "\n",
    "`pip install ipywidgets --upgrade`\n",
    "\n",
    "`jupyter nbextension enable --py widgetsnbextension`\n",
    "\n",
    "run `jupyter notebook` from the root directory to have access to the `paul_graham` data in the `/examples` folder."
   ]
  },
  {
   "cell_type": "code",
   "execution_count": null,
   "metadata": {},
   "outputs": [],
   "source": [
    "from llama_index import (\n",
    "    VectorStoreIndex,\n",
    "    SimpleDirectoryReader,\n",
    "    get_response_synthesizer,\n",
    "    DocumentSummaryIndex,\n",
    "    LLMPredictor,\n",
    "    ServiceContext,\n",
    "    KeywordTableIndex,\n",
    "    KnowledgeGraphIndex,\n",
    "    SummaryIndex,\n",
    "    TreeIndex,\n",
    ")\n",
    "import os\n",
    "import openai\n",
    "from llama_index.llms import OpenAI, MockLLM\n",
    "from llama_index.storage.storage_context import StorageContext\n",
    "from llama_index.graph_stores import SimpleGraphStore"
   ]
  },
  {
   "cell_type": "code",
   "execution_count": null,
   "metadata": {},
   "outputs": [],
   "source": [
    "# Set environment variable\n",
    "os.environ[\"OPENAI_API_KEY\"] = \"OPENAI_API_KEY_HERE\"\n",
    "openai.api_key = os.getenv(\"OPENAI_API_KEY\")"
   ]
  },
  {
   "cell_type": "code",
   "execution_count": null,
   "metadata": {},
   "outputs": [],
   "source": [
    "# Load documents\n",
    "documents = SimpleDirectoryReader(\"../../../examples/data/paul_graham\").load_data()"
   ]
  },
  {
   "attachments": {},
   "cell_type": "markdown",
   "metadata": {},
   "source": [
    "### VectorStoreIndex"
   ]
  },
  {
   "cell_type": "code",
   "execution_count": null,
   "metadata": {},
   "outputs": [],
   "source": [
    "import nest_asyncio\n",
    "\n",
    "nest_asyncio.apply()"
   ]
  },
  {
   "cell_type": "code",
   "execution_count": null,
   "metadata": {},
   "outputs": [
    {
     "name": "stdout",
     "output_type": "stream",
     "text": [
      "\n",
      "VectorStoreIndex with show_progress=True\n",
      "\n"
     ]
    },
    {
     "name": "stderr",
     "output_type": "stream",
     "text": [
      "Parsing documents into nodes: 100%|██████████| 1/1 [00:00<00:00,  2.78it/s]\n",
      "Generating embeddings: 100%|██████████| 20/20 [00:01<00:00, 12.04it/s]\n"
     ]
    },
    {
     "name": "stdout",
     "output_type": "stream",
     "text": [
      "\n",
      "VectorStoreIndex with show_progress=False\n",
      "\n",
      "\n",
      "VectorStoreIndex with show_progress=True, use_async=True\n",
      "\n"
     ]
    },
    {
     "name": "stderr",
     "output_type": "stream",
     "text": [
      "Parsing documents into nodes: 100%|██████████| 1/1 [00:00<00:00,  2.82it/s]\n",
      "Generating embeddings: 100%|██████████| 2/2 [00:01<00:00,  1.39it/s]\n"
     ]
    },
    {
     "data": {
      "text/plain": [
       "<llama_index.indices.vector_store.base.VectorStoreIndex at 0x105a5b370>"
      ]
     },
     "execution_count": null,
     "metadata": {},
     "output_type": "execute_result"
    }
   ],
   "source": [
    "print(\"\\nVectorStoreIndex with show_progress=True\\n\")\n",
    "VectorStoreIndex.from_documents(documents, show_progress=True)\n",
    "\n",
    "print(\"\\nVectorStoreIndex with show_progress=False\\n\")\n",
    "VectorStoreIndex.from_documents(documents, show_progress=False)\n",
    "\n",
    "print(\"\\nVectorStoreIndex with show_progress=True, use_async=True\\n\")\n",
    "VectorStoreIndex.from_documents(documents, show_progress=True, use_async=True)\n",
    "\n",
    "# print(\"\\nVectorStoreIndex with show_progress=True, use_async=False\\n\")\n",
    "# VectorStoreIndex.from_documents(documents, show_progress=False, use_async=False)"
   ]
  },
  {
   "attachments": {},
   "cell_type": "markdown",
   "metadata": {},
   "source": [
    "### DocumentSummaryIndex"
   ]
  },
  {
   "cell_type": "code",
   "execution_count": null,
   "metadata": {},
   "outputs": [
    {
     "name": "stdout",
     "output_type": "stream",
     "text": [
      "\n",
      "DocumentSummaryIndex with show_progress=True\n",
      "\n"
     ]
    },
    {
     "name": "stderr",
     "output_type": "stream",
     "text": [
      "Parsing documents into nodes: 100%|██████████| 1/1 [00:00<00:00,  2.09it/s]\n",
      "Summarizing documents:   0%|          | 0/1 [00:00<?, ?it/s]"
     ]
    },
    {
     "name": "stdout",
     "output_type": "stream",
     "text": [
      "current doc id: 0e06a6b5-e808-4508-8051-63458a29c196\n"
     ]
    },
    {
     "name": "stderr",
     "output_type": "stream",
     "text": [
      "Summarizing documents: 100%|██████████| 1/1 [00:15<00:00, 15.24s/it]\n"
     ]
    },
    {
     "name": "stdout",
     "output_type": "stream",
     "text": [
      "\n",
      "DocumentSummaryIndex with show_progress=False\n",
      "\n",
      "current doc id: 0e06a6b5-e808-4508-8051-63458a29c196\n"
     ]
    },
    {
     "data": {
      "text/plain": [
       "<llama_index.indices.document_summary.base.DocumentSummaryIndex at 0x13acbb4c0>"
      ]
     },
     "execution_count": null,
     "metadata": {},
     "output_type": "execute_result"
    }
   ],
   "source": [
    "llm_chatgpt = OpenAI(temperature=0, model=\"gpt-3.5-turbo\")\n",
    "\n",
    "service_context = ServiceContext.from_defaults(llm=llm_chatgpt, chunk_size=1024)\n",
    "\n",
    "print(\"\\nDocumentSummaryIndex with show_progress=True\\n\")\n",
    "response_synthesizer = get_response_synthesizer(\n",
    "    response_mode=\"tree_summarize\", use_async=True, service_context=service_context\n",
    ")\n",
    "DocumentSummaryIndex.from_documents(\n",
    "    documents,\n",
    "    service_context=service_context,\n",
    "    response_synthesizer=response_synthesizer,\n",
    "    show_progress=True,\n",
    ")\n",
    "\n",
    "print(\"\\nDocumentSummaryIndex with show_progress=False\\n\")\n",
    "DocumentSummaryIndex.from_documents(\n",
    "    documents,\n",
    "    service_context=service_context,\n",
    "    response_synthesizer=response_synthesizer,\n",
    "    show_progress=False,\n",
    ")"
   ]
  },
  {
   "attachments": {},
   "cell_type": "markdown",
   "metadata": {},
   "source": [
    "### KeywordTableIndex"
   ]
  },
  {
   "cell_type": "code",
   "execution_count": null,
   "metadata": {},
   "outputs": [
    {
     "name": "stdout",
     "output_type": "stream",
     "text": [
      "\n",
      "KeywordTableIndex with show_progress=True, use_async=True\n",
      "\n"
     ]
    },
    {
     "name": "stderr",
     "output_type": "stream",
     "text": [
      "Parsing documents into nodes: 100%|██████████| 1/1 [00:00<00:00,  2.25it/s]\n",
      "Extracting keywords from nodes: 100%|██████████| 20/20 [00:54<00:00,  2.71s/it]\n"
     ]
    },
    {
     "name": "stdout",
     "output_type": "stream",
     "text": [
      "\n",
      "KeywordTableIndex with show_progress=True, use_async=False\n",
      "\n"
     ]
    },
    {
     "name": "stderr",
     "output_type": "stream",
     "text": [
      "Parsing documents into nodes: 100%|██████████| 1/1 [00:00<00:00,  3.29it/s]\n",
      "Extracting keywords from nodes: 100%|██████████| 20/20 [00:46<00:00,  2.31s/it]\n"
     ]
    },
    {
     "name": "stdout",
     "output_type": "stream",
     "text": [
      "\n",
      "KeywordTableIndex with show_progress=False, use_async=True\n",
      "\n",
      "\n",
      "KeywordTableIndex with show_progress=False, use_async=False\n",
      "\n"
     ]
    },
    {
     "data": {
      "text/plain": [
       "<llama_index.indices.keyword_table.base.KeywordTableIndex at 0x12fbbb250>"
      ]
     },
     "execution_count": null,
     "metadata": {},
     "output_type": "execute_result"
    }
   ],
   "source": [
    "print(\"\\nKeywordTableIndex with show_progress=True, use_async=True\\n\")\n",
    "KeywordTableIndex.from_documents(\n",
    "    documents=documents, show_progress=True, use_async=True\n",
    ")\n",
    "\n",
    "print(\"\\nKeywordTableIndex with show_progress=True, use_async=False\\n\")\n",
    "KeywordTableIndex.from_documents(\n",
    "    documents=documents, show_progress=True, use_async=False\n",
    ")\n",
    "\n",
    "print(\"\\nKeywordTableIndex with show_progress=False, use_async=True\\n\")\n",
    "KeywordTableIndex.from_documents(documents=documents, use_async=True)\n",
    "\n",
    "print(\"\\nKeywordTableIndex with show_progress=False, use_async=False\\n\")\n",
    "KeywordTableIndex.from_documents(documents=documents)"
   ]
  },
  {
   "attachments": {},
   "cell_type": "markdown",
   "metadata": {},
   "source": [
    "### KnowledgeGraphIndex"
   ]
  },
  {
   "cell_type": "code",
   "execution_count": null,
   "metadata": {},
   "outputs": [
    {
     "name": "stdout",
     "output_type": "stream",
     "text": [
      "\n",
      "KnowledgeGraphIndex with show_progress=True, use_async=False\n",
      "\n"
     ]
    },
    {
     "name": "stderr",
     "output_type": "stream",
     "text": [
      "Parsing documents into nodes: 100%|██████████| 1/1 [00:00<00:00,  1.86it/s]\n",
      "Processing nodes: 100%|██████████| 40/40 [00:30<00:00,  1.30it/s]\n"
     ]
    },
    {
     "name": "stdout",
     "output_type": "stream",
     "text": [
      "\n",
      "KnowledgeGraphIndex with show_progress=True, use_async=True\n",
      "\n"
     ]
    },
    {
     "name": "stderr",
     "output_type": "stream",
     "text": [
      "Parsing documents into nodes: 100%|██████████| 1/1 [00:00<00:00,  2.09it/s]\n",
      "Processing nodes: 100%|██████████| 40/40 [00:27<00:00,  1.47it/s]\n"
     ]
    },
    {
     "data": {
      "text/plain": [
       "<llama_index.indices.knowledge_graph.base.KnowledgeGraphIndex at 0x2c907d460>"
      ]
     },
     "execution_count": null,
     "metadata": {},
     "output_type": "execute_result"
    }
   ],
   "source": [
    "print(\"\\nKnowledgeGraphIndex with show_progress=True, use_async=False\\n\")\n",
    "llm = OpenAI(temperature=0, model=\"text-davinci-002\")\n",
    "service_context = ServiceContext.from_defaults(llm=llm, chunk_size=512)\n",
    "graph_store = SimpleGraphStore()\n",
    "storage_context = StorageContext.from_defaults(graph_store=graph_store)\n",
    "KnowledgeGraphIndex.from_documents(\n",
    "    documents,\n",
    "    max_triplets_per_chunk=2,\n",
    "    storage_context=storage_context,\n",
    "    service_context=service_context,\n",
    "    show_progress=True,\n",
    "    use_async=False,\n",
    ")\n",
    "\n",
    "print(\"\\nKnowledgeGraphIndex with show_progress=True, use_async=True\\n\")\n",
    "llm = OpenAI(temperature=0, model=\"text-davinci-002\")\n",
    "service_context = ServiceContext.from_defaults(llm=llm, chunk_size=512)\n",
    "graph_store = SimpleGraphStore()\n",
    "storage_context = StorageContext.from_defaults(graph_store=graph_store)\n",
    "KnowledgeGraphIndex.from_documents(\n",
    "    documents,\n",
    "    max_triplets_per_chunk=2,\n",
    "    storage_context=storage_context,\n",
    "    service_context=service_context,\n",
    "    show_progress=True,\n",
    "    use_async=True,\n",
    ")"
   ]
  },
  {
   "attachments": {},
   "cell_type": "markdown",
   "metadata": {},
   "source": [
    "### SummaryIndex"
   ]
  },
  {
   "cell_type": "code",
   "execution_count": null,
   "metadata": {},
   "outputs": [
    {
     "name": "stdout",
     "output_type": "stream",
     "text": [
      "\n",
      "ListIndex with show_progress=True\n",
      "\n"
     ]
    },
    {
     "name": "stderr",
     "output_type": "stream",
     "text": [
      "Parsing documents into nodes: 100%|██████████| 1/1 [00:00<00:00,  1.86it/s]\n"
     ]
    },
    {
     "name": "stdout",
     "output_type": "stream",
     "text": [
      "\n",
      "ListIndex with show_progress=False\n",
      "\n"
     ]
    },
    {
     "data": {
      "text/plain": [
       "<llama_index.indices.list.base.ListIndex at 0x12fbba3d0>"
      ]
     },
     "execution_count": null,
     "metadata": {},
     "output_type": "execute_result"
    }
   ],
   "source": [
    "print(\"\\nSummaryIndex with show_progress=True\\n\")\n",
    "SummaryIndex.from_documents(documents=documents, show_progress=True)\n",
    "\n",
    "print(\"\\nSummaryIndex with show_progress=False\\n\")\n",
    "SummaryIndex.from_documents(documents=documents)"
   ]
  },
  {
   "attachments": {},
   "cell_type": "markdown",
   "metadata": {},
   "source": [
    "### TreeIndex"
   ]
  },
  {
   "cell_type": "code",
   "execution_count": null,
   "metadata": {},
   "outputs": [
    {
     "name": "stdout",
     "output_type": "stream",
     "text": [
      "\n",
      "TreeIndex with show_progress=True,  use_async=True\n",
      "\n"
     ]
    },
    {
     "name": "stderr",
     "output_type": "stream",
     "text": [
      "Parsing documents into nodes: 100%|██████████| 1/1 [00:00<00:00,  1.80it/s]\n",
      "Generating summaries: 100%|██████████| 2/2 [00:00<00:00, 624.62it/s]\n"
     ]
    },
    {
     "name": "stdout",
     "output_type": "stream",
     "text": [
      "\n",
      "TreeIndex with show_progress=True, use_async=False\n",
      "\n"
     ]
    },
    {
     "name": "stderr",
     "output_type": "stream",
     "text": [
      "Parsing documents into nodes: 100%|██████████| 1/1 [00:00<00:00,  2.59it/s]\n",
      "Generating summaries: 100%|██████████| 2/2 [00:00<00:00, 651.29it/s]\n"
     ]
    },
    {
     "name": "stdout",
     "output_type": "stream",
     "text": [
      "\n",
      "TreeIndex with show_progress=False, use_async=True\n",
      "\n",
      "\n",
      "TreeIndex with show_progress=False, use_async=False\n",
      "\n"
     ]
    },
    {
     "data": {
      "text/plain": [
       "<llama_index.indices.tree.base.TreeIndex at 0x13a2f3070>"
      ]
     },
     "execution_count": null,
     "metadata": {},
     "output_type": "execute_result"
    }
   ],
   "source": [
    "print(\"\\nTreeIndex with show_progress=True,  use_async=True\\n\")\n",
    "llm = MockLLM(max_tokens=256)\n",
    "service_context = ServiceContext.from_defaults(llm=llm)\n",
    "TreeIndex.from_documents(\n",
    "    documents, service_context=service_context, show_progress=True, use_async=True\n",
    ")\n",
    "\n",
    "print(\"\\nTreeIndex with show_progress=True, use_async=False\\n\")\n",
    "TreeIndex.from_documents(\n",
    "    documents, service_context=service_context, show_progress=True, use_async=False\n",
    ")\n",
    "\n",
    "print(\"\\nTreeIndex with show_progress=False, use_async=True\\n\")\n",
    "TreeIndex.from_documents(documents, service_context=service_context, use_async=True)\n",
    "\n",
    "print(\"\\nTreeIndex with show_progress=False, use_async=False\\n\")\n",
    "TreeIndex.from_documents(documents, service_context=service_context)"
   ]
  }
 ],
 "metadata": {
  "kernelspec": {
   "display_name": "llama-index",
   "language": "python",
   "name": "python3"
  },
  "language_info": {
   "codemirror_mode": {
    "name": "ipython",
    "version": 3
   },
   "file_extension": ".py",
   "mimetype": "text/x-python",
   "name": "python",
   "nbconvert_exporter": "python",
   "pygments_lexer": "ipython3"
  }
 },
 "nbformat": 4,
 "nbformat_minor": 2
}
