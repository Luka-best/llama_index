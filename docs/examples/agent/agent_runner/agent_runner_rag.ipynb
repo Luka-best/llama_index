{
 "cells": [
  {
   "cell_type": "markdown",
   "id": "9aaf39be-eca2-4f26-b469-0499a1b52648",
   "metadata": {},
   "source": [
    "# Controllable Agents for RAG\n",
    "\n",
    "Adding agentic capabilities on top of your RAG pipeline can allow you to reason over much more complex questions.\n",
    "\n",
    "But a big pain point for agents is the **lack of steerability/transparency**. An agent may tackle a user query through chain-of-thought/planning, which requires repeated calls to an LLM. During this process it can be hard to inspect what's going on, or stop/correct execution in the middle.\n",
    "\n",
    "This notebook shows you how to use our brand-new lower-level agent API, which allows controllable step-wise execution, on top of a RAG pipeline.\n",
    "\n",
    "We showcase this over Wikipedia documents."
   ]
  },
  {
   "cell_type": "code",
   "execution_count": null,
   "id": "87bd57f6-3804-48b4-b53a-9815a6dfc48c",
   "metadata": {},
   "outputs": [],
   "source": [
    "!pip install llama-index"
   ]
  },
  {
   "cell_type": "markdown",
   "id": "575832d2-292b-4a31-93ba-d4d6ae731880",
   "metadata": {},
   "source": [
    "## Setup Data\n",
    "\n",
    "Here we load a simple dataset of different cities from Wikipedia."
   ]
  },
  {
   "cell_type": "code",
   "execution_count": null,
   "id": "949ab8a9-c664-496f-ac6a-9085383f113d",
   "metadata": {},
   "outputs": [],
   "source": [
    "from llama_index import (\n",
    "    VectorStoreIndex,\n",
    "    SummaryIndex,\n",
    "    SimpleKeywordTableIndex,\n",
    "    SimpleDirectoryReader,\n",
    "    ServiceContext,\n",
    ")\n",
    "from llama_index.schema import IndexNode\n",
    "from llama_index.tools import QueryEngineTool, ToolMetadata\n",
    "from llama_index.llms import OpenAI"
   ]
  },
  {
   "cell_type": "code",
   "execution_count": null,
   "id": "3502864b-4880-47b2-af6a-9931e62aa268",
   "metadata": {},
   "outputs": [],
   "source": [
    "wiki_titles = [\n",
    "    \"Toronto\",\n",
    "    \"Seattle\",\n",
    "    \"Chicago\",\n",
    "    \"Boston\",\n",
    "    \"Houston\",\n",
    "]"
   ]
  },
  {
   "cell_type": "code",
   "execution_count": null,
   "id": "3ac67685-bbb7-403c-82f9-6aad600dde4e",
   "metadata": {},
   "outputs": [],
   "source": [
    "from pathlib import Path\n",
    "\n",
    "import requests\n",
    "\n",
    "for title in wiki_titles:\n",
    "    response = requests.get(\n",
    "        \"https://en.wikipedia.org/w/api.php\",\n",
    "        params={\n",
    "            \"action\": \"query\",\n",
    "            \"format\": \"json\",\n",
    "            \"titles\": title,\n",
    "            \"prop\": \"extracts\",\n",
    "            # 'exintro': True,\n",
    "            \"explaintext\": True,\n",
    "        },\n",
    "    ).json()\n",
    "    page = next(iter(response[\"query\"][\"pages\"].values()))\n",
    "    wiki_text = page[\"extract\"]\n",
    "\n",
    "    data_path = Path(\"data\")\n",
    "    if not data_path.exists():\n",
    "        Path.mkdir(data_path)\n",
    "\n",
    "    with open(data_path / f\"{title}.txt\", \"w\") as fp:\n",
    "        fp.write(wiki_text)"
   ]
  },
  {
   "cell_type": "code",
   "execution_count": null,
   "id": "10da881c-c1b0-4613-a114-ec12b8e8449f",
   "metadata": {},
   "outputs": [],
   "source": [
    "# Load all wiki documents\n",
    "city_docs = {}\n",
    "for wiki_title in wiki_titles:\n",
    "    city_docs[wiki_title] = SimpleDirectoryReader(\n",
    "        input_files=[f\"data/{wiki_title}.txt\"]\n",
    "    ).load_data()"
   ]
  },
  {
   "cell_type": "markdown",
   "id": "ed5f6c4f-723a-4cea-a6ba-b2aac3df7ec3",
   "metadata": {},
   "source": [
    "Define LLM + Service Context + Callback Manager"
   ]
  },
  {
   "cell_type": "code",
   "execution_count": null,
   "id": "0a98c988-ae17-40b2-b13d-b19a38df44d3",
   "metadata": {},
   "outputs": [],
   "source": [
    "llm = OpenAI(temperature=0, model=\"gpt-3.5-turbo\")\n",
    "service_context = ServiceContext.from_defaults(llm=llm)"
   ]
  },
  {
   "cell_type": "markdown",
   "id": "d4a4d0c6-f329-44a7-bbc9-6b31c1c84288",
   "metadata": {},
   "source": [
    "## Setup Agent\n",
    "\n",
    "In this section we define our tools and setup the agent."
   ]
  },
  {
   "cell_type": "markdown",
   "id": "51d603fb-dd10-4aaa-b860-9622dcf4f387",
   "metadata": {},
   "source": [
    "### Define Toolset\n",
    "\n",
    "Each tool here corresponds to a simple top-k RAG pipeline over a single document / Wikipedia page."
   ]
  },
  {
   "cell_type": "code",
   "execution_count": null,
   "id": "b38609b7-8030-4929-8a79-615fbc6d673d",
   "metadata": {},
   "outputs": [],
   "source": [
    "from llama_index.agent import OpenAIAgent\n",
    "from llama_index import load_index_from_storage, StorageContext\n",
    "from llama_index.node_parser import SentenceSplitter\n",
    "import os\n",
    "\n",
    "node_parser = SentenceSplitter()\n",
    "\n",
    "# Build agents dictionary\n",
    "query_engine_tools = []\n",
    "\n",
    "for idx, wiki_title in enumerate(wiki_titles):\n",
    "    nodes = node_parser.get_nodes_from_documents(city_docs[wiki_title])\n",
    "\n",
    "    if not os.path.exists(f\"./data/{wiki_title}\"):\n",
    "        # build vector index\n",
    "        vector_index = VectorStoreIndex(nodes, service_context=service_context)\n",
    "        vector_index.storage_context.persist(\n",
    "            persist_dir=f\"./data/{wiki_title}\"\n",
    "        )\n",
    "    else:\n",
    "        vector_index = load_index_from_storage(\n",
    "            StorageContext.from_defaults(persist_dir=f\"./data/{wiki_title}\"),\n",
    "            service_context=service_context,\n",
    "        )\n",
    "    # define query engines\n",
    "    vector_query_engine = vector_index.as_query_engine()\n",
    "\n",
    "    # define tools\n",
    "    query_engine_tools.append(\n",
    "        QueryEngineTool(\n",
    "            query_engine=vector_query_engine,\n",
    "            metadata=ToolMetadata(\n",
    "                name=f\"vector_tool_{wiki_title}\",\n",
    "                description=(\n",
    "                    \"Useful for questions related to specific aspects of\"\n",
    "                    f\" {wiki_title} (e.g. the history, arts and culture,\"\n",
    "                    \" sports, demographics, or more).\"\n",
    "                ),\n",
    "            ),\n",
    "        )\n",
    "    )"
   ]
  },
  {
   "cell_type": "markdown",
   "id": "c9e93f2c-c134-40d1-9526-ea0317a9118a",
   "metadata": {},
   "source": [
    "### Setup OpenAI Agent\n",
    "\n",
    "We setup an OpenAI Agent through its components: an AgentRunner as well as an `OpenAIAgentWorker`."
   ]
  },
  {
   "cell_type": "code",
   "execution_count": null,
   "id": "1452368b-9f3a-4da6-8c5e-11266250f6b3",
   "metadata": {},
   "outputs": [],
   "source": [
    "from llama_index.agent.executor.base import AgentRunner\n",
    "from llama_index.agent.openai.step import OpenAIAgentWorker\n",
    "\n",
    "openai_step_engine = OpenAIAgentWorker.from_tools(\n",
    "    query_engine_tools, llm=llm, verbose=True\n",
    ")\n",
    "agent = AgentRunner(openai_step_engine)"
   ]
  },
  {
   "cell_type": "markdown",
   "id": "72a3afb9-d8d2-476c-b2aa-9610bc9aa4a7",
   "metadata": {},
   "source": [
    "## Run Some Queries\n",
    "\n",
    "We now demonstrate the capabilities of our step-wise agent framework. \n",
    "\n",
    "We show how it can handle complex queries, both e2e as well as step by step. \n",
    "\n",
    "We can then show how we can steer the outputs."
   ]
  },
  {
   "cell_type": "markdown",
   "id": "a40f4b0e-1a6d-4928-8ca3-662339adad0c",
   "metadata": {},
   "source": [
    "### Out of the box"
   ]
  },
  {
   "cell_type": "code",
   "execution_count": null,
   "id": "df3d1698-2bfa-4746-9553-7150c3085fd2",
   "metadata": {},
   "outputs": [
    {
     "name": "stdout",
     "output_type": "stream",
     "text": [
      "=== Calling Function ===\n",
      "Calling function: vector_tool_Houston with args: {\n",
      "  \"input\": \"demographics\"\n",
      "}\n",
      "Got output: Houston has a population of 2,304,580 according to the 2020 U.S. census. In 2017, the estimated population was 2,312,717, and in 2018 it was 2,325,502. The city has a diverse demographic makeup, with a significant number of undocumented immigrants residing in the Houston area, comprising nearly 9% of the city's metropolitan population in 2017. The age distribution in Houston shows a significant number of residents under 15 and between the ages of 20 to 34. The median age of the city is 33.4. The city has a mix of homeowners and renters, with an estimated 42.3% of Houstonians owning housing units. The median household income in 2019 was $52,338, and 20.1% of Houstonians lived at or below the poverty line.\n",
      "========================\n",
      "\n",
      "=== Calling Function ===\n",
      "Calling function: vector_tool_Chicago with args: {\n",
      "  \"input\": \"demographics\"\n",
      "}\n",
      "Got output: Chicago experienced rapid population growth during its first hundred years, becoming one of the fastest-growing cities in the world. From its founding in 1833 with fewer than 200 people, the population grew to over 4,000 within seven years. By 1890, the population had surpassed 1 million, making Chicago the fifth-largest city in the world at the time. The city's population continued to grow, reaching its highest recorded population of 3.6 million in 1950. However, in the latter half of the 20th century, Chicago's population declined, dropping to under 2.7 million by 2010. The city experienced waves of immigration, with various ethnic groups, including Irish, Italians, Jews, Poles, Greeks, and African Americans from the American South, contributing to the city's diverse population. According to the most recent U.S. census estimates, the largest racial or ethnic groups in Chicago are non-Hispanic White, Black, and Hispanic. Additionally, Chicago has a significant LGBT population and became a sanctuary city in 2012.\n",
      "========================\n",
      "\n"
     ]
    }
   ],
   "source": [
    "response = agent.chat(\n",
    "    \"Tell me about the demographics of Houston, and compare that with the demographics of Chicago\"\n",
    ")"
   ]
  },
  {
   "cell_type": "code",
   "execution_count": null,
   "id": "15e9a8cd-052a-4de0-9abe-e6e111e1c50e",
   "metadata": {},
   "outputs": [
    {
     "name": "stdout",
     "output_type": "stream",
     "text": [
      "Houston has a larger population compared to Chicago. According to the 2020 U.S. census, Houston has a population of 2,304,580, while Chicago's population is under 2.7 million as of 2010. Houston is known for its diverse demographic makeup, with a significant number of undocumented immigrants residing in the city. In 2017, nearly 9% of the city's metropolitan population consisted of undocumented immigrants.\n",
      "\n",
      "In terms of age distribution, Houston has a significant number of residents under 15 and between the ages of 20 to 34. The median age of Houston is 33.4. On the other hand, Chicago experienced rapid population growth during its early years and became one of the fastest-growing cities in the world. It reached its highest recorded population of 3.6 million in 1950. However, in the latter half of the 20th century, Chicago's population declined.\n",
      "\n",
      "Both Houston and Chicago have diverse populations, with various ethnic groups contributing to their demographic makeup. In Chicago, the largest racial or ethnic groups are non-Hispanic White, Black, and Hispanic. Houston's demographic diversity is reflected in its large immigrant population and a mix of racial and ethnic groups.\n",
      "\n",
      "It's important to note that these demographic characteristics may have changed since the data was last collected.\n"
     ]
    }
   ],
   "source": [
    "print(str(response))"
   ]
  },
  {
   "cell_type": "markdown",
   "id": "bc7289cc-962f-4237-a257-8a7c98063f5c",
   "metadata": {},
   "source": [
    "### Test Step-Wise Execution\n",
    "\n",
    "We now break this query down into steps. We first create a task object from the user query.\n",
    "\n",
    "We can then start running through steps - or even interjecting our own."
   ]
  },
  {
   "cell_type": "code",
   "execution_count": null,
   "id": "61111f3c-d61f-4904-885a-05c470d95c24",
   "metadata": {},
   "outputs": [
    {
     "data": {
      "text/plain": [
       "['root']"
      ]
     },
     "execution_count": null,
     "metadata": {},
     "output_type": "execute_result"
    }
   ],
   "source": [
    "from llama_index.callbacks.base import global_stack_trace\n",
    "\n",
    "global_stack_trace.get()"
   ]
  },
  {
   "cell_type": "code",
   "execution_count": null,
   "id": "507612e3-4993-462d-9ac4-d117a4168233",
   "metadata": {},
   "outputs": [],
   "source": [
    "# start task\n",
    "task = agent.create_task(\n",
    "    \"Tell me about the demographics of Houston, and compare that with the demographics of Chicago?\"\n",
    ")"
   ]
  },
  {
   "cell_type": "code",
   "execution_count": null,
   "id": "d1ffbc50-3192-424d-82d1-99d1da0573ff",
   "metadata": {},
   "outputs": [
    {
     "data": {
      "text/plain": [
       "['root']"
      ]
     },
     "execution_count": null,
     "metadata": {},
     "output_type": "execute_result"
    }
   ],
   "source": [
    "global_stack_trace.get()"
   ]
  },
  {
   "cell_type": "markdown",
   "id": "919eb419-b314-4c1e-b205-ebbf7ab872ee",
   "metadata": {},
   "source": [
    "This returns a `Task` object, which contains the `input`, additional state in `extra_state`, and other fields.\n",
    "\n",
    "Now let's try executing a single step of this task."
   ]
  },
  {
   "cell_type": "code",
   "execution_count": null,
   "id": "b5853881-240b-4c70-80b0-00fac3a5744c",
   "metadata": {},
   "outputs": [
    {
     "name": "stdout",
     "output_type": "stream",
     "text": [
      "=== Calling Function ===\n",
      "Calling function: vector_tool_Houston with args: {\n",
      "  \"input\": \"demographics\"\n",
      "}\n",
      "Got output: Houston has a population of 2,304,580 according to the 2020 U.S. census. In 2019, the median household income in Houston was $52,338, and approximately 20.1% of the population lived at or below the poverty line. The city has a diverse age distribution, with a median age of 33.4 in 2019. The housing market in Houston consists of 987,158 housing units, with an estimated 42.3% of Houstonians owning their homes. The median gross rent from 2015 to 2019 was $1,041.\n",
      "========================\n",
      "\n"
     ]
    }
   ],
   "source": [
    "step_output = agent.run_step(task)"
   ]
  },
  {
   "cell_type": "code",
   "execution_count": null,
   "id": "6cc9af21-2d87-4b11-97a6-9db24def59e1",
   "metadata": {},
   "outputs": [
    {
     "data": {
      "text/plain": [
       "['root']"
      ]
     },
     "execution_count": null,
     "metadata": {},
     "output_type": "execute_result"
    }
   ],
   "source": [
    "global_stack_trace.get()"
   ]
  },
  {
   "cell_type": "code",
   "execution_count": null,
   "id": "5f8e388b-c6cd-4103-9f90-05ce938afb17",
   "metadata": {},
   "outputs": [
    {
     "data": {
      "text/plain": [
       "[ChatMessage(role=<MessageRole.ASSISTANT: 'assistant'>, content=None, additional_kwargs={'tool_calls': [ChatCompletionMessageToolCall(id='call_umM25OtJV66eO9cYjyo8dVyY', function=Function(arguments='{\\n  \"input\": \"demographics\"\\n}', name='vector_tool_Houston'), type='function')]}),\n",
       " ChatMessage(role=<MessageRole.TOOL: 'tool'>, content='Houston has a population of 2,304,580 according to the 2020 U.S. census. In 2019, the median household income in Houston was $52,338, and approximately 20.1% of the population lived at or below the poverty line. The city has a diverse age distribution, with a median age of 33.4 in 2019. The housing market in Houston consists of 987,158 housing units, with an estimated 42.3% of Houstonians owning their homes. The median gross rent from 2015 to 2019 was $1,041.', additional_kwargs={'name': 'vector_tool_Houston', 'tool_call_id': 'call_umM25OtJV66eO9cYjyo8dVyY'})]"
      ]
     },
     "execution_count": null,
     "metadata": {},
     "output_type": "execute_result"
    }
   ],
   "source": [
    "task.extra_state[\"new_memory\"].get_all()"
   ]
  },
  {
   "cell_type": "markdown",
   "id": "6e8bfd09-deff-4e49-821c-d9baafad2156",
   "metadata": {},
   "source": [
    "When we inspect the logs and the output, we see that the first part was executed - the demographics of Houston."
   ]
  },
  {
   "cell_type": "markdown",
   "id": "a0647b9d-64fb-4eae-b7a4-73e8d857a772",
   "metadata": {},
   "source": [
    "If you wanted to pause execution now, you can - you can take the intermediate results without completing the agent flow!\n",
    "\n",
    "**NOTE**: The `memory` of the agent (`agent.memory`) isn't modified until the task is complete and committed - so if you pause now, the memory won't be committed.\n",
    "\n",
    "Let's run the next two steps."
   ]
  },
  {
   "cell_type": "code",
   "execution_count": null,
   "id": "0cb427d6-9dfc-4c01-894c-c353a7a1d47f",
   "metadata": {},
   "outputs": [
    {
     "name": "stdout",
     "output_type": "stream",
     "text": [
      "=== Calling Function ===\n",
      "Calling function: vector_tool_Chicago with args: {\n",
      "  \"input\": \"demographics\"\n",
      "}\n",
      "Got output: Chicago experienced rapid population growth during its first hundred years, becoming one of the fastest-growing cities in the world. From its founding in 1833 with fewer than 200 people, the population grew to over 4,000 within seven years. By 1890, the population had surpassed 1 million, making Chicago the fifth-largest city in the world at the time. The city's population continued to grow, reaching its highest recorded population of 3.6 million in 1950. However, in the latter half of the 20th century, Chicago's population declined, dropping to under 2.7 million by 2010. The city experienced a rise in population for the 2000 census, followed by a decrease in 2010, and then another increase for the 2020 census. According to U.S. census estimates as of July 2019, the largest racial or ethnic groups in Chicago are non-Hispanic White (32.8%), Blacks (30.1%), and Hispanics (29.0%). Additionally, Chicago has the third-largest LGBT population in the United States, with an estimated 7.5% of the adult population identifying as LGBTQ in 2018.\n",
      "========================\n",
      "\n"
     ]
    }
   ],
   "source": [
    "step_output = agent.run_step(task)"
   ]
  },
  {
   "cell_type": "code",
   "execution_count": null,
   "id": "ea66e441-bd96-4b17-a4b3-f7e899a97653",
   "metadata": {},
   "outputs": [],
   "source": [
    "step_output = agent.run_step(task)"
   ]
  },
  {
   "cell_type": "markdown",
   "id": "c81608f1-d1cf-4f7c-af7a-9b2a6617ca0f",
   "metadata": {},
   "source": [
    "Since the steps look good, we are now ready to call `finalize_response`, get back our response.\n",
    "\n",
    "This will also commit the task execution to the `memory` object present in our `agent_runner`. We can inspect it."
   ]
  },
  {
   "cell_type": "code",
   "execution_count": null,
   "id": "6f3f1032-3d5e-4968-be43-bd8347e72a9c",
   "metadata": {},
   "outputs": [],
   "source": [
    "response = agent.finalize_response(task.task_id)"
   ]
  },
  {
   "cell_type": "code",
   "execution_count": null,
   "id": "802ae06c-70a6-475d-a3fb-fb4ef4cf04ca",
   "metadata": {},
   "outputs": [
    {
     "name": "stdout",
     "output_type": "stream",
     "text": [
      "Houston has a larger population compared to Chicago, with 2,304,580 residents in Houston according to the 2020 U.S. census, while Chicago had a population of under 2.7 million in 2010. \n",
      "\n",
      "In terms of racial and ethnic diversity, both cities have a significant mix of different groups. In Houston, the racial and ethnic composition is diverse, with a large Hispanic population of 44.8%, followed by non-Hispanic Whites at 24.9%, Blacks at 22.5%, and Asians at 7.6%. \n",
      "\n",
      "In Chicago, the largest racial or ethnic groups are non-Hispanic Whites at 32.8%, Blacks at 30.1%, and Hispanics at 29.0%. \n",
      "\n",
      "Both cities have a diverse age distribution, with Houston having a median age of 33.4 in 2019. The median age in Chicago is slightly higher, but specific data was not provided.\n",
      "\n",
      "In terms of income, the median household income in Houston was $52,338 in 2019. Chicago's median household income data was not provided.\n",
      "\n",
      "It's important to note that these demographic statistics may have changed over time, and it's always best to refer to the most recent data for an accurate comparison.\n"
     ]
    }
   ],
   "source": [
    "print(str(response))"
   ]
  },
  {
   "cell_type": "code",
   "execution_count": null,
   "id": "716434b0-4e1d-464a-920f-78166e03472a",
   "metadata": {},
   "outputs": [
    {
     "data": {
      "text/plain": [
       "[ChatMessage(role=<MessageRole.USER: 'user'>, content='Tell me about the demographics of Houston, and compare that with the demographics of Chicago?', additional_kwargs={}),\n",
       " ChatMessage(role=<MessageRole.ASSISTANT: 'assistant'>, content=None, additional_kwargs={'tool_calls': [ChatCompletionMessageToolCall(id='call_umM25OtJV66eO9cYjyo8dVyY', function=Function(arguments='{\\n  \"input\": \"demographics\"\\n}', name='vector_tool_Houston'), type='function')]}),\n",
       " ChatMessage(role=<MessageRole.TOOL: 'tool'>, content='Houston has a population of 2,304,580 according to the 2020 U.S. census. In 2019, the median household income in Houston was $52,338, and approximately 20.1% of the population lived at or below the poverty line. The city has a diverse age distribution, with a median age of 33.4 in 2019. The housing market in Houston consists of 987,158 housing units, with an estimated 42.3% of Houstonians owning their homes. The median gross rent from 2015 to 2019 was $1,041.', additional_kwargs={'name': 'vector_tool_Houston', 'tool_call_id': 'call_umM25OtJV66eO9cYjyo8dVyY'}),\n",
       " ChatMessage(role=<MessageRole.ASSISTANT: 'assistant'>, content=None, additional_kwargs={'tool_calls': [ChatCompletionMessageToolCall(id='call_brABcfoyRadbZvyoJ8FaMMAH', function=Function(arguments='{\\n  \"input\": \"demographics\"\\n}', name='vector_tool_Chicago'), type='function')]}),\n",
       " ChatMessage(role=<MessageRole.TOOL: 'tool'>, content=\"Chicago experienced rapid population growth during its first hundred years, becoming one of the fastest-growing cities in the world. From its founding in 1833 with fewer than 200 people, the population grew to over 4,000 within seven years. By 1890, the population had surpassed 1 million, making Chicago the fifth-largest city in the world at the time. The city's population continued to grow, reaching its highest recorded population of 3.6 million in 1950. However, in the latter half of the 20th century, Chicago's population declined, dropping to under 2.7 million by 2010. The city experienced a rise in population for the 2000 census, followed by a decrease in 2010, and then another increase for the 2020 census. According to U.S. census estimates as of July 2019, the largest racial or ethnic groups in Chicago are non-Hispanic White (32.8%), Blacks (30.1%), and Hispanics (29.0%). Additionally, Chicago has the third-largest LGBT population in the United States, with an estimated 7.5% of the adult population identifying as LGBTQ in 2018.\", additional_kwargs={'name': 'vector_tool_Chicago', 'tool_call_id': 'call_brABcfoyRadbZvyoJ8FaMMAH'}),\n",
       " ChatMessage(role=<MessageRole.ASSISTANT: 'assistant'>, content=\"Houston has a larger population compared to Chicago, with 2,304,580 residents in Houston according to the 2020 U.S. census, while Chicago had a population of under 2.7 million in 2010. \\n\\nIn terms of racial and ethnic diversity, both cities have a significant mix of different groups. In Houston, the racial and ethnic composition is diverse, with a large Hispanic population of 44.8%, followed by non-Hispanic Whites at 24.9%, Blacks at 22.5%, and Asians at 7.6%. \\n\\nIn Chicago, the largest racial or ethnic groups are non-Hispanic Whites at 32.8%, Blacks at 30.1%, and Hispanics at 29.0%. \\n\\nBoth cities have a diverse age distribution, with Houston having a median age of 33.4 in 2019. The median age in Chicago is slightly higher, but specific data was not provided.\\n\\nIn terms of income, the median household income in Houston was $52,338 in 2019. Chicago's median household income data was not provided.\\n\\nIt's important to note that these demographic statistics may have changed over time, and it's always best to refer to the most recent data for an accurate comparison.\", additional_kwargs={})]"
      ]
     },
     "execution_count": null,
     "metadata": {},
     "output_type": "execute_result"
    }
   ],
   "source": [
    "agent.memory.get_all()"
   ]
  },
  {
   "cell_type": "markdown",
   "id": "6b809f3c-cae8-4fc9-bc80-5433e51b789c",
   "metadata": {},
   "source": [
    "### Test Injecting Intermediate Steps\n",
    "\n",
    "You can actually choose to inject or edit intermediate steps if you choose. Here we show an example of this in action, we'll edit the query on the fly.\n",
    "\n",
    "**NOTE**: This may not work for all agent worker types, especially those with complex dependencies between steps. Injecting steps works well for \"simpler\"/more linear agent loops such as ReAct.\n",
    "\n",
    "TODO."
   ]
  },
  {
   "cell_type": "markdown",
   "id": "cfe9efbf-6e1f-42b2-916d-d1eec566cebf",
   "metadata": {},
   "source": [
    "### Inspect Steps / Tasks\n",
    "\n",
    "We can inspect current and previous tasks and steps.\n",
    "\n",
    "This gives you greater transparency into what the agent has processed!"
   ]
  },
  {
   "cell_type": "code",
   "execution_count": null,
   "id": "717352b3-939a-4574-8a3b-c0a56b4ad447",
   "metadata": {},
   "outputs": [],
   "source": [
    "tasks = agent.list_tasks()\n",
    "print(tasks)"
   ]
  },
  {
   "cell_type": "code",
   "execution_count": null,
   "id": "95c2f43b-55d1-4f14-a125-ddfaf8350131",
   "metadata": {},
   "outputs": [],
   "source": [
    "task = tasks[0]\n",
    "steps = agent.list_completed_steps(task())"
   ]
  }
 ],
 "metadata": {
  "kernelspec": {
   "display_name": "llama_index_logan",
   "language": "python",
   "name": "llama_index_logan"
  },
  "language_info": {
   "codemirror_mode": {
    "name": "ipython",
    "version": 3
   },
   "file_extension": ".py",
   "mimetype": "text/x-python",
   "name": "python",
   "nbconvert_exporter": "python",
   "pygments_lexer": "ipython3"
  }
 },
 "nbformat": 4,
 "nbformat_minor": 5
}
