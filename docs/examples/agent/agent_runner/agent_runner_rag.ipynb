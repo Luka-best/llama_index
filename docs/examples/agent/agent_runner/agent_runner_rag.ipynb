{
 "cells": [
  {
   "cell_type": "markdown",
   "id": "9aaf39be-eca2-4f26-b469-0499a1b52648",
   "metadata": {},
   "source": [
    "# Controllable Agents for RAG\n",
    "\n",
    "Adding agentic capabilities on top of your RAG pipeline can allow you to reason over much more complex questions.\n",
    "\n",
    "But a big pain point for agents is the **lack of steerability/transparency**. An agent may tackle a user query through chain-of-thought/planning, which requires repeated calls to an LLM. During this process it can be hard to inspect what's going on, or stop/correct execution in the middle.\n",
    "\n",
    "This notebook shows you how to use our brand-new lower-level agent API, which allows controllable step-wise execution, on top of a RAG pipeline.\n",
    "\n",
    "We showcase this over Wikipedia documents."
   ]
  },
  {
   "cell_type": "code",
   "execution_count": null,
   "id": "87bd57f6-3804-48b4-b53a-9815a6dfc48c",
   "metadata": {},
   "outputs": [],
   "source": [
    "!pip install llama-index"
   ]
  },
  {
   "cell_type": "markdown",
   "id": "575832d2-292b-4a31-93ba-d4d6ae731880",
   "metadata": {},
   "source": [
    "## Setup Data\n",
    "\n",
    "Here we load a simple dataset of different cities from Wikipedia."
   ]
  },
  {
   "cell_type": "code",
   "execution_count": null,
   "id": "949ab8a9-c664-496f-ac6a-9085383f113d",
   "metadata": {},
   "outputs": [],
   "source": [
    "from llama_index import (\n",
    "    VectorStoreIndex,\n",
    "    SummaryIndex,\n",
    "    SimpleKeywordTableIndex,\n",
    "    SimpleDirectoryReader,\n",
    "    ServiceContext,\n",
    ")\n",
    "from llama_index.schema import IndexNode\n",
    "from llama_index.tools import QueryEngineTool, ToolMetadata\n",
    "from llama_index.llms import OpenAI"
   ]
  },
  {
   "cell_type": "code",
   "execution_count": null,
   "id": "3502864b-4880-47b2-af6a-9931e62aa268",
   "metadata": {},
   "outputs": [],
   "source": [
    "wiki_titles = [\n",
    "    \"Toronto\",\n",
    "    \"Seattle\",\n",
    "    \"Chicago\",\n",
    "    \"Boston\",\n",
    "    \"Houston\",\n",
    "]"
   ]
  },
  {
   "cell_type": "code",
   "execution_count": null,
   "id": "3ac67685-bbb7-403c-82f9-6aad600dde4e",
   "metadata": {},
   "outputs": [],
   "source": [
    "from pathlib import Path\n",
    "\n",
    "import requests\n",
    "\n",
    "for title in wiki_titles:\n",
    "    response = requests.get(\n",
    "        \"https://en.wikipedia.org/w/api.php\",\n",
    "        params={\n",
    "            \"action\": \"query\",\n",
    "            \"format\": \"json\",\n",
    "            \"titles\": title,\n",
    "            \"prop\": \"extracts\",\n",
    "            # 'exintro': True,\n",
    "            \"explaintext\": True,\n",
    "        },\n",
    "    ).json()\n",
    "    page = next(iter(response[\"query\"][\"pages\"].values()))\n",
    "    wiki_text = page[\"extract\"]\n",
    "\n",
    "    data_path = Path(\"data\")\n",
    "    if not data_path.exists():\n",
    "        Path.mkdir(data_path)\n",
    "\n",
    "    with open(data_path / f\"{title}.txt\", \"w\") as fp:\n",
    "        fp.write(wiki_text)"
   ]
  },
  {
   "cell_type": "code",
   "execution_count": null,
   "id": "10da881c-c1b0-4613-a114-ec12b8e8449f",
   "metadata": {},
   "outputs": [],
   "source": [
    "# Load all wiki documents\n",
    "city_docs = {}\n",
    "for wiki_title in wiki_titles:\n",
    "    city_docs[wiki_title] = SimpleDirectoryReader(\n",
    "        input_files=[f\"data/{wiki_title}.txt\"]\n",
    "    ).load_data()"
   ]
  },
  {
   "cell_type": "markdown",
   "id": "ed5f6c4f-723a-4cea-a6ba-b2aac3df7ec3",
   "metadata": {},
   "source": [
    "Define LLM + Service Context + Callback Manager"
   ]
  },
  {
   "cell_type": "code",
   "execution_count": null,
   "id": "0a98c988-ae17-40b2-b13d-b19a38df44d3",
   "metadata": {},
   "outputs": [],
   "source": [
    "llm = OpenAI(temperature=0, model=\"gpt-3.5-turbo\")\n",
    "service_context = ServiceContext.from_defaults(llm=llm)"
   ]
  },
  {
   "cell_type": "markdown",
   "id": "0c99b113-c40b-4aba-a721-3229778a063f",
   "metadata": {},
   "source": [
    "## Setup Agent\n",
    "\n",
    "In this section we define our tools and setup the agent."
   ]
  },
  {
   "cell_type": "markdown",
   "id": "add97ea0-6eb6-48bb-b785-93c56f872531",
   "metadata": {},
   "source": [
    "### Define Toolset\n",
    "\n",
    "Each tool here corresponds to a simple top-k RAG pipeline over a single document / Wikipedia page."
   ]
  },
  {
   "cell_type": "code",
   "execution_count": null,
   "id": "b38609b7-8030-4929-8a79-615fbc6d673d",
   "metadata": {},
   "outputs": [],
   "source": [
    "from llama_index.agent import OpenAIAgent\n",
    "from llama_index import load_index_from_storage, StorageContext\n",
    "from llama_index.node_parser import SentenceSplitter\n",
    "import os\n",
    "\n",
    "node_parser = SentenceSplitter()\n",
    "\n",
    "# Build agents dictionary\n",
    "query_engine_tools = []\n",
    "\n",
    "for idx, wiki_title in enumerate(wiki_titles):\n",
    "    nodes = node_parser.get_nodes_from_documents(city_docs[wiki_title])\n",
    "\n",
    "    if not os.path.exists(f\"./data/{wiki_title}\"):\n",
    "        # build vector index\n",
    "        vector_index = VectorStoreIndex(nodes, service_context=service_context)\n",
    "        vector_index.storage_context.persist(\n",
    "            persist_dir=f\"./data/{wiki_title}\"\n",
    "        )\n",
    "    else:\n",
    "        vector_index = load_index_from_storage(\n",
    "            StorageContext.from_defaults(persist_dir=f\"./data/{wiki_title}\"),\n",
    "            service_context=service_context,\n",
    "        )\n",
    "    # define query engines\n",
    "    vector_query_engine = vector_index.as_query_engine()\n",
    "\n",
    "    # define tools\n",
    "    query_engine_tools.append(\n",
    "        QueryEngineTool(\n",
    "            query_engine=vector_query_engine,\n",
    "            metadata=ToolMetadata(\n",
    "                name=f\"vector_tool_{wiki_title}\",\n",
    "                description=(\n",
    "                    \"Useful for questions related to specific aspects of\"\n",
    "                    f\" {wiki_title} (e.g. the history, arts and culture,\"\n",
    "                    \" sports, demographics, or more).\"\n",
    "                ),\n",
    "            ),\n",
    "        ),\n",
    "    )"
   ]
  },
  {
   "cell_type": "markdown",
   "id": "11d3e2f2-065c-4aea-87fa-5ddb7d6ac883",
   "metadata": {},
   "source": [
    "### Setup OpenAI Agent\n",
    "\n",
    "We setup an OpenAI Agent through its components: an AgentRunner as well as an `OpenAIAgentWorker`."
   ]
  },
  {
   "cell_type": "code",
   "execution_count": null,
   "id": "1452368b-9f3a-4da6-8c5e-11266250f6b3",
   "metadata": {},
   "outputs": [],
   "source": [
    "from llama_index.agent.executor.base import AgentRunner\n",
    "from llama_index.agent.openai.step import OpenAIAgentWorker\n",
    "\n",
    "openai_step_engine = OpenAIAgentWorker.from_tools(query_engine_tools, llm=llm, verbose=True)\n",
    "agent = AgentRunner(openai_step_engine)"
   ]
  },
  {
   "cell_type": "markdown",
   "id": "9bea26dd-7cc7-498c-bacc-caf87a34d1e6",
   "metadata": {},
   "source": [
    "## Run Some Queries\n",
    "\n",
    "We now demonstrate the capabilities of our step-wise agent framework. \n",
    "\n",
    "We show how it can handle complex queries, both e2e as well as step by step. \n",
    "\n",
    "We can then show how we can steer the outputs."
   ]
  },
  {
   "cell_type": "markdown",
   "id": "6fe41cdb-1107-443e-8c79-f06d95fb9621",
   "metadata": {},
   "source": [
    "### Out of the box"
   ]
  },
  {
   "cell_type": "code",
   "execution_count": null,
   "id": "8032d2f6-5cc7-4c7d-a3f9-847258113f35",
   "metadata": {},
   "outputs": [
    {
     "name": "stdout",
     "output_type": "stream",
     "text": [
      "=== Calling Function ===\n",
      "Calling function: vector_tool_Houston with args: {\n",
      "  \"input\": \"demographics\"\n",
      "}\n",
      "Got output: Houston has a population of 2,304,580 according to the 2020 U.S. census. In 2017, the estimated population was 2,312,717, and in 2018 it was 2,325,502. The city has a diverse demographic makeup, with a significant number of undocumented immigrants residing in the Houston area, comprising nearly 9% of the city's metropolitan population in 2017. The age distribution in Houston shows a significant number of residents under 15 and between the ages of 20 to 34. The median age of the city is 33.4. The city has a mix of homeowners and renters, with an estimated 42.3% of Houstonians owning housing units. The median household income in 2019 was $52,338, and 20.1% of Houstonians lived at or below the poverty line.\n",
      "========================\n",
      "\n",
      "=== Calling Function ===\n",
      "Calling function: vector_tool_Chicago with args: {\n",
      "  \"input\": \"demographics\"\n",
      "}\n",
      "Got output: Chicago experienced rapid population growth during its first hundred years, becoming one of the fastest-growing cities in the world. From its founding in 1833 with fewer than 200 people, the population grew to over 4,000 within seven years. By 1890, the population had surpassed 1 million, making Chicago the fifth-largest city in the world at the time. The city's population continued to grow, reaching its highest recorded population of 3.6 million in 1950. \n",
      "\n",
      "During the late 19th century, Chicago attracted waves of immigrants from Ireland, Southern, Central, and Eastern Europe, including Italians, Jews, Russians, Poles, Greeks, Lithuanians, Bulgarians, Albanians, Romanians, Turkish, Croatians, Serbs, Bosnians, Montenegrins, and Czechs. African Americans also migrated to Chicago from the American South, with the black population doubling between 1910 and 1920 and doubling again between 1920 and 1930. \n",
      "\n",
      "Chicago's population declined in the latter half of the 20th century, dropping from over 3.6 million in 1950 to under 2.7 million by 2010. However, there has been a recent rise in population, with an increase reported in the 2020 census. According to U.S. census estimates as of July 2019, the largest racial or ethnic groups in Chicago are non-Hispanic White (32.8%), Blacks (30.1%), and Hispanics (29.0%). Chicago also has a significant LGBT population, ranking third in the United States.\n",
      "========================\n",
      "\n"
     ]
    }
   ],
   "source": [
    "response = agent.chat(\n",
    "    \"Tell me about the demographics of Houston, and compare that with the demographics of Chicago\"\n",
    ")"
   ]
  },
  {
   "cell_type": "code",
   "execution_count": null,
   "id": "e4edd555-b183-4b47-9a14-6c1ceb12b2b3",
   "metadata": {},
   "outputs": [
    {
     "name": "stdout",
     "output_type": "stream",
     "text": [
      "Houston has a larger population compared to Chicago, with 2,304,580 residents according to the 2020 U.S. census. In contrast, Chicago's population was under 2.7 million as of 2010. \n",
      "\n",
      "Both cities have diverse demographics. Houston has a significant number of undocumented immigrants, comprising nearly 9% of the metropolitan population in 2017. Chicago, on the other hand, has a diverse population due to waves of immigration from various regions, including Ireland, Southern, Central, and Eastern Europe, as well as African Americans migrating from the American South.\n",
      "\n",
      "In terms of racial and ethnic composition, Houston has a more diverse population. According to the 2020 census, the largest racial or ethnic groups in Houston are Hispanics (44.8%), non-Hispanic Whites (24.9%), and Blacks (22.5%). In Chicago, the largest racial or ethnic groups are non-Hispanic Whites (32.8%), Blacks (30.1%), and Hispanics (29.0%).\n",
      "\n",
      "The age distribution in Houston shows a significant number of residents under 15 and between the ages of 20 to 34, with a median age of 33.4. The age distribution in Chicago is not specified in the provided information.\n",
      "\n",
      "In terms of homeownership, Houston has an estimated 42.3% of residents owning housing units. The homeownership rate in Chicago is not specified in the provided information.\n",
      "\n",
      "The median household income in Houston in 2019 was $52,338, while the median household income in Chicago is not specified in the provided information.\n",
      "\n",
      "It's important to note that these demographics may have changed since the data was last collected, and it's always recommended to refer to the most recent census or official sources for the most up-to-date information.\n"
     ]
    }
   ],
   "source": [
    "print(str(response))"
   ]
  },
  {
   "cell_type": "markdown",
   "id": "82983fbd-15ce-4620-aceb-d61cd8765597",
   "metadata": {},
   "source": [
    "### Test Step-Wise Execution\n",
    "\n",
    "We now break this query down into steps. We first create a task object from the user query.\n",
    "\n",
    "We can then start running through steps - or even interjecting our own."
   ]
  },
  {
   "cell_type": "code",
   "execution_count": null,
   "id": "371476b4-8b53-4276-ad45-af227bfb3226",
   "metadata": {},
   "outputs": [],
   "source": [
    "# start task\n",
    "task = agent.create_task(\n",
    "    \"Tell me about the demographics of Houston, and compare that with the demographics of Chicago?\"\n",
    ")"
   ]
  },
  {
   "cell_type": "markdown",
   "id": "f7973a99-27a4-4b61-a9a6-e69528fbd0bf",
   "metadata": {},
   "source": [
    "This returns a `Task` object, which contains the `input`, additional state in `extra_state`, and other fields.\n",
    "\n",
    "Now let's try executing a single step of this task."
   ]
  },
  {
   "cell_type": "code",
   "execution_count": null,
   "id": "df8fcfb7-b8d8-44c1-b623-5d19f95f0847",
   "metadata": {},
   "outputs": [
    {
     "name": "stdout",
     "output_type": "stream",
     "text": [
      "=== Calling Function ===\n",
      "Calling function: vector_tool_Houston with args: {\n",
      "  \"input\": \"demographics\"\n",
      "}\n",
      "Got output: Houston has a population of 2,304,580 according to the 2020 U.S. census. In 2017, the estimated population was 2,312,717, and in 2018 it was 2,325,502. The city has a diverse demographic makeup, with a significant number of undocumented immigrants residing in the Houston area, comprising nearly 9% of the city's metropolitan population in 2017. The age distribution in Houston includes a significant number of individuals under 15 and between the ages of 20 to 34. The median age of the city is 33.4. The city has a mix of homeowners and renters, with an estimated 42.3% of Houstonians owning housing units. The median household income in 2019 was $52,338, and 20.1% of Houstonians lived at or below the poverty line.\n",
      "========================\n",
      "\n"
     ]
    }
   ],
   "source": [
    "step_output = agent.run_step(task)"
   ]
  },
  {
   "cell_type": "code",
   "execution_count": null,
   "id": "161b3fff-e506-40fc-be60-9415a1977e1b",
   "metadata": {},
   "outputs": [
    {
     "data": {
      "text/plain": [
       "[ChatMessage(role=<MessageRole.ASSISTANT: 'assistant'>, content=None, additional_kwargs={'tool_calls': [ChatCompletionMessageToolCall(id='call_bfAxvqnEMiJH3jVgcMnPawbG', function=Function(arguments='{\\n  \"input\": \"demographics\"\\n}', name='vector_tool_Houston'), type='function')]}),\n",
       " ChatMessage(role=<MessageRole.TOOL: 'tool'>, content=\"Houston has a population of 2,304,580 according to the 2020 U.S. census. In 2017, the estimated population was 2,312,717, and in 2018 it was 2,325,502. The city has a diverse demographic makeup, with a significant number of undocumented immigrants residing in the Houston area, comprising nearly 9% of the city's metropolitan population in 2017. The age distribution in Houston includes a significant number of individuals under 15 and between the ages of 20 to 34. The median age of the city is 33.4. The city has a mix of homeowners and renters, with an estimated 42.3% of Houstonians owning housing units. The median household income in 2019 was $52,338, and 20.1% of Houstonians lived at or below the poverty line.\", additional_kwargs={'name': 'vector_tool_Houston', 'tool_call_id': 'call_bfAxvqnEMiJH3jVgcMnPawbG'})]"
      ]
     },
     "execution_count": null,
     "metadata": {},
     "output_type": "execute_result"
    }
   ],
   "source": [
    "task.extra_state[\"new_memory\"].get_all()"
   ]
  },
  {
   "cell_type": "markdown",
   "id": "dd5a5eae-cbb2-46a7-80a9-6f8d877c5fae",
   "metadata": {},
   "source": [
    "When we inspect the logs and the output, we see that the first part was executed - the demographics of Houston."
   ]
  },
  {
   "cell_type": "markdown",
   "id": "46d9b929-4f49-4d62-b4fb-a0b4c6e68f9a",
   "metadata": {},
   "source": [
    "If you wanted to pause execution now, you can - you can take the intermediate results without completing the agent flow!\n",
    "\n",
    "**NOTE**: The `memory` of the agent (`agent.memory`) isn't modified until the task is complete and committed - so if you pause now, the memory won't be committed.\n",
    "\n",
    "Let's run the next two steps."
   ]
  },
  {
   "cell_type": "code",
   "execution_count": null,
   "id": "99eaaebe-2b64-48fd-80b6-58d7e3a4ca37",
   "metadata": {},
   "outputs": [],
   "source": [
    "step_output = agent.run_step(task)"
   ]
  },
  {
   "cell_type": "code",
   "execution_count": null,
   "id": "2db4715d-e0cf-4361-8949-35391a27e370",
   "metadata": {},
   "outputs": [],
   "source": [
    "step_output = agent.run_step(task)"
   ]
  },
  {
   "cell_type": "markdown",
   "id": "834a081f-1afe-4f61-91f7-646178e0b8d5",
   "metadata": {},
   "source": [
    "Since the steps look good, we are now ready to call `finalize_response`, get back our response.\n",
    "\n",
    "This will also commit the task execution to the `memory` object present in our `agent_runner`. We can inspect it."
   ]
  },
  {
   "cell_type": "code",
   "execution_count": null,
   "id": "3b6132c6-d27a-4c82-aa79-1e2b9eab951c",
   "metadata": {},
   "outputs": [],
   "source": [
    "response = agent.finalize_response(task)"
   ]
  },
  {
   "cell_type": "code",
   "execution_count": null,
   "id": "a3b228b2-5b83-4051-974c-fd2fe8bacb34",
   "metadata": {},
   "outputs": [],
   "source": [
    "agent.memory.get_all()"
   ]
  },
  {
   "cell_type": "markdown",
   "id": "92aeec13-9dda-4634-b970-fea1122958fa",
   "metadata": {},
   "source": [
    "### Test Injecting Intermediate Steps\n",
    "\n",
    "You can actually choose to inject or edit intermediate steps if you choose. Here we show an example of this in action, we'll edit the query on the fly.\n",
    "\n",
    "**NOTE**: This may not work for all agent worker types, especially those with complex dependencies between steps. Injecting steps works well for \"simpler\"/more linear agent loops such as ReAct.\n",
    "\n",
    "TODO."
   ]
  },
  {
   "cell_type": "markdown",
   "id": "dafb21c5-5d65-4a09-950f-ae1027daa90f",
   "metadata": {},
   "source": [
    "### Inspect Steps / Tasks\n",
    "\n",
    "We can inspect current and previous tasks and steps.\n",
    "\n",
    "This gives you greater transparency into what the agent has processed!"
   ]
  },
  {
   "cell_type": "code",
   "execution_count": null,
   "id": "9ab070ec-14a5-46ca-9901-a7da670c1f2f",
   "metadata": {},
   "outputs": [],
   "source": [
    "tasks = agent.list_tasks()\n",
    "print(tasks)"
   ]
  },
  {
   "cell_type": "code",
   "execution_count": null,
   "id": "4d5137ac-301c-4799-aba7-75145b976791",
   "metadata": {},
   "outputs": [],
   "source": [
    "task = tasks[0]\n",
    "steps = agent.list_completed_steps(task()"
   ]
  }
 ],
 "metadata": {
  "kernelspec": {
   "display_name": "llama_index_logan",
   "language": "python",
   "name": "llama_index_logan"
  },
  "language_info": {
   "codemirror_mode": {
    "name": "ipython",
    "version": 3
   },
   "file_extension": ".py",
   "mimetype": "text/x-python",
   "name": "python",
   "nbconvert_exporter": "python",
   "pygments_lexer": "ipython3",
   "version": "3.10.10"
  }
 },
 "nbformat": 4,
 "nbformat_minor": 5
}
