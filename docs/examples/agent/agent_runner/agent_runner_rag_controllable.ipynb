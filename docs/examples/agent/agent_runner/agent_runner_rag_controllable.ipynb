{
 "cells": [
  {
   "cell_type": "markdown",
   "id": "9aaf39be-eca2-4f26-b469-0499a1b52648",
   "metadata": {},
   "source": [
    "# Controllable Agents for RAG\n",
    "\n",
    "Adding agentic capabilities on top of your RAG pipeline can allow you to reason over much more complex questions.\n",
    "\n",
    "But a big pain point for agents is the **lack of steerability/transparency**. An agent may tackle a user query through chain-of-thought/planning, which requires repeated calls to an LLM. During this process it can be hard to inspect what's going on, or stop/correct execution in the middle.\n",
    "\n",
    "This notebook shows you how to use our brand-new lower-level agent API, which allows controllable step-wise execution, on top of a RAG pipeline.\n",
    "\n",
    "We showcase this over Wikipedia documents."
   ]
  },
  {
   "cell_type": "code",
   "execution_count": null,
   "id": "87bd57f6-3804-48b4-b53a-9815a6dfc48c",
   "metadata": {},
   "outputs": [],
   "source": [
    "!pip install llama-index"
   ]
  },
  {
   "cell_type": "markdown",
   "id": "575832d2-292b-4a31-93ba-d4d6ae731880",
   "metadata": {},
   "source": [
    "## Setup Data\n",
    "\n",
    "Here we load a simple dataset of different cities from Wikipedia."
   ]
  },
  {
   "cell_type": "code",
   "execution_count": 1,
   "id": "02160804-64a2-4ef3-8a0d-8c16b06fd205",
   "metadata": {},
   "outputs": [],
   "source": [
    "from llama_index import (\n",
    "    SimpleDirectoryReader,\n",
    "    VectorStoreIndex,\n",
    "    StorageContext,\n",
    "    load_index_from_storage,\n",
    "    ServiceContext\n",
    ")\n",
    "from llama_index.llms import OpenAI\n",
    "from llama_index.tools import QueryEngineTool, ToolMetadata"
   ]
  },
  {
   "cell_type": "code",
   "execution_count": 2,
   "id": "70a9abac-d530-401d-a044-bdb3e601bc16",
   "metadata": {},
   "outputs": [],
   "source": [
    "# llm = OpenAI(model=\"gpt-3.5-turbo\")\n",
    "llm = OpenAI(model=\"gpt-4-1106-preview\")\n",
    "service_context = ServiceContext.from_defaults(llm=llm)"
   ]
  },
  {
   "attachments": {},
   "cell_type": "markdown",
   "id": "129e757a-2a73-4c42-9b3a-d7a7facdab79",
   "metadata": {},
   "source": [
    "### Download Data"
   ]
  },
  {
   "cell_type": "code",
   "execution_count": null,
   "id": "85511e21-0d15-4b6e-a077-7ccff07f124f",
   "metadata": {},
   "outputs": [],
   "source": [
    "!mkdir -p 'data/10q/'\n",
    "!wget 'https://raw.githubusercontent.com/run-llama/llama_index/main/docs/examples/data/10q/uber_10q_march_2022.pdf' -O 'data/10q/uber_10q_march_2022.pdf'\n",
    "!wget 'https://raw.githubusercontent.com/run-llama/llama_index/main/docs/examples/data/10q/uber_10q_june_2022.pdf' -O 'data/10q/uber_10q_june_2022.pdf'\n",
    "!wget 'https://raw.githubusercontent.com/run-llama/llama_index/main/docs/examples/data/10q/uber_10q_sept_2022.pdf' -O 'data/10q/uber_10q_sept_2022.pdf'"
   ]
  },
  {
   "attachments": {},
   "cell_type": "markdown",
   "id": "b99d047b-fbd3-4708-b50e-91b5841e31c8",
   "metadata": {},
   "source": [
    "### Load data"
   ]
  },
  {
   "cell_type": "code",
   "execution_count": 3,
   "id": "67686709-8e12-4e6a-9d74-7031a9c6740b",
   "metadata": {},
   "outputs": [],
   "source": [
    "march_2022 = SimpleDirectoryReader(\n",
    "    input_files=[\"./data/10q/uber_10q_march_2022.pdf\"]\n",
    ").load_data()\n",
    "june_2022 = SimpleDirectoryReader(\n",
    "    input_files=[\"./data/10q/uber_10q_june_2022.pdf\"]\n",
    ").load_data()\n",
    "sept_2022 = SimpleDirectoryReader(\n",
    "    input_files=[\"./data/10q/uber_10q_sept_2022.pdf\"]\n",
    ").load_data()"
   ]
  },
  {
   "attachments": {},
   "cell_type": "markdown",
   "id": "4b2e0aa8-4cd8-4892-a21a-5d4946d26cb2",
   "metadata": {},
   "source": [
    "### Build indices/query engines/tools"
   ]
  },
  {
   "cell_type": "code",
   "execution_count": 7,
   "id": "a0fbfc55-04cb-455f-80af-3b8b6e8828ac",
   "metadata": {},
   "outputs": [],
   "source": [
    "import os\n",
    "def get_tool(name, full_name, documents=None):\n",
    "    if not os.path.exists(f\"./data/{name}\"):\n",
    "        # build vector index\n",
    "        vector_index = VectorStoreIndex.from_documents(documents, service_context=service_context)\n",
    "        vector_index.storage_context.persist(\n",
    "            persist_dir=f\"./data/{name}\"\n",
    "        )\n",
    "    else:\n",
    "        vector_index = load_index_from_storage(\n",
    "            StorageContext.from_defaults(persist_dir=f\"./data/{name}\"),\n",
    "            service_context=service_context,\n",
    "        )\n",
    "    query_engine = vector_index.as_query_engine(similarity_top_k=3)\n",
    "    query_engine_tool = QueryEngineTool(\n",
    "        query_engine=query_engine,\n",
    "        metadata=ToolMetadata(\n",
    "            name=name,\n",
    "            description=(\n",
    "                \"Provides information about Uber quarterly financials ending\"\n",
    "                f\" {full_name}\"\n",
    "            ),\n",
    "        ),\n",
    "    )\n",
    "    return query_engine_tool"
   ]
  },
  {
   "cell_type": "code",
   "execution_count": 8,
   "id": "fcb5bd1b-d33d-459c-9e61-fbde658ae44c",
   "metadata": {},
   "outputs": [],
   "source": [
    "march_tool = get_tool(\"march_2022\", \"March 2022\", documents=march_2022)\n",
    "june_tool = get_tool(\"june_2022\", \"June 2022\", documents=june_2022)\n",
    "sept_tool = get_tool(\"sept_2022\", \"September 2022\", documents=sept_2022)"
   ]
  },
  {
   "cell_type": "code",
   "execution_count": 9,
   "id": "dfa41d65-e45b-4ddd-af51-c0ebc8f31d06",
   "metadata": {},
   "outputs": [],
   "source": [
    "query_engine_tools = [march_tool, june_tool, sept_tool]"
   ]
  },
  {
   "cell_type": "markdown",
   "id": "d4a4d0c6-f329-44a7-bbc9-6b31c1c84288",
   "metadata": {},
   "source": [
    "## Setup Agent\n",
    "\n",
    "In this section we define our tools and setup the agent."
   ]
  },
  {
   "cell_type": "code",
   "execution_count": 10,
   "id": "1452368b-9f3a-4da6-8c5e-11266250f6b3",
   "metadata": {},
   "outputs": [],
   "source": [
    "from llama_index.agent import AgentRunner, OpenAIAgentWorker, OpenAIAgent, ReActAgent\n",
    "from llama_index.agent.openai.step import OpenAIAgentWorker\n",
    "\n",
    "# openai_step_engine = OpenAIAgentWorker.from_tools(\n",
    "#     query_engine_tools, llm=llm, verbose=True\n",
    "# )\n",
    "# agent = AgentRunner(openai_step_engine)\n",
    "# # alternative\n",
    "# agent = OpenAIAgent.from_tools(query_engine_tools, llm=llm, verbose=True)\n",
    "\n",
    "agent_llm = OpenAI(model=\"gpt-3.5-turbo\")\n",
    "# agent_llm = OpenAI(model=\"gpt-4-1106-preview\")\n",
    "\n",
    "agent = ReActAgent.from_tools(\n",
    "    query_engine_tools, llm=agent_llm, verbose=True, max_iterations=20\n",
    ")"
   ]
  },
  {
   "cell_type": "markdown",
   "id": "72a3afb9-d8d2-476c-b2aa-9610bc9aa4a7",
   "metadata": {},
   "source": [
    "## Run Some Queries\n",
    "\n",
    "We now demonstrate the capabilities of our step-wise agent framework. \n",
    "\n",
    "We show how it can handle complex queries, both e2e as well as step by step. \n",
    "\n",
    "We can then show how we can steer the outputs."
   ]
  },
  {
   "cell_type": "markdown",
   "id": "a40f4b0e-1a6d-4928-8ca3-662339adad0c",
   "metadata": {},
   "source": [
    "### Out of the box\n",
    "\n",
    "Calling `chat` will attempt to run the task end-to-end, and we notice that it only ends up calling one tool."
   ]
  },
  {
   "cell_type": "code",
   "execution_count": 11,
   "id": "6d0c59e6-54a3-4d36-b0fe-cb6a8f758d17",
   "metadata": {},
   "outputs": [
    {
     "name": "stdout",
     "output_type": "stream",
     "text": [
      "Added user message to memory: Analyze the changes in R&D expenditures and revenue in the past 3 quarters\n",
      "\u001b[1;3;38;5;200mThought: To analyze the changes in R&D expenditures and revenue in the past 3 quarters, I can use the tools march_2022, june_2022, and sept_2022 to gather the financial information for each quarter.\n",
      "Action: march_2022\n",
      "Action Input: {'input': 'R&D expenditures, revenue'}\n",
      "\u001b[0m\u001b[1;3;34mObservation: Research and development expenses for the three months ended March 31, 2022, were $587 million, which was a 14% increase from $515 million in the same period in 2021. Revenue for the three months ended March 31, 2022, was $6,854 million, a 136% increase from $2,903 million in the same period in 2021.\n",
      "\u001b[0m\u001b[1;3;38;5;200mThought: (Implicit) I can answer without any more tools!\n",
      "Response: Observation: According to the information from the march_2022 tool, the research and development expenses for the three months ended March 31, 2022, were $587 million, which represents a 14% increase from $515 million in the same period in 2021. Additionally, the revenue for the three months ended March 31, 2022, was $6,854 million, showing a significant 136% increase from $2,903 million in the same period in 2021.\n",
      "\u001b[0m"
     ]
    }
   ],
   "source": [
    "response = agent.chat(\n",
    "    \"Analyze the changes in R&D expenditures and revenue in the past 3 quarters\"\n",
    ")"
   ]
  },
  {
   "cell_type": "code",
   "execution_count": null,
   "id": "54bc22fc-af64-4c58-a361-f9d31c2fa47e",
   "metadata": {},
   "outputs": [],
   "source": [
    "print(str(response))"
   ]
  },
  {
   "cell_type": "markdown",
   "id": "bc7289cc-962f-4237-a257-8a7c98063f5c",
   "metadata": {},
   "source": [
    "### Test Step-Wise Execution\n",
    "\n",
    "The end-to-end chat didn't work. Let's try to break it down step-by-step, and inject our own feedback if things are going wrong."
   ]
  },
  {
   "cell_type": "code",
   "execution_count": 19,
   "id": "507612e3-4993-462d-9ac4-d117a4168233",
   "metadata": {},
   "outputs": [],
   "source": [
    "# start task\n",
    "task = agent.create_task(\n",
    "    \"Analyze the changes in R&D expenditures and revenue in the past 3 quarters\"\n",
    ")"
   ]
  },
  {
   "cell_type": "markdown",
   "id": "919eb419-b314-4c1e-b205-ebbf7ab872ee",
   "metadata": {},
   "source": [
    "This returns a `Task` object, which contains the `input`, additional state in `extra_state`, and other fields.\n",
    "\n",
    "Now let's try executing a single step of this task."
   ]
  },
  {
   "cell_type": "code",
   "execution_count": 20,
   "id": "b5853881-240b-4c70-80b0-00fac3a5744c",
   "metadata": {},
   "outputs": [
    {
     "name": "stdout",
     "output_type": "stream",
     "text": [
      "Added user message to memory: Analyze the changes in R&D expenditures and revenue in the past 3 quarters\n",
      "\u001b[1;3;38;5;200mThought: To analyze the changes in R&D expenditures and revenue in the past 3 quarters, I can use the tools that provide information about Uber's quarterly financials for each quarter.\n",
      "Action: sept_22\n",
      "Action Input: {'input': 'R&D expenditures, revenue'}\n",
      "\u001b[0m\u001b[1;3;34mObservation: Research and development expenses for the three months ended September 30, 2022, were $760 million, which was a 54% increase from $493 million in the same period in 2021. For the nine months ended September 30, 2022, research and development expenses were $2,051 million, a 37% increase from $1,496 million in the same period in 2021. The percentage of revenue allocated to research and development was 9% for both the three and nine months ended September 30, 2022, compared to 10% and 13%, respectively, for the same periods in 2021.\n",
      "\u001b[0m"
     ]
    }
   ],
   "source": [
    "step_output = agent.run_step(task.task_id)"
   ]
  },
  {
   "cell_type": "code",
   "execution_count": 21,
   "id": "9b55594d-08f8-47fa-b3c9-156014ed3ae5",
   "metadata": {},
   "outputs": [
    {
     "name": "stdout",
     "output_type": "stream",
     "text": [
      "\u001b[1;3;38;5;200mThought: (Implicit) I can answer without any more tools!\n",
      "Response: Observation: The research and development expenses for the three months ended September 30, 2022, were $760 million, which is a 54% increase from $493 million in the same period in 2021. For the nine months ended September 30, 2022, the research and development expenses were $2,051 million, a 37% increase from $1,496 million in the same period in 2021. The percentage of revenue allocated to research and development was 9% for both the three and nine months ended September 30, 2022, compared to 10% and 13%, respectively, for the same periods in 2021.\n",
      "\u001b[0m"
     ]
    }
   ],
   "source": [
    "step_output = agent.run_step(task.task_id)"
   ]
  },
  {
   "cell_type": "markdown",
   "id": "be344b92-1971-44dd-84e9-e99b9eb8d77a",
   "metadata": {},
   "source": [
    "We run into the **same issue**. The query finished even though we haven't analyzed the docs yet! Can we add a user input? "
   ]
  },
  {
   "cell_type": "code",
   "execution_count": 22,
   "id": "64807f96-7b4c-467b-b81f-fe97ca0e7c1c",
   "metadata": {},
   "outputs": [
    {
     "name": "stdout",
     "output_type": "stream",
     "text": [
      "Added user message to memory: What about June?\n",
      "\u001b[1;3;38;5;200mThought: To provide information about June, I can use the \"june_22\" tool.\n",
      "Action: june_22\n",
      "Action Input: {'input': 'R&D expenditures, revenue'}\n",
      "\u001b[0m\u001b[1;3;34mObservation: Research and development expenses for the three months ended June 30, 2022, were $704 million, which was a 44% increase from $488 million in the same period in 2021. For the six months ended June 30, 2022, research and development expenses were $1,291 million, a 29% increase from $1,003 million in the same period in 2021. The percentage of revenue allocated to research and development decreased from 12% to 9% for the three-month period and from 15% to 9% for the six-month period year-over-year.\n",
      "\u001b[0m"
     ]
    }
   ],
   "source": [
    "step_output = agent.run_step(task.task_id, input=\"What about June?\")"
   ]
  },
  {
   "cell_type": "code",
   "execution_count": 23,
   "id": "ea66e441-bd96-4b17-a4b3-f7e899a97653",
   "metadata": {},
   "outputs": [
    {
     "name": "stdout",
     "output_type": "stream",
     "text": [
      "False\n"
     ]
    }
   ],
   "source": [
    "print(step_output.is_last)"
   ]
  },
  {
   "cell_type": "code",
   "execution_count": 24,
   "id": "c08bff79-06f7-4292-8433-2b320e3e5765",
   "metadata": {},
   "outputs": [
    {
     "name": "stdout",
     "output_type": "stream",
     "text": [
      "Added user message to memory: What about March?\n",
      "\u001b[1;3;38;5;200mThought: To provide information about March, I can use the \"march_22\" tool.\n",
      "Action: march_22\n",
      "Action Input: {'input': 'R&D expenditures, revenue'}\n",
      "\u001b[0m\u001b[1;3;34mObservation: Research and development expenses for the three months ended March 31, 2022, were $587 million, which was a 14% increase from $515 million in the same period in 2021. Revenue for the three months ended March 31, 2022, was $6,854 million, a 136% increase from $2,903 million in the same period in 2021.\n",
      "\u001b[0m"
     ]
    }
   ],
   "source": [
    "step_output = agent.run_step(task.task_id, input=\"What about March?\")"
   ]
  },
  {
   "cell_type": "code",
   "execution_count": 26,
   "id": "c2001243-92ed-4780-b0fe-fd88651b1355",
   "metadata": {},
   "outputs": [
    {
     "name": "stdout",
     "output_type": "stream",
     "text": [
      "\u001b[1;3;38;5;200mThought: I have analyzed the changes in R&D expenditures and revenue for the past 3 quarters using the available tools.\n",
      "Response: Here are the observations for the changes in R&D expenditures and revenue for the past 3 quarters:\n",
      "\n",
      "- September 2022:\n",
      "  - R&D expenses: $760 million (54% increase from September 2021)\n",
      "  - Revenue allocation to R&D: 9% (same as September 2021)\n",
      "\n",
      "- June 2022:\n",
      "  - R&D expenses: $704 million (44% increase from June 2021)\n",
      "  - Revenue allocation to R&D: 9% (decreased from 12% in June 2021)\n",
      "\n",
      "- March 2022:\n",
      "  - R&D expenses: $587 million (14% increase from March 2021)\n",
      "  - Revenue: $6,854 million (136% increase from March 2021)\n",
      "\n",
      "Please note that the revenue information is only available for the March 2022 quarter.\n",
      "\n",
      "Let me know if there's anything else I can help with!\n",
      "\u001b[0m"
     ]
    }
   ],
   "source": [
    "step_output = agent.run_step(task.task_id)"
   ]
  },
  {
   "cell_type": "markdown",
   "id": "c81608f1-d1cf-4f7c-af7a-9b2a6617ca0f",
   "metadata": {},
   "source": [
    "Since the steps look good, we are now ready to call `finalize_response`, get back our response.\n",
    "\n",
    "This will also commit the task execution to the `memory` object present in our `agent_runner`. We can inspect it."
   ]
  },
  {
   "cell_type": "code",
   "execution_count": 27,
   "id": "6f3f1032-3d5e-4968-be43-bd8347e72a9c",
   "metadata": {},
   "outputs": [],
   "source": [
    "response = agent.finalize_response(task.task_id)"
   ]
  },
  {
   "cell_type": "code",
   "execution_count": 28,
   "id": "802ae06c-70a6-475d-a3fb-fb4ef4cf04ca",
   "metadata": {},
   "outputs": [
    {
     "name": "stdout",
     "output_type": "stream",
     "text": [
      "Here are the observations for the changes in R&D expenditures and revenue for the past 3 quarters:\n",
      "\n",
      "- September 2022:\n",
      "  - R&D expenses: $760 million (54% increase from September 2021)\n",
      "  - Revenue allocation to R&D: 9% (same as September 2021)\n",
      "\n",
      "- June 2022:\n",
      "  - R&D expenses: $704 million (44% increase from June 2021)\n",
      "  - Revenue allocation to R&D: 9% (decreased from 12% in June 2021)\n",
      "\n",
      "- March 2022:\n",
      "  - R&D expenses: $587 million (14% increase from March 2021)\n",
      "  - Revenue: $6,854 million (136% increase from March 2021)\n",
      "\n",
      "Please note that the revenue information is only available for the March 2022 quarter.\n",
      "\n",
      "Let me know if there's anything else I can help with!\n"
     ]
    }
   ],
   "source": [
    "print(str(response))"
   ]
  }
 ],
 "metadata": {
  "kernelspec": {
   "display_name": "llama_index_v2",
   "language": "python",
   "name": "llama_index_v2"
  },
  "language_info": {
   "codemirror_mode": {
    "name": "ipython",
    "version": 3
   },
   "file_extension": ".py",
   "mimetype": "text/x-python",
   "name": "python",
   "nbconvert_exporter": "python",
   "pygments_lexer": "ipython3",
   "version": "3.10.10"
  }
 },
 "nbformat": 4,
 "nbformat_minor": 5
}
