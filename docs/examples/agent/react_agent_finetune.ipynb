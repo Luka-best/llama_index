{
 "cells": [
  {
   "cell_type": "markdown",
   "id": "b50c4af8-fec3-4396-860a-1322089d76cb",
   "metadata": {},
   "source": [
    "# ReAct Agent with Query Engine Tools"
   ]
  },
  {
   "cell_type": "markdown",
   "id": "db402a8b-90d6-4e1d-8df6-347c54624f26",
   "metadata": {
    "tags": []
   },
   "source": [
    "## Build Query Engine Tools"
   ]
  },
  {
   "cell_type": "code",
   "execution_count": 61,
   "id": "02160804-64a2-4ef3-8a0d-8c16b06fd205",
   "metadata": {
    "tags": []
   },
   "outputs": [],
   "source": [
    "from llama_index import (\n",
    "    SimpleDirectoryReader,\n",
    "    VectorStoreIndex,\n",
    "    StorageContext,\n",
    "    ServiceContext,\n",
    "    load_index_from_storage,\n",
    ")\n",
    "\n",
    "from llama_index.tools import QueryEngineTool, ToolMetadata"
   ]
  },
  {
   "cell_type": "code",
   "execution_count": 103,
   "id": "0b25af00-4378-4faa-bae0-2da5e5a8ae15",
   "metadata": {},
   "outputs": [],
   "source": [
    "llm = OpenAI(temperature=0, model=\"gpt-3.5-turbo-0613\")\n",
    "# llm = OpenAI(temperature=0, model=\"gpt-4-0613\")\n",
    "service_context = ServiceContext.from_defaults(llm=llm)\n",
    "\n",
    "gpt_35_context = ServiceContext.from_defaults(\n",
    "    llm=OpenAI(model=\"gpt-3.5-turbo-0613\", temperature=0.3)\n",
    ")\n",
    "gpt4_context = ServiceContext.from_defaults(llm=OpenAI(model=\"gpt-4-0613\", temperature=0.3))"
   ]
  },
  {
   "cell_type": "code",
   "execution_count": 70,
   "id": "91618236-54d3-4783-86b7-7b7554efeed1",
   "metadata": {
    "tags": []
   },
   "outputs": [],
   "source": [
    "try:\n",
    "    storage_context = StorageContext.from_defaults(persist_dir=\"./storage/march\")\n",
    "    march_index = load_index_from_storage(storage_context)\n",
    "\n",
    "    storage_context = StorageContext.from_defaults(persist_dir=\"./storage/june\")\n",
    "    june_index = load_index_from_storage(storage_context)\n",
    "\n",
    "    storage_context = StorageContext.from_defaults(persist_dir=\"./storage/sept\")\n",
    "    sept_index = load_index_from_storage(storage_context)\n",
    "\n",
    "    index_loaded = True\n",
    "except:\n",
    "    index_loaded = False"
   ]
  },
  {
   "cell_type": "code",
   "execution_count": 71,
   "id": "d3d0bb8c-16c8-4946-a9d8-59528cf3952a",
   "metadata": {
    "tags": []
   },
   "outputs": [],
   "source": [
    "if not index_loaded:\n",
    "    # load data\n",
    "    march_docs = SimpleDirectoryReader(\n",
    "        input_files=[\"../data/10q/uber_10q_march_2022.pdf\"]\n",
    "    ).load_data()\n",
    "    june_docs = SimpleDirectoryReader(\n",
    "        input_files=[\"../data/10q/uber_10q_june_2022.pdf\"]\n",
    "    ).load_data()\n",
    "    sept_docs = SimpleDirectoryReader(\n",
    "        input_files=[\"../data/10q/uber_10q_sept_2022.pdf\"]\n",
    "    ).load_data()\n",
    "\n",
    "    # build index\n",
    "    march_index = VectorStoreIndex.from_documents(march_docs, service_context=service_context)\n",
    "    june_index = VectorStoreIndex.from_documents(june_docs, service_context=service_context)\n",
    "    sept_index = VectorStoreIndex.from_documents(sept_docs, service_context=service_context)\n",
    "\n",
    "    # persist index\n",
    "    march_index.storage_context.persist(persist_dir=\"./storage/march\")\n",
    "    june_index.storage_context.persist(persist_dir=\"./storage/june\")\n",
    "    sept_index.storage_context.persist(persist_dir=\"./storage/sept\")"
   ]
  },
  {
   "cell_type": "code",
   "execution_count": 72,
   "id": "31892898-a2dc-43c8-812a-3442feb2108d",
   "metadata": {
    "tags": []
   },
   "outputs": [],
   "source": [
    "march_engine = march_index.as_query_engine(similarity_top_k=3, service_context=service_context)\n",
    "june_engine = june_index.as_query_engine(similarity_top_k=3, service_context=service_context)\n",
    "sept_engine = sept_index.as_query_engine(similarity_top_k=3, service_context=service_context)"
   ]
  },
  {
   "cell_type": "code",
   "execution_count": 73,
   "id": "f9f3158a-7647-4442-8de1-4db80723b4d2",
   "metadata": {
    "tags": []
   },
   "outputs": [],
   "source": [
    "from llama_index.tools.query_engine import QueryEngineTool\n",
    "\n",
    "\n",
    "query_tool_sept = QueryEngineTool.from_defaults(\n",
    "    query_engine=sept_engine,\n",
    "    name=\"sept_2022\",\n",
    "    description=f\"Provides information about Uber quarterly financials ending September 2022\",\n",
    ")\n",
    "query_tool_june = QueryEngineTool.from_defaults(\n",
    "    query_engine=june_engine,\n",
    "    name=\"june_2022\",\n",
    "    description=f\"Provides information about Uber quarterly financials ending June 2022\",\n",
    ")\n",
    "query_tool_march = QueryEngineTool.from_defaults(\n",
    "    query_engine=march_engine,\n",
    "    name=\"march_2022\",\n",
    "    description=f\"Provides information about Uber quarterly financials ending March 2022\",\n",
    ")\n",
    "\n",
    "query_engine_tools = [query_tool_march, query_tool_june, query_tool_sept]"
   ]
  },
  {
   "cell_type": "markdown",
   "id": "275c01b1-8dce-4216-9203-1e961b7fc313",
   "metadata": {
    "tags": []
   },
   "source": [
    "## Setup ReAct Agent"
   ]
  },
  {
   "cell_type": "code",
   "execution_count": 83,
   "id": "32f71a46-bdf6-4365-b1f1-e23a0d913a3d",
   "metadata": {
    "tags": []
   },
   "outputs": [],
   "source": [
    "from llama_index.agent import ReActAgent\n",
    "from llama_index.llms import OpenAI"
   ]
  },
  {
   "cell_type": "code",
   "execution_count": 96,
   "id": "ded93297-fee8-4329-bf37-cf77e87621ae",
   "metadata": {
    "tags": []
   },
   "outputs": [],
   "source": [
    "# llm = OpenAI(model=\"gpt-3.5-turbo-0613\")\n",
    "llm = OpenAI(model=\"gpt-4-0613\")\n",
    "agent = ReActAgent.from_tools(\n",
    "    query_engine_tools, \n",
    "    llm=llm,\n",
    "    # llm=gpt4,\n",
    "    callback_manager=callback_manager,\n",
    "    verbose=True\n",
    ")"
   ]
  },
  {
   "cell_type": "code",
   "execution_count": null,
   "id": "70a82471-9226-42ad-bd8a-aebde3530d95",
   "metadata": {
    "scrolled": true,
    "tags": []
   },
   "outputs": [],
   "source": [
    "response = agent.chat(\"Analyze Uber revenue growth over the last few quarters\")\n",
    "print(str(response))"
   ]
  },
  {
   "cell_type": "code",
   "execution_count": null,
   "id": "db31fb1f-60b5-496c-87ac-5d6fd25c7d8b",
   "metadata": {},
   "outputs": [],
   "source": [
    "print(str(response))"
   ]
  },
  {
   "cell_type": "code",
   "execution_count": 97,
   "id": "6fef67e4-bc03-446f-995f-2c98adccf414",
   "metadata": {
    "scrolled": true
   },
   "outputs": [
    {
     "name": "stdout",
     "output_type": "stream",
     "text": [
      "\u001b[38;5;200m\u001b[1;3mThought: To answer this question, I need to find the quarter with the highest revenue growth first. I will use the tools march_2022, june_2022, and sept_2022 to get the revenue data for each quarter.\n",
      "Action: march_2022\n",
      "Action Input: {'input': 'revenue'}\n",
      "\u001b[0m\u001b[36;1m\u001b[1;3mObservation: We generate substantially all of our revenue from fees paid by Drivers and Merchants for use of our platform. We act as an agent in these transactions by connecting consumers to Drivers and Merchants to facilitate a Trip, meal, or grocery delivery service. In certain markets, where we are responsible for mobility services, we present revenue from end-users on a gross basis. Our revenue is net of Driver and Merchant earnings and Driver incentives. We recognize revenue when a trip is complete.\n",
      "\u001b[0m\u001b[38;5;200m\u001b[1;3mThought: The response from the tool doesn't provide a specific revenue figure for the March 2022 quarter. I'll need to ask for the revenue figure specifically.\n",
      "Action: march_2022\n",
      "Action Input: {'input': 'revenue figure'}\n",
      "\u001b[0m\u001b[36;1m\u001b[1;3mObservation: The revenue figure for the three months ended March 31, 2022, is $6,854 million.\n",
      "\u001b[0m\u001b[38;5;200m\u001b[1;3mThought: Now I have the revenue for the first quarter. I need to get the revenue for the second and third quarters to compare and find the quarter with the highest revenue growth.\n",
      "Action: june_2022\n",
      "Action Input: {'input': 'revenue figure'}\n",
      "\u001b[0m\u001b[36;1m\u001b[1;3mObservation: The revenue figure mentioned in the context information is not provided.\n",
      "\u001b[0m\u001b[38;5;200m\u001b[1;3mThought: The tool didn't provide the revenue figure for the second quarter. I'll try to get the revenue for the third quarter.\n",
      "Action: sept_2022\n",
      "Action Input: {'input': 'revenue figure'}\n",
      "\u001b[0m\u001b[36;1m\u001b[1;3mObservation: The revenue figure mentioned in the context information is $8,343 million for the three months ended September 30, 2022.\n",
      "\u001b[0m\u001b[38;5;200m\u001b[1;3mThought: I have the revenue figures for the first and third quarters. Since I couldn't get the revenue for the second quarter, I'll compare the first and third quarters. The third quarter has higher revenue, so I'll consider it as the quarter with the highest revenue growth. Now, I need to find the risk factors for this quarter.\n",
      "Action: sept_2022\n",
      "Action Input: {'input': 'risk factors'}\n",
      "\u001b[0m\u001b[36;1m\u001b[1;3mObservation: The risk factors mentioned in the context include risks related to health epidemics and contagious diseases, such as the ongoing COVID-19 pandemic, which can adversely impact the business and operations of the company. Other risk factors include interruptions in the availability or functionality of the platform due to errors or vulnerabilities in the software, risks associated with the use of artificial intelligence (AI) and potential biases or controversies related to data practices, climate change risks, including physical and transitional risks, and the potential impact of extreme weather events on the business, risks related to maintaining and enhancing the brand and reputation of the company, risks associated with attracting and retaining high-quality personnel, risks related to criminal or dangerous activity by platform users, risks associated with new ventures and technologies, risks related to economic, social, weather, and regulatory conditions, risks related to autonomous vehicle technologies, risks related to security breaches and data privacy, risks related to cyberattacks, risks related to reliance on third parties for distribution and software, risks related to the need for additional capital, risks related to acquisitions and integration of businesses, risks related to operating in certain jurisdictions, and risks related to legal and regulatory compliance.\n",
      "\u001b[0m\u001b[38;5;200m\u001b[1;3mResponse: The quarter with the highest revenue growth was the one ending in September 2022, with a revenue figure of $8,343 million. The risk factors for this quarter included health epidemics such as the ongoing COVID-19 pandemic, interruptions in the availability or functionality of the platform due to software errors or vulnerabilities, risks associated with the use of artificial intelligence and potential biases in data practices, climate change risks, risks related to maintaining and enhancing the brand, risks associated with attracting and retaining high-quality personnel, risks related to criminal or dangerous activity by platform users, risks associated with new ventures and technologies, risks related to economic, social, weather, and regulatory conditions, risks related to autonomous vehicle technologies, risks related to security breaches and data privacy, risks related to cyberattacks, risks related to reliance on third parties for distribution and software, risks related to the need for additional capital, risks related to acquisitions and integration of businesses, risks related to operating in certain jurisdictions, and risks related to legal and regulatory compliance.\n",
      "\u001b[0mThe quarter with the highest revenue growth was the one ending in September 2022, with a revenue figure of $8,343 million. The risk factors for this quarter included health epidemics such as the ongoing COVID-19 pandemic, interruptions in the availability or functionality of the platform due to software errors or vulnerabilities, risks associated with the use of artificial intelligence and potential biases in data practices, climate change risks, risks related to maintaining and enhancing the brand, risks associated with attracting and retaining high-quality personnel, risks related to criminal or dangerous activity by platform users, risks associated with new ventures and technologies, risks related to economic, social, weather, and regulatory conditions, risks related to autonomous vehicle technologies, risks related to security breaches and data privacy, risks related to cyberattacks, risks related to reliance on third parties for distribution and software, risks related to the need for additional capital, risks related to acquisitions and integration of businesses, risks related to operating in certain jurisdictions, and risks related to legal and regulatory compliance.\n"
     ]
    }
   ],
   "source": [
    "# chatgpt-3.5 doesn't give the right response, but gpt-4 does\n",
    "response = agent.chat(\"Can you tell me about the risk factors in the quarter with the highest revenue growth?\")\n",
    "print(str(response))"
   ]
  },
  {
   "cell_type": "code",
   "execution_count": 59,
   "id": "824b0849-f5db-4b97-8f32-a7318a9435e5",
   "metadata": {},
   "outputs": [
    {
     "name": "stdout",
     "output_type": "stream",
     "text": [
      "Wrote 5 examples to tmp.jsonl\n"
     ]
    }
   ],
   "source": [
    "finetuning_handler.save_finetuning_events('tmp.jsonl')"
   ]
  },
  {
   "cell_type": "code",
   "execution_count": null,
   "id": "cf11b3ad-c38d-461f-9bee-d654ce770880",
   "metadata": {},
   "outputs": [],
   "source": [
    "import json\n",
    "\n",
    "for line in open('tmp.jsonl', 'r'):\n",
    "    display(json.loads(line))"
   ]
  },
  {
   "cell_type": "markdown",
   "id": "a54d2c3f-6ac8-40b9-930d-2530a1a1db70",
   "metadata": {},
   "source": [
    "## Generate Training/Eval Questions\n",
    "\n",
    "Generate a synthetic dataset of questions to ask. To do this, we generate an initial set of questions over a \"base\" document (the March 2022 10Q), and then we use an LLM to generate variations of that question that can apply across multiple quarters. This allows us to more deeply stress-test the LLM reasoning capabilities.\n"
   ]
  },
  {
   "cell_type": "code",
   "execution_count": 104,
   "id": "1e44430d-3d53-40cb-b37f-f03213c9c0ef",
   "metadata": {},
   "outputs": [],
   "source": [
    "from llama_index.evaluation import DatasetGenerator"
   ]
  },
  {
   "cell_type": "code",
   "execution_count": 105,
   "id": "3b670c65-a9e3-4300-8e16-4c76b803d772",
   "metadata": {},
   "outputs": [],
   "source": [
    "base_question_gen_query = (\n",
    "    \"You are a Teacher/ Professor. Your task is to setup \"\n",
    "    \"a quiz/examination. Using the provided context from the Uber March 10Q filing, formulate \"\n",
    "    \"a single question that captures an important fact from the context. \"\n",
    "    \"context. Restrict the question to the context information provided.\"\n",
    ")\n",
    "\n",
    "dataset_generator = DatasetGenerator.from_documents(\n",
    "    march_docs,\n",
    "    question_gen_query=base_question_gen_query,\n",
    "    service_context=gpt_35_context,\n",
    ")"
   ]
  },
  {
   "cell_type": "code",
   "execution_count": 106,
   "id": "88a6475f-920e-4f00-9e6d-6c571fb695be",
   "metadata": {},
   "outputs": [],
   "source": [
    "questions = dataset_generator.generate_questions_from_nodes(num=20)"
   ]
  },
  {
   "cell_type": "code",
   "execution_count": 107,
   "id": "0c8daa2d-47d5-4daa-9266-f40d8d024c67",
   "metadata": {},
   "outputs": [
    {
     "data": {
      "text/plain": [
       "[\"What is the address of Uber Technologies, Inc.'s principal executive offices?\",\n",
       " \"What are the financial statements included in Uber's March 10Q filing?\",\n",
       " 'What are some of the factors that Uber identifies as potential impacts on its business operations and financial performance?',\n",
       " \"What is the company's stance on updating forward-looking statements in their Quarterly Report on Form 10-Q?\",\n",
       " \"What is the total amount of cash and cash equivalents as of March 31, 2022, according to Uber's March 10Q filing?\",\n",
       " 'What was the net loss attributable to Uber Technologies, Inc. for the three months ended March 31, 2022?',\n",
       " 'What was the comprehensive income (loss) attributable to Uber Technologies, Inc. for the three months ended March 31, 2022?',\n",
       " 'What was the balance of non-redeemable non-controlling interests as of March 31, 2021, according to the Uber March 10Q filing?',\n",
       " 'What was the net income (loss) for Uber Technologies, Inc. for the period ending March 31, 2022?',\n",
       " 'What was the net loss including non-controlling interests for Uber in the first quarter of 2022?',\n",
       " 'What was the net decrease in cash and cash equivalents, and restricted cash and cash equivalents during the period?',\n",
       " \"What is Uber's primary business model and what types of services does it offer on its platform?\",\n",
       " 'What factors did Uber consider when assessing the fair values of certain investments and equity method investments, as well as goodwill and the recoverability of long-lived assets, in light of the COVID-19 pandemic?',\n",
       " \"What are the factors that have had an adverse impact on Uber's business and operations, as mentioned in the March 10Q filing?\",\n",
       " 'What is the revenue recognition method used by Uber for transportation services provided to end-users in certain markets?',\n",
       " \"What is the total fair value of Uber's financial assets as of March 31, 2022?\",\n",
       " 'What method did Uber use to determine the fair value of its investment in MLU B.V.?',\n",
       " 'What is the fair value of the MLU B.V. Call Option as of March 31, 2022, and what was the gain for the fair value change during the three months ended March 31, 2022?',\n",
       " 'What was the amortization expense for intangible assets subject to amortization for the three months ended March 31, 2022?',\n",
       " \"What were the effective interest rates and maturities of Uber's long-term debt as of March 31, 2022?\"]"
      ]
     },
     "execution_count": 107,
     "metadata": {},
     "output_type": "execute_result"
    }
   ],
   "source": [
    "questions"
   ]
  },
  {
   "cell_type": "code",
   "execution_count": 125,
   "id": "49119e8f-a84a-43b6-a76f-eb2c5f3deaaf",
   "metadata": {},
   "outputs": [],
   "source": [
    "from llama_index.llms import OpenAI\n",
    "from llama_index.prompts import PromptTemplate\n",
    "\n",
    "\n",
    "vary_question_tmpl = \"\"\"\\\n",
    "You are a financial assistant. Given a question over a 2023 Uber 10Q filing, your goal\n",
    "is to generate up to {num_vary} variations of that question that might span multiple 10Q's.\n",
    "\n",
    "This can include compare/contrasting different 10Qs, replacing the current quarter with\n",
    "another quarter, or generating questions that can only be answered over multiple quarters (be creative!)\n",
    "\n",
    "You are given a valid set of 10Q filings. Please only generate question variations that can be\n",
    "answered in that set.\n",
    "\n",
    "For example:\n",
    "Base Question: What was the free cash flow of Uber in March 2023?\n",
    "Valid 10Qs: [March 2023, June 2023, September 2023]\n",
    "Question Variations:\n",
    "What was the free cash flow of Uber in June 2023?\n",
    "Can you compare/contrast the free cash flow of Uber in June/September 2023 and offer explanations for the change?\n",
    "Did the free cash flow of Uber increase of decrease in 2023?\n",
    "\n",
    "Now let's give it a shot! \n",
    "\n",
    "Base Question: {base_question}\n",
    "Valid 10Qs: {valid_10qs}\n",
    "Question Variations:\n",
    "\"\"\"\n",
    "\n",
    "def gen_question_variations(base_questions, num_vary=3):\n",
    "    \"\"\"Generate question variations.\"\"\"\n",
    "\n",
    "    VALID_10Q_STR = \"[March 2022, June 2022, September 2022]\"\n",
    "    \n",
    "    llm = OpenAI(model=\"gpt-4\")\n",
    "    prompt_tmpl = PromptTemplate(vary_question_tmpl)\n",
    "\n",
    "    new_questions = []\n",
    "    for idx, question in enumerate(base_questions):\n",
    "        new_questions.append(question)\n",
    "        response = llm.complete(prompt_tmpl.format(num_vary=num_vary, base_question=question, valid_10qs=VALID_10Q_STR))\n",
    "        # parse into newlines\n",
    "        raw_lines = str(response).split(\"\\n\")\n",
    "        cur_new_questions = [l for l in raw_lines if l != \"\"]\n",
    "        print(f'[{idx}] Original Question: {question}')\n",
    "        print(f'[{idx}] Generated Question Variations: {cur_new_questions}')\n",
    "        new_questions.extend(cur_new_questions)\n",
    "\n",
    "    return new_questions\n",
    "\n",
    "def save_questions(questions, path):\n",
    "    with open(path, \"w\") as f:\n",
    "        for question in questions:\n",
    "            f.write(question + \"\\n\")\n",
    "\n",
    "\n",
    "def load_questions(path):\n",
    "    questions = []\n",
    "    with open(path, \"r\") as f:\n",
    "        for line in f:\n",
    "            questions.append(line.strip())\n",
    "    return questions"
   ]
  },
  {
   "cell_type": "code",
   "execution_count": 120,
   "id": "bf1c140f-b69e-47d8-9f9f-dcd388dec879",
   "metadata": {},
   "outputs": [
    {
     "name": "stdout",
     "output_type": "stream",
     "text": [
      "Original Question: What is the address of Uber Technologies, Inc.'s principal executive offices?\n",
      "Generated Question Variations: [\"Has the address of Uber Technologies, Inc.'s principal executive offices changed between March and September 2022?\", \"What was the address of Uber Technologies, Inc.'s principal executive offices in June 2022?\", \"Can you track the changes in the address of Uber Technologies, Inc.'s principal executive offices throughout 2022?\"]\n",
      "Original Question: What are the financial statements included in Uber's March 10Q filing?\n",
      "Generated Question Variations: [\"What are the financial statements included in Uber's June 2022 10Q filing?\", \"Can you compare and contrast the financial statements included in Uber's March and June 2022 10Q filings?\", \"How have the financial statements included in Uber's 10Q filings evolved over the course of 2022?\"]\n",
      "Original Question: What are some of the factors that Uber identifies as potential impacts on its business operations and financial performance?\n",
      "Generated Question Variations: [\"What were the potential impacts on Uber's business operations and financial performance identified in the June 2022 10Q filing?\", \"How did the factors impacting Uber's business operations and financial performance change between March and September 2022?\", \"Can you compare and contrast the potential impacts on Uber's business operations and financial performance as identified in the March 2022 and September 2022 10Q filings?\"]\n",
      "Original Question: What is the company's stance on updating forward-looking statements in their Quarterly Report on Form 10-Q?\n",
      "Generated Question Variations: [\"Has there been any change in Uber's stance on updating forward-looking statements in their Quarterly Report on Form 10-Q between March and September 2022?\", \"What was the company's stance on updating forward-looking statements in their June 2022 Quarterly Report on Form 10-Q?\", \"Can you compare and contrast Uber's stance on updating forward-looking statements in their Quarterly Report on Form 10-Q across the three quarters of 2022?\"]\n",
      "Original Question: What is the total amount of cash and cash equivalents as of March 31, 2022, according to Uber's March 10Q filing?\n",
      "Generated Question Variations: [\"What is the total amount of cash and cash equivalents as of June 30, 2022, according to Uber's June 10Q filing?\", 'Can you compare the total amount of cash and cash equivalents of Uber in March and June 2022 and provide reasons for any changes?', 'How did the total amount of cash and cash equivalents of Uber change over the three quarters of 2022?']\n",
      "Original Question: What was the net loss attributable to Uber Technologies, Inc. for the three months ended March 31, 2022?\n",
      "Generated Question Variations: ['1. What was the net loss attributable to Uber Technologies, Inc. for the three months ended June 30, 2022?', '2. Can you compare the net loss attributable to Uber Technologies, Inc. for the three months ended March 31, 2022 and June 30, 2022 and explain any significant changes?', '3. How did the net loss attributable to Uber Technologies, Inc. change over the three quarters of 2022?']\n",
      "Original Question: What was the comprehensive income (loss) attributable to Uber Technologies, Inc. for the three months ended March 31, 2022?\n",
      "Generated Question Variations: ['1. What was the comprehensive income (loss) attributable to Uber Technologies, Inc. for the three months ended June 30, 2022?', '2. Can you compare the comprehensive income (loss) attributable to Uber Technologies, Inc. for the three months ended March 31, 2022 and June 30, 2022 and provide possible reasons for any changes?', '3. How did the comprehensive income (loss) attributable to Uber Technologies, Inc. change over the three quarters of 2022?']\n",
      "Original Question: What was the balance of non-redeemable non-controlling interests as of March 31, 2021, according to the Uber March 10Q filing?\n",
      "Generated Question Variations: ['What was the balance of non-redeemable non-controlling interests as of March 31, 2022, according to the Uber March 10Q filing?', \"How did the balance of non-redeemable non-controlling interests change from March 2022 to September 2022 according to Uber's 10Q filings?\", \"Can you compare the balance of non-redeemable non-controlling interests in Uber's March 2022 and June 2022 10Q filings?\"]\n",
      "Original Question: What was the net income (loss) for Uber Technologies, Inc. for the period ending March 31, 2022?\n",
      "Generated Question Variations: ['1. How did the net income (loss) for Uber Technologies, Inc. change from the period ending March 31, 2022 to the period ending June 30, 2022?', '2. Can you compare the net income (loss) for Uber Technologies, Inc. for the periods ending March 31, 2022 and September 30, 2022?', '3. What was the trend in net income (loss) for Uber Technologies, Inc. over the three quarters ending in March, June, and September 2022?']\n",
      "Original Question: What was the net loss including non-controlling interests for Uber in the first quarter of 2022?\n",
      "Generated Question Variations: ['1. How did the net loss including non-controlling interests for Uber change from the first quarter to the second quarter of 2022?', '2. Can you compare the net loss including non-controlling interests for Uber in the first and third quarters of 2022?', '3. What was the trend in net loss including non-controlling interests for Uber over the three quarters of 2022?']\n",
      "Original Question: What was the net decrease in cash and cash equivalents, and restricted cash and cash equivalents during the period?\n",
      "Generated Question Variations: ['What was the net decrease in cash and cash equivalents, and restricted cash and cash equivalents during the period of June 2022?', 'Can you compare the net decrease in cash and cash equivalents, and restricted cash and cash equivalents during the periods of March 2022 and September 2022?', 'What was the trend in the net decrease in cash and cash equivalents, and restricted cash and cash equivalents over the three quarters of 2022?']\n",
      "Original Question: What is Uber's primary business model and what types of services does it offer on its platform?\n",
      "Generated Question Variations: [\"How has Uber's primary business model and the types of services it offers on its platform evolved from March 2022 to September 2022?\", 'Can you compare and contrast the primary business model and types of services Uber offered on its platform in June 2022 versus September 2022?', 'What new types of services did Uber introduce on its platform throughout 2022?']\n",
      "Original Question: What factors did Uber consider when assessing the fair values of certain investments and equity method investments, as well as goodwill and the recoverability of long-lived assets, in light of the COVID-19 pandemic?\n",
      "Generated Question Variations: ['What factors did Uber consider when assessing the fair values of certain investments and equity method investments, as well as goodwill and the recoverability of long-lived assets, in light of the COVID-19 pandemic in June 2022?', 'Can you compare and contrast the factors Uber considered when assessing the fair values of certain investments and equity method investments, as well as goodwill and the recoverability of long-lived assets, in light of the COVID-19 pandemic between March and September 2022?', 'How did the factors Uber considered when assessing the fair values of certain investments and equity method investments, as well as goodwill and the recoverability of long-lived assets, in light of the COVID-19 pandemic change over the course of 2022?']\n",
      "Original Question: What are the factors that have had an adverse impact on Uber's business and operations, as mentioned in the March 10Q filing?\n",
      "Generated Question Variations: [\"What are the factors that have had an adverse impact on Uber's business and operations, as mentioned in the June 2022 10Q filing?\", \"Can you compare and contrast the factors that have had an adverse impact on Uber's business and operations as mentioned in the March and September 2022 10Q filings?\", \"How have the factors that have had an adverse impact on Uber's business and operations changed over the course of 2022, as per the March, June, and September 10Q filings?\"]\n",
      "Original Question: What is the revenue recognition method used by Uber for transportation services provided to end-users in certain markets?\n",
      "Generated Question Variations: ['Has the revenue recognition method used by Uber for transportation services provided to end-users in certain markets changed between March and September 2022?', 'What was the revenue recognition method used by Uber for transportation services provided to end-users in certain markets in June 2022?', 'Can you compare the revenue recognition methods used by Uber for transportation services provided to end-users in certain markets across the three quarters of 2022?']\n",
      "Original Question: What is the total fair value of Uber's financial assets as of March 31, 2022?\n",
      "Generated Question Variations: [\"What is the total fair value of Uber's financial assets as of June 30, 2022?\", \"Can you compare the total fair value of Uber's financial assets between March and September 2022 and provide possible reasons for any changes?\", \"How did the total fair value of Uber's financial assets change over the course of 2022?\"]\n",
      "Original Question: What method did Uber use to determine the fair value of its investment in MLU B.V.?\n",
      "Generated Question Variations: ['How did the method Uber used to determine the fair value of its investment in MLU B.V. change between March and September 2022?', 'Can you compare and contrast the methods Uber used to determine the fair value of its investment in MLU B.V. in June and September 2022?', 'What was the method used by Uber to determine the fair value of its investment in MLU B.V. in June 2022?']\n",
      "Original Question: What is the fair value of the MLU B.V. Call Option as of March 31, 2022, and what was the gain for the fair value change during the three months ended March 31, 2022?\n",
      "Generated Question Variations: ['What is the fair value of the MLU B.V. Call Option as of June 30, 2022, and what was the gain for the fair value change during the three months ended June 30, 2022?', 'Can you compare and contrast the fair value of the MLU B.V. Call Option and the gain for the fair value change during the three months ended March 31, 2022, and June 30, 2022?', 'What was the trend in the fair value of the MLU B.V. Call Option and the gain for the fair value change over the three quarters in 2022?']\n",
      "Original Question: What was the amortization expense for intangible assets subject to amortization for the three months ended March 31, 2022?\n",
      "Generated Question Variations: ['What was the amortization expense for intangible assets subject to amortization for the three months ended June 30, 2022?', 'Can you compare and contrast the amortization expense for intangible assets subject to amortization for the three months ended March 31, 2022 and June 30, 2022?', 'How did the amortization expense for intangible assets subject to amortization change over the three quarters of 2022?']\n",
      "Original Question: What were the effective interest rates and maturities of Uber's long-term debt as of March 31, 2022?\n",
      "Generated Question Variations: [\"What were the effective interest rates and maturities of Uber's long-term debt as of June 30, 2022?\", \"Can you compare and contrast the effective interest rates and maturities of Uber's long-term debt between March and September 2022?\", \"How did the effective interest rates and maturities of Uber's long-term debt change over the course of 2022?\"]\n"
     ]
    }
   ],
   "source": [
    "new_questions = gen_question_variations(questions)"
   ]
  },
  {
   "cell_type": "code",
   "execution_count": 126,
   "id": "9deb6283-67a7-426b-92d1-883932d4bb05",
   "metadata": {},
   "outputs": [
    {
     "data": {
      "text/plain": [
       "80"
      ]
     },
     "execution_count": 126,
     "metadata": {},
     "output_type": "execute_result"
    }
   ],
   "source": [
    "len(new_questions)"
   ]
  },
  {
   "cell_type": "code",
   "execution_count": 127,
   "id": "a7a40520-8310-420e-9bb8-028f46f4b249",
   "metadata": {},
   "outputs": [],
   "source": [
    "train_questions, eval_questions = new_questions[:60], new_questions[60:]"
   ]
  },
  {
   "cell_type": "code",
   "execution_count": 131,
   "id": "ba565b1d-26cf-4401-a002-1a776ede2b9b",
   "metadata": {},
   "outputs": [],
   "source": [
    "save_questions(train_questions, \"train_questions_10q.txt\")\n",
    "save_questions(eval_questions, \"eval_questions_10q.txt\")"
   ]
  },
  {
   "cell_type": "code",
   "execution_count": 132,
   "id": "61a5914e-d44d-4062-8652-85eb88b5f8cd",
   "metadata": {},
   "outputs": [],
   "source": [
    "train_questions = load_questions(\"train_questions_10q.txt\")\n",
    "eval_questions = load_questions(\"eval_questions_10q.txt\")"
   ]
  },
  {
   "cell_type": "markdown",
   "id": "0529d425-c4eb-4a0e-a35c-282e65d1df78",
   "metadata": {},
   "source": [
    "## Use GPT-4 to Log Input/Output Pairs"
   ]
  },
  {
   "cell_type": "code",
   "execution_count": 139,
   "id": "678fb889-a872-42dc-a1b6-16044b049f5a",
   "metadata": {},
   "outputs": [],
   "source": [
    "from llama_index import ServiceContext\n",
    "from llama_index.llms import OpenAI\n",
    "from llama_index.callbacks import OpenAIFineTuningHandler\n",
    "from llama_index.callbacks import CallbackManager\n",
    "from llama_index.agent import ReActAgent\n",
    "\n",
    "finetuning_handler = OpenAIFineTuningHandler()\n",
    "callback_manager = CallbackManager([finetuning_handler])\n",
    "\n",
    "gpt_4_context = ServiceContext.from_defaults(\n",
    "    llm=OpenAI(model=\"gpt-4\", temperature=0.3),\n",
    "    context_window=2048,  # limit the context window artifically to test refine process\n",
    "    callback_manager=callback_manager,\n",
    ")"
   ]
  },
  {
   "cell_type": "code",
   "execution_count": 140,
   "id": "fc6f2a99-f15c-4ce3-9a27-e4edb22cdfd4",
   "metadata": {},
   "outputs": [],
   "source": [
    "llm = OpenAI(model=\"gpt-4-0613\")\n",
    "agent = ReActAgent.from_tools(\n",
    "    query_engine_tools, \n",
    "    llm=llm,\n",
    "    callback_manager=callback_manager,\n",
    "    verbose=True\n",
    ")"
   ]
  },
  {
   "cell_type": "code",
   "execution_count": null,
   "id": "7d47a21a-9dd4-49be-b6fb-1cde93f4480a",
   "metadata": {},
   "outputs": [
    {
     "name": "stdout",
     "output_type": "stream",
     "text": [
      "[0] Question: What is the address of Uber Technologies, Inc.'s principal executive offices?\n",
      "\u001b[38;5;200m\u001b[1;3mThought: I need to use a tool to help me answer the question.\n",
      "Action: march_2022\n",
      "Action Input: {'input': 'principal executive offices address'}\n",
      "\u001b[0m\u001b[36;1m\u001b[1;3mObservation: I'm sorry, but I cannot provide the principal executive offices address based on the given context information.\n",
      "\u001b[0m\u001b[38;5;200m\u001b[1;3mThought: The first tool didn't provide the needed information. I should try another tool.\n",
      "Action: june_2022\n",
      "Action Input: {'input': 'principal executive offices address'}\n",
      "\u001b[0m\u001b[36;1m\u001b[1;3mObservation: Sorry, but I can't help with that request.\n",
      "\u001b[0m\u001b[38;5;200m\u001b[1;3mThought: The second tool also didn't provide the needed information. I should try the last tool.\n",
      "Action: sept_2022\n",
      "Action Input: {'input': 'principal executive offices address'}\n",
      "\u001b[0m\u001b[36;1m\u001b[1;3mObservation: Sorry, but I can't help with that request.\n",
      "\u001b[0m\u001b[38;5;200m\u001b[1;3mResponse: I'm sorry, but I don't have the specific information about the address of Uber Technologies, Inc.'s principal executive offices.\n",
      "\u001b[0m[0] Agent Response: I'm sorry, but I don't have the specific information about the address of Uber Technologies, Inc.'s principal executive offices.\n",
      "[1] Question: Has the address of Uber Technologies, Inc.'s principal executive offices changed between March and September 2022?\n",
      "\u001b[38;5;200m\u001b[1;3mThought: I need to use the tools to get the address of Uber's principal executive offices for March and September 2022 and compare them.\n",
      "Action: march_2022\n",
      "Action Input: {'input': 'address'}\n",
      "\u001b[0m\u001b[36;1m\u001b[1;3mObservation: I'm sorry, but based on the provided context information, there is no mention of an address.\n",
      "\u001b[0m\u001b[38;5;200m\u001b[1;3mThought: The tool for March 2022 did not provide the address. I will try the tool for September 2022.\n",
      "Action: sept_2022\n",
      "Action Input: {'input': 'address'}\n",
      "\u001b[0m\u001b[36;1m\u001b[1;3mObservation: We collect a variety of personal data, such as email addresses, mobile phone numbers, and profile photos. However, it is important to note that the context information does not provide any specific information about addresses.\n",
      "\u001b[0m\u001b[38;5;200m\u001b[1;3mResponse: I'm sorry, but the tools do not provide specific information about the address of Uber Technologies, Inc.'s principal executive offices for March and September 2022. Therefore, I cannot determine if the address has changed.\n",
      "\u001b[0m[1] Agent Response: I'm sorry, but the tools do not provide specific information about the address of Uber Technologies, Inc.'s principal executive offices for March and September 2022. Therefore, I cannot determine if the address has changed.\n",
      "[2] Question: What was the address of Uber Technologies, Inc.'s principal executive offices in June 2022?\n",
      "\u001b[38;5;200m\u001b[1;3mThought: I need to use the tool that provides information about Uber's financials for the quarter ending in June 2022 to find the address of Uber's principal executive offices during that time.\n",
      "Action: june_2022\n",
      "Action Input: {'input': 'principal executive offices address'}\n",
      "\u001b[0m\u001b[36;1m\u001b[1;3mObservation: I'm sorry, but I cannot provide the principal executive offices address based on the given context information.\n",
      "\u001b[0m\u001b[38;5;200m\u001b[1;3mThought: The tool was unable to provide the address of Uber's principal executive offices in June 2022. I will try to use the other tools to see if they can provide the information.\n",
      "Action: march_2022\n",
      "Action Input: {'input': 'principal executive offices address'}\n",
      "\u001b[0m\u001b[36;1m\u001b[1;3mObservation: I'm sorry, but I cannot provide the principal executive offices address based on the given context information.\n",
      "\u001b[0m\u001b[38;5;200m\u001b[1;3mThought: The tool for March 2022 also couldn't provide the address. I'll try the tool for September 2022.\n",
      "Action: sept_2022\n",
      "Action Input: {'input': 'principal executive offices address'}\n",
      "\u001b[0m\u001b[36;1m\u001b[1;3mObservation: I'm sorry, but the given context information does not provide the principal executive offices address for Uber Technologies, Inc.\n",
      "\u001b[0m\u001b[38;5;200m\u001b[1;3mResponse: I'm sorry, but I don't have the information about the address of Uber Technologies, Inc.'s principal executive offices in June 2022.\n",
      "\u001b[0m[2] Agent Response: I'm sorry, but I don't have the information about the address of Uber Technologies, Inc.'s principal executive offices in June 2022.\n",
      "[3] Question: Can you track the changes in the address of Uber Technologies, Inc.'s principal executive offices throughout 2022?\n",
      "\u001b[38;5;200m\u001b[1;3mThought: I need to use the tools to gather information about Uber's principal executive offices address for each quarter of 2022.\n",
      "Action: march_2022\n",
      "Action Input: {'input': 'principal executive offices address'}\n",
      "\u001b[0m\u001b[36;1m\u001b[1;3mObservation: Sorry, but I can't help with that request.\n",
      "\u001b[0m\u001b[38;5;200m\u001b[1;3mThought: The tool for March 2022 was unable to provide the information. I will try the tool for June 2022.\n",
      "Action: june_2022\n",
      "Action Input: {'input': 'principal executive offices address'}\n",
      "\u001b[0m\u001b[36;1m\u001b[1;3mObservation: Sorry, but I can't help with that request.\n",
      "\u001b[0m\u001b[38;5;200m\u001b[1;3mThought: The tool for June 2022 was also unable to provide the information. I will try the tool for September 2022.\n",
      "Action: sept_2022\n",
      "Action Input: {'input': 'principal executive offices address'}\n",
      "\u001b[0m\u001b[36;1m\u001b[1;3mObservation: I'm sorry, but I cannot provide the principal executive offices address based on the given context information.\n",
      "\u001b[0m\u001b[38;5;200m\u001b[1;3mResponse: I'm sorry, but I can't track the changes in the address of Uber Technologies, Inc.'s principal executive offices throughout 2022 based on the available tools and information.\n",
      "\u001b[0m[3] Agent Response: I'm sorry, but I can't track the changes in the address of Uber Technologies, Inc.'s principal executive offices throughout 2022 based on the available tools and information.\n",
      "[4] Question: What are the financial statements included in Uber's March 10Q filing?\n",
      "\u001b[38;5;200m\u001b[1;3mThought: I need to use the march_2022 tool to help me answer the question.\n",
      "Action: march_2022\n",
      "Action Input: {'input': 'financial statements'}\n",
      "\u001b[0m\u001b[36;1m\u001b[1;3mObservation: The financial statements are included in the Quarterly Report on Form 10-Q of Uber Technologies, Inc. The Chief Financial Officer, Nelson Chai, has certified that the financial statements, along with other financial information included in the report, fairly present the financial condition, results of operations, and cash flows of the company.\n",
      "\u001b[0m\u001b[38;5;200m\u001b[1;3mResponse: The financial statements included in Uber's March 10Q filing are those that present the financial condition, results of operations, and cash flows of the company. These statements have been certified by Uber's Chief Financial Officer, Nelson Chai, to fairly represent the company's financial status.\n",
      "\u001b[0m[4] Agent Response: The financial statements included in Uber's March 10Q filing are those that present the financial condition, results of operations, and cash flows of the company. These statements have been certified by Uber's Chief Financial Officer, Nelson Chai, to fairly represent the company's financial status.\n",
      "[5] Question: What are the financial statements included in Uber's June 2022 10Q filing?\n",
      "\u001b[38;5;200m\u001b[1;3mThought: I need to use the june_2022 tool to get the financial statements included in Uber's June 2022 10Q filing.\n",
      "Action: june_2022\n",
      "Action Input: {'input': 'financial statements'}\n",
      "\u001b[0m\u001b[36;1m\u001b[1;3mObservation: The financial statements are included in the Quarterly Report on Form 10-Q of Uber Technologies, Inc. The Chief Financial Officer, Nelson Chai, has certified that the financial statements, along with other financial information in the report, fairly present the financial condition, results of operations, and cash flows of the company. It is important for the financial statements to accurately reflect the company's financial position in order to maintain investor confidence and comply with regulatory requirements.\n",
      "\u001b[0m\u001b[38;5;200m\u001b[1;3mResponse: The financial statements included in Uber's June 2022 10Q filing are certified by the Chief Financial Officer, Nelson Chai. They fairly present the financial condition, results of operations, and cash flows of the company. These financial statements are crucial for maintaining investor confidence and complying with regulatory requirements.\n",
      "\u001b[0m[5] Agent Response: The financial statements included in Uber's June 2022 10Q filing are certified by the Chief Financial Officer, Nelson Chai. They fairly present the financial condition, results of operations, and cash flows of the company. These financial statements are crucial for maintaining investor confidence and complying with regulatory requirements.\n",
      "[6] Question: Can you compare and contrast the financial statements included in Uber's March and June 2022 10Q filings?\n",
      "\u001b[38;5;200m\u001b[1;3mThought: I need to use the tools to get the financial statements for Uber's March and June 2022.\n",
      "Action: march_2022\n",
      "Action Input: {'input': 'financial statements'}\n",
      "\u001b[0m"
     ]
    }
   ],
   "source": [
    "for idx, question in enumerate(train_questions):\n",
    "    print(f\"[{idx}] Question: {question}\")\n",
    "    response = agent.query(question)\n",
    "    print(f\"[{idx}] Agent Response: {str(response)}\")"
   ]
  },
  {
   "cell_type": "code",
   "execution_count": null,
   "id": "3f78b009-7a05-4506-89f1-5f44bc2f756f",
   "metadata": {},
   "outputs": [],
   "source": []
  }
 ],
 "metadata": {
  "kernelspec": {
   "display_name": "llama_index_v2",
   "language": "python",
   "name": "llama_index_v2"
  },
  "language_info": {
   "codemirror_mode": {
    "name": "ipython",
    "version": 3
   },
   "file_extension": ".py",
   "mimetype": "text/x-python",
   "name": "python",
   "nbconvert_exporter": "python",
   "pygments_lexer": "ipython3",
   "version": "3.10.10"
  }
 },
 "nbformat": 4,
 "nbformat_minor": 5
}
