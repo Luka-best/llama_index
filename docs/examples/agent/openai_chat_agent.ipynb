{
 "cells": [
  {
   "cell_type": "markdown",
   "id": "99cea58c-48bc-4af6-8358-df9695659983",
   "metadata": {
    "tags": []
   },
   "source": [
    "# OpenAI Chat Agent"
   ]
  },
  {
   "cell_type": "markdown",
   "id": "707d30b8-6405-4187-a9ed-6146dcc42167",
   "metadata": {
    "tags": []
   },
   "source": [
    "## Define tools"
   ]
  },
  {
   "cell_type": "code",
   "execution_count": 1,
   "id": "08b2eb57-b039-4b3d-bd01-02c869cbf254",
   "metadata": {
    "tags": []
   },
   "outputs": [],
   "source": [
    "from llama_index.tools import FunctionTool"
   ]
  },
  {
   "cell_type": "code",
   "execution_count": 2,
   "id": "3dd3c4a6-f3e0-46f9-ad3b-7ba57d1bc992",
   "metadata": {
    "tags": []
   },
   "outputs": [],
   "source": [
    "def multiply(a: int, b: int) -> int:\n",
    "    \"\"\"Multiple two integers and returns the result integer\"\"\"\n",
    "    return a * b\n",
    "\n",
    "\n",
    "multiply_tool = FunctionTool.from_defaults(fn=multiply)"
   ]
  },
  {
   "cell_type": "code",
   "execution_count": 3,
   "id": "bfcfb78b-7d4f-48d9-8d4c-ffcded23e7ac",
   "metadata": {
    "tags": []
   },
   "outputs": [],
   "source": [
    "def add(a: int, b: int) -> int:\n",
    "    \"\"\"Add two integers and returns the result integer\"\"\"\n",
    "    return a + b\n",
    "\n",
    "add_tool = FunctionTool.from_defaults(fn=add)"
   ]
  },
  {
   "cell_type": "markdown",
   "id": "7a0846b4-eed7-40e3-a82e-60bae1f81e7f",
   "metadata": {},
   "source": [
    "## Define agent"
   ]
  },
  {
   "cell_type": "code",
   "execution_count": 4,
   "id": "0d695d2c-bacd-460b-9119-c2c3a5c0256a",
   "metadata": {
    "tags": []
   },
   "outputs": [],
   "source": [
    "from llama_index.agent import OpenAIChatAgent"
   ]
  },
  {
   "cell_type": "code",
   "execution_count": 5,
   "id": "d852ece7-e5a1-4368-9d59-c7014e0b5b4d",
   "metadata": {
    "tags": []
   },
   "outputs": [],
   "source": [
    "agent = OpenAIChatAgent.from_tools([multiply_tool, add_tool])"
   ]
  },
  {
   "cell_type": "code",
   "execution_count": 6,
   "id": "33ea069f-819b-4ec1-a93c-fcbaacb362a1",
   "metadata": {
    "tags": []
   },
   "outputs": [
    {
     "data": {
      "text/plain": [
       "Response(response='Hello! How can I assist you today?', source_nodes=[], extra_info=None)"
      ]
     },
     "execution_count": 6,
     "metadata": {},
     "output_type": "execute_result"
    }
   ],
   "source": [
    "agent.chat('Hi')"
   ]
  },
  {
   "cell_type": "code",
   "execution_count": 7,
   "id": "bf7291ad-1189-45ed-80bb-160691ed55a0",
   "metadata": {},
   "outputs": [
    {
     "name": "stdout",
     "output_type": "stream",
     "text": [
      "{'name': 'add', 'arguments': '{\\n  \"a\": 4,\\n  \"b\": 4\\n}'}\n"
     ]
    },
    {
     "data": {
      "text/plain": [
       "Response(response='The sum of 4 + 4 is 8.', source_nodes=[], extra_info=None)"
      ]
     },
     "execution_count": 7,
     "metadata": {},
     "output_type": "execute_result"
    }
   ],
   "source": [
    "agent.chat(\"can you calculate 4+4 for me\")"
   ]
  },
  {
   "cell_type": "code",
   "execution_count": 9,
   "id": "7b56d621-0ef9-4875-a469-927592bf5d7e",
   "metadata": {},
   "outputs": [
    {
     "name": "stdout",
     "output_type": "stream",
     "text": [
      "{'name': 'multiply', 'arguments': '{\\n  \"a\": 8,\\n  \"b\": 4\\n}'}\n"
     ]
    },
    {
     "data": {
      "text/plain": [
       "Response(response='The product of 8 multiplied by 4 is 32.', source_nodes=[], extra_info=None)"
      ]
     },
     "execution_count": 9,
     "metadata": {},
     "output_type": "execute_result"
    }
   ],
   "source": [
    "agent.chat('Can you multipl that by 4?')"
   ]
  },
  {
   "cell_type": "code",
   "execution_count": null,
   "id": "8cb1100d-ba85-414b-8dd9-c9523ddf34c1",
   "metadata": {},
   "outputs": [],
   "source": []
  }
 ],
 "metadata": {
  "kernelspec": {
   "display_name": "Python 3 (ipykernel)",
   "language": "python",
   "name": "python3"
  },
  "language_info": {
   "codemirror_mode": {
    "name": "ipython",
    "version": 3
   },
   "file_extension": ".py",
   "mimetype": "text/x-python",
   "name": "python",
   "nbconvert_exporter": "python",
   "pygments_lexer": "ipython3",
   "version": "3.9.16"
  }
 },
 "nbformat": 4,
 "nbformat_minor": 5
}
