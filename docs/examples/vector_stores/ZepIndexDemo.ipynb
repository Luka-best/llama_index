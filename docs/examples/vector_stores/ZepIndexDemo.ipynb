{
 "cells": [
  {
   "cell_type": "markdown",
   "source": [
    "# Zep Vector Store\n",
    "## A long-term memory store for LLM applications\n",
    "This notebook demonstrates how to use the Zep Vector Store with LlamaIndex.\n",
    "\n",
    "\n",
    "## About Zep\n",
    "Zep makes it easy for developers to add relevant documents, chat history memory & rich user data to their LLM app's prompts. \n",
    "\n",
    "\n",
    "## Note\n",
    "Zep can automatically embed your documents. The LlamaIndex implementation of the Zep Vector Store utilizes LlamaIndex's embedders to do so.\n",
    "\n",
    "\n",
    "## Getting Started\n",
    "**Quick Start Guide:** https://docs.getzep.com/deployment/quickstart/\n",
    "**GitHub:** https://github.com/getzep/zep"
   ],
   "metadata": {
    "collapsed": false
   },
   "id": "2f0a7faf6e43d4c1"
  },
  {
   "cell_type": "code",
   "execution_count": 1,
   "outputs": [],
   "source": [
    "import logging\n",
    "import sys\n",
    "from uuid import uuid4\n",
    "\n",
    "from dotenv import load_dotenv\n",
    "\n",
    "load_dotenv()\n",
    "\n",
    "logging.basicConfig(stream=sys.stdout, level=logging.INFO)\n",
    "logging.getLogger().addHandler(logging.StreamHandler(stream=sys.stdout))"
   ],
   "metadata": {
    "collapsed": false,
    "ExecuteTime": {
     "end_time": "2023-08-09T00:32:56.052617Z",
     "start_time": "2023-08-09T00:32:55.990970Z"
    }
   },
   "id": "b6547bd146426a4a"
  },
  {
   "cell_type": "code",
   "execution_count": 2,
   "outputs": [
    {
     "name": "stdout",
     "output_type": "stream",
     "text": [
      "INFO:numexpr.utils:NumExpr defaulting to 8 threads.\n",
      "NumExpr defaulting to 8 threads.\n"
     ]
    }
   ],
   "source": [
    "from llama_index import VectorStoreIndex, SimpleDirectoryReader\n",
    "from llama_index.vector_stores import ZepVectorStore"
   ],
   "metadata": {
    "collapsed": false,
    "ExecuteTime": {
     "end_time": "2023-08-09T00:32:57.557097Z",
     "start_time": "2023-08-09T00:32:55.999988Z"
    }
   },
   "id": "e69fa431d972ca88"
  },
  {
   "cell_type": "code",
   "execution_count": 3,
   "outputs": [],
   "source": [
    "# load documents\n",
    "documents = SimpleDirectoryReader(\"../data/paul_graham\").load_data()"
   ],
   "metadata": {
    "collapsed": false,
    "ExecuteTime": {
     "end_time": "2023-08-09T00:32:57.568112Z",
     "start_time": "2023-08-09T00:32:57.557975Z"
    }
   },
   "id": "43aeb87a167a31e4"
  },
  {
   "cell_type": "markdown",
   "source": [
    "# Create a Zep Vector Store and Index\n",
    "\n",
    "You can use an existing Zep Collection, or create a new one."
   ],
   "metadata": {
    "collapsed": false
   },
   "id": "5285bd54baf41918"
  },
  {
   "cell_type": "code",
   "execution_count": 4,
   "outputs": [
    {
     "name": "stdout",
     "output_type": "stream",
     "text": [
      "INFO:httpx:HTTP Request: GET http://localhost:8000/healthz \"HTTP/1.1 200 OK\"\n",
      "HTTP Request: GET http://localhost:8000/healthz \"HTTP/1.1 200 OK\"\n",
      "INFO:httpx:HTTP Request: GET http://localhost:8000/api/v1/collection/grahamaed555f7b2354d0bb981b62d2e90741e \"HTTP/1.1 404 Not Found\"\n",
      "HTTP Request: GET http://localhost:8000/api/v1/collection/grahamaed555f7b2354d0bb981b62d2e90741e \"HTTP/1.1 404 Not Found\"\n",
      "INFO:llama_index.vector_stores.zep:Collection grahamaed555f7b2354d0bb981b62d2e90741e does not exist, will try creating one with dimensions=1536\n",
      "Collection grahamaed555f7b2354d0bb981b62d2e90741e does not exist, will try creating one with dimensions=1536\n",
      "INFO:httpx:HTTP Request: POST http://localhost:8000/api/v1/collection/grahamaed555f7b2354d0bb981b62d2e90741e \"HTTP/1.1 200 OK\"\n",
      "HTTP Request: POST http://localhost:8000/api/v1/collection/grahamaed555f7b2354d0bb981b62d2e90741e \"HTTP/1.1 200 OK\"\n",
      "INFO:httpx:HTTP Request: GET http://localhost:8000/api/v1/collection/grahamaed555f7b2354d0bb981b62d2e90741e \"HTTP/1.1 200 OK\"\n",
      "HTTP Request: GET http://localhost:8000/api/v1/collection/grahamaed555f7b2354d0bb981b62d2e90741e \"HTTP/1.1 200 OK\"\n",
      "INFO:httpx:HTTP Request: POST http://localhost:8000/api/v1/collection/grahamaed555f7b2354d0bb981b62d2e90741e/document \"HTTP/1.1 200 OK\"\n",
      "HTTP Request: POST http://localhost:8000/api/v1/collection/grahamaed555f7b2354d0bb981b62d2e90741e/document \"HTTP/1.1 200 OK\"\n"
     ]
    }
   ],
   "source": [
    "from llama_index.storage.storage_context import StorageContext\n",
    "\n",
    "zep_api_url = \"http://localhost:8000\"\n",
    "collection_name = f\"graham{uuid4().hex}\"\n",
    "file = \"babbages_calculating_engine.txt\"\n",
    "\n",
    "vector_store = ZepVectorStore(\n",
    "    api_url=zep_api_url, collection_name=collection_name, embedding_dimensions=1536\n",
    ")\n",
    "\n",
    "storage_context = StorageContext.from_defaults(vector_store=vector_store)\n",
    "\n",
    "index = VectorStoreIndex.from_documents(documents, storage_context=storage_context)"
   ],
   "metadata": {
    "collapsed": false,
    "ExecuteTime": {
     "end_time": "2023-08-09T00:32:59.485418Z",
     "start_time": "2023-08-09T00:32:57.561610Z"
    }
   },
   "id": "c8d4cea738a5e867"
  },
  {
   "cell_type": "code",
   "execution_count": 5,
   "outputs": [
    {
     "name": "stdout",
     "output_type": "stream",
     "text": [
      "INFO:httpx:HTTP Request: POST http://localhost:8000/api/v1/collection/grahamaed555f7b2354d0bb981b62d2e90741e/search?limit=2 \"HTTP/1.1 200 OK\"\n",
      "HTTP Request: POST http://localhost:8000/api/v1/collection/grahamaed555f7b2354d0bb981b62d2e90741e/search?limit=2 \"HTTP/1.1 200 OK\"\n",
      "\n",
      "The author grew up writing short stories and programming on an IBM 1401. He also convinced his father to buy him a TRS-80 microcomputer, which he used to write simple games, a program to predict how high his model rockets would fly, and a word processor. He then went to college to study philosophy, but switched to AI after becoming bored with the courses.\n"
     ]
    }
   ],
   "source": [
    "query_engine = index.as_query_engine()\n",
    "response = query_engine.query(\"What did the author do growing up?\")\n",
    "\n",
    "print(str(response))"
   ],
   "metadata": {
    "collapsed": false,
    "ExecuteTime": {
     "end_time": "2023-08-09T00:33:02.131098Z",
     "start_time": "2023-08-09T00:32:59.467455Z"
    }
   },
   "id": "c72041211dcbdedc"
  },
  {
   "cell_type": "code",
   "execution_count": 6,
   "outputs": [],
   "source": [
    "from llama_index.schema import TextNode\n",
    "\n",
    "nodes = [\n",
    "    TextNode(\n",
    "        text=\"The Shawshank Redemption\",\n",
    "        metadata={\n",
    "            \"author\": \"Stephen King\",\n",
    "            \"theme\": \"Friendship\",\n",
    "        },\n",
    "    ),\n",
    "    TextNode(\n",
    "        text=\"The Godfather\",\n",
    "        metadata={\n",
    "            \"director\": \"Francis Ford Coppola\",\n",
    "            \"theme\": \"Mafia\",\n",
    "        },\n",
    "    ),\n",
    "    TextNode(\n",
    "        text=\"Inception\",\n",
    "        metadata={\n",
    "            \"director\": \"Christopher Nolan\",\n",
    "        },\n",
    "    ),\n",
    "]"
   ],
   "metadata": {
    "collapsed": false,
    "ExecuteTime": {
     "end_time": "2023-08-09T00:33:02.151195Z",
     "start_time": "2023-08-09T00:33:02.134300Z"
    }
   },
   "id": "356e0ec08af5c035"
  },
  {
   "cell_type": "code",
   "execution_count": 7,
   "outputs": [
    {
     "name": "stdout",
     "output_type": "stream",
     "text": [
      "INFO:httpx:HTTP Request: GET http://localhost:8000/healthz \"HTTP/1.1 200 OK\"\n",
      "HTTP Request: GET http://localhost:8000/healthz \"HTTP/1.1 200 OK\"\n",
      "INFO:httpx:HTTP Request: GET http://localhost:8000/api/v1/collection/moviesfbb23b29db4b405c8adf9891cd42a2ae \"HTTP/1.1 404 Not Found\"\n",
      "HTTP Request: GET http://localhost:8000/api/v1/collection/moviesfbb23b29db4b405c8adf9891cd42a2ae \"HTTP/1.1 404 Not Found\"\n",
      "INFO:llama_index.vector_stores.zep:Collection moviesfbb23b29db4b405c8adf9891cd42a2ae does not exist, will try creating one with dimensions=1536\n",
      "Collection moviesfbb23b29db4b405c8adf9891cd42a2ae does not exist, will try creating one with dimensions=1536\n",
      "INFO:httpx:HTTP Request: POST http://localhost:8000/api/v1/collection/moviesfbb23b29db4b405c8adf9891cd42a2ae \"HTTP/1.1 200 OK\"\n",
      "HTTP Request: POST http://localhost:8000/api/v1/collection/moviesfbb23b29db4b405c8adf9891cd42a2ae \"HTTP/1.1 200 OK\"\n",
      "INFO:httpx:HTTP Request: GET http://localhost:8000/api/v1/collection/moviesfbb23b29db4b405c8adf9891cd42a2ae \"HTTP/1.1 200 OK\"\n",
      "HTTP Request: GET http://localhost:8000/api/v1/collection/moviesfbb23b29db4b405c8adf9891cd42a2ae \"HTTP/1.1 200 OK\"\n",
      "INFO:httpx:HTTP Request: POST http://localhost:8000/api/v1/collection/moviesfbb23b29db4b405c8adf9891cd42a2ae/document \"HTTP/1.1 200 OK\"\n",
      "HTTP Request: POST http://localhost:8000/api/v1/collection/moviesfbb23b29db4b405c8adf9891cd42a2ae/document \"HTTP/1.1 200 OK\"\n"
     ]
    }
   ],
   "source": [
    "collection_name = f\"movies{uuid4().hex}\"\n",
    "\n",
    "vector_store = ZepVectorStore(\n",
    "    api_url=zep_api_url, collection_name=collection_name, embedding_dimensions=1536\n",
    ")\n",
    "\n",
    "storage_context = StorageContext.from_defaults(vector_store=vector_store)\n",
    "index = VectorStoreIndex(nodes, storage_context=storage_context)"
   ],
   "metadata": {
    "collapsed": false,
    "ExecuteTime": {
     "end_time": "2023-08-09T00:33:02.402657Z",
     "start_time": "2023-08-09T00:33:02.139762Z"
    }
   },
   "id": "18afce2b836a8dd"
  },
  {
   "cell_type": "code",
   "execution_count": 8,
   "outputs": [],
   "source": [
    "from llama_index.vector_stores.types import ExactMatchFilter, MetadataFilters\n",
    "\n",
    "filters = MetadataFilters(filters=[ExactMatchFilter(key=\"theme\", value=\"Mafia\")])"
   ],
   "metadata": {
    "collapsed": false,
    "ExecuteTime": {
     "end_time": "2023-08-09T00:33:02.402956Z",
     "start_time": "2023-08-09T00:33:02.395153Z"
    }
   },
   "id": "32138298211dddee"
  },
  {
   "cell_type": "code",
   "execution_count": 9,
   "outputs": [
    {
     "name": "stdout",
     "output_type": "stream",
     "text": [
      "INFO:httpx:HTTP Request: POST http://localhost:8000/api/v1/collection/moviesfbb23b29db4b405c8adf9891cd42a2ae/search?limit=2 \"HTTP/1.1 200 OK\"\n",
      "HTTP Request: POST http://localhost:8000/api/v1/collection/moviesfbb23b29db4b405c8adf9891cd42a2ae/search?limit=2 \"HTTP/1.1 200 OK\"\n",
      "\n",
      " The Godfather 0.884073254953458\n"
     ]
    }
   ],
   "source": [
    "retriever = index.as_retriever(filters=filters)\n",
    "result = retriever.retrieve(\"What is inception about?\")\n",
    "\n",
    "for r in result:\n",
    "    print(\"\\n\", r.node.text, r.score)"
   ],
   "metadata": {
    "collapsed": false,
    "ExecuteTime": {
     "end_time": "2023-08-09T00:33:02.522446Z",
     "start_time": "2023-08-09T00:33:02.399338Z"
    }
   },
   "id": "4fa27e386c42f215"
  },
  {
   "cell_type": "code",
   "execution_count": 9,
   "outputs": [],
   "source": [],
   "metadata": {
    "collapsed": false,
    "ExecuteTime": {
     "end_time": "2023-08-09T00:33:02.522633Z",
     "start_time": "2023-08-09T00:33:02.517356Z"
    }
   },
   "id": "a4b9edf0bf12e984"
  }
 ],
 "metadata": {
  "kernelspec": {
   "display_name": "Python 3",
   "language": "python",
   "name": "python3"
  },
  "language_info": {
   "codemirror_mode": {
    "name": "ipython",
    "version": 2
   },
   "file_extension": ".py",
   "mimetype": "text/x-python",
   "name": "python",
   "nbconvert_exporter": "python",
   "pygments_lexer": "ipython2",
   "version": "2.7.6"
  }
 },
 "nbformat": 4,
 "nbformat_minor": 5
}
