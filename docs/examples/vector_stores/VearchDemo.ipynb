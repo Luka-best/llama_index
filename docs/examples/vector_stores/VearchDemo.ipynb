{
 "cells": [
  {
   "cell_type": "code",
   "execution_count": 1,
   "id": "89ed73a7-9803-4b99-a952-62b54018e299",
   "metadata": {},
   "outputs": [],
   "source": [
    "import logging\n",
    "import sys\n",
    "\n",
    "logging.basicConfig(stream=sys.stdout, level=logging.INFO)\n",
    "logging.getLogger().addHandler(logging.StreamHandler(stream=sys.stdout))"
   ]
  },
  {
   "cell_type": "code",
   "execution_count": 2,
   "id": "6dc554b4-441f-4b69-bc41-a6cad4e777ce",
   "metadata": {},
   "outputs": [],
   "source": [
    "from llama_index import (\n",
    "    SimpleDirectoryReader,\n",
    "    VectorStoreIndex,\n",
    "    StorageContext,\n",
    ")\n",
    "from IPython.display import Markdown, display\n",
    "import openai\n",
    "\n",
    "\n",
    "openai.api_key =\"\" "
   ]
  },
  {
   "cell_type": "code",
   "execution_count": 3,
   "id": "ab97500f-c78a-4d8a-a8d0-0752c9b44d61",
   "metadata": {},
   "outputs": [
    {
     "name": "stdout",
     "output_type": "stream",
     "text": [
      "Document ID: 1 ce5c708e-ecaf-4db8-b71a-043406e04b66\n"
     ]
    }
   ],
   "source": [
    "#!mkdir -p 'data/paul_graham/'\n",
    "#!wget 'https://raw.githubusercontent.com/run-llama/llama_index/main/docs/examples/data/paul_graham/paul_graham_essay.txt'\n",
    "# load documents\n",
    "documents = SimpleDirectoryReader(\"./data/paul_graham/\").load_data()\n",
    "print(\"Document ID:\", len(documents),documents[0].doc_id)"
   ]
  },
  {
   "cell_type": "code",
   "execution_count": 4,
   "id": "edefa044-3c33-4074-9042-b419660a72ff",
   "metadata": {},
   "outputs": [
    {
     "data": {
      "application/vnd.jupyter.widget-view+json": {
       "model_id": "53fb1e55d64844328720d074aad94838",
       "version_major": 2,
       "version_minor": 0
      },
      "text/plain": [
       "Loading checkpoint shards:   0%|          | 0/7 [00:00<?, ?it/s]"
      ]
     },
     "metadata": {},
     "output_type": "display_data"
    }
   ],
   "source": [
    "from llama_index import ServiceContext\n",
    "from llama_index.embeddings import HuggingFaceEmbedding\n",
    "from llama_index.vector_stores import VearchVectorStore\n",
    "\n",
    "\"\"\"\n",
    "集群版\n",
    "\"\"\"\n",
    "vector_store = VearchVectorStore( \n",
    "        path_or_url = 'http://liama-index-router.vectorbase.svc.sq01.n.jd.local',\n",
    "        table_name = 'liama_index_test2',\n",
    "        db_name = 'liama_index',\n",
    "        flag = 1)\n",
    "\n",
    "\"\"\"\n",
    "单机版\n",
    "\"\"\"\n",
    "# vector_store = VearchVectorStore(         \n",
    "#         path_or_url = '/data/zhx/zhx/liama_index/knowledge_base/liama_index_teststandalone',\n",
    "#         # path_or_url = 'http://liama-index-router.vectorbase.svc.sq01.n.jd.local',\n",
    "#         table_name = 'liama_index_teststandalone',\n",
    "#         db_name = 'liama_index',\n",
    "#         flag = 0)\n",
    "\n",
    "embed_model = HuggingFaceEmbedding(model_name=\"BAAI/bge-small-en-v1.5\")\n",
    "service_context = ServiceContext.from_defaults(embed_model=embed_model)\n",
    "storage_context = StorageContext.from_defaults(vector_store=vector_store)\n",
    "index = VectorStoreIndex.from_documents(\n",
    "    documents, storage_context=storage_context, service_context=service_context\n",
    ")\n"
   ]
  },
  {
   "cell_type": "code",
   "execution_count": 5,
   "id": "c4ad5c36-95c4-49b1-8517-9d9161ba18d9",
   "metadata": {},
   "outputs": [
    {
     "data": {
      "text/markdown": [
       "<b>The author mentions that they spent some time writing essays in their youth, but除此之外, there is no information provided about their growing up.</b>"
      ],
      "text/plain": [
       "<IPython.core.display.Markdown object>"
      ]
     },
     "metadata": {},
     "output_type": "display_data"
    }
   ],
   "source": [
    "query_engine = index.as_query_engine()\n",
    "response = query_engine.query(\"What did the author do growing up?\")\n",
    "display(Markdown(f\"<b>{response}</b>\"))\n"
   ]
  },
  {
   "cell_type": "code",
   "execution_count": 6,
   "id": "2f1bb76f-609b-4467-9411-b33ceb7356b2",
   "metadata": {},
   "outputs": [
    {
     "data": {
      "text/markdown": [
       "<b>The author after his time at Y Combinator worked on a startup called HN and then transitioned to working on Y Combinator. He also wrote all of Y Combinator's internal software in Arc while he continued to work on HN. Ultimately, the author realized that Y Combinator was taking up too much of his attention and decided to hand it over to someone else.</b>"
      ],
      "text/plain": [
       "<IPython.core.display.Markdown object>"
      ]
     },
     "metadata": {},
     "output_type": "display_data"
    }
   ],
   "source": [
    "\n",
    "query_engine = index.as_query_engine()\n",
    "response = query_engine.query(\n",
    "    \"What did the author do after his time at Y Combinator?\"\n",
    ")\n",
    "display(Markdown(f\"<b>{response}</b>\"))"
   ]
  },
  {
   "cell_type": "code",
   "execution_count": null,
   "id": "fc9c7d87-b192-4abb-9099-a2875c1a6963",
   "metadata": {},
   "outputs": [],
   "source": []
  }
 ],
 "metadata": {
  "kernelspec": {
   "display_name": "Python 3 (ipykernel)",
   "language": "python",
   "name": "python3"
  },
  "language_info": {
   "codemirror_mode": {
    "name": "ipython",
    "version": 3
   },
   "file_extension": ".py",
   "mimetype": "text/x-python",
   "name": "python",
   "nbconvert_exporter": "python",
   "pygments_lexer": "ipython3",
   "version": "3.10.13"
  }
 },
 "nbformat": 4,
 "nbformat_minor": 5
}
