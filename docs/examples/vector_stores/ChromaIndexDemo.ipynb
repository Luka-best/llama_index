{
    "cells": [
        {
            "attachments": {},
            "cell_type": "markdown",
            "id": "307804a3-c02b-4a57-ac0d-172c30ddc851",
            "metadata": {},
            "source": [
                "# Chroma\n",
                "\n",
                ">[Chroma](https://docs.trychroma.com/getting-started) is a AI-native open-source vector database focused on developer productivity and happiness. Chroma is licensed under Apache 2.0.\n",
                "\n",
                "<a href=\"https://discord.gg/MMeYNTmh3x\" target=\"_blank\">\n",
                "      <img src=\"https://img.shields.io/discord/1073293645303795742\" alt=\"Discord\">\n",
                "  </a>&nbsp;&nbsp;\n",
                "  <a href=\"https://github.com/chroma-core/chroma/blob/master/LICENSE\" target=\"_blank\">\n",
                "      <img src=\"https://img.shields.io/static/v1?label=license&message=Apache 2.0&color=white\" alt=\"License\">\n",
                "  </a>&nbsp;&nbsp;\n",
                "  <img src=\"https://github.com/chroma-core/chroma/actions/workflows/chroma-integration-test.yml/badge.svg?branch=main\" alt=\"Integration Tests\">\n",
                "\n",
                "- [Website](https://www.trychroma.com/)\n",
                "- [Documentation](https://docs.trychroma.com/)\n",
                "- [Twitter](https://twitter.com/trychroma)\n",
                "- [Discord](https://discord.gg/MMeYNTmh3x)\n",
                "\n",
                "Chroma is fully-typed, fully-tested and fully-documented.\n",
                "\n",
                "Install Chroma with:\n",
                "\n",
                "```sh\n",
                "pip install chromadb\n",
                "```\n",
                "\n",
                "Chroma runs in various modes. See below for examples of each integrated with LangChain.\n",
                "- `in-memory` - in a python script or jupyter notebook\n",
                "- `in-memory with persistance` - in a script or notebook and save/load to disk\n",
                "- `in a docker container` - as a server running your local machine or in the cloud\n",
                "\n",
                "Like any other database, you can: \n",
                "- `.add` \n",
                "- `.get` \n",
                "- `.update`\n",
                "- `.upsert`\n",
                "- `.delete`\n",
                "- `.peek`\n",
                "- and `.query` runs the similarity search.\n",
                "\n",
                "View full docs at [docs](https://docs.trychroma.com/reference/Collection). "
            ]
        },
        {
            "attachments": {},
            "cell_type": "markdown",
            "id": "b5331b6b",
            "metadata": {},
            "source": [
                "## Basic Example\n",
                "\n",
                "In this basic example, we take the a Paul Graham essay, split it into chunks, embed it using an open-source embedding model, load it into Chroma, and then query it."
            ]
        },
        {
            "attachments": {},
            "cell_type": "markdown",
            "id": "f7010b1d-d1bb-4f08-9309-a328bb4ea396",
            "metadata": {},
            "source": [
                "#### Creating a Chroma Index"
            ]
        },
        {
            "cell_type": "code",
            "execution_count": 16,
            "id": "b3df0b97",
            "metadata": {},
            "outputs": [
                {
                    "name": "stdout",
                    "output_type": "stream",
                    "text": [
                        "Requirement already satisfied: llama-index in /Users/jeff/.pyenv/versions/3.10.10/lib/python3.10/site-packages (0.6.32)\n",
                        "Requirement already satisfied: dataclasses-json in /Users/jeff/.pyenv/versions/3.10.10/lib/python3.10/site-packages (from llama-index) (0.5.7)\n",
                        "Requirement already satisfied: langchain>=0.0.154 in /Users/jeff/.pyenv/versions/3.10.10/lib/python3.10/site-packages (from llama-index) (0.0.187)\n",
                        "Requirement already satisfied: sqlalchemy>=2.0.15 in /Users/jeff/.pyenv/versions/3.10.10/lib/python3.10/site-packages (from llama-index) (2.0.17)\n",
                        "Requirement already satisfied: numpy in /Users/jeff/.pyenv/versions/3.10.10/lib/python3.10/site-packages (from llama-index) (1.21.6)\n",
                        "Requirement already satisfied: tenacity<9.0.0,>=8.2.0 in /Users/jeff/.pyenv/versions/3.10.10/lib/python3.10/site-packages (from llama-index) (8.2.2)\n",
                        "Requirement already satisfied: openai>=0.26.4 in /Users/jeff/.pyenv/versions/3.10.10/lib/python3.10/site-packages (from llama-index) (0.27.4)\n",
                        "Requirement already satisfied: pandas in /Users/jeff/.pyenv/versions/3.10.10/lib/python3.10/site-packages (from llama-index) (1.3.5)\n",
                        "Requirement already satisfied: urllib3<2 in /Users/jeff/.pyenv/versions/3.10.10/lib/python3.10/site-packages (from llama-index) (1.26.15)\n",
                        "Requirement already satisfied: fsspec>=2023.5.0 in /Users/jeff/.pyenv/versions/3.10.10/lib/python3.10/site-packages (from llama-index) (2023.5.0)\n",
                        "Requirement already satisfied: typing-inspect==0.8.0 in /Users/jeff/.pyenv/versions/3.10.10/lib/python3.10/site-packages (from llama-index) (0.8.0)\n",
                        "Requirement already satisfied: typing-extensions==4.5.0 in /Users/jeff/.pyenv/versions/3.10.10/lib/python3.10/site-packages (from llama-index) (4.5.0)\n",
                        "Requirement already satisfied: tiktoken in /Users/jeff/.pyenv/versions/3.10.10/lib/python3.10/site-packages (from llama-index) (0.3.3)\n",
                        "Requirement already satisfied: mypy-extensions>=0.3.0 in /Users/jeff/.pyenv/versions/3.10.10/lib/python3.10/site-packages (from typing-inspect==0.8.0->llama-index) (1.0.0)\n",
                        "Requirement already satisfied: PyYAML>=5.4.1 in /Users/jeff/.pyenv/versions/3.10.10/lib/python3.10/site-packages (from langchain>=0.0.154->llama-index) (5.4.1)\n",
                        "Requirement already satisfied: aiohttp<4.0.0,>=3.8.3 in /Users/jeff/.pyenv/versions/3.10.10/lib/python3.10/site-packages (from langchain>=0.0.154->llama-index) (3.8.4)\n",
                        "Requirement already satisfied: async-timeout<5.0.0,>=4.0.0 in /Users/jeff/.pyenv/versions/3.10.10/lib/python3.10/site-packages (from langchain>=0.0.154->llama-index) (4.0.2)\n",
                        "Requirement already satisfied: numexpr<3.0.0,>=2.8.4 in /Users/jeff/.pyenv/versions/3.10.10/lib/python3.10/site-packages (from langchain>=0.0.154->llama-index) (2.8.4)\n",
                        "Requirement already satisfied: openapi-schema-pydantic<2.0,>=1.2 in /Users/jeff/.pyenv/versions/3.10.10/lib/python3.10/site-packages (from langchain>=0.0.154->llama-index) (1.2.4)\n",
                        "Requirement already satisfied: pydantic<2,>=1 in /Users/jeff/.pyenv/versions/3.10.10/lib/python3.10/site-packages (from langchain>=0.0.154->llama-index) (1.9.0)\n",
                        "Requirement already satisfied: requests<3,>=2 in /Users/jeff/.pyenv/versions/3.10.10/lib/python3.10/site-packages (from langchain>=0.0.154->llama-index) (2.28.1)\n",
                        "Requirement already satisfied: marshmallow<4.0.0,>=3.3.0 in /Users/jeff/.pyenv/versions/3.10.10/lib/python3.10/site-packages (from dataclasses-json->llama-index) (3.19.0)\n",
                        "Requirement already satisfied: marshmallow-enum<2.0.0,>=1.5.1 in /Users/jeff/.pyenv/versions/3.10.10/lib/python3.10/site-packages (from dataclasses-json->llama-index) (1.5.1)\n",
                        "Requirement already satisfied: tqdm in /Users/jeff/.pyenv/versions/3.10.10/lib/python3.10/site-packages (from openai>=0.26.4->llama-index) (4.65.0)\n",
                        "Requirement already satisfied: python-dateutil>=2.7.3 in /Users/jeff/.pyenv/versions/3.10.10/lib/python3.10/site-packages (from pandas->llama-index) (2.8.2)\n",
                        "Requirement already satisfied: pytz>=2017.3 in /Users/jeff/.pyenv/versions/3.10.10/lib/python3.10/site-packages (from pandas->llama-index) (2023.3)\n",
                        "Requirement already satisfied: regex>=2022.1.18 in /Users/jeff/.pyenv/versions/3.10.10/lib/python3.10/site-packages (from tiktoken->llama-index) (2023.3.23)\n",
                        "Requirement already satisfied: attrs>=17.3.0 in /Users/jeff/.pyenv/versions/3.10.10/lib/python3.10/site-packages (from aiohttp<4.0.0,>=3.8.3->langchain>=0.0.154->llama-index) (23.1.0)\n",
                        "Requirement already satisfied: charset-normalizer<4.0,>=2.0 in /Users/jeff/.pyenv/versions/3.10.10/lib/python3.10/site-packages (from aiohttp<4.0.0,>=3.8.3->langchain>=0.0.154->llama-index) (2.1.1)\n",
                        "Requirement already satisfied: multidict<7.0,>=4.5 in /Users/jeff/.pyenv/versions/3.10.10/lib/python3.10/site-packages (from aiohttp<4.0.0,>=3.8.3->langchain>=0.0.154->llama-index) (6.0.4)\n",
                        "Requirement already satisfied: yarl<2.0,>=1.0 in /Users/jeff/.pyenv/versions/3.10.10/lib/python3.10/site-packages (from aiohttp<4.0.0,>=3.8.3->langchain>=0.0.154->llama-index) (1.9.1)\n",
                        "Requirement already satisfied: frozenlist>=1.1.1 in /Users/jeff/.pyenv/versions/3.10.10/lib/python3.10/site-packages (from aiohttp<4.0.0,>=3.8.3->langchain>=0.0.154->llama-index) (1.3.3)\n",
                        "Requirement already satisfied: aiosignal>=1.1.2 in /Users/jeff/.pyenv/versions/3.10.10/lib/python3.10/site-packages (from aiohttp<4.0.0,>=3.8.3->langchain>=0.0.154->llama-index) (1.3.1)\n",
                        "Requirement already satisfied: packaging>=17.0 in /Users/jeff/.pyenv/versions/3.10.10/lib/python3.10/site-packages (from marshmallow<4.0.0,>=3.3.0->dataclasses-json->llama-index) (23.1)\n",
                        "Requirement already satisfied: six>=1.5 in /Users/jeff/.pyenv/versions/3.10.10/lib/python3.10/site-packages (from python-dateutil>=2.7.3->pandas->llama-index) (1.16.0)\n",
                        "Requirement already satisfied: idna<4,>=2.5 in /Users/jeff/.pyenv/versions/3.10.10/lib/python3.10/site-packages (from requests<3,>=2->langchain>=0.0.154->llama-index) (3.4)\n",
                        "Requirement already satisfied: certifi>=2017.4.17 in /Users/jeff/.pyenv/versions/3.10.10/lib/python3.10/site-packages (from requests<3,>=2->langchain>=0.0.154->llama-index) (2022.12.7)\n",
                        "Requirement already satisfied: langchain in /Users/jeff/.pyenv/versions/3.10.10/lib/python3.10/site-packages (0.0.187)\n",
                        "Requirement already satisfied: PyYAML>=5.4.1 in /Users/jeff/.pyenv/versions/3.10.10/lib/python3.10/site-packages (from langchain) (5.4.1)\n",
                        "Requirement already satisfied: SQLAlchemy<3,>=1.4 in /Users/jeff/.pyenv/versions/3.10.10/lib/python3.10/site-packages (from langchain) (2.0.17)\n",
                        "Requirement already satisfied: aiohttp<4.0.0,>=3.8.3 in /Users/jeff/.pyenv/versions/3.10.10/lib/python3.10/site-packages (from langchain) (3.8.4)\n",
                        "Requirement already satisfied: async-timeout<5.0.0,>=4.0.0 in /Users/jeff/.pyenv/versions/3.10.10/lib/python3.10/site-packages (from langchain) (4.0.2)\n",
                        "Requirement already satisfied: dataclasses-json<0.6.0,>=0.5.7 in /Users/jeff/.pyenv/versions/3.10.10/lib/python3.10/site-packages (from langchain) (0.5.7)\n",
                        "Requirement already satisfied: numexpr<3.0.0,>=2.8.4 in /Users/jeff/.pyenv/versions/3.10.10/lib/python3.10/site-packages (from langchain) (2.8.4)\n",
                        "Requirement already satisfied: numpy<2,>=1 in /Users/jeff/.pyenv/versions/3.10.10/lib/python3.10/site-packages (from langchain) (1.21.6)\n",
                        "Requirement already satisfied: openapi-schema-pydantic<2.0,>=1.2 in /Users/jeff/.pyenv/versions/3.10.10/lib/python3.10/site-packages (from langchain) (1.2.4)\n",
                        "Requirement already satisfied: pydantic<2,>=1 in /Users/jeff/.pyenv/versions/3.10.10/lib/python3.10/site-packages (from langchain) (1.9.0)\n",
                        "Requirement already satisfied: requests<3,>=2 in /Users/jeff/.pyenv/versions/3.10.10/lib/python3.10/site-packages (from langchain) (2.28.1)\n",
                        "Requirement already satisfied: tenacity<9.0.0,>=8.1.0 in /Users/jeff/.pyenv/versions/3.10.10/lib/python3.10/site-packages (from langchain) (8.2.2)\n",
                        "Requirement already satisfied: attrs>=17.3.0 in /Users/jeff/.pyenv/versions/3.10.10/lib/python3.10/site-packages (from aiohttp<4.0.0,>=3.8.3->langchain) (23.1.0)\n",
                        "Requirement already satisfied: charset-normalizer<4.0,>=2.0 in /Users/jeff/.pyenv/versions/3.10.10/lib/python3.10/site-packages (from aiohttp<4.0.0,>=3.8.3->langchain) (2.1.1)\n",
                        "Requirement already satisfied: multidict<7.0,>=4.5 in /Users/jeff/.pyenv/versions/3.10.10/lib/python3.10/site-packages (from aiohttp<4.0.0,>=3.8.3->langchain) (6.0.4)\n",
                        "Requirement already satisfied: yarl<2.0,>=1.0 in /Users/jeff/.pyenv/versions/3.10.10/lib/python3.10/site-packages (from aiohttp<4.0.0,>=3.8.3->langchain) (1.9.1)\n",
                        "Requirement already satisfied: frozenlist>=1.1.1 in /Users/jeff/.pyenv/versions/3.10.10/lib/python3.10/site-packages (from aiohttp<4.0.0,>=3.8.3->langchain) (1.3.3)\n",
                        "Requirement already satisfied: aiosignal>=1.1.2 in /Users/jeff/.pyenv/versions/3.10.10/lib/python3.10/site-packages (from aiohttp<4.0.0,>=3.8.3->langchain) (1.3.1)\n",
                        "Requirement already satisfied: marshmallow<4.0.0,>=3.3.0 in /Users/jeff/.pyenv/versions/3.10.10/lib/python3.10/site-packages (from dataclasses-json<0.6.0,>=0.5.7->langchain) (3.19.0)\n",
                        "Requirement already satisfied: marshmallow-enum<2.0.0,>=1.5.1 in /Users/jeff/.pyenv/versions/3.10.10/lib/python3.10/site-packages (from dataclasses-json<0.6.0,>=0.5.7->langchain) (1.5.1)\n",
                        "Requirement already satisfied: typing-inspect>=0.4.0 in /Users/jeff/.pyenv/versions/3.10.10/lib/python3.10/site-packages (from dataclasses-json<0.6.0,>=0.5.7->langchain) (0.8.0)\n",
                        "Requirement already satisfied: typing-extensions>=3.7.4.3 in /Users/jeff/.pyenv/versions/3.10.10/lib/python3.10/site-packages (from pydantic<2,>=1->langchain) (4.5.0)\n",
                        "Requirement already satisfied: idna<4,>=2.5 in /Users/jeff/.pyenv/versions/3.10.10/lib/python3.10/site-packages (from requests<3,>=2->langchain) (3.4)\n",
                        "Requirement already satisfied: urllib3<1.27,>=1.21.1 in /Users/jeff/.pyenv/versions/3.10.10/lib/python3.10/site-packages (from requests<3,>=2->langchain) (1.26.15)\n",
                        "Requirement already satisfied: certifi>=2017.4.17 in /Users/jeff/.pyenv/versions/3.10.10/lib/python3.10/site-packages (from requests<3,>=2->langchain) (2022.12.7)\n",
                        "Requirement already satisfied: packaging>=17.0 in /Users/jeff/.pyenv/versions/3.10.10/lib/python3.10/site-packages (from marshmallow<4.0.0,>=3.3.0->dataclasses-json<0.6.0,>=0.5.7->langchain) (23.1)\n",
                        "Requirement already satisfied: mypy-extensions>=0.3.0 in /Users/jeff/.pyenv/versions/3.10.10/lib/python3.10/site-packages (from typing-inspect>=0.4.0->dataclasses-json<0.6.0,>=0.5.7->langchain) (1.0.0)\n",
                        "Requirement already satisfied: chromadb in /Users/jeff/.pyenv/versions/3.10.10/lib/python3.10/site-packages (0.3.26)\n",
                        "Requirement already satisfied: pandas>=1.3 in /Users/jeff/.pyenv/versions/3.10.10/lib/python3.10/site-packages (from chromadb) (1.3.5)\n",
                        "Requirement already satisfied: requests>=2.28 in /Users/jeff/.pyenv/versions/3.10.10/lib/python3.10/site-packages (from chromadb) (2.28.1)\n",
                        "Requirement already satisfied: pydantic>=1.9 in /Users/jeff/.pyenv/versions/3.10.10/lib/python3.10/site-packages (from chromadb) (1.9.0)\n",
                        "Requirement already satisfied: hnswlib>=0.7 in /Users/jeff/.pyenv/versions/3.10.10/lib/python3.10/site-packages (from chromadb) (0.7.0)\n",
                        "Requirement already satisfied: clickhouse-connect>=0.5.7 in /Users/jeff/.pyenv/versions/3.10.10/lib/python3.10/site-packages (from chromadb) (0.5.7)\n",
                        "Requirement already satisfied: duckdb>=0.7.1 in /Users/jeff/.pyenv/versions/3.10.10/lib/python3.10/site-packages (from chromadb) (0.7.1)\n",
                        "Requirement already satisfied: fastapi>=0.85.1 in /Users/jeff/.pyenv/versions/3.10.10/lib/python3.10/site-packages (from chromadb) (0.85.1)\n",
                        "Requirement already satisfied: uvicorn[standard]>=0.18.3 in /Users/jeff/.pyenv/versions/3.10.10/lib/python3.10/site-packages (from chromadb) (0.18.3)\n",
                        "Requirement already satisfied: numpy>=1.21.6 in /Users/jeff/.pyenv/versions/3.10.10/lib/python3.10/site-packages (from chromadb) (1.21.6)\n",
                        "Requirement already satisfied: posthog>=2.4.0 in /Users/jeff/.pyenv/versions/3.10.10/lib/python3.10/site-packages (from chromadb) (2.4.0)\n",
                        "Requirement already satisfied: typing-extensions>=4.5.0 in /Users/jeff/.pyenv/versions/3.10.10/lib/python3.10/site-packages (from chromadb) (4.5.0)\n",
                        "Requirement already satisfied: pulsar-client>=3.1.0 in /Users/jeff/.pyenv/versions/3.10.10/lib/python3.10/site-packages (from chromadb) (3.1.0)\n",
                        "Requirement already satisfied: onnxruntime>=1.14.1 in /Users/jeff/.pyenv/versions/3.10.10/lib/python3.10/site-packages (from chromadb) (1.14.1)\n",
                        "Requirement already satisfied: tokenizers>=0.13.2 in /Users/jeff/.pyenv/versions/3.10.10/lib/python3.10/site-packages (from chromadb) (0.13.2)\n",
                        "Requirement already satisfied: tqdm>=4.65.0 in /Users/jeff/.pyenv/versions/3.10.10/lib/python3.10/site-packages (from chromadb) (4.65.0)\n",
                        "Requirement already satisfied: overrides>=7.3.1 in /Users/jeff/.pyenv/versions/3.10.10/lib/python3.10/site-packages (from chromadb) (7.3.1)\n",
                        "Requirement already satisfied: certifi in /Users/jeff/.pyenv/versions/3.10.10/lib/python3.10/site-packages (from clickhouse-connect>=0.5.7->chromadb) (2022.12.7)\n",
                        "Requirement already satisfied: urllib3>=1.26 in /Users/jeff/.pyenv/versions/3.10.10/lib/python3.10/site-packages (from clickhouse-connect>=0.5.7->chromadb) (1.26.15)\n",
                        "Requirement already satisfied: pytz in /Users/jeff/.pyenv/versions/3.10.10/lib/python3.10/site-packages (from clickhouse-connect>=0.5.7->chromadb) (2023.3)\n",
                        "Requirement already satisfied: zstandard in /Users/jeff/.pyenv/versions/3.10.10/lib/python3.10/site-packages (from clickhouse-connect>=0.5.7->chromadb) (0.21.0)\n",
                        "Requirement already satisfied: lz4 in /Users/jeff/.pyenv/versions/3.10.10/lib/python3.10/site-packages (from clickhouse-connect>=0.5.7->chromadb) (4.3.2)\n",
                        "Requirement already satisfied: starlette==0.20.4 in /Users/jeff/.pyenv/versions/3.10.10/lib/python3.10/site-packages (from fastapi>=0.85.1->chromadb) (0.20.4)\n",
                        "Requirement already satisfied: anyio<5,>=3.4.0 in /Users/jeff/.pyenv/versions/3.10.10/lib/python3.10/site-packages (from starlette==0.20.4->fastapi>=0.85.1->chromadb) (3.6.2)\n",
                        "Requirement already satisfied: coloredlogs in /Users/jeff/.pyenv/versions/3.10.10/lib/python3.10/site-packages (from onnxruntime>=1.14.1->chromadb) (15.0.1)\n",
                        "Requirement already satisfied: flatbuffers in /Users/jeff/.pyenv/versions/3.10.10/lib/python3.10/site-packages (from onnxruntime>=1.14.1->chromadb) (23.5.9)\n",
                        "Requirement already satisfied: packaging in /Users/jeff/.pyenv/versions/3.10.10/lib/python3.10/site-packages (from onnxruntime>=1.14.1->chromadb) (23.1)\n",
                        "Requirement already satisfied: protobuf in /Users/jeff/.pyenv/versions/3.10.10/lib/python3.10/site-packages (from onnxruntime>=1.14.1->chromadb) (4.23.1)\n",
                        "Requirement already satisfied: sympy in /Users/jeff/.pyenv/versions/3.10.10/lib/python3.10/site-packages (from onnxruntime>=1.14.1->chromadb) (1.11.1)\n",
                        "Requirement already satisfied: python-dateutil>=2.7.3 in /Users/jeff/.pyenv/versions/3.10.10/lib/python3.10/site-packages (from pandas>=1.3->chromadb) (2.8.2)\n",
                        "Requirement already satisfied: six>=1.5 in /Users/jeff/.pyenv/versions/3.10.10/lib/python3.10/site-packages (from posthog>=2.4.0->chromadb) (1.16.0)\n",
                        "Requirement already satisfied: monotonic>=1.5 in /Users/jeff/.pyenv/versions/3.10.10/lib/python3.10/site-packages (from posthog>=2.4.0->chromadb) (1.6)\n",
                        "Requirement already satisfied: backoff>=1.10.0 in /Users/jeff/.pyenv/versions/3.10.10/lib/python3.10/site-packages (from posthog>=2.4.0->chromadb) (2.2.1)\n",
                        "Requirement already satisfied: charset-normalizer<3,>=2 in /Users/jeff/.pyenv/versions/3.10.10/lib/python3.10/site-packages (from requests>=2.28->chromadb) (2.1.1)\n",
                        "Requirement already satisfied: idna<4,>=2.5 in /Users/jeff/.pyenv/versions/3.10.10/lib/python3.10/site-packages (from requests>=2.28->chromadb) (3.4)\n",
                        "Requirement already satisfied: click>=7.0 in /Users/jeff/.pyenv/versions/3.10.10/lib/python3.10/site-packages (from uvicorn[standard]>=0.18.3->chromadb) (8.1.3)\n",
                        "Requirement already satisfied: h11>=0.8 in /Users/jeff/.pyenv/versions/3.10.10/lib/python3.10/site-packages (from uvicorn[standard]>=0.18.3->chromadb) (0.14.0)\n",
                        "Requirement already satisfied: httptools>=0.4.0 in /Users/jeff/.pyenv/versions/3.10.10/lib/python3.10/site-packages (from uvicorn[standard]>=0.18.3->chromadb) (0.5.0)\n",
                        "Requirement already satisfied: python-dotenv>=0.13 in /Users/jeff/.pyenv/versions/3.10.10/lib/python3.10/site-packages (from uvicorn[standard]>=0.18.3->chromadb) (1.0.0)\n",
                        "Requirement already satisfied: pyyaml>=5.1 in /Users/jeff/.pyenv/versions/3.10.10/lib/python3.10/site-packages (from uvicorn[standard]>=0.18.3->chromadb) (5.4.1)\n",
                        "Requirement already satisfied: uvloop!=0.15.0,!=0.15.1,>=0.14.0 in /Users/jeff/.pyenv/versions/3.10.10/lib/python3.10/site-packages (from uvicorn[standard]>=0.18.3->chromadb) (0.17.0)\n",
                        "Requirement already satisfied: watchfiles>=0.13 in /Users/jeff/.pyenv/versions/3.10.10/lib/python3.10/site-packages (from uvicorn[standard]>=0.18.3->chromadb) (0.19.0)\n",
                        "Requirement already satisfied: websockets>=10.0 in /Users/jeff/.pyenv/versions/3.10.10/lib/python3.10/site-packages (from uvicorn[standard]>=0.18.3->chromadb) (11.0.2)\n",
                        "Requirement already satisfied: humanfriendly>=9.1 in /Users/jeff/.pyenv/versions/3.10.10/lib/python3.10/site-packages (from coloredlogs->onnxruntime>=1.14.1->chromadb) (10.0)\n",
                        "Requirement already satisfied: mpmath>=0.19 in /Users/jeff/.pyenv/versions/3.10.10/lib/python3.10/site-packages (from sympy->onnxruntime>=1.14.1->chromadb) (1.3.0)\n",
                        "Requirement already satisfied: sniffio>=1.1 in /Users/jeff/.pyenv/versions/3.10.10/lib/python3.10/site-packages (from anyio<5,>=3.4.0->starlette==0.20.4->fastapi>=0.85.1->chromadb) (1.3.0)\n"
                    ]
                }
            ],
            "source": [
                "!pip install llama-index\n",
                "!pip install langchain\n",
                "!pip install chromadb"
            ]
        },
        {
            "cell_type": "code",
            "execution_count": 17,
            "id": "d48af8e1",
            "metadata": {},
            "outputs": [],
            "source": [
                "# import\n",
                "from llama_index import VectorStoreIndex, SimpleDirectoryReader\n",
                "from llama_index.vector_stores import ChromaVectorStore\n",
                "from llama_index.storage.storage_context import StorageContext\n",
                "from langchain.embeddings.huggingface import HuggingFaceEmbeddings\n",
                "from llama_index.embeddings import LangchainEmbedding\n",
                "from IPython.display import Markdown, display\n",
                "import chromadb"
            ]
        },
        {
            "cell_type": "code",
            "execution_count": 26,
            "id": "374a148b",
            "metadata": {},
            "outputs": [],
            "source": [
                "# set up OpenAI\n",
                "import os\n",
                "import getpass\n",
                "os.environ[\"OPENAI_API_KEY\"] = getpass.getpass(\"OpenAI API Key:\")"
            ]
        },
        {
            "cell_type": "code",
            "execution_count": 35,
            "id": "667f3cb3-ce18-48d5-b9aa-bfc1a1f0f0f6",
            "metadata": {},
            "outputs": [
                {
                    "name": "stdout",
                    "output_type": "stream",
                    "text": [
                        "INFO:chromadb.telemetry.posthog:Anonymized telemetry enabled. See https://docs.trychroma.com/telemetry for more information.\n",
                        "Anonymized telemetry enabled. See https://docs.trychroma.com/telemetry for more information.\n",
                        "Anonymized telemetry enabled. See https://docs.trychroma.com/telemetry for more information.\n",
                        "INFO:sentence_transformers.SentenceTransformer:Load pretrained SentenceTransformer: sentence-transformers/all-mpnet-base-v2\n",
                        "Load pretrained SentenceTransformer: sentence-transformers/all-mpnet-base-v2\n",
                        "Load pretrained SentenceTransformer: sentence-transformers/all-mpnet-base-v2\n",
                        "INFO:sentence_transformers.SentenceTransformer:Use pytorch device: cpu\n",
                        "Use pytorch device: cpu\n",
                        "Use pytorch device: cpu\n",
                        "INFO:llama_index.token_counter.token_counter:> [build_index_from_nodes] Total LLM token usage: 0 tokens\n",
                        "> [build_index_from_nodes] Total LLM token usage: 0 tokens\n",
                        "> [build_index_from_nodes] Total LLM token usage: 0 tokens\n",
                        "INFO:llama_index.token_counter.token_counter:> [build_index_from_nodes] Total embedding token usage: 17038 tokens\n",
                        "> [build_index_from_nodes] Total embedding token usage: 17038 tokens\n",
                        "> [build_index_from_nodes] Total embedding token usage: 17038 tokens\n",
                        "INFO:llama_index.token_counter.token_counter:> [retrieve] Total LLM token usage: 0 tokens\n",
                        "> [retrieve] Total LLM token usage: 0 tokens\n",
                        "> [retrieve] Total LLM token usage: 0 tokens\n",
                        "INFO:llama_index.token_counter.token_counter:> [retrieve] Total embedding token usage: 8 tokens\n",
                        "> [retrieve] Total embedding token usage: 8 tokens\n",
                        "> [retrieve] Total embedding token usage: 8 tokens\n",
                        "INFO:llama_index.token_counter.token_counter:> [get_response] Total LLM token usage: 1874 tokens\n",
                        "> [get_response] Total LLM token usage: 1874 tokens\n",
                        "> [get_response] Total LLM token usage: 1874 tokens\n",
                        "INFO:llama_index.token_counter.token_counter:> [get_response] Total embedding token usage: 0 tokens\n",
                        "> [get_response] Total embedding token usage: 0 tokens\n",
                        "> [get_response] Total embedding token usage: 0 tokens\n"
                    ]
                },
                {
                    "data": {
                        "text/markdown": [
                            "<b>\n",
                            "The author grew up writing essays, learning Italian, exploring Florence, painting people, working with computers, studying at RISD, living in a rent-controlled apartment, building an online store builder, editing code, publishing essays online, writing essays, working on spam filters, cooking for groups, buying a building, and attending parties.</b>"
                        ],
                        "text/plain": [
                            "<IPython.core.display.Markdown object>"
                        ]
                    },
                    "metadata": {},
                    "output_type": "display_data"
                }
            ],
            "source": [
                "# create client and a new collection\n",
                "chroma_client = chromadb.Client()\n",
                "chroma_collection = chroma_client.create_collection(\"quickstart\")\n",
                "\n",
                "# define embedding function\n",
                "embed_model = LangchainEmbedding(HuggingFaceEmbeddings(model_name=\"sentence-transformers/all-mpnet-base-v2\"))\n",
                "\n",
                "# load documents\n",
                "documents = SimpleDirectoryReader('../../../examples/paul_graham_essay/data').load_data()\n",
                "\n",
                "# set up ChromaVectorStore and load in data\n",
                "vector_store = ChromaVectorStore(chroma_collection=chroma_collection)\n",
                "storage_context = StorageContext.from_defaults(vector_store=vector_store)\n",
                "index = VectorStoreIndex.from_documents(documents, storage_context=storage_context, embed_model=embed_model)\n",
                "\n",
                "# Query Data \n",
                "query_engine = index.as_query_engine(\n",
                "    chroma_collection=chroma_collection\n",
                ")\n",
                "response = query_engine.query(\"What did the author do growing up?\")\n",
                "display(Markdown(f\"<b>{response}</b>\"))"
            ]
        },
        {
            "attachments": {},
            "cell_type": "markdown",
            "id": "349de571",
            "metadata": {},
            "source": [
                "## Basic Example (including saving to disk)\n",
                "\n",
                "Extending the previous example, if you want to save to disk, simply initialize the Chroma client and pass the directory where you want the data to be saved to. \n",
                "\n",
                "`Caution`: Chroma makes a best-effort to automatically save data to disk, however multiple in-memory clients can stomp each other's work. As a best practice, only have one client per path running at any given time.\n",
                "\n",
                "`Protip`: Sometimes you can call `db.persist()` to force a save. "
            ]
        },
        {
            "cell_type": "code",
            "execution_count": 38,
            "id": "9c3a56a5",
            "metadata": {},
            "outputs": [
                {
                    "name": "stdout",
                    "output_type": "stream",
                    "text": [
                        "INFO:chromadb.telemetry.posthog:Anonymized telemetry enabled. See https://docs.trychroma.com/telemetry for more information.\n",
                        "Anonymized telemetry enabled. See https://docs.trychroma.com/telemetry for more information.\n",
                        "Anonymized telemetry enabled. See https://docs.trychroma.com/telemetry for more information.\n",
                        "INFO:chromadb.db.duckdb:loaded in 20 embeddings\n",
                        "loaded in 20 embeddings\n",
                        "loaded in 20 embeddings\n",
                        "INFO:chromadb.db.duckdb:loaded in 1 collections\n",
                        "loaded in 1 collections\n",
                        "loaded in 1 collections\n",
                        "INFO:chromadb.db.duckdb:collection with name quickstart already exists, returning existing collection\n",
                        "collection with name quickstart already exists, returning existing collection\n",
                        "collection with name quickstart already exists, returning existing collection\n",
                        "INFO:llama_index.token_counter.token_counter:> [build_index_from_nodes] Total LLM token usage: 0 tokens\n",
                        "> [build_index_from_nodes] Total LLM token usage: 0 tokens\n",
                        "> [build_index_from_nodes] Total LLM token usage: 0 tokens\n",
                        "INFO:llama_index.token_counter.token_counter:> [build_index_from_nodes] Total embedding token usage: 17038 tokens\n",
                        "> [build_index_from_nodes] Total embedding token usage: 17038 tokens\n",
                        "> [build_index_from_nodes] Total embedding token usage: 17038 tokens\n",
                        "INFO:chromadb.db.duckdb:Persisting DB to disk, putting it in the save folder: ./chroma_db\n",
                        "Persisting DB to disk, putting it in the save folder: ./chroma_db\n",
                        "Persisting DB to disk, putting it in the save folder: ./chroma_db\n",
                        "INFO:chromadb.telemetry.posthog:Anonymized telemetry enabled. See https://docs.trychroma.com/telemetry for more information.\n",
                        "Anonymized telemetry enabled. See https://docs.trychroma.com/telemetry for more information.\n",
                        "Anonymized telemetry enabled. See https://docs.trychroma.com/telemetry for more information.\n",
                        "INFO:chromadb.db.duckdb:loaded in 40 embeddings\n",
                        "loaded in 40 embeddings\n",
                        "loaded in 40 embeddings\n",
                        "INFO:chromadb.db.duckdb:loaded in 1 collections\n",
                        "loaded in 1 collections\n",
                        "loaded in 1 collections\n",
                        "INFO:chromadb.db.duckdb:collection with name quickstart already exists, returning existing collection\n",
                        "collection with name quickstart already exists, returning existing collection\n",
                        "collection with name quickstart already exists, returning existing collection\n",
                        "INFO:llama_index.token_counter.token_counter:> [build_index_from_nodes] Total LLM token usage: 0 tokens\n",
                        "> [build_index_from_nodes] Total LLM token usage: 0 tokens\n",
                        "> [build_index_from_nodes] Total LLM token usage: 0 tokens\n",
                        "INFO:llama_index.token_counter.token_counter:> [build_index_from_nodes] Total embedding token usage: 0 tokens\n",
                        "> [build_index_from_nodes] Total embedding token usage: 0 tokens\n",
                        "> [build_index_from_nodes] Total embedding token usage: 0 tokens\n",
                        "INFO:llama_index.token_counter.token_counter:> [retrieve] Total LLM token usage: 0 tokens\n",
                        "> [retrieve] Total LLM token usage: 0 tokens\n",
                        "> [retrieve] Total LLM token usage: 0 tokens\n",
                        "INFO:llama_index.token_counter.token_counter:> [retrieve] Total embedding token usage: 8 tokens\n",
                        "> [retrieve] Total embedding token usage: 8 tokens\n",
                        "> [retrieve] Total embedding token usage: 8 tokens\n",
                        "INFO:llama_index.token_counter.token_counter:> [get_response] Total LLM token usage: 1877 tokens\n",
                        "> [get_response] Total LLM token usage: 1877 tokens\n",
                        "> [get_response] Total LLM token usage: 1877 tokens\n",
                        "INFO:llama_index.token_counter.token_counter:> [get_response] Total embedding token usage: 0 tokens\n",
                        "> [get_response] Total embedding token usage: 0 tokens\n",
                        "> [get_response] Total embedding token usage: 0 tokens\n"
                    ]
                },
                {
                    "data": {
                        "text/markdown": [
                            "<b>\n",
                            "The author grew up skipping a step in the evolution of computers, learning Italian, exploring Florence, painting people, working with technology companies, seeking signature styles at RISD, living in a rent-stabilized apartment, launching an online store builder, editing Lisp expressions, and publishing essays online.</b>"
                        ],
                        "text/plain": [
                            "<IPython.core.display.Markdown object>"
                        ]
                    },
                    "metadata": {},
                    "output_type": "display_data"
                }
            ],
            "source": [
                "# save to disk\n",
                "from chromadb.config import Settings\n",
                "db = chromadb.Client(Settings(\n",
                "    chroma_db_impl=\"duckdb+parquet\",\n",
                "    persist_directory=\"./chroma_db\"\n",
                "))\n",
                "chroma_collection = db.get_or_create_collection(\"quickstart\")\n",
                "vector_store = ChromaVectorStore(chroma_collection=chroma_collection)\n",
                "storage_context = StorageContext.from_defaults(vector_store=vector_store)\n",
                "index = VectorStoreIndex.from_documents(documents, storage_context=storage_context, embed_model=embed_model)\n",
                "db.persist()\n",
                "\n",
                "# load from disk\n",
                "db2 = chromadb.Client(Settings(\n",
                "    chroma_db_impl=\"duckdb+parquet\",\n",
                "    persist_directory=\"./chroma_db\"\n",
                "))\n",
                "chroma_collection = db2.get_or_create_collection(\"quickstart\")\n",
                "vector_store = ChromaVectorStore(chroma_collection=chroma_collection)\n",
                "storage_context = StorageContext.from_defaults(vector_store=vector_store)\n",
                "index = VectorStoreIndex.from_vector_store(vector_store= vector_store, storage_context=storage_context, embed_model=embed_model)\n",
                "\n",
                "# Query Data from the persisted index\n",
                "query_engine = index.as_query_engine(\n",
                "    chroma_collection=chroma_collection\n",
                ")\n",
                "response = query_engine.query(\"What did the author do growing up?\")\n",
                "display(Markdown(f\"<b>{response}</b>\"))"
            ]
        },
        {
            "attachments": {},
            "cell_type": "markdown",
            "id": "d596e475",
            "metadata": {},
            "source": [
                "## Basic Example (using the Docker Container)\n",
                "\n",
                "You can also run the Chroma Server in a Docker container separately, create a Client to connect to it, and then pass that to LlamaIndex. \n",
                "\n",
                "Here is how to clone, build, and run the Docker Image:\n",
                "```\n",
                "git clone git@github.com:chroma-core/chroma.git\n",
                "docker-compose up -d --build\n",
                "```"
            ]
        },
        {
            "cell_type": "code",
            "execution_count": 43,
            "id": "d6c9bd64",
            "metadata": {},
            "outputs": [
                {
                    "name": "stdout",
                    "output_type": "stream",
                    "text": [
                        "INFO:chromadb.telemetry.posthog:Anonymized telemetry enabled. See https://docs.trychroma.com/telemetry for more information.\n",
                        "Anonymized telemetry enabled. See https://docs.trychroma.com/telemetry for more information.\n",
                        "Anonymized telemetry enabled. See https://docs.trychroma.com/telemetry for more information.\n",
                        "INFO:llama_index.token_counter.token_counter:> [build_index_from_nodes] Total LLM token usage: 0 tokens\n",
                        "> [build_index_from_nodes] Total LLM token usage: 0 tokens\n",
                        "> [build_index_from_nodes] Total LLM token usage: 0 tokens\n",
                        "INFO:llama_index.token_counter.token_counter:> [build_index_from_nodes] Total embedding token usage: 17038 tokens\n",
                        "> [build_index_from_nodes] Total embedding token usage: 17038 tokens\n",
                        "> [build_index_from_nodes] Total embedding token usage: 17038 tokens\n"
                    ]
                }
            ],
            "source": [
                "# create the chroma client and add our data\n",
                "import chromadb\n",
                "from chromadb.config import Settings\n",
                "\n",
                "remote_db = chromadb.Client(Settings(chroma_api_impl=\"rest\",\n",
                "                                        chroma_server_host=\"localhost\",\n",
                "                                        chroma_server_http_port=\"8000\"\n",
                "                                    ))\n",
                "remote_db.reset() # resets the database\n",
                "chroma_collection = remote_db.get_or_create_collection(\"quickstart\")\n",
                "vector_store = ChromaVectorStore(chroma_collection=chroma_collection)\n",
                "storage_context = StorageContext.from_defaults(vector_store=vector_store)\n",
                "index = VectorStoreIndex.from_documents(documents, storage_context=storage_context, embed_model=embed_model)"
            ]
        },
        {
            "cell_type": "code",
            "execution_count": 44,
            "id": "88e10c26",
            "metadata": {},
            "outputs": [
                {
                    "name": "stdout",
                    "output_type": "stream",
                    "text": [
                        "INFO:llama_index.token_counter.token_counter:> [retrieve] Total LLM token usage: 0 tokens\n",
                        "> [retrieve] Total LLM token usage: 0 tokens\n",
                        "> [retrieve] Total LLM token usage: 0 tokens\n",
                        "INFO:llama_index.token_counter.token_counter:> [retrieve] Total embedding token usage: 8 tokens\n",
                        "> [retrieve] Total embedding token usage: 8 tokens\n",
                        "> [retrieve] Total embedding token usage: 8 tokens\n",
                        "INFO:llama_index.token_counter.token_counter:> [get_response] Total LLM token usage: 1874 tokens\n",
                        "> [get_response] Total LLM token usage: 1874 tokens\n",
                        "> [get_response] Total LLM token usage: 1874 tokens\n",
                        "INFO:llama_index.token_counter.token_counter:> [get_response] Total embedding token usage: 0 tokens\n",
                        "> [get_response] Total embedding token usage: 0 tokens\n",
                        "> [get_response] Total embedding token usage: 0 tokens\n"
                    ]
                },
                {
                    "data": {
                        "text/markdown": [
                            "<b>\n",
                            "The author grew up writing essays, learning Italian, exploring Florence, painting people, working with computers, studying at RISD, living in a rent-controlled apartment, building an online store builder, editing code, publishing essays online, writing essays, working on spam filters, cooking for groups, buying a building, and attending parties.</b>"
                        ],
                        "text/plain": [
                            "<IPython.core.display.Markdown object>"
                        ]
                    },
                    "metadata": {},
                    "output_type": "display_data"
                }
            ],
            "source": [
                "# Query Data from the Chroma Docker index\n",
                "query_engine = index.as_query_engine(\n",
                "    chroma_collection=chroma_collection\n",
                ")\n",
                "response = query_engine.query(\"What did the author do growing up?\")\n",
                "display(Markdown(f\"<b>{response}</b>\"))"
            ]
        },
        {
            "attachments": {},
            "cell_type": "markdown",
            "id": "0a0e79f7",
            "metadata": {},
            "source": [
                "## Update and Delete\n",
                "\n",
                "While building toward a real application, you want to go beyond adding data, and also update and delete data. \n",
                "\n",
                "Chroma has users provide `ids` to simplify the bookkeeping here. `ids` can be the name of the file, or a combined has like `filename_paragraphNumber`, etc.\n",
                "\n",
                "Here is a basic example showing how to do various operations:"
            ]
        },
        {
            "cell_type": "code",
            "execution_count": 60,
            "id": "d9411826",
            "metadata": {},
            "outputs": [
                {
                    "name": "stdout",
                    "output_type": "stream",
                    "text": [
                        "{'node_info': '{\"start\": 0, \"end\": 4040, \"_node_type\": \"1\"}', 'relationships': '{\"1\": \"a0294b91-ff5f-45fe-b249-5596a18cc952\", \"3\": \"95771df1-9ec9-4128-9a11-ac92b768e2e3\"}', 'document_id': 'a0294b91-ff5f-45fe-b249-5596a18cc952', 'doc_id': 'a0294b91-ff5f-45fe-b249-5596a18cc952', 'ref_doc_id': 'a0294b91-ff5f-45fe-b249-5596a18cc952', 'author': 'Paul Graham'}\n",
                        "count before 20\n",
                        "count after 19\n"
                    ]
                }
            ],
            "source": [
                "doc_to_update = chroma_collection.get(limit=1)\n",
                "doc_to_update['metadatas'][0] = {**doc_to_update['metadatas'][0], **{\"author\": \"Paul Graham\"}}\n",
                "chroma_collection.update(ids=[doc_to_update['ids'][0]], metadatas=[doc_to_update['metadatas'][0]])\n",
                "updated_doc = chroma_collection.get(limit=1)\n",
                "print(updated_doc['metadatas'][0])\n",
                "\n",
                "# delete the last document\n",
                "print(\"count before\", chroma_collection.count())\n",
                "chroma_collection.delete(ids=[doc_to_update['ids'][0]])\n",
                "print(\"count after\", chroma_collection.count())"
            ]
        }
    ],
    "metadata": {
        "kernelspec": {
            "display_name": "Python 3 (ipykernel)",
            "language": "python",
            "name": "python3"
        },
        "language_info": {
            "codemirror_mode": {
                "name": "ipython",
                "version": 3
            },
            "file_extension": ".py",
            "mimetype": "text/x-python",
            "name": "python",
            "nbconvert_exporter": "python",
            "pygments_lexer": "ipython3",
            "version": "3.10.10"
        },
        "vscode": {
            "interpreter": {
                "hash": "0ac390d292208ca2380c85f5bce7ded36a7a25670a97c40b8009630eb36cb06e"
            }
        }
    },
    "nbformat": 4,
    "nbformat_minor": 5
}
