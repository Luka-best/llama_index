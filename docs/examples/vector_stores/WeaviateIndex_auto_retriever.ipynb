{
 "cells": [
  {
   "attachments": {},
   "cell_type": "markdown",
   "id": "0e81b124",
   "metadata": {},
   "source": [
    "<a href=\"https://colab.research.google.com/github/run-llama/llama_index/blob/main/docs/examples/vector_stores/chroma_auto_retriever.ipynb\" target=\"_parent\"><img src=\"https://colab.research.google.com/assets/colab-badge.svg\" alt=\"Open In Colab\"/></a>"
   ]
  },
  {
   "attachments": {},
   "cell_type": "markdown",
   "id": "307804a3-c02b-4a57-ac0d-172c30ddc851",
   "metadata": {},
   "source": [
    "# Auto-Retrieval from a Weaviate Vector Database\n",
    "\n",
    "This guide shows how to perform **auto-retrieval** in LlamaIndex with [Weaviate](https://weaviate.io/). \n",
    "\n",
    "The Weaviate vector database supports a set of [metadata filters](https://weaviate.io/developers/weaviate/search/filters) in addition to a query string for semantic search. Given a natural language query, we first use a Large Language Model (LLM) to infer a set of metadata filters as well as the right query string to pass to the vector database (either can also be blank). This overall query bundle is then executed against the vector database.\n",
    "\n",
    "This allows for more dynamic, expressive forms of retrieval beyond top-k semantic search. The relevant context for a given query may only require filtering on a metadata tag, or require a joint combination of filtering + semantic search within the filtered set, or just raw semantic search."
   ]
  },
  {
   "attachments": {},
   "cell_type": "markdown",
   "id": "f7010b1d-d1bb-4f08-9309-a328bb4ea396",
   "metadata": {},
   "source": [
    "## Setup \n",
    "\n",
    "We first define imports and define an empty Weaviate collection."
   ]
  },
  {
   "attachments": {},
   "cell_type": "markdown",
   "id": "31faecfb",
   "metadata": {},
   "source": [
    "If you're opening this Notebook on Colab, you will probably need to install LlamaIndex 🦙."
   ]
  },
  {
   "cell_type": "code",
   "execution_count": 15,
   "id": "13223201",
   "metadata": {},
   "outputs": [
    {
     "name": "stdout",
     "output_type": "stream",
     "text": [
      "Requirement already satisfied: llama-index-vector-stores-weaviate in /opt/homebrew/lib/python3.11/site-packages (0.1.1)\n",
      "Requirement already satisfied: llama-index-core<0.11.0,>=0.10.1 in /opt/homebrew/lib/python3.11/site-packages (from llama-index-vector-stores-weaviate) (0.10.12)\n",
      "Requirement already satisfied: weaviate-client<4.0.0,>=3.26.2 in /opt/homebrew/lib/python3.11/site-packages (from llama-index-vector-stores-weaviate) (3.26.2)\n",
      "Requirement already satisfied: PyYAML>=6.0.1 in /opt/homebrew/lib/python3.11/site-packages (from llama-index-core<0.11.0,>=0.10.1->llama-index-vector-stores-weaviate) (6.0.1)\n",
      "Requirement already satisfied: SQLAlchemy>=1.4.49 in /opt/homebrew/lib/python3.11/site-packages (from SQLAlchemy[asyncio]>=1.4.49->llama-index-core<0.11.0,>=0.10.1->llama-index-vector-stores-weaviate) (2.0.27)\n",
      "Requirement already satisfied: aiohttp<4.0.0,>=3.8.6 in /opt/homebrew/lib/python3.11/site-packages (from llama-index-core<0.11.0,>=0.10.1->llama-index-vector-stores-weaviate) (3.9.3)\n",
      "Requirement already satisfied: dataclasses-json in /opt/homebrew/lib/python3.11/site-packages (from llama-index-core<0.11.0,>=0.10.1->llama-index-vector-stores-weaviate) (0.6.4)\n",
      "Requirement already satisfied: deprecated>=1.2.9.3 in /opt/homebrew/lib/python3.11/site-packages (from llama-index-core<0.11.0,>=0.10.1->llama-index-vector-stores-weaviate) (1.2.14)\n",
      "Requirement already satisfied: dirtyjson<2.0.0,>=1.0.8 in /opt/homebrew/lib/python3.11/site-packages (from llama-index-core<0.11.0,>=0.10.1->llama-index-vector-stores-weaviate) (1.0.8)\n",
      "Requirement already satisfied: fsspec>=2023.5.0 in /opt/homebrew/lib/python3.11/site-packages (from llama-index-core<0.11.0,>=0.10.1->llama-index-vector-stores-weaviate) (2024.2.0)\n",
      "Requirement already satisfied: httpx in /opt/homebrew/lib/python3.11/site-packages (from llama-index-core<0.11.0,>=0.10.1->llama-index-vector-stores-weaviate) (0.27.0)\n",
      "Requirement already satisfied: llamaindex-py-client<0.2.0,>=0.1.13 in /opt/homebrew/lib/python3.11/site-packages (from llama-index-core<0.11.0,>=0.10.1->llama-index-vector-stores-weaviate) (0.1.13)\n",
      "Requirement already satisfied: nest-asyncio<2.0.0,>=1.5.8 in /opt/homebrew/lib/python3.11/site-packages (from llama-index-core<0.11.0,>=0.10.1->llama-index-vector-stores-weaviate) (1.6.0)\n",
      "Requirement already satisfied: networkx>=3.0 in /opt/homebrew/lib/python3.11/site-packages (from llama-index-core<0.11.0,>=0.10.1->llama-index-vector-stores-weaviate) (3.2.1)\n",
      "Requirement already satisfied: nltk<4.0.0,>=3.8.1 in /opt/homebrew/lib/python3.11/site-packages (from llama-index-core<0.11.0,>=0.10.1->llama-index-vector-stores-weaviate) (3.8.1)\n",
      "Requirement already satisfied: numpy in /opt/homebrew/lib/python3.11/site-packages (from llama-index-core<0.11.0,>=0.10.1->llama-index-vector-stores-weaviate) (1.26.4)\n",
      "Requirement already satisfied: openai>=1.1.0 in /opt/homebrew/lib/python3.11/site-packages (from llama-index-core<0.11.0,>=0.10.1->llama-index-vector-stores-weaviate) (1.12.0)\n",
      "Requirement already satisfied: pandas in /opt/homebrew/lib/python3.11/site-packages (from llama-index-core<0.11.0,>=0.10.1->llama-index-vector-stores-weaviate) (2.2.1)\n",
      "Requirement already satisfied: pillow>=9.0.0 in /opt/homebrew/lib/python3.11/site-packages (from llama-index-core<0.11.0,>=0.10.1->llama-index-vector-stores-weaviate) (10.2.0)\n",
      "Requirement already satisfied: requests>=2.31.0 in /opt/homebrew/lib/python3.11/site-packages (from llama-index-core<0.11.0,>=0.10.1->llama-index-vector-stores-weaviate) (2.31.0)\n",
      "Requirement already satisfied: tenacity<9.0.0,>=8.2.0 in /opt/homebrew/lib/python3.11/site-packages (from llama-index-core<0.11.0,>=0.10.1->llama-index-vector-stores-weaviate) (8.2.3)\n",
      "Requirement already satisfied: tiktoken>=0.3.3 in /opt/homebrew/lib/python3.11/site-packages (from llama-index-core<0.11.0,>=0.10.1->llama-index-vector-stores-weaviate) (0.6.0)\n",
      "Requirement already satisfied: tqdm<5.0.0,>=4.66.1 in /opt/homebrew/lib/python3.11/site-packages (from llama-index-core<0.11.0,>=0.10.1->llama-index-vector-stores-weaviate) (4.66.2)\n",
      "Requirement already satisfied: typing-extensions>=4.5.0 in /opt/homebrew/lib/python3.11/site-packages (from llama-index-core<0.11.0,>=0.10.1->llama-index-vector-stores-weaviate) (4.10.0)\n",
      "Requirement already satisfied: typing-inspect>=0.8.0 in /opt/homebrew/lib/python3.11/site-packages (from llama-index-core<0.11.0,>=0.10.1->llama-index-vector-stores-weaviate) (0.9.0)\n",
      "Requirement already satisfied: validators<1.0.0,>=0.21.2 in /opt/homebrew/lib/python3.11/site-packages (from weaviate-client<4.0.0,>=3.26.2->llama-index-vector-stores-weaviate) (0.22.0)\n",
      "Requirement already satisfied: authlib<2.0.0,>=1.2.1 in /opt/homebrew/lib/python3.11/site-packages (from weaviate-client<4.0.0,>=3.26.2->llama-index-vector-stores-weaviate) (1.2.1)\n",
      "Requirement already satisfied: aiosignal>=1.1.2 in /opt/homebrew/lib/python3.11/site-packages (from aiohttp<4.0.0,>=3.8.6->llama-index-core<0.11.0,>=0.10.1->llama-index-vector-stores-weaviate) (1.3.1)\n",
      "Requirement already satisfied: attrs>=17.3.0 in /opt/homebrew/lib/python3.11/site-packages (from aiohttp<4.0.0,>=3.8.6->llama-index-core<0.11.0,>=0.10.1->llama-index-vector-stores-weaviate) (23.2.0)\n",
      "Requirement already satisfied: frozenlist>=1.1.1 in /opt/homebrew/lib/python3.11/site-packages (from aiohttp<4.0.0,>=3.8.6->llama-index-core<0.11.0,>=0.10.1->llama-index-vector-stores-weaviate) (1.4.1)\n",
      "Requirement already satisfied: multidict<7.0,>=4.5 in /opt/homebrew/lib/python3.11/site-packages (from aiohttp<4.0.0,>=3.8.6->llama-index-core<0.11.0,>=0.10.1->llama-index-vector-stores-weaviate) (6.0.5)\n",
      "Requirement already satisfied: yarl<2.0,>=1.0 in /opt/homebrew/lib/python3.11/site-packages (from aiohttp<4.0.0,>=3.8.6->llama-index-core<0.11.0,>=0.10.1->llama-index-vector-stores-weaviate) (1.9.4)\n",
      "Requirement already satisfied: cryptography>=3.2 in /opt/homebrew/lib/python3.11/site-packages (from authlib<2.0.0,>=1.2.1->weaviate-client<4.0.0,>=3.26.2->llama-index-vector-stores-weaviate) (41.0.4)\n",
      "Requirement already satisfied: wrapt<2,>=1.10 in /opt/homebrew/lib/python3.11/site-packages (from deprecated>=1.2.9.3->llama-index-core<0.11.0,>=0.10.1->llama-index-vector-stores-weaviate) (1.16.0)\n",
      "Requirement already satisfied: pydantic>=1.10 in /opt/homebrew/lib/python3.11/site-packages (from llamaindex-py-client<0.2.0,>=0.1.13->llama-index-core<0.11.0,>=0.10.1->llama-index-vector-stores-weaviate) (2.6.2)\n",
      "Requirement already satisfied: anyio in /opt/homebrew/lib/python3.11/site-packages (from httpx->llama-index-core<0.11.0,>=0.10.1->llama-index-vector-stores-weaviate) (4.3.0)\n",
      "Requirement already satisfied: certifi in /opt/homebrew/lib/python3.11/site-packages (from httpx->llama-index-core<0.11.0,>=0.10.1->llama-index-vector-stores-weaviate) (2024.2.2)\n",
      "Requirement already satisfied: httpcore==1.* in /opt/homebrew/lib/python3.11/site-packages (from httpx->llama-index-core<0.11.0,>=0.10.1->llama-index-vector-stores-weaviate) (1.0.4)\n",
      "Requirement already satisfied: idna in /opt/homebrew/lib/python3.11/site-packages (from httpx->llama-index-core<0.11.0,>=0.10.1->llama-index-vector-stores-weaviate) (3.6)\n",
      "Requirement already satisfied: sniffio in /opt/homebrew/lib/python3.11/site-packages (from httpx->llama-index-core<0.11.0,>=0.10.1->llama-index-vector-stores-weaviate) (1.3.1)\n",
      "Requirement already satisfied: h11<0.15,>=0.13 in /opt/homebrew/lib/python3.11/site-packages (from httpcore==1.*->httpx->llama-index-core<0.11.0,>=0.10.1->llama-index-vector-stores-weaviate) (0.14.0)\n",
      "Requirement already satisfied: click in /opt/homebrew/lib/python3.11/site-packages (from nltk<4.0.0,>=3.8.1->llama-index-core<0.11.0,>=0.10.1->llama-index-vector-stores-weaviate) (8.1.7)\n",
      "Requirement already satisfied: joblib in /opt/homebrew/lib/python3.11/site-packages (from nltk<4.0.0,>=3.8.1->llama-index-core<0.11.0,>=0.10.1->llama-index-vector-stores-weaviate) (1.3.2)\n",
      "Requirement already satisfied: regex>=2021.8.3 in /opt/homebrew/lib/python3.11/site-packages (from nltk<4.0.0,>=3.8.1->llama-index-core<0.11.0,>=0.10.1->llama-index-vector-stores-weaviate) (2023.12.25)\n",
      "Requirement already satisfied: distro<2,>=1.7.0 in /opt/homebrew/lib/python3.11/site-packages (from openai>=1.1.0->llama-index-core<0.11.0,>=0.10.1->llama-index-vector-stores-weaviate) (1.9.0)\n",
      "Requirement already satisfied: charset-normalizer<4,>=2 in /opt/homebrew/lib/python3.11/site-packages (from requests>=2.31.0->llama-index-core<0.11.0,>=0.10.1->llama-index-vector-stores-weaviate) (3.3.2)\n",
      "Requirement already satisfied: urllib3<3,>=1.21.1 in /opt/homebrew/lib/python3.11/site-packages (from requests>=2.31.0->llama-index-core<0.11.0,>=0.10.1->llama-index-vector-stores-weaviate) (2.2.1)\n",
      "Requirement already satisfied: greenlet!=0.4.17 in /opt/homebrew/lib/python3.11/site-packages (from SQLAlchemy[asyncio]>=1.4.49->llama-index-core<0.11.0,>=0.10.1->llama-index-vector-stores-weaviate) (3.0.3)\n",
      "Requirement already satisfied: mypy-extensions>=0.3.0 in /opt/homebrew/lib/python3.11/site-packages (from typing-inspect>=0.8.0->llama-index-core<0.11.0,>=0.10.1->llama-index-vector-stores-weaviate) (1.0.0)\n",
      "Requirement already satisfied: marshmallow<4.0.0,>=3.18.0 in /opt/homebrew/lib/python3.11/site-packages (from dataclasses-json->llama-index-core<0.11.0,>=0.10.1->llama-index-vector-stores-weaviate) (3.20.2)\n",
      "Requirement already satisfied: python-dateutil>=2.8.2 in /opt/homebrew/lib/python3.11/site-packages (from pandas->llama-index-core<0.11.0,>=0.10.1->llama-index-vector-stores-weaviate) (2.8.2)\n",
      "Requirement already satisfied: pytz>=2020.1 in /opt/homebrew/lib/python3.11/site-packages (from pandas->llama-index-core<0.11.0,>=0.10.1->llama-index-vector-stores-weaviate) (2024.1)\n",
      "Requirement already satisfied: tzdata>=2022.7 in /opt/homebrew/lib/python3.11/site-packages (from pandas->llama-index-core<0.11.0,>=0.10.1->llama-index-vector-stores-weaviate) (2024.1)\n",
      "Requirement already satisfied: cffi>=1.12 in /opt/homebrew/lib/python3.11/site-packages (from cryptography>=3.2->authlib<2.0.0,>=1.2.1->weaviate-client<4.0.0,>=3.26.2->llama-index-vector-stores-weaviate) (1.16.0)\n",
      "Requirement already satisfied: packaging>=17.0 in /opt/homebrew/lib/python3.11/site-packages (from marshmallow<4.0.0,>=3.18.0->dataclasses-json->llama-index-core<0.11.0,>=0.10.1->llama-index-vector-stores-weaviate) (23.2)\n",
      "Requirement already satisfied: annotated-types>=0.4.0 in /opt/homebrew/lib/python3.11/site-packages (from pydantic>=1.10->llamaindex-py-client<0.2.0,>=0.1.13->llama-index-core<0.11.0,>=0.10.1->llama-index-vector-stores-weaviate) (0.6.0)\n",
      "Requirement already satisfied: pydantic-core==2.16.3 in /opt/homebrew/lib/python3.11/site-packages (from pydantic>=1.10->llamaindex-py-client<0.2.0,>=0.1.13->llama-index-core<0.11.0,>=0.10.1->llama-index-vector-stores-weaviate) (2.16.3)\n",
      "Requirement already satisfied: six>=1.5 in /opt/homebrew/lib/python3.11/site-packages (from python-dateutil>=2.8.2->pandas->llama-index-core<0.11.0,>=0.10.1->llama-index-vector-stores-weaviate) (1.16.0)\n",
      "Requirement already satisfied: pycparser in /opt/homebrew/lib/python3.11/site-packages (from cffi>=1.12->cryptography>=3.2->authlib<2.0.0,>=1.2.1->weaviate-client<4.0.0,>=3.26.2->llama-index-vector-stores-weaviate) (2.21)\n",
      "Note: you may need to restart the kernel to use updated packages.\n"
     ]
    }
   ],
   "source": [
    "%pip install llama-index-vector-stores-weaviate"
   ]
  },
  {
   "cell_type": "code",
   "execution_count": 16,
   "id": "53d3d6e7",
   "metadata": {},
   "outputs": [
    {
     "name": "stdout",
     "output_type": "stream",
     "text": [
      "Requirement already satisfied: llama-index in /opt/homebrew/lib/python3.11/site-packages (0.10.12)\n",
      "Requirement already satisfied: weaviate-client in /opt/homebrew/lib/python3.11/site-packages (3.26.2)\n",
      "Requirement already satisfied: llama-index-agent-openai<0.2.0,>=0.1.4 in /opt/homebrew/lib/python3.11/site-packages (from llama-index) (0.1.5)\n",
      "Requirement already satisfied: llama-index-cli<0.2.0,>=0.1.2 in /opt/homebrew/lib/python3.11/site-packages (from llama-index) (0.1.5)\n",
      "Requirement already satisfied: llama-index-core<0.11.0,>=0.10.12 in /opt/homebrew/lib/python3.11/site-packages (from llama-index) (0.10.12)\n",
      "Requirement already satisfied: llama-index-embeddings-openai<0.2.0,>=0.1.5 in /opt/homebrew/lib/python3.11/site-packages (from llama-index) (0.1.6)\n",
      "Requirement already satisfied: llama-index-indices-managed-llama-cloud<0.2.0,>=0.1.2 in /opt/homebrew/lib/python3.11/site-packages (from llama-index) (0.1.3)\n",
      "Requirement already satisfied: llama-index-legacy<0.10.0,>=0.9.48 in /opt/homebrew/lib/python3.11/site-packages (from llama-index) (0.9.48)\n",
      "Requirement already satisfied: llama-index-llms-openai<0.2.0,>=0.1.5 in /opt/homebrew/lib/python3.11/site-packages (from llama-index) (0.1.6)\n",
      "Requirement already satisfied: llama-index-multi-modal-llms-openai<0.2.0,>=0.1.3 in /opt/homebrew/lib/python3.11/site-packages (from llama-index) (0.1.4)\n",
      "Requirement already satisfied: llama-index-program-openai<0.2.0,>=0.1.3 in /opt/homebrew/lib/python3.11/site-packages (from llama-index) (0.1.4)\n",
      "Requirement already satisfied: llama-index-question-gen-openai<0.2.0,>=0.1.2 in /opt/homebrew/lib/python3.11/site-packages (from llama-index) (0.1.3)\n",
      "Requirement already satisfied: llama-index-readers-file<0.2.0,>=0.1.4 in /opt/homebrew/lib/python3.11/site-packages (from llama-index) (0.1.5)\n",
      "Requirement already satisfied: llama-index-readers-llama-parse<0.2.0,>=0.1.2 in /opt/homebrew/lib/python3.11/site-packages (from llama-index) (0.1.3)\n",
      "Requirement already satisfied: requests<3.0.0,>=2.30.0 in /opt/homebrew/lib/python3.11/site-packages (from weaviate-client) (2.31.0)\n",
      "Requirement already satisfied: validators<1.0.0,>=0.21.2 in /opt/homebrew/lib/python3.11/site-packages (from weaviate-client) (0.22.0)\n",
      "Requirement already satisfied: authlib<2.0.0,>=1.2.1 in /opt/homebrew/lib/python3.11/site-packages (from weaviate-client) (1.2.1)\n",
      "Requirement already satisfied: cryptography>=3.2 in /opt/homebrew/lib/python3.11/site-packages (from authlib<2.0.0,>=1.2.1->weaviate-client) (41.0.4)\n",
      "Requirement already satisfied: llama-index-vector-stores-chroma<0.2.0,>=0.1.1 in /opt/homebrew/lib/python3.11/site-packages (from llama-index-cli<0.2.0,>=0.1.2->llama-index) (0.1.4)\n",
      "Requirement already satisfied: PyYAML>=6.0.1 in /opt/homebrew/lib/python3.11/site-packages (from llama-index-core<0.11.0,>=0.10.12->llama-index) (6.0.1)\n",
      "Requirement already satisfied: SQLAlchemy>=1.4.49 in /opt/homebrew/lib/python3.11/site-packages (from SQLAlchemy[asyncio]>=1.4.49->llama-index-core<0.11.0,>=0.10.12->llama-index) (2.0.27)\n",
      "Requirement already satisfied: aiohttp<4.0.0,>=3.8.6 in /opt/homebrew/lib/python3.11/site-packages (from llama-index-core<0.11.0,>=0.10.12->llama-index) (3.9.3)\n",
      "Requirement already satisfied: dataclasses-json in /opt/homebrew/lib/python3.11/site-packages (from llama-index-core<0.11.0,>=0.10.12->llama-index) (0.6.4)\n",
      "Requirement already satisfied: deprecated>=1.2.9.3 in /opt/homebrew/lib/python3.11/site-packages (from llama-index-core<0.11.0,>=0.10.12->llama-index) (1.2.14)\n",
      "Requirement already satisfied: dirtyjson<2.0.0,>=1.0.8 in /opt/homebrew/lib/python3.11/site-packages (from llama-index-core<0.11.0,>=0.10.12->llama-index) (1.0.8)\n",
      "Requirement already satisfied: fsspec>=2023.5.0 in /opt/homebrew/lib/python3.11/site-packages (from llama-index-core<0.11.0,>=0.10.12->llama-index) (2024.2.0)\n",
      "Requirement already satisfied: httpx in /opt/homebrew/lib/python3.11/site-packages (from llama-index-core<0.11.0,>=0.10.12->llama-index) (0.27.0)\n",
      "Requirement already satisfied: llamaindex-py-client<0.2.0,>=0.1.13 in /opt/homebrew/lib/python3.11/site-packages (from llama-index-core<0.11.0,>=0.10.12->llama-index) (0.1.13)\n",
      "Requirement already satisfied: nest-asyncio<2.0.0,>=1.5.8 in /opt/homebrew/lib/python3.11/site-packages (from llama-index-core<0.11.0,>=0.10.12->llama-index) (1.6.0)\n",
      "Requirement already satisfied: networkx>=3.0 in /opt/homebrew/lib/python3.11/site-packages (from llama-index-core<0.11.0,>=0.10.12->llama-index) (3.2.1)\n",
      "Requirement already satisfied: nltk<4.0.0,>=3.8.1 in /opt/homebrew/lib/python3.11/site-packages (from llama-index-core<0.11.0,>=0.10.12->llama-index) (3.8.1)\n",
      "Requirement already satisfied: numpy in /opt/homebrew/lib/python3.11/site-packages (from llama-index-core<0.11.0,>=0.10.12->llama-index) (1.26.4)\n",
      "Requirement already satisfied: openai>=1.1.0 in /opt/homebrew/lib/python3.11/site-packages (from llama-index-core<0.11.0,>=0.10.12->llama-index) (1.12.0)\n",
      "Requirement already satisfied: pandas in /opt/homebrew/lib/python3.11/site-packages (from llama-index-core<0.11.0,>=0.10.12->llama-index) (2.2.1)\n",
      "Requirement already satisfied: pillow>=9.0.0 in /opt/homebrew/lib/python3.11/site-packages (from llama-index-core<0.11.0,>=0.10.12->llama-index) (10.2.0)\n",
      "Requirement already satisfied: tenacity<9.0.0,>=8.2.0 in /opt/homebrew/lib/python3.11/site-packages (from llama-index-core<0.11.0,>=0.10.12->llama-index) (8.2.3)\n",
      "Requirement already satisfied: tiktoken>=0.3.3 in /opt/homebrew/lib/python3.11/site-packages (from llama-index-core<0.11.0,>=0.10.12->llama-index) (0.6.0)\n",
      "Requirement already satisfied: tqdm<5.0.0,>=4.66.1 in /opt/homebrew/lib/python3.11/site-packages (from llama-index-core<0.11.0,>=0.10.12->llama-index) (4.66.2)\n",
      "Requirement already satisfied: typing-extensions>=4.5.0 in /opt/homebrew/lib/python3.11/site-packages (from llama-index-core<0.11.0,>=0.10.12->llama-index) (4.10.0)\n",
      "Requirement already satisfied: typing-inspect>=0.8.0 in /opt/homebrew/lib/python3.11/site-packages (from llama-index-core<0.11.0,>=0.10.12->llama-index) (0.9.0)\n",
      "Requirement already satisfied: beautifulsoup4<5.0.0,>=4.12.3 in /opt/homebrew/lib/python3.11/site-packages (from llama-index-readers-file<0.2.0,>=0.1.4->llama-index) (4.12.3)\n",
      "Requirement already satisfied: bs4<0.0.3,>=0.0.2 in /opt/homebrew/lib/python3.11/site-packages (from llama-index-readers-file<0.2.0,>=0.1.4->llama-index) (0.0.2)\n",
      "Requirement already satisfied: pymupdf<2.0.0,>=1.23.21 in /opt/homebrew/lib/python3.11/site-packages (from llama-index-readers-file<0.2.0,>=0.1.4->llama-index) (1.23.25)\n",
      "Requirement already satisfied: pypdf<5.0.0,>=4.0.1 in /opt/homebrew/lib/python3.11/site-packages (from llama-index-readers-file<0.2.0,>=0.1.4->llama-index) (4.0.2)\n",
      "Requirement already satisfied: llama-parse<0.4.0,>=0.3.3 in /opt/homebrew/lib/python3.11/site-packages (from llama-index-readers-llama-parse<0.2.0,>=0.1.2->llama-index) (0.3.4)\n",
      "Requirement already satisfied: charset-normalizer<4,>=2 in /opt/homebrew/lib/python3.11/site-packages (from requests<3.0.0,>=2.30.0->weaviate-client) (3.3.2)\n",
      "Requirement already satisfied: idna<4,>=2.5 in /opt/homebrew/lib/python3.11/site-packages (from requests<3.0.0,>=2.30.0->weaviate-client) (3.6)\n",
      "Requirement already satisfied: urllib3<3,>=1.21.1 in /opt/homebrew/lib/python3.11/site-packages (from requests<3.0.0,>=2.30.0->weaviate-client) (2.2.1)\n",
      "Requirement already satisfied: certifi>=2017.4.17 in /opt/homebrew/lib/python3.11/site-packages (from requests<3.0.0,>=2.30.0->weaviate-client) (2024.2.2)\n",
      "Requirement already satisfied: aiosignal>=1.1.2 in /opt/homebrew/lib/python3.11/site-packages (from aiohttp<4.0.0,>=3.8.6->llama-index-core<0.11.0,>=0.10.12->llama-index) (1.3.1)\n",
      "Requirement already satisfied: attrs>=17.3.0 in /opt/homebrew/lib/python3.11/site-packages (from aiohttp<4.0.0,>=3.8.6->llama-index-core<0.11.0,>=0.10.12->llama-index) (23.2.0)\n",
      "Requirement already satisfied: frozenlist>=1.1.1 in /opt/homebrew/lib/python3.11/site-packages (from aiohttp<4.0.0,>=3.8.6->llama-index-core<0.11.0,>=0.10.12->llama-index) (1.4.1)\n",
      "Requirement already satisfied: multidict<7.0,>=4.5 in /opt/homebrew/lib/python3.11/site-packages (from aiohttp<4.0.0,>=3.8.6->llama-index-core<0.11.0,>=0.10.12->llama-index) (6.0.5)\n",
      "Requirement already satisfied: yarl<2.0,>=1.0 in /opt/homebrew/lib/python3.11/site-packages (from aiohttp<4.0.0,>=3.8.6->llama-index-core<0.11.0,>=0.10.12->llama-index) (1.9.4)\n",
      "Requirement already satisfied: soupsieve>1.2 in /opt/homebrew/lib/python3.11/site-packages (from beautifulsoup4<5.0.0,>=4.12.3->llama-index-readers-file<0.2.0,>=0.1.4->llama-index) (2.5)\n",
      "Requirement already satisfied: cffi>=1.12 in /opt/homebrew/lib/python3.11/site-packages (from cryptography>=3.2->authlib<2.0.0,>=1.2.1->weaviate-client) (1.16.0)\n",
      "Requirement already satisfied: wrapt<2,>=1.10 in /opt/homebrew/lib/python3.11/site-packages (from deprecated>=1.2.9.3->llama-index-core<0.11.0,>=0.10.12->llama-index) (1.16.0)\n",
      "Requirement already satisfied: chromadb<0.5.0,>=0.4.22 in /opt/homebrew/lib/python3.11/site-packages (from llama-index-vector-stores-chroma<0.2.0,>=0.1.1->llama-index-cli<0.2.0,>=0.1.2->llama-index) (0.4.23)\n",
      "Requirement already satisfied: onnxruntime<2.0.0,>=1.17.0 in /opt/homebrew/lib/python3.11/site-packages (from llama-index-vector-stores-chroma<0.2.0,>=0.1.1->llama-index-cli<0.2.0,>=0.1.2->llama-index) (1.17.1)\n",
      "Requirement already satisfied: tokenizers<0.16.0,>=0.15.1 in /opt/homebrew/lib/python3.11/site-packages (from llama-index-vector-stores-chroma<0.2.0,>=0.1.1->llama-index-cli<0.2.0,>=0.1.2->llama-index) (0.15.2)\n",
      "Requirement already satisfied: pydantic>=1.10 in /opt/homebrew/lib/python3.11/site-packages (from llamaindex-py-client<0.2.0,>=0.1.13->llama-index-core<0.11.0,>=0.10.12->llama-index) (2.6.2)\n",
      "Requirement already satisfied: anyio in /opt/homebrew/lib/python3.11/site-packages (from httpx->llama-index-core<0.11.0,>=0.10.12->llama-index) (4.3.0)\n",
      "Requirement already satisfied: httpcore==1.* in /opt/homebrew/lib/python3.11/site-packages (from httpx->llama-index-core<0.11.0,>=0.10.12->llama-index) (1.0.4)\n",
      "Requirement already satisfied: sniffio in /opt/homebrew/lib/python3.11/site-packages (from httpx->llama-index-core<0.11.0,>=0.10.12->llama-index) (1.3.1)\n",
      "Requirement already satisfied: h11<0.15,>=0.13 in /opt/homebrew/lib/python3.11/site-packages (from httpcore==1.*->httpx->llama-index-core<0.11.0,>=0.10.12->llama-index) (0.14.0)\n",
      "Requirement already satisfied: click in /opt/homebrew/lib/python3.11/site-packages (from nltk<4.0.0,>=3.8.1->llama-index-core<0.11.0,>=0.10.12->llama-index) (8.1.7)\n",
      "Requirement already satisfied: joblib in /opt/homebrew/lib/python3.11/site-packages (from nltk<4.0.0,>=3.8.1->llama-index-core<0.11.0,>=0.10.12->llama-index) (1.3.2)\n",
      "Requirement already satisfied: regex>=2021.8.3 in /opt/homebrew/lib/python3.11/site-packages (from nltk<4.0.0,>=3.8.1->llama-index-core<0.11.0,>=0.10.12->llama-index) (2023.12.25)\n",
      "Requirement already satisfied: distro<2,>=1.7.0 in /opt/homebrew/lib/python3.11/site-packages (from openai>=1.1.0->llama-index-core<0.11.0,>=0.10.12->llama-index) (1.9.0)\n",
      "Requirement already satisfied: PyMuPDFb==1.23.22 in /opt/homebrew/lib/python3.11/site-packages (from pymupdf<2.0.0,>=1.23.21->llama-index-readers-file<0.2.0,>=0.1.4->llama-index) (1.23.22)\n",
      "Requirement already satisfied: greenlet!=0.4.17 in /opt/homebrew/lib/python3.11/site-packages (from SQLAlchemy[asyncio]>=1.4.49->llama-index-core<0.11.0,>=0.10.12->llama-index) (3.0.3)\n",
      "Requirement already satisfied: mypy-extensions>=0.3.0 in /opt/homebrew/lib/python3.11/site-packages (from typing-inspect>=0.8.0->llama-index-core<0.11.0,>=0.10.12->llama-index) (1.0.0)\n",
      "Requirement already satisfied: marshmallow<4.0.0,>=3.18.0 in /opt/homebrew/lib/python3.11/site-packages (from dataclasses-json->llama-index-core<0.11.0,>=0.10.12->llama-index) (3.20.2)\n",
      "Requirement already satisfied: python-dateutil>=2.8.2 in /opt/homebrew/lib/python3.11/site-packages (from pandas->llama-index-core<0.11.0,>=0.10.12->llama-index) (2.8.2)\n",
      "Requirement already satisfied: pytz>=2020.1 in /opt/homebrew/lib/python3.11/site-packages (from pandas->llama-index-core<0.11.0,>=0.10.12->llama-index) (2024.1)\n",
      "Requirement already satisfied: tzdata>=2022.7 in /opt/homebrew/lib/python3.11/site-packages (from pandas->llama-index-core<0.11.0,>=0.10.12->llama-index) (2024.1)\n",
      "Requirement already satisfied: pycparser in /opt/homebrew/lib/python3.11/site-packages (from cffi>=1.12->cryptography>=3.2->authlib<2.0.0,>=1.2.1->weaviate-client) (2.21)\n",
      "Requirement already satisfied: build>=1.0.3 in /opt/homebrew/lib/python3.11/site-packages (from chromadb<0.5.0,>=0.4.22->llama-index-vector-stores-chroma<0.2.0,>=0.1.1->llama-index-cli<0.2.0,>=0.1.2->llama-index) (1.0.3)\n",
      "Requirement already satisfied: chroma-hnswlib==0.7.3 in /opt/homebrew/lib/python3.11/site-packages (from chromadb<0.5.0,>=0.4.22->llama-index-vector-stores-chroma<0.2.0,>=0.1.1->llama-index-cli<0.2.0,>=0.1.2->llama-index) (0.7.3)\n",
      "Requirement already satisfied: fastapi>=0.95.2 in /opt/homebrew/lib/python3.11/site-packages (from chromadb<0.5.0,>=0.4.22->llama-index-vector-stores-chroma<0.2.0,>=0.1.1->llama-index-cli<0.2.0,>=0.1.2->llama-index) (0.110.0)\n",
      "Requirement already satisfied: uvicorn>=0.18.3 in /opt/homebrew/lib/python3.11/site-packages (from uvicorn[standard]>=0.18.3->chromadb<0.5.0,>=0.4.22->llama-index-vector-stores-chroma<0.2.0,>=0.1.1->llama-index-cli<0.2.0,>=0.1.2->llama-index) (0.27.1)\n",
      "Requirement already satisfied: posthog>=2.4.0 in /opt/homebrew/lib/python3.11/site-packages (from chromadb<0.5.0,>=0.4.22->llama-index-vector-stores-chroma<0.2.0,>=0.1.1->llama-index-cli<0.2.0,>=0.1.2->llama-index) (3.4.2)\n",
      "Requirement already satisfied: pulsar-client>=3.1.0 in /opt/homebrew/lib/python3.11/site-packages (from chromadb<0.5.0,>=0.4.22->llama-index-vector-stores-chroma<0.2.0,>=0.1.1->llama-index-cli<0.2.0,>=0.1.2->llama-index) (3.4.0)\n",
      "Requirement already satisfied: opentelemetry-api>=1.2.0 in /opt/homebrew/lib/python3.11/site-packages (from chromadb<0.5.0,>=0.4.22->llama-index-vector-stores-chroma<0.2.0,>=0.1.1->llama-index-cli<0.2.0,>=0.1.2->llama-index) (1.23.0)\n",
      "Requirement already satisfied: opentelemetry-exporter-otlp-proto-grpc>=1.2.0 in /opt/homebrew/lib/python3.11/site-packages (from chromadb<0.5.0,>=0.4.22->llama-index-vector-stores-chroma<0.2.0,>=0.1.1->llama-index-cli<0.2.0,>=0.1.2->llama-index) (1.23.0)\n",
      "Requirement already satisfied: opentelemetry-instrumentation-fastapi>=0.41b0 in /opt/homebrew/lib/python3.11/site-packages (from chromadb<0.5.0,>=0.4.22->llama-index-vector-stores-chroma<0.2.0,>=0.1.1->llama-index-cli<0.2.0,>=0.1.2->llama-index) (0.44b0)\n",
      "Requirement already satisfied: opentelemetry-sdk>=1.2.0 in /opt/homebrew/lib/python3.11/site-packages (from chromadb<0.5.0,>=0.4.22->llama-index-vector-stores-chroma<0.2.0,>=0.1.1->llama-index-cli<0.2.0,>=0.1.2->llama-index) (1.23.0)\n",
      "Requirement already satisfied: pypika>=0.48.9 in /opt/homebrew/lib/python3.11/site-packages (from chromadb<0.5.0,>=0.4.22->llama-index-vector-stores-chroma<0.2.0,>=0.1.1->llama-index-cli<0.2.0,>=0.1.2->llama-index) (0.48.9)\n",
      "Requirement already satisfied: overrides>=7.3.1 in /opt/homebrew/lib/python3.11/site-packages (from chromadb<0.5.0,>=0.4.22->llama-index-vector-stores-chroma<0.2.0,>=0.1.1->llama-index-cli<0.2.0,>=0.1.2->llama-index) (7.7.0)\n",
      "Requirement already satisfied: importlib-resources in /opt/homebrew/lib/python3.11/site-packages (from chromadb<0.5.0,>=0.4.22->llama-index-vector-stores-chroma<0.2.0,>=0.1.1->llama-index-cli<0.2.0,>=0.1.2->llama-index) (6.1.2)\n",
      "Requirement already satisfied: grpcio>=1.58.0 in /opt/homebrew/lib/python3.11/site-packages (from chromadb<0.5.0,>=0.4.22->llama-index-vector-stores-chroma<0.2.0,>=0.1.1->llama-index-cli<0.2.0,>=0.1.2->llama-index) (1.62.0)\n",
      "Requirement already satisfied: bcrypt>=4.0.1 in /opt/homebrew/lib/python3.11/site-packages (from chromadb<0.5.0,>=0.4.22->llama-index-vector-stores-chroma<0.2.0,>=0.1.1->llama-index-cli<0.2.0,>=0.1.2->llama-index) (4.1.2)\n",
      "Requirement already satisfied: typer>=0.9.0 in /opt/homebrew/lib/python3.11/site-packages (from chromadb<0.5.0,>=0.4.22->llama-index-vector-stores-chroma<0.2.0,>=0.1.1->llama-index-cli<0.2.0,>=0.1.2->llama-index) (0.9.0)\n",
      "Requirement already satisfied: kubernetes>=28.1.0 in /opt/homebrew/lib/python3.11/site-packages (from chromadb<0.5.0,>=0.4.22->llama-index-vector-stores-chroma<0.2.0,>=0.1.1->llama-index-cli<0.2.0,>=0.1.2->llama-index) (29.0.0)\n",
      "Requirement already satisfied: mmh3>=4.0.1 in /opt/homebrew/lib/python3.11/site-packages (from chromadb<0.5.0,>=0.4.22->llama-index-vector-stores-chroma<0.2.0,>=0.1.1->llama-index-cli<0.2.0,>=0.1.2->llama-index) (4.1.0)\n",
      "Requirement already satisfied: orjson>=3.9.12 in /opt/homebrew/lib/python3.11/site-packages (from chromadb<0.5.0,>=0.4.22->llama-index-vector-stores-chroma<0.2.0,>=0.1.1->llama-index-cli<0.2.0,>=0.1.2->llama-index) (3.9.15)\n",
      "Requirement already satisfied: packaging>=17.0 in /opt/homebrew/lib/python3.11/site-packages (from marshmallow<4.0.0,>=3.18.0->dataclasses-json->llama-index-core<0.11.0,>=0.10.12->llama-index) (23.2)\n",
      "Requirement already satisfied: coloredlogs in /opt/homebrew/lib/python3.11/site-packages (from onnxruntime<2.0.0,>=1.17.0->llama-index-vector-stores-chroma<0.2.0,>=0.1.1->llama-index-cli<0.2.0,>=0.1.2->llama-index) (15.0.1)\n",
      "Requirement already satisfied: flatbuffers in /opt/homebrew/lib/python3.11/site-packages (from onnxruntime<2.0.0,>=1.17.0->llama-index-vector-stores-chroma<0.2.0,>=0.1.1->llama-index-cli<0.2.0,>=0.1.2->llama-index) (23.5.26)\n",
      "Requirement already satisfied: protobuf in /opt/homebrew/lib/python3.11/site-packages (from onnxruntime<2.0.0,>=1.17.0->llama-index-vector-stores-chroma<0.2.0,>=0.1.1->llama-index-cli<0.2.0,>=0.1.2->llama-index) (4.25.3)\n",
      "Requirement already satisfied: sympy in /opt/homebrew/lib/python3.11/site-packages (from onnxruntime<2.0.0,>=1.17.0->llama-index-vector-stores-chroma<0.2.0,>=0.1.1->llama-index-cli<0.2.0,>=0.1.2->llama-index) (1.12)\n",
      "Requirement already satisfied: annotated-types>=0.4.0 in /opt/homebrew/lib/python3.11/site-packages (from pydantic>=1.10->llamaindex-py-client<0.2.0,>=0.1.13->llama-index-core<0.11.0,>=0.10.12->llama-index) (0.6.0)\n",
      "Requirement already satisfied: pydantic-core==2.16.3 in /opt/homebrew/lib/python3.11/site-packages (from pydantic>=1.10->llamaindex-py-client<0.2.0,>=0.1.13->llama-index-core<0.11.0,>=0.10.12->llama-index) (2.16.3)\n",
      "Requirement already satisfied: six>=1.5 in /opt/homebrew/lib/python3.11/site-packages (from python-dateutil>=2.8.2->pandas->llama-index-core<0.11.0,>=0.10.12->llama-index) (1.16.0)\n",
      "Requirement already satisfied: huggingface_hub<1.0,>=0.16.4 in /opt/homebrew/lib/python3.11/site-packages (from tokenizers<0.16.0,>=0.15.1->llama-index-vector-stores-chroma<0.2.0,>=0.1.1->llama-index-cli<0.2.0,>=0.1.2->llama-index) (0.20.3)\n",
      "Requirement already satisfied: pyproject_hooks in /opt/homebrew/lib/python3.11/site-packages (from build>=1.0.3->chromadb<0.5.0,>=0.4.22->llama-index-vector-stores-chroma<0.2.0,>=0.1.1->llama-index-cli<0.2.0,>=0.1.2->llama-index) (1.0.0)\n",
      "Requirement already satisfied: starlette<0.37.0,>=0.36.3 in /opt/homebrew/lib/python3.11/site-packages (from fastapi>=0.95.2->chromadb<0.5.0,>=0.4.22->llama-index-vector-stores-chroma<0.2.0,>=0.1.1->llama-index-cli<0.2.0,>=0.1.2->llama-index) (0.36.3)\n",
      "Requirement already satisfied: filelock in /opt/homebrew/lib/python3.11/site-packages (from huggingface_hub<1.0,>=0.16.4->tokenizers<0.16.0,>=0.15.1->llama-index-vector-stores-chroma<0.2.0,>=0.1.1->llama-index-cli<0.2.0,>=0.1.2->llama-index) (3.13.1)\n",
      "Requirement already satisfied: google-auth>=1.0.1 in /opt/homebrew/lib/python3.11/site-packages (from kubernetes>=28.1.0->chromadb<0.5.0,>=0.4.22->llama-index-vector-stores-chroma<0.2.0,>=0.1.1->llama-index-cli<0.2.0,>=0.1.2->llama-index) (2.28.1)\n",
      "Requirement already satisfied: websocket-client!=0.40.0,!=0.41.*,!=0.42.*,>=0.32.0 in /opt/homebrew/lib/python3.11/site-packages (from kubernetes>=28.1.0->chromadb<0.5.0,>=0.4.22->llama-index-vector-stores-chroma<0.2.0,>=0.1.1->llama-index-cli<0.2.0,>=0.1.2->llama-index) (1.7.0)\n",
      "Requirement already satisfied: requests-oauthlib in /opt/homebrew/lib/python3.11/site-packages (from kubernetes>=28.1.0->chromadb<0.5.0,>=0.4.22->llama-index-vector-stores-chroma<0.2.0,>=0.1.1->llama-index-cli<0.2.0,>=0.1.2->llama-index) (1.3.1)\n",
      "Requirement already satisfied: oauthlib>=3.2.2 in /opt/homebrew/lib/python3.11/site-packages (from kubernetes>=28.1.0->chromadb<0.5.0,>=0.4.22->llama-index-vector-stores-chroma<0.2.0,>=0.1.1->llama-index-cli<0.2.0,>=0.1.2->llama-index) (3.2.2)\n",
      "Requirement already satisfied: importlib-metadata<7.0,>=6.0 in /opt/homebrew/lib/python3.11/site-packages (from opentelemetry-api>=1.2.0->chromadb<0.5.0,>=0.4.22->llama-index-vector-stores-chroma<0.2.0,>=0.1.1->llama-index-cli<0.2.0,>=0.1.2->llama-index) (6.11.0)\n",
      "Requirement already satisfied: googleapis-common-protos~=1.52 in /opt/homebrew/lib/python3.11/site-packages (from opentelemetry-exporter-otlp-proto-grpc>=1.2.0->chromadb<0.5.0,>=0.4.22->llama-index-vector-stores-chroma<0.2.0,>=0.1.1->llama-index-cli<0.2.0,>=0.1.2->llama-index) (1.62.0)\n",
      "Requirement already satisfied: opentelemetry-exporter-otlp-proto-common==1.23.0 in /opt/homebrew/lib/python3.11/site-packages (from opentelemetry-exporter-otlp-proto-grpc>=1.2.0->chromadb<0.5.0,>=0.4.22->llama-index-vector-stores-chroma<0.2.0,>=0.1.1->llama-index-cli<0.2.0,>=0.1.2->llama-index) (1.23.0)\n",
      "Requirement already satisfied: opentelemetry-proto==1.23.0 in /opt/homebrew/lib/python3.11/site-packages (from opentelemetry-exporter-otlp-proto-grpc>=1.2.0->chromadb<0.5.0,>=0.4.22->llama-index-vector-stores-chroma<0.2.0,>=0.1.1->llama-index-cli<0.2.0,>=0.1.2->llama-index) (1.23.0)\n",
      "Requirement already satisfied: opentelemetry-instrumentation-asgi==0.44b0 in /opt/homebrew/lib/python3.11/site-packages (from opentelemetry-instrumentation-fastapi>=0.41b0->chromadb<0.5.0,>=0.4.22->llama-index-vector-stores-chroma<0.2.0,>=0.1.1->llama-index-cli<0.2.0,>=0.1.2->llama-index) (0.44b0)\n",
      "Requirement already satisfied: opentelemetry-instrumentation==0.44b0 in /opt/homebrew/lib/python3.11/site-packages (from opentelemetry-instrumentation-fastapi>=0.41b0->chromadb<0.5.0,>=0.4.22->llama-index-vector-stores-chroma<0.2.0,>=0.1.1->llama-index-cli<0.2.0,>=0.1.2->llama-index) (0.44b0)\n",
      "Requirement already satisfied: opentelemetry-semantic-conventions==0.44b0 in /opt/homebrew/lib/python3.11/site-packages (from opentelemetry-instrumentation-fastapi>=0.41b0->chromadb<0.5.0,>=0.4.22->llama-index-vector-stores-chroma<0.2.0,>=0.1.1->llama-index-cli<0.2.0,>=0.1.2->llama-index) (0.44b0)\n",
      "Requirement already satisfied: opentelemetry-util-http==0.44b0 in /opt/homebrew/lib/python3.11/site-packages (from opentelemetry-instrumentation-fastapi>=0.41b0->chromadb<0.5.0,>=0.4.22->llama-index-vector-stores-chroma<0.2.0,>=0.1.1->llama-index-cli<0.2.0,>=0.1.2->llama-index) (0.44b0)\n",
      "Requirement already satisfied: setuptools>=16.0 in /opt/homebrew/lib/python3.11/site-packages (from opentelemetry-instrumentation==0.44b0->opentelemetry-instrumentation-fastapi>=0.41b0->chromadb<0.5.0,>=0.4.22->llama-index-vector-stores-chroma<0.2.0,>=0.1.1->llama-index-cli<0.2.0,>=0.1.2->llama-index) (69.1.1)\n",
      "Requirement already satisfied: asgiref~=3.0 in /opt/homebrew/lib/python3.11/site-packages (from opentelemetry-instrumentation-asgi==0.44b0->opentelemetry-instrumentation-fastapi>=0.41b0->chromadb<0.5.0,>=0.4.22->llama-index-vector-stores-chroma<0.2.0,>=0.1.1->llama-index-cli<0.2.0,>=0.1.2->llama-index) (3.7.2)\n",
      "Requirement already satisfied: monotonic>=1.5 in /opt/homebrew/lib/python3.11/site-packages (from posthog>=2.4.0->chromadb<0.5.0,>=0.4.22->llama-index-vector-stores-chroma<0.2.0,>=0.1.1->llama-index-cli<0.2.0,>=0.1.2->llama-index) (1.6)\n",
      "Requirement already satisfied: backoff>=1.10.0 in /opt/homebrew/lib/python3.11/site-packages (from posthog>=2.4.0->chromadb<0.5.0,>=0.4.22->llama-index-vector-stores-chroma<0.2.0,>=0.1.1->llama-index-cli<0.2.0,>=0.1.2->llama-index) (2.2.1)\n",
      "Requirement already satisfied: httptools>=0.5.0 in /opt/homebrew/lib/python3.11/site-packages (from uvicorn[standard]>=0.18.3->chromadb<0.5.0,>=0.4.22->llama-index-vector-stores-chroma<0.2.0,>=0.1.1->llama-index-cli<0.2.0,>=0.1.2->llama-index) (0.6.1)\n",
      "Requirement already satisfied: python-dotenv>=0.13 in /opt/homebrew/lib/python3.11/site-packages (from uvicorn[standard]>=0.18.3->chromadb<0.5.0,>=0.4.22->llama-index-vector-stores-chroma<0.2.0,>=0.1.1->llama-index-cli<0.2.0,>=0.1.2->llama-index) (1.0.1)\n",
      "Requirement already satisfied: uvloop!=0.15.0,!=0.15.1,>=0.14.0 in /opt/homebrew/lib/python3.11/site-packages (from uvicorn[standard]>=0.18.3->chromadb<0.5.0,>=0.4.22->llama-index-vector-stores-chroma<0.2.0,>=0.1.1->llama-index-cli<0.2.0,>=0.1.2->llama-index) (0.19.0)\n",
      "Requirement already satisfied: watchfiles>=0.13 in /opt/homebrew/lib/python3.11/site-packages (from uvicorn[standard]>=0.18.3->chromadb<0.5.0,>=0.4.22->llama-index-vector-stores-chroma<0.2.0,>=0.1.1->llama-index-cli<0.2.0,>=0.1.2->llama-index) (0.21.0)\n",
      "Requirement already satisfied: websockets>=10.4 in /opt/homebrew/lib/python3.11/site-packages (from uvicorn[standard]>=0.18.3->chromadb<0.5.0,>=0.4.22->llama-index-vector-stores-chroma<0.2.0,>=0.1.1->llama-index-cli<0.2.0,>=0.1.2->llama-index) (12.0)\n",
      "Requirement already satisfied: humanfriendly>=9.1 in /opt/homebrew/lib/python3.11/site-packages (from coloredlogs->onnxruntime<2.0.0,>=1.17.0->llama-index-vector-stores-chroma<0.2.0,>=0.1.1->llama-index-cli<0.2.0,>=0.1.2->llama-index) (10.0)\n",
      "Requirement already satisfied: mpmath>=0.19 in /opt/homebrew/lib/python3.11/site-packages (from sympy->onnxruntime<2.0.0,>=1.17.0->llama-index-vector-stores-chroma<0.2.0,>=0.1.1->llama-index-cli<0.2.0,>=0.1.2->llama-index) (1.3.0)\n",
      "Requirement already satisfied: cachetools<6.0,>=2.0.0 in /opt/homebrew/lib/python3.11/site-packages (from google-auth>=1.0.1->kubernetes>=28.1.0->chromadb<0.5.0,>=0.4.22->llama-index-vector-stores-chroma<0.2.0,>=0.1.1->llama-index-cli<0.2.0,>=0.1.2->llama-index) (5.3.2)\n",
      "Requirement already satisfied: pyasn1-modules>=0.2.1 in /opt/homebrew/lib/python3.11/site-packages (from google-auth>=1.0.1->kubernetes>=28.1.0->chromadb<0.5.0,>=0.4.22->llama-index-vector-stores-chroma<0.2.0,>=0.1.1->llama-index-cli<0.2.0,>=0.1.2->llama-index) (0.3.0)\n",
      "Requirement already satisfied: rsa<5,>=3.1.4 in /opt/homebrew/lib/python3.11/site-packages (from google-auth>=1.0.1->kubernetes>=28.1.0->chromadb<0.5.0,>=0.4.22->llama-index-vector-stores-chroma<0.2.0,>=0.1.1->llama-index-cli<0.2.0,>=0.1.2->llama-index) (4.9)\n",
      "Requirement already satisfied: zipp>=0.5 in /opt/homebrew/lib/python3.11/site-packages (from importlib-metadata<7.0,>=6.0->opentelemetry-api>=1.2.0->chromadb<0.5.0,>=0.4.22->llama-index-vector-stores-chroma<0.2.0,>=0.1.1->llama-index-cli<0.2.0,>=0.1.2->llama-index) (3.17.0)\n",
      "Requirement already satisfied: pyasn1<0.6.0,>=0.4.6 in /opt/homebrew/lib/python3.11/site-packages (from pyasn1-modules>=0.2.1->google-auth>=1.0.1->kubernetes>=28.1.0->chromadb<0.5.0,>=0.4.22->llama-index-vector-stores-chroma<0.2.0,>=0.1.1->llama-index-cli<0.2.0,>=0.1.2->llama-index) (0.5.1)\n"
     ]
    }
   ],
   "source": [
    "!pip install llama-index weaviate-client"
   ]
  },
  {
   "cell_type": "code",
   "execution_count": 17,
   "id": "d48af8e1",
   "metadata": {},
   "outputs": [],
   "source": [
    "import logging\n",
    "import sys\n",
    "\n",
    "logging.basicConfig(stream=sys.stdout, level=logging.INFO)\n",
    "logging.getLogger().addHandler(logging.StreamHandler(stream=sys.stdout))"
   ]
  },
  {
   "cell_type": "markdown",
   "id": "198ea1cc",
   "metadata": {},
   "source": [
    "We will be using GPT-4 for its reasoning capabilities to infer the metadata filters. Depending on your use case, `\"gpt-3.5-turbo\"` can work as well."
   ]
  },
  {
   "cell_type": "code",
   "execution_count": 18,
   "id": "bf49ac18",
   "metadata": {},
   "outputs": [],
   "source": [
    "# set up OpenAI\n",
    "import os\n",
    "import getpass\n",
    "\n",
    "os.environ[\"OPENAI_API_KEY\"] = getpass.getpass(\"OpenAI API Key:\")\n",
    "import openai\n",
    "\n",
    "openai.api_key = os.environ[\"OPENAI_API_KEY\"]"
   ]
  },
  {
   "cell_type": "code",
   "execution_count": 19,
   "id": "f2819b6c",
   "metadata": {},
   "outputs": [],
   "source": [
    "from llama_index.embeddings.openai import OpenAIEmbedding\n",
    "from llama_index.llms.openai import OpenAI\n",
    "from llama_index.core.settings import Settings\n",
    "\n",
    "Settings.llm = OpenAI(model=\"gpt-4\")\n",
    "Settings.embed_model = OpenAIEmbedding()"
   ]
  },
  {
   "cell_type": "markdown",
   "id": "a9d3d43c",
   "metadata": {},
   "source": [
    "This Notebook uses Weaviate in [Embedded mode](https://weaviate.io/developers/weaviate/installation/embedded), which is supported on Linux and macOS.\n",
    "\n",
    "If you prefer to try out Weaviate's fully managed service, [Weaviate Cloud Services (WCS)](https://weaviate.io/developers/weaviate/installation/weaviate-cloud-services), you can enable the code in the comments."
   ]
  },
  {
   "cell_type": "code",
   "execution_count": 20,
   "id": "0ce3143d-198c-4dd2-8e5a-c5cdf94f017a",
   "metadata": {},
   "outputs": [
    {
     "name": "stdout",
     "output_type": "stream",
     "text": [
      "embedded weaviate is already listening on port 8079\n"
     ]
    },
    {
     "name": "stderr",
     "output_type": "stream",
     "text": [
      "/opt/homebrew/lib/python3.11/site-packages/weaviate/warnings.py:121: DeprecationWarning: Dep005: You are using weaviate-client version 3.26.2. The latest version is 4.5.2.\n",
      "            Please consider upgrading to the latest version. See https://weaviate.io/developers/weaviate/client-libraries/python for details.\n",
      "  warnings.warn(\n"
     ]
    },
    {
     "data": {
      "text/plain": [
       "'\\nimport weaviate\\n\\n# cloud\\nresource_owner_config = weaviate.AuthClientPassword(\\n    username=\"\",\\n    password=\"\",\\n)\\nclient = weaviate.Client(\\n    \"https://test.weaviate.network\",\\n    auth_client_secret=resource_owner_config,\\n)\\n\\n# local\\n# client = weaviate.Client(\"http://localhost:8081\")\\n'"
      ]
     },
     "execution_count": 20,
     "metadata": {},
     "output_type": "execute_result"
    }
   ],
   "source": [
    "import weaviate\n",
    "from weaviate.embedded import EmbeddedOptions\n",
    "\n",
    "# Connect to Weaviate client in embedded mode\n",
    "client = weaviate.Client(embedded_options=EmbeddedOptions())\n",
    "\n",
    "# Enable this code if you want to use Weaviate Cloud Services instead of Embedded mode.\n",
    "\"\"\"\n",
    "import weaviate\n",
    "\n",
    "# cloud\n",
    "resource_owner_config = weaviate.AuthClientPassword(\n",
    "    username=\"\",\n",
    "    password=\"\",\n",
    ")\n",
    "client = weaviate.Client(\n",
    "    \"https://test.weaviate.network\",\n",
    "    auth_client_secret=resource_owner_config,\n",
    ")\n",
    "\n",
    "# local\n",
    "# client = weaviate.Client(\"http://localhost:8081\")\n",
    "\"\"\"\n"
   ]
  },
  {
   "cell_type": "markdown",
   "id": "41aa106b-8261-4a01-97c6-1b037dffa1b4",
   "metadata": {},
   "source": [
    "## Defining Some Sample Data\n",
    "\n",
    "We insert some sample nodes containing text chunks into the vector database. Note that each `TextNode` not only contains the text, but also metadata e.g. `category` and `country`. These metadata fields will get converted/stored as such in the underlying vector db."
   ]
  },
  {
   "cell_type": "code",
   "execution_count": 21,
   "id": "68cbd239-880e-41a3-98d8-dbb3fab55431",
   "metadata": {},
   "outputs": [],
   "source": [
    "from llama_index.core.schema import TextNode\n",
    "\n",
    "nodes = [\n",
    "    TextNode(\n",
    "        text=(\n",
    "            \"Michael Jordan is a retired professional basketball player,\"\n",
    "            \" widely regarded as one of the greatest basketball players of all\"\n",
    "            \" time.\"\n",
    "        ),\n",
    "        metadata={\n",
    "            \"category\": \"Sports\",\n",
    "            \"country\": \"United States\",\n",
    "        },\n",
    "    ),\n",
    "    TextNode(\n",
    "        text=(\n",
    "            \"Angelina Jolie is an American actress, filmmaker, and\"\n",
    "            \" humanitarian. She has received numerous awards for her acting\"\n",
    "            \" and is known for her philanthropic work.\"\n",
    "        ),\n",
    "        metadata={\n",
    "            \"category\": \"Entertainment\",\n",
    "            \"country\": \"United States\",\n",
    "        },\n",
    "    ),\n",
    "    TextNode(\n",
    "        text=(\n",
    "            \"Elon Musk is a business magnate, industrial designer, and\"\n",
    "            \" engineer. He is the founder, CEO, and lead designer of SpaceX,\"\n",
    "            \" Tesla, Inc., Neuralink, and The Boring Company.\"\n",
    "        ),\n",
    "        metadata={\n",
    "            \"category\": \"Business\",\n",
    "            \"country\": \"United States\",\n",
    "        },\n",
    "    ),\n",
    "    TextNode(\n",
    "        text=(\n",
    "            \"Rihanna is a Barbadian singer, actress, and businesswoman. She\"\n",
    "            \" has achieved significant success in the music industry and is\"\n",
    "            \" known for her versatile musical style.\"\n",
    "        ),\n",
    "        metadata={\n",
    "            \"category\": \"Music\",\n",
    "            \"country\": \"Barbados\",\n",
    "        },\n",
    "    ),\n",
    "    TextNode(\n",
    "        text=(\n",
    "            \"Cristiano Ronaldo is a Portuguese professional footballer who is\"\n",
    "            \" considered one of the greatest football players of all time. He\"\n",
    "            \" has won numerous awards and set multiple records during his\"\n",
    "            \" career.\"\n",
    "        ),\n",
    "        metadata={\n",
    "            \"category\": \"Sports\",\n",
    "            \"country\": \"Portugal\",\n",
    "        },\n",
    "    ),\n",
    "]"
   ]
  },
  {
   "cell_type": "markdown",
   "id": "e8bd70be-57c7-49e2-990b-ad9a876710fb",
   "metadata": {},
   "source": [
    "## Build Vector Index with Weaviate Vector Store\n",
    "\n",
    "Here we load the data into the vector store. As mentioned above, both the text and metadata for each node will get converted into corresopnding representations in Weaviate. We can now run semantic queries and also metadata filtering on this data from Weaviate."
   ]
  },
  {
   "cell_type": "code",
   "execution_count": 22,
   "id": "ba1558b3",
   "metadata": {},
   "outputs": [],
   "source": [
    "from llama_index.core import VectorStoreIndex, StorageContext\n",
    "from llama_index.vector_stores.weaviate import WeaviateVectorStore\n",
    "\n",
    "vector_store = WeaviateVectorStore(\n",
    "    weaviate_client=client, \n",
    "    index_name=\"LlamaIndex_filter\"\n",
    ")\n",
    "                                   \n",
    "storage_context = StorageContext.from_defaults(vector_store=vector_store)"
   ]
  },
  {
   "cell_type": "code",
   "execution_count": 23,
   "id": "35369eda",
   "metadata": {},
   "outputs": [
    {
     "name": "stdout",
     "output_type": "stream",
     "text": [
      "INFO:httpx:HTTP Request: POST https://api.openai.com/v1/embeddings \"HTTP/1.1 200 OK\"\n",
      "HTTP Request: POST https://api.openai.com/v1/embeddings \"HTTP/1.1 200 OK\"\n",
      "HTTP Request: POST https://api.openai.com/v1/embeddings \"HTTP/1.1 200 OK\"\n"
     ]
    }
   ],
   "source": [
    "index = VectorStoreIndex(nodes, storage_context=storage_context)"
   ]
  },
  {
   "cell_type": "markdown",
   "id": "c793dc45-5087-4dcb-b0d3-85b8e718539f",
   "metadata": {},
   "source": [
    "## Define `VectorIndexAutoRetriever`\n",
    "\n",
    "We define our core `VectorIndexAutoRetriever` module. The module takes in `VectorStoreInfo`,\n",
    "which contains a structured description of the vector store collection and the metadata filters it supports.\n",
    "This information will then be used in the auto-retrieval prompt where the LLM infers metadata filters."
   ]
  },
  {
   "cell_type": "code",
   "execution_count": 24,
   "id": "bedbb693-725f-478f-be26-fa7180ea38b2",
   "metadata": {},
   "outputs": [],
   "source": [
    "from llama_index.core.retrievers import VectorIndexAutoRetriever\n",
    "from llama_index.core.vector_stores.types import MetadataInfo, VectorStoreInfo\n",
    "\n",
    "\n",
    "vector_store_info = VectorStoreInfo(\n",
    "    content_info=\"brief biography of celebrities\",\n",
    "    metadata_info=[\n",
    "        MetadataInfo(\n",
    "            name=\"category\",\n",
    "            type=\"str\",\n",
    "            description=(\n",
    "                \"Category of the celebrity, one of [Sports, Entertainment,\"\n",
    "                \" Business, Music]\"\n",
    "            ),\n",
    "        ),\n",
    "        MetadataInfo(\n",
    "            name=\"country\",\n",
    "            type=\"str\",\n",
    "            description=(\n",
    "                \"Country of the celebrity, one of [United States, Barbados,\"\n",
    "                \" Portugal]\"\n",
    "            ),\n",
    "        ),\n",
    "    ],\n",
    ")\n",
    "\n",
    "retriever = VectorIndexAutoRetriever(\n",
    "    index, vector_store_info=vector_store_info\n",
    ")"
   ]
  },
  {
   "cell_type": "markdown",
   "id": "32808a60-7bab-4e9e-944c-cfe2ed0b0e2e",
   "metadata": {},
   "source": [
    "## Running over some sample data\n",
    "\n",
    "We try running over some sample data. Note how metadata filters are inferred - this helps with more precise retrieval! "
   ]
  },
  {
   "cell_type": "code",
   "execution_count": 25,
   "id": "eeb18e9c",
   "metadata": {},
   "outputs": [
    {
     "name": "stdout",
     "output_type": "stream",
     "text": [
      "INFO:httpx:HTTP Request: POST https://api.openai.com/v1/chat/completions \"HTTP/1.1 200 OK\"\n",
      "HTTP Request: POST https://api.openai.com/v1/chat/completions \"HTTP/1.1 200 OK\"\n",
      "HTTP Request: POST https://api.openai.com/v1/chat/completions \"HTTP/1.1 200 OK\"\n",
      "INFO:llama_index.core.indices.vector_store.retrievers.auto_retriever.auto_retriever:Using query str: Tell me about celebrities\n",
      "Using query str: Tell me about celebrities\n",
      "Using query str: Tell me about celebrities\n",
      "INFO:llama_index.core.indices.vector_store.retrievers.auto_retriever.auto_retriever:Using filters: [('country', '==', 'United States')]\n",
      "Using filters: [('country', '==', 'United States')]\n",
      "Using filters: [('country', '==', 'United States')]\n",
      "INFO:llama_index.core.indices.vector_store.retrievers.auto_retriever.auto_retriever:Using top_k: 2\n",
      "Using top_k: 2\n",
      "Using top_k: 2\n",
      "INFO:httpx:HTTP Request: POST https://api.openai.com/v1/embeddings \"HTTP/1.1 200 OK\"\n",
      "HTTP Request: POST https://api.openai.com/v1/embeddings \"HTTP/1.1 200 OK\"\n",
      "HTTP Request: POST https://api.openai.com/v1/embeddings \"HTTP/1.1 200 OK\"\n"
     ]
    }
   ],
   "source": [
    "response = retriever.retrieve(\"Tell me about two celebrities from United States\")"
   ]
  },
  {
   "cell_type": "code",
   "execution_count": 26,
   "id": "e697fa39",
   "metadata": {},
   "outputs": [
    {
     "name": "stdout",
     "output_type": "stream",
     "text": [
      "[NodeWithScore(node=TextNode(id_='a6ba3fa4-3ced-4281-9cf3-df9e73bb92d2', embedding=[-0.016137771, -0.01626444, -0.010450283, -0.015225747, -0.0023813979, 0.01203366, -0.019013183, 0.0016736287, -0.03131285, -0.02898212, 0.01707513, 0.0151117435, -0.004363785, 0.0053074774, -0.017024461, 0.003290256, 0.03143952, 0.018265828, 0.005095305, -0.02923546, -0.024789339, 0.023294631, -0.0028247433, -0.00044255366, -0.009018911, 0.0067641833, 0.0123883365, -0.025245352, 0.01508641, -0.030350156, -0.032807555, -0.007334199, 0.0032585885, -0.030831503, -0.017556475, 0.013908377, -0.0015556673, -0.03409959, 0.018189827, 0.0027661584, 0.027892757, 0.0015176662, -0.007897881, -0.02410532, -0.014731733, 0.008581899, 0.0068275183, -0.036075644, -0.013566368, 0.013731039, 0.014972406, 0.016973794, -0.018443167, -0.018671174, -0.028627444, -0.002777242, -0.016733121, -0.004585458, 0.02779142, -0.017721148, 0.0035530964, 0.021584585, -0.023788646, -0.017100465, -0.031920865, -0.018873846, -0.03181953, 0.003980608, -0.0018493835, 0.031895533, 0.02271195, 0.015289081, 0.02690473, 0.012926684, 0.0069161877, -0.0017607145, -0.010203277, 0.0070491913, -0.027310073, -0.010722624, 0.031743526, -0.023573305, 0.020051878, 0.0018018822, 0.010481951, -0.0047469623, -0.039723743, 0.008537565, -0.01855717, 0.004458788, -0.012553007, -0.0036829333, 0.009044246, 0.0068655196, -0.0005569526, 0.0042814496, -0.0016063353, 0.022851286, 0.004515789, -0.027208738, 0.0013466616, 0.0066881813, -0.0024083154, -0.010253944, -0.0029735807, 0.0018984681, -0.011761319, 0.0037906028, 0.0393944, 0.012185664, -0.01635311, -0.017835151, 0.019228522, -0.05104805, 0.0003117272, -0.02372531, -0.00087164866, 0.023927983, 0.0015319166, -0.0075368714, 0.018747175, 0.03969841, -0.017657813, -0.010051273, 0.022445943, -0.0024114822, 0.006425341, -0.0355943, 0.003879272, -0.0059756623, 0.016720453, 0.014187052, 0.013059688, 0.02076123, 0.0053043105, 0.018417833, -0.015453753, 0.023661975, -0.016796455, -0.016188439, 0.01682179, 0.023319965, -0.016961128, -0.0024605668, -0.024878008, 0.008024551, 0.01729047, -0.005066804, 0.029387465, 0.054620147, 0.002591987, 0.020153213, 0.027386077, 0.004363785, 0.025321353, 0.010583287, 0.0038856054, 0.020824565, 0.01881051, -0.019456528, -0.016555782, -0.010709957, 0.0040787775, -0.006821185, 0.0044651213, 0.03503695, -0.017125798, -0.005814158, -0.018531837, -0.022205269, -0.007359533, 0.021749256, -0.021305911, 0.008936576, -0.0069541885, 0.006181501, 0.012882349, -0.0019475528, -0.02312996, 0.017341137, -0.021128573, 0.03037549, 0.019760536, 0.029970147, -0.027208738, 0.0041041113, 0.011013965, -0.031414185, 0.0051649734, -0.022471277, -0.0076572075, 0.024181323, 0.0006622471, 0.0041642794, -0.6574685, -0.0036195982, 0.008626234, 0.014630397, 0.0039521074, 0.0056779874, -0.0062575033, -0.012153996, -0.015276414, -0.008062552, -0.0045727906, 0.015415751, 0.0064443415, -0.002815243, 0.002343397, -0.020647226, -0.016137771, -0.04504389, -0.010728958, -0.021964597, -0.0026379048, 0.020837232, -0.008391894, -0.04253582, -0.00058822427, 0.012755679, 0.021369247, -0.021875927, 0.01436439, 0.041750465, -0.009683929, 0.015099077, 0.0036449323, -0.01169165, 0.053910796, -0.0056178193, -0.003109751, 0.036455657, 0.01669512, 0.026676724, -0.010177943, 0.008493231, 0.009056913, -0.007910548, -0.010051273, 0.015441085, -0.0068908534, 0.0061878343, -0.0022404774, 0.0012429504, -0.0068401857, 0.013718372, 0.016733121, -0.018202493, -0.0031445853, 0.00910758, 0.00934192, -0.00921525, 0.033288904, -0.009037912, -0.016897792, 0.020115212, -0.0033694247, 2.0385969e-05, 0.01906385, 0.018620506, -0.015795762, -0.009120247, 0.005142806, -0.0007113318, 0.012001992, 0.032072872, -0.019418526, 0.012914017, 0.005611486, 0.018063156, -0.0035942642, 0.0056019854, -0.026322048, -0.0018018822, 0.010070274, -0.015048408, 0.011792987, 0.008195556, 0.024966678, 0.010703623, 0.00025076722, 0.018519169, 0.005902827, -0.00019594282, 0.019127186, 0.011628316, -0.03369425, -0.007562205, -0.033238236, 0.0019174687, -0.020520557, -0.0151117435, -0.0066311797, -0.016619118, 0.0038127701, -0.0054056467, 0.008955576, 0.017379139, -0.0074925367, 0.01440239, -0.02097657, 0.016239107, 0.0017686313, -0.025346687, -0.015935099, 0.0041167783, -0.011178637, -0.0112419715, -0.027183404, -0.022851286, 0.015187745, 0.017189134, 0.0034232596, -0.014643064, 0.0037684357, -0.003155669, -0.0067388494, -0.01216033, 0.010564286, 0.017315803, 0.0025049013, 0.0006072248, -0.004971802, -0.012597342, 0.008341227, -0.002604654, -0.016758455, -0.011602981, 0.020583892, 0.031236848, 0.009804266, -0.030147485, 0.024421996, 0.005437314, -0.0046139583, 0.0086009, 0.00039544824, 0.011298973, -0.017176466, -0.025068013, -0.0031002508, -0.0065108435, -0.03156619, -0.0025444857, -0.014782401, 0.009709263, -0.02152125, 0.040433098, 0.022179935, 0.0046139583, 0.0010228611, -0.009202583, 0.022407942, -0.03491028, 0.00062899623, 0.0038222703, -0.0076445406, -0.011697984, 0.01736647, -0.0038317707, -0.007397534, 0.008125887, -0.0052124746, -0.0077648773, 0.022686616, 0.008708569, -0.00773321, 0.0056368196, 0.0015722926, 0.029159458, -0.015529755, -0.009512925, 0.02834877, 0.0031461688, 0.012736679, -0.017391805, -0.0032744221, -0.008081553, 0.013718372, 0.0057634898, -0.0021676421, 0.02880478, 0.0029894144, -0.0036512658, -0.006783184, 0.027816754, 0.023585973, -0.009044246, -0.009911936, -0.012622676, 0.010253944, 0.0025603194, 0.009531925, 0.016125103, 0.023319965, -0.0007394367, 0.03698767, 0.014326389, -0.0036005976, -0.025473358, 0.007061858, 0.0020235549, 0.025156682, -0.011685317, 0.023281965, -0.023155294, -0.016239107, 0.014047715, 0.010868295, 0.028906118, 0.0092342505, 0.028146097, 0.009012578, -0.004556957, -0.02690473, 0.026246045, -0.017733814, 0.015859097, -0.004889466, 0.011140635, 0.0021058905, -0.006643847, -0.0051776404, -0.0075558717, 0.0001365662, 0.0119576575, -0.0076002064, 0.01190699, -0.015998434, -0.019469194, 0.00910758, -0.021546585, 0.013313028, 0.0041642794, -0.0012215748, 0.004902133, 0.034808945, 0.010988631, 0.016973794, 0.005389813, 0.038913056, 0.016340444, -0.0080942195, 0.015390418, -0.007650874, 0.0077205426, -0.008309559, 0.022179935, 0.008290558, -0.026676724, -0.013743706, -0.006808518, 0.039166395, 0.005297977, 0.0151117435, 0.01685979, 0.0018731342, 0.0046044583, 0.018797843, 0.023636641, -0.022901954, -0.012933018, 0.00565582, -0.020520557, -0.016163105, -0.048413314, 0.046082582, -0.0072138626, -0.01644178, -0.00078100036, -0.030096816, 0.019165186, 0.007815545, 0.0008946076, 0.0050224694, -0.07493804, 0.0070238574, 0.012983685, 0.0018699674, -0.02834877, -0.00282791, 0.021964597, -0.012115995, 0.025866035, 0.011875322, 0.006871853, 0.0046519595, 0.00084710633, 0.0072898646, -0.0054626483, 0.03572097, -0.021280577, 0.020672562, -0.006561511, 0.0049148, -0.015187745, 0.005861659, 0.011412976, -0.003910939, -0.008410895, 0.007346866, 0.0056621535, -0.006476009, -0.020355886, 0.0109569635, 0.012578341, -0.0052409754, -0.0032126706, 0.014035047, 0.008417228, -0.012660677, 0.005962995, 0.011590314, -0.001378329, -0.00022681865, -0.02961547, -0.032174207, 0.013097689, 0.11532046, -0.021255244, -0.005703321, 0.02287662, -0.0393944, -0.0102349445, -0.0018446334, 0.0009880268, -0.0041516125, 0.0018398833, -0.002485901, -0.01622644, 0.008860574, 0.021001903, 0.0044017863, 0.0022373106, 0.00032122748, -0.01647978, -0.0007802087, -0.010621288, 0.014389724, -0.040939778, 0.026474051, 0.0023449804, 0.024586666, -0.035518296, 0.017227134, -0.010975964, 0.0031493355, -0.017328471, -0.017100465, -0.026043374, -0.0038539378, -0.023902649, 0.004097778, 0.012914017, 0.019342525, 0.0029387465, 0.041623797, -0.042713158, 0.02614471, -0.0022483943, -0.014263053, -0.017645145, 0.00068203936, -0.00970293, -0.0155424215, 0.029134125, 0.023573305, 0.018329164, 0.016467113, 0.0013577451, -0.006529844, -0.0046012914, 0.026322048, 0.0068148514, -0.0009500258, 0.009474924, -0.016872458, 0.018531837, 0.01788582, -0.033466242, 0.0022183103, -0.01512441, 0.018354498, -0.041319788, -0.024396662, -0.009835933, 0.016771121, -0.021977263, 0.007840879, -0.0270314, -0.008043552, 0.00013973296, 0.0221166, -0.0029989148, -0.009759932, 0.0045917914, 0.00944959, 0.01376904, -0.0119513245, -0.014579729, -0.0146810645, -0.02809543, 0.005054137, 0.016302442, -0.012451671, 0.00921525, -0.0071505276, 0.025448024, 0.010899962, 0.028019426, 0.015567755, 0.0070175235, 0.011032966, 0.023940649, 0.0036195982, -0.018227829, 0.008733904, 0.0064570084, -0.004696294, -0.044841215, -0.0040154424, -0.004328951, -0.011001298, 0.007790211, -0.0073025315, 0.007232863, -0.021039905, -0.023142628, -0.0019934708, -0.021369247, 0.0072645303, -0.018633172, -0.0076318737, 0.029944813, 0.006485509, 0.01487107, 0.011735985, -0.015441085, -0.021343913, -0.02419399, 0.010576953, 0.04504389, -0.0042909496, -0.0023655642, -0.002781992, -0.018861178, -0.0037431016, 0.020216549, -0.01563109, 0.014731733, -0.032098204, -0.017505808, -0.0019269689, -0.015618424, -0.016973794, 0.005902827, -0.020457221, -0.007923215, 0.00023374593, -0.026195377, 0.0037557685, -0.02546069, 0.009240584, -0.030096816, -0.013971712, -0.009614261, -0.0027075734, 0.014009713, -0.023598641, -0.0069731893, -0.0061023324, -0.005826825, 0.008752904, 0.013477699, -0.011666317, -0.009886602, 0.010127274, 0.039115727, -0.00052053493, -0.02809543, 0.018569836, 0.01694846, 0.003092334, 0.019975875, -0.00565582, 0.0007220196, -0.023509972, 0.022445943, 0.008778238, 0.02809543, -0.012001992, 0.0017892153, -0.0033567578, 0.00540248, 0.0011629899, -0.013059688, -0.0142503865, -0.0072898646, -0.006871853, 0.0018731342, -0.024016652, -0.0063936734, -0.011115301, -0.0070808586, 0.026702058, -0.02003921, 0.004430287, -0.007897881, 0.0062511694, 0.012597342, 0.015238414, -0.0053993133, -0.004936967, -0.02847544, -0.024485331, -0.011020299, 0.005814158, -0.026372716, 0.0038191036, 0.032072872, 0.0016000017, -0.02999548, -0.02003921, 0.030806169, 0.010722624, -0.011051967, 0.009905602, -0.017657813, -0.010621288, -0.018873846, 0.0027202405, -0.035822306, 0.027132737, -0.01167265, -0.014415057, 0.010532619, 0.0013751623, -0.005826825, 0.023231298, -0.035872974, 0.012616342, -0.0074292016, 0.030755501, 0.010640289, 0.015770428, -0.010728958, 0.015884431, -0.013477699, 0.0068021845, 0.014947073, -0.011716984, -0.0016847124, -0.00380327, 0.0069605224, 0.0016546282, -0.013680371, -0.01487107, 0.015491754, 0.014706399, 0.008404561, -0.020153213, -0.014415057, -0.020001208, 0.008043552, 0.010057606, -0.0037811026, -0.0059598284, -0.038431708, -0.006719849, 0.0042434484, 6.120739e-05, -0.0015659592, -0.021635253, -0.00847423, 0.008562899, -0.008296892, 0.0041706134, 0.020254549, -0.016872458, -0.007074525, -0.011609315, 0.016239107, -0.004477788, 0.019304523, -0.0072075287, -0.005785657, 0.014554394, 0.021065239, -0.041851804, 0.0021739756, 0.020938568, 0.001624544, 0.030350156, 0.00787888, -0.0044017863, -0.017581811, -0.016720453, -0.02753808, 0.011286306, 0.0021533917, -0.009835933, -0.0071758614, -0.005902827, -0.01685979, -0.009873934, -0.021039905, 0.0010885712, -0.011305307, 0.00020959944, -0.018861178, -0.0014171217, -0.019177854, 0.010779626, -0.019798538, 0.02690473, 0.01499774, -0.020191215, 0.0073531996, -0.00589016, -0.00060920406, -0.022509277, -0.020229215, 0.009335587, 0.0031081676, 0.02923546, -0.012515007, 0.011704317, -0.021065239, 0.016378444, 0.009126581, -0.017999822, -0.019621199, -0.012166663, -0.024396662, 0.0013260776, -0.027690085, 0.008828906, 0.014592396, -0.01423772, 0.0020710563, -0.0001629888, 0.01156498, 0.009139248, -0.027082069, 0.03724101, -0.017809816, 0.01487107, -0.023623975, 0.009145581, 0.009778932, -0.012882349, -0.0003261755, -0.034048922, -0.008550232, -0.011083634, 0.05016136, -0.01606177, -0.0016039602, 0.01626444, 0.030552829, 0.021191908, 0.037950363, 0.011628316, -0.010418616, -0.0064190077, -0.04088911, -0.036708996, -0.004005942, -0.0041706134, 0.010152609, 0.017417138, -0.013528367, -0.0054848157, 0.003013165, -0.03957174, -0.011881656, -0.03339024, 0.013414364, -0.016150437, 0.034960948, 0.017987154, -0.0034644273, 0.017936487, 0.030071482, -0.010456617, -0.009259584, 0.021077905, -0.02766475, -3.5502264e-05, -0.0031034176, -0.035062283, -0.019481862, 0.008645235, 0.008214557, -0.001893718, -0.0008015843, -0.0038191036, -0.020571224, -0.014972406, 0.041801132, 0.026195377, 0.02249661, 0.031236848, -0.0110393, 0.0051903073, 0.0042339484, 0.013731039, 0.0037399349, 0.010469284, 0.008847906, 0.013313028, 0.012888683, 0.0007572497, 0.0017306303, -0.006922521, -0.009436923, 0.004347951, 0.0100956075, -0.013541034, 0.024497999, -0.025650697, 0.0048071304, 0.0052789766, -0.02432066, -0.0031208347, 0.007435535, 0.0034770942, -0.005785657, 0.004955968, -0.0196972, -0.0057413224, -0.015859097, 0.02435866, -0.00024364203, 0.005611486, -0.009031578, 0.0233453, -0.020305218, -0.00059178687, -0.0014939156, 0.009348254, -0.015681759, -0.0099499365, -0.01533975, -0.015263747, -0.00823989, 0.0052441424, 0.009753598, -0.01910185, -0.026170043, 0.0006852061, -0.011032966, -0.01745514, 0.02397865, 0.19385593, -0.009994271, 0.012831681, 0.010678289, -0.022002596, 0.03288356, 0.03126218, 0.0073912004, -0.008493231, 0.012635343, 0.0036354319, -0.0060548307, 0.03042616, -0.0024637335, 0.0034010923, -0.045145225, -0.017100465, 0.00041959473, 0.007074525, -0.025308687, 0.011894323, -0.00270599, -0.010114607, -0.025992705, 0.048413314, 0.0017322137, -0.006966856, 0.0010893629, 0.021850593, -0.017037129, 0.0060516642, -0.007619207, -0.0017100464, 0.007840879, -0.013414364, -0.019722534, -0.013743706, 0.0060389973, 0.009462257, 0.0037462683, -0.015517088, 0.026119376, -0.010399615, -0.017657813, 0.027006065, 0.032072872, -0.010728958, 0.011609315, 0.0012762013, 0.029210126, -0.019988542, -0.0110963015, 0.011343308, 0.01736647, -0.011552313, 0.012850682, 0.038330372, 0.027259406, -0.0035657634, 0.017822484, 0.015301748, 0.022787951, -0.027994093, 0.026524719, -0.017341137, 0.01859517, -0.013477699, -0.010595954, 0.0008779822, -0.019000515, 0.003211087, -0.0047469623, -0.018772509, 0.004110445, -0.0008217723, -0.012743012, 0.016074436, 0.03470761, 0.026930064, 0.013148357, -0.008075219, -0.013085022, -0.013161024, 0.023269298, -0.03245288, -0.016935794, 0.008442562, 0.0009436923, -0.00025452775, -0.01902585, 0.013883043, -0.028424772, -0.0021977264, -0.011609315, -0.016036436, 0.018063156, 0.018519169, 0.009785266, -0.038761053, 0.0054056467, -0.021926595, 0.009303919, 0.010918963, -0.005563984, -0.01647978, 0.001683129, -0.0021027238, -0.0015247914, 0.018075824, 0.005487982, 0.023585973, -0.027639417, -0.002439983, -0.0037684357, 0.016707787, 0.021115907, -0.011761319, -0.02961547, 0.041193116, -0.0039964416, -0.0055576507, -0.028526107, 0.0059598284, 0.006295504, -0.00932292, -0.014947073, -0.0208879, 0.022800619, 0.02567603, -0.02554936, -0.0005379521, -0.024713337, -0.0065361774, 0.006235336, 0.010513619, 0.031110177, -0.005605152, 0.017151132, -0.0041801133, -0.0071125263, 0.002764575, -0.0065235104, 0.02012788, 0.0056811543, -0.007866213, -0.027487412, 0.0023813979, -0.0056336527, -0.004211781, -0.009873934, -0.043523848, 0.007840879, 0.014503727, 0.014301055, 0.024079986, 0.00018090074, -0.026702058, -0.031008841, 0.030527495, 0.027360743, 0.014605063, 0.009139248, 0.02419399, -0.012553007, -0.011349641, -0.0019934708, -0.1583883, 0.01635311, 0.00934192, -0.014301055, 0.027512746, 0.009443256, -0.017949153, -0.015453753, -0.0036575992, -0.0021074738, 0.03371958, -0.02054589, -0.043878525, -0.01563109, 0.007992883, -0.00392994, 0.0044967886, 0.05097205, 0.036379654, 0.006105499, 0.024523333, 0.0047754627, 0.021039905, -0.01788582, 0.008740237, 0.0118183205, 0.024650002, -0.0020172214, -0.000710936, -0.011919657, -0.010209611, -0.012565674, 0.019367859, 0.01091263, 0.015149744, 0.007847213, -0.011210304, -0.0074038673, -0.010880962, 0.004031276, 0.024257325, 0.019583197, 0.004965468, 0.0040154424, 0.008581899, 0.012065328, 0.002819993, -0.009531925, 0.010051273, -0.025486024, 0.009006244, -0.026752725, 0.003967941, 0.006998523, 0.0122426655, 0.033415575, 0.0022119766, 0.024434663, -0.012768347, -0.015618424, -0.00056645286, 0.013477699, -0.0050414703, -0.016682453, -0.00393944, -0.0002165267, -0.025587361, 0.007182195, -0.02809543, 0.009436923, -0.008208223, -0.01436439, -0.011457311, -0.03161686, 0.011843654, -0.0042782826, -0.01898785, 0.041725133, 0.0005795157, 0.0047469623, -0.022395274, 0.026322048, -0.024485331, -0.0040914444, 0.004506289, 0.012857015, -0.005487982, 0.021635253, -0.012344002, -0.015922433, 0.04473988, -0.040281095, -0.011045633, -0.009671262, 0.025334021, -2.242704e-05, 0.02614471, 0.0011241972, 0.0039616073, 0.0105199525, -0.00307175, 0.019823872, -0.0026474053, 0.006656514, 0.021052571, 0.013566368, 0.013148357, -0.0030812502, 0.0065868455, 0.0028120764, -0.02177459, -0.015605757, 0.019203188, 0.021901261, -0.018443167, 0.0070491913, -0.010070274, 0.0040882775, -0.0035245956, -0.011982991, 0.037266344, 0.012692344, -0.011609315, -0.012781014, -0.029792808, -0.020216549, -0.08319692, -0.022268604, 0.023370635, -0.013503033, -0.013477699, 0.017303135, 0.015517088, 0.008284225, -0.021787258, 0.036024977, -0.012996352, -0.03936907, 0.0046234587, -0.010475618, 0.036835667, -0.011571314, -0.012787347, -0.016973794, -0.011843654, 0.03769702, -0.0075685387, -0.03521429, 0.0030036648, -0.043498512, -0.016809123, -0.0048831324, -0.01729047, 0.01533975, 0.0011336975, 0.0009959437, -0.015061075, -0.028627444, -0.0053834794, -0.03118618, 0.0015160828, -0.009886602, -0.032174207, -0.0002721428, -0.009626928, -0.01906385, -0.008448896, 0.0050478037, -0.011862655, -0.01830383, -0.011735985, 0.001165365, 0.0029387465, 0.008366561, 0.012020993, 0.0011439894, -0.035062283, -0.0066501806, -0.010747958, -0.0022103933, 0.01711313, 0.004943301, 0.02809543, -0.007061858, -0.0005525983, 0.025194684, -0.023193296, -0.008144888, -0.011571314, 0.013034354, -0.006821185, 0.0046804603, 0.0042592823, 0.009411588, 0.012952018, -0.019849205, -0.013199025, 0.03711434, -0.021597253, 0.022319272, -0.025815368, 0.0052441424, -0.021787258, 0.0040376093, 0.021913927, -0.0056241527, -0.004328951, -0.008930243, 0.026550055, -0.01277468, 0.032072872, -0.015149744, -0.0043099504, -0.01563109, -0.018379832, -0.037595686, -0.014516394, 0.031388853, 0.00093894213, -0.0011764485, -0.003201587, -0.0010838211, 0.0033377572, -0.019519864, -0.00749887, 0.015833763, 0.013718372, -0.004936967, -0.07093526, 0.015909765, -0.0025777365, 0.014516394, 0.008322226, 0.01427572, 0.019114519, -0.007384867, 0.0068275183, -0.0056241527, -0.021445248, 0.029032787, 0.0030242486, 0.03541696, 0.011172303, -0.03369425, 0.00602633, 0.0075938725, -0.01203366, -0.0044492874, 0.0024510664, 0.0025207351, 0.031034175, -0.0077712107, -0.0077648773, 0.016277108, -0.0019538864, -0.0032395879, -0.009227917, -0.021533918, 0.024840007, -0.020064544, -0.014035047, 0.0042687827, -0.019418526, -0.021166574, 0.005513316, 0.015365084, -0.0075812056, 0.03351691, -0.016467113, -0.028171431, 0.043751854, -0.017189134, 0.0036797666, -0.009728264, 0.007201195, -0.009430589, 0.0113939755, 0.018126491, 0.014947073, 0.03024882, -0.005592485, -0.008708569, 0.00068995624, -0.025194684, 0.04927467, -0.015187745, -0.017911153, -0.0025049013, 0.03409959, 0.000365562, -0.012477005, -0.009512925, -0.020229215, 0.018721841, -0.0035657634, -0.00013250881, 0.03212354, -0.033288904, -0.026246045, -0.00096585957, -0.019557863, 0.019975875, 0.034555603, 0.012515007, -0.0030669998, -0.025017345, -0.00627967, 0.0071441936, 0.0196592, 0.0049052997, -0.020203881, 0.030730167, -0.002314896, 0.012939351, -0.03736768, -0.0039869417, 0.012375669, -0.006282837, -0.029666139, 0.02567603, 0.015390418, 0.016581116, 0.02224327, -0.0008613567, -0.01682179, 0.0026569054, 0.006130833, 0.033415575, 0.011343308, -0.0005644736, 0.014554394, -0.012217332, -0.028526107, -0.007897881, -0.025410023, -0.01754381, -0.012223665, 0.018341832, 0.024029318, 0.0059598284, 0.000822564, 1.94211e-05, -0.019811204, 0.019380527, 0.013984379, -0.02164792, -0.0061244997, 0.02809543, 0.017771816, 0.004503122, 0.0031588357, -0.044334535, 0.020102546, -0.0005288477, -0.0009793183, -0.025840702, -0.005703321, -0.0056779874, -0.015061075, -0.00075210375, -0.011894323, 0.00773321, -0.0057888236, -0.015504421, 0.0077268765, 0.009145581, 0.001990304, 0.04405586, -0.0019887206, 0.0006555178, 0.012287, -0.0027740754, 0.01924119, 0.0011922823, 0.025878701, -0.0306795, 0.013427031, -0.011457311, -0.021407247, 0.00834756, -0.022572612, -0.024510665, 0.0065868455, -0.009734597, -0.003910939, -0.011159636, 0.013287694, 0.0029482467, -0.004585458, -0.013541034, 0.009481257, -0.04233315, -0.013047021, 0.01906385, 0.011343308, 0.013604369, -0.01754381, 0.023902649, -0.015453753, -0.02397865, -0.0011621981, 0.04567724, -0.01855717, -0.019203188, -0.013173691, -0.0009872351, 0.036328986, -0.010874628, 0.017303135, -0.021723922, -0.022952622, -0.000411282, 0.03453027, -0.0057286555, -0.010298279, -0.026676724], metadata={'category': 'Entertainment', 'country': 'United States'}, excluded_embed_metadata_keys=[], excluded_llm_metadata_keys=[], relationships={}, text='Angelina Jolie is an American actress, filmmaker, and humanitarian. She has received numerous awards for her acting and is known for her philanthropic work.', start_char_idx=None, end_char_idx=None, text_template='{metadata_str}\\n\\n{content}', metadata_template='{key}: {value}', metadata_seperator='\\n'), score=0.78973627)]\n",
      "Text:\n",
      "Angelina Jolie is an American actress, filmmaker, and humanitarian. She has received numerous awards for her acting and is known for her philanthropic work.\n"
     ]
    }
   ],
   "source": [
    "print(response)\n",
    "\n",
    "print(\"Text:\")\n",
    "print(response[0].text)"
   ]
  },
  {
   "cell_type": "code",
   "execution_count": 27,
   "id": "51f00cde",
   "metadata": {},
   "outputs": [
    {
     "name": "stdout",
     "output_type": "stream",
     "text": [
      "INFO:httpx:HTTP Request: POST https://api.openai.com/v1/chat/completions \"HTTP/1.1 200 OK\"\n",
      "HTTP Request: POST https://api.openai.com/v1/chat/completions \"HTTP/1.1 200 OK\"\n",
      "HTTP Request: POST https://api.openai.com/v1/chat/completions \"HTTP/1.1 200 OK\"\n",
      "INFO:llama_index.core.indices.vector_store.retrievers.auto_retriever.auto_retriever:Using query str: Sports celebrities\n",
      "Using query str: Sports celebrities\n",
      "Using query str: Sports celebrities\n",
      "INFO:llama_index.core.indices.vector_store.retrievers.auto_retriever.auto_retriever:Using filters: [('category', '==', 'Sports'), ('country', '==', 'United States')]\n",
      "Using filters: [('category', '==', 'Sports'), ('country', '==', 'United States')]\n",
      "Using filters: [('category', '==', 'Sports'), ('country', '==', 'United States')]\n",
      "INFO:llama_index.core.indices.vector_store.retrievers.auto_retriever.auto_retriever:Using top_k: 2\n",
      "Using top_k: 2\n",
      "Using top_k: 2\n",
      "INFO:httpx:HTTP Request: POST https://api.openai.com/v1/embeddings \"HTTP/1.1 200 OK\"\n",
      "HTTP Request: POST https://api.openai.com/v1/embeddings \"HTTP/1.1 200 OK\"\n",
      "HTTP Request: POST https://api.openai.com/v1/embeddings \"HTTP/1.1 200 OK\"\n"
     ]
    }
   ],
   "source": [
    "response = retriever.retrieve(\"Tell me about Sports celebrities from United States\")"
   ]
  },
  {
   "cell_type": "code",
   "execution_count": 28,
   "id": "345d3ca3",
   "metadata": {},
   "outputs": [
    {
     "name": "stdout",
     "output_type": "stream",
     "text": [
      "[NodeWithScore(node=TextNode(id_='5e689253-2e2c-440d-9f72-6f9513fd2c3a', embedding=[-0.018109553, -0.033595245, -0.019237569, -0.0061059967, 0.003987903, 0.024718253, -0.029107705, -0.021346467, -0.02611601, -0.025821745, 0.009428738, -0.006639352, 0.0008498432, -0.011415026, 0.0058025364, -0.013879495, 0.013107049, -0.016638229, 0.015755434, -0.0112249805, -0.004300559, 0.02291588, -0.0029824974, -0.024019374, 0.0017288063, 0.0142228035, 0.005716709, -0.008202635, 0.025355827, -0.023013968, -0.00620102, -0.005863841, -0.017668156, -0.031093992, -0.02103994, 0.00898121, -0.013523925, -0.01770494, 0.02502478, -0.0014559983, 0.021959519, 0.02314884, -0.0196054, -0.01891878, 0.007344362, -0.0035526357, 0.017803026, -0.038426094, 0.003091314, 0.019114958, 0.010403491, 0.015534735, -0.004855371, -0.043036245, 0.010924585, -0.016233614, -0.02303849, 0.0067558317, 0.014590635, -0.028053254, 0.0017471979, 0.013290965, -0.025968878, 0.006541264, 0.0087114675, 0.0033963076, -0.015081077, -0.010740669, -0.004052273, 0.028985094, 0.032148443, 0.023528932, 0.015093338, 0.0059036897, -0.0038315742, -0.0011065587, -0.01216908, 0.026876194, -0.0026591127, -0.012328474, 0.007172707, -0.027930643, 0.012267169, -0.0067619625, -0.003270632, -0.0062316726, -0.0039725765, -0.0009532957, -0.006473828, -0.00023736602, -0.004628542, 0.013278704, 0.0011425755, -0.004135035, -0.022364134, 0.010440274, -0.0050883307, 0.001326491, 0.000788538, -0.020524977, 0.0068661813, -0.013989844, -0.028690828, -0.009729134, -0.017974682, -0.014982988, -0.007571191, -0.015252731, 0.032295574, -0.016294919, -0.011887076, 0.0077183233, 0.033472635, -0.048504665, -0.008300723, 0.0048124576, 0.0053550084, -0.013548447, 0.0060048434, -0.02481634, 0.030775204, 0.019347917, 0.015252731, -0.010648712, 0.008190373, 0.0060232347, -0.017521024, -0.018268947, -0.008288462, 0.016012916, 0.0110655865, -0.009398086, -0.0038683575, 0.021076724, 0.005128179, 0.032884102, -0.018685821, 0.0041534267, 0.005459227, -0.027857078, -0.004548845, -0.008355897, 0.01121885, -0.006823268, -0.016343964, 0.00956974, 0.0243259, 0.011874815, 0.006072279, 0.029549101, 0.015902566, -0.0070010526, 0.027121415, 0.00419634, 0.00885247, 0.004193275, -0.003141891, 0.0055665113, -0.008411072, -0.029549101, 0.016957015, 0.014700985, 0.017913377, -0.03035833, -0.0014230467, 0.021996303, 0.018759388, 0.00885247, 0.000995443, 0.022695182, 0.023528932, 0.013303226, -0.031927742, 0.02020619, -0.016478835, 0.020659849, -0.022278305, 0.012616608, -0.024791818, 0.025208693, -0.020524977, -0.010268619, 0.035606053, 0.032859582, 0.0023357277, -0.009342911, 0.03673407, -0.018391557, 0.0120342085, 0.002818506, 0.0074117975, 0.02812682, 0.02290362, -0.013511663, -0.67053163, -0.009618784, -0.014578374, 0.018501906, 0.01641753, 0.02160395, 0.01936018, 0.010090834, 0.020574022, 0.008772773, -0.011500853, 0.032148443, -0.023921285, -0.008411072, -0.0062316726, -0.013364531, -0.014615157, -0.018416079, -0.015681867, -0.0026560472, -0.0035863535, 0.003307415, -0.0018176988, -0.011942251, -0.013805929, 0.015412125, 0.0054837493, -0.010072443, 0.020745676, 0.042447712, -0.012788262, 0.00909769, 0.020353323, -0.004490605, 0.04771996, -0.017189976, -0.016589183, 0.016380746, 0.0036599198, 0.027244026, 0.013756884, 0.012690174, -0.0011295481, -0.011506984, 0.004472214, 0.006933617, 0.0018575472, -0.019090436, -0.0020874417, -0.015277253, 0.008962818, 0.008343636, 0.00945939, -0.033815943, -0.03957863, 0.00384077, -0.012003556, -0.008754381, -0.004607085, -0.006602569, -0.018109553, 0.02503704, 0.00061956554, 0.016368486, 0.01689571, -0.0012115438, -0.009532957, 0.01593935, 0.024178768, 0.008349767, -0.008907644, 0.01714093, 0.0016491096, 0.02398259, 0.02562557, 0.0015096402, 0.015792217, -0.00031553014, -0.025380349, 0.008993471, 0.007736715, -0.004524323, 0.020169407, -0.009839483, 0.039848372, 0.025110606, -0.027808035, 0.0059128855, 0.007607974, -0.00050806673, 0.010734539, -0.0009701546, 0.0024430119, -0.012107775, -0.018526427, 0.0018345577, -0.021652993, -0.01654014, 0.012175211, -0.021530382, 0.0051802886, 0.0074853636, 0.01240817, 0.014210543, 0.0034514822, 0.0017349368, -0.010624189, 0.0184406, 0.019114958, -0.02468147, 0.006522872, 0.004040012, 0.0053366167, -0.008674684, 0.0039756414, -0.020659849, 0.00045327525, 0.0029671711, 0.015534735, -0.014713245, 0.017091887, 0.0019004609, 0.010875541, -0.0074976245, -0.020022275, 0.026606452, 0.0087911645, -0.009422608, 0.0005977256, 0.005057678, 0.00454578, -0.015608301, 0.026508365, -0.006296043, 0.033227414, -0.008564335, 0.0014130846, -0.0040951865, 0.015166904, 0.013192877, -0.0045856284, 0.015792217, -0.001854482, 0.008080024, -0.0048798933, -0.028887006, 0.00549601, 0.0074485806, -0.018747127, 0.029843366, -0.009054776, -0.013425836, 0.01181351, 0.025552003, 0.0002833449, -0.007062358, -0.016601445, -0.01891878, -0.0069090948, 0.0121139055, -0.00021016186, -7.409307e-05, -0.02717046, -0.009723003, 0.026630973, -0.031265646, -0.025821745, 0.01452933, -0.0032062614, -0.02339406, 0.0123591265, 0.013744623, -0.01181351, -0.0115498975, 0.015902566, -0.0041289045, -0.0071052713, -0.0048860237, -5.5030985e-05, -0.00035365432, 0.016834404, -0.009906919, -0.0075895824, -0.009992746, 0.021370988, 0.0065351333, -0.000927241, 0.03685668, -0.018943304, -0.004481409, -0.013744623, 0.02717046, 0.013241921, -0.0007985001, 0.026287666, 0.00028966702, 0.016625967, -0.008233287, -0.004864567, 0.014014366, -0.0075589297, -0.008171982, 0.032565318, -0.011323068, 0.011169805, -0.018256685, -0.018649038, -0.020157147, 0.015497952, -0.0015180698, 0.0144680245, -0.018268947, 0.005808667, -0.0011709292, 0.0042760368, 0.025257738, -0.003708964, 0.003969511, -0.011372113, -0.019078175, 0.022167956, -0.0022039216, 0.0063021732, -0.017913377, -0.02232735, 0.020978635, -0.0070010526, -0.010047921, 0.0008912242, -0.020623066, 0.015988393, 0.015804477, 0.007043966, -0.003125032, -0.010722278, -0.014639679, 0.011917729, -0.026017923, 0.04313433, -0.008282331, 0.00084754423, 0.006915225, 0.00909156, -0.008374289, 0.033227414, -0.028077777, 0.02506156, -0.02030428, -0.004024686, -0.0039388584, -0.01051384, 0.0144680245, -0.012175211, 0.022584831, -0.0054500313, -0.019065915, -0.008006458, -0.0012100112, 0.024546597, 0.00029100807, 0.027366636, 0.010385099, 0.022020824, 0.014921683, 0.022891358, 0.010385099, -0.015927088, -0.00076439907, 0.016625967, 0.0021993236, -0.013070267, 0.013033483, 0.006213281, -0.008251678, -0.016294919, -0.010060182, -0.010287011, -0.018894259, 0.002881344, -0.0031480214, -0.02952458, -0.03935793, 0.0009241757, 0.029818844, -0.0059466036, -0.024767296, 0.015988393, 0.007362753, -0.037543297, 0.032148443, -0.0039204666, -0.009416477, 0.009735264, -0.011801249, 0.012910873, 0.012371387, 0.037150946, -0.0014605961, -0.017643634, -0.006694527, 0.021689776, -0.007607974, 0.027145937, 0.014504808, 0.005388726, 0.015645085, -0.012267169, -0.006047757, -0.011605073, -0.017876593, -0.009318389, -0.007939022, 0.0040675993, 0.015804477, 0.0224377, 0.00042722054, -0.00933065, -0.024755035, 4.526047e-06, 0.001966364, 0.00861951, -0.008221026, -0.01240204, -0.006035496, 0.117411695, -0.013732363, -0.0067987456, 0.027709946, -0.03175609, 0.011672508, -0.004181014, -0.008092285, 0.00838042, 0.012849567, -0.020623066, 0.0038162482, -0.011917729, 0.006473828, 0.022290567, 0.007007183, -0.0009586599, -0.013438097, -0.00035135535, 0.013609752, 0.005624751, -0.018955564, 0.0017042842, 0.0060079084, -0.013891756, -0.026017923, -0.013683318, -0.0054990756, 0.005351943, -0.030799728, 0.0029441817, -0.007430189, -0.00437106, -0.012083253, 0.004361864, 0.031093992, 0.015669607, 0.022302829, 0.03178061, -0.011874815, 0.02339406, 0.0028828764, -0.00019205766, -0.012457214, 0.019078175, -0.009232561, -0.014823595, 0.03251627, 0.013156094, -0.005269181, 0.011525376, -0.008110677, -0.009134473, -0.0019418419, -0.013622013, 0.0046683904, 0.011415026, 0.0006969634, -0.0057228394, -0.004702108, -0.026336709, -0.023492148, -0.0112249805, -0.008938297, -0.01322966, -0.0049718507, -0.00673131, -0.0038254438, -0.009673959, -0.034208294, 0.02327145, -0.022278305, 0.0015295645, 0.009894658, 0.026312187, 0.011396634, 0.0034085684, -0.002429218, -0.007197229, 0.0011410428, -0.0014031226, 0.0080616325, -0.018146336, -0.037518777, 0.0008812621, 0.02173882, 0.016748577, -2.0474976e-05, -0.039529584, 0.017165452, 0.0028047124, -0.02172656, -0.00042147317, 0.015264993, -0.016552402, -0.014443503, 0.016221354, -0.015669607, 0.008539813, -0.012549172, -0.008221026, 0.0030192805, -0.012028079, -0.0018790041, 0.020120364, -0.001324192, 0.02942649, 0.00014425877, 0.0075405384, -0.0092203, -0.008435594, -0.032074876, 0.03366881, -0.030113108, 0.0020092777, 0.0034422863, 0.01900461, 0.024276854, 0.0023004771, -0.008423333, -0.0043894514, -0.02030428, 0.018722605, 0.027611857, -0.00661483, -0.009030255, -0.006237803, -0.034502562, -0.014517069, -0.0027311463, -0.022866836, 0.025576524, -0.024497554, -0.018452862, -0.017986942, -0.003307415, 0.008337506, 0.013511663, 0.015203687, -0.017263541, -0.024975734, -0.013683318, -0.014982988, 0.0059006247, -0.007975806, -0.01996097, -0.034747783, 0.00020307345, -0.01465194, 0.014615157, -0.018097293, 0.021456817, -0.0070010526, 0.0059711253, 0.006332826, 0.006780354, -0.013438097, -0.009955963, 0.02328371, 0.03212392, 0.027709946, -0.02506156, 0.002102768, -0.005716709, 0.035949364, 0.013842712, -0.0037610733, 0.003022346, -0.01640527, 0.014002105, 0.028788917, -0.0032123919, -0.0014429709, 0.0057841446, -0.0196054, -0.023774153, -0.0034668085, -0.001813101, -0.011359852, -0.008760512, -0.02540487, -0.011494723, -0.0079819355, 0.00018190399, -0.015804477, -0.03026024, 0.047989704, -0.007099141, -0.0099253105, 0.00132879, -0.0022759552, -0.02327145, 0.004867632, -0.016209092, -0.015044293, -0.028396564, 0.01027475, -0.017300325, 0.0018085031, 0.0005498309, 0.010538362, 0.014026627, -0.022928141, 0.008496899, 0.002053724, 0.005149636, -0.03305576, -0.0022115847, 0.0053825956, -0.039308887, -7.2033596e-05, -0.026630973, 0.0028614197, -0.037641387, 0.01039736, 0.0097659165, 0.014946206, 0.010697756, -0.026753584, -0.04085378, 0.0030775205, -0.015963871, 0.029696234, -0.008729859, 0.033178367, 0.017275803, -0.017459719, -0.022707442, 0.0072707953, 0.021836909, 0.007883848, 0.015914828, 0.0027679293, -0.0038560964, -0.015252731, 0.0042484496, -0.017422935, -0.0035740926, -0.03271245, 0.024889907, 0.02562557, -0.0014996782, 0.00018199979, -0.02173882, 0.009876266, 0.008055502, -0.006712918, -0.013891756, -0.026655497, -0.053703345, -0.008490769, 0.017165452, -0.036930244, -0.01890652, -0.01535082, -0.011415026, -0.007473103, -0.026827151, 0.010182792, 0.009649437, -0.008797294, 0.018599994, 0.018489646, -0.005385661, 0.0003105491, 0.016650489, -0.025601048, 0.0012628869, 0.0139775835, 0.021493599, -0.019789316, 0.0061335843, 0.020843765, 0.029794322, -0.010783583, -0.003365655, -0.013732363, -0.016711794, 0.015228209, -0.009772047, 0.022180218, -0.011139153, -0.022535788, 0.0023847718, -0.009649437, -0.010078574, -0.030284764, -0.0055235974, 0.0048369793, -0.01688345, -0.015461169, -0.030039543, 0.0060416264, -0.0071114018, 0.005992582, -0.029598145, 0.0026376557, 0.019409223, -0.019997753, 0.024828602, -0.03013763, 0.017778505, 0.009385824, -0.011979034, -0.0058423844, -0.027023327, 0.030897815, -0.004760348, -0.015412125, -0.0026821021, 0.0017962421, -0.017091887, -0.019593138, 0.0008253211, 0.027072372, -0.003908206, 0.0033932421, -0.008515291, 0.00096172513, 0.014823595, -0.027023327, -5.230099e-05, -0.018992348, -0.002446077, -0.01770494, -0.009532957, -0.0044354303, -0.0049166763, -0.030431896, -0.011151414, -0.02775899, 0.021113507, -0.012947656, 0.006578047, -0.03388951, -0.0063144346, -0.019691227, 0.042987198, -0.015412125, -0.011083978, 0.005413248, 0.021015419, 0.016491096, 0.01796242, -0.003273697, -0.018980086, -0.008693076, -0.0021211596, -0.039872896, -0.0030560638, -0.022952663, 0.029916933, 0.02290362, -0.0043863864, -0.020071318, 0.0070194444, -0.04771996, -0.01405115, -0.011795118, 0.011476331, -0.008190373, 0.021787865, -0.0006061551, -0.009257084, -0.0027418747, 0.009490043, -0.010581275, -0.007657018, 0.011445679, 0.001659838, -0.002438414, -0.0031480214, 0.0025227086, 0.0027142873, 0.004570302, -0.010526101, 0.019114958, 0.013070267, -0.0012467942, -0.01736163, -0.029720755, 0.018207641, -0.016846666, 0.014284109, -0.0016751643, -0.028151343, -0.01358523, 0.016576923, -0.023835458, -0.023406321, 0.007062358, 0.0059251464, 0.0073321005, 0.00088586, 0.026851673, 0.006437045, 0.0072033596, -0.0025840136, 0.019703489, 0.015264993, -0.010176661, 0.0148849, 0.015093338, 0.001248327, 0.018023726, -0.010593536, 0.011899337, -0.008662423, -0.035728663, 0.005241594, 0.014198282, -0.017312586, 0.010231836, -0.016123265, -0.009833353, -0.014026627, -0.0049687857, -0.0027372767, 0.0155224735, 0.00028219545, -0.006145845, 0.017116409, 0.008178112, 0.0068845726, 0.009024124, -0.01287409, -0.0032951538, -0.0297698, -0.015853522, 0.011372113, -0.015166904, 0.005609425, 0.00055404566, -0.0086317705, 0.01099202, 0.03783756, 0.22795722, -0.012726957, 0.011396634, 0.01547343, -0.006250064, 0.03094686, 0.022229262, 0.009342911, -0.012886351, -0.0060232347, -0.013425836, 0.04664099, -0.02184917, 0.002338793, -0.0015180698, -0.022290567, -0.027832557, -0.029451013, -0.008809555, -0.0092754755, -0.0081474595, 0.010685494, 0.019666705, -0.014296371, 0.030186675, 0.0041289045, -0.01441898, 0.003969511, -0.0018468188, -0.009741395, -0.008809555, -0.021248378, -0.0017747852, 0.012120036, 0.007227882, 0.0005931277, 0.017202236, 0.0037304207, 0.0075589297, 0.01688345, -0.016000655, 0.015632823, 0.02138325, -0.007276926, 0.037616864, 0.039652195, -0.009974354, 0.012205863, 0.028911527, 0.013634274, -0.023332756, -0.028543696, 0.011506984, 0.031143036, -0.010317664, -0.014443503, 0.0112249805, 0.0073137092, 0.000649835, 0.0076508876, -0.012947656, 0.016797623, -0.018379295, 0.01901687, -0.035704143, 0.04100091, -0.03872036, 0.000244646, -0.0039051406, 0.005259985, -0.0070684883, 0.0020414628, -0.01192999, 0.0056400774, 0.009244823, -0.019973231, 0.0072462736, 0.02574818, 0.018526427, -0.0019770924, -0.010262488, 0.009042515, -0.021174813, 0.0046162806, -0.020279756, -0.027391158, 0.035507966, -0.021174813, -0.017778505, -0.008404941, 0.02268292, -0.025895312, -0.005339682, 0.008018719, -0.0073504923, 0.01714093, -0.0068661813, 0.013254182, -0.026655497, -0.0037855955, -0.010047921, 0.033423588, 0.008411072, -0.0038591616, 0.01216295, -0.008245548, -0.006256195, -0.004858436, 0.008686946, -0.009974354, -0.007644757, -0.025233217, 0.0022590961, -0.009618784, -0.0007774264, 0.007822542, -0.001866743, -0.008545944, 0.0031388258, -0.013572969, 0.015277253, -0.00036265852, 0.014602896, -0.004763413, -0.0026437864, -0.022633877, -0.0167731, 0.015056554, 0.0044017127, -0.036685027, -0.009514566, -0.010507709, 0.015277253, 0.009747525, -0.016650489, -0.009257084, 0.0146274185, -0.010998151, -0.0020567891, -0.007693801, -0.018636778, -0.019801576, 0.020819243, 0.026312187, 0.0025089148, -0.016160049, -0.0002421555, 0.016503356, 0.0012467942, 0.00033966906, -0.014320892, -0.0062071504, 0.0020874417, -0.022155695, 0.014737767, 0.013425836, -0.00661483, -0.005112853, -0.021677515, 0.0060968013, -0.013278704, 0.013082528, 0.025699135, -0.009882396, -0.011966773, -0.012432693, -0.15252732, 0.02964719, 0.046346724, -0.0047787395, 0.035458922, -0.0060171043, 0.008337506, -0.016049698, 0.0036231368, -0.0121997325, 0.02091733, 0.028396564, -0.027513769, 0.005480684, 0.019446006, 0.004358799, -0.012837307, 0.016356224, 0.046690032, 0.006001778, 0.031854175, 0.0067006573, -0.0067067877, -0.0035281137, -0.0015954676, -0.0031480214, 0.018722605, 0.015963871, -0.00956974, -0.010734539, 0.0010015735, 0.00030575963, 0.009784308, -0.00792063, 0.0052906377, 0.0114702005, -0.0048369793, 0.01181351, -0.0073750145, -0.00025594915, 0.019078175, 0.0013172952, 0.01075293, -0.0025671548, 0.002073648, -0.009870135, 0.0028568218, 0.020757938, -0.003981772, -0.0155224735, 0.03178061, -0.022646137, 0.007025575, 0.008092285, 0.025650091, 0.014970727, -0.009851744, 0.0016996864, 0.0056860563, 0.0067374404, -0.025355827, -0.024117462, -0.0030238784, -0.009949832, 0.0019924187, 0.0057688183, -0.0013717036, -0.00015910613, -0.026287666, -0.008441725, 0.0007371949, -0.026312187, 0.020488195, 0.016993798, 0.015878044, 0.014517069, 0.0018652104, 0.019801576, 0.0017073496, 0.006994922, -0.026998805, 0.022351872, -0.016491096, 0.0003410101, -0.014615157, 0.017263541, 0.009857874, 0.013646536, -0.010795844, 0.0009080831, 0.02172656, -0.043796428, -0.015399864, -0.0010337587, 0.03155991, 0.0058301236, 0.0076018437, 0.0010475524, -0.0049442635, -0.013143833, 0.0150320325, 0.037101902, -0.00061381824, -0.0144680245, 0.031241124, 0.003344198, 0.02587079, 0.015571518, 0.00091727887, -0.0020414628, 0.00013573353, 0.0010000409, 0.012812785, 0.035900317, 0.002190128, 0.0126779135, 0.03261436, -0.041515876, 0.0193847, 0.00059351086, 0.057479747, -0.01145794, -0.006547394, -0.0077796285, 0.00437106, -0.009005732, -0.09078073, -0.04879893, 0.02481634, -0.0021931932, -0.008447855, 0.013499402, -0.01145794, 0.0023066078, -0.021567166, 0.032884102, -0.014958466, -0.03344811, 0.0015012108, 0.0035924842, 0.022290567, -0.027219504, 0.008729859, -0.037224513, -0.018526427, 0.017692678, -0.014394458, -0.017925637, -0.013205138, -0.0066638743, -0.012077122, -0.02021845, 0.0015563855, 0.035066567, 0.014639679, -0.0076263654, -0.017753983, -0.009005732, -0.011298547, -0.028690828, 0.025895312, -0.0021196268, -0.031143036, 0.013953061, 0.019826097, -0.011966773, 0.0031694784, -0.008883122, 0.0058577107, -0.043305986, 0.02493895, -0.009949832, -0.02042689, 0.016012916, 0.0024368812, -0.005033156, -0.031143036, 0.005079135, -0.0082271565, -0.010035659, 0.024129722, 0.009410347, 0.007840933, 0.0062776515, -0.0071849683, 0.017876593, -0.007847064, 0.027096894, -0.007816412, -7.83078e-05, -0.010237967, -0.008294592, -0.00839268, 0.009011863, 0.022658398, -0.018808432, -0.0023571844, 0.030284764, -0.036905725, 0.01134146, -0.008006458, -0.0014222804, -0.025723657, 0.010826496, 0.016981538, -0.020377845, -0.005443901, -0.0033809813, -0.008864731, -0.029745277, 0.037739474, 0.011592811, 0.005992582, -0.002852224, 0.019519573, -0.013879495, -0.009404216, 0.054537095, 0.024191028, -0.038671315, 0.025012517, 0.00042913633, 0.0055940985, 0.0036813766, 0.014909422, 0.010924585, 0.0035771579, -0.009508435, -0.06105997, 0.028739873, 0.008135199, 0.029745277, -0.0043496033, -0.016356224, 0.007454711, -0.019654443, -0.00078470644, -0.014026627, -0.019678965, -0.0013119311, 0.015179165, 0.009673959, -0.011568289, -0.020193929, 0.0018437536, 0.02079472, 0.00454578, -0.009079299, -0.016331702, 0.013082528, 0.03227105, 0.006565786, 0.00082072325, -0.01678536, -0.021922735, 0.02091733, -0.025208693, -0.022400916, 0.027244026, 0.017447457, -0.0063880007, 0.006896834, 0.008674684, -0.016711794, 0.0047082384, 0.01782755, 0.009342911, 0.022842314, -0.010838757, -0.03460065, 0.013045744, -0.026263144, -0.0025671548, 0.019335657, -0.020843765, 0.008355897, 0.010746799, 0.004527388, -0.00384077, 0.0052753114, -0.008815686, -0.03106947, 0.012187472, -0.031658, 0.02645932, 0.015191426, -0.0045580408, -0.018881999, 0.025000256, 0.019188525, -0.0013103985, -0.0016337833, 0.01287409, 0.010544493, -0.023553453, 0.032467227, 0.0026790367, 0.00608454, -0.002504317, -0.005388726, -0.0058025364, 0.014799072, -0.009109952, -0.01900461, 0.0013870299, -0.0031066404, -0.021959519, 0.01631944, 0.021554904, -0.0010146009, -0.04335503, 0.0034821348, -0.003886749, 0.023075273, -0.0037120292, 0.010421882, -0.0022928142, -0.0019035261, -0.017324846, 0.019924186, -0.007031705, 0.0061887586, 0.013217399, 0.0060692136, -0.004573367, -0.008098415, 0.023872241, 0.02303849, 0.006228607, -0.00980883, -0.009122212, -0.050956875, -0.0055573154, 0.0014061878, -0.02645932, -0.023467626, -0.0356551, -0.024791818, -0.004594824, 0.023933547, -0.021493599, 0.018980086, -0.009054776, -0.0017441326, 0.03013763, -0.029843366, -0.021898214, 0.01723902, 0.009631045, 0.005836254, 0.0131683545, -0.017692678, 0.013805929, 0.03295767, 0.008221026, -0.02433816, -0.0003572943, -0.02918127, -0.0043066894, -0.0133277485, 0.00074562436, -0.00620102, -0.0068907035, -0.005637012, 0.0077673676, 0.023479888, 0.012322343, 0.039505064, 0.02138325, -0.007405667, 0.0048706974, 0.022486743, 0.024607902, -0.0006364245, 0.011568289, -0.019458268, 0.006958139, -0.0017947095, -0.01761911, -0.005480684, -0.009514566, -0.025086084, 0.017226757, -0.0065535246, -0.014296371, 0.0005306731, 0.0174965, 0.03697929, -0.000683936, 0.018967826, -0.003414699, -0.024485292, 0.00768154, 0.02161621, 0.007399536, 0.0050852653, 0.0014107857, 0.03060355, -0.0015786086, -0.025674613, -0.008080024, 0.030529985, -0.030211197, 0.010299272, -0.00020728818, 0.016993798, 0.039652195, -0.005177223, 0.008404941, -0.027783511, -0.019789316, -0.008245548, 0.012898612, -0.022731964, -0.0025441654, 0.00039925004], metadata={'category': 'Sports', 'country': 'United States'}, excluded_embed_metadata_keys=[], excluded_llm_metadata_keys=[], relationships={}, text='Michael Jordan is a retired professional basketball player, widely regarded as one of the greatest basketball players of all time.', start_char_idx=None, end_char_idx=None, text_template='{metadata_str}\\n\\n{content}', metadata_template='{key}: {value}', metadata_seperator='\\n'), score=0.79692316)]\n",
      "Text:\n",
      "Michael Jordan is a retired professional basketball player, widely regarded as one of the greatest basketball players of all time.\n"
     ]
    }
   ],
   "source": [
    "print(response)\n",
    "\n",
    "print(\"Text:\")\n",
    "print(response[0].text)"
   ]
  }
 ],
 "metadata": {
  "kernelspec": {
   "display_name": "Python 3",
   "language": "python",
   "name": "python3"
  },
  "language_info": {
   "codemirror_mode": {
    "name": "ipython",
    "version": 3
   },
   "file_extension": ".py",
   "mimetype": "text/x-python",
   "name": "python",
   "nbconvert_exporter": "python",
   "pygments_lexer": "ipython3",
   "version": "3.11.6"
  }
 },
 "nbformat": 4,
 "nbformat_minor": 5
}
