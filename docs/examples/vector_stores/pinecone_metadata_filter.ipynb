{
    "cells": [
        {
            "attachments": {},
            "cell_type": "markdown",
            "id": "307804a3-c02b-4a57-ac0d-172c30ddc851",
            "metadata": {},
            "source": [
                "# Pinecone Vector Store - Metadata Filter"
            ]
        },
        {
            "cell_type": "code",
            "execution_count": 17,
            "id": "d48af8e1",
            "metadata": {},
            "outputs": [],
            "source": [
                "import logging\n",
                "import sys\n",
                "import os\n",
                "\n",
                "logging.basicConfig(stream=sys.stdout, level=logging.INFO)\n",
                "logging.getLogger().addHandler(logging.StreamHandler(stream=sys.stdout))"
            ]
        },
        {
            "attachments": {},
            "cell_type": "markdown",
            "id": "f7010b1d-d1bb-4f08-9309-a328bb4ea396",
            "metadata": {},
            "source": [
                "Build a Pinecone Index and connect to it"
            ]
        },
        {
            "cell_type": "code",
            "execution_count": 18,
            "id": "4ad14111-0bbb-4c62-906d-6d6253e0cdee",
            "metadata": {},
            "outputs": [],
            "source": [
                "import pinecone\n",
                "\n",
                "api_key = os.environ['PINECONE_API_KEY']\n",
                "pinecone.init(api_key=api_key, environment=\"eu-west1-gcp\")"
            ]
        },
        {
            "cell_type": "code",
            "execution_count": null,
            "id": "c2c90087-bdd9-4ca4-b06b-2af883559f88",
            "metadata": {},
            "outputs": [],
            "source": [
                "# dimensions are for text-embedding-ada-002\n",
                "pinecone.create_index(\"quickstart-index\", dimension=1536, metric=\"euclidean\", pod_type=\"p1\")"
            ]
        },
        {
            "cell_type": "code",
            "execution_count": 19,
            "id": "667f3cb3-ce18-48d5-b9aa-bfc1a1f0f0f6",
            "metadata": {},
            "outputs": [],
            "source": [
                "pinecone_index = pinecone.Index(\"quickstart-index\")"
            ]
        },
        {
            "attachments": {},
            "cell_type": "markdown",
            "id": "8ee4473a-094f-4d0a-a825-e1213db07240",
            "metadata": {},
            "source": [
                "Build the PineconeVectorStore and GPTVectorStoreIndex"
            ]
        },
        {
            "cell_type": "code",
            "execution_count": 20,
            "id": "0a2bcc07",
            "metadata": {},
            "outputs": [],
            "source": [
                "from llama_index import GPTVectorStoreIndex, StorageContext\n",
                "from llama_index.vector_stores import PineconeVectorStore"
            ]
        },
        {
            "cell_type": "code",
            "execution_count": 21,
            "id": "9ae59590",
            "metadata": {},
            "outputs": [],
            "source": [
                "from llama_index.data_structs.node import Node\n",
                "\n",
                "nodes = [\n",
                "    Node('The Shawshank Redemption', extra_info={\n",
                "        \"author\": \"Stephen King\",\n",
                "        \"theme\": \"Friendship\",\n",
                "    }),\n",
                "    Node('The Godfather', extra_info={\n",
                "        \"director\": \"Francis Ford Coppola\",\n",
                "        \"theme\": \"Mafia\",\n",
                "    }),\n",
                "    Node(\"Inception\", extra_info={\n",
                "        \"director\": \"Christopher Nolan\",\n",
                "    })\n",
                "]"
            ]
        },
        {
            "cell_type": "code",
            "execution_count": 25,
            "id": "ee6eeecb-d54f-4a71-b5fe-0cda8a5c3e10",
            "metadata": {},
            "outputs": [
                {
                    "name": "stdout",
                    "output_type": "stream",
                    "text": [
                        "INFO:llama_index.token_counter.token_counter:> [build_index_from_nodes] Total LLM token usage: 0 tokens\n",
                        "> [build_index_from_nodes] Total LLM token usage: 0 tokens\n",
                        "> [build_index_from_nodes] Total LLM token usage: 0 tokens\n",
                        "INFO:llama_index.token_counter.token_counter:> [build_index_from_nodes] Total embedding token usage: 39 tokens\n",
                        "> [build_index_from_nodes] Total embedding token usage: 39 tokens\n",
                        "> [build_index_from_nodes] Total embedding token usage: 39 tokens\n"
                    ]
                }
            ],
            "source": [
                "vector_store = PineconeVectorStore(pinecone_index=pinecone_index, namespace='test_05_12')\n",
                "storage_context = StorageContext.from_defaults(vector_store=vector_store)\n",
                "index = GPTVectorStoreIndex(nodes, storage_context=storage_context)"
            ]
        },
        {
            "attachments": {},
            "cell_type": "markdown",
            "id": "8f0f49cf",
            "metadata": {},
            "source": [
                "Define metadata filters"
            ]
        },
        {
            "cell_type": "code",
            "execution_count": 26,
            "id": "22157658",
            "metadata": {},
            "outputs": [],
            "source": [
                "from llama_index.vector_stores.types import ExactMatchFilter, MetadataFilters\n",
                "filters = MetadataFilters(filters=[ExactMatchFilter(key='theme', value='Mafia')])"
            ]
        },
        {
            "attachments": {},
            "cell_type": "markdown",
            "id": "f31c16b3",
            "metadata": {},
            "source": [
                "Retrieve from vector store with filters"
            ]
        },
        {
            "cell_type": "code",
            "execution_count": 27,
            "id": "147df357",
            "metadata": {},
            "outputs": [
                {
                    "name": "stdout",
                    "output_type": "stream",
                    "text": [
                        "INFO:llama_index.token_counter.token_counter:> [retrieve] Total LLM token usage: 0 tokens\n",
                        "> [retrieve] Total LLM token usage: 0 tokens\n",
                        "> [retrieve] Total LLM token usage: 0 tokens\n",
                        "INFO:llama_index.token_counter.token_counter:> [retrieve] Total embedding token usage: 5 tokens\n",
                        "> [retrieve] Total embedding token usage: 5 tokens\n",
                        "> [retrieve] Total embedding token usage: 5 tokens\n"
                    ]
                },
                {
                    "data": {
                        "text/plain": [
                            "[NodeWithScore(node=Node(text='director: Francis Ford Coppola\\ntheme: Mafia\\n\\nThe Godfather', doc_id='9f345e36-ac30-4920-a85c-820ddc1276b7', embedding=None, doc_hash='8f71e3c3dcd974dc46db0991bf65028de1aaefe6229e9d46cb958bb9656aa4f4', extra_info={'director': 'Francis Ford Coppola', 'doc_id': 'None', 'document_id': 'None', 'id': '9f345e36-ac30-4920-a85c-820ddc1276b7', 'ref_doc_id': 'None', 'text': 'director: Francis Ford Coppola\\ntheme: Mafia\\n\\nThe Godfather', 'theme': 'Mafia'}, node_info={}, relationships={}), score=0.768315315)]"
                        ]
                    },
                    "execution_count": 27,
                    "metadata": {},
                    "output_type": "execute_result"
                }
            ],
            "source": [
                "retriever = index.as_retriever(filters=filters)\n",
                "retriever.retrieve('What is inception about?')"
            ]
        },
        {
            "cell_type": "code",
            "execution_count": null,
            "id": "1a57e62f",
            "metadata": {},
            "outputs": [],
            "source": []
        }
    ],
    "metadata": {
        "kernelspec": {
            "display_name": "Python 3 (ipykernel)",
            "language": "python",
            "name": "python3"
        },
        "language_info": {
            "codemirror_mode": {
                "name": "ipython",
                "version": 3
            },
            "file_extension": ".py",
            "mimetype": "text/x-python",
            "name": "python",
            "nbconvert_exporter": "python",
            "pygments_lexer": "ipython3",
            "version": "3.9.16"
        }
    },
    "nbformat": 4,
    "nbformat_minor": 5
}
