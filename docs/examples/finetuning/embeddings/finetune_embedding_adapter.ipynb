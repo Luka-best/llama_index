{
 "cells": [
  {
   "cell_type": "markdown",
   "id": "03f5ac7e-d36d-4879-959a-1af414fe4c02",
   "metadata": {},
   "source": [
    "# Finetuning a Black-box Embedding Adapter"
   ]
  },
  {
   "cell_type": "markdown",
   "id": "9ab6c5cc-8b31-41cd-95aa-6d60fbefff9b",
   "metadata": {},
   "source": [
    "## Generate Corpus"
   ]
  },
  {
   "cell_type": "code",
   "execution_count": 1,
   "id": "9b36f73f-83b1-4715-bd4d-7ce1353d1a19",
   "metadata": {},
   "outputs": [],
   "source": [
    "import json\n",
    "\n",
    "from llama_index import SimpleDirectoryReader\n",
    "from llama_index.node_parser import SimpleNodeParser\n",
    "from llama_index.schema import MetadataMode"
   ]
  },
  {
   "cell_type": "code",
   "execution_count": 2,
   "id": "58c43042-2ed1-4ab7-a53d-7f65dd856f83",
   "metadata": {},
   "outputs": [],
   "source": [
    "TRAIN_FILES = [\"../../../examples/data/10k/lyft_2021.pdf\"]\n",
    "VAL_FILES = [\"../../../examples/data/10k/uber_2021.pdf\"]\n",
    "\n",
    "TRAIN_CORPUS_FPATH = \"./data/train_corpus.json\"\n",
    "VAL_CORPUS_FPATH = \"./data/val_corpus.json\""
   ]
  },
  {
   "cell_type": "code",
   "execution_count": 3,
   "id": "3c7e38d0-39ff-44e2-ab7f-fded56dcd707",
   "metadata": {},
   "outputs": [],
   "source": [
    "def load_corpus(files, verbose=False):\n",
    "    if verbose:\n",
    "        print(f\"Loading files {files}\")\n",
    "\n",
    "    reader = SimpleDirectoryReader(input_files=files)\n",
    "    docs = reader.load_data()\n",
    "    if verbose:\n",
    "        print(f\"Loaded {len(docs)} docs\")\n",
    "\n",
    "    parser = SimpleNodeParser.from_defaults()\n",
    "    nodes = parser.get_nodes_from_documents(docs, show_progress=verbose)\n",
    "\n",
    "    if verbose:\n",
    "        print(f\"Parsed {len(nodes)} nodes\")\n",
    "\n",
    "    return nodes"
   ]
  },
  {
   "cell_type": "markdown",
   "id": "d1257dce-0be1-42c4-9346-a1fe68505fdd",
   "metadata": {},
   "source": [
    "We do a very naive train/val split by having the Lyft corpus as the train dataset, and the Uber corpus as the val dataset."
   ]
  },
  {
   "cell_type": "code",
   "execution_count": null,
   "id": "ffd6d8af-5382-48b8-8a7d-98a03d2f150d",
   "metadata": {},
   "outputs": [],
   "source": [
    "train_nodes = load_corpus(TRAIN_FILES, verbose=True)\n",
    "val_nodes = load_corpus(VAL_FILES, verbose=True)"
   ]
  },
  {
   "cell_type": "markdown",
   "id": "1893a5f1-6fdf-473b-80ea-5ea3df5681a7",
   "metadata": {},
   "source": [
    "### Generate synthetic queries\n",
    "\n",
    "Now, we use an LLM (gpt-3.5-turbo) to generate questions using each text chunk in the corpus as context.\n",
    "\n",
    "Each pair of (generated question, text chunk used as context) becomes a datapoint in the finetuning dataset (either for training or evaluation)."
   ]
  },
  {
   "cell_type": "code",
   "execution_count": 1,
   "id": "ee1c892e-e27d-49f6-96d4-b99af330aed8",
   "metadata": {},
   "outputs": [],
   "source": [
    "from llama_index.finetuning import (\n",
    "    generate_qa_embedding_pairs,\n",
    "    EmbeddingQAFinetuneDataset,\n",
    ")"
   ]
  },
  {
   "cell_type": "code",
   "execution_count": null,
   "id": "7330fb1f-cfb4-4b9b-b614-06910d5330b3",
   "metadata": {},
   "outputs": [],
   "source": [
    "train_dataset = generate_qa_embedding_pairs(train_nodes)\n",
    "val_dataset = generate_qa_embedding_pairs(val_nodes)\n",
    "\n",
    "train_dataset.save_json(\"train_dataset.json\")\n",
    "val_dataset.save_json(\"val_dataset.json\")"
   ]
  },
  {
   "cell_type": "code",
   "execution_count": 2,
   "id": "909ca757-bf02-4304-a59e-7d61a12a67df",
   "metadata": {},
   "outputs": [],
   "source": [
    "# [Optional] Load\n",
    "train_dataset = EmbeddingQAFinetuneDataset.from_json(\"train_dataset.json\")\n",
    "val_dataset = EmbeddingQAFinetuneDataset.from_json(\"val_dataset.json\")"
   ]
  },
  {
   "cell_type": "markdown",
   "id": "b619e9a6-4795-4ff5-bb48-ae2c50324eb2",
   "metadata": {},
   "source": [
    "## Run Embedding Finetuning"
   ]
  },
  {
   "cell_type": "code",
   "execution_count": 5,
   "id": "b7574d8b-e287-4cc5-9e8c-643c365755a6",
   "metadata": {},
   "outputs": [],
   "source": [
    "from llama_index.finetuning import EmbeddingAdapterFinetuneEngine\n",
    "from llama_index.embeddings import resolve_embed_model\n",
    "\n",
    "base_embed_model = resolve_embed_model(\"local:BAAI/bge-small-en\")\n",
    "\n",
    "finetune_engine = EmbeddingAdapterFinetuneEngine(\n",
    "    train_dataset,\n",
    "    base_embed_model,\n",
    "    model_output_path=\"model_output_test\",\n",
    "    epochs=2,\n",
    "    verbose=True\n",
    ")"
   ]
  },
  {
   "cell_type": "code",
   "execution_count": 6,
   "id": "aeb22015-e4b7-44ae-b3b1-63cf7797d457",
   "metadata": {
    "scrolled": true
   },
   "outputs": [
    {
     "name": "stdout",
     "output_type": "stream",
     "text": [
      "\u001b[36;1m\u001b[1;3m> Prepared optimizer, scheduler, and loss model.\n",
      "\u001b[0m"
     ]
    },
    {
     "data": {
      "application/json": {
       "ascii": false,
       "bar_format": null,
       "colour": null,
       "elapsed": 0.003518819808959961,
       "initial": 0,
       "n": 0,
       "ncols": null,
       "nrows": 37,
       "postfix": null,
       "prefix": "Epoch",
       "rate": null,
       "total": 2,
       "unit": "it",
       "unit_divisor": 1000,
       "unit_scale": false
      },
      "application/vnd.jupyter.widget-view+json": {
       "model_id": "803c7081cd9b4dd2935aebf125d84c88",
       "version_major": 2,
       "version_minor": 0
      },
      "text/plain": [
       "Epoch:   0%|          | 0/2 [00:00<?, ?it/s]"
      ]
     },
     "metadata": {},
     "output_type": "display_data"
    },
    {
     "data": {
      "application/json": {
       "ascii": false,
       "bar_format": null,
       "colour": null,
       "elapsed": 0.0027260780334472656,
       "initial": 0,
       "n": 0,
       "ncols": null,
       "nrows": 37,
       "postfix": null,
       "prefix": "Iteration",
       "rate": null,
       "total": 67,
       "unit": "it",
       "unit_divisor": 1000,
       "unit_scale": false
      },
      "application/vnd.jupyter.widget-view+json": {
       "model_id": "13645b3dddba4de29697c62efac70d7e",
       "version_major": 2,
       "version_minor": 0
      },
      "text/plain": [
       "Iteration:   0%|          | 0/67 [00:00<?, ?it/s]"
      ]
     },
     "metadata": {},
     "output_type": "display_data"
    },
    {
     "name": "stdout",
     "output_type": "stream",
     "text": [
      "\u001b[36;1m\u001b[1;3m> [Epoch 0] Current loss: 1.6461929082870483\n",
      "\u001b[0m\u001b[36;1m\u001b[1;3m> [Epoch 0] Current loss: 1.6520378589630127\n",
      "\u001b[0m\u001b[36;1m\u001b[1;3m> [Epoch 0] Current loss: 1.420575499534607\n",
      "\u001b[0m\u001b[36;1m\u001b[1;3m> [Epoch 0] Current loss: 1.6287320852279663\n",
      "\u001b[0m\u001b[36;1m\u001b[1;3m> [Epoch 0] Current loss: 1.541299819946289\n",
      "\u001b[0m\u001b[36;1m\u001b[1;3m> [Epoch 0] Current loss: 1.855969786643982\n",
      "\u001b[0m\u001b[36;1m\u001b[1;3m> [Epoch 0] Current loss: 1.8498220443725586\n",
      "\u001b[0m\u001b[36;1m\u001b[1;3m> [Epoch 0] Current loss: 1.5851109027862549\n",
      "\u001b[0m\u001b[36;1m\u001b[1;3m> [Epoch 0] Current loss: 1.6538136005401611\n",
      "\u001b[0m\u001b[36;1m\u001b[1;3m> [Epoch 0] Current loss: 1.648180603981018\n",
      "\u001b[0m\u001b[36;1m\u001b[1;3m> [Epoch 0] Current loss: 1.6761770248413086\n",
      "\u001b[0m\u001b[36;1m\u001b[1;3m> [Epoch 0] Current loss: 1.7432136535644531\n",
      "\u001b[0m\u001b[36;1m\u001b[1;3m> [Epoch 0] Current loss: 1.5535331964492798\n",
      "\u001b[0m\u001b[36;1m\u001b[1;3m> [Epoch 0] Current loss: 1.6446977853775024\n",
      "\u001b[0m\u001b[36;1m\u001b[1;3m> [Epoch 0] Current loss: 1.5990689992904663\n",
      "\u001b[0m\u001b[36;1m\u001b[1;3m> [Epoch 0] Current loss: 1.6190745830535889\n",
      "\u001b[0m\u001b[36;1m\u001b[1;3m> [Epoch 0] Current loss: 1.3947176933288574\n",
      "\u001b[0m\u001b[36;1m\u001b[1;3m> [Epoch 0] Current loss: 1.6866775751113892\n",
      "\u001b[0m\u001b[36;1m\u001b[1;3m> [Epoch 0] Current loss: 1.4897886514663696\n",
      "\u001b[0m\u001b[36;1m\u001b[1;3m> [Epoch 0] Current loss: 1.7611818313598633\n",
      "\u001b[0m\u001b[36;1m\u001b[1;3m> [Epoch 0] Current loss: 1.875727653503418\n",
      "\u001b[0m\u001b[36;1m\u001b[1;3m> [Epoch 0] Current loss: 2.007145404815674\n",
      "\u001b[0m\u001b[36;1m\u001b[1;3m> [Epoch 0] Current loss: 1.6909921169281006\n",
      "\u001b[0m\u001b[36;1m\u001b[1;3m> [Epoch 0] Current loss: 1.5773857831954956\n",
      "\u001b[0m\u001b[36;1m\u001b[1;3m> [Epoch 0] Current loss: 1.6801488399505615\n",
      "\u001b[0m\u001b[36;1m\u001b[1;3m> [Epoch 0] Current loss: 1.588936448097229\n",
      "\u001b[0m\u001b[36;1m\u001b[1;3m> [Epoch 0] Current loss: 1.9472930431365967\n",
      "\u001b[0m\u001b[36;1m\u001b[1;3m> [Epoch 0] Current loss: 1.8180510997772217\n",
      "\u001b[0m\u001b[36;1m\u001b[1;3m> [Epoch 0] Current loss: 1.5117427110671997\n",
      "\u001b[0m\u001b[36;1m\u001b[1;3m> [Epoch 0] Current loss: 1.4421700239181519\n",
      "\u001b[0m\u001b[36;1m\u001b[1;3m> [Epoch 0] Current loss: 1.5194299221038818\n",
      "\u001b[0m\u001b[36;1m\u001b[1;3m> [Epoch 0] Current loss: 1.5279057025909424\n",
      "\u001b[0m\u001b[36;1m\u001b[1;3m> [Epoch 0] Current loss: 1.420518398284912\n",
      "\u001b[0m\u001b[36;1m\u001b[1;3m> [Epoch 0] Current loss: 1.74839186668396\n",
      "\u001b[0m\u001b[36;1m\u001b[1;3m> [Epoch 0] Current loss: 1.3328648805618286\n",
      "\u001b[0m\u001b[36;1m\u001b[1;3m> [Epoch 0] Current loss: 1.5998948812484741\n",
      "\u001b[0m\u001b[36;1m\u001b[1;3m> [Epoch 0] Current loss: 1.6584224700927734\n",
      "\u001b[0m\u001b[36;1m\u001b[1;3m> [Epoch 0] Current loss: 1.5653271675109863\n",
      "\u001b[0m\u001b[36;1m\u001b[1;3m> [Epoch 0] Current loss: 1.5646225214004517\n",
      "\u001b[0m\u001b[36;1m\u001b[1;3m> [Epoch 0] Current loss: 1.8277008533477783\n",
      "\u001b[0m\u001b[36;1m\u001b[1;3m> [Epoch 0] Current loss: 1.5343838930130005\n",
      "\u001b[0m\u001b[36;1m\u001b[1;3m> [Epoch 0] Current loss: 1.4756286144256592\n",
      "\u001b[0m\u001b[36;1m\u001b[1;3m> [Epoch 0] Current loss: 1.469565987586975\n",
      "\u001b[0m\u001b[36;1m\u001b[1;3m> [Epoch 0] Current loss: 1.8007255792617798\n",
      "\u001b[0m\u001b[36;1m\u001b[1;3m> [Epoch 0] Current loss: 1.564071536064148\n",
      "\u001b[0m\u001b[36;1m\u001b[1;3m> [Epoch 0] Current loss: 1.5029447078704834\n",
      "\u001b[0m\u001b[36;1m\u001b[1;3m> [Epoch 0] Current loss: 1.294831395149231\n",
      "\u001b[0m\u001b[36;1m\u001b[1;3m> [Epoch 0] Current loss: 1.8589311838150024\n",
      "\u001b[0m\u001b[36;1m\u001b[1;3m> [Epoch 0] Current loss: 1.451267123222351\n",
      "\u001b[0m\u001b[36;1m\u001b[1;3m> [Epoch 0] Current loss: 1.5110371112823486\n",
      "\u001b[0m\u001b[36;1m\u001b[1;3m> [Epoch 0] Current loss: 1.6413209438323975\n",
      "\u001b[0m\u001b[36;1m\u001b[1;3m> [Epoch 0] Current loss: 1.7529194355010986\n",
      "\u001b[0m\u001b[36;1m\u001b[1;3m> [Epoch 0] Current loss: 1.6015598773956299\n",
      "\u001b[0m\u001b[36;1m\u001b[1;3m> [Epoch 0] Current loss: 1.4745209217071533\n",
      "\u001b[0m\u001b[36;1m\u001b[1;3m> [Epoch 0] Current loss: 1.7288284301757812\n",
      "\u001b[0m\u001b[36;1m\u001b[1;3m> [Epoch 0] Current loss: 1.5863269567489624\n",
      "\u001b[0m\u001b[36;1m\u001b[1;3m> [Epoch 0] Current loss: 1.7268760204315186\n",
      "\u001b[0m\u001b[36;1m\u001b[1;3m> [Epoch 0] Current loss: 1.4639874696731567\n",
      "\u001b[0m\u001b[36;1m\u001b[1;3m> [Epoch 0] Current loss: 1.8307195901870728\n",
      "\u001b[0m\u001b[36;1m\u001b[1;3m> [Epoch 0] Current loss: 1.8462679386138916\n",
      "\u001b[0m\u001b[36;1m\u001b[1;3m> [Epoch 0] Current loss: 1.6621952056884766\n",
      "\u001b[0m\u001b[36;1m\u001b[1;3m> [Epoch 0] Current loss: 1.5303736925125122\n",
      "\u001b[0m\u001b[36;1m\u001b[1;3m> [Epoch 0] Current loss: 1.5748684406280518\n",
      "\u001b[0m\u001b[36;1m\u001b[1;3m> [Epoch 0] Current loss: 1.806833028793335\n",
      "\u001b[0m\u001b[36;1m\u001b[1;3m> [Epoch 0] Current loss: 1.4202358722686768\n",
      "\u001b[0m\u001b[36;1m\u001b[1;3m> [Epoch 0] Current loss: 1.307342767715454\n",
      "\u001b[0m\u001b[36;1m\u001b[1;3m> [Epoch 0] Current loss: 1.6715447902679443\n",
      "\u001b[0m"
     ]
    },
    {
     "data": {
      "application/json": {
       "ascii": false,
       "bar_format": null,
       "colour": null,
       "elapsed": 0.0017352104187011719,
       "initial": 0,
       "n": 0,
       "ncols": null,
       "nrows": 37,
       "postfix": null,
       "prefix": "Iteration",
       "rate": null,
       "total": 67,
       "unit": "it",
       "unit_divisor": 1000,
       "unit_scale": false
      },
      "application/vnd.jupyter.widget-view+json": {
       "model_id": "bb02bef68e104d1eba4b290959d936c7",
       "version_major": 2,
       "version_minor": 0
      },
      "text/plain": [
       "Iteration:   0%|          | 0/67 [00:00<?, ?it/s]"
      ]
     },
     "metadata": {},
     "output_type": "display_data"
    },
    {
     "name": "stdout",
     "output_type": "stream",
     "text": [
      "\u001b[36;1m\u001b[1;3m> [Epoch 1] Current loss: 1.6267112493515015\n",
      "\u001b[0m\u001b[36;1m\u001b[1;3m> [Epoch 1] Current loss: 1.6393356323242188\n",
      "\u001b[0m\u001b[36;1m\u001b[1;3m> [Epoch 1] Current loss: 1.402120590209961\n",
      "\u001b[0m\u001b[36;1m\u001b[1;3m> [Epoch 1] Current loss: 1.6083265542984009\n",
      "\u001b[0m\u001b[36;1m\u001b[1;3m> [Epoch 1] Current loss: 1.5210767984390259\n",
      "\u001b[0m\u001b[36;1m\u001b[1;3m> [Epoch 1] Current loss: 1.8446979522705078\n",
      "\u001b[0m\u001b[36;1m\u001b[1;3m> [Epoch 1] Current loss: 1.8354556560516357\n",
      "\u001b[0m\u001b[36;1m\u001b[1;3m> [Epoch 1] Current loss: 1.565800428390503\n",
      "\u001b[0m\u001b[36;1m\u001b[1;3m> [Epoch 1] Current loss: 1.6345064640045166\n",
      "\u001b[0m\u001b[36;1m\u001b[1;3m> [Epoch 1] Current loss: 1.6302909851074219\n",
      "\u001b[0m\u001b[36;1m\u001b[1;3m> [Epoch 1] Current loss: 1.6577794551849365\n",
      "\u001b[0m\u001b[36;1m\u001b[1;3m> [Epoch 1] Current loss: 1.7276394367218018\n",
      "\u001b[0m\u001b[36;1m\u001b[1;3m> [Epoch 1] Current loss: 1.5358024835586548\n",
      "\u001b[0m\u001b[36;1m\u001b[1;3m> [Epoch 1] Current loss: 1.6254596710205078\n",
      "\u001b[0m\u001b[36;1m\u001b[1;3m> [Epoch 1] Current loss: 1.5831323862075806\n",
      "\u001b[0m\u001b[36;1m\u001b[1;3m> [Epoch 1] Current loss: 1.6007719039916992\n",
      "\u001b[0m\u001b[36;1m\u001b[1;3m> [Epoch 1] Current loss: 1.3734016418457031\n",
      "\u001b[0m\u001b[36;1m\u001b[1;3m> [Epoch 1] Current loss: 1.672300934791565\n",
      "\u001b[0m\u001b[36;1m\u001b[1;3m> [Epoch 1] Current loss: 1.4721944332122803\n",
      "\u001b[0m\u001b[36;1m\u001b[1;3m> [Epoch 1] Current loss: 1.7442764043807983\n",
      "\u001b[0m\u001b[36;1m\u001b[1;3m> [Epoch 1] Current loss: 1.8638664484024048\n",
      "\u001b[0m\u001b[36;1m\u001b[1;3m> [Epoch 1] Current loss: 1.9935171604156494\n",
      "\u001b[0m\u001b[36;1m\u001b[1;3m> [Epoch 1] Current loss: 1.6764675378799438\n",
      "\u001b[0m\u001b[36;1m\u001b[1;3m> [Epoch 1] Current loss: 1.5555131435394287\n",
      "\u001b[0m\u001b[36;1m\u001b[1;3m> [Epoch 1] Current loss: 1.6626646518707275\n",
      "\u001b[0m\u001b[36;1m\u001b[1;3m> [Epoch 1] Current loss: 1.5758098363876343\n",
      "\u001b[0m\u001b[36;1m\u001b[1;3m> [Epoch 1] Current loss: 1.9372752904891968\n",
      "\u001b[0m\u001b[36;1m\u001b[1;3m> [Epoch 1] Current loss: 1.8045589923858643\n",
      "\u001b[0m\u001b[36;1m\u001b[1;3m> [Epoch 1] Current loss: 1.4968687295913696\n",
      "\u001b[0m\u001b[36;1m\u001b[1;3m> [Epoch 1] Current loss: 1.4270217418670654\n",
      "\u001b[0m\u001b[36;1m\u001b[1;3m> [Epoch 1] Current loss: 1.5044355392456055\n",
      "\u001b[0m\u001b[36;1m\u001b[1;3m> [Epoch 1] Current loss: 1.5125012397766113\n",
      "\u001b[0m\u001b[36;1m\u001b[1;3m> [Epoch 1] Current loss: 1.4035789966583252\n",
      "\u001b[0m\u001b[36;1m\u001b[1;3m> [Epoch 1] Current loss: 1.7374941110610962\n",
      "\u001b[0m\u001b[36;1m\u001b[1;3m> [Epoch 1] Current loss: 1.3181735277175903\n",
      "\u001b[0m\u001b[36;1m\u001b[1;3m> [Epoch 1] Current loss: 1.586045503616333\n",
      "\u001b[0m\u001b[36;1m\u001b[1;3m> [Epoch 1] Current loss: 1.6461645364761353\n",
      "\u001b[0m\u001b[36;1m\u001b[1;3m> [Epoch 1] Current loss: 1.55257248878479\n",
      "\u001b[0m\u001b[36;1m\u001b[1;3m> [Epoch 1] Current loss: 1.5496810674667358\n",
      "\u001b[0m\u001b[36;1m\u001b[1;3m> [Epoch 1] Current loss: 1.8135398626327515\n",
      "\u001b[0m\u001b[36;1m\u001b[1;3m> [Epoch 1] Current loss: 1.5195608139038086\n",
      "\u001b[0m\u001b[36;1m\u001b[1;3m> [Epoch 1] Current loss: 1.4610884189605713\n",
      "\u001b[0m\u001b[36;1m\u001b[1;3m> [Epoch 1] Current loss: 1.454763650894165\n",
      "\u001b[0m\u001b[36;1m\u001b[1;3m> [Epoch 1] Current loss: 1.7893129587173462\n",
      "\u001b[0m\u001b[36;1m\u001b[1;3m> [Epoch 1] Current loss: 1.550893783569336\n",
      "\u001b[0m\u001b[36;1m\u001b[1;3m> [Epoch 1] Current loss: 1.4892891645431519\n",
      "\u001b[0m\u001b[36;1m\u001b[1;3m> [Epoch 1] Current loss: 1.2789322137832642\n",
      "\u001b[0m\u001b[36;1m\u001b[1;3m> [Epoch 1] Current loss: 1.8441797494888306\n",
      "\u001b[0m\u001b[36;1m\u001b[1;3m> [Epoch 1] Current loss: 1.4338037967681885\n",
      "\u001b[0m\u001b[36;1m\u001b[1;3m> [Epoch 1] Current loss: 1.4994583129882812\n",
      "\u001b[0m\u001b[36;1m\u001b[1;3m> [Epoch 1] Current loss: 1.6286300420761108\n",
      "\u001b[0m\u001b[36;1m\u001b[1;3m> [Epoch 1] Current loss: 1.7423579692840576\n",
      "\u001b[0m\u001b[36;1m\u001b[1;3m> [Epoch 1] Current loss: 1.5905511379241943\n",
      "\u001b[0m\u001b[36;1m\u001b[1;3m> [Epoch 1] Current loss: 1.4627976417541504\n",
      "\u001b[0m\u001b[36;1m\u001b[1;3m> [Epoch 1] Current loss: 1.718829870223999\n",
      "\u001b[0m\u001b[36;1m\u001b[1;3m> [Epoch 1] Current loss: 1.5747534036636353\n",
      "\u001b[0m\u001b[36;1m\u001b[1;3m> [Epoch 1] Current loss: 1.718400001525879\n",
      "\u001b[0m\u001b[36;1m\u001b[1;3m> [Epoch 1] Current loss: 1.4511921405792236\n",
      "\u001b[0m\u001b[36;1m\u001b[1;3m> [Epoch 1] Current loss: 1.821793794631958\n",
      "\u001b[0m\u001b[36;1m\u001b[1;3m> [Epoch 1] Current loss: 1.8384443521499634\n",
      "\u001b[0m\u001b[36;1m\u001b[1;3m> [Epoch 1] Current loss: 1.6518605947494507\n",
      "\u001b[0m\u001b[36;1m\u001b[1;3m> [Epoch 1] Current loss: 1.5217094421386719\n",
      "\u001b[0m\u001b[36;1m\u001b[1;3m> [Epoch 1] Current loss: 1.5639441013336182\n",
      "\u001b[0m\u001b[36;1m\u001b[1;3m> [Epoch 1] Current loss: 1.8010400533676147\n",
      "\u001b[0m\u001b[36;1m\u001b[1;3m> [Epoch 1] Current loss: 1.4102874994277954\n",
      "\u001b[0m\u001b[36;1m\u001b[1;3m> [Epoch 1] Current loss: 1.2971464395523071\n",
      "\u001b[0m\u001b[36;1m\u001b[1;3m> [Epoch 1] Current loss: 1.6635370254516602\n",
      "\u001b[0m\u001b[36;1m\u001b[1;3m> Finished training, saving to model_output_test\n",
      "\u001b[0m"
     ]
    }
   ],
   "source": [
    "finetune_engine.finetune()"
   ]
  },
  {
   "cell_type": "code",
   "execution_count": 7,
   "id": "63c96d50-110d-43de-acf2-8df8a7153ae9",
   "metadata": {},
   "outputs": [],
   "source": [
    "embed_model = finetune_engine.get_finetuned_model()"
   ]
  },
  {
   "cell_type": "code",
   "execution_count": 8,
   "id": "c2c21c37-c7c8-4561-b43c-927181154be9",
   "metadata": {},
   "outputs": [
    {
     "data": {
      "text/plain": [
       "Parameter containing:\n",
       "tensor([[ 1.0005e+00, -5.3062e-04,  3.2115e-04,  ..., -1.0009e-04,\n",
       "          2.4751e-04,  1.5288e-04],\n",
       "        [-1.4233e-04,  1.0004e+00,  1.2545e-04,  ..., -4.3216e-04,\n",
       "          3.6817e-04,  2.2970e-04],\n",
       "        [ 1.4492e-04, -5.1278e-05,  1.0008e+00,  ...,  9.4560e-05,\n",
       "          7.7865e-05, -1.1534e-04],\n",
       "        ...,\n",
       "        [ 7.5322e-05, -5.5692e-04, -9.5354e-05,  ...,  1.0002e+00,\n",
       "          3.6540e-04,  1.9941e-04],\n",
       "        [ 3.2894e-04,  1.9668e-04, -1.3121e-04,  ...,  5.3004e-04,\n",
       "          1.0002e+00, -2.6122e-04],\n",
       "        [-4.7346e-05,  3.4990e-04, -1.2351e-04,  ..., -4.2361e-05,\n",
       "          2.6185e-04,  1.0005e+00]], requires_grad=True)"
      ]
     },
     "execution_count": 8,
     "metadata": {},
     "output_type": "execute_result"
    }
   ],
   "source": [
    "embed_model._adapter.linear.weight"
   ]
  },
  {
   "cell_type": "markdown",
   "id": "20d9861b-a41e-4f3c-8374-0d7e2a46103d",
   "metadata": {},
   "source": [
    "## Evaluate Finetuned Model"
   ]
  },
  {
   "cell_type": "code",
   "execution_count": 12,
   "id": "f7c7603a-6715-489f-a991-7efb597cb610",
   "metadata": {},
   "outputs": [],
   "source": [
    "from llama_index.embeddings import OpenAIEmbedding\n",
    "from llama_index import ServiceContext, VectorStoreIndex\n",
    "from llama_index.schema import TextNode\n",
    "from tqdm.notebook import tqdm\n",
    "import pandas as pd\n",
    "\n",
    "from eval_utils import evaluate, display_results"
   ]
  },
  {
   "cell_type": "code",
   "execution_count": 11,
   "id": "34e64a54-e97e-459b-a795-75ceb4eae44f",
   "metadata": {},
   "outputs": [
    {
     "data": {
      "application/json": {
       "ascii": false,
       "bar_format": null,
       "colour": null,
       "elapsed": 0.0041561126708984375,
       "initial": 0,
       "n": 0,
       "ncols": null,
       "nrows": 37,
       "postfix": null,
       "prefix": "Generating embeddings",
       "rate": null,
       "total": 395,
       "unit": "it",
       "unit_divisor": 1000,
       "unit_scale": false
      },
      "application/vnd.jupyter.widget-view+json": {
       "model_id": "127b0e210da44081b7355de5cd49ac9e",
       "version_major": 2,
       "version_minor": 0
      },
      "text/plain": [
       "Generating embeddings:   0%|          | 0/395 [00:00<?, ?it/s]"
      ]
     },
     "metadata": {},
     "output_type": "display_data"
    },
    {
     "name": "stderr",
     "output_type": "stream",
     "text": [
      "100%|███████████████████████████████████████████████████████████████████████████████████████████████████████████████████| 790/790 [02:41<00:00,  4.89it/s]\n"
     ]
    }
   ],
   "source": [
    "ada = OpenAIEmbedding()\n",
    "ada_val_results = evaluate(val_dataset, ada)"
   ]
  },
  {
   "cell_type": "code",
   "execution_count": 12,
   "id": "a31b8728-d510-48e5-980e-2f682d85da14",
   "metadata": {},
   "outputs": [
    {
     "data": {
      "text/html": [
       "<div>\n",
       "<style scoped>\n",
       "    .dataframe tbody tr th:only-of-type {\n",
       "        vertical-align: middle;\n",
       "    }\n",
       "\n",
       "    .dataframe tbody tr th {\n",
       "        vertical-align: top;\n",
       "    }\n",
       "\n",
       "    .dataframe thead th {\n",
       "        text-align: right;\n",
       "    }\n",
       "</style>\n",
       "<table border=\"1\" class=\"dataframe\">\n",
       "  <thead>\n",
       "    <tr style=\"text-align: right;\">\n",
       "      <th></th>\n",
       "      <th>retrievers</th>\n",
       "      <th>hit_rate</th>\n",
       "      <th>mrr</th>\n",
       "    </tr>\n",
       "  </thead>\n",
       "  <tbody>\n",
       "    <tr>\n",
       "      <th>0</th>\n",
       "      <td>ada</td>\n",
       "      <td>0.870886</td>\n",
       "      <td>0.729367</td>\n",
       "    </tr>\n",
       "  </tbody>\n",
       "</table>\n",
       "</div>"
      ],
      "text/plain": [
       "  retrievers  hit_rate       mrr\n",
       "0        ada  0.870886  0.729367"
      ]
     },
     "metadata": {},
     "output_type": "display_data"
    }
   ],
   "source": [
    "display_results([\"ada\"], [ada_val_results])"
   ]
  },
  {
   "cell_type": "code",
   "execution_count": 7,
   "id": "d4ce041a-ead0-4e10-a5f5-fbdfd20f2546",
   "metadata": {},
   "outputs": [
    {
     "data": {
      "application/json": {
       "ascii": false,
       "bar_format": null,
       "colour": null,
       "elapsed": 0.004540205001831055,
       "initial": 0,
       "n": 0,
       "ncols": null,
       "nrows": 37,
       "postfix": null,
       "prefix": "Generating embeddings",
       "rate": null,
       "total": 395,
       "unit": "it",
       "unit_divisor": 1000,
       "unit_scale": false
      },
      "application/vnd.jupyter.widget-view+json": {
       "model_id": "0716ac8b1d824f8589b2af13b5faf9ee",
       "version_major": 2,
       "version_minor": 0
      },
      "text/plain": [
       "Generating embeddings:   0%|          | 0/395 [00:00<?, ?it/s]"
      ]
     },
     "metadata": {},
     "output_type": "display_data"
    },
    {
     "name": "stderr",
     "output_type": "stream",
     "text": [
      "100%|███████████████████████████████████████████████████████████████████████████████████████████████████████████████████| 790/790 [00:23<00:00, 34.00it/s]\n"
     ]
    }
   ],
   "source": [
    "bge = \"local:BAAI/bge-small-en\"\n",
    "bge_val_results = evaluate(val_dataset, bge)"
   ]
  },
  {
   "cell_type": "code",
   "execution_count": 8,
   "id": "56697dc4-ec77-4acc-b306-eed45ec23eea",
   "metadata": {},
   "outputs": [
    {
     "data": {
      "text/html": [
       "<div>\n",
       "<style scoped>\n",
       "    .dataframe tbody tr th:only-of-type {\n",
       "        vertical-align: middle;\n",
       "    }\n",
       "\n",
       "    .dataframe tbody tr th {\n",
       "        vertical-align: top;\n",
       "    }\n",
       "\n",
       "    .dataframe thead th {\n",
       "        text-align: right;\n",
       "    }\n",
       "</style>\n",
       "<table border=\"1\" class=\"dataframe\">\n",
       "  <thead>\n",
       "    <tr style=\"text-align: right;\">\n",
       "      <th></th>\n",
       "      <th>retrievers</th>\n",
       "      <th>hit_rate</th>\n",
       "      <th>mrr</th>\n",
       "    </tr>\n",
       "  </thead>\n",
       "  <tbody>\n",
       "    <tr>\n",
       "      <th>0</th>\n",
       "      <td>bge</td>\n",
       "      <td>0.787342</td>\n",
       "      <td>0.643038</td>\n",
       "    </tr>\n",
       "  </tbody>\n",
       "</table>\n",
       "</div>"
      ],
      "text/plain": [
       "  retrievers  hit_rate       mrr\n",
       "0        bge  0.787342  0.643038"
      ]
     },
     "metadata": {},
     "output_type": "display_data"
    }
   ],
   "source": [
    "display_results([\"bge\"], [bge_val_results])"
   ]
  },
  {
   "cell_type": "code",
   "execution_count": 13,
   "id": "17163fc1-703f-4377-a583-1f47ed0fb2ae",
   "metadata": {},
   "outputs": [
    {
     "data": {
      "application/json": {
       "ascii": false,
       "bar_format": null,
       "colour": null,
       "elapsed": 0.006763935089111328,
       "initial": 0,
       "n": 0,
       "ncols": null,
       "nrows": 37,
       "postfix": null,
       "prefix": "Generating embeddings",
       "rate": null,
       "total": 395,
       "unit": "it",
       "unit_divisor": 1000,
       "unit_scale": false
      },
      "application/vnd.jupyter.widget-view+json": {
       "model_id": "59a106fa2dcf4c83bada8a859c030ea3",
       "version_major": 2,
       "version_minor": 0
      },
      "text/plain": [
       "Generating embeddings:   0%|          | 0/395 [00:00<?, ?it/s]"
      ]
     },
     "metadata": {},
     "output_type": "display_data"
    },
    {
     "name": "stderr",
     "output_type": "stream",
     "text": [
      "100%|███████████████████████████████████████████████████████████████████████████████████████████████████████████████████| 790/790 [00:21<00:00, 37.15it/s]\n"
     ]
    }
   ],
   "source": [
    "ft_val_results = evaluate(val_dataset, embed_model)"
   ]
  },
  {
   "cell_type": "code",
   "execution_count": 14,
   "id": "12442596-3964-4f3d-a6fe-df76e7e4b84a",
   "metadata": {},
   "outputs": [
    {
     "data": {
      "text/html": [
       "<div>\n",
       "<style scoped>\n",
       "    .dataframe tbody tr th:only-of-type {\n",
       "        vertical-align: middle;\n",
       "    }\n",
       "\n",
       "    .dataframe tbody tr th {\n",
       "        vertical-align: top;\n",
       "    }\n",
       "\n",
       "    .dataframe thead th {\n",
       "        text-align: right;\n",
       "    }\n",
       "</style>\n",
       "<table border=\"1\" class=\"dataframe\">\n",
       "  <thead>\n",
       "    <tr style=\"text-align: right;\">\n",
       "      <th></th>\n",
       "      <th>retrievers</th>\n",
       "      <th>hit_rate</th>\n",
       "      <th>mrr</th>\n",
       "    </tr>\n",
       "  </thead>\n",
       "  <tbody>\n",
       "    <tr>\n",
       "      <th>0</th>\n",
       "      <td>ft</td>\n",
       "      <td>0.792405</td>\n",
       "      <td>0.644241</td>\n",
       "    </tr>\n",
       "  </tbody>\n",
       "</table>\n",
       "</div>"
      ],
      "text/plain": [
       "  retrievers  hit_rate       mrr\n",
       "0         ft  0.792405  0.644241"
      ]
     },
     "metadata": {},
     "output_type": "display_data"
    }
   ],
   "source": [
    "display_results([\"ft\"], [ft_val_results])"
   ]
  },
  {
   "cell_type": "code",
   "execution_count": 24,
   "id": "0555b9f4-e065-42b7-ae3f-3c4355f670dc",
   "metadata": {},
   "outputs": [
    {
     "data": {
      "application/json": {
       "ascii": false,
       "bar_format": null,
       "colour": null,
       "elapsed": 0.005676984786987305,
       "initial": 0,
       "n": 0,
       "ncols": null,
       "nrows": 37,
       "postfix": null,
       "prefix": "Generating embeddings",
       "rate": null,
       "total": 334,
       "unit": "it",
       "unit_divisor": 1000,
       "unit_scale": false
      },
      "application/vnd.jupyter.widget-view+json": {
       "model_id": "1b39638d340a49529eb98936265fb05a",
       "version_major": 2,
       "version_minor": 0
      },
      "text/plain": [
       "Generating embeddings:   0%|          | 0/334 [00:00<?, ?it/s]"
      ]
     },
     "metadata": {},
     "output_type": "display_data"
    },
    {
     "name": "stderr",
     "output_type": "stream",
     "text": [
      "100%|███████████████████████████████████████████████████████████████████████████████████████████████████████████████████| 668/668 [02:06<00:00,  5.28it/s]\n"
     ]
    }
   ],
   "source": [
    "# TMP (look at train results)\n",
    "\n",
    "ada = OpenAIEmbedding()\n",
    "ada_train_results = evaluate(train_dataset, ada)"
   ]
  },
  {
   "cell_type": "code",
   "execution_count": 25,
   "id": "5d2f65dc-0d49-4906-a0a8-5e4f9ba82597",
   "metadata": {},
   "outputs": [
    {
     "data": {
      "text/html": [
       "<div>\n",
       "<style scoped>\n",
       "    .dataframe tbody tr th:only-of-type {\n",
       "        vertical-align: middle;\n",
       "    }\n",
       "\n",
       "    .dataframe tbody tr th {\n",
       "        vertical-align: top;\n",
       "    }\n",
       "\n",
       "    .dataframe thead th {\n",
       "        text-align: right;\n",
       "    }\n",
       "</style>\n",
       "<table border=\"1\" class=\"dataframe\">\n",
       "  <thead>\n",
       "    <tr style=\"text-align: right;\">\n",
       "      <th></th>\n",
       "      <th>retrievers</th>\n",
       "      <th>hit_rate</th>\n",
       "      <th>mrr</th>\n",
       "    </tr>\n",
       "  </thead>\n",
       "  <tbody>\n",
       "    <tr>\n",
       "      <th>0</th>\n",
       "      <td>ada</td>\n",
       "      <td>0.883234</td>\n",
       "      <td>0.684107</td>\n",
       "    </tr>\n",
       "  </tbody>\n",
       "</table>\n",
       "</div>"
      ],
      "text/plain": [
       "  retrievers  hit_rate       mrr\n",
       "0        ada  0.883234  0.684107"
      ]
     },
     "metadata": {},
     "output_type": "display_data"
    }
   ],
   "source": [
    "display_results([\"ada\"], [ada_train_results])"
   ]
  },
  {
   "cell_type": "code",
   "execution_count": 10,
   "id": "baefb5f1-9179-48c4-a92d-57c6e75c2690",
   "metadata": {},
   "outputs": [
    {
     "data": {
      "application/json": {
       "ascii": false,
       "bar_format": null,
       "colour": null,
       "elapsed": 0.0050580501556396484,
       "initial": 0,
       "n": 0,
       "ncols": null,
       "nrows": 37,
       "postfix": null,
       "prefix": "Generating embeddings",
       "rate": null,
       "total": 334,
       "unit": "it",
       "unit_divisor": 1000,
       "unit_scale": false
      },
      "application/vnd.jupyter.widget-view+json": {
       "model_id": "a5c96e0d1c9243e2bc8fd9badbb8e538",
       "version_major": 2,
       "version_minor": 0
      },
      "text/plain": [
       "Generating embeddings:   0%|          | 0/334 [00:00<?, ?it/s]"
      ]
     },
     "metadata": {},
     "output_type": "display_data"
    },
    {
     "name": "stderr",
     "output_type": "stream",
     "text": [
      "100%|███████████████████████████████████████████████████████████████████████████████████████████████████████████████████| 668/668 [00:16<00:00, 39.78it/s]\n"
     ]
    }
   ],
   "source": [
    "ft_train_results = evaluate(train_dataset, embed_model)"
   ]
  },
  {
   "cell_type": "code",
   "execution_count": 11,
   "id": "b039e524-63df-4a37-a326-cb8eddf61cf8",
   "metadata": {},
   "outputs": [
    {
     "data": {
      "text/html": [
       "<div>\n",
       "<style scoped>\n",
       "    .dataframe tbody tr th:only-of-type {\n",
       "        vertical-align: middle;\n",
       "    }\n",
       "\n",
       "    .dataframe tbody tr th {\n",
       "        vertical-align: top;\n",
       "    }\n",
       "\n",
       "    .dataframe thead th {\n",
       "        text-align: right;\n",
       "    }\n",
       "</style>\n",
       "<table border=\"1\" class=\"dataframe\">\n",
       "  <thead>\n",
       "    <tr style=\"text-align: right;\">\n",
       "      <th></th>\n",
       "      <th>retrievers</th>\n",
       "      <th>hit_rate</th>\n",
       "      <th>mrr</th>\n",
       "    </tr>\n",
       "  </thead>\n",
       "  <tbody>\n",
       "    <tr>\n",
       "      <th>0</th>\n",
       "      <td>ft</td>\n",
       "      <td>0.806886</td>\n",
       "      <td>0.634531</td>\n",
       "    </tr>\n",
       "  </tbody>\n",
       "</table>\n",
       "</div>"
      ],
      "text/plain": [
       "  retrievers  hit_rate       mrr\n",
       "0         ft  0.806886  0.634531"
      ]
     },
     "metadata": {},
     "output_type": "display_data"
    }
   ],
   "source": [
    "display_results([\"ft\"], [ft_train_results])"
   ]
  },
  {
   "cell_type": "code",
   "execution_count": null,
   "id": "7ad2094b-13aa-4e6e-bb8f-6bec22c52033",
   "metadata": {},
   "outputs": [],
   "source": []
  }
 ],
 "metadata": {
  "kernelspec": {
   "display_name": "llama_index_v2",
   "language": "python",
   "name": "llama_index_v2"
  },
  "language_info": {
   "codemirror_mode": {
    "name": "ipython",
    "version": 3
   },
   "file_extension": ".py",
   "mimetype": "text/x-python",
   "name": "python",
   "nbconvert_exporter": "python",
   "pygments_lexer": "ipython3",
   "version": "3.10.10"
  }
 },
 "nbformat": 4,
 "nbformat_minor": 5
}
