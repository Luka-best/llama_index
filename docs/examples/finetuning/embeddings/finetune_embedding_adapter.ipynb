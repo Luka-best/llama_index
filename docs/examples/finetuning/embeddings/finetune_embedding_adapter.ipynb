{
 "cells": [
  {
   "cell_type": "markdown",
   "id": "03f5ac7e-d36d-4879-959a-1af414fe4c02",
   "metadata": {},
   "source": [
    "# Finetuning a Black-box Embedding Adapter"
   ]
  },
  {
   "cell_type": "markdown",
   "id": "9ab6c5cc-8b31-41cd-95aa-6d60fbefff9b",
   "metadata": {},
   "source": [
    "## Generate Corpus"
   ]
  },
  {
   "cell_type": "code",
   "execution_count": 1,
   "id": "9b36f73f-83b1-4715-bd4d-7ce1353d1a19",
   "metadata": {},
   "outputs": [],
   "source": [
    "import json\n",
    "\n",
    "from llama_index import SimpleDirectoryReader\n",
    "from llama_index.node_parser import SimpleNodeParser\n",
    "from llama_index.schema import MetadataMode"
   ]
  },
  {
   "cell_type": "code",
   "execution_count": 2,
   "id": "58c43042-2ed1-4ab7-a53d-7f65dd856f83",
   "metadata": {},
   "outputs": [],
   "source": [
    "TRAIN_FILES = [\"../../../examples/data/10k/lyft_2021.pdf\"]\n",
    "VAL_FILES = [\"../../../examples/data/10k/uber_2021.pdf\"]\n",
    "\n",
    "TRAIN_CORPUS_FPATH = \"./data/train_corpus.json\"\n",
    "VAL_CORPUS_FPATH = \"./data/val_corpus.json\""
   ]
  },
  {
   "cell_type": "code",
   "execution_count": 3,
   "id": "3c7e38d0-39ff-44e2-ab7f-fded56dcd707",
   "metadata": {},
   "outputs": [],
   "source": [
    "def load_corpus(files, verbose=False):\n",
    "    if verbose:\n",
    "        print(f\"Loading files {files}\")\n",
    "\n",
    "    reader = SimpleDirectoryReader(input_files=files)\n",
    "    docs = reader.load_data()\n",
    "    if verbose:\n",
    "        print(f\"Loaded {len(docs)} docs\")\n",
    "\n",
    "    parser = SimpleNodeParser.from_defaults()\n",
    "    nodes = parser.get_nodes_from_documents(docs, show_progress=verbose)\n",
    "\n",
    "    if verbose:\n",
    "        print(f\"Parsed {len(nodes)} nodes\")\n",
    "\n",
    "    return nodes"
   ]
  },
  {
   "cell_type": "markdown",
   "id": "d1257dce-0be1-42c4-9346-a1fe68505fdd",
   "metadata": {},
   "source": [
    "We do a very naive train/val split by having the Lyft corpus as the train dataset, and the Uber corpus as the val dataset."
   ]
  },
  {
   "cell_type": "code",
   "execution_count": 4,
   "id": "ffd6d8af-5382-48b8-8a7d-98a03d2f150d",
   "metadata": {},
   "outputs": [
    {
     "name": "stdout",
     "output_type": "stream",
     "text": [
      "Loading files ['../../../examples/data/10k/lyft_2021.pdf']\n",
      "Loaded 238 docs\n"
     ]
    },
    {
     "data": {
      "application/json": {
       "ascii": false,
       "bar_format": null,
       "colour": null,
       "elapsed": 0.004159212112426758,
       "initial": 0,
       "n": 0,
       "ncols": null,
       "nrows": 75,
       "postfix": null,
       "prefix": "Parsing documents into nodes",
       "rate": null,
       "total": 238,
       "unit": "it",
       "unit_divisor": 1000,
       "unit_scale": false
      },
      "application/vnd.jupyter.widget-view+json": {
       "model_id": "2e262ba2d50f40faa6906606171f75b0",
       "version_major": 2,
       "version_minor": 0
      },
      "text/plain": [
       "Parsing documents into nodes:   0%|          | 0/238 [00:00<?, ?it/s]"
      ]
     },
     "metadata": {},
     "output_type": "display_data"
    },
    {
     "name": "stdout",
     "output_type": "stream",
     "text": [
      "Parsed 349 nodes\n",
      "Loading files ['../../../examples/data/10k/uber_2021.pdf']\n",
      "Loaded 307 docs\n"
     ]
    },
    {
     "data": {
      "application/json": {
       "ascii": false,
       "bar_format": null,
       "colour": null,
       "elapsed": 0.0016942024230957031,
       "initial": 0,
       "n": 0,
       "ncols": null,
       "nrows": 75,
       "postfix": null,
       "prefix": "Parsing documents into nodes",
       "rate": null,
       "total": 307,
       "unit": "it",
       "unit_divisor": 1000,
       "unit_scale": false
      },
      "application/vnd.jupyter.widget-view+json": {
       "model_id": "9719dbb321a84d23b518de101ba9a2a6",
       "version_major": 2,
       "version_minor": 0
      },
      "text/plain": [
       "Parsing documents into nodes:   0%|          | 0/307 [00:00<?, ?it/s]"
      ]
     },
     "metadata": {},
     "output_type": "display_data"
    },
    {
     "name": "stdout",
     "output_type": "stream",
     "text": [
      "Parsed 418 nodes\n"
     ]
    }
   ],
   "source": [
    "train_nodes = load_corpus(TRAIN_FILES, verbose=True)\n",
    "val_nodes = load_corpus(VAL_FILES, verbose=True)"
   ]
  },
  {
   "cell_type": "markdown",
   "id": "1893a5f1-6fdf-473b-80ea-5ea3df5681a7",
   "metadata": {},
   "source": [
    "### Generate synthetic queries\n",
    "\n",
    "Now, we use an LLM (gpt-3.5-turbo) to generate questions using each text chunk in the corpus as context.\n",
    "\n",
    "Each pair of (generated question, text chunk used as context) becomes a datapoint in the finetuning dataset (either for training or evaluation)."
   ]
  },
  {
   "cell_type": "code",
   "execution_count": 1,
   "id": "ee1c892e-e27d-49f6-96d4-b99af330aed8",
   "metadata": {},
   "outputs": [],
   "source": [
    "from llama_index.finetuning import (\n",
    "    generate_qa_embedding_pairs,\n",
    "    EmbeddingQAFinetuneDataset,\n",
    ")"
   ]
  },
  {
   "cell_type": "code",
   "execution_count": null,
   "id": "7330fb1f-cfb4-4b9b-b614-06910d5330b3",
   "metadata": {},
   "outputs": [],
   "source": [
    "train_dataset = generate_qa_embedding_pairs(train_nodes)\n",
    "val_dataset = generate_qa_embedding_pairs(val_nodes)\n",
    "\n",
    "train_dataset.save_json(\"train_dataset.json\")\n",
    "val_dataset.save_json(\"val_dataset.json\")"
   ]
  },
  {
   "cell_type": "code",
   "execution_count": 2,
   "id": "909ca757-bf02-4304-a59e-7d61a12a67df",
   "metadata": {},
   "outputs": [],
   "source": [
    "# [Optional] Load\n",
    "train_dataset = EmbeddingQAFinetuneDataset.from_json(\"train_dataset.json\")\n",
    "val_dataset = EmbeddingQAFinetuneDataset.from_json(\"val_dataset.json\")"
   ]
  },
  {
   "cell_type": "markdown",
   "id": "b619e9a6-4795-4ff5-bb48-ae2c50324eb2",
   "metadata": {},
   "source": [
    "## Run Embedding Finetuning"
   ]
  },
  {
   "cell_type": "code",
   "execution_count": 11,
   "id": "b7574d8b-e287-4cc5-9e8c-643c365755a6",
   "metadata": {},
   "outputs": [],
   "source": [
    "from llama_index.finetuning import EmbeddingAdapterFinetuneEngine\n",
    "from llama_index.embeddings import resolve_embed_model\n",
    "import torch\n",
    "\n",
    "base_embed_model = resolve_embed_model(\"local:BAAI/bge-small-en\")\n",
    "\n",
    "finetune_engine = EmbeddingAdapterFinetuneEngine(\n",
    "    train_dataset,\n",
    "    base_embed_model,\n",
    "    # model_output_path=\"model_output_test\",\n",
    "    # model_output_path=\"model_output_test_v2\",\n",
    "    # model_output_path=\"model_output_test_bias\",\n",
    "    # model_output_path=\"model_output_no_bias_4\",\n",
    "    # model_output_path=\"model_output_no_bias_5\",\n",
    "    model_output_path=\"model_output_bias_6\",\n",
    "    bias=True,\n",
    "    # epochs=2,\n",
    "    epochs=4,\n",
    "    verbose=True,\n",
    "    # optimizer_class=torch.optim.SGD,\n",
    "    # optimizer_params={\"lr\": 0.01}\n",
    ")"
   ]
  },
  {
   "cell_type": "code",
   "execution_count": null,
   "id": "aeb22015-e4b7-44ae-b3b1-63cf7797d457",
   "metadata": {},
   "outputs": [
    {
     "name": "stdout",
     "output_type": "stream",
     "text": [
      "\u001b[36;1m\u001b[1;3m> Prepared optimizer, scheduler, and loss model.\n",
      "\u001b[0m"
     ]
    },
    {
     "data": {
      "application/json": {
       "ascii": false,
       "bar_format": null,
       "colour": null,
       "elapsed": 0.005158901214599609,
       "initial": 0,
       "n": 0,
       "ncols": null,
       "nrows": 75,
       "postfix": null,
       "prefix": "Epoch",
       "rate": null,
       "total": 4,
       "unit": "it",
       "unit_divisor": 1000,
       "unit_scale": false
      },
      "application/vnd.jupyter.widget-view+json": {
       "model_id": "99c91da4847c47c6a8f8d9806c5024da",
       "version_major": 2,
       "version_minor": 0
      },
      "text/plain": [
       "Epoch:   0%|          | 0/4 [00:00<?, ?it/s]"
      ]
     },
     "metadata": {},
     "output_type": "display_data"
    },
    {
     "data": {
      "application/json": {
       "ascii": false,
       "bar_format": null,
       "colour": null,
       "elapsed": 0.0038809776306152344,
       "initial": 0,
       "n": 0,
       "ncols": null,
       "nrows": 75,
       "postfix": null,
       "prefix": "Iteration",
       "rate": null,
       "total": 67,
       "unit": "it",
       "unit_divisor": 1000,
       "unit_scale": false
      },
      "application/vnd.jupyter.widget-view+json": {
       "model_id": "ded229a08149455985c9d8361e4e177c",
       "version_major": 2,
       "version_minor": 0
      },
      "text/plain": [
       "Iteration:   0%|          | 0/67 [00:00<?, ?it/s]"
      ]
     },
     "metadata": {},
     "output_type": "display_data"
    },
    {
     "name": "stdout",
     "output_type": "stream",
     "text": [
      "\u001b[36;1m\u001b[1;3m> [Epoch 0] Current loss: 1.6461929082870483\n",
      "\u001b[0m\u001b[36;1m\u001b[1;3m> [Epoch 0] Current loss: 1.6520378589630127\n",
      "\u001b[0m\u001b[36;1m\u001b[1;3m> [Epoch 0] Current loss: 1.4205775260925293\n",
      "\u001b[0m\u001b[36;1m\u001b[1;3m> [Epoch 0] Current loss: 1.6287790536880493\n",
      "\u001b[0m\u001b[36;1m\u001b[1;3m> [Epoch 0] Current loss: 1.5413802862167358\n",
      "\u001b[0m\u001b[36;1m\u001b[1;3m> [Epoch 0] Current loss: 1.855971336364746\n",
      "\u001b[0m\u001b[36;1m\u001b[1;3m> [Epoch 0] Current loss: 1.8499667644500732\n",
      "\u001b[0m\u001b[36;1m\u001b[1;3m> [Epoch 0] Current loss: 1.5853407382965088\n",
      "\u001b[0m\u001b[36;1m\u001b[1;3m> [Epoch 0] Current loss: 1.6540038585662842\n",
      "\u001b[0m\u001b[36;1m\u001b[1;3m> [Epoch 0] Current loss: 1.6485378742218018\n",
      "\u001b[0m\u001b[36;1m\u001b[1;3m> [Epoch 0] Current loss: 1.6767240762710571\n",
      "\u001b[0m\u001b[36;1m\u001b[1;3m> [Epoch 0] Current loss: 1.7436771392822266\n",
      "\u001b[0m\u001b[36;1m\u001b[1;3m> [Epoch 0] Current loss: 1.5540363788604736\n",
      "\u001b[0m\u001b[36;1m\u001b[1;3m> [Epoch 0] Current loss: 1.6454252004623413\n",
      "\u001b[0m\u001b[36;1m\u001b[1;3m> [Epoch 0] Current loss: 1.59978449344635\n",
      "\u001b[0m\u001b[36;1m\u001b[1;3m> [Epoch 0] Current loss: 1.6202552318572998\n",
      "\u001b[0m\u001b[36;1m\u001b[1;3m> [Epoch 0] Current loss: 1.396388292312622\n",
      "\u001b[0m\u001b[36;1m\u001b[1;3m> [Epoch 0] Current loss: 1.6879438161849976\n",
      "\u001b[0m\u001b[36;1m\u001b[1;3m> [Epoch 0] Current loss: 1.490260124206543\n",
      "\u001b[0m\u001b[36;1m\u001b[1;3m> [Epoch 0] Current loss: 1.7628872394561768\n",
      "\u001b[0m\u001b[36;1m\u001b[1;3m> [Epoch 0] Current loss: 1.8766876459121704\n",
      "\u001b[0m\u001b[36;1m\u001b[1;3m> [Epoch 0] Current loss: 2.0071003437042236\n",
      "\u001b[0m\u001b[36;1m\u001b[1;3m> [Epoch 0] Current loss: 1.6921755075454712\n",
      "\u001b[0m\u001b[36;1m\u001b[1;3m> [Epoch 0] Current loss: 1.5794813632965088\n",
      "\u001b[0m\u001b[36;1m\u001b[1;3m> [Epoch 0] Current loss: 1.6809320449829102\n",
      "\u001b[0m\u001b[36;1m\u001b[1;3m> [Epoch 0] Current loss: 1.58943510055542\n",
      "\u001b[0m\u001b[36;1m\u001b[1;3m> [Epoch 0] Current loss: 1.948034644126892\n",
      "\u001b[0m\u001b[36;1m\u001b[1;3m> [Epoch 0] Current loss: 1.8183549642562866\n",
      "\u001b[0m\u001b[36;1m\u001b[1;3m> [Epoch 0] Current loss: 1.5100866556167603\n",
      "\u001b[0m\u001b[36;1m\u001b[1;3m> [Epoch 0] Current loss: 1.443855881690979\n",
      "\u001b[0m\u001b[36;1m\u001b[1;3m> [Epoch 0] Current loss: 1.5224148035049438\n",
      "\u001b[0m\u001b[36;1m\u001b[1;3m> [Epoch 0] Current loss: 1.5299806594848633\n",
      "\u001b[0m\u001b[36;1m\u001b[1;3m> [Epoch 0] Current loss: 1.4193952083587646\n",
      "\u001b[0m\u001b[36;1m\u001b[1;3m> [Epoch 0] Current loss: 1.748281717300415\n",
      "\u001b[0m\u001b[36;1m\u001b[1;3m> [Epoch 0] Current loss: 1.3345942497253418\n",
      "\u001b[0m\u001b[36;1m\u001b[1;3m> [Epoch 0] Current loss: 1.6007277965545654\n",
      "\u001b[0m\u001b[36;1m\u001b[1;3m> [Epoch 0] Current loss: 1.659064531326294\n",
      "\u001b[0m\u001b[36;1m\u001b[1;3m> [Epoch 0] Current loss: 1.56528639793396\n",
      "\u001b[0m\u001b[36;1m\u001b[1;3m> [Epoch 0] Current loss: 1.566659927368164\n",
      "\u001b[0m\u001b[36;1m\u001b[1;3m> [Epoch 0] Current loss: 1.8265283107757568\n",
      "\u001b[0m\u001b[36;1m\u001b[1;3m> [Epoch 0] Current loss: 1.5338935852050781\n",
      "\u001b[0m\u001b[36;1m\u001b[1;3m> [Epoch 0] Current loss: 1.4745185375213623\n",
      "\u001b[0m\u001b[36;1m\u001b[1;3m> [Epoch 0] Current loss: 1.469610571861267\n",
      "\u001b[0m\u001b[36;1m\u001b[1;3m> [Epoch 0] Current loss: 1.8004930019378662\n",
      "\u001b[0m\u001b[36;1m\u001b[1;3m> [Epoch 0] Current loss: 1.563660979270935\n",
      "\u001b[0m\u001b[36;1m\u001b[1;3m> [Epoch 0] Current loss: 1.5027759075164795\n",
      "\u001b[0m\u001b[36;1m\u001b[1;3m> [Epoch 0] Current loss: 1.2942712306976318\n",
      "\u001b[0m\u001b[36;1m\u001b[1;3m> [Epoch 0] Current loss: 1.853541374206543\n",
      "\u001b[0m\u001b[36;1m\u001b[1;3m> [Epoch 0] Current loss: 1.4503262042999268\n",
      "\u001b[0m\u001b[36;1m\u001b[1;3m> [Epoch 0] Current loss: 1.5102877616882324\n",
      "\u001b[0m\u001b[36;1m\u001b[1;3m> [Epoch 0] Current loss: 1.6417856216430664\n",
      "\u001b[0m\u001b[36;1m\u001b[1;3m> [Epoch 0] Current loss: 1.7521541118621826\n",
      "\u001b[0m\u001b[36;1m\u001b[1;3m> [Epoch 0] Current loss: 1.601602554321289\n",
      "\u001b[0m\u001b[36;1m\u001b[1;3m> [Epoch 0] Current loss: 1.4732639789581299\n",
      "\u001b[0m\u001b[36;1m\u001b[1;3m> [Epoch 0] Current loss: 1.727386474609375\n",
      "\u001b[0m\u001b[36;1m\u001b[1;3m> [Epoch 0] Current loss: 1.5836026668548584\n",
      "\u001b[0m\u001b[36;1m\u001b[1;3m> [Epoch 0] Current loss: 1.7238280773162842\n",
      "\u001b[0m\u001b[36;1m\u001b[1;3m> [Epoch 0] Current loss: 1.4661269187927246\n",
      "\u001b[0m\u001b[36;1m\u001b[1;3m> [Epoch 0] Current loss: 1.8295161724090576\n",
      "\u001b[0m\u001b[36;1m\u001b[1;3m> [Epoch 0] Current loss: 1.8404852151870728\n",
      "\u001b[0m\u001b[36;1m\u001b[1;3m> [Epoch 0] Current loss: 1.6622934341430664\n",
      "\u001b[0m\u001b[36;1m\u001b[1;3m> [Epoch 0] Current loss: 1.5259562730789185\n",
      "\u001b[0m\u001b[36;1m\u001b[1;3m> [Epoch 0] Current loss: 1.5681490898132324\n",
      "\u001b[0m\u001b[36;1m\u001b[1;3m> [Epoch 0] Current loss: 1.8050743341445923\n",
      "\u001b[0m\u001b[36;1m\u001b[1;3m> [Epoch 0] Current loss: 1.4171315431594849\n",
      "\u001b[0m\u001b[36;1m\u001b[1;3m> [Epoch 0] Current loss: 1.3071578741073608\n",
      "\u001b[0m\u001b[36;1m\u001b[1;3m> [Epoch 0] Current loss: 1.6690279245376587\n",
      "\u001b[0m"
     ]
    },
    {
     "data": {
      "application/json": {
       "ascii": false,
       "bar_format": null,
       "colour": null,
       "elapsed": 0.0019462108612060547,
       "initial": 0,
       "n": 0,
       "ncols": null,
       "nrows": 75,
       "postfix": null,
       "prefix": "Iteration",
       "rate": null,
       "total": 67,
       "unit": "it",
       "unit_divisor": 1000,
       "unit_scale": false
      },
      "application/vnd.jupyter.widget-view+json": {
       "model_id": "92f4da8d3d854d64a9189063aa733f81",
       "version_major": 2,
       "version_minor": 0
      },
      "text/plain": [
       "Iteration:   0%|          | 0/67 [00:00<?, ?it/s]"
      ]
     },
     "metadata": {},
     "output_type": "display_data"
    },
    {
     "name": "stdout",
     "output_type": "stream",
     "text": [
      "\u001b[36;1m\u001b[1;3m> [Epoch 1] Current loss: 1.6278995275497437\n",
      "\u001b[0m\u001b[36;1m\u001b[1;3m> [Epoch 1] Current loss: 1.637595772743225\n",
      "\u001b[0m\u001b[36;1m\u001b[1;3m> [Epoch 1] Current loss: 1.3984235525131226\n",
      "\u001b[0m\u001b[36;1m\u001b[1;3m> [Epoch 1] Current loss: 1.6125218868255615\n",
      "\u001b[0m\u001b[36;1m\u001b[1;3m> [Epoch 1] Current loss: 1.5274169445037842\n",
      "\u001b[0m\u001b[36;1m\u001b[1;3m> [Epoch 1] Current loss: 1.844879388809204\n",
      "\u001b[0m\u001b[36;1m\u001b[1;3m> [Epoch 1] Current loss: 1.8354038000106812\n",
      "\u001b[0m\u001b[36;1m\u001b[1;3m> [Epoch 1] Current loss: 1.5656654834747314\n",
      "\u001b[0m\u001b[36;1m\u001b[1;3m> [Epoch 1] Current loss: 1.633568525314331\n",
      "\u001b[0m\u001b[36;1m\u001b[1;3m> [Epoch 1] Current loss: 1.6286585330963135\n",
      "\u001b[0m\u001b[36;1m\u001b[1;3m> [Epoch 1] Current loss: 1.6574878692626953\n",
      "\u001b[0m\u001b[36;1m\u001b[1;3m> [Epoch 1] Current loss: 1.7275493144989014\n",
      "\u001b[0m\u001b[36;1m\u001b[1;3m> [Epoch 1] Current loss: 1.534127950668335\n",
      "\u001b[0m\u001b[36;1m\u001b[1;3m> [Epoch 1] Current loss: 1.620722770690918\n",
      "\u001b[0m\u001b[36;1m\u001b[1;3m> [Epoch 1] Current loss: 1.578970193862915\n",
      "\u001b[0m\u001b[36;1m\u001b[1;3m> [Epoch 1] Current loss: 1.5955476760864258\n",
      "\u001b[0m\u001b[36;1m\u001b[1;3m> [Epoch 1] Current loss: 1.3680717945098877\n",
      "\u001b[0m\u001b[36;1m\u001b[1;3m> [Epoch 1] Current loss: 1.670469045639038\n",
      "\u001b[0m\u001b[36;1m\u001b[1;3m> [Epoch 1] Current loss: 1.4625911712646484\n",
      "\u001b[0m\u001b[36;1m\u001b[1;3m> [Epoch 1] Current loss: 1.7457126379013062\n",
      "\u001b[0m\u001b[36;1m\u001b[1;3m> [Epoch 1] Current loss: 1.8609737157821655\n",
      "\u001b[0m\u001b[36;1m\u001b[1;3m> [Epoch 1] Current loss: 1.985285997390747\n",
      "\u001b[0m\u001b[36;1m\u001b[1;3m> [Epoch 1] Current loss: 1.6747432947158813\n",
      "\u001b[0m\u001b[36;1m\u001b[1;3m> [Epoch 1] Current loss: 1.552281141281128\n",
      "\u001b[0m\u001b[36;1m\u001b[1;3m> [Epoch 1] Current loss: 1.6578824520111084\n",
      "\u001b[0m\u001b[36;1m\u001b[1;3m> [Epoch 1] Current loss: 1.5687748193740845\n",
      "\u001b[0m\u001b[36;1m\u001b[1;3m> [Epoch 1] Current loss: 1.9344943761825562\n",
      "\u001b[0m\u001b[36;1m\u001b[1;3m> [Epoch 1] Current loss: 1.7993322610855103\n",
      "\u001b[0m\u001b[36;1m\u001b[1;3m> [Epoch 1] Current loss: 1.480536699295044\n",
      "\u001b[0m\u001b[36;1m\u001b[1;3m> [Epoch 1] Current loss: 1.4217915534973145\n",
      "\u001b[0m\u001b[36;1m\u001b[1;3m> [Epoch 1] Current loss: 1.5029618740081787\n",
      "\u001b[0m\u001b[36;1m\u001b[1;3m> [Epoch 1] Current loss: 1.5080572366714478\n",
      "\u001b[0m\u001b[36;1m\u001b[1;3m> [Epoch 1] Current loss: 1.392350435256958\n",
      "\u001b[0m\u001b[36;1m\u001b[1;3m> [Epoch 1] Current loss: 1.7310295104980469\n",
      "\u001b[0m\u001b[36;1m\u001b[1;3m> [Epoch 1] Current loss: 1.3126401901245117\n",
      "\u001b[0m\u001b[36;1m\u001b[1;3m> [Epoch 1] Current loss: 1.5791164636611938\n",
      "\u001b[0m\u001b[36;1m\u001b[1;3m> [Epoch 1] Current loss: 1.6395263671875\n",
      "\u001b[0m\u001b[36;1m\u001b[1;3m> [Epoch 1] Current loss: 1.5435618162155151\n",
      "\u001b[0m\u001b[36;1m\u001b[1;3m> [Epoch 1] Current loss: 1.5450159311294556\n",
      "\u001b[0m\u001b[36;1m\u001b[1;3m> [Epoch 1] Current loss: 1.8030977249145508\n",
      "\u001b[0m\u001b[36;1m\u001b[1;3m> [Epoch 1] Current loss: 1.5087769031524658\n",
      "\u001b[0m\u001b[36;1m\u001b[1;3m> [Epoch 1] Current loss: 1.4478448629379272\n",
      "\u001b[0m\u001b[36;1m\u001b[1;3m> [Epoch 1] Current loss: 1.4451401233673096\n",
      "\u001b[0m\u001b[36;1m\u001b[1;3m> [Epoch 1] Current loss: 1.7818177938461304\n",
      "\u001b[0m\u001b[36;1m\u001b[1;3m> [Epoch 1] Current loss: 1.5406174659729004\n",
      "\u001b[0m\u001b[36;1m\u001b[1;3m> [Epoch 1] Current loss: 1.4800711870193481\n",
      "\u001b[0m\u001b[36;1m\u001b[1;3m> [Epoch 1] Current loss: 1.2669966220855713\n",
      "\u001b[0m\u001b[36;1m\u001b[1;3m> [Epoch 1] Current loss: 1.8254534006118774\n",
      "\u001b[0m\u001b[36;1m\u001b[1;3m> [Epoch 1] Current loss: 1.4218041896820068\n",
      "\u001b[0m\u001b[36;1m\u001b[1;3m> [Epoch 1] Current loss: 1.4905979633331299\n",
      "\u001b[0m\u001b[36;1m\u001b[1;3m> [Epoch 1] Current loss: 1.6215566396713257\n",
      "\u001b[0m\u001b[36;1m\u001b[1;3m> [Epoch 1] Current loss: 1.7326927185058594\n",
      "\u001b[0m\u001b[36;1m\u001b[1;3m> [Epoch 1] Current loss: 1.582959532737732\n",
      "\u001b[0m\u001b[36;1m\u001b[1;3m> [Epoch 1] Current loss: 1.4502298831939697\n",
      "\u001b[0m\u001b[36;1m\u001b[1;3m> [Epoch 1] Current loss: 1.7076410055160522\n",
      "\u001b[0m\u001b[36;1m\u001b[1;3m> [Epoch 1] Current loss: 1.5608413219451904\n",
      "\u001b[0m\u001b[36;1m\u001b[1;3m> [Epoch 1] Current loss: 1.7058261632919312\n",
      "\u001b[0m\u001b[36;1m\u001b[1;3m> [Epoch 1] Current loss: 1.445832371711731\n",
      "\u001b[0m\u001b[36;1m\u001b[1;3m> [Epoch 1] Current loss: 1.8113176822662354\n",
      "\u001b[0m\u001b[36;1m\u001b[1;3m> [Epoch 1] Current loss: 1.8223292827606201\n",
      "\u001b[0m\u001b[36;1m\u001b[1;3m> [Epoch 1] Current loss: 1.642582893371582\n",
      "\u001b[0m\u001b[36;1m\u001b[1;3m> [Epoch 1] Current loss: 1.5046460628509521\n",
      "\u001b[0m\u001b[36;1m\u001b[1;3m> [Epoch 1] Current loss: 1.5427234172821045\n",
      "\u001b[0m\u001b[36;1m\u001b[1;3m> [Epoch 1] Current loss: 1.7917436361312866\n",
      "\u001b[0m\u001b[36;1m\u001b[1;3m> [Epoch 1] Current loss: 1.394142746925354\n",
      "\u001b[0m\u001b[36;1m\u001b[1;3m> [Epoch 1] Current loss: 1.285979986190796\n",
      "\u001b[0m\u001b[36;1m\u001b[1;3m> [Epoch 1] Current loss: 1.6518923044204712\n",
      "\u001b[0m"
     ]
    },
    {
     "data": {
      "application/json": {
       "ascii": false,
       "bar_format": null,
       "colour": null,
       "elapsed": 0.001940011978149414,
       "initial": 0,
       "n": 0,
       "ncols": null,
       "nrows": 37,
       "postfix": null,
       "prefix": "Iteration",
       "rate": null,
       "total": 67,
       "unit": "it",
       "unit_divisor": 1000,
       "unit_scale": false
      },
      "application/vnd.jupyter.widget-view+json": {
       "model_id": "ce52c00f9f7545b5ae3a06dd502ef34a",
       "version_major": 2,
       "version_minor": 0
      },
      "text/plain": [
       "Iteration:   0%|          | 0/67 [00:00<?, ?it/s]"
      ]
     },
     "metadata": {},
     "output_type": "display_data"
    },
    {
     "name": "stdout",
     "output_type": "stream",
     "text": [
      "\u001b[36;1m\u001b[1;3m> [Epoch 2] Current loss: 1.607826590538025\n",
      "\u001b[0m\u001b[36;1m\u001b[1;3m> [Epoch 2] Current loss: 1.6231151819229126\n",
      "\u001b[0m\u001b[36;1m\u001b[1;3m> [Epoch 2] Current loss: 1.3773081302642822\n",
      "\u001b[0m\u001b[36;1m\u001b[1;3m> [Epoch 2] Current loss: 1.596382737159729\n",
      "\u001b[0m\u001b[36;1m\u001b[1;3m> [Epoch 2] Current loss: 1.514119267463684\n",
      "\u001b[0m\u001b[36;1m\u001b[1;3m> [Epoch 2] Current loss: 1.8348331451416016\n",
      "\u001b[0m\u001b[36;1m\u001b[1;3m> [Epoch 2] Current loss: 1.8226051330566406\n",
      "\u001b[0m\u001b[36;1m\u001b[1;3m> [Epoch 2] Current loss: 1.5489269495010376\n",
      "\u001b[0m\u001b[36;1m\u001b[1;3m> [Epoch 2] Current loss: 1.6163933277130127\n",
      "\u001b[0m\u001b[36;1m\u001b[1;3m> [Epoch 2] Current loss: 1.6122478246688843\n",
      "\u001b[0m\u001b[36;1m\u001b[1;3m> [Epoch 2] Current loss: 1.6416947841644287\n",
      "\u001b[0m\u001b[36;1m\u001b[1;3m> [Epoch 2] Current loss: 1.7144181728363037\n",
      "\u001b[0m\u001b[36;1m\u001b[1;3m> [Epoch 2] Current loss: 1.51851224899292\n",
      "\u001b[0m\u001b[36;1m\u001b[1;3m> [Epoch 2] Current loss: 1.6015201807022095\n",
      "\u001b[0m\u001b[36;1m\u001b[1;3m> [Epoch 2] Current loss: 1.563701868057251\n",
      "\u001b[0m"
     ]
    }
   ],
   "source": [
    "finetune_engine.finetune()"
   ]
  },
  {
   "cell_type": "code",
   "execution_count": 5,
   "id": "63c96d50-110d-43de-acf2-8df8a7153ae9",
   "metadata": {},
   "outputs": [],
   "source": [
    "embed_model = finetune_engine.get_finetuned_model()"
   ]
  },
  {
   "cell_type": "code",
   "execution_count": 6,
   "id": "c2c21c37-c7c8-4561-b43c-927181154be9",
   "metadata": {},
   "outputs": [
    {
     "data": {
      "text/plain": [
       "Parameter containing:\n",
       "tensor([[ 1.0012e+00, -1.5689e-04,  1.7100e-04,  ..., -6.1885e-05,\n",
       "          6.6540e-04,  5.5957e-04],\n",
       "        [-9.5280e-04,  1.0014e+00,  2.7861e-04,  ..., -6.4484e-04,\n",
       "         -2.1343e-04,  6.3622e-04],\n",
       "        [ 6.9218e-04,  4.7994e-04,  1.0013e+00,  ..., -4.8046e-05,\n",
       "         -6.8439e-05, -1.4849e-04],\n",
       "        ...,\n",
       "        [-3.7138e-04, -5.1329e-04,  4.3320e-04,  ...,  1.0007e+00,\n",
       "          3.4029e-04,  2.9252e-04],\n",
       "        [ 5.8444e-04,  1.8534e-04,  1.4414e-04,  ..., -9.7170e-05,\n",
       "          1.0009e+00,  3.1936e-04],\n",
       "        [ 9.3196e-04,  4.7439e-04, -8.2419e-05,  ...,  8.3514e-04,\n",
       "         -7.5721e-04,  1.0003e+00]], requires_grad=True)"
      ]
     },
     "execution_count": 6,
     "metadata": {},
     "output_type": "execute_result"
    }
   ],
   "source": [
    "embed_model._adapter.linear.weight"
   ]
  },
  {
   "cell_type": "markdown",
   "id": "20d9861b-a41e-4f3c-8374-0d7e2a46103d",
   "metadata": {},
   "source": [
    "## Evaluate Finetuned Model"
   ]
  },
  {
   "cell_type": "code",
   "execution_count": 7,
   "id": "f7c7603a-6715-489f-a991-7efb597cb610",
   "metadata": {},
   "outputs": [],
   "source": [
    "from llama_index.embeddings import OpenAIEmbedding\n",
    "from llama_index import ServiceContext, VectorStoreIndex\n",
    "from llama_index.schema import TextNode\n",
    "from tqdm.notebook import tqdm\n",
    "import pandas as pd\n",
    "\n",
    "from eval_utils import evaluate, display_results"
   ]
  },
  {
   "cell_type": "code",
   "execution_count": 15,
   "id": "34e64a54-e97e-459b-a795-75ceb4eae44f",
   "metadata": {},
   "outputs": [
    {
     "data": {
      "application/json": {
       "ascii": false,
       "bar_format": null,
       "colour": null,
       "elapsed": 0.005016803741455078,
       "initial": 0,
       "n": 0,
       "ncols": null,
       "nrows": 75,
       "postfix": null,
       "prefix": "Generating embeddings",
       "rate": null,
       "total": 395,
       "unit": "it",
       "unit_divisor": 1000,
       "unit_scale": false
      },
      "application/vnd.jupyter.widget-view+json": {
       "model_id": "09d2d608c0b748659d260f932fd56271",
       "version_major": 2,
       "version_minor": 0
      },
      "text/plain": [
       "Generating embeddings:   0%|          | 0/395 [00:00<?, ?it/s]"
      ]
     },
     "metadata": {},
     "output_type": "display_data"
    },
    {
     "name": "stderr",
     "output_type": "stream",
     "text": [
      "100%|██████████████████████████████████████████████████████████████████████████████████████████████████████████████████████| 790/790 [02:41<00:00,  4.88it/s]\n"
     ]
    }
   ],
   "source": [
    "ada = OpenAIEmbedding()\n",
    "ada_val_results = evaluate(val_dataset, ada)"
   ]
  },
  {
   "cell_type": "code",
   "execution_count": 16,
   "id": "a31b8728-d510-48e5-980e-2f682d85da14",
   "metadata": {},
   "outputs": [
    {
     "data": {
      "text/html": [
       "<div>\n",
       "<style scoped>\n",
       "    .dataframe tbody tr th:only-of-type {\n",
       "        vertical-align: middle;\n",
       "    }\n",
       "\n",
       "    .dataframe tbody tr th {\n",
       "        vertical-align: top;\n",
       "    }\n",
       "\n",
       "    .dataframe thead th {\n",
       "        text-align: right;\n",
       "    }\n",
       "</style>\n",
       "<table border=\"1\" class=\"dataframe\">\n",
       "  <thead>\n",
       "    <tr style=\"text-align: right;\">\n",
       "      <th></th>\n",
       "      <th>retrievers</th>\n",
       "      <th>hit_rate</th>\n",
       "      <th>mrr</th>\n",
       "    </tr>\n",
       "  </thead>\n",
       "  <tbody>\n",
       "    <tr>\n",
       "      <th>0</th>\n",
       "      <td>ada</td>\n",
       "      <td>0.870886</td>\n",
       "      <td>0.729156</td>\n",
       "    </tr>\n",
       "  </tbody>\n",
       "</table>\n",
       "</div>"
      ],
      "text/plain": [
       "  retrievers  hit_rate       mrr\n",
       "0        ada  0.870886  0.729156"
      ]
     },
     "metadata": {},
     "output_type": "display_data"
    }
   ],
   "source": [
    "display_results([\"ada\"], [ada_val_results])"
   ]
  },
  {
   "cell_type": "code",
   "execution_count": 7,
   "id": "d4ce041a-ead0-4e10-a5f5-fbdfd20f2546",
   "metadata": {},
   "outputs": [
    {
     "data": {
      "application/json": {
       "ascii": false,
       "bar_format": null,
       "colour": null,
       "elapsed": 0.004540205001831055,
       "initial": 0,
       "n": 0,
       "ncols": null,
       "nrows": 37,
       "postfix": null,
       "prefix": "Generating embeddings",
       "rate": null,
       "total": 395,
       "unit": "it",
       "unit_divisor": 1000,
       "unit_scale": false
      },
      "application/vnd.jupyter.widget-view+json": {
       "model_id": "0716ac8b1d824f8589b2af13b5faf9ee",
       "version_major": 2,
       "version_minor": 0
      },
      "text/plain": [
       "Generating embeddings:   0%|          | 0/395 [00:00<?, ?it/s]"
      ]
     },
     "metadata": {},
     "output_type": "display_data"
    },
    {
     "name": "stderr",
     "output_type": "stream",
     "text": [
      "100%|███████████████████████████████████████████████████████████████████████████████████████████████████████████████████| 790/790 [00:23<00:00, 34.00it/s]\n"
     ]
    }
   ],
   "source": [
    "bge = \"local:BAAI/bge-small-en\"\n",
    "bge_val_results = evaluate(val_dataset, bge)"
   ]
  },
  {
   "cell_type": "code",
   "execution_count": 8,
   "id": "56697dc4-ec77-4acc-b306-eed45ec23eea",
   "metadata": {},
   "outputs": [
    {
     "data": {
      "text/html": [
       "<div>\n",
       "<style scoped>\n",
       "    .dataframe tbody tr th:only-of-type {\n",
       "        vertical-align: middle;\n",
       "    }\n",
       "\n",
       "    .dataframe tbody tr th {\n",
       "        vertical-align: top;\n",
       "    }\n",
       "\n",
       "    .dataframe thead th {\n",
       "        text-align: right;\n",
       "    }\n",
       "</style>\n",
       "<table border=\"1\" class=\"dataframe\">\n",
       "  <thead>\n",
       "    <tr style=\"text-align: right;\">\n",
       "      <th></th>\n",
       "      <th>retrievers</th>\n",
       "      <th>hit_rate</th>\n",
       "      <th>mrr</th>\n",
       "    </tr>\n",
       "  </thead>\n",
       "  <tbody>\n",
       "    <tr>\n",
       "      <th>0</th>\n",
       "      <td>bge</td>\n",
       "      <td>0.787342</td>\n",
       "      <td>0.643038</td>\n",
       "    </tr>\n",
       "  </tbody>\n",
       "</table>\n",
       "</div>"
      ],
      "text/plain": [
       "  retrievers  hit_rate       mrr\n",
       "0        bge  0.787342  0.643038"
      ]
     },
     "metadata": {},
     "output_type": "display_data"
    }
   ],
   "source": [
    "display_results([\"bge\"], [bge_val_results])"
   ]
  },
  {
   "cell_type": "code",
   "execution_count": 36,
   "id": "17163fc1-703f-4377-a583-1f47ed0fb2ae",
   "metadata": {},
   "outputs": [
    {
     "data": {
      "application/json": {
       "ascii": false,
       "bar_format": null,
       "colour": null,
       "elapsed": 0.005780935287475586,
       "initial": 0,
       "n": 0,
       "ncols": null,
       "nrows": 75,
       "postfix": null,
       "prefix": "Generating embeddings",
       "rate": null,
       "total": 395,
       "unit": "it",
       "unit_divisor": 1000,
       "unit_scale": false
      },
      "application/vnd.jupyter.widget-view+json": {
       "model_id": "16a82f308420403b869b7802f43a9f4f",
       "version_major": 2,
       "version_minor": 0
      },
      "text/plain": [
       "Generating embeddings:   0%|          | 0/395 [00:00<?, ?it/s]"
      ]
     },
     "metadata": {},
     "output_type": "display_data"
    },
    {
     "name": "stderr",
     "output_type": "stream",
     "text": [
      "100%|██████████████████████████████████████████████████████████████████████████████████████████████████████████████████████| 790/790 [00:21<00:00, 36.73it/s]\n"
     ]
    }
   ],
   "source": [
    "ft_val_results = evaluate(val_dataset, embed_model)"
   ]
  },
  {
   "cell_type": "code",
   "execution_count": 37,
   "id": "12442596-3964-4f3d-a6fe-df76e7e4b84a",
   "metadata": {},
   "outputs": [
    {
     "data": {
      "text/html": [
       "<div>\n",
       "<style scoped>\n",
       "    .dataframe tbody tr th:only-of-type {\n",
       "        vertical-align: middle;\n",
       "    }\n",
       "\n",
       "    .dataframe tbody tr th {\n",
       "        vertical-align: top;\n",
       "    }\n",
       "\n",
       "    .dataframe thead th {\n",
       "        text-align: right;\n",
       "    }\n",
       "</style>\n",
       "<table border=\"1\" class=\"dataframe\">\n",
       "  <thead>\n",
       "    <tr style=\"text-align: right;\">\n",
       "      <th></th>\n",
       "      <th>retrievers</th>\n",
       "      <th>hit_rate</th>\n",
       "      <th>mrr</th>\n",
       "    </tr>\n",
       "  </thead>\n",
       "  <tbody>\n",
       "    <tr>\n",
       "      <th>0</th>\n",
       "      <td>ft</td>\n",
       "      <td>0.792405</td>\n",
       "      <td>0.644241</td>\n",
       "    </tr>\n",
       "  </tbody>\n",
       "</table>\n",
       "</div>"
      ],
      "text/plain": [
       "  retrievers  hit_rate       mrr\n",
       "0         ft  0.792405  0.644241"
      ]
     },
     "metadata": {},
     "output_type": "display_data"
    }
   ],
   "source": [
    "display_results([\"ft\"], [ft_val_results])"
   ]
  },
  {
   "cell_type": "code",
   "execution_count": 24,
   "id": "0555b9f4-e065-42b7-ae3f-3c4355f670dc",
   "metadata": {},
   "outputs": [
    {
     "data": {
      "application/json": {
       "ascii": false,
       "bar_format": null,
       "colour": null,
       "elapsed": 0.005676984786987305,
       "initial": 0,
       "n": 0,
       "ncols": null,
       "nrows": 37,
       "postfix": null,
       "prefix": "Generating embeddings",
       "rate": null,
       "total": 334,
       "unit": "it",
       "unit_divisor": 1000,
       "unit_scale": false
      },
      "application/vnd.jupyter.widget-view+json": {
       "model_id": "1b39638d340a49529eb98936265fb05a",
       "version_major": 2,
       "version_minor": 0
      },
      "text/plain": [
       "Generating embeddings:   0%|          | 0/334 [00:00<?, ?it/s]"
      ]
     },
     "metadata": {},
     "output_type": "display_data"
    },
    {
     "name": "stderr",
     "output_type": "stream",
     "text": [
      "100%|███████████████████████████████████████████████████████████████████████████████████████████████████████████████████| 668/668 [02:06<00:00,  5.28it/s]\n"
     ]
    }
   ],
   "source": [
    "# TMP (look at train results)\n",
    "\n",
    "ada = OpenAIEmbedding()\n",
    "ada_train_results = evaluate(train_dataset, ada)"
   ]
  },
  {
   "cell_type": "code",
   "execution_count": 25,
   "id": "5d2f65dc-0d49-4906-a0a8-5e4f9ba82597",
   "metadata": {},
   "outputs": [
    {
     "data": {
      "text/html": [
       "<div>\n",
       "<style scoped>\n",
       "    .dataframe tbody tr th:only-of-type {\n",
       "        vertical-align: middle;\n",
       "    }\n",
       "\n",
       "    .dataframe tbody tr th {\n",
       "        vertical-align: top;\n",
       "    }\n",
       "\n",
       "    .dataframe thead th {\n",
       "        text-align: right;\n",
       "    }\n",
       "</style>\n",
       "<table border=\"1\" class=\"dataframe\">\n",
       "  <thead>\n",
       "    <tr style=\"text-align: right;\">\n",
       "      <th></th>\n",
       "      <th>retrievers</th>\n",
       "      <th>hit_rate</th>\n",
       "      <th>mrr</th>\n",
       "    </tr>\n",
       "  </thead>\n",
       "  <tbody>\n",
       "    <tr>\n",
       "      <th>0</th>\n",
       "      <td>ada</td>\n",
       "      <td>0.883234</td>\n",
       "      <td>0.684107</td>\n",
       "    </tr>\n",
       "  </tbody>\n",
       "</table>\n",
       "</div>"
      ],
      "text/plain": [
       "  retrievers  hit_rate       mrr\n",
       "0        ada  0.883234  0.684107"
      ]
     },
     "metadata": {},
     "output_type": "display_data"
    }
   ],
   "source": [
    "display_results([\"ada\"], [ada_train_results])"
   ]
  },
  {
   "cell_type": "code",
   "execution_count": 23,
   "id": "baefb5f1-9179-48c4-a92d-57c6e75c2690",
   "metadata": {},
   "outputs": [
    {
     "data": {
      "application/json": {
       "ascii": false,
       "bar_format": null,
       "colour": null,
       "elapsed": 0.005444049835205078,
       "initial": 0,
       "n": 0,
       "ncols": null,
       "nrows": 57,
       "postfix": null,
       "prefix": "Generating embeddings",
       "rate": null,
       "total": 334,
       "unit": "it",
       "unit_divisor": 1000,
       "unit_scale": false
      },
      "application/vnd.jupyter.widget-view+json": {
       "model_id": "586af54aba1840a19008fa6cf2c4a5a2",
       "version_major": 2,
       "version_minor": 0
      },
      "text/plain": [
       "Generating embeddings:   0%|          | 0/334 [00:00<?, ?it/s]"
      ]
     },
     "metadata": {},
     "output_type": "display_data"
    },
    {
     "name": "stderr",
     "output_type": "stream",
     "text": [
      "100%|██████████████████████████████████████| 668/668 [00:16<00:00, 39.60it/s]\n"
     ]
    }
   ],
   "source": [
    "ft_train_results = evaluate(train_dataset, embed_model)"
   ]
  },
  {
   "cell_type": "code",
   "execution_count": 24,
   "id": "b039e524-63df-4a37-a326-cb8eddf61cf8",
   "metadata": {},
   "outputs": [
    {
     "data": {
      "text/html": [
       "<div>\n",
       "<style scoped>\n",
       "    .dataframe tbody tr th:only-of-type {\n",
       "        vertical-align: middle;\n",
       "    }\n",
       "\n",
       "    .dataframe tbody tr th {\n",
       "        vertical-align: top;\n",
       "    }\n",
       "\n",
       "    .dataframe thead th {\n",
       "        text-align: right;\n",
       "    }\n",
       "</style>\n",
       "<table border=\"1\" class=\"dataframe\">\n",
       "  <thead>\n",
       "    <tr style=\"text-align: right;\">\n",
       "      <th></th>\n",
       "      <th>retrievers</th>\n",
       "      <th>hit_rate</th>\n",
       "      <th>mrr</th>\n",
       "    </tr>\n",
       "  </thead>\n",
       "  <tbody>\n",
       "    <tr>\n",
       "      <th>0</th>\n",
       "      <td>ft</td>\n",
       "      <td>0.781437</td>\n",
       "      <td>0.619736</td>\n",
       "    </tr>\n",
       "  </tbody>\n",
       "</table>\n",
       "</div>"
      ],
      "text/plain": [
       "  retrievers  hit_rate       mrr\n",
       "0         ft  0.781437  0.619736"
      ]
     },
     "metadata": {},
     "output_type": "display_data"
    }
   ],
   "source": [
    "display_results([\"ft\"], [ft_train_results])"
   ]
  },
  {
   "cell_type": "code",
   "execution_count": null,
   "id": "9b156704-75bc-42b7-93e2-b843dbdc2cd9",
   "metadata": {},
   "outputs": [],
   "source": [
    "## TMP: with epochs=4\n",
    "ft_val_results_v2 = evaluate(val_dataset, embed_model)"
   ]
  },
  {
   "cell_type": "code",
   "execution_count": 46,
   "id": "f61924a3-7557-44f4-b7d5-8e743f429387",
   "metadata": {},
   "outputs": [
    {
     "data": {
      "text/html": [
       "<div>\n",
       "<style scoped>\n",
       "    .dataframe tbody tr th:only-of-type {\n",
       "        vertical-align: middle;\n",
       "    }\n",
       "\n",
       "    .dataframe tbody tr th {\n",
       "        vertical-align: top;\n",
       "    }\n",
       "\n",
       "    .dataframe thead th {\n",
       "        text-align: right;\n",
       "    }\n",
       "</style>\n",
       "<table border=\"1\" class=\"dataframe\">\n",
       "  <thead>\n",
       "    <tr style=\"text-align: right;\">\n",
       "      <th></th>\n",
       "      <th>retrievers</th>\n",
       "      <th>hit_rate</th>\n",
       "      <th>mrr</th>\n",
       "    </tr>\n",
       "  </thead>\n",
       "  <tbody>\n",
       "    <tr>\n",
       "      <th>0</th>\n",
       "      <td>ft</td>\n",
       "      <td>0.797468</td>\n",
       "      <td>0.648945</td>\n",
       "    </tr>\n",
       "  </tbody>\n",
       "</table>\n",
       "</div>"
      ],
      "text/plain": [
       "  retrievers  hit_rate       mrr\n",
       "0         ft  0.797468  0.648945"
      ]
     },
     "metadata": {},
     "output_type": "display_data"
    }
   ],
   "source": [
    "display_results([\"ft\"], [ft_val_results_v2])"
   ]
  },
  {
   "cell_type": "code",
   "execution_count": 10,
   "id": "114579bd-df5a-4298-837b-0beac732ba17",
   "metadata": {},
   "outputs": [
    {
     "data": {
      "application/json": {
       "ascii": false,
       "bar_format": null,
       "colour": null,
       "elapsed": 0.005074977874755859,
       "initial": 0,
       "n": 0,
       "ncols": null,
       "nrows": 57,
       "postfix": null,
       "prefix": "Generating embeddings",
       "rate": null,
       "total": 395,
       "unit": "it",
       "unit_divisor": 1000,
       "unit_scale": false
      },
      "application/vnd.jupyter.widget-view+json": {
       "model_id": "a462970321eb4f77b72c0e22fdf40bef",
       "version_major": 2,
       "version_minor": 0
      },
      "text/plain": [
       "Generating embeddings:   0%|          | 0/395 [00:00<?, ?it/s]"
      ]
     },
     "metadata": {},
     "output_type": "display_data"
    },
    {
     "name": "stderr",
     "output_type": "stream",
     "text": [
      "100%|██████████████████████████████████████| 790/790 [00:22<00:00, 35.91it/s]\n"
     ]
    }
   ],
   "source": [
    "## TMP: with bias term\n",
    "ft_val_results_v3 = evaluate(val_dataset, embed_model)"
   ]
  },
  {
   "cell_type": "code",
   "execution_count": 11,
   "id": "a60217ad-2cd3-46ef-9e4d-d1c3fbd00c88",
   "metadata": {},
   "outputs": [
    {
     "data": {
      "text/html": [
       "<div>\n",
       "<style scoped>\n",
       "    .dataframe tbody tr th:only-of-type {\n",
       "        vertical-align: middle;\n",
       "    }\n",
       "\n",
       "    .dataframe tbody tr th {\n",
       "        vertical-align: top;\n",
       "    }\n",
       "\n",
       "    .dataframe thead th {\n",
       "        text-align: right;\n",
       "    }\n",
       "</style>\n",
       "<table border=\"1\" class=\"dataframe\">\n",
       "  <thead>\n",
       "    <tr style=\"text-align: right;\">\n",
       "      <th></th>\n",
       "      <th>retrievers</th>\n",
       "      <th>hit_rate</th>\n",
       "      <th>mrr</th>\n",
       "    </tr>\n",
       "  </thead>\n",
       "  <tbody>\n",
       "    <tr>\n",
       "      <th>0</th>\n",
       "      <td>ft</td>\n",
       "      <td>0.787342</td>\n",
       "      <td>0.636751</td>\n",
       "    </tr>\n",
       "  </tbody>\n",
       "</table>\n",
       "</div>"
      ],
      "text/plain": [
       "  retrievers  hit_rate       mrr\n",
       "0         ft  0.787342  0.636751"
      ]
     },
     "metadata": {},
     "output_type": "display_data"
    }
   ],
   "source": [
    "display_results([\"ft\"], [ft_val_results_v3])"
   ]
  },
  {
   "cell_type": "code",
   "execution_count": 13,
   "id": "c92bccaa-2420-4cf7-834c-c90d196710e8",
   "metadata": {},
   "outputs": [
    {
     "data": {
      "application/json": {
       "ascii": false,
       "bar_format": null,
       "colour": null,
       "elapsed": 0.0036721229553222656,
       "initial": 0,
       "n": 0,
       "ncols": null,
       "nrows": 57,
       "postfix": null,
       "prefix": "Generating embeddings",
       "rate": null,
       "total": 395,
       "unit": "it",
       "unit_divisor": 1000,
       "unit_scale": false
      },
      "application/vnd.jupyter.widget-view+json": {
       "model_id": "6f60b99bde2d4d98b4711c404f93807d",
       "version_major": 2,
       "version_minor": 0
      },
      "text/plain": [
       "Generating embeddings:   0%|          | 0/395 [00:00<?, ?it/s]"
      ]
     },
     "metadata": {},
     "output_type": "display_data"
    },
    {
     "name": "stderr",
     "output_type": "stream",
     "text": [
      "100%|██████████████████████████████████████| 790/790 [00:22<00:00, 35.63it/s]\n"
     ]
    }
   ],
   "source": [
    "## TMP: with no bias term\n",
    "ft_val_results_v4 = evaluate(val_dataset, embed_model)"
   ]
  },
  {
   "cell_type": "code",
   "execution_count": 14,
   "id": "83ff1693-2a6f-4f7f-a874-19e969a5b5ef",
   "metadata": {},
   "outputs": [
    {
     "data": {
      "text/html": [
       "<div>\n",
       "<style scoped>\n",
       "    .dataframe tbody tr th:only-of-type {\n",
       "        vertical-align: middle;\n",
       "    }\n",
       "\n",
       "    .dataframe tbody tr th {\n",
       "        vertical-align: top;\n",
       "    }\n",
       "\n",
       "    .dataframe thead th {\n",
       "        text-align: right;\n",
       "    }\n",
       "</style>\n",
       "<table border=\"1\" class=\"dataframe\">\n",
       "  <thead>\n",
       "    <tr style=\"text-align: right;\">\n",
       "      <th></th>\n",
       "      <th>retrievers</th>\n",
       "      <th>hit_rate</th>\n",
       "      <th>mrr</th>\n",
       "    </tr>\n",
       "  </thead>\n",
       "  <tbody>\n",
       "    <tr>\n",
       "      <th>0</th>\n",
       "      <td>ft</td>\n",
       "      <td>0.787342</td>\n",
       "      <td>0.636118</td>\n",
       "    </tr>\n",
       "  </tbody>\n",
       "</table>\n",
       "</div>"
      ],
      "text/plain": [
       "  retrievers  hit_rate       mrr\n",
       "0         ft  0.787342  0.636118"
      ]
     },
     "metadata": {},
     "output_type": "display_data"
    }
   ],
   "source": [
    "display_results([\"ft\"], [ft_val_results_v4])"
   ]
  },
  {
   "cell_type": "code",
   "execution_count": 21,
   "id": "e8058cab-5c01-49bc-88da-8b048157c2ec",
   "metadata": {},
   "outputs": [
    {
     "data": {
      "application/json": {
       "ascii": false,
       "bar_format": null,
       "colour": null,
       "elapsed": 0.007460832595825195,
       "initial": 0,
       "n": 0,
       "ncols": null,
       "nrows": 57,
       "postfix": null,
       "prefix": "Generating embeddings",
       "rate": null,
       "total": 395,
       "unit": "it",
       "unit_divisor": 1000,
       "unit_scale": false
      },
      "application/vnd.jupyter.widget-view+json": {
       "model_id": "92cce13045344503bb05179746577588",
       "version_major": 2,
       "version_minor": 0
      },
      "text/plain": [
       "Generating embeddings:   0%|          | 0/395 [00:00<?, ?it/s]"
      ]
     },
     "metadata": {},
     "output_type": "display_data"
    },
    {
     "name": "stderr",
     "output_type": "stream",
     "text": [
      "100%|██████████████████████████████████████| 790/790 [00:20<00:00, 38.55it/s]\n"
     ]
    }
   ],
   "source": [
    "## TMP: with no bias term + 4 epochs\n",
    "ft_val_results_v5 = evaluate(val_dataset, embed_model)"
   ]
  },
  {
   "cell_type": "code",
   "execution_count": 22,
   "id": "13911511-d379-42fd-9c7a-5c7462caa011",
   "metadata": {},
   "outputs": [
    {
     "data": {
      "text/html": [
       "<div>\n",
       "<style scoped>\n",
       "    .dataframe tbody tr th:only-of-type {\n",
       "        vertical-align: middle;\n",
       "    }\n",
       "\n",
       "    .dataframe tbody tr th {\n",
       "        vertical-align: top;\n",
       "    }\n",
       "\n",
       "    .dataframe thead th {\n",
       "        text-align: right;\n",
       "    }\n",
       "</style>\n",
       "<table border=\"1\" class=\"dataframe\">\n",
       "  <thead>\n",
       "    <tr style=\"text-align: right;\">\n",
       "      <th></th>\n",
       "      <th>retrievers</th>\n",
       "      <th>hit_rate</th>\n",
       "      <th>mrr</th>\n",
       "    </tr>\n",
       "  </thead>\n",
       "  <tbody>\n",
       "    <tr>\n",
       "      <th>0</th>\n",
       "      <td>ft</td>\n",
       "      <td>0.778481</td>\n",
       "      <td>0.631751</td>\n",
       "    </tr>\n",
       "  </tbody>\n",
       "</table>\n",
       "</div>"
      ],
      "text/plain": [
       "  retrievers  hit_rate       mrr\n",
       "0         ft  0.778481  0.631751"
      ]
     },
     "metadata": {},
     "output_type": "display_data"
    }
   ],
   "source": [
    "display_results([\"ft\"], [ft_val_results_v5])"
   ]
  },
  {
   "cell_type": "code",
   "execution_count": 8,
   "id": "653367f6-68e2-4703-9a68-f63c3bca6ce5",
   "metadata": {},
   "outputs": [
    {
     "data": {
      "application/json": {
       "ascii": false,
       "bar_format": null,
       "colour": null,
       "elapsed": 0.003737926483154297,
       "initial": 0,
       "n": 0,
       "ncols": null,
       "nrows": 75,
       "postfix": null,
       "prefix": "Generating embeddings",
       "rate": null,
       "total": 395,
       "unit": "it",
       "unit_divisor": 1000,
       "unit_scale": false
      },
      "application/vnd.jupyter.widget-view+json": {
       "model_id": "ec2a2618dde843c39819518b38bfc5c9",
       "version_major": 2,
       "version_minor": 0
      },
      "text/plain": [
       "Generating embeddings:   0%|          | 0/395 [00:00<?, ?it/s]"
      ]
     },
     "metadata": {},
     "output_type": "display_data"
    },
    {
     "name": "stderr",
     "output_type": "stream",
     "text": [
      "100%|██████████████████████████████████████████████████████████████████████████████████████████████████████████████████████| 790/790 [00:22<00:00, 35.74it/s]\n"
     ]
    }
   ],
   "source": [
    "## TMP: with no bias term + 4 epochs (try again)\n",
    "ft_val_results_v6 = evaluate(val_dataset, embed_model)"
   ]
  },
  {
   "cell_type": "code",
   "execution_count": 9,
   "id": "58d5084a-818f-490d-af6b-f017fe73af5d",
   "metadata": {},
   "outputs": [
    {
     "data": {
      "text/html": [
       "<div>\n",
       "<style scoped>\n",
       "    .dataframe tbody tr th:only-of-type {\n",
       "        vertical-align: middle;\n",
       "    }\n",
       "\n",
       "    .dataframe tbody tr th {\n",
       "        vertical-align: top;\n",
       "    }\n",
       "\n",
       "    .dataframe thead th {\n",
       "        text-align: right;\n",
       "    }\n",
       "</style>\n",
       "<table border=\"1\" class=\"dataframe\">\n",
       "  <thead>\n",
       "    <tr style=\"text-align: right;\">\n",
       "      <th></th>\n",
       "      <th>retrievers</th>\n",
       "      <th>hit_rate</th>\n",
       "      <th>mrr</th>\n",
       "    </tr>\n",
       "  </thead>\n",
       "  <tbody>\n",
       "    <tr>\n",
       "      <th>0</th>\n",
       "      <td>ft</td>\n",
       "      <td>0.8</td>\n",
       "      <td>0.661983</td>\n",
       "    </tr>\n",
       "  </tbody>\n",
       "</table>\n",
       "</div>"
      ],
      "text/plain": [
       "  retrievers  hit_rate       mrr\n",
       "0         ft       0.8  0.661983"
      ]
     },
     "metadata": {},
     "output_type": "display_data"
    }
   ],
   "source": [
    "display_results([\"ft\"], [ft_val_results_v6])"
   ]
  },
  {
   "cell_type": "code",
   "execution_count": null,
   "id": "607ed9ab-7584-439e-85a0-36247e7b4d10",
   "metadata": {},
   "outputs": [],
   "source": []
  }
 ],
 "metadata": {
  "kernelspec": {
   "display_name": "llama_index_v2",
   "language": "python",
   "name": "llama_index_v2"
  },
  "language_info": {
   "codemirror_mode": {
    "name": "ipython",
    "version": 3
   },
   "file_extension": ".py",
   "mimetype": "text/x-python",
   "name": "python",
   "nbconvert_exporter": "python",
   "pygments_lexer": "ipython3",
   "version": "3.10.10"
  }
 },
 "nbformat": 4,
 "nbformat_minor": 5
}
