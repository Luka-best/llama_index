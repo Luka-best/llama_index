{
 "cells": [
  {
   "cell_type": "markdown",
   "metadata": {},
   "source": [
    "# Fine Tuning GPT-3.5-Turbo\n",
    "\n",
    "In this notebook, we walk through an example of fine-tuning gpt-3.5-turbo.\n",
    "\n",
    "Specifically, we attempt to distill GPT-4's knowledge, by generating training data with GPT-4 to then fine-tune GPT-3.5.\n",
    "\n",
    "All training data is generated using two different sections of our index data, creating both a training and evalution set.\n",
    "\n",
    "We then finetune with our `OpenAIFinetuneEngine` wrapper abstraction."
   ]
  },
  {
   "cell_type": "code",
   "execution_count": null,
   "metadata": {},
   "outputs": [],
   "source": [
    "# !pip install llama-index pypdf sentence-transformers ragas"
   ]
  },
  {
   "cell_type": "code",
   "execution_count": 1,
   "metadata": {},
   "outputs": [],
   "source": [
    "import os\n",
    "import openai"
   ]
  },
  {
   "cell_type": "code",
   "execution_count": null,
   "metadata": {},
   "outputs": [],
   "source": [
    "os.environ[\"OPENAI_API_KEY\"] = \"sk-...\"\n",
    "openai.api_key = os.environ[\"OPENAI_API_KEY\"]"
   ]
  },
  {
   "cell_type": "markdown",
   "metadata": {},
   "source": [
    "## Data Setup\n",
    "\n",
    "Here, we first down load the PDF that we will use to generate training data."
   ]
  },
  {
   "cell_type": "code",
   "execution_count": 2,
   "metadata": {},
   "outputs": [
    {
     "name": "stdout",
     "output_type": "stream",
     "text": [
      "  % Total    % Received % Xferd  Average Speed   Time    Time     Time  Current\n",
      "                                 Dload  Upload   Total   Spent    Left  Speed\n",
      "100 20.7M  100 20.7M    0     0   397k      0  0:00:53  0:00:53 --:--:--  417k84k      0  0:00:55  0:00:24  0:00:31  406k    0   395k      0  0:00:53  0:00:48  0:00:05  403k0   396k      0  0:00:53  0:00:53 --:--:--  406k\n"
     ]
    }
   ],
   "source": [
    "!curl https://www.ipcc.ch/report/ar6/wg2/downloads/report/IPCC_AR6_WGII_Chapter03.pdf --output IPCC_AR6_WGII_Chapter03.pdf"
   ]
  },
  {
   "cell_type": "code",
   "execution_count": 20,
   "metadata": {},
   "outputs": [],
   "source": [
    "from llama_index.program import OpenAIPydanticProgram\n",
    "from pydantic import BaseModel\n",
    "from llama_index.llms import OpenAI\n",
    "from llama_index.callbacks import OpenAIFineTuningHandler\n",
    "from llama_index.callbacks import CallbackManager\n",
    "from typing import List\n",
    "\n",
    "\n",
    "class Song(BaseModel):\n",
    "    \"\"\"Data model for a song.\"\"\"\n",
    "\n",
    "    title: str\n",
    "    length_seconds: int\n",
    "\n",
    "\n",
    "class Album(BaseModel):\n",
    "    \"\"\"Data model for an album.\"\"\"\n",
    "\n",
    "    name: str\n",
    "    artist: str\n",
    "    songs: List[Song]\n",
    "\n",
    "\n",
    "finetuning_handler = OpenAIFineTuningHandler()\n",
    "callback_manager = CallbackManager([finetuning_handler])\n",
    "\n",
    "llm = OpenAI(model=\"gpt-4\", callback_manager=callback_manager)\n",
    "\n",
    "\n",
    "prompt_template_str = \"\"\"\\\n",
    "Generate an example album, with an artist and a list of songs. \\\n",
    "Using the movie {movie_name} as inspiration.\\\n",
    "\"\"\"\n",
    "program = OpenAIPydanticProgram.from_defaults(\n",
    "    output_cls=Album,\n",
    "    prompt_template_str=prompt_template_str,\n",
    "    llm=llm,\n",
    "    verbose=False,\n",
    ")"
   ]
  },
  {
   "cell_type": "code",
   "execution_count": 30,
   "metadata": {},
   "outputs": [],
   "source": [
    "# NOTE: we need >= 10 movies to use OpenAI fine-tuning\n",
    "movie_names = [\n",
    "    \"The Shining\",\n",
    "    \"The Departed\",\n",
    "    \"Titanic\",\n",
    "    \"Goodfellas\",\n",
    "    \"Pretty Woman\",\n",
    "    \"Home Alone\",\n",
    "    \"Caged Fury\",\n",
    "    \"Edward Scissorhands\",\n",
    "    \"Total Recall\",\n",
    "    \"Ghost\",\n",
    "    \"Tremors\",\n",
    "    \"RoboCop\",\n",
    "    \"Rocky V\"\n",
    "]"
   ]
  },
  {
   "cell_type": "code",
   "execution_count": 23,
   "metadata": {
    "scrolled": true
   },
   "outputs": [
    {
     "data": {
      "application/json": {
       "ascii": false,
       "bar_format": null,
       "colour": null,
       "elapsed": 0.004143953323364258,
       "initial": 0,
       "n": 0,
       "ncols": null,
       "nrows": 25,
       "postfix": null,
       "prefix": "",
       "rate": null,
       "total": 13,
       "unit": "it",
       "unit_divisor": 1000,
       "unit_scale": false
      },
      "application/vnd.jupyter.widget-view+json": {
       "model_id": "0c6e3e3e2da545d1a5bb23e93d867444",
       "version_major": 2,
       "version_minor": 0
      },
      "text/plain": [
       "  0%|          | 0/13 [00:00<?, ?it/s]"
      ]
     },
     "metadata": {},
     "output_type": "display_data"
    },
    {
     "name": "stdout",
     "output_type": "stream",
     "text": [
      "{\"name\": \"The Shining\", \"artist\": \"Various Artists\", \"songs\": [{\"title\": \"Main Title\", \"length_seconds\": 180}, {\"title\": \"Opening Credits\", \"length_seconds\": 120}, {\"title\": \"The Overlook Hotel\", \"length_seconds\": 240}, {\"title\": \"Redrum\", \"length_seconds\": 150}, {\"title\": \"Here's Johnny!\", \"length_seconds\": 200}]}\n",
      "{\"name\": \"The Departed Soundtrack\", \"artist\": \"Various Artists\", \"songs\": [{\"title\": \"Gimme Shelter\", \"length_seconds\": 272}, {\"title\": \"Comfortably Numb\", \"length_seconds\": 383}, {\"title\": \"I'm Shipping Up to Boston\", \"length_seconds\": 166}, {\"title\": \"Sweet Dreams (Are Made of This)\", \"length_seconds\": 216}, {\"title\": \"I'm Shipping Up to Boston (Instrumental)\", \"length_seconds\": 166}, {\"title\": \"The Departed Tango\", \"length_seconds\": 123}, {\"title\": \"Thief's Theme\", \"length_seconds\": 201}, {\"title\": \"Well Well Well\", \"length_seconds\": 126}, {\"title\": \"Comfortably Numb (Live)\", \"length_seconds\": 383}, {\"title\": \"Sail On, Sailor\", \"length_seconds\": 181}]}\n",
      "{\"name\": \"Titanic Soundtrack\", \"artist\": \"James Horner\", \"songs\": [{\"title\": \"My Heart Will Go On\", \"length_seconds\": 273}, {\"title\": \"Rose\", \"length_seconds\": 120}, {\"title\": \"Hymn to the Sea\", \"length_seconds\": 365}, {\"title\": \"Southampton\", \"length_seconds\": 180}, {\"title\": \"Take Her to Sea, Mr. Murdoch\", \"length_seconds\": 150}]}\n",
      "{\"name\": \"Goodfellas Soundtrack\", \"artist\": \"Various Artists\", \"songs\": [{\"title\": \"Rags to Riches\", \"length_seconds\": 180}, {\"title\": \"Gimme Shelter\", \"length_seconds\": 270}, {\"title\": \"Layla\", \"length_seconds\": 270}, {\"title\": \"Jump into the Fire\", \"length_seconds\": 240}, {\"title\": \"Atlantis\", \"length_seconds\": 180}, {\"title\": \"Beyond the Sea\", \"length_seconds\": 180}, {\"title\": \"Sunshine of Your Love\", \"length_seconds\": 240}, {\"title\": \"Mannish Boy\", \"length_seconds\": 240}, {\"title\": \"Layla (Piano Exit)\", \"length_seconds\": 120}]}\n",
      "{\"name\": \"Pretty Woman Soundtrack\", \"artist\": \"Various Artists\", \"songs\": [{\"title\": \"Oh, Pretty Woman\", \"length_seconds\": 178}, {\"title\": \"King of Wishful Thinking\", \"length_seconds\": 253}, {\"title\": \"It Must Have Been Love\", \"length_seconds\": 250}, {\"title\": \"Show Me Your Soul\", \"length_seconds\": 285}, {\"title\": \"No Explanation\", \"length_seconds\": 244}]}\n",
      "{\"name\": \"Home Alone Soundtrack\", \"artist\": \"John Williams\", \"songs\": [{\"title\": \"Somewhere in My Memory\", \"length_seconds\": 180}, {\"title\": \"Holiday Flight\", \"length_seconds\": 120}, {\"title\": \"The House\", \"length_seconds\": 150}, {\"title\": \"Star of Bethlehem\", \"length_seconds\": 135}, {\"title\": \"Setting the Trap\", \"length_seconds\": 165}, {\"title\": \"The Attack on the House\", \"length_seconds\": 200}, {\"title\": \"Mom Returns and Finale\", \"length_seconds\": 240}]}\n",
      "{\"name\": \"Caged Fury\", \"artist\": \"The Fury Band\", \"songs\": [{\"title\": \"Caged Fury\", \"length_seconds\": 240}, {\"title\": \"Prison Break\", \"length_seconds\": 180}, {\"title\": \"Behind Bars\", \"length_seconds\": 210}, {\"title\": \"Escape Plan\", \"length_seconds\": 195}, {\"title\": \"Fight for Freedom\", \"length_seconds\": 220}]}\n",
      "{\"name\": \"Edward Scissorhands Soundtrack\", \"artist\": \"Danny Elfman\", \"songs\": [{\"title\": \"Introduction\", \"length_seconds\": 120}, {\"title\": \"Ice Dance\", \"length_seconds\": 180}, {\"title\": \"Edwardo the Barber\", \"length_seconds\": 150}, {\"title\": \"The Grand Finale\", \"length_seconds\": 240}]}\n",
      "{\"name\": \"Total Recall\", \"artist\": \"Various Artists\", \"songs\": [{\"title\": \"Recall\", \"length_seconds\": 240}, {\"title\": \"Mars\", \"length_seconds\": 180}, {\"title\": \"Memory\", \"length_seconds\": 210}, {\"title\": \"Rebellion\", \"length_seconds\": 300}, {\"title\": \"Escape\", \"length_seconds\": 270}]}\n",
      "{\"name\": \"Ghost\", \"artist\": \"Various Artists\", \"songs\": [{\"title\": \"Unchained Melody\", \"length_seconds\": 218}, {\"title\": \"Oh My Love\", \"length_seconds\": 156}, {\"title\": \"Ditto's Theme\", \"length_seconds\": 92}, {\"title\": \"Love Inside\", \"length_seconds\": 180}, {\"title\": \"Ghostly Encounter\", \"length_seconds\": 120}]}\n",
      "{\"name\": \"Tremors Soundtrack\", \"artist\": \"Various Artists\", \"songs\": [{\"title\": \"Main Theme\", \"length_seconds\": 180}, {\"title\": \"Graboids Attack\", \"length_seconds\": 240}, {\"title\": \"Val and Earl's Theme\", \"length_seconds\": 200}, {\"title\": \"Burt's Arsenal\", \"length_seconds\": 220}, {\"title\": \"Nest of the Graboids\", \"length_seconds\": 190}]}\n",
      "{\"name\": \"RoboCop: The Soundtrack\", \"artist\": \"Various Artists\", \"songs\": [{\"title\": \"Main Theme\", \"length_seconds\": 180}, {\"title\": \"Murphy's Death\", \"length_seconds\": 240}, {\"title\": \"RoboCop's Training\", \"length_seconds\": 210}, {\"title\": \"ED-209\", \"length_seconds\": 195}, {\"title\": \"Clarence Boddicker\", \"length_seconds\": 220}, {\"title\": \"RoboCop Saves the Day\", \"length_seconds\": 240}, {\"title\": \"RoboCop's Theme\", \"length_seconds\": 180}]}\n",
      "{\"name\": \"Rocky V\", \"artist\": \"Various Artists\", \"songs\": [{\"title\": \"Measure of a Man\", \"length_seconds\": 240}, {\"title\": \"Can't Stop the Fire\", \"length_seconds\": 210}, {\"title\": \"Go for It!\", \"length_seconds\": 180}, {\"title\": \"Take You Back (Home Sweet Home)\", \"length_seconds\": 200}, {\"title\": \"The Measure of a Man (Reprise)\", \"length_seconds\": 120}]}\n"
     ]
    }
   ],
   "source": [
    "from tqdm.notebook import tqdm\n",
    "\n",
    "for movie_name in tqdm(movie_names):\n",
    "    output = program(movie_name=movie_name)\n",
    "    print(output.json())"
   ]
  },
  {
   "cell_type": "code",
   "execution_count": 24,
   "metadata": {},
   "outputs": [
    {
     "name": "stdout",
     "output_type": "stream",
     "text": [
      "Wrote 13 examples to mock_finetune_songs.jsonl\n"
     ]
    }
   ],
   "source": [
    "finetuning_handler.save_finetuning_events(\"mock_finetune_songs.jsonl\")"
   ]
  },
  {
   "cell_type": "code",
   "execution_count": null,
   "metadata": {
    "scrolled": true
   },
   "outputs": [],
   "source": [
    "!cat mock_finetune_songs.jsonl"
   ]
  },
  {
   "cell_type": "code",
   "execution_count": 26,
   "metadata": {},
   "outputs": [
    {
     "name": "stdout",
     "output_type": "stream",
     "text": [
      "[{'name': 'Album', 'description': 'Data model for an album.', 'parameters': {'title': 'Album', 'description': 'Data model for an album.', 'type': 'object', 'properties': {'name': {'title': 'Name', 'type': 'string'}, 'artist': {'title': 'Artist', 'type': 'string'}, 'songs': {'title': 'Songs', 'type': 'array', 'items': {'$ref': '#/definitions/Song'}}}, 'required': ['name', 'artist', 'songs'], 'definitions': {'Song': {'title': 'Song', 'description': 'Data model for a song.', 'type': 'object', 'properties': {'title': {'title': 'Title', 'type': 'string'}, 'length_seconds': {'title': 'Length Seconds', 'type': 'integer'}}, 'required': ['title', 'length_seconds']}}}}]\n"
     ]
    },
    {
     "ename": "Exception",
     "evalue": "",
     "output_type": "error",
     "traceback": [
      "\u001b[0;31m---------------------------------------------------------------------------\u001b[0m",
      "\u001b[0;31mException\u001b[0m                                 Traceback (most recent call last)",
      "Cell \u001b[0;32mIn[26], line 7\u001b[0m\n\u001b[1;32m      5\u001b[0m data_dict \u001b[38;5;241m=\u001b[39m json\u001b[38;5;241m.\u001b[39mloads(line)\n\u001b[1;32m      6\u001b[0m \u001b[38;5;28mprint\u001b[39m(data_dict[\u001b[38;5;124m\"\u001b[39m\u001b[38;5;124mfunctions\u001b[39m\u001b[38;5;124m\"\u001b[39m])\n\u001b[0;32m----> 7\u001b[0m \u001b[38;5;28;01mraise\u001b[39;00m \u001b[38;5;167;01mException\u001b[39;00m\n",
      "\u001b[0;31mException\u001b[0m: "
     ]
    }
   ],
   "source": [
    "import json\n",
    "\n",
    "\n",
    "for line in open('mock_finetune_songs.jsonl', 'r'):\n",
    "    data_dict = json.loads(line)\n",
    "    print(data_dict[\"functions\"])\n",
    "    raise Exception"
   ]
  },
  {
   "cell_type": "code",
   "execution_count": 27,
   "metadata": {},
   "outputs": [],
   "source": [
    "from llama_index.finetuning import OpenAIFinetuneEngine\n",
    "\n",
    "finetune_engine = OpenAIFinetuneEngine(\n",
    "    \"gpt-3.5-turbo\",\n",
    "    \"mock_finetune_songs.jsonl\",\n",
    "    # start_job_id=\"<start-job-id>\"  # if you have an existing job, can specify id here\n",
    "    validate_json=False  # openai validate json code doesn't support function calling yet\n",
    ")"
   ]
  },
  {
   "cell_type": "code",
   "execution_count": 28,
   "metadata": {},
   "outputs": [],
   "source": [
    "finetune_engine.finetune()"
   ]
  },
  {
   "cell_type": "code",
   "execution_count": 29,
   "metadata": {},
   "outputs": [
    {
     "data": {
      "text/plain": [
       "<FineTuningJob fine_tuning.job id=ftjob-uJ9kQ9pI0p0YNatBDxF3VITv at 0x17529fe20> JSON: {\n",
       "  \"object\": \"fine_tuning.job\",\n",
       "  \"id\": \"ftjob-uJ9kQ9pI0p0YNatBDxF3VITv\",\n",
       "  \"model\": \"gpt-3.5-turbo-0613\",\n",
       "  \"created_at\": 1696463378,\n",
       "  \"finished_at\": null,\n",
       "  \"fine_tuned_model\": null,\n",
       "  \"organization_id\": \"org-1ZDAvajC6v2ZtAP9hLEIsXRz\",\n",
       "  \"result_files\": [],\n",
       "  \"status\": \"validating_files\",\n",
       "  \"validation_file\": null,\n",
       "  \"training_file\": \"file-MNh7snhv0triDIhsrErokSMY\",\n",
       "  \"hyperparameters\": {\n",
       "    \"n_epochs\": \"auto\"\n",
       "  },\n",
       "  \"trained_tokens\": null,\n",
       "  \"error\": null\n",
       "}"
      ]
     },
     "execution_count": 29,
     "metadata": {},
     "output_type": "execute_result"
    }
   ],
   "source": [
    "finetune_engine.get_current_job()"
   ]
  },
  {
   "cell_type": "code",
   "execution_count": null,
   "metadata": {},
   "outputs": [],
   "source": [
    "ft_llm = finetune_engine.get_finetuned_model(temperature=0.3)"
   ]
  },
  {
   "cell_type": "code",
   "execution_count": null,
   "metadata": {},
   "outputs": [],
   "source": [
    "ft_program = OpenAIPydanticProgram.from_defaults(\n",
    "    output_cls=Album,\n",
    "    prompt_template_str=prompt_template_str,\n",
    "    llm=ft_llm,\n",
    "    verbose=False,\n",
    ")"
   ]
  },
  {
   "cell_type": "code",
   "execution_count": 31,
   "metadata": {},
   "outputs": [
    {
     "ename": "SyntaxError",
     "evalue": "unterminated string literal (detected at line 1) (3893427224.py, line 1)",
     "output_type": "error",
     "traceback": [
      "\u001b[0;36m  Cell \u001b[0;32mIn[31], line 1\u001b[0;36m\u001b[0m\n\u001b[0;31m    ft_program(movie_name=\"Goodfellas)\u001b[0m\n\u001b[0m                          ^\u001b[0m\n\u001b[0;31mSyntaxError\u001b[0m\u001b[0;31m:\u001b[0m unterminated string literal (detected at line 1)\n"
     ]
    }
   ],
   "source": [
    "ft_program(movie_name=\"Goodfellas)"
   ]
  },
  {
   "cell_type": "code",
   "execution_count": null,
   "metadata": {},
   "outputs": [],
   "source": []
  }
 ],
 "metadata": {
  "kernelspec": {
   "display_name": "llama_index_v2",
   "language": "python",
   "name": "llama_index_v2"
  },
  "language_info": {
   "codemirror_mode": {
    "name": "ipython",
    "version": 3
   },
   "file_extension": ".py",
   "mimetype": "text/x-python",
   "name": "python",
   "nbconvert_exporter": "python",
   "pygments_lexer": "ipython3",
   "version": "3.10.10"
  }
 },
 "nbformat": 4,
 "nbformat_minor": 4
}
