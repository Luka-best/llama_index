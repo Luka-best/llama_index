{
 "cells": [
  {
   "cell_type": "markdown",
   "id": "cbbcac09-a0ab-4b7e-9d9b-5b96ac57611d",
   "metadata": {},
   "source": [
    "# Building a (Very Simple) Vector Store from Scratch\n",
    "\n",
    "In this tutorial, we show you how to build a simple in-memory vector store that can store documents along with metadata. It will also expose a query interface that can support a variety of queries:\n",
    "- semantic search (with embedding similarity)\n",
    "- metadata filtering\n",
    "\n",
    "**NOTE**: Obviously this is not supposed to be a replacement for any actual vector store (e.g. Pinecone, Weaviate, Chroma, Qdrant, Milvus, or others within our wide range of vector store integrations). This is more to teach some key retrieval concepts, like top-k embedding search + metadata filtering.\n",
    "\n",
    "We won't be covering advanced query/retrieval concepts such as approximate nearest neighbors, sparse/hybrid search, or any of the system concepts that would be required for building an actual database."
   ]
  },
  {
   "cell_type": "markdown",
   "id": "f205323d-2003-4c5e-afa4-64fdda5b8c18",
   "metadata": {},
   "source": [
    "## Setup\n",
    "\n",
    "We load in some documents, and parse them into Node objects - chunks that are ready to be inserted into a vector store."
   ]
  },
  {
   "cell_type": "markdown",
   "id": "93871efd-e460-491b-87ef-132109c00244",
   "metadata": {},
   "source": [
    "#### Load in Documents"
   ]
  },
  {
   "cell_type": "code",
   "execution_count": null,
   "id": "694e4a15-3736-47f6-b323-59b6c6492fad",
   "metadata": {},
   "outputs": [],
   "source": [
    "!mkdir data\n",
    "!wget --user-agent \"Mozilla\" \"https://arxiv.org/pdf/2307.09288.pdf\" -O \"data/llama2.pdf\""
   ]
  },
  {
   "cell_type": "code",
   "execution_count": 1,
   "id": "e1f99ca0-aea9-4441-bace-c66d797a88db",
   "metadata": {},
   "outputs": [],
   "source": [
    "from pathlib import Path\n",
    "from llama_hub.file.pymu_pdf.base import PyMuPDFReader"
   ]
  },
  {
   "cell_type": "code",
   "execution_count": 2,
   "id": "da320f97-b332-44cb-a0c6-7b5eb7cabaf1",
   "metadata": {},
   "outputs": [],
   "source": [
    "loader = PyMuPDFReader()\n",
    "documents = loader.load(file_path=\"./data/llama2.pdf\")"
   ]
  },
  {
   "cell_type": "markdown",
   "id": "f8cf70c0-1b67-4855-b2e2-e28fd235f8b7",
   "metadata": {},
   "source": [
    "#### Parse into Nodes"
   ]
  },
  {
   "cell_type": "code",
   "execution_count": 4,
   "id": "6ee31469-024c-44a0-bd40-bb038e422575",
   "metadata": {},
   "outputs": [],
   "source": [
    "from llama_index.node_parser import SimpleNodeParser\n",
    "\n",
    "node_parser = SimpleNodeParser.from_defaults()\n",
    "nodes = node_parser.get_nodes_from_documents(documents)"
   ]
  },
  {
   "cell_type": "markdown",
   "id": "7641b59e-1ce4-4168-84fa-db98048e940f",
   "metadata": {},
   "source": [
    "#### Generate Embeddings for each Node"
   ]
  },
  {
   "cell_type": "code",
   "execution_count": 55,
   "id": "7803b109-98e6-460a-b209-9442660318a9",
   "metadata": {},
   "outputs": [],
   "source": [
    "from llama_index.embeddings import OpenAIEmbedding\n",
    "\n",
    "embed_model = OpenAIEmbedding()\n",
    "for node in nodes:\n",
    "    node_embedding = embed_model.get_text_embedding(\n",
    "        node.get_content(metadata_mode=\"all\")\n",
    "    )\n",
    "    node.embedding = node_embedding"
   ]
  },
  {
   "cell_type": "markdown",
   "id": "fe942484-a399-4044-9c9f-ea175f9dbafe",
   "metadata": {},
   "source": [
    "## Build a Simple In-Memory Vector Store\n",
    "\n",
    "Now we'll build our in-memory vector store. We'll store Nodes within a simple Python dictionary. We'll start off implementing embedding search, and add metadata filters."
   ]
  },
  {
   "cell_type": "markdown",
   "id": "808f4f0b-0a1f-4f90-b0f1-c08693998189",
   "metadata": {},
   "source": [
    "### 1. Defining the Interface\n",
    "\n",
    "We'll first define the interface for building a vector store. It contains the following items:\n",
    "\n",
    "- `get`\n",
    "- `add`\n",
    "- `delete`\n",
    "- `query`\n",
    "- `persist` (which we will not implement) "
   ]
  },
  {
   "cell_type": "code",
   "execution_count": 38,
   "id": "71c21211-54c4-4493-bf50-548f99b36f65",
   "metadata": {},
   "outputs": [],
   "source": [
    "from llama_index.vector_stores.types import VectorStore, VectorStoreQuery, VectorStoreQueryResult\n",
    "from typing import List, Any, Optional, Dict\n",
    "from llama_index.schema import TextNode, BaseNode\n",
    "import os\n",
    "\n",
    "class BaseVectorStore(VectorStore):\n",
    "    \"\"\"Simple custom Vector Store.\n",
    "\n",
    "    Stores documents in a simple in-memory dict.\n",
    "    \n",
    "    \"\"\"\n",
    "\n",
    "    stores_text: bool = True\n",
    "\n",
    "    def get(self, text_id: str) -> List[float]:\n",
    "        \"\"\"Get embedding.\"\"\"\n",
    "        pass\n",
    "        \n",
    "    def add(\n",
    "        self,\n",
    "        nodes: List[BaseNode],\n",
    "    ) -> List[str]:\n",
    "        \"\"\"Add nodes to index.\"\"\"\n",
    "        pass\n",
    "\n",
    "    def delete(self, ref_doc_id: str, **delete_kwargs: Any) -> None:\n",
    "        \"\"\"\n",
    "        Delete nodes using with ref_doc_id.\n",
    "\n",
    "        Args:\n",
    "            ref_doc_id (str): The doc_id of the document to delete.\n",
    "\n",
    "        \"\"\"\n",
    "        pass\n",
    "\n",
    "    def query(\n",
    "        self,\n",
    "        query: VectorStoreQuery,\n",
    "        **kwargs: Any,\n",
    "    ) -> VectorStoreQueryResult:\n",
    "        \"\"\"Get nodes for response.\"\"\"\n",
    "        pass\n",
    "\n",
    "    def persist(\n",
    "        self,\n",
    "        persist_path,\n",
    "        fs = None\n",
    "    ) -> None:\n",
    "        \"\"\"Persist the SimpleVectorStore to a directory.\n",
    "\n",
    "        NOTE: we are not implementing this for now.\n",
    "        \n",
    "        \"\"\"\n",
    "        pass"
   ]
  },
  {
   "cell_type": "markdown",
   "id": "73d291ef-78f7-4cee-a9e3-ee9b6b557354",
   "metadata": {},
   "source": [
    "At a high-level, we subclass our base `VectorStore` abstraction. There's no inherent reason to do this if you're just building a vector store from scratch. We do it because it makes it easy to plug into our downstream abstractions later.\n",
    "\n",
    "Let's look at some of the classes defined here.\n",
    "- `BaseNode` is simply the parent class of our core Node modules. Each Node represents a text chunk + associated metadata.\n",
    "- We also use some lower-level constructs, for instance our `VectorStoreQuery` and `VectorStoreQueryResult`. These are just lightweight dataclass containers to represent queries and results. We look at the dataclass fields below."
   ]
  },
  {
   "cell_type": "code",
   "execution_count": 34,
   "id": "f1de927f-fb4c-48d9-a26c-2d9bfc453e36",
   "metadata": {},
   "outputs": [
    {
     "data": {
      "text/plain": [
       "{'query_embedding': typing.Optional[typing.List[float]],\n",
       " 'similarity_top_k': int,\n",
       " 'doc_ids': typing.Optional[typing.List[str]],\n",
       " 'node_ids': typing.Optional[typing.List[str]],\n",
       " 'query_str': typing.Optional[str],\n",
       " 'output_fields': typing.Optional[typing.List[str]],\n",
       " 'embedding_field': typing.Optional[str],\n",
       " 'mode': <enum 'VectorStoreQueryMode'>,\n",
       " 'alpha': typing.Optional[float],\n",
       " 'filters': typing.Optional[llama_index.vector_stores.types.MetadataFilters],\n",
       " 'mmr_threshold': typing.Optional[float],\n",
       " 'sparse_top_k': typing.Optional[int]}"
      ]
     },
     "execution_count": 34,
     "metadata": {},
     "output_type": "execute_result"
    }
   ],
   "source": [
    "from dataclasses import fields\n",
    "\n",
    "{f.name: f.type for f in fields(VectorStoreQuery)}"
   ]
  },
  {
   "cell_type": "code",
   "execution_count": 35,
   "id": "e9fe73ed-ade8-4a67-ba0b-1cb195bb78ab",
   "metadata": {},
   "outputs": [
    {
     "data": {
      "text/plain": [
       "{'nodes': typing.Optional[typing.Sequence[llama_index.schema.BaseNode]],\n",
       " 'similarities': typing.Optional[typing.List[float]],\n",
       " 'ids': typing.Optional[typing.List[str]]}"
      ]
     },
     "execution_count": 35,
     "metadata": {},
     "output_type": "execute_result"
    }
   ],
   "source": [
    "{f.name: f.type for f in fields(VectorStoreQueryResult)}"
   ]
  },
  {
   "cell_type": "markdown",
   "id": "b94a1410-3b98-40ad-be3d-1bb79762b723",
   "metadata": {},
   "source": [
    "### 2. Defining `add`, `get`, and `delete`\n",
    "\n",
    "We add some basic capabilities to add, get, and delete from a vector store.\n",
    "\n",
    "The implementation is very simple (everything is just stored in a python dictionary)."
   ]
  },
  {
   "cell_type": "code",
   "execution_count": 54,
   "id": "590a3112-4bfe-4378-89d9-f10dbd41ef02",
   "metadata": {},
   "outputs": [],
   "source": [
    "class VectorStore2(BaseVectorStore):\n",
    "    \"\"\"VectorStore2 (add/get/delete implemented).\"\"\"\n",
    "\n",
    "    stores_text: bool = True\n",
    "\n",
    "    def __init__(self) -> None:\n",
    "        \"\"\"Init params.\"\"\"\n",
    "        self.node_dict: Dict[str, BaseNode] = {}\n",
    "   \n",
    "    def get(self, text_id: str) -> List[float]:\n",
    "        \"\"\"Get embedding.\"\"\"\n",
    "        return self.node_dict[text_id]\n",
    "\n",
    "    def add(\n",
    "        self,\n",
    "        nodes: List[BaseNode],\n",
    "    ) -> List[str]:\n",
    "        \"\"\"Add nodes to index.\"\"\"\n",
    "        for node in nodes:\n",
    "            self.node_dict[node.node_id] = node.get_text()\n",
    "\n",
    "    def delete(self, node_id: str, **delete_kwargs: Any) -> None:\n",
    "        \"\"\"\n",
    "        Delete nodes using with node_id.\n",
    "\n",
    "        Args:\n",
    "            node_id: str\n",
    "\n",
    "        \"\"\"\n",
    "        del self.node_dict[node_id]\n"
   ]
  },
  {
   "cell_type": "markdown",
   "id": "c31a321a-b14f-4819-a26a-25b41401905d",
   "metadata": {},
   "source": [
    "We run some basic tests just to show it works well."
   ]
  },
  {
   "cell_type": "code",
   "execution_count": 48,
   "id": "f4044322-d104-47ef-b44f-440ca0ef5441",
   "metadata": {},
   "outputs": [],
   "source": [
    "vector_store = VectorStore2()"
   ]
  },
  {
   "cell_type": "code",
   "execution_count": 52,
   "id": "0650d3b2-0df0-4f6d-be61-6c4cc81d1479",
   "metadata": {},
   "outputs": [],
   "source": [
    "text_node = TextNode(id_=\"id1\", text=\"hello world\")\n",
    "\n",
    "vector_store.add([text_node])"
   ]
  },
  {
   "cell_type": "code",
   "execution_count": 53,
   "id": "d8973354-43c1-4e2d-8209-683501361ea2",
   "metadata": {},
   "outputs": [
    {
     "data": {
      "text/plain": [
       "'hello world'"
      ]
     },
     "execution_count": 53,
     "metadata": {},
     "output_type": "execute_result"
    }
   ],
   "source": [
    "vector_store.get(\"id1\")"
   ]
  },
  {
   "cell_type": "markdown",
   "id": "aaeff1d2-a609-4b64-bc4d-9c491b189c51",
   "metadata": {},
   "source": [
    "### 3.a Defining `query` (semantic search)\n",
    "\n",
    "We implement a basic version of top-k semantic search. This simply iterates through all document embeddings, and compute cosine-similarity with the query embedding. The top-k documents by cosine similarity are returned.\n",
    "\n",
    "Cosine similarity: $\\dfrac{\\vec{d}\\vec{q}}{|\\vec{d}||\\vec{q}|}$ for every document, query embedding pair $\\vec{d}$, $\\vec{p}$.\n",
    "\n",
    "**NOTE**: The top-k value is contained in the `VectorStoreQuery` container.\n",
    "\n",
    "**NOTE**: Similar to the above, we define another subclass just so we don't have to reimplement the above functions (not because this is actually good code practice)."
   ]
  },
  {
   "cell_type": "code",
   "execution_count": null,
   "id": "4c3902ca-9463-4920-8d64-36a5ce0a3dcf",
   "metadata": {},
   "outputs": [],
   "source": [
    "def get_top_k_embeddings(\n",
    "    query_embedding: List[float],\n",
    "    doc_embeddings: List[List[float]],\n",
    "    doc_ids: List[str],\n",
    "    similarity_top_k: int = 5,\n",
    ") -> Tuple[List[float], List]:\n",
    "    \"\"\"Get top nodes by similarity to the query.\"\"\"\n",
    "    # dimensions: D\n",
    "    qembed_np = np.array(query_embedding)\n",
    "    # dimensions: N x D\n",
    "    dembed_np = np.array(doc_embeddings)\n",
    "    # dimensions: N\n",
    "    dproduct_arr = np.dot(dembed_np, qembed_np)\n",
    "    # dimensions: N\n",
    "    norm_arr = np.linalg.norm(qembed_np) * np.linalg.norm(dembed_np, axis=1, keepdims=False)\n",
    "    # dimensions: N\n",
    "    cos_sim_arr = product / norm\n",
    "\n",
    "    # now we have the N cosine similarities for each document\n",
    "    # sort by top k cosine similarity, and return ids\n",
    "    tups = [(cos_sim_arr[i], doc_ids[i]) for i in range(len(doc_ids))]\n",
    "    sorted_tups = sorted(tups, key=lambda t: t[0], reverse=True)\n",
    "\n",
    "    result_similarities = [s for s, _ in sorted_tups]\n",
    "    result_ids = [n for _, n in sorted_tups]\n",
    "    return result_similarities, result_ids"
   ]
  },
  {
   "cell_type": "code",
   "execution_count": null,
   "id": "c6e325ec-6108-4747-b0e7-00ee248d5ff7",
   "metadata": {},
   "outputs": [],
   "source": [
    "class VectorStore3A(VectorStore2):\n",
    "    \"\"\"Implements semantic/dense search.\"\"\"\n",
    "    def query(\n",
    "        self,\n",
    "        query: VectorStoreQuery,\n",
    "        **kwargs: Any,\n",
    "    ) -> VectorStoreQueryResult:\n",
    "        \"\"\"Get nodes for response.\"\"\"\n",
    "\n",
    "        query_embedding = cast(List[float], query.query_embedding)\n",
    "        doc_embeddings = [n.embedding for n in self.node_dict.values()]\n",
    "        doc_ids = [n.node_id for n in self.node_dict.values()]\n",
    "\n",
    "        get_top_k_embeddings(\n",
    "            query_embedding,\n",
    "            embeddings,\n",
    "            doc_ids,\n",
    "            similarity_top_k=query.similarity_top_k,\n",
    "        )"
   ]
  },
  {
   "cell_type": "markdown",
   "id": "c4ca6994-06d1-49b9-b1f9-e4bd9bcbe2f9",
   "metadata": {},
   "source": [
    "### 3.b. Supporting Metadata Filtering\n",
    "\n",
    "The next extension is adding metadata filter support. This means that we will first filter the candidate set with documents that pass the metadata filters, and then perform semantic querying.\n",
    "\n",
    "For simplicity we use metadata filters for exact matching with an AND condition."
   ]
  },
  {
   "cell_type": "code",
   "execution_count": null,
   "id": "57637533-efaf-43cd-bff2-cae428d6e507",
   "metadata": {},
   "outputs": [],
   "source": [
    "def filter_nodes(nodes: List[BaseNode], filters: MetadataFilters):\n",
    "    filtered_nodes = []\n",
    "    for node in nodes:\n",
    "        matches = True\n",
    "        for f in filters.filters:\n",
    "            if f.key not in node.metadata:\n",
    "                matches = False\n",
    "                continue\n",
    "            if f.val != node.metadata[f.key]:\n",
    "                matches = False\n",
    "                continue\n",
    "        if matches:\n",
    "            filtered_nodes.append(node)\n",
    "    return filtered_nodes"
   ]
  },
  {
   "cell_type": "code",
   "execution_count": null,
   "id": "77a0418c-fa51-423a-a04d-d5c3990713e0",
   "metadata": {},
   "outputs": [],
   "source": [
    "def dense_search(\n",
    "    query: VectorStoreQuery,\n",
    "    nodes: List[Node]\n",
    "):\n",
    "    \"\"\"Dense search.\"\"\"\n",
    "     # 2. Then perform semantic search\n",
    "    query_embedding = cast(List[float], query.query_embedding)\n",
    "    doc_embeddings = [n.embedding for n in nodes]\n",
    "    doc_ids = [n.node_id for n in nodes]\n",
    "    return get_top_k_embeddings(\n",
    "        query_embedding,\n",
    "        embeddings,\n",
    "        doc_ids,\n",
    "        similarity_top_k=query.similarity_top_k,\n",
    "    )\n",
    "\n",
    "\n",
    "class VectorStore3B(VectorStore2):\n",
    "    \"\"\"Implements Metadata Filtering.\"\"\"\n",
    "    \n",
    "    def query(\n",
    "        self,\n",
    "        query: VectorStoreQuery,\n",
    "        **kwargs: Any,\n",
    "    ) -> VectorStoreQueryResult:\n",
    "        \"\"\"Get nodes for response.\"\"\"\n",
    "        # 1. First filter by metadata\n",
    "        nodes = self.node_dict.values()\n",
    "        if query.filters is not None:\n",
    "            nodes = filter_nodes(\n",
    "                nodes,\n",
    "                query.filters\n",
    "            )\n",
    "    \n",
    "        # 2. Then perform semantic search\n",
    "        return dense_search(query, nodes)"
   ]
  },
  {
   "cell_type": "code",
   "execution_count": null,
   "id": "fd257746-872c-45d9-9370-3adad3a18d32",
   "metadata": {},
   "outputs": [],
   "source": [
    "!pip install rank_bm25"
   ]
  },
  {
   "cell_type": "code",
   "execution_count": null,
   "id": "a0381402-5db3-4947-871e-79ad5b990700",
   "metadata": {},
   "outputs": [],
   "source": [
    "\n",
    "class VectorStore3C(VectorStore2):\n",
    "    \"\"\"Implements keyword/sparse search.\"\"\"\n",
    "    \n",
    "    def query(\n",
    "        self,\n",
    "        query: VectorStoreQuery,\n",
    "        **kwargs: Any,\n",
    "    ) -> VectorStoreQueryResult:\n",
    "        \"\"\"Get nodes for response.\"\"\"\n",
    "        # 1. First filter by metadata\n",
    "        nodes = self.node_dict.values()\n",
    "        if query.filters is not None:\n",
    "            nodes = filter_nodes(\n",
    "                nodes,\n",
    "                query.filters\n",
    "            )\n",
    "\n",
    "        # do sparse search or dense search\n",
    "        if query.mode == \"dense\":\n",
    "            return dense_search(query, nodes)\n",
    "        elif query.mode == \"sparse\":\n",
    "            pass\n",
    "        else:\n",
    "            raise ValueError(\"not supported\")"
   ]
  },
  {
   "cell_type": "markdown",
   "id": "c632b32e-abf1-46a6-83bd-2f0d71bfacea",
   "metadata": {},
   "source": [
    "### 4. Load Data into our Vector Store\n",
    "\n",
    "Let's load our text chunks into the vector store, and run it on different types of queries: dense search, w/ metadata filters, and more."
   ]
  },
  {
   "cell_type": "code",
   "execution_count": null,
   "id": "3bffb6ca-824f-4ed0-acda-2d4230cb990f",
   "metadata": {},
   "outputs": [],
   "source": [
    "vector_store = VectorStore3B()\n",
    "# load data into the vector stores\n",
    "vector_store.add(nodes)"
   ]
  },
  {
   "cell_type": "markdown",
   "id": "454cb5ae-342b-43c1-9e13-27968971077d",
   "metadata": {},
   "source": [
    "Define an example question and embed it."
   ]
  },
  {
   "cell_type": "code",
   "execution_count": null,
   "id": "cd8f3f42-9f7e-493f-812a-fc1f91464da9",
   "metadata": {},
   "outputs": [],
   "source": [
    "query_str = \"Can you tell me about the key concepts for safety finetuning\"\n",
    "query_embedding = embed_model.get_query_embedding(query_str)"
   ]
  },
  {
   "cell_type": "markdown",
   "id": "0e8ffd63-6b7d-4722-b05e-1d8045114821",
   "metadata": {},
   "source": [
    "#### Query the vector store with dense search."
   ]
  },
  {
   "cell_type": "code",
   "execution_count": 57,
   "id": "c46802a8-2de8-45bf-bd45-384e73d6ae57",
   "metadata": {},
   "outputs": [
    {
     "ename": "NameError",
     "evalue": "name 'query_embedding' is not defined",
     "output_type": "error",
     "traceback": [
      "\u001b[0;31m---------------------------------------------------------------------------\u001b[0m",
      "\u001b[0;31mNameError\u001b[0m                                 Traceback (most recent call last)",
      "Cell \u001b[0;32mIn[57], line 2\u001b[0m\n\u001b[1;32m      1\u001b[0m query_obj \u001b[38;5;241m=\u001b[39m VectorStoreQuery(\n\u001b[0;32m----> 2\u001b[0m     query_embedding\u001b[38;5;241m=\u001b[39m\u001b[43mquery_embedding\u001b[49m,\n\u001b[1;32m      3\u001b[0m     similarity_top_k\u001b[38;5;241m=\u001b[39m\u001b[38;5;241m2\u001b[39m\n\u001b[1;32m      4\u001b[0m )\n\u001b[1;32m      6\u001b[0m query_result \u001b[38;5;241m=\u001b[39m vector_store\u001b[38;5;241m.\u001b[39mquery(query_obj)\n\u001b[1;32m      7\u001b[0m \u001b[38;5;28;01mfor\u001b[39;00m similarity, node \u001b[38;5;129;01min\u001b[39;00m \u001b[38;5;28mzip\u001b[39m(query_result\u001b[38;5;241m.\u001b[39msimilarities, query_result\u001b[38;5;241m.\u001b[39mnodes):\n",
      "\u001b[0;31mNameError\u001b[0m: name 'query_embedding' is not defined"
     ]
    }
   ],
   "source": [
    "query_obj = VectorStoreQuery(\n",
    "    query_embedding=query_embedding,\n",
    "    similarity_top_k=2\n",
    ")\n",
    "\n",
    "query_result = vector_store.query(query_obj)\n",
    "for similarity, node in zip(query_result.similarities, query_result.nodes):\n",
    "    print(f\"Similarity: {similarity}\")\n",
    "    print(f\"Node text: {node.get_contet()}\")"
   ]
  },
  {
   "cell_type": "markdown",
   "id": "bbb40f1a-b414-44b8-b16d-7942f57d3975",
   "metadata": {},
   "source": [
    "#### Query the vector store with dense search + Metadata Filters"
   ]
  },
  {
   "cell_type": "code",
   "execution_count": null,
   "id": "f2b02e55-39a0-4cfa-b14a-f35346e77364",
   "metadata": {},
   "outputs": [],
   "source": [
    "filters = MetadataFilters(\n",
    "    filters=[\n",
    "        ExactMatchFilter(key=\"page\", value=3)\n",
    "    ]\n",
    ")\n",
    "\n",
    "query_obj = VectorStoreQuery(\n",
    "    query_embedding=query_embedding,\n",
    "    similarity_top_k=2,\n",
    "    filters=filters\n",
    ")\n",
    "\n",
    "query_result = vector_store.query(query_obj)\n",
    "for similarity, node in zip(query_result.similarities, query_result.nodes):\n",
    "    print(f\"Similarity: {similarity}\")\n",
    "    print(f\"Node text: {node.get_contet()}\")"
   ]
  },
  {
   "cell_type": "markdown",
   "id": "97df839d-379e-4d19-a760-00998cf0e482",
   "metadata": {},
   "source": [
    "## Build a RAG System with the Vector Store\n",
    "\n",
    "Now that we've built the RAG system, it's time to plug it into our downstream system! "
   ]
  },
  {
   "cell_type": "code",
   "execution_count": null,
   "id": "fdd6b6b3-9942-464d-ba3b-6b5ddf6aedd8",
   "metadata": {},
   "outputs": [],
   "source": [
    "from llama_index import VectorStoreIndex"
   ]
  },
  {
   "cell_type": "code",
   "execution_count": null,
   "id": "e3354341-be69-43f0-8496-76fc32dad64e",
   "metadata": {},
   "outputs": [],
   "source": [
    "index = VectorStoreIndex.from_vector_store(vector_store)"
   ]
  },
  {
   "cell_type": "code",
   "execution_count": null,
   "id": "1619f80b-e407-42e0-9efe-46dcc80e8624",
   "metadata": {},
   "outputs": [],
   "source": [
    "query_engine = index.as_query_engine()"
   ]
  },
  {
   "cell_type": "code",
   "execution_count": null,
   "id": "13443687-d779-4542-a795-552b42cdf116",
   "metadata": {},
   "outputs": [],
   "source": [
    "query_str = \"Can you tell me about the key concepts for safety finetuning\""
   ]
  },
  {
   "cell_type": "code",
   "execution_count": null,
   "id": "1c0e7b03-65b4-4b16-923a-0f059388e4de",
   "metadata": {},
   "outputs": [],
   "source": [
    "response = query_engine.query(query_str)"
   ]
  },
  {
   "cell_type": "code",
   "execution_count": null,
   "id": "e0dd1457-732e-456c-9075-19ea256a63fb",
   "metadata": {},
   "outputs": [],
   "source": [
    "print(str(response))"
   ]
  },
  {
   "cell_type": "markdown",
   "id": "fe8647e5-2338-4a50-835e-a31e32118a5a",
   "metadata": {},
   "source": [
    "## Conclusion\n",
    "\n",
    "That's it! We've built a simple in-memory vector store that supports very simple inserts, gets, deletes, and supports dense search and metadata filtering. This can then be plugged into the rest of LlamaIndex abstractions.\n",
    "\n",
    "It doesn't support sparse search yet and is obviously not meant to be used in any sort of actual app. But this should expose some of what's going on under the hood! "
   ]
  }
 ],
 "metadata": {
  "kernelspec": {
   "display_name": "llama_index_v2",
   "language": "python",
   "name": "llama_index_v2"
  },
  "language_info": {
   "codemirror_mode": {
    "name": "ipython",
    "version": 3
   },
   "file_extension": ".py",
   "mimetype": "text/x-python",
   "name": "python",
   "nbconvert_exporter": "python",
   "pygments_lexer": "ipython3",
   "version": "3.10.10"
  }
 },
 "nbformat": 4,
 "nbformat_minor": 5
}
