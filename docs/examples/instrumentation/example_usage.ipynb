{
 "cells": [
  {
   "cell_type": "markdown",
   "id": "761a0ad3-7506-4073-bc2f-a46b91452e53",
   "metadata": {},
   "source": [
    "# Demo Usage of Instrumentation"
   ]
  },
  {
   "cell_type": "code",
   "execution_count": null,
   "id": "9692504e-51a2-4a58-86ae-5de5f5994966",
   "metadata": {},
   "outputs": [],
   "source": [
    "import nest_asyncio\n",
    "\n",
    "nest_asyncio.apply()"
   ]
  },
  {
   "cell_type": "markdown",
   "id": "3cb70687-c568-4991-b962-778b5edb3dbf",
   "metadata": {},
   "source": [
    "### Custom handlers"
   ]
  },
  {
   "cell_type": "code",
   "execution_count": null,
   "id": "8c4ec173-3dc9-49c6-b613-b4a9bf88871f",
   "metadata": {},
   "outputs": [],
   "source": [
    "from llama_index.core.instrumentation.event_handlers import BaseEventHandler\n",
    "from llama_index.core.instrumentation.span_handlers import SimpleSpanHandler"
   ]
  },
  {
   "cell_type": "code",
   "execution_count": null,
   "id": "d5e113aa-f507-4c4e-89a9-bfdc6dbf31ec",
   "metadata": {},
   "outputs": [],
   "source": [
    "class MyEventHandler(BaseEventHandler):\n",
    "    @classmethod\n",
    "    def class_name(cls) -> str:\n",
    "        \"\"\"Class name.\"\"\"\n",
    "        return \"MyEventHandler\"\n",
    "\n",
    "    def handle(self, event) -> None:\n",
    "        \"\"\"Logic for handling event.\"\"\"\n",
    "        print(event.class_name())\n",
    "        print(event.dict())\n",
    "        print(\"\")\n",
    "        with open(\"log.txt\", \"a\") as f:\n",
    "            f.write(str(event))\n",
    "            f.write(\"\\n\")"
   ]
  },
  {
   "cell_type": "markdown",
   "id": "9ab6d442-6d40-4a19-ac9b-1253ba00028e",
   "metadata": {},
   "source": [
    "### Dispatcher\n"
   ]
  },
  {
   "cell_type": "code",
   "execution_count": null,
   "id": "d3138230-2014-4030-9076-59f9d06c0b8d",
   "metadata": {},
   "outputs": [],
   "source": [
    "import llama_index.core.instrumentation as instrument\n",
    "\n",
    "dispatcher = instrument.get_dispatcher()  # modify root dispatcher"
   ]
  },
  {
   "cell_type": "code",
   "execution_count": null,
   "id": "8d65a394-e390-486b-b261-e2f318c4b9e1",
   "metadata": {},
   "outputs": [],
   "source": [
    "dispatcher.add_event_handler(MyEventHandler())\n",
    "dispatcher.span_handler = SimpleSpanHandler()"
   ]
  },
  {
   "cell_type": "code",
   "execution_count": null,
   "id": "77910c6a-c634-499f-8519-cad98179742e",
   "metadata": {},
   "outputs": [
    {
     "data": {
      "text/plain": [
       "Dispatcher(name='root', event_handlers=[NullEventHandler(), MyEventHandler()], span_handler=SimpleSpanHandler(open_spans={}, current_span_id=None, completed_spans=[]), parent_name='', manager=None, root_name='root', propagate=False)"
      ]
     },
     "execution_count": null,
     "metadata": {},
     "output_type": "execute_result"
    }
   ],
   "source": [
    "dispatcher"
   ]
  },
  {
   "cell_type": "code",
   "execution_count": null,
   "id": "bb3b145f-77b0-49dd-af88-adcdc2363c83",
   "metadata": {},
   "outputs": [],
   "source": [
    "qe_dispatcher = instrument.get_dispatcher(\"llama_index.core.base.query_engine\")"
   ]
  },
  {
   "cell_type": "code",
   "execution_count": null,
   "id": "5d66abf7-dfd9-4bbc-95b2-25068a76ab81",
   "metadata": {},
   "outputs": [
    {
     "data": {
      "text/plain": [
       "Dispatcher(name='llama_index.core.base.query_engine', event_handlers=[], span_handler=NullSpanHandler(open_spans={}, current_span_id=None), parent_name='root', manager=<llama_index.core.instrumentation.dispatcher.Manager object at 0x14ecaf010>, root_name='root', propagate=True)"
      ]
     },
     "execution_count": null,
     "metadata": {},
     "output_type": "execute_result"
    }
   ],
   "source": [
    "qe_dispatcher"
   ]
  },
  {
   "cell_type": "code",
   "execution_count": null,
   "id": "fe83cad8-5980-4250-9a75-36a12b9a2376",
   "metadata": {},
   "outputs": [
    {
     "data": {
      "text/plain": [
       "Dispatcher(name='root', event_handlers=[NullEventHandler(), MyEventHandler()], span_handler=SimpleSpanHandler(open_spans={}, current_span_id=None, completed_spans=[]), parent_name='', manager=None, root_name='root', propagate=False)"
      ]
     },
     "execution_count": null,
     "metadata": {},
     "output_type": "execute_result"
    }
   ],
   "source": [
    "qe_dispatcher.parent"
   ]
  },
  {
   "cell_type": "code",
   "execution_count": null,
   "id": "23cf980e-7f4c-4d49-a2e1-83fbeeac6ac2",
   "metadata": {},
   "outputs": [
    {
     "data": {
      "text/plain": [
       "Dispatcher(name='root', event_handlers=[NullEventHandler(), MyEventHandler()], span_handler=SimpleSpanHandler(open_spans={}, current_span_id=None, completed_spans=[]), parent_name='', manager=None, root_name='root', propagate=False)"
      ]
     },
     "execution_count": null,
     "metadata": {},
     "output_type": "execute_result"
    }
   ],
   "source": [
    "qe_dispatcher.root"
   ]
  },
  {
   "cell_type": "markdown",
   "id": "2ebcd2fa-84d7-459d-9d33-4d02f52c48df",
   "metadata": {},
   "source": [
    "### Test It Out"
   ]
  },
  {
   "cell_type": "code",
   "execution_count": null,
   "id": "a37cb9a7-d5fe-43a1-8da7-4aeae5f74846",
   "metadata": {},
   "outputs": [],
   "source": [
    "!mkdir -p 'data/paul_graham/'\n",
    "!wget 'https://raw.githubusercontent.com/run-llama/llama_index/main/docs/examples/data/paul_graham/paul_graham_essay.txt' -O 'data/paul_graham/paul_graham_essay.txt'"
   ]
  },
  {
   "cell_type": "code",
   "execution_count": null,
   "id": "f02f8dc5-18da-4e70-abed-614e0b98ce8c",
   "metadata": {},
   "outputs": [],
   "source": [
    "from llama_index.core import SimpleDirectoryReader, VectorStoreIndex\n",
    "\n",
    "documents = SimpleDirectoryReader(input_dir=\"./data/paul_graham\").load_data()\n",
    "index = VectorStoreIndex.from_documents(documents)"
   ]
  },
  {
   "cell_type": "code",
   "execution_count": null,
   "id": "a3de7479-e48e-42fd-8515-f04e1c314469",
   "metadata": {},
   "outputs": [],
   "source": [
    "query_engine = index.as_query_engine()"
   ]
  },
  {
   "cell_type": "code",
   "execution_count": null,
   "id": "5719b4d5-d50b-49bc-80ca-a1233817c64d",
   "metadata": {},
   "outputs": [
    {
     "name": "stdout",
     "output_type": "stream",
     "text": [
      "QueryStartEvent\n",
      "{'timestamp': datetime.datetime(2024, 3, 11, 23, 36, 55, 642720), 'id_': UUID('0e4ae477-d5c7-4372-a13f-aeb751529b0c')}\n",
      "\n",
      "RetrievalStartEvent\n",
      "{'timestamp': datetime.datetime(2024, 3, 11, 23, 36, 55, 643303), 'id_': UUID('680de99d-9df0-4f97-a39e-3e9aa48f63fd')}\n",
      "\n",
      "RetrievalEndEvent\n",
      "{'timestamp': datetime.datetime(2024, 3, 11, 23, 36, 55, 824882), 'id_': UUID('113b4318-3be3-4c40-8fd7-a3bf390dc2c8')}\n",
      "\n",
      "SynthesizeStartEvent\n",
      "{'timestamp': datetime.datetime(2024, 3, 11, 23, 36, 55, 825885), 'id_': UUID('752ff760-3932-44ee-89dd-60c48066b799')}\n",
      "\n",
      "GetResponseStartEvent\n",
      "{'timestamp': datetime.datetime(2024, 3, 11, 23, 36, 55, 830974), 'id_': UUID('6c5d5a47-449a-418f-be40-80c7d2d3fa43')}\n",
      "\n",
      "LLMPredictStartEvent\n",
      "{'timestamp': datetime.datetime(2024, 3, 11, 23, 36, 55, 833755), 'id_': UUID('dd8a7de1-9429-43d3-85aa-e54ff0f2a393')}\n",
      "\n",
      "LLMPredictEndEvent\n",
      "{'timestamp': datetime.datetime(2024, 3, 11, 23, 36, 57, 369601), 'id_': UUID('b14e9c88-886f-4984-ae32-61eb9b58b614')}\n",
      "\n",
      "GetResponseEndEvent\n",
      "{'timestamp': datetime.datetime(2024, 3, 11, 23, 36, 57, 370504), 'id_': UUID('7f185498-e01e-4385-8852-41374c3011f4')}\n",
      "\n",
      "SynthesizeEndEvent\n",
      "{'timestamp': datetime.datetime(2024, 3, 11, 23, 36, 57, 370849), 'id_': UUID('e2004df9-bb4b-4b9d-a2b3-e962ca39effd')}\n",
      "\n",
      "QueryEndEvent\n",
      "{'timestamp': datetime.datetime(2024, 3, 11, 23, 36, 57, 371129), 'id_': UUID('5d4cec26-d884-42ea-af87-d6b6df8cf872')}\n",
      "\n"
     ]
    }
   ],
   "source": [
    "query_result = query_engine.query(\"Who is Paul?\")"
   ]
  },
  {
   "cell_type": "code",
   "execution_count": null,
   "id": "6ac549a6-f10d-4b12-98b6-5352ab3c0df6",
   "metadata": {},
   "outputs": [
    {
     "data": {
      "text/plain": [
       "[SimpleSpan(id_='VectorIndexRetriever._retrieve-95ba7faa-bfd9-455a-b450-d0b4d28c017b', parent_id='BaseRetriever.retrieve-e7248f06-4c84-43ee-a8f7-e6ffdb6c593b', start_time=datetime.datetime(2024, 3, 11, 23, 35, 23, 410243), end_time=datetime.datetime(2024, 3, 11, 23, 35, 23, 566650), duration=0.156407),\n",
       " SimpleSpan(id_='BaseRetriever.retrieve-e7248f06-4c84-43ee-a8f7-e6ffdb6c593b', parent_id='RetrieverQueryEngine._query-0ec8d36d-2a63-49e6-8b67-009197c08611', start_time=datetime.datetime(2024, 3, 11, 23, 35, 23, 409762), end_time=datetime.datetime(2024, 3, 11, 23, 35, 23, 567814), duration=0.158052),\n",
       " SimpleSpan(id_='LLM.predict-044b5fcf-526a-412c-bd97-c5fb0186cb01', parent_id='Refine.get_response-844d1eb1-ceb6-4e8d-9be7-9d3693ff7c4a', start_time=datetime.datetime(2024, 3, 11, 23, 35, 23, 581012), end_time=datetime.datetime(2024, 3, 11, 23, 35, 25, 142056), duration=1.561044),\n",
       " SimpleSpan(id_='Refine.get_response-844d1eb1-ceb6-4e8d-9be7-9d3693ff7c4a', parent_id='CompactAndRefine.get_response-178cb243-84fa-4de3-8492-a6dc0c7707d5', start_time=datetime.datetime(2024, 3, 11, 23, 35, 23, 576065), end_time=datetime.datetime(2024, 3, 11, 23, 35, 25, 142538), duration=1.566473),\n",
       " SimpleSpan(id_='CompactAndRefine.get_response-178cb243-84fa-4de3-8492-a6dc0c7707d5', parent_id='BaseSynthesizer.synthesize-3c753f12-c704-40ff-9aab-340989e9cefd', start_time=datetime.datetime(2024, 3, 11, 23, 35, 23, 568498), end_time=datetime.datetime(2024, 3, 11, 23, 35, 25, 142567), duration=1.574069),\n",
       " SimpleSpan(id_='BaseSynthesizer.synthesize-3c753f12-c704-40ff-9aab-340989e9cefd', parent_id='RetrieverQueryEngine._query-0ec8d36d-2a63-49e6-8b67-009197c08611', start_time=datetime.datetime(2024, 3, 11, 23, 35, 23, 567903), end_time=datetime.datetime(2024, 3, 11, 23, 35, 25, 142877), duration=1.574974),\n",
       " SimpleSpan(id_='RetrieverQueryEngine._query-0ec8d36d-2a63-49e6-8b67-009197c08611', parent_id='BaseQueryEngine.query-f34796a6-bf6a-4a5b-9531-3eff3f807a2b', start_time=datetime.datetime(2024, 3, 11, 23, 35, 23, 409668), end_time=datetime.datetime(2024, 3, 11, 23, 35, 25, 142958), duration=1.73329),\n",
       " SimpleSpan(id_='BaseQueryEngine.query-f34796a6-bf6a-4a5b-9531-3eff3f807a2b', parent_id=None, start_time=datetime.datetime(2024, 3, 11, 23, 35, 23, 407364), end_time=datetime.datetime(2024, 3, 11, 23, 35, 25, 143213), duration=1.735849)]"
      ]
     },
     "execution_count": null,
     "metadata": {},
     "output_type": "execute_result"
    }
   ],
   "source": [
    "dispatcher.span_handler.completed_spans"
   ]
  },
  {
   "cell_type": "code",
   "execution_count": null,
   "id": "23e70e94-e116-4e00-b75d-d13a3b1c23d8",
   "metadata": {},
   "outputs": [
    {
     "name": "stdout",
     "output_type": "stream",
     "text": [
      "QueryStartEvent\n",
      "{'timestamp': datetime.datetime(2024, 3, 11, 23, 35, 28, 453426), 'id_': UUID('291b60ee-a057-4382-907e-0bda2880e2d7')}\n",
      "\n",
      "RetrievalStartEvent\n",
      "{'timestamp': datetime.datetime(2024, 3, 11, 23, 35, 28, 454258), 'id_': UUID('4f65ae0d-0d77-4603-b906-63c8253b05e8')}\n",
      "\n",
      "RetrievalEndEvent\n",
      "{'timestamp': datetime.datetime(2024, 3, 11, 23, 35, 28, 680748), 'id_': UUID('5b9adad3-ff6d-42f8-8fd3-28ea66a8e523')}\n",
      "\n",
      "SynthesizeStartEvent\n",
      "{'timestamp': datetime.datetime(2024, 3, 11, 23, 35, 28, 681447), 'id_': UUID('f6f2f015-bc87-41e6-8b42-46cfb87b39fa')}\n",
      "\n",
      "GetResponseStartEvent\n",
      "{'timestamp': datetime.datetime(2024, 3, 11, 23, 35, 28, 685544), 'id_': UUID('1106c2f7-151e-477b-86c8-559e7fbb9af0')}\n",
      "\n",
      "LLMPredictStartEvent\n",
      "{'timestamp': datetime.datetime(2024, 3, 11, 23, 35, 28, 689004), 'id_': UUID('d7d1618f-9651-47da-9644-cf9ec3b4e025')}\n",
      "\n",
      "LLMPredictEndEvent\n",
      "{'timestamp': datetime.datetime(2024, 3, 11, 23, 35, 29, 911658), 'id_': UUID('fd070268-65c5-465f-b9e8-a7d30f384b5e')}\n",
      "\n",
      "GetResponseEndEvent\n",
      "{'timestamp': datetime.datetime(2024, 3, 11, 23, 35, 29, 912485), 'id_': UUID('1ad0e96f-0c18-4103-b0fa-c431d7b08ba7')}\n",
      "\n",
      "SynthesizeEndEvent\n",
      "{'timestamp': datetime.datetime(2024, 3, 11, 23, 35, 29, 912829), 'id_': UUID('eb9c5219-f934-4b0b-a351-af892b4cea06')}\n",
      "\n",
      "QueryEndEvent\n",
      "{'timestamp': datetime.datetime(2024, 3, 11, 23, 35, 29, 913107), 'id_': UUID('9302254b-6a2d-4e5b-9ccc-77aa4615eec1')}\n",
      "\n"
     ]
    }
   ],
   "source": [
    "query_result = await query_engine.aquery(\"Who is Paul?\")"
   ]
  },
  {
   "cell_type": "code",
   "execution_count": null,
   "id": "286951aa-d121-4dfe-b6af-0562a708fdfb",
   "metadata": {},
   "outputs": [
    {
     "data": {
      "text/plain": [
       "[SimpleSpan(id_='VectorIndexRetriever._retrieve-95ba7faa-bfd9-455a-b450-d0b4d28c017b', parent_id='BaseRetriever.retrieve-e7248f06-4c84-43ee-a8f7-e6ffdb6c593b', start_time=datetime.datetime(2024, 3, 11, 23, 35, 23, 410243), end_time=datetime.datetime(2024, 3, 11, 23, 35, 23, 566650), duration=0.156407),\n",
       " SimpleSpan(id_='BaseRetriever.retrieve-e7248f06-4c84-43ee-a8f7-e6ffdb6c593b', parent_id='RetrieverQueryEngine._query-0ec8d36d-2a63-49e6-8b67-009197c08611', start_time=datetime.datetime(2024, 3, 11, 23, 35, 23, 409762), end_time=datetime.datetime(2024, 3, 11, 23, 35, 23, 567814), duration=0.158052),\n",
       " SimpleSpan(id_='LLM.predict-044b5fcf-526a-412c-bd97-c5fb0186cb01', parent_id='Refine.get_response-844d1eb1-ceb6-4e8d-9be7-9d3693ff7c4a', start_time=datetime.datetime(2024, 3, 11, 23, 35, 23, 581012), end_time=datetime.datetime(2024, 3, 11, 23, 35, 25, 142056), duration=1.561044),\n",
       " SimpleSpan(id_='Refine.get_response-844d1eb1-ceb6-4e8d-9be7-9d3693ff7c4a', parent_id='CompactAndRefine.get_response-178cb243-84fa-4de3-8492-a6dc0c7707d5', start_time=datetime.datetime(2024, 3, 11, 23, 35, 23, 576065), end_time=datetime.datetime(2024, 3, 11, 23, 35, 25, 142538), duration=1.566473),\n",
       " SimpleSpan(id_='CompactAndRefine.get_response-178cb243-84fa-4de3-8492-a6dc0c7707d5', parent_id='BaseSynthesizer.synthesize-3c753f12-c704-40ff-9aab-340989e9cefd', start_time=datetime.datetime(2024, 3, 11, 23, 35, 23, 568498), end_time=datetime.datetime(2024, 3, 11, 23, 35, 25, 142567), duration=1.574069),\n",
       " SimpleSpan(id_='BaseSynthesizer.synthesize-3c753f12-c704-40ff-9aab-340989e9cefd', parent_id='RetrieverQueryEngine._query-0ec8d36d-2a63-49e6-8b67-009197c08611', start_time=datetime.datetime(2024, 3, 11, 23, 35, 23, 567903), end_time=datetime.datetime(2024, 3, 11, 23, 35, 25, 142877), duration=1.574974),\n",
       " SimpleSpan(id_='RetrieverQueryEngine._query-0ec8d36d-2a63-49e6-8b67-009197c08611', parent_id='BaseQueryEngine.query-f34796a6-bf6a-4a5b-9531-3eff3f807a2b', start_time=datetime.datetime(2024, 3, 11, 23, 35, 23, 409668), end_time=datetime.datetime(2024, 3, 11, 23, 35, 25, 142958), duration=1.73329),\n",
       " SimpleSpan(id_='BaseQueryEngine.query-f34796a6-bf6a-4a5b-9531-3eff3f807a2b', parent_id=None, start_time=datetime.datetime(2024, 3, 11, 23, 35, 23, 407364), end_time=datetime.datetime(2024, 3, 11, 23, 35, 25, 143213), duration=1.735849),\n",
       " SimpleSpan(id_='VectorIndexRetriever._aretrieve-1c5bfc35-bc67-4689-b1e9-e4d41953b78e', parent_id='BaseRetriever.aretrieve-13640299-66db-48b5-96d0-4a7629bfda81', start_time=datetime.datetime(2024, 3, 11, 23, 35, 28, 454518), end_time=datetime.datetime(2024, 3, 11, 23, 35, 28, 680642), duration=0.226124),\n",
       " SimpleSpan(id_='BaseRetriever.aretrieve-13640299-66db-48b5-96d0-4a7629bfda81', parent_id='RetrieverQueryEngine._aquery-f558c38c-220d-40d7-a085-394c5320a3fd', start_time=datetime.datetime(2024, 3, 11, 23, 35, 28, 454244), end_time=datetime.datetime(2024, 3, 11, 23, 35, 28, 681375), duration=0.227131),\n",
       " SimpleSpan(id_='LLM.apredict-062f8d35-c69c-4d9e-9dc3-4aeef044acfb', parent_id='Refine.aget_response-22225368-74ae-4e56-9543-15bdef2274bc', start_time=datetime.datetime(2024, 3, 11, 23, 35, 28, 688983), end_time=datetime.datetime(2024, 3, 11, 23, 35, 29, 912407), duration=1.223424),\n",
       " SimpleSpan(id_='Refine.aget_response-22225368-74ae-4e56-9543-15bdef2274bc', parent_id='CompactAndRefine.aget_response-c66e4914-f55a-49e8-b9f9-d786d72cbebd', start_time=datetime.datetime(2024, 3, 11, 23, 35, 28, 685528), end_time=datetime.datetime(2024, 3, 11, 23, 35, 29, 912740), duration=1.227212),\n",
       " SimpleSpan(id_='CompactAndRefine.aget_response-c66e4914-f55a-49e8-b9f9-d786d72cbebd', parent_id='BaseSynthesizer.asynthesize-0d235e62-d673-47cd-a0e2-e099434b53f6', start_time=datetime.datetime(2024, 3, 11, 23, 35, 28, 681713), end_time=datetime.datetime(2024, 3, 11, 23, 35, 29, 912760), duration=1.231047),\n",
       " SimpleSpan(id_='BaseSynthesizer.asynthesize-0d235e62-d673-47cd-a0e2-e099434b53f6', parent_id='RetrieverQueryEngine._aquery-f558c38c-220d-40d7-a085-394c5320a3fd', start_time=datetime.datetime(2024, 3, 11, 23, 35, 28, 681431), end_time=datetime.datetime(2024, 3, 11, 23, 35, 29, 913036), duration=1.231605),\n",
       " SimpleSpan(id_='RetrieverQueryEngine._aquery-f558c38c-220d-40d7-a085-394c5320a3fd', parent_id='BaseQueryEngine.aquery-e90ded0f-3863-4046-bbca-d7c912d80103', start_time=datetime.datetime(2024, 3, 11, 23, 35, 28, 454193), end_time=datetime.datetime(2024, 3, 11, 23, 35, 29, 913086), duration=1.458893),\n",
       " SimpleSpan(id_='BaseQueryEngine.aquery-e90ded0f-3863-4046-bbca-d7c912d80103', parent_id=None, start_time=datetime.datetime(2024, 3, 11, 23, 35, 28, 453403), end_time=datetime.datetime(2024, 3, 11, 23, 35, 29, 913298), duration=1.459895)]"
      ]
     },
     "execution_count": null,
     "metadata": {},
     "output_type": "execute_result"
    }
   ],
   "source": [
    "dispatcher.span_handler.completed_spans"
   ]
  },
  {
   "cell_type": "markdown",
   "id": "c9757b0b-62c7-42c6-abf9-90d9f920696e",
   "metadata": {},
   "source": [
    "### Stream Chat"
   ]
  },
  {
   "cell_type": "code",
   "execution_count": null,
   "id": "fef4f47b-291a-4878-81e0-bef7cb5299e4",
   "metadata": {},
   "outputs": [],
   "source": [
    "chat_engine = index.as_chat_engine()"
   ]
  },
  {
   "cell_type": "code",
   "execution_count": null,
   "id": "821147ba-f076-4786-9b1a-15522936beef",
   "metadata": {},
   "outputs": [],
   "source": [
    "# response = chat_engine.chat(\"Tell me a joke.\")"
   ]
  },
  {
   "cell_type": "code",
   "execution_count": null,
   "id": "7e590a49-3251-4349-a895-db9597a73b40",
   "metadata": {},
   "outputs": [],
   "source": [
    "dispatcher.span_handler = SimpleSpanHandler()"
   ]
  },
  {
   "cell_type": "code",
   "execution_count": null,
   "id": "491e0962-d49d-428f-b861-b9883e1708fc",
   "metadata": {},
   "outputs": [
    {
     "name": "stdout",
     "output_type": "stream",
     "text": [
      "AgentChatWithStepStartEvent\n",
      "{'timestamp': datetime.datetime(2024, 3, 11, 23, 43, 34, 693024), 'id_': UUID('276d37f1-cfd6-44c6-9d4b-37d027e13252')}\n",
      "\n",
      "AgentRunStepStartEvent\n",
      "{'timestamp': datetime.datetime(2024, 3, 11, 23, 43, 34, 694414), 'id_': UUID('4a0207bb-6306-4a1e-bdb3-869292a4ea8f')}\n",
      "\n",
      "StreamChatStartEvent\n",
      "{'timestamp': datetime.datetime(2024, 3, 11, 23, 43, 34, 716621), 'id_': UUID('53ca9883-96df-43f1-b4aa-6b165485e761')}\n",
      "\n",
      "StreamChatEndEvent\n",
      "{'timestamp': datetime.datetime(2024, 3, 11, 23, 43, 36, 468939), 'id_': UUID('8f832edd-52ec-4b09-9c7d-4eb836c1e19e')}\n",
      "\n",
      "AgentToolCallEvent\n",
      "{'timestamp': datetime.datetime(2024, 3, 11, 23, 43, 36, 470351), 'id_': UUID('91e40227-aea2-447e-bcfa-0aff5b6f0cf9'), 'arguments': '{\"input\":\"Tell me a joke\"}', 'tool': ToolMetadata(description='Useful for running a natural language query\\nagainst a knowledge base and get back a natural language response.\\n', name='query_engine_tool', fn_schema=<class 'llama_index.core.tools.types.DefaultToolFnSchema'>)}\n",
      "\n",
      "QueryStartEvent\n",
      "{'timestamp': datetime.datetime(2024, 3, 11, 23, 43, 36, 470798), 'id_': UUID('b579b05a-fdca-4972-b3e6-5a472a1ae4b1')}\n",
      "\n",
      "RetrievalStartEvent\n",
      "{'timestamp': datetime.datetime(2024, 3, 11, 23, 43, 36, 471071), 'id_': UUID('4063158d-0dab-4ae6-8d9e-83cb93eac5bf')}\n",
      "\n",
      "RetrievalEndEvent\n",
      "{'timestamp': datetime.datetime(2024, 3, 11, 23, 43, 36, 687788), 'id_': UUID('a4edd218-ff63-4579-9c22-921a8972f487')}\n",
      "\n",
      "SynthesizeStartEvent\n",
      "{'timestamp': datetime.datetime(2024, 3, 11, 23, 43, 36, 689145), 'id_': UUID('dd05a818-73c3-4789-a6da-5262c687ee77')}\n",
      "\n",
      "GetResponseStartEvent\n",
      "{'timestamp': datetime.datetime(2024, 3, 11, 23, 43, 36, 697701), 'id_': UUID('064777d2-c579-473a-84fd-9f1c5f97b3fd')}\n",
      "\n",
      "LLMPredictStartEvent\n",
      "{'timestamp': datetime.datetime(2024, 3, 11, 23, 43, 36, 700901), 'id_': UUID('a6b17f59-36be-484d-a110-e0185a5ecc4f')}\n",
      "\n",
      "LLMPredictEndEvent\n",
      "{'timestamp': datetime.datetime(2024, 3, 11, 23, 43, 37, 882217), 'id_': UUID('5314bd86-8c53-4752-9770-b22f202e66b3')}\n",
      "\n",
      "GetResponseEndEvent\n",
      "{'timestamp': datetime.datetime(2024, 3, 11, 23, 43, 37, 883557), 'id_': UUID('fa44bea4-1995-4329-b1d3-8d74038eac51')}\n",
      "\n",
      "SynthesizeEndEvent\n",
      "{'timestamp': datetime.datetime(2024, 3, 11, 23, 43, 37, 883938), 'id_': UUID('39c114d7-615c-49cd-86e7-683c1457187a')}\n",
      "\n",
      "QueryEndEvent\n",
      "{'timestamp': datetime.datetime(2024, 3, 11, 23, 43, 37, 884314), 'id_': UUID('6f381fea-7da5-4252-9b82-f17f68034c64')}\n",
      "\n",
      "AgentRunStepEndEvent\n",
      "{'timestamp': datetime.datetime(2024, 3, 11, 23, 43, 37, 885006), 'id_': UUID('5f685c54-d603-41da-8f92-82664f1dfb0a')}\n",
      "\n",
      "AgentRunStepStartEvent\n",
      "{'timestamp': datetime.datetime(2024, 3, 11, 23, 43, 37, 885323), 'id_': UUID('95a3a5c9-5639-4637-83b8-387d08cfc80a')}\n",
      "\n",
      "StreamChatStartEvent\n",
      "{'timestamp': datetime.datetime(2024, 3, 11, 23, 43, 37, 886771), 'id_': UUID('d4cea831-1a9a-452f-aecb-cb4930d97079')}\n",
      "\n",
      "ChatDeltaReceivedEvent\n",
      "{'timestamp': datetime.datetime(2024, 3, 11, 23, 43, 38, 218896), 'id_': UUID('4bc5bb9d-9fda-475d-aba1-18478c5a2654'), 'delta': 'Why'}\n",
      "\n",
      "ChatDeltaReceivedEvent\n",
      "{'timestamp': datetime.datetime(2024, 3, 11, 23, 43, 38, 220643), 'id_': UUID('88f1802d-1dac-4c5e-83bb-3d32916aee19'), 'delta': ' did'}\n",
      "\n",
      "AgentRunStepEndEvent\n",
      "{'timestamp': datetime.datetime(2024, 3, 11, 23, 43, 38, 220914), 'id_': UUID('844ceb92-8b5d-4f70-b05a-6214093d41c3')}\n",
      "\n",
      "AgentChatWithStepEndEvent\n",
      "{'timestamp': datetime.datetime(2024, 3, 11, 23, 43, 38, 221336), 'id_': UUID('8db339d1-7ee3-490d-ae42-b7d638df9ec3')}\n",
      "\n",
      "ChatDeltaReceivedEvent\n",
      "{'timestamp': datetime.datetime(2024, 3, 11, 23, 43, 38, 253010), 'id_': UUID('9b5ed849-3ca5-4873-9cfc-0041ed88e592'), 'delta': ' the'}\n",
      "\n",
      "ChatDeltaReceivedEvent\n",
      "{'timestamp': datetime.datetime(2024, 3, 11, 23, 43, 38, 254016), 'id_': UUID('28f21039-a135-46b9-9f91-521ba00238fc'), 'delta': ' computer'}\n",
      "\n",
      "ChatDeltaReceivedEvent\n",
      "{'timestamp': datetime.datetime(2024, 3, 11, 23, 43, 38, 289524), 'id_': UUID('d84fd6e8-a8a5-4fc9-bbf5-365e35b0047c'), 'delta': ' keep'}\n",
      "\n",
      "ChatDeltaReceivedEvent\n",
      "{'timestamp': datetime.datetime(2024, 3, 11, 23, 43, 38, 290946), 'id_': UUID('eb8f4591-3089-4de7-8959-6dc300c6e87e'), 'delta': ' its'}\n",
      "\n",
      "ChatDeltaReceivedEvent\n",
      "{'timestamp': datetime.datetime(2024, 3, 11, 23, 43, 38, 313118), 'id_': UUID('21e40db7-bb9f-4ab0-9987-54e875bfdff0'), 'delta': ' drinks'}\n",
      "\n",
      "ChatDeltaReceivedEvent\n",
      "{'timestamp': datetime.datetime(2024, 3, 11, 23, 43, 38, 313728), 'id_': UUID('240d8e0b-9216-49e8-92ed-78269c6dc3e3'), 'delta': ' on'}\n",
      "\n",
      "ChatDeltaReceivedEvent\n",
      "{'timestamp': datetime.datetime(2024, 3, 11, 23, 43, 38, 373324), 'id_': UUID('1192e862-7c53-416f-af85-a352b2b42b90'), 'delta': ' the'}\n",
      "\n",
      "ChatDeltaReceivedEvent\n",
      "{'timestamp': datetime.datetime(2024, 3, 11, 23, 43, 38, 374037), 'id_': UUID('1cf8c0b8-02eb-4ac1-92f4-46fff0097fc3'), 'delta': ' mouse'}\n",
      "\n",
      "ChatDeltaReceivedEvent\n",
      "{'timestamp': datetime.datetime(2024, 3, 11, 23, 43, 38, 382927), 'id_': UUID('5212de15-abe7-41ab-b3b2-36b8e35742ba'), 'delta': ' pad'}\n",
      "\n",
      "ChatDeltaReceivedEvent\n",
      "{'timestamp': datetime.datetime(2024, 3, 11, 23, 43, 38, 383631), 'id_': UUID('74a7e1fe-61db-4ee4-993e-b3b817061679'), 'delta': '?'}\n",
      "\n",
      "ChatDeltaReceivedEvent\n",
      "{'timestamp': datetime.datetime(2024, 3, 11, 23, 43, 38, 416431), 'id_': UUID('b90d039d-88e9-49e8-b83e-cfb9367d1edd'), 'delta': ' Because'}\n",
      "\n",
      "ChatDeltaReceivedEvent\n",
      "{'timestamp': datetime.datetime(2024, 3, 11, 23, 43, 38, 417612), 'id_': UUID('6826a290-af1a-4b5e-be75-56fe73815ecc'), 'delta': ' it'}\n",
      "\n",
      "ChatDeltaReceivedEvent\n",
      "{'timestamp': datetime.datetime(2024, 3, 11, 23, 43, 38, 470537), 'id_': UUID('68ebb087-d707-40cc-98fc-e8f5b6933f96'), 'delta': ' was'}\n",
      "\n",
      "ChatDeltaReceivedEvent\n",
      "{'timestamp': datetime.datetime(2024, 3, 11, 23, 43, 38, 472722), 'id_': UUID('0a90a92e-dfbe-4bc7-aff9-bd19c27d2e3d'), 'delta': ' afraid'}\n",
      "\n",
      "ChatDeltaReceivedEvent\n",
      "{'timestamp': datetime.datetime(2024, 3, 11, 23, 43, 38, 474094), 'id_': UUID('5dce6a6c-4c45-47ef-b4e0-639cee04c0e0'), 'delta': ' of'}\n",
      "\n",
      "ChatDeltaReceivedEvent\n",
      "{'timestamp': datetime.datetime(2024, 3, 11, 23, 43, 38, 475071), 'id_': UUID('0118d3eb-66fb-4e06-b087-d8e75176cca2'), 'delta': ' sp'}\n",
      "\n",
      "ChatDeltaReceivedEvent\n",
      "{'timestamp': datetime.datetime(2024, 3, 11, 23, 43, 38, 487327), 'id_': UUID('f2ab658a-2c08-4e25-a43e-c4dfcd90b576'), 'delta': 'illing'}\n",
      "\n",
      "ChatDeltaReceivedEvent\n",
      "{'timestamp': datetime.datetime(2024, 3, 11, 23, 43, 38, 488941), 'id_': UUID('e63b9286-3913-46fc-a396-644563b6c7fb'), 'delta': ' them'}\n",
      "\n",
      "ChatDeltaReceivedEvent\n",
      "{'timestamp': datetime.datetime(2024, 3, 11, 23, 43, 38, 519684), 'id_': UUID('5f82bcbc-e3da-4452-94ac-6f9daf2ce6cd'), 'delta': ' on'}\n",
      "\n",
      "ChatDeltaReceivedEvent\n",
      "{'timestamp': datetime.datetime(2024, 3, 11, 23, 43, 38, 521690), 'id_': UUID('de202d05-be31-4c38-b7c8-feeb65e027f2'), 'delta': ' the'}\n",
      "\n",
      "ChatDeltaReceivedEvent\n",
      "{'timestamp': datetime.datetime(2024, 3, 11, 23, 43, 38, 548859), 'id_': UUID('f58bd977-1b7f-4cab-bfe8-0a3634f423f8'), 'delta': ' hard'}\n",
      "\n",
      "ChatDeltaReceivedEvent\n",
      "{'timestamp': datetime.datetime(2024, 3, 11, 23, 43, 38, 549834), 'id_': UUID('c61dd4c2-434f-4f0f-a931-3d9bbf1dbfa9'), 'delta': ' drive'}\n",
      "\n",
      "ChatDeltaReceivedEvent\n",
      "{'timestamp': datetime.datetime(2024, 3, 11, 23, 43, 38, 568161), 'id_': UUID('7bee941e-3ed3-41a7-ba23-1f8dd14d8925'), 'delta': '!'}\n",
      "\n",
      "ChatDeltaReceivedEvent\n",
      "{'timestamp': datetime.datetime(2024, 3, 11, 23, 43, 38, 569069), 'id_': UUID('671679eb-522f-4b4b-a460-d05c3685b0fe'), 'delta': ' 😄'}\n",
      "\n",
      "StreamChatEndEvent\n",
      "{'timestamp': datetime.datetime(2024, 3, 11, 23, 43, 38, 571240), 'id_': UUID('cd663221-5c5d-4cf8-b063-b4c2340fe472')}\n",
      "\n"
     ]
    }
   ],
   "source": [
    "streaming_response = chat_engine.stream_chat(\"Tell me a joke.\")"
   ]
  },
  {
   "cell_type": "code",
   "execution_count": null,
   "id": "27e4c33f-ee90-4716-8dc9-2ed22edd5197",
   "metadata": {},
   "outputs": [
    {
     "name": "stdout",
     "output_type": "stream",
     "text": [
      "Why did the computer keep its drinks on the mouse pad? Because it was afraid of spilling them on the hard drive! 😄"
     ]
    }
   ],
   "source": [
    "for token in streaming_response.response_gen:\n",
    "    print(token, end=\"\")"
   ]
  },
  {
   "cell_type": "markdown",
   "id": "4bc1ef8f-caff-481b-b764-c12d1c32c6f0",
   "metadata": {},
   "source": [
    "### Very Primitive Tree Viz"
   ]
  },
  {
   "cell_type": "code",
   "execution_count": null,
   "id": "6e7a88eb-8ed3-482a-9a70-ce332b2f7e15",
   "metadata": {},
   "outputs": [],
   "source": [
    "# %pip install treelib -q"
   ]
  },
  {
   "cell_type": "code",
   "execution_count": null,
   "id": "efd1c91d-4ef7-4d26-a569-6ef8d11fc043",
   "metadata": {},
   "outputs": [],
   "source": [
    "from treelib import Node, Tree\n",
    "\n",
    "tree = Tree()"
   ]
  },
  {
   "cell_type": "code",
   "execution_count": null,
   "id": "f2cd008f-8361-47bd-b4a2-251d9245e611",
   "metadata": {},
   "outputs": [],
   "source": [
    "sorted_spans = sorted(\n",
    "    dispatcher.span_handler.completed_spans, key=lambda x: x.start_time\n",
    ")"
   ]
  },
  {
   "cell_type": "code",
   "execution_count": null,
   "id": "f39ece99-5eac-466c-a9ca-caee4bf4dabc",
   "metadata": {},
   "outputs": [
    {
     "data": {
      "text/plain": [
       "[SimpleSpan(id_='AgentRunner.stream_chat-f4c8770d-986f-4eaf-b4b7-4fa321a1ee98', parent_id=None, start_time=datetime.datetime(2024, 3, 11, 23, 43, 34, 692304), end_time=datetime.datetime(2024, 3, 11, 23, 43, 38, 221564), duration=3.52926),\n",
       " SimpleSpan(id_='AgentRunner._chat-81e3602a-db20-49f9-8b81-7f3b2686de90', parent_id='AgentRunner.stream_chat-f4c8770d-986f-4eaf-b4b7-4fa321a1ee98', start_time=datetime.datetime(2024, 3, 11, 23, 43, 34, 692829), end_time=datetime.datetime(2024, 3, 11, 23, 43, 38, 221534), duration=3.528705),\n",
       " SimpleSpan(id_='AgentRunner._run_step-af81c594-3b7c-4dbf-b880-c459b09f4940', parent_id='AgentRunner._chat-81e3602a-db20-49f9-8b81-7f3b2686de90', start_time=datetime.datetime(2024, 3, 11, 23, 43, 34, 694394), end_time=datetime.datetime(2024, 3, 11, 23, 43, 37, 885212), duration=3.190818),\n",
       " SimpleSpan(id_='OpenAIAgentWorker._run_step-ea675cc1-ca7c-46bd-a992-5a1901f9675f', parent_id='AgentRunner._run_step-af81c594-3b7c-4dbf-b880-c459b09f4940', start_time=datetime.datetime(2024, 3, 11, 23, 43, 34, 694918), end_time=datetime.datetime(2024, 3, 11, 23, 43, 37, 884947), duration=3.190029),\n",
       " SimpleSpan(id_='StreamingAgentChatResponse.write_response_to_history-d7b7f879-5655-4edb-9fdd-df3e15eff203', parent_id='OpenAIAgentWorker._run_step-ea675cc1-ca7c-46bd-a992-5a1901f9675f', start_time=datetime.datetime(2024, 3, 11, 23, 43, 34, 716598), end_time=datetime.datetime(2024, 3, 11, 23, 43, 36, 470066), duration=1.753468),\n",
       " SimpleSpan(id_='OpenAIAgentWorker._call_function-dd940056-29e1-4f8f-8a65-5f61d2c02cff', parent_id='OpenAIAgentWorker._run_step-ea675cc1-ca7c-46bd-a992-5a1901f9675f', start_time=datetime.datetime(2024, 3, 11, 23, 43, 36, 470327), end_time=datetime.datetime(2024, 3, 11, 23, 43, 37, 884789), duration=1.414462),\n",
       " SimpleSpan(id_='call_function-dc136ca5-00f7-4e8c-9ebc-e2c09af76e3f', parent_id='OpenAIAgentWorker._call_function-dd940056-29e1-4f8f-8a65-5f61d2c02cff', start_time=datetime.datetime(2024, 3, 11, 23, 43, 36, 470715), end_time=datetime.datetime(2024, 3, 11, 23, 43, 37, 884722), duration=1.414007),\n",
       " SimpleSpan(id_='BaseQueryEngine.query-5b755a67-8e66-4ecd-bea9-7b381dc7252a', parent_id='call_function-dc136ca5-00f7-4e8c-9ebc-e2c09af76e3f', start_time=datetime.datetime(2024, 3, 11, 23, 43, 36, 470783), end_time=datetime.datetime(2024, 3, 11, 23, 43, 37, 884572), duration=1.413789),\n",
       " SimpleSpan(id_='RetrieverQueryEngine._query-36a0b700-6f12-42a8-b1b2-ec74bcccda07', parent_id='BaseQueryEngine.query-5b755a67-8e66-4ecd-bea9-7b381dc7252a', start_time=datetime.datetime(2024, 3, 11, 23, 43, 36, 471019), end_time=datetime.datetime(2024, 3, 11, 23, 43, 37, 884287), duration=1.413268),\n",
       " SimpleSpan(id_='BaseRetriever.retrieve-66ff356d-e8f5-4dbe-afcf-302cc564602d', parent_id='RetrieverQueryEngine._query-36a0b700-6f12-42a8-b1b2-ec74bcccda07', start_time=datetime.datetime(2024, 3, 11, 23, 43, 36, 471057), end_time=datetime.datetime(2024, 3, 11, 23, 43, 36, 688987), duration=0.21793),\n",
       " SimpleSpan(id_='VectorIndexRetriever._retrieve-c038a619-d54e-4917-8d90-1d360f26d199', parent_id='BaseRetriever.retrieve-66ff356d-e8f5-4dbe-afcf-302cc564602d', start_time=datetime.datetime(2024, 3, 11, 23, 43, 36, 471276), end_time=datetime.datetime(2024, 3, 11, 23, 43, 36, 687526), duration=0.21625),\n",
       " SimpleSpan(id_='BaseSynthesizer.synthesize-e534699f-d7f7-450d-9723-606715600224', parent_id='RetrieverQueryEngine._query-36a0b700-6f12-42a8-b1b2-ec74bcccda07', start_time=datetime.datetime(2024, 3, 11, 23, 43, 36, 689105), end_time=datetime.datetime(2024, 3, 11, 23, 43, 37, 884197), duration=1.195092),\n",
       " SimpleSpan(id_='CompactAndRefine.get_response-94b84bb1-5c31-477f-b72e-9076ff831f38', parent_id='BaseSynthesizer.synthesize-e534699f-d7f7-450d-9723-606715600224', start_time=datetime.datetime(2024, 3, 11, 23, 43, 36, 690175), end_time=datetime.datetime(2024, 3, 11, 23, 43, 37, 883863), duration=1.193688),\n",
       " SimpleSpan(id_='Refine.get_response-724f6d2a-916d-4903-be0b-09d9c31178b2', parent_id='CompactAndRefine.get_response-94b84bb1-5c31-477f-b72e-9076ff831f38', start_time=datetime.datetime(2024, 3, 11, 23, 43, 36, 697668), end_time=datetime.datetime(2024, 3, 11, 23, 43, 37, 883839), duration=1.186171),\n",
       " SimpleSpan(id_='LLM.predict-a07b87f8-cfd5-4a83-8207-60ee6e8e7aa9', parent_id='Refine.get_response-724f6d2a-916d-4903-be0b-09d9c31178b2', start_time=datetime.datetime(2024, 3, 11, 23, 43, 36, 700885), end_time=datetime.datetime(2024, 3, 11, 23, 43, 37, 883474), duration=1.182589),\n",
       " SimpleSpan(id_='AgentRunner._run_step-4895d750-df5e-44e3-b217-a9680db85d45', parent_id='AgentRunner._chat-81e3602a-db20-49f9-8b81-7f3b2686de90', start_time=datetime.datetime(2024, 3, 11, 23, 43, 37, 885302), end_time=datetime.datetime(2024, 3, 11, 23, 43, 38, 221300), duration=0.335998),\n",
       " SimpleSpan(id_='OpenAIAgentWorker._run_step-3d7eefb4-62f8-48b0-aaf6-79c01659df98', parent_id='AgentRunner._run_step-4895d750-df5e-44e3-b217-a9680db85d45', start_time=datetime.datetime(2024, 3, 11, 23, 43, 37, 885602), end_time=datetime.datetime(2024, 3, 11, 23, 43, 38, 220854), duration=0.335252),\n",
       " SimpleSpan(id_='StreamingAgentChatResponse.write_response_to_history-48523ace-293f-4313-ac45-cccd7251cda7', parent_id='OpenAIAgentWorker._run_step-3d7eefb4-62f8-48b0-aaf6-79c01659df98', start_time=datetime.datetime(2024, 3, 11, 23, 43, 37, 886744), end_time=datetime.datetime(2024, 3, 11, 23, 43, 38, 571988), duration=0.685244)]"
      ]
     },
     "execution_count": null,
     "metadata": {},
     "output_type": "execute_result"
    }
   ],
   "source": [
    "sorted_spans"
   ]
  },
  {
   "cell_type": "code",
   "execution_count": null,
   "id": "ec09a7a7-1e61-4842-8d73-27eab47b50e6",
   "metadata": {},
   "outputs": [],
   "source": [
    "for span in sorted_spans:\n",
    "    tree.create_node(\n",
    "        tag=f\"{span.id_} ({span.duration})\",\n",
    "        identifier=span.id_,\n",
    "        parent=span.parent_id,\n",
    "        data=span.start_time,\n",
    "    )"
   ]
  },
  {
   "cell_type": "code",
   "execution_count": null,
   "id": "ef11d194-3ecd-45c9-8ad9-bc0c8ef8f6b2",
   "metadata": {},
   "outputs": [
    {
     "name": "stdout",
     "output_type": "stream",
     "text": [
      "AgentRunner.stream_chat-f4c8770d-986f-4eaf-b4b7-4fa321a1ee98 (3.52926)\n",
      "└── AgentRunner._chat-81e3602a-db20-49f9-8b81-7f3b2686de90 (3.528705)\n",
      "    ├── AgentRunner._run_step-af81c594-3b7c-4dbf-b880-c459b09f4940 (3.190818)\n",
      "    │   └── OpenAIAgentWorker._run_step-ea675cc1-ca7c-46bd-a992-5a1901f9675f (3.190029)\n",
      "    │       ├── StreamingAgentChatResponse.write_response_to_history-d7b7f879-5655-4edb-9fdd-df3e15eff203 (1.753468)\n",
      "    │       └── OpenAIAgentWorker._call_function-dd940056-29e1-4f8f-8a65-5f61d2c02cff (1.414462)\n",
      "    │           └── call_function-dc136ca5-00f7-4e8c-9ebc-e2c09af76e3f (1.414007)\n",
      "    │               └── BaseQueryEngine.query-5b755a67-8e66-4ecd-bea9-7b381dc7252a (1.413789)\n",
      "    │                   └── RetrieverQueryEngine._query-36a0b700-6f12-42a8-b1b2-ec74bcccda07 (1.413268)\n",
      "    │                       ├── BaseRetriever.retrieve-66ff356d-e8f5-4dbe-afcf-302cc564602d (0.21793)\n",
      "    │                       │   └── VectorIndexRetriever._retrieve-c038a619-d54e-4917-8d90-1d360f26d199 (0.21625)\n",
      "    │                       └── BaseSynthesizer.synthesize-e534699f-d7f7-450d-9723-606715600224 (1.195092)\n",
      "    │                           └── CompactAndRefine.get_response-94b84bb1-5c31-477f-b72e-9076ff831f38 (1.193688)\n",
      "    │                               └── Refine.get_response-724f6d2a-916d-4903-be0b-09d9c31178b2 (1.186171)\n",
      "    │                                   └── LLM.predict-a07b87f8-cfd5-4a83-8207-60ee6e8e7aa9 (1.182589)\n",
      "    └── AgentRunner._run_step-4895d750-df5e-44e3-b217-a9680db85d45 (0.335998)\n",
      "        └── OpenAIAgentWorker._run_step-3d7eefb4-62f8-48b0-aaf6-79c01659df98 (0.335252)\n",
      "            └── StreamingAgentChatResponse.write_response_to_history-48523ace-293f-4313-ac45-cccd7251cda7 (0.685244)\n",
      "\n"
     ]
    }
   ],
   "source": [
    "print(tree.show(stdout=False, sorting=True, key=lambda node: node.data))"
   ]
  }
 ],
 "metadata": {
  "kernelspec": {
   "display_name": "fork-llama-index-core",
   "language": "python",
   "name": "fork-llama-index-core"
  },
  "language_info": {
   "codemirror_mode": {
    "name": "ipython",
    "version": 3
   },
   "file_extension": ".py",
   "mimetype": "text/x-python",
   "name": "python",
   "nbconvert_exporter": "python",
   "pygments_lexer": "ipython3"
  }
 },
 "nbformat": 4,
 "nbformat_minor": 5
}
