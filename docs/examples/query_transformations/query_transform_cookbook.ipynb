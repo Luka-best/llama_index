{
 "cells": [
  {
   "cell_type": "markdown",
   "id": "331f5d8c-3041-4d69-a957-93a79b335562",
   "metadata": {},
   "source": [
    "# Query Transform and Routing Cookbook \n",
    "\n",
    "A user query can be transformed and decomposed in many ways before being executed as part of a RAG query engine, agent, or any other pipeline.\n",
    "\n",
    "In this guide we show you different ways to transform, decompose, and rewrite queries. Each technique might be applicable for different use cases!\n",
    "\n",
    "For naming purposes, we treat the underlying pipeline as a \"tool\".\n",
    "\n",
    "1. **Sub-Questions**: Decompose queries into multiple sub-questions over different tools (identified by their metadata)\n",
    "2. **Routing**: Keep the query, but identify the relevant subset of tools that the query applies to.\n",
    "3. **Query-Rewriting**: Keep the tools, but rewrite the query in a variety of different ways to execute against the same tools.\n",
    "4. **One-Step Query Transform**: Transform the query into another query given input prompt."
   ]
  },
  {
   "cell_type": "markdown",
   "id": "f4ee4457-e8dc-4527-b305-9b09fb89c1f7",
   "metadata": {},
   "source": [
    "### Sub-Questions\n",
    "\n",
    "Our first example is also the most complex one. Given a set of tools and a user query, decide both the 1) set of sub-questions to generate, and 2) the tools that each sub-question should run over."
   ]
  },
  {
   "cell_type": "code",
   "execution_count": 2,
   "id": "423c9cc6-20eb-4ae3-bca0-c01e606f865a",
   "metadata": {},
   "outputs": [],
   "source": [
    "from llama_index.question_gen import LLMQuestionGenerator, OpenAIQuestionGenerator\n",
    "from llama_index.llms import OpenAI"
   ]
  },
  {
   "cell_type": "code",
   "execution_count": 3,
   "id": "59f47121-fc91-45cd-a071-c3c6208726b7",
   "metadata": {},
   "outputs": [],
   "source": [
    "llm = OpenAI()\n",
    "question_gen = OpenAIQuestionGenerator.from_defaults(\n",
    "    llm=llm\n",
    ")"
   ]
  },
  {
   "cell_type": "code",
   "execution_count": 8,
   "id": "effdbaca-4087-4199-bc85-ceea00d6edf4",
   "metadata": {},
   "outputs": [
    {
     "name": "stdout",
     "output_type": "stream",
     "text": [
      "You are a world class state of the art agent.\n",
      "\n",
      "You have access to multiple tools, each representing a different data source or API.\n",
      "Each of the tools has a name and a description, formatted as a JSON dictionary.\n",
      "The keys of the dictionary are the names of the tools and the values are the descriptions.\n",
      "Your purpose is to help answer a complex user question by generating a list of sub questions that can be answered by the tools.\n",
      "\n",
      "These are the guidelines you consider when completing your task:\n",
      "* Be as specific as possible\n",
      "* The sub questions should be relevant to the user question\n",
      "* The sub questions should be answerable by the tools provided\n",
      "* You can generate multiple sub questions for each tool\n",
      "* Tools must be specified by their name, not their description\n",
      "* You don't need to use a tool if you don't think it's relevant\n",
      "\n",
      "Output the list of sub questions by calling the SubQuestionList function.\n",
      "\n",
      "## Tools\n",
      "```json\n",
      "{tools_str}\n",
      "```\n",
      "\n",
      "## User Question\n",
      "{query_str}\n",
      "\n"
     ]
    }
   ],
   "source": [
    "print(question_gen.get_prompts()[\"question_gen_prompt\"].template)"
   ]
  },
  {
   "cell_type": "code",
   "execution_count": 12,
   "id": "586cf84d-276d-40f3-bb5e-2f5f774b84a1",
   "metadata": {},
   "outputs": [],
   "source": [
    "from llama_index.tools.types import ToolMetadata\n",
    "\n",
    "tool_choices = [\n",
    "    ToolMetadata(\n",
    "        name=\"uber_2021_10k\",\n",
    "        description=(\n",
    "            \"Provides information about Uber financials for year 2021\"\n",
    "        ),\n",
    "    ),\n",
    "    ToolMetadata(\n",
    "        name=\"lyft_2021_10k\",\n",
    "        description=(\n",
    "            \"Provides information about Lyft financials for year 2021\"\n",
    "        )\n",
    "    )\n",
    "]"
   ]
  },
  {
   "cell_type": "code",
   "execution_count": null,
   "id": "3bf94cf9-a869-420f-a6c2-3f2a0b11365e",
   "metadata": {},
   "outputs": [],
   "source": [
    "from llama_index.schema import QueryBundle\n",
    "\n",
    "query_str = \"Compare and contrast Uber and Lyft\"\n",
    "choices = question_gen.generate(tool_choices, QueryBundle(query_str=query_str))"
   ]
  }
 ],
 "metadata": {
  "kernelspec": {
   "display_name": "llama_index_v2",
   "language": "python",
   "name": "llama_index_v2"
  },
  "language_info": {
   "codemirror_mode": {
    "name": "ipython",
    "version": 3
   },
   "file_extension": ".py",
   "mimetype": "text/x-python",
   "name": "python",
   "nbconvert_exporter": "python",
   "pygments_lexer": "ipython3",
   "version": "3.10.10"
  }
 },
 "nbformat": 4,
 "nbformat_minor": 5
}
