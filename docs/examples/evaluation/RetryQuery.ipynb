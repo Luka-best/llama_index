{
 "cells": [
  {
   "attachments": {},
   "cell_type": "markdown",
   "metadata": {},
   "source": [
    "# Retry Query Engine"
   ]
  },
  {
   "cell_type": "code",
   "execution_count": null,
   "metadata": {},
   "outputs": [],
   "source": [
    "# My OpenAI Key\n",
    "import os\n",
    "os.environ['OPENAI_API_KEY'] = \"INSERT OPENAI KEY\"\n",
    "\n",
    "import logging\n",
    "import sys\n",
    "\n",
    "logging.basicConfig(stream=sys.stdout, level=logging.INFO)\n",
    "logging.getLogger().addHandler(logging.StreamHandler(stream=sys.stdout))"
   ]
  },
  {
   "cell_type": "code",
   "execution_count": null,
   "metadata": {},
   "outputs": [],
   "source": [
    "from llama_index.indices.vector_store.base import VectorStoreIndex\n",
    "from llama_index.query_engine.retry_query_engine import (\n",
    "    RetryQueryEngine,\n",
    "    RetryGuidelineQueryEngine,\n",
    ")\n",
    "from llama_index.query_engine.retry_source_query_engine import RetrySourceQueryEngine\n",
    "from llama_index.readers.file.base import SimpleDirectoryReader\n",
    "from llama_index.evaluation.base import QueryResponseEvaluator\n",
    "from llama_index.evaluation.guideline_eval import GuidelineEvaluator\n",
    "from llama_index.response.schema import Response\n",
    "from llama_index.indices.query.query_transform.feedback_transform import (\n",
    "    FeedbackQueryTransformation,\n",
    ")"
   ]
  },
  {
   "cell_type": "code",
   "execution_count": null,
   "metadata": {},
   "outputs": [],
   "source": [
    "uber_docs = SimpleDirectoryReader(input_files=[\"../data/10k/uber_2021.pdf\"]).load_data()\n",
    "index = VectorStoreIndex.from_documents(uber_docs)\n",
    "query = \"How many drivers does Uber have?\""
   ]
  },
  {
   "cell_type": "code",
   "execution_count": null,
   "metadata": {},
   "outputs": [],
   "source": [
    "# Default query engine\n",
    "default_query_engine = index.as_query_engine()\n",
    "response = default_query_engine.query(query)\n",
    "print(f\"Default query engine response: {response}\")"
   ]
  },
  {
   "cell_type": "code",
   "execution_count": null,
   "metadata": {},
   "outputs": [],
   "source": [
    "# Query engine with retry\n",
    "query_response_evaluator = QueryResponseEvaluator()\n",
    "retry_query_engine = RetryQueryEngine(index.as_query_engine(), query_response_evaluator)\n",
    "retry_response = retry_query_engine.query(query)\n",
    "print(f\"Query engine with retry response: {retry_response}\")"
   ]
  },
  {
   "cell_type": "code",
   "execution_count": null,
   "metadata": {},
   "outputs": [],
   "source": [
    "retry_source_query_engine = RetrySourceQueryEngine(index.as_query_engine(), query_response_evaluator)\n",
    "retry_source_response = retry_source_query_engine.query(query)\n",
    "print(f\"Query engine with retry source response: {retry_source_response}\")"
   ]
  },
  {
   "cell_type": "code",
   "execution_count": 3,
   "metadata": {},
   "outputs": [
    {
     "ename": "SyntaxError",
     "evalue": "EOL while scanning string literal (1295256350.py, line 8)",
     "output_type": "error",
     "traceback": [
      "\u001b[0;36m  Cell \u001b[0;32mIn[3], line 8\u001b[0;36m\u001b[0m\n\u001b[0;31m    print(f\"Transformed query: {transformed_query})\u001b[0m\n\u001b[0m                                                   ^\u001b[0m\n\u001b[0;31mSyntaxError\u001b[0m\u001b[0;31m:\u001b[0m EOL while scanning string literal\n"
     ]
    }
   ],
   "source": [
    "\n",
    "# Guideline eval\n",
    "guideline_eval = GuidelineEvaluator()\n",
    "typed_response = response if isinstance(response, Response) else response.get_response()\n",
    "eval = guideline_eval.evaluate_response(query, typed_response)\n",
    "print(f\"Guideline eval evaluation result: {eval}\")\n",
    "feedback_query_transform = FeedbackQueryTransformation(evaluation=eval, resynthesize_query=True)\n",
    "transformed_query = feedback_query_transform.run(query)\n",
    "print(f\"Transformed query: {transformed_query}\")\n",
    "retry_guideline_query_engine = RetryGuidelineQueryEngine(index.as_query_engine(), guideline_eval, resynthesize_query=True)\n",
    "retry_guideline_response = retry_guideline_query_engine.query(query)\n",
    "print(f\"Query engine with retry guideline response: {retry_guideline_response}\")"
   ]
  }
 ],
 "metadata": {
  "kernelspec": {
   "display_name": ".venv",
   "language": "python",
   "name": "python3"
  },
  "language_info": {
   "codemirror_mode": {
    "name": "ipython",
    "version": 3
   },
   "file_extension": ".py",
   "mimetype": "text/x-python",
   "name": "python",
   "nbconvert_exporter": "python",
   "pygments_lexer": "ipython3",
   "version": "3.9.6"
  },
  "orig_nbformat": 4
 },
 "nbformat": 4,
 "nbformat_minor": 2
}
