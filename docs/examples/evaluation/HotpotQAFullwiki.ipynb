{
 "cells": [
  {
   "cell_type": "code",
   "execution_count": 2,
   "id": "b2e522a7-c198-4d8b-bc0a-eca9dd2fc293",
   "metadata": {},
   "outputs": [
    {
     "name": "stderr",
     "output_type": "stream",
     "text": [
      "/home/jonch/.local/lib/python3.10/site-packages/tqdm/auto.py:22: TqdmWarning: IProgress not found. Please update jupyter and ipywidgets. See https://ipywidgets.readthedocs.io/en/stable/user_install.html\n",
      "  from .autonotebook import tqdm as notebook_tqdm\n",
      "Parsing documents into nodes: 100%|████████████████████████████████████████████████████████| 1/1 [00:00<00:00, 477.17it/s]\n",
      "Generating embeddings: 100%|████████████████████████████████████████████████████████████████| 1/1 [00:00<00:00, 12.02it/s]\n"
     ]
    }
   ],
   "source": [
    "from llama_index.evaluation.benchmarks import HotpotQAEvaluator\n",
    "from llama_index import ServiceContext, VectorStoreIndex\n",
    "from llama_index.schema import Document\n",
    "from llama_index.llms import OpenAI\n",
    "from llama_index import LLMPredictor\n",
    "\n",
    "llm_predictor = LLMPredictor(OpenAI())\n",
    "\n",
    "service_context = ServiceContext.from_defaults(\n",
    "    embed_model=\"local:sentence-transformers/all-MiniLM-L6-v2\",\n",
    "    llm_predictor=llm_predictor,\n",
    ")\n",
    "index = VectorStoreIndex.from_documents(\n",
    "    [Document.example()], service_context=service_context, show_progress=True\n",
    ")"
   ]
  },
  {
   "cell_type": "code",
   "execution_count": 3,
   "id": "cbaa9ce0-112c-4424-952f-ce7a588a3807",
   "metadata": {},
   "outputs": [
    {
     "name": "stdout",
     "output_type": "stream",
     "text": [
      "Dataset: dev_fullwiki downloaded at: /home/jonch/.cache/llama_index/datasets/HotpotQA/dev_fullwiki.json\n",
      "Evaluating on dataset: dev_fullwiki\n",
      "-------------------------------------\n",
      "Loading 5 queries out of 7405 (fraction: 0.00068)\n",
      "\u001b[33;1m\u001b[1;3m> Current query: Were Scott Derrickson and Ed Wood of the same nationality?\n",
      "\u001b[0m\u001b[38;5;200m\u001b[1;3m> New query:  What is the nationality of Scott Derrickson and Ed Wood?\n",
      "\u001b[0m\u001b[33;1m\u001b[1;3m> Current query: Were Scott Derrickson and Ed Wood of the same nationality?\n",
      "\u001b[0m\u001b[38;5;200m\u001b[1;3m> New query:  Are Scott Derrickson and Ed Wood both American?\n",
      "\u001b[0m\u001b[33;1m\u001b[1;3m> Current query: Were Scott Derrickson and Ed Wood of the same nationality?\n",
      "\u001b[0m\u001b[38;5;200m\u001b[1;3m> New query:  What is the nationality of Ed Wood?\n",
      "\u001b[0mQuestion:  Were Scott Derrickson and Ed Wood of the same nationality?\n",
      "Response: \n",
      "No, Scott Derrickson is American but Ed Wood is not.\n",
      "Correct answer:  yes\n",
      "EM: 0 F1: 0\n",
      "-------------------------------------\n",
      "\u001b[33;1m\u001b[1;3m> Current query: What government position was held by the woman who portrayed Corliss Archer in the film Kiss and Tell?\n",
      "\u001b[0m\u001b[38;5;200m\u001b[1;3m> New query:  Who portrayed Corliss Archer in the film Kiss and Tell?\n",
      "\u001b[0m\u001b[33;1m\u001b[1;3m> Current query: What government position was held by the woman who portrayed Corliss Archer in the film Kiss and Tell?\n",
      "\u001b[0m\u001b[38;5;200m\u001b[1;3m> New query:  What government position was held by Shirley Temple?\n",
      "\u001b[0m\u001b[33;1m\u001b[1;3m> Current query: What government position was held by the woman who portrayed Corliss Archer in the film Kiss and Tell?\n",
      "\u001b[0m\u001b[38;5;200m\u001b[1;3m> New query:  What government positions did Shirley Temple hold?\n",
      "\u001b[0mQuestion:  What government position was held by the woman who portrayed Corliss Archer in the film Kiss and Tell?\n",
      "Response: \n",
      "Shirley Temple held the positions of United States Ambassador to Ghana, United States Chief of Protocol, and United States Ambassador to Czechoslovakia.\n",
      "Correct answer:  Chief of Protocol\n",
      "EM: 0 F1: 0.25\n",
      "-------------------------------------\n",
      "\u001b[33;1m\u001b[1;3m> Current query: What science fantasy young adult series, told in first person, has a set of companion books narrating the stories of enslaved worlds and alien species?\n",
      "\u001b[0m\u001b[38;5;200m\u001b[1;3m> New query:  Does Wikipedia have any information about science fantasy young adult series told in first person with companion books narrating the stories of enslaved worlds and alien species?\n",
      "\u001b[0m\u001b[33;1m\u001b[1;3m> Current query: What science fantasy young adult series, told in first person, has a set of companion books narrating the stories of enslaved worlds and alien species?\n",
      "\u001b[0m\u001b[38;5;200m\u001b[1;3m> New query:  What is the title of the Animorphs series?\n",
      "\u001b[0m\u001b[33;1m\u001b[1;3m> Current query: What science fantasy young adult series, told in first person, has a set of companion books narrating the stories of enslaved worlds and alien species?\n",
      "\u001b[0m\u001b[38;5;200m\u001b[1;3m> New query:  What is the title of The Tripods series?\n",
      "\u001b[0mQuestion:  What science fantasy young adult series, told in first person, has a set of companion books narrating the stories of enslaved worlds and alien species?\n",
      "Response: \n",
      "The Animorphs series and The Tripods series are both science fantasy young adult series, told in first person, with companion books narrating the stories of enslaved worlds and alien species.\n",
      "Correct answer:  Animorphs\n",
      "EM: 0 F1: 0.07142857142857142\n",
      "-------------------------------------\n",
      "\u001b[33;1m\u001b[1;3m> Current query: Are the Laleli Mosque and Esma Sultan Mansion located in the same neighborhood?\n",
      "\u001b[0m\u001b[38;5;200m\u001b[1;3m> New query:  Where are the Laleli Mosque and Esma Sultan Mansion located?\n",
      "\u001b[0m\u001b[33;1m\u001b[1;3m> Current query: Are the Laleli Mosque and Esma Sultan Mansion located in the same neighborhood?\n",
      "\u001b[0m\u001b[38;5;200m\u001b[1;3m> New query:  Are Laleli, Fatih and Ortaköy neighborhoods located in the same area of Istanbul, Turkey?\n",
      "\u001b[0m\u001b[33;1m\u001b[1;3m> Current query: Are the Laleli Mosque and Esma Sultan Mansion located in the same neighborhood?\n",
      "\u001b[0m\u001b[38;5;200m\u001b[1;3m> New query:  Are the Laleli Mosque and Esma Sultan Mansion located in different districts of Istanbul, Turkey?\n",
      "\u001b[0mQuestion:  Are the Laleli Mosque and Esma Sultan Mansion located in the same neighborhood?\n",
      "Response: \n",
      "No, the Laleli Mosque and Esma Sultan Mansion are not located in the same neighborhood. The Laleli Mosque is located in the Laleli neighborhood of Fatih district, while the Esma Sultan Mansion is located in the Ortaköy neighborhood of Besiktas district.\n",
      "Correct answer:  no\n",
      "EM: 0 F1: 0\n",
      "-------------------------------------\n",
      "\u001b[33;1m\u001b[1;3m> Current query: The director of the romantic comedy \"Big Stone Gap\" is based in what New York city?\n",
      "\u001b[0m\u001b[38;5;200m\u001b[1;3m> New query:  Where is the director of the romantic comedy \"Big Stone Gap\" based?\n",
      "\u001b[0m\u001b[33;1m\u001b[1;3m> Current query: The director of the romantic comedy \"Big Stone Gap\" is based in what New York city?\n",
      "\u001b[0m\u001b[38;5;200m\u001b[1;3m> New query:  Is Adriana Trigiani based in New York City?\n",
      "\u001b[0m\u001b[33;1m\u001b[1;3m> Current query: The director of the romantic comedy \"Big Stone Gap\" is based in what New York city?\n",
      "\u001b[0m\u001b[38;5;200m\u001b[1;3m> New query:  What city in New York is Adriana Trigiani based in?\n",
      "\u001b[0mQuestion:  The director of the romantic comedy \"Big Stone Gap\" is based in what New York city?\n",
      "Response: \n",
      "Adriana Trigiani, the director of the romantic comedy \"Big Stone Gap,\" is based in New York City.\n",
      "Correct answer:  Greenwich Village, New York City\n",
      "EM: 0 F1: 0.3\n",
      "-------------------------------------\n",
      "Scores:  {'exact_match': 0.0, 'f1': 0.12428571428571429}\n"
     ]
    }
   ],
   "source": [
    "from llama_index.query_engine.multistep_query_engine import MultiStepQueryEngine\n",
    "from llama_index.indices.postprocessor import SentenceTransformerRerank\n",
    "from llama_index.indices.query.query_transform.base import StepDecomposeQueryTransform\n",
    "\n",
    "rerank = SentenceTransformerRerank(top_n=3)\n",
    "\n",
    "engine = index.as_query_engine(\n",
    "    service_context=service_context,\n",
    "    node_postprocessors=[rerank],\n",
    ")\n",
    "\n",
    "transform = StepDecomposeQueryTransform(llm_predictor, verbose=True)\n",
    "\n",
    "multistep_engine = MultiStepQueryEngine(\n",
    "    query_engine=engine, query_transform=transform, index_summary=\"Wikipedia\"\n",
    ")\n",
    "\n",
    "HotpotQAEvaluator().run(\n",
    "    multistep_engine, queries=5, show_result=True, datasets=[\"dev_fullwiki\"]\n",
    ")"
   ]
  },
  {
   "cell_type": "markdown",
   "id": "176ddeda-caf7-4012-b509-e454c31ef8a7",
   "metadata": {},
   "source": [
    "Although the scores themselves does not quite reflect it, the system is quite successful at answering the questions (and is in fact more accurate on some of them) "
   ]
  }
 ],
 "metadata": {
  "kernelspec": {
   "display_name": "Python 3 (ipykernel)",
   "language": "python",
   "name": "python3"
  },
  "language_info": {
   "codemirror_mode": {
    "name": "ipython",
    "version": 3
   },
   "file_extension": ".py",
   "mimetype": "text/x-python",
   "name": "python",
   "nbconvert_exporter": "python",
   "pygments_lexer": "ipython3",
   "version": "3.10.6"
  }
 },
 "nbformat": 4,
 "nbformat_minor": 5
}
