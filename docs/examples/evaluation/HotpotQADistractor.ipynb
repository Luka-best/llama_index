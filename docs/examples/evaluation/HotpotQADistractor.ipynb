{
 "cells": [
  {
   "cell_type": "code",
   "execution_count": 2,
   "metadata": {},
   "outputs": [
    {
     "name": "stderr",
     "output_type": "stream",
     "text": [
      "/home/jonch/.local/lib/python3.10/site-packages/tqdm/auto.py:22: TqdmWarning: IProgress not found. Please update jupyter and ipywidgets. See https://ipywidgets.readthedocs.io/en/stable/user_install.html\n",
      "  from .autonotebook import tqdm as notebook_tqdm\n",
      "Parsing documents into nodes: 100%|████████████████████████████████████████████████████████| 1/1 [00:00<00:00, 515.59it/s]\n",
      "Generating embeddings: 100%|████████████████████████████████████████████████████████████████| 1/1 [00:00<00:00, 12.64it/s]\n"
     ]
    }
   ],
   "source": [
    "from llama_index.evaluation.benchmarks import HotpotQAEvaluator\n",
    "from llama_index import ServiceContext, VectorStoreIndex\n",
    "from llama_index.schema import Document\n",
    "from llama_index.llms import OpenAI\n",
    "from llama_index import LLMPredictor\n",
    "\n",
    "llm_predictor = LLMPredictor(OpenAI(model=\"gpt-3.5-turbo\"))\n",
    "\n",
    "service_context = ServiceContext.from_defaults(\n",
    "    embed_model=\"local:sentence-transformers/all-MiniLM-L6-v2\",\n",
    "    llm_predictor=llm_predictor,\n",
    ")\n",
    "index = VectorStoreIndex.from_documents(\n",
    "    [Document.example()], service_context=service_context, show_progress=True\n",
    ")"
   ]
  },
  {
   "cell_type": "markdown",
   "metadata": {},
   "source": [
    "First we try with a very simple engine. In this particular benchmark, the retriever and hence index is actually ignored, as the documents retrieved for each query is provided in the dataset. This is known as the \"distractor\" setting in HotpotQA."
   ]
  },
  {
   "cell_type": "code",
   "execution_count": 9,
   "metadata": {},
   "outputs": [
    {
     "name": "stdout",
     "output_type": "stream",
     "text": [
      "Dataset: hotpot_dev_distractor downloaded at: /home/jonch/.cache/llama_index/datasets/HotpotQA\n",
      "Evaluating on dataset: hotpot_dev_distractor\n",
      "-------------------------------------\n",
      "Loading 5 queries out of 7405 (fraction: 0.001)\n",
      "Question:  Were Scott Derrickson and Ed Wood of the same nationality?\n",
      "Response: No, Scott Derrickson and Ed Wood were not of the same nationality. Scott Derrickson is an American director, screenwriter, and producer, while Ed Wood was also an American filmmaker, actor, writer, producer, and director.\n",
      "Correct answer:  yes\n",
      "EM: 0 F1: 0\n",
      "-------------------------------------\n",
      "Question:  What government position was held by the woman who portrayed Corliss Archer in the film Kiss and Tell?\n",
      "Response: The context information does not provide any information about the government position held by the woman who portrayed Corliss Archer in the film Kiss and Tell.\n",
      "Correct answer:  Chief of Protocol\n",
      "EM: 0 F1: 0\n",
      "-------------------------------------\n",
      "Question:  What science fantasy young adult series, told in first person, has a set of companion books narrating the stories of enslaved worlds and alien species?\n",
      "Response: The science fantasy young adult series that fits this description is the \"Animorphs\" series by K. A. Applegate.\n",
      "Correct answer:  Animorphs\n",
      "EM: 0 F1: 0.125\n",
      "-------------------------------------\n",
      "Question:  Are the Laleli Mosque and Esma Sultan Mansion located in the same neighborhood?\n",
      "Response: Based on the given context information, it is not stated whether the Laleli Mosque and Esma Sultan Mansion are located in the same neighborhood.\n",
      "Correct answer:  no\n",
      "EM: 0 F1: 0\n",
      "-------------------------------------\n",
      "Question:  The director of the romantic comedy \"Big Stone Gap\" is based in what New York city?\n",
      "Response: The director of the romantic comedy \"Big Stone Gap\" is based in Greenwich Village, New York City.\n",
      "Correct answer:  Greenwich Village, New York City\n",
      "EM: 0 F1: 0.5\n",
      "-------------------------------------\n",
      "Scores:  {'exact_match': 0.0, 'f1': 0.125, 'precision': 0.0, 'recall': 0.0}\n"
     ]
    }
   ],
   "source": [
    "engine = index.as_query_engine(service_context=service_context)\n",
    "\n",
    "HotpotQAEvaluator().run(engine, queries=5, show_result=True)"
   ]
  },
  {
   "cell_type": "markdown",
   "metadata": {},
   "source": [
    "Now we try with a sentence transformer reranker, which selects 3 out of the 10 nodes proposed by the retriever"
   ]
  },
  {
   "cell_type": "code",
   "execution_count": 10,
   "metadata": {},
   "outputs": [
    {
     "name": "stdout",
     "output_type": "stream",
     "text": [
      "Dataset: hotpot_dev_distractor downloaded at: /home/jonch/.cache/llama_index/datasets/HotpotQA\n",
      "Evaluating on dataset: hotpot_dev_distractor\n",
      "-------------------------------------\n",
      "Loading 5 queries out of 7405 (fraction: 0.001)\n",
      "Question:  Were Scott Derrickson and Ed Wood of the same nationality?\n",
      "Response: No, Scott Derrickson and Ed Wood were not of the same nationality. Scott Derrickson is an American director, while Ed Wood was also an American filmmaker.\n",
      "Correct answer:  yes\n",
      "EM: 0 F1: 0\n",
      "-------------------------------------\n",
      "Question:  What government position was held by the woman who portrayed Corliss Archer in the film Kiss and Tell?\n",
      "Response: Based on the given context information, there is no mention of the government position held by the woman who portrayed Corliss Archer in the film Kiss and Tell.\n",
      "Correct answer:  Chief of Protocol\n",
      "EM: 0 F1: 0.07407407407407407\n",
      "-------------------------------------\n",
      "Question:  What science fantasy young adult series, told in first person, has a set of companion books narrating the stories of enslaved worlds and alien species?\n",
      "Response: The science fantasy young adult series that fits the given description is Animorphs.\n",
      "Correct answer:  Animorphs\n",
      "EM: 0 F1: 0.16666666666666669\n",
      "-------------------------------------\n",
      "Question:  Are the Laleli Mosque and Esma Sultan Mansion located in the same neighborhood?\n",
      "Response: No, the Laleli Mosque and Esma Sultan Mansion are not located in the same neighborhood. The Laleli Mosque is located in Laleli, Fatih, Istanbul, while the Esma Sultan Mansion is located in the Ortaköy neighborhood of Istanbul.\n",
      "Correct answer:  no\n",
      "EM: 0 F1: 0\n",
      "-------------------------------------\n",
      "Question:  The director of the romantic comedy \"Big Stone Gap\" is based in what New York city?\n",
      "Response: Based on the given context information, there is no mention of the director of the romantic comedy \"Big Stone Gap\" being based in any specific New York city.\n",
      "Correct answer:  Greenwich Village, New York City\n",
      "EM: 0 F1: 0.19999999999999998\n",
      "-------------------------------------\n",
      "Scores:  {'exact_match': 0.0, 'f1': 0.08814814814814816, 'precision': 0.0, 'recall': 0.0}\n"
     ]
    }
   ],
   "source": [
    "from llama_index.indices.postprocessor import SentenceTransformerRerank\n",
    "\n",
    "rerank = SentenceTransformerRerank(top_n=3)\n",
    "\n",
    "engine = index.as_query_engine(\n",
    "    service_context=service_context,\n",
    "    node_postprocessors=[rerank],\n",
    ")\n",
    "\n",
    "HotpotQAEvaluator().run(engine, queries=5, show_result=True)"
   ]
  },
  {
   "cell_type": "markdown",
   "metadata": {},
   "source": [
    "As we can see, the F1 score degrades. \n",
    "\n",
    "We also note that the F1 score is not an accurate measure of whether the question was answered correctly due to the tendency for the LLMs to parrot back the question."
   ]
  }
 ],
 "metadata": {
  "kernelspec": {
   "display_name": "Python 3 (ipykernel)",
   "language": "python",
   "name": "python3"
  },
  "language_info": {
   "codemirror_mode": {
    "name": "ipython",
    "version": 3
   },
   "file_extension": ".py",
   "mimetype": "text/x-python",
   "name": "python",
   "nbconvert_exporter": "python",
   "pygments_lexer": "ipython3",
   "version": "3.10.6"
  }
 },
 "nbformat": 4,
 "nbformat_minor": 4
}
