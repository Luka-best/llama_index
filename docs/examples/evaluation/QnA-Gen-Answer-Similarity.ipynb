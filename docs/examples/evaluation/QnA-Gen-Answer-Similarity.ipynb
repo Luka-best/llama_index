{
 "cells": [
  {
   "cell_type": "code",
   "execution_count": 2,
   "id": "e000b2e9-2ded-4c43-9c8c-365abd8fef2c",
   "metadata": {},
   "outputs": [],
   "source": [
    "from llama_index.evaluation import DatasetGenerator, QueryResponseEvaluator\n",
    "from llama_index import (\n",
    "    SimpleDirectoryReader,\n",
    "    VectorStoreIndex,\n",
    "    ServiceContext,\n",
    "    LLMPredictor,\n",
    "    Response,\n",
    "    Document,\n",
    ")\n",
    "from llama_index.llms import OpenAI"
   ]
  },
  {
   "cell_type": "code",
   "execution_count": 3,
   "id": "13e3b121-6d8a-4030-963a-c4a949270aff",
   "metadata": {},
   "outputs": [],
   "source": [
    "reader = SimpleDirectoryReader(\"../data/paul_graham/\")\n",
    "documents = reader.load_data()\n",
    "trunc_doc = Document(text=\"\\n\".join(documents[0].get_content().split(\"\\n\")[::16]))"
   ]
  },
  {
   "cell_type": "code",
   "execution_count": 4,
   "id": "49a46620-19ce-45e4-8fee-4de5d2fbdc37",
   "metadata": {},
   "outputs": [
    {
     "data": {
      "text/plain": [
       "75011"
      ]
     },
     "execution_count": 4,
     "metadata": {},
     "output_type": "execute_result"
    }
   ],
   "source": [
    "len(documents[0].get_content())"
   ]
  },
  {
   "cell_type": "code",
   "execution_count": 5,
   "id": "4989aa80-6557-480b-91b1-2fabeae99172",
   "metadata": {},
   "outputs": [
    {
     "data": {
      "text/plain": [
       "9013"
      ]
     },
     "execution_count": 5,
     "metadata": {},
     "output_type": "execute_result"
    }
   ],
   "source": [
    "len(trunc_doc.get_content())"
   ]
  },
  {
   "cell_type": "code",
   "execution_count": 6,
   "id": "d9775ce2-0710-416e-8b8f-865b9cedb9f5",
   "metadata": {},
   "outputs": [],
   "source": [
    "data_generator = DatasetGenerator.from_documents(documents)"
   ]
  },
  {
   "cell_type": "code",
   "execution_count": 7,
   "id": "dba3d6ec-3f8b-4780-be38-874cdc7e6cc2",
   "metadata": {},
   "outputs": [],
   "source": [
    "qna = data_generator.generate_qna_from_nodes()"
   ]
  },
  {
   "cell_type": "code",
   "execution_count": 8,
   "id": "74a5cb1c-f886-4c19-ab2b-47ceab6d567f",
   "metadata": {},
   "outputs": [
    {
     "data": {
      "text/plain": [
       "[('What were the two main things the author worked on before college?',\n",
       "  'Writing and programming.'),\n",
       " ('What kind of stories did the author write before college?',\n",
       "  'Short stories.'),\n",
       " ('What programming language did the author use on the IBM 1401?', 'Fortran.'),\n",
       " (\"What was the author's experience with the 1401?\",\n",
       "  \"The author couldn't figure out what to do with it and didn't have any data stored on punched cards.\"),\n",
       " (\"What microcomputer did the author's friend build?\",\n",
       "  'A microcomputer kit sold by Heathkit.'),\n",
       " (\"What kind of computer did the author's father buy?\", 'A TRS-80.'),\n",
       " ('What did the author write using the TRS-80?',\n",
       "  'Simple games, a program to predict rocket flight, and a word processor.'),\n",
       " ('What did the author plan to study in college initially?', 'Philosophy.'),\n",
       " ('What made the author switch to studying AI?',\n",
       "  'The novel \"The Moon is a Harsh Mistress\" and seeing Terry Winograd using SHRDLU.'),\n",
       " ('What did the author realize about AI during the first year of grad school?',\n",
       "  'That the way AI was practiced at the time was a hoax.')]"
      ]
     },
     "execution_count": 8,
     "metadata": {},
     "output_type": "execute_result"
    }
   ],
   "source": [
    "qna[:10]"
   ]
  },
  {
   "cell_type": "code",
   "execution_count": 9,
   "id": "76f8faf2-c533-47bb-874d-4b7f2cba9783",
   "metadata": {},
   "outputs": [],
   "source": [
    "from llama_index.evaluation import SemanticRelationMatch, SemanticAnswerSimilarity\n",
    "from llama_index.indices.postprocessor import SentenceEmbeddingOptimizer"
   ]
  },
  {
   "cell_type": "markdown",
   "id": "c65430bd-ddc3-4fca-a830-afb491a167f6",
   "metadata": {},
   "source": [
    "Let's test if pruning the retrieved nodes to 20% of their original size based on their semantic similarity to the query will adversely affect the performance"
   ]
  },
  {
   "cell_type": "code",
   "execution_count": 10,
   "id": "8cdfa7f8-f004-46d0-867e-fe9507eab45d",
   "metadata": {},
   "outputs": [
    {
     "name": "stderr",
     "output_type": "stream",
     "text": [
      "/home/jonch/.local/lib/python3.10/site-packages/tqdm/auto.py:22: TqdmWarning: IProgress not found. Please update jupyter and ipywidgets. See https://ipywidgets.readthedocs.io/en/stable/user_install.html\n",
      "  from .autonotebook import tqdm as notebook_tqdm\n"
     ]
    }
   ],
   "source": [
    "ctx = ServiceContext.from_defaults(embed_model=\"local\")\n",
    "index = VectorStoreIndex.from_documents(documents=documents, service_context=ctx)\n",
    "query_engine_A = index.as_query_engine()\n",
    "query_engine_B = index.as_query_engine(\n",
    "    node_postprocessors=[\n",
    "        SentenceEmbeddingOptimizer(embed_model=ctx.embed_model, percentile_cutoff=0.2)\n",
    "    ]\n",
    ")"
   ]
  },
  {
   "cell_type": "markdown",
   "id": "ff57d2bc-0753-4b04-b2f9-98b9a9e25bf0",
   "metadata": {},
   "source": [
    "Next, the relation evaluator scores similarity based on its classification of \"contradiction\" (-1), \"neutral\" (0), \"entailment\" (1) to determine the similarity, while the similarity evaluator outputs a similarity score normalized to length 1"
   ]
  },
  {
   "cell_type": "code",
   "execution_count": 11,
   "id": "62ad4f18-c4f4-4655-9794-e8c9b53d8a7a",
   "metadata": {},
   "outputs": [],
   "source": [
    "evaluator_rel = SemanticRelationMatch()\n",
    "evaluator_sim = SemanticAnswerSimilarity()"
   ]
  },
  {
   "cell_type": "markdown",
   "id": "559ee1d3-7049-46b9-8bad-5c4ed9f0d13d",
   "metadata": {},
   "source": [
    "Now we compare query engine A, which uses the entire source node, with query engine B, which uses 20% of the node."
   ]
  },
  {
   "cell_type": "code",
   "execution_count": null,
   "id": "a963a279-5844-4ec3-a6a4-42bfb4d7a46f",
   "metadata": {},
   "outputs": [],
   "source": [
    "import pandas as pd\n",
    "\n",
    "df = pd.DataFrame(\n",
    "    columns=[\n",
    "        \"Question\",\n",
    "        \"LLM Gen Answer\",\n",
    "        \"Answer A\",\n",
    "        \"Answer B\",\n",
    "        \"rel A\",\n",
    "        \"rel B\",\n",
    "        \"rel A - rel B\",\n",
    "        \"similarity A\",\n",
    "        \"similarity B\",\n",
    "        \"A - B similarity\",\n",
    "    ]\n",
    ")\n",
    "for i, (q, a) in enumerate(qna[:10]):\n",
    "    a_A = query_engine_A.query(q).response\n",
    "    a_B = query_engine_B.query(q).response\n",
    "\n",
    "    rel_A = evaluator_rel.evaluate(q + a, q + \" A: \" + a_A)\n",
    "    rel_B = evaluator_rel.evaluate(q + a, q + \" A: \" + a_B)\n",
    "    sim_A = evaluator_sim.evaluate(q + a, a_A)\n",
    "    sim_B = evaluator_sim.evaluate(q + a, a_B)\n",
    "    # print(\"res\", (q, a, a_A, a_B, rel_A, rel_B, rel_A - rel_B, sim_A, sim_B, sim_A - sim_B))\n",
    "    df.loc[len(df)] = (\n",
    "        q,\n",
    "        a,\n",
    "        a_A,\n",
    "        a_B,\n",
    "        rel_A,\n",
    "        rel_B,\n",
    "        rel_A - rel_B,\n",
    "        sim_A,\n",
    "        sim_B,\n",
    "        sim_A - sim_B,\n",
    "    )"
   ]
  },
  {
   "cell_type": "code",
   "execution_count": 15,
   "id": "b541be48-3e84-49de-8912-7b328c414a7b",
   "metadata": {},
   "outputs": [
    {
     "data": {
      "text/html": [
       "<div>\n",
       "<style scoped>\n",
       "    .dataframe tbody tr th:only-of-type {\n",
       "        vertical-align: middle;\n",
       "    }\n",
       "\n",
       "    .dataframe tbody tr th {\n",
       "        vertical-align: top;\n",
       "    }\n",
       "\n",
       "    .dataframe thead th {\n",
       "        text-align: right;\n",
       "    }\n",
       "</style>\n",
       "<table border=\"1\" class=\"dataframe\">\n",
       "  <thead>\n",
       "    <tr style=\"text-align: right;\">\n",
       "      <th></th>\n",
       "      <th>Question</th>\n",
       "      <th>LLM Gen Answer</th>\n",
       "      <th>Answer A</th>\n",
       "      <th>Answer B</th>\n",
       "      <th>rel A</th>\n",
       "      <th>rel B</th>\n",
       "      <th>rel A - rel B</th>\n",
       "      <th>similarity A</th>\n",
       "      <th>similarity B</th>\n",
       "      <th>A - B similarity</th>\n",
       "    </tr>\n",
       "  </thead>\n",
       "  <tbody>\n",
       "    <tr>\n",
       "      <th>4</th>\n",
       "      <td>What microcomputer did the author's friend build?</td>\n",
       "      <td>A microcomputer kit sold by Heathkit.</td>\n",
       "      <td>\\nThe microcomputer that the author's friend built was a Heathkit.</td>\n",
       "      <td>\\nIt is not possible to answer this question with the given context information.</td>\n",
       "      <td>0.0</td>\n",
       "      <td>-1.0</td>\n",
       "      <td>1.0</td>\n",
       "      <td>0.875564</td>\n",
       "      <td>0.263309</td>\n",
       "      <td>0.612254</td>\n",
       "    </tr>\n",
       "    <tr>\n",
       "      <th>3</th>\n",
       "      <td>What was the author's experience with the 1401?</td>\n",
       "      <td>The author couldn't figure out what to do with it and didn't have any data stored on punched cards.</td>\n",
       "      <td>\\nThe author's experience with the 1401 was limited. He and his friend Rich Draves had permission to use it, but they didn't have any data stored on punched cards to use as input for their programs. The author remembers the moment he learned it was possible for programs not to terminate, when one of his programs didn't. He also remembers the alien-looking machines and the spectacularly loud printer.</td>\n",
       "      <td>\\nThe author's experience with the 1401 was that they wrote simple games, a program to predict how high their model rockets would fly, and a word processor that their father used to write at least one book. They also wrote short stories, but the memory of the 1401 was limited so they could only write two pages at a time.</td>\n",
       "      <td>1.0</td>\n",
       "      <td>1.0</td>\n",
       "      <td>0.0</td>\n",
       "      <td>0.517464</td>\n",
       "      <td>0.312007</td>\n",
       "      <td>0.205457</td>\n",
       "    </tr>\n",
       "    <tr>\n",
       "      <th>8</th>\n",
       "      <td>What made the author switch to studying AI?</td>\n",
       "      <td>The novel \"The Moon is a Harsh Mistress\" and seeing Terry Winograd using SHRDLU.</td>\n",
       "      <td>\\nThe author switched to studying AI because he was drawn to the idea of creating a program like SHRDLU that could understand natural language. He was inspired by Terry Winograd's use of SHRDLU and believed that it was already climbing the lower slopes of intelligence. He was excited by the challenge of teaching himself Lisp, which was regarded as the language of AI at the time, and wanted to reverse-engineer SHRDLU for his undergraduate thesis. He was disappointed to find that the AI programs of the time could only understand a very limited subset of natural language, and realized that the approach of using explicit data structures to represent concepts was not going to work. He decided to focus on Lisp instead, and wrote a book about Lisp hacking.</td>\n",
       "      <td>\\nThe author switched to studying AI because they realized that the way AI was being practiced at the time was a hoax. They wanted to learn more about the field and chose Lisp as the language to do so, since it was regarded as the language of AI. They also applied to three graduate schools renowned for AI at the time, and wanted to explore the potential of microcomputers.</td>\n",
       "      <td>-1.0</td>\n",
       "      <td>1.0</td>\n",
       "      <td>-2.0</td>\n",
       "      <td>0.519770</td>\n",
       "      <td>0.409743</td>\n",
       "      <td>0.110027</td>\n",
       "    </tr>\n",
       "    <tr>\n",
       "      <th>7</th>\n",
       "      <td>What did the author plan to study in college initially?</td>\n",
       "      <td>Philosophy.</td>\n",
       "      <td>\\nThe author initially planned to study graduate-level mathematics in college.</td>\n",
       "      <td>\\nThe author initially planned to study painting and drawing at the RISD foundation program.</td>\n",
       "      <td>-1.0</td>\n",
       "      <td>-1.0</td>\n",
       "      <td>0.0</td>\n",
       "      <td>0.415815</td>\n",
       "      <td>0.332563</td>\n",
       "      <td>0.083252</td>\n",
       "    </tr>\n",
       "    <tr>\n",
       "      <th>0</th>\n",
       "      <td>What were the two main things the author worked on before college?</td>\n",
       "      <td>Writing and programming.</td>\n",
       "      <td>\\nThe two main things the author worked on before college were painting and freelance Lisp hacking work.</td>\n",
       "      <td>\\nThe two main things the author worked on before college were painting and writing essays.</td>\n",
       "      <td>-1.0</td>\n",
       "      <td>-1.0</td>\n",
       "      <td>0.0</td>\n",
       "      <td>0.536872</td>\n",
       "      <td>0.506068</td>\n",
       "      <td>0.030803</td>\n",
       "    </tr>\n",
       "    <tr>\n",
       "      <th>6</th>\n",
       "      <td>What did the author write using the TRS-80?</td>\n",
       "      <td>Simple games, a program to predict rocket flight, and a word processor.</td>\n",
       "      <td>\\nThe author wrote a paper using the TRS-80 about how to choose what to work on in the past. The paper discussed topics such as numbers, errors, I/O, McCarthy's Lisp, spec expressed as code, abstract concepts, everyday words, and the evolution of computers.</td>\n",
       "      <td>\\nThe author wrote a more detailed version of McCarthy's original Lisp spec for others to read using the TRS-80.</td>\n",
       "      <td>-1.0</td>\n",
       "      <td>1.0</td>\n",
       "      <td>-2.0</td>\n",
       "      <td>0.375516</td>\n",
       "      <td>0.365896</td>\n",
       "      <td>0.009620</td>\n",
       "    </tr>\n",
       "    <tr>\n",
       "      <th>1</th>\n",
       "      <td>What kind of stories did the author write before college?</td>\n",
       "      <td>Short stories.</td>\n",
       "      <td>\\nThe author wrote short stories before college.</td>\n",
       "      <td>\\nThe author wrote short stories before college.</td>\n",
       "      <td>0.0</td>\n",
       "      <td>0.0</td>\n",
       "      <td>0.0</td>\n",
       "      <td>0.903834</td>\n",
       "      <td>0.903834</td>\n",
       "      <td>0.000000</td>\n",
       "    </tr>\n",
       "    <tr>\n",
       "      <th>2</th>\n",
       "      <td>What programming language did the author use on the IBM 1401?</td>\n",
       "      <td>Fortran.</td>\n",
       "      <td>\\nThe author used an early version of Fortran on the IBM 1401.</td>\n",
       "      <td>\\nThe author used an early version of Fortran on the IBM 1401.</td>\n",
       "      <td>1.0</td>\n",
       "      <td>1.0</td>\n",
       "      <td>0.0</td>\n",
       "      <td>0.816106</td>\n",
       "      <td>0.816106</td>\n",
       "      <td>0.000000</td>\n",
       "    </tr>\n",
       "    <tr>\n",
       "      <th>5</th>\n",
       "      <td>What kind of computer did the author's father buy?</td>\n",
       "      <td>A TRS-80.</td>\n",
       "      <td>\\nThe author's father bought a TRS-80 microcomputer.</td>\n",
       "      <td>\\nThe author's father bought a TRS-80 computer.</td>\n",
       "      <td>0.0</td>\n",
       "      <td>0.0</td>\n",
       "      <td>0.0</td>\n",
       "      <td>0.898926</td>\n",
       "      <td>0.905030</td>\n",
       "      <td>-0.006104</td>\n",
       "    </tr>\n",
       "    <tr>\n",
       "      <th>9</th>\n",
       "      <td>What did the author realize about AI during the first year of grad school?</td>\n",
       "      <td>That the way AI was practiced at the time was a hoax.</td>\n",
       "      <td>\\nThe author realized that AI, as practiced at the time, was a hoax. It was clear that there was an unbridgeable gap between what AI programs could do and actually understanding natural language. It was not, in fact, simply a matter of teaching SHRDLU more words. That whole way of doing AI, with explicit data structures representing concepts, was not going to work.</td>\n",
       "      <td>\\nThe author realized that AI, as practiced at the time, was a hoax and that there weren't any classes in AI at Cornell. The author also realized that Lisp was regarded as the language of AI and that AI involved programs that could translate natural language into a formal representation.</td>\n",
       "      <td>1.0</td>\n",
       "      <td>1.0</td>\n",
       "      <td>0.0</td>\n",
       "      <td>0.607929</td>\n",
       "      <td>0.614198</td>\n",
       "      <td>-0.006268</td>\n",
       "    </tr>\n",
       "  </tbody>\n",
       "</table>\n",
       "</div>"
      ],
      "text/plain": [
       "                                                                     Question  \\\n",
       "4                           What microcomputer did the author's friend build?   \n",
       "3                             What was the author's experience with the 1401?   \n",
       "8                                 What made the author switch to studying AI?   \n",
       "7                     What did the author plan to study in college initially?   \n",
       "0          What were the two main things the author worked on before college?   \n",
       "6                                 What did the author write using the TRS-80?   \n",
       "1                   What kind of stories did the author write before college?   \n",
       "2               What programming language did the author use on the IBM 1401?   \n",
       "5                          What kind of computer did the author's father buy?   \n",
       "9  What did the author realize about AI during the first year of grad school?   \n",
       "\n",
       "                                                                                        LLM Gen Answer  \\\n",
       "4                                                                A microcomputer kit sold by Heathkit.   \n",
       "3  The author couldn't figure out what to do with it and didn't have any data stored on punched cards.   \n",
       "8                     The novel \"The Moon is a Harsh Mistress\" and seeing Terry Winograd using SHRDLU.   \n",
       "7                                                                                          Philosophy.   \n",
       "0                                                                             Writing and programming.   \n",
       "6                              Simple games, a program to predict rocket flight, and a word processor.   \n",
       "1                                                                                       Short stories.   \n",
       "2                                                                                             Fortran.   \n",
       "5                                                                                            A TRS-80.   \n",
       "9                                                That the way AI was practiced at the time was a hoax.   \n",
       "\n",
       "                                                                                                                                                                                                                                                                                                                                                                                                                                                                                                                                                                                                                                                                                                                                                                                  Answer A  \\\n",
       "4                                                                                                                                                                                                                                                                                                                                                                                                                                                                                                                                                                                                                                                                                                                       \\nThe microcomputer that the author's friend built was a Heathkit.   \n",
       "3                                                                                                                                                                                                                                                                                                                                                                       \\nThe author's experience with the 1401 was limited. He and his friend Rich Draves had permission to use it, but they didn't have any data stored on punched cards to use as input for their programs. The author remembers the moment he learned it was possible for programs not to terminate, when one of his programs didn't. He also remembers the alien-looking machines and the spectacularly loud printer.   \n",
       "8  \\nThe author switched to studying AI because he was drawn to the idea of creating a program like SHRDLU that could understand natural language. He was inspired by Terry Winograd's use of SHRDLU and believed that it was already climbing the lower slopes of intelligence. He was excited by the challenge of teaching himself Lisp, which was regarded as the language of AI at the time, and wanted to reverse-engineer SHRDLU for his undergraduate thesis. He was disappointed to find that the AI programs of the time could only understand a very limited subset of natural language, and realized that the approach of using explicit data structures to represent concepts was not going to work. He decided to focus on Lisp instead, and wrote a book about Lisp hacking.   \n",
       "7                                                                                                                                                                                                                                                                                                                                                                                                                                                                                                                                                                                                                                                                                                           \\nThe author initially planned to study graduate-level mathematics in college.   \n",
       "0                                                                                                                                                                                                                                                                                                                                                                                                                                                                                                                                                                                                                                                                                 \\nThe two main things the author worked on before college were painting and freelance Lisp hacking work.   \n",
       "6                                                                                                                                                                                                                                                                                                                                                                                                                                                                                                                        \\nThe author wrote a paper using the TRS-80 about how to choose what to work on in the past. The paper discussed topics such as numbers, errors, I/O, McCarthy's Lisp, spec expressed as code, abstract concepts, everyday words, and the evolution of computers.   \n",
       "1                                                                                                                                                                                                                                                                                                                                                                                                                                                                                                                                                                                                                                                                                                                                         \\nThe author wrote short stories before college.   \n",
       "2                                                                                                                                                                                                                                                                                                                                                                                                                                                                                                                                                                                                                                                                                                                           \\nThe author used an early version of Fortran on the IBM 1401.   \n",
       "5                                                                                                                                                                                                                                                                                                                                                                                                                                                                                                                                                                                                                                                                                                                                     \\nThe author's father bought a TRS-80 microcomputer.   \n",
       "9                                                                                                                                                                                                                                                                                                                                                                                                          \\nThe author realized that AI, as practiced at the time, was a hoax. It was clear that there was an unbridgeable gap between what AI programs could do and actually understanding natural language. It was not, in fact, simply a matter of teaching SHRDLU more words. That whole way of doing AI, with explicit data structures representing concepts, was not going to work.   \n",
       "\n",
       "                                                                                                                                                                                                                                                                                                                                                                                 Answer B  \\\n",
       "4                                                                                                                                                                                                                                                                                                        \\nIt is not possible to answer this question with the given context information.   \n",
       "3                                                      \\nThe author's experience with the 1401 was that they wrote simple games, a program to predict how high their model rockets would fly, and a word processor that their father used to write at least one book. They also wrote short stories, but the memory of the 1401 was limited so they could only write two pages at a time.   \n",
       "8  \\nThe author switched to studying AI because they realized that the way AI was being practiced at the time was a hoax. They wanted to learn more about the field and chose Lisp as the language to do so, since it was regarded as the language of AI. They also applied to three graduate schools renowned for AI at the time, and wanted to explore the potential of microcomputers.   \n",
       "7                                                                                                                                                                                                                                                                                            \\nThe author initially planned to study painting and drawing at the RISD foundation program.   \n",
       "0                                                                                                                                                                                                                                                                                             \\nThe two main things the author worked on before college were painting and writing essays.   \n",
       "6                                                                                                                                                                                                                                                                        \\nThe author wrote a more detailed version of McCarthy's original Lisp spec for others to read using the TRS-80.   \n",
       "1                                                                                                                                                                                                                                                                                                                                        \\nThe author wrote short stories before college.   \n",
       "2                                                                                                                                                                                                                                                                                                                          \\nThe author used an early version of Fortran on the IBM 1401.   \n",
       "5                                                                                                                                                                                                                                                                                                                                         \\nThe author's father bought a TRS-80 computer.   \n",
       "9                                                                                        \\nThe author realized that AI, as practiced at the time, was a hoax and that there weren't any classes in AI at Cornell. The author also realized that Lisp was regarded as the language of AI and that AI involved programs that could translate natural language into a formal representation.   \n",
       "\n",
       "   rel A  rel B  rel A - rel B  similarity A  similarity B  A - B similarity  \n",
       "4    0.0   -1.0            1.0      0.875564      0.263309          0.612254  \n",
       "3    1.0    1.0            0.0      0.517464      0.312007          0.205457  \n",
       "8   -1.0    1.0           -2.0      0.519770      0.409743          0.110027  \n",
       "7   -1.0   -1.0            0.0      0.415815      0.332563          0.083252  \n",
       "0   -1.0   -1.0            0.0      0.536872      0.506068          0.030803  \n",
       "6   -1.0    1.0           -2.0      0.375516      0.365896          0.009620  \n",
       "1    0.0    0.0            0.0      0.903834      0.903834          0.000000  \n",
       "2    1.0    1.0            0.0      0.816106      0.816106          0.000000  \n",
       "5    0.0    0.0            0.0      0.898926      0.905030         -0.006104  \n",
       "9    1.0    1.0            0.0      0.607929      0.614198         -0.006268  "
      ]
     },
     "execution_count": 15,
     "metadata": {},
     "output_type": "execute_result"
    }
   ],
   "source": [
    "pd.set_option(\"display.max_colwidth\", None)\n",
    "df = df.sort_values(by=\"A - B similarity\", ascending=False)\n",
    "df"
   ]
  },
  {
   "cell_type": "code",
   "execution_count": null,
   "id": "86f64ba5-79d7-428f-95ba-e424f78396aa",
   "metadata": {},
   "outputs": [],
   "source": []
  }
 ],
 "metadata": {
  "kernelspec": {
   "display_name": "Python 3 (ipykernel)",
   "language": "python",
   "name": "python3"
  },
  "language_info": {
   "codemirror_mode": {
    "name": "ipython",
    "version": 3
   },
   "file_extension": ".py",
   "mimetype": "text/x-python",
   "name": "python",
   "nbconvert_exporter": "python",
   "pygments_lexer": "ipython3",
   "version": "3.10.6"
  }
 },
 "nbformat": 4,
 "nbformat_minor": 5
}
