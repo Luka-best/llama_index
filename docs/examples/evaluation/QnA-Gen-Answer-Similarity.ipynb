{
 "cells": [
  {
   "cell_type": "code",
   "execution_count": 2,
   "id": "e000b2e9-2ded-4c43-9c8c-365abd8fef2c",
   "metadata": {},
   "outputs": [],
   "source": [
    "from llama_index.evaluation import DatasetGenerator, QueryResponseEvaluator\n",
    "from llama_index import (\n",
    "    SimpleDirectoryReader,\n",
    "    VectorStoreIndex,\n",
    "    ServiceContext,\n",
    "    LLMPredictor,\n",
    "    Response,\n",
    "    Document,\n",
    ")\n",
    "from llama_index.llms import OpenAI"
   ]
  },
  {
   "cell_type": "code",
   "execution_count": 3,
   "id": "13e3b121-6d8a-4030-963a-c4a949270aff",
   "metadata": {},
   "outputs": [],
   "source": [
    "reader = SimpleDirectoryReader(\"../data/paul_graham/\")\n",
    "documents = reader.load_data()\n",
    "trunc_doc = Document(text=\"\\n\".join(documents[0].get_content().split(\"\\n\")[::16]))"
   ]
  },
  {
   "cell_type": "code",
   "execution_count": 4,
   "id": "49a46620-19ce-45e4-8fee-4de5d2fbdc37",
   "metadata": {},
   "outputs": [
    {
     "data": {
      "text/plain": [
       "75011"
      ]
     },
     "execution_count": 4,
     "metadata": {},
     "output_type": "execute_result"
    }
   ],
   "source": [
    "len(documents[0].get_content())"
   ]
  },
  {
   "cell_type": "code",
   "execution_count": 5,
   "id": "4989aa80-6557-480b-91b1-2fabeae99172",
   "metadata": {},
   "outputs": [
    {
     "data": {
      "text/plain": [
       "9013"
      ]
     },
     "execution_count": 5,
     "metadata": {},
     "output_type": "execute_result"
    }
   ],
   "source": [
    "len(trunc_doc.get_content())"
   ]
  },
  {
   "cell_type": "code",
   "execution_count": 6,
   "id": "d9775ce2-0710-416e-8b8f-865b9cedb9f5",
   "metadata": {},
   "outputs": [],
   "source": [
    "data_generator = DatasetGenerator.from_documents(documents)"
   ]
  },
  {
   "cell_type": "markdown",
   "id": "4e6dfa25-f627-406f-af6f-fa2f3dfe8110",
   "metadata": {},
   "source": [
    "We generate question and answer pairs for our document."
   ]
  },
  {
   "cell_type": "code",
   "execution_count": 7,
   "id": "dba3d6ec-3f8b-4780-be38-874cdc7e6cc2",
   "metadata": {},
   "outputs": [],
   "source": [
    "qna = data_generator.generate_qna_from_nodes()"
   ]
  },
  {
   "cell_type": "code",
   "execution_count": 8,
   "id": "74a5cb1c-f886-4c19-ab2b-47ceab6d567f",
   "metadata": {},
   "outputs": [
    {
     "data": {
      "text/plain": [
       "[('What were the two main things the author worked on before college?',\n",
       "  'Writing and programming.'),\n",
       " ('What kind of stories did the author write before college?',\n",
       "  'Short stories.'),\n",
       " ('What programming language did the author use on the IBM 1401?', 'Fortran.'),\n",
       " (\"What was the author's experience with the 1401?\",\n",
       "  \"The author couldn't figure out what to do with it and didn't have any data stored on punched cards.\"),\n",
       " (\"What microcomputer did the author's friend build?\",\n",
       "  'A microcomputer kit sold by Heathkit.'),\n",
       " (\"What kind of computer did the author's father buy?\", 'A TRS-80.'),\n",
       " ('What did the author write using the TRS-80?',\n",
       "  'Simple games, a program to predict rocket flight, and a word processor.'),\n",
       " ('What did the author plan to study in college initially?', 'Philosophy.'),\n",
       " ('What made the author switch to studying AI?',\n",
       "  'The novel \"The Moon is a Harsh Mistress\" and seeing Terry Winograd using SHRDLU.'),\n",
       " ('What did the author realize about AI during the first year of grad school?',\n",
       "  'That the way AI was practiced at the time was a hoax.')]"
      ]
     },
     "execution_count": 8,
     "metadata": {},
     "output_type": "execute_result"
    }
   ],
   "source": [
    "qna[:10]"
   ]
  },
  {
   "cell_type": "code",
   "execution_count": 9,
   "id": "76f8faf2-c533-47bb-874d-4b7f2cba9783",
   "metadata": {},
   "outputs": [],
   "source": [
    "from llama_index.evaluation import SemanticRelationMatch, SemanticAnswerSimilarity\n",
    "from llama_index.indices.postprocessor import SentenceEmbeddingOptimizer"
   ]
  },
  {
   "cell_type": "markdown",
   "id": "c65430bd-ddc3-4fca-a830-afb491a167f6",
   "metadata": {},
   "source": [
    "Let's test if pruning the retrieved nodes to 20% of their original size based on their semantic similarity to the query will adversely affect the performance"
   ]
  },
  {
   "cell_type": "code",
   "execution_count": 10,
   "id": "8cdfa7f8-f004-46d0-867e-fe9507eab45d",
   "metadata": {},
   "outputs": [
    {
     "name": "stderr",
     "output_type": "stream",
     "text": [
      "/home/jonch/.local/lib/python3.10/site-packages/tqdm/auto.py:22: TqdmWarning: IProgress not found. Please update jupyter and ipywidgets. See https://ipywidgets.readthedocs.io/en/stable/user_install.html\n",
      "  from .autonotebook import tqdm as notebook_tqdm\n"
     ]
    }
   ],
   "source": [
    "ctx = ServiceContext.from_defaults(embed_model=\"local\")\n",
    "index = VectorStoreIndex.from_documents(documents=documents, service_context=ctx)\n",
    "query_engine_A = index.as_query_engine()\n",
    "query_engine_B = index.as_query_engine(\n",
    "    node_postprocessors=[\n",
    "        SentenceEmbeddingOptimizer(embed_model=ctx.embed_model, percentile_cutoff=0.2)\n",
    "    ]\n",
    ")"
   ]
  },
  {
   "cell_type": "markdown",
   "id": "ff57d2bc-0753-4b04-b2f9-98b9a9e25bf0",
   "metadata": {},
   "source": [
    "Next, the relation evaluator scores similarity based on its classification of \"contradiction\" (-1), \"neutral\" (0), \"entailment\" (1) to determine the similarity, while the similarity evaluator outputs a similarity score normalized to length 1"
   ]
  },
  {
   "cell_type": "code",
   "execution_count": 11,
   "id": "62ad4f18-c4f4-4655-9794-e8c9b53d8a7a",
   "metadata": {},
   "outputs": [],
   "source": [
    "evaluator_rel = SemanticRelationMatch()\n",
    "evaluator_sim = SemanticAnswerSimilarity()"
   ]
  },
  {
   "cell_type": "markdown",
   "id": "559ee1d3-7049-46b9-8bad-5c4ed9f0d13d",
   "metadata": {},
   "source": [
    "Now we compare query engine A, which uses the entire source node, with query engine B, which uses 20% of the node."
   ]
  },
  {
   "cell_type": "code",
   "execution_count": null,
   "id": "a963a279-5844-4ec3-a6a4-42bfb4d7a46f",
   "metadata": {},
   "outputs": [],
   "source": [
    "import pandas as pd\n",
    "\n",
    "df = pd.DataFrame(\n",
    "    columns=[\n",
    "        \"Question\",\n",
    "        \"LLM Gen Answer\",\n",
    "        \"Answer A\",\n",
    "        \"Answer B\",\n",
    "        \"rel A\",\n",
    "        \"rel B\",\n",
    "        \"rel A - rel B\",\n",
    "        \"similarity A\",\n",
    "        \"similarity B\",\n",
    "        \"A - B similarity\",\n",
    "    ]\n",
    ")\n",
    "for i, (q, a) in enumerate(qna[:10]):\n",
    "    a_A = query_engine_A.query(q).response\n",
    "    a_B = query_engine_B.query(q).response\n",
    "\n",
    "    rel_A = evaluator_rel.evaluate(q + a, q + \" A: \" + a_A)\n",
    "    rel_B = evaluator_rel.evaluate(q + a, q + \" A: \" + a_B)\n",
    "    sim_A = evaluator_sim.evaluate(q + a, a_A)\n",
    "    sim_B = evaluator_sim.evaluate(q + a, a_B)\n",
    "    # print(\"res\", (q, a, a_A, a_B, rel_A, rel_B, rel_A - rel_B, sim_A, sim_B, sim_A - sim_B))\n",
    "    df.loc[len(df)] = (\n",
    "        q,\n",
    "        a,\n",
    "        a_A,\n",
    "        a_B,\n",
    "        rel_A,\n",
    "        rel_B,\n",
    "        rel_A - rel_B,\n",
    "        sim_A,\n",
    "        sim_B,\n",
    "        sim_A - sim_B,\n",
    "    )"
   ]
  },
  {
   "cell_type": "code",
   "execution_count": 24,
   "id": "7ab73217-2b36-4007-b7ea-75355e2c6250",
   "metadata": {},
   "outputs": [
    {
     "data": {
      "text/html": [
       "<style type=\"text/css\">\n",
       "#T_723ea_row0_col4, #T_723ea_row0_col7, #T_723ea_row1_col4, #T_723ea_row1_col5, #T_723ea_row1_col7, #T_723ea_row2_col5, #T_723ea_row2_col7, #T_723ea_row4_col7, #T_723ea_row4_col8, #T_723ea_row5_col5, #T_723ea_row6_col4, #T_723ea_row6_col5, #T_723ea_row6_col7, #T_723ea_row6_col8, #T_723ea_row7_col4, #T_723ea_row7_col5, #T_723ea_row7_col7, #T_723ea_row7_col8, #T_723ea_row8_col4, #T_723ea_row8_col5, #T_723ea_row8_col7, #T_723ea_row8_col8, #T_723ea_row9_col4, #T_723ea_row9_col5, #T_723ea_row9_col7, #T_723ea_row9_col8 {\n",
       "  background-color: green;\n",
       "}\n",
       "#T_723ea_row0_col5, #T_723ea_row0_col8, #T_723ea_row1_col8, #T_723ea_row2_col4, #T_723ea_row2_col8, #T_723ea_row3_col4, #T_723ea_row3_col5, #T_723ea_row3_col7, #T_723ea_row3_col8, #T_723ea_row4_col4, #T_723ea_row4_col5, #T_723ea_row5_col4, #T_723ea_row5_col7, #T_723ea_row5_col8 {\n",
       "  background-color: red;\n",
       "}\n",
       "</style>\n",
       "<table id=\"T_723ea\">\n",
       "  <thead>\n",
       "    <tr>\n",
       "      <th class=\"blank level0\" >&nbsp;</th>\n",
       "      <th id=\"T_723ea_level0_col0\" class=\"col_heading level0 col0\" >Question</th>\n",
       "      <th id=\"T_723ea_level0_col1\" class=\"col_heading level0 col1\" >LLM Gen Answer</th>\n",
       "      <th id=\"T_723ea_level0_col2\" class=\"col_heading level0 col2\" >Answer A</th>\n",
       "      <th id=\"T_723ea_level0_col3\" class=\"col_heading level0 col3\" >Answer B</th>\n",
       "      <th id=\"T_723ea_level0_col4\" class=\"col_heading level0 col4\" >rel A</th>\n",
       "      <th id=\"T_723ea_level0_col5\" class=\"col_heading level0 col5\" >rel B</th>\n",
       "      <th id=\"T_723ea_level0_col6\" class=\"col_heading level0 col6\" >rel A - rel B</th>\n",
       "      <th id=\"T_723ea_level0_col7\" class=\"col_heading level0 col7\" >similarity A</th>\n",
       "      <th id=\"T_723ea_level0_col8\" class=\"col_heading level0 col8\" >similarity B</th>\n",
       "      <th id=\"T_723ea_level0_col9\" class=\"col_heading level0 col9\" >A - B similarity</th>\n",
       "    </tr>\n",
       "  </thead>\n",
       "  <tbody>\n",
       "    <tr>\n",
       "      <th id=\"T_723ea_level0_row0\" class=\"row_heading level0 row0\" >4</th>\n",
       "      <td id=\"T_723ea_row0_col0\" class=\"data row0 col0\" >What microcomputer did the author's friend build?</td>\n",
       "      <td id=\"T_723ea_row0_col1\" class=\"data row0 col1\" >A microcomputer kit sold by Heathkit.</td>\n",
       "      <td id=\"T_723ea_row0_col2\" class=\"data row0 col2\" >\n",
       "The microcomputer that the author's friend built was a Heathkit.</td>\n",
       "      <td id=\"T_723ea_row0_col3\" class=\"data row0 col3\" >\n",
       "It is not possible to answer this question with the given context information.</td>\n",
       "      <td id=\"T_723ea_row0_col4\" class=\"data row0 col4\" >0.000000</td>\n",
       "      <td id=\"T_723ea_row0_col5\" class=\"data row0 col5\" >-1.000000</td>\n",
       "      <td id=\"T_723ea_row0_col6\" class=\"data row0 col6\" >1.000000</td>\n",
       "      <td id=\"T_723ea_row0_col7\" class=\"data row0 col7\" >0.875564</td>\n",
       "      <td id=\"T_723ea_row0_col8\" class=\"data row0 col8\" >0.263309</td>\n",
       "      <td id=\"T_723ea_row0_col9\" class=\"data row0 col9\" >0.612254</td>\n",
       "    </tr>\n",
       "    <tr>\n",
       "      <th id=\"T_723ea_level0_row1\" class=\"row_heading level0 row1\" >3</th>\n",
       "      <td id=\"T_723ea_row1_col0\" class=\"data row1 col0\" >What was the author's experience with the 1401?</td>\n",
       "      <td id=\"T_723ea_row1_col1\" class=\"data row1 col1\" >The author couldn't figure out what to do with it and didn't have any data stored on punched cards.</td>\n",
       "      <td id=\"T_723ea_row1_col2\" class=\"data row1 col2\" >\n",
       "The author's experience with the 1401 was limited. He and his friend Rich Draves had permission to use it, but they didn't have any data stored on punched cards to use as input for their programs. The author remembers the moment he learned it was possible for programs not to terminate, when one of his programs didn't. He also remembers the alien-looking machines and the spectacularly loud printer.</td>\n",
       "      <td id=\"T_723ea_row1_col3\" class=\"data row1 col3\" >\n",
       "The author's experience with the 1401 was that they wrote simple games, a program to predict how high their model rockets would fly, and a word processor that their father used to write at least one book. They also wrote short stories, but the memory of the 1401 was limited so they could only write two pages at a time.</td>\n",
       "      <td id=\"T_723ea_row1_col4\" class=\"data row1 col4\" >1.000000</td>\n",
       "      <td id=\"T_723ea_row1_col5\" class=\"data row1 col5\" >1.000000</td>\n",
       "      <td id=\"T_723ea_row1_col6\" class=\"data row1 col6\" >0.000000</td>\n",
       "      <td id=\"T_723ea_row1_col7\" class=\"data row1 col7\" >0.517464</td>\n",
       "      <td id=\"T_723ea_row1_col8\" class=\"data row1 col8\" >0.312007</td>\n",
       "      <td id=\"T_723ea_row1_col9\" class=\"data row1 col9\" >0.205457</td>\n",
       "    </tr>\n",
       "    <tr>\n",
       "      <th id=\"T_723ea_level0_row2\" class=\"row_heading level0 row2\" >8</th>\n",
       "      <td id=\"T_723ea_row2_col0\" class=\"data row2 col0\" >What made the author switch to studying AI?</td>\n",
       "      <td id=\"T_723ea_row2_col1\" class=\"data row2 col1\" >The novel \"The Moon is a Harsh Mistress\" and seeing Terry Winograd using SHRDLU.</td>\n",
       "      <td id=\"T_723ea_row2_col2\" class=\"data row2 col2\" >\n",
       "The author switched to studying AI because he was drawn to the idea of creating a program like SHRDLU that could understand natural language. He was inspired by Terry Winograd's use of SHRDLU and believed that it was already climbing the lower slopes of intelligence. He was excited by the challenge of teaching himself Lisp, which was regarded as the language of AI at the time, and wanted to reverse-engineer SHRDLU for his undergraduate thesis. He was disappointed to find that the AI programs of the time could only understand a very limited subset of natural language, and realized that the approach of using explicit data structures to represent concepts was not going to work. He decided to focus on Lisp instead, and wrote a book about Lisp hacking.</td>\n",
       "      <td id=\"T_723ea_row2_col3\" class=\"data row2 col3\" >\n",
       "The author switched to studying AI because they realized that the way AI was being practiced at the time was a hoax. They wanted to learn more about the field and chose Lisp as the language to do so, since it was regarded as the language of AI. They also applied to three graduate schools renowned for AI at the time, and wanted to explore the potential of microcomputers.</td>\n",
       "      <td id=\"T_723ea_row2_col4\" class=\"data row2 col4\" >-1.000000</td>\n",
       "      <td id=\"T_723ea_row2_col5\" class=\"data row2 col5\" >1.000000</td>\n",
       "      <td id=\"T_723ea_row2_col6\" class=\"data row2 col6\" >-2.000000</td>\n",
       "      <td id=\"T_723ea_row2_col7\" class=\"data row2 col7\" >0.519770</td>\n",
       "      <td id=\"T_723ea_row2_col8\" class=\"data row2 col8\" >0.409743</td>\n",
       "      <td id=\"T_723ea_row2_col9\" class=\"data row2 col9\" >0.110027</td>\n",
       "    </tr>\n",
       "    <tr>\n",
       "      <th id=\"T_723ea_level0_row3\" class=\"row_heading level0 row3\" >7</th>\n",
       "      <td id=\"T_723ea_row3_col0\" class=\"data row3 col0\" >What did the author plan to study in college initially?</td>\n",
       "      <td id=\"T_723ea_row3_col1\" class=\"data row3 col1\" >Philosophy.</td>\n",
       "      <td id=\"T_723ea_row3_col2\" class=\"data row3 col2\" >\n",
       "The author initially planned to study graduate-level mathematics in college.</td>\n",
       "      <td id=\"T_723ea_row3_col3\" class=\"data row3 col3\" >\n",
       "The author initially planned to study painting and drawing at the RISD foundation program.</td>\n",
       "      <td id=\"T_723ea_row3_col4\" class=\"data row3 col4\" >-1.000000</td>\n",
       "      <td id=\"T_723ea_row3_col5\" class=\"data row3 col5\" >-1.000000</td>\n",
       "      <td id=\"T_723ea_row3_col6\" class=\"data row3 col6\" >0.000000</td>\n",
       "      <td id=\"T_723ea_row3_col7\" class=\"data row3 col7\" >0.415815</td>\n",
       "      <td id=\"T_723ea_row3_col8\" class=\"data row3 col8\" >0.332563</td>\n",
       "      <td id=\"T_723ea_row3_col9\" class=\"data row3 col9\" >0.083252</td>\n",
       "    </tr>\n",
       "    <tr>\n",
       "      <th id=\"T_723ea_level0_row4\" class=\"row_heading level0 row4\" >0</th>\n",
       "      <td id=\"T_723ea_row4_col0\" class=\"data row4 col0\" >What were the two main things the author worked on before college?</td>\n",
       "      <td id=\"T_723ea_row4_col1\" class=\"data row4 col1\" >Writing and programming.</td>\n",
       "      <td id=\"T_723ea_row4_col2\" class=\"data row4 col2\" >\n",
       "The two main things the author worked on before college were painting and freelance Lisp hacking work.</td>\n",
       "      <td id=\"T_723ea_row4_col3\" class=\"data row4 col3\" >\n",
       "The two main things the author worked on before college were painting and writing essays.</td>\n",
       "      <td id=\"T_723ea_row4_col4\" class=\"data row4 col4\" >-1.000000</td>\n",
       "      <td id=\"T_723ea_row4_col5\" class=\"data row4 col5\" >-1.000000</td>\n",
       "      <td id=\"T_723ea_row4_col6\" class=\"data row4 col6\" >0.000000</td>\n",
       "      <td id=\"T_723ea_row4_col7\" class=\"data row4 col7\" >0.536872</td>\n",
       "      <td id=\"T_723ea_row4_col8\" class=\"data row4 col8\" >0.506068</td>\n",
       "      <td id=\"T_723ea_row4_col9\" class=\"data row4 col9\" >0.030803</td>\n",
       "    </tr>\n",
       "    <tr>\n",
       "      <th id=\"T_723ea_level0_row5\" class=\"row_heading level0 row5\" >6</th>\n",
       "      <td id=\"T_723ea_row5_col0\" class=\"data row5 col0\" >What did the author write using the TRS-80?</td>\n",
       "      <td id=\"T_723ea_row5_col1\" class=\"data row5 col1\" >Simple games, a program to predict rocket flight, and a word processor.</td>\n",
       "      <td id=\"T_723ea_row5_col2\" class=\"data row5 col2\" >\n",
       "The author wrote a paper using the TRS-80 about how to choose what to work on in the past. The paper discussed topics such as numbers, errors, I/O, McCarthy's Lisp, spec expressed as code, abstract concepts, everyday words, and the evolution of computers.</td>\n",
       "      <td id=\"T_723ea_row5_col3\" class=\"data row5 col3\" >\n",
       "The author wrote a more detailed version of McCarthy's original Lisp spec for others to read using the TRS-80.</td>\n",
       "      <td id=\"T_723ea_row5_col4\" class=\"data row5 col4\" >-1.000000</td>\n",
       "      <td id=\"T_723ea_row5_col5\" class=\"data row5 col5\" >1.000000</td>\n",
       "      <td id=\"T_723ea_row5_col6\" class=\"data row5 col6\" >-2.000000</td>\n",
       "      <td id=\"T_723ea_row5_col7\" class=\"data row5 col7\" >0.375516</td>\n",
       "      <td id=\"T_723ea_row5_col8\" class=\"data row5 col8\" >0.365896</td>\n",
       "      <td id=\"T_723ea_row5_col9\" class=\"data row5 col9\" >0.009620</td>\n",
       "    </tr>\n",
       "    <tr>\n",
       "      <th id=\"T_723ea_level0_row6\" class=\"row_heading level0 row6\" >1</th>\n",
       "      <td id=\"T_723ea_row6_col0\" class=\"data row6 col0\" >What kind of stories did the author write before college?</td>\n",
       "      <td id=\"T_723ea_row6_col1\" class=\"data row6 col1\" >Short stories.</td>\n",
       "      <td id=\"T_723ea_row6_col2\" class=\"data row6 col2\" >\n",
       "The author wrote short stories before college.</td>\n",
       "      <td id=\"T_723ea_row6_col3\" class=\"data row6 col3\" >\n",
       "The author wrote short stories before college.</td>\n",
       "      <td id=\"T_723ea_row6_col4\" class=\"data row6 col4\" >0.000000</td>\n",
       "      <td id=\"T_723ea_row6_col5\" class=\"data row6 col5\" >0.000000</td>\n",
       "      <td id=\"T_723ea_row6_col6\" class=\"data row6 col6\" >0.000000</td>\n",
       "      <td id=\"T_723ea_row6_col7\" class=\"data row6 col7\" >0.903834</td>\n",
       "      <td id=\"T_723ea_row6_col8\" class=\"data row6 col8\" >0.903834</td>\n",
       "      <td id=\"T_723ea_row6_col9\" class=\"data row6 col9\" >0.000000</td>\n",
       "    </tr>\n",
       "    <tr>\n",
       "      <th id=\"T_723ea_level0_row7\" class=\"row_heading level0 row7\" >2</th>\n",
       "      <td id=\"T_723ea_row7_col0\" class=\"data row7 col0\" >What programming language did the author use on the IBM 1401?</td>\n",
       "      <td id=\"T_723ea_row7_col1\" class=\"data row7 col1\" >Fortran.</td>\n",
       "      <td id=\"T_723ea_row7_col2\" class=\"data row7 col2\" >\n",
       "The author used an early version of Fortran on the IBM 1401.</td>\n",
       "      <td id=\"T_723ea_row7_col3\" class=\"data row7 col3\" >\n",
       "The author used an early version of Fortran on the IBM 1401.</td>\n",
       "      <td id=\"T_723ea_row7_col4\" class=\"data row7 col4\" >1.000000</td>\n",
       "      <td id=\"T_723ea_row7_col5\" class=\"data row7 col5\" >1.000000</td>\n",
       "      <td id=\"T_723ea_row7_col6\" class=\"data row7 col6\" >0.000000</td>\n",
       "      <td id=\"T_723ea_row7_col7\" class=\"data row7 col7\" >0.816106</td>\n",
       "      <td id=\"T_723ea_row7_col8\" class=\"data row7 col8\" >0.816106</td>\n",
       "      <td id=\"T_723ea_row7_col9\" class=\"data row7 col9\" >0.000000</td>\n",
       "    </tr>\n",
       "    <tr>\n",
       "      <th id=\"T_723ea_level0_row8\" class=\"row_heading level0 row8\" >5</th>\n",
       "      <td id=\"T_723ea_row8_col0\" class=\"data row8 col0\" >What kind of computer did the author's father buy?</td>\n",
       "      <td id=\"T_723ea_row8_col1\" class=\"data row8 col1\" >A TRS-80.</td>\n",
       "      <td id=\"T_723ea_row8_col2\" class=\"data row8 col2\" >\n",
       "The author's father bought a TRS-80 microcomputer.</td>\n",
       "      <td id=\"T_723ea_row8_col3\" class=\"data row8 col3\" >\n",
       "The author's father bought a TRS-80 computer.</td>\n",
       "      <td id=\"T_723ea_row8_col4\" class=\"data row8 col4\" >0.000000</td>\n",
       "      <td id=\"T_723ea_row8_col5\" class=\"data row8 col5\" >0.000000</td>\n",
       "      <td id=\"T_723ea_row8_col6\" class=\"data row8 col6\" >0.000000</td>\n",
       "      <td id=\"T_723ea_row8_col7\" class=\"data row8 col7\" >0.898926</td>\n",
       "      <td id=\"T_723ea_row8_col8\" class=\"data row8 col8\" >0.905030</td>\n",
       "      <td id=\"T_723ea_row8_col9\" class=\"data row8 col9\" >-0.006104</td>\n",
       "    </tr>\n",
       "    <tr>\n",
       "      <th id=\"T_723ea_level0_row9\" class=\"row_heading level0 row9\" >9</th>\n",
       "      <td id=\"T_723ea_row9_col0\" class=\"data row9 col0\" >What did the author realize about AI during the first year of grad school?</td>\n",
       "      <td id=\"T_723ea_row9_col1\" class=\"data row9 col1\" >That the way AI was practiced at the time was a hoax.</td>\n",
       "      <td id=\"T_723ea_row9_col2\" class=\"data row9 col2\" >\n",
       "The author realized that AI, as practiced at the time, was a hoax. It was clear that there was an unbridgeable gap between what AI programs could do and actually understanding natural language. It was not, in fact, simply a matter of teaching SHRDLU more words. That whole way of doing AI, with explicit data structures representing concepts, was not going to work.</td>\n",
       "      <td id=\"T_723ea_row9_col3\" class=\"data row9 col3\" >\n",
       "The author realized that AI, as practiced at the time, was a hoax and that there weren't any classes in AI at Cornell. The author also realized that Lisp was regarded as the language of AI and that AI involved programs that could translate natural language into a formal representation.</td>\n",
       "      <td id=\"T_723ea_row9_col4\" class=\"data row9 col4\" >1.000000</td>\n",
       "      <td id=\"T_723ea_row9_col5\" class=\"data row9 col5\" >1.000000</td>\n",
       "      <td id=\"T_723ea_row9_col6\" class=\"data row9 col6\" >0.000000</td>\n",
       "      <td id=\"T_723ea_row9_col7\" class=\"data row9 col7\" >0.607929</td>\n",
       "      <td id=\"T_723ea_row9_col8\" class=\"data row9 col8\" >0.614198</td>\n",
       "      <td id=\"T_723ea_row9_col9\" class=\"data row9 col9\" >-0.006268</td>\n",
       "    </tr>\n",
       "  </tbody>\n",
       "</table>\n"
      ],
      "text/plain": [
       "<pandas.io.formats.style.Styler at 0x7f2cb6364a60>"
      ]
     },
     "execution_count": 24,
     "metadata": {},
     "output_type": "execute_result"
    }
   ],
   "source": [
    "def highlight(row):\n",
    "    red = \"background-color: red;\"\n",
    "    blue = \"background-color: blue;\"\n",
    "    green = \"background-color: green;\"\n",
    "\n",
    "    return [\n",
    "        green if row[\"rel A\"] >= 0.0 else red,\n",
    "        green if row[\"rel B\"] >= 0.0 else red,\n",
    "        green if row[\"similarity A\"] > 0.5 else red,\n",
    "        green if row[\"similarity B\"] > 0.5 else red,\n",
    "    ]\n",
    "\n",
    "\n",
    "df.style.apply(\n",
    "    highlight, subset=[\"rel A\", \"rel B\", \"similarity A\", \"similarity B\"], axis=1\n",
    ")"
   ]
  },
  {
   "cell_type": "markdown",
   "id": "6617cd6d-73b2-429d-9757-c1e00cfbdb89",
   "metadata": {},
   "source": [
    "By inspecting the results, we see that pruning the nodes has affected the correctness on some on the questions. However, we also note that the pipeline still manages to answer many questions correctly. As we can see, the evaluation models are not perfect either but at least give a signal to ease the evaluation process."
   ]
  },
  {
   "cell_type": "code",
   "execution_count": null,
   "id": "c8a9c309-b7f6-4680-87d1-191e69a98ab6",
   "metadata": {},
   "outputs": [],
   "source": []
  }
 ],
 "metadata": {
  "kernelspec": {
   "display_name": "Python 3 (ipykernel)",
   "language": "python",
   "name": "python3"
  },
  "language_info": {
   "codemirror_mode": {
    "name": "ipython",
    "version": 3
   },
   "file_extension": ".py",
   "mimetype": "text/x-python",
   "name": "python",
   "nbconvert_exporter": "python",
   "pygments_lexer": "ipython3",
   "version": "3.10.6"
  }
 },
 "nbformat": 4,
 "nbformat_minor": 5
}
