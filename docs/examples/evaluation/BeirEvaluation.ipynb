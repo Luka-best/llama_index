{
 "cells": [
  {
   "cell_type": "markdown",
   "metadata": {},
   "source": [
    "About [BEIR](https://github.com/beir-cellar/beir):\n",
    "\n",
    "BEIR is a heterogeneous benchmark containing diverse IR tasks. It also provides a common and easy framework for evaluation of your NLP-based retrieval models within the benchmark.\n",
    "\n",
    "Refer to the repo via the link for a full list of supported datasets."
   ]
  },
  {
   "cell_type": "markdown",
   "metadata": {},
   "source": [
    "Here, we test the `all-MiniLM-L6-v2` sentence-transformer embedding, which is one of the fastest for the given accuracy range. We set the top_k value for the retriever to 10. We also use the nfcorpus dataset."
   ]
  },
  {
   "cell_type": "code",
   "execution_count": 3,
   "metadata": {},
   "outputs": [
    {
     "name": "stdout",
     "output_type": "stream",
     "text": [
      "Dataset: nfcorpus downloaded at: /home/jonch/.cache/llama_index/datasets/BeIR__nfcorpus\n",
      "Evaluating on dataset: nfcorpus\n",
      "-------------------------------------\n"
     ]
    },
    {
     "name": "stderr",
     "output_type": "stream",
     "text": [
      "100%|█████████████████████████████████████████████████████████████████████████████| 3633/3633 [00:00<00:00, 108080.99it/s]\n",
      "Parsing documents into nodes: 100%|██████████████████████████████████████████████████| 3633/3633 [00:06<00:00, 552.33it/s]\n",
      "Generating embeddings: 100%|██████████████████████████████████████████████████████████| 3649/3649 [03:41<00:00, 16.47it/s]\n"
     ]
    },
    {
     "name": "stdout",
     "output_type": "stream",
     "text": [
      "Retriever created for:  nfcorpus\n",
      "Evaluating retriever on questions against qrels\n"
     ]
    },
    {
     "name": "stderr",
     "output_type": "stream",
     "text": [
      "100%|███████████████████████████████████████████████████████████████████████████████████| 323/323 [01:17<00:00,  4.18it/s]"
     ]
    },
    {
     "name": "stdout",
     "output_type": "stream",
     "text": [
      "Results for: nfcorpus\n",
      "{'NDCG@10': 0.31348, 'MAP@10': 0.10961, 'Recall@10': 0.15835, 'precision@10': 0.23901}\n",
      "-------------------------------------\n"
     ]
    },
    {
     "name": "stderr",
     "output_type": "stream",
     "text": [
      "\n"
     ]
    }
   ],
   "source": [
    "from llama_index.evaluation.benchmarks import BeirEvaluator\n",
    "from langchain.embeddings.huggingface import HuggingFaceEmbeddings\n",
    "from llama_index import LangchainEmbedding, ServiceContext, VectorStoreIndex\n",
    "\n",
    "\n",
    "def create_retriever(documents):\n",
    "    embed_model = LangchainEmbedding(\n",
    "        HuggingFaceEmbeddings(model_name=\"sentence-transformers/all-MiniLM-L6-v2\")\n",
    "    )\n",
    "    service_context = ServiceContext.from_defaults(embed_model=embed_model)\n",
    "    index = VectorStoreIndex.from_documents(\n",
    "        documents, service_context=service_context, show_progress=True\n",
    "    )\n",
    "    return index.as_retriever(similarity_top_k=30)\n",
    "\n",
    "\n",
    "BeirEvaluator().run(create_retriever, datasets=[\"nfcorpus\"])"
   ]
  },
  {
   "cell_type": "markdown",
   "metadata": {},
   "source": [
    "Higher is better for all the evaluation metrics.\n",
    "\n",
    "This [towardsdatascience article](https://towardsdatascience.com/ranking-evaluation-metrics-for-recommender-systems-263d0a66ef54) covers NCDG, MAP and MRR in greater depth."
   ]
  },
  {
   "cell_type": "code",
   "execution_count": null,
   "metadata": {},
   "outputs": [],
   "source": []
  }
 ],
 "metadata": {
  "kernelspec": {
   "display_name": "Python 3 (ipykernel)",
   "language": "python",
   "name": "python3"
  },
  "language_info": {
   "codemirror_mode": {
    "name": "ipython",
    "version": 3
   },
   "file_extension": ".py",
   "mimetype": "text/x-python",
   "name": "python",
   "nbconvert_exporter": "python",
   "pygments_lexer": "ipython3",
   "version": "3.10.6"
  }
 },
 "nbformat": 4,
 "nbformat_minor": 4
}
