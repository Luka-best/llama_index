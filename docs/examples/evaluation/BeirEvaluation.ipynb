{
 "cells": [
  {
   "cell_type": "code",
   "execution_count": null,
   "metadata": {},
   "outputs": [
    {
     "name": "stderr",
     "output_type": "stream",
     "text": [
      "/home/jonch/.pyenv/versions/3.10.6/lib/python3.10/site-packages/beir/datasets/data_loader.py:2: TqdmWarning: IProgress not found. Please update jupyter and ipywidgets. See https://ipywidgets.readthedocs.io/en/stable/user_install.html\n",
      "  from tqdm.autonotebook import tqdm\n"
     ]
    },
    {
     "name": "stdout",
     "output_type": "stream",
     "text": [
      "Dataset: nfcorpus downloaded at: /home/jonch/.cache/llama_index/datasets/BeIR__nfcorpus\n",
      "Evaluating on dataset: nfcorpus\n",
      "-------------------------------------\n"
     ]
    },
    {
     "name": "stderr",
     "output_type": "stream",
     "text": [
      "100%|█████████████████████████████████████████████████████████████████████████████| 3633/3633 [00:00<00:00, 143541.23it/s]\n",
      "Parsing documents into nodes: 100%|██████████████████████████████████████████████████| 3633/3633 [00:06<00:00, 583.80it/s]\n",
      "Generating embeddings:  12%|██████▊                                                    | 420/3649 [03:41<29:01,  1.85it/s]"
     ]
    }
   ],
   "source": [
    "from llama_index.evaluation.benchmarks import BeirEvaluator\n",
    "from langchain.embeddings.huggingface import HuggingFaceEmbeddings\n",
    "from llama_index import LangchainEmbedding, ServiceContext, VectorStoreIndex\n",
    "\n",
    "\n",
    "def create_retriever(documents):\n",
    "    embed_model = LangchainEmbedding(HuggingFaceEmbeddings())\n",
    "    service_context = ServiceContext.from_defaults(embed_model=embed_model)\n",
    "    index = VectorStoreIndex.from_documents(\n",
    "        documents, service_context=service_context, show_progress=True\n",
    "    )\n",
    "    return index.as_retriever()\n",
    "\n",
    "\n",
    "BeirEvaluator().run(create_retriever)"
   ]
  },
  {
   "cell_type": "code",
   "execution_count": null,
   "metadata": {},
   "outputs": [],
   "source": []
  }
 ],
 "metadata": {
  "kernelspec": {
   "display_name": "Python 3 (ipykernel)",
   "language": "python",
   "name": "python3"
  },
  "language_info": {
   "codemirror_mode": {
    "name": "ipython",
    "version": 3
   },
   "file_extension": ".py",
   "mimetype": "text/x-python",
   "name": "python",
   "nbconvert_exporter": "python",
   "pygments_lexer": "ipython3",
   "version": "3.10.6"
  }
 },
 "nbformat": 4,
 "nbformat_minor": 4
}
