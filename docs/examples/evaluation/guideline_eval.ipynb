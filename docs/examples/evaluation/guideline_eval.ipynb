{
 "cells": [
  {
   "cell_type": "markdown",
   "id": "da1a2754-e6c0-45ec-8bd5-b080673fb26d",
   "metadata": {},
   "source": [
    "# Guideline Evaluator"
   ]
  },
  {
   "cell_type": "code",
   "execution_count": null,
   "id": "7f647fa2-f007-4242-8c5b-5dbdbb3ad345",
   "metadata": {
    "tags": []
   },
   "outputs": [],
   "source": [
    "from llama_index.evaluation import GuidelineEvaluator\n",
    "from llama_index import ServiceContext\n",
    "from llama_index.llms import OpenAI"
   ]
  },
  {
   "cell_type": "code",
   "execution_count": null,
   "id": "5726c6cf-f9e8-489a-80cb-3272737d2b6f",
   "metadata": {
    "tags": []
   },
   "outputs": [],
   "source": [
    "GUIDELINES = [\n",
    "    \"The response should fully answer the query.\",\n",
    "    \"The response should avoid being vague or ambiguous.\",\n",
    "    \"The response should be specific and use statistics or numbers when possible.\",\n",
    "]"
   ]
  },
  {
   "cell_type": "code",
   "execution_count": null,
   "id": "ca96df17-1c4e-4474-8579-a27d53ac82b3",
   "metadata": {
    "tags": []
   },
   "outputs": [],
   "source": [
    "service_context = ServiceContext.from_defaults(llm=OpenAI(model='gpt-4'))\n",
    "\n",
    "evaluators = [\n",
    "    GuidelineEvaluator(service_context=service_context, guidelines=guideline)\n",
    "    for guideline in GUIDELINES\n",
    "]"
   ]
  },
  {
   "cell_type": "code",
   "execution_count": null,
   "id": "07ce9b34-73b2-4be7-a1da-3f9103988c9a",
   "metadata": {
    "tags": []
   },
   "outputs": [],
   "source": [
    "sample_data = {\n",
    "    \"query\": \"Tell me about global warming.\",\n",
    "    \"contexts\": [\n",
    "        \"Global warming refers to the long-term increase in Earth's average surface temperature due to human activities such as the burning of fossil fuels and deforestation.\",\n",
    "        \"It is a major environmental issue with consequences such as rising sea levels, extreme weather events, and disruptions to ecosystems.\",\n",
    "        \"Efforts to combat global warming include reducing carbon emissions, transitioning to renewable energy sources, and promoting sustainable practices.\"\n",
    "    ],\n",
    "    \"response\": \"Global warming is a critical environmental issue caused by human activities that lead to a rise in Earth's temperature. It has various adverse effects on the planet.\"\n",
    "}"
   ]
  },
  {
   "cell_type": "code",
   "execution_count": null,
   "id": "69f66574-87dd-4aec-8d73-efe347b701e6",
   "metadata": {
    "tags": []
   },
   "outputs": [],
   "source": [
    "for guideline, evaluator in zip(GUIDELINES, evaluators):\n",
    "    eval_result = evaluator.evaluate(query=sample_data['query'], contexts=sample_data['contexts'], response=sample_data['response'])\n",
    "    print(\"=====\")\n",
    "    print(f\"Guideline: {guideline}\")\n",
    "    print(f'Pass: {eval_result.passing}')\n",
    "    print(f'Feedback: {eval_result.feedback}')"
   ]
  },
  {
   "cell_type": "code",
   "execution_count": null,
   "id": "2f13e658-982f-4b20-ba08-e639cd7fe1c4",
   "metadata": {},
   "outputs": [],
   "source": []
  }
 ],
 "metadata": {
  "kernelspec": {
   "display_name": "Python 3 (ipykernel)",
   "language": "python",
   "name": "python3"
  },
  "language_info": {
   "codemirror_mode": {
    "name": "ipython",
    "version": 3
   },
   "file_extension": ".py",
   "mimetype": "text/x-python",
   "name": "python",
   "nbconvert_exporter": "python",
   "pygments_lexer": "ipython3",
   "version": "3.9.16"
  }
 },
 "nbformat": 4,
 "nbformat_minor": 5
}
