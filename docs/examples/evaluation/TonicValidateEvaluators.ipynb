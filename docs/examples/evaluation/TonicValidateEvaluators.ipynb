{
 "cells": [
  {
   "cell_type": "markdown",
   "id": "c8971d2b-ceda-48c7-8ebb-5d2b5039c8f9",
   "metadata": {},
   "source": [
    "# Tonic Validate Evaluators\n",
    "\n",
    "This notebook has some basic usage examples of how to use [Tonic Validate](https://github.com/TonicAI/tonic_validate)'s RAGs metrics using LlamaIndex."
   ]
  },
  {
   "cell_type": "code",
   "execution_count": 1,
   "id": "4da81670-8004-4124-b8f0-2db7decb19b6",
   "metadata": {},
   "outputs": [],
   "source": [
    "import json\n",
    "\n",
    "import pandas as pd\n",
    "from llama_index import VectorStoreIndex, SimpleDirectoryReader\n",
    "from llama_index.evaluation import (\n",
    "    AnswerConsistencyEvaluator,\n",
    "    AnswerConsistencyBinaryEvaluator,\n",
    "    AnswerSimilarityEvaluator,\n",
    "    AugmentationAccuracyEvaluator,\n",
    "    AugmentationPrecisionEvaluator,\n",
    "    RetrievalPrecisionEvaluator,\n",
    "    TonicValidateEvaluator\n",
    ")\n",
    "    \n"
   ]
  },
  {
   "cell_type": "markdown",
   "id": "b0033ce8-fc3d-4e15-8153-be529065a240",
   "metadata": {},
   "source": [
    "For this example, we have an example of a question with a reference correct answer that does not match the LLM response answer. There are two retrieved context chunks, of which one of them has the correct answer."
   ]
  },
  {
   "cell_type": "code",
   "execution_count": 2,
   "id": "3f1a592e-5c31-4132-964e-5d89bc7e46da",
   "metadata": {},
   "outputs": [],
   "source": [
    "question = \"What makes Sam Altman a good founder?\"\n",
    "reference_answer = \"He is smart and has a great force of will.\"\n",
    "llm_answer = \"He is a good founder because he is smart.\"\n",
    "retrieved_context_list = [\n",
    "    \"Sam Altman is a good founder. He is very smart.\",\n",
    "    \"What makes Sam Altman such a good founder is his great force of will.\"\n",
    "]"
   ]
  },
  {
   "cell_type": "markdown",
   "id": "1bebb6f7-244d-4e54-bb7c-a92148e4a0e2",
   "metadata": {},
   "source": [
    "The answer similarity score is a score between 0 and 5 that scores how well the LLM answer matches the reference answer. In this case, they do not match perfectly, so the answer similarity score is not a perfect 5."
   ]
  },
  {
   "cell_type": "code",
   "execution_count": 3,
   "id": "33e75285-1924-4947-936b-11ba87a54036",
   "metadata": {},
   "outputs": [
    {
     "data": {
      "text/plain": [
       "EvaluationResult(query='What makes Sam Altman a good founder?', contexts=['Sam Altman is a good founder. He is very smart.', 'What makes Sam Altman such a good founder is his great force of will.'], response='He is a good founder because he is smart.', passing=None, feedback=None, score=4.0, pairwise_source=None, invalid_result=False, invalid_reason=None)"
      ]
     },
     "execution_count": 3,
     "metadata": {},
     "output_type": "execute_result"
    }
   ],
   "source": [
    "answer_similarity_evaluator = AnswerSimilarityEvaluator()\n",
    "score = await answer_similarity_evaluator.aevaluate(question, llm_answer, retrieved_context_list, reference_response=reference_answer)\n",
    "score"
   ]
  },
  {
   "cell_type": "markdown",
   "id": "5dd80d97-bbd5-44ed-adf4-34cb5f5ddcd3",
   "metadata": {},
   "source": [
    "The two answer consistency scores are between 0 and 1, and measure whether the answer has information that does not appear in the retrieved context. In this case, the answer does appear in the retrieved context, so these scores are 1. "
   ]
  },
  {
   "cell_type": "code",
   "execution_count": 4,
   "id": "1c4b3a9a-8ae0-4054-b772-aae65447426d",
   "metadata": {},
   "outputs": [
    {
     "data": {
      "text/plain": [
       "EvaluationResult(query='What makes Sam Altman a good founder?', contexts=['Sam Altman is a good founder. He is very smart.', 'What makes Sam Altman such a good founder is his great force of will.'], response='He is a good founder because he is smart.', passing=None, feedback=None, score=0.0, pairwise_source=None, invalid_result=False, invalid_reason=None)"
      ]
     },
     "execution_count": 4,
     "metadata": {},
     "output_type": "execute_result"
    }
   ],
   "source": [
    "answer_consistency_binary_evaluator = AnswerConsistencyBinaryEvaluator()\n",
    "\n",
    "score = await answer_consistency_binary_evaluator.aevaluate(question, llm_answer, retrieved_context_list)\n",
    "score"
   ]
  },
  {
   "cell_type": "code",
   "execution_count": 5,
   "id": "93a029a0-1799-427e-9a1d-1ff4503d9639",
   "metadata": {},
   "outputs": [
    {
     "data": {
      "text/plain": [
       "EvaluationResult(query='What makes Sam Altman a good founder?', contexts=['Sam Altman is a good founder. He is very smart.', 'What makes Sam Altman such a good founder is his great force of will.'], response='He is a good founder because he is smart.', passing=None, feedback=None, score=1.0, pairwise_source=None, invalid_result=False, invalid_reason=None)"
      ]
     },
     "execution_count": 5,
     "metadata": {},
     "output_type": "execute_result"
    }
   ],
   "source": [
    "answer_consistency_evaluator = AnswerConsistencyEvaluator()\n",
    "\n",
    "score = await answer_consistency_evaluator.aevaluate(question, llm_answer, retrieved_context_list)\n",
    "score"
   ]
  },
  {
   "cell_type": "markdown",
   "id": "be605a98-8a53-49b0-af98-f045e1de017a",
   "metadata": {},
   "source": [
    "Augmentation accuracy measeures the percentage of the retrieved context that is in the answer. In this case, one of the retrieved contexts is in the answer, so this score is 0.5."
   ]
  },
  {
   "cell_type": "code",
   "execution_count": 6,
   "id": "88c84e9f-aaf6-438e-aa63-c0578e3394fc",
   "metadata": {},
   "outputs": [
    {
     "data": {
      "text/plain": [
       "EvaluationResult(query='What makes Sam Altman a good founder?', contexts=['Sam Altman is a good founder. He is very smart.', 'What makes Sam Altman such a good founder is his great force of will.'], response='He is a good founder because he is smart.', passing=None, feedback=None, score=0.5, pairwise_source=None, invalid_result=False, invalid_reason=None)"
      ]
     },
     "execution_count": 6,
     "metadata": {},
     "output_type": "execute_result"
    }
   ],
   "source": [
    "augmentation_accuracy_evaluator = AugmentationAccuracyEvaluator()\n",
    "\n",
    "score = await augmentation_accuracy_evaluator.aevaluate(question, llm_answer, retrieved_context_list)\n",
    "score"
   ]
  },
  {
   "cell_type": "markdown",
   "id": "8222c185-c076-420f-b5c1-242bb6ac6c54",
   "metadata": {},
   "source": [
    "Augmentation precision measures whether the relevant retrieved context makes it into the answer. Both of the retrieved contexts are relevant, but only one makes it into the answer. For that reason, this score is 0.5."
   ]
  },
  {
   "cell_type": "code",
   "execution_count": 7,
   "id": "2724130f-43f8-45b7-a48a-3b3cccde26a0",
   "metadata": {},
   "outputs": [
    {
     "data": {
      "text/plain": [
       "EvaluationResult(query='What makes Sam Altman a good founder?', contexts=['Sam Altman is a good founder. He is very smart.', 'What makes Sam Altman such a good founder is his great force of will.'], response='He is a good founder because he is smart.', passing=None, feedback=None, score=0.5, pairwise_source=None, invalid_result=False, invalid_reason=None)"
      ]
     },
     "execution_count": 7,
     "metadata": {},
     "output_type": "execute_result"
    }
   ],
   "source": [
    "augmentation_precision_evaluator = AugmentationPrecisionEvaluator()\n",
    "\n",
    "score = await augmentation_precision_evaluator.aevaluate(question, llm_answer, retrieved_context_list)\n",
    "score"
   ]
  },
  {
   "cell_type": "markdown",
   "id": "9e021de2-0902-494d-9b97-7996533138ff",
   "metadata": {},
   "source": [
    "Retrieval precision measures the percentage of retrieved context is relevant to answer the question. In this case, both of the retrieved contexts are relevant to answer the question, so the score is 1.0."
   ]
  },
  {
   "cell_type": "code",
   "execution_count": 8,
   "id": "7d6c7b50-4670-4c2a-a37e-c341e882c406",
   "metadata": {},
   "outputs": [
    {
     "data": {
      "text/plain": [
       "EvaluationResult(query='What makes Sam Altman a good founder?', contexts=['Sam Altman is a good founder. He is very smart.', 'What makes Sam Altman such a good founder is his great force of will.'], response='He is a good founder because he is smart.', passing=None, feedback=None, score=1.0, pairwise_source=None, invalid_result=False, invalid_reason=None)"
      ]
     },
     "execution_count": 8,
     "metadata": {},
     "output_type": "execute_result"
    }
   ],
   "source": [
    "retrieval_precision_evaluator = RetrievalPrecisionEvaluator()\n",
    "\n",
    "score = await retrieval_precision_evaluator.aevaluate(question, llm_answer, retrieved_context_list)\n",
    "score"
   ]
  },
  {
   "cell_type": "code",
   "execution_count": 9,
   "id": "1bbb0ece-4962-4147-9262-cafe8fa57aa6",
   "metadata": {},
   "outputs": [
    {
     "data": {
      "text/plain": [
       "EvaluationResult(query='What makes Sam Altman a good founder?', contexts=['Sam Altman is a good founder. He is very smart.', 'What makes Sam Altman such a good founder is his great force of will.'], response='He is a good founder because he is smart.', passing=None, feedback=None, score=1.0, pairwise_source=None, invalid_result=False, invalid_reason=None)"
      ]
     },
     "execution_count": 9,
     "metadata": {},
     "output_type": "execute_result"
    }
   ],
   "source": [
    "score"
   ]
  },
  {
   "cell_type": "markdown",
   "id": "4faf4cd0-4e8f-4540-876a-bfdeefa7b241",
   "metadata": {},
   "source": [
    "The `TonicValidateEvaluator` can calculate all of Tonic Validate's metrics at once."
   ]
  },
  {
   "cell_type": "code",
   "execution_count": 10,
   "id": "33bd6f82-0e70-4989-ade1-dab28c4cf12c",
   "metadata": {},
   "outputs": [],
   "source": [
    "tonic_validate_evaluator = TonicValidateEvaluator()\n",
    "\n",
    "scores = await tonic_validate_evaluator.aevaluate(question, llm_answer, retrieved_context_list, reference_response=reference_answer)"
   ]
  },
  {
   "cell_type": "code",
   "execution_count": 11,
   "id": "3da07443-8016-4787-b272-d0749e2ce945",
   "metadata": {},
   "outputs": [
    {
     "data": {
      "text/plain": [
       "{'answer_consistency': 1.0,\n",
       " 'answer_similarity': 4.0,\n",
       " 'augmentation_accuracy': 0.5,\n",
       " 'augmentation_precision': 0.5,\n",
       " 'retrieval_precision': 1.0}"
      ]
     },
     "execution_count": 11,
     "metadata": {},
     "output_type": "execute_result"
    }
   ],
   "source": [
    "scores.score_dict"
   ]
  },
  {
   "cell_type": "markdown",
   "id": "b7d0476e-3468-434a-9fa8-860f952b85e8",
   "metadata": {},
   "source": [
    "You can also evaluate more than one query and response at once using `TonicValidateEvaluator`, and return a `tonic_validate` `Run` object that can be logged to the Tonic Validate UI (validate.tonic.ai).\n",
    "\n",
    "To do this, you put the questions, LLM answers, retrieved context lists, and reference answers into lists and cal `evaluate_run`."
   ]
  },
  {
   "cell_type": "code",
   "execution_count": 12,
   "id": "4e2911ee-4fb4-48cb-bf16-ba3c8aa8cc1f",
   "metadata": {},
   "outputs": [
    {
     "data": {
      "text/plain": [
       "{'answer_consistency': 1.0,\n",
       " 'answer_similarity': 4.0,\n",
       " 'augmentation_accuracy': 0.5,\n",
       " 'augmentation_precision': 0.5,\n",
       " 'retrieval_precision': 1.0}"
      ]
     },
     "execution_count": 12,
     "metadata": {},
     "output_type": "execute_result"
    }
   ],
   "source": [
    "tonic_validate_evaluator = TonicValidateEvaluator()\n",
    "\n",
    "scores = await tonic_validate_evaluator.aevaluate_run([question], [llm_answer], [retrieved_context_list], [reference_answer])\n",
    "scores.run_data[0].scores"
   ]
  }
 ],
 "metadata": {
  "kernelspec": {
   "display_name": "Python (tvalmetrics_test_env)",
   "language": "python",
   "name": "tvalmetrics_test_env"
  },
  "language_info": {
   "codemirror_mode": {
    "name": "ipython",
    "version": 3
   },
   "file_extension": ".py",
   "mimetype": "text/x-python",
   "name": "python",
   "nbconvert_exporter": "python",
   "pygments_lexer": "ipython3",
   "version": "3.11.4"
  }
 },
 "nbformat": 4,
 "nbformat_minor": 5
}
