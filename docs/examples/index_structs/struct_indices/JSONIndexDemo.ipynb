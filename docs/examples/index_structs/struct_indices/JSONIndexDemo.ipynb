{
    "cells": [
        {
            "attachments": {},
            "cell_type": "markdown",
            "id": "e45f9b60-cd6b-4c15-958f-1feca5438128",
            "metadata": {},
            "source": [
                "# JSON Index"
            ]
        },
        {
            "cell_type": "code",
            "execution_count": 1,
            "id": "119eb42b",
            "metadata": {
                "tags": []
            },
            "outputs": [],
            "source": [
                "import logging\n",
                "import sys\n",
                "\n",
                "logging.basicConfig(stream=sys.stdout, level=logging.INFO)\n",
                "logging.getLogger().addHandler(logging.StreamHandler(stream=sys.stdout))"
            ]
        },
        {
            "cell_type": "code",
            "execution_count": 2,
            "id": "107396a9-4aa7-49b3-9f0f-a755726c19ba",
            "metadata": {
                "tags": []
            },
            "outputs": [],
            "source": [
                "from IPython.display import Markdown, display"
            ]
        },
        {
            "cell_type": "code",
            "execution_count": 3,
            "id": "ec28d9b5-2d26-4522-9cfe-3ecc5ff40e59",
            "metadata": {
                "tags": []
            },
            "outputs": [
                {
                    "name": "stdout",
                    "output_type": "stream",
                    "text": [
                        "INFO:numexpr.utils:NumExpr defaulting to 2 threads.\n",
                        "NumExpr defaulting to 2 threads.\n"
                    ]
                },
                {
                    "name": "stderr",
                    "output_type": "stream",
                    "text": [
                        "/workspaces/llama_index/.venv/lib/python3.10/site-packages/tqdm/auto.py:21: TqdmWarning: IProgress not found. Please update jupyter and ipywidgets. See https://ipywidgets.readthedocs.io/en/stable/user_install.html\n",
                        "  from .autonotebook import tqdm as notebook_tqdm\n"
                    ]
                }
            ],
            "source": [
                "from llama_index.indices.struct_store import GPTJSONIndex"
            ]
        },
        {
            "attachments": {},
            "cell_type": "markdown",
            "id": "5ece7d73-0f67-4ff5-95e5-249a25bd118c",
            "metadata": {},
            "source": [
                "### Let's start on a Toy JSON\n",
                "\n",
                "Very simple JSON object containing data from a blog post site with user comments.\n",
                "\n",
                "We will also provide a JSON schema (which we were able to generate by giving ChatGPT a sample of the JSON)."
            ]
        },
        {
            "cell_type": "code",
            "execution_count": 4,
            "id": "1484fe58-4853-4a76-bffc-435a9cce3e2e",
            "metadata": {
                "tags": []
            },
            "outputs": [],
            "source": [
                "# Test on some sample data \n",
                "json_value = {\n",
                "  \"blogPosts\": [\n",
                "    {\n",
                "      \"id\": 1,\n",
                "      \"title\": \"First blog post\",\n",
                "      \"content\": \"This is my first blog post\"\n",
                "    },\n",
                "    {\n",
                "      \"id\": 2,\n",
                "      \"title\": \"Second blog post\",\n",
                "      \"content\": \"This is my second blog post\"\n",
                "    }\n",
                "  ],\n",
                "  \"comments\": [\n",
                "    {\n",
                "      \"id\": 1,\n",
                "      \"content\": \"Nice post!\",\n",
                "      \"username\": \"user2\",\n",
                "      \"blogPostId\": 1\n",
                "    },\n",
                "    {\n",
                "      \"id\": 2,\n",
                "      \"content\": \"Interesting thoughts\",\n",
                "      \"username\": \"user1\",\n",
                "      \"blogPostId\": 2\n",
                "    }\n",
                "  ]\n",
                "}\n",
                "\n",
                "json_schema = {\n",
                "  \"$schema\": \"http://json-schema.org/draft-07/schema#\",\n",
                "  \"description\": \"Schema for a very simple blog post app\",\n",
                "  \"type\": \"object\",\n",
                "  \"properties\": {\n",
                "    \"blogPosts\": {\n",
                "      \"description\": \"List of blog posts\",\n",
                "      \"type\": \"array\",\n",
                "      \"items\": {\n",
                "        \"type\": \"object\",\n",
                "        \"properties\": {\n",
                "          \"id\": {\n",
                "            \"description\": \"Unique identifier for the blog post\",\n",
                "            \"type\": \"integer\"\n",
                "          },\n",
                "          \"title\": {\n",
                "            \"description\": \"Title of the blog post\",\n",
                "            \"type\": \"string\"\n",
                "          },\n",
                "          \"content\": {\n",
                "            \"description\": \"Content of the blog post\",\n",
                "            \"type\": \"string\"\n",
                "          }\n",
                "        },\n",
                "        \"required\": [\"id\", \"title\", \"content\"]\n",
                "      }\n",
                "    },\n",
                "    \"comments\": {\n",
                "      \"description\": \"List of comments on blog posts\",\n",
                "      \"type\": \"array\",\n",
                "      \"items\": {\n",
                "        \"type\": \"object\",\n",
                "        \"properties\": {\n",
                "          \"id\": {\n",
                "            \"description\": \"Unique identifier for the comment\",\n",
                "            \"type\": \"integer\"\n",
                "          },\n",
                "          \"content\": {\n",
                "            \"description\": \"Content of the comment\",\n",
                "            \"type\": \"string\"\n",
                "          },\n",
                "          \"username\": {\n",
                "            \"description\": \"Username of the commenter\",\n",
                "            \"type\": \"string\"\n",
                "          },\n",
                "          \"blogPostId\": {\n",
                "            \"description\": \"Identifier for the blog post to which the comment belongs\",\n",
                "            \"type\": \"integer\"\n",
                "          }\n",
                "        },\n",
                "        \"required\": [\"id\", \"content\", \"username\", \"blogPostId\"]\n",
                "      }\n",
                "    }\n",
                "  },\n",
                "  \"required\": [\"blogPosts\", \"comments\"]\n",
                "}\n"
            ]
        },
        {
            "cell_type": "code",
            "execution_count": 5,
            "id": "4fea2edb-b3d4-4313-a656-d6edb00d93c0",
            "metadata": {
                "tags": []
            },
            "outputs": [
                {
                    "name": "stdout",
                    "output_type": "stream",
                    "text": [
                        "INFO:llama_index.token_counter.token_counter:> [build_index_from_nodes] Total LLM token usage: 0 tokens\n",
                        "> [build_index_from_nodes] Total LLM token usage: 0 tokens\n",
                        "INFO:llama_index.token_counter.token_counter:> [build_index_from_nodes] Total embedding token usage: 0 tokens\n",
                        "> [build_index_from_nodes] Total embedding token usage: 0 tokens\n"
                    ]
                },
                {
                    "ename": "AttributeError",
                    "evalue": "'JSONStructDatapoint' object has no attribute 'index_id'",
                    "output_type": "error",
                    "traceback": [
                        "\u001b[0;31m---------------------------------------------------------------------------\u001b[0m",
                        "\u001b[0;31mAttributeError\u001b[0m                            Traceback (most recent call last)",
                        "Cell \u001b[0;32mIn[5], line 1\u001b[0m\n\u001b[0;32m----> 1\u001b[0m index \u001b[39m=\u001b[39m GPTJSONIndex(json_value\u001b[39m=\u001b[39;49mjson_value, json_schema\u001b[39m=\u001b[39;49mjson_schema)\n",
                        "File \u001b[0;32m/workspaces/llama_index/llama_index/indices/struct_store/json.py:31\u001b[0m, in \u001b[0;36mGPTJSONIndex.__init__\u001b[0;34m(self, json_value, json_schema, nodes, index_struct, **kwargs)\u001b[0m\n\u001b[1;32m     28\u001b[0m \u001b[39mself\u001b[39m\u001b[39m.\u001b[39mjson_schema \u001b[39m=\u001b[39m json_schema\n\u001b[1;32m     30\u001b[0m \u001b[39m# index_struct = index_struct or self.index_struct_cls(fields=self.json_value)\u001b[39;00m\n\u001b[0;32m---> 31\u001b[0m \u001b[39msuper\u001b[39;49m()\u001b[39m.\u001b[39;49m\u001b[39m__init__\u001b[39;49m(\n\u001b[1;32m     32\u001b[0m     nodes\u001b[39m=\u001b[39;49m[],\n\u001b[1;32m     33\u001b[0m     \u001b[39m*\u001b[39;49m\u001b[39m*\u001b[39;49mkwargs,\n\u001b[1;32m     34\u001b[0m )\n",
                        "File \u001b[0;32m/workspaces/llama_index/llama_index/indices/struct_store/base.py:55\u001b[0m, in \u001b[0;36mBaseGPTStructStoreIndex.__init__\u001b[0;34m(self, nodes, index_struct, service_context, schema_extract_prompt, output_parser, **kwargs)\u001b[0m\n\u001b[1;32m     51\u001b[0m \u001b[39mself\u001b[39m\u001b[39m.\u001b[39mschema_extract_prompt \u001b[39m=\u001b[39m (\n\u001b[1;32m     52\u001b[0m     schema_extract_prompt \u001b[39mor\u001b[39;00m DEFAULT_SCHEMA_EXTRACT_PROMPT\n\u001b[1;32m     53\u001b[0m )\n\u001b[1;32m     54\u001b[0m \u001b[39mself\u001b[39m\u001b[39m.\u001b[39moutput_parser \u001b[39m=\u001b[39m output_parser \u001b[39mor\u001b[39;00m default_output_parser\n\u001b[0;32m---> 55\u001b[0m \u001b[39msuper\u001b[39;49m()\u001b[39m.\u001b[39;49m\u001b[39m__init__\u001b[39;49m(\n\u001b[1;32m     56\u001b[0m     nodes\u001b[39m=\u001b[39;49mnodes,\n\u001b[1;32m     57\u001b[0m     index_struct\u001b[39m=\u001b[39;49mindex_struct,\n\u001b[1;32m     58\u001b[0m     service_context\u001b[39m=\u001b[39;49mservice_context,\n\u001b[1;32m     59\u001b[0m     \u001b[39m*\u001b[39;49m\u001b[39m*\u001b[39;49mkwargs,\n\u001b[1;32m     60\u001b[0m )\n",
                        "File \u001b[0;32m/workspaces/llama_index/llama_index/indices/base.py:69\u001b[0m, in \u001b[0;36mBaseGPTIndex.__init__\u001b[0;34m(self, nodes, index_struct, storage_context, service_context, **kwargs)\u001b[0m\n\u001b[1;32m     67\u001b[0m     index_struct \u001b[39m=\u001b[39m \u001b[39mself\u001b[39m\u001b[39m.\u001b[39mbuild_index_from_nodes(nodes)\n\u001b[1;32m     68\u001b[0m \u001b[39mself\u001b[39m\u001b[39m.\u001b[39m_index_struct \u001b[39m=\u001b[39m index_struct\n\u001b[0;32m---> 69\u001b[0m \u001b[39mself\u001b[39;49m\u001b[39m.\u001b[39;49m_storage_context\u001b[39m.\u001b[39;49mindex_store\u001b[39m.\u001b[39;49madd_index_struct(\u001b[39mself\u001b[39;49m\u001b[39m.\u001b[39;49m_index_struct)\n",
                        "File \u001b[0;32m/workspaces/llama_index/llama_index/storage/index_store/keyval_index_store.py:35\u001b[0m, in \u001b[0;36mKVIndexStore.add_index_struct\u001b[0;34m(self, index_struct)\u001b[0m\n\u001b[1;32m     28\u001b[0m \u001b[39mdef\u001b[39;00m \u001b[39madd_index_struct\u001b[39m(\u001b[39mself\u001b[39m, index_struct: IndexStruct) \u001b[39m-\u001b[39m\u001b[39m>\u001b[39m \u001b[39mNone\u001b[39;00m:\n\u001b[1;32m     29\u001b[0m \u001b[39m    \u001b[39m\u001b[39m\"\"\"Add an index struct.\u001b[39;00m\n\u001b[1;32m     30\u001b[0m \n\u001b[1;32m     31\u001b[0m \u001b[39m    Args:\u001b[39;00m\n\u001b[1;32m     32\u001b[0m \u001b[39m        index_struct (IndexStruct): index struct\u001b[39;00m\n\u001b[1;32m     33\u001b[0m \n\u001b[1;32m     34\u001b[0m \u001b[39m    \"\"\"\u001b[39;00m\n\u001b[0;32m---> 35\u001b[0m     key \u001b[39m=\u001b[39m index_struct\u001b[39m.\u001b[39;49mindex_id\n\u001b[1;32m     36\u001b[0m     data \u001b[39m=\u001b[39m index_struct_to_json(index_struct)\n\u001b[1;32m     37\u001b[0m     \u001b[39mself\u001b[39m\u001b[39m.\u001b[39m_kvstore\u001b[39m.\u001b[39mput(key, data, collection\u001b[39m=\u001b[39m\u001b[39mself\u001b[39m\u001b[39m.\u001b[39m_collection)\n",
                        "\u001b[0;31mAttributeError\u001b[0m: 'JSONStructDatapoint' object has no attribute 'index_id'"
                    ]
                }
            ],
            "source": [
                "index = GPTJSONIndex(json_value=json_value, json_schema=json_schema)"
            ]
        },
        {
            "cell_type": "code",
            "execution_count": 1,
            "id": "451836bc-b073-4838-8ab8-3def7d2c4d9d",
            "metadata": {
                "tags": []
            },
            "outputs": [
                {
                    "ename": "NameError",
                    "evalue": "name 'index' is not defined",
                    "output_type": "error",
                    "traceback": [
                        "\u001b[0;31m---------------------------------------------------------------------------\u001b[0m",
                        "\u001b[0;31mNameError\u001b[0m                                 Traceback (most recent call last)",
                        "Cell \u001b[0;32mIn[1], line 1\u001b[0m\n\u001b[0;32m----> 1\u001b[0m query_engine \u001b[39m=\u001b[39m index\u001b[39m.\u001b[39mas_query_engine(\n\u001b[1;32m      2\u001b[0m     verbose\u001b[39m=\u001b[39m\u001b[39mTrue\u001b[39;00m\n\u001b[1;32m      3\u001b[0m )\n\u001b[1;32m      4\u001b[0m response \u001b[39m=\u001b[39m query_engine\u001b[39m.\u001b[39mquery(\n\u001b[1;32m      5\u001b[0m     \u001b[39m\"\u001b[39m\u001b[39mWhat was the comment on blog post 1?\u001b[39m\u001b[39m\"\u001b[39m,\n\u001b[1;32m      6\u001b[0m )\n",
                        "\u001b[0;31mNameError\u001b[0m: name 'index' is not defined"
                    ]
                }
            ],
            "source": [
                "query_engine = index.as_query_engine(\n",
                "    verbose=True\n",
                ")\n",
                "response = query_engine.query(\n",
                "    \"What was the comment on blog post 1?\",\n",
                ")"
            ]
        },
        {
            "cell_type": "code",
            "execution_count": 2,
            "id": "4253d4c3-f3e5-4779-bcd1-2e6e2818305f",
            "metadata": {
                "tags": []
            },
            "outputs": [
                {
                    "ename": "NameError",
                    "evalue": "name 'Markdown' is not defined",
                    "output_type": "error",
                    "traceback": [
                        "\u001b[0;31m---------------------------------------------------------------------------\u001b[0m",
                        "\u001b[0;31mNameError\u001b[0m                                 Traceback (most recent call last)",
                        "Cell \u001b[0;32mIn[2], line 1\u001b[0m\n\u001b[0;32m----> 1\u001b[0m display(Markdown(\u001b[39mf\u001b[39m\u001b[39m\"\u001b[39m\u001b[39m<b>\u001b[39m\u001b[39m{\u001b[39;00mresponse\u001b[39m}\u001b[39;00m\u001b[39m</b>\u001b[39m\u001b[39m\"\u001b[39m))\n",
                        "\u001b[0;31mNameError\u001b[0m: name 'Markdown' is not defined"
                    ]
                }
            ],
            "source": [
                "display(Markdown(f\"<b>{response}</b>\"))"
            ]
        },
        {
            "cell_type": "code",
            "execution_count": 3,
            "id": "5e10b7da-b355-49b2-9f80-f17541d4f850",
            "metadata": {
                "tags": []
            },
            "outputs": [
                {
                    "ename": "NameError",
                    "evalue": "name 'response' is not defined",
                    "output_type": "error",
                    "traceback": [
                        "\u001b[0;31m---------------------------------------------------------------------------\u001b[0m",
                        "\u001b[0;31mNameError\u001b[0m                                 Traceback (most recent call last)",
                        "Cell \u001b[0;32mIn[3], line 2\u001b[0m\n\u001b[1;32m      1\u001b[0m \u001b[39m# get json path query string\u001b[39;00m\n\u001b[0;32m----> 2\u001b[0m \u001b[39mprint\u001b[39m(response\u001b[39m.\u001b[39mextra_info[\u001b[39m\"\u001b[39m\u001b[39mjson_path_instruction_str\u001b[39m\u001b[39m\"\u001b[39m])\n",
                        "\u001b[0;31mNameError\u001b[0m: name 'response' is not defined"
                    ]
                }
            ],
            "source": [
                "# get json path query string\n",
                "print(response.extra_info[\"json_path_instruction_str\"])"
            ]
        }
    ],
    "metadata": {
        "kernelspec": {
            "display_name": ".venv",
            "language": "python",
            "name": "python3"
        },
        "language_info": {
            "codemirror_mode": {
                "name": "ipython",
                "version": 3
            },
            "file_extension": ".py",
            "mimetype": "text/x-python",
            "name": "python",
            "nbconvert_exporter": "python",
            "pygments_lexer": "ipython3",
            "version": "3.10.4"
        }
    },
    "nbformat": 4,
    "nbformat_minor": 5
}
