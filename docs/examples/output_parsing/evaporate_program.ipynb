{
 "cells": [
  {
   "cell_type": "markdown",
   "id": "8cd3f128-866a-4857-a00a-df19f926c952",
   "metadata": {
    "tags": []
   },
   "source": [
    "# Evaporate Demo\n",
    "\n",
    "This demo shows how you can extract DataFrame from raw text using the Evaporate paper (Arora et al.).\n",
    "\n",
    "The inspiration is to first \"fit\" on a set of training text. The fitting process uses the LLM to generate a set of parsing functions from the text.\n",
    "These fitted functions are then applied to text during inference time."
   ]
  },
  {
   "cell_type": "code",
   "execution_count": 1,
   "id": "db7210f2-f19d-4112-ab72-ddb3afe282f7",
   "metadata": {
    "tags": []
   },
   "outputs": [],
   "source": [
    "%load_ext autoreload\n",
    "%autoreload 2"
   ]
  },
  {
   "cell_type": "code",
   "execution_count": 2,
   "id": "c9e4ffe4-f0eb-4850-8820-48e14ffcbe96",
   "metadata": {
    "tags": []
   },
   "outputs": [
    {
     "name": "stderr",
     "output_type": "stream",
     "text": [
      "/Users/jerryliu/Programming/gpt_index/.venv/lib/python3.10/site-packages/tqdm/auto.py:21: TqdmWarning: IProgress not found. Please update jupyter and ipywidgets. See https://ipywidgets.readthedocs.io/en/stable/user_install.html\n",
      "  from .autonotebook import tqdm as notebook_tqdm\n"
     ]
    }
   ],
   "source": [
    "from llama_index import (\n",
    "    SimpleDirectoryReader,\n",
    "    ServiceContext,\n",
    "    LLMPredictor\n",
    ")\n",
    "from llama_index.program.predefined import DFEvaporateProgram, EvaporateExtractor, MultiValueEvaporateProgram\n",
    "from langchain.chat_models import ChatOpenAI\n",
    "import requests"
   ]
  },
  {
   "cell_type": "markdown",
   "id": "da19d340-57b5-439f-9cb1-5ba9576ec304",
   "metadata": {
    "jp-MarkdownHeadingCollapsed": true,
    "tags": []
   },
   "source": [
    "## Use `DFEvaporateProgram` \n",
    "\n",
    "The `DFEvaporateProgram` will extract a 2D dataframe from a set of datapoints given a set of fields, and some training data to \"fit\" some functions on."
   ]
  },
  {
   "cell_type": "markdown",
   "id": "a299cad8-af81-4974-a3de-ed43877d3490",
   "metadata": {},
   "source": [
    "### Load data\n",
    "\n",
    "Here we load a set of cities from Wikipedia."
   ]
  },
  {
   "cell_type": "code",
   "execution_count": 3,
   "id": "daf434f6-3b27-4805-9de8-8fc92d7d776b",
   "metadata": {
    "tags": []
   },
   "outputs": [],
   "source": [
    "wiki_titles = [\"Toronto\", \"Seattle\", \"Chicago\", \"Boston\", \"Houston\"]"
   ]
  },
  {
   "cell_type": "code",
   "execution_count": 4,
   "id": "8438168c-3b1b-425e-98b0-2c67a8a58a5f",
   "metadata": {
    "tags": []
   },
   "outputs": [],
   "source": [
    "from pathlib import Path\n",
    "\n",
    "import requests\n",
    "for title in wiki_titles:\n",
    "    response = requests.get(\n",
    "        'https://en.wikipedia.org/w/api.php',\n",
    "        params={\n",
    "            'action': 'query',\n",
    "            'format': 'json',\n",
    "            'titles': title,\n",
    "            'prop': 'extracts',\n",
    "            # 'exintro': True,\n",
    "            'explaintext': True,\n",
    "        }\n",
    "    ).json()\n",
    "    page = next(iter(response['query']['pages'].values()))\n",
    "    wiki_text = page['extract']\n",
    "\n",
    "    data_path = Path('data')\n",
    "    if not data_path.exists():\n",
    "        Path.mkdir(data_path)\n",
    "\n",
    "    with open(data_path / f\"{title}.txt\", 'w') as fp:\n",
    "        fp.write(wiki_text)\n"
   ]
  },
  {
   "cell_type": "code",
   "execution_count": 5,
   "id": "c01dbcb8-5ea1-4e76-b5de-ea5ebe4f0392",
   "metadata": {
    "tags": []
   },
   "outputs": [],
   "source": [
    "# Load all wiki documents\n",
    "city_docs = {}\n",
    "for wiki_title in wiki_titles:\n",
    "    city_docs[wiki_title] = SimpleDirectoryReader(input_files=[f\"data/{wiki_title}.txt\"]).load_data()"
   ]
  },
  {
   "cell_type": "markdown",
   "id": "e7310883-2aeb-4a4d-b101-b3279e670ea8",
   "metadata": {},
   "source": [
    "### Parse Data"
   ]
  },
  {
   "cell_type": "code",
   "execution_count": 20,
   "id": "b8e98279-b4c4-41ec-b696-13e6a6f841a4",
   "metadata": {
    "tags": []
   },
   "outputs": [],
   "source": [
    "# setup service context\n",
    "# llm_predictor = LLMPredictor(llm=ChatOpenAI(temperature=0, model_name=\"gpt-3.5-turbo\"))\n",
    "llm_predictor = LLMPredictor(llm=ChatOpenAI(temperature=0, model_name=\"gpt-4\"))\n",
    "service_context = ServiceContext.from_defaults(\n",
    "    llm_predictor=llm_predictor, chunk_size=512\n",
    ")"
   ]
  },
  {
   "cell_type": "code",
   "execution_count": 7,
   "id": "74c6c1c3-b797-45c8-b692-7a6e4bd1898d",
   "metadata": {
    "tags": []
   },
   "outputs": [],
   "source": [
    "# get nodes for each document\n",
    "city_nodes = {}\n",
    "for wiki_title in wiki_titles:\n",
    "    docs = city_docs[wiki_title]\n",
    "    nodes = service_context.node_parser.get_nodes_from_documents(docs)\n",
    "    city_nodes[wiki_title] = nodes"
   ]
  },
  {
   "cell_type": "code",
   "execution_count": 8,
   "id": "732084ea-3270-4bac-a8d5-f5631fa586ad",
   "metadata": {
    "tags": []
   },
   "outputs": [],
   "source": [
    "# a list of nodes, one node per city, corresponding to intro paragraph\n",
    "# city_pop_nodes = []\n",
    "city_pop_nodes = [city_nodes[\"Toronto\"][0], city_nodes[\"Seattle\"][0]]"
   ]
  },
  {
   "cell_type": "markdown",
   "id": "bb369a78-e634-43f4-805e-52f6ea0f3588",
   "metadata": {},
   "source": [
    "### Running the DFEvaporateProgram\n",
    "\n",
    "Here we demonstrate how to extract datapoints with our `DFEvaporateProgram`. Given a set of fields, the `DFEvaporateProgram` can first fit functions on a set of training data, and then run extraction over inference data."
   ]
  },
  {
   "cell_type": "code",
   "execution_count": 14,
   "id": "6c260836",
   "metadata": {
    "tags": []
   },
   "outputs": [],
   "source": [
    "# define program\n",
    "program = DFEvaporateProgram.from_defaults(fields_to_extract=[\"population\"], service_context=service_context)"
   ]
  },
  {
   "cell_type": "markdown",
   "id": "c548768e-9d4a-4708-9c84-9266503edf01",
   "metadata": {},
   "source": [
    "### Fitting Functions"
   ]
  },
  {
   "cell_type": "code",
   "execution_count": 15,
   "id": "6c186eb7-116f-4b28-a508-8639cbc86633",
   "metadata": {
    "tags": []
   },
   "outputs": [
    {
     "name": "stdout",
     "output_type": "stream",
     "text": [
      "Here is a sample of text:\n",
      "\n",
      "{context_str}\n",
      "\n",
      "\n",
      "Question: {query_str}\n",
      "\n",
      "Given the function signature, write Python code to extract the \n",
      "\"population\" field from the text.\n",
      "Return the result as a single value (string, int, float), and not a list.\n",
      "Make sure there is a return statement in the code. Do not leave out a return statement.\n",
      "\n",
      "import re\n",
      "\n",
      "def get_population_field(text: str):\n",
      "    \"\"\"\n",
      "    Function to extract the \"population field\", and return the result \n",
      "    as a single value.\n",
      "    \"\"\"\n",
      "    \n"
     ]
    },
    {
     "data": {
      "text/plain": [
       "{'population': 'def get_population_field(text: str):\\n    \"\"\"\\n    Function to extract population. \\n    \"\"\"\\n    \\n    # Use regex to extract the population field\\n    population_field = re.search(r\\'population of (\\\\d+,?\\\\d*)\\', text).group(1)\\n    \\n    # Return the population field as a single value\\n    return int(population_field.replace(\\',\\', \\'\\'))'}"
      ]
     },
     "execution_count": 15,
     "metadata": {},
     "output_type": "execute_result"
    }
   ],
   "source": [
    "program.fit_fields(city_nodes[\"Boston\"][:1])"
   ]
  },
  {
   "cell_type": "code",
   "execution_count": 16,
   "id": "483676a4-4937-40a8-acd9-8fec4a991270",
   "metadata": {
    "tags": []
   },
   "outputs": [
    {
     "name": "stdout",
     "output_type": "stream",
     "text": [
      "def get_population_field(text: str):\n",
      "    \"\"\"\n",
      "    Function to extract population. \n",
      "    \"\"\"\n",
      "    \n",
      "    # Use regex to extract the population field\n",
      "    population_field = re.search(r'population of (\\d+,?\\d*)', text).group(1)\n",
      "    \n",
      "    # Return the population field as a single value\n",
      "    return int(population_field.replace(',', ''))\n"
     ]
    }
   ],
   "source": [
    "# view extracted function\n",
    "print(program.get_function_str(\"population\"))"
   ]
  },
  {
   "cell_type": "markdown",
   "id": "508a442c-d7d8-4a27-8add-1d58f1ecc66b",
   "metadata": {},
   "source": [
    "### Run Inference"
   ]
  },
  {
   "cell_type": "code",
   "execution_count": 23,
   "id": "83e38b62-bad0-4154-9597-555a27e976d9",
   "metadata": {
    "tags": []
   },
   "outputs": [],
   "source": [
    "seattle_df = program(infer_data=city_nodes[\"Seattle\"][:1])"
   ]
  },
  {
   "cell_type": "code",
   "execution_count": 24,
   "id": "dc72f611-da8b-4882-b532-69e46b9589bb",
   "metadata": {
    "tags": []
   },
   "outputs": [
    {
     "data": {
      "text/plain": [
       "DataFrameRowsOnly(rows=[DataFrameRow(row_values=[749256])])"
      ]
     },
     "execution_count": 24,
     "metadata": {},
     "output_type": "execute_result"
    }
   ],
   "source": [
    "seattle_df"
   ]
  },
  {
   "cell_type": "markdown",
   "id": "9465ba41-8318-40bb-a202-49df6e3c16e3",
   "metadata": {},
   "source": [
    "## Use `MultiValueEvaporateProgram` \n",
    "\n",
    "In contrast to the `DFEvaporateProgram`, which assumes the output obeys a 2D tabular format (one row per node), the `MultiValueEvaporateProgram` returns a list of `DataFrameRow` objects - each object corresponds to a column, and can contain a variable length of values. This can help if we want to extract multiple values for one field from a given piece of text.\n",
    "\n",
    "In this example, we use this program to parse gold medal counts."
   ]
  },
  {
   "cell_type": "code",
   "execution_count": null,
   "id": "2362d6ba-fe52-4718-9933-212cc8f70ea5",
   "metadata": {},
   "outputs": [],
   "source": [
    "!pip install llama-hub"
   ]
  },
  {
   "cell_type": "code",
   "execution_count": 3,
   "id": "c3d5e9dd-0d20-447b-96b2-a82f8350e430",
   "metadata": {
    "tags": []
   },
   "outputs": [],
   "source": [
    "llm_predictor = LLMPredictor(llm=ChatOpenAI(temperature=0, model_name=\"gpt-4\"))\n",
    "service_context = ServiceContext.from_defaults(\n",
    "    llm_predictor=llm_predictor, chunk_size=1024, chunk_overlap=0\n",
    ")"
   ]
  },
  {
   "cell_type": "code",
   "execution_count": 4,
   "id": "47d6bc91-5c9a-4aae-a85d-66ccdd67e5a2",
   "metadata": {
    "tags": []
   },
   "outputs": [],
   "source": [
    "from llama_hub.web.simple_web.base import SimpleWebPageReader\n",
    "from llama_hub.web.beautiful_soup_web.base import BeautifulSoupWebReader\n",
    "from llama_hub.web.unstructured_web.base import UnstructuredURLLoader\n",
    "\n",
    "\n",
    "# reader = SimpleWebPageReader(html_to_text=True)\n",
    "# reader = BeautifulSoupWebReader()\n",
    "# reader = UnstructuredURLLoader(urls=[\"https://www.theinfatuation.com/san-francisco/guides/best-restaurants-in-san-francisco\"])\n",
    "reader = UnstructuredURLLoader(urls=[\"https://www.timeout.com/san-francisco/restaurants/best-restaurants-in-san-francisco\"])"
   ]
  },
  {
   "cell_type": "code",
   "execution_count": 5,
   "id": "be86803d-c1b9-434d-b00f-693055c4f92e",
   "metadata": {
    "tags": []
   },
   "outputs": [],
   "source": [
    "# documents = reader.load_data(urls=[\"https://www.theinfatuation.com/san-francisco/guides/best-restaurants-in-san-francisco\"])\n",
    "# documents = reader.load_data(urls=[\"https://www.timeout.com/san-francisco/restaurants/best-restaurants-in-san-francisco\"])\n",
    "documents = reader.load()"
   ]
  },
  {
   "cell_type": "code",
   "execution_count": 6,
   "id": "290fcc4d-806a-458e-8522-a58078943e55",
   "metadata": {
    "tags": []
   },
   "outputs": [],
   "source": [
    "nodes = service_context.node_parser.get_nodes_from_documents(documents)"
   ]
  },
  {
   "cell_type": "code",
   "execution_count": 7,
   "id": "b1437bcd-a916-495d-b061-4826feb6d0c7",
   "metadata": {
    "tags": []
   },
   "outputs": [
    {
     "name": "stdout",
     "output_type": "stream",
     "text": [
      "a more neighborhood-focused contemporary California restaurant with Moroccan influences. There are still some classic Moroccan dishes that diners love, such as Basteeya, hand-rolled couscous with aged butter, and fresh new dishes. A glowing bar is beautiful with blue-green tiles. The airy main dining room can get loud on busy nights, so ask to be seated in the cozy back room if you want a quieter experience.\n",
      "\n",
      "Read more\n",
      "\n",
      "Book online\n",
      "\n",
      "Photograph: Courtesy of Bodega/Erin Ng\n",
      "\n",
      "16. Bodega SF\n",
      "\n",
      "For nearly 15 years, Bodega Bistro was a solid choice for Vietnamese fare in the Tenderloin until it shut down in 2017. The eatery was run by Matt Ho's father and uncles, and Ho always wanted to bring it back. He did just that in the form of a pop-up in 2019. That plan shifted during the pandemic to offering weekly meal kits out of Rooster and Rice in the Castro. Finally, in June 2022, Ho opened Bodega SF in its original neighborhood of the Tenderloin as a sit-down restaurant offering high-end yet approachable dishes packed with flavor and heart, including favorites such as the mouth-watering shaking beef, Hoi An chicken rice, various types of pho, and bo tai chanh, a beef carpaccio of sorts layered with Thai basil, crispy shallots, and citrus fish sauce. The sleek restaurant also offers a full bar, including a stellar menu of Asian-inspired cocktails.\n",
      "\n",
      "Read more\n",
      "\n",
      "Book Online\n",
      "\n",
      "Photograph: Courtesy Waterbar\n",
      "\n",
      "17. Waterbar\n",
      "\n",
      "You can't beat the panoramic views from Waterbar, which sits right along the Embarcadero. Take a seat outside on the patio (complete with heat lamps) or near the window for views of the stunning Bay Bridge—at night, it lights up as the sky turns dark. Primarily a seafood restaurant, Waterbar has high standards for sustainability and quality throughout its dishes, seared scallops, fish and chips, lobster rolls, and pretty much any of its fresh fish dishes. The perfectly prepared seafood, paired with the scenic atmosphere, has made Waterbar a favorite for tourists and locals for a special dining experience for years.\n",
      "\n",
      "Read more\n",
      "\n",
      "Book Online\n",
      "\n",
      "Photograph: Courtesy The Progress\n",
      "\n",
      "18. The Progress\n",
      "\n",
      "Restaurants\n",
      "\n",
      "Contemporary American\n",
      "\n",
      "Western Addition\n",
      "\n",
      "price 4 of 4\n",
      "\n",
      "This buzzy follow-up to State Bird Provisions by Nicole Krasinski and Stuart Brioza is named after The Progress Theatre, which opened in 1911. The spot serves banquet-style meals in an inviting, wood-swathed space, with shareable dishes split into sections: raw and salads; vegetables and grains; and seafood and meats. We recommend the squid ink noodles with oyster mushrooms, tomato-kale dashi, toasted sesame, and dry-fried brussels sprouts. Cocktails here are inventive and festive. For a kick, try the Wendy Peffercorn made with Kampot pepper vodka, Aperol, amaro, lemon, and blood orange.\n",
      "\n",
      "Read more\n",
      "\n",
      "Book online\n",
      "\n",
      "19. Ju-Ni\n",
      "\n",
      "Restaurants\n",
      "\n",
      "Japanese\n",
      "\n",
      "NoPa\n",
      "\n",
      "price 4 of 4\n",
      "\n",
      "View this post on Instagram\n",
      "\n",
      "A post shared by jū-ni (@juni_sf)\n",
      "\n",
      "Chef Geoffrey Lee earned his stripes at Sushi Ran and Akiko’s before opening this intimate, 12-seat omakase bar. The expert training paid off—Ju Ni earned a Michelin star in 2017, 2018, 2019 and 2021. Behind the bar, three sushi chefs toil over a dozen diners, meticulously preparing each bite of a chef's menu ($220) that spans 14 eye-opening courses. The fish, flown from Tokyo's Tsukiji Market, might be garnished with\n"
     ]
    }
   ],
   "source": [
    "print(nodes[3].get_content())"
   ]
  },
  {
   "cell_type": "code",
   "execution_count": 8,
   "id": "fb6c6ab1-b56f-4774-9eb9-49c9a04c7cd3",
   "metadata": {
    "tags": []
   },
   "outputs": [],
   "source": [
    "from llama_index.program.predefined import MultiValueEvaporateProgram\n",
    "program = MultiValueEvaporateProgram.from_defaults(fields_to_extract=[\"restaurant_names\"], service_context=service_context)"
   ]
  },
  {
   "cell_type": "code",
   "execution_count": 9,
   "id": "b516f9a6-bff3-41d7-9efe-1daf9f89d251",
   "metadata": {
    "tags": []
   },
   "outputs": [
    {
     "name": "stdout",
     "output_type": "stream",
     "text": [
      "Here is a sample of text:\n",
      "\n",
      "{context_str}\n",
      "\n",
      "\n",
      "Question: {query_str}\n",
      "Expected function output: ['Bodega SF', 'Waterbar', 'The Progress', 'Ju-Ni']\n",
      "\n",
      "\n",
      "Given the function signature, write Python code to extract the \n",
      "\"restaurant_names\" field from the text.\n",
      "Return the result as a list of values (if there is just one item, return a single element list).\n",
      "Make sure there is a return statement in the code. Do not leave out a return statement.\n",
      "\n",
      "import re\n",
      "\n",
      "def get_restaurant_names_field(text: str) -> List:\n",
      "    \"\"\"\n",
      "    Function to extract the \"restaurant_names field\", and return the result \n",
      "    as a single value.\n",
      "    \"\"\"\n",
      "    \n"
     ]
    },
    {
     "data": {
      "text/plain": [
       "'def get_restaurant_names_field(text: str):\\n    \"\"\"\\n    Function to extract restaurant_names. \\n    \"\"\"\\n    \\n    # Use regex to extract the restaurant names\\n    restaurant_names = re.findall(r\\'[A-Z][a-z]+\\\\s[A-Z][a-z]+\\', text)\\n    \\n    # Return the list of restaurant names\\n    return restaurant_names'"
      ]
     },
     "execution_count": 9,
     "metadata": {},
     "output_type": "execute_result"
    }
   ],
   "source": [
    "program.fit(nodes[3:4], \"restaurant_names\", expected_output=[\"Bodega SF\", \"Waterbar\", \"The Progress\", \"Ju-Ni\"])\n",
    "# program.fit(nodes[:1], \"restaurant_names\")"
   ]
  },
  {
   "cell_type": "code",
   "execution_count": 10,
   "id": "cc32440c-910a-483c-81df-80ae81fedb2d",
   "metadata": {
    "tags": []
   },
   "outputs": [
    {
     "name": "stdout",
     "output_type": "stream",
     "text": [
      "def get_restaurant_names_field(text: str):\n",
      "    \"\"\"\n",
      "    Function to extract restaurant_names. \n",
      "    \"\"\"\n",
      "    \n",
      "    # Use regex to extract the restaurant names\n",
      "    restaurant_names = re.findall(r'[A-Z][a-z]+\\s[A-Z][a-z]+', text)\n",
      "    \n",
      "    # Return the list of restaurant names\n",
      "    return restaurant_names\n"
     ]
    }
   ],
   "source": [
    "print(program.get_function_str(\"restaurant_names\"))"
   ]
  },
  {
   "cell_type": "code",
   "execution_count": 11,
   "id": "8f7bae5f-ee4e-4d9f-b551-1986efd317b3",
   "metadata": {
    "tags": []
   },
   "outputs": [
    {
     "data": {
      "text/plain": [
       "[DataFrameRow(row_values=['San Francisco', 'Book Online', 'Courtesy Sula', 'Cavallo Point', 'Golden Gate', 'Murray Circle', 'New American', 'Michael Garcia', 'Bay Area', 'Fort Bragg', 'Book Online', 'Courtesy Empress', 'Allen Chen', 'Chef Ho', 'Chee Boon', 'Chef Ho', 'Jean Bai', 'Executive Chef', 'Joe Hou', 'Per Se', 'Negroni Coast', 'Post Martini', 'Book Online', 'Anson Smart', 'Courtesy Nari', 'Pim Techamuanvivit', 'Kin Khao', 'Meghan Clark', 'Book Online', 'Lorena Masso', 'Courtesy El', 'Buen Comer', 'El Buen', 'Glen Park', 'This Bernal'])]"
      ]
     },
     "execution_count": 11,
     "metadata": {},
     "output_type": "execute_result"
    }
   ],
   "source": [
    "program(nodes=nodes[:1])"
   ]
  },
  {
   "cell_type": "markdown",
   "id": "820768fe-aa23-4999-bcc1-102e6fc817e5",
   "metadata": {},
   "source": [
    "## Bonus: Use the underlying `EvaporateExtractor`\n",
    "\n",
    "The underlying `EvaporateExtractor` offers some additional functionality, e.g. actually helping to identify fields over a set of text.\n",
    "\n",
    "Here we show how you can use `identify_fields` to determine relevant fields around a general `topic` field."
   ]
  },
  {
   "cell_type": "code",
   "execution_count": 25,
   "id": "dc96646f-ac7e-407f-87dd-c14c8d83aa84",
   "metadata": {
    "tags": []
   },
   "outputs": [],
   "source": [
    "extractor = program.extractor"
   ]
  },
  {
   "cell_type": "code",
   "execution_count": 26,
   "id": "1df3a7df-6d00-4487-b114-f45a6dba4764",
   "metadata": {
    "tags": []
   },
   "outputs": [],
   "source": [
    "# Try with Toronto and Seattle (should extract \"population\")\n",
    "existing_fields = extractor.identify_fields(city_pop_nodes, topic=\"city\", fields_top_k=1)"
   ]
  },
  {
   "cell_type": "code",
   "execution_count": null,
   "id": "d8a56bb6-3a26-40db-9ca3-8aa9ed4f2c52",
   "metadata": {
    "tags": []
   },
   "outputs": [
    {
     "data": {
      "text/plain": [
       "['population']"
      ]
     },
     "execution_count": 12,
     "metadata": {},
     "output_type": "execute_result"
    }
   ],
   "source": [
    "existing_fields"
   ]
  }
 ],
 "metadata": {
  "kernelspec": {
   "display_name": "llama_index_v2",
   "language": "python",
   "name": "llama_index_v2"
  },
  "language_info": {
   "codemirror_mode": {
    "name": "ipython",
    "version": 3
   },
   "file_extension": ".py",
   "mimetype": "text/x-python",
   "name": "python",
   "nbconvert_exporter": "python",
   "pygments_lexer": "ipython3",
   "version": "3.10.10"
  }
 },
 "nbformat": 4,
 "nbformat_minor": 5
}
