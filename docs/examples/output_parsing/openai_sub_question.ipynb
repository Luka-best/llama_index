{
 "cells": [
  {
   "cell_type": "markdown",
   "id": "c58e17b3-ec09-4e07-8e2e-d19a8e24dd40",
   "metadata": {
    "tags": []
   },
   "source": [
    "# OpenAI function calling for Sub-Question Query Engine"
   ]
  },
  {
   "cell_type": "markdown",
   "id": "d5637f97-60c3-40bb-840f-fc4e217940a7",
   "metadata": {
    "tags": []
   },
   "source": [
    "In this notebook, we showcase how to use OpenAI function calling to improve the robustness of our sub-question query engine.  "
   ]
  },
  {
   "cell_type": "markdown",
   "id": "bd3d24c8-5b2b-4acf-a9de-53134453c186",
   "metadata": {},
   "source": [
    "The sub-question query engine is designed to accept swappable question generators that implement the `BaseQuestionGenerator` interface.  \n",
    "To leverage the power of openai function calling API, we implemented a new `OpenAIQuestionGenerator` (powered by our `OpenAIPydanticProgram`)"
   ]
  },
  {
   "cell_type": "markdown",
   "id": "afa2db97-2a46-4629-a201-d4eb99480f3d",
   "metadata": {},
   "source": [
    "## OpenAI Question Generator"
   ]
  },
  {
   "cell_type": "markdown",
   "id": "3977e961-fb19-495f-89c5-6a283596b459",
   "metadata": {},
   "source": [
    "Unlike the default `LLMQuestionGenerator` that supports generic LLMs via the completion API, `OpenAIQuestionGenerator` only works with the latest OpenAI models that supports the function calling API. \n",
    "\n",
    "The benefit is that these models are fine-tuned to output JSON objects, so we can worry less about output parsing issues."
   ]
  },
  {
   "cell_type": "code",
   "execution_count": 37,
   "id": "85b9e1d3-2f60-4730-8186-7c3c30b6dae5",
   "metadata": {
    "tags": []
   },
   "outputs": [],
   "source": [
    "from llama_index.question_gen.openai_generator import OpenAIQuestionGenerator"
   ]
  },
  {
   "cell_type": "code",
   "execution_count": 38,
   "id": "0df7f8ad-c026-4bfc-9a12-52efcb24f9d5",
   "metadata": {
    "tags": []
   },
   "outputs": [],
   "source": [
    "question_gen = OpenAIQuestionGenerator.from_defaults()"
   ]
  },
  {
   "cell_type": "markdown",
   "id": "04039c8c-72df-495d-915c-09d04321bb96",
   "metadata": {},
   "source": [
    "Let's test it out!"
   ]
  },
  {
   "cell_type": "code",
   "execution_count": 39,
   "id": "1e40ac6c-6b66-4cf3-9dd6-de02416b7dd5",
   "metadata": {
    "tags": []
   },
   "outputs": [],
   "source": [
    "from llama_index.tools import ToolMetadata\n",
    "from llama_index import QueryBundle"
   ]
  },
  {
   "cell_type": "code",
   "execution_count": 49,
   "id": "77106a07-bccf-471d-8d85-c6438772cf35",
   "metadata": {
    "tags": []
   },
   "outputs": [],
   "source": [
    "tools = [\n",
    "ToolMetadata(\n",
    "            name=\"march_22\",\n",
    "            description=\"Provides information about Uber quarterly financials ending March 2022\",\n",
    "        ),\n",
    "ToolMetadata(\n",
    "            name=\"june_22\",\n",
    "            description=\"Provides information about Uber quarterly financials ending June 2022\",\n",
    "        ),\n",
    "ToolMetadata(\n",
    "        name=\"sept_22\",\n",
    "        description=\"Provides information about Uber quarterly financials ending September 2022\",\n",
    "    ),\n",
    "ToolMetadata(\n",
    "            name=\"sept_21\",\n",
    "            description=\"Provides information about Uber quarterly financials ending September 2022\",\n",
    "        ),\n",
    "ToolMetadata(\n",
    "            name=\"june_21\",\n",
    "            description=\"Provides information about Uber quarterly financials ending June 2022\",\n",
    "        ),\n",
    "ToolMetadata(\n",
    "            name=\"march_21\",\n",
    "            description=\"Provides information about Uber quarterly financials ending March 2022\",\n",
    "        ),\n",
    "]"
   ]
  },
  {
   "cell_type": "code",
   "execution_count": 52,
   "id": "82ed271a-bd0d-4b6a-b9e3-987d75f6a4ad",
   "metadata": {
    "tags": []
   },
   "outputs": [],
   "source": [
    "sub_questions = question_gen.generate(\n",
    "    tools=tools,\n",
    "    query=QueryBundle(\"Compare the fastest growing sectors for Uber in the first two quarters of 2022\"),\n",
    ")"
   ]
  },
  {
   "cell_type": "code",
   "execution_count": 53,
   "id": "2740e60e-c4e6-412a-b46f-70a1f3fe1231",
   "metadata": {
    "tags": []
   },
   "outputs": [
    {
     "data": {
      "text/plain": [
       "[SubQuestion(sub_question='What were the fastest growing sectors for Uber in March 2022?', tool_name='march_22'),\n",
       " SubQuestion(sub_question='What were the fastest growing sectors for Uber in June 2022?', tool_name='june_22')]"
      ]
     },
     "execution_count": 53,
     "metadata": {},
     "output_type": "execute_result"
    }
   ],
   "source": [
    "sub_questions"
   ]
  },
  {
   "cell_type": "code",
   "execution_count": 48,
   "id": "7d808a51-f50f-4596-a1f1-2644d2d1e438",
   "metadata": {
    "tags": []
   },
   "outputs": [],
   "source": [
    "from llama_index import (\n",
    "    SimpleDirectoryReader,\n",
    "    LLMPredictor,\n",
    "    ServiceContext,\n",
    "    VectorStoreIndex,\n",
    ")\n",
    "from llama_index.response.pprint_utils import pprint_response\n",
    "\n",
    "from llama_index.tools import QueryEngineTool, ToolMetadata\n",
    "from llama_index.query_engine import SubQuestionQueryEngine"
   ]
  },
  {
   "cell_type": "code",
   "execution_count": 9,
   "id": "c094d93c-c052-4a7e-8285-29c5470d7dac",
   "metadata": {
    "tags": []
   },
   "outputs": [
    {
     "ename": "KeyboardInterrupt",
     "evalue": "",
     "output_type": "error",
     "traceback": [
      "\u001b[0;31m---------------------------------------------------------------------------\u001b[0m",
      "\u001b[0;31mKeyboardInterrupt\u001b[0m                         Traceback (most recent call last)",
      "Cell \u001b[0;32mIn[9], line 2\u001b[0m\n\u001b[1;32m      1\u001b[0m lyft_docs \u001b[38;5;241m=\u001b[39m SimpleDirectoryReader(input_files\u001b[38;5;241m=\u001b[39m[\u001b[38;5;124m\"\u001b[39m\u001b[38;5;124m../data/10k/lyft_2021.pdf\u001b[39m\u001b[38;5;124m\"\u001b[39m])\u001b[38;5;241m.\u001b[39mload_data()\n\u001b[0;32m----> 2\u001b[0m uber_docs \u001b[38;5;241m=\u001b[39m \u001b[43mSimpleDirectoryReader\u001b[49m\u001b[43m(\u001b[49m\u001b[43minput_files\u001b[49m\u001b[38;5;241;43m=\u001b[39;49m\u001b[43m[\u001b[49m\u001b[38;5;124;43m\"\u001b[39;49m\u001b[38;5;124;43m../data/10k/uber_2021.pdf\u001b[39;49m\u001b[38;5;124;43m\"\u001b[39;49m\u001b[43m]\u001b[49m\u001b[43m)\u001b[49m\u001b[38;5;241;43m.\u001b[39;49m\u001b[43mload_data\u001b[49m\u001b[43m(\u001b[49m\u001b[43m)\u001b[49m\n",
      "File \u001b[0;32m~/dev/llama_index/llama_index/readers/file/base.py:203\u001b[0m, in \u001b[0;36mSimpleDirectoryReader.load_data\u001b[0;34m(self)\u001b[0m\n\u001b[1;32m    201\u001b[0m     \u001b[38;5;28mself\u001b[39m\u001b[38;5;241m.\u001b[39mfile_extractor[file_suffix] \u001b[38;5;241m=\u001b[39m reader_cls()\n\u001b[1;32m    202\u001b[0m reader \u001b[38;5;241m=\u001b[39m \u001b[38;5;28mself\u001b[39m\u001b[38;5;241m.\u001b[39mfile_extractor[file_suffix]\n\u001b[0;32m--> 203\u001b[0m docs \u001b[38;5;241m=\u001b[39m \u001b[43mreader\u001b[49m\u001b[38;5;241;43m.\u001b[39;49m\u001b[43mload_data\u001b[49m\u001b[43m(\u001b[49m\u001b[43minput_file\u001b[49m\u001b[43m,\u001b[49m\u001b[43m \u001b[49m\u001b[43mextra_info\u001b[49m\u001b[38;5;241;43m=\u001b[39;49m\u001b[43mmetadata\u001b[49m\u001b[43m)\u001b[49m\n\u001b[1;32m    205\u001b[0m \u001b[38;5;66;03m# iterate over docs if needed\u001b[39;00m\n\u001b[1;32m    206\u001b[0m \u001b[38;5;28;01mif\u001b[39;00m \u001b[38;5;28mself\u001b[39m\u001b[38;5;241m.\u001b[39mfilename_as_id:\n",
      "File \u001b[0;32m~/dev/llama_index/llama_index/readers/file/docs_reader.py:37\u001b[0m, in \u001b[0;36mPDFReader.load_data\u001b[0;34m(self, file, extra_info)\u001b[0m\n\u001b[1;32m     34\u001b[0m docs \u001b[38;5;241m=\u001b[39m []\n\u001b[1;32m     35\u001b[0m \u001b[38;5;28;01mfor\u001b[39;00m page \u001b[38;5;129;01min\u001b[39;00m \u001b[38;5;28mrange\u001b[39m(num_pages):\n\u001b[1;32m     36\u001b[0m     \u001b[38;5;66;03m# Extract the text from the page\u001b[39;00m\n\u001b[0;32m---> 37\u001b[0m     page_text \u001b[38;5;241m=\u001b[39m \u001b[43mpdf\u001b[49m\u001b[38;5;241;43m.\u001b[39;49m\u001b[43mpages\u001b[49m\u001b[43m[\u001b[49m\u001b[43mpage\u001b[49m\u001b[43m]\u001b[49m\u001b[38;5;241;43m.\u001b[39;49m\u001b[43mextract_text\u001b[49m\u001b[43m(\u001b[49m\u001b[43m)\u001b[49m\n\u001b[1;32m     38\u001b[0m     page_label \u001b[38;5;241m=\u001b[39m pdf\u001b[38;5;241m.\u001b[39mpage_labels[page]\n\u001b[1;32m     40\u001b[0m     metadata \u001b[38;5;241m=\u001b[39m {\u001b[38;5;124m\"\u001b[39m\u001b[38;5;124mpage_label\u001b[39m\u001b[38;5;124m\"\u001b[39m: page_label, \u001b[38;5;124m\"\u001b[39m\u001b[38;5;124mfile_name\u001b[39m\u001b[38;5;124m\"\u001b[39m: file\u001b[38;5;241m.\u001b[39mname}\n",
      "File \u001b[0;32m~/miniconda3/envs/llama/lib/python3.9/site-packages/pypdf/_page.py:1962\u001b[0m, in \u001b[0;36mPageObject.extract_text\u001b[0;34m(self, Tj_sep, TJ_sep, orientations, space_width, visitor_operand_before, visitor_operand_after, visitor_text, *args)\u001b[0m\n\u001b[1;32m   1959\u001b[0m \u001b[38;5;28;01mif\u001b[39;00m \u001b[38;5;28misinstance\u001b[39m(orientations, \u001b[38;5;28mint\u001b[39m):\n\u001b[1;32m   1960\u001b[0m     orientations \u001b[38;5;241m=\u001b[39m (orientations,)\n\u001b[0;32m-> 1962\u001b[0m \u001b[38;5;28;01mreturn\u001b[39;00m \u001b[38;5;28;43mself\u001b[39;49m\u001b[38;5;241;43m.\u001b[39;49m\u001b[43m_extract_text\u001b[49m\u001b[43m(\u001b[49m\n\u001b[1;32m   1963\u001b[0m \u001b[43m    \u001b[49m\u001b[38;5;28;43mself\u001b[39;49m\u001b[43m,\u001b[49m\n\u001b[1;32m   1964\u001b[0m \u001b[43m    \u001b[49m\u001b[38;5;28;43mself\u001b[39;49m\u001b[38;5;241;43m.\u001b[39;49m\u001b[43mpdf\u001b[49m\u001b[43m,\u001b[49m\n\u001b[1;32m   1965\u001b[0m \u001b[43m    \u001b[49m\u001b[43morientations\u001b[49m\u001b[43m,\u001b[49m\n\u001b[1;32m   1966\u001b[0m \u001b[43m    \u001b[49m\u001b[43mspace_width\u001b[49m\u001b[43m,\u001b[49m\n\u001b[1;32m   1967\u001b[0m \u001b[43m    \u001b[49m\u001b[43mPG\u001b[49m\u001b[38;5;241;43m.\u001b[39;49m\u001b[43mCONTENTS\u001b[49m\u001b[43m,\u001b[49m\n\u001b[1;32m   1968\u001b[0m \u001b[43m    \u001b[49m\u001b[43mvisitor_operand_before\u001b[49m\u001b[43m,\u001b[49m\n\u001b[1;32m   1969\u001b[0m \u001b[43m    \u001b[49m\u001b[43mvisitor_operand_after\u001b[49m\u001b[43m,\u001b[49m\n\u001b[1;32m   1970\u001b[0m \u001b[43m    \u001b[49m\u001b[43mvisitor_text\u001b[49m\u001b[43m,\u001b[49m\n\u001b[1;32m   1971\u001b[0m \u001b[43m\u001b[49m\u001b[43m)\u001b[49m\n",
      "File \u001b[0;32m~/miniconda3/envs/llama/lib/python3.9/site-packages/pypdf/_page.py:1825\u001b[0m, in \u001b[0;36mPageObject._extract_text\u001b[0;34m(self, obj, pdf, orientations, space_width, content_key, visitor_operand_before, visitor_operand_after, visitor_text)\u001b[0m\n\u001b[1;32m   1823\u001b[0m \u001b[38;5;28;01mfor\u001b[39;00m op \u001b[38;5;129;01min\u001b[39;00m operands[\u001b[38;5;241m0\u001b[39m]:\n\u001b[1;32m   1824\u001b[0m     \u001b[38;5;28;01mif\u001b[39;00m \u001b[38;5;28misinstance\u001b[39m(op, (\u001b[38;5;28mstr\u001b[39m, \u001b[38;5;28mbytes\u001b[39m)):\n\u001b[0;32m-> 1825\u001b[0m         \u001b[43mprocess_operation\u001b[49m\u001b[43m(\u001b[49m\u001b[38;5;124;43mb\u001b[39;49m\u001b[38;5;124;43m\"\u001b[39;49m\u001b[38;5;124;43mTj\u001b[39;49m\u001b[38;5;124;43m\"\u001b[39;49m\u001b[43m,\u001b[49m\u001b[43m \u001b[49m\u001b[43m[\u001b[49m\u001b[43mop\u001b[49m\u001b[43m]\u001b[49m\u001b[43m)\u001b[49m\n\u001b[1;32m   1826\u001b[0m     \u001b[38;5;28;01mif\u001b[39;00m \u001b[38;5;28misinstance\u001b[39m(op, (\u001b[38;5;28mint\u001b[39m, \u001b[38;5;28mfloat\u001b[39m, NumberObject, FloatObject)) \u001b[38;5;129;01mand\u001b[39;00m (\n\u001b[1;32m   1827\u001b[0m         (\u001b[38;5;28mabs\u001b[39m(\u001b[38;5;28mfloat\u001b[39m(op)) \u001b[38;5;241m>\u001b[39m\u001b[38;5;241m=\u001b[39m _space_width)\n\u001b[1;32m   1828\u001b[0m         \u001b[38;5;129;01mand\u001b[39;00m (\u001b[38;5;28mlen\u001b[39m(text) \u001b[38;5;241m>\u001b[39m \u001b[38;5;241m0\u001b[39m)\n\u001b[1;32m   1829\u001b[0m         \u001b[38;5;129;01mand\u001b[39;00m (text[\u001b[38;5;241m-\u001b[39m\u001b[38;5;241m1\u001b[39m] \u001b[38;5;241m!=\u001b[39m \u001b[38;5;124m\"\u001b[39m\u001b[38;5;124m \u001b[39m\u001b[38;5;124m\"\u001b[39m)\n\u001b[1;32m   1830\u001b[0m     ):\n\u001b[1;32m   1831\u001b[0m         process_operation(\u001b[38;5;124mb\u001b[39m\u001b[38;5;124m\"\u001b[39m\u001b[38;5;124mTj\u001b[39m\u001b[38;5;124m\"\u001b[39m, [\u001b[38;5;124m\"\u001b[39m\u001b[38;5;124m \u001b[39m\u001b[38;5;124m\"\u001b[39m])\n",
      "File \u001b[0;32m~/miniconda3/envs/llama/lib/python3.9/site-packages/pypdf/_page.py:1776\u001b[0m, in \u001b[0;36mPageObject._extract_text.<locals>.process_operation\u001b[0;34m(operator, operands)\u001b[0m\n\u001b[1;32m   1774\u001b[0m \u001b[38;5;28;01melif\u001b[39;00m operator \u001b[38;5;241m==\u001b[39m \u001b[38;5;124mb\u001b[39m\u001b[38;5;124m\"\u001b[39m\u001b[38;5;124mTj\u001b[39m\u001b[38;5;124m\"\u001b[39m:\n\u001b[1;32m   1775\u001b[0m     check_crlf_space \u001b[38;5;241m=\u001b[39m \u001b[38;5;28;01mTrue\u001b[39;00m\n\u001b[0;32m-> 1776\u001b[0m     text, rtl_dir \u001b[38;5;241m=\u001b[39m \u001b[43mhandle_tj\u001b[49m\u001b[43m(\u001b[49m\n\u001b[1;32m   1777\u001b[0m \u001b[43m        \u001b[49m\u001b[43mtext\u001b[49m\u001b[43m,\u001b[49m\n\u001b[1;32m   1778\u001b[0m \u001b[43m        \u001b[49m\u001b[43moperands\u001b[49m\u001b[43m,\u001b[49m\n\u001b[1;32m   1779\u001b[0m \u001b[43m        \u001b[49m\u001b[43mcm_matrix\u001b[49m\u001b[43m,\u001b[49m\n\u001b[1;32m   1780\u001b[0m \u001b[43m        \u001b[49m\u001b[43mtm_matrix\u001b[49m\u001b[43m,\u001b[49m\u001b[43m  \u001b[49m\u001b[38;5;66;43;03m# text matrix\u001b[39;49;00m\n\u001b[1;32m   1781\u001b[0m \u001b[43m        \u001b[49m\u001b[43mcmap\u001b[49m\u001b[43m,\u001b[49m\n\u001b[1;32m   1782\u001b[0m \u001b[43m        \u001b[49m\u001b[43morientations\u001b[49m\u001b[43m,\u001b[49m\n\u001b[1;32m   1783\u001b[0m \u001b[43m        \u001b[49m\u001b[43moutput\u001b[49m\u001b[43m,\u001b[49m\n\u001b[1;32m   1784\u001b[0m \u001b[43m        \u001b[49m\u001b[43mfont_size\u001b[49m\u001b[43m,\u001b[49m\n\u001b[1;32m   1785\u001b[0m \u001b[43m        \u001b[49m\u001b[43mrtl_dir\u001b[49m\u001b[43m,\u001b[49m\n\u001b[1;32m   1786\u001b[0m \u001b[43m        \u001b[49m\u001b[43mvisitor_text\u001b[49m\u001b[43m,\u001b[49m\n\u001b[1;32m   1787\u001b[0m \u001b[43m    \u001b[49m\u001b[43m)\u001b[49m\n\u001b[1;32m   1788\u001b[0m \u001b[38;5;28;01melse\u001b[39;00m:\n\u001b[1;32m   1789\u001b[0m     \u001b[38;5;28;01mreturn\u001b[39;00m \u001b[38;5;28;01mNone\u001b[39;00m\n",
      "File \u001b[0;32m~/miniconda3/envs/llama/lib/python3.9/site-packages/pypdf/_text_extraction/__init__.py:244\u001b[0m, in \u001b[0;36mhandle_tj\u001b[0;34m(text, operands, cm_matrix, tm_matrix, cmap, orientations, output, font_size, rtl_dir, visitor_text)\u001b[0m\n\u001b[1;32m    240\u001b[0m     xx \u001b[38;5;241m=\u001b[39m \u001b[38;5;241m1\u001b[39m\n\u001b[1;32m    241\u001b[0m \u001b[38;5;66;03m# fmt: off\u001b[39;00m\n\u001b[1;32m    242\u001b[0m \u001b[38;5;28;01mif\u001b[39;00m (\n\u001b[1;32m    243\u001b[0m     \u001b[38;5;66;03m# cases where the current inserting order is kept\u001b[39;00m\n\u001b[0;32m--> 244\u001b[0m     (\u001b[43mxx\u001b[49m\u001b[43m \u001b[49m\u001b[38;5;241;43m<\u001b[39;49m\u001b[38;5;241;43m=\u001b[39;49m\u001b[43m \u001b[49m\u001b[38;5;241;43m0x2F\u001b[39;49m)                        \u001b[38;5;66;03m# punctuations but...\u001b[39;00m\n\u001b[1;32m    245\u001b[0m     \u001b[38;5;129;01mor\u001b[39;00m (\u001b[38;5;241m0x3A\u001b[39m \u001b[38;5;241m<\u001b[39m\u001b[38;5;241m=\u001b[39m xx \u001b[38;5;129;01mand\u001b[39;00m xx \u001b[38;5;241m<\u001b[39m\u001b[38;5;241m=\u001b[39m \u001b[38;5;241m0x40\u001b[39m)      \u001b[38;5;66;03m# numbers (x30-39)\u001b[39;00m\n\u001b[1;32m    246\u001b[0m     \u001b[38;5;129;01mor\u001b[39;00m (\u001b[38;5;241m0x2000\u001b[39m \u001b[38;5;241m<\u001b[39m\u001b[38;5;241m=\u001b[39m xx \u001b[38;5;129;01mand\u001b[39;00m xx \u001b[38;5;241m<\u001b[39m\u001b[38;5;241m=\u001b[39m \u001b[38;5;241m0x206F\u001b[39m)  \u001b[38;5;66;03m# upper punctuations..\u001b[39;00m\n\u001b[1;32m    247\u001b[0m     \u001b[38;5;129;01mor\u001b[39;00m (\u001b[38;5;241m0x20A0\u001b[39m \u001b[38;5;241m<\u001b[39m\u001b[38;5;241m=\u001b[39m xx \u001b[38;5;129;01mand\u001b[39;00m xx \u001b[38;5;241m<\u001b[39m\u001b[38;5;241m=\u001b[39m \u001b[38;5;241m0x21FF\u001b[39m)  \u001b[38;5;66;03m# but (numbers) indices/exponents\u001b[39;00m\n\u001b[1;32m    248\u001b[0m     \u001b[38;5;129;01mor\u001b[39;00m xx \u001b[38;5;129;01min\u001b[39;00m CUSTOM_RTL_SPECIAL_CHARS   \u001b[38;5;66;03m# customized....\u001b[39;00m\n\u001b[1;32m    249\u001b[0m ):\n\u001b[1;32m    250\u001b[0m     text \u001b[38;5;241m=\u001b[39m x \u001b[38;5;241m+\u001b[39m text \u001b[38;5;28;01mif\u001b[39;00m rtl_dir \u001b[38;5;28;01melse\u001b[39;00m text \u001b[38;5;241m+\u001b[39m x\n\u001b[1;32m    251\u001b[0m \u001b[38;5;28;01melif\u001b[39;00m (  \u001b[38;5;66;03m# right-to-left characters set\u001b[39;00m\n\u001b[1;32m    252\u001b[0m     (\u001b[38;5;241m0x0590\u001b[39m \u001b[38;5;241m<\u001b[39m\u001b[38;5;241m=\u001b[39m xx \u001b[38;5;129;01mand\u001b[39;00m xx \u001b[38;5;241m<\u001b[39m\u001b[38;5;241m=\u001b[39m \u001b[38;5;241m0x08FF\u001b[39m)\n\u001b[1;32m    253\u001b[0m     \u001b[38;5;129;01mor\u001b[39;00m (\u001b[38;5;241m0xFB1D\u001b[39m \u001b[38;5;241m<\u001b[39m\u001b[38;5;241m=\u001b[39m xx \u001b[38;5;129;01mand\u001b[39;00m xx \u001b[38;5;241m<\u001b[39m\u001b[38;5;241m=\u001b[39m \u001b[38;5;241m0xFDFF\u001b[39m)\n\u001b[1;32m    254\u001b[0m     \u001b[38;5;129;01mor\u001b[39;00m (\u001b[38;5;241m0xFE70\u001b[39m \u001b[38;5;241m<\u001b[39m\u001b[38;5;241m=\u001b[39m xx \u001b[38;5;129;01mand\u001b[39;00m xx \u001b[38;5;241m<\u001b[39m\u001b[38;5;241m=\u001b[39m \u001b[38;5;241m0xFEFF\u001b[39m)\n\u001b[1;32m    255\u001b[0m     \u001b[38;5;129;01mor\u001b[39;00m (CUSTOM_RTL_MIN \u001b[38;5;241m<\u001b[39m\u001b[38;5;241m=\u001b[39m xx \u001b[38;5;129;01mand\u001b[39;00m xx \u001b[38;5;241m<\u001b[39m\u001b[38;5;241m=\u001b[39m CUSTOM_RTL_MAX)\n\u001b[1;32m    256\u001b[0m ):\n",
      "\u001b[0;31mKeyboardInterrupt\u001b[0m: "
     ]
    }
   ],
   "source": [
    "lyft_docs = SimpleDirectoryReader(input_files=[\"../data/10k/lyft_2021.pdf\"]).load_data()\n",
    "uber_docs = SimpleDirectoryReader(input_files=[\"../data/10k/uber_2021.pdf\"]).load_data()"
   ]
  },
  {
   "cell_type": "code",
   "execution_count": null,
   "id": "dc42a030-6f04-453e-86ee-3be89da2fedd",
   "metadata": {
    "tags": []
   },
   "outputs": [],
   "source": [
    "lyft_index = VectorStoreIndex.from_documents(lyft_docs)\n",
    "uber_index = VectorStoreIndex.from_documents(uber_docs)"
   ]
  },
  {
   "cell_type": "code",
   "execution_count": null,
   "id": "db53f37a-3050-4f58-99c9-5e8862ee3326",
   "metadata": {
    "tags": []
   },
   "outputs": [],
   "source": [
    "lyft_engine = lyft_index.as_query_engine(similarity_top_k=3)\n",
    "uber_engine = uber_index.as_query_engine(similarity_top_k=3)"
   ]
  }
 ],
 "metadata": {
  "kernelspec": {
   "display_name": "Python 3 (ipykernel)",
   "language": "python",
   "name": "python3"
  },
  "language_info": {
   "codemirror_mode": {
    "name": "ipython",
    "version": 3
   },
   "file_extension": ".py",
   "mimetype": "text/x-python",
   "name": "python",
   "nbconvert_exporter": "python",
   "pygments_lexer": "ipython3",
   "version": "3.9.16"
  }
 },
 "nbformat": 4,
 "nbformat_minor": 5
}
