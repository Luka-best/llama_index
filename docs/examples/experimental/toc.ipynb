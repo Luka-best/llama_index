{
 "cells": [
  {
   "cell_type": "markdown",
   "id": "858d9e36-a92d-4189-a831-2be46486920c",
   "metadata": {
    "tags": []
   },
   "source": [
    "# Table of Content Index"
   ]
  },
  {
   "cell_type": "code",
   "execution_count": 6,
   "id": "4c5bbc0e-00c2-410e-917d-6277a33e3939",
   "metadata": {
    "tags": []
   },
   "outputs": [
    {
     "name": "stderr",
     "output_type": "stream",
     "text": [
      "/Users/suo/miniconda3/envs/llama/lib/python3.9/site-packages/tqdm/auto.py:21: TqdmWarning: IProgress not found. Please update jupyter and ipywidgets. See https://ipywidgets.readthedocs.io/en/stable/user_install.html\n",
      "  from .autonotebook import tqdm as notebook_tqdm\n"
     ]
    }
   ],
   "source": [
    "from langchain import OpenAI\n",
    "from llama_index import SimpleDirectoryReader"
   ]
  },
  {
   "cell_type": "code",
   "execution_count": 3,
   "id": "554acd16-2778-4a74-a2ff-c6c56b9b98b1",
   "metadata": {
    "tags": []
   },
   "outputs": [],
   "source": [
    "llm = OpenAI(max_tokens=-1)"
   ]
  },
  {
   "cell_type": "code",
   "execution_count": 7,
   "id": "0d72f043-798b-4806-8c54-f196cd749720",
   "metadata": {
    "tags": []
   },
   "outputs": [],
   "source": [
    "uber_docs = SimpleDirectoryReader(input_files=[\"../data/10k/uber_2021.pdf\"]).load_data()"
   ]
  },
  {
   "cell_type": "code",
   "execution_count": 8,
   "id": "043337a4-dfef-4668-adea-94730102a81f",
   "metadata": {
    "tags": []
   },
   "outputs": [],
   "source": [
    "prompt_template = \"\"\"\n",
    "Extract the table of contents given the following parsed PDF page\n",
    "\n",
    "<PDF Input>\n",
    "{pdf_text}\n",
    "\n",
    "Return response formatted as Markdown json block, similar to \n",
    "```json\n",
    "{{\n",
    "    \"Item 1. Business\": 4,\n",
    "    \"Item 1A. Risk Factors\": 11,\n",
    "}}\n",
    "\"\"\"\n",
    "\n",
    "response = llm.predict(prompt_template.format(pdf_text=uber_docs[2].text))"
   ]
  },
  {
   "cell_type": "code",
   "execution_count": 10,
   "id": "b01a0073-5b98-467c-8e2c-cc7a713bc533",
   "metadata": {
    "tags": []
   },
   "outputs": [
    {
     "name": "stdout",
     "output_type": "stream",
     "text": [
      "```\n",
      "\n",
      "```json\n",
      "{\n",
      "    \"Special Note Regarding Forward-Looking Statements\": 2,\n",
      "    \"Item 1. Business\": 4,\n",
      "    \"Item 1A. Risk Factors\": 11,\n",
      "    \"Item 1B. Unresolved Staff Comments\": 46,\n",
      "    \"Item 2. Properties\": 46,\n",
      "    \"Item 3. Legal Proceedings\": 46,\n",
      "    \"Item 4. Mine Safety Disclosures\": 47,\n",
      "    \"Item 5. Market for Registrant’s Common Equity, Related Stockholder Matters and Issuer Purchases of Equity Securities\": 47,\n",
      "    \"Item 6. [Reserved]\": 48,\n",
      "    \"Item 7. Management’s Discussion and Analysis of Financial Condition and Results of Operations\": 48,\n",
      "    \"Item 7A. Quantitative and Qualitative Disclosures About Market Risk\": 69,\n",
      "    \"Item 8. Financial Statements and Supplementary Data\": 70,\n",
      "    \"Item 9. Changes in and Disagreements with Accountants on Accounting and Financial Disclosure\": 146,\n",
      "    \"Item 9A. Controls and Procedures\": 147,\n",
      "    \"Item 9B. Other Information\": 147,\n",
      "    \"Item 9C. Disclosure Regarding Foreign Jurisdictions that Prevent Inspections\": 147,\n",
      "    \"Item 10. Directors, Executive Officers and Corporate Governance\": 147,\n",
      "    \"Item 11. Executive Compensation\": 147,\n",
      "    \"Item 12. Security Ownership of Certain Beneficial Owners and Management and Related Stockholder Matters\": 148,\n",
      "    \"Item 13. Certain Relationships and Related Transactions, and Director Independence\": 148,\n",
      "    \"Item 14. Principal Accounting Fees and Services\": 148,\n",
      "    \"Item 15. Exhibits, Financial Statement Schedules\": 148,\n",
      "    \"Item 16. Form 10-K Summary\": 148,\n",
      "    \"Exhibit Index\": 149,\n",
      "    \"Signatures\": 152\n",
      "}\n",
      "```\n"
     ]
    }
   ],
   "source": [
    "print(response)"
   ]
  },
  {
   "cell_type": "code",
   "execution_count": null,
   "id": "ebf24071-6865-40e5-86bf-cbef088ee485",
   "metadata": {},
   "outputs": [],
   "source": []
  }
 ],
 "metadata": {
  "kernelspec": {
   "display_name": "Python 3 (ipykernel)",
   "language": "python",
   "name": "python3"
  },
  "language_info": {
   "codemirror_mode": {
    "name": "ipython",
    "version": 3
   },
   "file_extension": ".py",
   "mimetype": "text/x-python",
   "name": "python",
   "nbconvert_exporter": "python",
   "pygments_lexer": "ipython3",
   "version": "3.9.16"
  }
 },
 "nbformat": 4,
 "nbformat_minor": 5
}
