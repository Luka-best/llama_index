{
 "cells": [
  {
   "cell_type": "markdown",
   "id": "e69bfdaa-bca4-445b-829c-22b33acda500",
   "metadata": {},
   "source": [
    "# [WIP] Custom agent loop"
   ]
  },
  {
   "cell_type": "markdown",
   "id": "17baf243-e337-4577-a2dd-2708e6fc32de",
   "metadata": {},
   "source": [
    "Can we create a declarative query language (i.e. SQL like) so that LLM agents can generate effective query plan"
   ]
  },
  {
   "cell_type": "code",
   "execution_count": 5,
   "id": "94c7e3a5-50bc-4ef9-9cf3-3542c3eb89b3",
   "metadata": {
    "tags": []
   },
   "outputs": [
    {
     "name": "stderr",
     "output_type": "stream",
     "text": [
      "/Users/suo/miniconda3/envs/llama/lib/python3.9/site-packages/tqdm/auto.py:21: TqdmWarning: IProgress not found. Please update jupyter and ipywidgets. See https://ipywidgets.readthedocs.io/en/stable/user_install.html\n",
      "  from .autonotebook import tqdm as notebook_tqdm\n"
     ]
    }
   ],
   "source": [
    "from langchain import OpenAI\n",
    "from llama_index import SimpleDirectoryReader"
   ]
  },
  {
   "cell_type": "code",
   "execution_count": 6,
   "id": "b98f2dcd-ff58-4b3c-ae21-6b3301415b79",
   "metadata": {
    "tags": []
   },
   "outputs": [],
   "source": [
    "llm = OpenAI(max_tokens=-1)"
   ]
  },
  {
   "cell_type": "code",
   "execution_count": 7,
   "id": "79e91b6c-ae57-4a27-bc14-7a6733b4301d",
   "metadata": {
    "tags": []
   },
   "outputs": [],
   "source": [
    "prompt_template = \"\"\"\n",
    "Given a user question, and a set of documents, break the query down to simpler sub-questions per document and then answer the final question.\n",
    "\n",
    "<Documents>\n",
    "{\n",
    "    doc1: \"Lyft 10K for year 2021\",\n",
    "    doc2: \"Uber 10K for year 2021\"\n",
    "}\n",
    "\n",
    "<Grammar>\n",
    "- docs = map(docs, \"question string\")\n",
    "- doc = reduce(docs, \"summary string\")\n",
    "- docs = filter(docs, \"filter string\")\n",
    "\n",
    "\n",
    "# Example 1\n",
    "\n",
    "\n",
    "<User question>\n",
    "Compare revenue growth rate between Uber and Lyft in 2021\n",
    "\n",
    "<Query Plan>\n",
    "```python\n",
    "docs = map([doc1, doc2], \"what is the revenue growth\")\n",
    "answer = reduce(docs, \"compare and contrast revenue growth\")\n",
    "\n",
    "# Example 2\n",
    "\n",
    "<User question>\n",
    "How does Uber rank in revenue compared to its competitors\n",
    "\n",
    "<Query Plan>\n",
    "\"\"\""
   ]
  },
  {
   "cell_type": "code",
   "execution_count": 8,
   "id": "1596d94c-3538-409f-bd17-d50cf69bce53",
   "metadata": {
    "tags": []
   },
   "outputs": [],
   "source": [
    "response = llm.predict(prompt_template)"
   ]
  },
  {
   "cell_type": "code",
   "execution_count": 9,
   "id": "c001aad3-0ba1-427c-80e4-416567dceaed",
   "metadata": {
    "tags": []
   },
   "outputs": [
    {
     "name": "stdout",
     "output_type": "stream",
     "text": [
      "docs = filter([doc1, doc2], \"Uber\")\n",
      "answer = reduce(docs, \"compare Uber revenue to other competitors\")\n"
     ]
    }
   ],
   "source": [
    "print(response)"
   ]
  }
 ],
 "metadata": {
  "kernelspec": {
   "display_name": "Python 3 (ipykernel)",
   "language": "python",
   "name": "python3"
  },
  "language_info": {
   "codemirror_mode": {
    "name": "ipython",
    "version": 3
   },
   "file_extension": ".py",
   "mimetype": "text/x-python",
   "name": "python",
   "nbconvert_exporter": "python",
   "pygments_lexer": "ipython3",
   "version": "3.9.16"
  }
 },
 "nbformat": 4,
 "nbformat_minor": 5
}
