{
 "cells": [
  {
   "attachments": {},
   "cell_type": "markdown",
   "id": "2e33dced-e587-4397-81b3-d6606aa1738a",
   "metadata": {},
   "source": [
    "# Ollama - Llama 2 7B"
   ]
  },
  {
   "attachments": {},
   "cell_type": "markdown",
   "id": "5863dde9-84a0-4c33-ad52-cc767442f63f",
   "metadata": {},
   "source": [
    "## Setup"
   ]
  },
  {
   "cell_type": "code",
   "execution_count": 1,
   "id": "ad297f19-998f-4485-aa2f-d67020058b7d",
   "metadata": {
    "tags": [],
    "ExecuteTime": {
     "end_time": "2023-09-08T04:22:58.853938Z",
     "start_time": "2023-09-08T04:22:57.348189Z"
    }
   },
   "outputs": [],
   "source": [
    "from llama_index.llms.ollama import Ollama"
   ]
  },
  {
   "cell_type": "code",
   "execution_count": 2,
   "id": "152ced37-9a42-47be-9a39-4218521f5e72",
   "metadata": {
    "tags": [],
    "ExecuteTime": {
     "end_time": "2023-09-08T04:22:58.857737Z",
     "start_time": "2023-09-08T04:22:58.854778Z"
    }
   },
   "outputs": [],
   "source": [
    "llm = Ollama(model=\"llama2\")"
   ]
  },
  {
   "attachments": {},
   "cell_type": "markdown",
   "id": "b67c6a29-d407-4f00-9ef0-3a8116976ae9",
   "metadata": {},
   "source": [
    "#### Call `complete` with a prompt"
   ]
  },
  {
   "cell_type": "code",
   "execution_count": 6,
   "id": "d61b10bb-e911-47fb-8e84-19828cf224be",
   "metadata": {
    "tags": [],
    "ExecuteTime": {
     "end_time": "2023-09-08T04:24:47.824169Z",
     "start_time": "2023-09-08T04:24:46.827492Z"
    }
   },
   "outputs": [],
   "source": [
    "resp = llm.stream_complete(\"Who is Paul Graham?\")"
   ]
  },
  {
   "cell_type": "code",
   "execution_count": 7,
   "id": "3bd14f4e-c245-4384-a471-97e4ddfcb40e",
   "metadata": {
    "tags": [],
    "ExecuteTime": {
     "end_time": "2023-09-08T04:24:48.512269Z",
     "start_time": "2023-09-08T04:24:48.507602Z"
    }
   },
   "outputs": [
    {
     "name": "stdout",
     "output_type": "stream",
     "text": [
      "<generator object llm_completion_callback.<locals>.wrap.<locals>.wrapped_llm_predict.<locals>.wrapped_gen at 0x1436b19e0>\n"
     ]
    }
   ],
   "source": [
    "print(resp)"
   ]
  },
  {
   "attachments": {},
   "cell_type": "markdown",
   "id": "3ba9503c-b440-43c6-a50c-676c79993813",
   "metadata": {
    "tags": []
   },
   "source": [
    "#### Call `chat` with a list of messages"
   ]
  },
  {
   "cell_type": "code",
   "execution_count": null,
   "id": "ee8a4a55-5680-4dc6-a44c-fc8ad7892f80",
   "metadata": {
    "tags": []
   },
   "outputs": [],
   "source": [
    "from llama_index.llms import ChatMessage\n",
    "\n",
    "messages = [\n",
    "    ChatMessage(role=\"system\", content=\"You are a pirate with a colorful personality\"),\n",
    "    ChatMessage(role=\"user\", content=\"What is your name\"),\n",
    "]\n",
    "resp = llm.chat(messages)"
   ]
  },
  {
   "cell_type": "code",
   "execution_count": null,
   "id": "2a9bfe53-d15b-4e75-9d91-8c5d024f4eda",
   "metadata": {
    "tags": []
   },
   "outputs": [],
   "source": [
    "print(resp)"
   ]
  },
  {
   "attachments": {},
   "cell_type": "markdown",
   "id": "25ad1b00-28fc-4bcd-96c4-d5b35605721a",
   "metadata": {},
   "source": [
    "### Streaming"
   ]
  },
  {
   "attachments": {},
   "cell_type": "markdown",
   "id": "13c641fa-345a-4dce-87c5-ab1f6dcf4757",
   "metadata": {},
   "source": [
    "Using `stream_complete` endpoint "
   ]
  },
  {
   "cell_type": "code",
   "execution_count": 8,
   "id": "06da1ef1-2f6b-497c-847b-62dd2df11491",
   "metadata": {
    "tags": [],
    "ExecuteTime": {
     "end_time": "2023-09-08T04:25:18.681725Z",
     "start_time": "2023-09-08T04:25:18.515519Z"
    }
   },
   "outputs": [],
   "source": [
    "response = llm.stream_complete(\"Who is Paul Graham?\")"
   ]
  },
  {
   "cell_type": "code",
   "execution_count": 9,
   "id": "1b851def-5160-46e5-a30c-5a3ef2356b79",
   "metadata": {
    "tags": [],
    "ExecuteTime": {
     "end_time": "2023-09-08T04:25:22.869482Z",
     "start_time": "2023-09-08T04:25:18.682715Z"
    }
   },
   "outputs": [
    {
     "name": "stdout",
     "output_type": "stream",
     "text": [
      "{\"model\":\"llama2\",\"created_at\":\"2023-09-08T04:25:18.678077Z\",\"response\":\" Paul\",\"done\":false}{\"model\":\"llama2\",\"created_at\":\"2023-09-08T04:25:18.696443Z\",\"response\":\" Graham\",\"done\":false}{\"model\":\"llama2\",\"created_at\":\"2023-09-08T04:25:18.713829Z\",\"response\":\" is\",\"done\":false}{\"model\":\"llama2\",\"created_at\":\"2023-09-08T04:25:18.73154Z\",\"response\":\" a\",\"done\":false}{\"model\":\"llama2\",\"created_at\":\"2023-09-08T04:25:18.749669Z\",\"response\":\" well\",\"done\":false}{\"model\":\"llama2\",\"created_at\":\"2023-09-08T04:25:18.767559Z\",\"response\":\"-\",\"done\":false}{\"model\":\"llama2\",\"created_at\":\"2023-09-08T04:25:18.784887Z\",\"response\":\"known\",\"done\":false}{\"model\":\"llama2\",\"created_at\":\"2023-09-08T04:25:18.802392Z\",\"response\":\" entrepr\",\"done\":false}{\"model\":\"llama2\",\"created_at\":\"2023-09-08T04:25:18.819969Z\",\"response\":\"ene\",\"done\":false}{\"model\":\"llama2\",\"created_at\":\"2023-09-08T04:25:18.837426Z\",\"response\":\"ur\",\"done\":false}{\"model\":\"llama2\",\"created_at\":\"2023-09-08T04:25:18.854878Z\",\"response\":\",\",\"done\":false}{\"model\":\"llama2\",\"created_at\":\"2023-09-08T04:25:18.872367Z\",\"response\":\" programmer\",\"done\":false}{\"model\":\"llama2\",\"created_at\":\"2023-09-08T04:25:18.889676Z\",\"response\":\",\",\"done\":false}{\"model\":\"llama2\",\"created_at\":\"2023-09-08T04:25:18.907382Z\",\"response\":\" and\",\"done\":false}{\"model\":\"llama2\",\"created_at\":\"2023-09-08T04:25:18.925035Z\",\"response\":\" writer\",\"done\":false}{\"model\":\"llama2\",\"created_at\":\"2023-09-08T04:25:18.943014Z\",\"response\":\" who\",\"done\":false}{\"model\":\"llama2\",\"created_at\":\"2023-09-08T04:25:18.960547Z\",\"response\":\" has\",\"done\":false}{\"model\":\"llama2\",\"created_at\":\"2023-09-08T04:25:18.977976Z\",\"response\":\" made\",\"done\":false}{\"model\":\"llama2\",\"created_at\":\"2023-09-08T04:25:18.995484Z\",\"response\":\" significant\",\"done\":false}{\"model\":\"llama2\",\"created_at\":\"2023-09-08T04:25:19.012876Z\",\"response\":\" contributions\",\"done\":false}{\"model\":\"llama2\",\"created_at\":\"2023-09-08T04:25:19.030026Z\",\"response\":\" to\",\"done\":false}{\"model\":\"llama2\",\"created_at\":\"2023-09-08T04:25:19.047753Z\",\"response\":\" the\",\"done\":false}{\"model\":\"llama2\",\"created_at\":\"2023-09-08T04:25:19.065298Z\",\"response\":\" fields\",\"done\":false}{\"model\":\"llama2\",\"created_at\":\"2023-09-08T04:25:19.082833Z\",\"response\":\" of\",\"done\":false}{\"model\":\"llama2\",\"created_at\":\"2023-09-08T04:25:19.100682Z\",\"response\":\" computer\",\"done\":false}{\"model\":\"llama2\",\"created_at\":\"2023-09-08T04:25:19.117846Z\",\"response\":\" science\",\"done\":false}{\"model\":\"llama2\",\"created_at\":\"2023-09-08T04:25:19.136044Z\",\"response\":\",\",\"done\":false}{\"model\":\"llama2\",\"created_at\":\"2023-09-08T04:25:19.153644Z\",\"response\":\" start\",\"done\":false}{\"model\":\"llama2\",\"created_at\":\"2023-09-08T04:25:19.171286Z\",\"response\":\"ups\",\"done\":false}{\"model\":\"llama2\",\"created_at\":\"2023-09-08T04:25:19.188894Z\",\"response\":\",\",\"done\":false}{\"model\":\"llama2\",\"created_at\":\"2023-09-08T04:25:19.206522Z\",\"response\":\" and\",\"done\":false}{\"model\":\"llama2\",\"created_at\":\"2023-09-08T04:25:19.224314Z\",\"response\":\" vent\",\"done\":false}{\"model\":\"llama2\",\"created_at\":\"2023-09-08T04:25:19.241642Z\",\"response\":\"ure\",\"done\":false}{\"model\":\"llama2\",\"created_at\":\"2023-09-08T04:25:19.259339Z\",\"response\":\" capital\",\"done\":false}{\"model\":\"llama2\",\"created_at\":\"2023-09-08T04:25:19.276904Z\",\"response\":\".\",\"done\":false}{\"model\":\"llama2\",\"created_at\":\"2023-09-08T04:25:19.294574Z\",\"response\":\"➖\",\"done\":false}{\"model\":\"llama2\",\"created_at\":\"2023-09-08T04:25:19.312081Z\",\"response\":\"\\n\",\"done\":false}{\"model\":\"llama2\",\"created_at\":\"2023-09-08T04:25:19.3296Z\",\"response\":\"\\n\",\"done\":false}{\"model\":\"llama2\",\"created_at\":\"2023-09-08T04:25:19.34669Z\",\"response\":\"G\",\"done\":false}{\"model\":\"llama2\",\"created_at\":\"2023-09-08T04:25:19.363724Z\",\"response\":\"raham\",\"done\":false}{\"model\":\"llama2\",\"created_at\":\"2023-09-08T04:25:19.381472Z\",\"response\":\" is\",\"done\":false}{\"model\":\"llama2\",\"created_at\":\"2023-09-08T04:25:19.39922Z\",\"response\":\" best\",\"done\":false}{\"model\":\"llama2\",\"created_at\":\"2023-09-08T04:25:19.41688Z\",\"response\":\" known\",\"done\":false}{\"model\":\"llama2\",\"created_at\":\"2023-09-08T04:25:19.434641Z\",\"response\":\" as\",\"done\":false}{\"model\":\"llama2\",\"created_at\":\"2023-09-08T04:25:19.452145Z\",\"response\":\" the\",\"done\":false}{\"model\":\"llama2\",\"created_at\":\"2023-09-08T04:25:19.469768Z\",\"response\":\" co\",\"done\":false}{\"model\":\"llama2\",\"created_at\":\"2023-09-08T04:25:19.48748Z\",\"response\":\"-\",\"done\":false}{\"model\":\"llama2\",\"created_at\":\"2023-09-08T04:25:19.505226Z\",\"response\":\"found\",\"done\":false}{\"model\":\"llama2\",\"created_at\":\"2023-09-08T04:25:19.523125Z\",\"response\":\"er\",\"done\":false}{\"model\":\"llama2\",\"created_at\":\"2023-09-08T04:25:19.540773Z\",\"response\":\" of\",\"done\":false}{\"model\":\"llama2\",\"created_at\":\"2023-09-08T04:25:19.558235Z\",\"response\":\" Y\",\"done\":false}{\"model\":\"llama2\",\"created_at\":\"2023-09-08T04:25:19.575543Z\",\"response\":\" Com\",\"done\":false}{\"model\":\"llama2\",\"created_at\":\"2023-09-08T04:25:19.593121Z\",\"response\":\"bin\",\"done\":false}{\"model\":\"llama2\",\"created_at\":\"2023-09-08T04:25:19.610856Z\",\"response\":\"ator\",\"done\":false}{\"model\":\"llama2\",\"created_at\":\"2023-09-08T04:25:19.628647Z\",\"response\":\",\",\"done\":false}{\"model\":\"llama2\",\"created_at\":\"2023-09-08T04:25:19.646327Z\",\"response\":\" a\",\"done\":false}{\"model\":\"llama2\",\"created_at\":\"2023-09-08T04:25:19.664226Z\",\"response\":\" popular\",\"done\":false}{\"model\":\"llama2\",\"created_at\":\"2023-09-08T04:25:19.682017Z\",\"response\":\" startup\",\"done\":false}{\"model\":\"llama2\",\"created_at\":\"2023-09-08T04:25:19.699824Z\",\"response\":\" acceler\",\"done\":false}{\"model\":\"llama2\",\"created_at\":\"2023-09-08T04:25:19.717667Z\",\"response\":\"ator\",\"done\":false}{\"model\":\"llama2\",\"created_at\":\"2023-09-08T04:25:19.736097Z\",\"response\":\" that\",\"done\":false}{\"model\":\"llama2\",\"created_at\":\"2023-09-08T04:25:19.754054Z\",\"response\":\" has\",\"done\":false}{\"model\":\"llama2\",\"created_at\":\"2023-09-08T04:25:19.771756Z\",\"response\":\" fund\",\"done\":false}{\"model\":\"llama2\",\"created_at\":\"2023-09-08T04:25:19.789605Z\",\"response\":\"ed\",\"done\":false}{\"model\":\"llama2\",\"created_at\":\"2023-09-08T04:25:19.807591Z\",\"response\":\" successful\",\"done\":false}{\"model\":\"llama2\",\"created_at\":\"2023-09-08T04:25:19.824856Z\",\"response\":\" companies\",\"done\":false}{\"model\":\"llama2\",\"created_at\":\"2023-09-08T04:25:19.84259Z\",\"response\":\" like\",\"done\":false}{\"model\":\"llama2\",\"created_at\":\"2023-09-08T04:25:19.860275Z\",\"response\":\" Air\",\"done\":false}{\"model\":\"llama2\",\"created_at\":\"2023-09-08T04:25:19.87811Z\",\"response\":\"b\",\"done\":false}{\"model\":\"llama2\",\"created_at\":\"2023-09-08T04:25:19.895818Z\",\"response\":\"nb\",\"done\":false}{\"model\":\"llama2\",\"created_at\":\"2023-09-08T04:25:19.913577Z\",\"response\":\",\",\"done\":false}{\"model\":\"llama2\",\"created_at\":\"2023-09-08T04:25:19.931494Z\",\"response\":\" Drop\",\"done\":false}{\"model\":\"llama2\",\"created_at\":\"2023-09-08T04:25:19.949609Z\",\"response\":\"box\",\"done\":false}{\"model\":\"llama2\",\"created_at\":\"2023-09-08T04:25:19.967454Z\",\"response\":\",\",\"done\":false}{\"model\":\"llama2\",\"created_at\":\"2023-09-08T04:25:19.985182Z\",\"response\":\" and\",\"done\":false}{\"model\":\"llama2\",\"created_at\":\"2023-09-08T04:25:20.002996Z\",\"response\":\" Red\",\"done\":false}{\"model\":\"llama2\",\"created_at\":\"2023-09-08T04:25:20.020884Z\",\"response\":\"dit\",\"done\":false}{\"model\":\"llama2\",\"created_at\":\"2023-09-08T04:25:20.038139Z\",\"response\":\".\",\"done\":false}{\"model\":\"llama2\",\"created_at\":\"2023-09-08T04:25:20.05603Z\",\"response\":\" He\",\"done\":false}{\"model\":\"llama2\",\"created_at\":\"2023-09-08T04:25:20.073362Z\",\"response\":\" has\",\"done\":false}{\"model\":\"llama2\",\"created_at\":\"2023-09-08T04:25:20.091235Z\",\"response\":\" also\",\"done\":false}{\"model\":\"llama2\",\"created_at\":\"2023-09-08T04:25:20.109138Z\",\"response\":\" written\",\"done\":false}{\"model\":\"llama2\",\"created_at\":\"2023-09-08T04:25:20.126866Z\",\"response\":\" several\",\"done\":false}{\"model\":\"llama2\",\"created_at\":\"2023-09-08T04:25:20.144731Z\",\"response\":\" influ\",\"done\":false}{\"model\":\"llama2\",\"created_at\":\"2023-09-08T04:25:20.162835Z\",\"response\":\"ential\",\"done\":false}{\"model\":\"llama2\",\"created_at\":\"2023-09-08T04:25:20.180616Z\",\"response\":\" ess\",\"done\":false}{\"model\":\"llama2\",\"created_at\":\"2023-09-08T04:25:20.19896Z\",\"response\":\"ays\",\"done\":false}{\"model\":\"llama2\",\"created_at\":\"2023-09-08T04:25:20.217312Z\",\"response\":\" on\",\"done\":false}{\"model\":\"llama2\",\"created_at\":\"2023-09-08T04:25:20.235294Z\",\"response\":\" entrepr\",\"done\":false}{\"model\":\"llama2\",\"created_at\":\"2023-09-08T04:25:20.253226Z\",\"response\":\"ene\",\"done\":false}{\"model\":\"llama2\",\"created_at\":\"2023-09-08T04:25:20.271147Z\",\"response\":\"ur\",\"done\":false}{\"model\":\"llama2\",\"created_at\":\"2023-09-08T04:25:20.289433Z\",\"response\":\"ship\",\"done\":false}{\"model\":\"llama2\",\"created_at\":\"2023-09-08T04:25:20.307472Z\",\"response\":\",\",\"done\":false}{\"model\":\"llama2\",\"created_at\":\"2023-09-08T04:25:20.325452Z\",\"response\":\" programming\",\"done\":false}{\"model\":\"llama2\",\"created_at\":\"2023-09-08T04:25:20.343415Z\",\"response\":\",\",\"done\":false}{\"model\":\"llama2\",\"created_at\":\"2023-09-08T04:25:20.361413Z\",\"response\":\" and\",\"done\":false}{\"model\":\"llama2\",\"created_at\":\"2023-09-08T04:25:20.379621Z\",\"response\":\" the\",\"done\":false}{\"model\":\"llama2\",\"created_at\":\"2023-09-08T04:25:20.397603Z\",\"response\":\" te\",\"done\":false}{\"model\":\"llama2\",\"created_at\":\"2023-09-08T04:25:20.415795Z\",\"response\":\"ch\",\"done\":false}{\"model\":\"llama2\",\"created_at\":\"2023-09-08T04:25:20.433781Z\",\"response\":\" industry\",\"done\":false}{\"model\":\"llama2\",\"created_at\":\"2023-09-08T04:25:20.451828Z\",\"response\":\",\",\"done\":false}{\"model\":\"llama2\",\"created_at\":\"2023-09-08T04:25:20.4701Z\",\"response\":\" including\",\"done\":false}{\"model\":\"llama2\",\"created_at\":\"2023-09-08T04:25:20.4882Z\",\"response\":\" \\\"\",\"done\":false}{\"model\":\"llama2\",\"created_at\":\"2023-09-08T04:25:20.506164Z\",\"response\":\"How\",\"done\":false}{\"model\":\"llama2\",\"created_at\":\"2023-09-08T04:25:20.524004Z\",\"response\":\" to\",\"done\":false}{\"model\":\"llama2\",\"created_at\":\"2023-09-08T04:25:20.542033Z\",\"response\":\" Start\",\"done\":false}{\"model\":\"llama2\",\"created_at\":\"2023-09-08T04:25:20.560099Z\",\"response\":\" a\",\"done\":false}{\"model\":\"llama2\",\"created_at\":\"2023-09-08T04:25:20.57814Z\",\"response\":\" Start\",\"done\":false}{\"model\":\"llama2\",\"created_at\":\"2023-09-08T04:25:20.596434Z\",\"response\":\"up\",\"done\":false}{\"model\":\"llama2\",\"created_at\":\"2023-09-08T04:25:20.614001Z\",\"response\":\"\\\"\",\"done\":false}{\"model\":\"llama2\",\"created_at\":\"2023-09-08T04:25:20.63223Z\",\"response\":\" and\",\"done\":false}{\"model\":\"llama2\",\"created_at\":\"2023-09-08T04:25:20.650338Z\",\"response\":\" \\\"\",\"done\":false}{\"model\":\"llama2\",\"created_at\":\"2023-09-08T04:25:20.668447Z\",\"response\":\"M\",\"done\":false}{\"model\":\"llama2\",\"created_at\":\"2023-09-08T04:25:20.68651Z\",\"response\":\"aker\",\"done\":false}{\"model\":\"llama2\",\"created_at\":\"2023-09-08T04:25:20.704506Z\",\"response\":\"'\",\"done\":false}{\"model\":\"llama2\",\"created_at\":\"2023-09-08T04:25:20.722935Z\",\"response\":\"s\",\"done\":false}{\"model\":\"llama2\",\"created_at\":\"2023-09-08T04:25:20.741066Z\",\"response\":\" Sch\",\"done\":false}{\"model\":\"llama2\",\"created_at\":\"2023-09-08T04:25:20.759111Z\",\"response\":\"edule\",\"done\":false}{\"model\":\"llama2\",\"created_at\":\"2023-09-08T04:25:20.777153Z\",\"response\":\",\",\"done\":false}{\"model\":\"llama2\",\"created_at\":\"2023-09-08T04:25:20.795107Z\",\"response\":\" Manager\",\"done\":false}{\"model\":\"llama2\",\"created_at\":\"2023-09-08T04:25:20.813461Z\",\"response\":\"'\",\"done\":false}{\"model\":\"llama2\",\"created_at\":\"2023-09-08T04:25:20.831623Z\",\"response\":\"s\",\"done\":false}{\"model\":\"llama2\",\"created_at\":\"2023-09-08T04:25:20.849757Z\",\"response\":\" Sch\",\"done\":false}{\"model\":\"llama2\",\"created_at\":\"2023-09-08T04:25:20.867893Z\",\"response\":\"edule\",\"done\":false}{\"model\":\"llama2\",\"created_at\":\"2023-09-08T04:25:20.886124Z\",\"response\":\".\\\"\",\"done\":false}{\"model\":\"llama2\",\"created_at\":\"2023-09-08T04:25:20.904617Z\",\"response\":\"\\n\",\"done\":false}{\"model\":\"llama2\",\"created_at\":\"2023-09-08T04:25:20.922896Z\",\"response\":\"\\n\",\"done\":false}{\"model\":\"llama2\",\"created_at\":\"2023-09-08T04:25:20.940969Z\",\"response\":\"G\",\"done\":false}{\"model\":\"llama2\",\"created_at\":\"2023-09-08T04:25:20.959094Z\",\"response\":\"raham\",\"done\":false}{\"model\":\"llama2\",\"created_at\":\"2023-09-08T04:25:20.977337Z\",\"response\":\" has\",\"done\":false}{\"model\":\"llama2\",\"created_at\":\"2023-09-08T04:25:20.995525Z\",\"response\":\" a\",\"done\":false}{\"model\":\"llama2\",\"created_at\":\"2023-09-08T04:25:21.013672Z\",\"response\":\" Ph\",\"done\":false}{\"model\":\"llama2\",\"created_at\":\"2023-09-08T04:25:21.03227Z\",\"response\":\"D\",\"done\":false}{\"model\":\"llama2\",\"created_at\":\"2023-09-08T04:25:21.050293Z\",\"response\":\" in\",\"done\":false}{\"model\":\"llama2\",\"created_at\":\"2023-09-08T04:25:21.069026Z\",\"response\":\" computer\",\"done\":false}{\"model\":\"llama2\",\"created_at\":\"2023-09-08T04:25:21.087369Z\",\"response\":\" science\",\"done\":false}{\"model\":\"llama2\",\"created_at\":\"2023-09-08T04:25:21.10495Z\",\"response\":\" from\",\"done\":false}{\"model\":\"llama2\",\"created_at\":\"2023-09-08T04:25:21.12322Z\",\"response\":\" Harvard\",\"done\":false}{\"model\":\"llama2\",\"created_at\":\"2023-09-08T04:25:21.141465Z\",\"response\":\" University\",\"done\":false}{\"model\":\"llama2\",\"created_at\":\"2023-09-08T04:25:21.159688Z\",\"response\":\" and\",\"done\":false}{\"model\":\"llama2\",\"created_at\":\"2023-09-08T04:25:21.177882Z\",\"response\":\" has\",\"done\":false}{\"model\":\"llama2\",\"created_at\":\"2023-09-08T04:25:21.19612Z\",\"response\":\" worked\",\"done\":false}{\"model\":\"llama2\",\"created_at\":\"2023-09-08T04:25:21.21433Z\",\"response\":\" as\",\"done\":false}{\"model\":\"llama2\",\"created_at\":\"2023-09-08T04:25:21.232635Z\",\"response\":\" a\",\"done\":false}{\"model\":\"llama2\",\"created_at\":\"2023-09-08T04:25:21.251194Z\",\"response\":\" programmer\",\"done\":false}{\"model\":\"llama2\",\"created_at\":\"2023-09-08T04:25:21.269359Z\",\"response\":\" at\",\"done\":false}{\"model\":\"llama2\",\"created_at\":\"2023-09-08T04:25:21.288299Z\",\"response\":\" various\",\"done\":false}{\"model\":\"llama2\",\"created_at\":\"2023-09-08T04:25:21.306807Z\",\"response\":\" companies\",\"done\":false}{\"model\":\"llama2\",\"created_at\":\"2023-09-08T04:25:21.325076Z\",\"response\":\",\",\"done\":false}{\"model\":\"llama2\",\"created_at\":\"2023-09-08T04:25:21.343294Z\",\"response\":\" including\",\"done\":false}{\"model\":\"llama2\",\"created_at\":\"2023-09-08T04:25:21.361483Z\",\"response\":\" Via\",\"done\":false}{\"model\":\"llama2\",\"created_at\":\"2023-09-08T04:25:21.379725Z\",\"response\":\"web\",\"done\":false}{\"model\":\"llama2\",\"created_at\":\"2023-09-08T04:25:21.398381Z\",\"response\":\" (\",\"done\":false}{\"model\":\"llama2\",\"created_at\":\"2023-09-08T04:25:21.416677Z\",\"response\":\"ac\",\"done\":false}{\"model\":\"llama2\",\"created_at\":\"2023-09-08T04:25:21.435132Z\",\"response\":\"quired\",\"done\":false}{\"model\":\"llama2\",\"created_at\":\"2023-09-08T04:25:21.453826Z\",\"response\":\" by\",\"done\":false}{\"model\":\"llama2\",\"created_at\":\"2023-09-08T04:25:21.472197Z\",\"response\":\" Y\",\"done\":false}{\"model\":\"llama2\",\"created_at\":\"2023-09-08T04:25:21.49045Z\",\"response\":\"ahoo\",\"done\":false}{\"model\":\"llama2\",\"created_at\":\"2023-09-08T04:25:21.508863Z\",\"response\":\"!)\",\"done\":false}{\"model\":\"llama2\",\"created_at\":\"2023-09-08T04:25:21.527221Z\",\"response\":\" and\",\"done\":false}{\"model\":\"llama2\",\"created_at\":\"2023-09-08T04:25:21.545557Z\",\"response\":\" Google\",\"done\":false}{\"model\":\"llama2\",\"created_at\":\"2023-09-08T04:25:21.563784Z\",\"response\":\".\",\"done\":false}{\"model\":\"llama2\",\"created_at\":\"2023-09-08T04:25:21.582492Z\",\"response\":\" He\",\"done\":false}{\"model\":\"llama2\",\"created_at\":\"2023-09-08T04:25:21.600909Z\",\"response\":\" is\",\"done\":false}{\"model\":\"llama2\",\"created_at\":\"2023-09-08T04:25:21.619309Z\",\"response\":\" also\",\"done\":false}{\"model\":\"llama2\",\"created_at\":\"2023-09-08T04:25:21.637712Z\",\"response\":\" the\",\"done\":false}{\"model\":\"llama2\",\"created_at\":\"2023-09-08T04:25:21.655771Z\",\"response\":\" founder\",\"done\":false}{\"model\":\"llama2\",\"created_at\":\"2023-09-08T04:25:21.674174Z\",\"response\":\" of\",\"done\":false}{\"model\":\"llama2\",\"created_at\":\"2023-09-08T04:25:21.692551Z\",\"response\":\" several\",\"done\":false}{\"model\":\"llama2\",\"created_at\":\"2023-09-08T04:25:21.710833Z\",\"response\":\" other\",\"done\":false}{\"model\":\"llama2\",\"created_at\":\"2023-09-08T04:25:21.729139Z\",\"response\":\" start\",\"done\":false}{\"model\":\"llama2\",\"created_at\":\"2023-09-08T04:25:21.747372Z\",\"response\":\"ups\",\"done\":false}{\"model\":\"llama2\",\"created_at\":\"2023-09-08T04:25:21.765714Z\",\"response\":\",\",\"done\":false}{\"model\":\"llama2\",\"created_at\":\"2023-09-08T04:25:21.784312Z\",\"response\":\" including\",\"done\":false}{\"model\":\"llama2\",\"created_at\":\"2023-09-08T04:25:21.802806Z\",\"response\":\" Via\",\"done\":false}{\"model\":\"llama2\",\"created_at\":\"2023-09-08T04:25:21.82131Z\",\"response\":\"web\",\"done\":false}{\"model\":\"llama2\",\"created_at\":\"2023-09-08T04:25:21.839747Z\",\"response\":\" and\",\"done\":false}{\"model\":\"llama2\",\"created_at\":\"2023-09-08T04:25:21.858319Z\",\"response\":\" H\",\"done\":false}{\"model\":\"llama2\",\"created_at\":\"2023-09-08T04:25:21.87709Z\",\"response\":\"acker\",\"done\":false}{\"model\":\"llama2\",\"created_at\":\"2023-09-08T04:25:21.895559Z\",\"response\":\" News\",\"done\":false}{\"model\":\"llama2\",\"created_at\":\"2023-09-08T04:25:21.913455Z\",\"response\":\".\",\"done\":false}{\"model\":\"llama2\",\"created_at\":\"2023-09-08T04:25:21.931421Z\",\"response\":\"\\n\",\"done\":false}{\"model\":\"llama2\",\"created_at\":\"2023-09-08T04:25:21.950199Z\",\"response\":\"\\n\",\"done\":false}{\"model\":\"llama2\",\"created_at\":\"2023-09-08T04:25:21.96875Z\",\"response\":\"In\",\"done\":false}{\"model\":\"llama2\",\"created_at\":\"2023-09-08T04:25:21.987375Z\",\"response\":\" addition\",\"done\":false}{\"model\":\"llama2\",\"created_at\":\"2023-09-08T04:25:22.005297Z\",\"response\":\" to\",\"done\":false}{\"model\":\"llama2\",\"created_at\":\"2023-09-08T04:25:22.023677Z\",\"response\":\" his\",\"done\":false}{\"model\":\"llama2\",\"created_at\":\"2023-09-08T04:25:22.042182Z\",\"response\":\" work\",\"done\":false}{\"model\":\"llama2\",\"created_at\":\"2023-09-08T04:25:22.060985Z\",\"response\":\" in\",\"done\":false}{\"model\":\"llama2\",\"created_at\":\"2023-09-08T04:25:22.079797Z\",\"response\":\" the\",\"done\":false}{\"model\":\"llama2\",\"created_at\":\"2023-09-08T04:25:22.098001Z\",\"response\":\" te\",\"done\":false}{\"model\":\"llama2\",\"created_at\":\"2023-09-08T04:25:22.116106Z\",\"response\":\"ch\",\"done\":false}{\"model\":\"llama2\",\"created_at\":\"2023-09-08T04:25:22.134298Z\",\"response\":\" industry\",\"done\":false}{\"model\":\"llama2\",\"created_at\":\"2023-09-08T04:25:22.152464Z\",\"response\":\",\",\"done\":false}{\"model\":\"llama2\",\"created_at\":\"2023-09-08T04:25:22.170716Z\",\"response\":\" Graham\",\"done\":false}{\"model\":\"llama2\",\"created_at\":\"2023-09-08T04:25:22.189208Z\",\"response\":\" is\",\"done\":false}{\"model\":\"llama2\",\"created_at\":\"2023-09-08T04:25:22.208064Z\",\"response\":\" also\",\"done\":false}{\"model\":\"llama2\",\"created_at\":\"2023-09-08T04:25:22.226728Z\",\"response\":\" known\",\"done\":false}{\"model\":\"llama2\",\"created_at\":\"2023-09-08T04:25:22.245464Z\",\"response\":\" for\",\"done\":false}{\"model\":\"llama2\",\"created_at\":\"2023-09-08T04:25:22.264129Z\",\"response\":\" his\",\"done\":false}{\"model\":\"llama2\",\"created_at\":\"2023-09-08T04:25:22.283048Z\",\"response\":\" unique\",\"done\":false}{\"model\":\"llama2\",\"created_at\":\"2023-09-08T04:25:22.301686Z\",\"response\":\" writing\",\"done\":false}{\"model\":\"llama2\",\"created_at\":\"2023-09-08T04:25:22.320257Z\",\"response\":\" style\",\"done\":false}{\"model\":\"llama2\",\"created_at\":\"2023-09-08T04:25:22.339208Z\",\"response\":\",\",\"done\":false}{\"model\":\"llama2\",\"created_at\":\"2023-09-08T04:25:22.357884Z\",\"response\":\" which\",\"done\":false}{\"model\":\"llama2\",\"created_at\":\"2023-09-08T04:25:22.376762Z\",\"response\":\" bl\",\"done\":false}{\"model\":\"llama2\",\"created_at\":\"2023-09-08T04:25:22.395401Z\",\"response\":\"ends\",\"done\":false}{\"model\":\"llama2\",\"created_at\":\"2023-09-08T04:25:22.413917Z\",\"response\":\" philosophy\",\"done\":false}{\"model\":\"llama2\",\"created_at\":\"2023-09-08T04:25:22.432564Z\",\"response\":\",\",\"done\":false}{\"model\":\"llama2\",\"created_at\":\"2023-09-08T04:25:22.45109Z\",\"response\":\" humor\",\"done\":false}{\"model\":\"llama2\",\"created_at\":\"2023-09-08T04:25:22.470234Z\",\"response\":\",\",\"done\":false}{\"model\":\"llama2\",\"created_at\":\"2023-09-08T04:25:22.489528Z\",\"response\":\" and\",\"done\":false}{\"model\":\"llama2\",\"created_at\":\"2023-09-08T04:25:22.508123Z\",\"response\":\" practical\",\"done\":false}{\"model\":\"llama2\",\"created_at\":\"2023-09-08T04:25:22.526973Z\",\"response\":\" advice\",\"done\":false}{\"model\":\"llama2\",\"created_at\":\"2023-09-08T04:25:22.545687Z\",\"response\":\".\",\"done\":false}{\"model\":\"llama2\",\"created_at\":\"2023-09-08T04:25:22.56437Z\",\"response\":\" His\",\"done\":false}{\"model\":\"llama2\",\"created_at\":\"2023-09-08T04:25:22.583028Z\",\"response\":\" ess\",\"done\":false}{\"model\":\"llama2\",\"created_at\":\"2023-09-08T04:25:22.601796Z\",\"response\":\"ays\",\"done\":false}{\"model\":\"llama2\",\"created_at\":\"2023-09-08T04:25:22.620573Z\",\"response\":\" have\",\"done\":false}{\"model\":\"llama2\",\"created_at\":\"2023-09-08T04:25:22.639016Z\",\"response\":\" been\",\"done\":false}{\"model\":\"llama2\",\"created_at\":\"2023-09-08T04:25:22.657562Z\",\"response\":\" widely\",\"done\":false}{\"model\":\"llama2\",\"created_at\":\"2023-09-08T04:25:22.676441Z\",\"response\":\" read\",\"done\":false}{\"model\":\"llama2\",\"created_at\":\"2023-09-08T04:25:22.695344Z\",\"response\":\" and\",\"done\":false}{\"model\":\"llama2\",\"created_at\":\"2023-09-08T04:25:22.714214Z\",\"response\":\" shared\",\"done\":false}{\"model\":\"llama2\",\"created_at\":\"2023-09-08T04:25:22.732963Z\",\"response\":\" within\",\"done\":false}{\"model\":\"llama2\",\"created_at\":\"2023-09-08T04:25:22.7516Z\",\"response\":\" the\",\"done\":false}{\"model\":\"llama2\",\"created_at\":\"2023-09-08T04:25:22.770243Z\",\"response\":\" startup\",\"done\":false}{\"model\":\"llama2\",\"created_at\":\"2023-09-08T04:25:22.789089Z\",\"response\":\" community\",\"done\":false}{\"model\":\"llama2\",\"created_at\":\"2023-09-08T04:25:22.807741Z\",\"response\":\" and\",\"done\":false}{\"model\":\"llama2\",\"created_at\":\"2023-09-08T04:25:22.826444Z\",\"response\":\" beyond\",\"done\":false}{\"model\":\"llama2\",\"created_at\":\"2023-09-08T04:25:22.845218Z\",\"response\":\".\",\"done\":false}{\"model\":\"llama2\",\"created_at\":\"2023-09-08T04:25:22.864797Z\",\"done\":true,\"context\":[29961,25580,29962,11644,338,3739,22196,29973,518,29914,25580,29962,29871,3739,22196,338,263,1532,29899,5203,23440,1600,332,29892,27922,29892,322,9227,1058,756,1754,7282,20706,304,278,4235,310,6601,10466,29892,1369,14340,29892,322,9712,545,7483,29889,31779,13,13,29954,22084,338,1900,2998,408,278,1302,29899,11940,261,310,612,422,2109,1061,29892,263,5972,20234,15592,1061,393,756,5220,287,9150,14582,763,5593,29890,9877,29892,20724,1884,29892,322,4367,27423,29889,940,756,884,3971,3196,7112,2556,3686,1036,373,23440,1600,332,3527,29892,8720,29892,322,278,734,305,13661,29892,3704,376,5328,304,7370,263,7370,786,29908,322,376,29924,5790,29915,29879,1102,11272,29892,15629,29915,29879,1102,11272,1213,13,13,29954,22084,756,263,1963,29928,297,6601,10466,515,22221,3014,322,756,3796,408,263,27922,472,5164,14582,29892,3704,23306,2676,313,562,5958,491,612,26779,14366,322,5087,29889,940,338,884,278,25331,310,3196,916,1369,14340,29892,3704,23306,2676,322,379,28940,10130,29889,13,13,797,6124,304,670,664,297,278,734,305,13661,29892,22196,338,884,2998,363,670,5412,5007,3114,29892,607,1999,1975,22237,29892,27448,29892,322,15031,9848,29889,3600,3686,1036,505,1063,17644,1303,322,7258,2629,278,20234,7881,322,8724,29889],\"total_duration\":4347308417,\"load_duration\":822000,\"prompt_eval_count\":1,\"eval_count\":232,\"eval_duration\":4171077000}"
     ]
    }
   ],
   "source": [
    "for r in response:\n",
    "    print(r.delta, end=\"\")"
   ]
  },
  {
   "attachments": {},
   "cell_type": "markdown",
   "id": "ca52051d-6b28-49d7-98f5-82e266a1c7a6",
   "metadata": {},
   "source": [
    "Using `stream_chat` endpoint"
   ]
  },
  {
   "cell_type": "code",
   "execution_count": null,
   "id": "fe553190-52a9-436d-84ae-4dd99a1808f4",
   "metadata": {
    "tags": []
   },
   "outputs": [],
   "source": [
    "from llama_index.llms import ChatMessage\n",
    "\n",
    "messages = [\n",
    "    ChatMessage(role=\"system\", content=\"You are a pirate with a colorful personality\"),\n",
    "    ChatMessage(role=\"user\", content=\"What is your name\"),\n",
    "]\n",
    "resp = llm.stream_chat(messages)"
   ]
  },
  {
   "cell_type": "code",
   "execution_count": null,
   "id": "154c503c-f893-4b6b-8a65-a9a27b636046",
   "metadata": {
    "tags": []
   },
   "outputs": [],
   "source": [
    "for r in resp:\n",
    "    print(r.delta, end=\"\")"
   ]
  },
  {
   "attachments": {},
   "cell_type": "markdown",
   "id": "f317bf00-6296-4f20-9baf-321880753952",
   "metadata": {
    "tags": []
   },
   "source": [
    "## Configure Model"
   ]
  },
  {
   "cell_type": "code",
   "execution_count": null,
   "id": "0fec5774-3139-4258-869d-fb5b6f20ba73",
   "metadata": {
    "tags": []
   },
   "outputs": [],
   "source": [
    "from llama_index.llms import Replicate\n",
    "\n",
    "llm = Replicate(\n",
    "    model=\"a16z-infra/llama13b-v2-chat:df7690f1994d94e96ad9d568eac121aecf50684a0b0963b25a41cc40061269e5\",\n",
    "    temperature=0.9,\n",
    "    context_window=32,\n",
    ")"
   ]
  },
  {
   "cell_type": "code",
   "execution_count": null,
   "id": "92f24aae-ee9f-48ca-925b-949f9e72348f",
   "metadata": {
    "tags": []
   },
   "outputs": [],
   "source": [
    "resp = llm.complete(\"Who is Paul Graham?\")"
   ]
  },
  {
   "cell_type": "code",
   "execution_count": null,
   "id": "d89ee032-ffc4-45bc-b0f4-4dde8c97462b",
   "metadata": {
    "tags": []
   },
   "outputs": [],
   "source": [
    "print(resp)"
   ]
  }
 ],
 "metadata": {
  "kernelspec": {
   "display_name": "Python 3 (ipykernel)",
   "language": "python",
   "name": "python3"
  },
  "language_info": {
   "codemirror_mode": {
    "name": "ipython",
    "version": 3
   },
   "file_extension": ".py",
   "mimetype": "text/x-python",
   "name": "python",
   "nbconvert_exporter": "python",
   "pygments_lexer": "ipython3",
   "version": "3.9.16"
  }
 },
 "nbformat": 4,
 "nbformat_minor": 5
}
