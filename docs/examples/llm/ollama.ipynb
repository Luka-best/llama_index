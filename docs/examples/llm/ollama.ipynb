{
 "cells": [
  {
   "attachments": {},
   "cell_type": "markdown",
   "id": "2e33dced-e587-4397-81b3-d6606aa1738a",
   "metadata": {},
   "source": [
    "# Ollama - Llama 2 7B"
   ]
  },
  {
   "attachments": {},
   "cell_type": "markdown",
   "id": "5863dde9-84a0-4c33-ad52-cc767442f63f",
   "metadata": {},
   "source": [
    "## Setup"
   ]
  },
  {
   "cell_type": "code",
   "execution_count": 1,
   "id": "ad297f19-998f-4485-aa2f-d67020058b7d",
   "metadata": {
    "tags": [],
    "ExecuteTime": {
     "end_time": "2023-09-11T21:58:52.350828Z",
     "start_time": "2023-09-11T21:58:50.787051Z"
    }
   },
   "outputs": [],
   "source": [
    "from llama_index.llms.ollama import Ollama"
   ]
  },
  {
   "cell_type": "code",
   "execution_count": 2,
   "id": "152ced37-9a42-47be-9a39-4218521f5e72",
   "metadata": {
    "tags": [],
    "ExecuteTime": {
     "end_time": "2023-09-11T21:58:52.429348Z",
     "start_time": "2023-09-11T21:58:52.351656Z"
    }
   },
   "outputs": [
    {
     "ename": "TypeError",
     "evalue": "Can't instantiate abstract class Ollama with abstract method complete",
     "output_type": "error",
     "traceback": [
      "\u001B[0;31m---------------------------------------------------------------------------\u001B[0m",
      "\u001B[0;31mTypeError\u001B[0m                                 Traceback (most recent call last)",
      "Cell \u001B[0;32mIn[2], line 1\u001B[0m\n\u001B[0;32m----> 1\u001B[0m llm \u001B[38;5;241m=\u001B[39m \u001B[43mOllama\u001B[49m\u001B[43m(\u001B[49m\u001B[43mmodel\u001B[49m\u001B[38;5;241;43m=\u001B[39;49m\u001B[38;5;124;43m\"\u001B[39;49m\u001B[38;5;124;43mllama2\u001B[39;49m\u001B[38;5;124;43m\"\u001B[39;49m\u001B[43m)\u001B[49m\n",
      "\u001B[0;31mTypeError\u001B[0m: Can't instantiate abstract class Ollama with abstract method complete"
     ]
    }
   ],
   "source": [
    "llm = Ollama(model=\"llama2\")"
   ]
  },
  {
   "cell_type": "code",
   "execution_count": 12,
   "id": "d61b10bb-e911-47fb-8e84-19828cf224be",
   "metadata": {
    "tags": [],
    "ExecuteTime": {
     "end_time": "2023-09-11T21:56:11.559765Z",
     "start_time": "2023-09-11T21:55:58.606532Z"
    }
   },
   "outputs": [],
   "source": [
    "resp = llm.complete(\"Who is Paul Graham?\")"
   ]
  },
  {
   "cell_type": "code",
   "execution_count": 13,
   "id": "3bd14f4e-c245-4384-a471-97e4ddfcb40e",
   "metadata": {
    "tags": [],
    "ExecuteTime": {
     "end_time": "2023-09-11T21:56:11.564307Z",
     "start_time": "2023-09-11T21:56:11.560836Z"
    }
   },
   "outputs": [
    {
     "name": "stdout",
     "output_type": "stream",
     "text": [
      " Paul Graham is a well-known entrepreneur, investor, and writer who has had a significant impact on the startup world. obviously, here are some key points about paul graham:\n",
      "\n",
      "1. Founder of Y Combinator: Paul Graham is best known for co-founding Y Combinator, one of the most successful startup accelerators in the world. Founded in 2005, Y Combinator has funded and mentored numerous successful startups, including Airbnb, Dropbox, Reddit, and Instacart.\n",
      "2. Investor: Graham is also a prolific investor, having invested in over 1,000 companies through his venture capital firm, Y Combinator Capital. He has invested in successful startups such as Twitch, Stripe, and DoorDash.\n",
      "3. Writer: Graham is also a published writer and has written several influential essays on startups, entrepreneurship, and innovation. His essay \"How to Start a Startup\" is widely regarded as a foundational text in the startup world.\n",
      "4. Educator: In addition to his work at Y Combinator, Graham has taught computer science at several universities, including Harvard University and Stanford University. He is also known for his lectures on startups and entrepreneurship, which have been widely shared online.\n",
      "5. Speaker: Graham is a popular speaker on the startup circuit and has given talks at numerous conferences and events, including TED and the World Economic Forum. His talks often focus on the future of technology and the challenges and opportunities facing startups.\n",
      "6. Personal Beliefs: Graham has a strong personal belief in the power of entrepreneurship to drive positive change in society. He has written extensively about the role of startups in solving complex problems and improving people's lives.\n",
      "7. Influence: Graham's ideas and opinions have had a significant influence on the startup world, with many entrepreneurs and investors citing him as an inspiration or mentor. His work at Y Combinator has also helped to launch and grow numerous successful startups.\n",
      "8. Awards and Recognition: Graham has received several awards and honors for his work in the startup world, including being named one of the 100 most influential people in the world by Time magazine.\n",
      "9. Books: Graham has written several books on entrepreneurship and startups, including \"How to Start a Startup\" and \"Maker's Schema.\" His writing often focuses on the importance of taking risks, experimentation, and learning from failure.\n",
      "10. Controversial Views: Graham has expressed controversial views on several topics, including his belief that startups should focus on solving complex problems rather than simply creating new products or services. He has also been critical of traditional venture capital models and the role of government in supporting entrepreneurship.\n"
     ]
    }
   ],
   "source": [
    "print(resp)"
   ]
  },
  {
   "attachments": {},
   "cell_type": "markdown",
   "id": "3ba9503c-b440-43c6-a50c-676c79993813",
   "metadata": {
    "tags": []
   },
   "source": [
    "#### Call `chat` with a list of messages"
   ]
  },
  {
   "cell_type": "code",
   "execution_count": 14,
   "id": "ee8a4a55-5680-4dc6-a44c-fc8ad7892f80",
   "metadata": {
    "tags": [],
    "ExecuteTime": {
     "end_time": "2023-09-11T21:56:21.572248Z",
     "start_time": "2023-09-11T21:56:20.111080Z"
    }
   },
   "outputs": [],
   "source": [
    "from llama_index.llms import ChatMessage\n",
    "\n",
    "messages = [\n",
    "    ChatMessage(role=\"system\", content=\"You are a pirate with a colorful personality\"),\n",
    "    ChatMessage(role=\"user\", content=\"What is your name\"),\n",
    "]\n",
    "resp = llm.chat(messages)"
   ]
  },
  {
   "cell_type": "code",
   "execution_count": 15,
   "id": "2a9bfe53-d15b-4e75-9d91-8c5d024f4eda",
   "metadata": {
    "tags": [],
    "ExecuteTime": {
     "end_time": "2023-09-11T21:56:21.577634Z",
     "start_time": "2023-09-11T21:56:21.574285Z"
    }
   },
   "outputs": [
    {
     "name": "stdout",
     "output_type": "stream",
     "text": [
      "assistant:  ARRGH! *adjusts eye patch* Me matey? Me name be Captain Blackbeak! *winks* And don't ye forget it, or ye might find yerself walkin' the plank! *grins* What can I help ye with, me hearty?\n"
     ]
    }
   ],
   "source": [
    "print(resp)"
   ]
  },
  {
   "attachments": {},
   "cell_type": "markdown",
   "id": "25ad1b00-28fc-4bcd-96c4-d5b35605721a",
   "metadata": {},
   "source": [
    "### Streaming"
   ]
  },
  {
   "attachments": {},
   "cell_type": "markdown",
   "id": "13c641fa-345a-4dce-87c5-ab1f6dcf4757",
   "metadata": {},
   "source": [
    "Using `stream_complete` endpoint "
   ]
  },
  {
   "cell_type": "code",
   "execution_count": 16,
   "id": "06da1ef1-2f6b-497c-847b-62dd2df11491",
   "metadata": {
    "tags": [],
    "ExecuteTime": {
     "end_time": "2023-09-11T21:56:30.195230Z",
     "start_time": "2023-09-11T21:56:29.952291Z"
    }
   },
   "outputs": [],
   "source": [
    "response = llm.stream_complete(\"Who is Paul Graham?\")"
   ]
  },
  {
   "cell_type": "code",
   "execution_count": 17,
   "id": "1b851def-5160-46e5-a30c-5a3ef2356b79",
   "metadata": {
    "tags": [],
    "ExecuteTime": {
     "end_time": "2023-09-11T21:56:35.570693Z",
     "start_time": "2023-09-11T21:56:30.196025Z"
    }
   },
   "outputs": [
    {
     "name": "stdout",
     "output_type": "stream",
     "text": [
      " Paul Graham is a well-known entrepreneur, investor, and writer who has had a significant impact on the startup world. Unterscheidung] \n",
      "\n",
      "Graham is best known for his work as a co-founder of the venture capital firm Y Combinator, which he founded in 2005 with Jessica Livingston and Trevor McDonald. Y Combinator has invested in many successful startups, including Airbnb, Dropbox, and Reddit, among others.\n",
      "\n",
      "Graham is also a prolific writer and has written several books on startups, entrepreneurship, and innovation. His most popular book is \"How to Start a Startup,\" which provides guidance on how to launch and grow a successful startup. He has also written extensively on the topics of programming, innovation, and the future of technology.\n",
      "\n",
      "In addition to his work in venture capital and writing, Graham is known for his strong opinions on the intersection of technology, entrepreneurship, and society. He has spoken publicly about issues such as the importance of failure in the startup process, the role of government in promoting innovation, and the potential impact of artificial intelligence on society.\n",
      "\n",
      "Overall, Paul Graham is a prominent figure in the startup world and is widely respected for his insights and guidance on entrepreneurship and innovation."
     ]
    }
   ],
   "source": [
    "for r in response:\n",
    "    print(r.delta, end=\"\")"
   ]
  },
  {
   "attachments": {},
   "cell_type": "markdown",
   "id": "ca52051d-6b28-49d7-98f5-82e266a1c7a6",
   "metadata": {},
   "source": [
    "Using `stream_chat` endpoint"
   ]
  },
  {
   "cell_type": "code",
   "execution_count": 18,
   "id": "fe553190-52a9-436d-84ae-4dd99a1808f4",
   "metadata": {
    "tags": [],
    "ExecuteTime": {
     "end_time": "2023-09-11T21:56:40.510989Z",
     "start_time": "2023-09-11T21:56:40.239609Z"
    }
   },
   "outputs": [],
   "source": [
    "from llama_index.llms import ChatMessage\n",
    "\n",
    "messages = [\n",
    "    ChatMessage(role=\"system\", content=\"You are a pirate with a colorful personality\"),\n",
    "    ChatMessage(role=\"user\", content=\"What is your name\"),\n",
    "]\n",
    "resp = llm.stream_chat(messages)"
   ]
  },
  {
   "cell_type": "code",
   "execution_count": 19,
   "id": "154c503c-f893-4b6b-8a65-a9a27b636046",
   "metadata": {
    "tags": [],
    "ExecuteTime": {
     "end_time": "2023-09-11T21:56:42.330599Z",
     "start_time": "2023-09-11T21:56:40.511539Z"
    }
   },
   "outputs": [
    {
     "name": "stdout",
     "output_type": "stream",
     "text": [
      " Ahoy there, matey! Me name be Captain Blackbeak, the most feared and respected pirate on the high seas! *adjusts eye patch* Yer lookin' for a swashbucklin' adventure, eh? Well, hoist the sails and batten down the hatches, because we be sailin' fer treasure! *winks* What be bringin' ye to these waters, matey?"
     ]
    }
   ],
   "source": [
    "for r in resp:\n",
    "    print(r.delta, end=\"\")"
   ]
  }
 ],
 "metadata": {
  "kernelspec": {
   "display_name": "Python 3 (ipykernel)",
   "language": "python",
   "name": "python3"
  },
  "language_info": {
   "codemirror_mode": {
    "name": "ipython",
    "version": 3
   },
   "file_extension": ".py",
   "mimetype": "text/x-python",
   "name": "python",
   "nbconvert_exporter": "python",
   "pygments_lexer": "ipython3",
   "version": "3.9.16"
  }
 },
 "nbformat": 4,
 "nbformat_minor": 5
}
