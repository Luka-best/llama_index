{
 "cells": [
  {
   "cell_type": "markdown",
   "id": "a577777f-a994-493b-bf39-4d19f4fdc5f8",
   "metadata": {},
   "source": [
    "# Install Vllm  \n",
    "`pip install vllm` <br>\n",
    "or if you want to compile you can compile from <br>\n",
    "https://docs.vllm.ai/en/latest/getting_started/installation.html"
   ]
  },
  {
   "cell_type": "markdown",
   "id": "00d46316-8399-4731-8e97-5d8c8c436d99",
   "metadata": {},
   "source": [
    "# Completion Example"
   ]
  },
  {
   "cell_type": "code",
   "execution_count": null,
   "id": "3f92b41e-cec4-4769-af4d-3c9591d3d3a2",
   "metadata": {},
   "outputs": [],
   "source": [
    "import os\n",
    "\n",
    "os.environ[\"HF_HOME\"] = \"model/\""
   ]
  },
  {
   "cell_type": "code",
   "execution_count": null,
   "id": "319f3365-20fa-401a-af8e-882031739816",
   "metadata": {},
   "outputs": [],
   "source": [
    "from llama_index.llms.vllm import Vllm"
   ]
  },
  {
   "cell_type": "code",
   "execution_count": null,
   "id": "ebf60fa2-10bc-4bbe-8b9d-f1d94fac9a4b",
   "metadata": {},
   "outputs": [
    {
     "data": {
      "application/vnd.jupyter.widget-view+json": {
       "model_id": "688299d8a6ba48d88285e3a83f434af4",
       "version_major": 2,
       "version_minor": 0
      },
      "text/plain": [
       "Downloading config.json:   0%|          | 0.00/651 [00:00<?, ?B/s]"
      ]
     },
     "metadata": {},
     "output_type": "display_data"
    },
    {
     "name": "stdout",
     "output_type": "stream",
     "text": [
      "INFO 12-02 04:25:42 llm_engine.py:72] Initializing an LLM engine with config: model='facebook/opt-125m', tokenizer='facebook/opt-125m', tokenizer_mode=auto, revision=None, trust_remote_code=True, dtype=torch.float16, max_seq_len=2048, download_dir=None, load_format=auto, tensor_parallel_size=1, quantization=None, seed=0)\n"
     ]
    },
    {
     "data": {
      "application/vnd.jupyter.widget-view+json": {
       "model_id": "e942f1ed0192463c8bbfeb41784f6590",
       "version_major": 2,
       "version_minor": 0
      },
      "text/plain": [
       "Downloading tokenizer_config.json:   0%|          | 0.00/685 [00:00<?, ?B/s]"
      ]
     },
     "metadata": {},
     "output_type": "display_data"
    },
    {
     "data": {
      "application/vnd.jupyter.widget-view+json": {
       "model_id": "ec5f91fd13f64521bb6fe347d7c8ee1d",
       "version_major": 2,
       "version_minor": 0
      },
      "text/plain": [
       "Downloading vocab.json:   0%|          | 0.00/899k [00:00<?, ?B/s]"
      ]
     },
     "metadata": {},
     "output_type": "display_data"
    },
    {
     "data": {
      "application/vnd.jupyter.widget-view+json": {
       "model_id": "cb95fb15cf1a40d4974d5dc48c1f9625",
       "version_major": 2,
       "version_minor": 0
      },
      "text/plain": [
       "Downloading merges.txt:   0%|          | 0.00/456k [00:00<?, ?B/s]"
      ]
     },
     "metadata": {},
     "output_type": "display_data"
    },
    {
     "data": {
      "application/vnd.jupyter.widget-view+json": {
       "model_id": "a309ac6793f645159236b827d5c2c3de",
       "version_major": 2,
       "version_minor": 0
      },
      "text/plain": [
       "Downloading (…)cial_tokens_map.json:   0%|          | 0.00/441 [00:00<?, ?B/s]"
      ]
     },
     "metadata": {},
     "output_type": "display_data"
    },
    {
     "name": "stderr",
     "output_type": "stream",
     "text": [
      "Blocksparse is not available: the current GPU does not expose Tensor cores\n"
     ]
    },
    {
     "name": "stdout",
     "output_type": "stream",
     "text": [
      "INFO 12-02 04:25:51 llm_engine.py:205] # GPU blocks: 16161, # CPU blocks: 7281\n"
     ]
    }
   ],
   "source": [
    "llm = Vllm()"
   ]
  },
  {
   "cell_type": "code",
   "execution_count": null,
   "id": "8ba42670-75b5-4080-8257-7cbb39085728",
   "metadata": {},
   "outputs": [
    {
     "name": "stderr",
     "output_type": "stream",
     "text": [
      "Processed prompts: 100%|██████████████████████████████████████████████████████████████████████████████████████████████████████████████████████████████████████████████████████| 1/1 [00:03<00:00,  3.60s/it]\n"
     ]
    },
    {
     "data": {
      "text/plain": [
       "[CompletionResponse(text='. thanks for the help! i will pay more in runes just to get on with this girl....... maybe i will finish doing swim parts. i do no pull-ups for most of this month... sorry if this is bothering you... because here i am in my room... i have no room to sleep even with my stomach full of ache...\\n\\nhi! good luck! i hope this helps you. and you\\'ll find someone that can support you on urethraunderspray. i have a personal trainer friend that I could use to stay dressed up on  cum lights while on a mania.. if you\\'d like to see some pics of my girls on it... you can use the ikea winteroutonline.com lookup. i\\'m currently on the lookout for a steady partner so i can talk to him and spread some ... messages on this comment board....\\n\\nhi. i am wondering if you plan to finish OM a banner next week? i have sent you an ad that read.... \"i need an OM banner\" and its a few days in. any indication that your banner MoBo banners will finish this one?\\n\\ntagged: 356833001\\n\\nJoined: 03/24/1997\\nPosts: 55604\\n\\nMember Quote\\n\\nHi! let me know if you are interested. from the website: http://moBo.com/nappens... it states by the 3:00 pm pm time there are active campaigns (they usually start at midnight PT - amom is yet to finish)... i will tell you here that: \"Our background client has been unavailable for furtherineutsche/nappens banner update/SMTAB banner they have commissioned. Ill message you through email with appointment so you could still module to that banner.\" We will email your email address if you are interested in our previous post at < < avrcblurb:/lersur-my Rudy/ ... > -AMYazz+ ---------------------------------\\nWe will periodically see if anything will be done to avoid this option.\\nThanks!\\n-paul\\n\\nHiya! here in australia a different super sponsor advertising is focusing on this banner. the banner\\'s banner to us is this... nature entered in: \"MOST DARK ENRAGEMENT**\" as it breaks the phrase \"unarmoured troops\" in quite boring way! but this banner is LIGHTENED!!!! something about the gentleman attitude is very beautiful:roll, which would weird me out :o)', additional_kwargs={}, raw=None, delta=None)]"
      ]
     },
     "execution_count": null,
     "metadata": {},
     "output_type": "execute_result"
    }
   ],
   "source": [
    "llm.complete([\"hello\"])"
   ]
  },
  {
   "cell_type": "markdown",
   "id": "86d78fb2-aac4-466c-a618-c9653031c1f2",
   "metadata": {},
   "source": [
    "# API Example\n",
    "To setup the api you can follow the guide present here -> https://docs.vllm.ai/en/latest/serving/distributed_serving.html"
   ]
  },
  {
   "cell_type": "markdown",
   "id": "9d02f871-56a1-4118-949a-2322177b58e5",
   "metadata": {},
   "source": [
    "## Completion Example"
   ]
  },
  {
   "cell_type": "code",
   "execution_count": null,
   "id": "51569399-1d66-43b3-a707-71220d19cd58",
   "metadata": {},
   "outputs": [],
   "source": [
    "from llama_index.llms.vllm import VllmServer"
   ]
  },
  {
   "cell_type": "code",
   "execution_count": null,
   "id": "a4fc8e4c-0207-4f23-a5e9-e0851186e9f0",
   "metadata": {},
   "outputs": [],
   "source": [
    "llm = VllmServer(\n",
    "    api_url=\"http://localhost:8000/generate\", max_new_tokens=100, temperature=0\n",
    ")"
   ]
  },
  {
   "cell_type": "code",
   "execution_count": null,
   "id": "a6b95731-0361-44fe-9219-bed582cb9cbe",
   "metadata": {},
   "outputs": [
    {
     "data": {
      "text/plain": [
       "[CompletionResponse(text='what is a black hole ?\\n\\nA black hole is a region in space where the gravitational pull is so strong that nothing, not even light, can escape from it. It is formed when a massive star collapses under its own gravity after it has exhausted its nuclear fuel. The boundary around the black hole, called the event horizon, marks the point of no return, beyond which anything that gets too close will be pulled in and cannot escape.', additional_kwargs={}, raw=None, delta=None)]"
      ]
     },
     "execution_count": null,
     "metadata": {},
     "output_type": "execute_result"
    }
   ],
   "source": [
    "llm.complete(\"what is a black hole ?\")"
   ]
  },
  {
   "cell_type": "markdown",
   "id": "898eadce-8349-417e-9cdc-3299f69894d6",
   "metadata": {},
   "source": [
    "## Streaming Response"
   ]
  },
  {
   "cell_type": "code",
   "execution_count": null,
   "id": "82b43656-2144-475b-bde3-fe830c9489e7",
   "metadata": {},
   "outputs": [
    {
     "data": {
      "text/plain": [
       "CompletionResponse(text='what is a black hole?\\n\\nA black hole is a region in space where the gravitational pull is so strong that nothing, not even light, can escape from it. It is formed when a massive star collapses under its own gravity after it has exhausted its nuclear fuel. The boundary around the black hole, called the event horizon, marks the point of no return, beyond which anything that gets too close will be pulled in and cannot escape.', additional_kwargs={}, raw=None, delta=None)"
      ]
     },
     "execution_count": null,
     "metadata": {},
     "output_type": "execute_result"
    }
   ],
   "source": [
    "list(llm.stream_complete(\"what is a black hole\"))[-1]"
   ]
  }
 ],
 "metadata": {
  "kernelspec": {
   "display_name": "Python 3 (ipykernel)",
   "language": "python",
   "name": "python3"
  },
  "language_info": {
   "codemirror_mode": {
    "name": "ipython",
    "version": 3
   },
   "file_extension": ".py",
   "mimetype": "text/x-python",
   "name": "python",
   "nbconvert_exporter": "python",
   "pygments_lexer": "ipython3"
  }
 },
 "nbformat": 4,
 "nbformat_minor": 5
}
