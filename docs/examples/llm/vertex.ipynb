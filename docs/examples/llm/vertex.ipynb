{
 "cells": [
  {
   "cell_type": "markdown",
   "id": "9dced1fd-2db9-4b4e-88f5-bd65563ec1a6",
   "metadata": {},
   "source": [
    "# Getting Started\n",
    "## Installing Vertex AI \n",
    "To Install Vertex AI you need to follow the following steps\n",
    "* Install Vertex Cloud SDK (https://googleapis.dev/python/aiplatform/latest/index.html)\n",
    "* Setup your Default Project , credentials , region\n",
    "## Basic Usage\n",
    "a Basic call to the text-bison model"
   ]
  },
  {
   "cell_type": "code",
   "execution_count": 2,
   "id": "bf7deb10-28fe-41f2-abda-283162e9f35b",
   "metadata": {},
   "outputs": [
    {
     "data": {
      "text/plain": [
       "' ```\\nHello this is a sample text\\n```'"
      ]
     },
     "execution_count": 2,
     "metadata": {},
     "output_type": "execute_result"
    }
   ],
   "source": [
    "from llama_index.llms.vertex import Vertex\n",
    "from llama_index.llms.base import ChatMessage,MessageRole,CompletionResponse\n",
    "llm = Vertex(model=\"text-bison\",temperature = 0,additional_kwargs = {})\n",
    "llm.complete(\"Hello this is a sample text\").text"
   ]
  },
  {
   "cell_type": "markdown",
   "id": "c3afe813-a5cb-4175-bf9c-5484b2da0a9b",
   "metadata": {},
   "source": [
    "## Async Usage\n",
    "### Async "
   ]
  },
  {
   "cell_type": "code",
   "execution_count": 3,
   "id": "7916602b-4f97-43bb-85a9-ac683bc962f3",
   "metadata": {},
   "outputs": [
    {
     "data": {
      "text/plain": [
       "' Hello! How can I help you?'"
      ]
     },
     "execution_count": 3,
     "metadata": {},
     "output_type": "execute_result"
    }
   ],
   "source": [
    "(await llm.acomplete(\"hello\")).text"
   ]
  },
  {
   "cell_type": "markdown",
   "id": "2cfd0b78-b779-4390-96f7-99ff60087786",
   "metadata": {},
   "source": [
    "# Streaming Usage \n",
    "### Streaming "
   ]
  },
  {
   "cell_type": "code",
   "execution_count": 4,
   "id": "ef4765c5-ec6a-4109-8453-c9f76396d572",
   "metadata": {},
   "outputs": [
    {
     "data": {
      "text/plain": [
       "' Hello! How can I help you?'"
      ]
     },
     "execution_count": 4,
     "metadata": {},
     "output_type": "execute_result"
    }
   ],
   "source": [
    "list(llm.stream_complete(\"hello\"))[-1].text"
   ]
  },
  {
   "cell_type": "markdown",
   "id": "ce5d9453-6465-489e-b205-a25a3da37dde",
   "metadata": {},
   "source": [
    "# Chat Usage\n",
    "### chat generation"
   ]
  },
  {
   "cell_type": "code",
   "execution_count": 7,
   "id": "2b8861d4-a151-4a5d-8a6f-d24e284009c3",
   "metadata": {},
   "outputs": [],
   "source": [
    "chat = Vertex(model=\"chat-bison\")\n",
    "messages = [ChatMessage(role=MessageRole.SYSTEM,content=\"Reply everything in french\"),ChatMessage(role=MessageRole.USER,content=\"Hello\")]"
   ]
  },
  {
   "cell_type": "code",
   "execution_count": 12,
   "id": "f2286016-9d58-468d-a9a2-571ad90066ad",
   "metadata": {},
   "outputs": [
    {
     "data": {
      "text/plain": [
       "' Bonjour! Comment vas-tu?'"
      ]
     },
     "execution_count": 12,
     "metadata": {},
     "output_type": "execute_result"
    }
   ],
   "source": [
    "chat.chat(messages = messages).message.content"
   ]
  },
  {
   "cell_type": "markdown",
   "id": "b830d59e-12f6-4ef7-b1ce-e71408ae3cbb",
   "metadata": {},
   "source": [
    "# Async Chat\n",
    "### Asynchronous chat response"
   ]
  },
  {
   "cell_type": "code",
   "execution_count": 14,
   "id": "2920968a-9566-4964-b468-9a5899f42e61",
   "metadata": {},
   "outputs": [
    {
     "data": {
      "text/plain": [
       "' Bonjour! Comment vas-tu?'"
      ]
     },
     "execution_count": 14,
     "metadata": {},
     "output_type": "execute_result"
    }
   ],
   "source": [
    "(await chat.achat(messages = messages)).message.content"
   ]
  },
  {
   "cell_type": "markdown",
   "id": "632585b4-f146-492c-bb16-30e8b64e2d52",
   "metadata": {},
   "source": [
    "# Streaming Chat\n",
    "### streaming chat response"
   ]
  },
  {
   "cell_type": "code",
   "execution_count": 15,
   "id": "9ee22376-317a-4bda-a20e-5d54f88503f7",
   "metadata": {},
   "outputs": [
    {
     "data": {
      "text/plain": [
       "' Bonjour! Comment vas-tu?'"
      ]
     },
     "execution_count": 15,
     "metadata": {},
     "output_type": "execute_result"
    }
   ],
   "source": [
    "list(chat.stream_chat(messages = messages))[-1].message.content"
   ]
  },
  {
   "cell_type": "code",
   "execution_count": null,
   "id": "ba397404-8a95-4c46-931f-8d0959e928c3",
   "metadata": {},
   "outputs": [],
   "source": []
  }
 ],
 "metadata": {
  "kernelspec": {
   "display_name": "Python 3 (ipykernel)",
   "language": "python",
   "name": "python3"
  },
  "language_info": {
   "codemirror_mode": {
    "name": "ipython",
    "version": 3
   },
   "file_extension": ".py",
   "mimetype": "text/x-python",
   "name": "python",
   "nbconvert_exporter": "python",
   "pygments_lexer": "ipython3",
   "version": "3.9.18"
  }
 },
 "nbformat": 4,
 "nbformat_minor": 5
}
