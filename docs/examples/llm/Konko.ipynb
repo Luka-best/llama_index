{
 "cells": [
  {
   "cell_type": "markdown",
   "id": "3a07f0af-6f8b-4a4e-a984-5f0f161dd0c3",
   "metadata": {},
   "source": [
    "# Konko"
   ]
  },
  {
   "cell_type": "code",
   "execution_count": 1,
   "id": "02bfb427-2607-4322-bdaa-f012a87a0112",
   "metadata": {
    "tags": []
   },
   "outputs": [],
   "source": [
    "from llama_index.llms import Konko\n",
    "from llama_index.llms.base import ChatMessage"
   ]
  },
  {
   "cell_type": "markdown",
   "id": "3907f07b-a33a-46db-b799-fec83843ff60",
   "metadata": {},
   "source": [
    "## Call `chat` with ChatMessage List\n",
    "You need to either set env var `KONKO_API_KEY` or set konko_api_key in the class constructor"
   ]
  },
  {
   "cell_type": "code",
   "execution_count": 2,
   "id": "b0bec6d7-d5cc-4c23-aa95-a915e65220cc",
   "metadata": {
    "tags": []
   },
   "outputs": [],
   "source": [
    "# import os\n",
    "# os.environ['KONKO_API_KEY'] = '<your-api-key>'\n",
    "\n",
    "llm = Konko(konko_api_key=\"<your-api-key>\")"
   ]
  },
  {
   "cell_type": "code",
   "execution_count": 3,
   "id": "1135fe2a-b4ff-4352-a825-bdc3aca17b60",
   "metadata": {
    "tags": []
   },
   "outputs": [
    {
     "name": "stdout",
     "output_type": "stream",
     "text": [
      "assistant:  Sure, here's one:\n",
      "\n",
      "Why couldn't the bicycle stand up by itself?\n",
      "\n",
      "Because it was two-tired!\n",
      "\n",
      "Get it? Two-tired... like a bike with two tires, but also tired because it can't stand up! Haha, I hope that made you smile!\n"
     ]
    }
   ],
   "source": [
    "message = ChatMessage(role=\"user\", content=\"Tell me a joke\")\n",
    "resp = llm.chat([message])\n",
    "print(resp)"
   ]
  },
  {
   "cell_type": "markdown",
   "id": "6bc1e74f",
   "metadata": {},
   "source": [
    "## Call `chat` with OpenAI Models\n",
    "You need to either set env var `OPENAI_API_KEY` or set openai_api_key in the class constructor"
   ]
  },
  {
   "cell_type": "code",
   "execution_count": 4,
   "id": "b25f46e0",
   "metadata": {},
   "outputs": [],
   "source": [
    "# import os\n",
    "# os.environ['OPENAI_API_KEY'] = '<your-api-key>'\n",
    "\n",
    "llm = Konko(model=\"gpt-3.5-turbo\", openai_api_key=\"<your-api-key>\")"
   ]
  },
  {
   "cell_type": "code",
   "execution_count": 5,
   "id": "8c4ec4a7",
   "metadata": {},
   "outputs": [
    {
     "name": "stdout",
     "output_type": "stream",
     "text": [
      "assistant: Sure, here's a classic one for you:\n",
      "\n",
      "Why don't scientists trust atoms?\n",
      "\n",
      "Because they make up everything!\n"
     ]
    }
   ],
   "source": [
    "message = ChatMessage(role=\"user\", content=\"Tell me a joke\")\n",
    "resp = llm.chat([message])\n",
    "print(resp)"
   ]
  },
  {
   "cell_type": "markdown",
   "id": "0515c6b2-e691-4f89-baa2-4964abee9cc5",
   "metadata": {
    "tags": []
   },
   "source": [
    "### Streaming"
   ]
  },
  {
   "cell_type": "code",
   "execution_count": 6,
   "id": "099f51ad-d585-4bf4-b0e1-95ed7ecf3f85",
   "metadata": {
    "tags": []
   },
   "outputs": [
    {
     "name": "stdout",
     "output_type": "stream",
     "text": [
      "Once upon a time in a small village, there lived a young girl named Lily. She was known for her kind heart and adventurous spirit. One day, while exploring the nearby forest, she stumbled upon a hidden cave. Curiosity got the better of her, and she entered the cave cautiously.\n",
      "\n",
      "Inside, she discovered a magical book with a note that read, \"This book grants one wish to the pure of heart.\" Excitement filled Lily's eyes as she thought of all the possibilities. She closed her eyes and made her wish - to bring happiness to her village.\n",
      "\n",
      "The next morning, the village woke up to a surprising sight. The once dull and gloomy streets were now filled with vibrant colors and cheerful music. The villagers couldn't believe their eyes. They danced and laughed, grateful for the newfound joy that had enveloped their lives.\n",
      "\n",
      "Lily became a local hero, and people from neighboring villages came to witness the magic she had brought. The village flourished, and everyone lived in harmony. But as time passed, Lily realized that the magic was fading. The happiness she had brought was temporary.\n",
      "\n",
      "Determined to find a permanent solution, Lily returned to the cave. She opened the magical book once again and made a new wish - for the villagers to find happiness within themselves.\n",
      "\n",
      "The next day, the village woke up to a different kind of happiness. It was not dependent on external factors but came from within. The villagers discovered the power of gratitude, kindness, and love. They realized that true happiness was not found in material possessions but in the connections they shared with one another.\n",
      "\n",
      "Lily's wish had transformed the village forever. From that day on, the villagers lived their lives with a renewed sense of purpose and contentment. And Lily, with a heart full of joy, continued to explore the world, spreading happiness wherever she went."
     ]
    }
   ],
   "source": [
    "message = ChatMessage(role=\"user\", content=\"Tell me a story in 250 words\")\n",
    "resp = llm.stream_chat([message], max_tokens = 1000)\n",
    "for r in resp:\n",
    "    print(r.delta, end=\"\")"
   ]
  },
  {
   "cell_type": "markdown",
   "id": "ac92c80f-5b82-4143-a6f9-549d6f5dfa70",
   "metadata": {},
   "source": [
    "## Call `complete` with Prompt"
   ]
  },
  {
   "cell_type": "code",
   "execution_count": 7,
   "id": "1290c9b1-3c37-4db0-aa94-dda1c90d4f8b",
   "metadata": {
    "tags": []
   },
   "outputs": [
    {
     "name": "stdout",
     "output_type": "stream",
     "text": [
      "Sure, here's a classic one for you:\n",
      "\n",
      "Why don't scientists trust atoms?\n",
      "\n",
      "Because they make up everything!\n"
     ]
    }
   ],
   "source": [
    "resp = llm.complete(\"Tell me a joke\")\n",
    "print(resp)"
   ]
  },
  {
   "cell_type": "code",
   "execution_count": 8,
   "id": "be1a7fe6-51b7-4e80-b60d-fbe3335610c7",
   "metadata": {
    "tags": []
   },
   "outputs": [
    {
     "name": "stdout",
     "output_type": "stream",
     "text": [
      "Once upon a time in a small village nestled in the mountains, there lived a young girl named Lily. She was known for her kind heart and adventurous spirit. One day, while exploring the forest near her home, she stumbled upon a hidden cave.\n",
      "\n",
      "Curiosity got the better of Lily, and she cautiously entered the cave. Inside, she discovered a magical book with a shimmering cover. As she opened it, words began to appear on the pages, telling the story of a lost treasure hidden deep within the forest.\n",
      "\n",
      "Determined to find the treasure and share it with her village, Lily embarked on a thrilling quest. The book guided her through treacherous paths, enchanted forests, and mystical creatures. Along the way, she encountered a mischievous gnome who offered his assistance.\n",
      "\n",
      "Together, they overcame obstacles and solved riddles, inching closer to the treasure. Finally, after days of searching, they reached a clearing where a magnificent tree stood. Its branches were adorned with sparkling jewels, and at its base lay a chest overflowing with gold and precious gems.\n",
      "\n",
      "Lily's heart swelled with joy as she realized the treasure was not meant for her alone. She called upon the villagers, who gathered around in awe. With the treasure, they could build schools, hospitals, and improve their lives.\n",
      "\n",
      "News of Lily's selflessness spread far and wide, reaching the ears of a wise old wizard. Impressed by her bravery and kindness, he appeared before her and granted her a single wish. Without hesitation, Lily asked for the village to be blessed with prosperity and happiness forever.\n",
      "\n",
      "From that day forward, the village thrived, and Lily became a beloved figure, forever remembered as the girl who brought fortune and joy to her people. And as for the magical book, it disappeared, leaving behind only the memory of an extraordinary adventure and the power of selflessness."
     ]
    }
   ],
   "source": [
    "resp = llm.stream_complete(\"Tell me a story in 250 words\", max_tokens = 1000)\n",
    "for r in resp:\n",
    "    print(r.delta, end=\"\")"
   ]
  },
  {
   "cell_type": "markdown",
   "id": "dc3a2018-89f1-4795-9b68-c06b8f104a69",
   "metadata": {},
   "source": [
    "## Model Configuration"
   ]
  },
  {
   "cell_type": "code",
   "execution_count": 9,
   "id": "88c2680d-5e21-4eba-a685-a30d64554b14",
   "metadata": {
    "tags": []
   },
   "outputs": [],
   "source": [
    "llm = Konko(model=\"meta-llama/Llama-2-70b-chat-hf\")"
   ]
  },
  {
   "cell_type": "code",
   "execution_count": 10,
   "id": "24ebd16b-1740-4f31-800d-9c9c8fcc0d96",
   "metadata": {
    "tags": []
   },
   "outputs": [
    {
     "name": "stdout",
     "output_type": "stream",
     "text": [
      " Sure, here's an example of how to send an HTTP request using the C++ `std::iostream` library:\n",
      "```\n",
      "#include <iostream>\n",
      "#include <string>\n",
      "\n",
      "int main() {\n",
      "  // Create a HTTP request\n",
      "  std::string request = \"GET / HTTP/1.1\\r\\n\";\n",
      "  request += \"Host: example.com\\r\\n\";\n",
      "  request += \"User-Agent: My C++ HTTP Client\\r\\n\";\n",
      "  request += \"Accept: */*\\r\\n\";\n",
      "  request += \"Connection: close\\r\\n\\r\\n\";\n",
      "\n",
      "  // Send the request to the HTTP server\n",
      "  std::cout << request << std::endl;\n",
      "\n",
      "  // Receive the response from the HTTP server\n",
      "  std::string response;\n",
      "  std::getline(std::cin, response);\n",
      "\n",
      "  // Print the response\n",
      "  std::cout << response << std::endl;\n",
      "\n",
      "  return 0;\n",
      "}\n",
      "```\n",
      "This code sends a GET request to the HTTP server at `example.com`. The request is constructed by concatenating strings for the various headers, followed by two newline characters to indicate the end of the request. The `std::cout` statement is used to send the request to the server.\n",
      "\n",
      "The response from the server is received using the `std::getline` function, which reads a line from the standard input stream (in this case, the HTTP server's response) and stores it in the `response` variable. Finally, the response is printed to the console using `std::cout`.\n",
      "\n",
      "Note that this is a very basic example, and in a real-world application, you would likely want to handle errors and disconnections, as well as implement additional features such as HTTPS support, cookie handling, and request parsing.\n"
     ]
    }
   ],
   "source": [
    "resp = llm.complete(\"Show me the c++ code to send requests to HTTP Server\", max_tokens = 4000)\n",
    "print(resp)"
   ]
  },
  {
   "cell_type": "code",
   "execution_count": null,
   "id": "5801dc49",
   "metadata": {},
   "outputs": [],
   "source": []
  }
 ],
 "metadata": {
  "kernelspec": {
   "display_name": "Python 3 (ipykernel)",
   "language": "python",
   "name": "python3"
  },
  "language_info": {
   "codemirror_mode": {
    "name": "ipython",
    "version": 3
   },
   "file_extension": ".py",
   "mimetype": "text/x-python",
   "name": "python",
   "nbconvert_exporter": "python",
   "pygments_lexer": "ipython3",
   "version": "3.11.3"
  }
 },
 "nbformat": 4,
 "nbformat_minor": 5
}
