{
 "cells": [
  {
   "cell_type": "markdown",
   "id": "6453d3d5",
   "metadata": {},
   "source": [
    "<a href=\"https://colab.research.google.com/github/ulan-yisaev/llama_index/blob/main/docs/examples/llm/alephalpha.ipynb\" target=\"_parent\"><img src=\"https://colab.research.google.com/assets/colab-badge.svg\" alt=\"Open In Colab\"/></a>"
   ]
  },
  {
   "cell_type": "markdown",
   "id": "731d44db9e0d236c",
   "metadata": {},
   "source": [
    "# Aleph Alpha\n",
    "\n",
    "Aleph Alpha is a powerful language model that can generate human-like text. Aleph Alpha is capable of generating text in multiple languages and styles, and can be fine-tuned to generate text in specific domains."
   ]
  },
  {
   "cell_type": "markdown",
   "id": "c78b172f",
   "metadata": {},
   "source": [
    "If you're opening this Notebook on colab, you will probably need to install LlamaIndex 🦙."
   ]
  },
  {
   "cell_type": "code",
   "execution_count": null,
   "id": "8e31874a",
   "metadata": {},
   "outputs": [],
   "source": [
    "%pip install llama-index-llms-alephalpha"
   ]
  },
  {
   "cell_type": "code",
   "execution_count": null,
   "id": "50fc1a30",
   "metadata": {},
   "outputs": [],
   "source": [
    "!pip install llama-index"
   ]
  },
  {
   "cell_type": "markdown",
   "id": "4f2a12560669efa6",
   "metadata": {},
   "source": [
    "#### Set your Aleph Alpha token\n"
   ]
  },
  {
   "cell_type": "code",
   "execution_count": null,
   "id": "85fbba23",
   "metadata": {},
   "outputs": [],
   "source": [
    "import os\n",
    "\n",
    "os.environ[\"AA_TOKEN\"] = \"your_token_here\""
   ]
  },
  {
   "cell_type": "markdown",
   "id": "b81a3ef6-2ee5-460d-9aa4-f73708774014",
   "metadata": {},
   "source": [
    "#### Call `complete` with a prompt"
   ]
  },
  {
   "cell_type": "code",
   "execution_count": null,
   "id": "910b50ad-c55e-487e-8808-5905dfaa78b4",
   "metadata": {},
   "outputs": [],
   "source": [
    "from llama_index.llms.alephalpha import AlephAlpha\n",
    "\n",
    "# To customize your token, do this\n",
    "# otherwise it will lookup AA_TOKEN from your env variable\n",
    "# llm = AlephAlpha(token=\"<aa_token>\")\n",
    "llm = AlephAlpha(model=\"luminous-base-control\")\n",
    "\n",
    "resp = llm.complete(\"Paul Graham is \")"
   ]
  },
  {
   "cell_type": "code",
   "execution_count": null,
   "id": "dfda925e-89c5-47a6-9311-16916ab08b66",
   "metadata": {},
   "outputs": [
    {
     "name": "stdout",
     "output_type": "stream",
     "text": [
      " a well-known computer scientist and entrepreneur. He is the co-founder of PayPal and a co-founder of the Y Combinator startup accelerator. He has also co-authored the book \"Programming the Web\". Paul Graham is also a frequent speaker and writer on topics related to computer science, entrepreneurship, and startups. He has written several blog posts on the topic of \"Why Startups Fail\". In this post, I will summarize some of the key points from Paul Graham's blog post on why startups fail.\n",
      "\n",
      "1. Lack of a clear vision: Startups often lack a clear vision of what they\n"
     ]
    }
   ],
   "source": [
    "print(resp)"
   ]
  },
  {
   "cell_type": "markdown",
   "id": "413fbe0a60a8e449",
   "metadata": {},
   "source": [
    "#### To access additional information such as log probabilities, model version, and raw completion, you can access them from `additional_kwargs` attribute of the response."
   ]
  },
  {
   "cell_type": "code",
   "execution_count": null,
   "id": "de81c4b2e2c36894",
   "metadata": {},
   "outputs": [
    {
     "name": "stdout",
     "output_type": "stream",
     "text": [
      "\n",
      "Log Probabilities:\n",
      "[{' an': -2.08455, ' a': -0.95955}, {' computer': -1.8594251, ' well': -1.9219251}, {' scientist': -0.091552936, ' programmer': -2.841553}, {' and': -0.68497455, ',': -0.93497455}, {' entrepreneur': -0.8093401, ' the': -2.05934}, {'.': -1.5321848, ' who': -0.5321848}, {' has': -1.1605153, ' is': -0.6605153}, {' known': -0.98509336, ' best': -1.4850934}, {' as': -4.0206566, ' for': -0.020656694}, {' co': -2.644031, ' his': -0.14403117}, {' contributions': -2.4368932, ' work': -0.18689314}, {' on': -1.525103, ' in': -0.27510297}, {' the': -0.4980639, ' artificial': -2.3730638}, {' fields': -1.3800285, ' field': -0.5050285}, {'<|endoftext|>': -6.751452, ' of': -0.0014518683}, {' computer': -2.048886, ' artificial': -0.548886}, {' general': -8.500469, ' intelligence': -0.00046885942}, {'.': -1.0072398, ' and': -0.7572398}, {' He': -0.36318958, ' Paul': -1.8631896}, {' has': -2.7070954, ' is': -0.2070954}, {' a': -1.8870486, ' the': -0.38704857}, {' co': -0.38701278, ' founder': -1.3870127}, {'-': -0.018576104, 'founder': -4.018576}, {'cre': -5.756128, 'founder': -0.0061278557}, {' and': -1.1386441, ' of': -0.3886441}, {' the': -1.0956498, ' Y': -1.9706498}, {' Y': -2.843547, ' company': -0.59354717}, {',': -2.3949528, ' Y': -1.0199529}, {'Com': -1.3218329, ' Combin': -0.57183295}, {'ator': -3.2424403e-05, 'atory': -10.625032}, {',': -0.48530787, ' and': -0.9853079}, {' which': -0.35580775, ' and': -1.8558078}, {' is': -0.41743162, ' provides': -2.1674316}, {' one': -2.4754689, ' a': -0.22546877}, {' startup': -0.9217202, ' seed': -1.4217203}, {' acceler': -0.25631082, ' incub': -1.5063108}, {'ator': -3.81469e-06, 'ating': -13.000004}, {' and': -1.8938935, ' that': -0.39389345}, {' has': -1.4404793, ' helps': -0.44047934}, {' startups': -1.0857766, ' entrepreneurs': -1.0857766}, {' build': -0.5897969, ' launch': -1.5897969}, {' successful': -1.7141614, ' and': -0.46416146}, {' launch': -0.29113394, ' scale': -1.7911339}, {' successful': -1.2996225, ' new': -0.7996226}, {' companies': -0.8122176, ' businesses': -1.3122176}, {'.': -0.004501448, ',': -6.2545013}, {'\\n': -1.661787, ' Paul': -0.9117871}, {' is': -1.8691068, ' Graham': -0.36910677}, {' has': -1.6773126, ' is': -0.42731258}, {' written': -1.649123, ' also': -0.39912298}, {' been': -1.1053908, ' written': -0.8553908}, {' a': -0.87460554, ' involved': -1.1246055}, {' key': -1.6216501, ' major': -2.1216502}, {' figure': -0.9492004, 'note': -1.1992004}, {' in': -0.000419767, '<|endoftext|>': -9.00042}, {' the': -0.009667366, ' several': -6.5096674}, {' development': -0.21574742, ' field': -2.3407474}, {' of': -0.014679402, ' and': -4.2646794}, {' the': -0.26605418, ' programming': -3.0160542}, {' field': -0.8494417, ' programming': -2.4119418}, {' of': -0.0018384237, '<|endoftext|>': -6.751838}, {' computer': -1.6582514, ' machine': -1.4082514}, {' learning': -0.0018862566, ' intelligence': -6.7518864}, {',': -0.33663228, ' and': -1.5866323}, {' and': -0.3377017, ' which': -2.3377018}, {' he': -0.6065473, ' has': -1.3565474}, {' has': -0.7100897, ' is': -0.7100897}, {' a': -1.2755631, ' the': -1.2755631}, {' pioneer': -1.6500069, ' co': -1.5250069}, {'founder': -7.7508593, '-': -0.0008592489}, {'author': -1.3443322, 'founder': -0.34433222}, {' and': -4.2645526, ' of': -0.014552759}, {' board': -1.7980244, ' former': -2.5480244}, {' member': -0.00050234096, ' chair': -8.500503}, {' of': -0.0016970532, ' at': -6.751697}, {' the': -0.06371457, ' a': -3.9387145}, {' Machine': -2.3010879, ' company': -0.48858792}, {' Alpha': -1.7585027, ' Cours': -1.5085027}, {'era': -0.0015184075, 'ara': -6.8765182}, {',': -0.31441545, '.': -1.3144155}, {' which': -0.026335977, ' a': -4.026336}, {' offers': -1.1534197, ' is': -0.65341973}, {' online': -0.2311241, ' free': -2.2311242}, {' courses': -0.03253965, ' learning': -4.53254}, {' and': -1.9152962, ' to': -0.6652962}, {' students': -1.0721049, ' millions': -0.572105}, {' of': -4.9709037e-05, ' around': -10.75005}, {' students': -0.333131, ' people': -1.333131}, {' around': -0.35923374, '.': -1.8592337}, {'<|endoftext|>': -10.000046, ' the': -4.577532e-05}, {' world': -0.0006796196, ' globe': -7.5006795}, {'.': -0.0003904534, ',': -8.75039}, {' In': -1.3882024, '\\n': -1.3882024}, {' addition': -0.29133466, ' this': -1.5413346}, {' to': -0.3871979, ',': -1.137198}, {' his': -0.052739263, ' these': -3.0527391}, {' technical': -3.226937, ' work': -0.10193704}, {' as': -2.8296633, ' in': -0.079663366}, {' computer': -1.5667738, ' technology': -1.3167738}, {',': -0.038601056, ' and': -3.2886012}, {' he': -3.7923348, ' Paul': -0.042334866}, {' Graham': -0.000726555, ' has': -8.000727}, {' has': -1.5330005, ' is': -0.28300053}, {' also': -0.1646621, ' written': -2.1646621}, {' been': -1.3961573, ' written': -0.3961572}, {' extensively': -1.3434175, ' several': -0.5934175}, {' books': -0.2254973, ' influential': -1.9754972}, {' on': -0.5567269, ',': -1.3067269}, {' topics': -1.7002654, ' the': -0.9502654}, {' subject': -1.1479003, ' topic': -0.89790034}, {' of': -0.16653918, ',': -1.9165392}, {' computer': -2.0362043, ' entrepreneurs': -1.1612045}, {'hip': -1.490105e-05, ' and': -11.500015}, {',': -0.28288385, ' and': -1.5328839}, {' and': -2.8474147, ' including': -0.09741463}, {' the': -1.9876423, ' \"': -0.36264232}, {'Start': -2.0257704, 'The': -0.6507704}, {' Little': -1.446472, ' Art': -1.696472}, {' Sch': -1.2493004, ' Book': -0.49930033}, {' of': -0.0022009215, ' Of': -6.502201}, {' Ment': -2.278874, ' Algorithms': -0.8413739}, {'\"': -0.77814054, ':': -2.2781405}, {' (': -7.2519855, ' and': -0.001985604}, {' the': -6.2526298, ' \"': -0.002629872}, {'On': -1.7246641, 'The': -1.2246641}, {' Art': -2.0138328, ' Little': -0.8888328}, {' Book': -0.08812659, ' Sch': -3.0881267}, {' on': -6.1274753, ' of': -0.002475414}]\n",
      "\n",
      "Model Version:\n",
      "20240215\n",
      "\n",
      "Raw Completion:\n",
      " a computer scientist and entrepreneur who is known for his work in the field of artificial intelligence. He is the co-founder of the company Y Combinator, which is a startup accelerator that helps entrepreneurs build and launch new companies. Paul Graham has also been a key figure in the development of the field of machine learning, and he is a co-founder and board member of the company Coursera, which offers online courses to millions of students around the world. In addition to his work in technology, Paul Graham has also written several books on the topic of entrepreneurship, including \"The Little Book of Algorithms\" and \"The Little Book on\n"
     ]
    }
   ],
   "source": [
    "llm = AlephAlpha(model=\"luminous-base-control\", log_probs=2)\n",
    "\n",
    "resp = llm.complete(\"Paul Graham is \")\n",
    "\n",
    "if \"log_probs\" in resp.additional_kwargs:\n",
    "    print(\"\\nLog Probabilities:\")\n",
    "    print(resp.additional_kwargs[\"log_probs\"])\n",
    "\n",
    "if \"model_version\" in resp.additional_kwargs:\n",
    "    print(\"\\nModel Version:\")\n",
    "    print(resp.additional_kwargs[\"model_version\"])\n",
    "\n",
    "if \"raw_completion\" in resp.additional_kwargs:\n",
    "    print(\"\\nRaw Completion:\")\n",
    "    print(resp.additional_kwargs[\"raw_completion\"])"
   ]
  },
  {
   "cell_type": "markdown",
   "id": "5152a2b4-78e6-47a5-933d-f5186ec0f775",
   "metadata": {},
   "source": [
    "## Async"
   ]
  },
  {
   "cell_type": "code",
   "execution_count": null,
   "id": "7df04c0e-43ee-4176-9aad-94781d0ed36d",
   "metadata": {},
   "outputs": [],
   "source": [
    "from llama_index.llms.alephalpha import AlephAlpha\n",
    "\n",
    "llm = AlephAlpha(model=\"luminous-base-control\")\n",
    "resp = await llm.acomplete(\"Paul Graham is \")"
   ]
  },
  {
   "cell_type": "code",
   "execution_count": null,
   "id": "be09c52b-604a-4f05-8f93-36e6ea882ff5",
   "metadata": {},
   "outputs": [
    {
     "name": "stdout",
     "output_type": "stream",
     "text": [
      " a computer scientist and entrepreneur who is known for his work in the field of artificial intelligence and computer science. He is the co-founder of the company Y Combinator, which is a startup accelerator that helps startups get funding and resources. Paul Graham has also written several books on computer science and entrepreneurship, including \"Programming: Principles and Practice\" and \"The Art of Computer Programming\". He is a well-known figure in the computer science community and has made significant contributions to the field.\n"
     ]
    }
   ],
   "source": [
    "print(resp)"
   ]
  }
 ],
 "metadata": {
  "kernelspec": {
   "display_name": "Python 3 (ipykernel)",
   "language": "python",
   "name": "python3"
  },
  "language_info": {
   "codemirror_mode": {
    "name": "ipython",
    "version": 3
   },
   "file_extension": ".py",
   "mimetype": "text/x-python",
   "name": "python",
   "nbconvert_exporter": "python",
   "pygments_lexer": "ipython3"
  },
  "vscode": {
   "interpreter": {
    "hash": "b0fa6594d8f4cbf19f97940f81e996739fb7646882a419484c72d19e05852a7e"
   }
  }
 },
 "nbformat": 4,
 "nbformat_minor": 5
}
