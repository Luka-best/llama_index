{
 "cells": [
  {
   "cell_type": "markdown",
   "metadata": {},
   "source": [
    "# Maritalk\n",
    "\n",
    "## Introduction\n",
    "\n",
    "MariTalk is an assistant developed by the Brazilian company [Maritaca AI](www.maritaca.ai).\n",
    "MariTalk is based on language models that have been specially trained to understand Portuguese well.\n",
    "\n",
    "This notebook demonstrates how to use MariTalk with llama-index through a simple example."
   ]
  },
  {
   "cell_type": "markdown",
   "metadata": {},
   "source": [
    "## Installation"
   ]
  },
  {
   "cell_type": "code",
   "execution_count": null,
   "metadata": {
    "vscode": {
     "languageId": "plaintext"
    }
   },
   "outputs": [],
   "source": [
    "If you're opening this Notebook on colab, you will probably need to install LlamaIndex 🦙.\n",
    "\n",
    "%pip install llama-index-llms-maritalk\n",
    "!pip install llama-index"
   ]
  },
  {
   "cell_type": "markdown",
   "metadata": {},
   "source": [
    "## API Key\n",
    "You will need an API key that can be obtained from chat.maritaca.ai (\"Chaves da API\" section)."
   ]
  },
  {
   "cell_type": "markdown",
   "metadata": {},
   "source": [
    "## Usage"
   ]
  },
  {
   "cell_type": "code",
   "execution_count": null,
   "metadata": {
    "vscode": {
     "languageId": "plaintext"
    }
   },
   "outputs": [],
   "source": [
    "from llama_index.core.llms import ChatMessage\n",
    "from llama_index.llms.maritalk import Maritalk\n",
    "\n",
    "# To customize your API key, do this\n",
    "# otherwise it will lookup MARITALK_API_KEY from your env variable\n",
    "# llm = Maritalk(api_key=\"<your_maritalk_api_key>\")\n",
    "\n",
    "llm = Maritalk()\n",
    "\n",
    "# Call chat with a list of messages\n",
    "messages = [\n",
    "    ChatMessage(role=\"system\", content=\"You are a chatbot using Maritalk.\"),\n",
    "    ChatMessage(role=\"user\", content=\"Tell me a joke about computers\"),\n",
    "]\n",
    "\n",
    "response = llm.chat(messages)\n",
    "print(response)"
   ]
  }
 ],
 "metadata": {
  "language_info": {
   "name": "python"
  }
 },
 "nbformat": 4,
 "nbformat_minor": 2
}
