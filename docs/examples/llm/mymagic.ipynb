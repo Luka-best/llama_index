{
 "cells": [
  {
   "cell_type": "markdown",
   "metadata": {},
   "source": [
    "# MyMagic AI LLM"
   ]
  },
  {
   "cell_type": "markdown",
   "metadata": {},
   "source": [
    "## Introduction\n",
    "This notebook demonstrates how to use MyMagicAI for batch inference on massive data stored in cloud buckets. The only enpoints implemented are `complete` and `acomplete` which can work on many use cases including Completion, Summariation and Extraction.\n",
    "To use this notebook, you need an API key (Personal Access Token) from MyMagicAI and data stored in cloud buckets.\n",
    "Sign up by clicking Get Started at [MyMagicAI's website](https://mymagic.ai/) to get your API key.\n"
   ]
  },
  {
   "cell_type": "markdown",
   "metadata": {},
   "source": [
    "## Setup\n",
    "To set up your bucket and grant MyMagic API a secure access to your cloud storage, please visit [MyMagic docs](https://docs.mymagic.ai/) for reference.\n",
    "If you're opening this Notebook on colab, you will probably need to install LlamaIndex 🦙.\n"
   ]
  },
  {
   "cell_type": "code",
   "execution_count": null,
   "metadata": {},
   "outputs": [
    {
     "name": "stdout",
     "output_type": "stream",
     "text": [
      "Looking in indexes: https://pypi.org/simple, https://pypi.ngc.nvidia.com\n",
      "\u001b[31mERROR: Could not find a version that satisfies the requirement llama-index-llms-mymagic (from versions: none)\u001b[0m\u001b[31m\n",
      "\u001b[0m\u001b[31mERROR: No matching distribution found for llama-index-llms-mymagic\u001b[0m\u001b[31m\n",
      "\u001b[0mNote: you may need to restart the kernel to use updated packages.\n"
     ]
    }
   ],
   "source": [
    "%pip install llama-index-llms-mymagic"
   ]
  },
  {
   "cell_type": "code",
   "execution_count": null,
   "metadata": {},
   "outputs": [
    {
     "name": "stdout",
     "output_type": "stream",
     "text": [
      "Looking in indexes: https://pypi.org/simple, https://pypi.ngc.nvidia.com\n",
      "Requirement already satisfied: llama-index in /home/vitali/.cache/pypoetry/virtualenvs/llama-index-dKXgjzWQ-py3.11/lib/python3.11/site-packages (0.10.3)\n",
      "Requirement already satisfied: llama-index-agent-openai<0.2.0,>=0.1.0 in /home/vitali/.cache/pypoetry/virtualenvs/llama-index-dKXgjzWQ-py3.11/lib/python3.11/site-packages (from llama-index) (0.1.1)\n",
      "Requirement already satisfied: llama-index-core<0.11.0,>=0.10.0 in /home/vitali/.cache/pypoetry/virtualenvs/llama-index-dKXgjzWQ-py3.11/lib/python3.11/site-packages (from llama-index) (0.10.2)\n",
      "Requirement already satisfied: llama-index-embeddings-openai<0.2.0,>=0.1.0 in /home/vitali/.cache/pypoetry/virtualenvs/llama-index-dKXgjzWQ-py3.11/lib/python3.11/site-packages (from llama-index) (0.1.1)\n",
      "Requirement already satisfied: llama-index-legacy<0.10.0,>=0.9.48 in /home/vitali/.cache/pypoetry/virtualenvs/llama-index-dKXgjzWQ-py3.11/lib/python3.11/site-packages (from llama-index) (0.9.48)\n",
      "Requirement already satisfied: llama-index-llms-openai<0.2.0,>=0.1.0 in /home/vitali/.cache/pypoetry/virtualenvs/llama-index-dKXgjzWQ-py3.11/lib/python3.11/site-packages (from llama-index) (0.1.1)\n",
      "Requirement already satisfied: llama-index-multi-modal-llms-openai<0.2.0,>=0.1.0 in /home/vitali/.cache/pypoetry/virtualenvs/llama-index-dKXgjzWQ-py3.11/lib/python3.11/site-packages (from llama-index) (0.1.1)\n",
      "Requirement already satisfied: llama-index-program-openai<0.2.0,>=0.1.0 in /home/vitali/.cache/pypoetry/virtualenvs/llama-index-dKXgjzWQ-py3.11/lib/python3.11/site-packages (from llama-index) (0.1.1)\n",
      "Requirement already satisfied: llama-index-question-gen-openai<0.2.0,>=0.1.0 in /home/vitali/.cache/pypoetry/virtualenvs/llama-index-dKXgjzWQ-py3.11/lib/python3.11/site-packages (from llama-index) (0.1.1)\n",
      "Requirement already satisfied: llama-index-readers-file<0.2.0,>=0.1.0 in /home/vitali/.cache/pypoetry/virtualenvs/llama-index-dKXgjzWQ-py3.11/lib/python3.11/site-packages (from llama-index) (0.1.2)\n",
      "Requirement already satisfied: PyYAML>=6.0.1 in /home/vitali/.cache/pypoetry/virtualenvs/llama-index-dKXgjzWQ-py3.11/lib/python3.11/site-packages (from llama-index-core<0.11.0,>=0.10.0->llama-index) (6.0.1)\n",
      "Requirement already satisfied: SQLAlchemy>=1.4.49 in /home/vitali/.cache/pypoetry/virtualenvs/llama-index-dKXgjzWQ-py3.11/lib/python3.11/site-packages (from SQLAlchemy[asyncio]>=1.4.49->llama-index-core<0.11.0,>=0.10.0->llama-index) (2.0.27)\n",
      "Requirement already satisfied: aiohttp<4.0.0,>=3.8.6 in /home/vitali/.cache/pypoetry/virtualenvs/llama-index-dKXgjzWQ-py3.11/lib/python3.11/site-packages (from llama-index-core<0.11.0,>=0.10.0->llama-index) (3.9.3)\n",
      "Requirement already satisfied: dataclasses-json in /home/vitali/.cache/pypoetry/virtualenvs/llama-index-dKXgjzWQ-py3.11/lib/python3.11/site-packages (from llama-index-core<0.11.0,>=0.10.0->llama-index) (0.6.4)\n",
      "Requirement already satisfied: deprecated>=1.2.9.3 in /home/vitali/.cache/pypoetry/virtualenvs/llama-index-dKXgjzWQ-py3.11/lib/python3.11/site-packages (from llama-index-core<0.11.0,>=0.10.0->llama-index) (1.2.14)\n",
      "Requirement already satisfied: dirtyjson<2.0.0,>=1.0.8 in /home/vitali/.cache/pypoetry/virtualenvs/llama-index-dKXgjzWQ-py3.11/lib/python3.11/site-packages (from llama-index-core<0.11.0,>=0.10.0->llama-index) (1.0.8)\n",
      "Requirement already satisfied: fsspec>=2023.5.0 in /home/vitali/.cache/pypoetry/virtualenvs/llama-index-dKXgjzWQ-py3.11/lib/python3.11/site-packages (from llama-index-core<0.11.0,>=0.10.0->llama-index) (2024.2.0)\n",
      "Requirement already satisfied: httpx in /home/vitali/.cache/pypoetry/virtualenvs/llama-index-dKXgjzWQ-py3.11/lib/python3.11/site-packages (from llama-index-core<0.11.0,>=0.10.0->llama-index) (0.26.0)\n",
      "Requirement already satisfied: nest-asyncio<2.0.0,>=1.5.8 in /home/vitali/.cache/pypoetry/virtualenvs/llama-index-dKXgjzWQ-py3.11/lib/python3.11/site-packages (from llama-index-core<0.11.0,>=0.10.0->llama-index) (1.6.0)\n",
      "Requirement already satisfied: networkx>=3.0 in /home/vitali/.cache/pypoetry/virtualenvs/llama-index-dKXgjzWQ-py3.11/lib/python3.11/site-packages (from llama-index-core<0.11.0,>=0.10.0->llama-index) (3.1)\n",
      "Requirement already satisfied: nltk<4.0.0,>=3.8.1 in /home/vitali/.cache/pypoetry/virtualenvs/llama-index-dKXgjzWQ-py3.11/lib/python3.11/site-packages (from llama-index-core<0.11.0,>=0.10.0->llama-index) (3.8.1)\n",
      "Requirement already satisfied: numpy in /home/vitali/.cache/pypoetry/virtualenvs/llama-index-dKXgjzWQ-py3.11/lib/python3.11/site-packages (from llama-index-core<0.11.0,>=0.10.0->llama-index) (1.24.4)\n",
      "Requirement already satisfied: openai>=1.1.0 in /home/vitali/.cache/pypoetry/virtualenvs/llama-index-dKXgjzWQ-py3.11/lib/python3.11/site-packages (from llama-index-core<0.11.0,>=0.10.0->llama-index) (1.12.0)\n",
      "Requirement already satisfied: pandas in /home/vitali/.cache/pypoetry/virtualenvs/llama-index-dKXgjzWQ-py3.11/lib/python3.11/site-packages (from llama-index-core<0.11.0,>=0.10.0->llama-index) (2.0.3)\n",
      "Requirement already satisfied: pillow>=9.0.0 in /home/vitali/.cache/pypoetry/virtualenvs/llama-index-dKXgjzWQ-py3.11/lib/python3.11/site-packages (from llama-index-core<0.11.0,>=0.10.0->llama-index) (10.2.0)\n",
      "Requirement already satisfied: requests>=2.31.0 in /home/vitali/.cache/pypoetry/virtualenvs/llama-index-dKXgjzWQ-py3.11/lib/python3.11/site-packages (from llama-index-core<0.11.0,>=0.10.0->llama-index) (2.31.0)\n",
      "Requirement already satisfied: tenacity<9.0.0,>=8.2.0 in /home/vitali/.cache/pypoetry/virtualenvs/llama-index-dKXgjzWQ-py3.11/lib/python3.11/site-packages (from llama-index-core<0.11.0,>=0.10.0->llama-index) (8.2.3)\n",
      "Requirement already satisfied: tiktoken>=0.3.3 in /home/vitali/.cache/pypoetry/virtualenvs/llama-index-dKXgjzWQ-py3.11/lib/python3.11/site-packages (from llama-index-core<0.11.0,>=0.10.0->llama-index) (0.6.0)\n",
      "Requirement already satisfied: tqdm<5.0.0,>=4.66.1 in /home/vitali/.cache/pypoetry/virtualenvs/llama-index-dKXgjzWQ-py3.11/lib/python3.11/site-packages (from llama-index-core<0.11.0,>=0.10.0->llama-index) (4.66.2)\n",
      "Requirement already satisfied: typing-extensions>=4.5.0 in /home/vitali/.cache/pypoetry/virtualenvs/llama-index-dKXgjzWQ-py3.11/lib/python3.11/site-packages (from llama-index-core<0.11.0,>=0.10.0->llama-index) (4.9.0)\n",
      "Requirement already satisfied: typing-inspect>=0.8.0 in /home/vitali/.cache/pypoetry/virtualenvs/llama-index-dKXgjzWQ-py3.11/lib/python3.11/site-packages (from llama-index-core<0.11.0,>=0.10.0->llama-index) (0.9.0)\n",
      "Requirement already satisfied: beautifulsoup4<5.0.0,>=4.12.3 in /home/vitali/.cache/pypoetry/virtualenvs/llama-index-dKXgjzWQ-py3.11/lib/python3.11/site-packages (from llama-index-readers-file<0.2.0,>=0.1.0->llama-index) (4.12.3)\n",
      "Requirement already satisfied: bs4<0.0.3,>=0.0.2 in /home/vitali/.cache/pypoetry/virtualenvs/llama-index-dKXgjzWQ-py3.11/lib/python3.11/site-packages (from llama-index-readers-file<0.2.0,>=0.1.0->llama-index) (0.0.2)\n",
      "Requirement already satisfied: pymupdf<2.0.0,>=1.23.21 in /home/vitali/.cache/pypoetry/virtualenvs/llama-index-dKXgjzWQ-py3.11/lib/python3.11/site-packages (from llama-index-readers-file<0.2.0,>=0.1.0->llama-index) (1.23.22)\n",
      "Requirement already satisfied: pypdf<5.0.0,>=4.0.1 in /home/vitali/.cache/pypoetry/virtualenvs/llama-index-dKXgjzWQ-py3.11/lib/python3.11/site-packages (from llama-index-readers-file<0.2.0,>=0.1.0->llama-index) (4.0.1)\n",
      "Requirement already satisfied: aiosignal>=1.1.2 in /home/vitali/.cache/pypoetry/virtualenvs/llama-index-dKXgjzWQ-py3.11/lib/python3.11/site-packages (from aiohttp<4.0.0,>=3.8.6->llama-index-core<0.11.0,>=0.10.0->llama-index) (1.3.1)\n",
      "Requirement already satisfied: attrs>=17.3.0 in /home/vitali/.cache/pypoetry/virtualenvs/llama-index-dKXgjzWQ-py3.11/lib/python3.11/site-packages (from aiohttp<4.0.0,>=3.8.6->llama-index-core<0.11.0,>=0.10.0->llama-index) (23.2.0)\n",
      "Requirement already satisfied: frozenlist>=1.1.1 in /home/vitali/.cache/pypoetry/virtualenvs/llama-index-dKXgjzWQ-py3.11/lib/python3.11/site-packages (from aiohttp<4.0.0,>=3.8.6->llama-index-core<0.11.0,>=0.10.0->llama-index) (1.4.1)\n",
      "Requirement already satisfied: multidict<7.0,>=4.5 in /home/vitali/.cache/pypoetry/virtualenvs/llama-index-dKXgjzWQ-py3.11/lib/python3.11/site-packages (from aiohttp<4.0.0,>=3.8.6->llama-index-core<0.11.0,>=0.10.0->llama-index) (6.0.5)\n",
      "Requirement already satisfied: yarl<2.0,>=1.0 in /home/vitali/.cache/pypoetry/virtualenvs/llama-index-dKXgjzWQ-py3.11/lib/python3.11/site-packages (from aiohttp<4.0.0,>=3.8.6->llama-index-core<0.11.0,>=0.10.0->llama-index) (1.9.4)\n",
      "Requirement already satisfied: soupsieve>1.2 in /home/vitali/.cache/pypoetry/virtualenvs/llama-index-dKXgjzWQ-py3.11/lib/python3.11/site-packages (from beautifulsoup4<5.0.0,>=4.12.3->llama-index-readers-file<0.2.0,>=0.1.0->llama-index) (2.5)\n",
      "Requirement already satisfied: wrapt<2,>=1.10 in /home/vitali/.cache/pypoetry/virtualenvs/llama-index-dKXgjzWQ-py3.11/lib/python3.11/site-packages (from deprecated>=1.2.9.3->llama-index-core<0.11.0,>=0.10.0->llama-index) (1.16.0)\n",
      "Requirement already satisfied: click in /home/vitali/.cache/pypoetry/virtualenvs/llama-index-dKXgjzWQ-py3.11/lib/python3.11/site-packages (from nltk<4.0.0,>=3.8.1->llama-index-core<0.11.0,>=0.10.0->llama-index) (8.1.7)\n",
      "Requirement already satisfied: joblib in /home/vitali/.cache/pypoetry/virtualenvs/llama-index-dKXgjzWQ-py3.11/lib/python3.11/site-packages (from nltk<4.0.0,>=3.8.1->llama-index-core<0.11.0,>=0.10.0->llama-index) (1.3.2)\n",
      "Requirement already satisfied: regex>=2021.8.3 in /home/vitali/.cache/pypoetry/virtualenvs/llama-index-dKXgjzWQ-py3.11/lib/python3.11/site-packages (from nltk<4.0.0,>=3.8.1->llama-index-core<0.11.0,>=0.10.0->llama-index) (2023.12.25)\n",
      "Requirement already satisfied: anyio<5,>=3.5.0 in /home/vitali/.cache/pypoetry/virtualenvs/llama-index-dKXgjzWQ-py3.11/lib/python3.11/site-packages (from openai>=1.1.0->llama-index-core<0.11.0,>=0.10.0->llama-index) (4.2.0)\n",
      "Requirement already satisfied: distro<2,>=1.7.0 in /home/vitali/.cache/pypoetry/virtualenvs/llama-index-dKXgjzWQ-py3.11/lib/python3.11/site-packages (from openai>=1.1.0->llama-index-core<0.11.0,>=0.10.0->llama-index) (1.9.0)\n",
      "Requirement already satisfied: pydantic<3,>=1.9.0 in /home/vitali/.cache/pypoetry/virtualenvs/llama-index-dKXgjzWQ-py3.11/lib/python3.11/site-packages (from openai>=1.1.0->llama-index-core<0.11.0,>=0.10.0->llama-index) (1.10.14)\n",
      "Requirement already satisfied: sniffio in /home/vitali/.cache/pypoetry/virtualenvs/llama-index-dKXgjzWQ-py3.11/lib/python3.11/site-packages (from openai>=1.1.0->llama-index-core<0.11.0,>=0.10.0->llama-index) (1.3.0)\n",
      "Requirement already satisfied: certifi in /home/vitali/.cache/pypoetry/virtualenvs/llama-index-dKXgjzWQ-py3.11/lib/python3.11/site-packages (from httpx->llama-index-core<0.11.0,>=0.10.0->llama-index) (2024.2.2)\n",
      "Requirement already satisfied: httpcore==1.* in /home/vitali/.cache/pypoetry/virtualenvs/llama-index-dKXgjzWQ-py3.11/lib/python3.11/site-packages (from httpx->llama-index-core<0.11.0,>=0.10.0->llama-index) (1.0.2)\n",
      "Requirement already satisfied: idna in /home/vitali/.cache/pypoetry/virtualenvs/llama-index-dKXgjzWQ-py3.11/lib/python3.11/site-packages (from httpx->llama-index-core<0.11.0,>=0.10.0->llama-index) (3.6)\n",
      "Requirement already satisfied: h11<0.15,>=0.13 in /home/vitali/.cache/pypoetry/virtualenvs/llama-index-dKXgjzWQ-py3.11/lib/python3.11/site-packages (from httpcore==1.*->httpx->llama-index-core<0.11.0,>=0.10.0->llama-index) (0.14.0)\n",
      "Requirement already satisfied: PyMuPDFb==1.23.22 in /home/vitali/.cache/pypoetry/virtualenvs/llama-index-dKXgjzWQ-py3.11/lib/python3.11/site-packages (from pymupdf<2.0.0,>=1.23.21->llama-index-readers-file<0.2.0,>=0.1.0->llama-index) (1.23.22)\n",
      "Requirement already satisfied: charset-normalizer<4,>=2 in /home/vitali/.cache/pypoetry/virtualenvs/llama-index-dKXgjzWQ-py3.11/lib/python3.11/site-packages (from requests>=2.31.0->llama-index-core<0.11.0,>=0.10.0->llama-index) (3.3.2)\n",
      "Requirement already satisfied: urllib3<3,>=1.21.1 in /home/vitali/.cache/pypoetry/virtualenvs/llama-index-dKXgjzWQ-py3.11/lib/python3.11/site-packages (from requests>=2.31.0->llama-index-core<0.11.0,>=0.10.0->llama-index) (2.2.0)\n",
      "Requirement already satisfied: greenlet!=0.4.17 in /home/vitali/.cache/pypoetry/virtualenvs/llama-index-dKXgjzWQ-py3.11/lib/python3.11/site-packages (from SQLAlchemy>=1.4.49->SQLAlchemy[asyncio]>=1.4.49->llama-index-core<0.11.0,>=0.10.0->llama-index) (3.0.3)\n",
      "Requirement already satisfied: mypy-extensions>=0.3.0 in /home/vitali/.cache/pypoetry/virtualenvs/llama-index-dKXgjzWQ-py3.11/lib/python3.11/site-packages (from typing-inspect>=0.8.0->llama-index-core<0.11.0,>=0.10.0->llama-index) (1.0.0)\n",
      "Requirement already satisfied: marshmallow<4.0.0,>=3.18.0 in /home/vitali/.cache/pypoetry/virtualenvs/llama-index-dKXgjzWQ-py3.11/lib/python3.11/site-packages (from dataclasses-json->llama-index-core<0.11.0,>=0.10.0->llama-index) (3.20.2)\n",
      "Requirement already satisfied: python-dateutil>=2.8.2 in /home/vitali/.cache/pypoetry/virtualenvs/llama-index-dKXgjzWQ-py3.11/lib/python3.11/site-packages (from pandas->llama-index-core<0.11.0,>=0.10.0->llama-index) (2.8.2)\n",
      "Requirement already satisfied: pytz>=2020.1 in /home/vitali/.cache/pypoetry/virtualenvs/llama-index-dKXgjzWQ-py3.11/lib/python3.11/site-packages (from pandas->llama-index-core<0.11.0,>=0.10.0->llama-index) (2024.1)\n",
      "Requirement already satisfied: tzdata>=2022.1 in /home/vitali/.cache/pypoetry/virtualenvs/llama-index-dKXgjzWQ-py3.11/lib/python3.11/site-packages (from pandas->llama-index-core<0.11.0,>=0.10.0->llama-index) (2024.1)\n",
      "Requirement already satisfied: packaging>=17.0 in /home/vitali/.cache/pypoetry/virtualenvs/llama-index-dKXgjzWQ-py3.11/lib/python3.11/site-packages (from marshmallow<4.0.0,>=3.18.0->dataclasses-json->llama-index-core<0.11.0,>=0.10.0->llama-index) (23.2)\n",
      "Requirement already satisfied: six>=1.5 in /home/vitali/.cache/pypoetry/virtualenvs/llama-index-dKXgjzWQ-py3.11/lib/python3.11/site-packages (from python-dateutil>=2.8.2->pandas->llama-index-core<0.11.0,>=0.10.0->llama-index) (1.16.0)\n"
     ]
    }
   ],
   "source": [
    "!pip install llama-index"
   ]
  },
  {
   "cell_type": "code",
   "execution_count": null,
   "metadata": {},
   "outputs": [
    {
     "ename": "ModuleNotFoundError",
     "evalue": "No module named 'llama_index.llms.mymagic'",
     "output_type": "error",
     "traceback": [
      "\u001b[0;31m---------------------------------------------------------------------------\u001b[0m",
      "\u001b[0;31mModuleNotFoundError\u001b[0m                       Traceback (most recent call last)",
      "Cell \u001b[0;32mIn[7], line 1\u001b[0m\n\u001b[0;32m----> 1\u001b[0m \u001b[38;5;28;01mfrom\u001b[39;00m \u001b[38;5;21;01mllama_index\u001b[39;00m\u001b[38;5;21;01m.\u001b[39;00m\u001b[38;5;21;01mllms\u001b[39;00m\u001b[38;5;21;01m.\u001b[39;00m\u001b[38;5;21;01mmymagic\u001b[39;00m \u001b[38;5;28;01mimport\u001b[39;00m MyMagicAI\n",
      "\u001b[0;31mModuleNotFoundError\u001b[0m: No module named 'llama_index.llms.mymagic'"
     ]
    }
   ],
   "source": [
    "from llama_index.llms.mymagic import MyMagicAI"
   ]
  },
  {
   "cell_type": "code",
   "execution_count": null,
   "metadata": {},
   "outputs": [],
   "source": [
    "llm = MyMagicAI(\n",
    "    api_key=\"your_api_key\",\n",
    "    storage_provider=\"your_storage_provider\",  # s3, gcs\n",
    "    bucket_name=\"your_bucket_name\",\n",
    "    session=\"your_session\",  # files should be located in this folder on which batch inference will be run\n",
    "    system_prompt=\"Answer the question succinctly\",\n",
    ")"
   ]
  },
  {
   "cell_type": "code",
   "execution_count": null,
   "metadata": {},
   "outputs": [],
   "source": [
    "resp = llm.complete(\n",
    "    question=\"Summarize the document!\",\n",
    "    model=\"mistral7b\",\n",
    "    max_tokens=10,  # currently we support mistral7b, llama7b, mixtral8x7b,codellama70b, llama70b, more to come...\n",
    ")"
   ]
  },
  {
   "cell_type": "code",
   "execution_count": null,
   "metadata": {},
   "outputs": [],
   "source": [
    "# The response indicated that the final output is stored in your bucket or raises an exception if the job failed\n",
    "print(resp)"
   ]
  },
  {
   "cell_type": "markdown",
   "metadata": {},
   "source": [
    "## Asynchronous Requests by using `acomplete` endpoint\n",
    "For asynchronous operations, use the following approach."
   ]
  },
  {
   "cell_type": "code",
   "execution_count": null,
   "metadata": {},
   "outputs": [],
   "source": [
    "import asyncio"
   ]
  },
  {
   "cell_type": "code",
   "execution_count": null,
   "metadata": {},
   "outputs": [],
   "source": [
    "async def main():\n",
    "    allm = MyMagicAI(\n",
    "        api_key=\"your_api_key\",\n",
    "        storage_provider=\"your_storage_provider\",\n",
    "        bucket_name=\"your_bucket_name\",\n",
    "        session=\"your_session_name\",\n",
    "        system_prompt=\"your_system_prompt\",\n",
    "    )\n",
    "    response = await allm.acomplete(\n",
    "        question=\"your_question\", model=\"mistral7b\", max_tokens=10\n",
    "    )\n",
    "\n",
    "    print(\"Async completion response:\", response)"
   ]
  },
  {
   "cell_type": "code",
   "execution_count": null,
   "metadata": {},
   "outputs": [],
   "source": [
    "asyncio.run(main())"
   ]
  }
 ],
 "metadata": {
  "kernelspec": {
   "display_name": "llama-index-dKXgjzWQ-py3.11",
   "language": "python",
   "name": "python3"
  },
  "language_info": {
   "codemirror_mode": {
    "name": "ipython",
    "version": 3
   },
   "file_extension": ".py",
   "mimetype": "text/x-python",
   "name": "python",
   "nbconvert_exporter": "python",
   "pygments_lexer": "ipython3"
  }
 },
 "nbformat": 4,
 "nbformat_minor": 2
}
