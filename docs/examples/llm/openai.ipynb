{
  "cells": [
    {
      "cell_type": "markdown",
      "id": "9fd54a32",
      "metadata": {},
      "source": [
        "<a href=\"https://colab.research.google.com/github/jerryjliu/llama_index/blob/main/docs/examples/llm/openai.ipynb\" target=\"_parent\"><img src=\"https://colab.research.google.com/assets/colab-badge.svg\" alt=\"Open In Colab\"/></a>"
      ]
    },
    {
      "cell_type": "markdown",
      "id": "081d07d2",
      "metadata": {},
      "source": [
        "If you're opening this Notebook on colab, you will probably need to install LlamaIndex 🦙."
      ]
    },
    {
      "cell_type": "code",
      "execution_count": null,
      "id": "83ea30ee",
      "metadata": {},
      "outputs": [],
      "source": [
        "!pip install llama-index"
      ]
    },
    {
      "cell_type": "markdown",
      "id": "9e3a8796-edc8-43f2-94ad-fe4fb20d70ed",
      "metadata": {
        "id": "9e3a8796-edc8-43f2-94ad-fe4fb20d70ed"
      },
      "source": [
        "# OpenAI"
      ]
    },
    {
      "cell_type": "markdown",
      "id": "b007403c-6b7a-420c-92f1-4171d05ed9bb",
      "metadata": {
        "id": "b007403c-6b7a-420c-92f1-4171d05ed9bb",
        "tags": []
      },
      "source": [
        "## Basic Usage"
      ]
    },
    {
      "cell_type": "markdown",
      "id": "8ead155e-b8bd-46f9-ab9b-28fc009361dd",
      "metadata": {
        "id": "8ead155e-b8bd-46f9-ab9b-28fc009361dd",
        "tags": []
      },
      "source": [
        "#### Call `complete` with a prompt"
      ]
    },
    {
      "cell_type": "code",
      "execution_count": null,
      "id": "60be18ae-c957-4ac2-a58a-0652e18ee6d6",
      "metadata": {
        "id": "60be18ae-c957-4ac2-a58a-0652e18ee6d6",
        "tags": []
      },
      "outputs": [],
      "source": [
        "from llama_index.llms import OpenAI\n",
        "\n",
        "resp = OpenAI().complete(\"Paul Graham is \")"
      ]
    },
    {
      "cell_type": "code",
      "execution_count": null,
      "id": "ac2cbebb-a444-4a46-9d85-b265a3483d68",
      "metadata": {
        "id": "ac2cbebb-a444-4a46-9d85-b265a3483d68",
        "outputId": "6eb45ca9-2b42-415e-f3a7-7f97a1d0790d",
        "tags": []
      },
      "outputs": [
        {
          "name": "stdout",
          "output_type": "stream",
          "text": [
            "a computer scientist, entrepreneur, and venture capitalist. He is best known as the co-founder of Y Combinator, a startup accelerator and seed capital firm. Graham has also written several influential essays on startups and entrepreneurship, which have gained a large following in the tech community. He has been involved in the founding and funding of numerous successful startups, including Reddit, Dropbox, and Airbnb. Graham is known for his insightful and often controversial opinions on various topics, including education, inequality, and the future of technology.\n"
          ]
        }
      ],
      "source": [
        "print(resp)"
      ]
    },
    {
      "cell_type": "markdown",
      "id": "14831268-f90f-499d-9d86-925dbc88292b",
      "metadata": {
        "id": "14831268-f90f-499d-9d86-925dbc88292b"
      },
      "source": [
        "#### Call `chat` with a list of messages"
      ]
    },
    {
      "cell_type": "code",
      "execution_count": null,
      "id": "bbe29574-4af1-48d5-9739-f60652b6ce6c",
      "metadata": {
        "id": "bbe29574-4af1-48d5-9739-f60652b6ce6c",
        "tags": []
      },
      "outputs": [],
      "source": [
        "from llama_index.llms import ChatMessage, OpenAI\n",
        "\n",
        "messages = [\n",
        "    ChatMessage(role=\"system\", content=\"You are a pirate with a colorful personality\"),\n",
        "    ChatMessage(role=\"user\", content=\"What is your name\"),\n",
        "]\n",
        "resp = OpenAI().chat(messages)"
      ]
    },
    {
      "cell_type": "code",
      "execution_count": null,
      "id": "9cbd550a-0264-4a11-9b2c-a08d8723a5ae",
      "metadata": {
        "id": "9cbd550a-0264-4a11-9b2c-a08d8723a5ae",
        "outputId": "ab2f4412-ebf3-41b8-9a87-8c1060ae1687",
        "tags": []
      },
      "outputs": [
        {
          "name": "stdout",
          "output_type": "stream",
          "text": [
            "assistant: Ahoy there, matey! The name be Captain Crimsonbeard, the most colorful pirate to sail the seven seas!\n"
          ]
        }
      ],
      "source": [
        "print(resp)"
      ]
    },
    {
      "cell_type": "markdown",
      "id": "2ed5e894-4597-4911-a623-591560f72b82",
      "metadata": {
        "id": "2ed5e894-4597-4911-a623-591560f72b82"
      },
      "source": [
        "## Streaming"
      ]
    },
    {
      "cell_type": "markdown",
      "id": "4cb7986f-aaed-42e2-abdd-f274f6d4fc59",
      "metadata": {
        "id": "4cb7986f-aaed-42e2-abdd-f274f6d4fc59"
      },
      "source": [
        "Using `stream_complete` endpoint"
      ]
    },
    {
      "cell_type": "code",
      "execution_count": null,
      "id": "d43f17a2-0aeb-464b-a7a7-732ba5e8ef24",
      "metadata": {
        "id": "d43f17a2-0aeb-464b-a7a7-732ba5e8ef24",
        "tags": []
      },
      "outputs": [],
      "source": [
        "from llama_index.llms import OpenAI\n",
        "\n",
        "llm = OpenAI()\n",
        "resp = llm.stream_complete(\"Paul Graham is \")"
      ]
    },
    {
      "cell_type": "code",
      "execution_count": null,
      "id": "0214e911-cf0d-489c-bc48-9bb1d8bf65d8",
      "metadata": {
        "id": "0214e911-cf0d-489c-bc48-9bb1d8bf65d8",
        "outputId": "2e7077ea-22dd-4291-b7e6-cd7144617d38",
        "tags": []
      },
      "outputs": [
        {
          "name": "stdout",
          "output_type": "stream",
          "text": [
            "a computer scientist, entrepreneur, and venture capitalist. He is best known as the co-founder of the startup accelerator Y Combinator. Graham has also written several influential essays on startups and entrepreneurship, which have gained a large following in the tech community. He has been involved in the founding and funding of numerous successful startups, including Reddit, Dropbox, and Airbnb. Graham is known for his insightful and often controversial opinions on various topics, including education, inequality, and the future of technology."
          ]
        }
      ],
      "source": [
        "for r in resp:\n",
        "    print(r.delta, end=\"\")"
      ]
    },
    {
      "cell_type": "markdown",
      "id": "40350dd8-3f50-4a2f-8545-5723942039bb",
      "metadata": {
        "id": "40350dd8-3f50-4a2f-8545-5723942039bb"
      },
      "source": [
        "Using `stream_chat` endpoint"
      ]
    },
    {
      "cell_type": "code",
      "execution_count": null,
      "id": "bc636e65-a67b-4dcd-ac60-b25abc9d8dbd",
      "metadata": {
        "id": "bc636e65-a67b-4dcd-ac60-b25abc9d8dbd",
        "tags": []
      },
      "outputs": [],
      "source": [
        "from llama_index.llms import OpenAI\n",
        "\n",
        "llm = OpenAI(stream=True)\n",
        "messages = [\n",
        "    ChatMessage(role=\"system\", content=\"You are a pirate with a colorful personality\"),\n",
        "    ChatMessage(role=\"user\", content=\"What is your name\"),\n",
        "]\n",
        "resp = llm.stream_chat(messages)"
      ]
    },
    {
      "cell_type": "code",
      "execution_count": null,
      "id": "4475a6bc-1051-4287-abce-ba83324aeb9e",
      "metadata": {
        "id": "4475a6bc-1051-4287-abce-ba83324aeb9e",
        "outputId": "03b900bf-a638-4379-c24a-c0595363926a",
        "tags": []
      },
      "outputs": [
        {
          "name": "stdout",
          "output_type": "stream",
          "text": [
            "Ahoy there, matey! The name be Captain Crimsonbeard, the most colorful pirate to sail the seven seas!"
          ]
        }
      ],
      "source": [
        "for r in resp:\n",
        "    print(r.delta, end=\"\")"
      ]
    },
    {
      "cell_type": "markdown",
      "id": "009d3f1c-ef35-4126-ae82-0b97adb746e3",
      "metadata": {
        "id": "009d3f1c-ef35-4126-ae82-0b97adb746e3"
      },
      "source": [
        "## Configure Model"
      ]
    },
    {
      "cell_type": "code",
      "execution_count": null,
      "id": "e973e3d1-a3c9-43b9-bee1-af3e57946ac3",
      "metadata": {
        "id": "e973e3d1-a3c9-43b9-bee1-af3e57946ac3",
        "tags": []
      },
      "outputs": [],
      "source": [
        "from llama_index.llms import OpenAI\n",
        "\n",
        "llm = OpenAI(model=\"text-davinci-003\")"
      ]
    },
    {
      "cell_type": "code",
      "execution_count": null,
      "id": "e2c9bcf6-c950-4dfc-abdc-598d5bdedf40",
      "metadata": {
        "id": "e2c9bcf6-c950-4dfc-abdc-598d5bdedf40",
        "tags": []
      },
      "outputs": [],
      "source": [
        "resp = llm.complete(\"Paul Graham is \")"
      ]
    },
    {
      "cell_type": "code",
      "execution_count": null,
      "id": "2edc85ca-df17-4774-a3ea-e80109fa1811",
      "metadata": {
        "id": "2edc85ca-df17-4774-a3ea-e80109fa1811",
        "outputId": "f593bb22-0a00-4546-c844-3ae75b243fcc",
        "tags": []
      },
      "outputs": [
        {
          "name": "stdout",
          "output_type": "stream",
          "text": [
            "\n",
            "\n",
            "Paul Graham is an entrepreneur, venture capitalist, and computer scientist. He is best known for his work in the startup world, having co-founded the accelerator Y Combinator and investing in hundreds of startups. He is also a prolific writer, having written several books on topics such as startups, programming, and technology. He is a frequent speaker at conferences and universities, and his essays have been widely read and discussed.\n"
          ]
        }
      ],
      "source": [
        "print(resp)"
      ]
    },
    {
      "cell_type": "code",
      "execution_count": null,
      "id": "026fdb77-b61f-4571-8eaf-4a51e8415458",
      "metadata": {
        "id": "026fdb77-b61f-4571-8eaf-4a51e8415458",
        "tags": []
      },
      "outputs": [],
      "source": [
        "messages = [\n",
        "    ChatMessage(role=\"system\", content=\"You are a pirate with a colorful personality\"),\n",
        "    ChatMessage(role=\"user\", content=\"What is your name\"),\n",
        "]\n",
        "resp = llm.chat(messages)"
      ]
    },
    {
      "cell_type": "code",
      "execution_count": null,
      "id": "2286a16c-188b-437f-a1a3-4efe299b759d",
      "metadata": {
        "id": "2286a16c-188b-437f-a1a3-4efe299b759d",
        "outputId": "d0e7b0db-0959-4fe8-e2a3-e97a63a6f25f",
        "tags": []
      },
      "outputs": [
        {
          "name": "stdout",
          "output_type": "stream",
          "text": [
            "assistant: \n",
            "My name is Captain Jack Sparrow.\n"
          ]
        }
      ],
      "source": [
        "print(resp)"
      ]
    },
    {
      "cell_type": "markdown",
      "id": "90f07f7e-927f-47a2-9797-de5a86d61e1f",
      "metadata": {
        "id": "90f07f7e-927f-47a2-9797-de5a86d61e1f"
      },
      "source": [
        "## Function Calling"
      ]
    },
    {
      "cell_type": "code",
      "execution_count": null,
      "id": "212bb2d2-2bed-4188-85ad-3cd497d4b864",
      "metadata": {
        "id": "212bb2d2-2bed-4188-85ad-3cd497d4b864",
        "tags": []
      },
      "outputs": [],
      "source": [
        "from pydantic import BaseModel\n",
        "from llama_index.llms.openai_utils import to_openai_function\n",
        "\n",
        "\n",
        "class Song(BaseModel):\n",
        "    \"\"\"A song with name and artist\"\"\"\n",
        "\n",
        "    name: str\n",
        "    artist: str\n",
        "\n",
        "\n",
        "song_fn = to_openai_function(Song)"
      ]
    },
    {
      "cell_type": "code",
      "execution_count": null,
      "id": "fdacb943-bab8-442a-a6db-aee935658340",
      "metadata": {
        "id": "fdacb943-bab8-442a-a6db-aee935658340",
        "tags": []
      },
      "outputs": [],
      "source": [
        "from llama_index.llms import OpenAI\n",
        "\n",
        "response = OpenAI().complete(\"Generate a song\", functions=[song_fn])\n",
        "function_call = response.additional_kwargs[\"function_call\"]\n",
        "print(function_call)"
      ]
    },
    {
      "cell_type": "markdown",
      "id": "df5fa1ab-f598-46da-80f3-f6af5dd2fe83",
      "metadata": {
        "id": "df5fa1ab-f598-46da-80f3-f6af5dd2fe83"
      },
      "source": [
        "## Async"
      ]
    },
    {
      "cell_type": "code",
      "execution_count": null,
      "id": "3e088b90-12b6-4211-a9ca-696e9897e9ae",
      "metadata": {
        "id": "3e088b90-12b6-4211-a9ca-696e9897e9ae",
        "tags": []
      },
      "outputs": [],
      "source": [
        "from llama_index.llms import OpenAI\n",
        "\n",
        "llm = OpenAI(model=\"text-davinci-003\")"
      ]
    },
    {
      "cell_type": "code",
      "execution_count": null,
      "id": "8f649683-896a-439e-b14b-e5df5d803b82",
      "metadata": {
        "id": "8f649683-896a-439e-b14b-e5df5d803b82",
        "tags": []
      },
      "outputs": [],
      "source": [
        "resp = await llm.acomplete(\"Paul Graham is \")"
      ]
    },
    {
      "cell_type": "code",
      "execution_count": null,
      "id": "d05d8b7c-07b3-4ce8-9a8c-fcd1e830316c",
      "metadata": {
        "id": "d05d8b7c-07b3-4ce8-9a8c-fcd1e830316c",
        "outputId": "dc61dc88-3b32-40de-b4f2-d75e47444ef1",
        "tags": []
      },
      "outputs": [
        {
          "name": "stdout",
          "output_type": "stream",
          "text": [
            "\n",
            "\n",
            "Paul Graham is an entrepreneur, venture capitalist, and computer scientist. He is best known for his work in the startup world, having co-founded the accelerator Y Combinator and investing in hundreds of startups. He is also a prolific writer, having written several books on topics such as startups, programming, and technology. He is a frequent speaker at conferences and universities, and his essays have been widely read and discussed.\n"
          ]
        }
      ],
      "source": [
        "print(resp)"
      ]
    },
    {
      "cell_type": "code",
      "execution_count": null,
      "id": "abc72d09-3bcd-4d48-9bb7-0920c56310c1",
      "metadata": {
        "id": "abc72d09-3bcd-4d48-9bb7-0920c56310c1",
        "tags": []
      },
      "outputs": [],
      "source": [
        "resp = await llm.astream_complete(\"Paul Graham is \")"
      ]
    },
    {
      "cell_type": "code",
      "execution_count": null,
      "id": "b28d7a06-1518-4ec0-b3cc-6364395b3561",
      "metadata": {
        "id": "b28d7a06-1518-4ec0-b3cc-6364395b3561",
        "outputId": "56575b3e-0526-4528-fd00-de0c5c06409d",
        "tags": []
      },
      "outputs": [
        {
          "name": "stdout",
          "output_type": "stream",
          "text": [
            "\n",
            "\n",
            "Paul Graham is an entrepreneur, venture capitalist, and computer scientist. He is best known for his work in the startup world, having co-founded the accelerator Y Combinator and investing in hundreds of startups. He is also a prolific writer, having written several books on topics such as startups, programming, and technology. He is a frequent speaker at conferences and universities, and his essays have been widely read and discussed."
          ]
        }
      ],
      "source": [
        "async for delta in resp:\n",
        "    print(delta.delta, end=\"\")"
      ]
    },
    {
      "cell_type": "markdown",
      "id": "a2782f06",
      "metadata": {
        "id": "a2782f06"
      },
      "source": [
        "## Set API Key at a per-instance level\n",
        "If desired, you can have separate LLM instances use separate API keys."
      ]
    },
    {
      "cell_type": "code",
      "execution_count": null,
      "id": "015c2d39",
      "metadata": {
        "id": "015c2d39",
        "outputId": "ad5fb498-9eff-4801-b955-be6f2e27269c"
      },
      "outputs": [
        {
          "ename": "ValueError",
          "evalue": "Invalid OpenAI API key.\nAPI key should be of the format: \"sk-\" followed by 48 alphanumeric characters.\n",
          "output_type": "error",
          "traceback": [
            "\u001b[0;31m---------------------------------------------------------------------------\u001b[0m",
            "\u001b[0;31mValueError\u001b[0m                                Traceback (most recent call last)",
            "Cell \u001b[0;32mIn[2], line 3\u001b[0m\n\u001b[1;32m      1\u001b[0m \u001b[39mfrom\u001b[39;00m \u001b[39mllama_index\u001b[39;00m\u001b[39m.\u001b[39;00m\u001b[39mllms\u001b[39;00m \u001b[39mimport\u001b[39;00m OpenAI\n\u001b[0;32m----> 3\u001b[0m llm \u001b[39m=\u001b[39m OpenAI(model\u001b[39m=\u001b[39;49m\u001b[39m\"\u001b[39;49m\u001b[39mtext-davinci-003\u001b[39;49m\u001b[39m\"\u001b[39;49m, api_key\u001b[39m=\u001b[39;49m\u001b[39m\"\u001b[39;49m\u001b[39mBAD_KEY\u001b[39;49m\u001b[39m\"\u001b[39;49m)\n\u001b[1;32m      4\u001b[0m resp \u001b[39m=\u001b[39m OpenAI()\u001b[39m.\u001b[39mcomplete(\u001b[39m\"\u001b[39m\u001b[39mPaul Graham is \u001b[39m\u001b[39m\"\u001b[39m)\n\u001b[1;32m      5\u001b[0m \u001b[39mprint\u001b[39m(resp)\n",
            "File \u001b[0;32m/workspaces/llama_index/llama_index/llms/openai.py:51\u001b[0m, in \u001b[0;36mOpenAI.__init__\u001b[0;34m(self, model, temperature, max_tokens, additional_kwargs, max_retries, api_key, callback_manager, **kwargs)\u001b[0m\n\u001b[1;32m     40\u001b[0m \u001b[39mdef\u001b[39;00m \u001b[39m__init__\u001b[39m(\n\u001b[1;32m     41\u001b[0m     \u001b[39mself\u001b[39m,\n\u001b[1;32m     42\u001b[0m     model: \u001b[39mstr\u001b[39m \u001b[39m=\u001b[39m \u001b[39m\"\u001b[39m\u001b[39mgpt-3.5-turbo\u001b[39m\u001b[39m\"\u001b[39m,\n\u001b[0;32m   (...)\u001b[0m\n\u001b[1;32m     49\u001b[0m     \u001b[39m*\u001b[39m\u001b[39m*\u001b[39mkwargs: Any,\n\u001b[1;32m     50\u001b[0m ) \u001b[39m-\u001b[39m\u001b[39m>\u001b[39m \u001b[39mNone\u001b[39;00m:\n\u001b[0;32m---> 51\u001b[0m     validate_openai_api_key(\n\u001b[1;32m     52\u001b[0m         api_key, kwargs\u001b[39m.\u001b[39;49mget(\u001b[39m\"\u001b[39;49m\u001b[39mapi_type\u001b[39;49m\u001b[39m\"\u001b[39;49m, \u001b[39mNone\u001b[39;49;00m)\n\u001b[1;32m     53\u001b[0m     )\n\u001b[1;32m     55\u001b[0m     \u001b[39mself\u001b[39m\u001b[39m.\u001b[39mmodel \u001b[39m=\u001b[39m model\n\u001b[1;32m     56\u001b[0m     \u001b[39mself\u001b[39m\u001b[39m.\u001b[39mtemperature \u001b[39m=\u001b[39m temperature\n",
            "File \u001b[0;32m/workspaces/llama_index/llama_index/llms/openai_utils.py:272\u001b[0m, in \u001b[0;36mvalidate_openai_api_key\u001b[0;34m(api_key, api_type)\u001b[0m\n\u001b[1;32m    268\u001b[0m     \u001b[39mraise\u001b[39;00m \u001b[39mValueError\u001b[39;00m(MISSING_API_KEY_ERROR_MESSAGE)\n\u001b[1;32m    269\u001b[0m \u001b[39melif\u001b[39;00m openai_api_type \u001b[39m==\u001b[39m \u001b[39m\"\u001b[39m\u001b[39mopen_ai\u001b[39m\u001b[39m\"\u001b[39m \u001b[39mand\u001b[39;00m \u001b[39mnot\u001b[39;00m OPENAI_API_KEY_FORMAT\u001b[39m.\u001b[39msearch(\n\u001b[1;32m    270\u001b[0m     openai_api_key\n\u001b[1;32m    271\u001b[0m ):\n\u001b[0;32m--> 272\u001b[0m     \u001b[39mraise\u001b[39;00m \u001b[39mValueError\u001b[39;00m(INVALID_API_KEY_ERROR_MESSAGE)\n",
            "\u001b[0;31mValueError\u001b[0m: Invalid OpenAI API key.\nAPI key should be of the format: \"sk-\" followed by 48 alphanumeric characters.\n"
          ]
        }
      ],
      "source": [
        "from llama_index.llms import OpenAI\n",
        "\n",
        "llm = OpenAI(model=\"text-davinci-003\", api_key=\"BAD_KEY\")\n",
        "resp = OpenAI().complete(\"Paul Graham is \")\n",
        "print(resp)"
      ]
    }
  ],
  "metadata": {
    "colab": {
      "provenance": []
    },
    "kernelspec": {
      "display_name": "Python 3 (ipykernel)",
      "language": "python",
      "name": "python3"
    },
    "language_info": {
      "codemirror_mode": {
        "name": "ipython",
        "version": 3
      },
      "file_extension": ".py",
      "mimetype": "text/x-python",
      "name": "python",
      "nbconvert_exporter": "python",
      "pygments_lexer": "ipython3",
      "version": "3.10.12"
    }
  },
  "nbformat": 4,
  "nbformat_minor": 5
}
