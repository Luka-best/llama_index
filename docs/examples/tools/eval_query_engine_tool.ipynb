{
 "cells": [
  {
   "attachments": {},
   "cell_type": "markdown",
   "id": "6b0186a4",
   "metadata": {},
   "source": [
    "<a href=\"https://colab.research.google.com/github/run-llama/llama_index/blob/main/docs/examples/tools/eval_query_engine_tool.ipynb\" target=\"_parent\"><img src=\"https://colab.research.google.com/assets/colab-badge.svg\" alt=\"Open In Colab\"/></a>"
   ]
  },
  {
   "cell_type": "markdown",
   "id": "b50c4af8-fec3-4396-860a-1322089d76cb",
   "metadata": {},
   "source": [
    "# Evaluation Query Engine Tool\n",
    "\n",
    "In this section we will show you how you can use an `EvalQueryEngineTool` with an agent. Some reasons you may want to use a `EvalQueryEngineTool`:\n",
    "1. Use specific kind of evaluation for a tool, and not just the agent's reasoning\n",
    "2. Use a different LLM for evaluating tool responses than the agent LLM\n",
    "\n",
    "An `EvalQueryEngineTool` is built on top of the `QueryEngineTool`. Along with wrapping an existing [query engine](https://docs.llamaindex.ai/en/stable/module_guides/deploying/query_engine/root.html), it also must be given an existing [evaluator](https://docs.llamaindex.ai/en/stable/examples/evaluation/answer_and_context_relevancy.html) to evaluate the responses of that query engine.\n"
   ]
  },
  {
   "cell_type": "markdown",
   "id": "db402a8b-90d6-4e1d-8df6-347c54624f26",
   "metadata": {},
   "source": [
    "## Install Dependencies"
   ]
  },
  {
   "cell_type": "code",
   "execution_count": null,
   "id": "dd31aff7",
   "metadata": {},
   "outputs": [],
   "source": [
    "%pip install llama-index-embeddings-huggingface\n",
    "%pip install llama-index-llms-openai"
   ]
  },
  {
   "cell_type": "markdown",
   "id": "7603dec1",
   "metadata": {},
   "source": [
    "## Initialize and Set LLM and Local Embedding Model\n"
   ]
  },
  {
   "cell_type": "code",
   "execution_count": null,
   "id": "05fd9050",
   "metadata": {},
   "outputs": [],
   "source": [
    "from llama_index.core.settings import Settings\n",
    "from llama_index.embeddings.huggingface import HuggingFaceEmbedding\n",
    "from llama_index.llms.openai import OpenAI\n",
    "\n",
    "Settings.embed_model = HuggingFaceEmbedding(\n",
    "    model_name=\"BAAI/bge-small-en-v1.5\"\n",
    ")\n",
    "Settings.llm = OpenAI()"
   ]
  },
  {
   "cell_type": "markdown",
   "id": "6c6bdb82",
   "metadata": {},
   "source": [
    "## Download and Index Data\n",
    "This is something we are donig for the sake of this demo. In production environments, data stores and indexes should already exist and not be created on the fly."
   ]
  },
  {
   "cell_type": "markdown",
   "id": "64df0568",
   "metadata": {},
   "source": [
    "### Create Storage Contexts"
   ]
  },
  {
   "cell_type": "code",
   "execution_count": null,
   "id": "91618236-54d3-4783-86b7-7b7554efeed1",
   "metadata": {},
   "outputs": [],
   "source": [
    "from llama_index.core import (\n",
    "    StorageContext,\n",
    "    load_index_from_storage,\n",
    ")\n",
    "\n",
    "try:\n",
    "    storage_context = StorageContext.from_defaults(\n",
    "        persist_dir=\"./storage/lyft\",\n",
    "    )\n",
    "    lyft_index = load_index_from_storage(storage_context)\n",
    "\n",
    "    storage_context = StorageContext.from_defaults(\n",
    "        persist_dir=\"./storage/uber\"\n",
    "    )\n",
    "    uber_index = load_index_from_storage(storage_context)\n",
    "\n",
    "    index_loaded = True\n",
    "except:\n",
    "    index_loaded = False"
   ]
  },
  {
   "attachments": {},
   "cell_type": "markdown",
   "id": "6a79cbc9",
   "metadata": {},
   "source": [
    "Download Data"
   ]
  },
  {
   "cell_type": "code",
   "execution_count": null,
   "id": "36d80144",
   "metadata": {},
   "outputs": [],
   "source": [
    "!mkdir -p 'data/10k/'\n",
    "!wget 'https://raw.githubusercontent.com/run-llama/llama_index/main/docs/examples/data/10k/uber_2021.pdf' -O 'data/10k/uber_2021.pdf'\n",
    "!wget 'https://raw.githubusercontent.com/run-llama/llama_index/main/docs/examples/data/10k/lyft_2021.pdf' -O 'data/10k/lyft_2021.pdf'"
   ]
  },
  {
   "cell_type": "markdown",
   "id": "4f801ac5",
   "metadata": {},
   "source": [
    "### Load Data"
   ]
  },
  {
   "cell_type": "code",
   "execution_count": null,
   "id": "d3d0bb8c-16c8-4946-a9d8-59528cf3952a",
   "metadata": {},
   "outputs": [],
   "source": [
    "from llama_index.core import SimpleDirectoryReader, VectorStoreIndex\n",
    "\n",
    "if not index_loaded:\n",
    "    # load data\n",
    "    lyft_docs = SimpleDirectoryReader(\n",
    "        input_files=[\"./data/10k/lyft_2021.pdf\"]\n",
    "    ).load_data()\n",
    "    uber_docs = SimpleDirectoryReader(\n",
    "        input_files=[\"./data/10k/uber_2021.pdf\"]\n",
    "    ).load_data()\n",
    "\n",
    "    # build index\n",
    "    lyft_index = VectorStoreIndex.from_documents(lyft_docs)\n",
    "    uber_index = VectorStoreIndex.from_documents(uber_docs)\n",
    "\n",
    "    # persist index\n",
    "    lyft_index.storage_context.persist(persist_dir=\"./storage/lyft\")\n",
    "    uber_index.storage_context.persist(persist_dir=\"./storage/uber\")"
   ]
  },
  {
   "cell_type": "markdown",
   "id": "ccb89178",
   "metadata": {},
   "source": [
    "## Create Query Engines"
   ]
  },
  {
   "cell_type": "code",
   "execution_count": null,
   "id": "31892898-a2dc-43c8-812a-3442feb2108d",
   "metadata": {},
   "outputs": [],
   "source": [
    "lyft_engine = lyft_index.as_query_engine(similarity_top_k=3)\n",
    "uber_engine = uber_index.as_query_engine(similarity_top_k=3)"
   ]
  },
  {
   "cell_type": "markdown",
   "id": "880c2007",
   "metadata": {},
   "source": [
    "## Create Evaluator"
   ]
  },
  {
   "cell_type": "code",
   "execution_count": null,
   "id": "911235b3",
   "metadata": {},
   "outputs": [],
   "source": [
    "from llama_index.core.evaluation import RelevancyEvaluator\n",
    "\n",
    "evaluator = RelevancyEvaluator()"
   ]
  },
  {
   "cell_type": "markdown",
   "id": "60c542c1",
   "metadata": {},
   "source": [
    "## Create Query Engine Tools\n",
    "\n",
    "For demonstration purposes, we are setting tool descriptions to \"force\" the llm to choose `tool_1` first so that we can control the outcome and force evaluation to fail."
   ]
  },
  {
   "cell_type": "code",
   "execution_count": null,
   "id": "f9f3158a-7647-4442-8de1-4db80723b4d2",
   "metadata": {},
   "outputs": [],
   "source": [
    "from llama_index.core.tools import EvalQueryEngineTool, ToolMetadata\n",
    "\n",
    "query_engine_tools = [\n",
    "    EvalQueryEngineTool(\n",
    "        evaluator=evaluator,\n",
    "        query_engine=lyft_engine,\n",
    "        metadata=ToolMetadata(\n",
    "            name=\"tool_1\",\n",
    "            description=(\n",
    "                \"Provides information about financials for year 2021. Use this tool first\"\n",
    "                \"Use a detailed plain text question as input to the tool.\"\n",
    "            ),\n",
    "        ),\n",
    "    ),\n",
    "    EvalQueryEngineTool(\n",
    "        evaluator=evaluator,\n",
    "        query_engine=uber_engine,\n",
    "        metadata=ToolMetadata(\n",
    "            name=\"tool_2\",\n",
    "            description=(\n",
    "                \"Provides information about financials for year 2021. Use this tool if the first one does not provide data.\"\n",
    "                \"Use a detailed plain text question as input to the tool.\"\n",
    "            ),\n",
    "        ),\n",
    "    ),\n",
    "]"
   ]
  },
  {
   "cell_type": "markdown",
   "id": "275c01b1-8dce-4216-9203-1e961b7fc313",
   "metadata": {},
   "source": [
    "## Setup ReAct Agent"
   ]
  },
  {
   "cell_type": "code",
   "execution_count": null,
   "id": "ded93297-fee8-4329-bf37-cf77e87621ae",
   "metadata": {},
   "outputs": [],
   "source": [
    "from llama_index.core.agent import ReActAgent\n",
    "\n",
    "agent = ReActAgent.from_tools(query_engine_tools, verbose=True)"
   ]
  },
  {
   "cell_type": "markdown",
   "id": "699ee1bb",
   "metadata": {},
   "source": [
    "## Query Engine Fails Evaluation\n",
    "\n",
    "For demonstration purposes, we will \"force\" the agent to choose the wrong tool first so that we can observe the effect of the `EvalQueryEngineTool` when evaluation fails. As mentioned earlier, we have used tool descriptions to force this scenario.\n",
    "\n",
    "You can also try specifying the `tool_choice` argument when calling `chat`. We will pass `tool_1` as the `tool_choice`, which contains Lyft financials, and ask a question about Uber financials.\n",
    "\n",
    "This is what we should expect to happen:\n",
    "1. The agent will use the `tool_1` tool first, which contains the wrong financials, as we have instructed it to do so\n",
    "2. The `EvalQueryEngineTool` will evaluate the response of the query engine using its evaluator\n",
    "3. The query engine output will fail evaluation because it contains Lyft's financials and not Uber's\n",
    "4. The tool will form a response that informs the agent that the tool could not be used, giving a reason\n",
    "5. The agent will fallback to the second tool, being `uber_10k`\n",
    "6. The query engine output of the second tool will pass evaluation because it contains Uber's financials\n",
    "6. The agent will respond with an answer"
   ]
  },
  {
   "cell_type": "code",
   "execution_count": null,
   "id": "70a82471-9226-42ad-bd8a-aebde3530d95",
   "metadata": {},
   "outputs": [
    {
     "name": "stdout",
     "output_type": "stream",
     "text": [
      "\u001b[1;3;38;5;200mThought: I need to use a tool to help me answer the question.\n",
      "Action: tool_1\n",
      "Action Input: {'input': \"What was Uber's revenue growth in 2021?\"}\n",
      "\u001b[0mquery=\"What was Uber's revenue growth in 2021?\" contexts=['Revenue per Active Rider reached an all-time high in the three months ended December 31, 2021, increasingcompared\\n to the three months ended September 30, 2021. This was driven by an increase in ride frequency as well as a shift toward higher revenue rides such as airportrides,\\n reflecting the increased travel experienced in the fourth quarter in 2021 nationwide. Revenue per Active Rider also benefited from revenues from licensing and dataaccess agreements, beg\\ninning in the second quarter of 2021.Critical Accounting Policies and Estimates\\nOur\\n consolidated  financial  statements  and  the  related  notes  thereto  included  elsewhere  in  this  Annual  Report  on  Form  10-K  are  prepared  in  accordance  withGAAP.\\n The  preparation  of  consolidated  financial  statements  also  requires  us  to  make  estimates  and  assumptions  that  affect  the  reported  amounts  of  assets,  liabilities,revenue,\\n costs and expenses and related disclosures. We base our estimates on historical experience and on various other assumptions that we believe to be reasonableunder\\n the circumstances. Actual results could differ significantly from our estimates. To the extent that there are differences between our estimates and actual results, ourfuture financial st\\natement presentation, financial condition, results of operations and cash flows will be affected.We\\n believe that the accounting policies described below involve a significant degree of judgment and complexity. Accordingly, we believe these are the mostcritical\\n to aid in fully understanding and evaluating our consolidated financial condition and results of operations. For further information, see Note 2 of the notes to ourconsolidated financia\\nl statements included elsewhere in this Annual Report on Form 10-K.Revenue Recognition\\nRevenues from Contracts with Customers (ASC 606)\\nWe\\n generate substantially all our revenue from our ridesharing marketplace that connects drivers and riders. We recognize revenue from fees paid by drivers foruse\\n of our Lyft Platform offerings in accordance with ASC 606 as described in Note 2 of the notes to our consolidated financial statements. Drivers enter into terms ofservice (“ToS”) with us in orde\\nr to use our Lyft Driver App.58', 'second quarter of 2021. These increases were offset by investments in driver supply by increasing driver incentives recorded as a reduction to revenue by $942.9 million in2021 as compared to the prior y\\near as rider demand outpaced driver supply during certain periods of the pandemic recovery in 2021. Revenue in 2020 was also higher in thefirst quarter of 2020 prio\\nr to the implementation of shelter-in-place orders and other travel restrictions across North America beginning March 2020.We\\n expect to see continued recovery in demand for our platform and the resulting positive impacts on revenue as there are more widespread immunity levels,more\\n communities  reopen  and  other  restrictive  travel  and  social  distancing  measures  in  response  to  COVID-19  are  eased. However,  we  cannot  predict  the  impact  ofCOVID variants and the longer term \\nimpact of the pandemic on consumer behavior.Cost of Revenue\\nYear Ended December 31,\\n2020 to 2021 %Change\\n2019 to 2020 %Change\\n2021 2020 2019 (in thousands, except for percentages)\\nCost of revenue\\n$ 1,649,532 $ 1,447,516 $ 2,176,469 14 %(33) %Cost\\n of revenue increased $202.0 million, or 14%, in 2021 as compared to the prior year. The increase was due primarily to an increase of $160.6 million ininsurance costs driven by inc\\nreased rider demand. Insurance costs were also impacted by (i) an increase of $46.2 million attributable to changes in estimates to the liabilitiesfor\\n insurance required by regulatory agencies, (ii) a $20.2 million increase in transaction costs related to the reinsurance of certain legacy auto insurance liabilities in thesecond quarter of\\n 2021, and (iii) a $62.5 million decrease in transaction costs related to the transfer of certain legacy auto insurance liabilities from the first quarter of 2020.In\\n addition, there was an increase of $48.4 million in transaction fees and $14.9 million in bikes and scooter related costs driven by the increased ride volume as a result ofincreased\\n demand  as  recovery  from  the  pandemic  continued.  These  increases  were  partially  offset  by  a  $31.4  million  decrease  in  costs  related  to  Flexdrive  and  a$13.4 million decrease in web\\n-hosting fees to support our platform.Operations and Support\\nYear Ended December 31,\\n2020 to 2021 %Change\\n2019 to 2020 %Change\\n2021 2020 2019 (in thousands, except for percentages)\\nOperations and support\\n$ 402,233 $ 453,963 $ 636,116 (11) %(29) %Operations\\n and  support  expenses  decreased  $51.7  million,  or  11%,  in  2021  as  compared  to  the  prior  year.  The  decrease  was  primarily  due  to  a  reduction  of$18.3\\n million in driver onboarding costs and rider and driver support costs and a reduction of $14.7 million in personnel-related costs. There was also a $13.1 milliondecrease in\\n costs related to Flexdrive and a $6.5 million net decrease related to costs from the restructuring event in the second quarter of 2020, consisting of severance andbenefits costs, lease t\\nermination costs and a stock-based compensation benefit which did not recur in 2021.Research and Development\\nYear Ended December 31,\\n2020 to 2021 %Change\\n2019 to 2020 %Change\\n2021 2020 2019 (in thousands, except for percentages)\\nResearch and development\\n$ 911,946 $ 909,126 $ 1,505,640 — %(40) %Research\\n and development expenses increased $2.8 million in 2021. The slight increase was due to a $51.6 million increase in stock-based compensation and a$25.4\\n million benefit from the restructuring event in the second quarter of 2020 consisting of a stock-based compensation benefit and severance and benefits costs whichdid\\n not recur in 2021. These increases were offset by a $37.5 million decrease in personnel-related costs and a $4.6 million decrease in autonomous vehicle research costswhich were\\n64', 'Light Vehicle Rider and Lyft Rentals Renter IncentivesIncentives offered to L\\night Vehicle riders and Lyft Rentals renters were not material for the years ended December 31, 2021 and 2020.For\\n the years ended December 31, 2021, 2020 and 2019, in relation to the driver, rider, Light Vehicle riders and Lyft Rentals renters incentive programs, theCompany\\n recorded $1.3 billion, $390.8 million and $560.3 million as a reduction to revenue and $64.7 million, $135.0 million and $381.5 million as sales and marketingexpense, respectively.\\nRefunds\\nFrom\\n time  to  time  the  Company  issues  credits  or  refunds  to  riders  unsatisfied  by  the  level  of  service  provided  by  the  driver.  There  is  no  legal  obligation  toremunerate\\n such riders nor does the Company issue such credits or refunds to riders on behalf of the drivers. The Company accounts for credits or refunds, which are notrecoverable\\n from the drivers as sales and marketing expenses when incurred. For the years ended December 31, 2021, 2020 and 2019, rider refunds were $19.1 million,$18.8\\n million and $33.9 million, respectively. The Company accounts for credits and refunds issued to Light Vehicle riders as cost of revenue and was $6.5 million for theyear ended December 31, 2021. For the y\\nears ended December 31, 2020 and 2019, refunds issued to Light Vehicle riders were not material.Cost of Revenue\\nCost\\n of  revenue  consists  of  costs  directly  related  to  revenue  generating  transactions  through  the  Company’s  multimodal  platform  which  primarily  includesinsurance\\n costs, payment processing charges, and other costs. Insurance costs consist of insurance generally required under TNC and city regulations for ridesharing andbike\\n and scooter rentals and also includes occupational hazard insurance for drivers. Payment processing charges include merchant fees, chargebacks and failed charges.Other\\n costs  included  in  cost  of  revenue  are  hosting  and  platform-related  technology  costs,  vehicle  lease  expenses,  personnel-related  compensation  costs,  depreciation,amortization of technology-relate\\nd intangible assets, asset write-off charges, and gains and losses related to the sale of vehicles.Operations and Support\\nOperations\\n and support expenses primarily consist of personnel-related compensation costs of local operations teams and teams who provide phone, email andchat support to\\n users, bike and scooter fleet operations support costs, driver background checks and onboarding costs, facility cost, certain car rental fleet support costs, andfees\\n paid to third-parties providing operations support. Bike and scooter fleet operations support costs include general repairs and maintenance, and other customer supportactivities related to repositioni\\nng bikes and scooters for rider convenience, cleaning and safety checks.Research and Development\\nResearch\\n and  development  expenses  primarily  consist  of  personnel-related  compensation  costs  and  facilities  costs.  Such  expenses  include  costs  related  to  theCompany’s autonomous vehicle te\\nchnology initiatives. Research and development costs are expensed as incurred.Sales and Marketing\\nSales\\n and marketing expenses primarily consist of rider incentives, personnel-related  compensation costs, driver incentives for referring new drivers or riders,advertising\\n expenses, rider refunds and marketing partnerships with third parties. Sales and marketing costs are expensed as incurred. Advertising expenses were $145.4million, $102.5 million and $188.3 m\\nillion, respectively, for the years ended December 31, 2021, 2020 and 2019.General and Administrative\\nGeneral\\n and  administrative  expenses  primarily  consist  of  personnel-related  compensation  costs,  professional  services  fees,  certain  insurance  costs  that  aregenerally\\n not  required  under  TNC  regulations,  certain  loss  contingency  expenses  including  legal  accruals  and  settlements,  insurance  claims  administrative  fees,  policyspend, depreciation, fac\\nility costs, and other corporate costs. General and administrative expenses are expensed as incurred.Stock-Based Compensation\\nThe Company incurs stock-based comp\\nensation expense primarily from RSUs, PSUs, stock options, and ESPP purchase rights.The\\n Company estimates the fair value of stock options granted to employees, directors, and consultants and ESPP purchase rights using the Black-Scholes option-pricing model.'] response='The provided context does not mention Uber, so I cannot answer this question from the provided context.' passing=False feedback='NO' score=0.0 pairwise_source=None invalid_result=False invalid_reason=None\n",
      "\u001b[1;3;34mObservation: Could not use tool tool_1 because it failed evaluation.\n",
      "Reason: NO\n",
      "\u001b[0m\u001b[1;3;38;5;200mThought: I need to use a tool to help me answer the question.\n",
      "Action: tool_2\n",
      "Action Input: {'input': \"What was Uber's revenue growth in 2021?\"}\n",
      "\u001b[0mquery=\"What was Uber's revenue growth in 2021?\" contexts=['The following table sets forth the components of our consolidated statements of operations for each of the periods presented as a percentage of revenue : Year Ended December 31,\\n2020\\n2021 Revenue\\n100 %100 %Costs and expenses\\nCost of revenue, exclusive of dep\\nreciation and amortization shown separately below46 %54 %Operations and support\\n16 %11 %Sales and marketing\\n32 %27 %Research and development\\n20 %12 %General and administrative\\n24 %13 %Depreciation and amortization\\n5 %5 %Total costs and expenses\\n144 %122 %Loss from operations\\n(44) %(22) %Interest expense\\n(4) %(3) %Other income (expense), net\\n(15) %19 %Loss before income taxes and loss from equity me\\nthod investments(62) %(6) %Provision for (benefit fro\\nm) income taxes(2) %(3) %Loss from equity method invest\\nments— %— %Net loss including non-controlling interests\\n(61) %(3) %Less: net loss attributab\\nle to non-controlling interests, net of tax— %— %Net loss attributable to Uber Technologies, Inc.\\n(61) %(3) % Totals of percentage of \\nrevenues may not foot due to rounding.Comparison of the Years Ended December 31, 2020 and 2021\\nRevenue\\nYear Ended December 31,\\n2020 to 2021 % Change\\n(In millions, except percentages) 2020 2021 Revenue\\n$ 11,139 $ 17,455 57 %2021\\n Compared to 2020Revenue\\n increased $6.3 billion, or 57%, primarily attributable to an increase in Gross Bookings of 56%, or 53% on a constant currency basis. The increase inGross\\n Bookings was primarily driven by an increase in Delivery Gross Bookings of 71%, or 66% on a constant currency basis, due to an increase in food deliveryorders\\n and  higher  basket  sizes  as  a  result  of  stay-at-home  order  demand  related  to  COVID-19,  as  well  as  continued  expansion  across  U.S.  and  internationalmarkets.\\n The increase was also driven by Mobility Gross Bookings growth of 38%, or 36% on a constant currency basis, due to increases in Trip volumes as thebusiness\\n recovers from the impacts of COVID-19. Additionally, we saw an increase in Delivery revenue resulting from an increase in certain Courier paymentsand incentives that ar\\ne recorded in cost of revenue, where we are primarily responsible for delivery services and pay Couriers for services provided.Cost of Revenue, Exclusive of Depreciation and Amortizat\\nionYear Ended December 31,\\n2020 to 2021 %\\nChange\\n(In millions, except percentages) 2020 2021 Cost of revenue, exclusive of dep\\nreciation and amortization$ 5,154 $ 9,351 81 %Percentage of revenue\\n46 %54 %2021 Compared to 2020\\nCost\\n of revenue, exclusive of depreciation and amortization, increased $4.2 billion, or 81%, mainly due to a $2.1 billion increase in Courier payments andincentives\\n in certain  markets,  a $660 million  increase  in insurance  expense  primarily  due  to an increase  in miles  driven  in our Delivery  business,  and a $873million increase in Freight\\n carrier payments.(1)(1)\\n55', 'Operations and SupportYear Ended December 31,\\n2020 to 2021 %\\nChange\\n(In millions, except percentages) 2020 2021 Operations and support\\n$ 1,819 $ 1,877 3 %Percentage of revenue\\n16 %11 %2021 Compared to 2020\\nOperations\\n and support expenses  increased  $58 million,  or 3%, primarily  attributable  to a $71 million  increase  in external  contractor  expenses  and a $67million increase in s\\ntock-based compensation expense, partially offset by an $82 million decrease in employee headcount costs.Sales and Marketing\\nYear Ended December 31,\\n2020 to 2021 %\\nChange\\n(In millions, except percentages) 2020 2021 Sales and marketing\\n$ 3,583 $ 4,789 34 %Percentage of revenue\\n32 %27 %2021 Compared to 2020\\nSales\\n and marketing expenses increased $1.2 billion, or 34%, primarily attributable to a $681 million increase in consumer advertising expenses as well as anincrease\\n in consumer discounts, rider facing loyalty expense, promotions, credits and refunds of $384 million to $2.4 billion compared to $2.0 billion in the sameperiod in 2020.\\nResearch and Development\\nYear Ended December 31,\\n2020 to 2021 %\\nChange\\n(In millions, except percentages) 2020 2021 Research and development\\n$ 2,205 $ 2,054 (7) %Percentage of revenue\\n20 %12 %2021 Compared to 2020\\nResearch\\n and development expenses decreased $151 million, or 7%, primarily attributable to a $211 million decrease in employee related costs and a $85million decrease in restructurin\\ng and related charges, partially offset by a $137 million increase in stock-based compensation.General and Administrative\\nYear Ended December 31,\\n2020 to 2021 %\\nChange\\n(In millions, except percentages) 2020 2021 General and administrative\\n$ 2,666 $ 2,316 (13) %Percentage of revenue\\n24 %13 %2021 Compared to 2020\\nGeneral\\n and administrative expenses decreased $350 million, or 13%, primarily attributable to a $202 million decrease in employee headcount costs and a$193\\n million decrease in impairment charges related to our New Mobility reporting unit recorded during the first quarter of 2020 primarily related to COVID-19impacts on certain m\\narkets, partially offset by a $102 million increase in stock-based compensation expense.    Depreciation and Amortization\\nYear Ended December 31,\\n2020 to 2021 %\\nChange\\n(In millions, except percentages) 2020 2021 Depreciation and amortization\\n$ 575 $ 902 57 %Percentage of revenue\\n5 %5 %2021 Compared to 2020\\nDepreciation and amortization\\n expenses increased $327 million, or 57%, primarily attributable to additional amortization56', 'Note 2 – RevenueThe\\n following  tables  present  our  revenues  disaggregated  by  offering  and  geographical  region.  Revenue  by  geographical  region  is  based  on  where  thetransaction\\n occurred. This level of disaggregation takes into consideration how the nature, amount, timing, and uncertainty of revenue and cash flows are affectedby economic factors. Revenue \\nis presented in the following tables for the years ended December 31, 2019, 2020 and 2021, respectively (in millions):Year Ended December 31,\\n2019\\n2020 2021 Mobility revenue \\n$ 10,707 $ 6,089 $ 6,953 Delivery revenue \\n1,401 3,904 8,362 Freight revenue\\n731 1,011 2,132 All Other revenue\\n161 135 8 Total revenue\\n$ 13,000 $ 11,139 $ 17,455  We\\n offer subscription memberships to end-users including Uber One, Uber Pass, Rides Pass, and Eats Pass (“Subscription”). We recognize Subscriptionfees\\n ratably over the life of the pass. We allocate Subscription fees earned to Mobility and Delivery revenue on a proportional basis, based on usage for eachoffering during the respe\\nctive period.Year Ended December 31,\\n2019\\n2020 2021 United States and Canada\\n$ 8,465 $ 6,611 $ 10,094 Latin America (\"LatAm\")\\n1,862 1,295 1,417 Europe, Middle East and Africa \\n(\"EMEA\")1,852 2,086 3,213 Asia Pacific (\"APAC\")\\n821 1,147 2,731 Total revenue\\n$ 13,000 $ 11,139 $ 17,455 Revenue\\nMobility Revenue\\nWe derive\\n revenue primarily from fees paid by Mobility Drivers for the use of our platform(s) and related services to facilitate and complete Mobility servicesand,\\n in certain markets, revenue from fees paid by end-users for connection services obtained via the platform. Mobility revenue also includes immaterial revenuestreams\\n such as our financial partnerships products and Vehicle Solutions. Vehicle Solutions revenue is accounted for as an operating lease as defined under ASC842.\\nDelivery Revenue\\nWe\\n derive  revenue  for  Delivery  from  Merchants’  and  Couriers’  use  of  the  Delivery  platform  and  related  service  to  facilitate  and  complete  Deliverytransactions. Additionally,\\n in certain markets where we are responsible for delivery services, delivery fees charged to end-users are also included in revenue, whilepayments\\n to Couriers in exchange for delivery services are recognized in cost of revenue. Delivery also includes advertising revenue from sponsored listing feespaid by merchants and brands in \\nexchange for advertising services.Freight Revenue\\nFreight\\n revenue consists of revenue from freight transportation services provided to shippers. During the fourth quarter of 2021, we completed the acquisitionof\\n Transplace, and our Freight revenue also includes revenue from transportation management. Refer to Note 18 – Business Combinations for further informationon the Transplace acquisi\\ntion.All Other Revenue\\nAll Other revenue primar\\nily includes collaboration revenue related to our ATG business and revenue from our New Mobility offerings and products.ATG\\n collaboration revenue was related to a three-year joint collaboration agreement we entered into in 2019. During the first quarter of 2021, we completedthe sale of Apparate USA LLC (“Apparate\\n” or the “ATG Business”) to Aurora Innovation, Inc. (“Aurora”). Refer to Note 19 – Divestitures for further information.New\\n Mobility offerings and products provided users access to rides through a variety of modes, including dockless e-bikes and e-scooters (“New Mobility”),platform\\n incubator group offerings and other immaterial revenue streams. New Mobility revenue is accounted for as an operating lease as defined under ASC 842.After the JUMP divestiture during \\nthe second quarter of 2020, revenue from New Mobility products, including dockless e-bikes, was no longer material.(1)(1)\\n(1)\\n96'] response=\"Uber's revenue increased by 57% in 2021, from $11,139 million to $17,455 million.\" passing=True feedback='YES' score=1.0 pairwise_source=None invalid_result=False invalid_reason=None\n",
      "\u001b[1;3;34mObservation: Uber's revenue increased by 57% in 2021, from $11,139 million to $17,455 million.\n",
      "\u001b[0m\u001b[1;3;38;5;200mThought: I can answer without using any more tools.\n",
      "Answer: Uber's revenue increased by 57% in 2021, from $11,139 million to $17,455 million.\n",
      "\u001b[0mUber's revenue increased by 57% in 2021, from $11,139 million to $17,455 million.\n"
     ]
    }
   ],
   "source": [
    "response = await agent.achat(\n",
    "    \"What was Uber's revenue growth in 2021?\", tool_choice=\"tool_1\"\n",
    ")\n",
    "print(str(response))"
   ]
  },
  {
   "cell_type": "markdown",
   "id": "48eec4e4",
   "metadata": {},
   "source": [
    "## Query Engine Passes Evaluation\n",
    "\n",
    "Here we are asking a question about Lyft's financials. This is what we should expect to happen:\n",
    "1. The agent will use the `lyft_10k` tool first, simply based on its description\n",
    "2. The `EvalQueryEngineTool` will evaluate the response of the query engine using its evaluator\n",
    "3. The output of the query engine will pass evaluation because it contains Lyft's financials\n",
    "4. The agent will respond with an answer"
   ]
  },
  {
   "cell_type": "code",
   "execution_count": null,
   "id": "7b114dd1",
   "metadata": {},
   "outputs": [
    {
     "name": "stdout",
     "output_type": "stream",
     "text": [
      "\u001b[1;3;38;5;200mThought: I need to use a tool to help me answer the question.\n",
      "Action: tool_1\n",
      "Action Input: {'input': \"What was Lyft's revenue growth in 2021?\"}\n",
      "\u001b[0mquery=\"What was Lyft's revenue growth in 2021?\" contexts=['Revenue per Active Rider reached an all-time high in the three months ended December 31, 2021, increasingcompared\\n to the three months ended September 30, 2021. This was driven by an increase in ride frequency as well as a shift toward higher revenue rides such as airportrides,\\n reflecting the increased travel experienced in the fourth quarter in 2021 nationwide. Revenue per Active Rider also benefited from revenues from licensing and dataaccess agreements, beg\\ninning in the second quarter of 2021.Critical Accounting Policies and Estimates\\nOur\\n consolidated  financial  statements  and  the  related  notes  thereto  included  elsewhere  in  this  Annual  Report  on  Form  10-K  are  prepared  in  accordance  withGAAP.\\n The  preparation  of  consolidated  financial  statements  also  requires  us  to  make  estimates  and  assumptions  that  affect  the  reported  amounts  of  assets,  liabilities,revenue,\\n costs and expenses and related disclosures. We base our estimates on historical experience and on various other assumptions that we believe to be reasonableunder\\n the circumstances. Actual results could differ significantly from our estimates. To the extent that there are differences between our estimates and actual results, ourfuture financial st\\natement presentation, financial condition, results of operations and cash flows will be affected.We\\n believe that the accounting policies described below involve a significant degree of judgment and complexity. Accordingly, we believe these are the mostcritical\\n to aid in fully understanding and evaluating our consolidated financial condition and results of operations. For further information, see Note 2 of the notes to ourconsolidated financia\\nl statements included elsewhere in this Annual Report on Form 10-K.Revenue Recognition\\nRevenues from Contracts with Customers (ASC 606)\\nWe\\n generate substantially all our revenue from our ridesharing marketplace that connects drivers and riders. We recognize revenue from fees paid by drivers foruse\\n of our Lyft Platform offerings in accordance with ASC 606 as described in Note 2 of the notes to our consolidated financial statements. Drivers enter into terms ofservice (“ToS”) with us in orde\\nr to use our Lyft Driver App.58', 'Lyft, Inc.Consolidated Statements of Operations\\n(in thousands, except for per share data\\n) Year Ended December 31,\\n2021\\n2020 2019 Revenue\\n$ 3,208,323 $ 2,364,681 $ 3,615,960 Costs and expenses\\nCost of revenue\\n1,649,532 1,447,516 2,176,469 Operations and support\\n402,233 453,963 636,116 Research and development\\n911,946 909,126 1,505,640 Sales and marketing\\n411,406 416,331 814,122 General and administrative\\n915,638 946,127 1,186,093 Total costs and expenses\\n4,290,755 4,173,063 6,318,440 Loss from operations\\n(1,082,432) (1,808,382) (2,702,480) Interest expense\\n(51,635) (32,678) — Other income, net\\n135,933 43,669 102,595 Loss before income taxes\\n(998,134) (1,797,391) (2,599,885) Provision for (benefit fro\\nm) income taxes11,225 (44,534) 2,356 Net loss\\n$ (1,009,359) $ (1,752,857) $ (2,602,241) Net loss per share, basic and di\\nluted$ (3.02) $ (5.61) $ (11.44) Weighted-average numb\\ner of shares outstanding used to compute net loss per share, basic and diluted334,724 312,175 227,498 Stock-based compensation included in costs and expenses:\\nCost of revenue\\n$ 39,491 $ 28,743 $ 81,321 Operations and support\\n24,083 15,829 75,212 Research and development\\n414,324 325,624 971,941 Sales and marketing\\n38,243 23,385 72,046 General and administrative\\n208,419 172,226 398,791 The accompanying notes are \\nan integral part of these consolidated financial statements.79', 'second quarter of 2021. These increases were offset by investments in driver supply by increasing driver incentives recorded as a reduction to revenue by $942.9 million in2021 as compared to the prior y\\near as rider demand outpaced driver supply during certain periods of the pandemic recovery in 2021. Revenue in 2020 was also higher in thefirst quarter of 2020 prio\\nr to the implementation of shelter-in-place orders and other travel restrictions across North America beginning March 2020.We\\n expect to see continued recovery in demand for our platform and the resulting positive impacts on revenue as there are more widespread immunity levels,more\\n communities  reopen  and  other  restrictive  travel  and  social  distancing  measures  in  response  to  COVID-19  are  eased. However,  we  cannot  predict  the  impact  ofCOVID variants and the longer term \\nimpact of the pandemic on consumer behavior.Cost of Revenue\\nYear Ended December 31,\\n2020 to 2021 %Change\\n2019 to 2020 %Change\\n2021 2020 2019 (in thousands, except for percentages)\\nCost of revenue\\n$ 1,649,532 $ 1,447,516 $ 2,176,469 14 %(33) %Cost\\n of revenue increased $202.0 million, or 14%, in 2021 as compared to the prior year. The increase was due primarily to an increase of $160.6 million ininsurance costs driven by inc\\nreased rider demand. Insurance costs were also impacted by (i) an increase of $46.2 million attributable to changes in estimates to the liabilitiesfor\\n insurance required by regulatory agencies, (ii) a $20.2 million increase in transaction costs related to the reinsurance of certain legacy auto insurance liabilities in thesecond quarter of\\n 2021, and (iii) a $62.5 million decrease in transaction costs related to the transfer of certain legacy auto insurance liabilities from the first quarter of 2020.In\\n addition, there was an increase of $48.4 million in transaction fees and $14.9 million in bikes and scooter related costs driven by the increased ride volume as a result ofincreased\\n demand  as  recovery  from  the  pandemic  continued.  These  increases  were  partially  offset  by  a  $31.4  million  decrease  in  costs  related  to  Flexdrive  and  a$13.4 million decrease in web\\n-hosting fees to support our platform.Operations and Support\\nYear Ended December 31,\\n2020 to 2021 %Change\\n2019 to 2020 %Change\\n2021 2020 2019 (in thousands, except for percentages)\\nOperations and support\\n$ 402,233 $ 453,963 $ 636,116 (11) %(29) %Operations\\n and  support  expenses  decreased  $51.7  million,  or  11%,  in  2021  as  compared  to  the  prior  year.  The  decrease  was  primarily  due  to  a  reduction  of$18.3\\n million in driver onboarding costs and rider and driver support costs and a reduction of $14.7 million in personnel-related costs. There was also a $13.1 milliondecrease in\\n costs related to Flexdrive and a $6.5 million net decrease related to costs from the restructuring event in the second quarter of 2020, consisting of severance andbenefits costs, lease t\\nermination costs and a stock-based compensation benefit which did not recur in 2021.Research and Development\\nYear Ended December 31,\\n2020 to 2021 %Change\\n2019 to 2020 %Change\\n2021 2020 2019 (in thousands, except for percentages)\\nResearch and development\\n$ 911,946 $ 909,126 $ 1,505,640 — %(40) %Research\\n and development expenses increased $2.8 million in 2021. The slight increase was due to a $51.6 million increase in stock-based compensation and a$25.4\\n million benefit from the restructuring event in the second quarter of 2020 consisting of a stock-based compensation benefit and severance and benefits costs whichdid\\n not recur in 2021. These increases were offset by a $37.5 million decrease in personnel-related costs and a $4.6 million decrease in autonomous vehicle research costswhich were\\n64'] response=\"Lyft's revenue grew by 35.7% in 2021, from $2,364,681,000 in 2020 to $3,208,323,000 in 2021.\" passing=True feedback='YES' score=1.0 pairwise_source=None invalid_result=False invalid_reason=None\n",
      "\u001b[1;3;34mObservation: Lyft's revenue grew by 35.7% in 2021, from $2,364,681,000 in 2020 to $3,208,323,000 in 2021.\n",
      "\u001b[0m\u001b[1;3;38;5;200mThought: I can answer without using any more tools.\n",
      "Answer: Lyft's revenue grew by 35.7% in 2021, from $2,364,681,000 in 2020 to $3,208,323,000 in 2021.\n",
      "\u001b[0mLyft's revenue grew by 35.7% in 2021, from $2,364,681,000 in 2020 to $3,208,323,000 in 2021.\n"
     ]
    }
   ],
   "source": [
    "response = await agent.achat(\"What was Lyft's revenue growth in 2021?\")\n",
    "print(str(response))"
   ]
  }
 ],
 "metadata": {
  "kernelspec": {
   "display_name": "Python 3",
   "language": "python",
   "name": "python3"
  },
  "language_info": {
   "codemirror_mode": {
    "name": "ipython",
    "version": 3
   },
   "file_extension": ".py",
   "mimetype": "text/x-python",
   "name": "python",
   "nbconvert_exporter": "python",
   "pygments_lexer": "ipython3"
  }
 },
 "nbformat": 4,
 "nbformat_minor": 5
}
