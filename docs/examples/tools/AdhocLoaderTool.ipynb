{
 "cells": [
  {
   "cell_type": "markdown",
   "id": "318d3e6d-8155-4f86-ac16-bdacaf041bb9",
   "metadata": {},
   "source": [
    "# AdhocLoaderTool Tutorial\n",
    "\n",
    "Our `AdhocLoaderTool` is a powerful agent tool that allows for \"on-demand\" data querying from any data source on LlamaHub.\n",
    "\n",
    "This tool takes in a `BaseReader` data loader, and when called will 1) load data, 2) index data, and 3) query the data.\n",
    "\n",
    "In this walkthrough, we show how to use the `AdhocLoaderTool` to convert our Wikipedia data loader into an accessible search tool for a LangChain agent."
   ]
  },
  {
   "cell_type": "code",
   "execution_count": 1,
   "id": "d1680fc8-1904-4ea8-b8da-88306b365e7f",
   "metadata": {
    "tags": []
   },
   "outputs": [
    {
     "name": "stderr",
     "output_type": "stream",
     "text": [
      "/Users/jerryliu/Programming/gpt_index/.venv/lib/python3.10/site-packages/tqdm/auto.py:21: TqdmWarning: IProgress not found. Please update jupyter and ipywidgets. See https://ipywidgets.readthedocs.io/en/stable/user_install.html\n",
      "  from .autonotebook import tqdm as notebook_tqdm\n"
     ]
    }
   ],
   "source": [
    "from llama_index.tools.adhoc_loader_tool import AdhocLoaderTool\n",
    "# from llama_hub.wikipedia.base import WikipediaReader\n",
    "from llama_index.readers.wikipedia import WikipediaReader\n",
    "from typing import List\n",
    "\n",
    "from pydantic import BaseModel"
   ]
  },
  {
   "cell_type": "markdown",
   "id": "e167e7ed-92ba-4662-b6f6-24dc36ea4805",
   "metadata": {},
   "source": [
    "### Define Tool\n",
    "\n",
    "We first define the `WikipediaReader`. Note that the `load_data` interface to `WikipediaReader` takes in a list of `pages`. By default, this queries the Wikipedia search endpoint which will autosuggest the relevant pages.\n",
    "\n",
    "We then wrap it into our `AdhocLoaderTool`.\n",
    "\n",
    "By default since we don't specify the `index_cls`, a simple vector store index is initialized."
   ]
  },
  {
   "cell_type": "code",
   "execution_count": 2,
   "id": "7c5caf3b-3544-4a39-be69-35e18ef12172",
   "metadata": {
    "tags": []
   },
   "outputs": [],
   "source": [
    "reader = WikipediaReader()"
   ]
  },
  {
   "cell_type": "code",
   "execution_count": 3,
   "id": "ea9169ad-fe61-47da-bbdf-ce3a89c371a3",
   "metadata": {
    "tags": []
   },
   "outputs": [],
   "source": [
    "class WikipediaLoaderSpec(BaseModel):\n",
    "    \"\"\"Wikipedia loader spec.\"\"\"\n",
    "    pages: List[str]\n",
    "    query_str: str\n",
    "    \n",
    "\n",
    "tool = AdhocLoaderTool.from_defaults(\n",
    "    reader,\n",
    "    name=\"Wikipedia Tool\",\n",
    "    description=\"A tool for loading and querying articles from Wikipedia\",\n",
    "    fn_schema=WikipediaLoaderSpec\n",
    ")"
   ]
  },
  {
   "cell_type": "markdown",
   "id": "0f8e6bb2-b019-4b23-9b4b-bd5e6f436bcb",
   "metadata": {},
   "source": [
    "#### Testing\n",
    "\n",
    "We can try running the tool by itself (or as a LangChain tool), just to showcase what the interface is like! \n",
    "\n",
    "Note that besides the arguments required for the data loader, the tool also takes in a `query_str` which will be\n",
    "the query against the index."
   ]
  },
  {
   "cell_type": "code",
   "execution_count": 5,
   "id": "46fc86a2-0d25-4673-9d2c-a12ba10de5f4",
   "metadata": {
    "tags": []
   },
   "outputs": [
    {
     "name": "stdout",
     "output_type": "stream",
     "text": [
      "['Berlin']\n",
      "{}\n"
     ]
    },
    {
     "data": {
      "text/plain": [
       "\"\\nBerlin has a vibrant and diverse arts and culture scene. It is home to 44 theaters and stages, three major opera houses, and numerous art galleries. The cityscape of Berlin displays large quantities of urban street art, and the Berlin Wall has become one of the largest open-air canvasses in the world. Berlin also has a long history of gay culture, and is an important birthplace of the LGBT rights movement. There are many festivals and events throughout the year, such as the Berlin International Film Festival, the Karneval der Kulturen, the Berlin Festival, and the New Year's Eve celebrations. The city is also home to many museums, such as the Museum Island, the Gemäldegalerie, the Neue Nationalgalerie, the Pergamon Museum, the Bode Museum, the Hamburger Bahnhof, the German Museum of Technology, the Jewish Museum, the Museum für Naturkunde, the Kupferstichkabinett Berlin, the Museum Berggruen, and the Beate Uhse Erotic Museum.\""
      ]
     },
     "execution_count": 5,
     "metadata": {},
     "output_type": "execute_result"
    }
   ],
   "source": [
    "# run tool by itself\n",
    "tool([\"Berlin\"], query_str=\"What's the arts and culture scene in Berlin?\")"
   ]
  },
  {
   "cell_type": "code",
   "execution_count": 9,
   "id": "ba6ec69c-9122-43b4-aa90-aeb1ff23f0a3",
   "metadata": {
    "tags": []
   },
   "outputs": [
    {
     "name": "stdout",
     "output_type": "stream",
     "text": [
      "['Berlin']\n",
      "{}\n"
     ]
    },
    {
     "data": {
      "text/plain": [
       "\"\\nBerlin has a vibrant and diverse arts and culture scene. It is home to 44 theaters and stages, three major opera houses, and numerous art galleries. The cityscape of Berlin displays large quantities of urban street art, and the Berlin Wall has become one of the largest open-air canvasses in the world. Berlin also has a long history of gay culture, and is an important birthplace of the LGBT rights movement. There are many festivals and events throughout the year, such as the Berlin International Film Festival, the Karneval der Kulturen, the Berlin Festival, and the New Year's Eve celebrations. The city is also home to many museums, such as the Museum Island, the Gemäldegalerie, the Neue Nationalgalerie, the Pergamon Museum, the Bode Museum, the Hamburger Bahnhof, the German Museum of Technology, the Jewish Museum, the Museum für Naturkunde, the Kupferstichkabinett Berlin, the Museum Berggruen, and the Beate Uhse Erotic Museum.\""
      ]
     },
     "execution_count": 9,
     "metadata": {},
     "output_type": "execute_result"
    }
   ],
   "source": [
    "# run tool as langchain structured tool\n",
    "lc_tool = tool.to_langchain_structured_tool(verbose=True)\n",
    "lc_tool.run(tool_input={\"pages\": [\"Berlin\"], \"query_str\": \"What's the arts and culture scene in Berlin?\"})"
   ]
  },
  {
   "cell_type": "markdown",
   "id": "2bac4007-7121-4ab4-91e3-6706e59de6b7",
   "metadata": {},
   "source": [
    "### Initialize LangChain Agent\n",
    "\n",
    "For tutorial purposes, the agent just has access to one tool - the Wikipedia Reader"
   ]
  },
  {
   "cell_type": "code",
   "execution_count": 10,
   "id": "bd77d986-23be-49d9-9522-d19b41f66a32",
   "metadata": {
    "tags": []
   },
   "outputs": [],
   "source": [
    "from langchain.agents import initialize_agent\n",
    "from langchain.chat_models import ChatOpenAI"
   ]
  },
  {
   "cell_type": "code",
   "execution_count": 11,
   "id": "8a789712-a285-495e-bf71-b61856e0848a",
   "metadata": {
    "tags": []
   },
   "outputs": [],
   "source": [
    "llm = ChatOpenAI(temperature=0, model_name=\"gpt-3.5-turbo\", streaming=True)"
   ]
  },
  {
   "cell_type": "code",
   "execution_count": 13,
   "id": "8a6ff85e-81ae-4b66-a83b-4d066eded32a",
   "metadata": {
    "tags": []
   },
   "outputs": [],
   "source": [
    "agent = initialize_agent(\n",
    "    [lc_tool],\n",
    "    llm=llm,\n",
    "    agent=\"structured-chat-zero-shot-react-description\",\n",
    "    verbose=True\n",
    ")"
   ]
  },
  {
   "cell_type": "markdown",
   "id": "56b88449-1291-470c-8b7c-cb49d2edbede",
   "metadata": {},
   "source": [
    "# Now let's run some queries! \n",
    "\n",
    "The AdhocLoaderTool allows the agent to simultaneously 1) load the data from Wikipedia, 2) query that data."
   ]
  },
  {
   "cell_type": "code",
   "execution_count": 14,
   "id": "76e7a99f-2802-4e7e-ac8b-3810797fdc3c",
   "metadata": {
    "tags": []
   },
   "outputs": [
    {
     "name": "stderr",
     "output_type": "stream",
     "text": [
      "Retrying langchain.chat_models.openai.ChatOpenAI.completion_with_retry.<locals>._completion_with_retry in 1.0 seconds as it raised APIConnectionError: Error communicating with OpenAI: ('Connection aborted.', RemoteDisconnected('Remote end closed connection without response')).\n"
     ]
    },
    {
     "name": "stdout",
     "output_type": "stream",
     "text": [
      "\n",
      "\n",
      "\u001b[1m> Entering new AgentExecutor chain...\u001b[0m\n",
      "\u001b[32;1m\u001b[1;3mAction:\n",
      "```\n",
      "{\n",
      "  \"action\": \"Wikipedia Tool\",\n",
      "  \"action_input\": {\n",
      "    \"pages\": [\"Culture in Berlin\"],\n",
      "    \"query_str\": \"Arts and culture in Berlin\"\n",
      "  }\n",
      "}\n",
      "```\n",
      "\n",
      "\u001b[0m['Culture in Berlin']\n",
      "{}\n",
      "\n",
      "Observation: \u001b[36;1m\u001b[1;3m\n",
      "Berlin is recognized as a world city of culture and creative industries. It is home to over 600 art galleries, 153 museums, and numerous cultural institutions. Berlin has established itself as a popular nightlife and entertainment center in Europe, with many young people, cultural entrepreneurs, and international artists settling in the city. The city is home to the Berlin Biennale for contemporary artists, held every June, and the Berlin International Film Festival, held annually in February. Berlin is also home to many international and regional television and radio stations, and the public broadcaster RBB has its headquarters in the city. The creative arts sector in Berlin comprises music, film, advertising, architecture, art, design, fashion, performing arts, publishing, R&D, software, TV, radio, and video games. Berlin's nightlife is one of the most diverse and vibrant of its kind in Europe, with many nightclubs and parties lasting well into the morning.\u001b[0m\n",
      "Thought:\u001b[32;1m\u001b[1;3mThe human asked specifically about the arts and culture of Berlin, so I should provide more information on that topic. \n",
      "Action:\n",
      "```\n",
      "{\n",
      "  \"action\": \"Wikipedia Tool\",\n",
      "  \"action_input\": {\n",
      "    \"pages\": [\"Culture in Berlin\"],\n",
      "    \"query_str\": \"Arts in Berlin\"\n",
      "  }\n",
      "}\n",
      "```\n",
      "\u001b[0m['Culture in Berlin']\n",
      "{}\n",
      "\n",
      "Observation: \u001b[36;1m\u001b[1;3m\n",
      "Berlin is renowned for its vibrant arts scene, with a wide variety of museums, galleries, theaters, and performing arts venues. The city is home to over 600 art galleries, 153 museums, and more than 50 theaters. Berlin is also home to the Berlin Biennale for contemporary artists, held every June, as well as the Gemäldegalerie (Painting Gallery), Neue Nationalgalerie (New National Gallery), Pergamon Museum, and Bode Museum. Berlin is also home to the Jewish Museum, the German Museum of Technology, the Hamburger Bahnhof, the Deutsches Theater, the Volksbühne, the Berliner Ensemble, the Schaubühne, the Friedrichstadt-Palast, the Beate Uhse Erotic Museum, the Stasi Museum, and the Allied Museum. Additionally, Berlin is home to three major opera houses: the Deutsche Oper, the Berlin State Opera, and the Komische Oper. The city is also home to seven symphony orchestras, including the world-renowned Berlin Philharmonic Orchestra.\u001b[0m\n",
      "Thought:\u001b[32;1m\u001b[1;3mThe human may also be interested in the cultural diversity of Berlin. \n",
      "Action:\n",
      "```\n",
      "{\n",
      "  \"action\": \"Wikipedia Tool\",\n",
      "  \"action_input\": {\n",
      "    \"pages\": [\"Culture in Berlin\"],\n",
      "    \"query_str\": \"Cultural diversity in Berlin\"\n",
      "  }\n",
      "}\n",
      "```\n",
      "\n",
      "\u001b[0m['Culture in Berlin']\n",
      "{}\n",
      "\n",
      "Observation: \u001b[36;1m\u001b[1;3m\n",
      "Berlin is a city of great cultural diversity. It is home to numerous cultural institutions, many of which enjoy international reputation, representing the diverse heritage of the city. Berlin is also home to over 300 art galleries, and is the headquarters of two major German-language publishing houses. The city's nightlife is one of the most diverse and vibrant of its kind in Europe, and it is home to many international and regional television and radio stations. Berlin is also home to 153 museums, including the Museum Island, which is a UNESCO World Heritage Site. Additionally, Berlin is home to many international and regional festivals, such as the Berlin International Film Festival, the Karneval der Kulturen, and the Christopher Street Day. The city is also well known for its gay culture and influence on popular entertainment. All of these factors contribute to the cultural diversity of Berlin.\u001b[0m\n",
      "Thought:\u001b[32;1m\u001b[1;3mThe human may also be interested in the history of Berlin's arts and culture scene. \n",
      "Action:\n",
      "```\n",
      "{\n",
      "  \"action\": \"Wikipedia Tool\",\n",
      "  \"action_input\": {\n",
      "    \"pages\": [\"Culture in Berlin\"],\n",
      "    \"query_str\": \"History of arts and culture in Berlin\"\n",
      "  }\n",
      "}\n",
      "```\n",
      "\n",
      "\n",
      "\u001b[0m['Culture in Berlin']\n",
      "{}\n",
      "\n",
      "Observation: \u001b[36;1m\u001b[1;3m\n",
      "Berlin has a long and rich history of arts and culture. The city has been a major center for the arts since the late 19th century, and has been home to a variety of art movements, including Expressionism, Dadaism, and the Bauhaus School. Berlin is home to over 600 art galleries, and is estimated to have 6,000 to 7,000 artists living in the city. Berlin is also home to 153 museums, including the Museum Island, which is a UNESCO World Heritage Site. Berlin is also known for its performing arts, with over 50 theaters, three major opera houses, and seven symphony orchestras. The city is also home to the Berlin Biennale for contemporary artists, held every June, and the Berliner Festspiele, which includes the JazzFest Berlin. Berlin is also known for its gay culture and influence on popular entertainment, and is home to a variety of gay clubs and festivals, such as Easter Fetish Week, Christopher Street Day, and Folsom Europe.\u001b[0m\n",
      "Thought:\u001b[32;1m\u001b[1;3mThe human may want to know more about specific museums in Berlin. \n",
      "Action:\n",
      "```\n",
      "{\n",
      "  \"action\": \"Wikipedia Tool\",\n",
      "  \"action_input\": {\n",
      "    \"pages\": [\"List of museums and galleries in Berlin\"],\n",
      "    \"query_str\": \"\"\n",
      "  }\n",
      "}\n",
      "```\n",
      "\n",
      "\n",
      "\u001b[0m['List of museums and galleries in Berlin']\n",
      "{}\n"
     ]
    },
    {
     "name": "stderr",
     "output_type": "stream",
     "text": [
      "\n",
      "KeyboardInterrupt\n",
      "\n"
     ]
    }
   ],
   "source": [
    "agent.run(\"Tell me about the arts and culture of Berlin\")"
   ]
  },
  {
   "cell_type": "code",
   "execution_count": 17,
   "id": "3ef18513-9261-4916-8592-a5dea0ffcf0e",
   "metadata": {
    "tags": []
   },
   "outputs": [
    {
     "name": "stdout",
     "output_type": "stream",
     "text": [
      "\n",
      "\n",
      "\u001b[1m> Entering new AgentExecutor chain...\u001b[0m\n",
      "\u001b[32;1m\u001b[1;3mAction:\n",
      "```\n",
      "{\n",
      "  \"action\": \"Wikipedia Tool\",\n",
      "  \"action_input\": {\n",
      "    \"pages\": [\"The Departed\"],\n",
      "    \"query_str\": \"critical reception\"\n",
      "  }\n",
      "}\n",
      "```\n",
      "\n",
      "\u001b[0m['The Departed']\n",
      "{}\n",
      "\n",
      "Observation: \u001b[36;1m\u001b[1;3m\n",
      "The critical reception of The Departed was overwhelmingly positive. On review aggregator Rotten Tomatoes, the film holds a 91% approval rating based on 284 reviews, with an average rating of 8.3/10. The website's critics consensus reads, \"Featuring outstanding work from an excellent cast, The Departed is a thoroughly engrossing gangster drama with the gritty authenticity and soupy morality we have come to expect from Martin Scorsese.\" Metacritic, which uses a weighted average, assigned the film a score of 85 out of 100 based on 39 critics, indicating \"universal acclaim\". Audiences polled by CinemaScore gave the film an average grade of \"A−\" on an A+ to F scale. Entertainment Weekly ranked it on its end-of-the-decade \"Best of\" list, saying: \"If they're lucky, directors make one classic film in their career. Martin Scorsese has one per decade (Taxi Driver in the '70s, Raging Bull in the '80s, Goodfellas in the '90s). His 2006 Irish Mafia masterpiece kept the streak alive.\" Roger Ebert gave the film four stars out of four, praising Scorsese for thematically differentiating his film from the original. Online critic James Berardinelli awarded the film four stars out of four, praising it as \"an American epic tragedy.\" He went on to claim that the film deserves to be ranked alongside Scorsese's past successes, including Taxi Driver, Raging Bull and Goodfellas.\u001b[0m\n",
      "Thought:\u001b[32;1m\u001b[1;3mThe critical reception to The Departed was very positive. \n",
      "Action:\n",
      "```\n",
      "{\n",
      "  \"action\": \"Final Answer\",\n",
      "  \"action_input\": \"The critical reception to The Departed was overwhelmingly positive, with an average rating of 8.3/10 on Rotten Tomatoes and a score of 85 out of 100 on Metacritic. It has been praised as an American epic tragedy and is considered one of Martin Scorsese's best films.\"\n",
      "}\n",
      "```\n",
      "\u001b[0m\n",
      "\n",
      "\u001b[1m> Finished chain.\u001b[0m\n"
     ]
    },
    {
     "data": {
      "text/plain": [
       "\"The critical reception to The Departed was overwhelmingly positive, with an average rating of 8.3/10 on Rotten Tomatoes and a score of 85 out of 100 on Metacritic. It has been praised as an American epic tragedy and is considered one of Martin Scorsese's best films.\""
      ]
     },
     "execution_count": 17,
     "metadata": {},
     "output_type": "execute_result"
    }
   ],
   "source": [
    "agent.run(\"Tell me about the critical reception to The Departed\")"
   ]
  },
  {
   "cell_type": "code",
   "execution_count": null,
   "id": "80cb669e-bab1-4d5e-8cac-47e4378fa54f",
   "metadata": {},
   "outputs": [],
   "source": []
  }
 ],
 "metadata": {
  "kernelspec": {
   "display_name": "llama_index_v2",
   "language": "python",
   "name": "llama_index_v2"
  },
  "language_info": {
   "codemirror_mode": {
    "name": "ipython",
    "version": 3
   },
   "file_extension": ".py",
   "mimetype": "text/x-python",
   "name": "python",
   "nbconvert_exporter": "python",
   "pygments_lexer": "ipython3",
   "version": "3.10.10"
  }
 },
 "nbformat": 4,
 "nbformat_minor": 5
}
