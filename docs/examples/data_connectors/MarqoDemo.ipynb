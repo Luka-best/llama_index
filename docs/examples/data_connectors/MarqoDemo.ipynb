{
 "cells": [
  {
   "cell_type": "markdown",
   "metadata": {},
   "source": [
    "# Marqo Reader"
   ]
  },
  {
   "cell_type": "code",
   "execution_count": 41,
   "metadata": {},
   "outputs": [],
   "source": [
    "from IPython.display import Markdown, display\n",
    "import logging\n",
    "import sys\n",
    "import os\n",
    "\n",
    "logging.basicConfig(stream=sys.stdout, level=logging.INFO)\n",
    "logging.getLogger().addHandler(logging.StreamHandler(stream=sys.stdout))"
   ]
  },
  {
   "cell_type": "markdown",
   "metadata": {},
   "source": [
    "## Create a Marqo Index and Insert Documents"
   ]
  },
  {
   "cell_type": "code",
   "execution_count": 42,
   "metadata": {},
   "outputs": [],
   "source": [
    "from llama_index.vector_stores.marqo import MarqoVectorStore\n",
    "import marqo"
   ]
  },
  {
   "cell_type": "code",
   "execution_count": 43,
   "metadata": {},
   "outputs": [],
   "source": [
    "index_name = \"llama_index_test2\"\n",
    "mq = marqo.Client(url=\"http://localhost:8882\", api_key=\"foobar\")\n",
    "mq.delete_index(index_name=index_name)\n",
    "mq.create_index(index_name=index_name)\n",
    "\n",
    "marqo_vector_store = MarqoVectorStore(index_name=index_name, marqo_client=mq)"
   ]
  },
  {
   "cell_type": "code",
   "execution_count": 44,
   "metadata": {},
   "outputs": [
    {
     "name": "stdout",
     "output_type": "stream",
     "text": [
      "[]\n",
      "[]\n"
     ]
    },
    {
     "data": {
      "text/markdown": [
       "IDs of documents inserted: <i>['doc1', 'doc2']</i>"
      ],
      "text/plain": [
       "<IPython.core.display.Markdown object>"
      ]
     },
     "metadata": {},
     "output_type": "display_data"
    }
   ],
   "source": [
    "from llama_index.vector_stores.types import NodeWithEmbedding\n",
    "from llama_index.schema import TextNode\n",
    "\n",
    "# Make and insert fake documents\n",
    "documents = [\n",
    "    NodeWithEmbedding(\n",
    "        node=TextNode(id_=\"doc1\", text=\"This is a test document about cats.\"),\n",
    "        embedding=[],\n",
    "    ),\n",
    "    NodeWithEmbedding(\n",
    "        node=TextNode(id_=\"doc2\", text=\"This is a test document about dogs.\"),\n",
    "        embedding=[],\n",
    "    ),\n",
    "]\n",
    "\n",
    "inserted_docs_ids = marqo_vector_store.add(documents=documents)\n",
    "\n",
    "display(Markdown(f\"IDs of documents inserted: <i>{inserted_docs_ids}</i>\"))"
   ]
  },
  {
   "cell_type": "markdown",
   "metadata": {},
   "source": [
    "## Create and Use the Marqo Reader"
   ]
  },
  {
   "cell_type": "code",
   "execution_count": 45,
   "metadata": {},
   "outputs": [],
   "source": [
    "from llama_index.readers.marqo import MarqoReader\n",
    "\n",
    "marqo_reader = MarqoReader(api_key=\"foobar\", url=\"http://localhost:8882\")\n",
    "\n",
    "# Use MarqoReader to load data with include_vectors= False\n",
    "documents = marqo_reader.load_data(\n",
    "    index_name=index_name,\n",
    "    top_k=2,\n",
    "    include_vectors=False,\n",
    ")"
   ]
  },
  {
   "cell_type": "code",
   "execution_count": 46,
   "metadata": {},
   "outputs": [
    {
     "data": {
      "text/markdown": [
       "<b>Documents returned:\n",
       "</b>"
      ],
      "text/plain": [
       "<IPython.core.display.Markdown object>"
      ]
     },
     "metadata": {},
     "output_type": "display_data"
    },
    {
     "data": {
      "text/markdown": [
       "<i>id_='doc1' embedding=None metadata={} excluded_embed_metadata_keys=[] excluded_llm_metadata_keys=[] relationships={} hash='5c8fe268e7c6d57c46c6c48fa1a9985f5e66f4a1dab5281bd655d4b886ba6e89' text='This is a test document about cats.' start_char_idx=None end_char_idx=None text_template='{metadata_str}\\n\\n{content}' metadata_template='{key}: {value}' metadata_seperator='\\n'</i>"
      ],
      "text/plain": [
       "<IPython.core.display.Markdown object>"
      ]
     },
     "metadata": {},
     "output_type": "display_data"
    },
    {
     "data": {
      "text/markdown": [
       "<i>id_='doc2' embedding=None metadata={} excluded_embed_metadata_keys=[] excluded_llm_metadata_keys=[] relationships={} hash='f73298b47d9d216c2a7c31a76e84958899e2405c3120daae5f4d08e5636ad59c' text='This is a test document about dogs.' start_char_idx=None end_char_idx=None text_template='{metadata_str}\\n\\n{content}' metadata_template='{key}: {value}' metadata_seperator='\\n'</i>"
      ],
      "text/plain": [
       "<IPython.core.display.Markdown object>"
      ]
     },
     "metadata": {},
     "output_type": "display_data"
    }
   ],
   "source": [
    "display(Markdown(f\"<b>Documents returned:\\n</b>\"))\n",
    "for document in documents:\n",
    "    display(Markdown(f\"<i>{document}</i>\"))"
   ]
  },
  {
   "cell_type": "code",
   "execution_count": null,
   "metadata": {},
   "outputs": [],
   "source": []
  }
 ],
 "metadata": {
  "kernelspec": {
   "display_name": "llama_linux_venv",
   "language": "python",
   "name": "python3"
  },
  "language_info": {
   "codemirror_mode": {
    "name": "ipython",
    "version": 3
   },
   "file_extension": ".py",
   "mimetype": "text/x-python",
   "name": "python",
   "nbconvert_exporter": "python",
   "pygments_lexer": "ipython3",
   "version": "3.10.5"
  },
  "orig_nbformat": 4
 },
 "nbformat": 4,
 "nbformat_minor": 2
}
