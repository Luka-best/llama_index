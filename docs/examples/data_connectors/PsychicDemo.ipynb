{
    "cells": [
        {
            "attachments": {},
            "cell_type": "markdown",
            "id": "effeb5a7-8544-4ee4-8c11-bad0d8165394",
            "metadata": {},
            "source": [
                "# Psychic Reader\n",
                "Demonstrates the Psychic data connector"
            ]
        },
        {
            "cell_type": "code",
            "execution_count": null,
            "id": "995afc19",
            "metadata": {},
            "outputs": [],
            "source": [
                "import logging\n",
                "import sys\n",
                "\n",
                "logging.basicConfig(stream=sys.stdout, level=logging.INFO)\n",
                "logging.getLogger().addHandler(logging.StreamHandler(stream=sys.stdout))"
            ]
        },
        {
            "cell_type": "code",
            "execution_count": 1,
            "id": "6ea1f66d-10ed-4417-bdcb-f8a894836ea5",
            "metadata": {},
            "outputs": [],
            "source": [
                "from llama_index import GPTListIndex, PsychicReader\n",
                "from IPython.display import Markdown, display\n",
                "import os"
            ]
        },
        {
            "cell_type": "code",
            "execution_count": null,
            "id": "da90589a-fb44-4ec6-9706-753dba4fa968",
            "metadata": {},
            "outputs": [],
            "source": [
                "# Get Psychic API key from https://dashboard.psychic.dev/api-keys\n",
                "psychic_key = os.getenv(\"PSYCHIC_API_KEY\")\n",
                "# Connector ID and account ID are typically set programatically based on the application state\n",
                "# See https://docs.psychic.dev/api-reference/ for more information\n",
                "account_id = \"account_id\" \n",
                "connector_id = \"connector_id\"\n",
                "documents = PsychicReader(psychic_key=psychic_key).load_data(connector_id=connector_id, account_id=account_id)"
            ]
        },
        {
            "cell_type": "code",
            "execution_count": null,
            "id": "6464025d-0c5a-4e2d-8a90-91c29ece9884",
            "metadata": {},
            "outputs": [],
            "source": [
                "# set Logging to DEBUG for more detailed outputs\n",
                "index = GPTListIndex.from_documents(documents)\n",
                "query_engine = index.as_query_engine()\n",
                "response = query_engine.query(\"<query_text>\")\n",
                "display(Markdown(f\"<b>{response}</b>\"))"
            ]
        }
    ],
    "metadata": {
        "kernelspec": {
            "display_name": "Python 3 (ipykernel)",
            "language": "python",
            "name": "python3"
        },
        "language_info": {
            "codemirror_mode": {
                "name": "ipython",
                "version": 3
            },
            "file_extension": ".py",
            "mimetype": "text/x-python",
            "name": "python",
            "nbconvert_exporter": "python",
            "pygments_lexer": "ipython3",
            "version": "3.11.1"
        },
        "vscode": {
            "interpreter": {
                "hash": "c32397a35d2e76e766f80c3872b208f0c0029e8a6a9b8e2a8fe7b1641cfa009b"
            }
        }
    },
    "nbformat": 4,
    "nbformat_minor": 5
}
