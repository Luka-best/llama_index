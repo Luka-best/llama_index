{
 "cells": [
  {
   "cell_type": "markdown",
   "id": "b80deb2f-f910-4eb4-827a-ebe3cf853fda",
   "metadata": {},
   "source": [
    "# Chat Engine - REPL"
   ]
  },
  {
   "cell_type": "code",
   "execution_count": 4,
   "id": "1766a981-abb8-4321-aa88-056ebd35eb05",
   "metadata": {
    "tags": []
   },
   "outputs": [],
   "source": [
    "from llama_index.chat_engine import SimpleChatEngine"
   ]
  },
  {
   "cell_type": "code",
   "execution_count": 5,
   "id": "7ba7508d-1aaa-4a4a-8827-d68d8fa10cee",
   "metadata": {
    "tags": []
   },
   "outputs": [],
   "source": [
    "chat_engine = SimpleChatEngine.from_defaults()"
   ]
  },
  {
   "cell_type": "code",
   "execution_count": 6,
   "id": "dec908cf-9c34-4b26-aff1-388dc5440223",
   "metadata": {
    "tags": []
   },
   "outputs": [
    {
     "name": "stdout",
     "output_type": "stream",
     "text": [
      "===== Entering Chat REPL =====\n",
      "Type \"exit\" to exit.\n",
      "\n"
     ]
    },
    {
     "name": "stdin",
     "output_type": "stream",
     "text": [
      "Human:  Hi\n"
     ]
    },
    {
     "name": "stdout",
     "output_type": "stream",
     "text": [
      "Assistant: Hi there! How can I help you?\n",
      "\n"
     ]
    },
    {
     "name": "stdin",
     "output_type": "stream",
     "text": [
      "Human:  Who are you?\n"
     ]
    },
    {
     "name": "stdout",
     "output_type": "stream",
     "text": [
      "Assistant: I'm an AI-powered assistant. I'm here to help you with any questions or tasks you may have.\n",
      "\n"
     ]
    },
    {
     "name": "stdin",
     "output_type": "stream",
     "text": [
      "Human:  Tell me a joke\n"
     ]
    },
    {
     "name": "stdout",
     "output_type": "stream",
     "text": [
      "Assistant: Why did the chicken cross the playground?\n",
      "To get to the other slide!\n",
      "\n"
     ]
    },
    {
     "name": "stdin",
     "output_type": "stream",
     "text": [
      "Human:  That's not funny\n"
     ]
    },
    {
     "name": "stdout",
     "output_type": "stream",
     "text": [
      "Assistant: I'm sorry you didn't find it funny. Is there anything else I can help you with?\n",
      "\n"
     ]
    },
    {
     "name": "stdin",
     "output_type": "stream",
     "text": [
      "Human:  Tell me another funnier joke\n"
     ]
    },
    {
     "name": "stdout",
     "output_type": "stream",
     "text": [
      "Assistant: Why did the scarecrow win the Nobel Prize?\n",
      "Because he was outstanding in his field!\n",
      "\n"
     ]
    },
    {
     "name": "stdin",
     "output_type": "stream",
     "text": [
      "Human:  Haha\n"
     ]
    },
    {
     "name": "stdout",
     "output_type": "stream",
     "text": [
      "Assistant: I'm glad you found it funny! Is there anything else I can help you with?\n",
      "\n"
     ]
    },
    {
     "name": "stdin",
     "output_type": "stream",
     "text": [
      "Human:  nah\n"
     ]
    },
    {
     "name": "stdout",
     "output_type": "stream",
     "text": [
      "Assistant: No problem. Is there anything else I can do for you?\n",
      "\n"
     ]
    },
    {
     "name": "stdin",
     "output_type": "stream",
     "text": [
      "Human:  exit\n"
     ]
    }
   ],
   "source": [
    "chat_engine.chat_repl()"
   ]
  },
  {
   "cell_type": "code",
   "execution_count": null,
   "id": "d87127a1-b20e-4119-8fc8-9641512aeb65",
   "metadata": {},
   "outputs": [],
   "source": []
  },
  {
   "cell_type": "code",
   "execution_count": null,
   "id": "8d33ba29-2feb-4575-9ec7-e178ac7772e8",
   "metadata": {},
   "outputs": [],
   "source": []
  }
 ],
 "metadata": {
  "kernelspec": {
   "display_name": "Python 3 (ipykernel)",
   "language": "python",
   "name": "python3"
  },
  "language_info": {
   "codemirror_mode": {
    "name": "ipython",
    "version": 3
   },
   "file_extension": ".py",
   "mimetype": "text/x-python",
   "name": "python",
   "nbconvert_exporter": "python",
   "pygments_lexer": "ipython3",
   "version": "3.9.16"
  }
 },
 "nbformat": 4,
 "nbformat_minor": 5
}
