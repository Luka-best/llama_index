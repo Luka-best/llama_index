{
 "cells": [
  {
   "cell_type": "markdown",
   "id": "2509fcb7-f84e-4c01-b23c-6e0942c2df10",
   "metadata": {
    "tags": []
   },
   "source": [
    "# Chat Engine - ReAct Mode"
   ]
  },
  {
   "cell_type": "markdown",
   "id": "8841bc6e-a196-4416-b886-31ea93e33d13",
   "metadata": {
    "tags": []
   },
   "source": [
    "### Load data and build index"
   ]
  },
  {
   "cell_type": "code",
   "execution_count": 2,
   "id": "8bf4cb33-46c7-4f45-a43c-b478f68e9b0b",
   "metadata": {
    "tags": []
   },
   "outputs": [],
   "source": [
    "from llama_index import GPTVectorStoreIndex, SimpleDirectoryReader, ServiceContext, LLMPredictor"
   ]
  },
  {
   "cell_type": "code",
   "execution_count": 17,
   "id": "16aacf48-9590-4dee-b4a6-ad1b89808250",
   "metadata": {
    "tags": []
   },
   "outputs": [],
   "source": [
    "data = SimpleDirectoryReader(input_dir=\"../data/paul_graham/\").load_data()"
   ]
  },
  {
   "cell_type": "code",
   "execution_count": 18,
   "id": "098c9734-a74f-4992-91ff-347c5d3c29f0",
   "metadata": {
    "tags": []
   },
   "outputs": [],
   "source": [
    "index = GPTVectorStoreIndex.from_documents(data)"
   ]
  },
  {
   "cell_type": "markdown",
   "id": "0df6a939-9f2c-44cc-ad9d-8203029e8fbd",
   "metadata": {
    "tags": []
   },
   "source": [
    "### Configure chat engine"
   ]
  },
  {
   "cell_type": "code",
   "execution_count": 30,
   "id": "05eb7917-998c-4c36-b41a-84d29d3468c9",
   "metadata": {
    "tags": []
   },
   "outputs": [],
   "source": [
    "chat_engine = index.as_chat_engine(chat_mode='react', verbose=True)"
   ]
  },
  {
   "cell_type": "markdown",
   "id": "4bbfb7bb-827d-4968-b3ae-7c9f92224e8c",
   "metadata": {},
   "source": [
    "### Chat with your data"
   ]
  },
  {
   "cell_type": "code",
   "execution_count": 35,
   "id": "0a618731-2f1f-4379-8dac-6dc3564961c1",
   "metadata": {
    "tags": []
   },
   "outputs": [
    {
     "name": "stdout",
     "output_type": "stream",
     "text": [
      "\n",
      "\n",
      "\u001b[1m> Entering new AgentExecutor chain...\u001b[0m\n",
      "\u001b[32;1m\u001b[1;3m\n",
      "Thought: Do I need to use a tool? Yes\n",
      "Action: Query Engine Tool\n",
      "Action Input: Information about Paul Graham in a Markdown table\u001b[0m"
     ]
    },
    {
     "name": "stderr",
     "output_type": "stream",
     "text": [
      "Retrying langchain.llms.openai.completion_with_retry.<locals>._completion_with_retry in 4.0 seconds as it raised RateLimitError: The server had an error while processing your request. Sorry about that!.\n",
      "Retrying langchain.llms.openai.completion_with_retry.<locals>._completion_with_retry in 4.0 seconds as it raised RateLimitError: The server had an error while processing your request. Sorry about that!.\n"
     ]
    },
    {
     "name": "stdout",
     "output_type": "stream",
     "text": [
      "\n",
      "Observation: \u001b[36;1m\u001b[1;3m\n",
      "| Information | Description |\n",
      "| ---------- | ----------- |\n",
      "| Education | Attended RISD and dropped out in 1993 |\n",
      "| Career | Worked at Interleaf, Viaweb, Y Combinator, and wrote Bel in Arc |\n",
      "| Location | Moved to New York in 1993, then to England in 2016 |\n",
      "| Art | Taught himself to paint and studied color theory at RISD |\n",
      "| Writing | Wrote essays and kept a blog |\u001b[0m\n",
      "Thought:\u001b[32;1m\u001b[1;3m Do I need to use a tool? No\n",
      "AI: Paul Graham is an influential figure in the tech and startup world. He is the co-founder of Y Combinator, a startup accelerator, and is known for his essays on technology and startups. He is also the author of the book Hackers & Painters.\u001b[0m\n",
      "\n",
      "\u001b[1m> Finished chain.\u001b[0m\n"
     ]
    }
   ],
   "source": [
    "response = chat_engine.chat('Use tool and give me information about Paul Graham in a Markdown table')"
   ]
  },
  {
   "cell_type": "code",
   "execution_count": 37,
   "id": "a7c5c258-397d-47f2-87d3-7c1e62138211",
   "metadata": {
    "tags": []
   },
   "outputs": [
    {
     "name": "stdout",
     "output_type": "stream",
     "text": [
      "Paul Graham is an influential figure in the tech and startup world. He is the co-founder of Y Combinator, a startup accelerator, and is known for his essays on technology and startups. He is also the author of the book Hackers & Painters.\n"
     ]
    }
   ],
   "source": [
    "print(response)"
   ]
  },
  {
   "cell_type": "code",
   "execution_count": 26,
   "id": "03df3bfd-bc59-4f21-8458-f18b16e7b389",
   "metadata": {
    "tags": []
   },
   "outputs": [
    {
     "name": "stdout",
     "output_type": "stream",
     "text": [
      "\n",
      "\n",
      "\u001b[1m> Entering new AgentExecutor chain...\u001b[0m\n",
      "\u001b[32;1m\u001b[1;3mAI: You asked me who Paul Graham is.\u001b[0m\n",
      "\n",
      "\u001b[1m> Finished chain.\u001b[0m\n"
     ]
    }
   ],
   "source": [
    "response = chat_engine.chat('What did I ask you?')"
   ]
  },
  {
   "cell_type": "code",
   "execution_count": 27,
   "id": "58d4f135-8108-44ea-89fe-8d190089e089",
   "metadata": {
    "tags": []
   },
   "outputs": [
    {
     "name": "stdout",
     "output_type": "stream",
     "text": [
      "You asked me who Paul Graham is.\n"
     ]
    }
   ],
   "source": [
    "print(response)"
   ]
  }
 ],
 "metadata": {
  "kernelspec": {
   "display_name": "Python 3 (ipykernel)",
   "language": "python",
   "name": "python3"
  },
  "language_info": {
   "codemirror_mode": {
    "name": "ipython",
    "version": 3
   },
   "file_extension": ".py",
   "mimetype": "text/x-python",
   "name": "python",
   "nbconvert_exporter": "python",
   "pygments_lexer": "ipython3",
   "version": "3.9.16"
  }
 },
 "nbformat": 4,
 "nbformat_minor": 5
}
