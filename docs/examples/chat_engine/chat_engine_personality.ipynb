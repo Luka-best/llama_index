{
 "cells": [
  {
   "cell_type": "markdown",
   "id": "872e4a4f-e172-4e10-9e12-18d2057028bc",
   "metadata": {
    "tags": []
   },
   "source": [
    "# Chat Engine with Personality"
   ]
  },
  {
   "cell_type": "markdown",
   "id": "9fcf5c89-1972-444b-9607-20cfd4991b3b",
   "metadata": {},
   "source": [
    "## Default"
   ]
  },
  {
   "cell_type": "code",
   "execution_count": 28,
   "id": "43b3edb9-34ff-40fe-aa06-5be75e84726d",
   "metadata": {
    "tags": []
   },
   "outputs": [
    {
     "name": "stdout",
     "output_type": "stream",
     "text": [
      "\n",
      "The Fourth of July is a day to celebrate the beauty of freedom and the power of love.\n"
     ]
    }
   ],
   "source": [
    "from llama_index.chat_engine import SimpleChatEngine\n",
    "\n",
    "chat_engine = SimpleChatEngine.from_defaults()\n",
    "response = chat_engine.chat('Say something profound and romantic about fourth of July')\n",
    "print(response)"
   ]
  },
  {
   "cell_type": "markdown",
   "id": "c2d61b22-15fb-49e4-abdf-b4bb4c912725",
   "metadata": {
    "tags": []
   },
   "source": [
    "## Shakespeare"
   ]
  },
  {
   "cell_type": "code",
   "execution_count": 19,
   "id": "922652b3-5afd-4365-bc24-aa9a8db24eeb",
   "metadata": {
    "tags": []
   },
   "outputs": [],
   "source": [
    "from llama_index.chat_engine import SimpleChatEngine\n",
    "from llama_index.prompts.system import SHAKESPEARE_WRITING_ASSISTANT\n",
    "\n",
    "chat_engine = SimpleChatEngine.from_defaults(system_prompt=SHAKESPEARE_WRITING_ASSISTANT)\n",
    "response = chat_engine.chat('Say something profound and romantic about fourth of July')\n",
    "print(response)"
   ]
  },
  {
   "cell_type": "markdown",
   "id": "2294b06b-ea83-460d-8513-158ca8172211",
   "metadata": {},
   "source": [
    "## Marketing"
   ]
  },
  {
   "cell_type": "code",
   "execution_count": 23,
   "id": "595b9b8a-03ee-4df7-a314-108dfabe7a9d",
   "metadata": {
    "tags": []
   },
   "outputs": [],
   "source": [
    "from llama_index.chat_engine import SimpleChatEngine\n",
    "from llama_index.prompts.system import MARKETING_WRITING_ASSISTANT\n",
    "\n",
    "chat_engine = SimpleChatEngine.from_defaults(system_prompt=MARKETING_WRITING_ASSISTANT)\n",
    "response = chat_engine.chat('Say something profound and romantic about fourth of July')\n",
    "print(response)"
   ]
  },
  {
   "cell_type": "markdown",
   "id": "cf1c0f2c-2b47-4523-aa41-4e393203733a",
   "metadata": {},
   "source": [
    "## IRS Tax"
   ]
  },
  {
   "cell_type": "code",
   "execution_count": 29,
   "id": "ae0087e6-9da8-4404-9945-fff449e1a70d",
   "metadata": {
    "tags": []
   },
   "outputs": [
    {
     "name": "stdout",
     "output_type": "stream",
     "text": [
      " I'm sorry, I can only help with any tax-related questions you may have.\n"
     ]
    }
   ],
   "source": [
    "from llama_index.chat_engine import SimpleChatEngine\n",
    "from llama_index.prompts.system import IRS_TAX_CHATBOT\n",
    "\n",
    "chat_engine = SimpleChatEngine.from_defaults(system_prompt=IRS_TAX_CHATBOT)\n",
    "response = chat_engine.chat('Say something profound and romantic about fourth of July')\n",
    "print(response)"
   ]
  }
 ],
 "metadata": {
  "kernelspec": {
   "display_name": "Python 3 (ipykernel)",
   "language": "python",
   "name": "python3"
  },
  "language_info": {
   "codemirror_mode": {
    "name": "ipython",
    "version": 3
   },
   "file_extension": ".py",
   "mimetype": "text/x-python",
   "name": "python",
   "nbconvert_exporter": "python",
   "pygments_lexer": "ipython3",
   "version": "3.9.16"
  }
 },
 "nbformat": 4,
 "nbformat_minor": 5
}
