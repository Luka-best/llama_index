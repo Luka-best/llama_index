{
 "cells": [
  {
   "cell_type": "markdown",
   "id": "18e20fbc-056b-44ac-b1fc-2d34b8e99bcc",
   "metadata": {},
   "source": [
    "\n",
    "# Chat Engine"
   ]
  },
  {
   "cell_type": "code",
   "execution_count": 1,
   "id": "a9ac125a-79df-452d-9f58-ac4f30997acf",
   "metadata": {
    "tags": []
   },
   "outputs": [],
   "source": [
    "from llama_index import GPTVectorStoreIndex, SimpleDirectoryReader, ServiceContext, LLMPredictor"
   ]
  },
  {
   "cell_type": "code",
   "execution_count": 2,
   "id": "709efda2-cdca-448d-8c24-5bf4e47dca42",
   "metadata": {
    "tags": []
   },
   "outputs": [],
   "source": [
    "data = SimpleDirectoryReader(input_dir=\"data/paul_graham/\").load_data()"
   ]
  },
  {
   "cell_type": "code",
   "execution_count": 3,
   "id": "8038158f-545e-492c-953d-9853b7709e94",
   "metadata": {
    "tags": []
   },
   "outputs": [],
   "source": [
    "index = GPTVectorStoreIndex.from_documents(data)"
   ]
  },
  {
   "cell_type": "markdown",
   "id": "6023426c-d402-445c-8151-8dcf94166227",
   "metadata": {},
   "source": [
    "## Chat Mode: Condense Question"
   ]
  },
  {
   "cell_type": "code",
   "execution_count": 4,
   "id": "164ef191-f86a-4ce1-aa9d-64d61f29dd45",
   "metadata": {
    "tags": []
   },
   "outputs": [],
   "source": [
    "chat_engine = index.as_chat_engine(verbose=True)"
   ]
  },
  {
   "cell_type": "code",
   "execution_count": 36,
   "id": "825b5bb3-37ff-4886-be2c-264584ca9eab",
   "metadata": {
    "tags": []
   },
   "outputs": [
    {
     "name": "stdout",
     "output_type": "stream",
     "text": [
      "Querying with:  What is Paul Graham's post-YC career?\n"
     ]
    }
   ],
   "source": [
    "response = chat_engine.chat('What did Paul Graham do after YC?')"
   ]
  },
  {
   "cell_type": "code",
   "execution_count": 37,
   "id": "d8fa4310-4dc5-4787-a073-755d2e0b4887",
   "metadata": {
    "tags": []
   },
   "outputs": [
    {
     "name": "stdout",
     "output_type": "stream",
     "text": [
      "\n",
      "Paul Graham's post-YC career is not known. He has continued to work on YC, writing essays, and working on internal software in Arc. He has also worked on Hacker News, which was meant to be a news aggregator for startup founders, and was originally called Startup News. He has also worked on a new version of Arc with Robert Morris.\n"
     ]
    }
   ],
   "source": [
    "print(response)"
   ]
  },
  {
   "cell_type": "code",
   "execution_count": 38,
   "id": "f6181319-5d76-48c4-a5d4-23c6e9bc5ccb",
   "metadata": {
    "tags": []
   },
   "outputs": [
    {
     "name": "stdout",
     "output_type": "stream",
     "text": [
      "Querying with:  What other projects has Paul Graham worked on after YC?\n"
     ]
    }
   ],
   "source": [
    "response = chat_engine.chat('What about after that?')"
   ]
  },
  {
   "cell_type": "code",
   "execution_count": 33,
   "id": "95045f5b-7964-4872-bc91-809d9debf1f5",
   "metadata": {
    "tags": []
   },
   "outputs": [
    {
     "name": "stdout",
     "output_type": "stream",
     "text": [
      "\n",
      "Paul Graham pursued other projects such as writing essays, working on a new version of Arc, and creating Hacker News.\n"
     ]
    }
   ],
   "source": [
    "print(response)"
   ]
  },
  {
   "cell_type": "code",
   "execution_count": 40,
   "id": "d13cf082-1a91-43c5-8bad-76fa45be96f9",
   "metadata": {
    "tags": []
   },
   "outputs": [],
   "source": [
    "chat_engine.reset()"
   ]
  },
  {
   "cell_type": "code",
   "execution_count": null,
   "id": "627de435-d195-4dad-b314-a68e731979a9",
   "metadata": {
    "tags": []
   },
   "outputs": [],
   "source": [
    "chat_engine.chat('What about after that?')"
   ]
  },
  {
   "cell_type": "markdown",
   "id": "e2a8e72a-57e5-47c0-a879-db9baeb435f4",
   "metadata": {
    "tags": []
   },
   "source": [
    "## Chat Mode: ReAct "
   ]
  },
  {
   "cell_type": "code",
   "execution_count": null,
   "id": "7c8b37e9-9275-4435-aace-c902b1359fc3",
   "metadata": {
    "tags": []
   },
   "outputs": [],
   "source": [
    "chat_engine = index.as_chat_engine(chat_mode='react', verbose=True)"
   ]
  },
  {
   "cell_type": "code",
   "execution_count": null,
   "id": "6c119586-da6b-4c65-a02e-6498f1912dfd",
   "metadata": {
    "tags": []
   },
   "outputs": [],
   "source": [
    "chat_engine.chat('Who is Paul Graham')"
   ]
  },
  {
   "cell_type": "code",
   "execution_count": null,
   "id": "ddc658d5-72b4-4a17-b4d6-8db60c218023",
   "metadata": {
    "tags": []
   },
   "outputs": [],
   "source": [
    "chat_engine.chat('What did I ask you?')"
   ]
  },
  {
   "cell_type": "code",
   "execution_count": null,
   "id": "19b737d1-9e94-411e-a294-34405db1cc2b",
   "metadata": {
    "tags": []
   },
   "outputs": [],
   "source": [
    "chat_engine.chat('Use the tool to answer what Paul Graham did')"
   ]
  },
  {
   "cell_type": "code",
   "execution_count": null,
   "id": "03508add-1225-41d5-be95-05e3eb8bbf44",
   "metadata": {},
   "outputs": [],
   "source": []
  }
 ],
 "metadata": {
  "kernelspec": {
   "display_name": "Python 3 (ipykernel)",
   "language": "python",
   "name": "python3"
  },
  "language_info": {
   "codemirror_mode": {
    "name": "ipython",
    "version": 3
   },
   "file_extension": ".py",
   "mimetype": "text/x-python",
   "name": "python",
   "nbconvert_exporter": "python",
   "pygments_lexer": "ipython3",
   "version": "3.9.16"
  }
 },
 "nbformat": 4,
 "nbformat_minor": 5
}
