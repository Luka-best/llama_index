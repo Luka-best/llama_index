{
 "cells": [
  {
   "cell_type": "markdown",
   "id": "18e20fbc-056b-44ac-b1fc-2d34b8e99bcc",
   "metadata": {},
   "source": [
    "\n",
    "# Chat Engine"
   ]
  },
  {
   "cell_type": "code",
   "execution_count": 1,
   "id": "a9ac125a-79df-452d-9f58-ac4f30997acf",
   "metadata": {
    "tags": []
   },
   "outputs": [],
   "source": [
    "from llama_index import GPTVectorStoreIndex, SimpleDirectoryReader, ServiceContext, LLMPredictor\n",
    "from langchain import OpenAI"
   ]
  },
  {
   "cell_type": "code",
   "execution_count": 2,
   "id": "709efda2-cdca-448d-8c24-5bf4e47dca42",
   "metadata": {
    "tags": []
   },
   "outputs": [],
   "source": [
    "data = SimpleDirectoryReader(input_dir=\"data/paul_graham/\").load_data()"
   ]
  },
  {
   "cell_type": "code",
   "execution_count": 3,
   "id": "8038158f-545e-492c-953d-9853b7709e94",
   "metadata": {
    "tags": []
   },
   "outputs": [],
   "source": [
    "index = GPTVectorStoreIndex.from_documents(data)"
   ]
  },
  {
   "cell_type": "markdown",
   "id": "6023426c-d402-445c-8151-8dcf94166227",
   "metadata": {},
   "source": [
    "## Chat Mode: Condense Question"
   ]
  },
  {
   "cell_type": "code",
   "execution_count": 4,
   "id": "164ef191-f86a-4ce1-aa9d-64d61f29dd45",
   "metadata": {
    "tags": []
   },
   "outputs": [],
   "source": [
    "chat_engine = index.as_chat_engine()"
   ]
  },
  {
   "cell_type": "code",
   "execution_count": 5,
   "id": "825b5bb3-37ff-4886-be2c-264584ca9eab",
   "metadata": {
    "tags": []
   },
   "outputs": [],
   "source": [
    "response = chat_engine.chat('Who is Paul Graham')"
   ]
  },
  {
   "cell_type": "code",
   "execution_count": 6,
   "id": "d8fa4310-4dc5-4787-a073-755d2e0b4887",
   "metadata": {
    "tags": []
   },
   "outputs": [
    {
     "name": "stdout",
     "output_type": "stream",
     "text": [
      "\n",
      "Paul Graham is a computer programmer and entrepreneur who wrote a new Lisp programming language called Bel in 2015. He wrote essays and worked on Bel for several years, and eventually finished it in 2019. He also wrote a book on Lisp and started a company to build online stores in 1995. He is originally from England and currently lives there with his family.\n"
     ]
    }
   ],
   "source": [
    "print(response)"
   ]
  },
  {
   "cell_type": "code",
   "execution_count": 7,
   "id": "f6181319-5d76-48c4-a5d4-23c6e9bc5ccb",
   "metadata": {
    "tags": []
   },
   "outputs": [],
   "source": [
    "response = chat_engine.chat('what did I just say?')"
   ]
  },
  {
   "cell_type": "code",
   "execution_count": 8,
   "id": "95045f5b-7964-4872-bc91-809d9debf1f5",
   "metadata": {
    "tags": []
   },
   "outputs": [
    {
     "name": "stdout",
     "output_type": "stream",
     "text": [
      "\n",
      "Paul Graham is known for his work in computer programming, particularly in the development of the Lisp programming language. He is also known for his essays, which have been collected in a book called Hackers & Painters, and for his work in venture capital and angel investing.\n"
     ]
    }
   ],
   "source": [
    "print(response)"
   ]
  },
  {
   "cell_type": "markdown",
   "id": "e2a8e72a-57e5-47c0-a879-db9baeb435f4",
   "metadata": {
    "tags": []
   },
   "source": [
    "## Chat Mode: ReAct "
   ]
  },
  {
   "cell_type": "code",
   "execution_count": 13,
   "id": "7c8b37e9-9275-4435-aace-c902b1359fc3",
   "metadata": {
    "tags": []
   },
   "outputs": [],
   "source": [
    "chat_engine = index.as_chat_engine(chat_mode='react', verbose=True)"
   ]
  },
  {
   "cell_type": "code",
   "execution_count": 14,
   "id": "6c119586-da6b-4c65-a02e-6498f1912dfd",
   "metadata": {
    "tags": []
   },
   "outputs": [
    {
     "name": "stdout",
     "output_type": "stream",
     "text": [
      "\n",
      "\n",
      "\u001b[1m> Entering new AgentExecutor chain...\u001b[0m\n",
      "\u001b[32;1m\u001b[1;3m\n",
      "Thought: Do I need to use a tool? Yes\n",
      "Action: Query Engine Tool\n",
      "Action Input: Who is Paul Graham\u001b[0m\n",
      "Observation: \u001b[36;1m\u001b[1;3m\n",
      "Paul Graham is an entrepreneur, investor, and essayist. He is the co-founder of Y Combinator, a startup accelerator, and is known for his essays on technology and startups. He is also the author of the book Hackers & Painters.\u001b[0m\n",
      "Thought:\u001b[32;1m\u001b[1;3m Do I need to use a tool? No\n",
      "AI: Paul Graham is an entrepreneur, investor, and essayist. He is the co-founder of Y Combinator, a startup accelerator, and is known for his essays on technology and startups. He is also the author of the book Hackers & Painters.\u001b[0m\n",
      "\n",
      "\u001b[1m> Finished chain.\u001b[0m\n"
     ]
    },
    {
     "data": {
      "text/plain": [
       "'Paul Graham is an entrepreneur, investor, and essayist. He is the co-founder of Y Combinator, a startup accelerator, and is known for his essays on technology and startups. He is also the author of the book Hackers & Painters.'"
      ]
     },
     "execution_count": 14,
     "metadata": {},
     "output_type": "execute_result"
    }
   ],
   "source": [
    "chat_engine.chat('Who is Paul Graham')"
   ]
  },
  {
   "cell_type": "code",
   "execution_count": 17,
   "id": "ddc658d5-72b4-4a17-b4d6-8db60c218023",
   "metadata": {
    "tags": []
   },
   "outputs": [
    {
     "name": "stdout",
     "output_type": "stream",
     "text": [
      "\n",
      "\n",
      "\u001b[1m> Entering new AgentExecutor chain...\u001b[0m\n",
      "\u001b[32;1m\u001b[1;3m\n",
      "Thought: Do I need to use a tool? No\n",
      "AI: You asked me who Paul Graham is.\u001b[0m\n",
      "\n",
      "\u001b[1m> Finished chain.\u001b[0m\n"
     ]
    },
    {
     "data": {
      "text/plain": [
       "'You asked me who Paul Graham is.'"
      ]
     },
     "execution_count": 17,
     "metadata": {},
     "output_type": "execute_result"
    }
   ],
   "source": [
    "chat_engine.chat('What did I ask you?')"
   ]
  },
  {
   "cell_type": "code",
   "execution_count": 18,
   "id": "19b737d1-9e94-411e-a294-34405db1cc2b",
   "metadata": {
    "tags": []
   },
   "outputs": [
    {
     "name": "stdout",
     "output_type": "stream",
     "text": [
      "\n",
      "\n",
      "\u001b[1m> Entering new AgentExecutor chain...\u001b[0m\n",
      "\u001b[32;1m\u001b[1;3m\n",
      "Thought: Do I need to use a tool? Yes\n",
      "Action: Query Engine Tool\n",
      "Action Input: What did Paul Graham do\u001b[0m\n",
      "Observation: \u001b[36;1m\u001b[1;3m\n",
      "Paul Graham worked on a variety of projects, including writing essays, working on Y Combinator, and writing a new Lisp called Bel. He also moved to England with his family and wrote essays about his experiences.\u001b[0m\n",
      "Thought:\u001b[32;1m\u001b[1;3m Do I need to use a tool? No\n",
      "AI: Paul Graham is an entrepreneur, investor, and essayist who has worked on a variety of projects, including writing essays, working on Y Combinator, and writing a new Lisp called Bel. He also moved to England with his family and wrote essays about his experiences.\u001b[0m\n",
      "\n",
      "\u001b[1m> Finished chain.\u001b[0m\n"
     ]
    },
    {
     "data": {
      "text/plain": [
       "'Paul Graham is an entrepreneur, investor, and essayist who has worked on a variety of projects, including writing essays, working on Y Combinator, and writing a new Lisp called Bel. He also moved to England with his family and wrote essays about his experiences.'"
      ]
     },
     "execution_count": 18,
     "metadata": {},
     "output_type": "execute_result"
    }
   ],
   "source": [
    "chat_engine.chat('Use the tool to answer what Paul Graham did')"
   ]
  },
  {
   "cell_type": "code",
   "execution_count": null,
   "id": "03508add-1225-41d5-be95-05e3eb8bbf44",
   "metadata": {},
   "outputs": [],
   "source": []
  }
 ],
 "metadata": {
  "kernelspec": {
   "display_name": "Python 3 (ipykernel)",
   "language": "python",
   "name": "python3"
  },
  "language_info": {
   "codemirror_mode": {
    "name": "ipython",
    "version": 3
   },
   "file_extension": ".py",
   "mimetype": "text/x-python",
   "name": "python",
   "nbconvert_exporter": "python",
   "pygments_lexer": "ipython3",
   "version": "3.9.16"
  }
 },
 "nbformat": 4,
 "nbformat_minor": 5
}
