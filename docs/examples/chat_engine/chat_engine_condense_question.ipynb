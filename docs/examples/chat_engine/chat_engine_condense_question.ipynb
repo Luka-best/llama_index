{
 "cells": [
  {
   "attachments": {},
   "cell_type": "markdown",
   "id": "18e20fbc-056b-44ac-b1fc-2d34b8e99bcc",
   "metadata": {},
   "source": [
    "\n",
    "# Chat Engine - Condense Question Mode"
   ]
  },
  {
   "attachments": {},
   "cell_type": "markdown",
   "id": "b99eea02-429c-40e4-99be-b82a89c8d070",
   "metadata": {},
   "source": [
    "Condense question is a simple chat mode built on top of a query engine over your data."
   ]
  },
  {
   "attachments": {},
   "cell_type": "markdown",
   "id": "34d34fcc-e247-4d55-ab16-c3d633e2385a",
   "metadata": {
    "tags": []
   },
   "source": [
    "For each chat interaction:\n",
    "* first generate a standalone question from conversation context and last message, then \n",
    "* query the query engine with the condensed question for a response.\n",
    "* Supports individual chat context. Stores chat history based on the passed user ID. If ID not passed, picks default chat history."
   ]
  },
  {
   "attachments": {},
   "cell_type": "markdown",
   "id": "f1c3cbc6-98a8-4e0e-98eb-3c7fa09ba79f",
   "metadata": {},
   "source": [
    "This approach is simple, and works for questions directly related to the knowledge base. \n",
    "Since it *always* queries the knowledge base, it can have difficulty answering meta questions like \"what did I ask you before?\""
   ]
  },
  {
   "attachments": {},
   "cell_type": "markdown",
   "id": "b314f279-bf7f-4e67-9f66-ebf783f08d38",
   "metadata": {
    "tags": []
   },
   "source": [
    "### Get started in 5 lines of code"
   ]
  },
  {
   "attachments": {},
   "cell_type": "markdown",
   "id": "1778820a-4c58-4b2f-8b1a-3d6f1f49995d",
   "metadata": {
    "tags": []
   },
   "source": [
    "Load data and build index"
   ]
  },
  {
   "cell_type": "code",
   "execution_count": 19,
   "id": "a9ac125a-79df-452d-9f58-ac4f30997acf",
   "metadata": {
    "tags": []
   },
   "outputs": [],
   "source": [
    "from llama_index import GPTVectorStoreIndex, SimpleDirectoryReader\n",
    "data = SimpleDirectoryReader(input_dir=\"../data/paul_graham/\").load_data()\n",
    "index = GPTVectorStoreIndex.from_documents(data)"
   ]
  },
  {
   "attachments": {},
   "cell_type": "markdown",
   "id": "e58d7ad9-d246-477e-acac-894ad5402f24",
   "metadata": {
    "tags": []
   },
   "source": [
    "Configure chat engine"
   ]
  },
  {
   "cell_type": "code",
   "execution_count": 20,
   "id": "164ef191-f86a-4ce1-aa9d-64d61f29dd45",
   "metadata": {
    "tags": []
   },
   "outputs": [],
   "source": [
    "chat_engine = index.as_chat_engine(verbose=True)"
   ]
  },
  {
   "attachments": {},
   "cell_type": "markdown",
   "id": "63a4259d-89b5-49f8-b158-9eba5353d6f5",
   "metadata": {},
   "source": [
    "Chat with your data by passing unique user_id. Maintains individual chat history now!"
   ]
  },
  {
   "cell_type": "code",
   "execution_count": 27,
   "id": "825b5bb3-37ff-4886-be2c-264584ca9eab",
   "metadata": {
    "tags": []
   },
   "outputs": [
    {
     "name": "stdout",
     "output_type": "stream",
     "text": [
      "Querying with: What were Paul Graham's activities prior to founding Y Combinator and becoming a venture capitalist, entrepreneur, and technology innovator?\n"
     ]
    }
   ],
   "source": [
    "response = chat_engine.chat('What did the author do growing up', user_id=\"user_1\")"
   ]
  },
  {
   "cell_type": "code",
   "execution_count": 22,
   "id": "d8fa4310-4dc5-4787-a073-755d2e0b4887",
   "metadata": {
    "tags": []
   },
   "outputs": [
    {
     "name": "stdout",
     "output_type": "stream",
     "text": [
      "\n",
      "Prior to founding Y Combinator and becoming a venture capitalist, entrepreneur, and technology innovator, Paul Graham was a computer programmer and writer. He had written essays on technology and business, and had co-founded a software company with Robert Morris and Trevor Blackwell. He had also been working on a new version of Arc, a programming language he had created.\n"
     ]
    }
   ],
   "source": [
    "print(response)"
   ]
  },
  {
   "attachments": {},
   "cell_type": "markdown",
   "id": "67021e64-8665-4338-9fb4-c0f1d6361092",
   "metadata": {},
   "source": [
    "Ask a follow up question"
   ]
  },
  {
   "cell_type": "code",
   "execution_count": 35,
   "id": "f6181319-5d76-48c4-a5d4-23c6e9bc5ccb",
   "metadata": {
    "tags": []
   },
   "outputs": [
    {
     "name": "stdout",
     "output_type": "stream",
     "text": [
      "Querying with: What motivated Paul Graham to continue writing essays and working on projects that weren't prestigious after he realized the implications of the internet for publishing?\n"
     ]
    },
    {
     "name": "stderr",
     "output_type": "stream",
     "text": [
      "Retrying langchain.llms.openai.completion_with_retry.<locals>._completion_with_retry in 4.0 seconds as it raised RateLimitError: The server had an error while processing your request. Sorry about that!.\n",
      "Retrying langchain.llms.openai.completion_with_retry.<locals>._completion_with_retry in 4.0 seconds as it raised RateLimitError: The server had an error while processing your request. Sorry about that!.\n"
     ]
    }
   ],
   "source": [
    "response = chat_engine.chat('What about after that?',user_id=\"user_1\")"
   ]
  },
  {
   "cell_type": "code",
   "execution_count": 29,
   "id": "95045f5b-7964-4872-bc91-809d9debf1f5",
   "metadata": {
    "tags": []
   },
   "outputs": [
    {
     "name": "stdout",
     "output_type": "stream",
     "text": [
      "\n",
      "After co-founding a software company and working on a new version of Arc, Paul Graham started publishing essays online. He realized that the internet had opened up a new channel for publishing essays, and he decided to take advantage of it. He also started working on a new dialect of Lisp, which he called Arc, in a house he bought in Cambridge. He then gave a talk at a Lisp conference about how he had used Lisp at Viaweb, and the talk went viral. This inspired him to continue writing essays and working on projects that weren't prestigious.\n"
     ]
    }
   ],
   "source": [
    "print(response)"
   ]
  },
  {
   "cell_type": "code",
   "execution_count": 30,
   "id": "72cc02dd-90b7-4d63-bdb2-e4c4666f87ef",
   "metadata": {
    "tags": []
   },
   "outputs": [
    {
     "name": "stdout",
     "output_type": "stream",
     "text": [
      "Querying with: What other activities did Paul Graham pursue after co-founding a software company and working on a new version of Arc?\n"
     ]
    }
   ],
   "source": [
    "response = chat_engine.chat('Can you tell me more?',user_id=\"user_1\")"
   ]
  },
  {
   "cell_type": "code",
   "execution_count": 26,
   "id": "d4f8efbb-fcb0-4c58-b92b-d2264a7e7103",
   "metadata": {
    "tags": []
   },
   "outputs": [
    {
     "name": "stdout",
     "output_type": "stream",
     "text": [
      "\n",
      "After co-founding a software company and working on a new version of Arc, Paul Graham worked on publishing essays online, painting, finding an apartment to buy, and building a web application for making web applications. He also worked on a new dialect of Lisp, which he called Arc, and a new kind of still life painting.\n"
     ]
    }
   ],
   "source": [
    "print(response)"
   ]
  },
  {
   "attachments": {},
   "cell_type": "markdown",
   "id": "d912ff70",
   "metadata": {},
   "source": [
    "Works without passing the unique user ID as well, Picks default chat history. This is how chat engine currently works"
   ]
  },
  {
   "cell_type": "code",
   "execution_count": 39,
   "id": "5abf3474",
   "metadata": {},
   "outputs": [
    {
     "name": "stdout",
     "output_type": "stream",
     "text": [
      "Querying with: What were the author's experiences growing up?\n"
     ]
    }
   ],
   "source": [
    "response = chat_engine.chat('What did author do growing up?')"
   ]
  },
  {
   "cell_type": "code",
   "execution_count": 40,
   "id": "9fac5e56",
   "metadata": {},
   "outputs": [
    {
     "name": "stdout",
     "output_type": "stream",
     "text": [
      "\n",
      "The author's experiences growing up are not explicitly stated in the context information. However, it can be inferred that the author had a strong interest in art from a young age, and was likely encouraged to pursue it. The author also had a strong interest in computer science, and was able to pursue this interest in grad school. The author was also able to take advantage of opportunities to explore art further, such as taking classes at Harvard and applying to art schools. The author was also able to take advantage of a financial opportunity when their startup was bought by Yahoo, which allowed them to pursue their dream of becoming an artist.\n"
     ]
    }
   ],
   "source": [
    "print(response)"
   ]
  },
  {
   "attachments": {},
   "cell_type": "markdown",
   "id": "c2c68de8-af58-4f7e-8759-19fc072873fd",
   "metadata": {},
   "source": [
    "Reset conversation state, Now support resetting individual chat history\n",
    "- if `user_id` is passed, deletes particular chat history\n",
    "- if nothing is not passed, deletes the default chat history.\n",
    "- if `reset_all` boolean is set to true, delete the entire chat history context."
   ]
  },
  {
   "cell_type": "code",
   "execution_count": 38,
   "id": "d13cf082-1a91-43c5-8bad-76fa45be96f9",
   "metadata": {
    "tags": []
   },
   "outputs": [],
   "source": [
    "# Deletes individual chat\n",
    "chat_engine.reset(user_id=\"user_1\")\n",
    "\n",
    "# Deletes the default chat history is nothing is passed\n",
    "chat_engine.reset()\n",
    "\n",
    "# Deletes the entire chat history context if reset_all boolean ( default is False) is send as True\n",
    "chat_engine.reset(reset_all=True)"
   ]
  },
  {
   "cell_type": "code",
   "execution_count": 31,
   "id": "627de435-d195-4dad-b314-a68e731979a9",
   "metadata": {
    "tags": []
   },
   "outputs": [
    {
     "name": "stdout",
     "output_type": "stream",
     "text": [
      "Querying with: What happens after the current situation?\n"
     ]
    }
   ],
   "source": [
    "response = chat_engine.chat('What about after that?')"
   ]
  },
  {
   "cell_type": "code",
   "execution_count": 32,
   "id": "75ef9e31-3cdb-4129-92f7-e61be201ea36",
   "metadata": {
    "tags": []
   },
   "outputs": [
    {
     "name": "stdout",
     "output_type": "stream",
     "text": [
      "\n",
      "After realizing that he did not want to run a company, the narrator decides to build a subset of the project as an open source project. He focuses on building a new Lisp, which he does not have to hide the parentheses of. He hopes to lure Robert into working on the project with him, but Robert refuses. The narrator then recruits Dan Giffin, who had worked for Viaweb, and two undergrads who wanted summer jobs, and they begin working on the project. After a few months, the narrator realizes that the time he spent working on the project was not wasted after all, and he is able to use the knowledge he gained to help other startups.\n"
     ]
    }
   ],
   "source": [
    "print(response)"
   ]
  }
 ],
 "metadata": {
  "kernelspec": {
   "display_name": "Python 3 (ipykernel)",
   "language": "python",
   "name": "python3"
  },
  "language_info": {
   "codemirror_mode": {
    "name": "ipython",
    "version": 3
   },
   "file_extension": ".py",
   "mimetype": "text/x-python",
   "name": "python",
   "nbconvert_exporter": "python",
   "pygments_lexer": "ipython3",
   "version": "3.9.0"
  }
 },
 "nbformat": 4,
 "nbformat_minor": 5
}
