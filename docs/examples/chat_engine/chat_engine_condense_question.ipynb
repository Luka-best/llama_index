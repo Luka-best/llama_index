{
 "cells": [
  {
   "cell_type": "markdown",
   "id": "18e20fbc-056b-44ac-b1fc-2d34b8e99bcc",
   "metadata": {},
   "source": [
    "\n",
    "# Chat Engine - Condense Question Mode"
   ]
  },
  {
   "cell_type": "markdown",
   "id": "b314f279-bf7f-4e67-9f66-ebf783f08d38",
   "metadata": {
    "tags": []
   },
   "source": [
    "### Load data and build index"
   ]
  },
  {
   "cell_type": "code",
   "execution_count": 1,
   "id": "a9ac125a-79df-452d-9f58-ac4f30997acf",
   "metadata": {
    "tags": []
   },
   "outputs": [],
   "source": [
    "from llama_index import GPTVectorStoreIndex, SimpleDirectoryReader, ServiceContext, LLMPredictor"
   ]
  },
  {
   "cell_type": "code",
   "execution_count": 2,
   "id": "709efda2-cdca-448d-8c24-5bf4e47dca42",
   "metadata": {
    "tags": []
   },
   "outputs": [],
   "source": [
    "data = SimpleDirectoryReader(input_dir=\"data/paul_graham/\").load_data()"
   ]
  },
  {
   "cell_type": "code",
   "execution_count": 3,
   "id": "8038158f-545e-492c-953d-9853b7709e94",
   "metadata": {
    "tags": []
   },
   "outputs": [],
   "source": [
    "index = GPTVectorStoreIndex.from_documents(data)"
   ]
  },
  {
   "cell_type": "markdown",
   "id": "e58d7ad9-d246-477e-acac-894ad5402f24",
   "metadata": {
    "tags": []
   },
   "source": [
    "### Configure chat engine"
   ]
  },
  {
   "cell_type": "code",
   "execution_count": 4,
   "id": "164ef191-f86a-4ce1-aa9d-64d61f29dd45",
   "metadata": {
    "tags": []
   },
   "outputs": [],
   "source": [
    "chat_engine = index.as_chat_engine(verbose=True)"
   ]
  },
  {
   "cell_type": "markdown",
   "id": "63a4259d-89b5-49f8-b158-9eba5353d6f5",
   "metadata": {},
   "source": [
    "### Chat with your data"
   ]
  },
  {
   "cell_type": "code",
   "execution_count": 5,
   "id": "825b5bb3-37ff-4886-be2c-264584ca9eab",
   "metadata": {
    "tags": []
   },
   "outputs": [
    {
     "name": "stdout",
     "output_type": "stream",
     "text": [
      "Querying with: What was the next step in Paul Graham's career after his involvement with Y Combinator?\n"
     ]
    }
   ],
   "source": [
    "response = chat_engine.chat('What did Paul Graham do after YC?')"
   ]
  },
  {
   "cell_type": "code",
   "execution_count": 6,
   "id": "d8fa4310-4dc5-4787-a073-755d2e0b4887",
   "metadata": {
    "tags": []
   },
   "outputs": [
    {
     "name": "stdout",
     "output_type": "stream",
     "text": [
      "\n",
      "After his involvement with Y Combinator, Paul Graham went on to become a venture capitalist and angel investor. He founded the venture capital firm Y Combinator, which has invested in over 2,000 startups, including Airbnb, Dropbox, and Stripe. He also wrote several books on startups and investing, and continues to write essays on technology and entrepreneurship.\n"
     ]
    }
   ],
   "source": [
    "print(response)"
   ]
  },
  {
   "cell_type": "markdown",
   "id": "67021e64-8665-4338-9fb4-c0f1d6361092",
   "metadata": {},
   "source": [
    "Ask a follow up question"
   ]
  },
  {
   "cell_type": "code",
   "execution_count": 7,
   "id": "f6181319-5d76-48c4-a5d4-23c6e9bc5ccb",
   "metadata": {
    "tags": []
   },
   "outputs": [
    {
     "name": "stdout",
     "output_type": "stream",
     "text": [
      "Querying with: What other activities has Paul Graham been involved in since founding Y Combinator and writing books on startups and investing?\n"
     ]
    }
   ],
   "source": [
    "response = chat_engine.chat('What about after that?')"
   ]
  },
  {
   "cell_type": "code",
   "execution_count": 8,
   "id": "95045f5b-7964-4872-bc91-809d9debf1f5",
   "metadata": {
    "tags": []
   },
   "outputs": [
    {
     "name": "stdout",
     "output_type": "stream",
     "text": [
      "\n",
      "Since founding Y Combinator and writing books on startups and investing, Paul Graham has been involved in a variety of activities. He has given talks to encourage entrepreneurs, collaborated with Robert and Trevor on a new version of Arc, and invested in other startups. He has also been involved in the development of the Y Combinator model, which includes funding startups in batches, creating a tight alumni community, and helping startups find their initial customers. Additionally, he has continued to write essays and work on other projects.\n"
     ]
    }
   ],
   "source": [
    "print(response)"
   ]
  },
  {
   "cell_type": "code",
   "execution_count": 9,
   "id": "72cc02dd-90b7-4d63-bdb2-e4c4666f87ef",
   "metadata": {
    "tags": []
   },
   "outputs": [
    {
     "name": "stdout",
     "output_type": "stream",
     "text": [
      "Querying with: What other activities has Paul Graham been involved in since founding Y Combinator and writing books on startups and investing?\n"
     ]
    }
   ],
   "source": [
    "response = chat_engine.chat('Can you tell me more?')"
   ]
  },
  {
   "cell_type": "code",
   "execution_count": 10,
   "id": "d4f8efbb-fcb0-4c58-b92b-d2264a7e7103",
   "metadata": {
    "tags": []
   },
   "outputs": [
    {
     "name": "stdout",
     "output_type": "stream",
     "text": [
      "\n",
      "Since founding Y Combinator and writing books on startups and investing, Paul Graham has been involved in a variety of activities. He has given talks to encourage entrepreneurs, collaborated with Robert and Trevor on a new version of Arc, and invested in other startups. He has also been involved in the development of the Y Combinator model, which includes funding startups in batches, creating a tight alumni community, and helping startups find their initial customers. Additionally, he has continued to write essays and work on other projects.\n"
     ]
    }
   ],
   "source": [
    "print(response)"
   ]
  },
  {
   "cell_type": "markdown",
   "id": "c2c68de8-af58-4f7e-8759-19fc072873fd",
   "metadata": {},
   "source": [
    "Reset conversation state"
   ]
  },
  {
   "cell_type": "code",
   "execution_count": 11,
   "id": "d13cf082-1a91-43c5-8bad-76fa45be96f9",
   "metadata": {
    "tags": []
   },
   "outputs": [],
   "source": [
    "chat_engine.reset()"
   ]
  },
  {
   "cell_type": "code",
   "execution_count": 12,
   "id": "627de435-d195-4dad-b314-a68e731979a9",
   "metadata": {
    "tags": []
   },
   "outputs": [
    {
     "name": "stdout",
     "output_type": "stream",
     "text": [
      "Querying with: What happens after the current situation?\n"
     ]
    }
   ],
   "source": [
    "response = chat_engine.chat('What about after that?')"
   ]
  },
  {
   "cell_type": "code",
   "execution_count": 13,
   "id": "75ef9e31-3cdb-4129-92f7-e61be201ea36",
   "metadata": {
    "tags": []
   },
   "outputs": [
    {
     "name": "stdout",
     "output_type": "stream",
     "text": [
      "\n",
      "After the current situation, the narrator decides to build a subset of the new architecture as an open source project. He begins working on the new Lisp, which does not require hiding the parentheses. He recruits Dan Giffin, who had worked for Viaweb, and two undergrads who wanted summer jobs, and they begin working on the application builder, network infrastructure, and the first two services (images and phone calls). After Y Combinator is started, the narrator often encounters startups working on parts of the new architecture, and his prior experience is useful in this regard.\n"
     ]
    }
   ],
   "source": [
    "print(response)"
   ]
  }
 ],
 "metadata": {
  "kernelspec": {
   "display_name": "Python 3 (ipykernel)",
   "language": "python",
   "name": "python3"
  },
  "language_info": {
   "codemirror_mode": {
    "name": "ipython",
    "version": 3
   },
   "file_extension": ".py",
   "mimetype": "text/x-python",
   "name": "python",
   "nbconvert_exporter": "python",
   "pygments_lexer": "ipython3",
   "version": "3.9.16"
  }
 },
 "nbformat": 4,
 "nbformat_minor": 5
}
