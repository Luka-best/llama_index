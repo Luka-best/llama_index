{
 "cells": [
  {
   "cell_type": "markdown",
   "id": "f1b23ffc-22d8-4414-b2e4-66d45a03523d",
   "metadata": {
    "tags": []
   },
   "source": [
    "# LLM Reranker Demonstration\n",
    "\n",
    "This tutorial showcases how to do a two-stage pass for retrieval. Use embedding-based retrieval with a high top-k value\n",
    "in order to maximize recall and get a large set of candidate items. Then, use LLM-based retrieval\n",
    "to dynamically select the nodes that are actually relevant to the query."
   ]
  },
  {
   "cell_type": "code",
   "execution_count": 1,
   "id": "ab68a3ee-f4c1-4830-856a-9c37f7a42364",
   "metadata": {
    "tags": []
   },
   "outputs": [],
   "source": [
    "import nest_asyncio\n",
    "nest_asyncio.apply()"
   ]
  },
  {
   "cell_type": "code",
   "execution_count": 2,
   "id": "8c16404b-db81-4ee6-9c0f-cc4cdf3cb147",
   "metadata": {
    "tags": []
   },
   "outputs": [
    {
     "name": "stdout",
     "output_type": "stream",
     "text": [
      "INFO:numexpr.utils:Note: NumExpr detected 12 cores but \"NUMEXPR_MAX_THREADS\" not set, so enforcing safe limit of 8.\n",
      "Note: NumExpr detected 12 cores but \"NUMEXPR_MAX_THREADS\" not set, so enforcing safe limit of 8.\n",
      "INFO:numexpr.utils:NumExpr defaulting to 8 threads.\n",
      "NumExpr defaulting to 8 threads.\n"
     ]
    },
    {
     "name": "stderr",
     "output_type": "stream",
     "text": [
      "/Users/jerryliu/Programming/gpt_index/.venv/lib/python3.10/site-packages/tqdm/auto.py:21: TqdmWarning: IProgress not found. Please update jupyter and ipywidgets. See https://ipywidgets.readthedocs.io/en/stable/user_install.html\n",
      "  from .autonotebook import tqdm as notebook_tqdm\n"
     ]
    }
   ],
   "source": [
    "import logging\n",
    "import sys\n",
    "\n",
    "logging.basicConfig(stream=sys.stdout, level=logging.INFO)\n",
    "logging.getLogger().addHandler(logging.StreamHandler(stream=sys.stdout))\n",
    "from llama_index import GPTVectorStoreIndex, SimpleDirectoryReader, ServiceContext, LLMPredictor\n",
    "from llama_index.indices.postprocessor import (\n",
    "    LLMRerank\n",
    ")\n",
    "from langchain.chat_models import ChatOpenAI\n",
    "from IPython.display import Markdown, display"
   ]
  },
  {
   "cell_type": "markdown",
   "id": "8a5b0ac6-ec9c-40e1-9120-d20e33c37f80",
   "metadata": {
    "tags": []
   },
   "source": [
    "## Load Data, Build Index"
   ]
  },
  {
   "cell_type": "code",
   "execution_count": 16,
   "id": "b785b75a-cf4d-4799-8fd2-970e5c39727c",
   "metadata": {
    "tags": []
   },
   "outputs": [
    {
     "name": "stdout",
     "output_type": "stream",
     "text": [
      "WARNING:llama_index.llm_predictor.base:Unknown max input size for gpt-3.5-turbo, using defaults.\n",
      "Unknown max input size for gpt-3.5-turbo, using defaults.\n"
     ]
    }
   ],
   "source": [
    "# LLM Predictor (gpt-3.5-turbo) + service context\n",
    "llm_predictor = LLMPredictor(llm=ChatOpenAI(temperature=0, model_name=\"gpt-3.5-turbo\"))\n",
    "service_context = ServiceContext.from_defaults(llm_predictor=llm_predictor, chunk_size_limit=512)"
   ]
  },
  {
   "cell_type": "code",
   "execution_count": 17,
   "id": "9b689e92-fc55-48b5-859f-2a2c1394c872",
   "metadata": {},
   "outputs": [],
   "source": [
    "# load documents\n",
    "documents = SimpleDirectoryReader('../../../examples/gatsby/data').load_data()"
   ]
  },
  {
   "cell_type": "code",
   "execution_count": 18,
   "id": "1a01180d-67c8-4664-a4ee-ceab1367cb78",
   "metadata": {
    "scrolled": true,
    "tags": []
   },
   "outputs": [
    {
     "data": {
      "text/plain": [
       "[Document(text='\\n                                 VII\\n\\nIt was when curiosity about Gatsby was at its highest that the lights\\nin his house failed to go on one Saturday night—and, as obscurely as\\nit had begun, his career as Trimalchio was over. Only gradually did I\\nbecome aware that the automobiles which turned expectantly into his\\ndrive stayed for just a minute and then drove sulkily away. Wondering\\nif he were sick I went over to find out—an unfamiliar butler with a\\nvillainous face squinted at me suspiciously from the door.\\n\\n“Is Mr. Gatsby sick?”\\n\\n“Nope.” After a pause he added “sir” in a dilatory, grudging way.\\n\\n“I hadn’t seen him around, and I was rather worried. Tell him Mr.\\nCarraway came over.”\\n\\n“Who?” he demanded rudely.\\n\\n“Carraway.”\\n\\n“Carraway. All right, I’ll tell him.”\\n\\nAbruptly he slammed the door.\\n\\nMy Finn informed me that Gatsby had dismissed every servant in his\\nhouse a week ago and replaced them with half a dozen others, who never\\nwent into West Egg village to be bribed by the tradesmen, but ordered\\nmoderate supplies over the telephone. The grocery boy reported that\\nthe kitchen looked like a pigsty, and the general opinion in the\\nvillage was that the new people weren’t servants at all.\\n\\nNext day Gatsby called me on the phone.\\n\\n“Going away?” I inquired.\\n\\n“No, old sport.”\\n\\n“I hear you fired all your servants.”\\n\\n“I wanted somebody who wouldn’t gossip. Daisy comes over quite\\noften—in the afternoons.”\\n\\nSo the whole caravansary had fallen in like a card house at the\\ndisapproval in her eyes.\\n\\n“They’re some people Wolfshiem wanted to do something for. They’re all\\nbrothers and sisters. They used to run a small hotel.”\\n\\n“I see.”\\n\\nHe was calling up at Daisy’s request—would I come to lunch at her\\nhouse tomorrow? Miss Baker would be there. Half an hour later Daisy\\nherself telephoned and seemed relieved to find that I was\\ncoming. Something was up. And yet I couldn’t believe that they would\\nchoose this occasion for a scene—especially for the rather harrowing\\nscene that Gatsby had outlined in the garden.\\n\\nThe next day was broiling, almost the last, certainly the warmest, of\\nthe summer. As my train emerged from the tunnel into sunlight, only\\nthe hot whistles of the National Biscuit Company broke the simmering\\nhush at noon. The straw seats of the car hovered on the edge of\\ncombustion; the woman next to me perspired delicately for a while into\\nher white shirtwaist, and then, as her newspaper dampened under her\\nfingers, lapsed despairingly into deep heat with a desolate cry. Her\\npocketbook slapped to the floor.\\n\\n“Oh, my!” she gasped.\\n\\nI picked it up with a weary bend and handed it back to her, holding it\\nat arm’s length and by the extreme tip of the corners to indicate that\\nI had no designs upon it—but everyone near by, including the woman,\\nsuspected me just the same.\\n\\n“Hot!” said the conductor to familiar faces. “Some weather! … Hot! …\\nHot! … Hot! … Is it hot enough for you? Is it hot? Is it …\\u200a?”\\n\\nMy commutation ticket came back to me with a dark stain from his hand.\\nThat anyone should care in this heat whose flushed lips he kissed,\\nwhose head made damp the pyjama pocket over his heart!\\n\\n… Through the hall of the Buchanans’ house blew a faint wind, carrying\\nthe sound of the telephone bell out to Gatsby and me as we waited at\\nthe door.\\n\\n“The master’s body?” roared the butler into the mouthpiece. “I’m\\nsorry, madame, but we can’t furnish it—it’s far too hot to touch this\\nnoon!”\\n\\nWhat he really said was: “Yes … Yes … I’ll see.”\\n\\nHe set down the receiver and came toward us, glistening slightly, to\\ntake our stiff straw hats.\\n\\n“Madame expects you in the salon!” he cried, needlessly indicating the\\ndirection. In this heat every extra gesture was an affront to the\\ncommon store of life.\\n\\nThe room, shadowed well with awnings, was dark and cool. Daisy and\\nJordan lay upon an enormous couch, like silver idols weighing down\\ntheir own white dresses against the singing breeze of the fans.\\n\\n“We can’t move,” they said together.\\n\\nJordan’s fingers, powdered white over their tan, rested for a moment\\nin mine.\\n\\n“And Mr. Thomas Buchanan, the athlete?” I inquired.\\n\\nSimultaneously I heard his voice, gruff, muffled, husky, at the hall\\ntelephone.\\n\\nGatsby stood in the centre of the crimson carpet and gazed around with\\nfascinated eyes. Daisy watched him and laughed, her sweet, exciting\\nlaugh; a tiny gust of powder rose from her bosom into the air.\\n\\n“The rumour is,” whispered Jordan, “that that’s Tom’s girl on the\\ntelephone.”\\n\\nWe were silent. The voice in the hall rose high with annoyance: “Very\\nwell, then, I won’t sell you the car at all … I’m under no obligations\\nto you at all … and as for your bothering me about it at lunch time, I\\nwon’t stand that at all!”\\n\\n“Holding down the receiver,” said Daisy cynically.\\n\\n“No, he’s not,” I assured her. “It’s a bona-fide deal. I happen to\\nknow about it.”\\n\\nTom flung open the door, blocked out its space for a moment with his\\nthick body, and hurried into the room.\\n\\n“Mr. Gatsby!” He put out his broad, flat hand with well-concealed\\ndislike. “I’m glad to see you, sir … Nick …”\\n\\n“Make us a cold drink,” cried Daisy.\\n\\nAs he left the room again she got up and went over to Gatsby and\\npulled his face down, kissing him on the mouth.\\n\\n“You know I love you,” she murmured.\\n\\n“You forget there’s a lady present,” said Jordan.\\n\\nDaisy looked around doubtfully.\\n\\n“You kiss Nick too.”\\n\\n“What a low, vulgar girl!”\\n\\n“I don’t care!” cried Daisy, and began to clog on the brick fireplace.\\nThen she remembered the heat and sat down guiltily on the couch just\\nas a freshly laundered nurse leading a little girl came into the room.\\n\\n“Bles-sed pre-cious,” she crooned, holding out her arms. “Come to your\\nown mother that loves you.”\\n\\nThe child, relinquished by the nurse, rushed across the room and\\nrooted shyly into her mother’s dress.\\n\\n“The bles-sed pre-cious! Did mother get powder on your old yellowy\\nhair? Stand up now, and say—How-de-do.”\\n\\nGatsby and I in turn leaned down and took the small reluctant hand.\\nAfterward he kept looking at the child with surprise. I don’t think he\\nhad ever really believed in its existence before.\\n\\n“I got dressed before luncheon,” said the child, turning eagerly to\\nDaisy.\\n\\n“That’s because your mother wanted to show you off.” Her face bent\\ninto the single wrinkle of the small white neck. “You dream, you. You\\nabsolute little dream.”\\n\\n“Yes,” admitted the child calmly. “Aunt Jordan’s got on a white dress\\ntoo.”\\n\\n“How do you like mother’s friends?” Daisy turned her around so that\\nshe faced Gatsby. “Do you think they’re pretty?”\\n\\n“Where’s Daddy?”\\n\\n“She doesn’t look like her father,” explained Daisy. “She looks like\\nme. She’s got my hair and shape of the face.”\\n\\nDaisy sat back upon the couch. The nurse took a step forward and held\\nout her hand.\\n\\n“Come, Pammy.”\\n\\n“Goodbye, sweetheart!”\\n\\nWith a reluctant backward glance the well-disciplined child held to\\nher nurse’s hand and was pulled out the door, just as Tom came back,\\npreceding four gin rickeys that clicked full of ice.\\n\\nGatsby took up his drink.\\n\\n“They certainly look cool,” he said, with visible tension.\\n\\nWe drank in long, greedy swallows.\\n\\n“I read somewhere that the sun’s getting hotter every year,” said Tom\\ngenially. “It seems that pretty soon the earth’s going to fall into\\nthe sun—or wait a minute—it’s just the opposite—the sun’s getting\\ncolder every year.\\n\\n“Come outside,” he suggested to Gatsby, “I’d like you to have a look\\nat the place.”\\n\\nI went with them out to the veranda. On the green Sound, stagnant in\\nthe heat, one small sail crawled slowly toward the fresher sea.\\nGatsby’s eyes followed it momentarily; he raised his hand and pointed\\nacross the bay.\\n\\n“I’m right across from you.”\\n\\n“So you are.”\\n\\nOur eyes lifted over the rose-beds and the hot lawn and the weedy\\nrefuse of the dog-days alongshore. Slowly the white wings of the boat\\nmoved against the blue cool limit of the sky. Ahead lay the scalloped\\nocean and the abounding blessed isles.\\n\\n“There’s sport for you,” said Tom, nodding. “I’d like to be out there\\nwith him for about an hour.”\\n\\nWe had luncheon in the dining-room, darkened too against the heat, and\\ndrank down nervous gaiety with the cold ale.\\n\\n“What’ll we do with ourselves this afternoon?” cried Daisy, “and the\\nday after that, and the next thirty years?”\\n\\n“Don’t be morbid,” Jordan said. “Life starts all over again when it\\ngets crisp in the fall.”\\n\\n“But it’s so hot,” insisted Daisy, on the verge of tears, “and\\neverything’s so confused. Let’s all go to town!”\\n\\nHer voice struggled on through the heat, beating against it, moulding\\nits senselessness into forms.\\n\\n“I’ve heard of making a garage out of a stable,” Tom was saying to\\nGatsby, “but I’m the first man who ever made a stable out of a\\ngarage.”\\n\\n“Who wants to go to town?” demanded Daisy insistently. Gatsby’s eyes\\nfloated toward her. “Ah,” she cried, “you look so cool.”\\n\\nTheir eyes met, and they stared together at each other, alone in\\nspace. With an effort she glanced down at the table.\\n\\n“You always look so cool,” she repeated.\\n\\nShe had told him that she loved him, and Tom Buchanan saw. He was\\nastounded. His mouth opened a little, and he looked at Gatsby, and\\nthen back at Daisy as if he had just recognized her as someone he knew\\na long time ago.\\n\\n“You resemble the advertisement of the man,” she went on innocently.\\n“You know the advertisement of the man—”\\n\\n“All right,” broke in Tom quickly, “I’m perfectly willing to go to\\ntown. Come on—we’re all going to town.”\\n\\nHe got up, his eyes still flashing between Gatsby and his wife. No one\\nmoved.\\n\\n“Come on!” His temper cracked a little. “What’s the matter, anyhow?\\nIf we’re going to town, let’s start.”\\n\\nHis hand, trembling with his effort at self-control, bore to his lips\\nthe last of his glass of ale. Daisy’s voice got us to our feet and out\\non to the blazing gravel drive.\\n\\n“Are we just going to go?” she objected. “Like this? Aren’t we going\\nto let anyone smoke a cigarette first?”\\n\\n“Everybody smoked all through lunch.”\\n\\n“Oh, let’s have fun,” she begged him. “It’s too hot to fuss.”\\n\\nHe didn’t answer.\\n\\n“Have it your own way,” she said. “Come on, Jordan.”\\n\\nThey went upstairs to get ready while we three men stood there\\nshuffling the hot pebbles with our feet. A silver curve of the moon\\nhovered already in the western sky. Gatsby started to speak, changed\\nhis mind, but not before Tom wheeled and faced him expectantly.\\n\\n“Have you got your stables here?” asked Gatsby with an effort.\\n\\n“About a quarter of a mile down the road.”\\n\\n“Oh.”\\n\\nA pause.\\n\\n“I don’t see the idea of going to town,” broke out Tom savagely.\\n“Women get these notions in their heads—”\\n\\n“Shall we take anything to drink?” called Daisy from an upper window.\\n\\n“I’ll get some whisky,” answered Tom. He went inside.\\n\\nGatsby turned to me rigidly:\\n\\n“I can’t say anything in his house, old sport.”\\n\\n“She’s got an indiscreet voice,” I remarked. “It’s full of—” I\\nhesitated.\\n\\n“Her voice is full of money,” he said suddenly.\\n\\nThat was it. I’d never understood before. It was full of money—that\\nwas the inexhaustible charm that rose and fell in it, the jingle of\\nit, the cymbals’ song of it … High in a white palace the king’s\\ndaughter, the golden girl …\\n\\nTom came out of the house wrapping a quart bottle in a towel, followed\\nby Daisy and Jordan wearing small tight hats of metallic cloth and\\ncarrying light capes over their arms.\\n\\n“Shall we all go in my car?” suggested Gatsby. He felt the hot, green\\nleather of the seat. “I ought to have left it in the shade.”\\n\\n“Is it standard shift?” demanded Tom.\\n\\n“Yes.”\\n\\n“Well, you take my coupé and let me drive your car to town.”\\n\\nThe suggestion was distasteful to Gatsby.\\n\\n“I don’t think there’s much gas,” he objected.\\n\\n“Plenty of gas,” said Tom boisterously. He looked at the gauge. “And\\nif it runs out I can stop at a drugstore. You can buy anything at a\\ndrugstore nowadays.”\\n\\nA pause followed this apparently pointless remark. Daisy looked at Tom\\nfrowning, and an indefinable expression, at once definitely unfamiliar\\nand vaguely recognizable, as if I had only heard it described in\\nwords, passed over Gatsby’s face.\\n\\n“Come on, Daisy” said Tom, pressing her with his hand toward Gatsby’s\\ncar. “I’ll take you in this circus wagon.”\\n\\nHe opened the door, but she moved out from the circle of his arm.\\n\\n“You take Nick and Jordan. We’ll follow you in the coupé.”\\n\\nShe walked close to Gatsby, touching his coat with her hand. Jordan\\nand Tom and I got into the front seat of Gatsby’s car, Tom pushed the\\nunfamiliar gears tentatively, and we shot off into the oppressive\\nheat, leaving them out of sight behind.\\n\\n“Did you see that?” demanded Tom.\\n\\n“See what?”\\n\\nHe looked at me keenly, realizing that Jordan and I must have known\\nall along.\\n\\n“You think I’m pretty dumb, don’t you?” he suggested. “Perhaps I am,\\nbut I have a—almost a second sight, sometimes, that tells me what to\\ndo. Maybe you don’t believe that, but science—”\\n\\nHe paused. The immediate contingency overtook him, pulled him back\\nfrom the edge of theoretical abyss.\\n\\n“I’ve made a small investigation of this fellow,” he continued. “I\\ncould have gone deeper if I’d known—”\\n\\n“Do you mean you’ve been to a medium?” inquired Jordan humorously.\\n\\n“What?” Confused, he stared at us as we laughed. “A medium?”\\n\\n“About Gatsby.”\\n\\n“About Gatsby! No, I haven’t. I said I’d been making a small\\ninvestigation of his past.”\\n\\n“And you found he was an Oxford man,” said Jordan helpfully.\\n\\n“An Oxford man!” He was incredulous. “Like hell he is! He wears a pink\\nsuit.”\\n\\n“Nevertheless he’s an Oxford man.”\\n\\n“Oxford, New Mexico,” snorted Tom contemptuously, “or something like\\nthat.”\\n\\n“Listen, Tom. If you’re such a snob, why did you invite him to lunch?”\\ndemanded Jordan crossly.\\n\\n“Daisy invited him; she knew him before we were married—God knows\\nwhere!”\\n\\nWe were all irritable now with the fading ale, and aware of it we\\ndrove for a while in silence. Then as Doctor T. J. Eckleburg’s faded\\neyes came into sight down the road, I remembered Gatsby’s caution\\nabout gasoline.\\n\\n“We’ve got enough to get us to town,” said Tom.\\n\\n“But there’s a garage right here,” objected Jordan. “I don’t want to\\nget stalled in this baking heat.”\\n\\nTom threw on both brakes impatiently, and we slid to an abrupt dusty\\nstop under Wilson’s sign. After a moment the proprietor emerged from\\nthe interior of his establishment and gazed hollow-eyed at the car.\\n\\n“Let’s have some gas!” cried Tom roughly. “What do you think we\\nstopped for—to admire the view?”\\n\\n“I’m sick,” said Wilson without moving. “Been sick all day.”\\n\\n“What’s the matter?”\\n\\n“I’m all run down.”\\n\\n“Well, shall I help myself?” Tom demanded. “You sounded well enough on\\nthe phone.”\\n\\nWith an effort Wilson left the shade and support of the doorway and,\\nbreathing hard, unscrewed the cap of the tank. In the sunlight his\\nface was green.\\n\\n“I didn’t mean to interrupt your lunch,” he said. “But I need money\\npretty bad, and I was wondering what you were going to do with your\\nold car.”\\n\\n“How do you like this one?” inquired Tom. “I bought it last week.”\\n\\n“It’s a nice yellow one,” said Wilson, as he strained at the handle.\\n\\n“Like to buy it?”\\n\\n“Big chance,” Wilson smiled faintly. “No, but I could make some money\\non the other.”\\n\\n“What do you want money for, all of a sudden?”\\n\\n“I’ve been here too long. I want to get away. My wife and I want to go\\nWest.”\\n\\n“Your wife does,” exclaimed Tom, startled.\\n\\n“She’s been talking about it for ten years.” He rested for a moment\\nagainst the pump, shading his eyes. “And now she’s going whether she\\nwants to or not. I’m going to get her away.”\\n\\nThe coupé flashed by us with a flurry of dust and the flash of a\\nwaving hand.\\n\\n“What do I owe you?” demanded Tom harshly.\\n\\n“I just got wised up to something funny the last two days,” remarked\\nWilson. “That’s why I want to get away. That’s why I been bothering\\nyou about the car.”\\n\\n“What do I owe you?”\\n\\n“Dollar twenty.”\\n\\nThe relentless beating heat was beginning to confuse me and I had a\\nbad moment there before I realized that so far his suspicions hadn’t\\nalighted on Tom. He had discovered that Myrtle had some sort of life\\napart from him in another world, and the shock had made him physically\\nsick. I stared at him and then at Tom, who had made a parallel\\ndiscovery less than an hour before—and it occurred to me that there\\nwas no difference between men, in intelligence or race, so profound as\\nthe difference between the sick and the well. Wilson was so sick that\\nhe looked guilty, unforgivably guilty—as if he had just got some poor\\ngirl with child.\\n\\n“I’ll let you have that car,” said Tom. “I’ll send it over tomorrow\\nafternoon.”\\n\\nThat locality was always vaguely disquieting, even in the broad glare\\nof afternoon, and now I turned my head as though I had been warned of\\nsomething behind. Over the ash-heaps the giant eyes of Doctor T. J.\\nEckleburg kept their vigil, but I perceived, after a moment, that\\nother eyes were regarding us with peculiar intensity from less than\\ntwenty feet away.\\n\\nIn one of the windows over the garage the curtains had been moved\\naside a little, and Myrtle Wilson was peering down at the car. So\\nengrossed was she that she had no consciousness of being observed, and\\none emotion after another crept into her face like objects into a\\nslowly developing picture. Her expression was curiously familiar—it\\nwas an expression I had often seen on women’s faces, but on Myrtle\\nWilson’s face it seemed purposeless and inexplicable until I realized\\nthat her eyes, wide with jealous terror, were fixed not on Tom, but on\\nJordan Baker, whom she took to be his wife.\\n\\n------------------------------------------------------------------------\\n\\nThere is no confusion like the confusion of a simple mind, and as we\\ndrove away Tom was feeling the hot whips of panic. His wife and his\\nmistress, until an hour ago secure and inviolate, were slipping\\nprecipitately from his control. Instinct made him step on the\\naccelerator with the double purpose of overtaking Daisy and leaving\\nWilson behind, and we sped along toward Astoria at fifty miles an\\nhour, until, among the spidery girders of the elevated, we came in\\nsight of the easygoing blue coupé.\\n\\n“Those big movies around Fiftieth Street are cool,” suggested\\nJordan. “I love New York on summer afternoons when everyone’s away.\\nThere’s something very sensuous about it—overripe, as if all sorts of\\nfunny fruits were going to fall into your hands.”\\n\\nThe word “sensuous” had the effect of further disquieting Tom, but\\nbefore he could invent a protest the coupé came to a stop, and Daisy\\nsignalled us to draw up alongside.\\n\\n“Where are we going?” she cried.\\n\\n“How about the movies?”\\n\\n“It’s so hot,” she complained. “You go. We’ll ride around and meet you\\nafter.” With an effort her wit rose faintly. “We’ll meet you on some\\ncorner. I’ll be the man smoking two cigarettes.”\\n\\n“We can’t argue about it here,” Tom said impatiently, as a truck gave\\nout a cursing whistle behind us. “You follow me to the south side of\\nCentral Park, in front of the Plaza.”\\n\\nSeveral times he turned his head and looked back for their car, and if\\nthe traffic delayed them he slowed up until they came into sight. I\\nthink he was afraid they would dart down a side-street and out of his\\nlife forever.\\n\\nBut they didn’t. And we all took the less explicable step of engaging\\nthe parlour of a suite in the Plaza Hotel.\\n\\nThe prolonged and tumultuous argument that ended by herding us into\\nthat room eludes me, though I have a sharp physical memory that, in\\nthe course of it, my underwear kept climbing like a damp snake around\\nmy legs and intermittent beads of sweat raced cool across my back.\\nThe notion originated with Daisy’s suggestion that we hire five\\nbathrooms and take cold baths, and then assumed more tangible form as\\n“a place to have a mint julep.” Each of us said over and over that it\\nwas a “crazy idea”—we all talked at once to a baffled clerk and\\nthought, or pretended to think, that we were being very funny …\\n\\nThe room was large and stifling, and, though it was already four\\no’clock, opening the windows admitted only a gust of hot shrubbery\\nfrom the Park. Daisy went to the mirror and stood with her back to us,\\nfixing her hair.\\n\\n“It’s a swell suite,” whispered Jordan respectfully, and everyone\\nlaughed.\\n\\n“Open another window,” commanded Daisy, without turning around.\\n\\n“There aren’t any more.”\\n\\n“Well, we’d better telephone for an axe—”\\n\\n“The thing to do is to forget about the heat,” said Tom impatiently.\\n“You make it ten times worse by crabbing about it.”\\n\\nHe unrolled the bottle of whisky from the towel and put it on the\\ntable.\\n\\n“Why not let her alone, old sport?” remarked Gatsby. “You’re the one\\nthat wanted to come to town.”\\n\\nThere was a moment of silence. The telephone book slipped from its\\nnail and splashed to the floor, whereupon Jordan whispered, “Excuse\\nme”—but this time no one laughed.\\n\\n“I’ll pick it up,” I offered.\\n\\n“I’ve got it.” Gatsby examined the parted string, muttered “Hum!” in\\nan interested way, and tossed the book on a chair.\\n\\n“That’s a great expression of yours, isn’t it?” said Tom sharply.\\n\\n“What is?”\\n\\n“All this ‘old sport’ business. Where’d you pick that up?”\\n\\n“Now see here, Tom,” said Daisy, turning around from the mirror, “if\\nyou’re going to make personal remarks I won’t stay here a minute.\\nCall up and order some ice for the mint julep.”\\n\\nAs Tom took up the receiver the compressed heat exploded into sound\\nand we were listening to the portentous chords of Mendelssohn’s\\nWedding March from the ballroom below.\\n\\n“Imagine marrying anybody in this heat!” cried Jordan dismally.\\n\\n“Still—I was married in the middle of June,” Daisy remembered.\\n“Louisville in June! Somebody fainted. Who was it fainted, Tom?”\\n\\n“Biloxi,” he answered shortly.\\n\\n“A man named Biloxi. ‘Blocks’ Biloxi, and he made boxes—that’s a\\nfact—and he was from Biloxi, Tennessee.”\\n\\n“They carried him into my house,” appended Jordan, “because we lived\\njust two doors from the church. And he stayed three weeks, until Daddy\\ntold him he had to get out. The day after he left Daddy died.”  After\\na moment she added. “There wasn’t any connection.”\\n\\n“I used to know a Bill Biloxi from Memphis,” I remarked.\\n\\n“That was his cousin. I knew his whole family history before he\\nleft. He gave me an aluminium putter that I use today.”\\n\\nThe music had died down as the ceremony began and now a long cheer\\nfloated in at the window, followed by intermittent cries of\\n“Yea—ea—ea!” and finally by a burst of jazz as the dancing began.\\n\\n“We’re getting old,” said Daisy. “If we were young we’d rise and\\ndance.”\\n\\n“Remember Biloxi,” Jordan warned her. “Where’d you know him, Tom?”\\n\\n“Biloxi?” He concentrated with an effort. “I didn’t know him. He was a\\nfriend of Daisy’s.”\\n\\n“He was not,” she denied. “I’d never seen him before. He came down in\\nthe private car.”\\n\\n“Well, he said he knew you. He said he was raised in Louisville. Asa\\nBird brought him around at the last minute and asked if we had room\\nfor him.”\\n\\nJordan smiled.\\n\\n“He was probably bumming his way home. He told me he was president of\\nyour class at Yale.”\\n\\nTom and I looked at each other blankly.\\n\\n“Biloxi?”\\n\\n“First place, we didn’t have any president—”\\n\\nGatsby’s foot beat a short, restless tattoo and Tom eyed him suddenly.\\n\\n“By the way, Mr. Gatsby, I understand you’re an Oxford man.”\\n\\n“Not exactly.”\\n\\n“Oh, yes, I understand you went to Oxford.”\\n\\n“Yes—I went there.”\\n\\nA pause. Then Tom’s voice, incredulous and insulting:\\n\\n“You must have gone there about the time Biloxi went to New Haven.”\\n\\nAnother pause. A waiter knocked and came in with crushed mint and ice\\nbut the silence was unbroken by his “thank you” and the soft closing\\nof the door. This tremendous detail was to be cleared up at last.\\n\\n“I told you I went there,” said Gatsby.\\n\\n“I heard you, but I’d like to know when.”\\n\\n“It was in nineteen-nineteen, I only stayed five months. That’s why I\\ncan’t really call myself an Oxford man.”\\n\\nTom glanced around to see if we mirrored his unbelief. But we were all\\nlooking at Gatsby.\\n\\n“It was an opportunity they gave to some of the officers after the\\narmistice,” he continued. “We could go to any of the universities in\\nEngland or France.”\\n\\nI wanted to get up and slap him on the back. I had one of those\\nrenewals of complete faith in him that I’d experienced before.\\n\\nDaisy rose, smiling faintly, and went to the table.\\n\\n“Open the whisky, Tom,” she ordered, “and I’ll make you a mint julep.\\nThen you won’t seem so stupid to yourself … Look at the mint!”\\n\\n“Wait a minute,” snapped Tom, “I want to ask Mr. Gatsby one more\\nquestion.”\\n\\n“Go on,” Gatsby said politely.\\n\\n“What kind of a row are you trying to cause in my house anyhow?”\\n\\nThey were out in the open at last and Gatsby was content.\\n\\n“He isn’t causing a row,” Daisy looked desperately from one to the\\nother. “You’re causing a row. Please have a little self-control.”\\n\\n“Self-control!” repeated Tom incredulously. “I suppose the latest\\nthing is to sit back and let Mr. Nobody from Nowhere make love to your\\nwife. Well, if that’s the idea you can count me out … Nowadays people\\nbegin by sneering at family life and family institutions, and next\\nthey’ll throw everything overboard and have intermarriage between\\nblack and white.”\\n\\nFlushed with his impassioned gibberish, he saw himself standing alone\\non the last barrier of civilization.\\n\\n“We’re all white here,” murmured Jordan.\\n\\n“I know I’m not very popular. I don’t give big parties. I suppose\\nyou’ve got to make your house into a pigsty in order to have any\\nfriends—in the modern world.”\\n\\nAngry as I was, as we all were, I was tempted to laugh whenever he\\nopened his mouth. The transition from libertine to prig was so\\ncomplete.\\n\\n“I’ve got something to tell you, old sport—” began Gatsby. But Daisy\\nguessed at his intention.\\n\\n“Please don’t!” she interrupted helplessly. “Please let’s all go\\nhome. Why don’t we all go home?”\\n\\n“That’s a good idea,” I got up. “Come on, Tom. Nobody wants a drink.”\\n\\n“I want to know what Mr. Gatsby has to tell me.”\\n\\n“Your wife doesn’t love you,” said Gatsby. “She’s never loved you.\\nShe loves me.”\\n\\n“You must be crazy!” exclaimed Tom automatically.\\n\\nGatsby sprang to his feet, vivid with excitement.\\n\\n“She never loved you, do you hear?” he cried. “She only married you\\nbecause I was poor and she was tired of waiting for me. It was a\\nterrible mistake, but in her heart she never loved anyone except me!”\\n\\nAt this point Jordan and I tried to go, but Tom and Gatsby insisted\\nwith competitive firmness that we remain—as though neither of them had\\nanything to conceal and it would be a privilege to partake vicariously\\nof their emotions.\\n\\n“Sit down, Daisy,” Tom’s voice groped unsuccessfully for the paternal\\nnote. “What’s been going on? I want to hear all about it.”\\n\\n“I told you what’s been going on,” said Gatsby. “Going on for five\\nyears—and you didn’t know.”\\n\\nTom turned to Daisy sharply.\\n\\n“You’ve been seeing this fellow for five years?”\\n\\n“Not seeing,” said Gatsby. “No, we couldn’t meet. But both of us loved\\neach other all that time, old sport, and you didn’t know. I used to\\nlaugh sometimes”—but there was no laughter in his eyes—“to think that\\nyou didn’t know.”\\n\\n“Oh—that’s all.” Tom tapped his thick fingers together like a\\nclergyman and leaned back in his chair.\\n\\n“You’re crazy!” he exploded. “I can’t speak about what happened five\\nyears ago, because I didn’t know Daisy then—and I’ll be damned if I\\nsee how you got within a mile of her unless you brought the groceries\\nto the back door. But all the rest of that’s a God damned lie. Daisy\\nloved me when she married me and she loves me now.”\\n\\n“No,” said Gatsby, shaking his head.\\n\\n“She does, though. The trouble is that sometimes she gets foolish\\nideas in her head and doesn’t know what she’s doing.” He nodded\\nsagely. “And what’s more, I love Daisy too. Once in a while I go off\\non a spree and make a fool of myself, but I always come back, and in\\nmy heart I love her all the time.”\\n\\n“You’re revolting,” said Daisy. She turned to me, and her voice,\\ndropping an octave lower, filled the room with thrilling scorn: “Do\\nyou know why we left Chicago? I’m surprised that they didn’t treat you\\nto the story of that little spree.”\\n\\nGatsby walked over and stood beside her.\\n\\n“Daisy, that’s all over now,” he said earnestly. “It doesn’t matter\\nany more. Just tell him the truth—that you never loved him—and it’s\\nall wiped out forever.”\\n\\nShe looked at him blindly. “Why—how could I love him—possibly?”\\n\\n“You never loved him.”\\n\\nShe hesitated. Her eyes fell on Jordan and me with a sort of appeal,\\nas though she realized at last what she was doing—and as though she\\nhad never, all along, intended doing anything at all. But it was done\\nnow. It was too late.\\n\\n“I never loved him,” she said, with perceptible reluctance.\\n\\n“Not at Kapiolani?” demanded Tom suddenly.\\n\\n“No.”\\n\\nFrom the ballroom beneath, muffled and suffocating chords were\\ndrifting up on hot waves of air.\\n\\n“Not that day I carried you down from the Punch Bowl to keep your\\nshoes dry?” There was a husky tenderness in his tone … “Daisy?”\\n\\n“Please don’t.” Her voice was cold, but the rancour was gone from it.\\nShe looked at Gatsby. “There, Jay,” she said—but her hand as she tried\\nto light a cigarette was trembling. Suddenly she threw the cigarette\\nand the burning match on the carpet.\\n\\n“Oh, you want too much!” she cried to Gatsby. “I love you now—isn’t\\nthat enough? I can’t help what’s past.” She began to sob\\nhelplessly. “I did love him once—but I loved you too.”\\n\\nGatsby’s eyes opened and closed.\\n\\n“You loved me too?” he repeated.\\n\\n“Even that’s a lie,” said Tom savagely. “She didn’t know you were\\nalive. Why—there’s things between Daisy and me that you’ll never know,\\nthings that neither of us can ever forget.”\\n\\nThe words seemed to bite physically into Gatsby.\\n\\n“I want to speak to Daisy alone,” he insisted. “She’s all excited\\nnow—”\\n\\n“Even alone I can’t say I never loved Tom,” she admitted in a pitiful\\nvoice. “It wouldn’t be true.”\\n\\n“Of course it wouldn’t,” agreed Tom.\\n\\nShe turned to her husband.\\n\\n“As if it mattered to you,” she said.\\n\\n“Of course it matters. I’m going to take better care of you from now\\non.”\\n\\n“You don’t understand,” said Gatsby, with a touch of panic. “You’re\\nnot going to take care of her any more.”\\n\\n“I’m not?” Tom opened his eyes wide and laughed. He could afford to\\ncontrol himself now. “Why’s that?”\\n\\n“Daisy’s leaving you.”\\n\\n“Nonsense.”\\n\\n“I am, though,” she said with a visible effort.\\n\\n“She’s not leaving me!” Tom’s words suddenly leaned down over Gatsby.\\n“Certainly not for a common swindler who’d have to steal the ring he\\nput on her finger.”\\n\\n“I won’t stand this!” cried Daisy. “Oh, please let’s get out.”\\n\\n“Who are you, anyhow?” broke out Tom. “You’re one of that bunch that\\nhangs around with Meyer Wolfshiem—that much I happen to know. I’ve\\nmade a little investigation into your affairs—and I’ll carry it\\nfurther tomorrow.”\\n\\n“You can suit yourself about that, old sport,” said Gatsby steadily.\\n\\n“I found out what your ‘drugstores’ were.” He turned to us and spoke\\nrapidly. “He and this Wolfshiem bought up a lot of side-street\\ndrugstores here and in Chicago and sold grain alcohol over the\\ncounter. That’s one of his little stunts. I picked him for a\\nbootlegger the first time I saw him, and I wasn’t far wrong.”\\n\\n“What about it?” said Gatsby politely. “I guess your friend Walter\\nChase wasn’t too proud to come in on it.”\\n\\n“And you left him in the lurch, didn’t you? You let him go to jail for\\na month over in New Jersey. God! You ought to hear Walter on the\\nsubject of you.”\\n\\n“He came to us dead broke. He was very glad to pick up some money, old\\nsport.”\\n\\n“Don’t you call me ‘old sport’!” cried Tom. Gatsby said\\nnothing. “Walter could have you up on the betting laws too, but\\nWolfshiem scared him into shutting his mouth.”\\n\\nThat unfamiliar yet recognizable look was back again in Gatsby’s face.\\n\\n“That drugstore business was just small change,” continued Tom slowly,\\n“but you’ve got something on now that Walter’s afraid to tell me\\nabout.”\\n\\nI glanced at Daisy, who was staring terrified between Gatsby and her\\nhusband, and at Jordan, who had begun to balance an invisible but\\nabsorbing object on the tip of her chin. Then I turned back to\\nGatsby—and was startled at his expression. He looked—and this is said\\nin all contempt for the babbled slander of his garden—as if he had\\n“killed a man.” For a moment the set of his face could be described in\\njust that fantastic way.\\n\\nIt passed, and he began to talk excitedly to Daisy, denying\\neverything, defending his name against accusations that had not been\\nmade. But with every word she was drawing further and further into\\nherself, so he gave that up, and only the dead dream fought on as the\\nafternoon slipped away, trying to touch what was no longer tangible,\\nstruggling unhappily, undespairingly, toward that lost voice across\\nthe room.\\n\\nThe voice begged again to go.\\n\\n“Please, Tom! I can’t stand this any more.”\\n\\nHer frightened eyes told that whatever intentions, whatever courage\\nshe had had, were definitely gone.\\n\\n“You two start on home, Daisy,” said Tom. “In Mr. Gatsby’s car.”\\n\\nShe looked at Tom, alarmed now, but he insisted with magnanimous\\nscorn.\\n\\n“Go on. He won’t annoy you. I think he realizes that his presumptuous\\nlittle flirtation is over.”\\n\\nThey were gone, without a word, snapped out, made accidental,\\nisolated, like ghosts, even from our pity.\\n\\nAfter a moment Tom got up and began wrapping the unopened bottle of\\nwhisky in the towel.\\n\\n“Want any of this stuff? Jordan? … Nick?”\\n\\nI didn’t answer.\\n\\n“Nick?” He asked again.\\n\\n“What?”\\n\\n“Want any?”\\n\\n“No … I just remembered that today’s my birthday.”\\n\\nI was thirty. Before me stretched the portentous, menacing road of a\\nnew decade.\\n\\nIt was seven o’clock when we got into the coupé with him and started\\nfor Long Island. Tom talked incessantly, exulting and laughing, but\\nhis voice was as remote from Jordan and me as the foreign clamour on\\nthe sidewalk or the tumult of the elevated overhead. Human sympathy\\nhas its limits, and we were content to let all their tragic arguments\\nfade with the city lights behind. Thirty—the promise of a decade of\\nloneliness, a thinning list of single men to know, a thinning\\nbriefcase of enthusiasm, thinning hair. But there was Jordan beside\\nme, who, unlike Daisy, was too wise ever to carry well-forgotten\\ndreams from age to age. As we passed over the dark bridge her wan face\\nfell lazily against my coat’s shoulder and the formidable stroke of\\nthirty died away with the reassuring pressure of her hand.\\n\\nSo we drove on toward death through the cooling twilight.\\n\\n------------------------------------------------------------------------\\n\\nThe young Greek, Michaelis, who ran the coffee joint beside the\\nash-heaps was the principal witness at the inquest. He had slept\\nthrough the heat until after five, when he strolled over to the\\ngarage, and found George Wilson sick in his office—really sick, pale\\nas his own pale hair and shaking all over. Michaelis advised him to go\\nto bed, but Wilson refused, saying that he’d miss a lot of business if\\nhe did. While his neighbour was trying to persuade him a violent\\nracket broke out overhead.\\n\\n“I’ve got my wife locked in up there,” explained Wilson calmly.\\n“She’s going to stay there till the day after tomorrow, and then we’re\\ngoing to move away.”\\n\\nMichaelis was astonished; they had been neighbours for four years, and\\nWilson had never seemed faintly capable of such a statement.\\nGenerally he was one of these worn-out men: when he wasn’t working, he\\nsat on a chair in the doorway and stared at the people and the cars\\nthat passed along the road. When anyone spoke to him he invariably\\nlaughed in an agreeable, colourless way. He was his wife’s man and not\\nhis own.\\n\\nSo naturally Michaelis tried to find out what had happened, but Wilson\\nwouldn’t say a word—instead he began to throw curious, suspicious\\nglances at his visitor and ask him what he’d been doing at certain\\ntimes on certain days. Just as the latter was getting uneasy, some\\nworkmen came past the door bound for his restaurant, and Michaelis\\ntook the opportunity to get away, intending to come back later. But he\\ndidn’t. He supposed he forgot to, that’s all. When he came outside\\nagain, a little after seven, he was reminded of the conversation\\nbecause he heard Mrs. Wilson’s voice, loud and scolding, downstairs in\\nthe garage.\\n\\n“Beat me!” he heard her cry. “Throw me down and beat me, you dirty\\nlittle coward!”\\n\\nA moment later she rushed out into the dusk, waving her hands and\\nshouting—before he could move from his door the business was over.\\n\\nThe “death car” as the newspapers called it, didn’t stop; it came out\\nof the gathering darkness, wavered tragically for a moment, and then\\ndisappeared around the next bend. Mavro Michaelis wasn’t even sure of\\nits colour—he told the first policeman that it was light green. The\\nother car, the one going toward New York, came to rest a hundred yards\\nbeyond, and its driver hurried back to where Myrtle Wilson, her life\\nviolently extinguished, knelt in the road and mingled her thick dark\\nblood with the dust.\\n\\nMichaelis and this man reached her first, but when they had torn open\\nher shirtwaist, still damp with perspiration, they saw that her left\\nbreast was swinging loose like a flap, and there was no need to listen\\nfor the heart beneath. The mouth was wide open and ripped a little at\\nthe corners, as though she had choked a little in giving up the\\ntremendous vitality she had stored so long.\\n\\n------------------------------------------------------------------------\\n\\nWe saw the three or four automobiles and the crowd when we were still\\nsome distance away.\\n\\n“Wreck!” said Tom. “That’s good. Wilson’ll have a little business at\\nlast.”\\n\\nHe slowed down, but still without any intention of stopping, until, as\\nwe came nearer, the hushed, intent faces of the people at the garage\\ndoor made him automatically put on the brakes.\\n\\n“We’ll take a look,” he said doubtfully, “just a look.”\\n\\nI became aware now of a hollow, wailing sound which issued incessantly\\nfrom the garage, a sound which as we got out of the coupé and walked\\ntoward the door resolved itself into the words “Oh, my God!” uttered\\nover and over in a gasping moan.\\n\\n“There’s some bad trouble here,” said Tom excitedly.\\n\\nHe reached up on tiptoes and peered over a circle of heads into the\\ngarage, which was lit only by a yellow light in a swinging metal\\nbasket overhead. Then he made a harsh sound in his throat, and with a\\nviolent thrusting movement of his powerful arms pushed his way\\nthrough.\\n\\nThe circle closed up again with a running murmur of expostulation; it\\nwas a minute before I could see anything at all. Then new arrivals\\nderanged the line, and Jordan and I were pushed suddenly inside.\\n\\nMyrtle Wilson’s body, wrapped in a blanket, and then in another\\nblanket, as though she suffered from a chill in the hot night, lay on\\na worktable by the wall, and Tom, with his back to us, was bending\\nover it, motionless. Next to him stood a motorcycle policeman taking\\ndown names with much sweat and correction in a little book. At first I\\ncouldn’t find the source of the high, groaning words that echoed\\nclamorously through the bare garage—then I saw Wilson standing on the\\nraised threshold of his office, swaying back and forth and holding to\\nthe doorposts with both hands. Some man was talking to him in a low\\nvoice and attempting, from time to time, to lay a hand on his\\nshoulder, but Wilson neither heard nor saw. His eyes would drop slowly\\nfrom the swinging light to the laden table by the wall, and then jerk\\nback to the light again, and he gave out incessantly his high,\\nhorrible call:\\n\\n“Oh, my Ga-od! Oh, my Ga-od! Oh, Ga-od! Oh, my Ga-od!”\\n\\nPresently Tom lifted his head with a jerk and, after staring around\\nthe garage with glazed eyes, addressed a mumbled incoherent remark to\\nthe policeman.\\n\\n“M-a-v—” the policeman was saying, “—o—”\\n\\n“No, r—” corrected the man, “M-a-v-r-o—”\\n\\n“Listen to me!” muttered Tom fiercely.\\n\\n“r—” said the policeman, “o—”\\n\\n“g—”\\n\\n“g—” He looked up as Tom’s broad hand fell sharply on his shoulder.\\n“What you want, fella?”\\n\\n“What happened?—that’s what I want to know.”\\n\\n“Auto hit her. Ins’antly killed.”\\n\\n“Instantly killed,” repeated Tom, staring.\\n\\n“She ran out ina road. Son-of-a-bitch didn’t even stopus car.”\\n\\n“There was two cars,” said Michaelis, “one comin’, one goin’, see?”\\n\\n“Going where?” asked the policeman keenly.\\n\\n“One goin’ each way. Well, she”—his hand rose toward the blankets but\\nstopped halfway and fell to his side—“she ran out there an’ the one\\ncomin’ from N’York knock right into her, goin’ thirty or forty miles\\nan hour.”\\n\\n“What’s the name of this place here?” demanded the officer.\\n\\n“Hasn’t got any name.”\\n\\nA pale well-dressed negro stepped near.\\n\\n“It was a yellow car,” he said, “big yellow car. New.”\\n\\n“See the accident?” asked the policeman.\\n\\n“No, but the car passed me down the road, going faster’n forty. Going\\nfifty, sixty.”\\n\\n“Come here and let’s have your name. Look out now. I want to get his\\nname.”\\n\\nSome words of this conversation must have reached Wilson, swaying in\\nthe office door, for suddenly a new theme found voice among his\\ngrasping cries:\\n\\n“You don’t have to tell me what kind of car it was! I know what kind\\nof car it was!”\\n\\nWatching Tom, I saw the wad of muscle back of his shoulder tighten\\nunder his coat. He walked quickly over to Wilson and, standing in\\nfront of him, seized him firmly by the upper arms.\\n\\n“You’ve got to pull yourself together,” he said with soothing\\ngruffness.\\n\\nWilson’s eyes fell upon Tom; he started up on his tiptoes and then\\nwould have collapsed to his knees had not Tom held him upright.\\n\\n“Listen,” said Tom, shaking him a little. “I just got here a minute\\nago, from New York. I was bringing you that coupé we’ve been talking\\nabout. That yellow car I was driving this afternoon wasn’t mine—do you\\nhear? I haven’t seen it all afternoon.”\\n\\nOnly the negro and I were near enough to hear what he said, but the\\npoliceman caught something in the tone and looked over with truculent\\neyes.\\n\\n“What’s all that?” he demanded.\\n\\n“I’m a friend of his.” Tom turned his head but kept his hands firm on\\nWilson’s body. “He says he knows the car that did it … It was a yellow\\ncar.”\\n\\nSome dim impulse moved the policeman to look suspiciously at Tom.\\n\\n“And what colour’s your car?”\\n\\n“It’s a blue car, a coupé.”\\n\\n“We’ve come straight from New York,” I said.\\n\\nSomeone who had been driving a little behind us confirmed this, and\\nthe policeman turned away.\\n\\n“Now, if you’ll let me have that name again correct—”\\n\\nPicking up Wilson like a doll, Tom carried him into the office, set\\nhim down in a chair, and came back.\\n\\n“If somebody’ll come here and sit with him,” he snapped\\nauthoritatively. He watched while the two men standing closest glanced\\nat each other and went unwillingly into the room. Then Tom shut the\\ndoor on them and came down the single step, his eyes avoiding the\\ntable. As he passed close to me he whispered: “Let’s get out.”\\n\\nSelf-consciously, with his authoritative arms breaking the way, we\\npushed through the still gathering crowd, passing a hurried doctor,\\ncase in hand, who had been sent for in wild hope half an hour ago.\\n\\nTom drove slowly until we were beyond the bend—then his foot came down\\nhard, and the coupé raced along through the night. In a little while I\\nheard a low husky sob, and saw that the tears were overflowing down\\nhis face.\\n\\n“The God damned coward!” he whimpered. “He didn’t even stop his car.”\\n\\n------------------------------------------------------------------------\\n\\nThe Buchanans’ house floated suddenly toward us through the dark\\nrustling trees. Tom stopped beside the porch and looked up at the\\nsecond floor, where two windows bloomed with light among the vines.\\n\\n“Daisy’s home,” he said. As we got out of the car he glanced at me and\\nfrowned slightly.\\n\\n“I ought to have dropped you in West Egg, Nick. There’s nothing we can\\ndo tonight.”\\n\\nA change had come over him, and he spoke gravely, and with decision.\\nAs we walked across the moonlight gravel to the porch he disposed of\\nthe situation in a few brisk phrases.\\n\\n“I’ll telephone for a taxi to take you home, and while you’re waiting\\nyou and Jordan better go in the kitchen and have them get you some\\nsupper—if you want any.” He opened the door. “Come in.”\\n\\n“No, thanks. But I’d be glad if you’d order me the taxi. I’ll wait\\noutside.”\\n\\nJordan put her hand on my arm.\\n\\n“Won’t you come in, Nick?”\\n\\n“No, thanks.”\\n\\nI was feeling a little sick and I wanted to be alone. But Jordan\\nlingered for a moment more.\\n\\n“It’s only half-past nine,” she said.\\n\\nI’d be damned if I’d go in; I’d had enough of all of them for one day,\\nand suddenly that included Jordan too. She must have seen something of\\nthis in my expression, for she turned abruptly away and ran up the\\nporch steps into the house. I sat down for a few minutes with my head\\nin my hands, until I heard the phone taken up inside and the butler’s\\nvoice calling a taxi. Then I walked slowly down the drive away from\\nthe house, intending to wait by the gate.\\n\\nI hadn’t gone twenty yards when I heard my name and Gatsby stepped\\nfrom between two bushes into the path. I must have felt pretty weird\\nby that time, because I could think of nothing except the luminosity\\nof his pink suit under the moon.\\n\\n“What are you doing?” I inquired.\\n\\n“Just standing here, old sport.”\\n\\nSomehow, that seemed a despicable occupation. For all I knew he was\\ngoing to rob the house in a moment; I wouldn’t have been surprised to\\nsee sinister faces, the faces of “Wolfshiem’s people,” behind him in\\nthe dark shrubbery.\\n\\n“Did you see any trouble on the road?” he asked after a minute.\\n\\n“Yes.”\\n\\nHe hesitated.\\n\\n“Was she killed?”\\n\\n“Yes.”\\n\\n“I thought so; I told Daisy I thought so. It’s better that the shock\\nshould all come at once. She stood it pretty well.”\\n\\nHe spoke as if Daisy’s reaction was the only thing that mattered.\\n\\n“I got to West Egg by a side road,” he went on, “and left the car in\\nmy garage. I don’t think anybody saw us, but of course I can’t be\\nsure.”\\n\\nI disliked him so much by this time that I didn’t find it necessary to\\ntell him he was wrong.\\n\\n“Who was the woman?” he inquired.\\n\\n“Her name was Wilson. Her husband owns the garage. How the devil did\\nit happen?”\\n\\n“Well, I tried to swing the wheel—” He broke off, and suddenly I\\nguessed at the truth.\\n\\n“Was Daisy driving?”\\n\\n“Yes,” he said after a moment, “but of course I’ll say I was. You see,\\nwhen we left New York she was very nervous and she thought it would\\nsteady her to drive—and this woman rushed out at us just as we were\\npassing a car coming the other way. It all happened in a minute, but\\nit seemed to me that she wanted to speak to us, thought we were\\nsomebody she knew. Well, first Daisy turned away from the woman toward\\nthe other car, and then she lost her nerve and turned back. The second\\nmy hand reached the wheel I felt the shock—it must have killed her\\ninstantly.”\\n\\n“It ripped her open—”\\n\\n“Don’t tell me, old sport.” He winced. “Anyhow—Daisy stepped on it. I\\ntried to make her stop, but she couldn’t, so I pulled on the emergency\\nbrake. Then she fell over into my lap and I drove on.\\n\\n“She’ll be all right tomorrow,” he said presently. “I’m just going to\\nwait here and see if he tries to bother her about that unpleasantness\\nthis afternoon. She’s locked herself into her room, and if he tries\\nany brutality she’s going to turn the light out and on again.”\\n\\n“He won’t touch her,” I said. “He’s not thinking about her.”\\n\\n“I don’t trust him, old sport.”\\n\\n“How long are you going to wait?”\\n\\n“All night, if necessary. Anyhow, till they all go to bed.”\\n\\nA new point of view occurred to me. Suppose Tom found out that Daisy\\nhad been driving. He might think he saw a connection in it—he might\\nthink anything. I looked at the house; there were two or three bright\\nwindows downstairs and the pink glow from Daisy’s room on the ground\\nfloor.\\n\\n“You wait here,” I said. “I’ll see if there’s any sign of a\\ncommotion.”\\n\\nI walked back along the border of the lawn, traversed the gravel\\nsoftly, and tiptoed up the veranda steps. The drawing-room curtains\\nwere open, and I saw that the room was empty. Crossing the porch where\\nwe had dined that June night three months before, I came to a small\\nrectangle of light which I guessed was the pantry window. The blind\\nwas drawn, but I found a rift at the sill.\\n\\nDaisy and Tom were sitting opposite each other at the kitchen table,\\nwith a plate of cold fried chicken between them, and two bottles of\\nale. He was talking intently across the table at her, and in his\\nearnestness his hand had fallen upon and covered her own. Once in a\\nwhile she looked up at him and nodded in agreement.\\n\\nThey weren’t happy, and neither of them had touched the chicken or the\\nale—and yet they weren’t unhappy either. There was an unmistakable air\\nof natural intimacy about the picture, and anybody would have said\\nthat they were conspiring together.\\n\\nAs I tiptoed from the porch I heard my taxi feeling its way along the\\ndark road toward the house. Gatsby was waiting where I had left him in\\nthe drive.\\n\\n“Is it all quiet up there?” he asked anxiously.\\n\\n“Yes, it’s all quiet.” I hesitated. “You’d better come home and get\\nsome sleep.”\\n\\nHe shook his head.\\n\\n“I want to wait here till Daisy goes to bed. Good night, old sport.”\\n\\nHe put his hands in his coat pockets and turned back eagerly to his\\nscrutiny of the house, as though my presence marred the sacredness of\\nthe vigil. So I walked away and left him standing there in the\\nmoonlight—watching over nothing.\\n\\n\\n                                 VIII\\n\\nI couldn’t sleep all night; a foghorn was groaning incessantly on the\\nSound, and I tossed half-sick between grotesque reality and savage,\\nfrightening dreams. Toward dawn I heard a taxi go up Gatsby’s drive,\\nand immediately I jumped out of bed and began to dress—I felt that I\\nhad something to tell him, something to warn him about, and morning\\nwould be too late.\\n\\nCrossing his lawn, I saw that his front door was still open and he was\\nleaning against a table in the hall, heavy with dejection or sleep.\\n\\n“Nothing happened,” he said wanly. “I waited, and about four o’clock\\nshe came to the window and stood there for a minute and then turned\\nout the light.”\\n\\nHis house had never seemed so enormous to me as it did that night when\\nwe hunted through the great rooms for cigarettes. We pushed aside\\ncurtains that were like pavilions, and felt over innumerable feet of\\ndark wall for electric light switches—once I tumbled with a sort of\\nsplash upon the keys of a ghostly piano. There was an inexplicable\\namount of dust everywhere, and the rooms were musty, as though they\\nhadn’t been aired for many days. I found the humidor on an unfamiliar\\ntable, with two stale, dry cigarettes inside. Throwing open the French\\nwindows of the drawing-room, we sat smoking out into the darkness.\\n\\n“You ought to go away,” I said. “It’s pretty certain they’ll trace\\nyour car.”\\n\\n“Go away now, old sport?”\\n\\n“Go to Atlantic City for a week, or up to Montreal.”\\n\\nHe wouldn’t consider it. He couldn’t possibly leave Daisy until he\\nknew what she was going to do. He was clutching at some last hope and\\nI couldn’t bear to shake him free.\\n\\nIt was this night that he told me the strange story of his youth with\\nDan Cody—told it to me because “Jay Gatsby” had broken up like glass\\nagainst Tom’s hard malice, and the long secret extravaganza was played\\nout. I think that he would have acknowledged anything now, without\\nreserve, but he wanted to talk about Daisy.\\n\\nShe was the first “nice” girl he had ever known. In various unrevealed\\ncapacities he had come in contact with such people, but always with\\nindiscernible barbed wire between. He found her excitingly\\ndesirable. He went to her house, at first with other officers from\\nCamp Taylor, then alone. It amazed him—he had never been in such a\\nbeautiful house before. But what gave it an air of breathless\\nintensity, was that Daisy lived there—it was as casual a thing to her\\nas his tent out at camp was to him. There was a ripe mystery about it,\\na hint of bedrooms upstairs more beautiful and cool than other\\nbedrooms, of gay and radiant activities taking place through its\\ncorridors, and of romances that were not musty and laid away already\\nin lavender but fresh and breathing and redolent of this year’s\\nshining motorcars and of dances whose flowers were scarcely\\nwithered. It excited him, too, that many men had already loved\\nDaisy—it increased her value in his eyes. He felt their presence all\\nabout the house, pervading the air with the shades and echoes of still\\nvibrant emotions.\\n\\nBut he knew that he was in Daisy’s house by a colossal\\naccident. However glorious might be his future as Jay Gatsby, he was\\nat present a penniless young man without a past, and at any moment the\\ninvisible cloak of his uniform might slip from his shoulders. So he\\nmade the most of his time. He took what he could get, ravenously and\\nunscrupulously—eventually he took Daisy one still October night, took\\nher because he had no real right to touch her hand.\\n\\nHe might have despised himself, for he had certainly taken her under\\nfalse pretences. I don’t mean that he had traded on his phantom\\nmillions, but he had deliberately given Daisy a sense of security; he\\nlet her believe that he was a person from much the same strata as\\nherself—that he was fully able to take care of her. As a matter of\\nfact, he had no such facilities—he had no comfortable family standing\\nbehind him, and he was liable at the whim of an impersonal government\\nto be blown anywhere about the world.\\n\\nBut he didn’t despise himself and it didn’t turn out as he had\\nimagined. He had intended, probably, to take what he could and go—but\\nnow he found that he had committed himself to the following of a\\ngrail. He knew that Daisy was extraordinary, but he didn’t realize\\njust how extraordinary a “nice” girl could be. She vanished into her\\nrich house, into her rich, full life, leaving Gatsby—nothing. He felt\\nmarried to her, that was all.\\n\\nWhen they met again, two days later, it was Gatsby who was breathless,\\nwho was, somehow, betrayed. Her porch was bright with the bought\\nluxury of star-shine; the wicker of the settee squeaked fashionably as\\nshe turned toward him and he kissed her curious and lovely mouth. She\\nhad caught a cold, and it made her voice huskier and more charming\\nthan ever, and Gatsby was overwhelmingly aware of the youth and\\nmystery that wealth imprisons and preserves, of the freshness of many\\nclothes, and of Daisy, gleaming like silver, safe and proud above the\\nhot struggles of the poor.\\n\\n------------------------------------------------------------------------\\n\\n“I can’t describe to you how surprised I was to find out I loved her,\\nold sport. I even hoped for a while that she’d throw me over, but she\\ndidn’t, because she was in love with me too. She thought I knew a lot\\nbecause I knew different things from her … Well, there I was, way off\\nmy ambitions, getting deeper in love every minute, and all of a sudden\\nI didn’t care. What was the use of doing great things if I could have\\na better time telling her what I was going to do?”\\n\\nOn the last afternoon before he went abroad, he sat with Daisy in his\\narms for a long, silent time. It was a cold fall day, with fire in the\\nroom and her cheeks flushed. Now and then she moved and he changed his\\narm a little, and once he kissed her dark shining hair. The afternoon\\nhad made them tranquil for a while, as if to give them a deep memory\\nfor the long parting the next day promised. They had never been closer\\nin their month of love, nor communicated more profoundly one with\\nanother, than when she brushed silent lips against his coat’s shoulder\\nor when he touched the end of her fingers, gently, as though she were\\nasleep.\\n\\n------------------------------------------------------------------------\\n\\nHe did extraordinarily well in the war. He was a captain before he\\nwent to the front, and following the Argonne battles he got his\\nmajority and the command of the divisional machine-guns. After the\\narmistice he tried frantically to get home, but some complication or\\nmisunderstanding sent him to Oxford instead. He was worried now—there\\nwas a quality of nervous despair in Daisy’s letters. She didn’t see\\nwhy he couldn’t come. She was feeling the pressure of the world\\noutside, and she wanted to see him and feel his presence beside her\\nand be reassured that she was doing the right thing after all.\\n\\nFor Daisy was young and her artificial world was redolent of orchids\\nand pleasant, cheerful snobbery and orchestras which set the rhythm of\\nthe year, summing up the sadness and suggestiveness of life in new\\ntunes. All night the saxophones wailed the hopeless comment of the\\n“Beale Street Blues” while a hundred pairs of golden and silver\\nslippers shuffled the shining dust. At the grey tea hour there were\\nalways rooms that throbbed incessantly with this low, sweet fever,\\nwhile fresh faces drifted here and there like rose petals blown by the\\nsad horns around the floor.\\n\\nThrough this twilight universe Daisy began to move again with the\\nseason; suddenly she was again keeping half a dozen dates a day with\\nhalf a dozen men, and drowsing asleep at dawn with the beads and\\nchiffon of an evening-dress tangled among dying orchids on the floor\\nbeside her bed. And all the time something within her was crying for a\\ndecision. She wanted her life shaped now, immediately—and the decision\\nmust be made by some force—of love, of money, of unquestionable\\npracticality—that was close at hand.\\n\\nThat force took shape in the middle of spring with the arrival of Tom\\nBuchanan. There was a wholesome bulkiness about his person and his\\nposition, and Daisy was flattered. Doubtless there was a certain\\nstruggle and a certain relief. The letter reached Gatsby while he was\\nstill at Oxford.\\n\\n------------------------------------------------------------------------\\n\\nIt was dawn now on Long Island and we went about opening the rest of\\nthe windows downstairs, filling the house with grey-turning,\\ngold-turning light. The shadow of a tree fell abruptly across the dew\\nand ghostly birds began to sing among the blue leaves. There was a\\nslow, pleasant movement in the air, scarcely a wind, promising a cool,\\nlovely day.\\n\\n“I don’t think she ever loved him.” Gatsby turned around from a window\\nand looked at me challengingly. “You must remember, old sport, she was\\nvery excited this afternoon. He told her those things in a way that\\nfrightened her—that made it look as if I was some kind of cheap\\nsharper. And the result was she hardly knew what she was saying.”\\n\\nHe sat down gloomily.\\n\\n“Of course she might have loved him just for a minute, when they were\\nfirst married—and loved me more even then, do you see?”\\n\\nSuddenly he came out with a curious remark.\\n\\n“In any case,” he said, “it was just personal.”\\n\\nWhat could you make of that, except to suspect some intensity in his\\nconception of the affair that couldn’t be measured?\\n\\nHe came back from France when Tom and Daisy were still on their\\nwedding trip, and made a miserable but irresistible journey to\\nLouisville on the last of his army pay. He stayed there a week,\\nwalking the streets where their footsteps had clicked together through\\nthe November night and revisiting the out-of-the-way places to which\\nthey had driven in her white car. Just as Daisy’s house had always\\nseemed to him more mysterious and gay than other houses, so his idea\\nof the city itself, even though she was gone from it, was pervaded\\nwith a melancholy beauty.\\n\\nHe left feeling that if he had searched harder, he might have found\\nher—that he was leaving her behind. The day-coach—he was penniless\\nnow—was hot. He went out to the open vestibule and sat down on a\\nfolding-chair, and the station slid away and the backs of unfamiliar\\nbuildings moved by. Then out into the spring fields, where a yellow\\ntrolley raced them for a minute with people in it who might once have\\nseen the pale magic of her face along the casual street.\\n\\nThe track curved and now it was going away from the sun, which, as it\\nsank lower, seemed to spread itself in benediction over the vanishing\\ncity where she had drawn her breath. He stretched out his hand\\ndesperately as if to snatch only a wisp of air, to save a fragment of\\nthe spot that she had made lovely for him. But it was all going by too\\nfast now for his blurred eyes and he knew that he had lost that part\\nof it, the freshest and the best, forever.\\n\\nIt was nine o’clock when we finished breakfast and went out on the\\nporch. The night had made a sharp difference in the weather and there\\nwas an autumn flavour in the air. The gardener, the last one of\\nGatsby’s former servants, came to the foot of the steps.\\n\\n“I’m going to drain the pool today, Mr. Gatsby. Leaves’ll start\\nfalling pretty soon, and then there’s always trouble with the pipes.”\\n\\n“Don’t do it today,” Gatsby answered. He turned to me apologetically.\\n“You know, old sport, I’ve never used that pool all summer?”\\n\\nI looked at my watch and stood up.\\n\\n“Twelve minutes to my train.”\\n\\nI didn’t want to go to the city. I wasn’t worth a decent stroke of\\nwork, but it was more than that—I didn’t want to leave Gatsby. I\\nmissed that train, and then another, before I could get myself away.\\n\\n“I’ll call you up,” I said finally.\\n\\n“Do, old sport.”\\n\\n“I’ll call you about noon.”\\n\\nWe walked slowly down the steps.\\n\\n“I suppose Daisy’ll call too.” He looked at me anxiously, as if he\\nhoped I’d corroborate this.\\n\\n“I suppose so.”\\n\\n“Well, goodbye.”\\n\\nWe shook hands and I started away. Just before I reached the hedge I\\nremembered something and turned around.\\n\\n“They’re a rotten crowd,” I shouted across the lawn. “You’re worth the\\nwhole damn bunch put together.”\\n\\nI’ve always been glad I said that. It was the only compliment I ever\\ngave him, because I disapproved of him from beginning to end. First he\\nnodded politely, and then his face broke into that radiant and\\nunderstanding smile, as if we’d been in ecstatic cahoots on that fact\\nall the time. His gorgeous pink rag of a suit made a bright spot of\\ncolour against the white steps, and I thought of the night when I\\nfirst came to his ancestral home, three months before. The lawn and\\ndrive had been crowded with the faces of those who guessed at his\\ncorruption—and he had stood on those steps, concealing his\\nincorruptible dream, as he waved them goodbye.\\n\\nI thanked him for his hospitality. We were always thanking him for\\nthat—I and the others.\\n\\n“Goodbye,” I called. “I enjoyed breakfast, Gatsby.”\\n\\n------------------------------------------------------------------------\\n\\nUp in the city, I tried for a while to list the quotations on an\\ninterminable amount of stock, then I fell asleep in my swivel-chair.\\nJust before noon the phone woke me, and I started up with sweat\\nbreaking out on my forehead. It was Jordan Baker; she often called me\\nup at this hour because the uncertainty of her own movements between\\nhotels and clubs and private houses made her hard to find in any other\\nway. Usually her voice came over the wire as something fresh and cool,\\nas if a divot from a green golf-links had come sailing in at the\\noffice window, but this morning it seemed harsh and dry.\\n\\n“I’ve left Daisy’s house,” she said. “I’m at Hempstead, and I’m going\\ndown to Southampton this afternoon.”\\n\\nProbably it had been tactful to leave Daisy’s house, but the act\\nannoyed me, and her next remark made me rigid.\\n\\n“You weren’t so nice to me last night.”\\n\\n“How could it have mattered then?”\\n\\nSilence for a moment. Then:\\n\\n“However—I want to see you.”\\n\\n“I want to see you, too.”\\n\\n“Suppose I don’t go to Southampton, and come into town this\\nafternoon?”\\n\\n“No—I don’t think this afternoon.”\\n\\n“Very well.”\\n\\n“It’s impossible this afternoon. Various—”\\n\\nWe talked like that for a while, and then abruptly we weren’t talking\\nany longer. I don’t know which of us hung up with a sharp click, but I\\nknow I didn’t care. I couldn’t have talked to her across a tea-table\\nthat day if I never talked to her again in this world.\\n\\nI called Gatsby’s house a few minutes later, but the line was busy. I\\ntried four times; finally an exasperated central told me the wire was\\nbeing kept open for long distance from Detroit. Taking out my\\ntimetable, I drew a small circle around the three-fifty train. Then I\\nleaned back in my chair and tried to think. It was just noon.\\n\\n------------------------------------------------------------------------\\n\\nWhen I passed the ash-heaps on the train that morning I had crossed\\ndeliberately to the other side of the car. I supposed there’d be a\\ncurious crowd around there all day with little boys searching for dark\\nspots in the dust, and some garrulous man telling over and over what\\nhad happened, until it became less and less real even to him and he\\ncould tell it no longer, and Myrtle Wilson’s tragic achievement was\\nforgotten. Now I want to go back a little and tell what happened at\\nthe garage after we left there the night before.\\n\\nThey had difficulty in locating the sister, Catherine. She must have\\nbroken her rule against drinking that night, for when she arrived she\\nwas stupid with liquor and unable to understand that the ambulance had\\nalready gone to Flushing. When they convinced her of this, she\\nimmediately fainted, as if that was the intolerable part of the\\naffair. Someone, kind or curious, took her in his car and drove her in\\nthe wake of her sister’s body.\\n\\nUntil long after midnight a changing crowd lapped up against the front\\nof the garage, while George Wilson rocked himself back and forth on\\nthe couch inside. For a while the door of the office was open, and\\neveryone who came into the garage glanced irresistibly through it.\\nFinally someone said it was a shame, and closed the door. Michaelis\\nand several other men were with him; first, four or five men, later\\ntwo or three men. Still later Michaelis had to ask the last stranger\\nto wait there fifteen minutes longer, while he went back to his own\\nplace and made a pot of coffee. After that, he stayed there alone with\\nWilson until dawn.\\n\\nAbout three o’clock the quality of Wilson’s incoherent muttering\\nchanged—he grew quieter and began to talk about the yellow car. He\\nannounced that he had a way of finding out whom the yellow car\\nbelonged to, and then he blurted out that a couple of months ago his\\nwife had come from the city with her face bruised and her nose\\nswollen.\\n\\nBut when he heard himself say this, he flinched and began to cry “Oh,\\nmy God!” again in his groaning voice. Michaelis made a clumsy attempt\\nto distract him.\\n\\n“How long have you been married, George? Come on there, try and sit\\nstill a minute, and answer my question. How long have you been\\nmarried?”\\n\\n“Twelve years.”\\n\\n“Ever had any children? Come on, George, sit still—I asked you a\\nquestion. Did you ever have any children?”\\n\\nThe hard brown beetles kept thudding against the dull light, and\\nwhenever Michaelis heard a car go tearing along the road outside it\\nsounded to him like the car that hadn’t stopped a few hours before.\\nHe didn’t like to go into the garage, because the work bench was\\nstained where the body had been lying, so he moved uncomfortably\\naround the office—he knew every object in it before morning—and from\\ntime to time sat down beside Wilson trying to keep him more quiet.\\n\\n“Have you got a church you go to sometimes, George? Maybe even if you\\nhaven’t been there for a long time? Maybe I could call up the church\\nand get a priest to come over and he could talk to you, see?”\\n\\n“Don’t belong to any.”\\n\\n“You ought to have a church, George, for times like this. You must\\nhave gone to church once. Didn’t you get married in a church? Listen,\\nGeorge, listen to me. Didn’t you get married in a church?”\\n\\n“That was a long time ago.”\\n\\nThe effort of answering broke the rhythm of his rocking—for a moment\\nhe was silent. Then the same half-knowing, half-bewildered look came\\nback into his faded eyes.\\n\\n“Look in the drawer there,” he said, pointing at the desk.\\n\\n“Which drawer?”\\n\\n“That drawer—that one.”\\n\\nMichaelis opened the drawer nearest his hand. There was nothing in it\\nbut a small, expensive dog-leash, made of leather and braided\\nsilver. It was apparently new.\\n\\n“This?” he inquired, holding it up.\\n\\nWilson stared and nodded.\\n\\n“I found it yesterday afternoon. She tried to tell me about it, but I\\nknew it was something funny.”\\n\\n“You mean your wife bought it?”\\n\\n“She had it wrapped in tissue paper on her bureau.”\\n\\nMichaelis didn’t see anything odd in that, and he gave Wilson a dozen\\nreasons why his wife might have bought the dog-leash. But conceivably\\nWilson had heard some of these same explanations before, from Myrtle,\\nbecause he began saying “Oh, my God!” again in a whisper—his comforter\\nleft several explanations in the air.\\n\\n“Then he killed her,” said Wilson. His mouth dropped open suddenly.\\n\\n“Who did?”\\n\\n“I have a way of finding out.”\\n\\n“You’re morbid, George,” said his friend. “This has been a strain to\\nyou and you don’t know what you’re saying. You’d better try and sit\\nquiet till morning.”\\n\\n“He murdered her.”\\n\\n“It was an accident, George.”\\n\\nWilson shook his head. His eyes narrowed and his mouth widened\\nslightly with the ghost of a superior “Hm!”\\n\\n“I know,” he said definitely. “I’m one of these trusting fellas and I\\ndon’t think any harm to nobody, but when I get to know a thing I know\\nit. It was the man in that car. She ran out to speak to him and he\\nwouldn’t stop.”\\n\\nMichaelis had seen this too, but it hadn’t occurred to him that there\\nwas any special significance in it. He believed that Mrs. Wilson had\\nbeen running away from her husband, rather than trying to stop any\\nparticular car.\\n\\n“How could she of been like that?”\\n\\n“She’s a deep one,” said Wilson, as if that answered the question.\\n“Ah-h-h—”\\n\\nHe began to rock again, and Michaelis stood twisting the leash in his\\nhand.\\n\\n“Maybe you got some friend that I could telephone for, George?”\\n\\nThis was a forlorn hope—he was almost sure that Wilson had no friend:\\nthere was not enough of him for his wife. He was glad a little later\\nwhen he noticed a change in the room, a blue quickening by the window,\\nand realized that dawn wasn’t far off. About five o’clock it was blue\\nenough outside to snap off the light.\\n\\nWilson’s glazed eyes turned out to the ash-heaps, where small grey\\nclouds took on fantastic shapes and scurried here and there in the\\nfaint dawn wind.\\n\\n“I spoke to her,” he muttered, after a long silence. “I told her she\\nmight fool me but she couldn’t fool God. I took her to the\\nwindow”—with an effort he got up and walked to the rear window and\\nleaned with his face pressed against it—“and I said ‘God knows what\\nyou’ve been doing, everything you’ve been doing. You may fool me, but\\nyou can’t fool God!’\\u200a”\\n\\nStanding behind him, Michaelis saw with a shock that he was looking at\\nthe eyes of Doctor T. J. Eckleburg, which had just emerged, pale and\\nenormous, from the dissolving night.\\n\\n“God sees everything,” repeated Wilson.\\n\\n“That’s an advertisement,” Michaelis assured him. Something made him\\nturn away from the window and look back into the room. But Wilson\\nstood there a long time, his face close to the window pane, nodding\\ninto the twilight.\\n\\n------------------------------------------------------------------------\\n\\nBy six o’clock Michaelis was worn out, and grateful for the sound of a\\ncar stopping outside. It was one of the watchers of the night before\\nwho had promised to come back, so he cooked breakfast for three, which\\nhe and the other man ate together. Wilson was quieter now, and\\nMichaelis went home to sleep; when he awoke four hours later and\\nhurried back to the garage, Wilson was gone.\\n\\nHis movements—he was on foot all the time—were afterward traced to\\nPort Roosevelt and then to Gad’s Hill, where he bought a sandwich that\\nhe didn’t eat, and a cup of coffee. He must have been tired and\\nwalking slowly, for he didn’t reach Gad’s Hill until noon. Thus far\\nthere was no difficulty in accounting for his time—there were boys who\\nhad seen a man “acting sort of crazy,” and motorists at whom he stared\\noddly from the side of the road. Then for three hours he disappeared\\nfrom view. The police, on the strength of what he said to Michaelis,\\nthat he “had a way of finding out,” supposed that he spent that time\\ngoing from garage to garage thereabout, inquiring for a yellow car. On\\nthe other hand, no garage man who had seen him ever came forward, and\\nperhaps he had an easier, surer way of finding out what he wanted to\\nknow. By half-past two he was in West Egg, where he asked someone the\\nway to Gatsby’s house. So by that time he knew Gatsby’s name.\\n\\n------------------------------------------------------------------------\\n\\nAt two o’clock Gatsby put on his bathing-suit and left word with the\\nbutler that if anyone phoned word was to be brought to him at the\\npool. He stopped at the garage for a pneumatic mattress that had\\namused his guests during the summer, and the chauffeur helped him to\\npump it up. Then he gave instructions that the open car wasn’t to be\\ntaken out under any circumstances—and this was strange, because the\\nfront right fender needed repair.\\n\\nGatsby shouldered the mattress and started for the pool. Once he\\nstopped and shifted it a little, and the chauffeur asked him if he\\nneeded help, but he shook his head and in a moment disappeared among\\nthe yellowing trees.\\n\\nNo telephone message arrived, but the butler went without his sleep\\nand waited for it until four o’clock—until long after there was anyone\\nto give it to if it came. I have an idea that Gatsby himself didn’t\\nbelieve it would come, and perhaps he no longer cared. If that was\\ntrue he must have felt that he had lost the old warm world, paid a\\nhigh price for living too long with a single dream. He must have\\nlooked up at an unfamiliar sky through frightening leaves and shivered\\nas he found what a grotesque thing a rose is and how raw the sunlight\\nwas upon the scarcely created grass. A new world, material without\\nbeing real, where poor ghosts, breathing dreams like air, drifted\\nfortuitously about … like that ashen, fantastic figure gliding toward\\nhim through the amorphous trees.\\n\\nThe chauffeur—he was one of Wolfshiem’s protégés—heard the\\nshots—afterwards he could only say that he hadn’t thought anything\\nmuch about them. I drove from the station directly to Gatsby’s house\\nand my rushing anxiously up the front steps was the first thing that\\nalarmed anyone. But they knew then, I firmly believe. With scarcely a\\nword said, four of us, the chauffeur, butler, gardener, and I hurried\\ndown to the pool.\\n\\nThere was a faint, barely perceptible movement of the water as the\\nfresh flow from one end urged its way toward the drain at the other.\\nWith little ripples that were hardly the shadows of waves, the laden\\nmattress moved irregularly down the pool. A small gust of wind that\\nscarcely corrugated the surface was enough to disturb its accidental\\ncourse with its accidental burden. The touch of a cluster of leaves\\nrevolved it slowly, tracing, like the leg of transit, a thin red\\ncircle in the water.\\n\\nIt was after we started with Gatsby toward the house that the gardener\\nsaw Wilson’s body a little way off in the grass, and the holocaust was\\ncomplete.\\n\\n\\n                                  IX\\n\\nAfter two years I remember the rest of that day, and that night and\\nthe next day, only as an endless drill of police and photographers and\\nnewspaper men in and out of Gatsby’s front door. A rope stretched\\nacross the main gate and a policeman by it kept out the curious, but\\nlittle boys soon discovered that they could enter through my yard, and\\nthere were always a few of them clustered open-mouthed about the\\npool. Someone with a positive manner, perhaps a detective, used the\\nexpression “madman” as he bent over Wilson’s body that afternoon, and\\nthe adventitious authority of his voice set the key for the newspaper\\nreports next morning.\\n\\nMost of those reports were a nightmare—grotesque, circumstantial,\\neager, and untrue. When Michaelis’s testimony at the inquest brought\\nto light Wilson’s suspicions of his wife I thought the whole tale\\nwould shortly be served up in racy pasquinade—but Catherine, who might\\nhave said anything, didn’t say a word. She showed a surprising amount\\nof character about it too—looked at the coroner with determined eyes\\nunder that corrected brow of hers, and swore that her sister had never\\nseen Gatsby, that her sister was completely happy with her husband,\\nthat her sister had been into no mischief whatever. She convinced\\nherself of it, and cried into her handkerchief, as if the very\\nsuggestion was more than she could endure. So Wilson was reduced to a\\nman “deranged by grief” in order that the case might remain in its\\nsimplest form. And it rested there.\\n\\nBut all this part of it seemed remote and unessential. I found myself\\non Gatsby’s side, and alone. From the moment I telephoned news of the\\ncatastrophe to West Egg village, every surmise about him, and every\\npractical question, was referred to me. At first I was surprised and\\nconfused; then, as he lay in his house and didn’t move or breathe or\\nspeak, hour upon hour, it grew upon me that I was responsible, because\\nno one else was interested—interested, I mean, with that intense\\npersonal interest to which everyone has some vague right at the end.\\n\\nI called up Daisy half an hour after we found him, called her\\ninstinctively and without hesitation. But she and Tom had gone away\\nearly that afternoon, and taken baggage with them.\\n\\n“Left no address?”\\n\\n“No.”\\n\\n“Say when they’d be back?”\\n\\n“No.”\\n\\n“Any idea where they are? How I could reach them?”\\n\\n“I don’t know. Can’t say.”\\n\\nI wanted to get somebody for him. I wanted to go into the room where\\nhe lay and reassure him: “I’ll get somebody for you, Gatsby. Don’t\\nworry. Just trust me and I’ll get somebody for you—”\\n\\nMeyer Wolfshiem’s name wasn’t in the phone book. The butler gave me\\nhis office address on Broadway, and I called Information, but by the\\ntime I had the number it was long after five, and no one answered the\\nphone.\\n\\n“Will you ring again?”\\n\\n“I’ve rung three times.”\\n\\n“It’s very important.”\\n\\n“Sorry. I’m afraid no one’s there.”\\n\\nI went back to the drawing-room and thought for an instant that they\\nwere chance visitors, all these official people who suddenly filled\\nit. But, though they drew back the sheet and looked at Gatsby with\\nshocked eyes, his protest continued in my brain:\\n\\n“Look here, old sport, you’ve got to get somebody for me. You’ve got\\nto try hard. I can’t go through this alone.”\\n\\nSomeone started to ask me questions, but I broke away and going\\nupstairs looked hastily through the unlocked parts of his desk—he’d\\nnever told me definitely that his parents were dead. But there was\\nnothing—only the picture of Dan Cody, a token of forgotten violence,\\nstaring down from the wall.\\n\\nNext morning I sent the butler to New York with a letter to Wolfshiem,\\nwhich asked for information and urged him to come out on the next\\ntrain. That request seemed superfluous when I wrote it. I was sure\\nhe’d start when he saw the newspapers, just as I was sure there’d be a\\nwire from Daisy before noon—but neither a wire nor Mr. Wolfshiem\\narrived; no one arrived except more police and photographers and\\nnewspaper men. When the butler brought back Wolfshiem’s answer I began\\nto have a feeling of defiance, of scornful solidarity between Gatsby\\nand me against them all.\\n\\n Dear Mr. Carraway. This has been one of the most terrible shocks of\\n my life to me I hardly can believe it that it is true at all. Such a\\n mad act as that man did should make us all think. I cannot come down\\n now as I am tied up in some very important business and cannot get\\n mixed up in this thing now. If there is anything I can do a little\\n later let me know in a letter by Edgar. I hardly know where I am when\\n I hear about a thing like this and am completely knocked down and\\n out.\\n\\n                               Yours truly\\n\\n                             Meyer Wolfshiem\\n\\nand then hasty addenda beneath:\\n\\n Let me know about the funeral etc do not know his family at all.\\n\\nWhen the phone rang that afternoon and Long Distance said Chicago was\\ncalling I thought this would be Daisy at last. But the connection came\\nthrough as a man’s voice, very thin and far away.\\n\\n“This is Slagle speaking …”\\n\\n“Yes?” The name was unfamiliar.\\n\\n“Hell of a note, isn’t it? Get my wire?”\\n\\n“There haven’t been any wires.”\\n\\n“Young Parke’s in trouble,” he said rapidly. “They picked him up when\\nhe handed the bonds over the counter. They got a circular from New\\nYork giving ’em the numbers just five minutes before. What d’you know\\nabout that, hey? You never can tell in these hick towns—”\\n\\n“Hello!” I interrupted breathlessly. “Look here—this isn’t Mr.\\nGatsby. Mr. Gatsby’s dead.”\\n\\nThere was a long silence on the other end of the wire, followed by an\\nexclamation … then a quick squawk as the connection was broken.\\n\\n------------------------------------------------------------------------\\n\\nI think it was on the third day that a telegram signed Henry C. Gatz\\narrived from a town in Minnesota. It said only that the sender was\\nleaving immediately and to postpone the funeral until he came.\\n\\nIt was Gatsby’s father, a solemn old man, very helpless and dismayed,\\nbundled up in a long cheap ulster against the warm September day. His\\neyes leaked continuously with excitement, and when I took the bag and\\numbrella from his hands he began to pull so incessantly at his sparse\\ngrey beard that I had difficulty in getting off his coat. He was on\\nthe point of collapse, so I took him into the music-room and made him\\nsit down while I sent for something to eat. But he wouldn’t eat, and\\nthe glass of milk spilled from his trembling hand.\\n\\n“I saw it in the Chicago newspaper,” he said. “It was all in the\\nChicago newspaper. I started right away.”\\n\\n“I didn’t know how to reach you.”\\n\\nHis eyes, seeing nothing, moved ceaselessly about the room.\\n\\n“It was a madman,” he said. “He must have been mad.”\\n\\n“Wouldn’t you like some coffee?” I urged him.\\n\\n“I don’t want anything. I’m all right now, Mr.—”\\n\\n“Carraway.”\\n\\n“Well, I’m all right now. Where have they got Jimmy?”\\n\\nI took him into the drawing-room, where his son lay, and left him\\nthere. Some little boys had come up on the steps and were looking into\\nthe hall; when I told them who had arrived, they went reluctantly\\naway.\\n\\nAfter a little while Mr. Gatz opened the door and came out, his mouth\\najar, his face flushed slightly, his eyes leaking isolated and\\nunpunctual tears. He had reached an age where death no longer has the\\nquality of ghastly surprise, and when he looked around him now for the\\nfirst time and saw the height and splendour of the hall and the great\\nrooms opening out from it into other rooms, his grief began to be\\nmixed with an awed pride. I helped him to a bedroom upstairs; while he\\ntook off his coat and vest I told him that all arrangements had been\\ndeferred until he came.\\n\\n“I didn’t know what you’d want, Mr. Gatsby—”\\n\\n“Gatz is my name.”\\n\\n“—Mr. Gatz. I thought you might want to take the body West.”\\n\\nHe shook his head.\\n\\n“Jimmy always liked it better down East. He rose up to his position in\\nthe East. Were you a friend of my boy’s, Mr.—?”\\n\\n“We were close friends.”\\n\\n“He had a big future before him, you know. He was only a young man,\\nbut he had a lot of brain power here.”\\n\\nHe touched his head impressively, and I nodded.\\n\\n“If he’d of lived, he’d of been a great man. A man like James J.\\nHill. He’d of helped build up the country.”\\n\\n“That’s true,” I said, uncomfortably.\\n\\nHe fumbled at the embroidered coverlet, trying to take it from the\\nbed, and lay down stiffly—was instantly asleep.\\n\\nThat night an obviously frightened person called up, and demanded to\\nknow who I was before he would give his name.\\n\\n“This is Mr. Carraway,” I said.\\n\\n“Oh!” He sounded relieved. “This is Klipspringer.”\\n\\nI was relieved too, for that seemed to promise another friend at\\nGatsby’s grave. I didn’t want it to be in the papers and draw a\\nsightseeing crowd, so I’d been calling up a few people myself. They\\nwere hard to find.\\n\\n“The funeral’s tomorrow,” I said. “Three o’clock, here at the house.\\nI wish you’d tell anybody who’d be interested.”\\n\\n“Oh, I will,” he broke out hastily. “Of course I’m not likely to see\\nanybody, but if I do.”\\n\\nHis tone made me suspicious.\\n\\n“Of course you’ll be there yourself.”\\n\\n“Well, I’ll certainly try. What I called up about is—”\\n\\n“Wait a minute,” I interrupted. “How about saying you’ll come?”\\n\\n“Well, the fact is—the truth of the matter is that I’m staying with\\nsome people up here in Greenwich, and they rather expect me to be with\\nthem tomorrow. In fact, there’s a sort of picnic or something. Of\\ncourse I’ll do my best to get away.”\\n\\nI ejaculated an unrestrained “Huh!” and he must have heard me, for he\\nwent on nervously:\\n\\n“What I called up about was a pair of shoes I left there. I wonder if\\nit’d be too much trouble to have the butler send them on. You see,\\nthey’re tennis shoes, and I’m sort of helpless without them. My\\naddress is care of B. F.—”\\n\\nI didn’t hear the rest of the name, because I hung up the receiver.\\n\\nAfter that I felt a certain shame for Gatsby—one gentleman to whom I\\ntelephoned implied that he had got what he deserved. However, that was\\nmy fault, for he was one of those who used to sneer most bitterly at\\nGatsby on the courage of Gatsby’s liquor, and I should have known\\nbetter than to call him.\\n\\nThe morning of the funeral I went up to New York to see Meyer\\nWolfshiem; I couldn’t seem to reach him any other way. The door that I\\npushed open, on the advice of an elevator boy, was marked “The\\nSwastika Holding Company,” and at first there didn’t seem to be anyone\\ninside. But when I’d shouted “hello” several times in vain, an\\nargument broke out behind a partition, and presently a lovely Jewess\\nappeared at an interior door and scrutinized me with black hostile\\neyes.\\n\\n“Nobody’s in,” she said. “Mr. Wolfshiem’s gone to Chicago.”\\n\\nThe first part of this was obviously untrue, for someone had begun to\\nwhistle “The Rosary,” tunelessly, inside.\\n\\n“Please say that Mr. Carraway wants to see him.”\\n\\n“I can’t get him back from Chicago, can I?”\\n\\nAt this moment a voice, unmistakably Wolfshiem’s, called “Stella!”\\nfrom the other side of the door.\\n\\n“Leave your name on the desk,” she said quickly. “I’ll give it to him\\nwhen he gets back.”\\n\\n“But I know he’s there.”\\n\\nShe took a step toward me and began to slide her hands indignantly up\\nand down her hips.\\n\\n“You young men think you can force your way in here any time,” she\\nscolded. “We’re getting sickantired of it. When I say he’s in Chicago,\\nhe’s in Chicago.”\\n\\nI mentioned Gatsby.\\n\\n“Oh-h!” She looked at me over again. “Will you just—What was your\\nname?”\\n\\nShe vanished. In a moment Meyer Wolfshiem stood solemnly in the\\ndoorway, holding out both hands. He drew me into his office, remarking\\nin a reverent voice that it was a sad time for all of us, and offered\\nme a cigar.\\n\\n“My memory goes back to when first I met him,” he said. “A young major\\njust out of the army and covered over with medals he got in the war.\\nHe was so hard up he had to keep on wearing his uniform because he\\ncouldn’t buy some regular clothes. First time I saw him was when he\\ncame into Winebrenner’s poolroom at Forty-third Street and asked for a\\njob. He hadn’t eat anything for a couple of days. ‘Come on have some\\nlunch with me,’ I said. He ate more than four dollars’ worth of food\\nin half an hour.”\\n\\n“Did you start him in business?” I inquired.\\n\\n“Start him! I made him.”\\n\\n“Oh.”\\n\\n“I raised him up out of nothing, right out of the gutter. I saw right\\naway he was a fine-appearing, gentlemanly young man, and when he told\\nme he was at Oggsford I knew I could use him good. I got him to join\\nthe American Legion and he used to stand high there. Right off he did\\nsome work for a client of mine up to Albany. We were so thick like\\nthat in everything”—he held up two bulbous fingers—“always together.”\\n\\nI wondered if this partnership had included the World’s Series\\ntransaction in 1919.\\n\\n“Now he’s dead,” I said after a moment. “You were his closest friend,\\nso I know you’ll want to come to his funeral this afternoon.”\\n\\n“I’d like to come.”\\n\\n“Well, come then.”\\n\\nThe hair in his nostrils quivered slightly, and as he shook his head\\nhis eyes filled with tears.\\n\\n“I can’t do it—I can’t get mixed up in it,” he said.\\n\\n“There’s nothing to get mixed up in. It’s all over now.”\\n\\n“When a man gets killed I never like to get mixed up in it in any\\nway. I keep out. When I was a young man it was different—if a friend\\nof mine died, no matter how, I stuck with them to the end. You may\\nthink that’s sentimental, but I mean it—to the bitter end.”\\n\\nI saw that for some reason of his own he was determined not to come,\\nso I stood up.\\n\\n“Are you a college man?” he inquired suddenly.\\n\\nFor a moment I thought he was going to suggest a “gonnegtion,” but he\\nonly nodded and shook my hand.\\n\\n“Let us learn to show our friendship for a man when he is alive and\\nnot after he is dead,” he suggested. “After that my own rule is to let\\neverything alone.”\\n\\nWhen I left his office the sky had turned dark and I got back to West\\nEgg in a drizzle. After changing my clothes I went next door and found\\nMr. Gatz walking up and down excitedly in the hall. His pride in his\\nson and in his son’s possessions was continually increasing and now he\\nhad something to show me.\\n\\n“Jimmy sent me this picture.” He took out his wallet with trembling\\nfingers. “Look there.”\\n\\nIt was a photograph of the house, cracked in the corners and dirty\\nwith many hands. He pointed out every detail to me eagerly. “Look\\nthere!” and then sought admiration from my eyes. He had shown it so\\noften that I think it was more real to him now than the house itself.\\n\\n“Jimmy sent it to me. I think it’s a very pretty picture. It shows up\\nwell.”\\n\\n“Very well. Had you seen him lately?”\\n\\n“He come out to see me two years ago and bought me the house I live in\\nnow. Of course we was broke up when he run off from home, but I see\\nnow there was a reason for it. He knew he had a big future in front of\\nhim. And ever since he made a success he was very generous with me.”\\n\\nHe seemed reluctant to put away the picture, held it for another\\nminute, lingeringly, before my eyes. Then he returned the wallet and\\npulled from his pocket a ragged old copy of a book called Hopalong\\nCassidy.\\n\\n“Look here, this is a book he had when he was a boy. It just shows\\nyou.”\\n\\nHe opened it at the back cover and turned it around for me to see. On\\nthe last flyleaf was printed the word schedule, and the date September\\n12, 1906. And underneath:\\n\\n    Rise from bed                                  6:00      a.m.\\n    Dumbell exercise and wall-scaling              6:15-6:30 ”\\n    Study electricity, etc.                        7:15-8:15 ”\\n    Work                                           8:30-4:30 p.m.\\n    Baseball and sports                            4:30-5:00 ”\\n    Practise elocution, poise and how to attain it 5:00-6:00 ”\\n    Study needed inventions                        7:00-9:00 ”\\n\\n               General Resolves\\n\\n  * No wasting time at Shafters or [a name, indecipherable]\\n\\n  * No more smokeing or chewing.\\n\\n  * Bath every other day\\n\\n  * Read one improving book or magazine per week\\n\\n  * Save $5.00 [crossed out] $3.00 per week\\n\\n  * Be better to parents\\n\\n“I came across this book by accident,” said the old man. “It just\\nshows you, don’t it?”\\n\\n“It just shows you.”\\n\\n“Jimmy was bound to get ahead. He always had some resolves like this\\nor something. Do you notice what he’s got about improving his mind? He\\nwas always great for that. He told me I et like a hog once, and I beat\\nhim for it.”\\n\\nHe was reluctant to close the book, reading each item aloud and then\\nlooking eagerly at me. I think he rather expected me to copy down the\\nlist for my own use.\\n\\nA little before three the Lutheran minister arrived from Flushing, and\\nI began to look involuntarily out the windows for other cars. So did\\nGatsby’s father. And as the time passed and the servants came in and\\nstood waiting in the hall, his eyes began to blink anxiously, and he\\nspoke of the rain in a worried, uncertain way. The minister glanced\\nseveral times at his watch, so I took him aside and asked him to wait\\nfor half an hour. But it wasn’t any use. Nobody came.\\n\\n------------------------------------------------------------------------\\n\\nAbout five o’clock our procession of three cars reached the cemetery\\nand stopped in a thick drizzle beside the gate—first a motor hearse,\\nhorribly black and wet, then Mr. Gatz and the minister and me in the\\nlimousine, and a little later four or five servants and the postman\\nfrom West Egg, in Gatsby’s station wagon, all wet to the skin. As we\\nstarted through the gate into the cemetery I heard a car stop and then\\nthe sound of someone splashing after us over the soggy ground. I\\nlooked around. It was the man with owl-eyed glasses whom I had found\\nmarvelling over Gatsby’s books in the library one night three months\\nbefore.\\n\\nI’d never seen him since then. I don’t know how he knew about the\\nfuneral, or even his name. The rain poured down his thick glasses, and\\nhe took them off and wiped them to see the protecting canvas unrolled\\nfrom Gatsby’s grave.\\n\\nI tried to think about Gatsby then for a moment, but he was already\\ntoo far away, and I could only remember, without resentment, that\\nDaisy hadn’t sent a message or a flower. Dimly I heard someone murmur\\n“Blessed are the dead that the rain falls on,” and then the owl-eyed\\nman said “Amen to that,” in a brave voice.\\n\\nWe straggled down quickly through the rain to the cars. Owl-eyes spoke\\nto me by the gate.\\n\\n“I couldn’t get to the house,” he remarked.\\n\\n“Neither could anybody else.”\\n\\n“Go on!” He started. “Why, my God! they used to go there by the\\nhundreds.”\\n\\nHe took off his glasses and wiped them again, outside and in.\\n\\n“The poor son-of-a-bitch,” he said.\\n\\n------------------------------------------------------------------------\\n\\nOne of my most vivid memories is of coming back West from prep school\\nand later from college at Christmas time. Those who went farther than\\nChicago would gather in the old dim Union Station at six o’clock of a\\nDecember evening, with a few Chicago friends, already caught up into\\ntheir own holiday gaieties, to bid them a hasty goodbye. I remember\\nthe fur coats of the girls returning from Miss This-or-That’s and the\\nchatter of frozen breath and the hands waving overhead as we caught\\nsight of old acquaintances, and the matchings of invitations: “Are you\\ngoing to the Ordways’? the Herseys’? the Schultzes’?” and the long\\ngreen tickets clasped tight in our gloved hands. And last the murky\\nyellow cars of the Chicago, Milwaukee and St. Paul railroad looking\\ncheerful as Christmas itself on the tracks beside the gate.\\n\\nWhen we pulled out into the winter night and the real snow, our snow,\\nbegan to stretch out beside us and twinkle against the windows, and\\nthe dim lights of small Wisconsin stations moved by, a sharp wild\\nbrace came suddenly into the air. We drew in deep breaths of it as we\\nwalked back from dinner through the cold vestibules, unutterably aware\\nof our identity with this country for one strange hour, before we\\nmelted indistinguishably into it again.\\n\\nThat’s my Middle West—not the wheat or the prairies or the lost Swede\\ntowns, but the thrilling returning trains of my youth, and the street\\nlamps and sleigh bells in the frosty dark and the shadows of holly\\nwreaths thrown by lighted windows on the snow. I am part of that, a\\nlittle solemn with the feel of those long winters, a little complacent\\nfrom growing up in the Carraway house in a city where dwellings are\\nstill called through decades by a family’s name. I see now that this\\nhas been a story of the West, after all—Tom and Gatsby, Daisy and\\nJordan and I, were all Westerners, and perhaps we possessed some\\ndeficiency in common which made us subtly unadaptable to Eastern life.\\n\\nEven when the East excited me most, even when I was most keenly aware\\nof its superiority to the bored, sprawling, swollen towns beyond the\\nOhio, with their interminable inquisitions which spared only the\\nchildren and the very old—even then it had always for me a quality of\\ndistortion. West Egg, especially, still figures in my more fantastic\\ndreams. I see it as a night scene by El Greco: a hundred houses, at\\nonce conventional and grotesque, crouching under a sullen, overhanging\\nsky and a lustreless moon. In the foreground four solemn men in dress\\nsuits are walking along the sidewalk with a stretcher on which lies a\\ndrunken woman in a white evening dress. Her hand, which dangles over\\nthe side, sparkles cold with jewels. Gravely the men turn in at a\\nhouse—the wrong house. But no one knows the woman’s name, and no one\\ncares.\\n\\nAfter Gatsby’s death the East was haunted for me like that, distorted\\nbeyond my eyes’ power of correction. So when the blue smoke of brittle\\nleaves was in the air and the wind blew the wet laundry stiff on the\\nline I decided to come back home.\\n\\nThere was one thing to be done before I left, an awkward, unpleasant\\nthing that perhaps had better have been let alone. But I wanted to\\nleave things in order and not just trust that obliging and indifferent\\nsea to sweep my refuse away. I saw Jordan Baker and talked over and\\naround what had happened to us together, and what had happened\\nafterward to me, and she lay perfectly still, listening, in a big\\nchair.\\n\\nShe was dressed to play golf, and I remember thinking she looked like\\na good illustration, her chin raised a little jauntily, her hair the\\ncolour of an autumn leaf, her face the same brown tint as the\\nfingerless glove on her knee. When I had finished she told me without\\ncomment that she was engaged to another man. I doubted that, though\\nthere were several she could have married at a nod of her head, but I\\npretended to be surprised. For just a minute I wondered if I wasn’t\\nmaking a mistake, then I thought it all over again quickly and got up\\nto say goodbye.\\n\\n“Nevertheless you did throw me over,” said Jordan suddenly. “You threw\\nme over on the telephone. I don’t give a damn about you now, but it\\nwas a new experience for me, and I felt a little dizzy for a while.”\\n\\nWe shook hands.\\n\\n“Oh, and do you remember”—she added—“a conversation we had once about\\ndriving a car?”\\n\\n“Why—not exactly.”\\n\\n“You said a bad driver was only safe until she met another bad driver?\\nWell, I met another bad driver, didn’t I? I mean it was careless of me\\nto make such a wrong guess. I thought you were rather an honest,\\nstraightforward person. I thought it was your secret pride.”\\n\\n“I’m thirty,” I said. “I’m five years too old to lie to myself and\\ncall it honour.”\\n\\nShe didn’t answer. Angry, and half in love with her, and tremendously\\nsorry, I turned away.\\n\\n------------------------------------------------------------------------\\n\\nOne afternoon late in October I saw Tom Buchanan. He was walking ahead\\nof me along Fifth Avenue in his alert, aggressive way, his hands out a\\nlittle from his body as if to fight off interference, his head moving\\nsharply here and there, adapting itself to his restless eyes. Just as\\nI slowed up to avoid overtaking him he stopped and began frowning into\\nthe windows of a jewellery store. Suddenly he saw me and walked back,\\nholding out his hand.\\n\\n“What’s the matter, Nick? Do you object to shaking hands with me?”\\n\\n“Yes. You know what I think of you.”\\n\\n“You’re crazy, Nick,” he said quickly. “Crazy as hell. I don’t know\\nwhat’s the matter with you.”\\n\\n“Tom,” I inquired, “what did you say to Wilson that afternoon?”\\n\\nHe stared at me without a word, and I knew I had guessed right about\\nthose missing hours. I started to turn away, but he took a step after\\nme and grabbed my arm.\\n\\n“I told him the truth,” he said. “He came to the door while we were\\ngetting ready to leave, and when I sent down word that we weren’t in\\nhe tried to force his way upstairs. He was crazy enough to kill me if\\nI hadn’t told him who owned the car. His hand was on a revolver in his\\npocket every minute he was in the house—” He broke off defiantly.\\n“What if I did tell him? That fellow had it coming to him. He threw\\ndust into your eyes just like he did in Daisy’s, but he was a tough\\none. He ran over Myrtle like you’d run over a dog and never even\\nstopped his car.”\\n\\nThere was nothing I could say, except the one unutterable fact that it\\nwasn’t true.\\n\\n“And if you think I didn’t have my share of suffering—look here, when\\nI went to give up that flat and saw that damn box of dog biscuits\\nsitting there on the sideboard, I sat down and cried like a baby. By\\nGod it was awful—”\\n\\nI couldn’t forgive him or like him, but I saw that what he had done\\nwas, to him, entirely justified. It was all very careless and\\nconfused. They were careless people, Tom and Daisy—they smashed up\\nthings and creatures and then retreated back into their money or their\\nvast carelessness, or whatever it was that kept them together, and let\\nother people clean up the mess they had made …\\n\\nI shook hands with him; it seemed silly not to, for I felt suddenly as\\nthough I were talking to a child. Then he went into the jewellery\\nstore to buy a pearl necklace—or perhaps only a pair of cuff\\nbuttons—rid of my provincial squeamishness forever.\\n\\n------------------------------------------------------------------------\\n\\nGatsby’s house was still empty when I left—the grass on his lawn had\\ngrown as long as mine. One of the taxi drivers in the village never\\ntook a fare past the entrance gate without stopping for a minute and\\npointing inside; perhaps it was he who drove Daisy and Gatsby over to\\nEast Egg the night of the accident, and perhaps he had made a story\\nabout it all his own. I didn’t want to hear it and I avoided him when\\nI got off the train.\\n\\nI spent my Saturday nights in New York because those gleaming,\\ndazzling parties of his were with me so vividly that I could still\\nhear the music and the laughter, faint and incessant, from his garden,\\nand the cars going up and down his drive. One night I did hear a\\nmaterial car there, and saw its lights stop at his front steps. But I\\ndidn’t investigate. Probably it was some final guest who had been away\\nat the ends of the earth and didn’t know that the party was over.\\n\\nOn the last night, with my trunk packed and my car sold to the grocer,\\nI went over and looked at that huge incoherent failure of a house once\\nmore. On the white steps an obscene word, scrawled by some boy with a\\npiece of brick, stood out clearly in the moonlight, and I erased it,\\ndrawing my shoe raspingly along the stone. Then I wandered down to the\\nbeach and sprawled out on the sand.\\n\\nMost of the big shore places were closed now and there were hardly any\\nlights except the shadowy, moving glow of a ferryboat across the\\nSound. And as the moon rose higher the inessential houses began to\\nmelt away until gradually I became aware of the old island here that\\nflowered once for Dutch sailors’ eyes—a fresh, green breast of the new\\nworld. Its vanished trees, the trees that had made way for Gatsby’s\\nhouse, had once pandered in whispers to the last and greatest of all\\nhuman dreams; for a transitory enchanted moment man must have held his\\nbreath in the presence of this continent, compelled into an aesthetic\\ncontemplation he neither understood nor desired, face to face for the\\nlast time in history with something commensurate to his capacity for\\nwonder.\\n\\nAnd as I sat there brooding on the old, unknown world, I thought of\\nGatsby’s wonder when he first picked out the green light at the end of\\nDaisy’s dock. He had come a long way to this blue lawn, and his dream\\nmust have seemed so close that he could hardly fail to grasp it. He\\ndid not know that it was already behind him, somewhere back in that\\nvast obscurity beyond the city, where the dark fields of the republic\\nrolled on under the night.\\n\\nGatsby believed in the green light, the orgastic future that year by\\nyear recedes before us. It eluded us then, but that’s no\\nmatter—tomorrow we will run faster, stretch out our arms further … And\\none fine morning—\\n\\nSo we beat on, boats against the current, borne back ceaselessly into\\nthe past.', doc_id='4d9f18cc-41d3-4b3c-be7b-e57c052388b1', embedding=None, doc_hash='101e3a1595165eb3abe26d3946149ea1fc08320cb8c75ea2872a404cd81efaf7', extra_info=None)]"
      ]
     },
     "execution_count": 18,
     "metadata": {},
     "output_type": "execute_result"
    }
   ],
   "source": [
    "documents"
   ]
  },
  {
   "cell_type": "code",
   "execution_count": 19,
   "id": "d8555b6d-5289-4803-bced-6b2f85dea3da",
   "metadata": {},
   "outputs": [
    {
     "name": "stdout",
     "output_type": "stream",
     "text": [
      "INFO:llama_index.token_counter.token_counter:> [build_index_from_nodes] Total LLM token usage: 0 tokens\n",
      "> [build_index_from_nodes] Total LLM token usage: 0 tokens\n",
      "INFO:llama_index.token_counter.token_counter:> [build_index_from_nodes] Total embedding token usage: 49266 tokens\n",
      "> [build_index_from_nodes] Total embedding token usage: 49266 tokens\n"
     ]
    }
   ],
   "source": [
    "index = GPTVectorStoreIndex.from_documents(documents, service_context=service_context)"
   ]
  },
  {
   "cell_type": "markdown",
   "id": "805847d9-a2c1-4930-98a9-98126e730000",
   "metadata": {
    "tags": []
   },
   "source": [
    "## Retrieval"
   ]
  },
  {
   "cell_type": "code",
   "execution_count": 20,
   "id": "ace86835-832e-4964-a025-428891aa2c8b",
   "metadata": {},
   "outputs": [],
   "source": [
    "from llama_index.retrievers import VectorIndexRetriever\n",
    "from llama_index.indices.query.schema import QueryBundle\n",
    "\n",
    "def get_retrieved_nodes(query_str, vector_top_k=10, reranker_top_n=3, with_reranker=False):\n",
    "    query_bundle = QueryBundle(query_str)\n",
    "    # configure retriever\n",
    "    retriever = VectorIndexRetriever(\n",
    "        index=index, \n",
    "        similarity_top_k=vector_top_k,\n",
    "    )\n",
    "    retrieved_nodes = retriever.retrieve(query_bundle)\n",
    "\n",
    "    if with_reranker:\n",
    "        # configure reranker\n",
    "        reranker = LLMRerank(choice_batch_size=5, top_n=reranker_top_n, service_context=service_context)\n",
    "        retrieved_nodes = reranker.postprocess_nodes(retrieved_nodes, query_bundle)\n",
    "    \n",
    "    return retrieved_nodes\n",
    "\n",
    "\n",
    "def visualize_retrieved_nodes(nodes) -> None:\n",
    "    for node in nodes:\n",
    "        print(f'\\n\\n****Score****: {node.score}\\n****Node text****\\n: {node.node.get_text()}')"
   ]
  },
  {
   "cell_type": "code",
   "execution_count": 21,
   "id": "20993200-b725-403e-8a79-e2571dab2ebc",
   "metadata": {
    "tags": []
   },
   "outputs": [
    {
     "name": "stdout",
     "output_type": "stream",
     "text": [
      "INFO:llama_index.token_counter.token_counter:> [retrieve] Total LLM token usage: 0 tokens\n",
      "> [retrieve] Total LLM token usage: 0 tokens\n",
      "INFO:llama_index.token_counter.token_counter:> [retrieve] Total embedding token usage: 10 tokens\n",
      "> [retrieve] Total embedding token usage: 10 tokens\n"
     ]
    }
   ],
   "source": [
    "new_nodes = get_retrieved_nodes(\n",
    "    \"Who was driving the car that hit Myrtle?\", vector_top_k=3, with_reranker=False\n",
    ")"
   ]
  },
  {
   "cell_type": "code",
   "execution_count": 22,
   "id": "9dd3bc25-6ef1-46b7-869e-247c83af9d4d",
   "metadata": {
    "scrolled": true,
    "tags": []
   },
   "outputs": [
    {
     "name": "stdout",
     "output_type": "stream",
     "text": [
      "\n",
      "\n",
      "****Score****: 0.8288724419764687\n",
      "****Node text****\n",
      ": and some garrulous man telling over and over what\n",
      "had happened, until it became less and less real even to him and he\n",
      "could tell it no longer, and Myrtle Wilson’s tragic achievement was\n",
      "forgotten. Now I want to go back a little and tell what happened at\n",
      "the garage after we left there the night before.\n",
      "\n",
      "They had difficulty in locating the sister, Catherine. She must have\n",
      "broken her rule against drinking that night, for when she arrived she\n",
      "was stupid with liquor and unable to understand that the ambulance had\n",
      "already gone to Flushing. When they convinced her of this, she\n",
      "immediately fainted, as if that was the intolerable part of the\n",
      "affair. Someone, kind or curious, took her in his car and drove her in\n",
      "the wake of her sister’s body.\n",
      "\n",
      "Until long after midnight a changing crowd lapped up against the front\n",
      "of the garage, while George Wilson rocked himself back and forth on\n",
      "the couch inside. For a while the door of the office was open, and\n",
      "everyone who came into the garage glanced irresistibly through it.\n",
      "Finally someone said it was a shame, and closed the door. Michaelis\n",
      "and several other men were with him; first, four or five men, later\n",
      "two or three men. Still later Michaelis had to ask the last stranger\n",
      "to wait there fifteen minutes longer, while he went back to his own\n",
      "place and made a pot of coffee. After that, he stayed there alone with\n",
      "Wilson until dawn.\n",
      "\n",
      "About three o’clock the quality of Wilson’s incoherent muttering\n",
      "changed—he grew quieter and began to talk about the yellow car. He\n",
      "announced that he had a way of finding out whom the yellow car\n",
      "belonged to, and then he blurted out that a couple of months ago his\n",
      "wife had come from the city with her face bruised and her nose\n",
      "swollen.\n",
      "\n",
      "But when he heard himself say this, he flinched and began to cry “Oh,\n",
      "my God!” again in his groaning voice. Michaelis made a clumsy\n",
      "\n",
      "\n",
      "****Score****: 0.8277695035637143\n",
      "****Node text****\n",
      ": she rushed out into the dusk, waving her hands and\n",
      "shouting—before he could move from his door the business was over.\n",
      "\n",
      "The “death car” as the newspapers called it, didn’t stop; it came out\n",
      "of the gathering darkness, wavered tragically for a moment, and then\n",
      "disappeared around the next bend. Mavro Michaelis wasn’t even sure of\n",
      "its colour—he told the first policeman that it was light green. The\n",
      "other car, the one going toward New York, came to rest a hundred yards\n",
      "beyond, and its driver hurried back to where Myrtle Wilson, her life\n",
      "violently extinguished, knelt in the road and mingled her thick dark\n",
      "blood with the dust.\n",
      "\n",
      "Michaelis and this man reached her first, but when they had torn open\n",
      "her shirtwaist, still damp with perspiration, they saw that her left\n",
      "breast was swinging loose like a flap, and there was no need to listen\n",
      "for the heart beneath. The mouth was wide open and ripped a little at\n",
      "the corners, as though she had choked a little in giving up the\n",
      "tremendous vitality she had stored so long.\n",
      "\n",
      "------------------------------------------------------------------------\n",
      "\n",
      "We saw the three or four automobiles and the crowd when we were still\n",
      "some distance away.\n",
      "\n",
      "“Wreck!” said Tom. “That’s good. Wilson’ll have a little business at\n",
      "last.”\n",
      "\n",
      "He slowed down, but still without any intention of stopping, until, as\n",
      "we came nearer, the hushed, intent faces of the people at the garage\n",
      "door made him automatically put on the brakes.\n",
      "\n",
      "“We’ll take a look,” he said doubtfully, “just a look.”\n",
      "\n",
      "I became aware now of a hollow, wailing sound which issued incessantly\n",
      "from the garage, a sound which as we got out of the coupé and walked\n",
      "toward the door resolved itself into the words “Oh, my God!” uttered\n",
      "over and over in a gasping\n",
      "\n",
      "\n",
      "****Score****: 0.8263924036395296\n",
      "****Node text****\n",
      ": went on, “and left the car in\n",
      "my garage. I don’t think anybody saw us, but of course I can’t be\n",
      "sure.”\n",
      "\n",
      "I disliked him so much by this time that I didn’t find it necessary to\n",
      "tell him he was wrong.\n",
      "\n",
      "“Who was the woman?” he inquired.\n",
      "\n",
      "“Her name was Wilson. Her husband owns the garage. How the devil did\n",
      "it happen?”\n",
      "\n",
      "“Well, I tried to swing the wheel—” He broke off, and suddenly I\n",
      "guessed at the truth.\n",
      "\n",
      "“Was Daisy driving?”\n",
      "\n",
      "“Yes,” he said after a moment, “but of course I’ll say I was. You see,\n",
      "when we left New York she was very nervous and she thought it would\n",
      "steady her to drive—and this woman rushed out at us just as we were\n",
      "passing a car coming the other way. It all happened in a minute, but\n",
      "it seemed to me that she wanted to speak to us, thought we were\n",
      "somebody she knew. Well, first Daisy turned away from the woman toward\n",
      "the other car, and then she lost her nerve and turned back. The second\n",
      "my hand reached the wheel I felt the shock—it must have killed her\n",
      "instantly.”\n",
      "\n",
      "“It ripped her open—”\n",
      "\n",
      "“Don’t tell me, old sport.” He winced. “Anyhow—Daisy stepped on it. I\n",
      "tried to make her stop, but she couldn’t, so I pulled on the emergency\n",
      "brake. Then she fell over into my lap and I drove on.\n",
      "\n",
      "“She’ll be all right tomorrow,” he said presently. “I’m just going to\n",
      "wait here and see if he tries to bother her about that unpleasantness\n",
      "this afternoon. She’s locked herself into her room, and if he tries\n",
      "any brutality she’s going to turn the light out and on again.”\n",
      "\n",
      "“He won’t touch\n"
     ]
    }
   ],
   "source": [
    "visualize_retrieved_nodes(new_nodes)"
   ]
  },
  {
   "cell_type": "code",
   "execution_count": 25,
   "id": "0ad7d62b-dba9-45d5-896f-4baa9a40edba",
   "metadata": {
    "tags": []
   },
   "outputs": [
    {
     "name": "stdout",
     "output_type": "stream",
     "text": [
      "INFO:llama_index.token_counter.token_counter:> [retrieve] Total LLM token usage: 0 tokens\n",
      "> [retrieve] Total LLM token usage: 0 tokens\n",
      "INFO:llama_index.token_counter.token_counter:> [retrieve] Total embedding token usage: 10 tokens\n",
      "> [retrieve] Total embedding token usage: 10 tokens\n",
      "Doc: 3, Relevance: 10\n",
      "No relevant documents for this question.\n"
     ]
    }
   ],
   "source": [
    "new_nodes = get_retrieved_nodes(\n",
    "    \"Who was driving the car that hit Myrtle?\", vector_top_k=10, reranker_top_n=3, with_reranker=True\n",
    ")"
   ]
  },
  {
   "cell_type": "code",
   "execution_count": 26,
   "id": "ae22d297-dd3b-4a71-a890-faceafab4e1a",
   "metadata": {
    "tags": []
   },
   "outputs": [
    {
     "name": "stdout",
     "output_type": "stream",
     "text": [
      "\n",
      "\n",
      "****Score****: 10.0\n",
      "****Node text****\n",
      ": went on, “and left the car in\n",
      "my garage. I don’t think anybody saw us, but of course I can’t be\n",
      "sure.”\n",
      "\n",
      "I disliked him so much by this time that I didn’t find it necessary to\n",
      "tell him he was wrong.\n",
      "\n",
      "“Who was the woman?” he inquired.\n",
      "\n",
      "“Her name was Wilson. Her husband owns the garage. How the devil did\n",
      "it happen?”\n",
      "\n",
      "“Well, I tried to swing the wheel—” He broke off, and suddenly I\n",
      "guessed at the truth.\n",
      "\n",
      "“Was Daisy driving?”\n",
      "\n",
      "“Yes,” he said after a moment, “but of course I’ll say I was. You see,\n",
      "when we left New York she was very nervous and she thought it would\n",
      "steady her to drive—and this woman rushed out at us just as we were\n",
      "passing a car coming the other way. It all happened in a minute, but\n",
      "it seemed to me that she wanted to speak to us, thought we were\n",
      "somebody she knew. Well, first Daisy turned away from the woman toward\n",
      "the other car, and then she lost her nerve and turned back. The second\n",
      "my hand reached the wheel I felt the shock—it must have killed her\n",
      "instantly.”\n",
      "\n",
      "“It ripped her open—”\n",
      "\n",
      "“Don’t tell me, old sport.” He winced. “Anyhow—Daisy stepped on it. I\n",
      "tried to make her stop, but she couldn’t, so I pulled on the emergency\n",
      "brake. Then she fell over into my lap and I drove on.\n",
      "\n",
      "“She’ll be all right tomorrow,” he said presently. “I’m just going to\n",
      "wait here and see if he tries to bother her about that unpleasantness\n",
      "this afternoon. She’s locked herself into her room, and if he tries\n",
      "any brutality she’s going to turn the light out and on again.”\n",
      "\n",
      "“He won’t touch\n"
     ]
    }
   ],
   "source": [
    "visualize_retrieved_nodes(new_nodes)"
   ]
  },
  {
   "cell_type": "code",
   "execution_count": 27,
   "id": "4e540fb6-189f-4a54-98d6-852e561f39ee",
   "metadata": {
    "tags": []
   },
   "outputs": [
    {
     "name": "stdout",
     "output_type": "stream",
     "text": [
      "INFO:llama_index.token_counter.token_counter:> [retrieve] Total LLM token usage: 0 tokens\n",
      "> [retrieve] Total LLM token usage: 0 tokens\n",
      "INFO:llama_index.token_counter.token_counter:> [retrieve] Total embedding token usage: 14 tokens\n",
      "> [retrieve] Total embedding token usage: 14 tokens\n"
     ]
    }
   ],
   "source": [
    "new_nodes = get_retrieved_nodes(\n",
    "    \"What did Gatsby want Daisy to do in front of Tom?\", vector_top_k=3, with_reranker=False\n",
    ")"
   ]
  },
  {
   "cell_type": "code",
   "execution_count": 28,
   "id": "3b82380c-e29f-4e9e-a46d-038ca1469904",
   "metadata": {
    "scrolled": true,
    "tags": []
   },
   "outputs": [
    {
     "name": "stdout",
     "output_type": "stream",
     "text": [
      "\n",
      "\n",
      "****Score****: 0.8647796939111776\n",
      "****Node text****\n",
      ": got to make your house into a pigsty in order to have any\n",
      "friends—in the modern world.”\n",
      "\n",
      "Angry as I was, as we all were, I was tempted to laugh whenever he\n",
      "opened his mouth. The transition from libertine to prig was so\n",
      "complete.\n",
      "\n",
      "“I’ve got something to tell you, old sport—” began Gatsby. But Daisy\n",
      "guessed at his intention.\n",
      "\n",
      "“Please don’t!” she interrupted helplessly. “Please let’s all go\n",
      "home. Why don’t we all go home?”\n",
      "\n",
      "“That’s a good idea,” I got up. “Come on, Tom. Nobody wants a drink.”\n",
      "\n",
      "“I want to know what Mr. Gatsby has to tell me.”\n",
      "\n",
      "“Your wife doesn’t love you,” said Gatsby. “She’s never loved you.\n",
      "She loves me.”\n",
      "\n",
      "“You must be crazy!” exclaimed Tom automatically.\n",
      "\n",
      "Gatsby sprang to his feet, vivid with excitement.\n",
      "\n",
      "“She never loved you, do you hear?” he cried. “She only married you\n",
      "because I was poor and she was tired of waiting for me. It was a\n",
      "terrible mistake, but in her heart she never loved anyone except me!”\n",
      "\n",
      "At this point Jordan and I tried to go, but Tom and Gatsby insisted\n",
      "with competitive firmness that we remain—as though neither of them had\n",
      "anything to conceal and it would be a privilege to partake vicariously\n",
      "of their emotions.\n",
      "\n",
      "“Sit down, Daisy,” Tom’s voice groped unsuccessfully for the paternal\n",
      "note. “What’s been going on? I want to hear all about it.”\n",
      "\n",
      "“I told you what’s been going on,” said Gatsby. “Going on for five\n",
      "years—and you didn’t know.”\n",
      "\n",
      "Tom turned to Daisy\n",
      "\n",
      "\n",
      "****Score****: 0.8609230717744326\n",
      "****Node text****\n",
      ": to keep your\n",
      "shoes dry?” There was a husky tenderness in his tone … “Daisy?”\n",
      "\n",
      "“Please don’t.” Her voice was cold, but the rancour was gone from it.\n",
      "She looked at Gatsby. “There, Jay,” she said—but her hand as she tried\n",
      "to light a cigarette was trembling. Suddenly she threw the cigarette\n",
      "and the burning match on the carpet.\n",
      "\n",
      "“Oh, you want too much!” she cried to Gatsby. “I love you now—isn’t\n",
      "that enough? I can’t help what’s past.” She began to sob\n",
      "helplessly. “I did love him once—but I loved you too.”\n",
      "\n",
      "Gatsby’s eyes opened and closed.\n",
      "\n",
      "“You loved me too?” he repeated.\n",
      "\n",
      "“Even that’s a lie,” said Tom savagely. “She didn’t know you were\n",
      "alive. Why—there’s things between Daisy and me that you’ll never know,\n",
      "things that neither of us can ever forget.”\n",
      "\n",
      "The words seemed to bite physically into Gatsby.\n",
      "\n",
      "“I want to speak to Daisy alone,” he insisted. “She’s all excited\n",
      "now—”\n",
      "\n",
      "“Even alone I can’t say I never loved Tom,” she admitted in a pitiful\n",
      "voice. “It wouldn’t be true.”\n",
      "\n",
      "“Of course it wouldn’t,” agreed Tom.\n",
      "\n",
      "She turned to her husband.\n",
      "\n",
      "“As if it mattered to you,” she said.\n",
      "\n",
      "“Of course it matters. I’m going to take better care of you from now\n",
      "on.”\n",
      "\n",
      "“You don’t understand,” said Gatsby, with a touch of panic. “You’re\n",
      "not going to take care of her any more.”\n",
      "\n",
      "“I’m not?” Tom opened his eyes wide and\n",
      "\n",
      "\n",
      "****Score****: 0.8555028907426916\n",
      "****Node text****\n",
      ": shadowed well with awnings, was dark and cool. Daisy and\n",
      "Jordan lay upon an enormous couch, like silver idols weighing down\n",
      "their own white dresses against the singing breeze of the fans.\n",
      "\n",
      "“We can’t move,” they said together.\n",
      "\n",
      "Jordan’s fingers, powdered white over their tan, rested for a moment\n",
      "in mine.\n",
      "\n",
      "“And Mr. Thomas Buchanan, the athlete?” I inquired.\n",
      "\n",
      "Simultaneously I heard his voice, gruff, muffled, husky, at the hall\n",
      "telephone.\n",
      "\n",
      "Gatsby stood in the centre of the crimson carpet and gazed around with\n",
      "fascinated eyes. Daisy watched him and laughed, her sweet, exciting\n",
      "laugh; a tiny gust of powder rose from her bosom into the air.\n",
      "\n",
      "“The rumour is,” whispered Jordan, “that that’s Tom’s girl on the\n",
      "telephone.”\n",
      "\n",
      "We were silent. The voice in the hall rose high with annoyance: “Very\n",
      "well, then, I won’t sell you the car at all … I’m under no obligations\n",
      "to you at all … and as for your bothering me about it at lunch time, I\n",
      "won’t stand that at all!”\n",
      "\n",
      "“Holding down the receiver,” said Daisy cynically.\n",
      "\n",
      "“No, he’s not,” I assured her. “It’s a bona-fide deal. I happen to\n",
      "know about it.”\n",
      "\n",
      "Tom flung open the door, blocked out its space for a moment with his\n",
      "thick body, and hurried into the room.\n",
      "\n",
      "“Mr. Gatsby!” He put out his broad, flat hand with well-concealed\n",
      "dislike. “I’m glad to see you, sir … Nick …”\n",
      "\n",
      "“Make us a cold drink,” cried Daisy.\n",
      "\n",
      "As he left the room again she got up and went over to Gatsby and\n",
      "pulled his face\n"
     ]
    }
   ],
   "source": [
    "visualize_retrieved_nodes(new_nodes)"
   ]
  },
  {
   "cell_type": "code",
   "execution_count": 29,
   "id": "aec75734-52e4-4b7e-9b6d-d0b7306ae5d8",
   "metadata": {
    "tags": []
   },
   "outputs": [
    {
     "name": "stdout",
     "output_type": "stream",
     "text": [
      "INFO:llama_index.token_counter.token_counter:> [retrieve] Total LLM token usage: 0 tokens\n",
      "> [retrieve] Total LLM token usage: 0 tokens\n",
      "INFO:llama_index.token_counter.token_counter:> [retrieve] Total embedding token usage: 14 tokens\n",
      "> [retrieve] Total embedding token usage: 14 tokens\n",
      "Doc: 2, Relevance: 10\n",
      "No relevant documents found. Please provide a different question.\n"
     ]
    }
   ],
   "source": [
    "new_nodes = get_retrieved_nodes(\n",
    "    \"What did Gatsby want Daisy to do in front of Tom?\", vector_top_k=10, reranker_top_n=3, with_reranker=True\n",
    ")"
   ]
  },
  {
   "cell_type": "code",
   "execution_count": 30,
   "id": "89e5408e-bf4b-483f-9144-fc5ac4fb48e8",
   "metadata": {
    "scrolled": true,
    "tags": []
   },
   "outputs": [
    {
     "name": "stdout",
     "output_type": "stream",
     "text": [
      "\n",
      "\n",
      "****Score****: 10.0\n",
      "****Node text****\n",
      ": to keep your\n",
      "shoes dry?” There was a husky tenderness in his tone … “Daisy?”\n",
      "\n",
      "“Please don’t.” Her voice was cold, but the rancour was gone from it.\n",
      "She looked at Gatsby. “There, Jay,” she said—but her hand as she tried\n",
      "to light a cigarette was trembling. Suddenly she threw the cigarette\n",
      "and the burning match on the carpet.\n",
      "\n",
      "“Oh, you want too much!” she cried to Gatsby. “I love you now—isn’t\n",
      "that enough? I can’t help what’s past.” She began to sob\n",
      "helplessly. “I did love him once—but I loved you too.”\n",
      "\n",
      "Gatsby’s eyes opened and closed.\n",
      "\n",
      "“You loved me too?” he repeated.\n",
      "\n",
      "“Even that’s a lie,” said Tom savagely. “She didn’t know you were\n",
      "alive. Why—there’s things between Daisy and me that you’ll never know,\n",
      "things that neither of us can ever forget.”\n",
      "\n",
      "The words seemed to bite physically into Gatsby.\n",
      "\n",
      "“I want to speak to Daisy alone,” he insisted. “She’s all excited\n",
      "now—”\n",
      "\n",
      "“Even alone I can’t say I never loved Tom,” she admitted in a pitiful\n",
      "voice. “It wouldn’t be true.”\n",
      "\n",
      "“Of course it wouldn’t,” agreed Tom.\n",
      "\n",
      "She turned to her husband.\n",
      "\n",
      "“As if it mattered to you,” she said.\n",
      "\n",
      "“Of course it matters. I’m going to take better care of you from now\n",
      "on.”\n",
      "\n",
      "“You don’t understand,” said Gatsby, with a touch of panic. “You’re\n",
      "not going to take care of her any more.”\n",
      "\n",
      "“I’m not?” Tom opened his eyes wide and\n"
     ]
    }
   ],
   "source": [
    "visualize_retrieved_nodes(new_nodes)"
   ]
  },
  {
   "cell_type": "code",
   "execution_count": 33,
   "id": "47f0b78d-6381-431e-b4bb-54117671ff4c",
   "metadata": {
    "tags": []
   },
   "outputs": [
    {
     "name": "stdout",
     "output_type": "stream",
     "text": [
      "INFO:llama_index.token_counter.token_counter:> [retrieve] Total LLM token usage: 0 tokens\n",
      "> [retrieve] Total LLM token usage: 0 tokens\n",
      "INFO:llama_index.token_counter.token_counter:> [retrieve] Total embedding token usage: 13 tokens\n",
      "> [retrieve] Total embedding token usage: 13 tokens\n"
     ]
    }
   ],
   "source": [
    "new_nodes = get_retrieved_nodes(\n",
    "    \"What did Tom admit when Nick met him for the last time?\", vector_top_k=3, with_reranker=False\n",
    ")"
   ]
  },
  {
   "cell_type": "code",
   "execution_count": 34,
   "id": "3f91916f-e46a-4bc9-999d-1973fc9b2db0",
   "metadata": {
    "tags": []
   },
   "outputs": [
    {
     "name": "stdout",
     "output_type": "stream",
     "text": [
      "\n",
      "\n",
      "****Score****: 0.8486235346565064\n",
      "****Node text****\n",
      ": guess. I thought you were rather an honest,\n",
      "straightforward person. I thought it was your secret pride.”\n",
      "\n",
      "“I’m thirty,” I said. “I’m five years too old to lie to myself and\n",
      "call it honour.”\n",
      "\n",
      "She didn’t answer. Angry, and half in love with her, and tremendously\n",
      "sorry, I turned away.\n",
      "\n",
      "------------------------------------------------------------------------\n",
      "\n",
      "One afternoon late in October I saw Tom Buchanan. He was walking ahead\n",
      "of me along Fifth Avenue in his alert, aggressive way, his hands out a\n",
      "little from his body as if to fight off interference, his head moving\n",
      "sharply here and there, adapting itself to his restless eyes. Just as\n",
      "I slowed up to avoid overtaking him he stopped and began frowning into\n",
      "the windows of a jewellery store. Suddenly he saw me and walked back,\n",
      "holding out his hand.\n",
      "\n",
      "“What’s the matter, Nick? Do you object to shaking hands with me?”\n",
      "\n",
      "“Yes. You know what I think of you.”\n",
      "\n",
      "“You’re crazy, Nick,” he said quickly. “Crazy as hell. I don’t know\n",
      "what’s the matter with you.”\n",
      "\n",
      "“Tom,” I inquired, “what did you say to Wilson that afternoon?”\n",
      "\n",
      "He stared at me without a word, and I knew I had guessed right about\n",
      "those missing hours. I started to turn away, but he took a step after\n",
      "me and grabbed my arm.\n",
      "\n",
      "“I told him the truth,” he said. “He came to the door while we were\n",
      "getting ready to leave, and when I sent down word that we weren’t in\n",
      "he tried to force his way upstairs. He was crazy enough to kill me if\n",
      "I hadn’t told him who owned the car. His hand was on a revolver in his\n",
      "pocket every minute he was in the house—” He broke off defiantly.\n",
      "“What if I did tell him? That fellow had it coming to him. He\n",
      "\n",
      "\n",
      "****Score****: 0.8463918872838668\n",
      "****Node text****\n",
      ": a man.” For a moment the set of his face could be described in\n",
      "just that fantastic way.\n",
      "\n",
      "It passed, and he began to talk excitedly to Daisy, denying\n",
      "everything, defending his name against accusations that had not been\n",
      "made. But with every word she was drawing further and further into\n",
      "herself, so he gave that up, and only the dead dream fought on as the\n",
      "afternoon slipped away, trying to touch what was no longer tangible,\n",
      "struggling unhappily, undespairingly, toward that lost voice across\n",
      "the room.\n",
      "\n",
      "The voice begged again to go.\n",
      "\n",
      "“Please, Tom! I can’t stand this any more.”\n",
      "\n",
      "Her frightened eyes told that whatever intentions, whatever courage\n",
      "she had had, were definitely gone.\n",
      "\n",
      "“You two start on home, Daisy,” said Tom. “In Mr. Gatsby’s car.”\n",
      "\n",
      "She looked at Tom, alarmed now, but he insisted with magnanimous\n",
      "scorn.\n",
      "\n",
      "“Go on. He won’t annoy you. I think he realizes that his presumptuous\n",
      "little flirtation is over.”\n",
      "\n",
      "They were gone, without a word, snapped out, made accidental,\n",
      "isolated, like ghosts, even from our pity.\n",
      "\n",
      "After a moment Tom got up and began wrapping the unopened bottle of\n",
      "whisky in the towel.\n",
      "\n",
      "“Want any of this stuff? Jordan? … Nick?”\n",
      "\n",
      "I didn’t answer.\n",
      "\n",
      "“Nick?” He asked again.\n",
      "\n",
      "“What?”\n",
      "\n",
      "“Want any?”\n",
      "\n",
      "“No … I just remembered that today’s my birthday.”\n",
      "\n",
      "I was thirty. Before me stretched the portentous, menacing road of a\n",
      "new decade.\n",
      "\n",
      "It was seven o’clock when we got into the coupé with him and started\n",
      "for Long Island. Tom talked incessantly, exulting and laughing, but\n",
      "his voice was as remote from Jordan and me as the\n",
      "\n",
      "\n",
      "****Score****: 0.8383713786743845\n",
      "****Node text****\n",
      ": you” and the soft closing\n",
      "of the door. This tremendous detail was to be cleared up at last.\n",
      "\n",
      "“I told you I went there,” said Gatsby.\n",
      "\n",
      "“I heard you, but I’d like to know when.”\n",
      "\n",
      "“It was in nineteen-nineteen, I only stayed five months. That’s why I\n",
      "can’t really call myself an Oxford man.”\n",
      "\n",
      "Tom glanced around to see if we mirrored his unbelief. But we were all\n",
      "looking at Gatsby.\n",
      "\n",
      "“It was an opportunity they gave to some of the officers after the\n",
      "armistice,” he continued. “We could go to any of the universities in\n",
      "England or France.”\n",
      "\n",
      "I wanted to get up and slap him on the back. I had one of those\n",
      "renewals of complete faith in him that I’d experienced before.\n",
      "\n",
      "Daisy rose, smiling faintly, and went to the table.\n",
      "\n",
      "“Open the whisky, Tom,” she ordered, “and I’ll make you a mint julep.\n",
      "Then you won’t seem so stupid to yourself … Look at the mint!”\n",
      "\n",
      "“Wait a minute,” snapped Tom, “I want to ask Mr. Gatsby one more\n",
      "question.”\n",
      "\n",
      "“Go on,” Gatsby said politely.\n",
      "\n",
      "“What kind of a row are you trying to cause in my house anyhow?”\n",
      "\n",
      "They were out in the open at last and Gatsby was content.\n",
      "\n",
      "“He isn’t causing a row,” Daisy looked desperately from one to the\n",
      "other. “You’re causing a row. Please have a little self-control.”\n",
      "\n",
      "“Self-control!” repeated Tom incredulously. “I suppose the latest\n",
      "thing is to sit back and let Mr. Nobody from Nowhere make love to your\n",
      "wife. Well, if that’s the idea you can count me out … Nowadays people\n",
      "begin by sneering at family life\n"
     ]
    }
   ],
   "source": [
    "visualize_retrieved_nodes(new_nodes)"
   ]
  },
  {
   "cell_type": "code",
   "execution_count": 36,
   "id": "7700201c-c4fe-403f-8547-435c0e53ba71",
   "metadata": {
    "tags": []
   },
   "outputs": [
    {
     "name": "stdout",
     "output_type": "stream",
     "text": [
      "INFO:llama_index.token_counter.token_counter:> [retrieve] Total LLM token usage: 0 tokens\n",
      "> [retrieve] Total LLM token usage: 0 tokens\n",
      "INFO:llama_index.token_counter.token_counter:> [retrieve] Total embedding token usage: 13 tokens\n",
      "> [retrieve] Total embedding token usage: 13 tokens\n",
      "Document 1: \n",
      "Tom admits to telling Wilson the truth about who owned the car that hit Myrtle. (Relevance: 10)\n",
      "\n",
      "Document 2: \n",
      "Tom talks about Gatsby and accuses him of causing a row in his house. (Relevance: 2)\n",
      "\n",
      "Document 3: \n",
      "Tom accuses Gatsby of trying to make love to his wife and causing a row in his house. (Relevance: 4)\n",
      "\n",
      "Document 4: \n",
      "Tom accuses Gatsby of having something on him that Walter is afraid to tell him about. (Relevance: 1)\n",
      "\n",
      "Document 5: \n",
      "Nick reflects on turning thirty and the promise of a decade of loneliness. (Relevance: 0)\n",
      "\n",
      "Therefore, the relevant documents are 1, 3, and 2 with relevance scores of 10, 4, and 2 respectively.\n",
      "No relevant documents provided.\n"
     ]
    }
   ],
   "source": [
    "new_nodes = get_retrieved_nodes(\n",
    "    \"What did Tom admit when Nick met him for the last time?\", vector_top_k=10, reranker_top_n=3, with_reranker=True\n",
    ")"
   ]
  },
  {
   "cell_type": "code",
   "execution_count": 35,
   "id": "ffe2cafa-ab44-4e1b-abe4-4176ad84516d",
   "metadata": {
    "tags": []
   },
   "outputs": [
    {
     "name": "stdout",
     "output_type": "stream",
     "text": [
      "\n",
      "\n",
      "****Score****: 0.8486235346565064\n",
      "****Node text****\n",
      ": guess. I thought you were rather an honest,\n",
      "straightforward person. I thought it was your secret pride.”\n",
      "\n",
      "“I’m thirty,” I said. “I’m five years too old to lie to myself and\n",
      "call it honour.”\n",
      "\n",
      "She didn’t answer. Angry, and half in love with her, and tremendously\n",
      "sorry, I turned away.\n",
      "\n",
      "------------------------------------------------------------------------\n",
      "\n",
      "One afternoon late in October I saw Tom Buchanan. He was walking ahead\n",
      "of me along Fifth Avenue in his alert, aggressive way, his hands out a\n",
      "little from his body as if to fight off interference, his head moving\n",
      "sharply here and there, adapting itself to his restless eyes. Just as\n",
      "I slowed up to avoid overtaking him he stopped and began frowning into\n",
      "the windows of a jewellery store. Suddenly he saw me and walked back,\n",
      "holding out his hand.\n",
      "\n",
      "“What’s the matter, Nick? Do you object to shaking hands with me?”\n",
      "\n",
      "“Yes. You know what I think of you.”\n",
      "\n",
      "“You’re crazy, Nick,” he said quickly. “Crazy as hell. I don’t know\n",
      "what’s the matter with you.”\n",
      "\n",
      "“Tom,” I inquired, “what did you say to Wilson that afternoon?”\n",
      "\n",
      "He stared at me without a word, and I knew I had guessed right about\n",
      "those missing hours. I started to turn away, but he took a step after\n",
      "me and grabbed my arm.\n",
      "\n",
      "“I told him the truth,” he said. “He came to the door while we were\n",
      "getting ready to leave, and when I sent down word that we weren’t in\n",
      "he tried to force his way upstairs. He was crazy enough to kill me if\n",
      "I hadn’t told him who owned the car. His hand was on a revolver in his\n",
      "pocket every minute he was in the house—” He broke off defiantly.\n",
      "“What if I did tell him? That fellow had it coming to him. He\n",
      "\n",
      "\n",
      "****Score****: 0.8463918872838668\n",
      "****Node text****\n",
      ": a man.” For a moment the set of his face could be described in\n",
      "just that fantastic way.\n",
      "\n",
      "It passed, and he began to talk excitedly to Daisy, denying\n",
      "everything, defending his name against accusations that had not been\n",
      "made. But with every word she was drawing further and further into\n",
      "herself, so he gave that up, and only the dead dream fought on as the\n",
      "afternoon slipped away, trying to touch what was no longer tangible,\n",
      "struggling unhappily, undespairingly, toward that lost voice across\n",
      "the room.\n",
      "\n",
      "The voice begged again to go.\n",
      "\n",
      "“Please, Tom! I can’t stand this any more.”\n",
      "\n",
      "Her frightened eyes told that whatever intentions, whatever courage\n",
      "she had had, were definitely gone.\n",
      "\n",
      "“You two start on home, Daisy,” said Tom. “In Mr. Gatsby’s car.”\n",
      "\n",
      "She looked at Tom, alarmed now, but he insisted with magnanimous\n",
      "scorn.\n",
      "\n",
      "“Go on. He won’t annoy you. I think he realizes that his presumptuous\n",
      "little flirtation is over.”\n",
      "\n",
      "They were gone, without a word, snapped out, made accidental,\n",
      "isolated, like ghosts, even from our pity.\n",
      "\n",
      "After a moment Tom got up and began wrapping the unopened bottle of\n",
      "whisky in the towel.\n",
      "\n",
      "“Want any of this stuff? Jordan? … Nick?”\n",
      "\n",
      "I didn’t answer.\n",
      "\n",
      "“Nick?” He asked again.\n",
      "\n",
      "“What?”\n",
      "\n",
      "“Want any?”\n",
      "\n",
      "“No … I just remembered that today’s my birthday.”\n",
      "\n",
      "I was thirty. Before me stretched the portentous, menacing road of a\n",
      "new decade.\n",
      "\n",
      "It was seven o’clock when we got into the coupé with him and started\n",
      "for Long Island. Tom talked incessantly, exulting and laughing, but\n",
      "his voice was as remote from Jordan and me as the\n",
      "\n",
      "\n",
      "****Score****: 0.8383713786743845\n",
      "****Node text****\n",
      ": you” and the soft closing\n",
      "of the door. This tremendous detail was to be cleared up at last.\n",
      "\n",
      "“I told you I went there,” said Gatsby.\n",
      "\n",
      "“I heard you, but I’d like to know when.”\n",
      "\n",
      "“It was in nineteen-nineteen, I only stayed five months. That’s why I\n",
      "can’t really call myself an Oxford man.”\n",
      "\n",
      "Tom glanced around to see if we mirrored his unbelief. But we were all\n",
      "looking at Gatsby.\n",
      "\n",
      "“It was an opportunity they gave to some of the officers after the\n",
      "armistice,” he continued. “We could go to any of the universities in\n",
      "England or France.”\n",
      "\n",
      "I wanted to get up and slap him on the back. I had one of those\n",
      "renewals of complete faith in him that I’d experienced before.\n",
      "\n",
      "Daisy rose, smiling faintly, and went to the table.\n",
      "\n",
      "“Open the whisky, Tom,” she ordered, “and I’ll make you a mint julep.\n",
      "Then you won’t seem so stupid to yourself … Look at the mint!”\n",
      "\n",
      "“Wait a minute,” snapped Tom, “I want to ask Mr. Gatsby one more\n",
      "question.”\n",
      "\n",
      "“Go on,” Gatsby said politely.\n",
      "\n",
      "“What kind of a row are you trying to cause in my house anyhow?”\n",
      "\n",
      "They were out in the open at last and Gatsby was content.\n",
      "\n",
      "“He isn’t causing a row,” Daisy looked desperately from one to the\n",
      "other. “You’re causing a row. Please have a little self-control.”\n",
      "\n",
      "“Self-control!” repeated Tom incredulously. “I suppose the latest\n",
      "thing is to sit back and let Mr. Nobody from Nowhere make love to your\n",
      "wife. Well, if that’s the idea you can count me out … Nowadays people\n",
      "begin by sneering at family life\n"
     ]
    }
   ],
   "source": [
    "visualize_retrieved_nodes(new_nodes)"
   ]
  },
  {
   "cell_type": "markdown",
   "id": "23dcdac6-f4dd-469e-9f47-d030f27bacda",
   "metadata": {},
   "source": [
    "## Query Engine"
   ]
  },
  {
   "cell_type": "code",
   "execution_count": null,
   "id": "94f6531d-953a-41c6-9bcc-9c293550f8c4",
   "metadata": {},
   "outputs": [],
   "source": [
    "query_engine = index.as_query_engine(\n",
    "    similarity_top_k=10,\n",
    "    node_postprocessors=[reranker],\n",
    "    response_mode=\"tree_summarize\"\n",
    ")\n",
    "response = query_engine.query(\n",
    "    \"What did the author do during his time at Y Combinator?\", \n",
    ")"
   ]
  },
  {
   "cell_type": "code",
   "execution_count": null,
   "id": "ea9ea5f9-e0d2-4ff0-a35b-f3aed961b96d",
   "metadata": {},
   "outputs": [],
   "source": [
    "query_engine = index.as_query_engine(\n",
    "    similarity_top_k=3,\n",
    "    response_mode=\"tree_summarize\"\n",
    ")\n",
    "response = query_engine.query(\n",
    "    \"What did the author do during his time at Y Combinator?\", \n",
    ")"
   ]
  },
  {
   "cell_type": "code",
   "execution_count": null,
   "id": "e32b45b5-1899-45d3-9a0f-f9e860bf8452",
   "metadata": {},
   "outputs": [],
   "source": [
    "retrieval ="
   ]
  }
 ],
 "metadata": {
  "kernelspec": {
   "display_name": "llama_index_v2",
   "language": "python",
   "name": "llama_index_v2"
  },
  "language_info": {
   "codemirror_mode": {
    "name": "ipython",
    "version": 3
   },
   "file_extension": ".py",
   "mimetype": "text/x-python",
   "name": "python",
   "nbconvert_exporter": "python",
   "pygments_lexer": "ipython3",
   "version": "3.10.10"
  }
 },
 "nbformat": 4,
 "nbformat_minor": 5
}
