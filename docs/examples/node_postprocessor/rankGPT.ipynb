{
 "cells": [
  {
   "attachments": {},
   "cell_type": "markdown",
   "id": "f1b23ffc-22d8-4414-b2e4-66d45a03523d",
   "metadata": {},
   "source": [
    "<a href=\"https://colab.research.google.com/github/run-llama/llama_index/blob/main/docs/examples/node_postprocessor/rankGPT.ipynb\" target=\"_parent\"><img src=\"https://colab.research.google.com/assets/colab-badge.svg\" alt=\"Open In Colab\"/></a>\n",
    "# RankGPT Reranker Demonstration (Van Gogh Wiki)\n",
    "\n",
    "This demo integrates [RankGPT](https://github.com/sunnweiwei/RankGPT) into LlamaIndex as a reranker.\n",
    "\n",
    "Paper: [Is ChatGPT Good at Search? Investigating Large Language Models as Re-Ranking Agents](https://arxiv.org/abs/2304.09542)\n",
    "\n",
    "the idea of `RankGPT`:\n",
    "* it is a zero-shot listwise passage reranking using LLM (ChatGPT or GPT-4 or other LLMs)\n",
    "* it applies permutation generation approach and sliding window strategy to rerank passages efficiently. \n",
    "\n",
    "In this example, we use Van Gogh's wikipedia as an example to compare the Retrieval results with/without RankGPT reranking."
   ]
  },
  {
   "cell_type": "code",
   "execution_count": null,
   "id": "ab68a3ee-f4c1-4830-856a-9c37f7a42364",
   "metadata": {},
   "outputs": [],
   "source": [
    "import nest_asyncio\n",
    "\n",
    "nest_asyncio.apply()"
   ]
  },
  {
   "cell_type": "code",
   "execution_count": null,
   "id": "8c16404b-db81-4ee6-9c0f-cc4cdf3cb147",
   "metadata": {},
   "outputs": [],
   "source": [
    "import logging\n",
    "import sys\n",
    "\n",
    "logging.basicConfig(stream=sys.stdout, level=logging.INFO)\n",
    "logging.getLogger().addHandler(logging.StreamHandler(stream=sys.stdout))\n",
    "from llama_index import (\n",
    "    VectorStoreIndex,\n",
    "    SimpleDirectoryReader,\n",
    "    ServiceContext,\n",
    ")\n",
    "from llama_index.postprocessor import LLMRerank\n",
    "from llama_index.llms import OpenAI\n",
    "from IPython.display import Markdown, display"
   ]
  },
  {
   "cell_type": "code",
   "execution_count": null,
   "id": "159f915d",
   "metadata": {},
   "outputs": [],
   "source": [
    "import os\n",
    "\n",
    "OPENAI_API_TOKEN = \"sk-\"\n",
    "os.environ[\"OPENAI_API_KEY\"] = OPENAI_API_TOKEN"
   ]
  },
  {
   "attachments": {},
   "cell_type": "markdown",
   "id": "8a5b0ac6-ec9c-40e1-9120-d20e33c37f80",
   "metadata": {},
   "source": [
    "## Load Data, Build Index"
   ]
  },
  {
   "cell_type": "code",
   "execution_count": null,
   "id": "b785b75a-cf4d-4799-8fd2-970e5c39727c",
   "metadata": {},
   "outputs": [],
   "source": [
    "# LLM Predictor (gpt-3.5-turbo) + service context\n",
    "llm = OpenAI(temperature=0, model=\"gpt-3.5-turbo\")\n",
    "service_context = ServiceContext.from_defaults(llm=llm, chunk_size=512)"
   ]
  },
  {
   "cell_type": "markdown",
   "id": "7ac13a92",
   "metadata": {},
   "source": [
    "### Download Van Gogh wiki from Wikipedia"
   ]
  },
  {
   "cell_type": "code",
   "execution_count": null,
   "id": "e5a86c2c",
   "metadata": {},
   "outputs": [],
   "source": [
    "from pathlib import Path\n",
    "import requests\n",
    "\n",
    "wiki_titles = [\n",
    "    \"Vincent van Gogh\",\n",
    "]\n",
    "\n",
    "\n",
    "data_path = Path(\"data_wiki\")\n",
    "\n",
    "for title in wiki_titles:\n",
    "    response = requests.get(\n",
    "        \"https://en.wikipedia.org/w/api.php\",\n",
    "        params={\n",
    "            \"action\": \"query\",\n",
    "            \"format\": \"json\",\n",
    "            \"titles\": title,\n",
    "            \"prop\": \"extracts\",\n",
    "            \"explaintext\": True,\n",
    "        },\n",
    "    ).json()\n",
    "    page = next(iter(response[\"query\"][\"pages\"].values()))\n",
    "    wiki_text = page[\"extract\"]\n",
    "\n",
    "    if not data_path.exists():\n",
    "        Path.mkdir(data_path)\n",
    "\n",
    "    with open(data_path / f\"{title}.txt\", \"w\") as fp:\n",
    "        fp.write(wiki_text)"
   ]
  },
  {
   "cell_type": "code",
   "execution_count": null,
   "id": "9b689e92-fc55-48b5-859f-2a2c1394c872",
   "metadata": {},
   "outputs": [],
   "source": [
    "# load documents\n",
    "documents = SimpleDirectoryReader(\"./data_wiki/\").load_data()"
   ]
  },
  {
   "cell_type": "markdown",
   "id": "7a886b11",
   "metadata": {},
   "source": [
    "### Build vector store index for this Wikipedia page"
   ]
  },
  {
   "cell_type": "code",
   "execution_count": null,
   "id": "d8555b6d-5289-4803-bced-6b2f85dea3da",
   "metadata": {},
   "outputs": [
    {
     "name": "stdout",
     "output_type": "stream",
     "text": [
      "INFO:httpx:HTTP Request: POST https://api.openai.com/v1/embeddings \"HTTP/1.1 200 OK\"\n",
      "HTTP Request: POST https://api.openai.com/v1/embeddings \"HTTP/1.1 200 OK\"\n"
     ]
    }
   ],
   "source": [
    "index = VectorStoreIndex.from_documents(\n",
    "    documents, service_context=service_context\n",
    ")"
   ]
  },
  {
   "attachments": {},
   "cell_type": "markdown",
   "id": "805847d9-a2c1-4930-98a9-98126e730000",
   "metadata": {},
   "source": [
    "## Retrieval + RankGPT reranking\n",
    "Steps:\n",
    "1. Setting up retriever and reranker (as an option) \n",
    "2. Retrieve results given a search query without reranking\n",
    "3. Retrieve results given a search query with RankGPT reranking enabled\n",
    "4. Comparing the results with and without reranking"
   ]
  },
  {
   "cell_type": "code",
   "execution_count": null,
   "id": "ace86835-832e-4964-a025-428891aa2c8b",
   "metadata": {},
   "outputs": [],
   "source": [
    "from llama_index.retrievers import VectorIndexRetriever\n",
    "from llama_index.schema import QueryBundle\n",
    "import pandas as pd\n",
    "from IPython.display import display, HTML\n",
    "\n",
    "# from llama_index.postprocessor import RankGPTRerank\n",
    "\n",
    "\n",
    "def get_retrieved_nodes(\n",
    "    query_str, vector_top_k=10, reranker_top_n=3, with_reranker=False\n",
    "):\n",
    "    query_bundle = QueryBundle(query_str)\n",
    "    # configure retriever\n",
    "    retriever = VectorIndexRetriever(\n",
    "        index=index,\n",
    "        similarity_top_k=vector_top_k,\n",
    "    )\n",
    "    retrieved_nodes = retriever.retrieve(query_bundle)\n",
    "\n",
    "    if with_reranker:\n",
    "        # configure reranker\n",
    "        reranker = RankGPTRerank(\n",
    "            llm=OpenAI(\n",
    "                model=\"gpt-3.5-turbo-16k\",\n",
    "                temperature=0.0,\n",
    "                api_key=OPENAI_API_TOKEN,\n",
    "            ),\n",
    "            top_n=reranker_top_n,\n",
    "            verbose=True,\n",
    "        )\n",
    "        retrieved_nodes = reranker.postprocess_nodes(\n",
    "            retrieved_nodes, query_bundle\n",
    "        )\n",
    "\n",
    "    return retrieved_nodes\n",
    "\n",
    "\n",
    "def pretty_print(df):\n",
    "    return display(HTML(df.to_html().replace(\"\\\\n\", \"<br>\")))\n",
    "\n",
    "\n",
    "def visualize_retrieved_nodes(nodes) -> None:\n",
    "    result_dicts = []\n",
    "    for node in nodes:\n",
    "        result_dict = {\"Score\": node.score, \"Text\": node.node.get_text()}\n",
    "        result_dicts.append(result_dict)\n",
    "\n",
    "    pretty_print(pd.DataFrame(result_dicts))"
   ]
  },
  {
   "cell_type": "markdown",
   "id": "c6a13f13",
   "metadata": {},
   "source": [
    "### Retrieval top 3 results without Reranking"
   ]
  },
  {
   "cell_type": "code",
   "execution_count": null,
   "id": "20993200-b725-403e-8a79-e2571dab2ebc",
   "metadata": {},
   "outputs": [
    {
     "name": "stdout",
     "output_type": "stream",
     "text": [
      "INFO:httpx:HTTP Request: POST https://api.openai.com/v1/embeddings \"HTTP/1.1 200 OK\"\n",
      "HTTP Request: POST https://api.openai.com/v1/embeddings \"HTTP/1.1 200 OK\"\n"
     ]
    }
   ],
   "source": [
    "new_nodes = get_retrieved_nodes(\n",
    "    \"Which date did Paul Gauguin arrive in Arles?\",\n",
    "    vector_top_k=3,\n",
    "    with_reranker=False,\n",
    ")"
   ]
  },
  {
   "cell_type": "markdown",
   "id": "bdc83fbc",
   "metadata": {},
   "source": [
    "### Expected result is:\n",
    "```After much pleading from Van Gogh, Gauguin arrived in Arles on 23 October and, in November, the two painted together. Gauguin depicted Van Gogh in his The Painter of Sunflowers;```"
   ]
  },
  {
   "cell_type": "code",
   "execution_count": null,
   "id": "9dd3bc25-6ef1-46b7-869e-247c83af9d4d",
   "metadata": {},
   "outputs": [
    {
     "data": {
      "text/html": [
       "<table border=\"1\" class=\"dataframe\">\n",
       "  <thead>\n",
       "    <tr style=\"text-align: right;\">\n",
       "      <th></th>\n",
       "      <th>Score</th>\n",
       "      <th>Text</th>\n",
       "    </tr>\n",
       "  </thead>\n",
       "  <tbody>\n",
       "    <tr>\n",
       "      <th>0</th>\n",
       "      <td>0.857523</td>\n",
       "      <td>Gauguin fled Arles, never to see Van Gogh again. They continued to correspond, and in 1890, Gauguin proposed they form a studio in Antwerp. Meanwhile, other visitors to the hospital included Marie Ginoux and Roulin.Despite a pessimistic diagnosis, Van Gogh recovered and returned to the Yellow House on 7 January 1889. He spent the following month between hospital and home, suffering from hallucinations and delusions of poisoning. In March, the police closed his house after a petition by 30 townspeople (including the Ginoux family) who described him as le fou roux \"the redheaded madman\"; Van Gogh returned to hospital. Paul Signac visited him twice in March; in April, Van Gogh moved into rooms owned by Dr Rey after floods damaged paintings in his own home. Two months later, he left Arles and voluntarily entered an asylum in Saint-Rémy-de-Provence. Around this time, he wrote, \"Sometimes moods of indescribable anguish, sometimes moments when the veil of time and fatality of circumstances seemed to be torn apart for an instant.\"Van Gogh gave his 1889 Portrait of Doctor Félix Rey to Dr Rey. The physician was not fond of the painting and used it to repair a chicken coop, then gave it away. In 2016, the portrait was housed at the Pushkin Museum of Fine Arts and estimated to be worth over $50 million.<br><br>\\t\\t\\t<br>\\t\\t\\t<br>\\t\\t<br>\\t\\t<br>\\t\\t\\t<br>\\t\\t\\t<br>\\t\\t<br>\\t\\t<br>\\t\\t\\t<br>\\t\\t\\t<br>\\t\\t<br>\\t\\t<br>\\t\\t\\t<br>\\t\\t\\t<br>\\t\\t<br><br><br>==== Saint-Rémy (May 1889 – May 1890) ====<br><br>Van Gogh entered the Saint-Paul-de-Mausole asylum on 8 May 1889, accompanied by his caregiver, Frédéric Salles, a Protestant clergyman. Saint-Paul was a former monastery in Saint-Rémy, located less than 30 kilometres (19 mi) from Arles, and it was run by a former naval doctor, Théophile Peyron. Van Gogh had two cells with barred windows, one of which he used as a studio. The clinic and its garden became the main subjects of his paintings.</td>\n",
       "    </tr>\n",
       "    <tr>\n",
       "      <th>1</th>\n",
       "      <td>0.853599</td>\n",
       "      <td>When he visited Saintes-Maries-de-la-Mer in June, he gave lessons to a Zouave second lieutenant – Paul-Eugène Milliet – and painted boats on the sea and the village. MacKnight introduced Van Gogh to Eugène Boch, a Belgian painter who sometimes stayed in Fontvieille, and the two exchanged visits in July.<br><br>\\t\\t\\t<br>\\t\\t\\t<br>\\t\\t<br>\\t\\t<br>\\t\\t\\t<br>\\t\\t\\t<br>\\t\\t<br>\\t\\t<br>\\t\\t\\t<br>\\t\\t\\t<br>\\t\\t<br>\\t\\t<br>\\t\\t\\t<br>\\t\\t\\t<br>\\t\\t<br><br><br>==== Gauguin's visit (1888) ====<br> <br>When Gauguin agreed to visit Arles in 1888, Van Gogh hoped for friendship and to realize his idea of an artists' collective. Van Gogh prepared for Gauguin's arrival by painting four versions of Sunflowers in one week. \"In the hope of living in a studio of our own with Gauguin,\" he wrote in a letter to Theo, \"I'd like to do a decoration for the studio. Nothing but large Sunflowers.\"When Boch visited again, Van Gogh painted a portrait of him, as well as the study The Poet Against a Starry Sky.In preparation for Gauguin's visit, Van Gogh bought two beds on advice from the station's postal supervisor Joseph Roulin, whose portrait he painted. On 17 September, he spent his first night in the still sparsely furnished Yellow House. When Gauguin consented to work and live in Arles with him, Van Gogh started to work on the Décoration for the Yellow House, probably the most ambitious effort he ever undertook. He completed two chair paintings: Van Gogh's Chair and Gauguin's Chair.After much pleading from Van Gogh, Gauguin arrived in Arles on 23 October and, in November, the two painted together. Gauguin depicted Van Gogh in his The Painter of Sunflowers; Van Gogh painted pictures from memory, following Gauguin's suggestion. Among these \"imaginative\" paintings is Memory of the Garden at Etten. Their first joint outdoor venture was at the Alyscamps, when they produced the pendants Les Alyscamps. The single painting Gauguin completed during his visit was his portrait of Van Gogh.Van Gogh and Gauguin visited Montpellier in December 1888, where they saw works by Courbet and Delacroix in the Musée Fabre. Their relationship began to deteriorate; Van Gogh admired Gauguin and wanted to be treated as his equal, but Gauguin was arrogant and domineering, which frustrated Van Gogh. They often quarrelled; Van Gogh increasingly feared that Gauguin was going to desert him, and the situation, which Van Gogh described as one of \"excessive tension\", rapidly headed towards crisis point.</td>\n",
       "    </tr>\n",
       "    <tr>\n",
       "      <th>2</th>\n",
       "      <td>0.842413</td>\n",
       "      <td>=== Artistic breakthrough ===<br><br><br>==== Arles (1888–89) ====<br><br>Ill from drink and suffering from smoker's cough, in February 1888 Van Gogh sought refuge in Arles. He seems to have moved with thoughts of founding an art colony. The Danish artist Christian Mourier-Petersen became his companion for two months, and, at first, Arles appeared exotic. In a letter, he described it as a foreign country: \"The Zouaves, the brothels, the adorable little Arlésienne going to her First Communion, the priest in his surplice, who looks like a dangerous rhinoceros, the people drinking absinthe, all seem to me creatures from another world.\"The time in Arles became one of Van Gogh's more prolific periods: he completed 200 paintings and more than 100 drawings and watercolours. He was enchanted by the local countryside and light; his works from this period are rich in yellow, ultramarine and mauve. They include harvests, wheat fields and general rural landmarks from the area, including The Old Mill (1888), one of seven canvases sent to Pont-Aven on 4 October 1888 in an exchange of works with Paul Gauguin, Émile Bernard, Charles Laval and others. <br>The portrayals of Arles are informed by his Dutch upbringing; the patchworks of fields and avenues are flat and lacking perspective, but excel in their use of colour.In March 1888, he painted landscapes using a gridded \"perspective frame\"; three of the works were shown at the annual exhibition of the Société des Artistes Indépendants. In April, he was visited by the American artist Dodge MacKnight, who was living nearby at Fontvieille. On 1 May 1888, for 15 francs per month, he signed a lease for the eastern wing of the Yellow House at 2 place Lamartine. The rooms were unfurnished and had been uninhabited for months.On 7 May, Van Gogh moved from the Hôtel Carrel to the Café de la Gare, having befriended the proprietors, Joseph and Marie Ginoux. The Yellow House had to be furnished before he could fully move in, but he was able to use it as a studio.</td>\n",
       "    </tr>\n",
       "  </tbody>\n",
       "</table>"
      ],
      "text/plain": [
       "<IPython.core.display.HTML object>"
      ]
     },
     "metadata": {},
     "output_type": "display_data"
    }
   ],
   "source": [
    "visualize_retrieved_nodes(new_nodes)"
   ]
  },
  {
   "cell_type": "markdown",
   "id": "8800f71e",
   "metadata": {},
   "source": [
    "#### Finding: the right result is ranked at 2nd without reranking"
   ]
  },
  {
   "cell_type": "markdown",
   "id": "203cbef7",
   "metadata": {},
   "source": [
    "### Retrieve and Reranking top 10 results using RankGPT and return top 3"
   ]
  },
  {
   "cell_type": "code",
   "execution_count": null,
   "id": "0ad7d62b-dba9-45d5-896f-4baa9a40edba",
   "metadata": {},
   "outputs": [
    {
     "name": "stdout",
     "output_type": "stream",
     "text": [
      "INFO:httpx:HTTP Request: POST https://api.openai.com/v1/embeddings \"HTTP/1.1 200 OK\"\n",
      "HTTP Request: POST https://api.openai.com/v1/embeddings \"HTTP/1.1 200 OK\"\n",
      "INFO:httpx:HTTP Request: POST https://api.openai.com/v1/chat/completions \"HTTP/1.1 200 OK\"\n",
      "HTTP Request: POST https://api.openai.com/v1/chat/completions \"HTTP/1.1 200 OK\"\n",
      "After Reranking, new rank list for nodes: [1, 6, 0, 2, 7, 9, 4, 5, 3, 8]"
     ]
    }
   ],
   "source": [
    "new_nodes = get_retrieved_nodes(\n",
    "    \"Which date did Paul Gauguin arrive in Arles ?\",\n",
    "    vector_top_k=10,\n",
    "    reranker_top_n=3,\n",
    "    with_reranker=True,\n",
    ")"
   ]
  },
  {
   "cell_type": "code",
   "execution_count": null,
   "id": "ae22d297-dd3b-4a71-a890-faceafab4e1a",
   "metadata": {},
   "outputs": [
    {
     "data": {
      "text/html": [
       "<table border=\"1\" class=\"dataframe\">\n",
       "  <thead>\n",
       "    <tr style=\"text-align: right;\">\n",
       "      <th></th>\n",
       "      <th>Score</th>\n",
       "      <th>Text</th>\n",
       "    </tr>\n",
       "  </thead>\n",
       "  <tbody>\n",
       "    <tr>\n",
       "      <th>0</th>\n",
       "      <td>0.852371</td>\n",
       "      <td>When he visited Saintes-Maries-de-la-Mer in June, he gave lessons to a Zouave second lieutenant – Paul-Eugène Milliet – and painted boats on the sea and the village. MacKnight introduced Van Gogh to Eugène Boch, a Belgian painter who sometimes stayed in Fontvieille, and the two exchanged visits in July.<br><br>\\t\\t\\t<br>\\t\\t\\t<br>\\t\\t<br>\\t\\t<br>\\t\\t\\t<br>\\t\\t\\t<br>\\t\\t<br>\\t\\t<br>\\t\\t\\t<br>\\t\\t\\t<br>\\t\\t<br>\\t\\t<br>\\t\\t\\t<br>\\t\\t\\t<br>\\t\\t<br><br><br>==== Gauguin's visit (1888) ====<br> <br>When Gauguin agreed to visit Arles in 1888, Van Gogh hoped for friendship and to realize his idea of an artists' collective. Van Gogh prepared for Gauguin's arrival by painting four versions of Sunflowers in one week. \"In the hope of living in a studio of our own with Gauguin,\" he wrote in a letter to Theo, \"I'd like to do a decoration for the studio. Nothing but large Sunflowers.\"When Boch visited again, Van Gogh painted a portrait of him, as well as the study The Poet Against a Starry Sky.In preparation for Gauguin's visit, Van Gogh bought two beds on advice from the station's postal supervisor Joseph Roulin, whose portrait he painted. On 17 September, he spent his first night in the still sparsely furnished Yellow House. When Gauguin consented to work and live in Arles with him, Van Gogh started to work on the Décoration for the Yellow House, probably the most ambitious effort he ever undertook. He completed two chair paintings: Van Gogh's Chair and Gauguin's Chair.After much pleading from Van Gogh, Gauguin arrived in Arles on 23 October and, in November, the two painted together. Gauguin depicted Van Gogh in his The Painter of Sunflowers; Van Gogh painted pictures from memory, following Gauguin's suggestion. Among these \"imaginative\" paintings is Memory of the Garden at Etten. Their first joint outdoor venture was at the Alyscamps, when they produced the pendants Les Alyscamps. The single painting Gauguin completed during his visit was his portrait of Van Gogh.Van Gogh and Gauguin visited Montpellier in December 1888, where they saw works by Courbet and Delacroix in the Musée Fabre. Their relationship began to deteriorate; Van Gogh admired Gauguin and wanted to be treated as his equal, but Gauguin was arrogant and domineering, which frustrated Van Gogh. They often quarrelled; Van Gogh increasingly feared that Gauguin was going to desert him, and the situation, which Van Gogh described as one of \"excessive tension\", rapidly headed towards crisis point.</td>\n",
       "    </tr>\n",
       "    <tr>\n",
       "      <th>1</th>\n",
       "      <td>0.819758</td>\n",
       "      <td>==== Hospital in Arles (December 1888) ====<br><br>The exact sequence that led to the mutilation of van Gogh's ear is not known. Gauguin said, fifteen years later, that the night followed several instances of physically threatening behaviour. Their relationship was complex and Theo may have owed money to Gauguin, who suspected the brothers were exploiting him financially. It seems likely that Vincent realised that Gauguin was planning to leave. The following days saw heavy rain, leading to the two men being shut in the Yellow House. Gauguin recalled that Van Gogh followed him after he left for a walk and \"rushed towards me, an open razor in his hand.\" This account is uncorroborated; Gauguin was almost certainly absent from the Yellow House that night, most likely staying in a hotel.After an altercation on the evening of 23 December 1888, Van Gogh returned to his room where he seemingly heard voices and either wholly or in part severed his left ear with a razor causing severe bleeding. He bandaged the wound, wrapped the ear in paper and delivered the package to a woman at a brothel Van Gogh and Gauguin both frequented. Van Gogh was found unconscious the next morning by a policeman and taken to hospital, where he was treated by Félix Rey, a young doctor still in training. The ear was brought to the hospital, but Rey did not attempt to reattach it as too much time had passed. Van Gogh researcher and art historian Bernadette Murphy discovered the true identity of the woman named Gabrielle, who died in Arles at the age of 80 in 1952, and whose descendants still lived (as of 2020) just outside Arles. Gabrielle, known in her youth as \"Gaby,\" was a 17-year-old cleaning girl at the brothel and other local establishments at the time Van Gogh presented her with his ear.Van Gogh had no recollection of the event, suggesting that he may have suffered an acute mental breakdown. The hospital diagnosis was \"acute mania with generalised delirium\", and within a few days, the local police ordered that he be placed in hospital care. Gauguin immediately notified Theo, who, on 24 December, had proposed marriage to his old friend Andries Bonger's sister Johanna.</td>\n",
       "    </tr>\n",
       "    <tr>\n",
       "      <th>2</th>\n",
       "      <td>0.855685</td>\n",
       "      <td>Gauguin fled Arles, never to see Van Gogh again. They continued to correspond, and in 1890, Gauguin proposed they form a studio in Antwerp. Meanwhile, other visitors to the hospital included Marie Ginoux and Roulin.Despite a pessimistic diagnosis, Van Gogh recovered and returned to the Yellow House on 7 January 1889. He spent the following month between hospital and home, suffering from hallucinations and delusions of poisoning. In March, the police closed his house after a petition by 30 townspeople (including the Ginoux family) who described him as le fou roux \"the redheaded madman\"; Van Gogh returned to hospital. Paul Signac visited him twice in March; in April, Van Gogh moved into rooms owned by Dr Rey after floods damaged paintings in his own home. Two months later, he left Arles and voluntarily entered an asylum in Saint-Rémy-de-Provence. Around this time, he wrote, \"Sometimes moods of indescribable anguish, sometimes moments when the veil of time and fatality of circumstances seemed to be torn apart for an instant.\"Van Gogh gave his 1889 Portrait of Doctor Félix Rey to Dr Rey. The physician was not fond of the painting and used it to repair a chicken coop, then gave it away. In 2016, the portrait was housed at the Pushkin Museum of Fine Arts and estimated to be worth over $50 million.<br><br>\\t\\t\\t<br>\\t\\t\\t<br>\\t\\t<br>\\t\\t<br>\\t\\t\\t<br>\\t\\t\\t<br>\\t\\t<br>\\t\\t<br>\\t\\t\\t<br>\\t\\t\\t<br>\\t\\t<br>\\t\\t<br>\\t\\t\\t<br>\\t\\t\\t<br>\\t\\t<br><br><br>==== Saint-Rémy (May 1889 – May 1890) ====<br><br>Van Gogh entered the Saint-Paul-de-Mausole asylum on 8 May 1889, accompanied by his caregiver, Frédéric Salles, a Protestant clergyman. Saint-Paul was a former monastery in Saint-Rémy, located less than 30 kilometres (19 mi) from Arles, and it was run by a former naval doctor, Théophile Peyron. Van Gogh had two cells with barred windows, one of which he used as a studio. The clinic and its garden became the main subjects of his paintings.</td>\n",
       "    </tr>\n",
       "  </tbody>\n",
       "</table>"
      ],
      "text/plain": [
       "<IPython.core.display.HTML object>"
      ]
     },
     "metadata": {},
     "output_type": "display_data"
    }
   ],
   "source": [
    "visualize_retrieved_nodes(new_nodes)"
   ]
  },
  {
   "cell_type": "markdown",
   "id": "5850a6af",
   "metadata": {},
   "source": [
    "#### Finding: After RankGPT reranking, the top 1st result is the right text containing the answer"
   ]
  },
  {
   "cell_type": "markdown",
   "id": "67d6631a",
   "metadata": {},
   "source": [
    "## Using other LLM for RankGPT reranking"
   ]
  },
  {
   "cell_type": "markdown",
   "id": "36945a55",
   "metadata": {},
   "source": [
    "### Using `Ollama` for serving local Llama2 models"
   ]
  },
  {
   "cell_type": "code",
   "execution_count": null,
   "id": "eecd3244",
   "metadata": {},
   "outputs": [],
   "source": [
    "from llama_index.llms import Ollama\n",
    "\n",
    "llm = Ollama(model=\"llama2\", request_timeout=30.0)"
   ]
  },
  {
   "cell_type": "code",
   "execution_count": null,
   "id": "c3c343fd",
   "metadata": {},
   "outputs": [],
   "source": [
    "import logging\n",
    "from typing import Any, Dict, List, Optional, Sequence\n",
    "\n",
    "from llama_index.bridge.pydantic import Field\n",
    "from llama_index.llms import ChatMessage, ChatResponse, OpenAI\n",
    "from llama_index.postprocessor.types import BaseNodePostprocessor\n",
    "from llama_index.schema import NodeWithScore, QueryBundle\n",
    "from llama_index.utils import print_text\n",
    "from llama_index.llms.llm import LLM\n",
    "\n",
    "\n",
    "logger = logging.getLogger(__name__)\n",
    "logger.setLevel(logging.WARNING)\n",
    "\n",
    "\n",
    "class RankGPTRerank(BaseNodePostprocessor):\n",
    "    \"\"\"RankGPT-based reranker.\"\"\"\n",
    "\n",
    "    top_n: int = Field(description=\"Top N nodes to return from reranking.\")\n",
    "    llm: LLM = Field(\n",
    "        default=OpenAI(\"gpt-3.5-turbo\"), description=\"LLM to use for rankGPT\"\n",
    "    )\n",
    "    verbose: bool = Field(\n",
    "        default=False, description=\"Whether to print intermediate steps.\"\n",
    "    )\n",
    "\n",
    "    def __init__(\n",
    "        self,\n",
    "        top_n: int = 10,\n",
    "        llm: Optional[LLM] = OpenAI(\"gpt-3.5-turbo\"),\n",
    "        verbose: bool = False,\n",
    "        **kwargs: Any,\n",
    "    ) -> None:\n",
    "        llm = llm or OpenAI(\"gpt-3.5-turbo\")\n",
    "        super().__init__(\n",
    "            top_n=top_n,\n",
    "            llm=llm,\n",
    "            verbose=verbose,\n",
    "            **kwargs,\n",
    "        )\n",
    "\n",
    "    @classmethod\n",
    "    def class_name(cls) -> str:\n",
    "        return \"RankGPTRerank\"\n",
    "\n",
    "    def _postprocess_nodes(\n",
    "        self,\n",
    "        nodes: List[NodeWithScore],\n",
    "        query_bundle: Optional[QueryBundle] = None,\n",
    "    ) -> List[NodeWithScore]:\n",
    "        if query_bundle is None:\n",
    "            raise ValueError(\"Query bundle must be provided.\")\n",
    "\n",
    "        items = {\n",
    "            \"query\": query_bundle.query_str,\n",
    "            \"hits\": [{\"content\": node.get_content()} for node in nodes],\n",
    "        }\n",
    "\n",
    "        messages = self.create_permutation_instruction(item=items)\n",
    "        permutation = self.run_llm(messages=messages)\n",
    "        if (\n",
    "            permutation.message is not None\n",
    "            and permutation.message.content is not None\n",
    "        ):\n",
    "            rerank_ranks = self._receive_permutation(\n",
    "                items, str(permutation.message.content)\n",
    "            )\n",
    "            if self.verbose:\n",
    "                print_text(\n",
    "                    f\"After Reranking, new rank list for nodes: {rerank_ranks}\"\n",
    "                )\n",
    "\n",
    "            initial_results: List[NodeWithScore] = []\n",
    "\n",
    "            for idx in rerank_ranks:\n",
    "                initial_results.append(\n",
    "                    NodeWithScore(node=nodes[idx].node, score=nodes[idx].score)\n",
    "                )\n",
    "            return initial_results[: self.top_n]\n",
    "        else:\n",
    "            return nodes[: self.top_n]\n",
    "\n",
    "    def _get_prefix_prompt(self, query: str, num: int) -> List[ChatMessage]:\n",
    "        return [\n",
    "            ChatMessage(\n",
    "                role=\"system\",\n",
    "                content=\"You are RankGPT, an intelligent assistant that can rank passages based on their relevancy to the query.\",\n",
    "            ),\n",
    "            ChatMessage(\n",
    "                role=\"user\",\n",
    "                content=f\"I will provide you with {num} passages, each indicated by number identifier []. \\nRank the passages based on their relevance to query: {query}.\",\n",
    "            ),\n",
    "            ChatMessage(\n",
    "                role=\"assistant\", content=\"Okay, please provide the passages.\"\n",
    "            ),\n",
    "        ]\n",
    "\n",
    "    def _get_post_prompt(self, query: str, num: int) -> str:\n",
    "        return f\"Search Query: {query}. \\nRank the {num} passages above based on their relevance to the search query. The passages should be listed in descending order using identifiers. The most relevant passages should be listed first. The output format should be [] > [], e.g., [1] > [2]. Only response the ranking results, do not say any word or explain.\"\n",
    "\n",
    "    def create_permutation_instruction(\n",
    "        self, item: Dict[str, Any]\n",
    "    ) -> List[ChatMessage]:\n",
    "        query = item[\"query\"]\n",
    "        num = len(item[\"hits\"])\n",
    "\n",
    "        messages = self._get_prefix_prompt(query, num)\n",
    "        rank = 0\n",
    "        for hit in item[\"hits\"]:\n",
    "            rank += 1\n",
    "            content = hit[\"content\"]\n",
    "            content = content.replace(\"Title: Content: \", \"\")\n",
    "            content = content.strip()\n",
    "            # For Japanese should cut by character: content = content[:int(max_length)]\n",
    "            content = \" \".join(content.split()[:300])\n",
    "            messages.append(\n",
    "                ChatMessage(role=\"user\", content=f\"[{rank}] {content}\")\n",
    "            )\n",
    "            messages.append(\n",
    "                ChatMessage(\n",
    "                    role=\"assistant\", content=f\"Received passage [{rank}].\"\n",
    "                )\n",
    "            )\n",
    "        messages.append(\n",
    "            ChatMessage(role=\"user\", content=self._get_post_prompt(query, num))\n",
    "        )\n",
    "        return messages\n",
    "\n",
    "    def run_llm(self, messages: Sequence[ChatMessage]) -> ChatResponse:\n",
    "        return self.llm.chat(messages)\n",
    "\n",
    "    def _clean_response(self, response: str) -> str:\n",
    "        new_response = \"\"\n",
    "        for c in response:\n",
    "            if not c.isdigit():\n",
    "                new_response += \" \"\n",
    "            else:\n",
    "                new_response += c\n",
    "        return new_response.strip()\n",
    "\n",
    "    def _remove_duplicate(self, response: List[int]) -> List[int]:\n",
    "        new_response = []\n",
    "        for c in response:\n",
    "            if c not in new_response:\n",
    "                new_response.append(c)\n",
    "        return new_response\n",
    "\n",
    "    def _receive_permutation(\n",
    "        self, item: Dict[str, Any], permutation: str\n",
    "    ) -> List[int]:\n",
    "        rank_end = len(item[\"hits\"])\n",
    "\n",
    "        response = self._clean_response(permutation)\n",
    "        response_list = [int(x) - 1 for x in response.split()]\n",
    "        response_list = self._remove_duplicate(response_list)\n",
    "        response_list = [ss for ss in response_list if ss in range(rank_end)]\n",
    "        return response_list + [\n",
    "            tt for tt in range(rank_end) if tt not in response_list\n",
    "        ]  # add the rest of the rank"
   ]
  },
  {
   "cell_type": "code",
   "execution_count": null,
   "id": "da5a8c60",
   "metadata": {},
   "outputs": [],
   "source": [
    "from llama_index.retrievers import VectorIndexRetriever\n",
    "from llama_index.schema import QueryBundle\n",
    "import pandas as pd\n",
    "from IPython.display import display, HTML\n",
    "from llama_index.llms import HuggingFaceInferenceAPI, HuggingFaceLLM\n",
    "\n",
    "# from llama_index.postprocessor import RankGPTRerank\n",
    "\n",
    "\n",
    "def get_retrieved_nodes(\n",
    "    query_str, vector_top_k=10, reranker_top_n=3, with_reranker=False\n",
    "):\n",
    "    query_bundle = QueryBundle(query_str)\n",
    "    # configure retriever\n",
    "    retriever = VectorIndexRetriever(\n",
    "        index=index,\n",
    "        similarity_top_k=vector_top_k,\n",
    "    )\n",
    "    retrieved_nodes = retriever.retrieve(query_bundle)\n",
    "\n",
    "    if with_reranker:\n",
    "        # configure reranker\n",
    "        reranker = RankGPTRerank(\n",
    "            llm=llm,\n",
    "            top_n=reranker_top_n,\n",
    "            verbose=True,\n",
    "        )\n",
    "        retrieved_nodes = reranker.postprocess_nodes(\n",
    "            retrieved_nodes, query_bundle\n",
    "        )\n",
    "\n",
    "    return retrieved_nodes"
   ]
  },
  {
   "cell_type": "code",
   "execution_count": null,
   "id": "4d13f013",
   "metadata": {},
   "outputs": [
    {
     "name": "stdout",
     "output_type": "stream",
     "text": [
      "INFO:httpx:HTTP Request: POST https://api.openai.com/v1/embeddings \"HTTP/1.1 200 OK\"\n",
      "HTTP Request: POST https://api.openai.com/v1/embeddings \"HTTP/1.1 200 OK\"\n",
      "INFO:httpx:HTTP Request: POST http://localhost:11434/api/chat \"HTTP/1.1 200 OK\"\n",
      "HTTP Request: POST http://localhost:11434/api/chat \"HTTP/1.1 200 OK\"\n"
     ]
    }
   ],
   "source": [
    "new_nodes = get_retrieved_nodes(\n",
    "    \"Which date did Paul Gauguin arrive in Arles ?\",\n",
    "    vector_top_k=10,\n",
    "    reranker_top_n=3,\n",
    "    with_reranker=True,\n",
    ")"
   ]
  },
  {
   "cell_type": "code",
   "execution_count": null,
   "id": "c32fbafb",
   "metadata": {},
   "outputs": [
    {
     "data": {
      "text/html": [
       "<table border=\"1\" class=\"dataframe\">\n",
       "  <thead>\n",
       "    <tr style=\"text-align: right;\">\n",
       "      <th></th>\n",
       "      <th>Score</th>\n",
       "      <th>Text</th>\n",
       "    </tr>\n",
       "  </thead>\n",
       "  <tbody>\n",
       "    <tr>\n",
       "      <th>0</th>\n",
       "      <td>0.855685</td>\n",
       "      <td>Gauguin fled Arles, never to see Van Gogh again. They continued to correspond, and in 1890, Gauguin proposed they form a studio in Antwerp. Meanwhile, other visitors to the hospital included Marie Ginoux and Roulin.Despite a pessimistic diagnosis, Van Gogh recovered and returned to the Yellow House on 7 January 1889. He spent the following month between hospital and home, suffering from hallucinations and delusions of poisoning. In March, the police closed his house after a petition by 30 townspeople (including the Ginoux family) who described him as le fou roux \"the redheaded madman\"; Van Gogh returned to hospital. Paul Signac visited him twice in March; in April, Van Gogh moved into rooms owned by Dr Rey after floods damaged paintings in his own home. Two months later, he left Arles and voluntarily entered an asylum in Saint-Rémy-de-Provence. Around this time, he wrote, \"Sometimes moods of indescribable anguish, sometimes moments when the veil of time and fatality of circumstances seemed to be torn apart for an instant.\"Van Gogh gave his 1889 Portrait of Doctor Félix Rey to Dr Rey. The physician was not fond of the painting and used it to repair a chicken coop, then gave it away. In 2016, the portrait was housed at the Pushkin Museum of Fine Arts and estimated to be worth over $50 million.<br><br>\\t\\t\\t<br>\\t\\t\\t<br>\\t\\t<br>\\t\\t<br>\\t\\t\\t<br>\\t\\t\\t<br>\\t\\t<br>\\t\\t<br>\\t\\t\\t<br>\\t\\t\\t<br>\\t\\t<br>\\t\\t<br>\\t\\t\\t<br>\\t\\t\\t<br>\\t\\t<br><br><br>==== Saint-Rémy (May 1889 – May 1890) ====<br><br>Van Gogh entered the Saint-Paul-de-Mausole asylum on 8 May 1889, accompanied by his caregiver, Frédéric Salles, a Protestant clergyman. Saint-Paul was a former monastery in Saint-Rémy, located less than 30 kilometres (19 mi) from Arles, and it was run by a former naval doctor, Théophile Peyron. Van Gogh had two cells with barred windows, one of which he used as a studio. The clinic and its garden became the main subjects of his paintings.</td>\n",
       "    </tr>\n",
       "    <tr>\n",
       "      <th>1</th>\n",
       "      <td>0.852371</td>\n",
       "      <td>When he visited Saintes-Maries-de-la-Mer in June, he gave lessons to a Zouave second lieutenant – Paul-Eugène Milliet – and painted boats on the sea and the village. MacKnight introduced Van Gogh to Eugène Boch, a Belgian painter who sometimes stayed in Fontvieille, and the two exchanged visits in July.<br><br>\\t\\t\\t<br>\\t\\t\\t<br>\\t\\t<br>\\t\\t<br>\\t\\t\\t<br>\\t\\t\\t<br>\\t\\t<br>\\t\\t<br>\\t\\t\\t<br>\\t\\t\\t<br>\\t\\t<br>\\t\\t<br>\\t\\t\\t<br>\\t\\t\\t<br>\\t\\t<br><br><br>==== Gauguin's visit (1888) ====<br> <br>When Gauguin agreed to visit Arles in 1888, Van Gogh hoped for friendship and to realize his idea of an artists' collective. Van Gogh prepared for Gauguin's arrival by painting four versions of Sunflowers in one week. \"In the hope of living in a studio of our own with Gauguin,\" he wrote in a letter to Theo, \"I'd like to do a decoration for the studio. Nothing but large Sunflowers.\"When Boch visited again, Van Gogh painted a portrait of him, as well as the study The Poet Against a Starry Sky.In preparation for Gauguin's visit, Van Gogh bought two beds on advice from the station's postal supervisor Joseph Roulin, whose portrait he painted. On 17 September, he spent his first night in the still sparsely furnished Yellow House. When Gauguin consented to work and live in Arles with him, Van Gogh started to work on the Décoration for the Yellow House, probably the most ambitious effort he ever undertook. He completed two chair paintings: Van Gogh's Chair and Gauguin's Chair.After much pleading from Van Gogh, Gauguin arrived in Arles on 23 October and, in November, the two painted together. Gauguin depicted Van Gogh in his The Painter of Sunflowers; Van Gogh painted pictures from memory, following Gauguin's suggestion. Among these \"imaginative\" paintings is Memory of the Garden at Etten. Their first joint outdoor venture was at the Alyscamps, when they produced the pendants Les Alyscamps. The single painting Gauguin completed during his visit was his portrait of Van Gogh.Van Gogh and Gauguin visited Montpellier in December 1888, where they saw works by Courbet and Delacroix in the Musée Fabre. Their relationship began to deteriorate; Van Gogh admired Gauguin and wanted to be treated as his equal, but Gauguin was arrogant and domineering, which frustrated Van Gogh. They often quarrelled; Van Gogh increasingly feared that Gauguin was going to desert him, and the situation, which Van Gogh described as one of \"excessive tension\", rapidly headed towards crisis point.</td>\n",
       "    </tr>\n",
       "    <tr>\n",
       "      <th>2</th>\n",
       "      <td>0.839710</td>\n",
       "      <td>=== Artistic breakthrough ===<br><br><br>==== Arles (1888–89) ====<br><br>Ill from drink and suffering from smoker's cough, in February 1888 Van Gogh sought refuge in Arles. He seems to have moved with thoughts of founding an art colony. The Danish artist Christian Mourier-Petersen became his companion for two months, and, at first, Arles appeared exotic. In a letter, he described it as a foreign country: \"The Zouaves, the brothels, the adorable little Arlésienne going to her First Communion, the priest in his surplice, who looks like a dangerous rhinoceros, the people drinking absinthe, all seem to me creatures from another world.\"The time in Arles became one of Van Gogh's more prolific periods: he completed 200 paintings and more than 100 drawings and watercolours. He was enchanted by the local countryside and light; his works from this period are rich in yellow, ultramarine and mauve. They include harvests, wheat fields and general rural landmarks from the area, including The Old Mill (1888), one of seven canvases sent to Pont-Aven on 4 October 1888 in an exchange of works with Paul Gauguin, Émile Bernard, Charles Laval and others. <br>The portrayals of Arles are informed by his Dutch upbringing; the patchworks of fields and avenues are flat and lacking perspective, but excel in their use of colour.In March 1888, he painted landscapes using a gridded \"perspective frame\"; three of the works were shown at the annual exhibition of the Société des Artistes Indépendants. In April, he was visited by the American artist Dodge MacKnight, who was living nearby at Fontvieille. On 1 May 1888, for 15 francs per month, he signed a lease for the eastern wing of the Yellow House at 2 place Lamartine. The rooms were unfurnished and had been uninhabited for months.On 7 May, Van Gogh moved from the Hôtel Carrel to the Café de la Gare, having befriended the proprietors, Joseph and Marie Ginoux. The Yellow House had to be furnished before he could fully move in, but he was able to use it as a studio.</td>\n",
       "    </tr>\n",
       "  </tbody>\n",
       "</table>"
      ],
      "text/plain": [
       "<IPython.core.display.HTML object>"
      ]
     },
     "metadata": {},
     "output_type": "display_data"
    }
   ],
   "source": [
    "visualize_retrieved_nodes(new_nodes)"
   ]
  }
 ],
 "metadata": {
  "kernelspec": {
   "display_name": "venv",
   "language": "python",
   "name": "python3"
  },
  "language_info": {
   "codemirror_mode": {
    "name": "ipython",
    "version": 3
   },
   "file_extension": ".py",
   "mimetype": "text/x-python",
   "name": "python",
   "nbconvert_exporter": "python",
   "pygments_lexer": "ipython3"
  }
 },
 "nbformat": 4,
 "nbformat_minor": 5
}
