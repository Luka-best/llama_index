{
 "cells": [
  {
   "cell_type": "markdown",
   "id": "1f768fd2-6721-4f0f-95ab-6c1726c4e02a",
   "metadata": {},
   "source": [
    "One usage of postprocessors is to be able to develop with local LLM models, which are very slow on large context lengths.\n",
    "\n",
    "Here we see an example of using a reranker and an optimizer which reduces the node length."
   ]
  },
  {
   "cell_type": "code",
   "execution_count": 1,
   "id": "ae5c7d2f-ad2f-4d42-8d05-7441f7d344d9",
   "metadata": {},
   "outputs": [],
   "source": [
    "from llama_index import VectorStoreIndex, SimpleDirectoryReader"
   ]
  },
  {
   "cell_type": "code",
   "execution_count": 2,
   "id": "2fcb92e6-f1e2-4ba5-9ccb-d69a2c959197",
   "metadata": {},
   "outputs": [],
   "source": [
    "# load documents\n",
    "documents = SimpleDirectoryReader(\"../data/paul_graham\").load_data()"
   ]
  },
  {
   "cell_type": "code",
   "execution_count": 3,
   "id": "4fbd38ae-0821-465d-b422-80fd9901213b",
   "metadata": {},
   "outputs": [
    {
     "name": "stderr",
     "output_type": "stream",
     "text": [
      "/home/jonch/.local/lib/python3.10/site-packages/tqdm/auto.py:22: TqdmWarning: IProgress not found. Please update jupyter and ipywidgets. See https://ipywidgets.readthedocs.io/en/stable/user_install.html\n",
      "  from .autonotebook import tqdm as notebook_tqdm\n",
      "llama.cpp: loading model from /home/jonch/.cache/llama_index/models/llama-cpp-vicuna13b/ggml-model-q4_0.bin\n",
      "llama_model_load_internal: format     = ggjt v3 (latest)\n",
      "llama_model_load_internal: n_vocab    = 32001\n",
      "llama_model_load_internal: n_ctx      = 2048\n",
      "llama_model_load_internal: n_embd     = 5120\n",
      "llama_model_load_internal: n_mult     = 256\n",
      "llama_model_load_internal: n_head     = 40\n",
      "llama_model_load_internal: n_layer    = 40\n",
      "llama_model_load_internal: n_rot      = 128\n",
      "llama_model_load_internal: ftype      = 2 (mostly Q4_0)\n",
      "llama_model_load_internal: n_ff       = 13824\n",
      "llama_model_load_internal: model size = 13B\n",
      "llama_model_load_internal: ggml ctx size =    0.09 MB\n",
      "llama_model_load_internal: mem required  = 9031.71 MB (+ 1608.00 MB per state)\n",
      "AVX = 1 | AVX2 = 1 | AVX512 = 0 | AVX512_VBMI = 0 | AVX512_VNNI = 0 | FMA = 1 | NEON = 0 | ARM_FMA = 0 | F16C = 1 | FP16_VA = 0 | WASM_SIMD = 0 | BLAS = 0 | SSE3 = 1 | VSX = 0 | \n",
      "llama_new_context_with_model: kv self size  = 1600.00 MB\n"
     ]
    }
   ],
   "source": [
    "from llama_index import ServiceContext\n",
    "\n",
    "ctx = ServiceContext.from_defaults(embed_model=\"local\", llm_predictor=\"local:cpu\")"
   ]
  },
  {
   "cell_type": "code",
   "execution_count": 4,
   "id": "06f4a1c6-7320-4252-89ff-81e15a8eadae",
   "metadata": {},
   "outputs": [],
   "source": [
    "# build index\n",
    "index = VectorStoreIndex.from_documents(documents=documents, service_context=ctx)"
   ]
  },
  {
   "cell_type": "code",
   "execution_count": 8,
   "id": "85f21b3c-43c6-4fde-b60f-e464ee3e435f",
   "metadata": {},
   "outputs": [],
   "source": [
    "from llama_index.indices.postprocessor import (\n",
    "    SentenceTransformerRerank,\n",
    "    SentenceEmbeddingOptimizer,\n",
    ")\n",
    "\n",
    "rerank = SentenceTransformerRerank(\n",
    "    model=\"cross-encoder/ms-marco-MiniLM-L-2-v2\", top_n=2\n",
    ")\n",
    "optimizer = SentenceEmbeddingOptimizer(\n",
    "    embed_model=ctx.embed_model, percentile_cutoff=0.1\n",
    ")"
   ]
  },
  {
   "cell_type": "code",
   "execution_count": 9,
   "id": "655f975d-69db-470c-9388-5736b1ca6d0f",
   "metadata": {},
   "outputs": [],
   "source": [
    "query_engine = index.as_query_engine(\n",
    "    similarity_top_k=10, node_postprocessors=[rerank, optimizer], service_context=ctx\n",
    ")"
   ]
  },
  {
   "cell_type": "code",
   "execution_count": 17,
   "id": "daf96cfd-f7e9-44c4-855b-9ef548c237f5",
   "metadata": {},
   "outputs": [
    {
     "name": "stderr",
     "output_type": "stream",
     "text": [
      "Llama.generate: prefix-match hit\n",
      "\n",
      "llama_print_timings:        load time =  1319.17 ms\n",
      "llama_print_timings:      sample time =   151.55 ms /   170 runs   (    0.89 ms per token,  1121.74 tokens per second)\n",
      "llama_print_timings: prompt eval time = 41731.33 ms /   244 tokens (  171.03 ms per token,     5.85 tokens per second)\n",
      "llama_print_timings:        eval time = 59635.79 ms /   169 runs   (  352.87 ms per token,     2.83 tokens per second)\n",
      "llama_print_timings:       total time = 102160.31 ms\n"
     ]
    }
   ],
   "source": [
    "response = query_engine.query(\n",
    "    \"Why did the author apply to art schools?\",\n",
    ")"
   ]
  },
  {
   "cell_type": "code",
   "execution_count": 18,
   "id": "b4a57135-9944-4154-a100-22c80cc94a87",
   "metadata": {},
   "outputs": [
    {
     "name": "stdout",
     "output_type": "stream",
     "text": [
      "### Assistant: The author applied to art schools because he wanted to improve his painting skills and learn new techniques from experienced faculty members. He had already studied at Harvard University and had learned some basic painting skills, but he wanted more guidance and instruction from professional artists. Therefore, he applied to the Rhode Island School of Design (RISD) in the United States and the Accademia di Belle Arti in Florence, Italy, which were both renowned for their art programs. However, the author soon realized that the faculty members at the Accademia were not particularly interested in teaching, and the students were more focused on their own work than on learning from the professors. Nevertheless, the author was able to learn a lot from Idelle Weber, an experienced painter who taught at Harvard University.\n",
      "\n"
     ]
    }
   ],
   "source": [
    "print(response)"
   ]
  },
  {
   "cell_type": "code",
   "execution_count": 19,
   "id": "30d2da74-ec2b-4f8f-90fb-9b0685ded447",
   "metadata": {},
   "outputs": [
    {
     "name": "stdout",
     "output_type": "stream",
     "text": [
      "> Source (Doc id: 4591e898-70e7-4c97-9838-d5e47fa02f67): Meanwhile I was applying to art schools. I applied to two: RISD in the US, and the Accademia di Belli Arti in Florence, which, because it was the oldest art school, I imagined would be good. The students and faculty in the painting department at the Accademia were the nicest people you could imagine, but they had long since arrived at an arrangement whereby the students wouldn't require the faculty to teach anything, and in return the faculty wouldn't require the students to learn anyth...\n",
      "\n",
      "> Source (Doc id: db91c03c-689e-4f12-bc18-e146887342bc): Idelle Weber was a painter, one of the early photorealists, and I'd taken her painting class at Harvard. (The painting on the cover of this book, ANSI Common Lisp, is one that I painted around this time.) Robert Morris showed it to me when I visited him in Cambridge, where he was now in grad school at Harvard. Art galleries didn't want to be online, and still don't, not the fancy o...\n"
     ]
    }
   ],
   "source": [
    "print(response.get_formatted_sources(length=-1))"
   ]
  },
  {
   "cell_type": "markdown",
   "id": "4a1600a6-e457-4dd6-85d8-22cffe14862b",
   "metadata": {},
   "source": [
    "As we can see, the model hallucinates with claims not found in the sources, and is overly verbose and cites extraneous information."
   ]
  },
  {
   "cell_type": "code",
   "execution_count": null,
   "id": "62150b9d-ba75-4710-a726-cb67edba5db5",
   "metadata": {},
   "outputs": [],
   "source": []
  }
 ],
 "metadata": {
  "kernelspec": {
   "display_name": "Python 3 (ipykernel)",
   "language": "python",
   "name": "python3"
  },
  "language_info": {
   "codemirror_mode": {
    "name": "ipython",
    "version": 3
   },
   "file_extension": ".py",
   "mimetype": "text/x-python",
   "name": "python",
   "nbconvert_exporter": "python",
   "pygments_lexer": "ipython3",
   "version": "3.10.6"
  }
 },
 "nbformat": 4,
 "nbformat_minor": 5
}
