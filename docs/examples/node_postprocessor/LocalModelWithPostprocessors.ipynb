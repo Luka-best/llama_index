{
 "cells": [
  {
   "cell_type": "markdown",
   "id": "1f768fd2-6721-4f0f-95ab-6c1726c4e02a",
   "metadata": {},
   "source": [
    "One usage of postprocessors is to be able to develop with local LLM models, which are very slow on large context lengths.\n",
    "\n",
    "Here we see an example of using a reranker and an optimizer which reduces the node length."
   ]
  },
  {
   "cell_type": "code",
   "execution_count": 1,
   "id": "ae5c7d2f-ad2f-4d42-8d05-7441f7d344d9",
   "metadata": {},
   "outputs": [],
   "source": [
    "from llama_index import VectorStoreIndex, SimpleDirectoryReader"
   ]
  },
  {
   "cell_type": "code",
   "execution_count": 2,
   "id": "2fcb92e6-f1e2-4ba5-9ccb-d69a2c959197",
   "metadata": {},
   "outputs": [],
   "source": [
    "# load documents\n",
    "documents = SimpleDirectoryReader(\"../data/paul_graham\").load_data()"
   ]
  },
  {
   "cell_type": "code",
   "execution_count": 3,
   "id": "4fbd38ae-0821-465d-b422-80fd9901213b",
   "metadata": {},
   "outputs": [
    {
     "name": "stderr",
     "output_type": "stream",
     "text": [
      "/home/jonch/.local/lib/python3.10/site-packages/tqdm/auto.py:22: TqdmWarning: IProgress not found. Please update jupyter and ipywidgets. See https://ipywidgets.readthedocs.io/en/stable/user_install.html\n",
      "  from .autonotebook import tqdm as notebook_tqdm\n",
      "llama.cpp: loading model from /home/jonch/.cache/llama_index/models/llama-2-13b/ggml-model-q4_0.bin\n",
      "llama_model_load_internal: format     = ggjt v3 (latest)\n",
      "llama_model_load_internal: n_vocab    = 32000\n",
      "llama_model_load_internal: n_ctx      = 4096\n",
      "llama_model_load_internal: n_embd     = 5120\n",
      "llama_model_load_internal: n_mult     = 256\n",
      "llama_model_load_internal: n_head     = 40\n",
      "llama_model_load_internal: n_layer    = 40\n",
      "llama_model_load_internal: n_rot      = 128\n",
      "llama_model_load_internal: ftype      = 2 (mostly Q4_0)\n",
      "llama_model_load_internal: n_ff       = 13824\n",
      "llama_model_load_internal: model size = 13B\n",
      "llama_model_load_internal: ggml ctx size =    0.09 MB\n",
      "llama_model_load_internal: mem required  = 9031.71 MB (+ 1608.00 MB per state)\n"
     ]
    },
    {
     "name": "stdout",
     "output_type": "stream",
     "text": [
      "LLM metadata: context_window=4096 num_output=256 is_chat_model=False\n"
     ]
    },
    {
     "name": "stderr",
     "output_type": "stream",
     "text": [
      "llama_new_context_with_model: kv self size  = 3200.00 MB\n",
      "AVX = 1 | AVX2 = 1 | AVX512 = 0 | AVX512_VBMI = 0 | AVX512_VNNI = 0 | FMA = 1 | NEON = 0 | ARM_FMA = 0 | F16C = 1 | FP16_VA = 0 | WASM_SIMD = 0 | BLAS = 0 | SSE3 = 1 | VSX = 0 | \n"
     ]
    }
   ],
   "source": [
    "from llama_index import ServiceContext, set_global_service_context\n",
    "\n",
    "ctx = ServiceContext.from_defaults(embed_model=\"local\", llm_predictor=\"local:cpu\")\n",
    "set_global_service_context(ctx)"
   ]
  },
  {
   "cell_type": "code",
   "execution_count": 4,
   "id": "06f4a1c6-7320-4252-89ff-81e15a8eadae",
   "metadata": {},
   "outputs": [],
   "source": [
    "# build index\n",
    "index = VectorStoreIndex.from_documents(documents=documents, service_context=ctx)"
   ]
  },
  {
   "cell_type": "code",
   "execution_count": 5,
   "id": "85f21b3c-43c6-4fde-b60f-e464ee3e435f",
   "metadata": {},
   "outputs": [],
   "source": [
    "from llama_index.indices.postprocessor import (\n",
    "    SentenceTransformerRerank,\n",
    "    SentenceEmbeddingOptimizer,\n",
    ")\n",
    "\n",
    "rerank = SentenceTransformerRerank(\n",
    "    model=\"cross-encoder/ms-marco-MiniLM-L-2-v2\", top_n=2\n",
    ")\n",
    "optimizer = SentenceEmbeddingOptimizer(\n",
    "    embed_model=ctx.embed_model, percentile_cutoff=0.1\n",
    ")"
   ]
  },
  {
   "cell_type": "code",
   "execution_count": 6,
   "id": "655f975d-69db-470c-9388-5736b1ca6d0f",
   "metadata": {},
   "outputs": [],
   "source": [
    "query_engine = index.as_query_engine(\n",
    "    similarity_top_k=10, node_postprocessors=[rerank, optimizer], service_context=ctx\n",
    ")"
   ]
  },
  {
   "cell_type": "code",
   "execution_count": 12,
   "id": "daf96cfd-f7e9-44c4-855b-9ef548c237f5",
   "metadata": {},
   "outputs": [
    {
     "name": "stderr",
     "output_type": "stream",
     "text": [
      "Llama.generate: prefix-match hit\n",
      "\n",
      "llama_print_timings:        load time =  1742.92 ms\n",
      "llama_print_timings:      sample time =    67.96 ms /   113 runs   (    0.60 ms per token,  1662.82 tokens per second)\n",
      "llama_print_timings: prompt eval time = 29042.03 ms /   246 tokens (  118.06 ms per token,     8.47 tokens per second)\n",
      "llama_print_timings:        eval time = 26013.64 ms /   112 runs   (  232.26 ms per token,     4.31 tokens per second)\n",
      "llama_print_timings:       total time = 55457.03 ms\n"
     ]
    }
   ],
   "source": [
    "response = query_engine.query(\n",
    "    \"Why did the author think his choice of art schools would be good?\",\n",
    ")"
   ]
  },
  {
   "cell_type": "code",
   "execution_count": 13,
   "id": "b4a57135-9944-4154-a100-22c80cc94a87",
   "metadata": {},
   "outputs": [
    {
     "name": "stdout",
     "output_type": "stream",
     "text": [
      "This is an open-ended question. Here's my answer.\n",
      "The author thought Accademia di Belle Arti in Florence would be a good choice because it was the oldest art school. He likely presumed that such a long-established institution would provide a well-rounded education in the arts, with a focus on traditional techniques and methods. Additionally, the fact that it was one of the oldest art schools might have given him an impression of its reputation and prestige, which could have been a factor in his decision to apply.\n"
     ]
    }
   ],
   "source": [
    "print(response)"
   ]
  },
  {
   "cell_type": "code",
   "execution_count": 14,
   "id": "30d2da74-ec2b-4f8f-90fb-9b0685ded447",
   "metadata": {},
   "outputs": [
    {
     "name": "stdout",
     "output_type": "stream",
     "text": [
      "> Source (Doc id: 474ecef1-1495-4f17-a597-9b452ef8634b): The students and faculty in the painting department at the Accademia were the nicest people you could imagine, but they had long since arrived at an arrangement whereby the students wouldn't require the faculty to teach anything, and in return the faculty wouldn't require the students to learn anything. I applied to two: RISD in the US, and the Accademia di Belli Arti in Florence, which, because it was the oldest art school, I imagined would be good. Meanwhile I was applying to art scho...\n",
      "\n",
      "> Source (Doc id: 15161c96-d973-4d34-8bbc-f62e4761d186): Idelle Weber was a painter, one of the early photorealists, and I'd taken her painting class at Harvard. Art galleries didn't want to be online, and still don't, not the fancy ones. She liked to paint on big, square canvases, 4 to 5 feet on a side. (The painting on the cover of this book, ANSI Common Lisp, is one that I painted around this ti...\n"
     ]
    }
   ],
   "source": [
    "print(response.get_formatted_sources(length=-1))"
   ]
  }
 ],
 "metadata": {
  "kernelspec": {
   "display_name": "Python 3 (ipykernel)",
   "language": "python",
   "name": "python3"
  },
  "language_info": {
   "codemirror_mode": {
    "name": "ipython",
    "version": 3
   },
   "file_extension": ".py",
   "mimetype": "text/x-python",
   "name": "python",
   "nbconvert_exporter": "python",
   "pygments_lexer": "ipython3",
   "version": "3.10.6"
  }
 },
 "nbformat": 4,
 "nbformat_minor": 5
}
