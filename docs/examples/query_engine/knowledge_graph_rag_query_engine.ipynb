{
 "cells": [
  {
   "attachments": {},
   "cell_type": "markdown",
   "metadata": {},
   "source": [
    "# Knowledge Graph RAG Query Engine\n",
    "\n",
    "With LlamaIndex, we could build Knowledge Graphs leveraging its rich data source ecosystem, with LLM or even [local models](https://colab.research.google.com/drive/1G6pcR0pXvSkdMQlAK_P-IrYgo-_staxd?usp=sharing) best practices.\n",
    "\n",
    "And on top of that, we could already:\n",
    "- Perform Graph RAG, or [Graph + Vector RAG](https://gpt-index.readthedocs.io/en/latest/examples/index_structs/knowledge_graph/KnowledgeGraphIndex_vs_VectorStoreIndex_vs_CustomIndex_combined.html) with KnowledgeGraphIndex and GraphStore by building Knowledge Graphs with LlamaIndex.\n",
    "- Perform text2cypher with KnowledgeGraphQueryEngine and GraphStore on existing Knowledge Graphs or those built with LlamaIndex.\n",
    "\n",
    "Now, with KnowledgeGraphRAGQueryEngine and GraphStore, we could perform Graph RAG on existing Knowledge Graphs, too."
   ]
  },
  {
   "attachments": {},
   "cell_type": "markdown",
   "metadata": {},
   "source": [
    "Let's first get ready for basic preparation of Llama Index."
   ]
  },
  {
   "cell_type": "code",
   "execution_count": null,
   "metadata": {},
   "outputs": [],
   "source": [
    "# For OpenAI\n",
    "\n",
    "import os\n",
    "\n",
    "os.environ[\"OPENAI_API_KEY\"] = \"INSERT OPENAI KEY\"\n",
    "\n",
    "import logging\n",
    "import sys\n",
    "\n",
    "logging.basicConfig(\n",
    "    stream=sys.stdout, level=logging.INFO\n",
    ")  # logging.DEBUG for more verbose output\n",
    "\n",
    "from llama_index import (\n",
    "    KnowledgeGraphIndex,\n",
    "    LLMPredictor,\n",
    "    ServiceContext,\n",
    "    SimpleDirectoryReader,\n",
    ")\n",
    "from llama_index.storage.storage_context import StorageContext\n",
    "from llama_index.graph_stores import NebulaGraphStore\n",
    "from llama_index.llms import OpenAI\n",
    "\n",
    "from IPython.display import Markdown, display\n",
    "\n",
    "\n",
    "# define LLM\n",
    "# NOTE: at the time of demo, text-davinci-002 did not have rate-limit errors\n",
    "llm = OpenAI(temperature=0, model=\"text-davinci-002\")\n",
    "service_context = ServiceContext.from_defaults(llm=llm, chunk_size_limit=512)"
   ]
  },
  {
   "cell_type": "code",
   "execution_count": null,
   "metadata": {},
   "outputs": [],
   "source": [
    "# For Azure OpenAI\n",
    "import os\n",
    "import json\n",
    "import openai\n",
    "from llama_index.llms import AzureOpenAI\n",
    "from langchain.embeddings import OpenAIEmbeddings\n",
    "from llama_index import LangchainEmbedding\n",
    "from llama_index import (\n",
    "    VectorStoreIndex,\n",
    "    SimpleDirectoryReader,\n",
    "    KnowledgeGraphIndex,\n",
    "    LLMPredictor,\n",
    "    ServiceContext,\n",
    ")\n",
    "\n",
    "from llama_index.storage.storage_context import StorageContext\n",
    "from llama_index.graph_stores import NebulaGraphStore\n",
    "from llama_index.llms import LangChainLLM\n",
    "\n",
    "import logging\n",
    "import sys\n",
    "\n",
    "from IPython.display import Markdown, display\n",
    "\n",
    "logging.basicConfig(\n",
    "    stream=sys.stdout, level=logging.INFO\n",
    ")  # logging.DEBUG for more verbose output\n",
    "logging.getLogger().addHandler(logging.StreamHandler(stream=sys.stdout))\n",
    "\n",
    "openai.api_type = \"azure\"\n",
    "openai.api_base = \"INSERT AZURE API BASE\"\n",
    "openai.api_version = \"2023-05-15\"\n",
    "os.environ[\"OPENAI_API_KEY\"] = \"INSERT OPENAI KEY\"\n",
    "openai.api_key = os.getenv(\"OPENAI_API_KEY\")\n",
    "\n",
    "lc_llm = AzureOpenAI(\n",
    "    engine=\"INSERT DEPLOYMENT NAME\",\n",
    "    temperature=0,\n",
    "    model=\"gpt-35-turbo\",\n",
    ")\n",
    "llm = LangChainLLM(lc_llm)\n",
    "\n",
    "# You need to deploy your own embedding model as well as your own chat completion model\n",
    "embedding_llm = LangchainEmbedding(\n",
    "    OpenAIEmbeddings(\n",
    "        model=\"text-embedding-ada-002\",\n",
    "        deployment=\"INSERT DEPLOYMENT NAME\",\n",
    "        openai_api_key=openai.api_key,\n",
    "        openai_api_base=openai.api_base,\n",
    "        openai_api_type=openai.api_type,\n",
    "        openai_api_version=openai.api_version,\n",
    "    ),\n",
    "    embed_batch_size=1,\n",
    ")\n",
    "\n",
    "service_context = ServiceContext.from_defaults(\n",
    "    llm=llm,\n",
    "    embed_model=embedding_llm,\n",
    ")"
   ]
  },
  {
   "attachments": {},
   "cell_type": "markdown",
   "metadata": {},
   "source": [
    "## Prepare for NebulaGraph\n",
    "\n",
    "Before next step to perform Graph RAG on existing KG, let's ensure we have a running NebulaGraph with defined data schema."
   ]
  },
  {
   "cell_type": "code",
   "execution_count": null,
   "metadata": {},
   "outputs": [],
   "source": [
    "# Create a NebulaGraph (version 3.5.0 or newer) cluster with:\n",
    "# Option 0 for machines with Docker: `curl -fsSL nebula-up.siwei.io/install.sh | bash`\n",
    "# Option 1 for Desktop: NebulaGraph Docker Extension https://hub.docker.com/extensions/weygu/nebulagraph-dd-ext\n",
    "\n",
    "# If not, create it with the following commands from NebulaGraph's console:\n",
    "# CREATE SPACE llamaindex(vid_type=FIXED_STRING(256), partition_num=1, replica_factor=1);\n",
    "# :sleep 10;\n",
    "# USE llamaindex;\n",
    "# CREATE TAG entity(name string);\n",
    "# CREATE EDGE relationship(relationship string);\n",
    "# :sleep 10;\n",
    "# CREATE TAG INDEX entity_index ON entity(name(256));\n",
    "\n",
    "%pip install ipython-ngql nebula3-python\n",
    "\n",
    "os.environ[\"NEBULA_USER\"] = \"root\"\n",
    "os.environ[\"NEBULA_PASSWORD\"] = \"<password>\"  # default is \"nebula\"\n",
    "os.environ[\n",
    "    \"NEBULA_ADDRESS\"\n",
    "] = \"127.0.0.1:9669\"  # assumed we have NebulaGraph installed locally\n",
    "\n",
    "space_name = \"llamaindex\"\n",
    "edge_types, rel_prop_names = [\"relationship\"], [\n",
    "    \"relationship\"\n",
    "]  # default, could be omit if create from an empty kg\n",
    "tags = [\"entity\"]  # default, could be omit if create from an empty kg"
   ]
  },
  {
   "attachments": {},
   "cell_type": "markdown",
   "metadata": {},
   "source": [
    "Prepare for StorageContext with graph_store as NebulaGraphStore"
   ]
  },
  {
   "cell_type": "code",
   "execution_count": null,
   "metadata": {},
   "outputs": [],
   "source": [
    "graph_store = NebulaGraphStore(\n",
    "    space_name=space_name,\n",
    "    edge_types=edge_types,\n",
    "    rel_prop_names=rel_prop_names,\n",
    "    tags=tags,\n",
    ")\n",
    "storage_context = StorageContext.from_defaults(graph_store=graph_store)"
   ]
  },
  {
   "attachments": {},
   "cell_type": "markdown",
   "metadata": {},
   "source": [
    "Here, we assumed to have the same Knowledge Graph from [this turtorial](https://gpt-index.readthedocs.io/en/latest/examples/query_engine/knowledge_graph_query_engine.html#optional-build-the-knowledge-graph-with-llamaindex)"
   ]
  },
  {
   "attachments": {},
   "cell_type": "markdown",
   "metadata": {},
   "source": [
    "## Perform Graph RAG Query\n",
    "\n",
    "Finally, let's demo how to do Graph RAG towards an existing Knowledge Graph.\n",
    "\n",
    "Here, we will leverage the `KnowledgeGraphQueryEngine`, with `NebulaGraphStore` as the `storage_context.graph_store`."
   ]
  },
  {
   "cell_type": "code",
   "execution_count": null,
   "metadata": {},
   "outputs": [],
   "source": [
    "from llama_index.query_engine import KnowledgeGraphRAGQueryEngine\n",
    "\n",
    "query_engine = KnowledgeGraphRAGQueryEngine(\n",
    "    storage_context=storage_context,\n",
    "    service_context=service_context,\n",
    "    llm=llm,\n",
    "    verbose=True,\n",
    ")"
   ]
  },
  {
   "cell_type": "code",
   "execution_count": null,
   "metadata": {},
   "outputs": [
    {
     "name": "stdout",
     "output_type": "stream",
     "text": [
      "\u001b[0mINFO:llama_index.query_engine.knowledge_graph_query_engine:Graph Store Query: MATCH (p:`entity`)-[:relationship]->(e:`entity`) WHERE p.`entity`.`name` == 'Peter Quill' RETURN e.`entity`.`name`;\n",
      "\u001b[32;1m\u001b[1;3mFinal Response: \n",
      "Peter Quill is a character associated with the Guardians of the Galaxy. He has an alternate version of Gamora as a grandfather and is part of the Guardians of the Galaxy.\n",
      "\u001b[0m"
     ]
    },
    {
     "data": {
      "text/markdown": [
       "<b>\n",
       "Peter Quill is a character associated with the Guardians of the Galaxy. He has an alternate version of Gamora as a grandfather and is part of the Guardians of the Galaxy.</b>"
      ],
      "text/plain": [
       "<IPython.core.display.Markdown object>"
      ]
     },
     "metadata": {},
     "output_type": "display_data"
    }
   ],
   "source": [
    "response = query_engine.query(\n",
    "    \"Tell me about Peter Quill?\",\n",
    ")\n",
    "display(Markdown(f\"<b>{response}</b>\"))"
   ]
  },
  {
   "cell_type": "markdown",
   "metadata": {},
   "source": [
    "Optionally, we could choose to synthesise answer from two retrieved context from Knowledge Graph:\n",
    "- Graph RAG, the default retrieval method, which extracts subgraph that's related to the key entities in the question.\n",
    "- NL2GraphQuery, generate Knowledge Graph Query based on query and the Schema of the Knowledge Graph, which is by default switched off. We need to set `with_nl2graphquery=True` to enable it."
   ]
  },
  {
   "cell_type": "code",
   "execution_count": 21,
   "metadata": {},
   "outputs": [
    {
     "name": "stdout",
     "output_type": "stream",
     "text": [
      "INFO:llama_index.query_engine.knowledge_graph_query_engine:\n",
      "Graph Store Query: MATCH (e:`entity`)-[r:`relationship`]->(e2:`entity`)\n",
      "WHERE e.`entity`.`name` == 'James Gunn'\n",
      "RETURN e2.`entity`.`name`\n",
      "INFO:llama_index.query_engine.knowledge_graph_query_engine:\n",
      "Graph Store Response: {'e2.entity.name': ['Guardians of the Galaxy', 'having basic story for Guardians', 'Disney', 'Marvel', 'Guardians of the Galaxy', 'controversial topics', 'pedophilia', 'rape']}\n",
      "\u001b[32;1m\u001b[1;3mFinal Response: James Gunn is a filmmaker who has written and directed the Guardians of the Galaxy films. He has also been involved in controversial topics such as pedophilia and rape. Gunn was fired by Marvel but later rehired as the director of the Guardians of the Galaxy film. He has also worked with Disney and Marvel on various projects.\n",
      "\u001b[0m"
     ]
    },
    {
     "data": {
      "text/markdown": [
       "<b>James Gunn is a filmmaker who has written and directed the Guardians of the Galaxy films. He has also been involved in controversial topics such as pedophilia and rape. Gunn was fired by Marvel but later rehired as the director of the Guardians of the Galaxy film. He has also worked with Disney and Marvel on various projects.</b>"
      ],
      "text/plain": [
       "<IPython.core.display.Markdown object>"
      ]
     },
     "metadata": {},
     "output_type": "display_data"
    }
   ],
   "source": [
    "query_engine_with_nl2graphquery = KnowledgeGraphRAGQueryEngine(\n",
    "    storage_context=storage_context,\n",
    "    service_context=service_context,\n",
    "    llm=llm,\n",
    "    verbose=True,\n",
    "    with_nl2graphquery=True,\n",
    ")\n",
    "\n",
    "response = query_engine_with_nl2graphquery.query(\n",
    "    \"Tell me about James Gunn?\",\n",
    ")\n",
    "display(Markdown(f\"<b>{response}</b>\"))"
   ]
  },
  {
   "cell_type": "markdown",
   "metadata": {},
   "source": [
    "And let's check the response's metadata to see:\n",
    "\n",
    "- The Graph RAG Generate a Cypher Query towards the answer:\n",
    "\n",
    "```cypher\n",
    "Graph Store Query: MATCH (e:`entity`)-[r:`relationship`]->(e2:`entity`)\n",
    "WHERE e.`entity`.`name` == 'James Gunn'\n",
    "RETURN e2.`entity`.`name`\n",
    "```\n",
    "- And also get subgraph of 'James Gunn'.\n",
    "\n",
    "Finally, it combined the two nodes of context, to systematize the answer."
   ]
  },
  {
   "cell_type": "code",
   "execution_count": 22,
   "metadata": {},
   "outputs": [
    {
     "data": {
      "text/plain": [
       "{'f08e6265-11e7-4bd8-a538-349e558132d1': {'query_str': 'Tell me about James Gunn?',\n",
       "  'graph_store_query': \"MATCH (e:`entity`)-[r:`relationship`]->(e2:`entity`)\\nWHERE e.`entity`.`name` == 'James Gunn'\\nRETURN e2.`entity`.`name`\",\n",
       "  'graph_store_response': {'e2.entity.name': ['Guardians of the Galaxy',\n",
       "    'having basic story for Guardians',\n",
       "    'Disney',\n",
       "    'Marvel',\n",
       "    'Guardians of the Galaxy',\n",
       "    'controversial topics',\n",
       "    'pedophilia',\n",
       "    'rape']},\n",
       "  'graph_schema': \"Node properties: [{'tag': 'entity', 'properties': [('name', 'string')]}]\\nEdge properties: [{'edge': 'relationship', 'properties': [('relationship', 'string')]}]\\nRelationships: ['(:entity)-[:relationship]->(:entity)']\\n\"},\n",
       " '89ebb1ff-7039-4fce-9bc3-4370cf314213': {'kg_rel_text': ['James James, Twitter feed, indefensible',\n",
       "   'Gunn Gunn, publicly revealed to have been rehired as director of, film, never met with or considered any other director for, film',\n",
       "   'Gunn Gunn, publicly revealed to have been rehired as director of, film, asked about role in, film',\n",
       "   'Gunn Gunn, opted to fill role with, High Evolutionary, cast as, High Evolutionary',\n",
       "   'Gunn Gunn, confirmed script for, Vol. 3, first MCU film to feature,  fuck  uncensored',\n",
       "   'Gunn Gunn, tweeted support, Gunn, issued statement, Gunn',\n",
       "   'Gunn Gunn, confirmed script for, Vol. 3',\n",
       "   'Gunn Gunn, publicly revealed to have been rehired as director of, film',\n",
       "   'Gunn Gunn, wrote cameo for, Kumail Nanjiani, removed cameo for, Kumail Nanjiani',\n",
       "   'Gunn Gunn, opted to fill role with, High Evolutionary, sought to, enhance living beings',\n",
       "   'Gunn Gunn, root work in, anger',\n",
       "   'Gunn Gunn, root work in, connection',\n",
       "   \"Gunn Gunn, initially considered to tell Rocket's origins in, team-up movie\",\n",
       "   'Gunn Gunn, mentioned, The Villainess',\n",
       "   'Gunn Gunn, portrayed, Kraglin',\n",
       "   'Gunn Gunn, issued statement, Gunn, tweeted support, Gunn',\n",
       "   'Gunn Gunn, began storyboarding, Vol. 3',\n",
       "   \"Gunn Gunn, felt stakes of, character's death\",\n",
       "   'Gunn Gunn, began meeting with, actors',\n",
       "   'Gunn Gunn, confirmed script for, Vol. 3, set after, Thor: Love and Thunder',\n",
       "   'Gunn Gunn, confirmed script for, Vol. 3, began storyboarding, Vol. 3',\n",
       "   'Gunn Gunn, discussed storyline with, Marvel',\n",
       "   'Gunn Gunn, root work in, love',\n",
       "   'Gunn Gunn, issued statement, Gunn',\n",
       "   'Gunn Gunn, discussed storyline with, Marvel, killed, Gamora',\n",
       "   'Gunn Gunn, wanted somebody who was, youthful',\n",
       "   'Gunn Gunn, removed cameo for, Kumail Nanjiani',\n",
       "   'Gunn Gunn, wrote cameo for, Kumail Nanjiani',\n",
       "   'Gunn Gunn, personally identifies with, Rocket, portrayed, Rocket',\n",
       "   'Gunn Gunn, planned to conclude, story of the team'],\n",
       "  'kg_rel_map': {'James': ['James, Twitter feed, indefensible'],\n",
       "   'Gunn': ['Gunn, publicly revealed to have been rehired as director of, film, never met with or considered any other director for, film',\n",
       "    'Gunn, publicly revealed to have been rehired as director of, film, asked about role in, film',\n",
       "    'Gunn, opted to fill role with, High Evolutionary, cast as, High Evolutionary',\n",
       "    'Gunn, confirmed script for, Vol. 3, first MCU film to feature,  fuck  uncensored',\n",
       "    'Gunn, tweeted support, Gunn, issued statement, Gunn',\n",
       "    'Gunn, confirmed script for, Vol. 3',\n",
       "    'Gunn, publicly revealed to have been rehired as director of, film',\n",
       "    'Gunn, wrote cameo for, Kumail Nanjiani, removed cameo for, Kumail Nanjiani',\n",
       "    'Gunn, opted to fill role with, High Evolutionary, sought to, enhance living beings',\n",
       "    'Gunn, root work in, anger',\n",
       "    'Gunn, root work in, connection',\n",
       "    \"Gunn, initially considered to tell Rocket's origins in, team-up movie\",\n",
       "    'Gunn, mentioned, The Villainess',\n",
       "    'Gunn, portrayed, Kraglin',\n",
       "    'Gunn, issued statement, Gunn, tweeted support, Gunn',\n",
       "    'Gunn, began storyboarding, Vol. 3',\n",
       "    \"Gunn, felt stakes of, character's death\",\n",
       "    'Gunn, began meeting with, actors',\n",
       "    'Gunn, confirmed script for, Vol. 3, set after, Thor: Love and Thunder',\n",
       "    'Gunn, confirmed script for, Vol. 3, began storyboarding, Vol. 3',\n",
       "    'Gunn, discussed storyline with, Marvel',\n",
       "    'Gunn, root work in, love',\n",
       "    'Gunn, issued statement, Gunn',\n",
       "    'Gunn, discussed storyline with, Marvel, killed, Gamora',\n",
       "    'Gunn, wanted somebody who was, youthful',\n",
       "    'Gunn, removed cameo for, Kumail Nanjiani',\n",
       "    'Gunn, wrote cameo for, Kumail Nanjiani',\n",
       "    'Gunn, personally identifies with, Rocket, portrayed, Rocket',\n",
       "    'Gunn, planned to conclude, story of the team',\n",
       "    'Gunn, personally identifies with, Rocket',\n",
       "    'Gunn, developed as, person',\n",
       "    'Gunn, confirmed, Vol. 3 to be his last Guardians film',\n",
       "    'Gunn, began storyboarding, Vol. 3, confirmed script for, Vol. 3',\n",
       "    'Gunn, discussed commitments with, Feige',\n",
       "    'Gunn, began filming, November 2021',\n",
       "    'Gunn, joined, Suicide Squad',\n",
       "    'Gunn, tweeted support, Gunn',\n",
       "    'Gunn, opted to fill role with, High Evolutionary',\n",
       "    'Gunn, portrayed, Kraglin, fires on, Arête',\n",
       "    'Gunn, began storyboarding, Vol. 3, cast in, Vol. 3',\n",
       "    'Gunn, began storyboarding, Vol. 3, first MCU film to feature,  fuck  uncensored',\n",
       "    'Gunn, removed cameo for, Kumail Nanjiani, wrote cameo for, Kumail Nanjiani',\n",
       "    'Gunn, confirmed script for, Vol. 3, cast in, Vol. 3',\n",
       "    'Gunn, discussed storyline with, Marvel, fired by, Marvel',\n",
       "    'Gunn, began storyboarding, Vol. 3, set after, Thor: Love and Thunder',\n",
       "    'Gunn, discussed storyline with, Marvel, not met, other director',\n",
       "    'Gunn, opted to fill role with, High Evolutionary, portrayed, High Evolutionary'],\n",
       "   'James Gunn': ['James Gunn, written and directed by, James Gunn, has, 82% approval rating',\n",
       "    'James Gunn, written and directed by, James Gunn, had world premiere at, Disneyland Paris',\n",
       "    'James Gunn, written and directed by, James Gunn, produced by, Marvel Studios',\n",
       "    'James Gunn, wrote, Guardians of the Galaxy, released in, 2014',\n",
       "    'James Gunn, written and directed by, James Gunn, released on, Disney+',\n",
       "    'James Gunn, written and directed by, James Gunn, grossed, $843.5 million',\n",
       "    'James Gunn, written and directed by, James Gunn, released with, variable frame rate',\n",
       "    'James Gunn, fired by, Marvel',\n",
       "    'James Gunn, written and directed by, James Gunn, released in, Dolby Cinema',\n",
       "    'James Gunn, directed, Guardians of the Galaxy, is leader of, Guardians of the Galaxy',\n",
       "    'James Gunn, written and directed by, James Gunn, grossed, $358.7 million',\n",
       "    'James Gunn, written and directed by, James Gunn, features, ensemble cast',\n",
       "    'James Gunn, written and directed by, James Gunn, sequel to, Guardians of the Galaxy Vol. 2',\n",
       "    'James Gunn, written and directed by, James Gunn, received nominations for, Best Teaser',\n",
       "    'James Gunn, written and directed by, James Gunn, grossed, $484.8 million',\n",
       "    'James Gunn, written and directed by, James Gunn, released in, United Kingdom',\n",
       "    'James Gunn, written and directed by, James Gunn, received nominations for, Best Summer 2023 Blockbuster Trailer',\n",
       "    'James Gunn, written and directed by, James Gunn, mission of, protect Rocket',\n",
       "    'James Gunn, written and directed by, James Gunn, has, 7.2/10 average rating',\n",
       "    'James Gunn, wrote, Guardians of the Galaxy, is leader of, Guardians of the Galaxy',\n",
       "    'James Gunn, severed ties with, James Gunn',\n",
       "    'James Gunn, tweets about, rape',\n",
       "    'James Gunn, written and directed by, James Gunn, released in, IMAX',\n",
       "    'James Gunn, tweets about, pedophilia',\n",
       "    'James Gunn, directed, Guardians of the Galaxy, released in, 2014',\n",
       "    'James Gunn, written and directed by, James Gunn, premiered at, Disneyland Paris',\n",
       "    'James Gunn, directed, Guardians of the Galaxy',\n",
       "    'James Gunn, written and directed by, James Gunn',\n",
       "    'James Gunn, written and directed by, James Gunn, released on, Blu-ray',\n",
       "    'James Gunn, stated, having basic story for Guardians',\n",
       "    'James Gunn, directed, Guardians of the Galaxy, sequel to, Guardians of the Galaxy',\n",
       "    'James Gunn, written and directed by, James Gunn, released on, Ultra HD Blu-ray',\n",
       "    'James Gunn, fired by, Disney, changed mind of, Horn',\n",
       "    'James Gunn, written and directed by, James Gunn, is, American superhero film',\n",
       "    'James Gunn, fired by, Disney, not planning, rehire Gunn',\n",
       "    'James Gunn, had made, controversial topics',\n",
       "    'James Gunn, fired by, Marvel, killed, Gamora',\n",
       "    'James Gunn, wrote, Guardians of the Galaxy, directed, Guardians of the Galaxy',\n",
       "    'James Gunn, fired by, Marvel, discussed storyline with, Marvel',\n",
       "    'James Gunn, fired by, Marvel, not met, other director',\n",
       "    'James Gunn, written and directed by, James Gunn, received nominations for, Best Picture',\n",
       "    'James Gunn, wrote, Guardians of the Galaxy, sequel to, Guardians of the Galaxy',\n",
       "    'James Gunn, written and directed by, James Gunn, sequel to, Guardians of the Galaxy',\n",
       "    'James Gunn, wrote, Guardians of the Galaxy',\n",
       "    'James Gunn, written and directed by, James Gunn, released on, digital download',\n",
       "    'James Gunn, directed, Guardians of the Galaxy, wrote, Guardians of the Galaxy',\n",
       "    'James Gunn, written and directed by, James Gunn, released in, United States',\n",
       "    'James Gunn, written and directed by, James Gunn, released in, ScreenX',\n",
       "    'James Gunn, written and directed by, James Gunn, part of, Marvel Cinematic Universe',\n",
       "    'James Gunn, written and directed by, James Gunn, part of, Phase Five of MCU',\n",
       "    'James Gunn, fired by, Disney',\n",
       "    'James Gunn, written and directed by, James Gunn, is, fantasy adventure',\n",
       "    'James Gunn, written and directed by, James Gunn, released in, 3D',\n",
       "    'James Gunn, written and directed by, James Gunn, released in, 4DX',\n",
       "    'James Gunn, written and directed by, James Gunn, released on, DVD',\n",
       "    'James Gunn, written and directed by, James Gunn, distributed by, Walt Disney Studios Motion Pictures']}}}"
      ]
     },
     "execution_count": 22,
     "metadata": {},
     "output_type": "execute_result"
    }
   ],
   "source": [
    "response.metadata"
   ]
  }
 ],
 "metadata": {
  "kernelspec": {
   "display_name": "Python 3 (ipykernel)",
   "language": "python",
   "name": "python3"
  },
  "language_info": {
   "codemirror_mode": {
    "name": "ipython",
    "version": 3
   },
   "file_extension": ".py",
   "mimetype": "text/x-python",
   "name": "python",
   "nbconvert_exporter": "python",
   "pygments_lexer": "ipython3",
   "version": "3.11.4"
  }
 },
 "nbformat": 4,
 "nbformat_minor": 2
}
