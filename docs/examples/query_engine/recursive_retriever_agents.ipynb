{
 "cells": [
  {
   "cell_type": "markdown",
   "id": "43497beb-817d-4366-9156-f4d7f0d44942",
   "metadata": {
    "tags": []
   },
   "source": [
    "# Recursive Retriever + Document Agents\n",
    "\n",
    "TODO: "
   ]
  },
  {
   "cell_type": "code",
   "execution_count": 1,
   "id": "e41e9905-77a9-44c5-88ac-c7a4d08a4612",
   "metadata": {
    "tags": []
   },
   "outputs": [],
   "source": [
    "from llama_index import (\n",
    "    VectorStoreIndex,\n",
    "    ListIndex,\n",
    "    SimpleKeywordTableIndex,\n",
    "    SimpleDirectoryReader,\n",
    "    ServiceContext,\n",
    ")\n",
    "from llama_index.schema import IndexNode\n",
    "from llama_index.tools import QueryEngineTool, ToolMetadata\n",
    "from llama_index.llms import OpenAI\n",
    "from llama_index.callbacks import CallbackManager"
   ]
  },
  {
   "cell_type": "code",
   "execution_count": 2,
   "id": "e4343cf7-eec9-4a67-b5be-c72dbe3280a7",
   "metadata": {
    "tags": []
   },
   "outputs": [],
   "source": [
    "wiki_titles = [\"Toronto\", \"Seattle\", \"Chicago\", \"Boston\", \"Houston\"]"
   ]
  },
  {
   "cell_type": "code",
   "execution_count": 3,
   "id": "6d261882-6793-4eca-ad93-d94d2061e388",
   "metadata": {
    "tags": []
   },
   "outputs": [],
   "source": [
    "from pathlib import Path\n",
    "\n",
    "import requests\n",
    "\n",
    "for title in wiki_titles:\n",
    "    response = requests.get(\n",
    "        \"https://en.wikipedia.org/w/api.php\",\n",
    "        params={\n",
    "            \"action\": \"query\",\n",
    "            \"format\": \"json\",\n",
    "            \"titles\": title,\n",
    "            \"prop\": \"extracts\",\n",
    "            # 'exintro': True,\n",
    "            \"explaintext\": True,\n",
    "        },\n",
    "    ).json()\n",
    "    page = next(iter(response[\"query\"][\"pages\"].values()))\n",
    "    wiki_text = page[\"extract\"]\n",
    "\n",
    "    data_path = Path(\"data\")\n",
    "    if not data_path.exists():\n",
    "        Path.mkdir(data_path)\n",
    "\n",
    "    with open(data_path / f\"{title}.txt\", \"w\") as fp:\n",
    "        fp.write(wiki_text)"
   ]
  },
  {
   "cell_type": "code",
   "execution_count": 4,
   "id": "5bf0c13b-0d77-43e8-8c1c-84258299a494",
   "metadata": {
    "tags": []
   },
   "outputs": [],
   "source": [
    "# Load all wiki documents\n",
    "city_docs = {}\n",
    "for wiki_title in wiki_titles:\n",
    "    city_docs[wiki_title] = SimpleDirectoryReader(\n",
    "        input_files=[f\"data/{wiki_title}.txt\"]\n",
    "    ).load_data()"
   ]
  },
  {
   "cell_type": "markdown",
   "id": "6189aaf4-2eb7-40bc-9e83-79ce4f221b4b",
   "metadata": {},
   "source": [
    "Define LLM + Service Context + Callback Manager"
   ]
  },
  {
   "cell_type": "code",
   "execution_count": 5,
   "id": "dd6e5e48-91b9-4701-a85d-d98c92323350",
   "metadata": {
    "tags": []
   },
   "outputs": [
    {
     "name": "stdout",
     "output_type": "stream",
     "text": [
      "INITIALIZING CALLBACK MANAGER\n",
      "INITIALIZING CALLBACK MANAGER\n",
      "INITIALIZING CALLBACK MANAGER\n"
     ]
    }
   ],
   "source": [
    "llm = OpenAI(temperature=0, model=\"gpt-3.5-turbo\")\n",
    "callback_manager = CallbackManager([])\n",
    "# TMP\n",
    "callback_manager.id = \"testing\"\n",
    "\n",
    "service_context = ServiceContext.from_defaults(llm=llm, callback_manager=callback_manager)"
   ]
  },
  {
   "cell_type": "markdown",
   "id": "976cd798-2e8d-474c-922a-51b12c5c6f36",
   "metadata": {},
   "source": [
    "## Build Document Agent for each Document\n",
    "\n",
    "This document agent can dynamically choose to perform semantic search or summarization within a given document.\n",
    "\n",
    "We create a separate document agent for each city."
   ]
  },
  {
   "cell_type": "code",
   "execution_count": 6,
   "id": "eacdf3a7-cfe3-4c2b-9037-b28a065ed148",
   "metadata": {
    "tags": []
   },
   "outputs": [
    {
     "name": "stdout",
     "output_type": "stream",
     "text": [
      "STARTING TRACE: ('index_construction', [])\n",
      "on event start, global trace stack: ['root', '60590c9b-6b8d-469e-a932-ee45b9c2c7d6']\n",
      "on event end, global trace stack: ['root']\n",
      "STARTING TRACE: ('index_construction', ['index_construction'])\n",
      "ENDING TRACE: ('index_construction', ['index_construction', 'index_construction'])\n",
      "ENDING TRACE: ('index_construction', ['index_construction'])\n",
      "STARTING TRACE: ('index_construction', [])\n",
      "on event start, global trace stack: ['root', 'ee12d516-dd2a-4088-80b1-a3fc28d16443']\n",
      "on event end, global trace stack: ['root']\n",
      "STARTING TRACE: ('index_construction', ['index_construction'])\n",
      "ENDING TRACE: ('index_construction', ['index_construction', 'index_construction'])\n",
      "ENDING TRACE: ('index_construction', ['index_construction'])\n",
      "INITIALIZING CALLBACK MANAGER\n",
      "STARTING TRACE: ('index_construction', [])\n",
      "on event start, global trace stack: ['root', 'b862aed4-e343-4098-ab12-d19f9e01a2bb']\n",
      "on event end, global trace stack: ['root']\n",
      "STARTING TRACE: ('index_construction', ['index_construction'])\n",
      "ENDING TRACE: ('index_construction', ['index_construction', 'index_construction'])\n",
      "ENDING TRACE: ('index_construction', ['index_construction'])\n",
      "STARTING TRACE: ('index_construction', [])\n",
      "on event start, global trace stack: ['root', '74dd85e9-f183-40bd-9d52-0056df3a4b24']\n",
      "on event end, global trace stack: ['root']\n",
      "STARTING TRACE: ('index_construction', ['index_construction'])\n",
      "ENDING TRACE: ('index_construction', ['index_construction', 'index_construction'])\n",
      "ENDING TRACE: ('index_construction', ['index_construction'])\n",
      "INITIALIZING CALLBACK MANAGER\n",
      "STARTING TRACE: ('index_construction', [])\n",
      "on event start, global trace stack: ['root', 'b22843c1-0e01-41dd-bc5c-2bfe7e2ac41a']\n",
      "on event end, global trace stack: ['root']\n",
      "STARTING TRACE: ('index_construction', ['index_construction'])\n",
      "ENDING TRACE: ('index_construction', ['index_construction', 'index_construction'])\n",
      "ENDING TRACE: ('index_construction', ['index_construction'])\n",
      "STARTING TRACE: ('index_construction', [])\n",
      "on event start, global trace stack: ['root', 'f9c1d575-2499-4a2a-a2c7-b16cbf4ab8dc']\n",
      "on event end, global trace stack: ['root']\n",
      "STARTING TRACE: ('index_construction', ['index_construction'])\n",
      "ENDING TRACE: ('index_construction', ['index_construction', 'index_construction'])\n",
      "ENDING TRACE: ('index_construction', ['index_construction'])\n",
      "INITIALIZING CALLBACK MANAGER\n",
      "STARTING TRACE: ('index_construction', [])\n",
      "on event start, global trace stack: ['root', 'd44b39ed-72e2-4e40-85ea-c8ad5d93c1af']\n",
      "on event end, global trace stack: ['root']\n",
      "STARTING TRACE: ('index_construction', ['index_construction'])\n",
      "ENDING TRACE: ('index_construction', ['index_construction', 'index_construction'])\n",
      "ENDING TRACE: ('index_construction', ['index_construction'])\n",
      "STARTING TRACE: ('index_construction', [])\n",
      "on event start, global trace stack: ['root', '7c464ee4-0e5e-4d40-9021-5517eebf692e']\n",
      "on event end, global trace stack: ['root']\n",
      "STARTING TRACE: ('index_construction', ['index_construction'])\n",
      "ENDING TRACE: ('index_construction', ['index_construction', 'index_construction'])\n",
      "ENDING TRACE: ('index_construction', ['index_construction'])\n",
      "INITIALIZING CALLBACK MANAGER\n",
      "STARTING TRACE: ('index_construction', [])\n",
      "on event start, global trace stack: ['root', '82bc2812-5577-4661-baef-d0b98d189ac4']\n",
      "on event end, global trace stack: ['root']\n",
      "STARTING TRACE: ('index_construction', ['index_construction'])\n",
      "ENDING TRACE: ('index_construction', ['index_construction', 'index_construction'])\n",
      "ENDING TRACE: ('index_construction', ['index_construction'])\n",
      "STARTING TRACE: ('index_construction', [])\n",
      "on event start, global trace stack: ['root', 'ce7cd9c3-0822-434f-acf8-03b72a37d180']\n",
      "on event end, global trace stack: ['root']\n",
      "STARTING TRACE: ('index_construction', ['index_construction'])\n",
      "ENDING TRACE: ('index_construction', ['index_construction', 'index_construction'])\n",
      "ENDING TRACE: ('index_construction', ['index_construction'])\n",
      "INITIALIZING CALLBACK MANAGER\n"
     ]
    }
   ],
   "source": [
    "from llama_index.agent import OpenAIAgent\n",
    "\n",
    "# Build agents dictionary\n",
    "agents = {}\n",
    "\n",
    "for wiki_title in wiki_titles:\n",
    "    # build vector index\n",
    "    vector_index = VectorStoreIndex.from_documents(\n",
    "        city_docs[wiki_title], service_context=service_context\n",
    "    )\n",
    "    # build list index\n",
    "    list_index = ListIndex.from_documents(\n",
    "        city_docs[wiki_title], service_context=service_context\n",
    "    )\n",
    "    # define query engines\n",
    "    vector_query_engine = vector_index.as_query_engine(callback_manager=callback_manager)\n",
    "    list_query_engine = list_index.as_query_engine(callback_manager=callback_manager)\n",
    "    \n",
    "    # define tools\n",
    "    query_engine_tools = [\n",
    "        QueryEngineTool(\n",
    "            query_engine=vector_query_engine,\n",
    "            metadata=ToolMetadata(\n",
    "                name=\"vector_tool\",\n",
    "                description=f\"Useful for summarization questions related to {wiki_title}\"\n",
    "            ),\n",
    "        ),\n",
    "        QueryEngineTool(\n",
    "            query_engine=list_query_engine,\n",
    "            metadata=ToolMetadata(\n",
    "                name=\"summary_tool\",\n",
    "                description=f\"Useful for retrieving specific context from {wiki_title}\"\n",
    "            ),\n",
    "        ),\n",
    "    ]\n",
    "    \n",
    "    # build agent\n",
    "    function_llm = OpenAI(model=\"gpt-3.5-turbo-0613\")\n",
    "    agent = OpenAIAgent.from_tools(\n",
    "        query_engine_tools, llm=function_llm, verbose=True,\n",
    "        callback_manager=callback_manager\n",
    "    )\n",
    "    \n",
    "    agents[wiki_title] = agent    \n",
    "    \n",
    "    "
   ]
  },
  {
   "cell_type": "markdown",
   "id": "899ca55b-0c02-429b-a765-8e4f806d503f",
   "metadata": {},
   "source": [
    "## Build Recursive Retriever over these Agents"
   ]
  },
  {
   "cell_type": "code",
   "execution_count": 7,
   "id": "6884ff15-bf40-4bdd-a1e3-58cbd056a12a",
   "metadata": {
    "tags": []
   },
   "outputs": [],
   "source": [
    "# define top-level nodes\n",
    "nodes = []\n",
    "for wiki_title in wiki_titles:\n",
    "    # define index node that links to these agents\n",
    "    wiki_summary = (\n",
    "        f\"This content contains Wikipedia articles about {wiki_title}. \"\n",
    "        f\"Use this index if you need to lookup specific facts about {wiki_title}.\\n\"\n",
    "        \"Do not use this index if you want to analyze multiple cities.\"\n",
    "    )\n",
    "    node = IndexNode(text=wiki_summary, index_id=wiki_title)\n",
    "    nodes.append(node)\n"
   ]
  },
  {
   "cell_type": "code",
   "execution_count": 8,
   "id": "3eabd221-3c24-468b-9dbe-19689faf57fc",
   "metadata": {
    "tags": []
   },
   "outputs": [
    {
     "name": "stdout",
     "output_type": "stream",
     "text": [
      "INITIALIZING CALLBACK MANAGER\n",
      "INITIALIZING CALLBACK MANAGER\n",
      "INITIALIZING CALLBACK MANAGER\n",
      "STARTING TRACE: ('index_construction', [])\n",
      "ENDING TRACE: ('index_construction', ['index_construction'])\n"
     ]
    }
   ],
   "source": [
    "# define top-level retriever\n",
    "vector_index = VectorStoreIndex(nodes)\n",
    "vector_retriever = vector_index.as_retriever(similarity_top_k=1, callback_manager=callback_manager)"
   ]
  },
  {
   "cell_type": "code",
   "execution_count": 9,
   "id": "f820fc10-66df-4cbe-b907-71d7fff73a71",
   "metadata": {
    "tags": []
   },
   "outputs": [],
   "source": [
    "# define recursive retriever\n",
    "from llama_index.retrievers import RecursiveRetriever\n",
    "from llama_index.query_engine import RetrieverQueryEngine\n",
    "from llama_index.response_synthesizers import get_response_synthesizer"
   ]
  },
  {
   "cell_type": "code",
   "execution_count": 10,
   "id": "b36124b4-cf58-4fc6-bccd-647a73f72af1",
   "metadata": {
    "tags": []
   },
   "outputs": [],
   "source": [
    "# note: can pass `agents` dict as `query_engine_dict` since every agent can be used as a query engine\n",
    "recursive_retriever = RecursiveRetriever(\n",
    "    \"vector\",\n",
    "    retriever_dict={\"vector\": vector_retriever},\n",
    "    query_engine_dict=agents,\n",
    "    verbose=True,\n",
    "    callback_manager=callback_manager\n",
    ")"
   ]
  },
  {
   "cell_type": "markdown",
   "id": "85dc98fe-45ff-463b-9a70-8146a9051b28",
   "metadata": {
    "tags": []
   },
   "source": [
    "#### Define Full Query Engine \n",
    "\n",
    "This query engine uses the recursive retriever + response synthesis module to synthesize a response."
   ]
  },
  {
   "cell_type": "code",
   "execution_count": 14,
   "id": "9b95e8a8-4fa6-4977-a8f4-ea100e3107ed",
   "metadata": {
    "tags": []
   },
   "outputs": [
    {
     "name": "stdout",
     "output_type": "stream",
     "text": [
      "INITIALIZING CALLBACK MANAGER\n",
      "INITIALIZING CALLBACK MANAGER\n"
     ]
    }
   ],
   "source": [
    "response_synthesizer = get_response_synthesizer(\n",
    "    # service_context=service_context,\n",
    "    response_mode=\"compact\",\n",
    "    callback_manager=callback_manager\n",
    ")\n",
    "query_engine = RetrieverQueryEngine.from_args(\n",
    "    recursive_retriever, response_synthesizer=response_synthesizer,\n",
    "    service_context=service_context\n",
    ")"
   ]
  },
  {
   "cell_type": "code",
   "execution_count": 15,
   "id": "1fd5237f-736c-4c1e-a0d7-adcbed64bddb",
   "metadata": {
    "tags": []
   },
   "outputs": [],
   "source": [
    "# agents[\"Boston\"].query(\"Tell me about the sports teams in Boston\")"
   ]
  },
  {
   "cell_type": "code",
   "execution_count": 16,
   "id": "8e743c62-7dd8-4ac9-85a5-f1cbc112a79c",
   "metadata": {
    "tags": []
   },
   "outputs": [
    {
     "name": "stdout",
     "output_type": "stream",
     "text": [
      "starting query engine, callback id: testing\n",
      "STARTING TRACE: ('query', [])\n",
      "on event start, global trace stack: ['root', '87b4614d-759e-42bc-99ad-cf90848bee2f']\n",
      "before retrieve: ['root', '87b4614d-759e-42bc-99ad-cf90848bee2f']\n",
      "on event start, global trace stack: ['root', '87b4614d-759e-42bc-99ad-cf90848bee2f', '036788b9-5e76-4361-9b9c-25a606539542']\n",
      "\u001b[36;1m\u001b[1;3mRetrieving with query id None: Tell me about the sports teams in Boston\n",
      "\u001b[0mon event start, global trace stack: ['root', '87b4614d-759e-42bc-99ad-cf90848bee2f', '036788b9-5e76-4361-9b9c-25a606539542', '86038214-e6c7-443b-8046-73fc46b922c5']\n",
      "on event end, global trace stack: ['root', '87b4614d-759e-42bc-99ad-cf90848bee2f', '036788b9-5e76-4361-9b9c-25a606539542']\n",
      "\u001b[38;5;200m\u001b[1;3mRetrieved node with id, entering: Boston\n",
      "\u001b[0m\u001b[36;1m\u001b[1;3mRetrieving with query id Boston: Tell me about the sports teams in Boston\n",
      "\u001b[0mstarting query engine, callback id: testing\n",
      "STARTING TRACE: ('query', ['query'])\n",
      "STARTING TRACE: ('query', ['query', 'query'])\n",
      "STARTING TRACE: ('chat', ['query', 'query', 'query'])\n",
      "=== Calling Function ===\n",
      "Calling function: vector_tool with args: {\n",
      "  \"input\": \"Boston sports teams\"\n",
      "}\n",
      "starting query engine, callback id: testing\n",
      "STARTING TRACE: ('query', ['query', 'query', 'query', 'chat'])\n",
      "on event start, global trace stack: ['root', '87b4614d-759e-42bc-99ad-cf90848bee2f', '036788b9-5e76-4361-9b9c-25a606539542', '8c59a075-4da2-49b7-a843-a18585f0748e']\n",
      "before retrieve: ['root', '87b4614d-759e-42bc-99ad-cf90848bee2f', '036788b9-5e76-4361-9b9c-25a606539542', '8c59a075-4da2-49b7-a843-a18585f0748e']\n",
      "on event start, global trace stack: ['root', '87b4614d-759e-42bc-99ad-cf90848bee2f', '036788b9-5e76-4361-9b9c-25a606539542', '8c59a075-4da2-49b7-a843-a18585f0748e', '3d8a6c24-0de0-4b4b-bc9a-f9a7104548f5']\n",
      "on event end, global trace stack: ['root', '87b4614d-759e-42bc-99ad-cf90848bee2f', '036788b9-5e76-4361-9b9c-25a606539542', '8c59a075-4da2-49b7-a843-a18585f0748e']\n",
      "after retrieve: ['root', '87b4614d-759e-42bc-99ad-cf90848bee2f', '036788b9-5e76-4361-9b9c-25a606539542', '8c59a075-4da2-49b7-a843-a18585f0748e']\n",
      "on event start, global trace stack: ['root', '87b4614d-759e-42bc-99ad-cf90848bee2f', '036788b9-5e76-4361-9b9c-25a606539542', '8c59a075-4da2-49b7-a843-a18585f0748e', '420775cc-2996-44be-97de-a3cba9aa49a7']\n",
      "INITIALIZING CALLBACK MANAGER\n",
      "INITIALIZING CALLBACK MANAGER\n",
      "on event end, global trace stack: ['root', '87b4614d-759e-42bc-99ad-cf90848bee2f', '036788b9-5e76-4361-9b9c-25a606539542', '8c59a075-4da2-49b7-a843-a18585f0748e']\n",
      "on event end, global trace stack: ['root', '87b4614d-759e-42bc-99ad-cf90848bee2f', '036788b9-5e76-4361-9b9c-25a606539542']\n",
      "ENDING TRACE: ('query', ['query', 'query', 'query', 'chat', 'query'])\n",
      "Got output: Boston has teams in the four major North American men's professional sports leagues: Major League Baseball (MLB), National Football League (NFL), National Basketball Association (NBA), and National Hockey League (NHL). The city is home to the Boston Red Sox (MLB), New England Patriots (NFL), Boston Celtics (NBA), and Boston Bruins (NHL). These teams have collectively won 39 championships in their respective leagues. Additionally, Boston has a Major League Soccer (MLS) team called the New England Revolution.\n",
      "========================\n",
      "ENDING TRACE: ('chat', ['query', 'query', 'query', 'chat'])\n",
      "ENDING TRACE: ('query', ['query', 'query', 'query'])\n",
      "ENDING TRACE: ('query', ['query', 'query'])\n",
      "\u001b[32;1m\u001b[1;3mGot response: Boston is home to several professional sports teams in the major North American leagues. Here are the teams:\n",
      "\n",
      "1. Boston Red Sox (MLB): The Red Sox are one of the oldest and most successful baseball teams in MLB. They have won multiple World Series championships, including recent victories in 2004, 2007, 2013, and 2018.\n",
      "\n",
      "2. New England Patriots (NFL): The Patriots are one of the most successful teams in NFL history. Led by legendary quarterback Tom Brady, they have won six Super Bowl championships, including victories in 2001, 2003, 2004, 2014, 2016, and 2018.\n",
      "\n",
      "3. Boston Celtics (NBA): The Celtics are one of the most storied franchises in NBA history. They have won a record 17 NBA championships, including notable victories in the 1960s and recent success in 2008.\n",
      "\n",
      "4. Boston Bruins (NHL): The Bruins are a successful NHL team with a passionate fan base. They have won six Stanley Cup championships, with victories in 1929, 1939, 1941, 1970, 1972, and 2011.\n",
      "\n",
      "In addition to these major sports teams, Boston also has a Major League Soccer (MLS) team called the New England Revolution. The Revolution play their home games at Gillette Stadium in Foxborough, Massachusetts.\n",
      "\n",
      "Overall, Boston has a rich sports culture and a history of success in various sports leagues. The city's teams have a dedicated fan base and are an integral part of the local community.\n",
      "\u001b[0mon event end, global trace stack: ['root', '87b4614d-759e-42bc-99ad-cf90848bee2f']\n",
      "after retrieve: ['root', '87b4614d-759e-42bc-99ad-cf90848bee2f']\n",
      "on event start, global trace stack: ['root', '87b4614d-759e-42bc-99ad-cf90848bee2f', '5fed7117-c6cf-4c63-8cfc-a0ab16b8f223']\n",
      "INITIALIZING CALLBACK MANAGER\n",
      "INITIALIZING CALLBACK MANAGER\n",
      "on event end, global trace stack: ['root', '87b4614d-759e-42bc-99ad-cf90848bee2f']\n",
      "on event end, global trace stack: ['root']\n",
      "ENDING TRACE: ('query', ['query'])\n"
     ]
    }
   ],
   "source": [
    "# should use Boston agent -> vector tool\n",
    "response = query_engine.query(\n",
    "    \"Tell me about the sports teams in Boston\"\n",
    ")"
   ]
  },
  {
   "cell_type": "code",
   "execution_count": 18,
   "id": "a4ce2a76-5779-4acf-9337-69109dae7fd6",
   "metadata": {
    "tags": []
   },
   "outputs": [
    {
     "name": "stdout",
     "output_type": "stream",
     "text": [
      "Boston is home to several professional sports teams in the major North American leagues. The city has teams in MLB, NFL, NBA, and NHL. The Boston Red Sox are a successful baseball team with multiple World Series championships. The New England Patriots are a dominant NFL team with six Super Bowl championships. The Boston Celtics have a rich history in the NBA, winning a record 17 NBA championships. The Boston Bruins are a successful NHL team with six Stanley Cup championships. Additionally, Boston has a Major League Soccer team called the New England Revolution. Overall, Boston has a strong sports culture and its teams have a dedicated fan base.\n"
     ]
    }
   ],
   "source": [
    "print(response)"
   ]
  },
  {
   "cell_type": "code",
   "execution_count": 32,
   "id": "711d7b65-9740-407f-8d49-0d8c47e94552",
   "metadata": {
    "tags": []
   },
   "outputs": [
    {
     "data": {
      "text/plain": [
       "[]"
      ]
     },
     "execution_count": 32,
     "metadata": {},
     "output_type": "execute_result"
    }
   ],
   "source": [
    "from llama_index.callbacks.base import global_stack_trace\n",
    "\n",
    "global_stack_trace"
   ]
  },
  {
   "cell_type": "code",
   "execution_count": null,
   "id": "aa3d98ab-cb82-4473-ab2b-bc8a17e1b86a",
   "metadata": {},
   "outputs": [],
   "source": [
    "# should use Houston agent -> vector tool\n",
    "response = query_engine.query(\n",
    "    \"Tell me about the sports teams in Houston\"\n",
    ")"
   ]
  },
  {
   "cell_type": "code",
   "execution_count": null,
   "id": "ee6ef20c-3ccc-46c3-ad87-667138d78d5d",
   "metadata": {},
   "outputs": [],
   "source": [
    "# should use Seattle agent -> summary tool \n",
    "response = query_engine.query(\n",
    "    \"Tell me about all the positive aspects of Chicago; write a song about it\"\n",
    ")"
   ]
  }
 ],
 "metadata": {
  "kernelspec": {
   "display_name": "llama_index_v2",
   "language": "python",
   "name": "llama_index_v2"
  },
  "language_info": {
   "codemirror_mode": {
    "name": "ipython",
    "version": 3
   },
   "file_extension": ".py",
   "mimetype": "text/x-python",
   "name": "python",
   "nbconvert_exporter": "python",
   "pygments_lexer": "ipython3",
   "version": "3.10.10"
  }
 },
 "nbformat": 4,
 "nbformat_minor": 5
}
