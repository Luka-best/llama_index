{
 "cells": [
  {
   "cell_type": "markdown",
   "id": "f866cc0a-460e-4dbf-91b7-f541a4c0eda6",
   "metadata": {
    "tags": []
   },
   "source": [
    "# FLARE Query Engine\n",
    "\n",
    "Adapted from the paper \"Active Retrieval Augmented Generation\"\n",
    "\n",
    "Currently implements FLARE Instruct, which tells the LLM to generate retrieval instructions."
   ]
  },
  {
   "cell_type": "code",
   "execution_count": 1,
   "id": "920e6742-5296-46ed-83f5-8b0d999b88a3",
   "metadata": {
    "tags": []
   },
   "outputs": [
    {
     "name": "stderr",
     "output_type": "stream",
     "text": [
      "/Users/jerryliu/Programming/gpt_index/.venv/lib/python3.10/site-packages/tqdm/auto.py:21: TqdmWarning: IProgress not found. Please update jupyter and ipywidgets. See https://ipywidgets.readthedocs.io/en/stable/user_install.html\n",
      "  from .autonotebook import tqdm as notebook_tqdm\n"
     ]
    }
   ],
   "source": [
    "import os\n",
    "from langchain.llms import OpenAI\n",
    "from langchain.chat_models import ChatOpenAI\n",
    "from llama_index.query_engine import FLAREInstructQueryEngine\n",
    "from llama_index import (\n",
    "    VectorStoreIndex,\n",
    "    SimpleDirectoryReader,\n",
    "    StorageContext,\n",
    "    LLMPredictor,\n",
    "    ServiceContext,\n",
    ")"
   ]
  },
  {
   "cell_type": "code",
   "execution_count": 2,
   "id": "507256f4-7831-4ad3-8bdd-c19ad6623d6d",
   "metadata": {
    "tags": []
   },
   "outputs": [],
   "source": [
    "service_context = ServiceContext.from_defaults(\n",
    "    llm_predictor=LLMPredictor(llm=ChatOpenAI(model_name='gpt-3.5-turbo', temperature=0)),\n",
    "    chunk_size=512\n",
    ")"
   ]
  },
  {
   "cell_type": "code",
   "execution_count": 3,
   "id": "5dac4df9-a42f-4cc5-a708-542e3c33f3d2",
   "metadata": {
    "tags": []
   },
   "outputs": [],
   "source": [
    "documents = SimpleDirectoryReader(\"../data/paul_graham\").load_data()\n",
    "index = VectorStoreIndex.from_documents(documents, service_context=service_context)"
   ]
  },
  {
   "cell_type": "code",
   "execution_count": 4,
   "id": "8a749d71-2ad5-4ee3-aa1e-48e9567b706d",
   "metadata": {
    "tags": []
   },
   "outputs": [],
   "source": [
    "index_query_engine = index.as_query_engine(similarity_top_k=2)"
   ]
  },
  {
   "cell_type": "code",
   "execution_count": 5,
   "id": "91fcdbcd-f0f6-4580-9016-d89394e05aab",
   "metadata": {
    "tags": []
   },
   "outputs": [],
   "source": [
    "flare_query_engine = FLAREInstructQueryEngine(\n",
    "    query_engine=index_query_engine,\n",
    "    service_context=service_context,\n",
    "    verbose=True\n",
    ")"
   ]
  },
  {
   "cell_type": "code",
   "execution_count": 6,
   "id": "6a6dcb43-8854-481a-8d6e-62e2c355b72c",
   "metadata": {
    "tags": []
   },
   "outputs": [
    {
     "data": {
      "text/plain": [
       "<llama_index.query_engine.flare_query_engine.FLAREInstructQueryEngine at 0x132b2b8e0>"
      ]
     },
     "execution_count": 6,
     "metadata": {},
     "output_type": "execute_result"
    }
   ],
   "source": [
    "flare_query_engine"
   ]
  },
  {
   "cell_type": "code",
   "execution_count": 7,
   "id": "e1ca238e-884b-4221-b3a8-0bb106fa0de9",
   "metadata": {
    "tags": []
   },
   "outputs": [
    {
     "name": "stdout",
     "output_type": "stream",
     "text": [
      "\u001b[32;1m\u001b[1;3mQuery: Can you tell me about the author's trajectory in the startup world?\n",
      "\u001b[0m\u001b[36;1m\u001b[1;3mCurrent response: \n",
      "\u001b[0m\u001b[38;5;200m\u001b[1;3mLookahead response: The author began his career in the startup world by [Search(What was the author's first startup venture?)]. After that, he went on to [Search(What other startups did the author work on?)]. He eventually became a successful entrepreneur, founding his own company [Search(What is the name of the author's company?)].\n",
      "\u001b[0mSearch(What was the author's first startup venture?)\n",
      "Search(What other startups did the author work on?)\n",
      "Search(What is the name of the author's company?)\n",
      "Search(What was the author's first startup venture?)\n",
      "Search(What other startups did the author work on?)\n",
      "Search(What is the name of the author's company?)\n",
      "\u001b[38;5;200m\u001b[1;3mUpdated lookahead response: The author began his career in the startup world by \n",
      "\u001b[0m\u001b[36;1m\u001b[1;3mCurrent response:  The author began his career in the startup world by\n",
      "\u001b[0m\u001b[38;5;200m\u001b[1;3mLookahead response: [Search(How did the author start his career in the startup world?)]. He then went on to found his own startup, which [Search(What was the author's startup and what did it do?)]. After the success of his startup, the author became a well-known figure in the startup community and began [Search(What other activities did the author engage in within the startup world?)].\n",
      "\u001b[0mSearch(How did the author start his career in the startup world?)\n",
      "Search(What was the author's startup and what did it do?)\n",
      "Search(What other activities did the author engage in within the startup world?)\n",
      "\u001b[38;5;200m\u001b[1;3mUpdated lookahead response: is career in the startup world by writing essays about different topics, working on spam filters, and hosting dinners for friends. He then went on to found Y Combinator, a startup accelerator that funds and mentors early-stage startups. After the success of his startup, the author became a well-known figure in the startup community and began engaging in various other activities within the startup world.\n",
      "\u001b[0m\u001b[36;1m\u001b[1;3mCurrent response: The author began his career in the startup world by is career in the startup world by writing essays about different topics, working on spam filters, and hosting dinners for friends. He then went on to found Y Combinator, a startup accelerator that funds and mentors early-stage startups. After the success of his startup, the author became a well-known figure in the startup community and began engaging in various other activities within the startup world.\n",
      "\u001b[0m\u001b[38;5;200m\u001b[1;3mLookahead response: [Search(What did the author do after founding Y Combinator?)]\n",
      "\u001b[0mSearch(What did the author do after founding Y Combinator?)\n",
      "\u001b[38;5;200m\u001b[1;3mUpdated lookahead response: . The author continued to work on other things, including hacking and writing essays, but Y Combinator started to take up more of their attention. They also worked on a new version of Arc and created Hacker News. Additionally, they started the Summer Founders Program, which funded eight impressive startups.\n",
      "\u001b[0m\u001b[36;1m\u001b[1;3mCurrent response: The author began his career in the startup world by is career in the startup world by writing essays about different topics, working on spam filters, and hosting dinners for friends. He then went on to found Y Combinator, a startup accelerator that funds and mentors early-stage startups. After the success of his startup, the author became a well-known figure in the startup community and began engaging in various other activities within the startup world. . The author continued to work on other things, including hacking and writing essays, but Y Combinator started to take up more of their attention. They also worked on a new version of Arc and created Hacker News. Additionally, they started the Summer Founders Program, which funded eight impressive startups.\n",
      "\u001b[0m\u001b[38;5;200m\u001b[1;3mLookahead response: Answer: The author began his career in the startup world by writing essays about different topics, working on spam filters, and hosting dinners for friends. He then went on to found Y Combinator, a startup accelerator that funds and mentors early-stage startups. After the success of his startup, the author became a well-known figure in the startup community and began engaging in various other activities within the startup world. [Search(What other activities did the author engage in within the startup world?)] The author continued to work on other things, including hacking and writing essays, but Y Combinator started to take up more of their attention. They also worked on a new version of Arc and created Hacker News. Additionally, they started the Summer Founders Program, which funded eight impressive startups.\n",
      "\u001b[0mSearch(What other activities did the author engage in within the startup world?)\n",
      "\u001b[38;5;200m\u001b[1;3mUpdated lookahead response:  career in the startup world by writing essays about different topics, working on spam filters, and hosting dinners for friends. He then went on to found Y Combinator, a startup accelerator that funds and mentors early-stage startups. After the success of his startup, the author became a well-known figure in the startup community and engaged in various other activities within the startup world, including working on spam filters, hosting dinners for friends, and buying a building in Cambridge to use as an office. Additionally, the author gave talks and wrote essays about startups and technology. Y Combinator started to take up more of their attention, and they also worked on a new version of Arc and created Hacker News. Furthermore, they started the Summer Founders Program, which funded eight impressive startups.\n",
      "\u001b[0m\u001b[36;1m\u001b[1;3mCurrent response: The author began his career in the startup world by is career in the startup world by writing essays about different topics, working on spam filters, and hosting dinners for friends. He then went on to found Y Combinator, a startup accelerator that funds and mentors early-stage startups. After the success of his startup, the author became a well-known figure in the startup community and began engaging in various other activities within the startup world. . The author continued to work on other things, including hacking and writing essays, but Y Combinator started to take up more of their attention. They also worked on a new version of Arc and created Hacker News. Additionally, they started the Summer Founders Program, which funded eight impressive startups. career in the startup world by writing essays about different topics, working on spam filters, and hosting dinners for friends. He then went on to found Y Combinator, a startup accelerator that funds and mentors early-stage startups. After the success of his startup, the author became a well-known figure in the startup community and engaged in various other activities within the startup world, including working on spam filters, hosting dinners for friends, and buying a building in Cambridge to use as an office. Additionally, the author gave talks and wrote essays about startups and technology. Y Combinator started to take up more of their attention, and they also worked on a new version of Arc and created Hacker News. Furthermore, they started the Summer Founders Program, which funded eight impressive startups.\n",
      "\u001b[0m\u001b[38;5;200m\u001b[1;3mLookahead response: done\n",
      "\u001b[0m"
     ]
    }
   ],
   "source": [
    "response = flare_query_engine.query(\"Can you tell me about the author's trajectory in the startup world?\")"
   ]
  },
  {
   "cell_type": "code",
   "execution_count": null,
   "id": "78085cc6-d9b7-486b-8c6c-5ad092678642",
   "metadata": {
    "tags": []
   },
   "outputs": [],
   "source": [
    "print(response)"
   ]
  },
  {
   "cell_type": "code",
   "execution_count": 12,
   "id": "6e3645ac-2220-4b32-80a6-0b82d2ec7e38",
   "metadata": {
    "tags": []
   },
   "outputs": [
    {
     "name": "stdout",
     "output_type": "stream",
     "text": [
      "\u001b[32;1m\u001b[1;3mQuery: Can you tell me about the author's journey in college and art school\n",
      "\u001b[0m\u001b[36;1m\u001b[1;3mCurrent response: \n",
      "\u001b[0m\u001b[38;5;200m\u001b[1;3mLookahead response: The author attended college and art school. During college, he took classes in [Search(What classes did the author take in college?)]. After college, he attended art school where he studied [Search(What did the author study in art school?)].\n",
      "\u001b[0m\u001b[38;5;200m\u001b[1;3mUpdated lookahead response: The author attended college and art school. During college, he took classes in drawing, color, and design as part of the foundation program at RISD. After college, he attended art school where he studied \n",
      "\u001b[0m\u001b[36;1m\u001b[1;3mCurrent response:  The author attended college and art school. During college, he took classes in drawing, color, and design as part of the foundation program at RISD. After college, he attended art school where he studied\n",
      "\u001b[0m\u001b[38;5;200m\u001b[1;3mLookahead response: [Search(What did the author study in art school?)].\n",
      "\u001b[0m\u001b[38;5;200m\u001b[1;3mUpdated lookahead response:  painting.\n",
      "\u001b[0m\u001b[36;1m\u001b[1;3mCurrent response: The author attended college and art school. During college, he took classes in drawing, color, and design as part of the foundation program at RISD. After college, he attended art school where he studied painting.\n",
      "\u001b[0m\u001b[38;5;200m\u001b[1;3mLookahead response: [Search(What college did the author attend?), Search(What classes did the author take in college?), Search(What art school did the author attend?), Search(What did the author study in art school?)]\n",
      "\u001b[0m\u001b[38;5;200m\u001b[1;3mUpdated lookahead response: at RISD.\n",
      "\u001b[0m\u001b[36;1m\u001b[1;3mCurrent response: The author attended college and art school. During college, he took classes in drawing, color, and design as part of the foundation program at RISD. After college, he attended art school where he studied painting. at RISD.\n",
      "\u001b[0m\u001b[38;5;200m\u001b[1;3mLookahead response: [Search(What classes did the author take in college?)]. He then went on to attend art school where he studied painting.\n",
      "\u001b[0m\u001b[38;5;200m\u001b[1;3mUpdated lookahead response: or took fundamental classes like drawing, color, and design as part of the foundation program at RISD. He then went on to attend art school where he studied painting.\n",
      "\u001b[0m\u001b[36;1m\u001b[1;3mCurrent response: The author attended college and art school. During college, he took classes in drawing, color, and design as part of the foundation program at RISD. After college, he attended art school where he studied painting. at RISD. or took fundamental classes like drawing, color, and design as part of the foundation program at RISD. He then went on to attend art school where he studied painting.\n",
      "\u001b[0m\u001b[38;5;200m\u001b[1;3mLookahead response: done\n",
      "\u001b[0m"
     ]
    }
   ],
   "source": [
    "response = flare_query_engine.query(\"Can you tell me about the author's journey in college and art school\")"
   ]
  },
  {
   "cell_type": "code",
   "execution_count": 13,
   "id": "31279b2f-7cc9-4e10-962f-e37cbe5e2d31",
   "metadata": {
    "tags": []
   },
   "outputs": [
    {
     "name": "stdout",
     "output_type": "stream",
     "text": [
      "The author attended college and art school. During college, he took classes in drawing, color, and design as part of the foundation program at RISD. After college, he attended art school where he studied painting. at RISD. or took fundamental classes like drawing, color, and design as part of the foundation program at RISD. He then went on to attend art school where he studied painting. \n"
     ]
    }
   ],
   "source": [
    "print(response)"
   ]
  },
  {
   "cell_type": "code",
   "execution_count": null,
   "id": "a5c86772-be9c-4a8f-8720-8a62ae9a7d1d",
   "metadata": {},
   "outputs": [],
   "source": []
  }
 ],
 "metadata": {
  "kernelspec": {
   "display_name": "llama_index_v2",
   "language": "python",
   "name": "llama_index_v2"
  },
  "language_info": {
   "codemirror_mode": {
    "name": "ipython",
    "version": 3
   },
   "file_extension": ".py",
   "mimetype": "text/x-python",
   "name": "python",
   "nbconvert_exporter": "python",
   "pygments_lexer": "ipython3",
   "version": "3.10.10"
  }
 },
 "nbformat": 4,
 "nbformat_minor": 5
}
