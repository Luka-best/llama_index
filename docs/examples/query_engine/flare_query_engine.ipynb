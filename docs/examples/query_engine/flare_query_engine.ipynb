{
 "cells": [
  {
   "cell_type": "markdown",
   "id": "f866cc0a-460e-4dbf-91b7-f541a4c0eda6",
   "metadata": {
    "tags": []
   },
   "source": [
    "# FLARE Query Engine\n",
    "\n",
    "Adapted from the paper \"Active Retrieval Augmented Generation\"\n",
    "\n",
    "Currently implements FLARE Instruct, which tells the LLM to generate retrieval instructions."
   ]
  },
  {
   "cell_type": "code",
   "execution_count": 1,
   "id": "920e6742-5296-46ed-83f5-8b0d999b88a3",
   "metadata": {
    "tags": []
   },
   "outputs": [
    {
     "name": "stderr",
     "output_type": "stream",
     "text": [
      "/Users/jerryliu/Programming/gpt_index/.venv/lib/python3.10/site-packages/tqdm/auto.py:21: TqdmWarning: IProgress not found. Please update jupyter and ipywidgets. See https://ipywidgets.readthedocs.io/en/stable/user_install.html\n",
      "  from .autonotebook import tqdm as notebook_tqdm\n"
     ]
    }
   ],
   "source": [
    "import os\n",
    "from langchain.llms import OpenAI\n",
    "from langchain.chat_models import ChatOpenAI\n",
    "from llama_index.query_engine import FLAREInstructQueryEngine\n",
    "from llama_index import (\n",
    "    VectorStoreIndex,\n",
    "    ResponseSynthesizer,\n",
    "    SimpleDirectoryReader,\n",
    "    StorageContext,\n",
    "    load_index_from_storage,\n",
    "    LLMPredictor,\n",
    "    ServiceContext,\n",
    ")"
   ]
  },
  {
   "cell_type": "code",
   "execution_count": 2,
   "id": "377c6a8b-2d3f-488c-8f45-4eb5001d32ca",
   "metadata": {
    "tags": []
   },
   "outputs": [
    {
     "name": "stdout",
     "output_type": "stream",
     "text": [
      "Skill 1. Use the Search API to look up relevant information by writing \"[Search(query)]\" where \"query\" is the search query you want to look up. For example: \n",
      "\n",
      "Query: But what are the risks during production of nanomaterials?\n",
      "Answer: [Search(What are some nanomaterial production risks?)]\n",
      "\n",
      "Query: The colors on the flag of Ghana have the following meanings.\n",
      "Answer: Red is for [Search(What is the meaning of Ghana's flag being red?)], green for forests, and gold for mineral wealth.\n",
      "\n",
      "Query: What did the author do during his time in college?\n",
      "Answer: The author took introductory CS classes during his freshman year. He also took some humanities classes, such as [Search(What humanities classes did the author take in college?)].\n",
      "\n",
      "\n",
      "\n",
      "\n",
      "Now given the query, please answer the following question. You may use the Search API \"[Search(query)]\" whenever possible.\n",
      "If the answer is complete and no longer contains any \"[Search(query)]\" tags, write \"done\" to finish the task.\n",
      "\n",
      "\n",
      "Query: {query_str}\n",
      "Answer: {existing_answer}     \n"
     ]
    }
   ],
   "source": [
    "from llama_index.query_engine.flare_query_engine import DEFAULT_INSTRUCT_PROMPT_TMPL\n",
    "print(DEFAULT_INSTRUCT_PROMPT_TMPL)"
   ]
  },
  {
   "cell_type": "code",
   "execution_count": 3,
   "id": "507256f4-7831-4ad3-8bdd-c19ad6623d6d",
   "metadata": {
    "tags": []
   },
   "outputs": [],
   "source": [
    "service_context = ServiceContext.from_defaults(\n",
    "    llm_predictor=LLMPredictor(llm=ChatOpenAI(model_name='gpt-3.5-turbo', temperature=0)),\n",
    "    chunk_size=512\n",
    ")"
   ]
  },
  {
   "cell_type": "code",
   "execution_count": 4,
   "id": "5dac4df9-a42f-4cc5-a708-542e3c33f3d2",
   "metadata": {
    "tags": []
   },
   "outputs": [],
   "source": [
    "documents = SimpleDirectoryReader(\"../data/paul_graham\").load_data()\n",
    "index = VectorStoreIndex.from_documents(documents, service_context=service_context)"
   ]
  },
  {
   "cell_type": "code",
   "execution_count": 5,
   "id": "8a749d71-2ad5-4ee3-aa1e-48e9567b706d",
   "metadata": {
    "tags": []
   },
   "outputs": [],
   "source": [
    "index_query_engine = index.as_query_engine(similarity_top_k=2)"
   ]
  },
  {
   "cell_type": "code",
   "execution_count": 6,
   "id": "91fcdbcd-f0f6-4580-9016-d89394e05aab",
   "metadata": {
    "tags": []
   },
   "outputs": [],
   "source": [
    "flare_query_engine = FLAREInstructQueryEngine(\n",
    "    query_engine=index_query_engine,\n",
    "    service_context=service_context,\n",
    "    verbose=True\n",
    ")"
   ]
  },
  {
   "cell_type": "code",
   "execution_count": 7,
   "id": "6a6dcb43-8854-481a-8d6e-62e2c355b72c",
   "metadata": {
    "tags": []
   },
   "outputs": [
    {
     "data": {
      "text/plain": [
       "<llama_index.query_engine.flare_query_engine.FLAREInstructQueryEngine at 0x152d5f5b0>"
      ]
     },
     "execution_count": 7,
     "metadata": {},
     "output_type": "execute_result"
    }
   ],
   "source": [
    "flare_query_engine"
   ]
  },
  {
   "cell_type": "code",
   "execution_count": 8,
   "id": "e1ca238e-884b-4221-b3a8-0bb106fa0de9",
   "metadata": {
    "tags": []
   },
   "outputs": [
    {
     "name": "stdout",
     "output_type": "stream",
     "text": [
      "\u001b[32;1m\u001b[1;3mQuery: What did the author do during his time in college?\n",
      "\u001b[0m\u001b[36;1m\u001b[1;3mCurrent response: \n",
      "\u001b[0mSkill 1. Use the Search API to look up relevant information by writing \"[Search(query)]\" where \"query\" is the search query you want to look up. For example: \n",
      "\n",
      "Query: But what are the risks during production of nanomaterials?\n",
      "Answer: [Search(What are some nanomaterial production risks?)]\n",
      "\n",
      "Query: The colors on the flag of Ghana have the following meanings.\n",
      "Answer: Red is for [Search(What is the meaning of Ghana's flag being red?)], green for forests, and gold for mineral wealth.\n",
      "\n",
      "Query: What did the author do during his time in college?\n",
      "Answer: The author took introductory CS classes during his freshman year. He also took some humanities classes, such as [Search(What humanities classes did the author take in college?)].\n",
      "\n",
      "\n",
      "\n",
      "\n",
      "Now given the query, please answer the following question. You may use the Search API \"[Search(query)]\" whenever possible.\n",
      "If the answer is complete and no longer contains any \"[Search(query)]\" tags, write \"done\" to finish the task.\n",
      "\n",
      "\n",
      "Query: What did the author do during his time in college?\n",
      "Answer:      \n",
      "\u001b[38;5;200m\u001b[1;3mLookahead response: The author took introductory CS classes during his freshman year. He also took some humanities classes, such as [Search(What humanities classes did the author take in college?)]\n",
      "\u001b[0mquery tasks: [QueryTask(query_str='What humanities classes did the author take in college?', start_idx=112, end_idx=176)]\n",
      "query_answer:  The context information does not provide any information about the humanities classes the author took in college.\n",
      "updated lookahead_resp: The author took introductory CS classes during his freshman year. He also took some humanities classes, such as The context information does not provide any information about the humanities classes the author took in college.\n",
      "relevant_lookahead_resp:  The author took introductory CS classes during his freshman year. He also took some humanities classes, such as The context information does not provide any information about t\n",
      "\u001b[36;1m\u001b[1;3mCurrent response:  The author took introductory CS classes during his freshman year. He also took some humanities classes, such as The context information does not provide any information about t\n",
      "\u001b[0mSkill 1. Use the Search API to look up relevant information by writing \"[Search(query)]\" where \"query\" is the search query you want to look up. For example: \n",
      "\n",
      "Query: But what are the risks during production of nanomaterials?\n",
      "Answer: [Search(What are some nanomaterial production risks?)]\n",
      "\n",
      "Query: The colors on the flag of Ghana have the following meanings.\n",
      "Answer: Red is for [Search(What is the meaning of Ghana's flag being red?)], green for forests, and gold for mineral wealth.\n",
      "\n",
      "Query: What did the author do during his time in college?\n",
      "Answer: The author took introductory CS classes during his freshman year. He also took some humanities classes, such as [Search(What humanities classes did the author take in college?)].\n",
      "\n",
      "\n",
      "\n",
      "\n",
      "Now given the query, please answer the following question. You may use the Search API \"[Search(query)]\" whenever possible.\n",
      "If the answer is complete and no longer contains any \"[Search(query)]\" tags, write \"done\" to finish the task.\n",
      "\n",
      "\n",
      "Query: What did the author do during his time in college?\n",
      "Answer:  The author took introductory CS classes during his freshman year. He also took some humanities classes, such as The context information does not provide any information about t     \n",
      "\u001b[38;5;200m\u001b[1;3mLookahead response: [Search(What humanities classes did the author take in college?)]\n",
      "\u001b[0mquery tasks: [QueryTask(query_str='What humanities classes did the author take in college?', start_idx=0, end_idx=64)]\n",
      "query_answer:  The context information does not provide any information about the humanities classes the author took in college.\n",
      "updated lookahead_resp: The context information does not provide any information about the humanities classes the author took in college.\n",
      "relevant_lookahead_resp:  The context information does not provide any information about t\n",
      "\u001b[36;1m\u001b[1;3mCurrent response: The author took introductory CS classes during his freshman year. He also took some humanities classes, such as The context information does not provide any information about t The context information does not provide any information about t\n",
      "\u001b[0mSkill 1. Use the Search API to look up relevant information by writing \"[Search(query)]\" where \"query\" is the search query you want to look up. For example: \n",
      "\n",
      "Query: But what are the risks during production of nanomaterials?\n",
      "Answer: [Search(What are some nanomaterial production risks?)]\n",
      "\n",
      "Query: The colors on the flag of Ghana have the following meanings.\n",
      "Answer: Red is for [Search(What is the meaning of Ghana's flag being red?)], green for forests, and gold for mineral wealth.\n",
      "\n",
      "Query: What did the author do during his time in college?\n",
      "Answer: The author took introductory CS classes during his freshman year. He also took some humanities classes, such as [Search(What humanities classes did the author take in college?)].\n",
      "\n",
      "\n",
      "\n",
      "\n",
      "Now given the query, please answer the following question. You may use the Search API \"[Search(query)]\" whenever possible.\n",
      "If the answer is complete and no longer contains any \"[Search(query)]\" tags, write \"done\" to finish the task.\n",
      "\n",
      "\n",
      "Query: What did the author do during his time in college?\n",
      "Answer: The author took introductory CS classes during his freshman year. He also took some humanities classes, such as The context information does not provide any information about t The context information does not provide any information about t     \n",
      "\u001b[38;5;200m\u001b[1;3mLookahead response: [Search(What humanities classes did the author take in college?)]\n",
      "\u001b[0mquery tasks: [QueryTask(query_str='What humanities classes did the author take in college?', start_idx=0, end_idx=64)]\n",
      "query_answer:  The context information does not provide any information about the humanities classes the author took in college.\n",
      "updated lookahead_resp: The context information does not provide any information about the humanities classes the author took in college.\n",
      "relevant_lookahead_resp:  The context information does not provide any information about t\n",
      "\u001b[36;1m\u001b[1;3mCurrent response: The author took introductory CS classes during his freshman year. He also took some humanities classes, such as The context information does not provide any information about t The context information does not provide any information about t The context information does not provide any information about t\n",
      "\u001b[0mSkill 1. Use the Search API to look up relevant information by writing \"[Search(query)]\" where \"query\" is the search query you want to look up. For example: \n",
      "\n",
      "Query: But what are the risks during production of nanomaterials?\n",
      "Answer: [Search(What are some nanomaterial production risks?)]\n",
      "\n",
      "Query: The colors on the flag of Ghana have the following meanings.\n",
      "Answer: Red is for [Search(What is the meaning of Ghana's flag being red?)], green for forests, and gold for mineral wealth.\n",
      "\n",
      "Query: What did the author do during his time in college?\n",
      "Answer: The author took introductory CS classes during his freshman year. He also took some humanities classes, such as [Search(What humanities classes did the author take in college?)].\n",
      "\n",
      "\n",
      "\n",
      "\n",
      "Now given the query, please answer the following question. You may use the Search API \"[Search(query)]\" whenever possible.\n",
      "If the answer is complete and no longer contains any \"[Search(query)]\" tags, write \"done\" to finish the task.\n",
      "\n",
      "\n",
      "Query: What did the author do during his time in college?\n",
      "Answer: The author took introductory CS classes during his freshman year. He also took some humanities classes, such as The context information does not provide any information about t The context information does not provide any information about t The context information does not provide any information about t     \n",
      "\u001b[38;5;200m\u001b[1;3mLookahead response: [Search(What humanities classes did the author take in college?)]\n",
      "\u001b[0mquery tasks: [QueryTask(query_str='What humanities classes did the author take in college?', start_idx=0, end_idx=64)]\n",
      "query_answer:  The context information does not provide any information about the humanities classes the author took in college.\n",
      "updated lookahead_resp: The context information does not provide any information about the humanities classes the author took in college.\n",
      "relevant_lookahead_resp:  The context information does not provide any information about t\n",
      "\u001b[36;1m\u001b[1;3mCurrent response: The author took introductory CS classes during his freshman year. He also took some humanities classes, such as The context information does not provide any information about t The context information does not provide any information about t The context information does not provide any information about t The context information does not provide any information about t\n",
      "\u001b[0mSkill 1. Use the Search API to look up relevant information by writing \"[Search(query)]\" where \"query\" is the search query you want to look up. For example: \n",
      "\n",
      "Query: But what are the risks during production of nanomaterials?\n",
      "Answer: [Search(What are some nanomaterial production risks?)]\n",
      "\n",
      "Query: The colors on the flag of Ghana have the following meanings.\n",
      "Answer: Red is for [Search(What is the meaning of Ghana's flag being red?)], green for forests, and gold for mineral wealth.\n",
      "\n",
      "Query: What did the author do during his time in college?\n",
      "Answer: The author took introductory CS classes during his freshman year. He also took some humanities classes, such as [Search(What humanities classes did the author take in college?)].\n",
      "\n",
      "\n",
      "\n",
      "\n",
      "Now given the query, please answer the following question. You may use the Search API \"[Search(query)]\" whenever possible.\n",
      "If the answer is complete and no longer contains any \"[Search(query)]\" tags, write \"done\" to finish the task.\n",
      "\n",
      "\n",
      "Query: What did the author do during his time in college?\n",
      "Answer: The author took introductory CS classes during his freshman year. He also took some humanities classes, such as The context information does not provide any information about t The context information does not provide any information about t The context information does not provide any information about t The context information does not provide any information about t     \n",
      "\u001b[38;5;200m\u001b[1;3mLookahead response: [Search(What humanities classes did the author take in college?)]\n",
      "\u001b[0mquery tasks: [QueryTask(query_str='What humanities classes did the author take in college?', start_idx=0, end_idx=64)]\n",
      "query_answer:  The context information does not provide any information about the humanities classes the author took in college.\n",
      "updated lookahead_resp: The context information does not provide any information about the humanities classes the author took in college.\n",
      "relevant_lookahead_resp:  The context information does not provide any information about t\n",
      "\u001b[36;1m\u001b[1;3mCurrent response: The author took introductory CS classes during his freshman year. He also took some humanities classes, such as The context information does not provide any information about t The context information does not provide any information about t The context information does not provide any information about t The context information does not provide any information about t The context information does not provide any information about t\n",
      "\u001b[0mSkill 1. Use the Search API to look up relevant information by writing \"[Search(query)]\" where \"query\" is the search query you want to look up. For example: \n",
      "\n",
      "Query: But what are the risks during production of nanomaterials?\n",
      "Answer: [Search(What are some nanomaterial production risks?)]\n",
      "\n",
      "Query: The colors on the flag of Ghana have the following meanings.\n",
      "Answer: Red is for [Search(What is the meaning of Ghana's flag being red?)], green for forests, and gold for mineral wealth.\n",
      "\n",
      "Query: What did the author do during his time in college?\n",
      "Answer: The author took introductory CS classes during his freshman year. He also took some humanities classes, such as [Search(What humanities classes did the author take in college?)].\n",
      "\n",
      "\n",
      "\n",
      "\n",
      "Now given the query, please answer the following question. You may use the Search API \"[Search(query)]\" whenever possible.\n",
      "If the answer is complete and no longer contains any \"[Search(query)]\" tags, write \"done\" to finish the task.\n",
      "\n",
      "\n",
      "Query: What did the author do during his time in college?\n",
      "Answer: The author took introductory CS classes during his freshman year. He also took some humanities classes, such as The context information does not provide any information about t The context information does not provide any information about t The context information does not provide any information about t The context information does not provide any information about t The context information does not provide any information about t     \n",
      "\u001b[38;5;200m\u001b[1;3mLookahead response: [Search(What humanities classes did the author take in college?)]\n",
      "\u001b[0mquery tasks: [QueryTask(query_str='What humanities classes did the author take in college?', start_idx=0, end_idx=64)]\n",
      "query_answer:  The context information does not provide any information about the humanities classes the author took in college.\n",
      "updated lookahead_resp: The context information does not provide any information about the humanities classes the author took in college.\n",
      "relevant_lookahead_resp:  The context information does not provide any information about t\n",
      "\u001b[36;1m\u001b[1;3mCurrent response: The author took introductory CS classes during his freshman year. He also took some humanities classes, such as The context information does not provide any information about t The context information does not provide any information about t The context information does not provide any information about t The context information does not provide any information about t The context information does not provide any information about t The context information does not provide any information about t\n",
      "\u001b[0mSkill 1. Use the Search API to look up relevant information by writing \"[Search(query)]\" where \"query\" is the search query you want to look up. For example: \n",
      "\n",
      "Query: But what are the risks during production of nanomaterials?\n",
      "Answer: [Search(What are some nanomaterial production risks?)]\n",
      "\n",
      "Query: The colors on the flag of Ghana have the following meanings.\n",
      "Answer: Red is for [Search(What is the meaning of Ghana's flag being red?)], green for forests, and gold for mineral wealth.\n",
      "\n",
      "Query: What did the author do during his time in college?\n",
      "Answer: The author took introductory CS classes during his freshman year. He also took some humanities classes, such as [Search(What humanities classes did the author take in college?)].\n",
      "\n",
      "\n",
      "\n",
      "\n",
      "Now given the query, please answer the following question. You may use the Search API \"[Search(query)]\" whenever possible.\n",
      "If the answer is complete and no longer contains any \"[Search(query)]\" tags, write \"done\" to finish the task.\n",
      "\n",
      "\n",
      "Query: What did the author do during his time in college?\n",
      "Answer: The author took introductory CS classes during his freshman year. He also took some humanities classes, such as The context information does not provide any information about t The context information does not provide any information about t The context information does not provide any information about t The context information does not provide any information about t The context information does not provide any information about t The context information does not provide any information about t     \n",
      "\u001b[38;5;200m\u001b[1;3mLookahead response: [Search(What humanities classes did the author take in college?)]\n",
      "\u001b[0mquery tasks: [QueryTask(query_str='What humanities classes did the author take in college?', start_idx=0, end_idx=64)]\n",
      "query_answer:  The context information does not provide any information about the humanities classes the author took in college.\n",
      "updated lookahead_resp: The context information does not provide any information about the humanities classes the author took in college.\n",
      "relevant_lookahead_resp:  The context information does not provide any information about t\n",
      "\u001b[36;1m\u001b[1;3mCurrent response: The author took introductory CS classes during his freshman year. He also took some humanities classes, such as The context information does not provide any information about t The context information does not provide any information about t The context information does not provide any information about t The context information does not provide any information about t The context information does not provide any information about t The context information does not provide any information about t The context information does not provide any information about t\n",
      "\u001b[0mSkill 1. Use the Search API to look up relevant information by writing \"[Search(query)]\" where \"query\" is the search query you want to look up. For example: \n",
      "\n",
      "Query: But what are the risks during production of nanomaterials?\n",
      "Answer: [Search(What are some nanomaterial production risks?)]\n",
      "\n",
      "Query: The colors on the flag of Ghana have the following meanings.\n",
      "Answer: Red is for [Search(What is the meaning of Ghana's flag being red?)], green for forests, and gold for mineral wealth.\n",
      "\n",
      "Query: What did the author do during his time in college?\n",
      "Answer: The author took introductory CS classes during his freshman year. He also took some humanities classes, such as [Search(What humanities classes did the author take in college?)].\n",
      "\n",
      "\n",
      "\n",
      "\n",
      "Now given the query, please answer the following question. You may use the Search API \"[Search(query)]\" whenever possible.\n",
      "If the answer is complete and no longer contains any \"[Search(query)]\" tags, write \"done\" to finish the task.\n",
      "\n",
      "\n",
      "Query: What did the author do during his time in college?\n",
      "Answer: The author took introductory CS classes during his freshman year. He also took some humanities classes, such as The context information does not provide any information about t The context information does not provide any information about t The context information does not provide any information about t The context information does not provide any information about t The context information does not provide any information about t The context information does not provide any information about t The context information does not provide any information about t     \n",
      "\u001b[38;5;200m\u001b[1;3mLookahead response: [Search(What humanities classes did the author take in college?)]\n",
      "\u001b[0mquery tasks: [QueryTask(query_str='What humanities classes did the author take in college?', start_idx=0, end_idx=64)]\n",
      "query_answer:  The context information does not provide any information about the humanities classes the author took in college.\n",
      "updated lookahead_resp: The context information does not provide any information about the humanities classes the author took in college.\n",
      "relevant_lookahead_resp:  The context information does not provide any information about t\n",
      "\u001b[36;1m\u001b[1;3mCurrent response: The author took introductory CS classes during his freshman year. He also took some humanities classes, such as The context information does not provide any information about t The context information does not provide any information about t The context information does not provide any information about t The context information does not provide any information about t The context information does not provide any information about t The context information does not provide any information about t The context information does not provide any information about t The context information does not provide any information about t\n",
      "\u001b[0mSkill 1. Use the Search API to look up relevant information by writing \"[Search(query)]\" where \"query\" is the search query you want to look up. For example: \n",
      "\n",
      "Query: But what are the risks during production of nanomaterials?\n",
      "Answer: [Search(What are some nanomaterial production risks?)]\n",
      "\n",
      "Query: The colors on the flag of Ghana have the following meanings.\n",
      "Answer: Red is for [Search(What is the meaning of Ghana's flag being red?)], green for forests, and gold for mineral wealth.\n",
      "\n",
      "Query: What did the author do during his time in college?\n",
      "Answer: The author took introductory CS classes during his freshman year. He also took some humanities classes, such as [Search(What humanities classes did the author take in college?)].\n",
      "\n",
      "\n",
      "\n",
      "\n",
      "Now given the query, please answer the following question. You may use the Search API \"[Search(query)]\" whenever possible.\n",
      "If the answer is complete and no longer contains any \"[Search(query)]\" tags, write \"done\" to finish the task.\n",
      "\n",
      "\n",
      "Query: What did the author do during his time in college?\n",
      "Answer: The author took introductory CS classes during his freshman year. He also took some humanities classes, such as The context information does not provide any information about t The context information does not provide any information about t The context information does not provide any information about t The context information does not provide any information about t The context information does not provide any information about t The context information does not provide any information about t The context information does not provide any information about t The context information does not provide any information about t     \n",
      "\u001b[38;5;200m\u001b[1;3mLookahead response: [Search(What humanities classes did the author take in college?)]\n",
      "\u001b[0mquery tasks: [QueryTask(query_str='What humanities classes did the author take in college?', start_idx=0, end_idx=64)]\n",
      "query_answer:  The context information does not provide any information about the humanities classes the author took in college.\n",
      "updated lookahead_resp: The context information does not provide any information about the humanities classes the author took in college.\n",
      "relevant_lookahead_resp:  The context information does not provide any information about t\n",
      "\u001b[36;1m\u001b[1;3mCurrent response: The author took introductory CS classes during his freshman year. He also took some humanities classes, such as The context information does not provide any information about t The context information does not provide any information about t The context information does not provide any information about t The context information does not provide any information about t The context information does not provide any information about t The context information does not provide any information about t The context information does not provide any information about t The context information does not provide any information about t The context information does not provide any information about t\n",
      "\u001b[0mSkill 1. Use the Search API to look up relevant information by writing \"[Search(query)]\" where \"query\" is the search query you want to look up. For example: \n",
      "\n",
      "Query: But what are the risks during production of nanomaterials?\n",
      "Answer: [Search(What are some nanomaterial production risks?)]\n",
      "\n",
      "Query: The colors on the flag of Ghana have the following meanings.\n",
      "Answer: Red is for [Search(What is the meaning of Ghana's flag being red?)], green for forests, and gold for mineral wealth.\n",
      "\n",
      "Query: What did the author do during his time in college?\n",
      "Answer: The author took introductory CS classes during his freshman year. He also took some humanities classes, such as [Search(What humanities classes did the author take in college?)].\n",
      "\n",
      "\n",
      "\n",
      "\n",
      "Now given the query, please answer the following question. You may use the Search API \"[Search(query)]\" whenever possible.\n",
      "If the answer is complete and no longer contains any \"[Search(query)]\" tags, write \"done\" to finish the task.\n",
      "\n",
      "\n",
      "Query: What did the author do during his time in college?\n",
      "Answer: The author took introductory CS classes during his freshman year. He also took some humanities classes, such as The context information does not provide any information about t The context information does not provide any information about t The context information does not provide any information about t The context information does not provide any information about t The context information does not provide any information about t The context information does not provide any information about t The context information does not provide any information about t The context information does not provide any information about t The context information does not provide any information about t     \n",
      "\u001b[38;5;200m\u001b[1;3mLookahead response: [Search(What humanities classes did the author take in college?)]\n",
      "\u001b[0mquery tasks: [QueryTask(query_str='What humanities classes did the author take in college?', start_idx=0, end_idx=64)]\n",
      "query_answer:  The context information does not provide any information about the humanities classes the author took in college.\n",
      "updated lookahead_resp: The context information does not provide any information about the humanities classes the author took in college.\n",
      "relevant_lookahead_resp:  The context information does not provide any information about t\n"
     ]
    }
   ],
   "source": [
    "response = flare_query_engine.query(\"What did the author do during his time in college?\")"
   ]
  },
  {
   "cell_type": "code",
   "execution_count": null,
   "id": "78085cc6-d9b7-486b-8c6c-5ad092678642",
   "metadata": {},
   "outputs": [],
   "source": []
  }
 ],
 "metadata": {
  "kernelspec": {
   "display_name": "llama_index_v2",
   "language": "python",
   "name": "llama_index_v2"
  },
  "language_info": {
   "codemirror_mode": {
    "name": "ipython",
    "version": 3
   },
   "file_extension": ".py",
   "mimetype": "text/x-python",
   "name": "python",
   "nbconvert_exporter": "python",
   "pygments_lexer": "ipython3",
   "version": "3.10.10"
  }
 },
 "nbformat": 4,
 "nbformat_minor": 5
}
