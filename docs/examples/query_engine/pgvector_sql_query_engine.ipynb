{
 "cells": [
  {
   "cell_type": "markdown",
   "id": "c1fa9b8e-8aa1-4591-9ed1-0f0931160146",
   "metadata": {},
   "source": [
    "# [Beta] Text-to-SQL with PGVector\n",
    "\n",
    "This notebook demo shows how to perform text-to-SQL with pgvector. This allows us to jointly do both semantic search and structured querying, *all* within SQL!\n",
    "\n",
    "This hypothetically enables more expressive queries than semantic search + metadata filters.\n",
    "\n",
    "**NOTE**: This is a beta feature, interfaces might change. But in the meantime hope you find it useful! "
   ]
  },
  {
   "cell_type": "markdown",
   "id": "d00afde6-9fa6-4001-ae2b-ac56cb858ceb",
   "metadata": {},
   "source": [
    "## Setup Data"
   ]
  },
  {
   "cell_type": "markdown",
   "id": "8cc0a1a2-f66e-4c81-9435-771ea50652fa",
   "metadata": {},
   "source": [
    "### Load Documents\n",
    "\n",
    "Load in the Lyft 2021 10k document."
   ]
  },
  {
   "cell_type": "code",
   "execution_count": 2,
   "id": "e74e32d8-349f-4477-992f-549cfd6a4b5f",
   "metadata": {},
   "outputs": [],
   "source": [
    "from llama_hub.file.pdf.base import PDFReader"
   ]
  },
  {
   "cell_type": "code",
   "execution_count": 3,
   "id": "9fd432b9-7a6a-4734-a8d9-3d18c12c64c9",
   "metadata": {},
   "outputs": [],
   "source": [
    "reader = PDFReader()"
   ]
  },
  {
   "cell_type": "code",
   "execution_count": 4,
   "id": "80e1f7c8-49bc-4349-815e-97b075bab00c",
   "metadata": {},
   "outputs": [],
   "source": [
    "docs = reader.load_data(\"../data/10k/lyft_2021.pdf\")"
   ]
  },
  {
   "cell_type": "code",
   "execution_count": 5,
   "id": "da729bfb-5aa7-4c12-88ae-860c0a5ec1fb",
   "metadata": {},
   "outputs": [],
   "source": [
    "from llama_index.node_parser import SimpleNodeParser\n",
    "\n",
    "node_parser = SimpleNodeParser.from_defaults()\n",
    "nodes = node_parser.get_nodes_from_documents(docs)"
   ]
  },
  {
   "cell_type": "code",
   "execution_count": null,
   "id": "bfdaebd8-e067-41ec-90d8-96825b5a5e09",
   "metadata": {},
   "outputs": [],
   "source": [
    "print(nodes[8].get_content(metadata_mode=\"all\"))"
   ]
  },
  {
   "cell_type": "markdown",
   "id": "0a1c7593-cef8-487e-bafb-d9322aa79e87",
   "metadata": {},
   "source": [
    "### Insert data into Postgres + PGVector\n",
    "\n",
    "Make sure you have all the necessary dependencies installed! "
   ]
  },
  {
   "cell_type": "code",
   "execution_count": null,
   "id": "d18cfa54-9300-4d83-858e-8a85f79113dc",
   "metadata": {},
   "outputs": [],
   "source": [
    "!pip install psycopg2-binary pgvector asyncpg \"sqlalchemy[asyncio]\" greenlet"
   ]
  },
  {
   "cell_type": "code",
   "execution_count": 8,
   "id": "8cc47918-fb83-4ba7-ae2d-fbe202fe769a",
   "metadata": {},
   "outputs": [],
   "source": [
    "from pgvector.sqlalchemy import Vector\n",
    "from sqlalchemy import insert, create_engine, String, text, Integer\n",
    "from sqlalchemy.orm import declarative_base, mapped_column"
   ]
  },
  {
   "cell_type": "markdown",
   "id": "e40b5c99-c498-4de2-9097-ab81165d2c20",
   "metadata": {},
   "source": [
    "#### Establish Connection"
   ]
  },
  {
   "cell_type": "code",
   "execution_count": 9,
   "id": "e28d1c27-293c-4b46-9354-67d861e89f72",
   "metadata": {},
   "outputs": [],
   "source": [
    "engine = create_engine(\"postgresql+psycopg2://localhost/postgres\")\n",
    "with engine.connect() as conn:\n",
    "    conn.execute(text(\"CREATE EXTENSION IF NOT EXISTS vector\"))\n",
    "    conn.commit()"
   ]
  },
  {
   "cell_type": "markdown",
   "id": "83c526c0-697f-405b-bc34-919d1771c09d",
   "metadata": {},
   "source": [
    "#### Define Table Schema \n",
    "\n",
    "Define as Python class. Note we store the page_label, embedding, and text."
   ]
  },
  {
   "cell_type": "code",
   "execution_count": 10,
   "id": "09854077-239c-4ee6-a760-aeb133296c78",
   "metadata": {},
   "outputs": [],
   "source": [
    "Base = declarative_base()\n",
    "\n",
    "\n",
    "class SECTextChunk(Base):\n",
    "    __tablename__ = \"sec_text_chunk\"\n",
    "\n",
    "    id = mapped_column(Integer, primary_key=True)\n",
    "    page_label = mapped_column(Integer)\n",
    "    file_name = mapped_column(String)\n",
    "    text = mapped_column(String)\n",
    "    embedding = mapped_column(Vector(384))"
   ]
  },
  {
   "cell_type": "code",
   "execution_count": null,
   "id": "a5e34e55-5f8c-4942-8acb-7bee2a4ffabc",
   "metadata": {},
   "outputs": [],
   "source": [
    "Base.metadata.drop_all(engine)\n",
    "Base.metadata.create_all(engine)"
   ]
  },
  {
   "cell_type": "markdown",
   "id": "2d3da71a-6e19-4caf-bef8-5e5228ad5477",
   "metadata": {},
   "source": [
    "#### Generate embedding for each Node with a sentence_transformers model"
   ]
  },
  {
   "cell_type": "code",
   "execution_count": 16,
   "id": "53a7fc99-fa66-4642-b522-439496adf98d",
   "metadata": {},
   "outputs": [],
   "source": [
    "# get embeddings for each row\n",
    "from llama_index.embeddings import HuggingFaceEmbedding\n",
    "\n",
    "embed_model = HuggingFaceEmbedding(model_name=\"BAAI/bge-small-en\")\n",
    "\n",
    "for node in nodes:\n",
    "    text_embedding = embed_model.get_text_embedding(node.get_content())\n",
    "    node.embedding = text_embedding"
   ]
  },
  {
   "cell_type": "markdown",
   "id": "6c2ec8a7-8a29-4eb1-9a05-ae43ef07944d",
   "metadata": {},
   "source": [
    "#### Insert into Database"
   ]
  },
  {
   "cell_type": "code",
   "execution_count": 14,
   "id": "7557e2aa-2de6-4f70-a6f5-2283b2545523",
   "metadata": {},
   "outputs": [],
   "source": [
    "# insert into database\n",
    "for node in nodes:\n",
    "    row_dict = {\n",
    "        \"text\": node.get_content(),\n",
    "        \"embedding\": node.embedding,\n",
    "        **node.metadata,\n",
    "    }\n",
    "    stmt = insert(SECTextChunk).values(**row_dict)\n",
    "    with engine.connect() as connection:\n",
    "        cursor = connection.execute(stmt)\n",
    "        connection.commit()"
   ]
  },
  {
   "cell_type": "markdown",
   "id": "56c4957e-2aeb-4851-9d88-779f3edcd665",
   "metadata": {},
   "source": [
    "## Define PGVectorSQLQueryEngine\n",
    "\n",
    "Now that we've loaded the data into the database, we're ready to setup our query engine."
   ]
  },
  {
   "cell_type": "markdown",
   "id": "49474918-5f16-4ff3-a54e-21a123ddebd7",
   "metadata": {},
   "source": [
    "### Define Prompt\n",
    "\n",
    "We create a modified version of our default text-to-SQL prompt to inject awareness of the pgvector syntax.\n",
    "We also prompt it with some few-shot examples of how to use the syntax (<-->). \n",
    "\n",
    "**NOTE**: This is included by default in the `PGVectorSQLQueryEngine`, we included it here mostly for visibility!"
   ]
  },
  {
   "cell_type": "code",
   "execution_count": 17,
   "id": "21beb67b-5538-4cb0-b6f8-d093cfaee9dd",
   "metadata": {},
   "outputs": [],
   "source": [
    "from llama_index.prompts import PromptTemplate\n",
    "\n",
    "text_to_sql_tmpl = \"\"\"\\\n",
    "Given an input question, first create a syntactically correct {dialect} \\\n",
    "query to run, then look at the results of the query and return the answer. \\\n",
    "You can order the results by a relevant column to return the most \\\n",
    "interesting examples in the database.\n",
    "\n",
    "Pay attention to use only the column names that you can see in the schema \\\n",
    "description. Be careful to not query for columns that do not exist. \\\n",
    "Pay attention to which column is in which table. Also, qualify column names \\\n",
    "with the table name when needed. \n",
    "\n",
    "IMPORTANT NOTE: you can use specialized pgvector syntax (`<-->`) to do nearest \\\n",
    "neighbors/semantic search to a given vector from an embeddings column in the table. \\\n",
    "The embeddings value for a given row typically represents the semantic meaning of that row. \\\n",
    "The vector represents an embedding representation \\\n",
    "of the question, given below. Do NOT fill in the vector values directly, but rather specify a \\\n",
    "`[query_vector]` placeholder. For instance, some select statement examples below \\\n",
    "(the name of the embeddings column is `embedding`):\n",
    "SELECT * FROM items ORDER BY embedding <-> '[query_vector]' LIMIT 5;\n",
    "SELECT * FROM items WHERE id != 1 ORDER BY embedding <-> (SELECT embedding FROM items WHERE id = 1) LIMIT 5;\n",
    "SELECT * FROM items WHERE embedding <-> '[query_vector]' < 5;\n",
    "\n",
    "You are required to use the following format, \\\n",
    "each taking one line:\n",
    "\n",
    "Question: Question here\n",
    "SQLQuery: SQL Query to run\n",
    "SQLResult: Result of the SQLQuery\n",
    "Answer: Final answer here\n",
    "\n",
    "Only use tables listed below.\n",
    "{schema}\n",
    "\n",
    "\n",
    "Question: {query_str}\n",
    "SQLQuery: \\\n",
    "\"\"\"\n",
    "text_to_sql_prompt = PromptTemplate(text_to_sql_tmpl)"
   ]
  },
  {
   "cell_type": "markdown",
   "id": "58d0f5c2-ece7-4152-80fc-52d6f0fe6657",
   "metadata": {},
   "source": [
    "### Setup LLM, Embedding Model, and Misc.\n",
    "\n",
    "Besides LLM and embedding model, note we also add annotations on the table itself. This better helps the LLM \n",
    "understand the column schema (e.g. by telling it what the embedding column represents) to better do \n",
    "either tabular querying or semantic search."
   ]
  },
  {
   "cell_type": "code",
   "execution_count": 18,
   "id": "90af7f7c-b587-4a2d-9f2e-045c392b56fd",
   "metadata": {},
   "outputs": [
    {
     "name": "stderr",
     "output_type": "stream",
     "text": [
      "/Users/jerryliu/Programming/gpt_index/llama_index/utilities/sql_wrapper.py:118: SAWarning: Did not recognize type 'vector' of column 'embedding'\n",
      "  self._metadata.reflect(\n"
     ]
    }
   ],
   "source": [
    "from llama_index import ServiceContext, SQLDatabase\n",
    "from llama_index.llms import OpenAI\n",
    "from llama_index.query_engine import PGVectorSQLQueryEngine\n",
    "\n",
    "sql_database = SQLDatabase(engine, include_tables=[\"sec_text_chunk\"])\n",
    "\n",
    "llm = OpenAI(model=\"gpt-4\")\n",
    "service_context = ServiceContext.from_defaults(llm=llm, embed_model=embed_model)\n",
    "\n",
    "table_desc = \"\"\"\\\n",
    "This table represents text chunks from an SEC filing. Each row contains the following columns:\n",
    "\n",
    "id: id of row\n",
    "page_label: page number \n",
    "file_name: top-level file name\n",
    "text: all text chunk is here\n",
    "embedding: the embeddings representing the text chunk\n",
    "\n",
    "For most queries you should perform semantic search against the `embedding` column values, since \\\n",
    "that encodes the meaning of the text.\n",
    "\n",
    "\"\"\"\n",
    "\n",
    "context_query_kwargs = {\"sec_text_chunk\": table_desc}"
   ]
  },
  {
   "cell_type": "markdown",
   "id": "353143c5-10e7-482b-8deb-ccb078993116",
   "metadata": {},
   "source": [
    "### Define Query Engine"
   ]
  },
  {
   "cell_type": "code",
   "execution_count": 19,
   "id": "5323a880-acf8-4d92-9b3e-b6d21a5c10f2",
   "metadata": {},
   "outputs": [],
   "source": [
    "query_engine = PGVectorSQLQueryEngine(\n",
    "    sql_database=sql_database,\n",
    "    text_to_sql_prompt=text_to_sql_prompt,\n",
    "    service_context=service_context,\n",
    "    context_query_kwargs=context_query_kwargs,\n",
    ")"
   ]
  },
  {
   "cell_type": "markdown",
   "id": "655c8529-1c6e-4df5-9060-fd472d00ff16",
   "metadata": {},
   "source": [
    "## Run Some Queries\n",
    "\n",
    "Now we're ready to run some queries"
   ]
  },
  {
   "cell_type": "code",
   "execution_count": 20,
   "id": "84cd9ee7-a029-4002-87df-a6fe88a0d2e9",
   "metadata": {},
   "outputs": [
    {
     "name": "stderr",
     "output_type": "stream",
     "text": [
      "/Users/jerryliu/Programming/gpt_index/llama_index/utilities/sql_wrapper.py:166: SAWarning: Did not recognize type 'vector' of column 'embedding'\n",
      "  for column in self._inspector.get_columns(table_name):\n"
     ]
    }
   ],
   "source": [
    "response = query_engine.query(\n",
    "    \"Can you tell me about the risk factors described in page 6?\",\n",
    ")"
   ]
  },
  {
   "cell_type": "code",
   "execution_count": 21,
   "id": "09c809ef-8f6a-47e7-94c1-faa015ab2405",
   "metadata": {},
   "outputs": [
    {
     "name": "stdout",
     "output_type": "stream",
     "text": [
      "The text on page 6 discusses the impact of the COVID-19 pandemic on the business. It mentions that the pandemic has affected communities in the United States, Canada, and globally. It has also led to significant disruptions in the business, including a decrease in the number of riders and drivers, reduced hours of operation, and increased costs. The text also discusses the company's transportation network, which offers riders seamless, personalized, and on-demand access to a variety of mobility options.\n"
     ]
    }
   ],
   "source": [
    "print(str(response))"
   ]
  },
  {
   "cell_type": "code",
   "execution_count": 22,
   "id": "2c709e6e-3b1d-4381-9826-d7c464605db2",
   "metadata": {
    "scrolled": true
   },
   "outputs": [
    {
     "name": "stdout",
     "output_type": "stream",
     "text": [
      "SELECT text FROM sec_text_chunk WHERE page_label = 6 ORDER BY embedding <-> '[0.10314583778381348, 0.08944398164749146, 0.06935451179742813, -0.18321339786052704, 0.23135986924171448, 0.14508792757987976, 0.6104738712310791, 0.49637719988822937, -0.4523080289363861, 0.1558869481086731, 0.09432807564735413, -0.23364728689193726, -0.1073421984910965, 0.14536398649215698, -0.2611939609050751, 0.3349110186100006, 0.11877381056547165, -0.2610839903354645, -0.3972489535808563, 0.33071762323379517, -0.0072824954986572266, -0.10495567321777344, 0.005072273313999176, -0.5210931301116943, 0.11470197141170502, 0.14433957636356354, -0.2794881761074066, 0.14862145483493805, -0.23524823784828186, -1.6242538690567017, 0.06374067813158035, -0.25959348678588867, 0.4114918112754822, -0.6021175980567932, -0.10328933596611023, 0.033006444573402405, -0.1395030915737152, 0.38823822140693665, 0.18162664771080017, 0.004405766725540161, -0.15542861819267273, 0.08471416682004929, 0.15566860139369965, 0.3391798734664917, 0.1842288076877594, -0.39970892667770386, -0.012976102530956268, -0.3188415467739105, 0.06662651896476746, -0.0472567193210125, -0.06901103258132935, -0.5673221349716187, -0.003491494804620743, 0.5424165725708008, 0.5371884107589722, -0.26620757579803467, 0.34200549125671387, -0.04955706000328064, -0.3216678202152252, 0.3780757784843445, 0.2395530343055725, 0.08915809541940689, -2.0506560802459717, 0.5298601388931274, 0.15993131697177887, 0.06211899593472481, -0.7065428495407104, 0.09542527794837952, 0.3409648537635803, 0.1589089334011078, -0.46807074546813965, 0.24143633246421814, -0.19153982400894165, 0.4862242043018341, 0.34220847487449646, -0.17351150512695312, -0.12949712574481964, -0.2736119031906128, 0.16994062066078186, 0.24790635704994202, 0.12118303775787354, 0.4423635005950928, -0.15455219149589539, -0.41753432154655457, -0.25362926721572876, -0.5776161551475525, 0.545734167098999, -0.11354788392782211, 0.16609016060829163, 0.1725856065750122, 0.035643815994262695, -0.2389175444841385, -0.1625332087278366, 0.19495591521263123, -0.5139734745025635, -0.29653286933898926, 0.3361191749572754, 0.07885082066059113, -0.5744791030883789, 5.108044624328613, -0.30379486083984375, -0.149239644408226, 0.43668630719184875, -0.06851538270711899, -0.06387341022491455, -0.34926024079322815, 0.14138920605182648, -0.29621219635009766, -0.02371942810714245, -0.027487821877002716, 0.5840373635292053, 0.1849200427532196, 0.32787996530532837, -0.9314836263656616, 0.11975076049566269, -0.09407836198806763, 0.26650530099868774, 0.019268125295639038, 0.10859960317611694, 0.14165832102298737, -0.01958942785859108, 0.22393622994422913, 0.09429661929607391, 0.26589903235435486, 0.29124850034713745, -0.6025082468986511, 0.11670111864805222, 0.9169896245002747, 0.29730838537216187, -0.036791637539863586, 0.39538344740867615, -0.1850782334804535, -0.07545584440231323, 0.18566030263900757, 0.09392685443162918, -0.1746452897787094, -0.17941628396511078, 0.12184112519025803, 0.19323259592056274, 0.0036386847496032715, -0.15880516171455383, -0.5604026317596436, -0.17201068997383118, -0.7911974787712097, -0.20137912034988403, 0.6521016955375671, -0.00042942166328430176, -0.09625042974948883, -0.2059098333120346, 0.22511045634746552, -0.13926854729652405, 0.15117555856704712, -0.03484022989869118, -0.040385693311691284, 0.22238054871559143, -0.017148829996585846, 0.004186391830444336, -0.03420990705490112, -0.11530596762895584, -0.288486510515213, -0.1753939986228943, -0.12147478759288788, -0.34722012281417847, 0.810719907283783, 0.46389710903167725, -0.4605451822280884, -0.08689609169960022, 0.21960888803005219, -0.09970928728580475, -0.3187448978424072, 0.3697037100791931, 0.11672670394182205, -0.03555501997470856, -0.22788909077644348, 0.503882646560669, 0.29578402638435364, -0.15145984292030334, 0.09643220156431198, 0.08793672174215317, -0.11656655371189117, -0.0728345662355423, -0.03165946155786514, -0.48469308018684387, 0.44229263067245483, -0.1315952092409134, -0.5094507932662964, -0.28297296166419983, -0.1668245792388916, 0.16140258312225342, 0.13162550330162048, -0.38787946105003357, -0.19719785451889038, -0.6949610114097595, 0.0723811686038971, -0.35152819752693176, 0.011254377663135529, -0.2274245023727417, -0.38082680106163025, 0.18271303176879883, -0.4654134511947632, 0.3148919939994812, 0.659364640712738, -0.14133363962173462, 0.3937123417854309, -0.006608609110116959, 0.44748494029045105, 0.05740894749760628, -0.3938773572444916, 0.5471665859222412, 0.21999554336071014, -0.20621943473815918, 0.16785168647766113, 0.6804161667823792, 0.0288325697183609, -0.36819687485694885, 0.04939606413245201, 0.07574301958084106, -0.010987065732479095, 0.3731832802295685, -0.018509559333324432, 0.7410800457000732, -0.2321457415819168, 0.028216242790222168, -2.6133060455322266, -0.02344338968396187, 0.023900404572486877, -0.2673078179359436, -0.1091737151145935, -0.15346477925777435, -0.073163703083992, -0.26300185918807983, -0.027208462357521057, 0.468618780374527, 0.7011667490005493, 0.08123358339071274, -0.5884355306625366, 0.14706683158874512, -0.19595128297805786, -0.0790104866027832, -0.10869163274765015, -0.22916892170906067, -0.46441277861595154, 0.343464195728302, -0.11405496299266815, 0.07396647334098816, -0.1620774269104004, 0.06960240006446838, 0.3074522614479065, 0.19104045629501343, 1.5380687713623047, -0.20997032523155212, -0.32982900738716125, -0.034271370619535446, 0.6899835467338562, 0.4363945424556732, 0.07139573991298676, -0.8567167520523071, 0.6323758363723755, -0.14709007740020752, -0.2469385862350464, -0.14489077031612396, -0.5879557728767395, -0.312203049659729, -0.4484215974807739, 0.023731324821710587, -0.49191462993621826, 0.10224033892154694, -1.0064501762390137, -0.232063427567482, 0.01242636889219284, 0.7226496934890747, -0.30200058221817017, 0.45072034001350403, 0.07132191956043243, 0.0880255401134491, 0.3712116777896881, 0.18969865143299103, 0.3326323926448822, -0.6292931437492371, -0.8934498429298401, 0.33357328176498413, -0.6344037652015686, 0.33041268587112427, -0.495933473110199, -0.0020909830927848816, 0.7645497918128967, -0.07418878376483917, 0.4237872362136841, -0.11673298478126526, -0.12730246782302856, 0.08797426521778107, -0.19820502400398254, -0.26160216331481934, -0.5762180685997009, 0.6949755549430847, -0.2559434175491333, 0.011189058423042297, 0.34334874153137207, -0.24804669618606567, 0.32899224758148193, -0.3190172016620636, -0.3854708671569824, -0.0429106131196022, -0.08040155470371246, -0.5769236087799072, 0.08021138608455658, 0.2853050231933594, -0.05369065701961517, -0.26540982723236084, -0.28206244111061096, -0.204762265086174, 0.21275635063648224, -0.06949887424707413, -0.2591060996055603, -0.31755709648132324, -0.09544951468706131, -0.13663291931152344, 0.23458057641983032, 0.05793829634785652, -2.8060035705566406, 0.07899563759565353, 0.14703845977783203, 0.4849845767021179, -0.1793707311153412, 0.048712097108364105, 0.5411968231201172, 0.022323183715343475, 0.6560803055763245, 0.28767237067222595, 0.1939072459936142, 0.25120893120765686, 0.4390762746334076, -0.45448264479637146, 0.4966285824775696, -0.024426117539405823, 0.3536258041858673, -0.09605420380830765, 0.09241640567779541, 0.11821885406970978, 0.3971943259239197, 0.32986003160476685, 1.3988580703735352, -0.1634950339794159, -0.15714313089847565, 0.10789898037910461, 0.09123590588569641, 0.262134850025177, -0.06889092177152634, 0.044050849974155426, 0.38228702545166016, -0.052591994404792786, 0.5099252462387085, -0.1065983846783638, 0.11860962212085724, -0.03318210691213608, -0.025456760078668594, -0.005509614944458008, 0.34004637598991394, -0.33567461371421814, 0.16999834775924683, 0.04699702933430672, -0.10186084359884262, -0.07492496073246002, 0.7879638671875, -0.08687972277402878, -0.35565170645713806, -0.8445014357566833, 0.31114599108695984, 0.027531161904335022, -0.15884530544281006, -0.17999501526355743, 0.12794184684753418, -0.016954470425844193, 0.2639600336551666, 0.21732135117053986, 0.1553889513015747, -0.22242657840251923, 0.07789444923400879, 0.04362457990646362, 0.1516321450471878, -0.30370277166366577, -0.19896548986434937, 0.4328194260597229, 0.02485525608062744]' LIMIT 5;\n"
     ]
    }
   ],
   "source": [
    "print(response.metadata[\"sql_query\"])"
   ]
  },
  {
   "cell_type": "code",
   "execution_count": 23,
   "id": "3be4883c-86f6-4a2e-a536-ef23c828681e",
   "metadata": {},
   "outputs": [],
   "source": [
    "response = query_engine.query(\n",
    "    \"Tell me more about Lyft's real estate operating leases\",\n",
    ")"
   ]
  },
  {
   "cell_type": "code",
   "execution_count": 24,
   "id": "53e01b83-bf19-4f08-86b6-e85d75240bbb",
   "metadata": {},
   "outputs": [
    {
     "name": "stdout",
     "output_type": "stream",
     "text": [
      "Lyft's lease arrangements include vehicle rental agreements that are accounted for as operating leases. These leases do not meet any specific criteria that would categorize them otherwise. The company's leasehold improvements are amortized on a straight-line basis over the shorter of the term of the lease or the useful life of the assets.\n"
     ]
    }
   ],
   "source": [
    "print(str(response))"
   ]
  },
  {
   "cell_type": "code",
   "execution_count": 30,
   "id": "53e5d62b-e977-41dc-8839-105382960c1f",
   "metadata": {},
   "outputs": [
    {
     "name": "stdout",
     "output_type": "stream",
     "text": [
      "SELECT * FROM sec_text_chunk WHERE text LIKE '%Lyft%' AND text LIKE '%real estate%' AND text LIKE '%operating leases%' ORDER BY embedding <-> '[-0.06691089272499084, -0.41431307792663574, 0.2750679850578308, 0.19374045729637146, 0.08942480385303497, -0.16577985882759094, 0.399348646402359, 0.3634052\n"
     ]
    }
   ],
   "source": [
    "print(response.metadata[\"sql_query\"][:300])"
   ]
  },
  {
   "cell_type": "code",
   "execution_count": 33,
   "id": "4d148595-dc81-42e5-b49f-5b753b35fbe0",
   "metadata": {},
   "outputs": [
    {
     "name": "stdout",
     "output_type": "stream",
     "text": [
      "[(157, 93, 'lyft_2021.pdf', \"Leases that do not meet any of the above criteria are accounted for as operating leases.Lessor\\nThe\\n Company's lease arrangements include vehicle re ... (4356 characters truncated) ...  realized. Leasehold improvements are amortized on a straight-line basis over the shorter of the term of the lease, or the useful life of the assets.\", '[0.16887704,-0.22762142,0.040292107,0.2951868,0.034039058,-0.092776,0.23275128,0.12367551,0.17209437,-0.08910224,0.30044347,0.1590553,0.21984532,-0.1 ... (4111 characters truncated) ... 0.24707487,0.10685501,0.42726353,-0.16156487,-0.2705381,-0.15468368,0.100748956,-0.19910589,-0.06634029,-0.7986131,-0.14139938,0.55980897,0.31352338]')]\n"
     ]
    }
   ],
   "source": [
    "# looked at returned result\n",
    "print(response.metadata[\"result\"])"
   ]
  },
  {
   "cell_type": "code",
   "execution_count": 34,
   "id": "b8eed23b-859b-48bf-b2db-0d29b105d0c2",
   "metadata": {},
   "outputs": [],
   "source": [
    "# structured query\n",
    "response = query_engine.query(\n",
    "    \"Tell me about the max page number in this table\",\n",
    ")"
   ]
  },
  {
   "cell_type": "code",
   "execution_count": 35,
   "id": "67378df7-de00-4236-b7c8-4881b42ce818",
   "metadata": {},
   "outputs": [
    {
     "name": "stdout",
     "output_type": "stream",
     "text": [
      "The maximum page number in this table is 238.\n"
     ]
    }
   ],
   "source": [
    "print(str(response))"
   ]
  },
  {
   "cell_type": "code",
   "execution_count": 36,
   "id": "9ae4a799-e65e-403c-9cdf-33c482515d1b",
   "metadata": {},
   "outputs": [
    {
     "name": "stdout",
     "output_type": "stream",
     "text": [
      "SELECT MAX(page_label) FROM sec_text_chunk;\n"
     ]
    }
   ],
   "source": [
    "print(response.metadata[\"sql_query\"][:300])"
   ]
  },
  {
   "cell_type": "code",
   "execution_count": null,
   "id": "478b8213-7471-42cb-bc0d-dd1bd0be06fc",
   "metadata": {},
   "outputs": [],
   "source": []
  }
 ],
 "metadata": {
  "kernelspec": {
   "display_name": "llama_index_v2",
   "language": "python",
   "name": "llama_index_v2"
  },
  "language_info": {
   "codemirror_mode": {
    "name": "ipython",
    "version": 3
   },
   "file_extension": ".py",
   "mimetype": "text/x-python",
   "name": "python",
   "nbconvert_exporter": "python",
   "pygments_lexer": "ipython3",
   "version": "3.10.10"
  }
 },
 "nbformat": 4,
 "nbformat_minor": 5
}
