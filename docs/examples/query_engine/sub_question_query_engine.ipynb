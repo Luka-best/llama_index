{
 "cells": [
  {
   "cell_type": "markdown",
   "id": "954e61ed-b3b3-4445-af90-19046f6c1da2",
   "metadata": {
    "tags": []
   },
   "source": [
    "# Sub Question Query Engine"
   ]
  },
  {
   "cell_type": "code",
   "execution_count": 6,
   "id": "8365595c-4d7c-4e66-9e31-fa86d510185a",
   "metadata": {
    "tags": []
   },
   "outputs": [],
   "source": [
    "import nest_asyncio\n",
    "nest_asyncio.apply()"
   ]
  },
  {
   "cell_type": "code",
   "execution_count": 1,
   "id": "c3675b87-4d08-4f59-a971-48bf67c66ad0",
   "metadata": {
    "tags": []
   },
   "outputs": [
    {
     "name": "stderr",
     "output_type": "stream",
     "text": [
      "/Users/suo/miniconda3/envs/llama/lib/python3.9/site-packages/tqdm/auto.py:21: TqdmWarning: IProgress not found. Please update jupyter and ipywidgets. See https://ipywidgets.readthedocs.io/en/stable/user_install.html\n",
      "  from .autonotebook import tqdm as notebook_tqdm\n"
     ]
    }
   ],
   "source": [
    "from llama_index import GPTVectorStoreIndex, SimpleDirectoryReader\n",
    "from llama_index.tools import QueryEngineTool, ToolMetadata\n",
    "from llama_index.query_engine import SubQuestionQueryEngine"
   ]
  },
  {
   "cell_type": "code",
   "execution_count": 2,
   "id": "22b8b519-dd95-4dfb-9cdc-cb0004852036",
   "metadata": {
    "tags": []
   },
   "outputs": [],
   "source": [
    "pg_essay = SimpleDirectoryReader(input_dir=\"../data/paul_graham/\").load_data()"
   ]
  },
  {
   "cell_type": "code",
   "execution_count": 3,
   "id": "05376e9c-157e-466e-aa59-e3c307a64d8f",
   "metadata": {
    "tags": []
   },
   "outputs": [],
   "source": [
    "query_engine = GPTVectorStoreIndex.from_documents(pg_essay).as_query_engine()"
   ]
  },
  {
   "cell_type": "code",
   "execution_count": 4,
   "id": "dbff0cbd-9a1a-4acc-9870-03d05640125c",
   "metadata": {
    "tags": []
   },
   "outputs": [],
   "source": [
    "query_engine_tools = [QueryEngineTool(query_engine=query_engine, metadata=ToolMetadata(name='pg_essay', description='Paul Graham essay on What I Worked On'))]\n",
    "\n",
    "query_engine = SubQuestionQueryEngine.from_defaults(query_engine_tools=query_engine_tools)"
   ]
  },
  {
   "cell_type": "code",
   "execution_count": 20,
   "id": "a576ce5e-a6d1-470d-be51-84fbb31b4aa2",
   "metadata": {
    "tags": []
   },
   "outputs": [
    {
     "name": "stdout",
     "output_type": "stream",
     "text": [
      "Generated 2 sub questions.\n",
      "\u001b[36;1m\u001b[1;3m[pg_essay] Q: What did Paul Graham work on before YC?\n",
      "\u001b[0m\u001b[36;1m\u001b[1;3m[pg_essay] A: \n",
      "Before YC, Paul Graham worked on hacking, writing essays, and a new version of Arc. He used the new version of Arc to test it by writing Hacker News.\n",
      "\u001b[0m\u001b[33;1m\u001b[1;3m[pg_essay] Q: What did Paul Graham work on after YC?\n",
      "\u001b[0m\u001b[33;1m\u001b[1;3m[pg_essay] A: \n",
      "After YC, Paul Graham continued to write essays and work on other projects. He wrote Hacker News in Arc, and worked on a new version of Arc with Robert Morris. He also worked on other projects, such as trying to learn the most he could about startups in the shortest possible time.\n",
      "\u001b[0m"
     ]
    }
   ],
   "source": [
    "response = query_engine.query('How was Paul Grahams life different before and after YC?')"
   ]
  },
  {
   "cell_type": "code",
   "execution_count": 21,
   "id": "222d16a7-089a-4de0-b551-fcd785f3eb26",
   "metadata": {},
   "outputs": [
    {
     "name": "stdout",
     "output_type": "stream",
     "text": [
      "\n",
      "Before YC, Paul Graham worked on hacking, writing essays, and a new version of Arc. After YC, Paul Graham continued to write essays and work on other projects, such as trying to learn the most he could about startups in the shortest possible time. He also worked on a new version of Arc with Robert Morris and wrote Hacker News in Arc. Therefore, Paul Graham's life was different before and after YC in that he was able to focus more on learning about startups and working on a new version of Arc with Robert Morris.\n"
     ]
    }
   ],
   "source": [
    "print(response)"
   ]
  },
  {
   "cell_type": "code",
   "execution_count": null,
   "id": "89a40a72-8c67-45cf-8da7-b3b988b1d697",
   "metadata": {},
   "outputs": [],
   "source": []
  }
 ],
 "metadata": {
  "kernelspec": {
   "display_name": "Python 3 (ipykernel)",
   "language": "python",
   "name": "python3"
  },
  "language_info": {
   "codemirror_mode": {
    "name": "ipython",
    "version": 3
   },
   "file_extension": ".py",
   "mimetype": "text/x-python",
   "name": "python",
   "nbconvert_exporter": "python",
   "pygments_lexer": "ipython3",
   "version": "3.9.16"
  }
 },
 "nbformat": 4,
 "nbformat_minor": 5
}
