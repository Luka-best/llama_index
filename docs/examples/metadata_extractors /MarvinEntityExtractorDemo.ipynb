{
 "cells": [
  {
   "cell_type": "code",
   "execution_count": null,
   "metadata": {},
   "outputs": [],
   "source": [
    "from llama_index import SimpleDirectoryReader\n",
    "from llama_index.indices.service_context import ServiceContext\n",
    "from llama_index.llms import OpenAI\n",
    "from llama_index.node_parser import SimpleNodeParser\n",
    "from llama_index.node_parser.extractors import (\n",
    "    MetadataExtractor,\n",
    ")\n",
    "from llama_index.text_splitter import TokenTextSplitter\n",
    "from llama_index.node_parser.extractors.marvin_entity_extractor import (\n",
    "    MarvinEntityExtractor,\n",
    ")"
   ]
  },
  {
   "cell_type": "code",
   "execution_count": null,
   "metadata": {},
   "outputs": [],
   "source": [
    "import os\n",
    "\n",
    "os.environ[\"OPENAI_API_KEY\"] = \"<your-openai-api-key>\""
   ]
  },
  {
   "cell_type": "code",
   "execution_count": null,
   "metadata": {},
   "outputs": [],
   "source": [
    "documents = SimpleDirectoryReader(\"data\").load_data()"
   ]
  },
  {
   "cell_type": "code",
   "execution_count": null,
   "metadata": {},
   "outputs": [],
   "source": [
    "import marvin\n",
    "from marvin import ai_model\n",
    "from pydantic import BaseModel, Field\n",
    "\n",
    "marvin.settings.openai.api_key = os.environ[\"OPENAI_API_KEY\"]\n",
    "\n",
    "\n",
    "@ai_model\n",
    "class SportsSupplement(BaseModel):\n",
    "    name: str = Field(..., description=\"The name of the sports supplement\")\n",
    "    description: str = Field(..., description=\"A description of the sports supplement\")\n",
    "    pros_cons: str = Field(\n",
    "        ..., description=\"The pros and cons of the sports supplement\"\n",
    "    )"
   ]
  },
  {
   "cell_type": "code",
   "execution_count": null,
   "metadata": {},
   "outputs": [],
   "source": [
    "llm_model = \"gpt-3.5-turbo\"\n",
    "\n",
    "llm = OpenAI(temperature=0.1, model_name=llm_model, max_tokens=512)\n",
    "service_context = ServiceContext.from_defaults(llm=llm)\n",
    "\n",
    "# construct text splitter to split texts into chunks for processing\n",
    "# this takes a while to process, you can increase processing time by using larger chunk_size\n",
    "# file size is a factor too of course\n",
    "text_splitter = TokenTextSplitter(separator=\" \", chunk_size=512, chunk_overlap=128)\n",
    "\n",
    "# set the global service context object, avoiding passing service_context when building the index\n",
    "from llama_index import set_global_service_context\n",
    "\n",
    "set_global_service_context(service_context)\n",
    "\n",
    "# create metadata extractor\n",
    "metadata_extractor = MetadataExtractor(\n",
    "    extractors=[\n",
    "        MarvinEntityExtractor(\n",
    "            marvin_model=SportsSupplement, llm_model_string=llm_model\n",
    "        ),  # let's extract custom entities for each node.\n",
    "    ],\n",
    ")\n",
    "\n",
    "# create node parser to parse nodes from document\n",
    "node_parser = SimpleNodeParser(\n",
    "    text_splitter=text_splitter,\n",
    "    metadata_extractor=metadata_extractor,\n",
    ")\n",
    "\n",
    "# use node_parser to get nodes from documents\n",
    "nodes = node_parser.get_nodes_from_documents(documents)"
   ]
  },
  {
   "cell_type": "code",
   "execution_count": null,
   "metadata": {},
   "outputs": [],
   "source": [
    "from pprint import pprint\n",
    "\n",
    "for i in range(5):\n",
    "    pprint(nodes[i].metadata)"
   ]
  }
 ],
 "metadata": {
  "kernelspec": {
   "display_name": ".venv",
   "language": "python",
   "name": "python3"
  },
  "language_info": {
   "codemirror_mode": {
    "name": "ipython",
    "version": 3
   },
   "file_extension": ".py",
   "mimetype": "text/x-python",
   "name": "python",
   "nbconvert_exporter": "python",
   "pygments_lexer": "ipython3",
   "version": "3.10.12"
  },
  "orig_nbformat": 4
 },
 "nbformat": 4,
 "nbformat_minor": 2
}
