{
 "cells": [
  {
   "cell_type": "markdown",
   "id": "3bbc9a0e",
   "metadata": {},
   "source": [
    "<a href=\"https://colab.research.google.com/github/run-llama/llama_index/blob/main/docs/examples/multi_modal/gpt4v_multi_modal_retrieval.ipynb\" target=\"_parent\"><img src=\"https://colab.research.google.com/assets/colab-badge.svg\" alt=\"Open In Colab\"/></a>\n",
    "\n",
    "# Google Review Data for Multi-Modal Retrieval\n",
    "\n",
    "In this notebook, we show how to build a Multi-Modal simple ranking system.\n"
   ]
  },
  {
   "cell_type": "code",
   "execution_count": null,
   "id": "3d5512e6",
   "metadata": {},
   "outputs": [],
   "source": [
    "import os\n",
    "\n",
    "OPENAI_API_TOKEN = \"sk-<your-openai-api-token>\"\n",
    "os.environ[\"OPENAI_API_KEY\"] = OPENAI_API_TOKEN"
   ]
  },
  {
   "cell_type": "code",
   "execution_count": null,
   "id": "f685c548",
   "metadata": {},
   "outputs": [],
   "source": [
    "from pydantic import BaseModel\n",
    "\n",
    "\n",
    "class Restraunt(BaseModel):\n",
    "    \"\"\"Data model for an restraunt.\"\"\"\n",
    "\n",
    "    restraunt: str\n",
    "    food: str\n",
    "    discount: str\n",
    "    price: str\n",
    "    rating: str\n",
    "    review: str"
   ]
  },
  {
   "cell_type": "code",
   "execution_count": null,
   "id": "839a78bd",
   "metadata": {},
   "outputs": [],
   "source": [
    "from llama_index.multi_modal_llms import OpenAIMultiModal\n",
    "from llama_index import SimpleDirectoryReader\n",
    "\n",
    "# put your local directore here\n",
    "image_documents = SimpleDirectoryReader(\"./google_review_input\").load_data()\n",
    "\n",
    "openai_mm_llm = OpenAIMultiModal(\n",
    "    model=\"gpt-4-vision-preview\", api_key=OPENAI_API_TOKEN, max_new_tokens=1000\n",
    ")"
   ]
  },
  {
   "cell_type": "code",
   "execution_count": null,
   "id": "0ebfe916",
   "metadata": {},
   "outputs": [],
   "source": [
    "from llama_index.program import MultiModalLLMCompletionProgram\n",
    "from llama_index.output_parsers import PydanticOutputParser\n",
    "\n",
    "prompt_template_str = \"\"\"\\\n",
    "    can you summarize what is the in the image\\\n",
    "    and return the answer \\\n",
    "\"\"\"\n",
    "openai_program = MultiModalLLMCompletionProgram.from_defaults(\n",
    "    output_parser=PydanticOutputParser(Restraunt),\n",
    "    image_documents=image_documents,\n",
    "    prompt_template_str=prompt_template_str,\n",
    "    llm=openai_mm_llm,\n",
    "    verbose=True,\n",
    ")"
   ]
  },
  {
   "cell_type": "code",
   "execution_count": null,
   "id": "14d847ed",
   "metadata": {},
   "outputs": [
    {
     "name": "stdout",
     "output_type": "stream",
     "text": [
      "restraunt='Unnamed Restaurant' food='8 Wings or Chicken Poppers' discount='Black Friday Offer' price='$8.75' rating='Not Available' review='Not Available'\n"
     ]
    }
   ],
   "source": [
    "response = openai_program()\n",
    "print(str(response))"
   ]
  }
 ],
 "metadata": {
  "kernelspec": {
   "display_name": "Python 3 (ipykernel)",
   "language": "python",
   "name": "python3"
  },
  "language_info": {
   "codemirror_mode": {
    "name": "ipython",
    "version": 3
   },
   "file_extension": ".py",
   "mimetype": "text/x-python",
   "name": "python",
   "nbconvert_exporter": "python",
   "pygments_lexer": "ipython3"
  }
 },
 "nbformat": 4,
 "nbformat_minor": 5
}
