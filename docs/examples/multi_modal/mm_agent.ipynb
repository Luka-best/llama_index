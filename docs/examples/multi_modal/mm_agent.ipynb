{
 "cells": [
  {
   "cell_type": "markdown",
   "id": "9ce3dae4-9dd8-48fe-9f3a-6e1ddd79e5a0",
   "metadata": {},
   "source": [
    "# [Beta] Multi-modal ReAct Agent\n",
    "\n",
    "In this tutorial we show you how to construct a multi-modal ReAct agent.\n",
    "\n",
    "This is an agent that can take in both text and images as the input task definition, and go through chain-of-thought + tool use to try to solve the task.\n",
    "\n",
    "This is implemented with our lower-level Agent API, allowing us to explicitly step through the ReAct loop to show you what's happening in each step.\n",
    "\n",
    "We show two use cases:\n",
    "1. **RAG Agent**: Given text/images, can query a RAG pipeline to lookup the answers. (given a screenshot from OpenAI Dev Day 2023)\n",
    "2. **Web Agent**: Given text/images, can query a web tool to lookup relevant information from the web (given a picture of shoes).\n",
    "\n",
    "**NOTE**: This is explicitly a beta feature, the abstractions will likely change over time! \n",
    "\n",
    "**NOTE**: This currently only works with GPT-4V."
   ]
  },
  {
   "cell_type": "markdown",
   "id": "d50c7396-e56a-4018-bb45-596c218a1947",
   "metadata": {},
   "source": [
    "## Augment Image Analysis with a RAG Pipeline\n",
    "\n",
    "In this section we create a multimodal agent equipped with a RAG Tool."
   ]
  },
  {
   "cell_type": "markdown",
   "id": "68bcdd1c-c69f-4da6-9712-29a8ad25b858",
   "metadata": {},
   "source": [
    "### Setup Data"
   ]
  },
  {
   "cell_type": "code",
   "execution_count": 61,
   "id": "54ce02e1-1edc-44fd-b160-0e15cc1961f1",
   "metadata": {},
   "outputs": [
    {
     "name": "stdout",
     "output_type": "stream",
     "text": [
      "--2024-01-02 20:24:33--  https://images.openai.com/blob/a2e49de2-ba5b-4869-9c2d-db3b4b5dcc19/new-models-and-developer-products-announced-at-devday.jpg?width=2000\n",
      "Resolving images.openai.com (images.openai.com)... 2606:4700:4400::6812:28cd, 2606:4700:4400::ac40:9333, 172.64.147.51, ...\n",
      "Connecting to images.openai.com (images.openai.com)|2606:4700:4400::6812:28cd|:443... connected.\n",
      "HTTP request sent, awaiting response... 200 OK\n",
      "Length: 300894 (294K) [image/jpeg]\n",
      "Saving to: ‘other_images/openai/dev_day.png’\n",
      "\n",
      "other_images/openai 100%[===================>] 293.84K  --.-KB/s    in 0.04s   \n",
      "\n",
      "2024-01-02 20:24:33 (7.38 MB/s) - ‘other_images/openai/dev_day.png’ saved [300894/300894]\n",
      "\n"
     ]
    }
   ],
   "source": [
    "!wget \"https://images.openai.com/blob/a2e49de2-ba5b-4869-9c2d-db3b4b5dcc19/new-models-and-developer-products-announced-at-devday.jpg?width=2000\" -O other_images/openai/dev_day.png"
   ]
  },
  {
   "cell_type": "code",
   "execution_count": 62,
   "id": "d0522215-4d36-4bbc-8c77-945c4e1bc9a4",
   "metadata": {},
   "outputs": [],
   "source": [
    "from llama_hub.web.simple_web.base import SimpleWebPageReader\n",
    "\n",
    "url = \"https://openai.com/blog/new-models-and-developer-products-announced-at-devday\"\n",
    "reader = SimpleWebPageReader(html_to_text=True)\n",
    "documents = reader.load_data(urls=[url])"
   ]
  },
  {
   "cell_type": "markdown",
   "id": "e7dfd978-7f56-4a15-9e56-019c7a35f35e",
   "metadata": {},
   "source": [
    "### Setup Tools"
   ]
  },
  {
   "cell_type": "code",
   "execution_count": null,
   "id": "24b510d5-419e-4963-bba9-cb76efcf7ba4",
   "metadata": {},
   "outputs": [],
   "source": [
    "from llama_index.llms import OpenAI\n",
    "from llama_index import ServiceContext, VectorStoreIndex\n",
    "from llama_index.tools import QueryEngineTool, ToolMetadata"
   ]
  },
  {
   "cell_type": "code",
   "execution_count": null,
   "id": "367e4884-bf62-45f1-9e0c-211379287bfb",
   "metadata": {},
   "outputs": [],
   "source": [
    "llm = OpenAI(temperature=0, model=\"gpt-3.5-turbo\")\n",
    "service_context = ServiceContext.from_defaults(llm=llm)"
   ]
  },
  {
   "cell_type": "code",
   "execution_count": null,
   "id": "60b78d55-5a36-4943-8a25-468e26566c56",
   "metadata": {},
   "outputs": [],
   "source": [
    "vector_index = VectorStoreIndex.from_documents(\n",
    "    documents, service_context=service_context\n",
    ")"
   ]
  },
  {
   "cell_type": "code",
   "execution_count": null,
   "id": "fc8bb089-f84f-465f-a9df-d883df82d839",
   "metadata": {},
   "outputs": [],
   "source": [
    "query_tool = QueryEngineTool(\n",
    "    query_engine=vector_index.as_query_engine(),\n",
    "    metadata=ToolMetadata(\n",
    "        name=f\"vector_tool\",\n",
    "        description=(\n",
    "            \"Useful to lookup new features announced by OpenAI\"\n",
    "            # \"Useful to lookup any information regarding the image\"\n",
    "        ),\n",
    "    ),\n",
    ")"
   ]
  },
  {
   "cell_type": "markdown",
   "id": "6aaa1543-5c43-43bd-8d22-fe2729a51b25",
   "metadata": {},
   "source": [
    "### Setup Agent"
   ]
  },
  {
   "cell_type": "code",
   "execution_count": null,
   "id": "f698d34d-6cb6-419b-b4f8-983f85ee2914",
   "metadata": {},
   "outputs": [],
   "source": [
    "from llama_index.agent.react_multimodal.step import MultimodalReActAgentWorker\n",
    "from llama_index.agent import AgentRunner\n",
    "from llama_index.multi_modal_llms import MultiModalLLM, OpenAIMultiModal\n",
    "from llama_index.agent import Task\n",
    "\n",
    "mm_llm = OpenAIMultiModal(model=\"gpt-4-vision-preview\", max_new_tokens=1000)\n",
    "\n",
    "# Option 2: Initialize AgentRunner with OpenAIAgentWorker\n",
    "react_step_engine = MultimodalReActAgentWorker.from_tools(\n",
    "    [query_tool],\n",
    "    # [],\n",
    "    multi_modal_llm=mm_llm,\n",
    "    verbose=True,\n",
    ")\n",
    "agent = AgentRunner(react_step_engine)"
   ]
  },
  {
   "cell_type": "code",
   "execution_count": null,
   "id": "afbe933d-fa7c-4d56-8c0f-faf1746bc09d",
   "metadata": {},
   "outputs": [],
   "source": [
    "from llama_index.schema import ImageDocument\n",
    "\n",
    "query_str = \"The photo shows some new features released by OpenAI. Can you pinpoint the features in the photo and give more details using relevant tools?\"\n",
    "# query_str = \"Tell me more about code_interpreter and how it's used\"\n",
    "# image document\n",
    "image_document = ImageDocument(image_path=\"other_images/openai/dev_day.png\")\n",
    "\n",
    "task = agent.create_task(\n",
    "    query_str,\n",
    "    extra_state={\"image_docs\": [image_document]},\n",
    ")"
   ]
  },
  {
   "cell_type": "code",
   "execution_count": null,
   "id": "18c30caf-2f3a-4202-8fde-b1c3099db726",
   "metadata": {},
   "outputs": [],
   "source": [
    "def execute_step(agent: AgentRunner, task: Task):\n",
    "    step_output = agent.run_step(task.task_id)\n",
    "    if step_output.is_last:\n",
    "        response = agent.finalize_response(task.task_id)\n",
    "        print(f\"> Agent finished: {str(response)}\")\n",
    "        return response\n",
    "    else:\n",
    "        return None\n",
    "\n",
    "\n",
    "def execute_steps(agent: AgentRunner, task: Task):\n",
    "    response = execute_step(agent, task)\n",
    "    while response is None:\n",
    "        response = execute_step(agent, task)\n",
    "    return response"
   ]
  },
  {
   "cell_type": "code",
   "execution_count": null,
   "id": "a0900fb2-9e16-4d75-9aa4-23180decffa7",
   "metadata": {},
   "outputs": [],
   "source": [
    "# Run this and not the below if you just want to run everything at once.\n",
    "# response = execute_steps(agent, task)"
   ]
  },
  {
   "cell_type": "code",
   "execution_count": null,
   "id": "934df138-6fb7-4adb-903d-c7e7a008b1e1",
   "metadata": {},
   "outputs": [],
   "source": [
    "response = execute_step(agent, task)"
   ]
  },
  {
   "cell_type": "code",
   "execution_count": null,
   "id": "85783870-d51b-46cb-8588-3de1bdf1feb9",
   "metadata": {},
   "outputs": [],
   "source": [
    "response = execute_step(agent, task)"
   ]
  },
  {
   "cell_type": "code",
   "execution_count": null,
   "id": "c45113bd-73aa-44f5-b803-652231fcb92a",
   "metadata": {},
   "outputs": [
    {
     "name": "stdout",
     "output_type": "stream",
     "text": [
      "user: Observation: The latest features released by OpenAI include the GPT-4 Turbo model, the Assistants API, and multimodal capabilities such as vision, image creation (DALLÂ·E 3), and text-to-speech (TTS). These features were announced in a recent blog post and will be rolled out to OpenAI customers starting at 1pm PT today.\n"
     ]
    }
   ],
   "source": [
    "print(str(response))"
   ]
  },
  {
   "cell_type": "markdown",
   "id": "f60e6265-0b30-477f-9b09-d5268c76f040",
   "metadata": {},
   "source": [
    "## Augment Image Analysis with Web Search\n",
    "\n",
    "In this example we show you how to setup a GPT-4V powered agent to lookup information on the web to help better explain a given image."
   ]
  },
  {
   "cell_type": "code",
   "execution_count": null,
   "id": "2c3631cc-5a6c-4bb7-a972-34467e96c399",
   "metadata": {},
   "outputs": [],
   "source": [
    "from llama_hub.tools.metaphor.base import MetaphorToolSpec\n",
    "from llama_index.agent.react_multimodal.step import MultimodalReActAgentWorker\n",
    "from llama_index.agent import AgentRunner\n",
    "from llama_index.multi_modal_llms import MultiModalLLM, OpenAIMultiModal\n",
    "from llama_index.agent import Task\n",
    "\n",
    "metaphor_tool_spec = MetaphorToolSpec(\n",
    "    api_key=\"f6e1ff14-56be-4ab8-a4e9-a6924f693cdc\",\n",
    ")\n",
    "metaphor_tools = metaphor_tool_spec.to_tool_list()"
   ]
  },
  {
   "cell_type": "code",
   "execution_count": null,
   "id": "99c37097-cd5c-4819-b42e-f19cc4f268be",
   "metadata": {},
   "outputs": [],
   "source": [
    "mm_llm = OpenAIMultiModal(model=\"gpt-4-vision-preview\", max_new_tokens=1000)\n",
    "\n",
    "# Option 2: Initialize AgentRunner with OpenAIAgentWorker\n",
    "react_step_engine = MultimodalReActAgentWorker.from_tools(\n",
    "    metaphor_tools,\n",
    "    # [],\n",
    "    multi_modal_llm=mm_llm,\n",
    "    verbose=True,\n",
    ")\n",
    "agent = AgentRunner(react_step_engine)"
   ]
  },
  {
   "cell_type": "code",
   "execution_count": null,
   "id": "9a692881-f70e-4815-a89a-3b584ec1b844",
   "metadata": {},
   "outputs": [],
   "source": [
    "from llama_index.schema import ImageDocument\n",
    "\n",
    "query_str = \"Look up some reviews regarding these shoes.\"\n",
    "image_document = ImageDocument(image_path=\"amazon_images_test_img.png\")\n",
    "\n",
    "task = agent.create_task(\n",
    "    query_str, extra_state={\"image_docs\": [image_document]}\n",
    ")"
   ]
  },
  {
   "cell_type": "code",
   "execution_count": null,
   "id": "6621c3aa-22c2-46e9-b405-9c99d3b4d657",
   "metadata": {},
   "outputs": [
    {
     "name": "stdout",
     "output_type": "stream",
     "text": [
      "\u001b[1;3;38;5;200mThought: The image shows a pair of shoes from a website that appears to be selling them. The user is asking for reviews of these shoes, so I will use the search tool to find reviews.\n",
      "Action: search\n",
      "Action Input: {'query': 'reviews for Adidas Ultraboost 1.0 shoes'}\n",
      "\u001b[0m[Metaphor Tool] Autoprompt: Here are some reviews for Adidas Ultraboost 1.0 shoes:\n",
      "\u001b[1;3;34mObservation: [{'title': 'Adidas Ultraboost Review : 7 pros, 2 cons (2023)', 'url': 'https://runrepeat.com/adidas-ultra-boost', 'id': 'Xqa5dR7IR24En7uL5BCTEg'}, {'title': 'Adidas Ultraboost 22 Review : 11 pros, 3 cons (2023)', 'url': 'https://runrepeat.com/adidas-ultraboost-22', 'id': 'k0iu2fLqLw4KNSh0tVxFHA'}, {'title': 'Adidas UltraBoost 2020 Review', 'url': 'https://www.runningshoesguru.com/2020/02/adidas-ultraboost-2020-review/', 'id': 'dws0o3TLyDIhRwdNndrP2g'}, {'title': 'Adidas Ultraboost Uncaged Parley Review 2023, Facts, Deals (£130)', 'url': 'https://runrepeat.com/uk/adidas-ultraboost-uncaged-parley', 'id': '3xCW3PGmmkLWL36wOHuKBw'}, {'title': 'NEW ARRIVALS', 'url': 'http://www.adidasultraboost.us.org/', 'id': 'NhKaTjMI_rIIS0tWLrJXAA'}, {'title': 'Adidas Ultraboost Laceless Review 2023, Facts, Deals ($86)', 'url': 'https://runrepeat.com/adidas-ultra-boost-laceless?selected_color=138767', 'id': '_XnIy8k4SHpszEbDVr3b3Q'}, {'title': 'Adidas Pureboost Review : 9 pros, 3 cons (2023)', 'url': 'https://runrepeat.com/adidas-pure-boost', 'id': 'SA-goQjdeeuSCY5BulLkjg'}, {'title': 'adidas Ultraboost Men/Women $130, Kids $90, Trefoil Backpack $30, ID Tote Bag $35 & More @ adidas', 'url': 'https://www.ozbargain.com.au/node/434177#comment-6881500', 'id': 'XTLfy32g1pIxKTHw-aQ_Nw'}, {'title': 'Adidas® Pureboost 23 - Release Date, Price & Features', 'url': 'https://bestwalkingshoes4men.com/adidas-pureboots/', 'id': 'yQ8IwywRHDs6TMDXeL7thA'}, {'title': '[adidas] Adidas Ultraboost - 40% off - $150.00 - RedFlagDeals.com Forums', 'url': 'https://forums.redflagdeals.com/adidas-adidas-ultraboost-40-off-150-00-2259189/', 'id': 'Rw_Kp4GJJuvt77Vfc_SJcA'}]\n",
      "\u001b[0m"
     ]
    }
   ],
   "source": [
    "response = execute_step(agent, task)"
   ]
  },
  {
   "cell_type": "code",
   "execution_count": null,
   "id": "2e77161b-50d6-4fb9-934e-336a0eaf1e30",
   "metadata": {},
   "outputs": [
    {
     "name": "stdout",
     "output_type": "stream",
     "text": [
      "\u001b[1;3;38;5;200mThought: I have a list of URLs that contain reviews for Adidas Ultraboost shoes. I will retrieve the document summaries for the first few links that seem most relevant to provide the user with a summary of the reviews.\n",
      "Action: retrieve_documents\n",
      "Action Input: {'ids': ['Xqa5dR7IR24En7uL5BCTEg', 'k0iu2fLqLw4KNSh0tVxFHA', 'dws0o3TLyDIhRwdNndrP2g']}\n",
      "\u001b[0m\u001b[1;3;34mObservation: [Document(id_='22d786e1-4da4-4063-af87-668b3a134401', embedding=None, metadata={}, excluded_embed_metadata_keys=[], excluded_llm_metadata_keys=[], relationships={}, hash='c64c77e35afc558770887313cea7654f21f44e6a0c64b6dda48165b7fd9ae5cb', text='<div><section><h2>\\n Comparison to similar running shoes\\n </h2> <table><tbody><tr><th> Same brand only</th> <th><p> + + Add a product</p></th><th><p> + + Add a product</p></th><th><p> + + Add a product</p></th><th><p> + + Add a product</p></th><th><p> + + Add a product</p></th><th><p> + + Add a product</p></th><th><p> + + Add a product</p></th></tr><tr><th>CoreScore</th> <td></td><td></td><td></td><td></td><td></td><td></td><td></td></tr><tr><th>Users rating</th> <td></td><td></td><td></td><td></td><td></td><td></td><td></td></tr><tr><th>Experts</th> <td></td><td></td><td></td><td></td><td></td><td></td><td></td></tr><tr><th>Best price</th> <td></td><td></td><td></td><td></td><td></td><td></td><td></td></tr><tr><th>Ranking</th> <td></td><td></td><td></td><td></td><td></td><td></td><td></td></tr><tr><th>Popularity</th> <td></td><td></td><td></td><td></td><td></td><td></td><td></td></tr><tr><th># of colorways</th> <td></td><td></td><td></td><td></td><td></td><td></td><td></td></tr></tbody></table></section><div><article><div><p> Table of contents <a href=\"#rr-top-section\">Best Prices</a><a href=\"#corescore\">CoreScore</a><a href=\"#product-intro\">Verdict</a><a href=\"#pros\">Pros</a><a href=\"#cons\">Cons</a><a href=\"#comparison\">Comparison</a><a href=\"#adidas-ultraboost-review\">Adidas Ultraboost review</a><a href=\"#the-adidas-ultraboost-for-both-short-and-long-runs\">The Adidas Ultraboost for both short and long runs</a><a href=\"#lightweight-design\">Lightweight design</a><a href=\"#comfortable-and-responsive-300-miles-in\">Comfortable and responsive 300 miles in</a><a href=\"#the-best-looking-shoe-you-could-wear\">The best-looking shoe you could wear</a><a href=\"#continental-rubber-outsole\">Continental rubber outsole</a><a href=\"#not-for-wet-conditions\">Not for wet conditions</a><a href=\"#the-ultraboost-is-way-too-expensive\">The Ultraboost is way too expensive</a><a href=\"#facts\">Facts / Specs</a><a href=\"#popularity_section\">Popularity</a><a href=\"#video-reviews\">Video reviews</a></p></div> <div>\\n<h2>Adidas Ultraboost review</h2>\\n<p>The Adidas Ultraboost is an incredibly expensive but versatile shoe. Whether you\\'re running a half marathon or going out on a date, these will serve you well. The price tag is heavy but they are a good value due to the hundreds of miles you will get out of them.</p>\\n<p></p>\\n<p>The shoe is lightweight, breathable, and comfortable making it the only shoe to date I would wear without a sock. I would not recommend it to anyone in a really wet climate as these don\\'t mix well with rain.</p>\\n<p>Price tag aside, these were the first Adidas Boost I purchased. I instantly fell in love and now own 7 different models.</p>\\n<h2>The Adidas Ultraboost for both short and long runs</h2>\\n<p>After putting over 500 miles on these shoes, the Ultraboost has served me well for both short and long runs. Although a lot of people have complained about the breathability of the shoe', start_char_idx=None, end_char_idx=None, text_template='{metadata_str}\\n\\n{content}', metadata_template='{key}: {value}', metadata_seperator='\\n'), Document(id_='46f04a3f-33d2-490a-8b40-93dcaa4cd133', embedding=None, metadata={}, excluded_embed_metadata_keys=[], excluded_llm_metadata_keys=[], relationships={}, hash='5b9c4e819e4cf8cc612c609985c7785ccc3fcaa6e9957cb8d8fb4075e8ebca8b', text='<div><section><h2>\\n Comparison to similar running shoes\\n </h2> <table><tbody><tr><th> Same brand only</th> <th><p> + + Add a product</p></th><th><p> + + Add a product</p></th><th><p> + + Add a product</p></th><th><p> + + Add a product</p></th><th><p> + + Add a product</p></th><th><p> + + Add a product</p></th><th><p> + + Add a product</p></th></tr><tr><th>CoreScore</th> <td></td><td></td><td></td><td></td><td></td><td></td><td></td></tr><tr><th>Users rating</th> <td></td><td></td><td></td><td></td><td></td><td></td><td></td></tr><tr><th>Experts</th> <td></td><td></td><td></td><td></td><td></td><td></td><td></td></tr><tr><th>Best price</th> <td></td><td></td><td></td><td></td><td></td><td></td><td></td></tr><tr><th>Ranking</th> <td></td><td></td><td></td><td></td><td></td><td></td><td></td></tr><tr><th>Popularity</th> <td></td><td></td><td></td><td></td><td></td><td></td><td></td></tr><tr><th># of colorways</th> <td></td><td></td><td></td><td></td><td></td><td></td><td></td></tr></tbody></table></section><div><article><div><p> Table of contents <a href=\"#rr-top-section\">Best Prices</a><a href=\"#corescore\">CoreScore</a><a href=\"#product-intro\">Verdict</a><a href=\"#pros\">Pros</a><a href=\"#cons\">Cons</a><a href=\"#comparison\">Comparison</a><a href=\"#adidas-ultraboost-22-review-and-lab-test\">Adidas Ultraboost 22 review and lab test</a><a href=\"#who-the-shoe-is-for\">Who the shoe is for</a><a href=\"#who-the-ultraboost-22-is-not-for\">Who the Ultraboost 22 is not for</a><a href=\"#a-tried-and-tested-design\">A tried and tested design</a><a href=\"#the-adidas-ultraboost-22-has-a-tight-upper\">The Adidas Ultraboost 22 has a tight upper</a><a href=\"#excellent-lockdown\">Excellent lockdown</a><a href=\"#the-ultraboost-midsole-is-the-stuff-of-dreams\">The Ultraboost midsole is the stuff of dreams</a><a href=\"#the-adidas-ultraboost-22-tries-to-add-speed\">The Adidas Ultraboost 22 tries to add speed</a><a href=\"#flexible-and-fairly-consistent\">Flexible and fairly consistent</a><a href=\"#the-ultraboost-22-also-look-incredible\">The Ultraboost 22 also look incredible</a><a href=\"#the-continental-grip-is-insane\">The Continental grip is insane</a><a href=\"#conclusion\">Conclusion</a><a href=\"#complete-lab-specs-overview\">Complete lab-specs overview</a><a href=\"#facts\">Facts / Specs</a><a href=\"#popularity_section\">Popularity</a></p></div> <div><h2>Adidas Ultraboost 22 review and lab test</h2>\\n<p></p>\\n<p>The Adidas Ultraboost 22s are probably more popular as a sneaker than a running shoe. Even so, Adidas has put huge care and thought into the construction of this super comfortable, plush runner.</p>\\n<h2>Who the shoe is for</h2>\\n<p>The Adidas Ultraboost 22 utilizes its comfy', start_char_idx=None, end_char_idx=None, text_template='{metadata_str}\\n\\n{content}', metadata_template='{key}: {value}', metadata_seperator='\\n'), Document(id_='e4accc2e-16c0-4833-8a7a-0e246ae60411', embedding=None, metadata={}, excluded_embed_metadata_keys=[], excluded_llm_metadata_keys=[], relationships={}, hash='cdb0b814a443b4b32bab5a613951fdb3d58e0d646ff0557cbfffebf4be0850bd', text='<div><div><p>Everyone, runner or not, has heard of the Adidas Ultra Boost running shoe. It is a popular everyday shoe for thousands of people. This is the type of shoe that people recognize on the street, even if they don’t run.</p><p>In fact, when I wore them to school, my students recognized them right off. However, Adidas originally designed this shoe as a runner, and put technology into it that would make for a good daily trainer.</p><p>They hit that mark, it is a good daily trainer, but they realized the potential they had with the design and popularity of it as a fashion shoe.</p><p>In the running world, the Ultra Boost will compete against the likes of the <a href=\"https://www.runningshoesguru.com/2019/05/brooks-glycerin-17-review/\">Brooks Glycerin</a>, <a href=\"https://www.runningshoesguru.com/2020/01/new-balance-fresh-foam-1080v10-review/\">New Balance 1080</a>, <a href=\"https://www.runningshoesguru.com/2020/01/saucony-triumph-17-review/\">Saucony Triumph</a> and other premium running shoes.</p><p>However, those other offerings are roughly $30 cheaper and arguably offer more running technology.</p><h2>Adidas UltraBoost 2020 First Impressions</h2><div>\\n<p>Adidas UltraBoost 2020 – Pair</p></div><p>When the shoes arrived I was excited. I had read and heard much about the Ultra Boosts, and I have always wanted to try them. Upon opening the box I was a little disappointed with a white-on-white colorway.</p><p>When looking at those available, at least not directly from Adidas, the colorways were al boring. But white shoes get dirty no matter what you do.</p><p>Beyond the color, the design and look of the shoe is nice, and it has a very appealing single-piece look.</p><p>When I first put them on, they were incredibly comfortable for wearing around the house. When I wore them for a full day at school, they were very comfortable.</p><p>Cushioned, but not too soft, and they look great with a work outfit. <strong>Upon my first run with them, they were adequate but not exceptional</strong>.</p><h2>Adidas UltraBoost 2020 Sole Unit</h2><div>\\n<p>Adidas UltraBoost 2020 – Medial Side</p></div><p>The name of the shoe is based off the sole unit, so this is really where Adidas put most of their effort. The Ultra Boost uses an updated Boost foam material under the entire foot.</p><p>The material advertises 20% more boost than before. I have never ran in the Ultra Boosts, so I cannot attest to this claim, however, these shoes did show a good amount of energy return during my runs.</p><p>Embedded inside the Boost foam a floating torsion spring for an enhanced transition and a noticeable push forward. This spring was very noticeable when I pushed the tempo a little. The snap it gave was nice.</p><div>\\n<p>Adidas UltraBoost 2020 – Sole</p></div><p>The outsole is the traditional Continental Stretchweb that Adidas uses on the Ultra Boosts. This outsole offers a larger contact area which translates to superior grip.</p><p>This was a strong point for the shoes, they never once slipped.</p><p>At 27mm under the heel and 17mm under the forefoot, the cushion is responsive, but not substantial for longer runs. One thing I felt as I ran in them was that these shoes were not the best on a surface like crushed gravel.</p><p>On my one run on gravel, I felt many of the rocks individually underfoot. And that is not a pleasant experience.</p><h2>Adidas UltraBoost 2020 Upper Unit</h2><div>\\n<p>Adidas UltraBoost 2020 – Top</p></div><p>The upper is a one-piece woven sock upper called “Primeknit 360” which completely encompasses the foot, and is tight enough to add some structure and support throughout the foot.</p><p>This knit material is very breathable, to the point where winter running was close to uncomfortable. However, on the warmer runs, it was nice.</p', start_char_idx=None, end_char_idx=None, text_template='{metadata_str}\\n\\n{content}', metadata_template='{key}: {value}', metadata_seperator='\\n')]\n",
      "\u001b[0m"
     ]
    }
   ],
   "source": [
    "response = execute_step(agent, task)"
   ]
  },
  {
   "cell_type": "code",
   "execution_count": null,
   "id": "54e1b6d7-f940-4806-8418-ab86074dda17",
   "metadata": {},
   "outputs": [
    {
     "name": "stdout",
     "output_type": "stream",
     "text": [
      "\u001b[1;3;38;5;200mThought: I can answer without using any more tools.\n",
      "Response: The reviews for the Adidas Ultraboost shoes highlight several key points:\n",
      "\n",
      "1. The Adidas Ultraboost is praised for being versatile, suitable for both running and casual wear. It is considered expensive but offers good value due to its durability and the number of miles one can get out of them. The shoes are described as lightweight, breathable, and comfortable enough to wear without socks. However, they are not recommended for wet conditions as they do not perform well in the rain.\n",
      "\n",
      "2. The Adidas Ultraboost 22 is noted for its popularity as a sneaker rather than just a running shoe. It is described as super comfortable and plush, with a design that has received a lot of care and thought. The shoe is recommended for its comfort but may not be suitable for those looking for a tighter upper or a shoe specifically optimized for speed.\n",
      "\n",
      "3. The Adidas Ultraboost 2020 is recognized as a good daily trainer and a fashionable shoe. It competes with other premium running shoes but is slightly more expensive, with some other models arguably offering more running technology. The shoe is comfortable for everyday wear and has a responsive sole unit with good energy return. The Continental Stretchweb outsole provides superior grip. However, the shoe may not be the best choice for running on surfaces like crushed gravel, as it does not provide enough protection from feeling the rocks underfoot.\n",
      "\n",
      "Overall, the Ultraboost series is well-regarded for comfort and style, though there are some considerations to keep in mind regarding price and specific running conditions.\n",
      "\u001b[0m> Agent finished: The reviews for the Adidas Ultraboost shoes highlight several key points:\n",
      "\n",
      "1. The Adidas Ultraboost is praised for being versatile, suitable for both running and casual wear. It is considered expensive but offers good value due to its durability and the number of miles one can get out of them. The shoes are described as lightweight, breathable, and comfortable enough to wear without socks. However, they are not recommended for wet conditions as they do not perform well in the rain.\n",
      "\n",
      "2. The Adidas Ultraboost 22 is noted for its popularity as a sneaker rather than just a running shoe. It is described as super comfortable and plush, with a design that has received a lot of care and thought. The shoe is recommended for its comfort but may not be suitable for those looking for a tighter upper or a shoe specifically optimized for speed.\n",
      "\n",
      "3. The Adidas Ultraboost 2020 is recognized as a good daily trainer and a fashionable shoe. It competes with other premium running shoes but is slightly more expensive, with some other models arguably offering more running technology. The shoe is comfortable for everyday wear and has a responsive sole unit with good energy return. The Continental Stretchweb outsole provides superior grip. However, the shoe may not be the best choice for running on surfaces like crushed gravel, as it does not provide enough protection from feeling the rocks underfoot.\n",
      "\n",
      "Overall, the Ultraboost series is well-regarded for comfort and style, though there are some considerations to keep in mind regarding price and specific running conditions.\n"
     ]
    },
    {
     "data": {
      "text/plain": [
       "AgentChatResponse(response='The reviews for the Adidas Ultraboost shoes highlight several key points:\\n\\n1. The Adidas Ultraboost is praised for being versatile, suitable for both running and casual wear. It is considered expensive but offers good value due to its durability and the number of miles one can get out of them. The shoes are described as lightweight, breathable, and comfortable enough to wear without socks. However, they are not recommended for wet conditions as they do not perform well in the rain.\\n\\n2. The Adidas Ultraboost 22 is noted for its popularity as a sneaker rather than just a running shoe. It is described as super comfortable and plush, with a design that has received a lot of care and thought. The shoe is recommended for its comfort but may not be suitable for those looking for a tighter upper or a shoe specifically optimized for speed.\\n\\n3. The Adidas Ultraboost 2020 is recognized as a good daily trainer and a fashionable shoe. It competes with other premium running shoes but is slightly more expensive, with some other models arguably offering more running technology. The shoe is comfortable for everyday wear and has a responsive sole unit with good energy return. The Continental Stretchweb outsole provides superior grip. However, the shoe may not be the best choice for running on surfaces like crushed gravel, as it does not provide enough protection from feeling the rocks underfoot.\\n\\nOverall, the Ultraboost series is well-regarded for comfort and style, though there are some considerations to keep in mind regarding price and specific running conditions.', sources=[ToolOutput(content=\"[{'title': 'Adidas Ultraboost Review : 7 pros, 2 cons (2023)', 'url': 'https://runrepeat.com/adidas-ultra-boost', 'id': 'Xqa5dR7IR24En7uL5BCTEg'}, {'title': 'Adidas Ultraboost 22 Review : 11 pros, 3 cons (2023)', 'url': 'https://runrepeat.com/adidas-ultraboost-22', 'id': 'k0iu2fLqLw4KNSh0tVxFHA'}, {'title': 'Adidas UltraBoost 2020 Review', 'url': 'https://www.runningshoesguru.com/2020/02/adidas-ultraboost-2020-review/', 'id': 'dws0o3TLyDIhRwdNndrP2g'}, {'title': 'Adidas Ultraboost Uncaged Parley Review 2023, Facts, Deals (£130)', 'url': 'https://runrepeat.com/uk/adidas-ultraboost-uncaged-parley', 'id': '3xCW3PGmmkLWL36wOHuKBw'}, {'title': 'NEW ARRIVALS', 'url': 'http://www.adidasultraboost.us.org/', 'id': 'NhKaTjMI_rIIS0tWLrJXAA'}, {'title': 'Adidas Ultraboost Laceless Review 2023, Facts, Deals ($86)', 'url': 'https://runrepeat.com/adidas-ultra-boost-laceless?selected_color=138767', 'id': '_XnIy8k4SHpszEbDVr3b3Q'}, {'title': 'Adidas Pureboost Review : 9 pros, 3 cons (2023)', 'url': 'https://runrepeat.com/adidas-pure-boost', 'id': 'SA-goQjdeeuSCY5BulLkjg'}, {'title': 'adidas Ultraboost Men/Women $130, Kids $90, Trefoil Backpack $30, ID Tote Bag $35 & More @ adidas', 'url': 'https://www.ozbargain.com.au/node/434177#comment-6881500', 'id': 'XTLfy32g1pIxKTHw-aQ_Nw'}, {'title': 'Adidas® Pureboost 23 - Release Date, Price & Features', 'url': 'https://bestwalkingshoes4men.com/adidas-pureboots/', 'id': 'yQ8IwywRHDs6TMDXeL7thA'}, {'title': '[adidas] Adidas Ultraboost - 40% off - $150.00 - RedFlagDeals.com Forums', 'url': 'https://forums.redflagdeals.com/adidas-adidas-ultraboost-40-off-150-00-2259189/', 'id': 'Rw_Kp4GJJuvt77Vfc_SJcA'}]\", tool_name='search', raw_input={'args': (), 'kwargs': {'query': 'reviews for Adidas Ultraboost 1.0 shoes'}}, raw_output=[{'title': 'Adidas Ultraboost Review : 7 pros, 2 cons (2023)', 'url': 'https://runrepeat.com/adidas-ultra-boost', 'id': 'Xqa5dR7IR24En7uL5BCTEg'}, {'title': 'Adidas Ultraboost 22 Review : 11 pros, 3 cons (2023)', 'url': 'https://runrepeat.com/adidas-ultraboost-22', 'id': 'k0iu2fLqLw4KNSh0tVxFHA'}, {'title': 'Adidas UltraBoost 2020 Review', 'url': 'https://www.runningshoesguru.com/2020/02/adidas-ultraboost-2020-review/', 'id': 'dws0o3TLyDIhRwdNndrP2g'}, {'title': 'Adidas Ultraboost Uncaged Parley Review 2023, Facts, Deals (£130)', 'url': 'https://runrepeat.com/uk/adidas-ultraboost-uncaged-parley', 'id': '3xCW3PGmmkLWL36wOHuKBw'}, {'title': 'NEW ARRIVALS', 'url': 'http://www.adidasultraboost.us.org/', 'id': 'NhKaTjMI_rIIS0tWLrJXAA'}, {'title': 'Adidas Ultraboost Laceless Review 2023, Facts, Deals ($86)', 'url': 'https://runrepeat.com/adidas-ultra-boost-laceless?selected_color=138767', 'id': '_XnIy8k4SHpszEbDVr3b3Q'}, {'title': 'Adidas Pureboost Review : 9 pros, 3 cons (2023)', 'url': 'https://runrepeat.com/adidas-pure-boost', 'id': 'SA-goQjdeeuSCY5BulLkjg'}, {'title': 'adidas Ultraboost Men/Women $130, Kids $90, Trefoil Backpack $30, ID Tote Bag $35 & More @ adidas', 'url': 'https://www.ozbargain.com.au/node/434177#comment-6881500', 'id': 'XTLfy32g1pIxKTHw-aQ_Nw'}, {'title': 'Adidas® Pureboost 23 - Release Date, Price & Features', 'url': 'https://bestwalkingshoes4men.com/adidas-pureboots/', 'id': 'yQ8IwywRHDs6TMDXeL7thA'}, {'title': '[adidas] Adidas Ultraboost - 40% off - $150.00 - RedFlagDeals.com Forums', 'url': 'https://forums.redflagdeals.com/adidas-adidas-ultraboost-40-off-150-00-2259189/', 'id': 'Rw_Kp4GJJuvt77Vfc_SJcA'}]), ToolOutput(content='[Document(id_=\\'22d786e1-4da4-4063-af87-668b3a134401\\', embedding=None, metadata={}, excluded_embed_metadata_keys=[], excluded_llm_metadata_keys=[], relationships={}, hash=\\'c64c77e35afc558770887313cea7654f21f44e6a0c64b6dda48165b7fd9ae5cb\\', text=\\'<div><section><h2>\\\\n Comparison to similar running shoes\\\\n </h2> <table><tbody><tr><th> Same brand only</th> <th><p> + + Add a product</p></th><th><p> + + Add a product</p></th><th><p> + + Add a product</p></th><th><p> + + Add a product</p></th><th><p> + + Add a product</p></th><th><p> + + Add a product</p></th><th><p> + + Add a product</p></th></tr><tr><th>CoreScore</th> <td></td><td></td><td></td><td></td><td></td><td></td><td></td></tr><tr><th>Users rating</th> <td></td><td></td><td></td><td></td><td></td><td></td><td></td></tr><tr><th>Experts</th> <td></td><td></td><td></td><td></td><td></td><td></td><td></td></tr><tr><th>Best price</th> <td></td><td></td><td></td><td></td><td></td><td></td><td></td></tr><tr><th>Ranking</th> <td></td><td></td><td></td><td></td><td></td><td></td><td></td></tr><tr><th>Popularity</th> <td></td><td></td><td></td><td></td><td></td><td></td><td></td></tr><tr><th># of colorways</th> <td></td><td></td><td></td><td></td><td></td><td></td><td></td></tr></tbody></table></section><div><article><div><p> Table of contents <a href=\"#rr-top-section\">Best Prices</a><a href=\"#corescore\">CoreScore</a><a href=\"#product-intro\">Verdict</a><a href=\"#pros\">Pros</a><a href=\"#cons\">Cons</a><a href=\"#comparison\">Comparison</a><a href=\"#adidas-ultraboost-review\">Adidas Ultraboost review</a><a href=\"#the-adidas-ultraboost-for-both-short-and-long-runs\">The Adidas Ultraboost for both short and long runs</a><a href=\"#lightweight-design\">Lightweight design</a><a href=\"#comfortable-and-responsive-300-miles-in\">Comfortable and responsive 300 miles in</a><a href=\"#the-best-looking-shoe-you-could-wear\">The best-looking shoe you could wear</a><a href=\"#continental-rubber-outsole\">Continental rubber outsole</a><a href=\"#not-for-wet-conditions\">Not for wet conditions</a><a href=\"#the-ultraboost-is-way-too-expensive\">The Ultraboost is way too expensive</a><a href=\"#facts\">Facts / Specs</a><a href=\"#popularity_section\">Popularity</a><a href=\"#video-reviews\">Video reviews</a></p></div> <div>\\\\n<h2>Adidas Ultraboost review</h2>\\\\n<p>The Adidas Ultraboost is an incredibly expensive but versatile shoe. Whether you\\\\\\'re running a half marathon or going out on a date, these will serve you well. The price tag is heavy but they are a good value due to the hundreds of miles you will get out of them.</p>\\\\n<p></p>\\\\n<p>The shoe is lightweight, breathable, and comfortable making it the only shoe to date I would wear without a sock. I would not recommend it to anyone in a really wet climate as these don\\\\\\'t mix well with rain.</p>\\\\n<p>Price tag aside, these were the first Adidas Boost I purchased. I instantly fell in love and now own 7 different models.</p>\\\\n<h2>The Adidas Ultraboost for both short and long runs</h2>\\\\n<p>After putting over 500 miles on these shoes, the Ultraboost has served me well for both short and long runs. Although a lot of people have complained about the breathability of the shoe\\', start_char_idx=None, end_char_idx=None, text_template=\\'{metadata_str}\\\\n\\\\n{content}\\', metadata_template=\\'{key}: {value}\\', metadata_seperator=\\'\\\\n\\'), Document(id_=\\'46f04a3f-33d2-490a-8b40-93dcaa4cd133\\', embedding=None, metadata={}, excluded_embed_metadata_keys=[], excluded_llm_metadata_keys=[], relationships={}, hash=\\'5b9c4e819e4cf8cc612c609985c7785ccc3fcaa6e9957cb8d8fb4075e8ebca8b\\', text=\\'<div><section><h2>\\\\n Comparison to similar running shoes\\\\n </h2> <table><tbody><tr><th> Same brand only</th> <th><p> + + Add a product</p></th><th><p> + + Add a product</p></th><th><p> + + Add a product</p></th><th><p> + + Add a product</p></th><th><p> + + Add a product</p></th><th><p> + + Add a product</p></th><th><p> + + Add a product</p></th></tr><tr><th>CoreScore</th> <td></td><td></td><td></td><td></td><td></td><td></td><td></td></tr><tr><th>Users rating</th> <td></td><td></td><td></td><td></td><td></td><td></td><td></td></tr><tr><th>Experts</th> <td></td><td></td><td></td><td></td><td></td><td></td><td></td></tr><tr><th>Best price</th> <td></td><td></td><td></td><td></td><td></td><td></td><td></td></tr><tr><th>Ranking</th> <td></td><td></td><td></td><td></td><td></td><td></td><td></td></tr><tr><th>Popularity</th> <td></td><td></td><td></td><td></td><td></td><td></td><td></td></tr><tr><th># of colorways</th> <td></td><td></td><td></td><td></td><td></td><td></td><td></td></tr></tbody></table></section><div><article><div><p> Table of contents <a href=\"#rr-top-section\">Best Prices</a><a href=\"#corescore\">CoreScore</a><a href=\"#product-intro\">Verdict</a><a href=\"#pros\">Pros</a><a href=\"#cons\">Cons</a><a href=\"#comparison\">Comparison</a><a href=\"#adidas-ultraboost-22-review-and-lab-test\">Adidas Ultraboost 22 review and lab test</a><a href=\"#who-the-shoe-is-for\">Who the shoe is for</a><a href=\"#who-the-ultraboost-22-is-not-for\">Who the Ultraboost 22 is not for</a><a href=\"#a-tried-and-tested-design\">A tried and tested design</a><a href=\"#the-adidas-ultraboost-22-has-a-tight-upper\">The Adidas Ultraboost 22 has a tight upper</a><a href=\"#excellent-lockdown\">Excellent lockdown</a><a href=\"#the-ultraboost-midsole-is-the-stuff-of-dreams\">The Ultraboost midsole is the stuff of dreams</a><a href=\"#the-adidas-ultraboost-22-tries-to-add-speed\">The Adidas Ultraboost 22 tries to add speed</a><a href=\"#flexible-and-fairly-consistent\">Flexible and fairly consistent</a><a href=\"#the-ultraboost-22-also-look-incredible\">The Ultraboost 22 also look incredible</a><a href=\"#the-continental-grip-is-insane\">The Continental grip is insane</a><a href=\"#conclusion\">Conclusion</a><a href=\"#complete-lab-specs-overview\">Complete lab-specs overview</a><a href=\"#facts\">Facts / Specs</a><a href=\"#popularity_section\">Popularity</a></p></div> <div><h2>Adidas Ultraboost 22 review and lab test</h2>\\\\n<p></p>\\\\n<p>The Adidas Ultraboost 22s are probably more popular as a sneaker than a running shoe. Even so, Adidas has put huge care and thought into the construction of this super comfortable, plush runner.</p>\\\\n<h2>Who the shoe is for</h2>\\\\n<p>The Adidas Ultraboost 22 utilizes its comfy\\', start_char_idx=None, end_char_idx=None, text_template=\\'{metadata_str}\\\\n\\\\n{content}\\', metadata_template=\\'{key}: {value}\\', metadata_seperator=\\'\\\\n\\'), Document(id_=\\'e4accc2e-16c0-4833-8a7a-0e246ae60411\\', embedding=None, metadata={}, excluded_embed_metadata_keys=[], excluded_llm_metadata_keys=[], relationships={}, hash=\\'cdb0b814a443b4b32bab5a613951fdb3d58e0d646ff0557cbfffebf4be0850bd\\', text=\\'<div><div><p>Everyone, runner or not, has heard of the Adidas Ultra Boost running shoe. It is a popular everyday shoe for thousands of people. This is the type of shoe that people recognize on the street, even if they don’t run.</p><p>In fact, when I wore them to school, my students recognized them right off. However, Adidas originally designed this shoe as a runner, and put technology into it that would make for a good daily trainer.</p><p>They hit that mark, it is a good daily trainer, but they realized the potential they had with the design and popularity of it as a fashion shoe.</p><p>In the running world, the Ultra Boost will compete against the likes of the <a href=\"https://www.runningshoesguru.com/2019/05/brooks-glycerin-17-review/\">Brooks Glycerin</a>, <a href=\"https://www.runningshoesguru.com/2020/01/new-balance-fresh-foam-1080v10-review/\">New Balance 1080</a>, <a href=\"https://www.runningshoesguru.com/2020/01/saucony-triumph-17-review/\">Saucony Triumph</a> and other premium running shoes.</p><p>However, those other offerings are roughly $30 cheaper and arguably offer more running technology.</p><h2>Adidas UltraBoost 2020 First Impressions</h2><div>\\\\n<p>Adidas UltraBoost 2020 – Pair</p></div><p>When the shoes arrived I was excited. I had read and heard much about the Ultra Boosts, and I have always wanted to try them. Upon opening the box I was a little disappointed with a white-on-white colorway.</p><p>When looking at those available, at least not directly from Adidas, the colorways were al boring. But white shoes get dirty no matter what you do.</p><p>Beyond the color, the design and look of the shoe is nice, and it has a very appealing single-piece look.</p><p>When I first put them on, they were incredibly comfortable for wearing around the house. When I wore them for a full day at school, they were very comfortable.</p><p>Cushioned, but not too soft, and they look great with a work outfit. <strong>Upon my first run with them, they were adequate but not exceptional</strong>.</p><h2>Adidas UltraBoost 2020 Sole Unit</h2><div>\\\\n<p>Adidas UltraBoost 2020 – Medial Side</p></div><p>The name of the shoe is based off the sole unit, so this is really where Adidas put most of their effort. The Ultra Boost uses an updated Boost foam material under the entire foot.</p><p>The material advertises 20% more boost than before. I have never ran in the Ultra Boosts, so I cannot attest to this claim, however, these shoes did show a good amount of energy return during my runs.</p><p>Embedded inside the Boost foam a floating torsion spring for an enhanced transition and a noticeable push forward. This spring was very noticeable when I pushed the tempo a little. The snap it gave was nice.</p><div>\\\\n<p>Adidas UltraBoost 2020 – Sole</p></div><p>The outsole is the traditional Continental Stretchweb that Adidas uses on the Ultra Boosts. This outsole offers a larger contact area which translates to superior grip.</p><p>This was a strong point for the shoes, they never once slipped.</p><p>At 27mm under the heel and 17mm under the forefoot, the cushion is responsive, but not substantial for longer runs. One thing I felt as I ran in them was that these shoes were not the best on a surface like crushed gravel.</p><p>On my one run on gravel, I felt many of the rocks individually underfoot. And that is not a pleasant experience.</p><h2>Adidas UltraBoost 2020 Upper Unit</h2><div>\\\\n<p>Adidas UltraBoost 2020 – Top</p></div><p>The upper is a one-piece woven sock upper called “Primeknit 360” which completely encompasses the foot, and is tight enough to add some structure and support throughout the foot.</p><p>This knit material is very breathable, to the point where winter running was close to uncomfortable. However, on the warmer runs, it was nice.</p\\', start_char_idx=None, end_char_idx=None, text_template=\\'{metadata_str}\\\\n\\\\n{content}\\', metadata_template=\\'{key}: {value}\\', metadata_seperator=\\'\\\\n\\')]', tool_name='retrieve_documents', raw_input={'args': (), 'kwargs': {'ids': ['Xqa5dR7IR24En7uL5BCTEg', 'k0iu2fLqLw4KNSh0tVxFHA', 'dws0o3TLyDIhRwdNndrP2g']}}, raw_output=[Document(id_='22d786e1-4da4-4063-af87-668b3a134401', embedding=None, metadata={}, excluded_embed_metadata_keys=[], excluded_llm_metadata_keys=[], relationships={}, hash='c64c77e35afc558770887313cea7654f21f44e6a0c64b6dda48165b7fd9ae5cb', text='<div><section><h2>\\n Comparison to similar running shoes\\n </h2> <table><tbody><tr><th> Same brand only</th> <th><p> + + Add a product</p></th><th><p> + + Add a product</p></th><th><p> + + Add a product</p></th><th><p> + + Add a product</p></th><th><p> + + Add a product</p></th><th><p> + + Add a product</p></th><th><p> + + Add a product</p></th></tr><tr><th>CoreScore</th> <td></td><td></td><td></td><td></td><td></td><td></td><td></td></tr><tr><th>Users rating</th> <td></td><td></td><td></td><td></td><td></td><td></td><td></td></tr><tr><th>Experts</th> <td></td><td></td><td></td><td></td><td></td><td></td><td></td></tr><tr><th>Best price</th> <td></td><td></td><td></td><td></td><td></td><td></td><td></td></tr><tr><th>Ranking</th> <td></td><td></td><td></td><td></td><td></td><td></td><td></td></tr><tr><th>Popularity</th> <td></td><td></td><td></td><td></td><td></td><td></td><td></td></tr><tr><th># of colorways</th> <td></td><td></td><td></td><td></td><td></td><td></td><td></td></tr></tbody></table></section><div><article><div><p> Table of contents <a href=\"#rr-top-section\">Best Prices</a><a href=\"#corescore\">CoreScore</a><a href=\"#product-intro\">Verdict</a><a href=\"#pros\">Pros</a><a href=\"#cons\">Cons</a><a href=\"#comparison\">Comparison</a><a href=\"#adidas-ultraboost-review\">Adidas Ultraboost review</a><a href=\"#the-adidas-ultraboost-for-both-short-and-long-runs\">The Adidas Ultraboost for both short and long runs</a><a href=\"#lightweight-design\">Lightweight design</a><a href=\"#comfortable-and-responsive-300-miles-in\">Comfortable and responsive 300 miles in</a><a href=\"#the-best-looking-shoe-you-could-wear\">The best-looking shoe you could wear</a><a href=\"#continental-rubber-outsole\">Continental rubber outsole</a><a href=\"#not-for-wet-conditions\">Not for wet conditions</a><a href=\"#the-ultraboost-is-way-too-expensive\">The Ultraboost is way too expensive</a><a href=\"#facts\">Facts / Specs</a><a href=\"#popularity_section\">Popularity</a><a href=\"#video-reviews\">Video reviews</a></p></div> <div>\\n<h2>Adidas Ultraboost review</h2>\\n<p>The Adidas Ultraboost is an incredibly expensive but versatile shoe. Whether you\\'re running a half marathon or going out on a date, these will serve you well. The price tag is heavy but they are a good value due to the hundreds of miles you will get out of them.</p>\\n<p></p>\\n<p>The shoe is lightweight, breathable, and comfortable making it the only shoe to date I would wear without a sock. I would not recommend it to anyone in a really wet climate as these don\\'t mix well with rain.</p>\\n<p>Price tag aside, these were the first Adidas Boost I purchased. I instantly fell in love and now own 7 different models.</p>\\n<h2>The Adidas Ultraboost for both short and long runs</h2>\\n<p>After putting over 500 miles on these shoes, the Ultraboost has served me well for both short and long runs. Although a lot of people have complained about the breathability of the shoe', start_char_idx=None, end_char_idx=None, text_template='{metadata_str}\\n\\n{content}', metadata_template='{key}: {value}', metadata_seperator='\\n'), Document(id_='46f04a3f-33d2-490a-8b40-93dcaa4cd133', embedding=None, metadata={}, excluded_embed_metadata_keys=[], excluded_llm_metadata_keys=[], relationships={}, hash='5b9c4e819e4cf8cc612c609985c7785ccc3fcaa6e9957cb8d8fb4075e8ebca8b', text='<div><section><h2>\\n Comparison to similar running shoes\\n </h2> <table><tbody><tr><th> Same brand only</th> <th><p> + + Add a product</p></th><th><p> + + Add a product</p></th><th><p> + + Add a product</p></th><th><p> + + Add a product</p></th><th><p> + + Add a product</p></th><th><p> + + Add a product</p></th><th><p> + + Add a product</p></th></tr><tr><th>CoreScore</th> <td></td><td></td><td></td><td></td><td></td><td></td><td></td></tr><tr><th>Users rating</th> <td></td><td></td><td></td><td></td><td></td><td></td><td></td></tr><tr><th>Experts</th> <td></td><td></td><td></td><td></td><td></td><td></td><td></td></tr><tr><th>Best price</th> <td></td><td></td><td></td><td></td><td></td><td></td><td></td></tr><tr><th>Ranking</th> <td></td><td></td><td></td><td></td><td></td><td></td><td></td></tr><tr><th>Popularity</th> <td></td><td></td><td></td><td></td><td></td><td></td><td></td></tr><tr><th># of colorways</th> <td></td><td></td><td></td><td></td><td></td><td></td><td></td></tr></tbody></table></section><div><article><div><p> Table of contents <a href=\"#rr-top-section\">Best Prices</a><a href=\"#corescore\">CoreScore</a><a href=\"#product-intro\">Verdict</a><a href=\"#pros\">Pros</a><a href=\"#cons\">Cons</a><a href=\"#comparison\">Comparison</a><a href=\"#adidas-ultraboost-22-review-and-lab-test\">Adidas Ultraboost 22 review and lab test</a><a href=\"#who-the-shoe-is-for\">Who the shoe is for</a><a href=\"#who-the-ultraboost-22-is-not-for\">Who the Ultraboost 22 is not for</a><a href=\"#a-tried-and-tested-design\">A tried and tested design</a><a href=\"#the-adidas-ultraboost-22-has-a-tight-upper\">The Adidas Ultraboost 22 has a tight upper</a><a href=\"#excellent-lockdown\">Excellent lockdown</a><a href=\"#the-ultraboost-midsole-is-the-stuff-of-dreams\">The Ultraboost midsole is the stuff of dreams</a><a href=\"#the-adidas-ultraboost-22-tries-to-add-speed\">The Adidas Ultraboost 22 tries to add speed</a><a href=\"#flexible-and-fairly-consistent\">Flexible and fairly consistent</a><a href=\"#the-ultraboost-22-also-look-incredible\">The Ultraboost 22 also look incredible</a><a href=\"#the-continental-grip-is-insane\">The Continental grip is insane</a><a href=\"#conclusion\">Conclusion</a><a href=\"#complete-lab-specs-overview\">Complete lab-specs overview</a><a href=\"#facts\">Facts / Specs</a><a href=\"#popularity_section\">Popularity</a></p></div> <div><h2>Adidas Ultraboost 22 review and lab test</h2>\\n<p></p>\\n<p>The Adidas Ultraboost 22s are probably more popular as a sneaker than a running shoe. Even so, Adidas has put huge care and thought into the construction of this super comfortable, plush runner.</p>\\n<h2>Who the shoe is for</h2>\\n<p>The Adidas Ultraboost 22 utilizes its comfy', start_char_idx=None, end_char_idx=None, text_template='{metadata_str}\\n\\n{content}', metadata_template='{key}: {value}', metadata_seperator='\\n'), Document(id_='e4accc2e-16c0-4833-8a7a-0e246ae60411', embedding=None, metadata={}, excluded_embed_metadata_keys=[], excluded_llm_metadata_keys=[], relationships={}, hash='cdb0b814a443b4b32bab5a613951fdb3d58e0d646ff0557cbfffebf4be0850bd', text='<div><div><p>Everyone, runner or not, has heard of the Adidas Ultra Boost running shoe. It is a popular everyday shoe for thousands of people. This is the type of shoe that people recognize on the street, even if they don’t run.</p><p>In fact, when I wore them to school, my students recognized them right off. However, Adidas originally designed this shoe as a runner, and put technology into it that would make for a good daily trainer.</p><p>They hit that mark, it is a good daily trainer, but they realized the potential they had with the design and popularity of it as a fashion shoe.</p><p>In the running world, the Ultra Boost will compete against the likes of the <a href=\"https://www.runningshoesguru.com/2019/05/brooks-glycerin-17-review/\">Brooks Glycerin</a>, <a href=\"https://www.runningshoesguru.com/2020/01/new-balance-fresh-foam-1080v10-review/\">New Balance 1080</a>, <a href=\"https://www.runningshoesguru.com/2020/01/saucony-triumph-17-review/\">Saucony Triumph</a> and other premium running shoes.</p><p>However, those other offerings are roughly $30 cheaper and arguably offer more running technology.</p><h2>Adidas UltraBoost 2020 First Impressions</h2><div>\\n<p>Adidas UltraBoost 2020 – Pair</p></div><p>When the shoes arrived I was excited. I had read and heard much about the Ultra Boosts, and I have always wanted to try them. Upon opening the box I was a little disappointed with a white-on-white colorway.</p><p>When looking at those available, at least not directly from Adidas, the colorways were al boring. But white shoes get dirty no matter what you do.</p><p>Beyond the color, the design and look of the shoe is nice, and it has a very appealing single-piece look.</p><p>When I first put them on, they were incredibly comfortable for wearing around the house. When I wore them for a full day at school, they were very comfortable.</p><p>Cushioned, but not too soft, and they look great with a work outfit. <strong>Upon my first run with them, they were adequate but not exceptional</strong>.</p><h2>Adidas UltraBoost 2020 Sole Unit</h2><div>\\n<p>Adidas UltraBoost 2020 – Medial Side</p></div><p>The name of the shoe is based off the sole unit, so this is really where Adidas put most of their effort. The Ultra Boost uses an updated Boost foam material under the entire foot.</p><p>The material advertises 20% more boost than before. I have never ran in the Ultra Boosts, so I cannot attest to this claim, however, these shoes did show a good amount of energy return during my runs.</p><p>Embedded inside the Boost foam a floating torsion spring for an enhanced transition and a noticeable push forward. This spring was very noticeable when I pushed the tempo a little. The snap it gave was nice.</p><div>\\n<p>Adidas UltraBoost 2020 – Sole</p></div><p>The outsole is the traditional Continental Stretchweb that Adidas uses on the Ultra Boosts. This outsole offers a larger contact area which translates to superior grip.</p><p>This was a strong point for the shoes, they never once slipped.</p><p>At 27mm under the heel and 17mm under the forefoot, the cushion is responsive, but not substantial for longer runs. One thing I felt as I ran in them was that these shoes were not the best on a surface like crushed gravel.</p><p>On my one run on gravel, I felt many of the rocks individually underfoot. And that is not a pleasant experience.</p><h2>Adidas UltraBoost 2020 Upper Unit</h2><div>\\n<p>Adidas UltraBoost 2020 – Top</p></div><p>The upper is a one-piece woven sock upper called “Primeknit 360” which completely encompasses the foot, and is tight enough to add some structure and support throughout the foot.</p><p>This knit material is very breathable, to the point where winter running was close to uncomfortable. However, on the warmer runs, it was nice.</p', start_char_idx=None, end_char_idx=None, text_template='{metadata_str}\\n\\n{content}', metadata_template='{key}: {value}', metadata_seperator='\\n')])], source_nodes=[])"
      ]
     },
     "execution_count": null,
     "metadata": {},
     "output_type": "execute_result"
    }
   ],
   "source": [
    "response = execute_step(agent, task)"
   ]
  },
  {
   "cell_type": "code",
   "execution_count": null,
   "id": "db4db6ab-d10a-4d20-b281-7efac828ef57",
   "metadata": {},
   "outputs": [],
   "source": [
    "print(str(response))"
   ]
  }
 ],
 "metadata": {
  "kernelspec": {
   "display_name": "llama_index_v2",
   "language": "python",
   "name": "llama_index_v2"
  },
  "language_info": {
   "codemirror_mode": {
    "name": "ipython",
    "version": 3
   },
   "file_extension": ".py",
   "mimetype": "text/x-python",
   "name": "python",
   "nbconvert_exporter": "python",
   "pygments_lexer": "ipython3",
   "version": "3.10.10"
  }
 },
 "nbformat": 4,
 "nbformat_minor": 5
}
