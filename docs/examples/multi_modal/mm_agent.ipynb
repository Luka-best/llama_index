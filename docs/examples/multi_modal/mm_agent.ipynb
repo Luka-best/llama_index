{
 "cells": [
  {
   "cell_type": "markdown",
   "id": "9ce3dae4-9dd8-48fe-9f3a-6e1ddd79e5a0",
   "metadata": {},
   "source": [
    "# [Beta] Multi-modal ReAct Agent\n",
    "\n",
    "In this tutorial we show you how to construct a multi-modal ReAct agent.\n",
    "\n",
    "This is an agent that can take in both text and images as the input task definition, and go through chain-of-thought + tool use to try to solve the task.\n",
    "\n",
    "This is implemented with our lower-level Agent API, allowing us to explicitly step through the ReAct loop to show you what's happening in each step.\n",
    "\n",
    "We show two use cases:\n",
    "1. **RAG Agent**: Given text/images, can query a RAG pipeline to lookup the answers. (given a screenshot from OpenAI Dev Day 2023)\n",
    "2. **Web Agent**: Given text/images, can query a web tool to lookup relevant information from the web (given a picture of shoes).\n",
    "\n",
    "**NOTE**: This is explicitly a beta feature, the abstractions will likely change over time! \n",
    "\n",
    "**NOTE**: This currently only works with GPT-4V."
   ]
  },
  {
   "cell_type": "markdown",
   "id": "d50c7396-e56a-4018-bb45-596c218a1947",
   "metadata": {},
   "source": [
    "## Augment Image Analysis with a RAG Pipeline\n",
    "\n",
    "In this section we create a multimodal agent equipped with a RAG Tool."
   ]
  },
  {
   "cell_type": "markdown",
   "id": "68bcdd1c-c69f-4da6-9712-29a8ad25b858",
   "metadata": {},
   "source": [
    "### Setup Data"
   ]
  },
  {
   "cell_type": "code",
   "execution_count": 1,
   "id": "54ce02e1-1edc-44fd-b160-0e15cc1961f1",
   "metadata": {},
   "outputs": [
    {
     "name": "stdout",
     "output_type": "stream",
     "text": [
      "--2024-01-02 20:25:25--  https://images.openai.com/blob/a2e49de2-ba5b-4869-9c2d-db3b4b5dcc19/new-models-and-developer-products-announced-at-devday.jpg?width=2000\n",
      "Resolving images.openai.com (images.openai.com)... 2606:4700:4400::6812:28cd, 2606:4700:4400::ac40:9333, 172.64.147.51, ...\n",
      "Connecting to images.openai.com (images.openai.com)|2606:4700:4400::6812:28cd|:443... connected.\n",
      "HTTP request sent, awaiting response... 200 OK\n",
      "Length: 300894 (294K) [image/jpeg]\n",
      "Saving to: ‘other_images/openai/dev_day.png’\n",
      "\n",
      "other_images/openai 100%[===================>] 293.84K  --.-KB/s    in 0.02s   \n",
      "\n",
      "2024-01-02 20:25:25 (13.8 MB/s) - ‘other_images/openai/dev_day.png’ saved [300894/300894]\n",
      "\n"
     ]
    }
   ],
   "source": [
    "!wget \"https://images.openai.com/blob/a2e49de2-ba5b-4869-9c2d-db3b4b5dcc19/new-models-and-developer-products-announced-at-devday.jpg?width=2000\" -O other_images/openai/dev_day.png"
   ]
  },
  {
   "cell_type": "code",
   "execution_count": 2,
   "id": "d0522215-4d36-4bbc-8c77-945c4e1bc9a4",
   "metadata": {},
   "outputs": [],
   "source": [
    "from llama_hub.web.simple_web.base import SimpleWebPageReader\n",
    "\n",
    "url = \"https://openai.com/blog/new-models-and-developer-products-announced-at-devday\"\n",
    "reader = SimpleWebPageReader(html_to_text=True)\n",
    "documents = reader.load_data(urls=[url])"
   ]
  },
  {
   "cell_type": "markdown",
   "id": "e7dfd978-7f56-4a15-9e56-019c7a35f35e",
   "metadata": {},
   "source": [
    "### Setup Tools"
   ]
  },
  {
   "cell_type": "code",
   "execution_count": 3,
   "id": "24b510d5-419e-4963-bba9-cb76efcf7ba4",
   "metadata": {},
   "outputs": [],
   "source": [
    "from llama_index.llms import OpenAI\n",
    "from llama_index import ServiceContext, VectorStoreIndex\n",
    "from llama_index.tools import QueryEngineTool, ToolMetadata"
   ]
  },
  {
   "cell_type": "code",
   "execution_count": 4,
   "id": "367e4884-bf62-45f1-9e0c-211379287bfb",
   "metadata": {},
   "outputs": [],
   "source": [
    "llm = OpenAI(temperature=0, model=\"gpt-3.5-turbo\")\n",
    "service_context = ServiceContext.from_defaults(llm=llm)"
   ]
  },
  {
   "cell_type": "code",
   "execution_count": 5,
   "id": "60b78d55-5a36-4943-8a25-468e26566c56",
   "metadata": {},
   "outputs": [],
   "source": [
    "vector_index = VectorStoreIndex.from_documents(\n",
    "    documents, service_context=service_context\n",
    ")"
   ]
  },
  {
   "cell_type": "code",
   "execution_count": 6,
   "id": "fc8bb089-f84f-465f-a9df-d883df82d839",
   "metadata": {},
   "outputs": [],
   "source": [
    "query_tool = QueryEngineTool(\n",
    "    query_engine=vector_index.as_query_engine(),\n",
    "    metadata=ToolMetadata(\n",
    "        name=f\"vector_tool\",\n",
    "        description=(\n",
    "            \"Useful to lookup new features announced by OpenAI\"\n",
    "            # \"Useful to lookup any information regarding the image\"\n",
    "        ),\n",
    "    ),\n",
    ")"
   ]
  },
  {
   "cell_type": "markdown",
   "id": "6aaa1543-5c43-43bd-8d22-fe2729a51b25",
   "metadata": {},
   "source": [
    "### Setup Agent"
   ]
  },
  {
   "cell_type": "code",
   "execution_count": 7,
   "id": "f698d34d-6cb6-419b-b4f8-983f85ee2914",
   "metadata": {},
   "outputs": [],
   "source": [
    "from llama_index.agent.react_multimodal.step import MultimodalReActAgentWorker\n",
    "from llama_index.agent import AgentRunner\n",
    "from llama_index.multi_modal_llms import MultiModalLLM, OpenAIMultiModal\n",
    "from llama_index.agent import Task\n",
    "\n",
    "mm_llm = OpenAIMultiModal(model=\"gpt-4-vision-preview\", max_new_tokens=1000)\n",
    "\n",
    "# Option 2: Initialize AgentRunner with OpenAIAgentWorker\n",
    "react_step_engine = MultimodalReActAgentWorker.from_tools(\n",
    "    [query_tool],\n",
    "    # [],\n",
    "    multi_modal_llm=mm_llm,\n",
    "    verbose=True,\n",
    ")\n",
    "agent = AgentRunner(react_step_engine)"
   ]
  },
  {
   "cell_type": "code",
   "execution_count": 8,
   "id": "afbe933d-fa7c-4d56-8c0f-faf1746bc09d",
   "metadata": {},
   "outputs": [],
   "source": [
    "from llama_index.schema import ImageDocument\n",
    "\n",
    "query_str = \"The photo shows some new features released by OpenAI. Can you pinpoint the features in the photo and give more details using relevant tools?\"\n",
    "# query_str = \"Tell me more about code_interpreter and how it's used\"\n",
    "# image document\n",
    "image_document = ImageDocument(image_path=\"other_images/openai/dev_day.png\")\n",
    "\n",
    "task = agent.create_task(\n",
    "    query_str,\n",
    "    extra_state={\"image_docs\": [image_document]},\n",
    ")"
   ]
  },
  {
   "cell_type": "code",
   "execution_count": 9,
   "id": "18c30caf-2f3a-4202-8fde-b1c3099db726",
   "metadata": {},
   "outputs": [],
   "source": [
    "def execute_step(agent: AgentRunner, task: Task):\n",
    "    step_output = agent.run_step(task.task_id)\n",
    "    if step_output.is_last:\n",
    "        response = agent.finalize_response(task.task_id)\n",
    "        print(f\"> Agent finished: {str(response)}\")\n",
    "        return response\n",
    "    else:\n",
    "        return None\n",
    "\n",
    "\n",
    "def execute_steps(agent: AgentRunner, task: Task):\n",
    "    response = execute_step(agent, task)\n",
    "    while response is None:\n",
    "        response = execute_step(agent, task)\n",
    "    return response"
   ]
  },
  {
   "cell_type": "code",
   "execution_count": 10,
   "id": "a0900fb2-9e16-4d75-9aa4-23180decffa7",
   "metadata": {},
   "outputs": [],
   "source": [
    "# Run this and not the below if you just want to run everything at once.\n",
    "# response = execute_steps(agent, task)"
   ]
  },
  {
   "cell_type": "code",
   "execution_count": 11,
   "id": "934df138-6fb7-4adb-903d-c7e7a008b1e1",
   "metadata": {},
   "outputs": [
    {
     "name": "stdout",
     "output_type": "stream",
     "text": [
      "\u001b[1;3;38;5;200mThought: I need to use a tool to help me identify the new features released by OpenAI as shown in the photo.\n",
      "Action: vector_tool\n",
      "Action Input: {'input': 'new features released by OpenAI'}\n",
      "\u001b[0m\u001b[1;3;34mObservation: OpenAI has released several new features, including the GPT-4 Turbo model, the Assistants API, and multimodal capabilities. The GPT-4 Turbo model is more capable, cheaper, and supports a 128K context window. The Assistants API makes it easier for developers to build their own assistive AI apps with goals and the ability to call models and tools. The multimodal capabilities include vision, image creation (DALLÂ·E 3), and text-to-speech (TTS). These new features are being rolled out to OpenAI customers starting at 1pm PT today.\n",
      "\u001b[0m"
     ]
    }
   ],
   "source": [
    "response = execute_step(agent, task)"
   ]
  },
  {
   "cell_type": "code",
   "execution_count": 12,
   "id": "85783870-d51b-46cb-8588-3de1bdf1feb9",
   "metadata": {},
   "outputs": [
    {
     "name": "stdout",
     "output_type": "stream",
     "text": [
      "\u001b[1;3;38;5;200mThought: The observation provided information about the new features released by OpenAI, which I can now relate to the image provided.\n",
      "Response: The photo shows a user interface with a section titled \"Playground\" and several options such as \"GPT-4.0-turbo,\" \"Code Interpreter,\" \"Translate,\" and \"Chat.\" Based on the observation from the tool, these features are part of the new releases by OpenAI. Specifically, \"GPT-4.0-turbo\" likely refers to the GPT-4 Turbo model, which is a more capable and cost-effective version of the language model with a larger context window. The \"Code Interpreter\" could be related to the Assistants API, which allows developers to build AI apps that can interpret and execute code. The \"Translate\" and \"Chat\" options might be part of the multimodal capabilities, with \"Translate\" possibly involving text-to-text language translation and \"Chat\" involving conversational AI capabilities. The multimodal capabilities also include vision and image creation, which could be represented in the Playground interface but are not visible in the provided section of the photo.\n",
      "\u001b[0m> Agent finished: The photo shows a user interface with a section titled \"Playground\" and several options such as \"GPT-4.0-turbo,\" \"Code Interpreter,\" \"Translate,\" and \"Chat.\" Based on the observation from the tool, these features are part of the new releases by OpenAI. Specifically, \"GPT-4.0-turbo\" likely refers to the GPT-4 Turbo model, which is a more capable and cost-effective version of the language model with a larger context window. The \"Code Interpreter\" could be related to the Assistants API, which allows developers to build AI apps that can interpret and execute code. The \"Translate\" and \"Chat\" options might be part of the multimodal capabilities, with \"Translate\" possibly involving text-to-text language translation and \"Chat\" involving conversational AI capabilities. The multimodal capabilities also include vision and image creation, which could be represented in the Playground interface but are not visible in the provided section of the photo.\n"
     ]
    }
   ],
   "source": [
    "response = execute_step(agent, task)"
   ]
  },
  {
   "cell_type": "code",
   "execution_count": 13,
   "id": "c45113bd-73aa-44f5-b803-652231fcb92a",
   "metadata": {},
   "outputs": [
    {
     "name": "stdout",
     "output_type": "stream",
     "text": [
      "The photo shows a user interface with a section titled \"Playground\" and several options such as \"GPT-4.0-turbo,\" \"Code Interpreter,\" \"Translate,\" and \"Chat.\" Based on the observation from the tool, these features are part of the new releases by OpenAI. Specifically, \"GPT-4.0-turbo\" likely refers to the GPT-4 Turbo model, which is a more capable and cost-effective version of the language model with a larger context window. The \"Code Interpreter\" could be related to the Assistants API, which allows developers to build AI apps that can interpret and execute code. The \"Translate\" and \"Chat\" options might be part of the multimodal capabilities, with \"Translate\" possibly involving text-to-text language translation and \"Chat\" involving conversational AI capabilities. The multimodal capabilities also include vision and image creation, which could be represented in the Playground interface but are not visible in the provided section of the photo.\n"
     ]
    }
   ],
   "source": [
    "print(str(response))"
   ]
  },
  {
   "cell_type": "markdown",
   "id": "f60e6265-0b30-477f-9b09-d5268c76f040",
   "metadata": {},
   "source": [
    "## Augment Image Analysis with Web Search\n",
    "\n",
    "In this example we show you how to setup a GPT-4V powered agent to lookup information on the web to help better explain a given image."
   ]
  },
  {
   "cell_type": "code",
   "execution_count": 14,
   "id": "2c3631cc-5a6c-4bb7-a972-34467e96c399",
   "metadata": {},
   "outputs": [],
   "source": [
    "from llama_hub.tools.metaphor.base import MetaphorToolSpec\n",
    "from llama_index.agent.react_multimodal.step import MultimodalReActAgentWorker\n",
    "from llama_index.agent import AgentRunner\n",
    "from llama_index.multi_modal_llms import MultiModalLLM, OpenAIMultiModal\n",
    "from llama_index.agent import Task\n",
    "\n",
    "metaphor_tool_spec = MetaphorToolSpec(\n",
    "    api_key=\"f6e1ff14-56be-4ab8-a4e9-a6924f693cdc\",\n",
    ")\n",
    "metaphor_tools = metaphor_tool_spec.to_tool_list()"
   ]
  },
  {
   "cell_type": "code",
   "execution_count": 15,
   "id": "99c37097-cd5c-4819-b42e-f19cc4f268be",
   "metadata": {},
   "outputs": [],
   "source": [
    "mm_llm = OpenAIMultiModal(model=\"gpt-4-vision-preview\", max_new_tokens=1000)\n",
    "\n",
    "# Option 2: Initialize AgentRunner with OpenAIAgentWorker\n",
    "react_step_engine = MultimodalReActAgentWorker.from_tools(\n",
    "    metaphor_tools,\n",
    "    # [],\n",
    "    multi_modal_llm=mm_llm,\n",
    "    verbose=True,\n",
    ")\n",
    "agent = AgentRunner(react_step_engine)"
   ]
  },
  {
   "cell_type": "code",
   "execution_count": 16,
   "id": "9a692881-f70e-4815-a89a-3b584ec1b844",
   "metadata": {},
   "outputs": [],
   "source": [
    "from llama_index.schema import ImageDocument\n",
    "\n",
    "query_str = \"Look up some reviews regarding these shoes.\"\n",
    "image_document = ImageDocument(image_path=\"amazon_images_test_img.png\")\n",
    "\n",
    "task = agent.create_task(\n",
    "    query_str, extra_state={\"image_docs\": [image_document]}\n",
    ")"
   ]
  },
  {
   "cell_type": "code",
   "execution_count": 17,
   "id": "6621c3aa-22c2-46e9-b405-9c99d3b4d657",
   "metadata": {},
   "outputs": [
    {
     "name": "stdout",
     "output_type": "stream",
     "text": [
      "\u001b[1;3;38;5;200mThought: The image shows a pair of shoes that appear to be from a sportswear brand, possibly Adidas, given the three-stripe logo. I need to use a tool to search for reviews of these shoes.\n",
      "Action: search\n",
      "Action Input: {'query': 'Adidas Ultraboost 1.0 reviews', 'num_results': 5}\n",
      "\u001b[0m[Metaphor Tool] Autoprompt: \"Here's a review of the Adidas Ultraboost 1.0:\n",
      "\u001b[1;3;34mObservation: [{'title': 'Still Not a Speed Shoe, Adidas’s Ultraboost Light Feels Faster', 'url': 'https://www.runnersworld.com/gear/a43167849/adidas-ultraboost-light-review/?utm_medium=social-media&utm_source=twitter&utm_campaign=socialflowTWRW', 'id': 'mWv--EVfp6DpIrMj8TzynA'}, {'title': 'Adidas ULTRABOOST LIGHT : Detailed First Impressions', 'url': 'https://www.youtube.com/watch?v=780bVc3yjsk', 'id': 'LOUPO-1rU2tZJd31YFYYXA'}, {'title': 'The Ultraboost 21 Has Arrived & These Are Its Best Colorways', 'url': 'https://www.highsnobiety.com/p/adidas-ultraboost-21-buy/?utm_medium=Social&utm_source=Twitter#Echobox=1611846832', 'id': 'YEXATekAYFUeljDZ50j6ZQ'}, {'title': 'Ultraboost Light Shoes | adidas US', 'url': 'https://www.adidas.com/us/ultraboost', 'id': 'mvkBNj2tLS0NTGmjzYKfMw'}, {'title': \"Men's Ultraboost Shoes | adidas US\", 'url': 'https://www.adidas.com/us/men-ultraboost-shoes', 'id': 'PGFtTsltJmZcquvXt0pM2g'}]\n",
      "\u001b[0m"
     ]
    }
   ],
   "source": [
    "response = execute_step(agent, task)"
   ]
  },
  {
   "cell_type": "code",
   "execution_count": 18,
   "id": "2e77161b-50d6-4fb9-934e-336a0eaf1e30",
   "metadata": {},
   "outputs": [
    {
     "name": "stdout",
     "output_type": "stream",
     "text": [
      "\u001b[1;3;38;5;200mThought: I have received a list of URLs that contain reviews for the Adidas Ultraboost shoes. I can now provide a summary of these reviews to the user.\n",
      "Response: Here are some reviews for the Adidas Ultraboost shoes:\n",
      "\n",
      "1. \"Still Not a Speed Shoe, Adidas’s Ultraboost Light Feels Faster\" - A review from Runner's World discussing the performance of the Ultraboost Light, suggesting it feels faster than previous models but is not specifically designed for speed. [Read more](https://www.runnersworld.com/gear/a43167849/adidas-ultraboost-light-review/?utm_medium=social-media&utm_source=twitter&utm_campaign=socialflowTWRW)\n",
      "\n",
      "2. \"Adidas ULTRABOOST LIGHT: Detailed First Impressions\" - A YouTube video providing first impressions on the Ultraboost Light, which may include details on comfort, design, and performance. [Watch here](https://www.youtube.com/watch?v=780bVc3yjsk)\n",
      "\n",
      "3. \"The Ultraboost 21 Has Arrived & These Are Its Best Colorways\" - An article by Highsnobiety that introduces the Ultraboost 21 and highlights some of its best colorways. [Read more](https://www.highsnobiety.com/p/adidas-ultraboost-21-buy/?utm_medium=Social&utm_source=Twitter#Echobox=1611846832)\n",
      "\n",
      "Please note that the reviews may vary in terms of the specific model they are discussing, such as the Ultraboost Light or Ultraboost 21, so it's important to check if the review matches the exact model you are interested in.\n",
      "\u001b[0m> Agent finished: Here are some reviews for the Adidas Ultraboost shoes:\n",
      "\n",
      "1. \"Still Not a Speed Shoe, Adidas’s Ultraboost Light Feels Faster\" - A review from Runner's World discussing the performance of the Ultraboost Light, suggesting it feels faster than previous models but is not specifically designed for speed. [Read more](https://www.runnersworld.com/gear/a43167849/adidas-ultraboost-light-review/?utm_medium=social-media&utm_source=twitter&utm_campaign=socialflowTWRW)\n",
      "\n",
      "2. \"Adidas ULTRABOOST LIGHT: Detailed First Impressions\" - A YouTube video providing first impressions on the Ultraboost Light, which may include details on comfort, design, and performance. [Watch here](https://www.youtube.com/watch?v=780bVc3yjsk)\n",
      "\n",
      "3. \"The Ultraboost 21 Has Arrived & These Are Its Best Colorways\" - An article by Highsnobiety that introduces the Ultraboost 21 and highlights some of its best colorways. [Read more](https://www.highsnobiety.com/p/adidas-ultraboost-21-buy/?utm_medium=Social&utm_source=Twitter#Echobox=1611846832)\n",
      "\n",
      "Please note that the reviews may vary in terms of the specific model they are discussing, such as the Ultraboost Light or Ultraboost 21, so it's important to check if the review matches the exact model you are interested in.\n"
     ]
    }
   ],
   "source": [
    "response = execute_step(agent, task)"
   ]
  },
  {
   "cell_type": "code",
   "execution_count": 19,
   "id": "54e1b6d7-f940-4806-8418-ab86074dda17",
   "metadata": {},
   "outputs": [
    {
     "name": "stdout",
     "output_type": "stream",
     "text": [
      "Here are some reviews for the Adidas Ultraboost shoes:\n",
      "\n",
      "1. \"Still Not a Speed Shoe, Adidas’s Ultraboost Light Feels Faster\" - A review from Runner's World discussing the performance of the Ultraboost Light, suggesting it feels faster than previous models but is not specifically designed for speed. [Read more](https://www.runnersworld.com/gear/a43167849/adidas-ultraboost-light-review/?utm_medium=social-media&utm_source=twitter&utm_campaign=socialflowTWRW)\n",
      "\n",
      "2. \"Adidas ULTRABOOST LIGHT: Detailed First Impressions\" - A YouTube video providing first impressions on the Ultraboost Light, which may include details on comfort, design, and performance. [Watch here](https://www.youtube.com/watch?v=780bVc3yjsk)\n",
      "\n",
      "3. \"The Ultraboost 21 Has Arrived & These Are Its Best Colorways\" - An article by Highsnobiety that introduces the Ultraboost 21 and highlights some of its best colorways. [Read more](https://www.highsnobiety.com/p/adidas-ultraboost-21-buy/?utm_medium=Social&utm_source=Twitter#Echobox=1611846832)\n",
      "\n",
      "Please note that the reviews may vary in terms of the specific model they are discussing, such as the Ultraboost Light or Ultraboost 21, so it's important to check if the review matches the exact model you are interested in.\n"
     ]
    }
   ],
   "source": [
    "print(str(response))"
   ]
  }
 ],
 "metadata": {
  "kernelspec": {
   "display_name": "llama_index_v2",
   "language": "python",
   "name": "llama_index_v2"
  },
  "language_info": {
   "codemirror_mode": {
    "name": "ipython",
    "version": 3
   },
   "file_extension": ".py",
   "mimetype": "text/x-python",
   "name": "python",
   "nbconvert_exporter": "python",
   "pygments_lexer": "ipython3",
   "version": "3.10.10"
  }
 },
 "nbformat": 4,
 "nbformat_minor": 5
}
