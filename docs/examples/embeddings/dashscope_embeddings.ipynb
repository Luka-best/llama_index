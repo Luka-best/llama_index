{
 "cells": [
  {
   "cell_type": "markdown",
   "metadata": {},
   "source": [
    "<a href=\"https://colab.research.google.com/github/run-llama/llama_index/blob/main/docs/examples/embeddings/google_palm.ipynb\" target=\"_parent\"><img src=\"https://colab.research.google.com/assets/colab-badge.svg\" alt=\"Open In Colab\"/></a>"
   ]
  },
  {
   "cell_type": "code",
   "execution_count": null,
   "metadata": {},
   "outputs": [],
   "source": [
    "# DashScope Embeddings"
   ]
  },
  {
   "cell_type": "markdown",
   "metadata": {},
   "source": [
    "If you're opening this Notebook on colab, you will probably need to install LlamaIndex 🦙."
   ]
  },
  {
   "cell_type": "code",
   "execution_count": null,
   "metadata": {},
   "outputs": [],
   "source": [
    "%pip install llama-index\n",
    "%pip install dashscope"
   ]
  },
  {
   "cell_type": "code",
   "execution_count": null,
   "metadata": {},
   "outputs": [],
   "source": [
    "# Set API key\n",
    "%env DASHSCOPE_API_KEY=YOUR_DASHSCOPE_API_KEY\n",
    "\n",
    "# you can set API key parameter DashScopeTextEmbedding(model=DashScopeTextEmbeddingModels.TEXT_EMBEDDING_V2, api_key=api_key)"
   ]
  },
  {
   "cell_type": "code",
   "execution_count": null,
   "metadata": {},
   "outputs": [
    {
     "name": "stdout",
     "output_type": "stream",
     "text": [
      "Dimension of embeddings: 1536\n",
      "[-0.00838587212517078, 0.01004877272531103, 0.0015754734226650637, -0.04273583173235969, -0.05209946086276315]\n"
     ]
    }
   ],
   "source": [
    "# imports\n",
    "from llama_index.embeddings import (\n",
    "    DashScopeTextEmbedding,\n",
    "    DashScopeTextEmbeddingModels,\n",
    ")\n",
    "\n",
    "# Create embeddings\n",
    "embedder = DashScopeTextEmbedding(\n",
    "    model=DashScopeTextEmbeddingModels.TEXT_EMBEDDING_V2\n",
    ")\n",
    "# Call text Embedding\n",
    "embedding = embedder.get_text_embedding(\"衣服的质量杠杠的，很漂亮，不枉我等了这么久啊，喜欢，以后还来这里买\")\n",
    "print(f\"Dimension of embeddings: {len(embedding)}\")\n",
    "print(embedding[:5])"
   ]
  },
  {
   "cell_type": "code",
   "execution_count": null,
   "metadata": {},
   "outputs": [
    {
     "name": "stdout",
     "output_type": "stream",
     "text": [
      "https://dashscope-result-bj.oss-cn-beijing.aliyuncs.com/5fc5c860/2024-01-25/1002b840-9336-457c-80c7-10ad4ef98e54_output_1706162036819.txt.gz?Expires=1706421237&OSSAccessKeyId=LTAI5tQZd8AEcZX6KZV4G8qL&Signature=a4KESIHpeKQUCbBJkdBDAdUm20U%3D\n"
     ]
    }
   ],
   "source": [
    "# call batch text embedding\n",
    "from llama_index.embeddings import (\n",
    "    DashScopeBatchTextEmbedding,\n",
    "    DashScopeBatchTextEmbeddingModels,\n",
    ")\n",
    "\n",
    "embedder = DashScopeBatchTextEmbedding(\n",
    "    model=DashScopeBatchTextEmbeddingModels.TEXT_EMBEDDING_ASYNC_V2,\n",
    ")\n",
    "\n",
    "embedding_result_file_url = embedder.get_batch_text_embedding(\n",
    "    embedding_file_url=\"https://dashscope.oss-cn-beijing.aliyuncs.com/samples/text/text-embedding-test.txt\"\n",
    ")\n",
    "print(embedding_result_file_url)"
   ]
  },
  {
   "cell_type": "code",
   "execution_count": null,
   "metadata": {},
   "outputs": [
    {
     "name": "stdout",
     "output_type": "stream",
     "text": [
      "Dimension of embeddings: 1536\n",
      "[-0.0200169887393713, 0.041749317198991776, 0.01004155445843935, 0.03983306884765625, -0.006652673240751028]\n"
     ]
    }
   ],
   "source": [
    "# call multimodal embedding service\n",
    "from llama_index.embeddings import (\n",
    "    DashScopeMultiModalEmbedding,\n",
    "    DashScopeMultiModalEmbeddingModels,\n",
    ")\n",
    "\n",
    "embedder = DashScopeMultiModalEmbedding(\n",
    "    model=DashScopeMultiModalEmbeddingModels.MULTIMODAL_EMBEDDING_ONE_PEACE_V1,\n",
    ")\n",
    "input = [\n",
    "    {\"factor\": 1, \"text\": \"你好\"},\n",
    "    {\n",
    "        \"factor\": 2,\n",
    "        \"audio\": \"https://dashscope.oss-cn-beijing.aliyuncs.com/audios/cow.flac\",\n",
    "    },\n",
    "    {\n",
    "        \"factor\": 3,\n",
    "        \"image\": \"https://dashscope.oss-cn-beijing.aliyuncs.com/images/256_1.png\",\n",
    "    },\n",
    "]\n",
    "\n",
    "embedding = embedder.get_embedding(input=input)\n",
    "print(f\"Dimension of embeddings: {len(embedding)}\")\n",
    "print(embedding[:5])"
   ]
  }
 ],
 "metadata": {
  "kernelspec": {
   "display_name": "Python 3 (ipykernel)",
   "language": "python",
   "name": "python3"
  },
  "language_info": {
   "codemirror_mode": {
    "name": "ipython",
    "version": 3
   },
   "file_extension": ".py",
   "mimetype": "text/x-python",
   "name": "python",
   "nbconvert_exporter": "python",
   "pygments_lexer": "ipython3"
  },
  "vscode": {
   "interpreter": {
    "hash": "b0fa6594d8f4cbf19f97940f81e996739fb7646882a419484c72d19e05852a7e"
   }
  }
 },
 "nbformat": 4,
 "nbformat_minor": 4
}
