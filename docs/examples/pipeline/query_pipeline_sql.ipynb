{
 "cells": [
  {
   "cell_type": "markdown",
   "id": "661a425f-9032-46c6-8458-7e4328653d40",
   "metadata": {},
   "source": [
    "# Query Pipeline for Text-to-SQL \n",
    "\n",
    "In this guide we show you how to setup a text-to-SQL pipeline over your data with our query pipeline syntax.\n",
    "\n",
    "This gives you flexibility to enhance text-to-SQL with additional techniques, such as table-time retrieval.\n",
    "\n",
    "It also shows you the internals of how our `NLSQLTableQueryEngine` and `SQLTableRetrieverQueryEngine` are implemented (if you want to check out our text-to-SQL guide using these modules, take a look [here](https://docs.llamaindex.ai/en/stable/examples/index_structs/struct_indices/SQLIndexDemo.html))."
   ]
  },
  {
   "cell_type": "markdown",
   "id": "9395ad03-1aea-4ce1-9457-51e2fd86f88a",
   "metadata": {},
   "source": [
    "## Load and Ingest Data\n",
    "\n",
    "\n",
    "### Load Data\n",
    "We use the [WikiTableQuestions dataset](https://ppasupat.github.io/WikiTableQuestions/) (Pasupat and Liang 2015) as our test dataset.\n",
    "\n",
    "We go through all the csv's in one folder, store each in a sqlite database (we will then build an object index over each table schema)."
   ]
  },
  {
   "cell_type": "code",
   "execution_count": null,
   "id": "02212d47-080f-405b-abb0-1eccc2b286c7",
   "metadata": {},
   "outputs": [],
   "source": [
    "!wget \"https://github.com/ppasupat/WikiTableQuestions/releases/download/v1.0.2/WikiTableQuestions-1.0.2-compact.zip\" -O data.zip\n",
    "!unzip data.zip"
   ]
  },
  {
   "cell_type": "code",
   "execution_count": null,
   "id": "52e9e6e2-86b8-4c29-af41-8c935c02a45a",
   "metadata": {},
   "outputs": [],
   "source": [
    "import pandas as pd\n",
    "from pathlib import Path\n",
    "\n",
    "data_dir = Path(\"./WikiTableQuestions/csv/200-csv\")\n",
    "csv_files = sorted([f for f in data_dir.glob(\"*.csv\")])\n",
    "dfs = []\n",
    "for csv_file in csv_files:\n",
    "    print(f'processing file: {csv_file}')\n",
    "    try:\n",
    "        df = pd.read_csv(csv_file)\n",
    "        dfs.append(df)\n",
    "    except Exception as e:\n",
    "        print(f\"Error parsing {csv_file}: {str(e)}\")"
   ]
  },
  {
   "cell_type": "markdown",
   "id": "4c653683-0d9b-49b7-9ed3-800e77a322a6",
   "metadata": {},
   "source": [
    "### Extract Table Name and Summary from each Table\n",
    "\n",
    "Here we use gpt-3.5 to extract a table name (with underscores) and summary from each table with our Pydantic program."
   ]
  },
  {
   "cell_type": "code",
   "execution_count": 11,
   "id": "ea271a12-1ce3-476e-bf7c-f8f3a27affe9",
   "metadata": {},
   "outputs": [
    {
     "name": "stdout",
     "output_type": "stream",
     "text": [
      "mkdir: WikiTableQuestions_TableInfo: File exists\n"
     ]
    }
   ],
   "source": [
    "tableinfo_dir = \"WikiTableQuestions_TableInfo\"\n",
    "!mkdir {tableinfo_dir}"
   ]
  },
  {
   "cell_type": "code",
   "execution_count": 12,
   "id": "a5915db4-34fe-42a2-91e9-0f38db4cdb1f",
   "metadata": {},
   "outputs": [],
   "source": [
    "from llama_index.program import LLMTextCompletionProgram\n",
    "from llama_index.bridge.pydantic import BaseModel, Field\n",
    "from llama_index.llms import OpenAI\n",
    "\n",
    "class TableInfo(BaseModel):\n",
    "    \"\"\"Information regarding a structured table.\"\"\"\n",
    "    table_name: str = Field(..., description=\"table name (must be underscores and NO spaces)\")\n",
    "    table_summary: str = Field(..., description=\"short, concise summary/caption of the table\")\n",
    "\n",
    "prompt_str = \"\"\"\\\n",
    "Give me a summary of the table with the following JSON format.\n",
    "\n",
    "- The table name must be unique to the table and describe it while being concise. \n",
    "- Do NOT output a generic table name (e.g. table, my_table).\n",
    "\n",
    "Do NOT make the table name one of the following: {exclude_table_name_list}\n",
    "\n",
    "Table:\n",
    "{table_str}\n",
    "\n",
    "Summary: \"\"\"\n",
    "\n",
    "program = LLMTextCompletionProgram.from_defaults(\n",
    "    output_cls=TableInfo,\n",
    "    llm=OpenAI(model=\"gpt-3.5-turbo\"),\n",
    "    prompt_template_str=prompt_str\n",
    ")"
   ]
  },
  {
   "cell_type": "code",
   "execution_count": 13,
   "id": "4734e3d2-7602-4584-b6b8-499ca8bc825c",
   "metadata": {},
   "outputs": [],
   "source": [
    "import json\n",
    "\n",
    "\n",
    "def _get_tableinfo_with_index(idx: int) -> str:\n",
    "    results_gen = Path(tableinfo_dir).glob(f\"{idx}_*\")\n",
    "    results_list = list(results_gen)\n",
    "    if len(results_list) == 0:\n",
    "        return None\n",
    "    elif len(results_list) == 1:\n",
    "        path = results_list[0]\n",
    "        return TableInfo.parse_file(path)\n",
    "    else:\n",
    "        raise ValueError(f\"More than one file matching index: {list(results_gen)}\")\n",
    "\n",
    "\n",
    "table_names = set()\n",
    "table_infos = []\n",
    "for idx, df in enumerate(dfs):\n",
    "    table_info = _get_tableinfo_with_index(idx)\n",
    "    if table_info:\n",
    "        table_infos.append(table_info)\n",
    "    else:\n",
    "        while True:\n",
    "            df_str = df.head(10).to_csv()\n",
    "            table_info = program(\n",
    "                table_str=df_str,\n",
    "                exclude_table_name_list=str(list(table_names))\n",
    "            )\n",
    "            table_name = table_info.table_name\n",
    "            print(f\"Processed table: {table_name}\")\n",
    "            if table_name not in table_names:\n",
    "                table_names.add(table_name)\n",
    "                break\n",
    "            else:\n",
    "                # try again\n",
    "                print(f\"Table name {table_name} already exists, trying again.\")\n",
    "                pass\n",
    "                \n",
    "        out_file = f'{tableinfo_dir}/{idx}_{table_name}.json'\n",
    "        json.dump(\n",
    "            table_info.dict(), \n",
    "            open(out_file, 'w')\n",
    "        )\n",
    "    table_infos.append(table_info)"
   ]
  },
  {
   "cell_type": "markdown",
   "id": "64ac4df7-434c-422b-84b2-368e2dc27491",
   "metadata": {},
   "source": [
    "### Put Data in SQL Database\n",
    "\n",
    "We use `sqlalchemy`, a popular SQL database toolkit, to load all the tables."
   ]
  },
  {
   "cell_type": "code",
   "execution_count": 14,
   "id": "1d84718a-5b6d-4c13-b984-360082b91d73",
   "metadata": {},
   "outputs": [
    {
     "name": "stdout",
     "output_type": "stream",
     "text": [
      "Creating table: Renaissance_Discography\n",
      "Creating table: Actress_Filmography\n",
      "Creating table: Yearly_Deaths_and_Accidents\n",
      "Creating table: Academy_Awards_1972\n",
      "Creating table: Actress_Awards\n",
      "Creating table: Bad_Boy_Artists\n",
      "Creating table: Radio_Stations\n",
      "Creating table: Disappeared_Persons\n",
      "Creating table: Peak_Chart_Positions\n",
      "Creating table: Kodachrome_Film\n",
      "Creating table: BBC_Radio_Costs\n",
      "Creating table: Airport_Information\n",
      "Creating table: Voter_Party_Statistics\n",
      "Creating table: Club_Performance_Norway\n",
      "Creating table: Kentucky_Derby_Winners\n",
      "Creating table: Grammy_Awards\n",
      "Creating table: Boxing_Matches\n",
      "Creating table: Football_Team_Records\n",
      "Creating table: Yamato_District_Area_Population\n",
      "Creating table: Voter_Registration_Statistics\n",
      "Creating table: Actress_Awards_Table\n",
      "Creating table: Political Positions of Lord Beaverbrook\n",
      "Creating table: Gortynia_Municipalities\n",
      "Creating table: European_Football_Standings\n",
      "Creating table: Number_Encoding_Probability\n",
      "Creating table: Average_Temperature_and_Precipitation\n",
      "Creating table: Italian_Presidents\n",
      "Creating table: New_Mexico_Officials\n",
      "Creating table: Average_Temperature_Precipitation\n",
      "Creating table: Drop Events\n",
      "Creating table: Temperature_and_Precipitation\n",
      "Creating table: Afrikaans_Language_Translations\n",
      "Creating table: Schools_in_Ohio\n",
      "Creating table: Kinase_Cancer_Relationships\n"
     ]
    }
   ],
   "source": [
    "# put data into sqlite db\n",
    "from sqlalchemy import (\n",
    "    create_engine,\n",
    "    MetaData,\n",
    "    Table,\n",
    "    Column,\n",
    "    String,\n",
    "    Integer,\n",
    ")\n",
    "\n",
    "# Function to create a table from a DataFrame using SQLAlchemy\n",
    "def create_table_from_dataframe(\n",
    "    df: pd.DataFrame, \n",
    "    table_name: str, \n",
    "    engine, \n",
    "    metadata_obj\n",
    "):\n",
    "    # Dynamically create columns based on DataFrame columns and data types\n",
    "    columns = [Column(col, String if dtype == 'object' else Integer) for col, dtype in zip(df.columns, df.dtypes)]\n",
    "\n",
    "    # Create a table with the defined columns\n",
    "    table = Table(table_name, metadata_obj, *columns)\n",
    "\n",
    "    # Create the table in the database\n",
    "    metadata_obj.create_all(engine)\n",
    "\n",
    "    # Insert data from DataFrame into the table\n",
    "    with engine.connect() as conn:\n",
    "        for _, row in df.iterrows():\n",
    "            insert_stmt = table.insert().values(**row.to_dict())\n",
    "            conn.execute(insert_stmt)\n",
    "\n",
    "\n",
    "engine = create_engine(\"sqlite:///:memory:\")\n",
    "metadata_obj = MetaData()\n",
    "for idx, df in enumerate(dfs):\n",
    "    tableinfo = _get_tableinfo_with_index(idx)\n",
    "    print(f\"Creating table: {tableinfo.table_name}\")\n",
    "    create_table_from_dataframe(\n",
    "        df,\n",
    "        tableinfo.table_name,\n",
    "        engine,\n",
    "        metadata_obj\n",
    "    )"
   ]
  },
  {
   "cell_type": "markdown",
   "id": "4b0b0de3-58a8-429b-a8b0-7a112028725c",
   "metadata": {},
   "source": [
    "## Define Modules\n",
    "\n",
    "Here we define the core modules.\n",
    "1. Object index + retriever to store table schemas\n",
    "2. SQLDatabase object to connect to the above tables + SQLRetriever.\n",
    "3. Text-to-SQL Prompt\n",
    "4. Response synthesis Prompt\n",
    "5. LLM"
   ]
  },
  {
   "cell_type": "markdown",
   "id": "d350c9b2-ff4e-4714-841d-bce1a8ff28b2",
   "metadata": {},
   "source": [
    "Object index, retriever, SQLDatabase"
   ]
  },
  {
   "cell_type": "code",
   "execution_count": 16,
   "id": "e240f48d-4458-4a66-b4fc-a5b5b8535353",
   "metadata": {},
   "outputs": [],
   "source": [
    "from llama_index.objects import (\n",
    "    SQLTableNodeMapping,\n",
    "    ObjectIndex,\n",
    "    SQLTableSchema,\n",
    ")\n",
    "from llama_index import SQLDatabase, VectorStoreIndex\n",
    "\n",
    "sql_database = SQLDatabase(engine)\n",
    "\n",
    "table_node_mapping = SQLTableNodeMapping(sql_database)\n",
    "table_schema_objs = [\n",
    "    SQLTableSchema(table_name=t.table_name, context_str=t.table_summary)\n",
    "    for t in table_infos\n",
    "]  # add a SQLTableSchema for each table\n",
    "\n",
    "obj_index = ObjectIndex.from_objects(\n",
    "    table_schema_objs,\n",
    "    table_node_mapping,\n",
    "    VectorStoreIndex,\n",
    ")\n",
    "obj_retriever = obj_index.as_retriever(similarity_top_k=3)"
   ]
  },
  {
   "cell_type": "markdown",
   "id": "3a793d6b-762c-492d-a929-c77c1bffcf0e",
   "metadata": {},
   "source": [
    "SQLRetriever"
   ]
  },
  {
   "cell_type": "code",
   "execution_count": 17,
   "id": "97371260-5ae3-4c93-9ff0-3c4fed3d5b53",
   "metadata": {},
   "outputs": [],
   "source": [
    "from llama_index.retrievers import SQLRetriever\n",
    "\n",
    "sql_retriever = SQLRetriever(sql_database)"
   ]
  },
  {
   "cell_type": "markdown",
   "id": "1c88c000-5f30-4d8d-bfa6-c9551b1fdbae",
   "metadata": {},
   "source": [
    "Text-to-SQL Prompt + Output Parser"
   ]
  },
  {
   "cell_type": "code",
   "execution_count": 18,
   "id": "2ebb0d0d-4a13-45d2-9e59-62dbb3cd101f",
   "metadata": {},
   "outputs": [
    {
     "name": "stdout",
     "output_type": "stream",
     "text": [
      "Given an input question, first create a syntactically correct {dialect} query to run, then look at the results of the query and return the answer. You can order the results by a relevant column to return the most interesting examples in the database.\n",
      "\n",
      "Never query for all the columns from a specific table, only ask for a few relevant columns given the question.\n",
      "\n",
      "Pay attention to use only the column names that you can see in the schema description. Be careful to not query for columns that do not exist. Pay attention to which column is in which table. Also, qualify column names with the table name when needed. You are required to use the following format, each taking one line:\n",
      "\n",
      "Question: Question here\n",
      "SQLQuery: SQL Query to run\n",
      "SQLResult: Result of the SQLQuery\n",
      "Answer: Final answer here\n",
      "\n",
      "Only use tables listed below.\n",
      "{schema}\n",
      "\n",
      "Question: {query_str}\n",
      "SQLQuery: \n"
     ]
    }
   ],
   "source": [
    "from llama_index.prompts.default_prompts import DEFAULT_TEXT_TO_SQL_PROMPT\n",
    "from llama_index.prompts import PromptTemplate\n",
    "from llama_index.query_pipeline import FnComponent\n",
    "\n",
    "def parse_response_to_sql(response: str) -> str:\n",
    "    \"\"\"Parse response to SQL.\"\"\"\n",
    "    sql_query_start = response.find(\"SQLQuery:\")\n",
    "    if sql_query_start != -1:\n",
    "        response = response[sql_query_start:]\n",
    "        # TODO: move to removeprefix after Python 3.9+\n",
    "        if response.startswith(\"SQLQuery:\"):\n",
    "            response = response[len(\"SQLQuery:\") :]\n",
    "    sql_result_start = response.find(\"SQLResult:\")\n",
    "    if sql_result_start != -1:\n",
    "        response = response[:sql_result_start]\n",
    "    return response.strip().strip(\"```\").strip()\n",
    "sql_parser_component = FnComponent(fn=parse_response_to_sql)\n",
    "\n",
    "text2sql_prompt = DEFAULT_TEXT_TO_SQL_PROMPT\n",
    "print(text2sql_prompt.template)"
   ]
  },
  {
   "cell_type": "markdown",
   "id": "55e9799c-eb29-4bcf-92dd-fb75d18a2f46",
   "metadata": {},
   "source": [
    "Response Synthesis Prompt"
   ]
  },
  {
   "cell_type": "code",
   "execution_count": 19,
   "id": "e9ae7166-4cac-4819-950e-9bd445cf737d",
   "metadata": {},
   "outputs": [],
   "source": [
    "response_synthesis_prompt_str = (\n",
    "    \"Given an input question, synthesize a response from the query results.\\n\"\n",
    "    \"Query: {query_str}\\n\"\n",
    "    \"SQL: {sql_query}\\n\"\n",
    "    \"SQL Response: {context_str}\\n\"\n",
    "    \"Response: \"\n",
    ")\n",
    "response_synthesis_prompt = PromptTemplate(\n",
    "    response_synthesis_prompt_str,\n",
    ")"
   ]
  },
  {
   "cell_type": "code",
   "execution_count": 20,
   "id": "1969aa70-6f5d-4905-bb22-f11db20e9653",
   "metadata": {},
   "outputs": [],
   "source": [
    "llm = OpenAI(model='gpt-3.5-turbo')"
   ]
  },
  {
   "cell_type": "markdown",
   "id": "6fda98f0-376a-4192-85b6-d9ba93082139",
   "metadata": {},
   "source": [
    "## Define Query Pipeline\n",
    "\n",
    "Now that the components are in place, let's define the query pipeline! "
   ]
  },
  {
   "cell_type": "code",
   "execution_count": 25,
   "id": "de6f9b80-2759-429b-937f-796569390769",
   "metadata": {},
   "outputs": [],
   "source": [
    "from llama_index.query_pipeline import (\n",
    "    QueryPipeline as QP,\n",
    "    Link,\n",
    "    InputComponent,\n",
    "    CustomQueryComponent\n",
    ")\n",
    "\n",
    "qp = QP(modules={\n",
    "    \"input\": InputComponent(),\n",
    "    \"table_retriever\": obj_retriever,\n",
    "    \"text2sql_prompt\": text2sql_prompt,\n",
    "    \"text2sql_llm\": llm,\n",
    "    \"output_parser\": sql_parser_component, \n",
    "    \"sql_retriever\": sql_retriever,\n",
    "    \"response_synthesis_prompt\": response_synthesis_prompt,\n",
    "    \"response_synthesis_llm\": llm\n",
    "})"
   ]
  },
  {
   "cell_type": "code",
   "execution_count": 26,
   "id": "4dffe6d9-fe05-43d5-915a-ace406c96164",
   "metadata": {},
   "outputs": [],
   "source": [
    "qp.add_link(\"input\", \"table_retriever\")\n",
    "qp.add_link(\"table_retriever\", \"text2sql_prompt\", dest_key=\"schema\")\n",
    "qp.add_chain([\"text2sql_prompt\", \"text2sql_llm\", \"output_parser\", \"sql_retriever\"])\n",
    "qp.add_link(\"output_parser\", \"response_synthesis_prompt\", dest_key=\"sql_query\")\n",
    "qp.add_link(\"sql_retriever\", \"response_synthesis_prompt\", dest_key=\"context_str\")\n",
    "qp.add_link(\"input\", \"response_synthesis_prompt\", dest_key=\"query_str\")\n",
    "qp.add_link(\"response_synthesis_prompt\", \"response_synthesis_llm\")"
   ]
  },
  {
   "cell_type": "markdown",
   "id": "84f3dba6-b7bd-4252-b19b-b42a9e9fb71e",
   "metadata": {},
   "source": [
    "### Visualize Query Pipeline\n",
    "\n",
    "A really nice property of the query pipeline syntax is you can easily visualize it in a graph via networkx."
   ]
  },
  {
   "cell_type": "code",
   "execution_count": 27,
   "id": "4856d77a-09ed-4509-baed-5443a29b71c1",
   "metadata": {},
   "outputs": [
    {
     "name": "stdout",
     "output_type": "stream",
     "text": [
      "text2sql_dag.html\n"
     ]
    },
    {
     "data": {
      "text/html": [
       "\n",
       "        <iframe\n",
       "            width=\"100%\"\n",
       "            height=\"600px\"\n",
       "            src=\"text2sql_dag.html\"\n",
       "            frameborder=\"0\"\n",
       "            allowfullscreen\n",
       "            \n",
       "        ></iframe>\n",
       "        "
      ],
      "text/plain": [
       "<IPython.lib.display.IFrame at 0x2b0d20670>"
      ]
     },
     "execution_count": 27,
     "metadata": {},
     "output_type": "execute_result"
    }
   ],
   "source": [
    "from pyvis.network import Network\n",
    "\n",
    "net = Network(notebook=True, cdn_resources=\"in_line\", directed=True)\n",
    "net.from_nx(qp.dag)\n",
    "net.show(\"text2sql_dag.html\")"
   ]
  },
  {
   "cell_type": "markdown",
   "id": "3c947303-9e09-47eb-a73e-52d82e83251a",
   "metadata": {},
   "source": [
    "## Run Some Queries! \n",
    "\n",
    "Now we're ready to ru|n some queries across this entire pipeline."
   ]
  },
  {
   "cell_type": "code",
   "execution_count": 28,
   "id": "f1a761d1-8658-475e-b4b3-cc0fcb194e2e",
   "metadata": {},
   "outputs": [
    {
     "ename": "AttributeError",
     "evalue": "'ObjectRetriever' object has no attribute 'set_callback_manager'",
     "output_type": "error",
     "traceback": [
      "\u001b[0;31m---------------------------------------------------------------------------\u001b[0m",
      "\u001b[0;31mAttributeError\u001b[0m                            Traceback (most recent call last)",
      "Cell \u001b[0;32mIn[28], line 1\u001b[0m\n\u001b[0;32m----> 1\u001b[0m response \u001b[38;5;241m=\u001b[39m \u001b[43mqp\u001b[49m\u001b[38;5;241;43m.\u001b[39;49m\u001b[43mrun\u001b[49m\u001b[43m(\u001b[49m\u001b[43mquery\u001b[49m\u001b[38;5;241;43m=\u001b[39;49m\u001b[38;5;124;43m\"\u001b[39;49m\u001b[38;5;124;43mHow many singles did Diddy release under Bad Boy?\u001b[39;49m\u001b[38;5;124;43m\"\u001b[39;49m\u001b[43m)\u001b[49m\n\u001b[1;32m      2\u001b[0m \u001b[38;5;28mprint\u001b[39m(\u001b[38;5;28mstr\u001b[39m(response))\n",
      "File \u001b[0;32m~/Programming/gpt_index/llama_index/query_pipeline/query.py:251\u001b[0m, in \u001b[0;36mQueryPipeline.run\u001b[0;34m(self, return_values_direct, callback_manager, *args, **kwargs)\u001b[0m\n\u001b[1;32m    249\u001b[0m \u001b[38;5;66;03m# first set callback manager\u001b[39;00m\n\u001b[1;32m    250\u001b[0m callback_manager \u001b[38;5;241m=\u001b[39m callback_manager \u001b[38;5;129;01mor\u001b[39;00m \u001b[38;5;28mself\u001b[39m\u001b[38;5;241m.\u001b[39mcallback_manager\n\u001b[0;32m--> 251\u001b[0m \u001b[38;5;28;43mself\u001b[39;49m\u001b[38;5;241;43m.\u001b[39;49m\u001b[43mset_callback_manager\u001b[49m\u001b[43m(\u001b[49m\u001b[43mcallback_manager\u001b[49m\u001b[43m)\u001b[49m\n\u001b[1;32m    252\u001b[0m \u001b[38;5;28;01mwith\u001b[39;00m \u001b[38;5;28mself\u001b[39m\u001b[38;5;241m.\u001b[39mcallback_manager\u001b[38;5;241m.\u001b[39mas_trace(\u001b[38;5;124m\"\u001b[39m\u001b[38;5;124mquery\u001b[39m\u001b[38;5;124m\"\u001b[39m):\n\u001b[1;32m    253\u001b[0m     \u001b[38;5;28;01mwith\u001b[39;00m \u001b[38;5;28mself\u001b[39m\u001b[38;5;241m.\u001b[39mcallback_manager\u001b[38;5;241m.\u001b[39mevent(\n\u001b[1;32m    254\u001b[0m         CBEventType\u001b[38;5;241m.\u001b[39mQUERY, payload\u001b[38;5;241m=\u001b[39m{EventPayload\u001b[38;5;241m.\u001b[39mQUERY_STR: json\u001b[38;5;241m.\u001b[39mdumps(kwargs)}\n\u001b[1;32m    255\u001b[0m     ) \u001b[38;5;28;01mas\u001b[39;00m query_event:\n",
      "File \u001b[0;32m~/Programming/gpt_index/llama_index/query_pipeline/query.py:239\u001b[0m, in \u001b[0;36mQueryPipeline.set_callback_manager\u001b[0;34m(self, callback_manager)\u001b[0m\n\u001b[1;32m    237\u001b[0m \u001b[38;5;28mself\u001b[39m\u001b[38;5;241m.\u001b[39mcallback_manager \u001b[38;5;241m=\u001b[39m callback_manager\n\u001b[1;32m    238\u001b[0m \u001b[38;5;28;01mfor\u001b[39;00m module \u001b[38;5;129;01min\u001b[39;00m \u001b[38;5;28mself\u001b[39m\u001b[38;5;241m.\u001b[39mmodule_dict\u001b[38;5;241m.\u001b[39mvalues():\n\u001b[0;32m--> 239\u001b[0m     \u001b[43mmodule\u001b[49m\u001b[38;5;241;43m.\u001b[39;49m\u001b[43mset_callback_manager\u001b[49m(callback_manager)\n",
      "\u001b[0;31mAttributeError\u001b[0m: 'ObjectRetriever' object has no attribute 'set_callback_manager'"
     ]
    }
   ],
   "source": [
    "response = qp.run(query=\"How many singles did Diddy release under Bad Boy?\")\n",
    "print(str(response))"
   ]
  },
  {
   "cell_type": "code",
   "execution_count": null,
   "id": "958e05c5-b2fa-4e26-bd60-0cea587e2c73",
   "metadata": {},
   "outputs": [],
   "source": []
  }
 ],
 "metadata": {
  "kernelspec": {
   "display_name": "llama_index_v2",
   "language": "python",
   "name": "llama_index_v2"
  },
  "language_info": {
   "codemirror_mode": {
    "name": "ipython",
    "version": 3
   },
   "file_extension": ".py",
   "mimetype": "text/x-python",
   "name": "python",
   "nbconvert_exporter": "python",
   "pygments_lexer": "ipython3",
   "version": "3.10.10"
  }
 },
 "nbformat": 4,
 "nbformat_minor": 5
}
