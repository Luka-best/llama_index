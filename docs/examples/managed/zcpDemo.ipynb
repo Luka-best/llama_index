{
 "cells": [
  {
   "cell_type": "markdown",
   "id": "adf7d63d",
   "metadata": {},
   "source": [
    "<a href=\"https://colab.research.google.com/github/jerryjliu/llama_index/blob/main/docs/examples/managed/vectaraDemo.ipynb\" target=\"_parent\"><img src=\"https://colab.research.google.com/assets/colab-badge.svg\" alt=\"Open In Colab\"/></a>"
   ]
  },
  {
   "cell_type": "markdown",
   "id": "db0855d0",
   "metadata": {},
   "source": [
    "# Managed Index with Zilliz Cloud Pipelines\n",
    "\n",
    "[Zilliz Cloud Pipelines](https://docs.zilliz.com/docs/pipelines) is a scalable API service for retrieval. You can use Zilliz Cloud Pipelines as managed index in `llama-index`. This service can transform documents into vector embeddings and store them in Zilliz Cloud for effective semantic search.\n",
    "\n",
    "## Setup\n",
    "\n",
    "1. Install llama-index"
   ]
  },
  {
   "cell_type": "code",
   "execution_count": null,
   "id": "6019e01a",
   "metadata": {},
   "outputs": [],
   "source": [
    "# ! pip install llama-index"
   ]
  },
  {
   "cell_type": "markdown",
   "id": "3fc94b2f",
   "metadata": {},
   "source": [
    "2. Configure credentials of your [OpenAI](https://platform.openai.com) & [Zilliz Cloud](https://cloud.zilliz.com/signup?utm_source=twitter&utm_medium=social%20&utm_campaign=2023-12-22_social_pipeline-llamaindex_twitter) accounts."
   ]
  },
  {
   "cell_type": "code",
   "execution_count": null,
   "id": "c2d1c538",
   "metadata": {},
   "outputs": [],
   "source": [
    "from getpass import getpass\n",
    "import os\n",
    "\n",
    "os.environ[\"OPENAI_API_KEY\"] = getpass(\"Enter your OpenAI API Key:\")\n",
    "\n",
    "ZILLIZ_PROJECT_ID = getpass(\"Enter your Zilliz Project ID:\")\n",
    "ZILLIZ_CLUSTER_ID = getpass(\"Enter your Zilliz Cluster ID:\")\n",
    "ZILLIZ_TOKEN = getpass(\"Enter your Zilliz API Key:\")"
   ]
  },
  {
   "cell_type": "markdown",
   "id": "200b4fe0",
   "metadata": {},
   "source": [
    "> [Find your OpenAI API key](https://beta.openai.com/account/api-keys)\n",
    ">\n",
    "> [Find your Zilliz Cloud credentials](https://docs.zilliz.com/docs/on-zilliz-cloud-console)"
   ]
  },
  {
   "cell_type": "markdown",
   "id": "5d3c5b5f",
   "metadata": {},
   "source": [
    "## Indexing documents\n",
    "\n",
    "### From Signed URL\n",
    "\n",
    "Zilliz Cloud Pipelines accepts files from AWS S3 and Google Cloud Storage. You can generate a presigned url from the Object Storage and use `from_document_url()` or `insert_doc_url()` to ingest the file. It can automatically index the document and store the doc chunks as vectors on Zilliz Cloud."
   ]
  },
  {
   "cell_type": "code",
   "execution_count": null,
   "id": "97d5c934",
   "metadata": {},
   "outputs": [],
   "source": [
    "from llama_index.indices import ZillizCloudPipelineIndex\n",
    "\n",
    "zcp_index = ZillizCloudPipelineIndex.from_document_url(\n",
    "    # a public or pre-signed url of a file stored on AWS S3 or Google Cloud Storage\n",
    "    url=\"https://publicdataset.zillizcloud.com/milvus_doc.md\",\n",
    "    project_id=ZILLIZ_PROJECT_ID,\n",
    "    cluster_id=ZILLIZ_CLUSTER_ID,\n",
    "    token=ZILLIZ_TOKEN,\n",
    "    # optional\n",
    "    metadata={\"version\": \"2.3\"},  # used for filtering\n",
    "    collection_name=\"zcp_llamalection\",  # change this value will specify customized collection name\n",
    ")\n",
    "\n",
    "# Insert more docs, eg. a Milvus v2.2 document\n",
    "zcp_index.insert_doc_url(\n",
    "    url=\"https://publicdataset.zillizcloud.com/milvus_doc_22.md\",\n",
    "    metadata={\"version\": \"2.2\"},\n",
    ")\n",
    "\n",
    "# # Delete docs by doc name\n",
    "# zcp_index.delete_by_doc_name(doc_name=\"milvus_doc_22.md\")"
   ]
  },
  {
   "cell_type": "markdown",
   "id": "d16a498e",
   "metadata": {},
   "source": [
    "> It is optional to add metadata for each document. The metadata can be used to filter doc chunks during retrieval.\n",
    "\n",
    "### From Local File\n",
    "\n",
    "Coming soon.\n",
    "\n",
    "### From Raw Text\n",
    "\n",
    "Coming soon."
   ]
  },
  {
   "cell_type": "markdown",
   "id": "c94365ab",
   "metadata": {},
   "source": [
    "## Working as Query Engine\n",
    "\n",
    "To conduct semantic search with `ZillizCloudPipelineIndex`, you can use it `as_query_engine()` by specifying a few parameters:\n",
    "- search_top_k: How many text nodes/chunks to retrieve. Optional, defaults to `DEFAULT_SIMILARITY_TOP_K` (2).\n",
    "- filters: Metadata filters. Optional, defaults to None.\n",
    "- output_metadata: What metadata fields to return with the retrieved text node. Optional, defaults to []."
   ]
  },
  {
   "cell_type": "code",
   "execution_count": null,
   "id": "dafda7a1",
   "metadata": {},
   "outputs": [],
   "source": [
    "# # If you don't have zcp_index object and have an existing collection, you can construct it by:\n",
    "#\n",
    "# from llama_index.indices import ZillizCloudPipelineIndex\n",
    "# zcp_index = ZillizCloudPipelineIndex(\n",
    "#         project_id=ZILLIZ_PROJECT_ID,\n",
    "#         cluster_id=ZILLIZ_CLUSTER_ID,\n",
    "#         token=ZILLIZ_TOKEN,\n",
    "#         collection_name=\"zcp_llamalection\"\n",
    "#     )\n",
    "\n",
    "from llama_index.vector_stores.types import ExactMatchFilter, MetadataFilters\n",
    "\n",
    "query_engine_milvus23 = zcp_index.as_query_engine(\n",
    "    search_top_k=3,\n",
    "    filters=MetadataFilters(\n",
    "        filters=[\n",
    "            ExactMatchFilter(key=\"version\", value=\"2.3\")\n",
    "        ]  # version == \"2.3\"\n",
    "    ),\n",
    "    output_metadata=[\"version\"],\n",
    ")"
   ]
  },
  {
   "cell_type": "markdown",
   "id": "9803232e",
   "metadata": {},
   "source": [
    "Then the query engine is ready for Semantic Search or Retrieval Augmented Generation with Milvus 2.3 documents:\n",
    "\n",
    "- **Retrieve** (Semantic search powered by Zilliz Cloud Pipelines):"
   ]
  },
  {
   "cell_type": "code",
   "execution_count": null,
   "id": "8ab92af7",
   "metadata": {},
   "outputs": [],
   "source": [
    "question = \"Can users delete entities by filtering non-primary fields?\"\n",
    "retrieved_nodes = query_engine_milvus23.retrieve(question)\n",
    "print(retrieved_nodes)"
   ]
  },
  {
   "cell_type": "markdown",
   "id": "d47d322d",
   "metadata": {},
   "source": [
    "> The query engine with filters retrieves only text nodes with \\\"version 2.3\\\" tag."
   ]
  },
  {
   "cell_type": "markdown",
   "id": "e91c5896",
   "metadata": {},
   "source": [
    "- **Query** (RAG powered by Zilliz Cloud Pipelines as retriever and OpenAI's LLM):"
   ]
  },
  {
   "cell_type": "code",
   "execution_count": null,
   "id": "fc7b01b7",
   "metadata": {},
   "outputs": [],
   "source": [
    "response = query_engine_milvus23.query(question)\n",
    "print(response.response)"
   ]
  }
 ],
 "metadata": {
  "kernelspec": {
   "display_name": "Python 3 (ipykernel)",
   "language": "python",
   "name": "python3"
  },
  "language_info": {
   "codemirror_mode": {
    "name": "ipython",
    "version": 3
   },
   "file_extension": ".py",
   "mimetype": "text/x-python",
   "name": "python",
   "nbconvert_exporter": "python",
   "pygments_lexer": "ipython3",
   "version": "3.10.12"
  }
 },
 "nbformat": 4,
 "nbformat_minor": 5
}
