{
 "cells": [
  {
   "cell_type": "markdown",
   "id": "034e355d-83a0-4bd2-877e-0f493c5f713d",
   "metadata": {
    "tags": []
   },
   "source": [
    "# 10K Analysis"
   ]
  },
  {
   "cell_type": "code",
   "execution_count": 418,
   "id": "fab03000-d160-4a09-a149-405b0bcc8b21",
   "metadata": {
    "tags": []
   },
   "outputs": [],
   "source": [
    "from llama_index import SimpleDirectoryReader, LLMPredictor, ServiceContext, GPTVectorStoreIndex\n",
    "from llama_index.response.pprint_utils import pprint_response\n",
    "from langchain import OpenAI"
   ]
  },
  {
   "cell_type": "code",
   "execution_count": 419,
   "id": "35364259-f1c3-4df0-b8c9-79e0afca7436",
   "metadata": {
    "tags": []
   },
   "outputs": [],
   "source": [
    "llm_predictor = LLMPredictor(llm=OpenAI(temperature=0, model_name=\"text-davinci-003\", max_tokens=-1, streaming=True))\n",
    "service_context = ServiceContext.from_defaults(llm_predictor=llm_predictor)"
   ]
  },
  {
   "cell_type": "markdown",
   "id": "9be92b8e-1d3f-4ac9-b88a-10f69e3d6645",
   "metadata": {
    "jp-MarkdownHeadingCollapsed": true,
    "tags": []
   },
   "source": [
    "# Lyft"
   ]
  },
  {
   "cell_type": "code",
   "execution_count": 420,
   "id": "d282214f-69d2-49d4-8ab3-e1b1560f0be6",
   "metadata": {
    "tags": []
   },
   "outputs": [],
   "source": [
    "lyft_docs = SimpleDirectoryReader(input_files=[\"../data/10k/lyft_2021.pdf\"]).load_data()"
   ]
  },
  {
   "cell_type": "code",
   "execution_count": 240,
   "id": "60826815-3282-4947-aa4f-ee75dcc033c3",
   "metadata": {
    "tags": []
   },
   "outputs": [],
   "source": [
    "lyft_index = GPTVectorStoreIndex.from_documents(lyft_docs)"
   ]
  },
  {
   "cell_type": "code",
   "execution_count": 421,
   "id": "a0d76160-00fe-4cab-aab9-1f227db6feca",
   "metadata": {
    "tags": []
   },
   "outputs": [],
   "source": [
    "lyft_engine = lyft_index.as_query_engine(similarity_top_k=3)"
   ]
  },
  {
   "cell_type": "code",
   "execution_count": 451,
   "id": "c57dad40-add8-469a-aaeb-fe19900206fe",
   "metadata": {
    "tags": []
   },
   "outputs": [],
   "source": [
    "response = lyft_engine.query('what is the revenue growth in the last year, show me the reference page number')"
   ]
  },
  {
   "cell_type": "code",
   "execution_count": 452,
   "id": "fe3ee56e-4209-4e43-9f92-dc0352b1afe5",
   "metadata": {
    "tags": []
   },
   "outputs": [
    {
     "name": "stdout",
     "output_type": "stream",
     "text": [
      "Final Response: The revenue growth in the last year is 36%, as\n",
      "referenced on page 63.\n",
      "______________________________________________________________________\n",
      "Source Node 1/3\n",
      "Document ID: 6a1711e2-51be-46c1-8152-72361c192ed9\n",
      "Similarity: 0.8045102189652867\n",
      "Text: page_label: 63  Results of OperationsThe following table summar\n",
      "izes our historical consolidated statements of operations data:Year\n",
      "Ended December 31, 2021 2020 2019 (in thousands) Revenue $ 3,208,323 $\n",
      "2,364,681 $ 3,615,960 Costs and expenses Cost of revenue 1,649,532\n",
      "1,447,516 2,176,469 Operations and support 402,233 453,963 636,116\n",
      "Research a...\n",
      "______________________________________________________________________\n",
      "Source Node 2/3\n",
      "Document ID: c15baf48-6db4-4892-88ba-8be2a6f195a5\n",
      "Similarity: 0.8030623987053549\n",
      "Text: page_label: 19  changing industries. If our assumptions\n",
      "regarding these risks and uncertainties, which we use to plan and\n",
      "operate ourbusiness,  are incorrect or change, or if we do not address\n",
      "these risks successfully, our results of operations could differ\n",
      "materially from our expectations and our business,financial condition\n",
      "and  results of ope...\n",
      "______________________________________________________________________\n",
      "Source Node 3/3\n",
      "Document ID: 21db4c23-fb06-48bb-91c7-2f52d158a123\n",
      "Similarity: 0.8023439081890719\n",
      "Text: page_label: 64  second quarter of 2021. These increases were\n",
      "offset by investments in driver supply by increasing driver incentives\n",
      "recorded as a reduction to revenue by $942.9 million in2021 as\n",
      "compared to the prior y ear as rider demand outpaced driver supply\n",
      "during certain periods of the pandemic recovery in 2021. Revenue in\n",
      "2020 was also hig...\n"
     ]
    }
   ],
   "source": [
    "pprint_response(response, show_source=True)"
   ]
  },
  {
   "cell_type": "markdown",
   "id": "e7113434-0e41-46b6-a74e-284ce211fd38",
   "metadata": {
    "jp-MarkdownHeadingCollapsed": true,
    "tags": []
   },
   "source": [
    "# Uber"
   ]
  },
  {
   "cell_type": "code",
   "execution_count": 424,
   "id": "e35842e1-b058-4e1a-8f51-4c84b42ff412",
   "metadata": {
    "tags": []
   },
   "outputs": [],
   "source": [
    "uber_docs = SimpleDirectoryReader(input_files=[\"../data/10k/uber_2021.pdf\"]).load_data()"
   ]
  },
  {
   "cell_type": "code",
   "execution_count": 425,
   "id": "4e6c3178-6aab-4fdc-99f6-c820661e7a73",
   "metadata": {
    "tags": []
   },
   "outputs": [],
   "source": [
    "uber_index = GPTVectorStoreIndex.from_documents(uber_docs)"
   ]
  },
  {
   "cell_type": "code",
   "execution_count": 429,
   "id": "7b8e9d46-7d66-4a22-a9d8-4e2ce21491ce",
   "metadata": {
    "tags": []
   },
   "outputs": [],
   "source": [
    "uber_engine = uber_index.as_query_engine(similarity_top_k=3)"
   ]
  },
  {
   "cell_type": "code",
   "execution_count": 430,
   "id": "444ff6cf-2eb6-4f5c-905a-5928d0dc8947",
   "metadata": {
    "tags": []
   },
   "outputs": [],
   "source": [
    "response = uber_engine.query(\"what is the revenue growth in the last year, show me the reference page number\")"
   ]
  },
  {
   "cell_type": "code",
   "execution_count": 431,
   "id": "71de4581-5c03-4a08-8d00-ddee08530a0f",
   "metadata": {
    "tags": []
   },
   "outputs": [
    {
     "name": "stdout",
     "output_type": "stream",
     "text": [
      "Final Response: The revenue growth in the last year was 57%, as\n",
      "referenced on page 57.\n",
      "______________________________________________________________________\n",
      "Source Node 1/3\n",
      "Document ID: 0c8abeea-57cd-41bf-a94c-1c5d195bb3ae\n",
      "Similarity: 0.8059365413378133\n",
      "Text: page_label: 57  The following table sets forth the components of\n",
      "our consolidated statements of operations for each of the periods\n",
      "presented as a percentage of revenue : Year Ended December 31, 2020\n",
      "2021 Revenue 100 %100 %Costs and expenses Cost of revenue, exclusive\n",
      "of dep reciation and amortization shown separately below46 %54\n",
      "%Operations and ...\n",
      "______________________________________________________________________\n",
      "Source Node 2/3\n",
      "Document ID: 012bb7d8-36ca-42ee-8d9e-9d4754ce599f\n",
      "Similarity: 0.7980283554264312\n",
      "Text: page_label: 60  Provision for (Benefit from) Income TaxesYear\n",
      "Ended December 31, 2020 to 2021 % Change (In millions, except\n",
      "percentages) 2020 2021 Provision for (benefit fro m) income taxes$\n",
      "(192) $ (492) (156) % Effective tax rate 2.8 %48.0 % 2021 Compared to\n",
      "2020 Provision  for (benefit from) income taxes increased by $300\n",
      "million primarily du...\n",
      "______________________________________________________________________\n",
      "Source Node 3/3\n",
      "Document ID: 697ccb91-0b6e-4dfe-b78a-b3115a3bfbe0\n",
      "Similarity: 0.792540481338011\n",
      "Text: page_label: 62  All OtherFor  the  year  ended  December  31,\n",
      "2021  compared  to  the  same  period  in  2020,  All  Other  revenue\n",
      "decreased  $127  million,  or  94%  and  All  Otheradjusted EBITDA\n",
      "loss improved $450 million, or 98%. All  Other revenue and All Other\n",
      "adjusted EBITDA loss improved primarily due to the  favorable impact\n",
      "of the s...\n"
     ]
    }
   ],
   "source": [
    "pprint_response(response, show_source=True)"
   ]
  },
  {
   "cell_type": "markdown",
   "id": "20884bcd-8120-43ed-a137-1ddb3e14d201",
   "metadata": {
    "tags": []
   },
   "source": [
    "# Compare and Contrast"
   ]
  },
  {
   "cell_type": "code",
   "execution_count": 149,
   "id": "c67111e5-4fd3-4586-b51a-fd905486f247",
   "metadata": {
    "tags": []
   },
   "outputs": [],
   "source": [
    "from llama_index import ComposableGraph, GPTListIndex"
   ]
  },
  {
   "cell_type": "code",
   "execution_count": 471,
   "id": "13134fbb-85da-4580-871f-373f373f60df",
   "metadata": {
    "tags": []
   },
   "outputs": [],
   "source": [
    "graph = ComposableGraph.from_indices(\n",
    "    GPTListIndex,\n",
    "    children_indices=[lyft_index, uber_index],\n",
    "    index_summaries=[\n",
    "        \"Provides information about Lyft financials for year 2021\",\n",
    "        \"Provides information about Uber financials for year 2021\",\n",
    "    ]\n",
    ")"
   ]
  },
  {
   "cell_type": "code",
   "execution_count": 472,
   "id": "e01ddd97-3770-44de-a5c6-859d22af9842",
   "metadata": {
    "tags": []
   },
   "outputs": [],
   "source": [
    "from llama_index.query_engine.transform_query_engine import TransformQueryEngine\n",
    "from llama_index.indices.query.query_transform.base import DecomposeQueryTransform\n",
    "\n",
    "# define decompose_transform\n",
    "decompose_transform = DecomposeQueryTransform(verbose=True)\n",
    "\n",
    "# define custom query engines\n",
    "custom_query_engines = {}\n",
    "for index in [lyft_index, uber_index]:\n",
    "    query_engine = index.as_query_engine(service_context=service_context)\n",
    "    query_engine = TransformQueryEngine(\n",
    "        query_engine,\n",
    "        query_transform=decompose_transform,\n",
    "        transform_extra_info={'index_summary': index.index_struct.summary},\n",
    "    )\n",
    "    custom_query_engines[index.index_id] = query_engine\n",
    "\n",
    "custom_query_engines[graph.root_id] = graph.root_index.as_query_engine(\n",
    "    service_context=service_context,\n",
    "    streaming=True,\n",
    ")"
   ]
  },
  {
   "cell_type": "code",
   "execution_count": 473,
   "id": "63e1f7a3-d792-4103-9351-1a11fe64f6b6",
   "metadata": {
    "tags": []
   },
   "outputs": [],
   "source": [
    "# define graph\n",
    "g_engine = graph.as_query_engine(\n",
    "    custom_query_engines=custom_query_engines\n",
    ")"
   ]
  },
  {
   "cell_type": "code",
   "execution_count": 489,
   "id": "071ba563-c90d-4984-b111-7fec6687d38d",
   "metadata": {
    "tags": []
   },
   "outputs": [
    {
     "name": "stdout",
     "output_type": "stream",
     "text": [
      "\u001b[33;1m\u001b[1;3m> Current query: Compare Uber and Lyft revenue growth in 2021.\n",
      "\u001b[0m\u001b[38;5;200m\u001b[1;3m> New query:  What is Lyft's revenue growth in 2021?\n",
      "\u001b[0m\u001b[33;1m\u001b[1;3m> Current query: Compare Uber and Lyft revenue growth in 2021.\n",
      "\u001b[0m\u001b[38;5;200m\u001b[1;3m> New query:  What is Lyft's revenue growth in 2021?\n",
      "\u001b[0m\u001b[33;1m\u001b[1;3m> Current query: Compare Uber and Lyft revenue growth in 2021.\n",
      "\u001b[0m\u001b[38;5;200m\u001b[1;3m> New query:  What is Uber's revenue growth in 2021?\n",
      "\u001b[0m\u001b[33;1m\u001b[1;3m> Current query: Compare Uber and Lyft revenue growth in 2021.\n",
      "\u001b[0m\u001b[38;5;200m\u001b[1;3m> New query:  What is Uber's revenue growth in 2021?\n",
      "\u001b[0m"
     ]
    }
   ],
   "source": [
    "response = g_engine.query('Compare Uber and Lyft revenue growth in 2021.')"
   ]
  },
  {
   "cell_type": "code",
   "execution_count": 490,
   "id": "593ccb02-3cab-4f22-9f59-375dc6627090",
   "metadata": {
    "tags": []
   },
   "outputs": [
    {
     "name": "stdout",
     "output_type": "stream",
     "text": [
      "\n",
      "Uber's revenue growth in 2021 is higher than Lyft's revenue growth in 2021, at 57% compared to 38.2%."
     ]
    }
   ],
   "source": [
    "response.print_response_stream()"
   ]
  },
  {
   "cell_type": "markdown",
   "id": "41177f60-bd78-43cf-ba59-b9bf7d2b75a9",
   "metadata": {},
   "source": [
    "# Appendix"
   ]
  },
  {
   "cell_type": "markdown",
   "id": "1d79414d-9143-4150-a6c9-f4f59852e839",
   "metadata": {
    "tags": []
   },
   "source": [
    "## Using Agent"
   ]
  },
  {
   "cell_type": "code",
   "execution_count": 491,
   "id": "5ddff61c-8d8e-4686-b944-d879f59d4466",
   "metadata": {
    "tags": []
   },
   "outputs": [],
   "source": [
    "llm = OpenAI(temperature=0., max_tokens=-1)"
   ]
  },
  {
   "cell_type": "code",
   "execution_count": 497,
   "id": "78880292-cdba-4d0c-8e1a-ca9f8f99d562",
   "metadata": {
    "tags": []
   },
   "outputs": [],
   "source": [
    "from llama_index.langchain_helpers.agents import IndexToolConfig, LlamaIndexTool, LlamaToolkit\n",
    "\n",
    "uber_config = IndexToolConfig(\n",
    "    query_engine=uber_engine, \n",
    "    name=f\"Uber 10K 2021\",\n",
    "    description=f\"Provides information about Lyft financials for year 2021\",\n",
    "    tool_kwargs={\"return_direct\": False}\n",
    ")\n",
    "\n",
    "lyft_config = IndexToolConfig(\n",
    "    query_engine=lyft_engine,\n",
    "    name=f\"Lyft 10K 2021\",\n",
    "    description=f\"Provides information about Uber financials for year 2021\",\n",
    "    tool_kwargs={\"return_direct\": False}\n",
    ")"
   ]
  },
  {
   "cell_type": "code",
   "execution_count": 498,
   "id": "07328a05-70d7-47f7-965d-58d4b3a5dbfa",
   "metadata": {
    "tags": []
   },
   "outputs": [],
   "source": [
    "toolkit = LlamaToolkit(\n",
    "    index_configs=[uber_config, lyft_config],\n",
    ")"
   ]
  },
  {
   "cell_type": "code",
   "execution_count": 499,
   "id": "8a37d9cb-bbb6-4b91-9c76-14a8db13c90f",
   "metadata": {
    "tags": []
   },
   "outputs": [],
   "source": [
    "from llama_index.langchain_helpers.agents import create_llama_agent\n",
    "\n",
    "agent_chain = create_llama_agent(\n",
    "    toolkit,\n",
    "    llm,\n",
    "    memory=memory,\n",
    "    verbose=True\n",
    ")"
   ]
  },
  {
   "cell_type": "code",
   "execution_count": 500,
   "id": "361ece8a-e6b8-491e-9a63-f8d3142dd743",
   "metadata": {
    "tags": []
   },
   "outputs": [
    {
     "name": "stdout",
     "output_type": "stream",
     "text": [
      "\n",
      "\n",
      "\u001b[1m> Entering new AgentExecutor chain...\u001b[0m\n",
      "\u001b[32;1m\u001b[1;3m I need to look at the financials of both companies.\n",
      "Action: Uber 10K 2021\n",
      "Action Input: Revenue growth\u001b[0m\n",
      "Observation: \u001b[36;1m\u001b[1;3min 2021 was primarily driven by what?\n",
      "\n",
      "Revenue growth in 2021 was primarily driven by an increase in Delivery Gross Bookings of 71%, or 66% on a constant currency basis, due to an increase in food delivery orders and higher basket sizes as a result of stay-at-home order demand related to COVID-19, as well as continued expansion across U.S. and international markets. Additionally, Mobility Gross Bookings growth of 38%, or 36% on a constant currency basis, due to increases in Trip volumes as the business recovers from the impacts of COVID-19, contributed to the revenue growth.\u001b[0m\n",
      "Thought:\u001b[32;1m\u001b[1;3m I need to compare this to Lyft's revenue growth.\n",
      "Action: Lyft 10K 2021\n",
      "Action Input: Revenue growth\u001b[0m\n",
      "Observation: \u001b[33;1m\u001b[1;3m\n",
      "Revenue increased $843.6 million, or 36%, in 2021 as compared to the prior year, driven primarily by the significant increase in the number of Active Riders in 2021 as compared to the prior year, as vaccines became more widely distributed and more communities reopened.\u001b[0m\n",
      "Thought:\u001b[32;1m\u001b[1;3m I now know the final answer.\n",
      "Final Answer: Uber's revenue growth in 2021 was primarily driven by an increase in Delivery Gross Bookings of 71%, or 66% on a constant currency basis, while Lyft's revenue increased $843.6 million, or 36%, in 2021 as compared to the prior year, driven primarily by the significant increase in the number of Active Riders in 2021 as compared to the prior year.\u001b[0m\n",
      "\n",
      "\u001b[1m> Finished chain.\u001b[0m\n"
     ]
    },
    {
     "data": {
      "text/plain": [
       "\"Uber's revenue growth in 2021 was primarily driven by an increase in Delivery Gross Bookings of 71%, or 66% on a constant currency basis, while Lyft's revenue increased $843.6 million, or 36%, in 2021 as compared to the prior year, driven primarily by the significant increase in the number of Active Riders in 2021 as compared to the prior year.\""
      ]
     },
     "execution_count": 500,
     "metadata": {},
     "output_type": "execute_result"
    }
   ],
   "source": [
    "agent_chain.run(input=\"Compare Uber and Lyft revenue growth in 2021.\")"
   ]
  },
  {
   "cell_type": "markdown",
   "id": "09824042-f513-4234-8516-c9cf51fad65a",
   "metadata": {},
   "source": [
    "## Playground "
   ]
  },
  {
   "cell_type": "code",
   "execution_count": 533,
   "id": "5a5286a7-d604-4112-a72c-2fd5ee614e09",
   "metadata": {
    "tags": []
   },
   "outputs": [
    {
     "ename": "ImportError",
     "evalue": "cannot import name 'ToolMetadata' from 'llama_index.tools' (/Users/suo/dev/llama_index/llama_index/tools/__init__.py)",
     "output_type": "error",
     "traceback": [
      "\u001b[0;31m---------------------------------------------------------------------------\u001b[0m",
      "\u001b[0;31mImportError\u001b[0m                               Traceback (most recent call last)",
      "Cell \u001b[0;32mIn[533], line 2\u001b[0m\n\u001b[1;32m      1\u001b[0m \u001b[38;5;28;01mfrom\u001b[39;00m \u001b[38;5;21;01mllama_index\u001b[39;00m \u001b[38;5;28;01mimport\u001b[39;00m GPTVectorStoreIndex, SimpleDirectoryReader\n\u001b[0;32m----> 2\u001b[0m \u001b[38;5;28;01mfrom\u001b[39;00m \u001b[38;5;21;01mllama_index\u001b[39;00m\u001b[38;5;21;01m.\u001b[39;00m\u001b[38;5;21;01mtools\u001b[39;00m \u001b[38;5;28;01mimport\u001b[39;00m QueryEngineTool, ToolMetadata\n\u001b[1;32m      3\u001b[0m \u001b[38;5;28;01mfrom\u001b[39;00m \u001b[38;5;21;01mllama_index\u001b[39;00m\u001b[38;5;21;01m.\u001b[39;00m\u001b[38;5;21;01mquery_engine\u001b[39;00m\u001b[38;5;21;01m.\u001b[39;00m\u001b[38;5;21;01msub_question_query_engine\u001b[39;00m \u001b[38;5;28;01mimport\u001b[39;00m SubQuestionQueryEngine\n",
      "\u001b[0;31mImportError\u001b[0m: cannot import name 'ToolMetadata' from 'llama_index.tools' (/Users/suo/dev/llama_index/llama_index/tools/__init__.py)"
     ]
    }
   ],
   "source": [
    "from llama_index import GPTVectorStoreIndex, SimpleDirectoryReader\n",
    "from llama_index.tools import QueryEngineTool, ToolMetadata\n",
    "from llama_index.query_engine.sub_question_query_engine import SubQuestionQueryEngine"
   ]
  },
  {
   "cell_type": "code",
   "execution_count": 523,
   "id": "ed6a3201-d84b-477c-a01d-6c0ff6f2d202",
   "metadata": {
    "tags": []
   },
   "outputs": [],
   "source": [
    "prompt_template = \"\"\"\n",
    "Given the user question, and a list of tools, output a list of relevant sub-questions that when composed can help answer the full question:\n",
    "\n",
    "\n",
    "# Example 1\n",
    "\n",
    "<Tools>\n",
    "```json\n",
    "{{\n",
    "    \"uber 10k\": \"Provides information about Uber financials for year 2021\"\n",
    "    \"lyft 10k\": \"Provides information about Lyft financials for year 2021\"\n",
    "}}\n",
    "\n",
    "<User Question>\n",
    "Compare and constrast the revenue growth and EBITDA of Uber and Lyft for year 2021\n",
    "\n",
    "<Output>\n",
    "```json\n",
    "[\n",
    "    {{\n",
    "        \"question\": \"What is the revenue growth of Uber\",\n",
    "        \"tool\": \"uber 10k\"\n",
    "    }},\n",
    "    {{\n",
    "        \"question\": \"What is the EbITDA of Uber\",\n",
    "        \"tool\": \"uber 10k\"\n",
    "    }},\n",
    "    {{\n",
    "        \"question\": \"What is the revenue growth of Lyft\",\n",
    "        \"tool\": \"lyft 10k\"\n",
    "    }},\n",
    "    {{\n",
    "        \"question\": \"What is the EbITDA of Lyft\",\n",
    "        \"tool\": \"lyft 10k\"\n",
    "    }},\n",
    "    \n",
    "]\n",
    "```\n",
    "\n",
    "# Example 2\n",
    "<Tools>\n",
    "```json\n",
    "{{\n",
    "    \"uber 10k\": \"Provides information about Uber financials for year 2021\"\n",
    "    \"lyft 10k\": \"Provides information about Lyft financials for year 2021\"\n",
    "}}\n",
    "\n",
    "<User Question>\n",
    "{question}\n",
    "\n",
    "<Output>\n",
    "```\n",
    "\"\"\""
   ]
  },
  {
   "cell_type": "code",
   "execution_count": 530,
   "id": "e3ed2f8f-fe65-4acd-931e-4a709678fa85",
   "metadata": {
    "tags": []
   },
   "outputs": [],
   "source": [
    "response = llm.predict(prompt_template.format(question='Which customer segments and geographies grew the fastest?'))"
   ]
  },
  {
   "cell_type": "code",
   "execution_count": 531,
   "id": "0bff140f-e2ba-4deb-a5c7-3d49da60d44b",
   "metadata": {
    "tags": []
   },
   "outputs": [
    {
     "name": "stdout",
     "output_type": "stream",
     "text": [
      "[\n",
      "    {\n",
      "        \"question\": \"What customer segments grew the fastest for Uber\",\n",
      "        \"tool\": \"uber 10k\"\n",
      "    },\n",
      "    {\n",
      "        \"question\": \"What geographies grew the fastest for Uber\",\n",
      "        \"tool\": \"uber 10k\"\n",
      "    },\n",
      "    {\n",
      "        \"question\": \"What customer segments grew the fastest for Lyft\",\n",
      "        \"tool\": \"lyft 10k\"\n",
      "    },\n",
      "    {\n",
      "        \"question\": \"What geographies grew the fastest for Lyft\",\n",
      "        \"tool\": \"lyft 10k\"\n",
      "    },\n",
      "    \n",
      "]\n"
     ]
    }
   ],
   "source": [
    "print(response)"
   ]
  },
  {
   "cell_type": "code",
   "execution_count": 532,
   "id": "bf0bf5d5-3d6e-4b57-92ee-8fcbf3aae902",
   "metadata": {
    "tags": []
   },
   "outputs": [
    {
     "data": {
      "text/plain": [
       "Response(response=\"\\nThe customer segments that grew the fastest for Lyft were riders and drivers. Riders are diverse and dynamic, representing all adult age groups and backgrounds, and drivers are active members of their communities. Both riders and drivers benefit from Lyft's technology, insurance, community standards, and support.\", source_nodes=[NodeWithScore(node=Node(text=' demographic  shifts,  such  as  the  growingpercentage of the U.S. population \\nthat is accustomed to on-demand services and has digital-first preferences.•\\nGrow Our Share of Consumers’ Transportation Spend. Lyft’s  transportation network is designed to address a wide range of mobility needs. The Lyft networkspans\\n rideshare, car rentals, bikes, scooters, transit and vehicle services. By integrating the fragmented transportation ecosystem, we are well positioned to deliverthe best holistic exper\\nience to all of our riders and to capture significantly more of our market opportunity.•\\nDeliver  Increasing  Value  to  Drivers. We  strive  to  provide  drivers  that  use  Lyft  with  the  best  possible  experience,  including  access  to  the  best  economicopportunities. For example, throu\\ngh our Express Drive program, drivers can get access to rental cars they can use for ridesharing. We’ve also been investing in ourDriver\\n Centers,  Mobile  Services  and  related  partnerships  that  offer  drivers  affordable  and  convenient  vehicle  maintenance  services.  By  making  the  driverexperience better \\nand better, we can retain and attract more drivers to Lyft’s network.•\\nInvest in our Marketplace Technology. Our  investments in our proprietary technology allow us to deliver a convenient and high-quality experience to drivers andriders.\\n Our investments in mapping, routing, payments, in-app navigation, matching technologies and data science are key to making our network more efficientand seamless to use.\\n•\\nThoughtfully Pursue M&A and Strategic Partnerships. In November 2018, we acquired Bikeshar e Holdings LLC (“Motivate”), the largest bike sharing platform inthe\\n United States at the time and in February 2020, we acquired Flexdrive, LLC (“Flexdrive”), one of our longstanding Express Drive partners. We will continueto\\n selectively  consider acquisitions that contribute to the growth of our current business, help us expand into adjacent markets or add new capabilities  to ournetwork.\\n We believe drivers and riders will continue to benefit from a broad partner ecosystem that builds on our existing loyalty and reward programs. We havealso\\n built strong relationships with transportation suppliers, state and local governments, and technology solutions providers and we intend to continue to pursuepartnerships that contr\\nibute to our growth.Competition\\nThe\\n market for TaaS networks is intensely competitive and characterized by rapid changes in technology, shifting rider needs and frequent introductions of newservices and offerings. W\\ne expect competition to continue, both from current competitors and new9\\n', doc_id='4821266f-21f6-4f9b-924a-f64ff634bf0a', embedding=None, doc_hash='c7cba0c13f7f27f9918d0e472d83af98aabddf2e5b095c2cd36c8e840cd99abe', extra_info={'page_label': '9'}, node_info={'start': 3281, 'end': 5925}, relationships={<DocumentRelationship.SOURCE: '1'>: 'c3230aba-0cd9-41f3-a648-01a7317c6861', <DocumentRelationship.PREVIOUS: '2'>: '836eb537-7c1b-48b8-b950-23438972a64c'}), score=0.8493572735978646), NodeWithScore(node=Node(text='to the specific attributes of each market on a real-time basis.Drivers\\nThe\\n drivers on our platform are active members of their communities. They are parents, students, business owners, retirees and everything in between. We workhard\\n to serve the community of drivers on our platform, empowering them to be their own bosses and providing them the opportunity to focus their time on what mattersmost. Key benefits to drivers on ou\\nr platform include:•\\nFlexibility. We offer drivers the flexibility to generate income on their own schedule, so they can best prioritize what is important in their lives.•\\nTechnology. Our  predictive  technology  around  ride  volume  and  demand  enables  us  to  share  key  information  with  drivers  about  when  and  where  to  drive  tomaximize their earnings on a\\n real-time basis.•\\nInsurance. We  procure insurance that helps protect transportation network company (“TNC”) drivers against financial losses related to automobile accidents whileon the platform.\\n•\\nCommunity Standards. To help us uphold high  community standards, we give both drivers and riders the opportunity to rate each other after a ride booked throughthe Lyft App.\\n•\\nSupport. Our  Driver  Hubs  and  certain  field  locations  in  major  cities  serve  as  gathering  places  and  offer  in-person  support  and  a  personal  connection  to  Lyftemployees. In addition, driv\\ners have access to 24/7 support and earnings tools as well as education resources and other support to meet their personal goals.Riders\\nRiders are\\n as diverse and dynamic as the communities we serve. They represent all adult age groups and backgrounds and use Lyft to commute to and from work,explore\\n their cities, spend more time at local businesses and stay out longer knowing they can get a reliable ride home. Unless otherwise stated, riders are passengers whorequest\\n rides from drivers in our ridesharing marketplace and renters of a shared bike, scooter or automobile. We work hard to provide riders with a quality experienceevery time they open the Ly\\nft App, in order to earn the right to have Lyft be their transportation network of choice. Key benefits to riders on our platform include:7\\n', doc_id='fb26c0aa-528a-4e83-bcbd-7d72f048207c', embedding=None, doc_hash='f068ec104a2f721c854e9958428598509a3a294a929a8109620c2f9a386a52d4', extra_info={'page_label': '7'}, node_info={'start': 3206, 'end': 5393}, relationships={<DocumentRelationship.SOURCE: '1'>: 'c08c3025-1dd6-481f-a545-72449ee2b7f7', <DocumentRelationship.PREVIOUS: '2'>: '254a46b9-9b1a-4419-8047-3d6c94cc6b99'}), score=0.8308742295263625), NodeWithScore(node=Node(text='genera\\nting revenues from licensing and data access agreements, primarily with third-party autonomous vehicle companies.We\\n have made focused and substantial  investments  in support of our mission. For example,  to continually  launch new innovations on our platform,  we haveinvested\\n heavily in research and development and have completed multiple strategic acquisitions. We have also invested in sales and marketing to grow our community,cultivate a diffe\\nrentiated brand that resonates with drivers and riders and promote further brand awareness. Together, these investments have enabled us to create a powerfulmultimodal platfor\\nm and scaled user network.Notwithstanding\\n the impact of COVID-19, we are continuing to invest in the future, both organically and through acquisitions of complementary businesses. Wealso\\n continue to invest in the expansion of our network of Light Vehicles and Lyft Autonomous, which focuses on the deployment and scaling of third-party self-drivingtechnology\\n on the Lyft network. Our strategy is to always be at the forefront of transportation innovation, and we believe that through these investments, we will continueto be well positioned as a le\\nader in TaaS. Even as we invest in the business, we also remain focused on finding ways to operate more efficiently.To advance our mission, we aim\\n to build the defining brand of our generation and to advocate through our commitment to social and environmental responsibility.We\\n believe  that  our  brand  represents  freedom  at  your  fingertips:  freedom  from  the  stresses  of  car  ownership  and  freedom  to  do  and  see  more.  Through  our  LyftUpinitiative,\\n we’re working to make sure people have access to affordable, reliable transportation to get where they need to go - no matter their income or zip code. We arealso\\n proud to be leaders in the fight against climate change. We’ve made the commitment to reach 100% electric vehicles (“EVs”) on the Lyft network by the end of 2030.We believe many users a\\nre loyal to Lyft because of our values, brand and commitment to social and environmental responsibility.Our\\n values, brand and focus on customer experience are key differentiators for our business. We continue to believe that users are increasingly choosing services,including\\n a transportation network, based on brand affinity and value alignment. As we progress through the COVID-19 recovery, we remain confident the demand for ourofferings will continue to g\\nrow as more and more people discover and rely on the convenience, experience and affordability of using Lyft.5\\n', doc_id='422eb769-158b-4e8e-8878-3210d81b5bbf', embedding=None, doc_hash='84869308b16210dd8ef13817f4930b5f464db1f02a46ac4a13f30b8cc06d4d18', extra_info={'page_label': '5'}, node_info={'start': 3022, 'end': 5605}, relationships={<DocumentRelationship.SOURCE: '1'>: 'be9dbf74-1068-44df-af24-ae5c52ce8fcc', <DocumentRelationship.PREVIOUS: '2'>: 'a3e9b1b2-b9de-4df9-8e5d-877a38205e83'}), score=0.8264792123085263)], extra_info={'4821266f-21f6-4f9b-924a-f64ff634bf0a': {'page_label': '9'}, 'fb26c0aa-528a-4e83-bcbd-7d72f048207c': {'page_label': '7'}, '422eb769-158b-4e8e-8878-3210d81b5bbf': {'page_label': '5'}})"
      ]
     },
     "execution_count": 532,
     "metadata": {},
     "output_type": "execute_result"
    }
   ],
   "source": [
    "lyft_engine.query(\"What customer segments grew the fastest for Lyft\")"
   ]
  },
  {
   "cell_type": "code",
   "execution_count": null,
   "id": "93a098d1-110d-44ec-a933-546f4a566263",
   "metadata": {},
   "outputs": [],
   "source": []
  }
 ],
 "metadata": {
  "kernelspec": {
   "display_name": "Python 3 (ipykernel)",
   "language": "python",
   "name": "python3"
  },
  "language_info": {
   "codemirror_mode": {
    "name": "ipython",
    "version": 3
   },
   "file_extension": ".py",
   "mimetype": "text/x-python",
   "name": "python",
   "nbconvert_exporter": "python",
   "pygments_lexer": "ipython3",
   "version": "3.9.16"
  }
 },
 "nbformat": 4,
 "nbformat_minor": 5
}
