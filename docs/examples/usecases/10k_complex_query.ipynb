{
 "cells": [
  {
   "cell_type": "code",
   "execution_count": 1,
   "id": "fab03000-d160-4a09-a149-405b0bcc8b21",
   "metadata": {
    "tags": []
   },
   "outputs": [
    {
     "name": "stderr",
     "output_type": "stream",
     "text": [
      "/Users/suo/miniconda3/envs/llama/lib/python3.9/site-packages/tqdm/auto.py:21: TqdmWarning: IProgress not found. Please update jupyter and ipywidgets. See https://ipywidgets.readthedocs.io/en/stable/user_install.html\n",
      "  from .autonotebook import tqdm as notebook_tqdm\n"
     ]
    }
   ],
   "source": [
    "from llama_index import SimpleDirectoryReader"
   ]
  },
  {
   "cell_type": "code",
   "execution_count": 94,
   "id": "35364259-f1c3-4df0-b8c9-79e0afca7436",
   "metadata": {
    "tags": []
   },
   "outputs": [],
   "source": [
    "from llama_index import LLMPredictor, ServiceContext\n",
    "from langchain import OpenAI\n",
    "llm_predictor = LLMPredictor(llm=OpenAI(temperature=0, model_name=\"text-davinci-003\", max_tokens=512))\n",
    "service_context = ServiceContext.from_defaults(llm_predictor=llm_predictor)"
   ]
  },
  {
   "cell_type": "markdown",
   "id": "9be92b8e-1d3f-4ac9-b88a-10f69e3d6645",
   "metadata": {
    "tags": []
   },
   "source": [
    "# Lyft"
   ]
  },
  {
   "cell_type": "code",
   "execution_count": 4,
   "id": "d282214f-69d2-49d4-8ab3-e1b1560f0be6",
   "metadata": {
    "tags": []
   },
   "outputs": [],
   "source": [
    "reader = SimpleDirectoryReader(input_files=[\"../data/10k/lyft_2021.pdf\"])"
   ]
  },
  {
   "cell_type": "code",
   "execution_count": 5,
   "id": "adda128a-3269-49d0-9632-a4a3e0b0313d",
   "metadata": {
    "tags": []
   },
   "outputs": [],
   "source": [
    "docs = reader.load_data()"
   ]
  },
  {
   "cell_type": "code",
   "execution_count": 8,
   "id": "128356e8-92e4-47f6-8847-d382b545dcec",
   "metadata": {
    "tags": []
   },
   "outputs": [],
   "source": [
    "from llama_index import GPTVectorStoreIndex"
   ]
  },
  {
   "cell_type": "code",
   "execution_count": 10,
   "id": "60826815-3282-4947-aa4f-ee75dcc033c3",
   "metadata": {
    "tags": []
   },
   "outputs": [],
   "source": [
    "index = GPTVectorStoreIndex.from_documents(docs)"
   ]
  },
  {
   "cell_type": "code",
   "execution_count": 11,
   "id": "a0d76160-00fe-4cab-aab9-1f227db6feca",
   "metadata": {
    "tags": []
   },
   "outputs": [],
   "source": [
    "query_engine = index.as_query_engine()"
   ]
  },
  {
   "cell_type": "code",
   "execution_count": 39,
   "id": "c57dad40-add8-469a-aaeb-fe19900206fe",
   "metadata": {
    "tags": []
   },
   "outputs": [],
   "source": [
    "response = query_engine.query('what is the revenue growth in the last year, show me the reference page number')"
   ]
  },
  {
   "cell_type": "code",
   "execution_count": 40,
   "id": "e30fb7af-8633-4a98-8a29-527d3e259814",
   "metadata": {
    "tags": []
   },
   "outputs": [],
   "source": [
    "from llama_index.response.pprint_utils import pprint_response"
   ]
  },
  {
   "cell_type": "code",
   "execution_count": 41,
   "id": "fe3ee56e-4209-4e43-9f92-dc0352b1afe5",
   "metadata": {
    "collapsed": true,
    "jupyter": {
     "outputs_hidden": true
    },
    "tags": []
   },
   "outputs": [
    {
     "name": "stdout",
     "output_type": "stream",
     "text": [
      "Final Response: The revenue growth in the last year is 36%, as\n",
      "referenced on page 63.\n",
      "______________________________________________________________________\n",
      "Source Node 1/2\n",
      "Document ID: e100795b-0e47-4516-b613-47838060fced\n",
      "Similarity: 0.8044517437695049\n",
      "Text: page_label: 63  Results of OperationsThe following table summar\n",
      "izes our historical consolidated statements of operations data:Year\n",
      "Ended December 31, 2021 2020 2019 (in thousands) Revenue $ 3,208,323 $\n",
      "2,364,681 $ 3,615,960 Costs and expenses Cost of revenue 1,649,532\n",
      "1,447,516 2,176,469 Operations and support 402,233 453,963 636,116\n",
      "Research a...\n",
      "______________________________________________________________________\n",
      "Source Node 2/2\n",
      "Document ID: 4a47a6b4-c6af-40a2-8c55-4b324687c69f\n",
      "Similarity: 0.8030018672359885\n",
      "Text: page_label: 19  changing industries. If our assumptions\n",
      "regarding these risks and uncertainties, which we use to plan and\n",
      "operate ourbusiness,  are incorrect or change, or if we do not address\n",
      "these risks successfully, our results of operations could differ\n",
      "materially from our expectations and our business,financial condition\n",
      "and  results of ope...\n"
     ]
    }
   ],
   "source": [
    "pprint_response(response, show_source=True)"
   ]
  },
  {
   "cell_type": "markdown",
   "id": "e7113434-0e41-46b6-a74e-284ce211fd38",
   "metadata": {
    "tags": []
   },
   "source": [
    "# Uber"
   ]
  },
  {
   "cell_type": "code",
   "execution_count": 44,
   "id": "e35842e1-b058-4e1a-8f51-4c84b42ff412",
   "metadata": {
    "tags": []
   },
   "outputs": [],
   "source": [
    "reader = SimpleDirectoryReader(input_files=[\"../data/10k/uber_2021.pdf\"])\n",
    "uber_docs = reader.load_data()"
   ]
  },
  {
   "cell_type": "code",
   "execution_count": 45,
   "id": "4e6c3178-6aab-4fdc-99f6-c820661e7a73",
   "metadata": {
    "tags": []
   },
   "outputs": [],
   "source": [
    "uber_index = GPTVectorStoreIndex.from_documents(uber_docs)"
   ]
  },
  {
   "cell_type": "code",
   "execution_count": 48,
   "id": "7b8e9d46-7d66-4a22-a9d8-4e2ce21491ce",
   "metadata": {
    "tags": []
   },
   "outputs": [],
   "source": [
    "query_engine = uber_index.as_query_engine()"
   ]
  },
  {
   "cell_type": "code",
   "execution_count": 49,
   "id": "444ff6cf-2eb6-4f5c-905a-5928d0dc8947",
   "metadata": {
    "tags": []
   },
   "outputs": [],
   "source": [
    "response = query_engine.query(\"what is the revenue growth in the last year, show me the reference page number\")"
   ]
  },
  {
   "cell_type": "code",
   "execution_count": 50,
   "id": "71de4581-5c03-4a08-8d00-ddee08530a0f",
   "metadata": {
    "tags": []
   },
   "outputs": [
    {
     "name": "stdout",
     "output_type": "stream",
     "text": [
      "Final Response: The revenue growth in the last year was 57%, as\n",
      "referenced on page 57.\n",
      "______________________________________________________________________\n",
      "Source Node 1/2\n",
      "Document ID: d27df4a8-52a0-42e5-9236-54578bd527de\n",
      "Similarity: 0.8059365413378133\n",
      "Text: page_label: 57  The following table sets forth the components of\n",
      "our consolidated statements of operations for each of the periods\n",
      "presented as a percentage of revenue : Year Ended December 31, 2020\n",
      "2021 Revenue 100 %100 %Costs and expenses Cost of revenue, exclusive\n",
      "of dep reciation and amortization shown separately below46 %54\n",
      "%Operations and ...\n",
      "______________________________________________________________________\n",
      "Source Node 2/2\n",
      "Document ID: 689b7af6-964b-4cac-814b-0594848210c2\n",
      "Similarity: 0.7980283554264312\n",
      "Text: page_label: 60  Provision for (Benefit from) Income TaxesYear\n",
      "Ended December 31, 2020 to 2021 % Change (In millions, except\n",
      "percentages) 2020 2021 Provision for (benefit fro m) income taxes$\n",
      "(192) $ (492) (156) % Effective tax rate 2.8 %48.0 % 2021 Compared to\n",
      "2020 Provision  for (benefit from) income taxes increased by $300\n",
      "million primarily du...\n"
     ]
    }
   ],
   "source": [
    "pprint_response(response, show_source=True)"
   ]
  },
  {
   "cell_type": "code",
   "execution_count": 51,
   "id": "28ce3f7c-0e53-4c1d-ad1a-2791eaf7bc7e",
   "metadata": {
    "tags": []
   },
   "outputs": [],
   "source": [
    "response = query_engine.query(\"what's key factor for revenue growth\")"
   ]
  },
  {
   "cell_type": "code",
   "execution_count": 52,
   "id": "aa302972-2b6a-4730-9a97-a679748baccc",
   "metadata": {
    "tags": []
   },
   "outputs": [
    {
     "name": "stdout",
     "output_type": "stream",
     "text": [
      "Final Response: Growing supply and demand on the platform, increasing\n",
      "existing platform users' activity on the platform, continuing to\n",
      "introduce the platform to new markets, providing high-quality support\n",
      "to Drivers, consumers, merchants, shippers, and carriers, expanding\n",
      "the business and increasing market share and category position,\n",
      "competing with the products and offerings of, and pricing and\n",
      "incentives offered by, competitors, developing new products,\n",
      "offerings, and technologies, identifying and acquiring or investing in\n",
      "businesses, products, offerings, or technologies that could complement\n",
      "or expand the platform, penetrating suburban and rural areas and\n",
      "increasing the number of rides taken on the platform outside\n",
      "metropolitan areas, reducing the costs of the Mobility offering to\n",
      "better compete with personal vehicle ownership and usage and other\n",
      "low-cost alternatives like public transportation, maintaining existing\n",
      "local regulations in key markets where the company operates, entering\n",
      "or expanding operations in key countries in which the company is\n",
      "currently limited by local regulations, and increasing positive\n",
      "perception of the brand.\n"
     ]
    }
   ],
   "source": [
    "pprint_response(response)"
   ]
  },
  {
   "cell_type": "code",
   "execution_count": null,
   "id": "bcf1f023-ed74-4e97-ac5b-a4988025f929",
   "metadata": {},
   "outputs": [],
   "source": [
    "print(uber_docs[2].text)"
   ]
  },
  {
   "cell_type": "code",
   "execution_count": 95,
   "id": "26227f87-45be-4a12-8555-9b471e529c50",
   "metadata": {
    "tags": []
   },
   "outputs": [],
   "source": [
    "prompt_template = \"\"\"\n",
    "Extract the table of contents given the following parsed PDF page\n",
    "\n",
    "<PDF Input>\n",
    "{pdf_text}\n",
    "\n",
    "Return response formatted as Markdown json block, similar to \n",
    "```json\n",
    "{{\n",
    "    \"Item 1. Business\": 4,\n",
    "    \"Item 1A. Risk Factors\": 11,\n",
    "}}\n",
    "\"\"\"\n",
    "\n",
    "response = service_context.llm_predictor.llm.predict\n"
   ]
  },
  {
   "cell_type": "code",
   "execution_count": 98,
   "id": "20267c09-d339-4d8e-86d9-5a161d33f358",
   "metadata": {
    "tags": []
   },
   "outputs": [],
   "source": [
    "from langchain import OpenAI"
   ]
  },
  {
   "cell_type": "code",
   "execution_count": 99,
   "id": "e056d66c-c306-4779-a73e-dd1842bf69dd",
   "metadata": {
    "tags": []
   },
   "outputs": [],
   "source": [
    "llm = OpenAI()"
   ]
  },
  {
   "cell_type": "code",
   "execution_count": null,
   "id": "a0e4494d-6b64-44e5-9d9f-5a55f01335fd",
   "metadata": {
    "tags": []
   },
   "outputs": [],
   "source": [
    "llm.predict(prompt_template.format(pdf_text=uber_docs[2].text))"
   ]
  },
  {
   "cell_type": "code",
   "execution_count": null,
   "id": "4439c4a6-62f7-4134-b248-45a7f84c6e01",
   "metadata": {},
   "outputs": [],
   "source": []
  }
 ],
 "metadata": {
  "kernelspec": {
   "display_name": "Python 3 (ipykernel)",
   "language": "python",
   "name": "python3"
  },
  "language_info": {
   "codemirror_mode": {
    "name": "ipython",
    "version": 3
   },
   "file_extension": ".py",
   "mimetype": "text/x-python",
   "name": "python",
   "nbconvert_exporter": "python",
   "pygments_lexer": "ipython3",
   "version": "3.9.16"
  }
 },
 "nbformat": 4,
 "nbformat_minor": 5
}
