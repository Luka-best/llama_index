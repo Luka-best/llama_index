{
 "cells": [
  {
   "cell_type": "markdown",
   "id": "0f67904b-5fd6-443f-bf10-d49a69b25fcd",
   "metadata": {
    "tags": []
   },
   "source": [
    "# 10K Analysis - Sub Question Query Engine"
   ]
  },
  {
   "cell_type": "code",
   "execution_count": 11,
   "id": "cdf1e9b6-0f51-49df-a11d-50ba6a014f4d",
   "metadata": {
    "tags": []
   },
   "outputs": [],
   "source": [
    "import nest_asyncio\n",
    "nest_asyncio.apply()"
   ]
  },
  {
   "cell_type": "code",
   "execution_count": 1,
   "id": "09fbec4c-1864-4d76-9dbf-3d213ba58fc8",
   "metadata": {
    "tags": []
   },
   "outputs": [
    {
     "name": "stderr",
     "output_type": "stream",
     "text": [
      "/Users/suo/miniconda3/envs/llama/lib/python3.9/site-packages/tqdm/auto.py:21: TqdmWarning: IProgress not found. Please update jupyter and ipywidgets. See https://ipywidgets.readthedocs.io/en/stable/user_install.html\n",
      "  from .autonotebook import tqdm as notebook_tqdm\n"
     ]
    }
   ],
   "source": [
    "from llama_index import SimpleDirectoryReader, LLMPredictor, ServiceContext, GPTVectorStoreIndex\n",
    "from llama_index.response.pprint_utils import pprint_response\n",
    "from langchain import OpenAI"
   ]
  },
  {
   "cell_type": "markdown",
   "id": "c743f504-f28c-4802-89b6-ad152b74b0eb",
   "metadata": {
    "tags": []
   },
   "source": [
    "configure LLM"
   ]
  },
  {
   "cell_type": "code",
   "execution_count": 2,
   "id": "c4ec8b0a-d5fa-4f74-a2cc-5cc52e009bc6",
   "metadata": {
    "tags": []
   },
   "outputs": [],
   "source": [
    "llm_predictor = LLMPredictor(llm=OpenAI(temperature=0, model_name=\"text-davinci-003\", max_tokens=-1, streaming=True))\n",
    "service_context = ServiceContext.from_defaults(llm_predictor=llm_predictor)"
   ]
  },
  {
   "cell_type": "markdown",
   "id": "71fddd07-ff4c-44d4-82af-64e2e416e853",
   "metadata": {},
   "source": [
    "load data "
   ]
  },
  {
   "cell_type": "code",
   "execution_count": 3,
   "id": "dd0ba028-1e70-4164-8af1-5f1df0ea76a9",
   "metadata": {
    "tags": []
   },
   "outputs": [],
   "source": [
    "lyft_docs = SimpleDirectoryReader(input_files=[\"../data/10k/lyft_2021.pdf\"]).load_data()\n",
    "uber_docs = SimpleDirectoryReader(input_files=[\"../data/10k/uber_2021.pdf\"]).load_data()"
   ]
  },
  {
   "cell_type": "markdown",
   "id": "fd122d0d-2da6-4f46-aa2a-8a0049ad8694",
   "metadata": {},
   "source": [
    "build indices"
   ]
  },
  {
   "cell_type": "code",
   "execution_count": 4,
   "id": "1e0b6e4c-2255-42cf-be88-0fe75a945d85",
   "metadata": {
    "tags": []
   },
   "outputs": [],
   "source": [
    "lyft_index = GPTVectorStoreIndex.from_documents(lyft_docs)"
   ]
  },
  {
   "cell_type": "code",
   "execution_count": 5,
   "id": "a606df9c-ed2d-46fb-943e-ac47d24ba412",
   "metadata": {
    "tags": []
   },
   "outputs": [],
   "source": [
    "uber_index = GPTVectorStoreIndex.from_documents(uber_docs)"
   ]
  },
  {
   "cell_type": "markdown",
   "id": "19171c8b-68c8-44a4-b95f-a3ffc795d94a",
   "metadata": {},
   "source": [
    "configure query engine"
   ]
  },
  {
   "cell_type": "code",
   "execution_count": 6,
   "id": "82466534-c3d8-4619-ab1b-4abcd05c8ba7",
   "metadata": {
    "tags": []
   },
   "outputs": [],
   "source": [
    "lyft_engine = lyft_index.as_query_engine(similarity_top_k=3)"
   ]
  },
  {
   "cell_type": "code",
   "execution_count": 7,
   "id": "ff449977-2c7c-433f-b303-ff1d7b66c7b3",
   "metadata": {
    "tags": []
   },
   "outputs": [],
   "source": [
    "uber_engine = uber_index.as_query_engine(similarity_top_k=3)"
   ]
  },
  {
   "cell_type": "markdown",
   "id": "9817bd77-f0cd-46af-8ab8-ff9560f340e7",
   "metadata": {
    "tags": []
   },
   "source": [
    "build sub-question query engine"
   ]
  },
  {
   "cell_type": "code",
   "execution_count": 8,
   "id": "a83f8cff-9221-4f35-82be-57d7d4f870eb",
   "metadata": {
    "tags": []
   },
   "outputs": [],
   "source": [
    "from llama_index.tools import QueryEngineTool, ToolMetadata\n",
    "from llama_index.query_engine import SubQuestionQueryEngine"
   ]
  },
  {
   "cell_type": "code",
   "execution_count": 12,
   "id": "8775650f-b164-478c-8129-9a8e6a0cdc97",
   "metadata": {
    "tags": []
   },
   "outputs": [],
   "source": [
    "query_engine_tools = [\n",
    "    QueryEngineTool(\n",
    "        query_engine=lyft_engine, \n",
    "        metadata=ToolMetadata(name='lyft_10k', description='Provides information about Lyft financials for year 2021')\n",
    "    ),\n",
    "    QueryEngineTool(\n",
    "        query_engine=uber_engine, \n",
    "        metadata=ToolMetadata(name='uber_10k', description='Provides information about Uber financials for year 2021')\n",
    "    ),\n",
    "]\n",
    "\n",
    "s_engine = SubQuestionQueryEngine.from_defaults(query_engine_tools=query_engine_tools)"
   ]
  },
  {
   "cell_type": "code",
   "execution_count": 16,
   "id": "edd4bbb7-eef9-4b53-b05d-f91033635ac2",
   "metadata": {
    "tags": []
   },
   "outputs": [
    {
     "name": "stdout",
     "output_type": "stream",
     "text": [
      "Generated 4 sub questions.\n",
      "\u001b[36;1m\u001b[1;3m[uber_10k] Q: What customer segments grew the fastest for Uber\n",
      "\u001b[0m\u001b[36;1m\u001b[1;3m[uber_10k] A: \n",
      "Uber's Delivery offering grew the fastest, as it allowed consumers to search for and discover local restaurants, order a meal, and either pick-up at the restaurant or have the meal delivered. Additionally, Delivery also includes offerings for grocery, alcohol and convenience store delivery as well as select other goods.\n",
      "\u001b[0m\u001b[33;1m\u001b[1;3m[uber_10k] Q: What geographies grew the fastest for Uber\n",
      "\u001b[0m\u001b[33;1m\u001b[1;3m[uber_10k] A: \n",
      "Uber experienced the fastest growth in Mobility Gross Bookings in five metropolitan areas—Chicago, Miami, and New York City in the United States, Sao Paulo in Brazil, and London in the United Kingdom. Additionally, Uber experienced strong competition in large metropolitan areas, which led to the offering of significant Driver incentives and consumer discounts and promotions in these large metropolitan areas.\n",
      "\u001b[0m\u001b[38;5;200m\u001b[1;3m[lyft_10k] Q: What customer segments grew the fastest for Lyft\n",
      "\u001b[0m\u001b[38;5;200m\u001b[1;3m[lyft_10k] A: \n",
      "The customer segments that grew the fastest for Lyft were riders and drivers. Riders are diverse and dynamic, representing all adult age groups and backgrounds, and drivers are active members of their communities. Both riders and drivers benefit from Lyft's technology, insurance, community standards, and support.\n",
      "\u001b[0m\u001b[32;1m\u001b[1;3m[lyft_10k] Q: What geographies grew the fastest for Lyft\n",
      "\u001b[0m\u001b[32;1m\u001b[1;3m[lyft_10k] A: \n",
      "Lyft has grown rapidly in cities across the United States and in select cities in Canada. The company has also expanded its offerings to include access to a network of shared bikes and scooters (“Light Vehicles”) for shorter rides and first-mile and last-mile legs of multimodal trips, information about nearby public transit routes, and Lyft Rentals, an offering for renters who want to rent a car for a fixed period of time for personal use. It is likely that these geographies have seen the fastest growth for Lyft.\n",
      "\u001b[0m"
     ]
    }
   ],
   "source": [
    "response = s_engine.query('Compare and contrast the customer segments and geographies that grew the fastest')"
   ]
  },
  {
   "cell_type": "code",
   "execution_count": 18,
   "id": "b631d68b-dd17-4afd-9ed7-da0131041c8b",
   "metadata": {
    "tags": []
   },
   "outputs": [
    {
     "name": "stdout",
     "output_type": "stream",
     "text": [
      "\n",
      "Uber experienced the fastest growth in Mobility Gross Bookings in five metropolitan areas—Chicago, Miami, New York City in the United States, Sao Paulo in Brazil, and London in the United Kingdom. The customer segments that grew the fastest for Uber were consumers searching for and discovering local restaurants, ordering meals, and either picking up at the restaurant or having the meal delivered. Additionally, Uber experienced strong competition in large metropolitan areas, which led to the offering of significant Driver incentives and consumer discounts and promotions in these large metropolitan areas.\n",
      "\n",
      "Lyft experienced the fastest growth in riders and drivers. Riders are diverse and dynamic, representing all adult age groups and backgrounds, and drivers are active members of their communities. Lyft has grown rapidly in cities across the United States and in select cities in Canada. Additionally, Lyft has expanded its offerings to include access to a network of shared bikes and scooters (“Light Vehicles”) for shorter rides and first-mile and last-mile legs of multimodal trips, information about nearby public transit routes, and Lyft Rentals, an offering for renters who want to rent a car for a fixed period of time for personal use. It is likely that these geographies have seen the fastest growth for Lyft.\n"
     ]
    }
   ],
   "source": [
    "print(response)"
   ]
  },
  {
   "cell_type": "code",
   "execution_count": null,
   "id": "6bbbdd5b-0076-48c8-b233-e2ba43d7a6de",
   "metadata": {},
   "outputs": [],
   "source": []
  }
 ],
 "metadata": {
  "kernelspec": {
   "display_name": "Python 3 (ipykernel)",
   "language": "python",
   "name": "python3"
  },
  "language_info": {
   "codemirror_mode": {
    "name": "ipython",
    "version": 3
   },
   "file_extension": ".py",
   "mimetype": "text/x-python",
   "name": "python",
   "nbconvert_exporter": "python",
   "pygments_lexer": "ipython3",
   "version": "3.9.16"
  }
 },
 "nbformat": 4,
 "nbformat_minor": 5
}
