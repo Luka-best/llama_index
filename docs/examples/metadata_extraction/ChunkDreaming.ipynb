{
 "cells": [
  {
   "cell_type": "markdown",
   "id": "b07531d9-7473-480d-bee6-c1ee4cbc207c",
   "metadata": {},
   "source": [
    "# Chunk Dreaming"
   ]
  },
  {
   "cell_type": "code",
   "execution_count": 1,
   "id": "40d399c4-c93c-41bf-9a47-48aefabb75e3",
   "metadata": {
    "tags": []
   },
   "outputs": [],
   "source": [
    "import nest_asyncio\n",
    "\n",
    "nest_asyncio.apply()\n",
    "\n",
    "import os\n",
    "import openai"
   ]
  },
  {
   "cell_type": "code",
   "execution_count": 2,
   "id": "89cb51f7-1764-40d1-bd25-d7551aa57207",
   "metadata": {
    "tags": []
   },
   "outputs": [],
   "source": [
    "os.environ[\"OPENAI_API_KEY\"] = \"YOUR_API_KEY_HERE\"\n",
    "openai.api_key = os.environ[\"OPENAI_API_KEY\"]"
   ]
  },
  {
   "cell_type": "code",
   "execution_count": 2,
   "id": "0adb8e4a-6728-4073-8256-8b3be4ab1e64",
   "metadata": {
    "tags": []
   },
   "outputs": [],
   "source": [
    "from llama_index import ServiceContext\n",
    "from llama_index.llms import OpenAI\n",
    "from llama_index.schema import MetadataMode"
   ]
  },
  {
   "cell_type": "code",
   "execution_count": 3,
   "id": "a0231dff-7443-46bf-9b9d-759198d3408e",
   "metadata": {
    "tags": []
   },
   "outputs": [],
   "source": [
    "llm = OpenAI(temperature=0.1, model=\"gpt-3.5-turbo\", max_tokens=512)"
   ]
  },
  {
   "cell_type": "markdown",
   "id": "2db2cf90-f295-4a3d-a47c-4b2b1dd2d7c5",
   "metadata": {},
   "source": [
    "We also show how to instantiate the `SummaryExtractor` and `QuestionsAnsweredExtractor`."
   ]
  },
  {
   "cell_type": "code",
   "execution_count": 10,
   "id": "3bda151d-6fb8-427e-82fc-0f3bb469d705",
   "metadata": {
    "tags": []
   },
   "outputs": [],
   "source": [
    "from llama_index.node_parser import SimpleNodeParser\n",
    "from llama_index.node_parser.extractors import (\n",
    "    MetadataExtractor,\n",
    "    SummaryExtractor,\n",
    "    QuestionsAnsweredExtractor,\n",
    ")\n",
    "from llama_index.text_splitter import TokenTextSplitter\n",
    "\n",
    "text_splitter = TokenTextSplitter(separator=\" \", chunk_size=512, chunk_overlap=128)\n",
    "\n",
    "metadata_extractor = MetadataExtractor(\n",
    "    extractors=[\n",
    "        QuestionsAnsweredExtractor(questions=3, llm=llm),\n",
    "        SummaryExtractor(summaries=[\"prev\", \"self\"], llm=llm),\n",
    "    ],\n",
    ")\n",
    "\n",
    "node_parser = SimpleNodeParser.from_defaults(\n",
    "    text_splitter=text_splitter,\n",
    "    # metadata_extractor=metadata_extractor,\n",
    ")"
   ]
  },
  {
   "cell_type": "code",
   "execution_count": 11,
   "id": "c72c45a9-dcad-4925-b2f7-d25fe5d80c2d",
   "metadata": {
    "tags": []
   },
   "outputs": [],
   "source": [
    "from llama_index import SimpleDirectoryReader"
   ]
  },
  {
   "cell_type": "markdown",
   "id": "e4e54937-e9e7-48ed-8600-72cd2f3c529b",
   "metadata": {},
   "source": [
    "We first load in the Great Gatsby"
   ]
  },
  {
   "cell_type": "code",
   "execution_count": 12,
   "id": "546e5800-2470-49d9-8521-05e82006eb66",
   "metadata": {
    "tags": []
   },
   "outputs": [],
   "source": [
    "docs = SimpleDirectoryReader(input_files=['../../../examples/gatsby/data/gatsby_part.txt']).load_data()"
   ]
  },
  {
   "cell_type": "code",
   "execution_count": 13,
   "id": "269f8ecc-489d-435f-9d81-a9c64fd4d400",
   "metadata": {
    "tags": []
   },
   "outputs": [],
   "source": [
    "nodes = node_parser.get_nodes_from_documents(docs)"
   ]
  },
  {
   "cell_type": "code",
   "execution_count": 14,
   "id": "d63b7df2-0e5a-4e98-85ea-88ddcf37c99e",
   "metadata": {},
   "outputs": [],
   "source": [
    "# take just the first 10 nodes for testing\n",
    "nodes = nodes[:10]"
   ]
  },
  {
   "cell_type": "code",
   "execution_count": 15,
   "id": "17fd3537-c8e0-4160-b39d-815dbb6504c9",
   "metadata": {
    "scrolled": true
   },
   "outputs": [
    {
     "data": {
      "application/vnd.jupyter.widget-view+json": {
       "model_id": "be974956382641ae82e23e573691a9fc",
       "version_major": 2,
       "version_minor": 0
      },
      "text/plain": [
       "Extracting questions:   0%|          | 0/10 [00:00<?, ?it/s]"
      ]
     },
     "metadata": {},
     "output_type": "display_data"
    },
    {
     "data": {
      "application/vnd.jupyter.widget-view+json": {
       "model_id": "53048943cef344d0ab6779a7f705cab8",
       "version_major": 2,
       "version_minor": 0
      },
      "text/plain": [
       "Extracting summaries:   0%|          | 0/10 [00:00<?, ?it/s]"
      ]
     },
     "metadata": {},
     "output_type": "display_data"
    },
    {
     "data": {
      "text/plain": [
       "[TextNode(id_='54167618-0fe3-4870-aff9-83ca0f65c0ac', embedding=None, metadata={'questions_this_excerpt_can_answer': \"1. Why did Gatsby's career as Trimalchio come to an end?\\n2. Why did Gatsby dismiss all of his servants and replace them with new ones?\\n3. Who are the new people that Gatsby hired as servants and why did he hire them?\", 'section_summary': \"In this section, the narrator, Nick Carraway, notices that the lights in Gatsby's house are not on one Saturday night, signaling the end of Gatsby's extravagant parties. When Nick goes to check on Gatsby, he is met by an unfamiliar butler who is rude and uncooperative. Nick learns from his Finn (a servant) that Gatsby had fired all his previous servants and replaced them with new ones who do not go into town and are not considered traditional servants. Gatsby later calls Nick and explains that he fired his servants to prevent gossip and that Daisy often visits him in the afternoons. Gatsby also mentions that the new people in his house are siblings whom his associate, Wolfshiem, wanted to help.\"}, excluded_embed_metadata_keys=[], excluded_llm_metadata_keys=['questions_this_excerpt_can_answer'], relationships={<NodeRelationship.SOURCE: '1'>: RelatedNodeInfo(node_id='6cb1fd8e-4032-4a30-9193-f6b8440b8e38', node_type=None, metadata={}, hash='bdd069b18e8327dfdf30e9db4c20e3f4697aa96166c9390481adb606a94c96c9'), <NodeRelationship.NEXT: '3'>: RelatedNodeInfo(node_id='ed174ea0-86be-46eb-832c-d8b5dec81a82', node_type=None, metadata={}, hash='358d6f56f4a8c8b8ec7022ab1ab1702a1091daea03984678be11c64d57e7e91e')}, hash='34be4e92086284c60442acae3bcd21c77afe04e64f7f102dd9db4899f1b9e4b2', text='VII\\n\\nIt was when curiosity about Gatsby was at its highest that the lights\\nin his house failed to go on one Saturday night—and, as obscurely as\\nit had begun, his career as Trimalchio was over. Only gradually did I\\nbecome aware that the automobiles which turned expectantly into his\\ndrive stayed for just a minute and then drove sulkily away. Wondering\\nif he were sick I went over to find out—an unfamiliar butler with a\\nvillainous face squinted at me suspiciously from the door.\\n\\n“Is Mr. Gatsby sick?”\\n\\n“Nope.” After a pause he added “sir” in a dilatory, grudging way.\\n\\n“I hadn’t seen him around, and I was rather worried. Tell him Mr.\\nCarraway came over.”\\n\\n“Who?” he demanded rudely.\\n\\n“Carraway.”\\n\\n“Carraway. All right, I’ll tell him.”\\n\\nAbruptly he slammed the door.\\n\\nMy Finn informed me that Gatsby had dismissed every servant in his\\nhouse a week ago and replaced them with half a dozen others, who never\\nwent into West Egg village to be bribed by the tradesmen, but ordered\\nmoderate supplies over the telephone. The grocery boy reported that\\nthe kitchen looked like a pigsty, and the general opinion in the\\nvillage was that the new people weren’t servants at all.\\n\\nNext day Gatsby called me on the phone.\\n\\n“Going away?” I inquired.\\n\\n“No, old sport.”\\n\\n“I hear you fired all your servants.”\\n\\n“I wanted somebody who wouldn’t gossip. Daisy comes over quite\\noften—in the afternoons.”\\n\\nSo the whole caravansary had fallen in like a card house at the\\ndisapproval in her eyes.\\n\\n“They’re some people Wolfshiem wanted to do something for. They’re all\\nbrothers and sisters. They used to run', start_char_idx=None, end_char_idx=None, text_template='[Excerpt from document]\\n{metadata_str}\\nExcerpt:\\n-----\\n{content}\\n-----\\n', metadata_template='{key}: {value}', metadata_seperator='\\n'),\n",
       " TextNode(id_='ed174ea0-86be-46eb-832c-d8b5dec81a82', embedding=None, metadata={'questions_this_excerpt_can_answer': \"1. Why did Gatsby fire all of his servants?\\n2. Who are the people that Wolfshiem wanted to do something for?\\n3. What was the reason for Daisy's relief when she found out the narrator was coming to lunch at her house?\", 'prev_section_summary': \"In this section, the narrator, Nick Carraway, notices that the lights in Gatsby's house are not on one Saturday night, signaling the end of Gatsby's extravagant parties. When Nick goes to check on Gatsby, he is met by an unfamiliar butler who is rude and uncooperative. Nick learns from his Finn (a servant) that Gatsby had fired all his previous servants and replaced them with new ones who do not go into town and are not considered traditional servants. Gatsby later calls Nick and explains that he fired his servants to prevent gossip and that Daisy often visits him in the afternoons. Gatsby also mentions that the new people in his house are siblings whom his associate, Wolfshiem, wanted to help.\", 'section_summary': 'In this section, the narrator is speaking with someone about firing their servants and the presence of Daisy at their house. They receive a phone call from Daisy, who seems relieved that the narrator is coming to lunch. The next day, the narrator describes the hot weather and a brief encounter with a woman on the train. The conductor also comments on the heat. The section does not mention any specific key topics or entities.'}, excluded_embed_metadata_keys=[], excluded_llm_metadata_keys=['questions_this_excerpt_can_answer'], relationships={<NodeRelationship.SOURCE: '1'>: RelatedNodeInfo(node_id='6cb1fd8e-4032-4a30-9193-f6b8440b8e38', node_type=None, metadata={}, hash='bdd069b18e8327dfdf30e9db4c20e3f4697aa96166c9390481adb606a94c96c9'), <NodeRelationship.PREVIOUS: '2'>: RelatedNodeInfo(node_id='54167618-0fe3-4870-aff9-83ca0f65c0ac', node_type=None, metadata={}, hash='34be4e92086284c60442acae3bcd21c77afe04e64f7f102dd9db4899f1b9e4b2'), <NodeRelationship.NEXT: '3'>: RelatedNodeInfo(node_id='36cc5a54-cdfb-4661-b876-da3083fbeebc', node_type=None, metadata={}, hash='29daea2603b84f87b235c8160434274a8fda990ded5ac9d253a741e984d88e55')}, hash='358d6f56f4a8c8b8ec7022ab1ab1702a1091daea03984678be11c64d57e7e91e', text='phone.\\n\\n“Going away?” I inquired.\\n\\n“No, old sport.”\\n\\n“I hear you fired all your servants.”\\n\\n“I wanted somebody who wouldn’t gossip. Daisy comes over quite\\noften—in the afternoons.”\\n\\nSo the whole caravansary had fallen in like a card house at the\\ndisapproval in her eyes.\\n\\n“They’re some people Wolfshiem wanted to do something for. They’re all\\nbrothers and sisters. They used to run a small hotel.”\\n\\n“I see.”\\n\\nHe was calling up at Daisy’s request—would I come to lunch at her\\nhouse tomorrow? Miss Baker would be there. Half an hour later Daisy\\nherself telephoned and seemed relieved to find that I was\\ncoming. Something was up. And yet I couldn’t believe that they would\\nchoose this occasion for a scene—especially for the rather harrowing\\nscene that Gatsby had outlined in the garden.\\n\\nThe next day was broiling, almost the last, certainly the warmest, of\\nthe summer. As my train emerged from the tunnel into sunlight, only\\nthe hot whistles of the National Biscuit Company broke the simmering\\nhush at noon. The straw seats of the car hovered on the edge of\\ncombustion; the woman next to me perspired delicately for a while into\\nher white shirtwaist, and then, as her newspaper dampened under her\\nfingers, lapsed despairingly into deep heat with a desolate cry. Her\\npocketbook slapped to the floor.\\n\\n“Oh, my!” she gasped.\\n\\nI picked it up with a weary bend and handed it back to her, holding it\\nat arm’s length and by the extreme tip of the corners to indicate that\\nI had no designs upon it—but everyone near by, including the woman,\\nsuspected me just the same.\\n\\n“Hot!” said the conductor to familiar faces. “Some weather! … Hot! …\\nHot! … Hot! … Is it hot enough for you? Is it hot? Is it …\\u200a?”\\n\\nMy commutation ticket came back to me with a dark stain from his hand.\\nThat', start_char_idx=None, end_char_idx=None, text_template='[Excerpt from document]\\n{metadata_str}\\nExcerpt:\\n-----\\n{content}\\n-----\\n', metadata_template='{key}: {value}', metadata_seperator='\\n'),\n",
       " TextNode(id_='36cc5a54-cdfb-4661-b876-da3083fbeebc', embedding=None, metadata={'questions_this_excerpt_can_answer': '1. What was the weather like during the events described in the document?\\n2. How did the conductor react to the heat?\\n3. Where were Daisy and Jordan when the narrator entered the room?', 'prev_section_summary': 'In this section, the narrator is speaking with someone about firing their servants and the presence of Daisy at their house. They receive a phone call from Daisy, who seems relieved that the narrator is coming to lunch. The next day, the narrator describes the hot weather and a brief encounter with a woman on the train. The conductor also comments on the heat. The section does not mention any specific key topics or entities.', 'section_summary': \"In this section, the narrator is on a train and overhears a conversation between the conductor and other passengers about the hot weather. The narrator also reflects on the heat and how it affects people's behavior. The scene then shifts to the Buchanan's house, where the butler informs them of a phone call about a body. The butler takes the narrator and Gatsby to the salon where Daisy and Jordan are resting. The narrator asks about Mr. Buchanan, and simultaneously hears his voice on the phone. Gatsby is captivated by the surroundings, and Daisy laughs.\"}, excluded_embed_metadata_keys=[], excluded_llm_metadata_keys=['questions_this_excerpt_can_answer'], relationships={<NodeRelationship.SOURCE: '1'>: RelatedNodeInfo(node_id='6cb1fd8e-4032-4a30-9193-f6b8440b8e38', node_type=None, metadata={}, hash='bdd069b18e8327dfdf30e9db4c20e3f4697aa96166c9390481adb606a94c96c9'), <NodeRelationship.PREVIOUS: '2'>: RelatedNodeInfo(node_id='ed174ea0-86be-46eb-832c-d8b5dec81a82', node_type=None, metadata={}, hash='358d6f56f4a8c8b8ec7022ab1ab1702a1091daea03984678be11c64d57e7e91e'), <NodeRelationship.NEXT: '3'>: RelatedNodeInfo(node_id='0cea682d-0861-4020-a918-c98b7c2e1229', node_type=None, metadata={}, hash='072ede9cdc7969591557aafd2d3e22a449af270bc93ed54150f049ee2c33c104')}, hash='29daea2603b84f87b235c8160434274a8fda990ded5ac9d253a741e984d88e55', text='up with a weary bend and handed it back to her, holding it\\nat arm’s length and by the extreme tip of the corners to indicate that\\nI had no designs upon it—but everyone near by, including the woman,\\nsuspected me just the same.\\n\\n“Hot!” said the conductor to familiar faces. “Some weather! … Hot! …\\nHot! … Hot! … Is it hot enough for you? Is it hot? Is it …\\u200a?”\\n\\nMy commutation ticket came back to me with a dark stain from his hand.\\nThat anyone should care in this heat whose flushed lips he kissed,\\nwhose head made damp the pyjama pocket over his heart!\\n\\n… Through the hall of the Buchanans’ house blew a faint wind, carrying\\nthe sound of the telephone bell out to Gatsby and me as we waited at\\nthe door.\\n\\n“The master’s body?” roared the butler into the mouthpiece. “I’m\\nsorry, madame, but we can’t furnish it—it’s far too hot to touch this\\nnoon!”\\n\\nWhat he really said was: “Yes … Yes … I’ll see.”\\n\\nHe set down the receiver and came toward us, glistening slightly, to\\ntake our stiff straw hats.\\n\\n“Madame expects you in the salon!” he cried, needlessly indicating the\\ndirection. In this heat every extra gesture was an affront to the\\ncommon store of life.\\n\\nThe room, shadowed well with awnings, was dark and cool. Daisy and\\nJordan lay upon an enormous couch, like silver idols weighing down\\ntheir own white dresses against the singing breeze of the fans.\\n\\n“We can’t move,” they said together.\\n\\nJordan’s fingers, powdered white over their tan, rested for a moment\\nin mine.\\n\\n“And Mr. Thomas Buchanan, the athlete?” I inquired.\\n\\nSimultaneously I heard his voice, gruff, muffled, husky, at the hall\\ntelephone.\\n\\nGatsby stood in the centre of the crimson carpet and gazed around with\\nfascinated eyes. Daisy watched him and laughed, her sweet, exciting\\nlaugh; a tiny', start_char_idx=None, end_char_idx=None, text_template='[Excerpt from document]\\n{metadata_str}\\nExcerpt:\\n-----\\n{content}\\n-----\\n', metadata_template='{key}: {value}', metadata_seperator='\\n'),\n",
       " TextNode(id_='0cea682d-0861-4020-a918-c98b7c2e1229', embedding=None, metadata={'questions_this_excerpt_can_answer': \"1. Who is the athlete referred to as Mr. Thomas Buchanan?\\n2. What is the rumour about Tom's girl on the telephone?\\n3. What is Daisy's reaction when Tom enters the room?\", 'prev_section_summary': \"In this section, the narrator is on a train and overhears a conversation between the conductor and other passengers about the hot weather. The narrator also reflects on the heat and how it affects people's behavior. The scene then shifts to the Buchanan's house, where the butler informs them of a phone call about a body. The butler takes the narrator and Gatsby to the salon where Daisy and Jordan are resting. The narrator asks about Mr. Buchanan, and simultaneously hears his voice on the phone. Gatsby is captivated by the surroundings, and Daisy laughs.\", 'section_summary': \"In this section, the key topics include the strained relationship between Tom and Daisy, Gatsby's fascination with Daisy, and the presence of Jordan as a witness to their interactions. The key entities mentioned are Jordan, Gatsby, Tom, Daisy, and Nick. The section also highlights the tension and conflict between Tom and Gatsby over a car deal, as well as Daisy's affection for Gatsby and her disregard for social norms.\"}, excluded_embed_metadata_keys=[], excluded_llm_metadata_keys=['questions_this_excerpt_can_answer'], relationships={<NodeRelationship.SOURCE: '1'>: RelatedNodeInfo(node_id='6cb1fd8e-4032-4a30-9193-f6b8440b8e38', node_type=None, metadata={}, hash='bdd069b18e8327dfdf30e9db4c20e3f4697aa96166c9390481adb606a94c96c9'), <NodeRelationship.PREVIOUS: '2'>: RelatedNodeInfo(node_id='36cc5a54-cdfb-4661-b876-da3083fbeebc', node_type=None, metadata={}, hash='29daea2603b84f87b235c8160434274a8fda990ded5ac9d253a741e984d88e55'), <NodeRelationship.NEXT: '3'>: RelatedNodeInfo(node_id='c26762ea-aba7-4963-abff-0200206aa0b3', node_type=None, metadata={}, hash='fae7a47736746be4ed0436bc4685bd8af53d335f8b4bf18b6bf6372420cb2e8c')}, hash='072ede9cdc7969591557aafd2d3e22a449af270bc93ed54150f049ee2c33c104', text='the singing breeze of the fans.\\n\\n“We can’t move,” they said together.\\n\\nJordan’s fingers, powdered white over their tan, rested for a moment\\nin mine.\\n\\n“And Mr. Thomas Buchanan, the athlete?” I inquired.\\n\\nSimultaneously I heard his voice, gruff, muffled, husky, at the hall\\ntelephone.\\n\\nGatsby stood in the centre of the crimson carpet and gazed around with\\nfascinated eyes. Daisy watched him and laughed, her sweet, exciting\\nlaugh; a tiny gust of powder rose from her bosom into the air.\\n\\n“The rumour is,” whispered Jordan, “that that’s Tom’s girl on the\\ntelephone.”\\n\\nWe were silent. The voice in the hall rose high with annoyance: “Very\\nwell, then, I won’t sell you the car at all … I’m under no obligations\\nto you at all … and as for your bothering me about it at lunch time, I\\nwon’t stand that at all!”\\n\\n“Holding down the receiver,” said Daisy cynically.\\n\\n“No, he’s not,” I assured her. “It’s a bona-fide deal. I happen to\\nknow about it.”\\n\\nTom flung open the door, blocked out its space for a moment with his\\nthick body, and hurried into the room.\\n\\n“Mr. Gatsby!” He put out his broad, flat hand with well-concealed\\ndislike. “I’m glad to see you, sir … Nick …”\\n\\n“Make us a cold drink,” cried Daisy.\\n\\nAs he left the room again she got up and went over to Gatsby and\\npulled his face down, kissing him on the mouth.\\n\\n“You know I love you,” she murmured.\\n\\n“You forget there’s a lady present,” said Jordan.\\n\\nDaisy looked around doubtfully.\\n\\n“You kiss Nick too.”\\n\\n“What a low, vulgar girl!”\\n\\n“I don’t care!” cried', start_char_idx=None, end_char_idx=None, text_template='[Excerpt from document]\\n{metadata_str}\\nExcerpt:\\n-----\\n{content}\\n-----\\n', metadata_template='{key}: {value}', metadata_seperator='\\n'),\n",
       " TextNode(id_='c26762ea-aba7-4963-abff-0200206aa0b3', embedding=None, metadata={'questions_this_excerpt_can_answer': '1. Who did Daisy kiss on the mouth in the room?\\n2. How did Daisy react when Jordan called her a low and vulgar girl?\\n3. What did Gatsby think of the child when he saw her for the first time?', 'prev_section_summary': \"In this section, the key topics include the strained relationship between Tom and Daisy, Gatsby's fascination with Daisy, and the presence of Jordan as a witness to their interactions. The key entities mentioned are Jordan, Gatsby, Tom, Daisy, and Nick. The section also highlights the tension and conflict between Tom and Gatsby over a car deal, as well as Daisy's affection for Gatsby and her disregard for social norms.\", 'section_summary': 'In this section, Daisy kisses Gatsby on the mouth and expresses her love for him. Jordan comments on their behavior, and Daisy playfully mentions that she also kisses Nick. Daisy then clogs on the fireplace but quickly sits down when she remembers the heat. A nurse enters the room with a little girl, who Daisy affectionately calls her \"blessed precious.\" The child interacts with Daisy, Gatsby, and Nick, and Daisy remarks on the child\\'s resemblance to her. The section ends with Daisy mentioning that the child does not look like her father.'}, excluded_embed_metadata_keys=[], excluded_llm_metadata_keys=['questions_this_excerpt_can_answer'], relationships={<NodeRelationship.SOURCE: '1'>: RelatedNodeInfo(node_id='6cb1fd8e-4032-4a30-9193-f6b8440b8e38', node_type=None, metadata={}, hash='bdd069b18e8327dfdf30e9db4c20e3f4697aa96166c9390481adb606a94c96c9'), <NodeRelationship.PREVIOUS: '2'>: RelatedNodeInfo(node_id='0cea682d-0861-4020-a918-c98b7c2e1229', node_type=None, metadata={}, hash='072ede9cdc7969591557aafd2d3e22a449af270bc93ed54150f049ee2c33c104'), <NodeRelationship.NEXT: '3'>: RelatedNodeInfo(node_id='b19a6a2d-4e76-408d-9c94-190fc71c8956', node_type=None, metadata={}, hash='2aa78620101d559e4098e5b3181042d00659cfce9a4bf514a0bd20d27a5c6246')}, hash='fae7a47736746be4ed0436bc4685bd8af53d335f8b4bf18b6bf6372420cb2e8c', text='us a cold drink,” cried Daisy.\\n\\nAs he left the room again she got up and went over to Gatsby and\\npulled his face down, kissing him on the mouth.\\n\\n“You know I love you,” she murmured.\\n\\n“You forget there’s a lady present,” said Jordan.\\n\\nDaisy looked around doubtfully.\\n\\n“You kiss Nick too.”\\n\\n“What a low, vulgar girl!”\\n\\n“I don’t care!” cried Daisy, and began to clog on the brick fireplace.\\nThen she remembered the heat and sat down guiltily on the couch just\\nas a freshly laundered nurse leading a little girl came into the room.\\n\\n“Bles-sed pre-cious,” she crooned, holding out her arms. “Come to your\\nown mother that loves you.”\\n\\nThe child, relinquished by the nurse, rushed across the room and\\nrooted shyly into her mother’s dress.\\n\\n“The bles-sed pre-cious! Did mother get powder on your old yellowy\\nhair? Stand up now, and say—How-de-do.”\\n\\nGatsby and I in turn leaned down and took the small reluctant hand.\\nAfterward he kept looking at the child with surprise. I don’t think he\\nhad ever really believed in its existence before.\\n\\n“I got dressed before luncheon,” said the child, turning eagerly to\\nDaisy.\\n\\n“That’s because your mother wanted to show you off.” Her face bent\\ninto the single wrinkle of the small white neck. “You dream, you. You\\nabsolute little dream.”\\n\\n“Yes,” admitted the child calmly. “Aunt Jordan’s got on a white dress\\ntoo.”\\n\\n“How do you like mother’s friends?” Daisy turned her around so that\\nshe faced Gatsby. “Do you think they’re pretty?”\\n\\n“Where’s Daddy?”\\n\\n“She doesn’t look like her father,” explained Daisy. “She looks like\\nme. She’s got', start_char_idx=None, end_char_idx=None, text_template='[Excerpt from document]\\n{metadata_str}\\nExcerpt:\\n-----\\n{content}\\n-----\\n', metadata_template='{key}: {value}', metadata_seperator='\\n'),\n",
       " TextNode(id_='b19a6a2d-4e76-408d-9c94-190fc71c8956', embedding=None, metadata={'questions_this_excerpt_can_answer': \"1. What does Daisy's daughter look like and who does she resemble?\\n2. What did Tom bring back with him when he returned to the room?\\n3. Where is Gatsby's house located in relation to the narrator's location?\", 'prev_section_summary': 'In this section, Daisy kisses Gatsby on the mouth and expresses her love for him. Jordan comments on their behavior, and Daisy playfully mentions that she also kisses Nick. Daisy then clogs on the fireplace but quickly sits down when she remembers the heat. A nurse enters the room with a little girl, who Daisy affectionately calls her \"blessed precious.\" The child interacts with Daisy, Gatsby, and Nick, and Daisy remarks on the child\\'s resemblance to her. The section ends with Daisy mentioning that the child does not look like her father.', 'section_summary': \"In this section, Daisy's daughter, Pammy, is introduced and Daisy comments on her resemblance to herself. Pammy is then taken away by her nurse. Tom returns with drinks and mentions that the sun is either getting hotter or colder every year. Tom invites Gatsby to see his place and they go outside to the veranda. Gatsby points out that he lives across the bay from Tom. The section ends with a description of a boat on the water. The key topics in this section include Daisy's daughter, Pammy, Tom's comment about the sun, Gatsby's location, and the boat on the water. The key entities mentioned are Daisy, Pammy, Gatsby, Tom, and the boat.\"}, excluded_embed_metadata_keys=[], excluded_llm_metadata_keys=['questions_this_excerpt_can_answer'], relationships={<NodeRelationship.SOURCE: '1'>: RelatedNodeInfo(node_id='6cb1fd8e-4032-4a30-9193-f6b8440b8e38', node_type=None, metadata={}, hash='bdd069b18e8327dfdf30e9db4c20e3f4697aa96166c9390481adb606a94c96c9'), <NodeRelationship.PREVIOUS: '2'>: RelatedNodeInfo(node_id='c26762ea-aba7-4963-abff-0200206aa0b3', node_type=None, metadata={}, hash='fae7a47736746be4ed0436bc4685bd8af53d335f8b4bf18b6bf6372420cb2e8c'), <NodeRelationship.NEXT: '3'>: RelatedNodeInfo(node_id='2dfcf1f9-4016-4ae5-8426-bd797051fb8f', node_type=None, metadata={}, hash='246c73d1ea5d232849d052cad1f4e2002178f7ba017e2973e3cf483a548b24bf')}, hash='2aa78620101d559e4098e5b3181042d00659cfce9a4bf514a0bd20d27a5c6246', text='you. You\\nabsolute little dream.”\\n\\n“Yes,” admitted the child calmly. “Aunt Jordan’s got on a white dress\\ntoo.”\\n\\n“How do you like mother’s friends?” Daisy turned her around so that\\nshe faced Gatsby. “Do you think they’re pretty?”\\n\\n“Where’s Daddy?”\\n\\n“She doesn’t look like her father,” explained Daisy. “She looks like\\nme. She’s got my hair and shape of the face.”\\n\\nDaisy sat back upon the couch. The nurse took a step forward and held\\nout her hand.\\n\\n“Come, Pammy.”\\n\\n“Goodbye, sweetheart!”\\n\\nWith a reluctant backward glance the well-disciplined child held to\\nher nurse’s hand and was pulled out the door, just as Tom came back,\\npreceding four gin rickeys that clicked full of ice.\\n\\nGatsby took up his drink.\\n\\n“They certainly look cool,” he said, with visible tension.\\n\\nWe drank in long, greedy swallows.\\n\\n“I read somewhere that the sun’s getting hotter every year,” said Tom\\ngenially. “It seems that pretty soon the earth’s going to fall into\\nthe sun—or wait a minute—it’s just the opposite—the sun’s getting\\ncolder every year.\\n\\n“Come outside,” he suggested to Gatsby, “I’d like you to have a look\\nat the place.”\\n\\nI went with them out to the veranda. On the green Sound, stagnant in\\nthe heat, one small sail crawled slowly toward the fresher sea.\\nGatsby’s eyes followed it momentarily; he raised his hand and pointed\\nacross the bay.\\n\\n“I’m right across from you.”\\n\\n“So you are.”\\n\\nOur eyes lifted over the rose-beds and the hot lawn and the weedy\\nrefuse of the dog-days alongshore. Slowly the white wings of the boat\\nmoved against the blue cool limit of the sky.', start_char_idx=None, end_char_idx=None, text_template='[Excerpt from document]\\n{metadata_str}\\nExcerpt:\\n-----\\n{content}\\n-----\\n', metadata_template='{key}: {value}', metadata_seperator='\\n'),\n",
       " TextNode(id_='2dfcf1f9-4016-4ae5-8426-bd797051fb8f', embedding=None, metadata={'questions_this_excerpt_can_answer': '1. Where did Gatsby and Daisy have lunch?\\n2. What did Tom say he would like to do with Gatsby?\\n3. How did Daisy describe the weather and her emotions?', 'prev_section_summary': \"In this section, Daisy's daughter, Pammy, is introduced and Daisy comments on her resemblance to herself. Pammy is then taken away by her nurse. Tom returns with drinks and mentions that the sun is either getting hotter or colder every year. Tom invites Gatsby to see his place and they go outside to the veranda. Gatsby points out that he lives across the bay from Tom. The section ends with a description of a boat on the water. The key topics in this section include Daisy's daughter, Pammy, Tom's comment about the sun, Gatsby's location, and the boat on the water. The key entities mentioned are Daisy, Pammy, Gatsby, Tom, and the boat.\", 'section_summary': 'In this section, the characters are gathered on the veranda, observing a small sailboat on the Sound. Gatsby points out that he lives across the bay. Tom expresses his desire to be out on the water. They have lunch in a darkened dining room and discuss their plans for the afternoon. Daisy becomes overwhelmed by the heat and confusion and suggests going to town. Tom talks about converting a stable into a garage. Daisy compliments Gatsby on his cool demeanor, and their eyes meet. It is mentioned that Daisy had previously told Gatsby that she loved him.'}, excluded_embed_metadata_keys=[], excluded_llm_metadata_keys=['questions_this_excerpt_can_answer'], relationships={<NodeRelationship.SOURCE: '1'>: RelatedNodeInfo(node_id='6cb1fd8e-4032-4a30-9193-f6b8440b8e38', node_type=None, metadata={}, hash='bdd069b18e8327dfdf30e9db4c20e3f4697aa96166c9390481adb606a94c96c9'), <NodeRelationship.PREVIOUS: '2'>: RelatedNodeInfo(node_id='b19a6a2d-4e76-408d-9c94-190fc71c8956', node_type=None, metadata={}, hash='2aa78620101d559e4098e5b3181042d00659cfce9a4bf514a0bd20d27a5c6246'), <NodeRelationship.NEXT: '3'>: RelatedNodeInfo(node_id='6473351b-2e3b-4736-96d6-831909fdb118', node_type=None, metadata={}, hash='90ac70f04643db943f5bf6cac7ca0a5176b0dca58cf69fec5ef793bf30a15b5b')}, hash='246c73d1ea5d232849d052cad1f4e2002178f7ba017e2973e3cf483a548b24bf', text='with them out to the veranda. On the green Sound, stagnant in\\nthe heat, one small sail crawled slowly toward the fresher sea.\\nGatsby’s eyes followed it momentarily; he raised his hand and pointed\\nacross the bay.\\n\\n“I’m right across from you.”\\n\\n“So you are.”\\n\\nOur eyes lifted over the rose-beds and the hot lawn and the weedy\\nrefuse of the dog-days alongshore. Slowly the white wings of the boat\\nmoved against the blue cool limit of the sky. Ahead lay the scalloped\\nocean and the abounding blessed isles.\\n\\n“There’s sport for you,” said Tom, nodding. “I’d like to be out there\\nwith him for about an hour.”\\n\\nWe had luncheon in the dining-room, darkened too against the heat, and\\ndrank down nervous gaiety with the cold ale.\\n\\n“What’ll we do with ourselves this afternoon?” cried Daisy, “and the\\nday after that, and the next thirty years?”\\n\\n“Don’t be morbid,” Jordan said. “Life starts all over again when it\\ngets crisp in the fall.”\\n\\n“But it’s so hot,” insisted Daisy, on the verge of tears, “and\\neverything’s so confused. Let’s all go to town!”\\n\\nHer voice struggled on through the heat, beating against it, moulding\\nits senselessness into forms.\\n\\n“I’ve heard of making a garage out of a stable,” Tom was saying to\\nGatsby, “but I’m the first man who ever made a stable out of a\\ngarage.”\\n\\n“Who wants to go to town?” demanded Daisy insistently. Gatsby’s eyes\\nfloated toward her. “Ah,” she cried, “you look so cool.”\\n\\nTheir eyes met, and they stared together at each other, alone in\\nspace. With an effort she glanced down at the table.\\n\\n“You always look so cool,” she repeated.\\n\\nShe had told him that she loved', start_char_idx=None, end_char_idx=None, text_template='[Excerpt from document]\\n{metadata_str}\\nExcerpt:\\n-----\\n{content}\\n-----\\n', metadata_template='{key}: {value}', metadata_seperator='\\n'),\n",
       " TextNode(id_='6473351b-2e3b-4736-96d6-831909fdb118', embedding=None, metadata={'questions_this_excerpt_can_answer': \"1. Who was the first person to make a stable out of a garage?\\n2. What was Tom Buchanan's reaction when Daisy told Gatsby that she loved him?\\n3. What did Daisy want to do before going to town?\", 'prev_section_summary': 'In this section, the characters are gathered on the veranda, observing a small sailboat on the Sound. Gatsby points out that he lives across the bay. Tom expresses his desire to be out on the water. They have lunch in a darkened dining room and discuss their plans for the afternoon. Daisy becomes overwhelmed by the heat and confusion and suggests going to town. Tom talks about converting a stable into a garage. Daisy compliments Gatsby on his cool demeanor, and their eyes meet. It is mentioned that Daisy had previously told Gatsby that she loved him.', 'section_summary': \"In this section, the key topics include Daisy's insistence on going to town, Gatsby's cool demeanor, Tom's surprise at Daisy's declaration of love for Gatsby, and the tension between Tom and Gatsby. The key entities mentioned are Daisy, Gatsby, Tom Buchanan, and Jordan.\"}, excluded_embed_metadata_keys=[], excluded_llm_metadata_keys=['questions_this_excerpt_can_answer'], relationships={<NodeRelationship.SOURCE: '1'>: RelatedNodeInfo(node_id='6cb1fd8e-4032-4a30-9193-f6b8440b8e38', node_type=None, metadata={}, hash='bdd069b18e8327dfdf30e9db4c20e3f4697aa96166c9390481adb606a94c96c9'), <NodeRelationship.PREVIOUS: '2'>: RelatedNodeInfo(node_id='2dfcf1f9-4016-4ae5-8426-bd797051fb8f', node_type=None, metadata={}, hash='246c73d1ea5d232849d052cad1f4e2002178f7ba017e2973e3cf483a548b24bf'), <NodeRelationship.NEXT: '3'>: RelatedNodeInfo(node_id='31880d9f-195d-4236-8890-0d509264e99f', node_type=None, metadata={}, hash='2ab2717200b6865c47bf3601d748e9ba2f1b63c62bb14187e97e44fc2c2d907c')}, hash='90ac70f04643db943f5bf6cac7ca0a5176b0dca58cf69fec5ef793bf30a15b5b', text='“but I’m the first man who ever made a stable out of a\\ngarage.”\\n\\n“Who wants to go to town?” demanded Daisy insistently. Gatsby’s eyes\\nfloated toward her. “Ah,” she cried, “you look so cool.”\\n\\nTheir eyes met, and they stared together at each other, alone in\\nspace. With an effort she glanced down at the table.\\n\\n“You always look so cool,” she repeated.\\n\\nShe had told him that she loved him, and Tom Buchanan saw. He was\\nastounded. His mouth opened a little, and he looked at Gatsby, and\\nthen back at Daisy as if he had just recognized her as someone he knew\\na long time ago.\\n\\n“You resemble the advertisement of the man,” she went on innocently.\\n“You know the advertisement of the man—”\\n\\n“All right,” broke in Tom quickly, “I’m perfectly willing to go to\\ntown. Come on—we’re all going to town.”\\n\\nHe got up, his eyes still flashing between Gatsby and his wife. No one\\nmoved.\\n\\n“Come on!” His temper cracked a little. “What’s the matter, anyhow?\\nIf we’re going to town, let’s start.”\\n\\nHis hand, trembling with his effort at self-control, bore to his lips\\nthe last of his glass of ale. Daisy’s voice got us to our feet and out\\non to the blazing gravel drive.\\n\\n“Are we just going to go?” she objected. “Like this? Aren’t we going\\nto let anyone smoke a cigarette first?”\\n\\n“Everybody smoked all through lunch.”\\n\\n“Oh, let’s have fun,” she begged him. “It’s too hot to fuss.”\\n\\nHe didn’t answer.\\n\\n“Have it your own way,” she said. “Come on, Jordan.”\\n\\nThey went upstairs to get ready while we three men stood there\\nshuffling the hot pebbles with our feet. A', start_char_idx=None, end_char_idx=None, text_template='[Excerpt from document]\\n{metadata_str}\\nExcerpt:\\n-----\\n{content}\\n-----\\n', metadata_template='{key}: {value}', metadata_seperator='\\n'),\n",
       " TextNode(id_='31880d9f-195d-4236-8890-0d509264e99f', embedding=None, metadata={'questions_this_excerpt_can_answer': '1. What did Gatsby mean when he said, \"I can\\'t say anything in his house, old sport\"?\\n2. What did Daisy mean when she asked, \"Shall we take anything to drink?\"\\n3. How did Tom react when Gatsby asked about his stables?', 'prev_section_summary': \"In this section, the key topics include Daisy's insistence on going to town, Gatsby's cool demeanor, Tom's surprise at Daisy's declaration of love for Gatsby, and the tension between Tom and Gatsby. The key entities mentioned are Daisy, Gatsby, Tom Buchanan, and Jordan.\", 'section_summary': \"In this section, the key topics include smoking, getting ready, going to town, and Daisy's voice. The key entities mentioned are Gatsby, Tom, Daisy, Jordan, and the narrator.\"}, excluded_embed_metadata_keys=[], excluded_llm_metadata_keys=['questions_this_excerpt_can_answer'], relationships={<NodeRelationship.SOURCE: '1'>: RelatedNodeInfo(node_id='6cb1fd8e-4032-4a30-9193-f6b8440b8e38', node_type=None, metadata={}, hash='bdd069b18e8327dfdf30e9db4c20e3f4697aa96166c9390481adb606a94c96c9'), <NodeRelationship.PREVIOUS: '2'>: RelatedNodeInfo(node_id='6473351b-2e3b-4736-96d6-831909fdb118', node_type=None, metadata={}, hash='90ac70f04643db943f5bf6cac7ca0a5176b0dca58cf69fec5ef793bf30a15b5b'), <NodeRelationship.NEXT: '3'>: RelatedNodeInfo(node_id='952eed28-9332-4ea1-bd04-51a58683ac6b', node_type=None, metadata={}, hash='b414c796b6f42f85134b5466b471e3708eb131470cd155f7999a5200e8210adb')}, hash='2ab2717200b6865c47bf3601d748e9ba2f1b63c62bb14187e97e44fc2c2d907c', text='“Like this? Aren’t we going\\nto let anyone smoke a cigarette first?”\\n\\n“Everybody smoked all through lunch.”\\n\\n“Oh, let’s have fun,” she begged him. “It’s too hot to fuss.”\\n\\nHe didn’t answer.\\n\\n“Have it your own way,” she said. “Come on, Jordan.”\\n\\nThey went upstairs to get ready while we three men stood there\\nshuffling the hot pebbles with our feet. A silver curve of the moon\\nhovered already in the western sky. Gatsby started to speak, changed\\nhis mind, but not before Tom wheeled and faced him expectantly.\\n\\n“Have you got your stables here?” asked Gatsby with an effort.\\n\\n“About a quarter of a mile down the road.”\\n\\n“Oh.”\\n\\nA pause.\\n\\n“I don’t see the idea of going to town,” broke out Tom savagely.\\n“Women get these notions in their heads—”\\n\\n“Shall we take anything to drink?” called Daisy from an upper window.\\n\\n“I’ll get some whisky,” answered Tom. He went inside.\\n\\nGatsby turned to me rigidly:\\n\\n“I can’t say anything in his house, old sport.”\\n\\n“She’s got an indiscreet voice,” I remarked. “It’s full of—” I\\nhesitated.\\n\\n“Her voice is full of money,” he said suddenly.\\n\\nThat was it. I’d never understood before. It was full of money—that\\nwas the inexhaustible charm that rose and fell in it, the jingle of\\nit, the cymbals’ song of it … High in a white palace the king’s\\ndaughter, the golden girl …\\n\\nTom came out of the house wrapping a quart bottle in a towel, followed\\nby Daisy and Jordan wearing small tight hats of metallic cloth and\\ncarrying light capes over their arms.\\n\\n“Shall we all go in my car?” suggested Gatsby. He felt', start_char_idx=None, end_char_idx=None, text_template='[Excerpt from document]\\n{metadata_str}\\nExcerpt:\\n-----\\n{content}\\n-----\\n', metadata_template='{key}: {value}', metadata_seperator='\\n'),\n",
       " TextNode(id_='952eed28-9332-4ea1-bd04-51a58683ac6b', embedding=None, metadata={'questions_this_excerpt_can_answer': \"1. What was the charm that rose and fell in the white palace?\\n2. What type of car did Gatsby suggest they all go in?\\n3. What was the expression on Gatsby's face when Tom made the remark about buying anything at a drugstore?\", 'prev_section_summary': \"In this section, the key topics include smoking, getting ready, going to town, and Daisy's voice. The key entities mentioned are Gatsby, Tom, Daisy, Jordan, and the narrator.\", 'section_summary': 'In this section, the main topics and entities are:\\n\\n- Money: The section emphasizes the allure of wealth and the sound of money, which is described as the \"inexhaustible charm\" that fills the atmosphere.\\n- Gatsby: Gatsby suggests that they all go in his car, but Tom insists on driving Gatsby\\'s car instead. Gatsby is reluctant and mentions that there might not be enough gas.\\n- Tom: Tom is insistent on driving Gatsby\\'s car and dismisses Gatsby\\'s concerns about the gas. He also makes a distasteful remark about Gatsby\\'s car, referring to it as a \"circus wagon.\"\\n- Daisy: Daisy is initially hesitant to go with Gatsby in his car, but eventually agrees and walks close to him, touching his coat.\\n- Jordan and Nick: Jordan and Nick get into Gatsby\\'s car with Tom, and they all drive off, leaving Gatsby and Daisy behind.\\n- Unfamiliar expression: Gatsby\\'s face shows an expression that is unfamiliar to the narrator, but vaguely recognizable, as if it had been described in words.'}, excluded_embed_metadata_keys=[], excluded_llm_metadata_keys=['questions_this_excerpt_can_answer'], relationships={<NodeRelationship.SOURCE: '1'>: RelatedNodeInfo(node_id='6cb1fd8e-4032-4a30-9193-f6b8440b8e38', node_type=None, metadata={}, hash='bdd069b18e8327dfdf30e9db4c20e3f4697aa96166c9390481adb606a94c96c9'), <NodeRelationship.PREVIOUS: '2'>: RelatedNodeInfo(node_id='31880d9f-195d-4236-8890-0d509264e99f', node_type=None, metadata={}, hash='2ab2717200b6865c47bf3601d748e9ba2f1b63c62bb14187e97e44fc2c2d907c'), <NodeRelationship.NEXT: '3'>: RelatedNodeInfo(node_id='c65af5cb-2b2b-4eaa-9909-3b56902b3e85', node_type=None, metadata={}, hash='b199f58cb4bb75ef2b427ac879b0341b433451942198f01bf8d0225db036d1b9')}, hash='b414c796b6f42f85134b5466b471e3708eb131470cd155f7999a5200e8210adb', text='was it. I’d never understood before. It was full of money—that\\nwas the inexhaustible charm that rose and fell in it, the jingle of\\nit, the cymbals’ song of it … High in a white palace the king’s\\ndaughter, the golden girl …\\n\\nTom came out of the house wrapping a quart bottle in a towel, followed\\nby Daisy and Jordan wearing small tight hats of metallic cloth and\\ncarrying light capes over their arms.\\n\\n“Shall we all go in my car?” suggested Gatsby. He felt the hot, green\\nleather of the seat. “I ought to have left it in the shade.”\\n\\n“Is it standard shift?” demanded Tom.\\n\\n“Yes.”\\n\\n“Well, you take my coupé and let me drive your car to town.”\\n\\nThe suggestion was distasteful to Gatsby.\\n\\n“I don’t think there’s much gas,” he objected.\\n\\n“Plenty of gas,” said Tom boisterously. He looked at the gauge. “And\\nif it runs out I can stop at a drugstore. You can buy anything at a\\ndrugstore nowadays.”\\n\\nA pause followed this apparently pointless remark. Daisy looked at Tom\\nfrowning, and an indefinable expression, at once definitely unfamiliar\\nand vaguely recognizable, as if I had only heard it described in\\nwords, passed over Gatsby’s face.\\n\\n“Come on, Daisy” said Tom, pressing her with his hand toward Gatsby’s\\ncar. “I’ll take you in this circus wagon.”\\n\\nHe opened the door, but she moved out from the circle of his arm.\\n\\n“You take Nick and Jordan. We’ll follow you in the coupé.”\\n\\nShe walked close to Gatsby, touching his coat with her hand. Jordan\\nand Tom and I got into the front seat of Gatsby’s car, Tom pushed the\\nunfamiliar gears tentatively, and we shot off into the oppressive\\nheat, leaving them out of sight behind.\\n\\n“Did you see that?” demanded Tom.\\n\\n“See', start_char_idx=None, end_char_idx=None, text_template='[Excerpt from document]\\n{metadata_str}\\nExcerpt:\\n-----\\n{content}\\n-----\\n', metadata_template='{key}: {value}', metadata_seperator='\\n')]"
      ]
     },
     "execution_count": 15,
     "metadata": {},
     "output_type": "execute_result"
    }
   ],
   "source": [
    "# process nodes with metadata extractor\n",
    "metadata_extractor.process_nodes(nodes)"
   ]
  },
  {
   "cell_type": "code",
   "execution_count": 24,
   "id": "a4d37c8d-f36e-483d-a3d8-77f100b9e1c5",
   "metadata": {},
   "outputs": [
    {
     "name": "stdout",
     "output_type": "stream",
     "text": [
      "[Excerpt from document]\n",
      "questions_this_excerpt_can_answer: 1. Why did Gatsby fire all of his servants?\n",
      "2. Who are the people that Wolfshiem wanted to do something for?\n",
      "3. What was the reason for Daisy's relief when she found out the narrator was coming to lunch at her house?\n",
      "prev_section_summary: In this section, the narrator, Nick Carraway, notices that the lights in Gatsby's house are not on one Saturday night, signaling the end of Gatsby's extravagant parties. When Nick goes to check on Gatsby, he is met by an unfamiliar butler who is rude and uncooperative. Nick learns from his Finn (a servant) that Gatsby had fired all his previous servants and replaced them with new ones who do not go into town and are not considered traditional servants. Gatsby later calls Nick and explains that he fired his servants to prevent gossip and that Daisy often visits him in the afternoons. Gatsby also mentions that the new people in his house are siblings whom his associate, Wolfshiem, wanted to help.\n",
      "section_summary: In this section, the narrator is speaking with someone about firing their servants and the presence of Daisy at their house. They receive a phone call from Daisy, who seems relieved that the narrator is coming to lunch. The next day, the narrator describes the hot weather and a brief encounter with a woman on the train. The conductor also comments on the heat. The section does not mention any specific key topics or entities.\n",
      "Excerpt:\n",
      "-----\n",
      "phone.\n",
      "\n",
      "“Going away?” I inquired.\n",
      "\n",
      "“No, old sport.”\n",
      "\n",
      "“I hear you fired all your servants.”\n",
      "\n",
      "“I wanted somebody who wouldn’t gossip. Daisy comes over quite\n",
      "often—in the afternoons.”\n",
      "\n",
      "So the whole caravansary had fallen in like a card house at the\n",
      "disapproval in her eyes.\n",
      "\n",
      "“They’re some people Wolfshiem wanted to do something for. They’re all\n",
      "brothers and sisters. They used to run a small hotel.”\n",
      "\n",
      "“I see.”\n",
      "\n",
      "He was calling up at Daisy’s request—would I come to lunch at her\n",
      "house tomorrow? Miss Baker would be there. Half an hour later Daisy\n",
      "herself telephoned and seemed relieved to find that I was\n",
      "coming. Something was up. And yet I couldn’t believe that they would\n",
      "choose this occasion for a scene—especially for the rather harrowing\n",
      "scene that Gatsby had outlined in the garden.\n",
      "\n",
      "The next day was broiling, almost the last, certainly the warmest, of\n",
      "the summer. As my train emerged from the tunnel into sunlight, only\n",
      "the hot whistles of the National Biscuit Company broke the simmering\n",
      "hush at noon. The straw seats of the car hovered on the edge of\n",
      "combustion; the woman next to me perspired delicately for a while into\n",
      "her white shirtwaist, and then, as her newspaper dampened under her\n",
      "fingers, lapsed despairingly into deep heat with a desolate cry. Her\n",
      "pocketbook slapped to the floor.\n",
      "\n",
      "“Oh, my!” she gasped.\n",
      "\n",
      "I picked it up with a weary bend and handed it back to her, holding it\n",
      "at arm’s length and by the extreme tip of the corners to indicate that\n",
      "I had no designs upon it—but everyone near by, including the woman,\n",
      "suspected me just the same.\n",
      "\n",
      "“Hot!” said the conductor to familiar faces. “Some weather! … Hot! …\n",
      "Hot! … Hot! … Is it hot enough for you? Is it hot? Is it … ?”\n",
      "\n",
      "My commutation ticket came back to me with a dark stain from his hand.\n",
      "That\n",
      "-----\n"
     ]
    }
   ],
   "source": [
    "print(nodes[1].get_content(metadata_mode=\"all\"))"
   ]
  },
  {
   "cell_type": "code",
   "execution_count": 8,
   "id": "bf9cd509-8c78-4246-b184-9a8d150f5d7f",
   "metadata": {
    "tags": []
   },
   "outputs": [
    {
     "data": {
      "application/vnd.jupyter.widget-view+json": {
       "model_id": "a085943fa6ca4b76ade7c393b6813940",
       "version_major": 2,
       "version_minor": 0
      },
      "text/plain": [
       "tmp:   0%|          | 0/10 [00:00<?, ?it/s]"
      ]
     },
     "metadata": {},
     "output_type": "display_data"
    },
    {
     "name": "stdout",
     "output_type": "stream",
     "text": [
      "0\n",
      "1\n",
      "2\n",
      "3\n",
      "4\n",
      "5\n",
      "6\n",
      "7\n",
      "8\n",
      "9\n"
     ]
    }
   ],
   "source": [
    "from llama_index.utils import get_tqdm_iterable\n",
    "\n",
    "queue = get_tqdm_iterable(list(range(10)), True, \"tmp\")\n",
    "for node in queue:\n",
    "    print(node)"
   ]
  },
  {
   "cell_type": "code",
   "execution_count": null,
   "id": "c4f86b9c-4c9d-48e2-915a-328d5887a1a3",
   "metadata": {},
   "outputs": [],
   "source": []
  }
 ],
 "metadata": {
  "kernelspec": {
   "display_name": "llama_index_v2",
   "language": "python",
   "name": "llama_index_v2"
  },
  "language_info": {
   "codemirror_mode": {
    "name": "ipython",
    "version": 3
   },
   "file_extension": ".py",
   "mimetype": "text/x-python",
   "name": "python",
   "nbconvert_exporter": "python",
   "pygments_lexer": "ipython3",
   "version": "3.10.10"
  }
 },
 "nbformat": 4,
 "nbformat_minor": 5
}
