{
 "cells": [
  {
   "cell_type": "markdown",
   "id": "b07531d9-7473-480d-bee6-c1ee4cbc207c",
   "metadata": {},
   "source": [
    "# Chunk Dreaming"
   ]
  },
  {
   "cell_type": "code",
   "execution_count": 1,
   "id": "40d399c4-c93c-41bf-9a47-48aefabb75e3",
   "metadata": {
    "tags": []
   },
   "outputs": [],
   "source": [
    "import nest_asyncio\n",
    "\n",
    "nest_asyncio.apply()\n",
    "\n",
    "import os\n",
    "import openai"
   ]
  },
  {
   "cell_type": "code",
   "execution_count": 2,
   "id": "89cb51f7-1764-40d1-bd25-d7551aa57207",
   "metadata": {
    "tags": []
   },
   "outputs": [],
   "source": [
    "os.environ[\"OPENAI_API_KEY\"] = \"YOUR_API_KEY_HERE\"\n",
    "openai.api_key = os.environ[\"OPENAI_API_KEY\"]"
   ]
  },
  {
   "cell_type": "code",
   "execution_count": 2,
   "id": "0adb8e4a-6728-4073-8256-8b3be4ab1e64",
   "metadata": {
    "tags": []
   },
   "outputs": [],
   "source": [
    "from llama_index import ServiceContext\n",
    "from llama_index.llms import OpenAI\n",
    "from llama_index.schema import MetadataMode"
   ]
  },
  {
   "cell_type": "code",
   "execution_count": 3,
   "id": "a0231dff-7443-46bf-9b9d-759198d3408e",
   "metadata": {
    "tags": []
   },
   "outputs": [],
   "source": [
    "llm = OpenAI(temperature=0.1, model=\"gpt-3.5-turbo\", max_tokens=512)"
   ]
  },
  {
   "cell_type": "markdown",
   "id": "2db2cf90-f295-4a3d-a47c-4b2b1dd2d7c5",
   "metadata": {},
   "source": [
    "We also show how to instantiate the `SummaryExtractor` and `QuestionsAnsweredExtractor`."
   ]
  },
  {
   "cell_type": "code",
   "execution_count": 4,
   "id": "3bda151d-6fb8-427e-82fc-0f3bb469d705",
   "metadata": {
    "tags": []
   },
   "outputs": [],
   "source": [
    "from llama_index.node_parser import SimpleNodeParser\n",
    "from llama_index.node_parser.extractors import (\n",
    "    MetadataExtractor,\n",
    "    SummaryExtractor,\n",
    "    QuestionsAnsweredExtractor,\n",
    ")\n",
    "from llama_index.text_splitter import TokenTextSplitter\n",
    "\n",
    "text_splitter = TokenTextSplitter(separator=\" \", chunk_size=512, chunk_overlap=128)\n",
    "\n",
    "metadata_extractor = MetadataExtractor(\n",
    "    extractors=[\n",
    "        QuestionsAnsweredExtractor(questions=3, llm=llm),\n",
    "        SummaryExtractor(summaries=[\"prev\", \"self\"], llm=llm),\n",
    "    ],\n",
    "    in_place=False\n",
    ")\n",
    "\n",
    "node_parser = SimpleNodeParser.from_defaults(\n",
    "    text_splitter=text_splitter,\n",
    "    # metadata_extractor=metadata_extractor,\n",
    ")"
   ]
  },
  {
   "cell_type": "code",
   "execution_count": 5,
   "id": "c72c45a9-dcad-4925-b2f7-d25fe5d80c2d",
   "metadata": {
    "tags": []
   },
   "outputs": [],
   "source": [
    "from llama_index import SimpleDirectoryReader"
   ]
  },
  {
   "cell_type": "markdown",
   "id": "e4e54937-e9e7-48ed-8600-72cd2f3c529b",
   "metadata": {},
   "source": [
    "We first load in the Great Gatsby"
   ]
  },
  {
   "cell_type": "code",
   "execution_count": 6,
   "id": "546e5800-2470-49d9-8521-05e82006eb66",
   "metadata": {
    "tags": []
   },
   "outputs": [],
   "source": [
    "docs = SimpleDirectoryReader(input_files=['../../../examples/gatsby/data/gatsby_part.txt']).load_data()"
   ]
  },
  {
   "cell_type": "code",
   "execution_count": 7,
   "id": "269f8ecc-489d-435f-9d81-a9c64fd4d400",
   "metadata": {
    "tags": []
   },
   "outputs": [],
   "source": [
    "nodes = node_parser.get_nodes_from_documents(docs)"
   ]
  },
  {
   "cell_type": "code",
   "execution_count": 8,
   "id": "d63b7df2-0e5a-4e98-85ea-88ddcf37c99e",
   "metadata": {},
   "outputs": [],
   "source": [
    "# take just the first 8 nodes for testing\n",
    "nodes = nodes[:8]"
   ]
  },
  {
   "cell_type": "code",
   "execution_count": 13,
   "id": "eb2a96d9-03fe-4d60-9829-4fa80f7ff571",
   "metadata": {
    "scrolled": true
   },
   "outputs": [
    {
     "name": "stdout",
     "output_type": "stream",
     "text": [
      "the singing breeze of the fans.\n",
      "\n",
      "“We can’t move,” they said together.\n",
      "\n",
      "Jordan’s fingers, powdered white over their tan, rested for a moment\n",
      "in mine.\n",
      "\n",
      "“And Mr. Thomas Buchanan, the athlete?” I inquired.\n",
      "\n",
      "Simultaneously I heard his voice, gruff, muffled, husky, at the hall\n",
      "telephone.\n",
      "\n",
      "Gatsby stood in the centre of the crimson carpet and gazed around with\n",
      "fascinated eyes. Daisy watched him and laughed, her sweet, exciting\n",
      "laugh; a tiny gust of powder rose from her bosom into the air.\n",
      "\n",
      "“The rumour is,” whispered Jordan, “that that’s Tom’s girl on the\n",
      "telephone.”\n",
      "\n",
      "We were silent. The voice in the hall rose high with annoyance: “Very\n",
      "well, then, I won’t sell you the car at all … I’m under no obligations\n",
      "to you at all … and as for your bothering me about it at lunch time, I\n",
      "won’t stand that at all!”\n",
      "\n",
      "“Holding down the receiver,” said Daisy cynically.\n",
      "\n",
      "“No, he’s not,” I assured her. “It’s a bona-fide deal. I happen to\n",
      "know about it.”\n",
      "\n",
      "Tom flung open the door, blocked out its space for a moment with his\n",
      "thick body, and hurried into the room.\n",
      "\n",
      "“Mr. Gatsby!” He put out his broad, flat hand with well-concealed\n",
      "dislike. “I’m glad to see you, sir … Nick …”\n",
      "\n",
      "“Make us a cold drink,” cried Daisy.\n",
      "\n",
      "As he left the room again she got up and went over to Gatsby and\n",
      "pulled his face down, kissing him on the mouth.\n",
      "\n",
      "“You know I love you,” she murmured.\n",
      "\n",
      "“You forget there’s a lady present,” said Jordan.\n",
      "\n",
      "Daisy looked around doubtfully.\n",
      "\n",
      "“You kiss Nick too.”\n",
      "\n",
      "“What a low, vulgar girl!”\n",
      "\n",
      "“I don’t care!” cried\n"
     ]
    }
   ],
   "source": [
    "print(nodes[3].get_content(metadata_mode=\"all\"))"
   ]
  },
  {
   "cell_type": "code",
   "execution_count": 10,
   "id": "17fd3537-c8e0-4160-b39d-815dbb6504c9",
   "metadata": {
    "scrolled": true
   },
   "outputs": [
    {
     "data": {
      "application/vnd.jupyter.widget-view+json": {
       "model_id": "2700c3401d37477a9a6c0803793d3494",
       "version_major": 2,
       "version_minor": 0
      },
      "text/plain": [
       "Extracting questions:   0%|          | 0/8 [00:00<?, ?it/s]"
      ]
     },
     "metadata": {},
     "output_type": "display_data"
    },
    {
     "data": {
      "application/vnd.jupyter.widget-view+json": {
       "model_id": "1cc064918c344cd7824cfbec42fe872a",
       "version_major": 2,
       "version_minor": 0
      },
      "text/plain": [
       "Extracting summaries:   0%|          | 0/8 [00:00<?, ?it/s]"
      ]
     },
     "metadata": {},
     "output_type": "display_data"
    }
   ],
   "source": [
    "# process nodes with metadata extractor\n",
    "nodes_1 = metadata_extractor.process_nodes(nodes)"
   ]
  },
  {
   "cell_type": "code",
   "execution_count": null,
   "id": "d500e581-c1bd-40c7-b138-aef95b7d828e",
   "metadata": {},
   "outputs": [],
   "source": [
    "tmp = metadata_extractor.extractors[0].extract(nodes)"
   ]
  },
  {
   "cell_type": "code",
   "execution_count": 12,
   "id": "a4d37c8d-f36e-483d-a3d8-77f100b9e1c5",
   "metadata": {},
   "outputs": [
    {
     "name": "stdout",
     "output_type": "stream",
     "text": [
      "[Excerpt from document]\n",
      "questions_this_excerpt_can_answer: 1. Who is the athlete referred to as Mr. Thomas Buchanan?\n",
      "2. What is the rumour about Tom's girl on the telephone?\n",
      "3. What is Daisy's reaction when Tom enters the room?\n",
      "prev_section_summary: In this section, the narrator is on a train and overhears a conversation between the conductor and other passengers about the hot weather. The narrator receives their commutation ticket back with a stain from the conductor's hand. The scene then shifts to the Buchanan's house, where the butler informs them that it is too hot to touch the master's body. The butler directs the narrator and Gatsby to the salon, where they find Daisy and Jordan lying on a couch. The narrator asks about Mr. Buchanan, and simultaneously hears his voice on the telephone. Gatsby stands in the center of the room, fascinated, while Daisy watches him and laughs.\n",
      "section_summary: In this section, the key topics include the strained relationship between Tom and Daisy, Gatsby's fascination with Daisy, and the tension between Tom and Gatsby. The key entities mentioned are Jordan, Gatsby, Tom, Daisy, and Nick.\n",
      "Excerpt:\n",
      "-----\n",
      "the singing breeze of the fans.\n",
      "\n",
      "“We can’t move,” they said together.\n",
      "\n",
      "Jordan’s fingers, powdered white over their tan, rested for a moment\n",
      "in mine.\n",
      "\n",
      "“And Mr. Thomas Buchanan, the athlete?” I inquired.\n",
      "\n",
      "Simultaneously I heard his voice, gruff, muffled, husky, at the hall\n",
      "telephone.\n",
      "\n",
      "Gatsby stood in the centre of the crimson carpet and gazed around with\n",
      "fascinated eyes. Daisy watched him and laughed, her sweet, exciting\n",
      "laugh; a tiny gust of powder rose from her bosom into the air.\n",
      "\n",
      "“The rumour is,” whispered Jordan, “that that’s Tom’s girl on the\n",
      "telephone.”\n",
      "\n",
      "We were silent. The voice in the hall rose high with annoyance: “Very\n",
      "well, then, I won’t sell you the car at all … I’m under no obligations\n",
      "to you at all … and as for your bothering me about it at lunch time, I\n",
      "won’t stand that at all!”\n",
      "\n",
      "“Holding down the receiver,” said Daisy cynically.\n",
      "\n",
      "“No, he’s not,” I assured her. “It’s a bona-fide deal. I happen to\n",
      "know about it.”\n",
      "\n",
      "Tom flung open the door, blocked out its space for a moment with his\n",
      "thick body, and hurried into the room.\n",
      "\n",
      "“Mr. Gatsby!” He put out his broad, flat hand with well-concealed\n",
      "dislike. “I’m glad to see you, sir … Nick …”\n",
      "\n",
      "“Make us a cold drink,” cried Daisy.\n",
      "\n",
      "As he left the room again she got up and went over to Gatsby and\n",
      "pulled his face down, kissing him on the mouth.\n",
      "\n",
      "“You know I love you,” she murmured.\n",
      "\n",
      "“You forget there’s a lady present,” said Jordan.\n",
      "\n",
      "Daisy looked around doubtfully.\n",
      "\n",
      "“You kiss Nick too.”\n",
      "\n",
      "“What a low, vulgar girl!”\n",
      "\n",
      "“I don’t care!” cried\n",
      "-----\n"
     ]
    }
   ],
   "source": [
    "print(nodes_1[3].get_content(metadata_mode=\"all\"))"
   ]
  },
  {
   "cell_type": "code",
   "execution_count": 14,
   "id": "c4f86b9c-4c9d-48e2-915a-328d5887a1a3",
   "metadata": {},
   "outputs": [
    {
     "data": {
      "application/vnd.jupyter.widget-view+json": {
       "model_id": "831659b435574c6a816122fcc0798f14",
       "version_major": 2,
       "version_minor": 0
      },
      "text/plain": [
       "Extracting questions:   0%|          | 0/8 [00:00<?, ?it/s]"
      ]
     },
     "metadata": {},
     "output_type": "display_data"
    },
    {
     "data": {
      "application/vnd.jupyter.widget-view+json": {
       "model_id": "34998fc9a1bf475bb410434aaf6fb5be",
       "version_major": 2,
       "version_minor": 0
      },
      "text/plain": [
       "Extracting summaries:   0%|          | 0/8 [00:00<?, ?it/s]"
      ]
     },
     "metadata": {},
     "output_type": "display_data"
    }
   ],
   "source": [
    "# 2nd pass: run metadata extractor again \n",
    "\n",
    "# process nodes with metadata extractor\n",
    "nodes_2 = metadata_extractor.process_nodes(nodes_1)"
   ]
  },
  {
   "cell_type": "code",
   "execution_count": 16,
   "id": "7822c90d-d048-41d1-b64e-8fbcd8f6e65b",
   "metadata": {},
   "outputs": [
    {
     "name": "stdout",
     "output_type": "stream",
     "text": [
      "[Excerpt from document]\n",
      "questions_this_excerpt_can_answer: 1. Who is the athlete referred to as Mr. Thomas Buchanan?\n",
      "2. What is the rumour about Tom's girl on the telephone?\n",
      "3. What is Daisy's reaction when Tom enters the room?\n",
      "prev_section_summary: In this section, the narrator is on a train and overhears a conversation between the conductor and other passengers about the hot weather. The narrator receives their commutation ticket back with a stain from the conductor's hand. The scene then shifts to the Buchanan's house, where the butler informs them that it is too hot to touch the master's body. The narrator and Gatsby are then led to the salon where they find Daisy and Jordan lying on a couch. The narrator asks about Mr. Buchanan, and simultaneously hears his voice on the telephone. Gatsby is fascinated by the surroundings and Daisy laughs.\n",
      "section_summary: In this section, the key topics include the strained relationship between Tom and Daisy, Gatsby's fascination with Daisy, and the tension between Tom and Gatsby. The key entities mentioned are Jordan, Gatsby, Tom, Daisy, and Nick.\n",
      "Excerpt:\n",
      "-----\n",
      "the singing breeze of the fans.\n",
      "\n",
      "“We can’t move,” they said together.\n",
      "\n",
      "Jordan’s fingers, powdered white over their tan, rested for a moment\n",
      "in mine.\n",
      "\n",
      "“And Mr. Thomas Buchanan, the athlete?” I inquired.\n",
      "\n",
      "Simultaneously I heard his voice, gruff, muffled, husky, at the hall\n",
      "telephone.\n",
      "\n",
      "Gatsby stood in the centre of the crimson carpet and gazed around with\n",
      "fascinated eyes. Daisy watched him and laughed, her sweet, exciting\n",
      "laugh; a tiny gust of powder rose from her bosom into the air.\n",
      "\n",
      "“The rumour is,” whispered Jordan, “that that’s Tom’s girl on the\n",
      "telephone.”\n",
      "\n",
      "We were silent. The voice in the hall rose high with annoyance: “Very\n",
      "well, then, I won’t sell you the car at all … I’m under no obligations\n",
      "to you at all … and as for your bothering me about it at lunch time, I\n",
      "won’t stand that at all!”\n",
      "\n",
      "“Holding down the receiver,” said Daisy cynically.\n",
      "\n",
      "“No, he’s not,” I assured her. “It’s a bona-fide deal. I happen to\n",
      "know about it.”\n",
      "\n",
      "Tom flung open the door, blocked out its space for a moment with his\n",
      "thick body, and hurried into the room.\n",
      "\n",
      "“Mr. Gatsby!” He put out his broad, flat hand with well-concealed\n",
      "dislike. “I’m glad to see you, sir … Nick …”\n",
      "\n",
      "“Make us a cold drink,” cried Daisy.\n",
      "\n",
      "As he left the room again she got up and went over to Gatsby and\n",
      "pulled his face down, kissing him on the mouth.\n",
      "\n",
      "“You know I love you,” she murmured.\n",
      "\n",
      "“You forget there’s a lady present,” said Jordan.\n",
      "\n",
      "Daisy looked around doubtfully.\n",
      "\n",
      "“You kiss Nick too.”\n",
      "\n",
      "“What a low, vulgar girl!”\n",
      "\n",
      "“I don’t care!” cried\n",
      "-----\n"
     ]
    }
   ],
   "source": [
    "print(nodes_2[3].get_content(metadata_mode=\"all\"))"
   ]
  },
  {
   "cell_type": "code",
   "execution_count": null,
   "id": "8dfd3733-e4c4-44c0-b2d1-ad4900d90654",
   "metadata": {},
   "outputs": [],
   "source": []
  }
 ],
 "metadata": {
  "kernelspec": {
   "display_name": "llama_index_v2",
   "language": "python",
   "name": "llama_index_v2"
  },
  "language_info": {
   "codemirror_mode": {
    "name": "ipython",
    "version": 3
   },
   "file_extension": ".py",
   "mimetype": "text/x-python",
   "name": "python",
   "nbconvert_exporter": "python",
   "pygments_lexer": "ipython3",
   "version": "3.10.10"
  }
 },
 "nbformat": 4,
 "nbformat_minor": 5
}
