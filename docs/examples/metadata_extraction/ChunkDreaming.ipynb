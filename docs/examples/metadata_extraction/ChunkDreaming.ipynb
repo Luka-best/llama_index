{
 "cells": [
  {
   "cell_type": "markdown",
   "id": "b07531d9-7473-480d-bee6-c1ee4cbc207c",
   "metadata": {},
   "source": [
    "# Automated Metadata Extraction for Better Retrieval\n",
    "\n",
    "In this tutorial, we show you how to perform automated metadata extraction for better retrieval results."
   ]
  },
  {
   "cell_type": "code",
   "execution_count": 47,
   "id": "40d399c4-c93c-41bf-9a47-48aefabb75e3",
   "metadata": {
    "tags": []
   },
   "outputs": [],
   "source": [
    "import nest_asyncio\n",
    "\n",
    "nest_asyncio.apply()\n",
    "\n",
    "import os\n",
    "import openai"
   ]
  },
  {
   "cell_type": "code",
   "execution_count": 18,
   "id": "89cb51f7-1764-40d1-bd25-d7551aa57207",
   "metadata": {
    "tags": []
   },
   "outputs": [],
   "source": [
    "os.environ[\"OPENAI_API_KEY\"] = \"YOUR_API_KEY_HERE\"\n",
    "openai.api_key = os.environ[\"OPENAI_API_KEY\"]"
   ]
  },
  {
   "cell_type": "code",
   "execution_count": 48,
   "id": "0adb8e4a-6728-4073-8256-8b3be4ab1e64",
   "metadata": {
    "tags": []
   },
   "outputs": [],
   "source": [
    "from llama_index import ServiceContext\n",
    "from llama_index.llms import OpenAI\n",
    "from llama_index.schema import MetadataMode"
   ]
  },
  {
   "cell_type": "code",
   "execution_count": 49,
   "id": "a0231dff-7443-46bf-9b9d-759198d3408e",
   "metadata": {
    "tags": []
   },
   "outputs": [],
   "source": [
    "llm = OpenAI(temperature=0.1, model=\"gpt-3.5-turbo\", max_tokens=512)"
   ]
  },
  {
   "cell_type": "markdown",
   "id": "2db2cf90-f295-4a3d-a47c-4b2b1dd2d7c5",
   "metadata": {},
   "source": [
    "We also show how to instantiate the `SummaryExtractor` and `QuestionsAnsweredExtractor`."
   ]
  },
  {
   "cell_type": "code",
   "execution_count": 50,
   "id": "3bda151d-6fb8-427e-82fc-0f3bb469d705",
   "metadata": {
    "tags": []
   },
   "outputs": [],
   "source": [
    "from llama_index.node_parser import SimpleNodeParser\n",
    "from llama_index.node_parser.extractors import (\n",
    "    MetadataExtractor,\n",
    "    SummaryExtractor,\n",
    "    QuestionsAnsweredExtractor,\n",
    ")\n",
    "from llama_index.text_splitter import TokenTextSplitter\n",
    "\n",
    "text_splitter = TokenTextSplitter(separator=\" \", chunk_size=128, chunk_overlap=128)\n",
    "\n",
    "\n",
    "metadata_extractor_1 = MetadataExtractor(\n",
    "    extractors=[\n",
    "        QuestionsAnsweredExtractor(questions=3, llm=llm),\n",
    "    ],\n",
    "    in_place = False\n",
    ")\n",
    "\n",
    "metadata_extractor = MetadataExtractor(\n",
    "    extractors=[\n",
    "        SummaryExtractor(summaries=[\"prev\", \"self\", \"next\"], llm=llm),\n",
    "        QuestionsAnsweredExtractor(questions=3, llm=llm),\n",
    "    ],\n",
    "    in_place = False\n",
    ")\n",
    "\n",
    "node_parser = SimpleNodeParser.from_defaults(\n",
    "    text_splitter=text_splitter,\n",
    "    # metadata_extractor=metadata_extractor,\n",
    ")"
   ]
  },
  {
   "cell_type": "code",
   "execution_count": 51,
   "id": "c72c45a9-dcad-4925-b2f7-d25fe5d80c2d",
   "metadata": {
    "tags": []
   },
   "outputs": [],
   "source": [
    "from llama_index import SimpleDirectoryReader"
   ]
  },
  {
   "cell_type": "markdown",
   "id": "e4e54937-e9e7-48ed-8600-72cd2f3c529b",
   "metadata": {},
   "source": [
    "We first load in the Great Gatsby"
   ]
  },
  {
   "cell_type": "code",
   "execution_count": 52,
   "id": "546e5800-2470-49d9-8521-05e82006eb66",
   "metadata": {
    "tags": []
   },
   "outputs": [],
   "source": [
    "docs = SimpleDirectoryReader(input_files=['../../../examples/gatsby/data/gatsby_part.txt']).load_data()"
   ]
  },
  {
   "cell_type": "code",
   "execution_count": 53,
   "id": "269f8ecc-489d-435f-9d81-a9c64fd4d400",
   "metadata": {
    "tags": []
   },
   "outputs": [],
   "source": [
    "orig_nodes = node_parser.get_nodes_from_documents(docs)"
   ]
  },
  {
   "cell_type": "code",
   "execution_count": 54,
   "id": "d63b7df2-0e5a-4e98-85ea-88ddcf37c99e",
   "metadata": {},
   "outputs": [],
   "source": [
    "# take just the first 8 nodes for testing\n",
    "nodes = orig_nodes[:8]"
   ]
  },
  {
   "cell_type": "code",
   "execution_count": 55,
   "id": "eb2a96d9-03fe-4d60-9829-4fa80f7ff571",
   "metadata": {},
   "outputs": [
    {
     "name": "stdout",
     "output_type": "stream",
     "text": [
      "VII\n",
      "\n",
      "It was when curiosity about Gatsby was at its highest that the lights\n",
      "in his house failed to go on one Saturday night—and, as obscurely as\n",
      "it had begun, his career as Trimalchio was over. Only gradually did I\n",
      "become aware that the automobiles which turned expectantly into his\n",
      "drive stayed for just a minute and then drove sulkily away. Wondering\n",
      "if he were sick I went over to find out—an unfamiliar\n"
     ]
    }
   ],
   "source": [
    "print(nodes[3].get_content(metadata_mode=\"all\"))"
   ]
  },
  {
   "cell_type": "code",
   "execution_count": 56,
   "id": "17fd3537-c8e0-4160-b39d-815dbb6504c9",
   "metadata": {
    "scrolled": true
   },
   "outputs": [
    {
     "data": {
      "application/vnd.jupyter.widget-view+json": {
       "model_id": "47e01a455a2f4a879e3aa5849cce44c9",
       "version_major": 2,
       "version_minor": 0
      },
      "text/plain": [
       "Extracting questions:   0%|          | 0/8 [00:00<?, ?it/s]"
      ]
     },
     "metadata": {},
     "output_type": "display_data"
    }
   ],
   "source": [
    "# process nodes with metadata extractor\n",
    "nodes_1 = metadata_extractor_1.process_nodes(nodes)"
   ]
  },
  {
   "cell_type": "code",
   "execution_count": 57,
   "id": "a4d37c8d-f36e-483d-a3d8-77f100b9e1c5",
   "metadata": {},
   "outputs": [
    {
     "name": "stdout",
     "output_type": "stream",
     "text": [
      "[Excerpt from document]\n",
      "questions_this_excerpt_can_answer: 1. What event marked the end of Gatsby's career as Trimalchio?\n",
      "2. Why did the automobiles that arrived at Gatsby's house drive away after just a minute?\n",
      "3. Who was the unfamiliar butler that the narrator encountered when they went to check on Gatsby?\n",
      "Excerpt:\n",
      "-----\n",
      "VII\n",
      "\n",
      "It was when curiosity about Gatsby was at its highest that the lights\n",
      "in his house failed to go on one Saturday night—and, as obscurely as\n",
      "it had begun, his career as Trimalchio was over. Only gradually did I\n",
      "become aware that the automobiles which turned expectantly into his\n",
      "drive stayed for just a minute and then drove sulkily away. Wondering\n",
      "if he were sick I went over to find out—an unfamiliar butler with\n",
      "-----\n"
     ]
    }
   ],
   "source": [
    "print(nodes_1[5].get_content(metadata_mode=\"all\"))"
   ]
  },
  {
   "cell_type": "code",
   "execution_count": 58,
   "id": "c4f86b9c-4c9d-48e2-915a-328d5887a1a3",
   "metadata": {},
   "outputs": [
    {
     "data": {
      "application/vnd.jupyter.widget-view+json": {
       "model_id": "dab4d1122e7f4d8b90b7cd52a0d8aca1",
       "version_major": 2,
       "version_minor": 0
      },
      "text/plain": [
       "Extracting summaries:   0%|          | 0/8 [00:00<?, ?it/s]"
      ]
     },
     "metadata": {},
     "output_type": "display_data"
    },
    {
     "data": {
      "application/vnd.jupyter.widget-view+json": {
       "model_id": "09014c411a8149aaa0f63ecab88fe1d4",
       "version_major": 2,
       "version_minor": 0
      },
      "text/plain": [
       "Extracting questions:   0%|          | 0/8 [00:00<?, ?it/s]"
      ]
     },
     "metadata": {},
     "output_type": "display_data"
    }
   ],
   "source": [
    "# 2nd pass: run summaries, and then metadata extractor\n",
    "\n",
    "# process nodes with metadata extractor\n",
    "nodes_2 = metadata_extractor.process_nodes(nodes)"
   ]
  },
  {
   "cell_type": "code",
   "execution_count": 59,
   "id": "7822c90d-d048-41d1-b64e-8fbcd8f6e65b",
   "metadata": {},
   "outputs": [
    {
     "name": "stdout",
     "output_type": "stream",
     "text": [
      "[Excerpt from document]\n",
      "prev_section_summary: In this section, the narrator mentions that curiosity about Gatsby is at its peak. However, one Saturday night, the lights in Gatsby's house do not turn on, and his career as Trimalchio abruptly ends. The narrator becomes aware that cars that arrive at Gatsby's house quickly leave, and they wonder if Gatsby is sick. The section also introduces an unfamiliar butler.\n",
      "next_section_summary: In this section, the narrator mentions that curiosity about Gatsby is at its peak. However, one Saturday night, the lights in Gatsby's house do not turn on, and his career as Trimalchio abruptly ends. The narrator notices that cars that arrive at Gatsby's house quickly leave, and they wonder if Gatsby is sick. Additionally, an unfamiliar butler is mentioned.\n",
      "section_summary: In this section, the narrator mentions that curiosity about Gatsby is at its peak. However, one Saturday night, the lights in Gatsby's house do not turn on, and his career as Trimalchio abruptly ends. The narrator notices that cars that arrive at Gatsby's house quickly leave, and he becomes curious if Gatsby is sick. Additionally, an unfamiliar butler is mentioned.\n",
      "questions_this_excerpt_can_answer: 1. What caused the lights in Gatsby's house to fail to turn on one Saturday night?\n",
      "2. Why did the cars that arrived at Gatsby's house quickly leave?\n",
      "3. Who is the unfamiliar butler mentioned in this section?\n",
      "Excerpt:\n",
      "-----\n",
      "VII\n",
      "\n",
      "It was when curiosity about Gatsby was at its highest that the lights\n",
      "in his house failed to go on one Saturday night—and, as obscurely as\n",
      "it had begun, his career as Trimalchio was over. Only gradually did I\n",
      "become aware that the automobiles which turned expectantly into his\n",
      "drive stayed for just a minute and then drove sulkily away. Wondering\n",
      "if he were sick I went over to find out—an unfamiliar butler with\n",
      "-----\n"
     ]
    }
   ],
   "source": [
    "print(nodes_2[5].get_content(metadata_mode=\"all\"))"
   ]
  },
  {
   "cell_type": "code",
   "execution_count": null,
   "id": "bbf5ee6a-daf8-4862-a80a-15c03f0db4b0",
   "metadata": {},
   "outputs": [],
   "source": [
    "print(nodes_2[6].get_content(metadata_mode=\"all\"))"
   ]
  },
  {
   "cell_type": "code",
   "execution_count": 60,
   "id": "6e430f74-dd95-4aef-acc1-07aa1f3cbd7f",
   "metadata": {},
   "outputs": [],
   "source": [
    "from llama_index import VectorStoreIndex\n",
    "from llama_index.response.notebook_utils import display_source_node, display_response"
   ]
  },
  {
   "cell_type": "code",
   "execution_count": null,
   "id": "2bd8a8a9-07d4-4eaa-a61f-b7d7600a5a2a",
   "metadata": {},
   "outputs": [],
   "source": [
    "# try out different query engines\n",
    "\n",
    "index0 = VectorStoreIndex(orig_nodes)\n",
    "index1 = VectorStoreIndex(nodes_1 + orig_nodes[8:])\n",
    "index2 = VectorStoreIndex(nodes_2 + orig_nodes[8:]) \n",
    "\n",
    "query_engine0 = index0.as_query_engine()\n",
    "query_engine1 = index1.as_query_engine()\n",
    "query_engine2 = index2.as_query_engine()"
   ]
  },
  {
   "cell_type": "code",
   "execution_count": 42,
   "id": "1e1e448d-632c-42a0-ad60-4a315491945f",
   "metadata": {},
   "outputs": [],
   "source": [
    "# query_str = \"Can you describe the resemblance of Daisy's daughter to her or her father?\" \n",
    "query_str = \"How does Gatsby react to seeing Daisy's child for the first time?\"\n",
    "\n",
    "response0 = query_engine0.query(query_str)\n",
    "response1 = query_engine1.query(query_str)\n",
    "response2 = query_engine2.query(query_str)"
   ]
  },
  {
   "cell_type": "code",
   "execution_count": 43,
   "id": "549d1b6a-423e-472e-931c-a37ec23f2e97",
   "metadata": {},
   "outputs": [
    {
     "data": {
      "text/plain": [
       "{'questions_this_excerpt_can_answer': \"1. How does Daisy's behavior towards Gatsby differ from her behavior towards Nick?\\n2. How does Gatsby react to seeing Daisy's child for the first time?\\n3. How does Daisy describe her daughter's appearance and resemblance to her?\"}"
      ]
     },
     "execution_count": 43,
     "metadata": {},
     "output_type": "execute_result"
    }
   ],
   "source": [
    "response1.source_nodes[0].node.metadata"
   ]
  },
  {
   "cell_type": "code",
   "execution_count": 44,
   "id": "5672f974-1a4d-435f-904a-77222eaaed16",
   "metadata": {},
   "outputs": [
    {
     "data": {
      "text/markdown": [
       "**`Final Response:`** Gatsby reacts to seeing Daisy's child for the first time with surprise. He had never really believed in the child's existence before."
      ],
      "text/plain": [
       "<IPython.core.display.Markdown object>"
      ]
     },
     "metadata": {},
     "output_type": "display_data"
    },
    {
     "data": {
      "text/markdown": [
       "---"
      ],
      "text/plain": [
       "<IPython.core.display.Markdown object>"
      ]
     },
     "metadata": {},
     "output_type": "display_data"
    },
    {
     "data": {
      "text/markdown": [
       "**`Source Node 1/2`**"
      ],
      "text/plain": [
       "<IPython.core.display.Markdown object>"
      ]
     },
     "metadata": {},
     "output_type": "display_data"
    },
    {
     "data": {
      "text/markdown": [
       "**Node ID:** e9f405a1-fa51-452b-ac13-0fc3f728dba3<br>**Similarity:** 0.868435983578608<br>**Text:** you. You\n",
       "absolute little dream.”\n",
       "\n",
       "“Yes,” admitted the child calmly. “Aunt Jordan’s got on a white dress\n",
       "too.”\n",
       "\n",
       "“How do you like mother’s friends?” Daisy turned her around so that\n",
       "she faced Gatsby. “Do you think they’re pretty?”\n",
       "\n",
       "“Where’s Daddy?”\n",
       "\n",
       "“She doesn’t look like her father,” explained Daisy. “She looks like\n",
       "me. She’s got my hair and shape of the face.”\n",
       "\n",
       "Daisy sat back upon the couch. The nurse took a step forward and held\n",
       "out her hand.\n",
       "\n",
       "“Come, Pammy.”\n",
       "\n",
       "“Goodbye, sweetheart!”\n",
       "\n",
       "With a reluctant backward glance the well-disciplined child held to\n",
       "her nurse’s hand and was pulled out the door, just as Tom came back,\n",
       "preceding four gin rickeys that clicked full of ice.\n",
       "\n",
       "Gatsby took up his drink.\n",
       "\n",
       "“They certainly look cool,” he said, with visible tension.\n",
       "\n",
       "We drank in long, greedy swallows.\n",
       "\n",
       "“I read somewhere that the sun’s getting hotter every year,” said Tom\n",
       "genially. “It seems that pretty soon the earth’s going to fall into\n",
       "the sun—or wait a minute—it’s just the opposite—the sun’s...<br>"
      ],
      "text/plain": [
       "<IPython.core.display.Markdown object>"
      ]
     },
     "metadata": {},
     "output_type": "display_data"
    },
    {
     "data": {
      "text/markdown": [
       "---"
      ],
      "text/plain": [
       "<IPython.core.display.Markdown object>"
      ]
     },
     "metadata": {},
     "output_type": "display_data"
    },
    {
     "data": {
      "text/markdown": [
       "**`Source Node 2/2`**"
      ],
      "text/plain": [
       "<IPython.core.display.Markdown object>"
      ]
     },
     "metadata": {},
     "output_type": "display_data"
    },
    {
     "data": {
      "text/markdown": [
       "**Node ID:** 0500a508-aef8-4298-8b87-72d783c27b44<br>**Similarity:** 0.858142033308225<br>**Text:** us a cold drink,” cried Daisy.\n",
       "\n",
       "As he left the room again she got up and went over to Gatsby and\n",
       "pulled his face down, kissing him on the mouth.\n",
       "\n",
       "“You know I love you,” she murmured.\n",
       "\n",
       "“You forget there’s a lady present,” said Jordan.\n",
       "\n",
       "Daisy looked around doubtfully.\n",
       "\n",
       "“You kiss Nick too.”\n",
       "\n",
       "“What a low, vulgar girl!”\n",
       "\n",
       "“I don’t care!” cried Daisy, and began to clog on the brick fireplace.\n",
       "Then she remembered the heat and sat down guiltily on the couch just\n",
       "as a freshly laundered nurse leading a little girl came into the room.\n",
       "\n",
       "“Bles-sed pre-cious,” she crooned, holding out her arms. “Come to your\n",
       "own mother that loves you.”\n",
       "\n",
       "The child, relinquished by the nurse, rushed across the room and\n",
       "rooted shyly into her mother’s dress.\n",
       "\n",
       "“The bles-sed pre-cious! Did mother get powder on your old yellowy\n",
       "hair? Stand up now, and say—How-de-do.”\n",
       "\n",
       "Gatsby and I in turn leaned down and took the small reluctant hand.\n",
       "Afterward he kept looking at the child with surprise. I don’t think he\n",
       "had ever really ...<br>"
      ],
      "text/plain": [
       "<IPython.core.display.Markdown object>"
      ]
     },
     "metadata": {},
     "output_type": "display_data"
    }
   ],
   "source": [
    "display_response(response0, source_length=1000, show_source=True)"
   ]
  },
  {
   "cell_type": "code",
   "execution_count": 46,
   "id": "7093adf9-5fdd-47e3-9114-fc2d264df81c",
   "metadata": {},
   "outputs": [
    {
     "data": {
      "text/markdown": [
       "**`Final Response:`** Gatsby reacts to seeing Daisy's child for the first time with surprise. He had never really believed in the child's existence before."
      ],
      "text/plain": [
       "<IPython.core.display.Markdown object>"
      ]
     },
     "metadata": {},
     "output_type": "display_data"
    },
    {
     "data": {
      "text/markdown": [
       "---"
      ],
      "text/plain": [
       "<IPython.core.display.Markdown object>"
      ]
     },
     "metadata": {},
     "output_type": "display_data"
    },
    {
     "data": {
      "text/markdown": [
       "**`Source Node 1/2`**"
      ],
      "text/plain": [
       "<IPython.core.display.Markdown object>"
      ]
     },
     "metadata": {},
     "output_type": "display_data"
    },
    {
     "data": {
      "text/markdown": [
       "**Node ID:** 3e7bc2f8-4815-4a4c-9d64-7f6ca6d82f0c<br>**Similarity:** 0.8943126827422523<br>**Text:** us a cold drink,” cried Daisy.\n",
       "\n",
       "As he left the room again she got up and went over to Gatsby and\n",
       "pulled his face down, kissing him on the mouth.\n",
       "\n",
       "“You know I love you,” she murmured.\n",
       "\n",
       "“You forget there’s a lady present,” said Jordan.\n",
       "\n",
       "Daisy looked around doubtfully.\n",
       "\n",
       "“You kiss Nick too.”\n",
       "\n",
       "“What a low, vulgar girl!”\n",
       "\n",
       "“I don’t care!” cried Daisy, and began to clog on the brick fireplace.\n",
       "Then she remembered the heat and sat down guiltily on the couch just\n",
       "as a freshly laundered nurse leading a little girl came into the room.\n",
       "\n",
       "“Bles-sed pre-cious,” she crooned, holding out her arms. “Come to your\n",
       "own mother that loves you.”\n",
       "\n",
       "The child, relinquished by the nurse, rushed across the room and\n",
       "rooted shyly into her mother’s dress.\n",
       "\n",
       "“The bles-sed pre-cious! Did mother get powder on your old yellowy\n",
       "hair? Stand up now, and say—How-de-do.”\n",
       "\n",
       "Gatsby and I in turn leaned down and took the small reluctant hand.\n",
       "Afterward he kept looking at the child with surprise. I don’t think he\n",
       "had ever really ...<br>"
      ],
      "text/plain": [
       "<IPython.core.display.Markdown object>"
      ]
     },
     "metadata": {},
     "output_type": "display_data"
    },
    {
     "data": {
      "text/markdown": [
       "---"
      ],
      "text/plain": [
       "<IPython.core.display.Markdown object>"
      ]
     },
     "metadata": {},
     "output_type": "display_data"
    },
    {
     "data": {
      "text/markdown": [
       "**`Source Node 2/2`**"
      ],
      "text/plain": [
       "<IPython.core.display.Markdown object>"
      ]
     },
     "metadata": {},
     "output_type": "display_data"
    },
    {
     "data": {
      "text/markdown": [
       "**Node ID:** 19895f2c-f258-45b7-89ef-be9fa1672241<br>**Similarity:** 0.8601995954458262<br>**Text:** you. You\n",
       "absolute little dream.”\n",
       "\n",
       "“Yes,” admitted the child calmly. “Aunt Jordan’s got on a white dress\n",
       "too.”\n",
       "\n",
       "“How do you like mother’s friends?” Daisy turned her around so that\n",
       "she faced Gatsby. “Do you think they’re pretty?”\n",
       "\n",
       "“Where’s Daddy?”\n",
       "\n",
       "“She doesn’t look like her father,” explained Daisy. “She looks like\n",
       "me. She’s got my hair and shape of the face.”\n",
       "\n",
       "Daisy sat back upon the couch. The nurse took a step forward and held\n",
       "out her hand.\n",
       "\n",
       "“Come, Pammy.”\n",
       "\n",
       "“Goodbye, sweetheart!”\n",
       "\n",
       "With a reluctant backward glance the well-disciplined child held to\n",
       "her nurse’s hand and was pulled out the door, just as Tom came back,\n",
       "preceding four gin rickeys that clicked full of ice.\n",
       "\n",
       "Gatsby took up his drink.\n",
       "\n",
       "“They certainly look cool,” he said, with visible tension.\n",
       "\n",
       "We drank in long, greedy swallows.\n",
       "\n",
       "“I read somewhere that the sun’s getting hotter every year,” said Tom\n",
       "genially. “It seems that pretty soon the earth’s going to fall into\n",
       "the sun—or wait a minute—it’s just the opposite—the sun’s...<br>"
      ],
      "text/plain": [
       "<IPython.core.display.Markdown object>"
      ]
     },
     "metadata": {},
     "output_type": "display_data"
    }
   ],
   "source": [
    "display_response(response1, source_length=1000, show_source=True)"
   ]
  },
  {
   "cell_type": "code",
   "execution_count": 21,
   "id": "b9bcec8f-366d-40d4-be6c-839bde60f05b",
   "metadata": {},
   "outputs": [],
   "source": [
    "query_str = (\n",
    "    \"When Daisy, Tom, and Gatsby all meet, Daisy eventually becomes overwhelmed and suggests going to town. \"\n",
    "    \"The atmosphere beforehand is tense. Can you describe that?\"\n",
    ")\n",
    "\n",
    "response0 = query_engine0.query(query_str)\n",
    "response1 = query_engine1.query(query_str)\n",
    "response2 = query_engine2.query(query_str)"
   ]
  },
  {
   "cell_type": "code",
   "execution_count": 24,
   "id": "47b754f2-1ebc-4526-85b6-6e0caa983d56",
   "metadata": {},
   "outputs": [
    {
     "name": "stdout",
     "output_type": "stream",
     "text": [
      "The atmosphere before Daisy suggests going to town is described as hot and confused. Daisy is on the verge of tears and insists on going to town, while Tom tries to dismiss her concerns and tells her to forget about the heat. The tension is palpable as Daisy and Gatsby exchange glances and stare at each other, alone in space. The heat and the sense of confusion contribute to the tense atmosphere in the room.\n"
     ]
    }
   ],
   "source": [
    "print(str(response0))"
   ]
  },
  {
   "cell_type": "code",
   "execution_count": 34,
   "id": "533513fb-9db9-4973-827f-8af4ac215295",
   "metadata": {},
   "outputs": [
    {
     "data": {
      "text/markdown": [
       "**Node ID:** fe89ee58-54dc-49a1-935b-c30b47a9d275<br>**Similarity:** 0.8772335973278944<br>**Text:** with them out to the veranda. On the green Sound, stagnant in\n",
       "the heat, one small sail crawled slowly toward the fresher sea.\n",
       "Gatsby’s eyes followed it momentarily; he raised his hand and pointed\n",
       "across the bay.\n",
       "\n",
       "“I’m right across from you.”\n",
       "\n",
       "“So you are.”\n",
       "\n",
       "Our eyes lifted over the rose-beds and the hot lawn and the weedy\n",
       "refuse of the dog-days alongshore. Slowly the white wings of the boat\n",
       "moved against the blue cool limit of the sky. Ahead lay the scalloped\n",
       "ocean and the abounding blessed isles.\n",
       "\n",
       "“There’s sport for you,” said Tom, nodding. “I’d like to be out there\n",
       "with him for about an hour.”\n",
       "\n",
       "We had luncheon in the dining-room, darkened too against the heat, and\n",
       "drank down nervous gaiety with the cold ale.\n",
       "\n",
       "“What’ll we do with ourselves this afternoon?” cried Daisy, “and the\n",
       "day after that, and the next thirty years?”\n",
       "\n",
       "“Don’t be morbid,” Jordan said. “Life starts all over again when it\n",
       "gets crisp in the fall.”\n",
       "\n",
       "“But it’s so hot,” insisted Daisy, on the verge of tears, “and\n",
       "every...<br>"
      ],
      "text/plain": [
       "<IPython.core.display.Markdown object>"
      ]
     },
     "metadata": {},
     "output_type": "display_data"
    },
    {
     "data": {
      "text/markdown": [
       "**Node ID:** be652beb-f8bd-45a3-9857-97d8c99396e9<br>**Similarity:** 0.8737805005250324<br>**Text:** and, though it was already four\n",
       "o’clock, opening the windows admitted only a gust of hot shrubbery\n",
       "from the Park. Daisy went to the mirror and stood with her back to us,\n",
       "fixing her hair.\n",
       "\n",
       "“It’s a swell suite,” whispered Jordan respectfully, and everyone\n",
       "laughed.\n",
       "\n",
       "“Open another window,” commanded Daisy, without turning around.\n",
       "\n",
       "“There aren’t any more.”\n",
       "\n",
       "“Well, we’d better telephone for an axe—”\n",
       "\n",
       "“The thing to do is to forget about the heat,” said Tom impatiently.\n",
       "“You make it ten times worse by crabbing about it.”\n",
       "\n",
       "He unrolled the bottle of whisky from the towel and put it on the\n",
       "table.\n",
       "\n",
       "“Why not let her alone, old sport?” remarked Gatsby. “You’re the one\n",
       "that wanted to come to town.”\n",
       "\n",
       "There was a moment of silence. The telephone book slipped from its\n",
       "nail and splashed to the floor, whereupon Jordan whispered, “Excuse\n",
       "me”—but this time no one laughed.\n",
       "\n",
       "“I’ll pick it up,” I offered.\n",
       "\n",
       "“I’ve got it.” Gatsby examined the parted string, muttered “Hum!” in\n",
       "an interested way, and tossed the...<br>"
      ],
      "text/plain": [
       "<IPython.core.display.Markdown object>"
      ]
     },
     "metadata": {},
     "output_type": "display_data"
    }
   ],
   "source": [
    "for node in response0.source_nodes:\n",
    "    display_source_node(node, source_length=1000)"
   ]
  },
  {
   "cell_type": "code",
   "execution_count": 25,
   "id": "e8051c29-0ae3-4f5f-839d-6f8a602e826c",
   "metadata": {},
   "outputs": [
    {
     "name": "stdout",
     "output_type": "stream",
     "text": [
      "The atmosphere before Daisy suggests going to town is tense. There is a sense of unease and tension between the characters, particularly between Tom and Gatsby. Daisy's comment about Gatsby looking cool seems to further intensify the tension. Tom's reaction to Daisy's comment and his exchange with Gatsby further contribute to the tense atmosphere. Additionally, the oppressive heat adds to the discomfort and unease felt by the characters.\n"
     ]
    }
   ],
   "source": [
    "print(str(response1))"
   ]
  },
  {
   "cell_type": "code",
   "execution_count": 26,
   "id": "0d780aea-2b9f-456b-b1bf-23e8df4750cd",
   "metadata": {},
   "outputs": [
    {
     "name": "stdout",
     "output_type": "stream",
     "text": [
      "The atmosphere before Daisy suggests going to town is described as tense.\n"
     ]
    }
   ],
   "source": [
    "print(str(response2))"
   ]
  },
  {
   "cell_type": "code",
   "execution_count": null,
   "id": "5afe4f69-b676-43fd-bc15-39e18e94801f",
   "metadata": {},
   "outputs": [],
   "source": []
  }
 ],
 "metadata": {
  "kernelspec": {
   "display_name": "llama_index_v2",
   "language": "python",
   "name": "llama_index_v2"
  },
  "language_info": {
   "codemirror_mode": {
    "name": "ipython",
    "version": 3
   },
   "file_extension": ".py",
   "mimetype": "text/x-python",
   "name": "python",
   "nbconvert_exporter": "python",
   "pygments_lexer": "ipython3",
   "version": "3.10.10"
  }
 },
 "nbformat": 4,
 "nbformat_minor": 5
}
