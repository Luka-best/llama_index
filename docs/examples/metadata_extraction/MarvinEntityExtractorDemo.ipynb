{
 "cells": [
  {
   "cell_type": "markdown",
   "metadata": {},
   "source": [
    "# Metadata Entity Extraction w/ Marvin\n",
    "\n",
    "This notebook walks through using [`Marvin`](https://github.com/PrefectHQ/marvin) to extract entities from text. Marvin uses the LLM to identify and extract entities."
   ]
  },
  {
   "cell_type": "markdown",
   "metadata": {},
   "source": [
    "## Setup"
   ]
  },
  {
   "cell_type": "code",
   "execution_count": null,
   "metadata": {},
   "outputs": [],
   "source": [
    "# !pip install marvin"
   ]
  },
  {
   "cell_type": "code",
   "execution_count": 2,
   "metadata": {},
   "outputs": [],
   "source": [
    "from llama_index import SimpleDirectoryReader\n",
    "from llama_index.indices.service_context import ServiceContext\n",
    "from llama_index.llms import OpenAI\n",
    "from llama_index.node_parser import SimpleNodeParser\n",
    "from llama_index.node_parser.extractors import (\n",
    "    MetadataExtractor,\n",
    ")\n",
    "from llama_index.text_splitter import TokenTextSplitter\n",
    "from llama_index.node_parser.extractors.marvin_entity_extractor import (\n",
    "    MarvinEntityExtractor,\n",
    ")"
   ]
  },
  {
   "cell_type": "code",
   "execution_count": 3,
   "metadata": {},
   "outputs": [],
   "source": [
    "import os\n",
    "import openai\n",
    "\n",
    "os.environ[\"OPENAI_API_KEY\"] = \"sk-...\"\n",
    "openai.api_key = os.environ[\"OPENAI_API_KEY\"]"
   ]
  },
  {
   "cell_type": "code",
   "execution_count": 9,
   "metadata": {},
   "outputs": [],
   "source": [
    "documents = SimpleDirectoryReader(\"data\").load_data()\n",
    "\n",
    "# limit document text length\n",
    "documents[0].text = documents[0].text[:10000]"
   ]
  },
  {
   "cell_type": "code",
   "execution_count": 10,
   "metadata": {},
   "outputs": [],
   "source": [
    "import marvin\n",
    "from marvin import ai_model\n",
    "\n",
    "try:\n",
    "    from pydantic.v1 import BaseModel, Field\n",
    "except ImportError:\n",
    "    from pydantic import BaseModel, Field\n",
    "\n",
    "marvin.settings.openai.api_key = os.environ[\"OPENAI_API_KEY\"]\n",
    "\n",
    "\n",
    "@ai_model\n",
    "class SportsSupplement(BaseModel):\n",
    "    name: str = Field(..., description=\"The name of the sports supplement\")\n",
    "    description: str = Field(..., description=\"A description of the sports supplement\")\n",
    "    pros_cons: str = Field(\n",
    "        ..., description=\"The pros and cons of the sports supplement\"\n",
    "    )"
   ]
  },
  {
   "cell_type": "code",
   "execution_count": 11,
   "metadata": {},
   "outputs": [],
   "source": [
    "llm_model = \"gpt-3.5-turbo\"\n",
    "\n",
    "llm = OpenAI(temperature=0.1, model_name=llm_model, max_tokens=512)\n",
    "service_context = ServiceContext.from_defaults(llm=llm)\n",
    "\n",
    "# construct text splitter to split texts into chunks for processing\n",
    "# this takes a while to process, you can increase processing time by using larger chunk_size\n",
    "# file size is a factor too of course\n",
    "text_splitter = TokenTextSplitter(separator=\" \", chunk_size=512, chunk_overlap=128)\n",
    "\n",
    "# set the global service context object, avoiding passing service_context when building the index\n",
    "from llama_index import set_global_service_context\n",
    "\n",
    "set_global_service_context(service_context)\n",
    "\n",
    "# create metadata extractor\n",
    "metadata_extractor = MetadataExtractor(\n",
    "    extractors=[\n",
    "        MarvinEntityExtractor(\n",
    "            marvin_model=SportsSupplement, llm_model_string=llm_model\n",
    "        ),  # let's extract custom entities for each node.\n",
    "    ],\n",
    ")\n",
    "\n",
    "# create node parser to parse nodes from document\n",
    "node_parser = SimpleNodeParser(\n",
    "    text_splitter=text_splitter,\n",
    "    metadata_extractor=metadata_extractor,\n",
    ")\n",
    "\n",
    "# use node_parser to get nodes from the documents\n",
    "nodes = node_parser.get_nodes_from_documents(documents)"
   ]
  },
  {
   "cell_type": "code",
   "execution_count": 12,
   "metadata": {},
   "outputs": [
    {
     "name": "stdout",
     "output_type": "stream",
     "text": [
      "{'marvin_entities': {'description': 'AAKG, also known as L-arginine '\n",
      "                                    'alpha-ketoglutarate, is a sports '\n",
      "                                    'supplement that is used to improve peak '\n",
      "                                    'power output and strength in weight '\n",
      "                                    'training. It has been found to enhance '\n",
      "                                    'maximum effort bench press and Wingate '\n",
      "                                    'peak power performance.',\n",
      "                     'name': 'AAKG',\n",
      "                     'pros_cons': 'Pros: Improved maximum effort bench press '\n",
      "                                  'and Wingate peak power performance. Cons: '\n",
      "                                  'None mentioned.'}}\n",
      "{'marvin_entities': {'description': 'Gulping down baking soda (sodium '\n",
      "                                    'bicarbonate) makes the blood more '\n",
      "                                    'alkaline, improving performance in '\n",
      "                                    'lactic-acid-fueled events like the 800m '\n",
      "                                    'sprint.',\n",
      "                     'name': 'Baking soda',\n",
      "                     'pros_cons': 'Downside: a badly upset stomach.'}}\n",
      "{'marvin_entities': {'description': 'Branched-chain amino acids (BCAAs) are a '\n",
      "                                    'group of three essential amino acids: '\n",
      "                                    'leucine, isoleucine, and valine. They are '\n",
      "                                    'commonly used as a sports supplement to '\n",
      "                                    'improve fatigue resistance and '\n",
      "                                    'aerobic-endurance during activities such '\n",
      "                                    'as cycling and circuit training.',\n",
      "                     'name': 'BCAAs',\n",
      "                     'pros_cons': 'Pros: BCAAs can enhance exercise '\n",
      "                                  'performance and reduce muscle damage. Cons: '\n",
      "                                  'BCAAs may not provide significant benefits '\n",
      "                                  'for everyone and can be expensive.'}}\n",
      "{'marvin_entities': {'description': 'Branched-chain amino acids (BCAAs) are a '\n",
      "                                    'group of three essential amino acids: '\n",
      "                                    'leucine, isoleucine, and valine. They are '\n",
      "                                    'commonly used as a sports supplement to '\n",
      "                                    'improve aerobic performance, endurance, '\n",
      "                                    'power, and strength. BCAAs are especially '\n",
      "                                    'popular among cyclists and circuit '\n",
      "                                    'trainers.',\n",
      "                     'name': 'Branched-chain amino acids',\n",
      "                     'pros_cons': 'Pros: BCAAs can enhance aerobic '\n",
      "                                  'performance, increase endurance, and '\n",
      "                                  'improve power output. Cons: BCAAs may not '\n",
      "                                  'be effective for all individuals, and '\n",
      "                                  'excessive intake can lead to negative side '\n",
      "                                  'effects.'}}\n",
      "{'marvin_entities': {'description': 'Branched-chain amino acids are a group of '\n",
      "                                    'essential amino acids that include '\n",
      "                                    'leucine, isoleucine, and valine. They are '\n",
      "                                    'commonly used as a sports supplement to '\n",
      "                                    'improve immune defences in athletes and '\n",
      "                                    'enhance general fitness in activities '\n",
      "                                    'such as running.',\n",
      "                     'name': 'BCAAs',\n",
      "                     'pros_cons': 'Pros:\\n'\n",
      "                                  '- Enhances immune defences\\n'\n",
      "                                  '- Improves general fitness\\n'\n",
      "                                  'Cons:\\n'\n",
      "                                  '- May not have significant effects on body '\n",
      "                                  'composition or fat burning'}}\n"
     ]
    }
   ],
   "source": [
    "from pprint import pprint\n",
    "\n",
    "for i in range(5):\n",
    "    pprint(nodes[i].metadata)"
   ]
  },
  {
   "cell_type": "code",
   "execution_count": null,
   "metadata": {},
   "outputs": [],
   "source": []
  }
 ],
 "metadata": {
  "kernelspec": {
   "display_name": "llama-index",
   "language": "python",
   "name": "llama-index"
  },
  "language_info": {
   "codemirror_mode": {
    "name": "ipython",
    "version": 3
   },
   "file_extension": ".py",
   "mimetype": "text/x-python",
   "name": "python",
   "nbconvert_exporter": "python",
   "pygments_lexer": "ipython3",
   "version": "3.11.0"
  },
  "orig_nbformat": 4
 },
 "nbformat": 4,
 "nbformat_minor": 2
}
