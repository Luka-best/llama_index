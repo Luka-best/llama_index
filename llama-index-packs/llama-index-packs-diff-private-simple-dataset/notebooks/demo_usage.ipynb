{
 "cells": [
  {
   "cell_type": "code",
   "execution_count": null,
   "id": "a3a3a21f-b6d0-4a3d-9a2f-e9fd7d9e9e0a",
   "metadata": {},
   "outputs": [
    {
     "name": "stdout",
     "output_type": "stream",
     "text": [
      "Note: you may need to restart the kernel to use updated packages.\n"
     ]
    }
   ],
   "source": [
    "%pip install treelib -q"
   ]
  },
  {
   "cell_type": "code",
   "execution_count": null,
   "id": "1e08d647-343f-4278-882b-1c080e719310",
   "metadata": {},
   "outputs": [],
   "source": [
    "import nest_asyncio\n",
    "\n",
    "nest_asyncio.apply()"
   ]
  },
  {
   "cell_type": "code",
   "execution_count": null,
   "id": "6d17533f-fe63-4547-b3ce-cf8f76bec599",
   "metadata": {},
   "outputs": [],
   "source": [
    "from llama_index.core.instrumentation.span_handlers import SimpleSpanHandler\n",
    "import llama_index.core.instrumentation as instrument\n",
    "\n",
    "span_handler = SimpleSpanHandler()\n",
    "dispatcher = instrument.get_dispatcher()\n",
    "dispatcher.add_span_handler(span_handler)"
   ]
  },
  {
   "cell_type": "code",
   "execution_count": null,
   "id": "013f873a-5157-4c39-a277-01ced6f7de9c",
   "metadata": {},
   "outputs": [],
   "source": [
    "from llama_index.core.llama_dataset.simple import LabelledSimpleDataset\n",
    "from llama_index.packs.diff_private_simple_dataset.base import PromptBundle\n",
    "from llama_index.packs.diff_private_simple_dataset import DiffPrivateSimpleDatasetPack\n",
    "from llama_index.llms.openai import OpenAI\n",
    "import tiktoken"
   ]
  },
  {
   "cell_type": "markdown",
   "id": "53a3bed2-d702-4765-8366-cdedfafc10e2",
   "metadata": {},
   "source": [
    "### Load LabelledSimpleDataset"
   ]
  },
  {
   "cell_type": "code",
   "execution_count": null,
   "id": "a4c06c01-5450-43e5-bd31-837ec02dea33",
   "metadata": {},
   "outputs": [],
   "source": [
    "simple_dataset = LabelledSimpleDataset.from_json(\"./agnews.json\")"
   ]
  },
  {
   "cell_type": "code",
   "execution_count": null,
   "id": "d4d98604-fc39-4ff5-8396-6d70a039bebc",
   "metadata": {},
   "outputs": [
    {
     "data": {
      "text/html": [
       "<div>\n",
       "<style scoped>\n",
       "    .dataframe tbody tr th:only-of-type {\n",
       "        vertical-align: middle;\n",
       "    }\n",
       "\n",
       "    .dataframe tbody tr th {\n",
       "        vertical-align: top;\n",
       "    }\n",
       "\n",
       "    .dataframe thead th {\n",
       "        text-align: right;\n",
       "    }\n",
       "</style>\n",
       "<table border=\"1\" class=\"dataframe\">\n",
       "  <thead>\n",
       "    <tr style=\"text-align: right;\">\n",
       "      <th></th>\n",
       "      <th>reference_label</th>\n",
       "      <th>text</th>\n",
       "      <th>text_by</th>\n",
       "    </tr>\n",
       "  </thead>\n",
       "  <tbody>\n",
       "    <tr>\n",
       "      <th>0</th>\n",
       "      <td>Business</td>\n",
       "      <td>Wall St. Bears Claw Back Into the Black (Reute...</td>\n",
       "      <td>human</td>\n",
       "    </tr>\n",
       "    <tr>\n",
       "      <th>1</th>\n",
       "      <td>Business</td>\n",
       "      <td>Carlyle Looks Toward Commercial Aerospace (Reu...</td>\n",
       "      <td>human</td>\n",
       "    </tr>\n",
       "    <tr>\n",
       "      <th>2</th>\n",
       "      <td>Business</td>\n",
       "      <td>Oil and Economy Cloud Stocks' Outlook (Reuters...</td>\n",
       "      <td>human</td>\n",
       "    </tr>\n",
       "    <tr>\n",
       "      <th>3</th>\n",
       "      <td>Business</td>\n",
       "      <td>Iraq Halts Oil Exports from Main Southern Pipe...</td>\n",
       "      <td>human</td>\n",
       "    </tr>\n",
       "    <tr>\n",
       "      <th>4</th>\n",
       "      <td>Business</td>\n",
       "      <td>Oil prices soar to all-time record, posing new...</td>\n",
       "      <td>human</td>\n",
       "    </tr>\n",
       "  </tbody>\n",
       "</table>\n",
       "</div>"
      ],
      "text/plain": [
       "  reference_label                                               text text_by\n",
       "0        Business  Wall St. Bears Claw Back Into the Black (Reute...   human\n",
       "1        Business  Carlyle Looks Toward Commercial Aerospace (Reu...   human\n",
       "2        Business  Oil and Economy Cloud Stocks' Outlook (Reuters...   human\n",
       "3        Business  Iraq Halts Oil Exports from Main Southern Pipe...   human\n",
       "4        Business  Oil prices soar to all-time record, posing new...   human"
      ]
     },
     "execution_count": null,
     "metadata": {},
     "output_type": "execute_result"
    }
   ],
   "source": [
    "simple_dataset.to_pandas()[:5]"
   ]
  },
  {
   "cell_type": "code",
   "execution_count": null,
   "id": "afe67738-12d5-4a85-aa70-0510bc772038",
   "metadata": {},
   "outputs": [
    {
     "data": {
      "text/plain": [
       "reference_label\n",
       "Business    30000\n",
       "Sci/Tech    30000\n",
       "Sports      30000\n",
       "World       30000\n",
       "Name: count, dtype: int64"
      ]
     },
     "execution_count": null,
     "metadata": {},
     "output_type": "execute_result"
    }
   ],
   "source": [
    "simple_dataset.to_pandas().value_counts(\"reference_label\")"
   ]
  },
  {
   "cell_type": "markdown",
   "id": "d2baaff8-6c3d-45bf-8e24-0c59d11bd70c",
   "metadata": {},
   "source": [
    "### InstantiatePack"
   ]
  },
  {
   "cell_type": "code",
   "execution_count": null,
   "id": "6671b450-04c5-4aa4-bbb3-90d2c2acf4fa",
   "metadata": {},
   "outputs": [],
   "source": [
    "llm = OpenAI(\n",
    "    model=\"gpt-3.5-turbo-instruct\",\n",
    "    max_tokens=1,\n",
    "    logprobs=True,\n",
    "    top_logprobs=5,\n",
    ")\n",
    "tokenizer = tiktoken.encoding_for_model(\"gpt-3.5-turbo-instruct\")\n",
    "\n",
    "prompt_bundle = PromptBundle(\n",
    "    instruction=(\n",
    "        \"Given a label of news type, generate the chosen type of news accordingly.\\n\"\n",
    "        \"Start your answer directly after 'Text: '. Begin your answer with [RESULT].\\n\"\n",
    "    ),\n",
    "    label_heading=\"News Type\",\n",
    "    text_heading=\"Text\",\n",
    ")\n",
    "\n",
    "dp_simple_dataset_pack = DiffPrivateSimpleDatasetPack(\n",
    "    llm=llm,\n",
    "    tokenizer=tokenizer,\n",
    "    prompt_bundle=prompt_bundle,\n",
    "    simple_dataset=simple_dataset,\n",
    ")"
   ]
  },
  {
   "cell_type": "code",
   "execution_count": null,
   "id": "7f6f266c-5c7e-4d7f-b690-bbaf30ac6bb2",
   "metadata": {},
   "outputs": [
    {
     "name": "stderr",
     "output_type": "stream",
     "text": [
      "100%|█████████████████████████████████████████████████████████████████████████████████████| 35/35 [00:30<00:00,  1.14it/s]\n"
     ]
    },
    {
     "data": {
      "text/plain": [
       "LabelledSimpleDataExample(reference_label='Sports', text='The 2021 NBA Finals are set to begin on Tuesday, July 6th, with the Phoenix Suns facing off against the Milwaukee Bucks. The Suns are', text_by=CreatedBy(model_name='gpt-3.5-turbo-instruct', type=<CreatedByType.AI: 'ai'>))"
      ]
     },
     "execution_count": null,
     "metadata": {},
     "output_type": "execute_result"
    }
   ],
   "source": [
    "dp_simple_dataset_pack.generate_dp_synthetic_example(\n",
    "    label=\"Sports\", t_max=35, sigma=0.1, num_splits=2, num_samples_per_split=8\n",
    ")"
   ]
  },
  {
   "cell_type": "code",
   "execution_count": null,
   "id": "5ef627b7-5226-4aa7-a158-7f9836e26480",
   "metadata": {},
   "outputs": [
    {
     "name": "stderr",
     "output_type": "stream",
     "text": [
      "100%|█████████████████████████████████████████████████████████████████████████████████████| 35/35 [00:30<00:00,  1.17it/s]\n"
     ]
    },
    {
     "data": {
      "text/plain": [
       "LabelledSimpleDataExample(reference_label='Sports', text='The latest sports news: The New York Yankees have clinched the American League East division title for the first time since 2012. The team celebrated their victory', text_by=CreatedBy(model_name='gpt-3.5-turbo-instruct', type=<CreatedByType.AI: 'ai'>))"
      ]
     },
     "execution_count": null,
     "metadata": {},
     "output_type": "execute_result"
    }
   ],
   "source": [
    "await dp_simple_dataset_pack.agenerate_dp_synthetic_example(\n",
    "    label=\"Sports\", t_max=35, sigma=0.1, num_splits=2, num_samples_per_split=8\n",
    ")"
   ]
  },
  {
   "cell_type": "code",
   "execution_count": null,
   "id": "cb0bd383-2ecd-4edb-bea2-bd5fc1a663c8",
   "metadata": {},
   "outputs": [
    {
     "name": "stderr",
     "output_type": "stream",
     "text": [
      "100%|███████████████████████████████████████████████████████████████████████████████████████| 5/5 [00:06<00:00,  1.30s/it]\n",
      "100%|███████████████████████████████████████████████████████████████████████████████████████| 5/5 [00:05<00:00,  1.05s/it]\n"
     ]
    }
   ],
   "source": [
    "synthetic_dataset = dp_simple_dataset_pack.run(\n",
    "    sizes={\"World\": 1, \"Sports\": 1, \"Sci/Tech\": 0, \"Business\": 0},\n",
    "    t_max=5,\n",
    "    sigma=0.5,\n",
    "    num_splits=3,\n",
    "    num_samples_per_split=8,\n",
    ")"
   ]
  },
  {
   "cell_type": "code",
   "execution_count": null,
   "id": "346677df-038f-400c-bc21-69d45705f212",
   "metadata": {},
   "outputs": [
    {
     "data": {
      "text/html": [
       "<div>\n",
       "<style scoped>\n",
       "    .dataframe tbody tr th:only-of-type {\n",
       "        vertical-align: middle;\n",
       "    }\n",
       "\n",
       "    .dataframe tbody tr th {\n",
       "        vertical-align: top;\n",
       "    }\n",
       "\n",
       "    .dataframe thead th {\n",
       "        text-align: right;\n",
       "    }\n",
       "</style>\n",
       "<table border=\"1\" class=\"dataframe\">\n",
       "  <thead>\n",
       "    <tr style=\"text-align: right;\">\n",
       "      <th></th>\n",
       "      <th>reference_label</th>\n",
       "      <th>text</th>\n",
       "      <th>text_by</th>\n",
       "    </tr>\n",
       "  </thead>\n",
       "  <tbody>\n",
       "    <tr>\n",
       "      <th>0</th>\n",
       "      <td>Sports</td>\n",
       "      <td>[RESULT]The</td>\n",
       "      <td>ai (gpt-3.5-turbo-instruct)</td>\n",
       "    </tr>\n",
       "    <tr>\n",
       "      <th>1</th>\n",
       "      <td>World</td>\n",
       "      <td>[RESULT]The United</td>\n",
       "      <td>ai (gpt-3.5-turbo-instruct)</td>\n",
       "    </tr>\n",
       "  </tbody>\n",
       "</table>\n",
       "</div>"
      ],
      "text/plain": [
       "  reference_label                 text                      text_by\n",
       "0          Sports         [RESULT]The   ai (gpt-3.5-turbo-instruct)\n",
       "1           World   [RESULT]The United  ai (gpt-3.5-turbo-instruct)"
      ]
     },
     "execution_count": null,
     "metadata": {},
     "output_type": "execute_result"
    }
   ],
   "source": [
    "synthetic_dataset.to_pandas()"
   ]
  },
  {
   "cell_type": "code",
   "execution_count": null,
   "id": "0a96d3e8-7653-443e-880c-891d8c996f95",
   "metadata": {},
   "outputs": [
    {
     "name": "stdout",
     "output_type": "stream",
     "text": [
      "[RESULT]The \n"
     ]
    }
   ],
   "source": [
    "print(synthetic_dataset.to_pandas().iloc[0].text)"
   ]
  },
  {
   "cell_type": "code",
   "execution_count": null,
   "id": "b7e6ebb5-b6d5-44d5-a751-fcdb6163347b",
   "metadata": {},
   "outputs": [
    {
     "name": "stdout",
     "output_type": "stream",
     "text": [
      " [RESULT]The United\n"
     ]
    }
   ],
   "source": [
    "print(synthetic_dataset.to_pandas().iloc[1].text)"
   ]
  },
  {
   "cell_type": "code",
   "execution_count": null,
   "id": "99f2a3f2-7cd0-4b75-95bf-67ee6f7603b5",
   "metadata": {},
   "outputs": [
    {
     "name": "stdout",
     "output_type": "stream",
     "text": [
      "DiffPrivateSimpleDatasetPack.generate_dp_synthetic_example-9656d8cd-d7ab-4e7e-8e69-fce6a5562a42 (30.8202)\n",
      "└── DiffPrivateSimpleDatasetPack.agenerate_dp_synthetic_example-1f965d26-815f-4caf-a2ad-7033debd485e (30.819737)\n",
      "    ├── DiffPrivateSimpleDatasetPack._filter_dataset_by_label-77f10b72-ce52-402a-8198-9811605c789e (0.091823)\n",
      "    ├── DiffPrivateSimpleDatasetPack._split_dataset-0c1abe3f-6a98-4072-bff7-4f9eec6c8ada (0.006922)\n",
      "    ├── DiffPrivateSimpleDatasetPack._filter_dataset_by_label-8dce00d4-6c27-4aef-97b3-5ff01226965a (0.096537)\n",
      "    ├── DiffPrivateSimpleDatasetPack._split_dataset-7d645e59-4453-460b-ba51-5fe6de72d9fc (0.006868)\n",
      "    ├── DiffPrivateSimpleDatasetPack._filter_dataset_by_label-a9f0bd05-b7b2-48e3-bfe8-137868e32b94 (0.088195)\n",
      "    ├── DiffPrivateSimpleDatasetPack._split_dataset-621ae7be-92d5-4b59-b863-df196e315dc1 (0.006807)\n",
      "    ├── DiffPrivateSimpleDatasetPack._filter_dataset_by_label-7106660e-75c7-4064-b942-747182c9e969 (0.092613)\n",
      "    ├── DiffPrivateSimpleDatasetPack._split_dataset-761c7e64-58a7-4f01-84c3-e48deb97db82 (0.00678)\n",
      "    ├── DiffPrivateSimpleDatasetPack._filter_dataset_by_label-e05aa703-6584-4ded-a981-db433132bdce (0.071382)\n",
      "    ├── DiffPrivateSimpleDatasetPack._split_dataset-04e1393c-4e5d-4b3a-a7fd-a8fb442dff1f (0.00706)\n",
      "    ├── DiffPrivateSimpleDatasetPack._filter_dataset_by_label-0f8fd012-91e6-4d56-910a-969a01cef188 (0.085191)\n",
      "    ├── DiffPrivateSimpleDatasetPack._split_dataset-3bdfcacb-500d-4384-a71f-6498563bcc46 (0.007032)\n",
      "    ├── DiffPrivateSimpleDatasetPack._filter_dataset_by_label-780851aa-c66a-4a3e-a5c8-2ab61c09f7e1 (0.247851)\n",
      "    ├── DiffPrivateSimpleDatasetPack._split_dataset-84c07015-1daf-4dc9-a360-54340924f3eb (0.006858)\n",
      "    ├── DiffPrivateSimpleDatasetPack._filter_dataset_by_label-24d5a805-12ea-402c-8af0-812071921ba3 (0.09469)\n",
      "    ├── DiffPrivateSimpleDatasetPack._split_dataset-dfb69387-fa1c-4b5f-9a29-5016011d8d8b (0.006808)\n",
      "    ├── DiffPrivateSimpleDatasetPack._filter_dataset_by_label-9a70a321-45df-4837-bc84-55a86543fb94 (0.093506)\n",
      "    ├── DiffPrivateSimpleDatasetPack._split_dataset-a5c4cbbd-6974-4a12-8b21-4815945bad70 (0.006827)\n",
      "    ├── DiffPrivateSimpleDatasetPack._filter_dataset_by_label-44f775cb-103a-4a2c-8e9b-e8a9cdceda4b (0.092441)\n",
      "    ├── DiffPrivateSimpleDatasetPack._split_dataset-7749194b-19cb-4bfe-a373-3a113f669f44 (0.00702)\n",
      "    ├── DiffPrivateSimpleDatasetPack._filter_dataset_by_label-52c1341e-dc71-4c47-814b-bfa9b53ed028 (0.094628)\n",
      "    ├── DiffPrivateSimpleDatasetPack._split_dataset-b62f0136-6bf3-4147-8d4e-79dbfdfe4e83 (0.006754)\n",
      "    ├── DiffPrivateSimpleDatasetPack._filter_dataset_by_label-8c3391d2-fce3-4cc5-8f2c-2ef16d648d7b (0.093467)\n",
      "    ├── DiffPrivateSimpleDatasetPack._split_dataset-e3f4cfe5-6c8a-444a-8a11-24d20b9e551c (0.006768)\n",
      "    ├── DiffPrivateSimpleDatasetPack._filter_dataset_by_label-94ddcbff-155e-4a33-b829-548d83f94d33 (0.083204)\n",
      "    ├── DiffPrivateSimpleDatasetPack._split_dataset-90d6e4db-8944-4921-80da-1378fe3c497d (0.006816)\n",
      "    ├── DiffPrivateSimpleDatasetPack._filter_dataset_by_label-1dfba2fa-54fc-45b7-9542-93f233c3eff6 (0.094042)\n",
      "    ├── DiffPrivateSimpleDatasetPack._split_dataset-6cc7beb4-4f67-44e7-a685-57427e80462b (0.006641)\n",
      "    ├── DiffPrivateSimpleDatasetPack._filter_dataset_by_label-491fdddc-bd0d-4aef-9831-d697c220f66a (0.245023)\n",
      "    ├── DiffPrivateSimpleDatasetPack._split_dataset-51586754-bbb2-40ba-adab-45ecf8e5e848 (0.006826)\n",
      "    ├── DiffPrivateSimpleDatasetPack._filter_dataset_by_label-028de7e9-2436-4fbe-a660-8a8d7b695787 (0.098125)\n",
      "    ├── DiffPrivateSimpleDatasetPack._split_dataset-e97913f7-dee3-4f01-a095-d21a8327b651 (0.006689)\n",
      "    ├── DiffPrivateSimpleDatasetPack._filter_dataset_by_label-f87cacbc-3ff8-4f60-ba42-e1c36baae6fd (0.095062)\n",
      "    ├── DiffPrivateSimpleDatasetPack._split_dataset-f24d16cd-9fc0-4eee-8739-015388d7271c (0.006832)\n",
      "    ├── DiffPrivateSimpleDatasetPack._filter_dataset_by_label-22e9fc2d-2733-4eec-a09c-fb6598a4a28b (0.078357)\n",
      "    ├── DiffPrivateSimpleDatasetPack._split_dataset-8d140143-3815-447e-8530-8a049e8e228c (0.007921)\n",
      "    ├── DiffPrivateSimpleDatasetPack._filter_dataset_by_label-70ac2931-39ef-4e8c-9f41-0ab802e1fc8a (0.071542)\n",
      "    ├── DiffPrivateSimpleDatasetPack._split_dataset-0cb67ebc-32f3-40c8-9c12-ec53ca7d90c4 (0.00687)\n",
      "    ├── DiffPrivateSimpleDatasetPack._filter_dataset_by_label-e7e31ecb-4439-4378-a2cb-04732cecaa6e (0.08842)\n",
      "    ├── DiffPrivateSimpleDatasetPack._split_dataset-7604c235-7d7c-4279-a55d-f3ba2871457d (0.008103)\n",
      "    ├── DiffPrivateSimpleDatasetPack._filter_dataset_by_label-50a75b13-5250-4e5f-9b8e-b417351614ef (0.077874)\n",
      "    ├── DiffPrivateSimpleDatasetPack._split_dataset-a593942d-bfaa-4c83-ae3c-2d6be887eac3 (0.007519)\n",
      "    ├── DiffPrivateSimpleDatasetPack._filter_dataset_by_label-69667d8e-7d7e-4768-b9a2-91efdfbbe08e (0.089611)\n",
      "    ├── DiffPrivateSimpleDatasetPack._split_dataset-85f3d5bf-2405-4755-9789-b8fafeaae874 (0.006924)\n",
      "    ├── DiffPrivateSimpleDatasetPack._filter_dataset_by_label-3d385a21-cb9b-42f2-9d63-337ded6083f7 (0.104048)\n",
      "    ├── DiffPrivateSimpleDatasetPack._split_dataset-9bd71820-fe33-4c45-a63a-ead51c08641a (0.007301)\n",
      "    ├── DiffPrivateSimpleDatasetPack._filter_dataset_by_label-7572994c-400d-4ea5-bdc9-138dad365e1f (0.261561)\n",
      "    ├── DiffPrivateSimpleDatasetPack._split_dataset-53a44957-4b1b-4919-b16b-710b5cd08156 (0.007083)\n",
      "    ├── DiffPrivateSimpleDatasetPack._filter_dataset_by_label-8b8633d1-12b9-426a-8328-411785d52a3b (0.091575)\n",
      "    ├── DiffPrivateSimpleDatasetPack._split_dataset-62ce3799-fe9d-4190-adbd-87eda19b2ec4 (0.007553)\n",
      "    ├── DiffPrivateSimpleDatasetPack._filter_dataset_by_label-b311affa-c557-4947-ad1b-fc0006121235 (0.098508)\n",
      "    ├── DiffPrivateSimpleDatasetPack._split_dataset-2d88d4a9-685e-4318-b1ba-aaf2a497bae0 (0.006703)\n",
      "    ├── DiffPrivateSimpleDatasetPack._filter_dataset_by_label-2905b1fb-a844-4f51-98ae-701108939f4a (0.09095)\n",
      "    ├── DiffPrivateSimpleDatasetPack._split_dataset-1a19583c-6809-426c-b077-859e1c3228b9 (0.007042)\n",
      "    ├── DiffPrivateSimpleDatasetPack._filter_dataset_by_label-ba4e2d40-2a83-4b13-8a65-33de388d0009 (0.093361)\n",
      "    ├── DiffPrivateSimpleDatasetPack._split_dataset-dec334ee-bfea-492d-8311-ce5152c9cf48 (0.007023)\n",
      "    ├── DiffPrivateSimpleDatasetPack._filter_dataset_by_label-1ca319f7-0603-4e37-b120-a733dafe9148 (0.09226)\n",
      "    ├── DiffPrivateSimpleDatasetPack._split_dataset-8171ec8c-9082-4b31-ad35-760cb28a7373 (0.006829)\n",
      "    ├── DiffPrivateSimpleDatasetPack._filter_dataset_by_label-1d0a559b-f7ad-4d93-9010-0a363b0fbcf2 (0.095893)\n",
      "    ├── DiffPrivateSimpleDatasetPack._split_dataset-946c6733-cc42-4ecb-8a04-24272297b8f9 (0.00673)\n",
      "    ├── DiffPrivateSimpleDatasetPack._filter_dataset_by_label-1cca773c-493b-4cd3-96ec-d2b241484635 (0.094539)\n",
      "    ├── DiffPrivateSimpleDatasetPack._split_dataset-5053dfd2-b00b-4e63-a1f7-cd79e2278ff5 (0.006726)\n",
      "    ├── DiffPrivateSimpleDatasetPack._filter_dataset_by_label-53a716e6-e13f-40ac-bfd6-171e656f7f1c (0.241241)\n",
      "    ├── DiffPrivateSimpleDatasetPack._split_dataset-28639c7a-781b-43bb-ad21-f4a61d166e5a (0.006913)\n",
      "    ├── DiffPrivateSimpleDatasetPack._filter_dataset_by_label-27e8231e-6007-400b-9707-e6daa07438bf (0.103249)\n",
      "    ├── DiffPrivateSimpleDatasetPack._split_dataset-0e888618-f7b7-4a3e-87ca-3a0f78b28ee3 (0.011073)\n",
      "    ├── DiffPrivateSimpleDatasetPack._filter_dataset_by_label-ca7a72f2-1831-48f1-92cf-b3178b82cdcf (0.094275)\n",
      "    ├── DiffPrivateSimpleDatasetPack._split_dataset-d296e004-75ed-491b-9494-42d2e639e61c (0.007189)\n",
      "    ├── DiffPrivateSimpleDatasetPack._filter_dataset_by_label-b0fbf6f2-f4ab-46f9-89fb-271ada6b3ec4 (0.074593)\n",
      "    └── DiffPrivateSimpleDatasetPack._split_dataset-0a247d14-bfeb-4a3a-b7c4-0dea160b645e (0.007223)\n",
      "\n",
      "\n",
      "DiffPrivateSimpleDatasetPack.agenerate_dp_synthetic_example-2c48335d-55f1-40e6-b677-0014d9223f8b (30.018702)\n",
      "├── DiffPrivateSimpleDatasetPack._filter_dataset_by_label-70e81b53-ea2a-43d9-bc2b-15a575d9db7a (0.092487)\n",
      "├── DiffPrivateSimpleDatasetPack._split_dataset-d5cd3e43-ef2e-4e44-8aa3-2a2737a94563 (0.006913)\n",
      "├── DiffPrivateSimpleDatasetPack._filter_dataset_by_label-9172831c-bedc-4136-a4f9-c0579961174c (0.094146)\n",
      "├── DiffPrivateSimpleDatasetPack._split_dataset-004eac57-f317-4edd-a83e-a5a03ae3998d (0.006831)\n",
      "├── DiffPrivateSimpleDatasetPack._filter_dataset_by_label-59dac1d9-10fd-43b1-ab9d-75489c4287d8 (0.092983)\n",
      "├── DiffPrivateSimpleDatasetPack._split_dataset-207195ba-9d10-4440-bdd6-7753b0fad2e4 (0.006761)\n",
      "├── DiffPrivateSimpleDatasetPack._filter_dataset_by_label-f8099de2-4708-4808-a589-39e300ad2525 (0.092007)\n",
      "├── DiffPrivateSimpleDatasetPack._split_dataset-63056a3b-4f89-4d1f-979e-561d188bc462 (0.006621)\n",
      "├── DiffPrivateSimpleDatasetPack._filter_dataset_by_label-71877c3a-4408-4368-822f-4e8e89b17040 (0.101623)\n",
      "├── DiffPrivateSimpleDatasetPack._split_dataset-83012a6e-b231-4794-b1d9-eeeea1b9a0b0 (0.006777)\n",
      "├── DiffPrivateSimpleDatasetPack._filter_dataset_by_label-7cc6ad18-80a3-4465-b09e-1542d1fd7a08 (0.249994)\n",
      "├── DiffPrivateSimpleDatasetPack._split_dataset-95114bd4-336f-4a25-84e8-1d795d55c92a (0.006858)\n",
      "├── DiffPrivateSimpleDatasetPack._filter_dataset_by_label-f3438158-1d62-405c-9a13-93a94db25ee1 (0.079708)\n",
      "├── DiffPrivateSimpleDatasetPack._split_dataset-ee351039-d27c-4d14-9c7c-f2ac4d4045df (0.006845)\n",
      "├── DiffPrivateSimpleDatasetPack._filter_dataset_by_label-6914cad2-8871-46c9-9f6d-14cb71d92587 (0.097738)\n",
      "├── DiffPrivateSimpleDatasetPack._split_dataset-ecec842e-6fdd-42fa-b941-2163ed59af64 (0.006889)\n",
      "├── DiffPrivateSimpleDatasetPack._filter_dataset_by_label-8581ba46-8b60-4607-8f0c-332db6949490 (0.093143)\n",
      "├── DiffPrivateSimpleDatasetPack._split_dataset-97af35fc-4f68-42dc-95b3-5e06f5fec9eb (0.006839)\n",
      "├── DiffPrivateSimpleDatasetPack._filter_dataset_by_label-579405f3-aaf9-4a92-8ca2-97e64a8bd4c2 (0.088672)\n",
      "├── DiffPrivateSimpleDatasetPack._split_dataset-8fdb9fd7-df1a-40d5-be8a-ca9e71308ac3 (0.006797)\n",
      "├── DiffPrivateSimpleDatasetPack._filter_dataset_by_label-62bd22ee-39a8-41c1-b3df-435e1438167f (0.091946)\n",
      "├── DiffPrivateSimpleDatasetPack._split_dataset-7aa5e095-d32d-4b96-bbc8-acf4e8823e15 (0.006816)\n",
      "├── DiffPrivateSimpleDatasetPack._filter_dataset_by_label-d75765f2-2d49-4483-9495-ac2cf056d54d (0.096996)\n",
      "├── DiffPrivateSimpleDatasetPack._split_dataset-85dfab70-177e-4a52-ba8b-443d22339e7d (0.006719)\n",
      "├── DiffPrivateSimpleDatasetPack._filter_dataset_by_label-077fc02e-7307-4024-ba00-4ae2243b49a9 (0.071491)\n",
      "├── DiffPrivateSimpleDatasetPack._split_dataset-6578aa79-3fb7-4dbd-91bf-680ea2f5468a (0.007046)\n",
      "├── DiffPrivateSimpleDatasetPack._filter_dataset_by_label-975f1873-2320-4c87-b2b5-4cc1434171ef (0.251857)\n",
      "├── DiffPrivateSimpleDatasetPack._split_dataset-28a7e7ef-bb06-494a-8389-7105a0b6a3db (0.006835)\n",
      "├── DiffPrivateSimpleDatasetPack._filter_dataset_by_label-a247936a-e792-4b2a-b832-bb0cac58cc58 (0.095961)\n",
      "├── DiffPrivateSimpleDatasetPack._split_dataset-048bd512-7f7d-4579-befc-447434d5e621 (0.006837)\n",
      "├── DiffPrivateSimpleDatasetPack._filter_dataset_by_label-0dfd4930-5faf-4a5f-8274-732ec4f0a5d9 (0.095653)\n",
      "├── DiffPrivateSimpleDatasetPack._split_dataset-f4c8f8be-ab1f-4008-b235-5a5487d671c8 (0.006832)\n",
      "├── DiffPrivateSimpleDatasetPack._filter_dataset_by_label-9567f37d-f829-44fb-9b0f-bf4161222dd8 (0.081986)\n",
      "├── DiffPrivateSimpleDatasetPack._split_dataset-cc521be6-5107-4ea1-a801-a688012bb94a (0.006922)\n",
      "├── DiffPrivateSimpleDatasetPack._filter_dataset_by_label-62a6a3fa-fa33-4995-9500-dd35696d7de9 (0.093067)\n",
      "├── DiffPrivateSimpleDatasetPack._split_dataset-00ab1a70-470a-48fc-aaf4-d17ac0067306 (0.006756)\n",
      "├── DiffPrivateSimpleDatasetPack._filter_dataset_by_label-292d4895-dd96-45bf-9fba-68a0ae5805c9 (0.094553)\n",
      "├── DiffPrivateSimpleDatasetPack._split_dataset-a93f405c-79d5-4973-8721-ef0d70e82a1e (0.006801)\n",
      "├── DiffPrivateSimpleDatasetPack._filter_dataset_by_label-4d8f332a-3a7e-41f7-b0d7-34d7f749e1fb (0.087861)\n",
      "├── DiffPrivateSimpleDatasetPack._split_dataset-b3f26537-d3e9-4af6-8893-c7ea5f316db6 (0.006818)\n",
      "├── DiffPrivateSimpleDatasetPack._filter_dataset_by_label-d80a36a0-1558-4e06-84d1-44bfb9088dcd (0.092004)\n",
      "├── DiffPrivateSimpleDatasetPack._split_dataset-487460e7-69f0-4870-806a-cb336f576ec2 (0.006742)\n",
      "├── DiffPrivateSimpleDatasetPack._filter_dataset_by_label-354070a9-480e-4286-8776-02654ef8f095 (0.248847)\n",
      "├── DiffPrivateSimpleDatasetPack._split_dataset-2cba4662-61e4-406e-bdf4-292d8304149c (0.006813)\n",
      "├── DiffPrivateSimpleDatasetPack._filter_dataset_by_label-d7bfefa5-2bc1-4b36-a9ad-fd436466e77a (0.096579)\n",
      "├── DiffPrivateSimpleDatasetPack._split_dataset-9efe1079-eb48-42db-b40f-a2f5d3b4a63d (0.006738)\n",
      "├── DiffPrivateSimpleDatasetPack._filter_dataset_by_label-31e88207-4559-48ca-9644-bc0b32e767c9 (0.093081)\n",
      "├── DiffPrivateSimpleDatasetPack._split_dataset-771535cf-9eef-4920-b888-5fc0ffdec8bf (0.006795)\n",
      "├── DiffPrivateSimpleDatasetPack._filter_dataset_by_label-800db110-f699-4f9a-90f2-af1f0c6d9809 (0.094971)\n",
      "├── DiffPrivateSimpleDatasetPack._split_dataset-20bd1ae7-88c2-4c41-bcf6-0ce47b7e1aa5 (0.006765)\n",
      "├── DiffPrivateSimpleDatasetPack._filter_dataset_by_label-98379e40-739e-4976-bf33-ecae4e7dfc77 (0.092737)\n",
      "├── DiffPrivateSimpleDatasetPack._split_dataset-8adfebae-6062-486d-b797-c58c6a3af83a (0.006851)\n",
      "├── DiffPrivateSimpleDatasetPack._filter_dataset_by_label-49a467be-8c43-4f93-9b6b-1655c284392a (0.088987)\n",
      "├── DiffPrivateSimpleDatasetPack._split_dataset-2aa84e61-be37-48fd-86ee-3ac51317381f (0.006895)\n",
      "├── DiffPrivateSimpleDatasetPack._filter_dataset_by_label-f162b8ea-39c9-4335-8c17-88249e4c9ebe (0.064497)\n",
      "├── DiffPrivateSimpleDatasetPack._split_dataset-8edb5f51-8246-48e9-9761-a80963bbf23b (0.007565)\n",
      "├── DiffPrivateSimpleDatasetPack._filter_dataset_by_label-7a1926d9-5cdc-4bda-be29-800f37a2641f (0.071823)\n",
      "├── DiffPrivateSimpleDatasetPack._split_dataset-faae4bc1-cc65-43df-bc06-c432dab90e98 (0.006974)\n",
      "├── DiffPrivateSimpleDatasetPack._filter_dataset_by_label-1b7ea7ca-26a9-40ea-9521-cd77fa2c8909 (0.095081)\n",
      "├── DiffPrivateSimpleDatasetPack._split_dataset-87356e6c-0b1f-4821-a226-d362088725de (0.006856)\n",
      "├── DiffPrivateSimpleDatasetPack._filter_dataset_by_label-5766aaae-f770-4d52-bf7e-428db2114a6c (0.252246)\n",
      "├── DiffPrivateSimpleDatasetPack._split_dataset-4f232ad4-bb84-4214-b724-f59548d2da63 (0.006894)\n",
      "├── DiffPrivateSimpleDatasetPack._filter_dataset_by_label-cef6e12f-6fa6-4002-a264-c25363d8bc40 (0.097719)\n",
      "├── DiffPrivateSimpleDatasetPack._split_dataset-ece292d6-1257-4e48-a55f-d2b2359fa908 (0.006739)\n",
      "├── DiffPrivateSimpleDatasetPack._filter_dataset_by_label-8a39d7fb-692e-4867-90aa-9bc142adbd8a (0.073674)\n",
      "├── DiffPrivateSimpleDatasetPack._split_dataset-1e4ef41d-2320-4344-be6e-c16c50f5995b (0.006725)\n",
      "├── DiffPrivateSimpleDatasetPack._filter_dataset_by_label-1b43a9f6-1c95-4063-85e9-68e9aa856249 (0.094684)\n",
      "├── DiffPrivateSimpleDatasetPack._split_dataset-46725f53-c791-48ff-b021-e977dfd6bbcf (0.00681)\n",
      "├── DiffPrivateSimpleDatasetPack._filter_dataset_by_label-d83c0f6e-b7fc-4bb5-bdfb-7ef980e71128 (0.096218)\n",
      "└── DiffPrivateSimpleDatasetPack._split_dataset-bf84d5bc-b163-42e6-b2de-7d82cdf255e3 (0.006888)\n",
      "\n",
      "\n",
      "DiffPrivateSimpleDatasetPack.run-d4ef9851-0f9d-4838-867b-0cbd98ab2b9e (11.783941)\n",
      "├── DiffPrivateSimpleDatasetPack.generate_dp_synthetic_example-0c7d28dc-c165-48e2-aa53-fe173823362f (6.526103)\n",
      "│   └── DiffPrivateSimpleDatasetPack.agenerate_dp_synthetic_example-9397c437-eeba-4d5e-bff0-fa68a2244573 (6.525843)\n",
      "│       ├── DiffPrivateSimpleDatasetPack._filter_dataset_by_label-8881ceaa-42bb-40b9-937a-f3120277247a (0.096805)\n",
      "│       ├── DiffPrivateSimpleDatasetPack._split_dataset-a87ff20b-6f31-4b88-b95f-e3fbdc71b3db (0.006883)\n",
      "│       ├── DiffPrivateSimpleDatasetPack._filter_dataset_by_label-325728d4-9dae-45e8-8914-fcd28210e5d3 (0.096104)\n",
      "│       ├── DiffPrivateSimpleDatasetPack._split_dataset-9468694e-8115-4281-b355-9ce9d2345423 (0.006704)\n",
      "│       ├── DiffPrivateSimpleDatasetPack._filter_dataset_by_label-8eba2d53-8e2d-4a4f-927a-f1cca876051c (0.096313)\n",
      "│       ├── DiffPrivateSimpleDatasetPack._split_dataset-ccb6ffcd-c316-4038-a044-afd1fd24a851 (0.00679)\n",
      "│       ├── DiffPrivateSimpleDatasetPack._filter_dataset_by_label-04467ce1-b5c0-430c-9773-2126c0f12d4e (0.245374)\n",
      "│       ├── DiffPrivateSimpleDatasetPack._split_dataset-3752d859-5bdb-4b67-90e0-35f5e8a9c180 (0.006832)\n",
      "│       ├── DiffPrivateSimpleDatasetPack._filter_dataset_by_label-3f6f28f2-3839-4f9b-99e6-e78af064ca93 (0.09476)\n",
      "│       └── DiffPrivateSimpleDatasetPack._split_dataset-7e3d1820-feb7-4bd8-9b5b-70992c505a35 (0.006741)\n",
      "└── DiffPrivateSimpleDatasetPack.generate_dp_synthetic_example-4242d770-086c-446f-b85d-e42536e08b04 (5.257542)\n",
      "    └── DiffPrivateSimpleDatasetPack.agenerate_dp_synthetic_example-70318613-b724-48fe-b2ea-0ff15b95517f (5.257301)\n",
      "        ├── DiffPrivateSimpleDatasetPack._filter_dataset_by_label-b7f0c8c7-7f49-406e-b38d-36c2ebec34f8 (0.092678)\n",
      "        ├── DiffPrivateSimpleDatasetPack._split_dataset-a74f5820-4790-4341-b3d9-942167ba67aa (0.006837)\n",
      "        ├── DiffPrivateSimpleDatasetPack._filter_dataset_by_label-6fd01abb-0943-4786-bffa-6fa6eee4fbd3 (0.091532)\n",
      "        ├── DiffPrivateSimpleDatasetPack._split_dataset-975fc128-ca69-40fe-8ef0-443ae693821d (0.007085)\n",
      "        ├── DiffPrivateSimpleDatasetPack._filter_dataset_by_label-3c658609-c1c3-443d-b550-ff9ba5f5d44a (0.090319)\n",
      "        ├── DiffPrivateSimpleDatasetPack._split_dataset-ef4aa044-d024-436c-a360-58b7bc2e902c (0.006838)\n",
      "        ├── DiffPrivateSimpleDatasetPack._filter_dataset_by_label-1a7d0796-1dfc-42ab-8b05-28177ce10ae8 (0.078378)\n",
      "        ├── DiffPrivateSimpleDatasetPack._split_dataset-94371c74-c29b-4602-93ed-688262eeab49 (0.007624)\n",
      "        ├── DiffPrivateSimpleDatasetPack._filter_dataset_by_label-1574cb56-7c1b-4556-a780-894f07fd9199 (0.094251)\n",
      "        └── DiffPrivateSimpleDatasetPack._split_dataset-f89c1265-03cb-4d86-8f37-43fef1e36e31 (0.00693)\n",
      "\n",
      "\n"
     ]
    }
   ],
   "source": [
    "span_handler.print_trace_trees()"
   ]
  }
 ],
 "metadata": {
  "kernelspec": {
   "display_name": "diff-privacy",
   "language": "python",
   "name": "diff-privacy"
  },
  "language_info": {
   "codemirror_mode": {
    "name": "ipython",
    "version": 3
   },
   "file_extension": ".py",
   "mimetype": "text/x-python",
   "name": "python",
   "nbconvert_exporter": "python",
   "pygments_lexer": "ipython3"
  }
 },
 "nbformat": 4,
 "nbformat_minor": 5
}
