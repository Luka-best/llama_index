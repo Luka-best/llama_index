{
 "cells": [
  {
   "cell_type": "code",
   "execution_count": null,
   "id": "a3a3a21f-b6d0-4a3d-9a2f-e9fd7d9e9e0a",
   "metadata": {},
   "outputs": [
    {
     "name": "stdout",
     "output_type": "stream",
     "text": [
      "Note: you may need to restart the kernel to use updated packages.\n"
     ]
    }
   ],
   "source": [
    "%pip install treelib -q"
   ]
  },
  {
   "cell_type": "code",
   "execution_count": null,
   "id": "1e08d647-343f-4278-882b-1c080e719310",
   "metadata": {},
   "outputs": [],
   "source": [
    "import nest_asyncio\n",
    "\n",
    "nest_asyncio.apply()"
   ]
  },
  {
   "cell_type": "code",
   "execution_count": null,
   "id": "37b9c7e0-f028-4102-b8c9-f6b5e1f678a7",
   "metadata": {},
   "outputs": [],
   "source": [
    "from llama_index.core.instrumentation.event_handlers import BaseEventHandler\n",
    "\n",
    "\n",
    "class MyEventHandler(BaseEventHandler):\n",
    "    @classmethod\n",
    "    def class_name(cls) -> str:\n",
    "        \"\"\"Class name.\"\"\"\n",
    "        return \"MyEventHandler\"\n",
    "\n",
    "    def handle(self, event) -> None:\n",
    "        \"\"\"Logic for handling event.\"\"\"\n",
    "        # THIS IS WHERE YOU ADD YOUR LOGIC TO HANDLE EVENTS\n",
    "        print(\n",
    "            str(event.dict())[:125] + \" ...\"\n",
    "        )  # to avoid printing everything in this notebook\n",
    "        print(\"\")\n",
    "        with open(\"log.txt\", \"a\") as f:\n",
    "            f.write(str(event))\n",
    "            f.write(\"\\n\")"
   ]
  },
  {
   "cell_type": "code",
   "execution_count": null,
   "id": "6d17533f-fe63-4547-b3ce-cf8f76bec599",
   "metadata": {},
   "outputs": [],
   "source": [
    "from llama_index.core.instrumentation.span_handlers import SimpleSpanHandler\n",
    "import llama_index.core.instrumentation as instrument\n",
    "\n",
    "span_handler = SimpleSpanHandler()\n",
    "dispatcher = instrument.get_dispatcher()\n",
    "dispatcher.add_span_handler(span_handler)\n",
    "\n",
    "app_dispatcher = instrument.get_dispatcher(\"app\")\n",
    "app_dispatcher.add_event_handler(MyEventHandler())"
   ]
  },
  {
   "cell_type": "code",
   "execution_count": null,
   "id": "013f873a-5157-4c39-a277-01ced6f7de9c",
   "metadata": {},
   "outputs": [],
   "source": [
    "from llama_index.core.llama_dataset.simple import LabelledSimpleDataset\n",
    "from llama_index.packs.diff_private_simple_dataset.base import PromptBundle\n",
    "from llama_index.packs.diff_private_simple_dataset import DiffPrivateSimpleDatasetPack\n",
    "from llama_index.llms.openai import OpenAI\n",
    "import tiktoken"
   ]
  },
  {
   "cell_type": "markdown",
   "id": "53a3bed2-d702-4765-8366-cdedfafc10e2",
   "metadata": {},
   "source": [
    "### Load LabelledSimpleDataset"
   ]
  },
  {
   "cell_type": "code",
   "execution_count": null,
   "id": "a4c06c01-5450-43e5-bd31-837ec02dea33",
   "metadata": {},
   "outputs": [],
   "source": [
    "simple_dataset = LabelledSimpleDataset.from_json(\"./agnews.json\")"
   ]
  },
  {
   "cell_type": "code",
   "execution_count": null,
   "id": "d4d98604-fc39-4ff5-8396-6d70a039bebc",
   "metadata": {},
   "outputs": [
    {
     "data": {
      "text/html": [
       "<div>\n",
       "<style scoped>\n",
       "    .dataframe tbody tr th:only-of-type {\n",
       "        vertical-align: middle;\n",
       "    }\n",
       "\n",
       "    .dataframe tbody tr th {\n",
       "        vertical-align: top;\n",
       "    }\n",
       "\n",
       "    .dataframe thead th {\n",
       "        text-align: right;\n",
       "    }\n",
       "</style>\n",
       "<table border=\"1\" class=\"dataframe\">\n",
       "  <thead>\n",
       "    <tr style=\"text-align: right;\">\n",
       "      <th></th>\n",
       "      <th>reference_label</th>\n",
       "      <th>text</th>\n",
       "      <th>text_by</th>\n",
       "    </tr>\n",
       "  </thead>\n",
       "  <tbody>\n",
       "    <tr>\n",
       "      <th>0</th>\n",
       "      <td>Business</td>\n",
       "      <td>Wall St. Bears Claw Back Into the Black (Reute...</td>\n",
       "      <td>human</td>\n",
       "    </tr>\n",
       "    <tr>\n",
       "      <th>1</th>\n",
       "      <td>Business</td>\n",
       "      <td>Carlyle Looks Toward Commercial Aerospace (Reu...</td>\n",
       "      <td>human</td>\n",
       "    </tr>\n",
       "    <tr>\n",
       "      <th>2</th>\n",
       "      <td>Business</td>\n",
       "      <td>Oil and Economy Cloud Stocks' Outlook (Reuters...</td>\n",
       "      <td>human</td>\n",
       "    </tr>\n",
       "    <tr>\n",
       "      <th>3</th>\n",
       "      <td>Business</td>\n",
       "      <td>Iraq Halts Oil Exports from Main Southern Pipe...</td>\n",
       "      <td>human</td>\n",
       "    </tr>\n",
       "    <tr>\n",
       "      <th>4</th>\n",
       "      <td>Business</td>\n",
       "      <td>Oil prices soar to all-time record, posing new...</td>\n",
       "      <td>human</td>\n",
       "    </tr>\n",
       "  </tbody>\n",
       "</table>\n",
       "</div>"
      ],
      "text/plain": [
       "  reference_label                                               text text_by\n",
       "0        Business  Wall St. Bears Claw Back Into the Black (Reute...   human\n",
       "1        Business  Carlyle Looks Toward Commercial Aerospace (Reu...   human\n",
       "2        Business  Oil and Economy Cloud Stocks' Outlook (Reuters...   human\n",
       "3        Business  Iraq Halts Oil Exports from Main Southern Pipe...   human\n",
       "4        Business  Oil prices soar to all-time record, posing new...   human"
      ]
     },
     "execution_count": null,
     "metadata": {},
     "output_type": "execute_result"
    }
   ],
   "source": [
    "simple_dataset.to_pandas()[:5]"
   ]
  },
  {
   "cell_type": "code",
   "execution_count": null,
   "id": "afe67738-12d5-4a85-aa70-0510bc772038",
   "metadata": {},
   "outputs": [
    {
     "data": {
      "text/plain": [
       "reference_label\n",
       "Business    30000\n",
       "Sci/Tech    30000\n",
       "Sports      30000\n",
       "World       30000\n",
       "Name: count, dtype: int64"
      ]
     },
     "execution_count": null,
     "metadata": {},
     "output_type": "execute_result"
    }
   ],
   "source": [
    "simple_dataset.to_pandas().value_counts(\"reference_label\")"
   ]
  },
  {
   "cell_type": "markdown",
   "id": "d2baaff8-6c3d-45bf-8e24-0c59d11bd70c",
   "metadata": {},
   "source": [
    "### InstantiatePack"
   ]
  },
  {
   "cell_type": "code",
   "execution_count": null,
   "id": "6671b450-04c5-4aa4-bbb3-90d2c2acf4fa",
   "metadata": {},
   "outputs": [],
   "source": [
    "llm = OpenAI(\n",
    "    model=\"gpt-3.5-turbo-instruct\",\n",
    "    max_tokens=1,\n",
    "    logprobs=True,\n",
    "    top_logprobs=5,\n",
    ")\n",
    "tokenizer = tiktoken.encoding_for_model(\"gpt-3.5-turbo-instruct\")\n",
    "\n",
    "prompt_bundle = PromptBundle(\n",
    "    instruction=(\n",
    "        \"Given a label of news type, generate the chosen type of news accordingly.\\n\"\n",
    "        \"Start your answer directly after 'Text: '. Begin your answer with [RESULT].\\n\"\n",
    "    ),\n",
    "    label_heading=\"News Type\",\n",
    "    text_heading=\"Text\",\n",
    ")\n",
    "\n",
    "dp_simple_dataset_pack = DiffPrivateSimpleDatasetPack(\n",
    "    llm=llm,\n",
    "    tokenizer=tokenizer,\n",
    "    prompt_bundle=prompt_bundle,\n",
    "    simple_dataset=simple_dataset,\n",
    ")"
   ]
  },
  {
   "cell_type": "code",
   "execution_count": null,
   "id": "7f6f266c-5c7e-4d7f-b690-bbaf30ac6bb2",
   "metadata": {},
   "outputs": [
    {
     "name": "stderr",
     "output_type": "stream",
     "text": [
      "100%|█████████████████████████████████████████████████████████████████████████████████████| 35/35 [00:19<00:00,  1.75it/s]\n"
     ]
    },
    {
     "data": {
      "text/plain": [
       "LabelledSimpleDataExample(reference_label='Sports', text='The New York Yankees defeat the Tampa Bay Rays 5-3 in a thrilling game at Yankee Stadium. Aaron Judge hits a walk-off', text_by=CreatedBy(model_name='gpt-3.5-turbo-instruct', type=<CreatedByType.AI: 'ai'>))"
      ]
     },
     "execution_count": null,
     "metadata": {},
     "output_type": "execute_result"
    }
   ],
   "source": [
    "dp_simple_dataset_pack.generate_dp_synthetic_example(\n",
    "    label=\"Sports\", t_max=35, sigma=0.1, num_splits=2, num_samples_per_split=8\n",
    ")"
   ]
  },
  {
   "cell_type": "code",
   "execution_count": null,
   "id": "5ef627b7-5226-4aa7-a158-7f9836e26480",
   "metadata": {},
   "outputs": [
    {
     "name": "stderr",
     "output_type": "stream",
     "text": [
      "100%|█████████████████████████████████████████████████████████████████████████████████████| 35/35 [00:20<00:00,  1.70it/s]\n"
     ]
    },
    {
     "data": {
      "text/plain": [
       "LabelledSimpleDataExample(reference_label='Sports', text='The NBA Finals are set to begin on Tuesday, with the Los Angeles Lakers facing off against the Miami Heat. The Lakers are led by superstar LeBron James, while', text_by=CreatedBy(model_name='gpt-3.5-turbo-instruct', type=<CreatedByType.AI: 'ai'>))"
      ]
     },
     "execution_count": null,
     "metadata": {},
     "output_type": "execute_result"
    }
   ],
   "source": [
    "await dp_simple_dataset_pack.agenerate_dp_synthetic_example(\n",
    "    label=\"Sports\", t_max=35, sigma=0.1, num_splits=2, num_samples_per_split=8\n",
    ")"
   ]
  },
  {
   "cell_type": "code",
   "execution_count": null,
   "id": "cb0bd383-2ecd-4edb-bea2-bd5fc1a663c8",
   "metadata": {},
   "outputs": [
    {
     "name": "stderr",
     "output_type": "stream",
     "text": [
      "100%|███████████████████████████████████████████████████████████████████████████████████████| 5/5 [00:03<00:00,  1.61it/s]\n",
      "100%|███████████████████████████████████████████████████████████████████████████████████████| 5/5 [00:11<00:00,  2.38s/it]\n",
      "100%|███████████████████████████████████████████████████████████████████████████████████████| 2/2 [00:11<00:00,  5.96s/it]\n"
     ]
    }
   ],
   "source": [
    "synthetic_dataset = await dp_simple_dataset_pack.arun(\n",
    "    sizes={\"World\": 1, \"Sports\": 1, \"Sci/Tech\": 0, \"Business\": 0},\n",
    "    t_max=5,\n",
    "    sigma=0.5,\n",
    "    num_splits=3,\n",
    "    num_samples_per_split=8,\n",
    ")"
   ]
  },
  {
   "cell_type": "code",
   "execution_count": null,
   "id": "346677df-038f-400c-bc21-69d45705f212",
   "metadata": {},
   "outputs": [
    {
     "data": {
      "text/html": [
       "<div>\n",
       "<style scoped>\n",
       "    .dataframe tbody tr th:only-of-type {\n",
       "        vertical-align: middle;\n",
       "    }\n",
       "\n",
       "    .dataframe tbody tr th {\n",
       "        vertical-align: top;\n",
       "    }\n",
       "\n",
       "    .dataframe thead th {\n",
       "        text-align: right;\n",
       "    }\n",
       "</style>\n",
       "<table border=\"1\" class=\"dataframe\">\n",
       "  <thead>\n",
       "    <tr style=\"text-align: right;\">\n",
       "      <th></th>\n",
       "      <th>reference_label</th>\n",
       "      <th>text</th>\n",
       "      <th>text_by</th>\n",
       "    </tr>\n",
       "  </thead>\n",
       "  <tbody>\n",
       "    <tr>\n",
       "      <th>0</th>\n",
       "      <td>World</td>\n",
       "      <td></td>\n",
       "      <td>ai (gpt-3.5-turbo-instruct)</td>\n",
       "    </tr>\n",
       "    <tr>\n",
       "      <th>1</th>\n",
       "      <td>Sports</td>\n",
       "      <td>The latest</td>\n",
       "      <td>ai (gpt-3.5-turbo-instruct)</td>\n",
       "    </tr>\n",
       "  </tbody>\n",
       "</table>\n",
       "</div>"
      ],
      "text/plain": [
       "  reference_label        text                      text_by\n",
       "0           World              ai (gpt-3.5-turbo-instruct)\n",
       "1          Sports  The latest  ai (gpt-3.5-turbo-instruct)"
      ]
     },
     "execution_count": null,
     "metadata": {},
     "output_type": "execute_result"
    }
   ],
   "source": [
    "synthetic_dataset.to_pandas()"
   ]
  },
  {
   "cell_type": "code",
   "execution_count": null,
   "id": "0a96d3e8-7653-443e-880c-891d8c996f95",
   "metadata": {},
   "outputs": [
    {
     "name": "stdout",
     "output_type": "stream",
     "text": [
      "\n"
     ]
    }
   ],
   "source": [
    "print(synthetic_dataset.to_pandas().iloc[0].text)"
   ]
  },
  {
   "cell_type": "code",
   "execution_count": null,
   "id": "b7e6ebb5-b6d5-44d5-a751-fcdb6163347b",
   "metadata": {},
   "outputs": [
    {
     "name": "stdout",
     "output_type": "stream",
     "text": [
      "The latest\n"
     ]
    }
   ],
   "source": [
    "print(synthetic_dataset.to_pandas().iloc[1].text)"
   ]
  },
  {
   "cell_type": "code",
   "execution_count": null,
   "id": "99f2a3f2-7cd0-4b75-95bf-67ee6f7603b5",
   "metadata": {},
   "outputs": [
    {
     "name": "stdout",
     "output_type": "stream",
     "text": [
      "DiffPrivateSimpleDatasetPack.generate_dp_synthetic_example-b6a9433d-7122-48ec-8ac9-887c89b5cb24 (19.972498)\n",
      "└── DiffPrivateSimpleDatasetPack.agenerate_dp_synthetic_example-b427f199-1c9f-49a8-8c8e-d8a3435bbeb9 (19.971644)\n",
      "    ├── DiffPrivateSimpleDatasetPack._filter_dataset_by_label-f0f32888-7883-4fa2-87f7-5a29ab34ca82 (0.084942)\n",
      "    ├── DiffPrivateSimpleDatasetPack._split_dataset-2f50d28b-f16c-4f15-ac7c-27bf4bed48b9 (0.006806)\n",
      "    ├── DiffPrivateSimpleDatasetPack._filter_dataset_by_label-80070744-abc5-4f7e-aa07-e41d360b5b79 (0.092045)\n",
      "    ├── DiffPrivateSimpleDatasetPack._split_dataset-daec71b0-b149-43cc-a378-0cf118dd7982 (0.006882)\n",
      "    ├── DiffPrivateSimpleDatasetPack._filter_dataset_by_label-57a5c78b-4ddd-48f6-afca-e44566d6dca9 (0.095239)\n",
      "    ├── DiffPrivateSimpleDatasetPack._split_dataset-3ec8be81-60d1-4891-a124-cdcf9046cee7 (0.007076)\n",
      "    ├── DiffPrivateSimpleDatasetPack._filter_dataset_by_label-24316f38-6940-468c-bc6e-f76aa7c3a83c (0.093037)\n",
      "    ├── DiffPrivateSimpleDatasetPack._split_dataset-9002616f-24bd-46cf-a7a5-3e5f322d6f9b (0.006795)\n",
      "    ├── DiffPrivateSimpleDatasetPack._filter_dataset_by_label-e518421a-96fb-4803-b5e1-14fc6e79c960 (0.082335)\n",
      "    ├── DiffPrivateSimpleDatasetPack._split_dataset-909c092c-98a7-47c5-a14c-706e529c65f7 (0.006852)\n",
      "    ├── DiffPrivateSimpleDatasetPack._filter_dataset_by_label-96aa911c-0cfe-43ca-8af8-2be392f71144 (0.093041)\n",
      "    ├── DiffPrivateSimpleDatasetPack._split_dataset-a7a9ac8e-4c48-44a2-938a-ae4dc0cc680b (0.006852)\n",
      "    ├── DiffPrivateSimpleDatasetPack._filter_dataset_by_label-0fa23bf8-480d-4d94-a208-ed7463b3e5c7 (0.253794)\n",
      "    ├── DiffPrivateSimpleDatasetPack._split_dataset-36d29230-fe0e-45f1-86c9-d13df63c6787 (0.006872)\n",
      "    ├── DiffPrivateSimpleDatasetPack._filter_dataset_by_label-964fba67-a9db-492e-8ff4-4e033e2d0aa3 (0.088193)\n",
      "    ├── DiffPrivateSimpleDatasetPack._split_dataset-29354b82-1057-438d-9f8f-feb4df540f90 (0.006753)\n",
      "    ├── DiffPrivateSimpleDatasetPack._filter_dataset_by_label-7cb661f8-fd5f-4e71-8000-a1b4553fa128 (0.092293)\n",
      "    ├── DiffPrivateSimpleDatasetPack._split_dataset-1a9cf5f5-b3ef-49bb-af9f-38de251a061b (0.006761)\n",
      "    ├── DiffPrivateSimpleDatasetPack._filter_dataset_by_label-2adaf2da-e414-4c39-977d-e3e2be0fca34 (0.095325)\n",
      "    ├── DiffPrivateSimpleDatasetPack._split_dataset-766fe9e7-3526-4d3c-9318-d125c844fdb3 (0.006838)\n",
      "    ├── DiffPrivateSimpleDatasetPack._filter_dataset_by_label-e6bccb26-9d9c-4cc0-9309-f7406cbe46a6 (0.097843)\n",
      "    ├── DiffPrivateSimpleDatasetPack._split_dataset-07d75d14-cb37-4b65-8cc5-eaef9d38bd88 (0.006807)\n",
      "    ├── DiffPrivateSimpleDatasetPack._filter_dataset_by_label-e04cc3c4-a6fa-48fe-9dae-709ce8324435 (0.094492)\n",
      "    ├── DiffPrivateSimpleDatasetPack._split_dataset-01f64e5b-8d28-4d6c-b368-09c7061bf529 (0.006839)\n",
      "    ├── DiffPrivateSimpleDatasetPack._filter_dataset_by_label-48ebe3c8-f0a6-471e-8efd-75a5c88ffe96 (0.091538)\n",
      "    ├── DiffPrivateSimpleDatasetPack._split_dataset-ca43521e-e52e-4a7b-9f74-07d380a44fc4 (0.006732)\n",
      "    ├── DiffPrivateSimpleDatasetPack._filter_dataset_by_label-3c95d6e3-9172-4a69-b2d1-2650df91ffd7 (0.089269)\n",
      "    ├── DiffPrivateSimpleDatasetPack._split_dataset-8f9822b7-52bd-41c4-8223-e64610d0d2a8 (0.006775)\n",
      "    ├── DiffPrivateSimpleDatasetPack._filter_dataset_by_label-2c5e92e5-3a5c-49e6-bf73-7f9fd3780c6c (0.298211)\n",
      "    ├── DiffPrivateSimpleDatasetPack._split_dataset-c09a53b8-3817-4944-92fd-9966aa2eaea5 (0.007517)\n",
      "    ├── DiffPrivateSimpleDatasetPack._filter_dataset_by_label-f83dbd1e-4f2f-4f56-90aa-5008c593aa26 (0.075381)\n",
      "    ├── DiffPrivateSimpleDatasetPack._split_dataset-e480123e-c8c3-4423-bfe7-94375a3f5926 (0.007684)\n",
      "    ├── DiffPrivateSimpleDatasetPack._filter_dataset_by_label-893c4d0d-28d8-4d8a-9e4f-ad636be01c05 (0.071891)\n",
      "    ├── DiffPrivateSimpleDatasetPack._split_dataset-98bd99df-7101-4c7b-ae80-c3e4bb73b60d (0.007122)\n",
      "    ├── DiffPrivateSimpleDatasetPack._filter_dataset_by_label-7df09904-5de9-4b7d-bde3-bfe2ee966e01 (0.072565)\n",
      "    ├── DiffPrivateSimpleDatasetPack._split_dataset-36c71072-138f-4bb0-a61c-25677325608b (0.007152)\n",
      "    ├── DiffPrivateSimpleDatasetPack._filter_dataset_by_label-a3bf4d92-4bd3-40c9-b687-c05fffb9d47b (0.069433)\n",
      "    ├── DiffPrivateSimpleDatasetPack._split_dataset-e1fe132f-afff-4a1c-b35b-e297168220cf (0.007266)\n",
      "    ├── DiffPrivateSimpleDatasetPack._filter_dataset_by_label-4e52ee84-67aa-499b-81b6-fdaca54c0066 (0.070352)\n",
      "    ├── DiffPrivateSimpleDatasetPack._split_dataset-98a2ff06-b582-4f60-8793-20de1fefc220 (0.007133)\n",
      "    ├── DiffPrivateSimpleDatasetPack._filter_dataset_by_label-95b19875-1a50-4cd4-a4f8-2f3f78ba3fb3 (0.07674)\n",
      "    ├── DiffPrivateSimpleDatasetPack._split_dataset-90d0fde1-1cdb-479b-9ce2-9e0b5f2b9564 (0.00736)\n",
      "    ├── DiffPrivateSimpleDatasetPack._filter_dataset_by_label-3595d8e6-8967-4659-8c94-8ab770785ce6 (0.090127)\n",
      "    ├── DiffPrivateSimpleDatasetPack._split_dataset-d0a8e350-c436-42e7-83c2-e6c7ce6156bf (0.006889)\n",
      "    ├── DiffPrivateSimpleDatasetPack._filter_dataset_by_label-1a4b7b97-ab3f-4ff5-906b-af70f85fd132 (0.084368)\n",
      "    ├── DiffPrivateSimpleDatasetPack._split_dataset-7fb455cb-13fc-41f8-bfa5-16ef77e6fda0 (0.006879)\n",
      "    ├── DiffPrivateSimpleDatasetPack._filter_dataset_by_label-6d43bc2d-7d96-44f6-83d7-5aff659cb808 (0.248784)\n",
      "    ├── DiffPrivateSimpleDatasetPack._split_dataset-7f586381-f9c8-46db-8688-f8155f58e13b (0.006787)\n",
      "    ├── DiffPrivateSimpleDatasetPack._filter_dataset_by_label-15d07642-e38f-4705-b1aa-4a965ec2f69a (0.094364)\n",
      "    ├── DiffPrivateSimpleDatasetPack._split_dataset-5c385054-411c-421f-8200-bab77f0c17fc (0.006775)\n",
      "    ├── DiffPrivateSimpleDatasetPack._filter_dataset_by_label-8c68eada-42fe-41f8-ac1d-e51c2d387a4f (0.091438)\n",
      "    ├── DiffPrivateSimpleDatasetPack._split_dataset-1cfed503-b00b-45c1-aabc-a118cd8a702c (0.006815)\n",
      "    ├── DiffPrivateSimpleDatasetPack._filter_dataset_by_label-fa4daea8-3af2-4d84-8b93-b55de19ca15c (0.090092)\n",
      "    ├── DiffPrivateSimpleDatasetPack._split_dataset-fc6bea31-26c4-4ed4-9eb8-f15d360eccbd (0.006722)\n",
      "    ├── DiffPrivateSimpleDatasetPack._filter_dataset_by_label-837a142c-215b-4c43-a6e4-03d89fb2cf77 (0.094651)\n",
      "    ├── DiffPrivateSimpleDatasetPack._split_dataset-87e1882b-8dcb-4930-a3c9-b8de67af0eb0 (0.006857)\n",
      "    ├── DiffPrivateSimpleDatasetPack._filter_dataset_by_label-7764069a-6e96-4fc1-b3fc-310cb5a2a698 (0.090203)\n",
      "    ├── DiffPrivateSimpleDatasetPack._split_dataset-e5fbfeb5-1f89-4569-95f8-b04baba4c0b3 (0.006759)\n",
      "    ├── DiffPrivateSimpleDatasetPack._filter_dataset_by_label-5530adf9-e815-4da6-a5ea-84500e5d8a57 (0.088909)\n",
      "    ├── DiffPrivateSimpleDatasetPack._split_dataset-558e2495-c46d-49f2-aa36-d406d7893cef (0.006799)\n",
      "    ├── DiffPrivateSimpleDatasetPack._filter_dataset_by_label-1bcd4f40-207e-40b9-9d13-80bcad675d1e (0.090897)\n",
      "    ├── DiffPrivateSimpleDatasetPack._split_dataset-8973d0ff-a45d-4bdc-8066-b6d6fb581256 (0.006755)\n",
      "    ├── DiffPrivateSimpleDatasetPack._filter_dataset_by_label-8db18b96-f7ef-4581-afb8-48d4ffc1e052 (0.240552)\n",
      "    ├── DiffPrivateSimpleDatasetPack._split_dataset-81898970-1b74-427b-a327-0b0acdc92e3a (0.006847)\n",
      "    ├── DiffPrivateSimpleDatasetPack._filter_dataset_by_label-f4b6a322-1da7-42e7-82da-36db3d550bb8 (0.090006)\n",
      "    ├── DiffPrivateSimpleDatasetPack._split_dataset-2036e42a-f0c7-44d9-be56-f7d7ffb18fd5 (0.006774)\n",
      "    ├── DiffPrivateSimpleDatasetPack._filter_dataset_by_label-6673aba3-5561-4c78-b67e-5788203c4d34 (0.085529)\n",
      "    ├── DiffPrivateSimpleDatasetPack._split_dataset-d0cd1d4a-74a7-4361-bf4c-f9b440b5a72b (0.006707)\n",
      "    ├── DiffPrivateSimpleDatasetPack._filter_dataset_by_label-4b62b383-40e7-4467-98bc-22e94ae73a70 (0.099797)\n",
      "    └── DiffPrivateSimpleDatasetPack._split_dataset-eb92fa57-f990-4d95-acb5-5391b4339172 (0.006889)\n",
      "\n",
      "\n",
      "DiffPrivateSimpleDatasetPack.agenerate_dp_synthetic_example-2104b792-11d4-4987-9092-497f626b4b24 (20.592126)\n",
      "├── DiffPrivateSimpleDatasetPack._filter_dataset_by_label-1ceba859-70f5-4c29-baed-7cb1e8cdb908 (0.101863)\n",
      "├── DiffPrivateSimpleDatasetPack._split_dataset-a82bd085-cc87-4205-a98e-63a9f2c9b003 (0.007056)\n",
      "├── DiffPrivateSimpleDatasetPack._filter_dataset_by_label-752e1329-a832-4280-ae01-5d4e14c3bdbf (0.095134)\n",
      "├── DiffPrivateSimpleDatasetPack._split_dataset-9469cba4-f305-4a89-91e2-6a2fdf23c69b (0.00699)\n",
      "├── DiffPrivateSimpleDatasetPack._filter_dataset_by_label-55f24f9c-b552-4389-bff5-15b366364755 (0.092069)\n",
      "├── DiffPrivateSimpleDatasetPack._split_dataset-dd295030-3cc5-4bab-8093-d954b2a1a41a (0.007629)\n",
      "├── DiffPrivateSimpleDatasetPack._filter_dataset_by_label-ceeb78b0-8ad5-4009-b66d-9cc3c1d174ee (0.070707)\n",
      "├── DiffPrivateSimpleDatasetPack._split_dataset-5af788b0-9d04-4951-896c-89c63f3f62e6 (0.007239)\n",
      "├── DiffPrivateSimpleDatasetPack._filter_dataset_by_label-ef696863-2960-4cc5-b783-a7ff5b478c17 (0.070959)\n",
      "├── DiffPrivateSimpleDatasetPack._split_dataset-89339395-1a1d-4f73-a6f7-457637fdb5fb (0.007144)\n",
      "├── DiffPrivateSimpleDatasetPack._filter_dataset_by_label-0086c536-c918-43d5-b2fd-8015217d61d2 (0.255314)\n",
      "├── DiffPrivateSimpleDatasetPack._split_dataset-19ce096f-d684-4432-8bd6-5527aab746b4 (0.0069)\n",
      "├── DiffPrivateSimpleDatasetPack._filter_dataset_by_label-2a0c4eb3-35ce-46aa-8b59-f43aa0dcac1a (0.092117)\n",
      "├── DiffPrivateSimpleDatasetPack._split_dataset-800ace08-0f0a-41e1-86a5-bff254bf3a46 (0.006847)\n",
      "├── DiffPrivateSimpleDatasetPack._filter_dataset_by_label-bbc7a106-e9c5-4d0c-9041-1ae181e43864 (0.091138)\n",
      "├── DiffPrivateSimpleDatasetPack._split_dataset-e9338726-7629-4f2a-8f3e-6cf1517dfd3e (0.006756)\n",
      "├── DiffPrivateSimpleDatasetPack._filter_dataset_by_label-bf3fedb9-6954-49bf-b52f-ee36ca638ba0 (0.095142)\n",
      "├── DiffPrivateSimpleDatasetPack._split_dataset-6bf365c4-3769-4fab-bd1c-9758a6d7c821 (0.00676)\n",
      "├── DiffPrivateSimpleDatasetPack._filter_dataset_by_label-d06f03e5-3126-41d6-b661-3ba279d66a47 (0.09345)\n",
      "├── DiffPrivateSimpleDatasetPack._split_dataset-9249e4e6-3761-4b84-b56e-f5d0e3b1b4c0 (0.00686)\n",
      "├── DiffPrivateSimpleDatasetPack._filter_dataset_by_label-e5be2dc3-bb45-45e6-8592-4f1035c8d9a8 (0.092615)\n",
      "├── DiffPrivateSimpleDatasetPack._split_dataset-610e2bcd-16a9-4e8e-994d-af5146c700c6 (0.006751)\n",
      "├── DiffPrivateSimpleDatasetPack._filter_dataset_by_label-95245c7a-e434-4b61-93ee-29ef03d792d2 (0.094119)\n",
      "├── DiffPrivateSimpleDatasetPack._split_dataset-7d7f3e8f-ee5f-486a-bc47-e66104fc311e (0.006795)\n",
      "├── DiffPrivateSimpleDatasetPack._filter_dataset_by_label-155c3d9f-8658-4e27-b625-f5c12d9ba34a (0.09001)\n",
      "├── DiffPrivateSimpleDatasetPack._split_dataset-2ebe8f19-0d0d-4fd9-9226-2752b9ef8886 (0.006826)\n",
      "├── DiffPrivateSimpleDatasetPack._filter_dataset_by_label-9ac74721-3948-4943-bb42-30c759a528fa (0.246739)\n",
      "├── DiffPrivateSimpleDatasetPack._split_dataset-2d94273f-b611-43b0-a744-338826243725 (0.006798)\n",
      "├── DiffPrivateSimpleDatasetPack._filter_dataset_by_label-5712e41b-0a86-47ea-be77-0d05dd459fd7 (0.0924)\n",
      "├── DiffPrivateSimpleDatasetPack._split_dataset-0fcefe95-a84e-4e7e-80ed-aab5070e1560 (0.00693)\n",
      "├── DiffPrivateSimpleDatasetPack._filter_dataset_by_label-453e9eae-7191-45ef-8569-f002b0637f1c (0.091188)\n",
      "├── DiffPrivateSimpleDatasetPack._split_dataset-2c5d2393-8284-4285-8e39-384b8c743011 (0.006785)\n",
      "├── DiffPrivateSimpleDatasetPack._filter_dataset_by_label-efb0e083-e0e3-4c9b-ac3d-a0616f08433a (0.092632)\n",
      "├── DiffPrivateSimpleDatasetPack._split_dataset-1d66e926-1331-49f4-a68b-afa017926b0b (0.006859)\n",
      "├── DiffPrivateSimpleDatasetPack._filter_dataset_by_label-9ed3a730-1eb5-4f3c-99bf-49c545cac71d (0.074182)\n",
      "├── DiffPrivateSimpleDatasetPack._split_dataset-6cbcb12a-6937-4c3f-8d11-0432654b17de (0.007095)\n",
      "├── DiffPrivateSimpleDatasetPack._filter_dataset_by_label-9baa18aa-37e9-4443-88de-7c6b83f8e88d (0.09441)\n",
      "├── DiffPrivateSimpleDatasetPack._split_dataset-203b50c1-a637-4c2f-94ea-8f27480b9c8c (0.00676)\n",
      "├── DiffPrivateSimpleDatasetPack._filter_dataset_by_label-635513be-e48e-4776-89a9-f95b07430b8b (0.092544)\n",
      "├── DiffPrivateSimpleDatasetPack._split_dataset-8c236cec-f7e8-4ae6-954d-7dddcf06d2c8 (0.006815)\n",
      "├── DiffPrivateSimpleDatasetPack._filter_dataset_by_label-08b6d855-1436-44cb-aa5a-ead18edbff72 (0.090709)\n",
      "├── DiffPrivateSimpleDatasetPack._split_dataset-d306ff77-502d-4d31-a8e7-6e5b85385124 (0.006876)\n",
      "├── DiffPrivateSimpleDatasetPack._filter_dataset_by_label-166eaf3c-769e-4768-aa58-8f9fae4833e0 (0.078734)\n",
      "├── DiffPrivateSimpleDatasetPack._split_dataset-03856f8c-694f-4eb6-b4ca-506f58d48d8a (0.006708)\n",
      "├── DiffPrivateSimpleDatasetPack._filter_dataset_by_label-e78e3dcd-f483-4054-bcf5-a0b6e6515201 (0.322712)\n",
      "├── DiffPrivateSimpleDatasetPack._split_dataset-dfe05b4f-af63-427e-b917-4b789c825fd5 (0.006763)\n",
      "├── DiffPrivateSimpleDatasetPack._filter_dataset_by_label-ba6366b5-43ac-42f3-a25c-d499b1348a84 (0.084512)\n",
      "├── DiffPrivateSimpleDatasetPack._split_dataset-9d321a1a-0bde-4ff9-b73b-2544add459d0 (0.007175)\n",
      "├── DiffPrivateSimpleDatasetPack._filter_dataset_by_label-c76f283c-4077-405a-9b6b-cbbed9867a56 (0.065165)\n",
      "├── DiffPrivateSimpleDatasetPack._split_dataset-67656d67-c43f-4853-a321-e81086c6fb19 (0.007011)\n",
      "├── DiffPrivateSimpleDatasetPack._filter_dataset_by_label-1f7faf5a-1a58-49e6-85e6-23d1fb233910 (0.076368)\n",
      "├── DiffPrivateSimpleDatasetPack._split_dataset-03df719c-2502-490b-aa5c-05e8d22fd376 (0.007201)\n",
      "├── DiffPrivateSimpleDatasetPack._filter_dataset_by_label-cb89d412-ccf6-4005-b95b-12471f9f22bb (0.090753)\n",
      "├── DiffPrivateSimpleDatasetPack._split_dataset-b1cae133-afa5-41e4-a9c9-b6bc93a4128c (0.006926)\n",
      "├── DiffPrivateSimpleDatasetPack._filter_dataset_by_label-fe84c774-11ee-4655-b88a-c579df1ce144 (0.087867)\n",
      "├── DiffPrivateSimpleDatasetPack._split_dataset-d6ba2b7c-301d-47ef-a1d6-71ece382e97e (0.006699)\n",
      "├── DiffPrivateSimpleDatasetPack._filter_dataset_by_label-5f33c7e4-ec1c-4ab5-b33a-f72fc3cc5960 (0.093329)\n",
      "├── DiffPrivateSimpleDatasetPack._split_dataset-93f5db12-f8dc-41c4-b50e-cd8fcd914fb9 (0.006777)\n",
      "├── DiffPrivateSimpleDatasetPack._filter_dataset_by_label-7e5d03bc-608d-4fe3-87e5-ee28edf88b47 (0.091932)\n",
      "├── DiffPrivateSimpleDatasetPack._split_dataset-72cda50a-ead8-4745-bfec-79eb1a6ed0a2 (0.006805)\n",
      "├── DiffPrivateSimpleDatasetPack._filter_dataset_by_label-42563044-e16c-438b-9ed8-4bf9a0f2d00d (0.2362)\n",
      "├── DiffPrivateSimpleDatasetPack._split_dataset-916a0df6-5ef3-4a38-915c-03a844b59c20 (0.006883)\n",
      "├── DiffPrivateSimpleDatasetPack._filter_dataset_by_label-3f244de5-c555-4ef3-98b5-fbf1ccce17e1 (0.092824)\n",
      "├── DiffPrivateSimpleDatasetPack._split_dataset-a1d5e56e-ad84-49e7-8243-9f7f240e51db (0.006732)\n",
      "├── DiffPrivateSimpleDatasetPack._filter_dataset_by_label-fbf25dc2-3cb8-4760-9684-e6201b82140a (0.091904)\n",
      "├── DiffPrivateSimpleDatasetPack._split_dataset-516f76f3-0081-48f6-8959-a03253cb3a81 (0.006782)\n",
      "├── DiffPrivateSimpleDatasetPack._filter_dataset_by_label-1b2be0cf-6e4c-49d8-8b05-4832cae5c543 (0.08979)\n",
      "├── DiffPrivateSimpleDatasetPack._split_dataset-46b058e6-0b74-4ba5-9a46-b835f5beef26 (0.006763)\n",
      "├── DiffPrivateSimpleDatasetPack._filter_dataset_by_label-9b40be76-068e-4dc1-bca5-bf59d8db49ad (0.091917)\n",
      "└── DiffPrivateSimpleDatasetPack._split_dataset-4b2293d0-eae4-4789-95eb-9dea3ec902e6 (0.006714)\n",
      "\n",
      "\n",
      "DiffPrivateSimpleDatasetPack.arun-fcda3f36-6050-4646-a47d-7e2a9d27c016 (11.932398)\n",
      "└── DiffPrivateSimpleDatasetPack.agenerate_dp_synthetic_example-8610ebbe-cfba-4d55-a2b5-81a64ed2b7df (3.110816)\n",
      "    └── DiffPrivateSimpleDatasetPack.agenerate_dp_synthetic_example-e0dccfcd-ed01-4c90-9382-75dd983f3903 (11.921528)\n",
      "        ├── DiffPrivateSimpleDatasetPack._filter_dataset_by_label-39a0f9ba-13a5-4971-a23a-f746c1dda9d0 (0.083758)\n",
      "        ├── DiffPrivateSimpleDatasetPack._split_dataset-4bd79932-7631-4bc7-acc9-652fba8e23f9 (0.006922)\n",
      "        ├── DiffPrivateSimpleDatasetPack._filter_dataset_by_label-fc73e220-3067-47d7-bdf1-12320b576764 (0.05619)\n",
      "        ├── DiffPrivateSimpleDatasetPack._split_dataset-82484ce7-c51d-4d7a-8ed1-69e2193aa23d (0.007032)\n",
      "        ├── DiffPrivateSimpleDatasetPack._filter_dataset_by_label-7bf9b2b9-758c-416f-b716-d69542d88c5a (0.096366)\n",
      "        ├── DiffPrivateSimpleDatasetPack._split_dataset-55fe4492-f515-4a5a-9597-348ad57dc136 (0.006686)\n",
      "        ├── DiffPrivateSimpleDatasetPack._filter_dataset_by_label-527761ec-d941-45c1-881a-04d5c4398f3b (0.093303)\n",
      "        ├── DiffPrivateSimpleDatasetPack._split_dataset-f4dfc875-f38e-4db0-8c10-4c91f50d7a10 (0.006602)\n",
      "        ├── DiffPrivateSimpleDatasetPack._filter_dataset_by_label-4138529d-f14b-4d36-adff-0f59ab153482 (0.261272)\n",
      "        ├── DiffPrivateSimpleDatasetPack._split_dataset-baf6e9e2-e01b-461a-be65-c5853cfae8b4 (0.006828)\n",
      "        ├── DiffPrivateSimpleDatasetPack._filter_dataset_by_label-64c414b6-7367-4e7b-a578-af6827f40e5d (0.077675)\n",
      "        ├── DiffPrivateSimpleDatasetPack._split_dataset-32ed17b4-a935-4d06-9a28-9928babaef78 (0.006469)\n",
      "        ├── DiffPrivateSimpleDatasetPack._filter_dataset_by_label-f63e0b9f-3533-4655-9267-9c8ba29a346a (0.110134)\n",
      "        ├── DiffPrivateSimpleDatasetPack._split_dataset-c5b4750e-5663-45e2-bdd9-9139189f2cd2 (0.007227)\n",
      "        ├── DiffPrivateSimpleDatasetPack._filter_dataset_by_label-f31ad42b-ffed-4828-8470-ba347201391b (0.089545)\n",
      "        ├── DiffPrivateSimpleDatasetPack._split_dataset-007a1c6e-1bcc-4622-88b2-0ca61902f94f (0.006857)\n",
      "        ├── DiffPrivateSimpleDatasetPack._filter_dataset_by_label-e6969c66-b749-4812-bd01-1e0724bf1e0a (0.092519)\n",
      "        ├── DiffPrivateSimpleDatasetPack._split_dataset-1606581a-7fbf-467a-9736-087cf8c2bdac (0.0068)\n",
      "        ├── DiffPrivateSimpleDatasetPack._filter_dataset_by_label-8f750421-d9c7-415a-9bc3-914c6aa54424 (0.091518)\n",
      "        └── DiffPrivateSimpleDatasetPack._split_dataset-30167cbc-d06b-415d-a1c8-407d5edade43 (0.006762)\n",
      "\n",
      "\n"
     ]
    }
   ],
   "source": [
    "span_handler.print_trace_trees()"
   ]
  }
 ],
 "metadata": {
  "kernelspec": {
   "display_name": "diff-privacy",
   "language": "python",
   "name": "diff-privacy"
  },
  "language_info": {
   "codemirror_mode": {
    "name": "ipython",
    "version": 3
   },
   "file_extension": ".py",
   "mimetype": "text/x-python",
   "name": "python",
   "nbconvert_exporter": "python",
   "pygments_lexer": "ipython3"
  }
 },
 "nbformat": 4,
 "nbformat_minor": 5
}
