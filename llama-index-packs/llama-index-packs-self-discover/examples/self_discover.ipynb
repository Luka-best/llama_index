{
 "cells": [
  {
   "attachments": {},
   "cell_type": "markdown",
   "metadata": {},
   "source": [
    "# Self Discover Pack\n",
    "\n",
    "<a href=\"https://colab.research.google.com/github/run-llama/llama_index/blob/main/llama-index-packs/llama-index-packs-self-discover/examples/self_discover.ipynb\" target=\"_parent\"><img src=\"https://colab.research.google.com/assets/colab-badge.svg\" alt=\"Open In Colab\"/></a>\n",
    "\n",
    "This LlamaPack implements [Self-Discover: Large Language Models Self-Compose Reasoning Structures](https://arxiv.org/abs/2402.03620) paper.\n",
    "\n",
    "It has two stages for the given task:\n",
    "\n",
    "1. STAGE-1:\n",
    "\n",
    "    a. SELECT: Selects subset of reasoning Modules.\n",
    "\n",
    "    b. ADAPT: Adapts selected reasoning modules to the task.\n",
    "\n",
    "    c. IMPLEMENT: It gives reasoning structure for the task.\n",
    "    \n",
    "2. STAGE-2: Uses the generated reasoning structure for the task to generate an answer.\n",
    "\n",
    "\n",
    "The implementation is inspired from the [codebase](https://github.com/catid/self-discover)"
   ]
  },
  {
   "attachments": {},
   "cell_type": "markdown",
   "metadata": {},
   "source": [
    "### Setup"
   ]
  },
  {
   "cell_type": "code",
   "execution_count": null,
   "metadata": {},
   "outputs": [],
   "source": [
    "from llama_index.llms.openai import OpenAI\n",
    "\n",
    "llm = OpenAI(\"gpt-4\")"
   ]
  },
  {
   "attachments": {},
   "cell_type": "markdown",
   "metadata": {},
   "source": [
    "### Load / Download Pack\n",
    "\n",
    "Now we do `download_llama_pack` to load the Self-Discover LlamaPack."
   ]
  },
  {
   "cell_type": "code",
   "execution_count": null,
   "metadata": {},
   "outputs": [],
   "source": [
    "from llama_index.core.llama_pack import download_llama_pack\n",
    "\n",
    "SelfDiscoverPack = download_llama_pack(\"SelfDiscoverPack\", \"./self_discover_pack\")"
   ]
  },
  {
   "cell_type": "code",
   "execution_count": null,
   "metadata": {},
   "outputs": [],
   "source": [
    "self_discover_pack = SelfDiscoverPack(verbose=True, llm=llm)"
   ]
  },
  {
   "attachments": {},
   "cell_type": "markdown",
   "metadata": {},
   "source": [
    "### Test out on some tasks"
   ]
  },
  {
   "attachments": {},
   "cell_type": "markdown",
   "metadata": {},
   "source": [
    "#### Task\n",
    "\n",
    "Michael has 15 oranges. He gives 4 oranges to his brother and trades 3 oranges for 6 apples with his neighbor. Later in the day, he realizes some of his oranges are spoiled, so he discards 2 of them. Then, Michael goes to the market and buys 12 more oranges and 5 more apples. If Michael decides to give 2 apples to his friend, how many oranges and apples does Michael have now?"
   ]
  },
  {
   "cell_type": "code",
   "execution_count": null,
   "metadata": {},
   "outputs": [],
   "source": [
    "task = \"Michael has 15 oranges. He gives 4 oranges to his brother and trades 3 oranges for 6 apples with his neighbor. Later in the day, he realizes some of his oranges are spoiled, so he discards 2 of them. Then, Michael goes to the market and buys 12 more oranges and 5 more apples. If Michael decides to give 2 apples to his friend, how many oranges and apples does Michael have now?\"\n",
    "output = self_discover_pack.run(task)"
   ]
  },
  {
   "cell_type": "code",
   "execution_count": null,
   "metadata": {},
   "outputs": [],
   "source": [
    "print(output)"
   ]
  },
  {
   "attachments": {},
   "cell_type": "markdown",
   "metadata": {},
   "source": [
    "#### Task\n",
    "\n",
    "Tom needs to buy ingredients for a spaghetti dinner he's planning for himself and a friend. He already has pasta at home but needs to buy tomato sauce and ground beef. At the store, tomato sauce costs $3 per jar and ground beef costs $5 per pound. Tom buys 2 jars of tomato sauce and 2 pounds of ground beef. He also picks up a loaf of bread for $2.50. If Tom pays with a $50 bill, how much change should he receive after purchasing these items?"
   ]
  },
  {
   "cell_type": "code",
   "execution_count": null,
   "metadata": {},
   "outputs": [],
   "source": [
    "task = \"Tom needs to buy ingredients for a spaghetti dinner he's planning for himself and a friend. He already has pasta at home but needs to buy tomato sauce and ground beef. At the store, tomato sauce costs $3 per jar and ground beef costs $5 per pound. Tom buys 2 jars of tomato sauce and 2 pounds of ground beef. He also picks up a loaf of bread for $2.50. If Tom pays with a $50 bill, how much change should he receive after purchasing these items?\"\n",
    "output = self_discover_pack.run(task)"
   ]
  },
  {
   "cell_type": "code",
   "execution_count": null,
   "metadata": {},
   "outputs": [],
   "source": [
    "print(output)"
   ]
  }
 ],
 "metadata": {
  "kernelspec": {
   "display_name": "Python 3",
   "language": "python",
   "name": "python3"
  },
  "language_info": {
   "codemirror_mode": {
    "name": "ipython",
    "version": 3
   },
   "file_extension": ".py",
   "mimetype": "text/x-python",
   "name": "python",
   "nbconvert_exporter": "python",
   "pygments_lexer": "ipython3"
  },
  "vscode": {
   "interpreter": {
    "hash": "b0fa6594d8f4cbf19f97940f81e996739fb7646882a419484c72d19e05852a7e"
   }
  }
 },
 "nbformat": 4,
 "nbformat_minor": 2
}
