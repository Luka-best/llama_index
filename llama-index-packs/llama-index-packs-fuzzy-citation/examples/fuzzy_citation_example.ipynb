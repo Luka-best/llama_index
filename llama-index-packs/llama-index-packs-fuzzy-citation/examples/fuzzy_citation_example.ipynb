{
 "cells": [
  {
   "cell_type": "markdown",
   "metadata": {},
   "source": [
    "# Fuzzy Citation Query Engine\n",
    "\n",
    "This notebook walks through using the `FuzzyCitationEnginePack`, which can wrap any existing query engine and post-process the response object to include direct sentence citations, identified using fuzzy-matching."
   ]
  },
  {
   "cell_type": "markdown",
   "metadata": {},
   "source": [
    "## Setup"
   ]
  },
  {
   "cell_type": "code",
   "execution_count": null,
   "metadata": {},
   "source": [
    "%pip install llama-index-readers-file"
   ],
   "outputs": []
  },
  {
   "cell_type": "code",
   "execution_count": null,
   "metadata": {},
   "source": [
    "import os\n",
    "\n",
    "os.environ[\"OPENAI_API_KEY\"] = \"sk-...\""
   ],
   "outputs": []
  },
  {
   "cell_type": "code",
   "execution_count": null,
   "metadata": {},
   "source": [
    "!mkdir -p 'data/'\n",
    "!curl 'https://arxiv.org/pdf/2307.09288.pdf' -o 'data/llama2.pdf'"
   ],
   "outputs": []
  },
  {
   "cell_type": "code",
   "execution_count": null,
   "metadata": {},
   "source": [
    "!pip install unstructured[pdf]"
   ],
   "outputs": []
  },
  {
   "cell_type": "code",
   "execution_count": null,
   "metadata": {},
   "source": [
    "from llama_index.core import VectorStoreIndex"
   ],
   "outputs": []
  },
  {
   "cell_type": "code",
   "execution_count": null,
   "metadata": {},
   "source": [
    "from llama_index.readers.file import UnstructuredReader\n",
    "\n",
    "documents = UnstructuredReader().load_data(\"data/llama2.pdf\")"
   ],
   "outputs": []
  },
  {
   "cell_type": "code",
   "execution_count": null,
   "metadata": {},
   "source": [
    "index = VectorStoreIndex.from_documents(documents)\n",
    "query_engine = index.as_query_engine()"
   ],
   "outputs": []
  },
  {
   "cell_type": "markdown",
   "metadata": {},
   "source": [
    "## Run the FuzzyCitationEnginePack\n",
    "\n",
    "The `FuzzyCitationEnginePack` can wrap any existing query engine."
   ]
  },
  {
   "cell_type": "code",
   "execution_count": null,
   "metadata": {},
   "source": [
    "from llama_index.core.llama_pack import download_llama_pack\n",
    "\n",
    "FuzzyCitationEnginePack = download_llama_pack(\"FuzzyCitationEnginePack\", \"./fuzzy_pack\")"
   ],
   "outputs": []
  },
  {
   "cell_type": "code",
   "execution_count": null,
   "metadata": {},
   "source": [
    "fuzzy_engine_pack = FuzzyCitationEnginePack(query_engine, threshold=50)"
   ],
   "outputs": []
  },
  {
   "cell_type": "code",
   "execution_count": null,
   "metadata": {},
   "source": [
    "response = fuzzy_engine_pack.run(\"How was Llama2 pretrained?\")"
   ],
   "outputs": []
  },
  {
   "cell_type": "code",
   "execution_count": null,
   "metadata": {},
   "source": [
    "print(str(response))"
   ],
   "outputs": []
  },
  {
   "cell_type": "markdown",
   "metadata": {},
   "source": [
    "### Compare response to citation sentences"
   ]
  },
  {
   "cell_type": "code",
   "execution_count": null,
   "metadata": {},
   "source": [
    "for response_sentence, node_chunk in response.metadata.keys():\n",
    "    print(\"Response Sentence:\\n\", response_sentence)\n",
    "    print(\"\\nRelevant Node Chunk:\\n\", node_chunk)\n",
    "    print(\"----------------\")"
   ],
   "outputs": []
  },
  {
   "cell_type": "markdown",
   "metadata": {},
   "source": [
    "So if we compare the original LLM output:\n",
    "\n",
    "```\n",
    "Llama 2 was pretrained using an optimized auto-regressive transformer. The pretraining approach involved robust data cleaning, updating the data mixes, training on 40% more total tokens, doubling the context length, and using grouped-query attention (GQA) to improve inference scalability for larger models. The training corpus included a new mix of data from publicly available sources, excluding data from Meta's products or services. The pretraining methodology and training details are described in more detail in the provided context.\n",
    "```\n",
    "\n",
    "With the generated fuzzy matches above, we can clearly see where each sentence came from!"
   ]
  },
  {
   "cell_type": "markdown",
   "metadata": {},
   "source": [
    "### [Advanced] Inspect citation metadata\n",
    "\n",
    "Using the citation metadata, we can get the exact character location of the response from the original document!"
   ]
  },
  {
   "cell_type": "code",
   "execution_count": null,
   "metadata": {},
   "source": [
    "for chunk_info in response.metadata.values():\n",
    "    start_char_idx = chunk_info[\"start_char_idx\"]\n",
    "    end_char_idx = chunk_info[\"end_char_idx\"]\n",
    "\n",
    "    node = chunk_info[\"node\"]\n",
    "    node_start_char_idx = node.start_char_idx\n",
    "    node_end_char_idx = node.end_char_idx\n",
    "\n",
    "    # using the node start and end char idx, we can offset the\n",
    "    # citation chunk to locate the citation in the\n",
    "    document_start_char_idx = start_char_idx + node_start_char_idx\n",
    "    document_end_char_idx = document_start_char_idx + (end_char_idx - start_char_idx)\n",
    "    text = documents[0].text[document_start_char_idx:document_end_char_idx]\n",
    "\n",
    "    print(text)\n",
    "    print(node.metadata)\n",
    "    print(\"----------------\")"
   ],
   "outputs": []
  },
  {
   "cell_type": "markdown",
   "metadata": {},
   "source": [
    "## Try a random question\n",
    "\n",
    "If we ask a question unrelated to the data in the index, we should not have any matching citaitons (in most cases)."
   ]
  },
  {
   "cell_type": "code",
   "execution_count": null,
   "metadata": {},
   "source": [
    "response = fuzzy_engine_pack.run(\"Where is San Francisco located?\")\n",
    "\n",
    "print(len(response.metadata.keys()))"
   ],
   "outputs": []
  }
 ],
 "metadata": {
  "kernelspec": {
   "display_name": "Python 3 (ipykernel)",
   "language": "python",
   "name": "python3"
  },
  "language_info": {
   "codemirror_mode": {
    "name": "ipython",
    "version": 3
   },
   "file_extension": ".py",
   "mimetype": "text/x-python",
   "name": "python",
   "nbconvert_exporter": "python",
   "pygments_lexer": "ipython3"
  }
 },
 "nbformat": 4,
 "nbformat_minor": 4
}
