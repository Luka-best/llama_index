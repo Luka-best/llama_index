{
 "cells": [
  {
   "cell_type": "markdown",
   "id": "ca17b65c-fc0f-4529-9ee9-2a6e5399a5b2",
   "metadata": {},
   "source": [
    "# Language Agent Tree Search\n",
    "\n",
    "<a href=\"https://colab.research.google.com/github/run-llama/llama_index/blob/main/llama-index-packs/llama-index-packs-lats/examples/language_agent_tree_search.ipynb\" target=\"_parent\"><img src=\"https://colab.research.google.com/assets/colab-badge.svg\" alt=\"Open In Colab\"/></a>\n",
    "\n",
    "[LATS (Language Agent Tree Search)](https://arxiv.org/pdf/2310.04406.pdf) by Zhou et al. combines LLM capabilities in planning, acting, and reasoning within a Monte Carlo tree search framework, allowing for deliberate and adaptive problem-solving guided by external feedback and self-reflection.\n",
    "\n",
    "We've implemented this agent as a LlamaPack - you can either pip install it to run it out-of-the-box or call `download_llama_pack` to load the pack."
   ]
  },
  {
   "cell_type": "markdown",
   "id": "91dfcbf6-9dc2-44a2-929d-df994b353031",
   "metadata": {},
   "source": [
    "## Setup"
   ]
  },
  {
   "cell_type": "markdown",
   "id": "57f52355-b01e-4f57-a952-d170f41211c5",
   "metadata": {},
   "source": [
    "#### Option 1. pip install llama-index-packs-lats"
   ]
  },
  {
   "cell_type": "code",
   "execution_count": null,
   "id": "a256034a-637c-42ec-9d34-99282b3877f6",
   "metadata": {},
   "outputs": [],
   "source": [
    "!pip install llama-index-packs-lats"
   ]
  },
  {
   "cell_type": "code",
   "execution_count": null,
   "id": "4726ec30-1d59-4a64-91bb-d5c46e43a534",
   "metadata": {},
   "outputs": [],
   "source": [
    "# install from source\n",
    "!pip install -e ../."
   ]
  },
  {
   "cell_type": "markdown",
   "id": "f775942f-3cbf-4799-b1ba-b93f51ff5d48",
   "metadata": {},
   "source": [
    "#### Option 2. `download_llama_pack`"
   ]
  },
  {
   "cell_type": "code",
   "execution_count": null,
   "id": "19630411-62d9-4d9a-a5d1-b298ec2ab7e6",
   "metadata": {},
   "outputs": [],
   "source": [
    "# from llama_index.core.llama_pack import download_llama_pack\n",
    "\n",
    "# LATSPacks = download_llama_pack(\"LATSPack\")"
   ]
  },
  {
   "cell_type": "markdown",
   "id": "dd3eedb4-40dc-4fb7-91ed-4383bccf76da",
   "metadata": {},
   "source": [
    "### Define Global Settings"
   ]
  },
  {
   "cell_type": "code",
   "execution_count": null,
   "id": "1741a46b-e315-4c94-aede-6b8dbd852b40",
   "metadata": {},
   "outputs": [],
   "source": [
    "from llama_index.llms.openai import OpenAI\n",
    "from llama_index.embeddings.openai import OpenAIEmbedding\n",
    "from llama_index.core import Settings\n",
    "\n",
    "\n",
    "llm = OpenAI(model=\"gpt-3.5-turbo\")\n",
    "embed_model = OpenAIEmbedding(model=\"text-embedding-3-small\")\n",
    "\n",
    "Settings.llm = llm\n",
    "Settings.embed_model = embed_model"
   ]
  },
  {
   "cell_type": "markdown",
   "id": "24573f4b-0690-43c1-b255-890767ab4c83",
   "metadata": {},
   "source": [
    "### Download Data"
   ]
  },
  {
   "cell_type": "code",
   "execution_count": null,
   "id": "acab086b-0cdf-48f1-9fae-ba67209806ef",
   "metadata": {},
   "outputs": [
    {
     "name": "stdout",
     "output_type": "stream",
     "text": [
      "--2024-04-10 20:56:40--  https://raw.githubusercontent.com/run-llama/llama_index/main/docs/docs/examples/data/10k/uber_2021.pdf\n",
      "Resolving raw.githubusercontent.com (raw.githubusercontent.com)... 2606:50c0:8002::154, 2606:50c0:8001::154, 2606:50c0:8003::154, ...\n",
      "Connecting to raw.githubusercontent.com (raw.githubusercontent.com)|2606:50c0:8002::154|:443... connected.\n",
      "HTTP request sent, awaiting response... 200 OK\n",
      "Length: 1880483 (1.8M) [application/octet-stream]\n",
      "Saving to: ‘data/10k/uber_2021.pdf’\n",
      "\n",
      "data/10k/uber_2021. 100%[===================>]   1.79M  --.-KB/s    in 0.09s   \n",
      "\n",
      "2024-04-10 20:56:41 (19.3 MB/s) - ‘data/10k/uber_2021.pdf’ saved [1880483/1880483]\n",
      "\n",
      "--2024-04-10 20:56:41--  https://raw.githubusercontent.com/run-llama/llama_index/main/docs/docs/examples/data/10k/lyft_2021.pdf\n",
      "Resolving raw.githubusercontent.com (raw.githubusercontent.com)... 2606:50c0:8002::154, 2606:50c0:8001::154, 2606:50c0:8003::154, ...\n",
      "Connecting to raw.githubusercontent.com (raw.githubusercontent.com)|2606:50c0:8002::154|:443... connected.\n",
      "HTTP request sent, awaiting response... 200 OK\n",
      "Length: 1440303 (1.4M) [application/octet-stream]\n",
      "Saving to: ‘data/10k/lyft_2021.pdf’\n",
      "\n",
      "data/10k/lyft_2021. 100%[===================>]   1.37M  --.-KB/s    in 0.06s   \n",
      "\n",
      "2024-04-10 20:56:41 (24.9 MB/s) - ‘data/10k/lyft_2021.pdf’ saved [1440303/1440303]\n",
      "\n"
     ]
    }
   ],
   "source": [
    "!mkdir -p 'data/10k/'\n",
    "!wget 'https://raw.githubusercontent.com/run-llama/llama_index/main/docs/docs/examples/data/10k/uber_2021.pdf' -O 'data/10k/uber_2021.pdf'\n",
    "!wget 'https://raw.githubusercontent.com/run-llama/llama_index/main/docs/docs/examples/data/10k/lyft_2021.pdf' -O 'data/10k/lyft_2021.pdf'"
   ]
  },
  {
   "cell_type": "code",
   "execution_count": null,
   "id": "85776882-364c-4164-9878-c80b7e26628e",
   "metadata": {},
   "outputs": [],
   "source": [
    "from llama_index.core import (\n",
    "    SimpleDirectoryReader,\n",
    "    VectorStoreIndex,\n",
    "    load_index_from_storage,\n",
    ")\n",
    "from llama_index.core.storage import StorageContext\n",
    "import os\n",
    "\n",
    "\n",
    "if not os.path.exists(\"./storage/lyft\"):\n",
    "    # load data\n",
    "    lyft_docs = SimpleDirectoryReader(\n",
    "        input_files=[\"./data/10k/lyft_2021.pdf\"]\n",
    "    ).load_data()\n",
    "    uber_docs = SimpleDirectoryReader(\n",
    "        input_files=[\"./data/10k/uber_2021.pdf\"]\n",
    "    ).load_data()\n",
    "\n",
    "    # build index\n",
    "    lyft_index = VectorStoreIndex.from_documents(lyft_docs)\n",
    "    uber_index = VectorStoreIndex.from_documents(uber_docs)\n",
    "\n",
    "    # persist index\n",
    "    lyft_index.storage_context.persist(persist_dir=\"./storage/lyft\")\n",
    "    uber_index.storage_context.persist(persist_dir=\"./storage/uber\")\n",
    "else:\n",
    "    storage_context = StorageContext.from_defaults(persist_dir=\"./storage/lyft\")\n",
    "    lyft_index = load_index_from_storage(storage_context)\n",
    "\n",
    "    storage_context = StorageContext.from_defaults(persist_dir=\"./storage/uber\")\n",
    "    uber_index = load_index_from_storage(storage_context)"
   ]
  },
  {
   "cell_type": "markdown",
   "id": "9473420d-cb85-406a-acc5-1f9a66d536c6",
   "metadata": {},
   "source": [
    "### Setup Tools"
   ]
  },
  {
   "cell_type": "code",
   "execution_count": null,
   "id": "b4495859-f04b-4d8e-9dc0-05e7062de335",
   "metadata": {},
   "outputs": [],
   "source": [
    "lyft_engine = lyft_index.as_query_engine(similarity_top_k=3)\n",
    "uber_engine = uber_index.as_query_engine(similarity_top_k=3)"
   ]
  },
  {
   "cell_type": "code",
   "execution_count": null,
   "id": "757645fd-679c-4a92-a2da-66f6dffaee24",
   "metadata": {},
   "outputs": [],
   "source": [
    "from llama_index.core.tools import QueryEngineTool, ToolMetadata\n",
    "\n",
    "query_engine_tools = [\n",
    "    QueryEngineTool(\n",
    "        query_engine=lyft_engine,\n",
    "        metadata=ToolMetadata(\n",
    "            name=\"lyft_10k\",\n",
    "            description=(\n",
    "                \"Provides information about Lyft financials for year 2021. \"\n",
    "                \"Use a detailed plain text question as input to the tool.\"\n",
    "            ),\n",
    "        ),\n",
    "    ),\n",
    "    QueryEngineTool(\n",
    "        query_engine=uber_engine,\n",
    "        metadata=ToolMetadata(\n",
    "            name=\"uber_10k\",\n",
    "            description=(\n",
    "                \"Provides information about Uber financials for year 2021. \"\n",
    "                \"Use a detailed plain text question as input to the tool.\"\n",
    "            ),\n",
    "        ),\n",
    "    ),\n",
    "]"
   ]
  },
  {
   "cell_type": "code",
   "execution_count": null,
   "id": "d8c71ee8-18d6-41cc-983a-cc84f8ffeec5",
   "metadata": {},
   "outputs": [
    {
     "name": "stdout",
     "output_type": "stream",
     "text": [
      "The balance sheet for Uber as of December 31, 2021, shows total assets of $38,774 million, total liabilities of $23,425 million, and total equity of $15,145 million. The balance sheet includes details on various asset categories such as cash and cash equivalents, short-term investments, investments, property and equipment, intangible assets, and goodwill, among others. Liabilities include accounts payable, insurance reserves, debt, and other liabilities.\n",
      "\n",
      "Regarding risk factors, Uber mentions concentration of credit risk related to cash, cash equivalents, investments, and receivables. The company states that these assets are potentially subject to credit risk concentration, but they have policies in place to limit exposure with any one financial institution or issuer. Uber notes that they have not experienced significant losses due to these concentrations during the periods presented. Additionally, the company highlights other receivables held by reputable insurance companies with high credit quality to cover future settlement of reserved insurance claims.\n"
     ]
    }
   ],
   "source": [
    "response = uber_engine.query(\n",
    "    \"please provide me with the balance sheet and risk factors of Uber for the year 2021.\"\n",
    ")\n",
    "print(str(response))"
   ]
  },
  {
   "cell_type": "markdown",
   "id": "bb60646b-d09b-41c4-b799-eaef0b5b8471",
   "metadata": {},
   "source": [
    "## Setup Agent\n",
    "\n",
    "Now we can setup the LATS agent."
   ]
  },
  {
   "cell_type": "code",
   "execution_count": null,
   "id": "c1a09462-0695-43d3-b691-ff2320fdcf45",
   "metadata": {},
   "outputs": [],
   "source": [
    "from llama_index.core.agent import AgentRunner\n",
    "from llama_index.packs.lats import LATSAgentWorker\n",
    "\n",
    "\n",
    "agent_worker = LATSAgentWorker.from_tools(\n",
    "    query_engine_tools, llm=llm, verbose=True, num_expansions=1\n",
    ")\n",
    "agent = AgentRunner(agent_worker)"
   ]
  },
  {
   "cell_type": "code",
   "execution_count": null,
   "id": "bac12ae5-da37-4119-a068-dba3e5a9bf91",
   "metadata": {},
   "outputs": [
    {
     "data": {
      "text/plain": [
       "1"
      ]
     },
     "execution_count": null,
     "metadata": {},
     "output_type": "execute_result"
    }
   ],
   "source": [
    "agent_worker.num_expansions"
   ]
  },
  {
   "cell_type": "markdown",
   "id": "e97241d1-0917-4e69-87d5-9c46af360cfd",
   "metadata": {},
   "source": [
    "## Run Some Queries"
   ]
  },
  {
   "cell_type": "code",
   "execution_count": null,
   "id": "70af4e0b-c89e-4a15-8308-68879558edf2",
   "metadata": {},
   "outputs": [],
   "source": [
    "# task = agent.create_task(\n",
    "#     \"Given the revenue growth and risk factors of Uber and Lyft, \"\n",
    "#     \"which company is performing better? Please use concrete numbers to inform your decision.\"\n",
    "# )\n",
    "\n",
    "task = agent.create_task(\n",
    "    \"Given the risk factors of Uber and Lyft, \"\n",
    "    \"which company is performing better? Please use concrete numbers to inform your decision.\"\n",
    ")"
   ]
  },
  {
   "cell_type": "code",
   "execution_count": null,
   "id": "eccc109c-c443-40f6-be79-2264e5d97224",
   "metadata": {},
   "outputs": [
    {
     "name": "stdout",
     "output_type": "stream",
     "text": [
      "\u001b[1;3;32m> Selecting node to expand: Observation: Given the risk factors of Uber and Lyft, which company is performing better? Please use concrete numbers to inform your decision.\n",
      "\u001b[0m\u001b[1;3;34m> Generated new reasoning step: Thought: I need to compare the risk factors of Uber and Lyft to determine which company is performing better. I can use the financial information provided by the tools to gather concrete numbers for analysis.\n",
      "Action: uber_10k\n",
      "Action Input: {'input': 'risk factors'}\n",
      "Observation: Some of the risk factors that could have an adverse effect on the business, financial condition, operating results, or prospects of the company include:\n",
      "- Adverse effects from the COVID-19 pandemic and actions taken to mitigate it.\n",
      "- Potential adverse impact if Drivers were classified differently.\n",
      "- Intense competition in the mobility, delivery, and logistics industries.\n",
      "- The need to lower fares or offer incentives to remain competitive.\n",
      "- Historical losses and the uncertainty of achieving profitability.\n",
      "- Risks associated with attracting and maintaining a critical mass of platform users.\n",
      "- Importance of maintaining and enhancing brand reputation.\n",
      "- Challenges related to workplace culture and growth management.\n",
      "\u001b[0m\u001b[1;3;38;5;200m> Evaluation for input Given the risk factors of Uber and Lyft, which company is performing better? Please use concrete numbers to inform your decision.\n",
      ": score=8 is_done=False reasoning=\"The latest thought and action are aligned with the query, focusing on comparing the risk factors of Uber and Lyft to determine which company is performing better. The action of accessing Uber's 10-K report for risk factors shows a proactive approach to gathering concrete numbers for analysis. The observation of the risk factors provided for Uber indicates a thorough understanding of the potential challenges the company faces. While the conversation is not complete in providing a final decision on which company is performing better, the trajectory is on the right track with relevant information and analysis.\"\n",
      "\n",
      "\u001b[0m\u001b[1;3;32m> Got final response: I am still thinking.\n",
      "\u001b[0m"
     ]
    }
   ],
   "source": [
    "step_output = agent.run_step(task.task_id)"
   ]
  },
  {
   "cell_type": "code",
   "execution_count": null,
   "id": "ca38642c-d23b-456d-b0eb-523c6310d595",
   "metadata": {},
   "outputs": [
    {
     "data": {
      "text/plain": [
       "[ObservationReasoningStep(observation='Given the risk factors of Uber and Lyft, which company is performing better? Please use concrete numbers to inform your decision.', return_direct=False),\n",
       " ActionReasoningStep(thought='I need to compare the risk factors of Uber and Lyft to determine which company is performing better. I can use the financial information provided by the tools to gather concrete numbers for analysis.', action='uber_10k', action_input={'input': 'risk factors'}),\n",
       " ObservationReasoningStep(observation='Some of the risk factors that could have an adverse effect on the business, financial condition, operating results, or prospects of the company include:\\n- Adverse effects from the COVID-19 pandemic and actions taken to mitigate it.\\n- Potential adverse impact if Drivers were classified differently.\\n- Intense competition in the mobility, delivery, and logistics industries.\\n- The need to lower fares or offer incentives to remain competitive.\\n- Historical losses and the uncertainty of achieving profitability.\\n- Risks associated with attracting and maintaining a critical mass of platform users.\\n- Importance of maintaining and enhancing brand reputation.\\n- Challenges related to workplace culture and growth management.', return_direct=False)]"
      ]
     },
     "execution_count": null,
     "metadata": {},
     "output_type": "execute_result"
    }
   ],
   "source": [
    "step_output.task_step.step_state[\"root_node\"].children[0].current_reasoning"
   ]
  },
  {
   "cell_type": "code",
   "execution_count": null,
   "id": "aa9c988f-3e2e-4c6d-85bf-27b03ba88609",
   "metadata": {},
   "outputs": [
    {
     "name": "stdout",
     "output_type": "stream",
     "text": [
      "\u001b[1;3;32m> Selecting node to expand: Observation: Some of the risk factors that could have an adverse effect on the business, financial condition, operating results, or prospects of the company include:\n",
      "- Adverse effects from the COVID-19 pandemic and actions taken to mitigate it.\n",
      "- Potential adverse impact if Drivers were classified differently.\n",
      "- Intense competition in the mobility, delivery, and logistics industries.\n",
      "- The need to lower fares or offer incentives to remain competitive.\n",
      "- Historical losses and the uncertainty of achieving profitability.\n",
      "- Risks associated with attracting and maintaining a critical mass of platform users.\n",
      "- Importance of maintaining and enhancing brand reputation.\n",
      "- Challenges related to workplace culture and growth management.\n",
      "\u001b[0m\u001b[1;3;34m> Generated new reasoning step: Thought: I have gathered the risk factors for Uber. Now, I need to gather similar information for Lyft to compare the risk factors of both companies.\n",
      "Action: lyft_10k\n",
      "Action Input: {'input': 'risk factors'}\n",
      "Observation: Investing in the company's Class A common stock involves a high degree of risk due to various factors such as the impact of the COVID-19 pandemic, natural disasters, economic downturns, competition, operational uncertainties, the unpredictability of results, challenges in attracting and retaining drivers and riders, insurance coverage adequacy, autonomous vehicle technology, security and privacy breaches, reliance on third parties, and potential regulatory and legal challenges. Additionally, the company's operations are subject to risks related to general economic factors, operational factors, and potential geopolitical developments that could adversely affect its business, financial condition, and results of operations.\n",
      "\u001b[0m\u001b[1;3;38;5;200m> Evaluation for input Given the risk factors of Uber and Lyft, which company is performing better? Please use concrete numbers to inform your decision.\n",
      ": score=8 is_done=False reasoning=\"The latest thought and action in the conversation trajectory show a clear understanding of the task at hand. The user has correctly identified the need to compare the risk factors of Uber and Lyft to determine which company is performing better. The actions taken to gather information from both Uber and Lyft's 10-K filings demonstrate a proactive approach to collecting concrete numbers for analysis. The user has successfully gathered and compared the risk factors for both companies, which is a crucial step towards answering the query. However, the task is not yet complete as the final decision on which company is performing better has not been made. Overall, the trajectory is on the right track with a high level of correctness and completeness pending the final analysis and decision.\"\n",
      "\n",
      "\u001b[0m\u001b[1;3;32m> Got final response: I am still thinking.\n",
      "\u001b[0m"
     ]
    }
   ],
   "source": [
    "step_output = agent.run_step(task.task_id)"
   ]
  },
  {
   "cell_type": "code",
   "execution_count": null,
   "id": "4abc5d66-8df6-41ba-9b6d-9f7636370b0b",
   "metadata": {},
   "outputs": [
    {
     "data": {
      "text/plain": [
       "[ObservationReasoningStep(observation='Given the risk factors of Uber and Lyft, which company is performing better? Please use concrete numbers to inform your decision.', return_direct=False),\n",
       " ActionReasoningStep(thought='I need to compare the risk factors of Uber and Lyft to determine which company is performing better. I can use the financial information provided by the tools to gather concrete numbers for analysis.', action='uber_10k', action_input={'input': 'risk factors'}),\n",
       " ObservationReasoningStep(observation='Some of the risk factors that could have an adverse effect on the business, financial condition, operating results, or prospects of the company include:\\n- Adverse effects from the COVID-19 pandemic and actions taken to mitigate it.\\n- Potential adverse impact if Drivers were classified differently.\\n- Intense competition in the mobility, delivery, and logistics industries.\\n- The need to lower fares or offer incentives to remain competitive.\\n- Historical losses and the uncertainty of achieving profitability.\\n- Risks associated with attracting and maintaining a critical mass of platform users.\\n- Importance of maintaining and enhancing brand reputation.\\n- Challenges related to workplace culture and growth management.', return_direct=False),\n",
       " ActionReasoningStep(thought='I have gathered the risk factors for Uber. Now, I need to gather similar information for Lyft to compare the risk factors of both companies.', action='lyft_10k', action_input={'input': 'risk factors'}),\n",
       " ObservationReasoningStep(observation=\"Investing in the company's Class A common stock involves a high degree of risk due to various factors such as the impact of the COVID-19 pandemic, natural disasters, economic downturns, competition, operational uncertainties, the unpredictability of results, challenges in attracting and retaining drivers and riders, insurance coverage adequacy, autonomous vehicle technology, security and privacy breaches, reliance on third parties, and potential regulatory and legal challenges. Additionally, the company's operations are subject to risks related to general economic factors, operational factors, and potential geopolitical developments that could adversely affect its business, financial condition, and results of operations.\", return_direct=False)]"
      ]
     },
     "execution_count": null,
     "metadata": {},
     "output_type": "execute_result"
    }
   ],
   "source": [
    "step_output.task_step.step_state[\"root_node\"].children[0].children[0].current_reasoning"
   ]
  },
  {
   "cell_type": "code",
   "execution_count": null,
   "id": "807ccbf2-8bd4-44c2-baef-19b9d1d918d0",
   "metadata": {},
   "outputs": [
    {
     "name": "stdout",
     "output_type": "stream",
     "text": [
      "\u001b[1;3;32m> Selecting node to expand: Observation: Investing in the company's Class A common stock involves a high degree of risk due to various factors such as the impact of the COVID-19 pandemic, natural disasters, economic downturns, competition, operational uncertainties, the unpredictability of results, challenges in attracting and retaining drivers and riders, insurance coverage adequacy, autonomous vehicle technology, security and privacy breaches, reliance on third parties, and potential regulatory and legal challenges. Additionally, the company's operations are subject to risks related to general economic factors, operational factors, and potential geopolitical developments that could adversely affect its business, financial condition, and results of operations.\n",
      "\u001b[0m\u001b[1;3;34m> Generated new reasoning step: Thought: I have gathered the risk factors for both Uber and Lyft. Now, I will analyze the information to compare which company is performing better based on the risk factors mentioned.\n",
      "Answer: Based on the risk factors provided for both Uber and Lyft, it appears that both companies face similar challenges such as the impact of the COVID-19 pandemic, competition, operational uncertainties, and regulatory challenges. Both companies also have risks related to attracting and retaining drivers, insurance coverage, autonomous vehicle technology, security breaches, and reliance on third parties. Therefore, it seems that both Uber and Lyft are facing comparable risks in their operations.\n",
      "\u001b[0m\u001b[1;3;38;5;200m> Evaluation for input Given the risk factors of Uber and Lyft, which company is performing better? Please use concrete numbers to inform your decision.\n",
      ": score=8 is_done=False reasoning=\"The latest thought and action in the conversation trajectory show a clear understanding of the task at hand, which is to compare the risk factors of Uber and Lyft to determine which company is performing better. The user has successfully gathered and analyzed the risk factors for both companies, highlighting similarities in challenges faced by Uber and Lyft. The analysis is logical and based on concrete information from the financial reports. The user's approach demonstrates a good understanding of the query and the necessary steps to answer it. However, the task is not yet complete as a final decision on which company is performing better has not been made. Overall, the trajectory is on the right track towards answering the query effectively.\"\n",
      "\n",
      "\u001b[0m\u001b[1;3;32m> Got final response: I am still thinking.\n",
      "\u001b[0m"
     ]
    }
   ],
   "source": [
    "step_output = agent.run_step(task.task_id)"
   ]
  },
  {
   "cell_type": "code",
   "execution_count": null,
   "id": "c3f6df1a-9c3b-4897-82be-4384642e5310",
   "metadata": {},
   "outputs": [
    {
     "name": "stdout",
     "output_type": "stream",
     "text": [
      "\u001b[1;3;32m> Selecting node to expand: Thought: I have gathered the risk factors for both Uber and Lyft. Now, I will analyze the information to compare which company is performing better based on the risk factors mentioned.\n",
      "Answer: Based on the risk factors provided for both Uber and Lyft, it appears that both companies face similar challenges such as the impact of the COVID-19 pandemic, competition, operational uncertainties, and regulatory challenges. Both companies also have risks related to attracting and retaining drivers, insurance coverage, autonomous vehicle technology, security breaches, and reliance on third parties. Therefore, it seems that both Uber and Lyft are facing comparable risks in their operations.\n",
      "\u001b[0m\u001b[1;3;34m> Generated new reasoning step: Thought: I can answer without using any more tools. I'll use the user's language to answer\n",
      "Answer: Based on the risk factors mentioned for Uber and Lyft, both companies face similar challenges and risks in their operations. It seems that neither company has a significant advantage over the other in terms of risk factors.\n",
      "\u001b[0m\u001b[1;3;38;5;200m> Evaluation for input Given the risk factors of Uber and Lyft, which company is performing better? Please use concrete numbers to inform your decision.\n",
      ": score=8 is_done=True reasoning='The latest thought and action in the conversation trajectory show a clear understanding of the query and a systematic approach to comparing the risk factors of Uber and Lyft. The user correctly identified the key risk factors for both companies and analyzed them to conclude that both companies face similar challenges. The response is well-structured and directly addresses the query, indicating a high level of correctness. The completeness is rated high as the user has provided a comprehensive analysis based on the gathered information, even though a definitive answer on which company is performing better is not explicitly stated.'\n",
      "\n",
      "\u001b[0m\u001b[1;3;36m> Found solution node: Thought: I can answer without using any more tools. I'll use the user's language to answer\n",
      "Answer: Based on the risk factors mentioned for Uber and Lyft, both companies face similar challenges and risks in their operations. It seems that neither company has a significant advantage over the other in terms of risk factors.\n",
      "\u001b[0m\u001b[1;3;32m> Got final response: Thought: I can answer without using any more tools. I'll use the user's language to answer\n",
      "Answer: Based on the risk factors mentioned for Uber and Lyft, both companies face similar challenges and risks in their operations. It seems that neither company has a significant advantage over the other in terms of risk factors.\n",
      "\u001b[0m"
     ]
    }
   ],
   "source": [
    "step_output = agent.run_step(task.task_id)"
   ]
  },
  {
   "cell_type": "code",
   "execution_count": null,
   "id": "e683e464-9a0b-433f-a904-082c63ea375c",
   "metadata": {},
   "outputs": [],
   "source": [
    "response = agent.finalize_response(task.task_id)"
   ]
  },
  {
   "cell_type": "code",
   "execution_count": null,
   "id": "8d4ebee0-1191-4630-8bdd-58d92721d514",
   "metadata": {},
   "outputs": [
    {
     "name": "stdout",
     "output_type": "stream",
     "text": [
      "Thought: I can answer without using any more tools. I'll use the user's language to answer\n",
      "Answer: Based on the risk factors mentioned for Uber and Lyft, both companies face similar challenges and risks in their operations. It seems that neither company has a significant advantage over the other in terms of risk factors.\n"
     ]
    }
   ],
   "source": [
    "print(str(response))"
   ]
  }
 ],
 "metadata": {
  "kernelspec": {
   "display_name": "llama_index_v3",
   "language": "python",
   "name": "llama_index_v3"
  },
  "language_info": {
   "codemirror_mode": {
    "name": "ipython",
    "version": 3
   },
   "file_extension": ".py",
   "mimetype": "text/x-python",
   "name": "python",
   "nbconvert_exporter": "python",
   "pygments_lexer": "ipython3"
  }
 },
 "nbformat": 4,
 "nbformat_minor": 5
}
