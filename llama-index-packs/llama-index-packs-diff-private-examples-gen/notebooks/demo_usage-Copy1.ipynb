{
 "cells": [
  {
   "cell_type": "code",
   "execution_count": 1,
   "id": "013f873a-5157-4c39-a277-01ced6f7de9c",
   "metadata": {},
   "outputs": [],
   "source": [
    "from llama_index.packs.diff_private_simple_dataset.simple_dataset import LabelledSimpleDataset\n",
    "from llama_index.packs.diff_private_simple_dataset.base import PromptBundle\n",
    "from llama_index.packs.diff_private_simple_dataset import DiffPrivateSimpleDatasetPack\n",
    "from llama_index.llms.openai import OpenAI\n",
    "import tiktoken"
   ]
  },
  {
   "cell_type": "markdown",
   "id": "53a3bed2-d702-4765-8366-cdedfafc10e2",
   "metadata": {},
   "source": [
    "### Load LabelledSimpleDataset"
   ]
  },
  {
   "cell_type": "code",
   "execution_count": 2,
   "id": "a4c06c01-5450-43e5-bd31-837ec02dea33",
   "metadata": {},
   "outputs": [],
   "source": [
    "simple_dataset = LabelledSimpleDataset.from_json(\"./agnews.json\")"
   ]
  },
  {
   "cell_type": "code",
   "execution_count": 3,
   "id": "d4d98604-fc39-4ff5-8396-6d70a039bebc",
   "metadata": {},
   "outputs": [
    {
     "data": {
      "text/html": [
       "<div>\n",
       "<style scoped>\n",
       "    .dataframe tbody tr th:only-of-type {\n",
       "        vertical-align: middle;\n",
       "    }\n",
       "\n",
       "    .dataframe tbody tr th {\n",
       "        vertical-align: top;\n",
       "    }\n",
       "\n",
       "    .dataframe thead th {\n",
       "        text-align: right;\n",
       "    }\n",
       "</style>\n",
       "<table border=\"1\" class=\"dataframe\">\n",
       "  <thead>\n",
       "    <tr style=\"text-align: right;\">\n",
       "      <th></th>\n",
       "      <th>reference_label</th>\n",
       "      <th>text</th>\n",
       "      <th>text_by</th>\n",
       "    </tr>\n",
       "  </thead>\n",
       "  <tbody>\n",
       "    <tr>\n",
       "      <th>0</th>\n",
       "      <td>Business</td>\n",
       "      <td>Wall St. Bears Claw Back Into the Black (Reute...</td>\n",
       "      <td>human</td>\n",
       "    </tr>\n",
       "    <tr>\n",
       "      <th>1</th>\n",
       "      <td>Business</td>\n",
       "      <td>Carlyle Looks Toward Commercial Aerospace (Reu...</td>\n",
       "      <td>human</td>\n",
       "    </tr>\n",
       "    <tr>\n",
       "      <th>2</th>\n",
       "      <td>Business</td>\n",
       "      <td>Oil and Economy Cloud Stocks' Outlook (Reuters...</td>\n",
       "      <td>human</td>\n",
       "    </tr>\n",
       "    <tr>\n",
       "      <th>3</th>\n",
       "      <td>Business</td>\n",
       "      <td>Iraq Halts Oil Exports from Main Southern Pipe...</td>\n",
       "      <td>human</td>\n",
       "    </tr>\n",
       "    <tr>\n",
       "      <th>4</th>\n",
       "      <td>Business</td>\n",
       "      <td>Oil prices soar to all-time record, posing new...</td>\n",
       "      <td>human</td>\n",
       "    </tr>\n",
       "  </tbody>\n",
       "</table>\n",
       "</div>"
      ],
      "text/plain": [
       "  reference_label                                               text text_by\n",
       "0        Business  Wall St. Bears Claw Back Into the Black (Reute...   human\n",
       "1        Business  Carlyle Looks Toward Commercial Aerospace (Reu...   human\n",
       "2        Business  Oil and Economy Cloud Stocks' Outlook (Reuters...   human\n",
       "3        Business  Iraq Halts Oil Exports from Main Southern Pipe...   human\n",
       "4        Business  Oil prices soar to all-time record, posing new...   human"
      ]
     },
     "execution_count": 3,
     "metadata": {},
     "output_type": "execute_result"
    }
   ],
   "source": [
    "simple_dataset.to_pandas()[:5]"
   ]
  },
  {
   "cell_type": "markdown",
   "id": "d2baaff8-6c3d-45bf-8e24-0c59d11bd70c",
   "metadata": {},
   "source": [
    "### InstantiatePack"
   ]
  },
  {
   "cell_type": "code",
   "execution_count": 17,
   "id": "6671b450-04c5-4aa4-bbb3-90d2c2acf4fa",
   "metadata": {},
   "outputs": [],
   "source": [
    "llm = OpenAI(\n",
    "    model=\"gpt-3.5-turbo\",\n",
    "    max_tokens=1,\n",
    "    logprobs=True,\n",
    "    top_logprobs=20,\n",
    ")\n",
    "tokenizer = tiktoken.encoding_for_model(\"gpt-3.5-turbo\")\n",
    "refine_llm = OpenAI(model=\"gpt-4\")\n",
    "\n",
    "\n",
    "prompt_bundle = PromptBundle(\n",
    "    instruction=(\n",
    "        \"Given a label of news type, generate the chosen type of news accordingly.\"\n",
    "        \" Always start your answer with the format provided below. Don't provide any\"\n",
    "        \" other text, go straight to answering in the provided format and continue any partial \"\n",
    "        \" assistant messages.\\n\"\n",
    "        \"\\nNews Type: [repeat provided label]\\n\"\n",
    "        \"Text: [provide your answer here].\\n\"\n",
    "        \"------------------------------\\n\"\n",
    "    ),\n",
    "    label_heading=\"News Type\",\n",
    "    text_heading=\"Text\"\n",
    ")\n",
    "\n",
    "dp_simple_dataset_pack = DiffPrivateSimpleDatasetPack(\n",
    "    llm=llm,\n",
    "    refine_llm=refine_llm,\n",
    "    tokenizer=tokenizer,\n",
    "    prompt_bundle=prompt_bundle,\n",
    "    simple_dataset=simple_dataset\n",
    ")"
   ]
  },
  {
   "cell_type": "code",
   "execution_count": 13,
   "id": "4227dc97-91d5-49e6-bda8-fbb8c2bf6126",
   "metadata": {},
   "outputs": [],
   "source": [
    "business =  dp_simple_dataset_pack._filter_dataset_by_label(\"Business\")"
   ]
  },
  {
   "cell_type": "code",
   "execution_count": 6,
   "id": "64fe9530-8c8d-47ea-a724-0969cfb4e0c2",
   "metadata": {},
   "outputs": [],
   "source": [
    "splits = dp_simple_dataset_pack._split_dataset(business, 5, 1)"
   ]
  },
  {
   "cell_type": "code",
   "execution_count": 7,
   "id": "e192617e-9b8c-46ae-bb3f-80c908ee6287",
   "metadata": {},
   "outputs": [
    {
     "data": {
      "text/plain": [
       "[LabelledSimpleDataset(examples=[LabelledSimpleDataExample(reference_label='Business', text='Hilfiger Sales and Net Fall Amid Inquiry More bad news poured out of the Tommy Hilfiger Corporation yesterday, as the clothing company - facing an investigation by the United States attorney #39;s office in Manhattan - reported disappointing sales and declining operating margins.', text_by=CreatedBy(model_name='', type=<CreatedByType.HUMAN: 'human'>))]),\n",
       " LabelledSimpleDataset(examples=[LabelledSimpleDataExample(reference_label='Business', text='Dollar Steadies, More Weakness Expected (Reuters) Reuters - The U.S. dollar paused near recent\\\\lows Friday but dealers expected selling to resume after a\\\\weekend meeting of G20 finance ministers, while stock investors\\\\sought cover in companies immune to currency risks.', text_by=CreatedBy(model_name='', type=<CreatedByType.HUMAN: 'human'>))]),\n",
       " LabelledSimpleDataset(examples=[LabelledSimpleDataExample(reference_label='Business', text='US Airways Talks with Pilots Collapse Talks between US Airways (UAIR.O: Quote, Profile, Research) and its pilots union over a new round of concessions collapsed on Monday, the union said.', text_by=CreatedBy(model_name='', type=<CreatedByType.HUMAN: 'human'>))]),\n",
       " LabelledSimpleDataset(examples=[LabelledSimpleDataExample(reference_label='Business', text='Parmalat adds Credit Suisse Extraordinary commissioner Enrico Bondi has filed a claim against CSFB in a Parma court in connection with a forward sale agreement between the bank and Parmalat dating from January 2002. ', text_by=CreatedBy(model_name='', type=<CreatedByType.HUMAN: 'human'>))]),\n",
       " LabelledSimpleDataset(examples=[LabelledSimpleDataExample(reference_label='Business', text='First Enron Trial May Show Wall Street #39;s Darker Side HOUSTON -- The darker side of Wall Street could come to light Monday as the criminal trial involving former Enron executives takes a look at the inner workings of the Wall Street investment banking business.', text_by=CreatedBy(model_name='', type=<CreatedByType.HUMAN: 'human'>))])]"
      ]
     },
     "execution_count": 7,
     "metadata": {},
     "output_type": "execute_result"
    }
   ],
   "source": [
    "splits"
   ]
  },
  {
   "cell_type": "code",
   "execution_count": 50,
   "id": "8cdc1d5d-bf6e-4567-851a-1087036e2887",
   "metadata": {},
   "outputs": [],
   "source": [
    "synthetic_example = \"\"\n",
    "label = \"Business\"\n",
    "chat_messages = dp_simple_dataset_pack._get_messages_for_synthetic_generation(\n",
    "                    splits[1], synthetic_example, label\n",
    "                )"
   ]
  },
  {
   "cell_type": "code",
   "execution_count": 51,
   "id": "13fb20c5-1b34-454a-a5b9-4d73c0c76db0",
   "metadata": {},
   "outputs": [
    {
     "name": "stdout",
     "output_type": "stream",
     "text": [
      "MessageRole.SYSTEM\n",
      "You are a helpful assistant that follows instructions and formatting strictly.\n",
      "\n",
      "MessageRole.USER\n",
      "Given a label of news type, generate the chosen type of news accordingly. Always start your answer with the format provided below. Don't provide any other text, go straight to answering in the provided format and continue any partial  assistant messages.\n",
      "\n",
      "News Type: [repeat provided label]\n",
      "Text: [provide your answer here].\n",
      "------------------------------\n",
      "\n",
      "News Type: Business\n",
      "\n",
      "MessageRole.ASSISTANT\n",
      "News Type: Business\n",
      "Text: Peoplesoft bounces back to profit Peoplesoft, the software maker that is the target of a hostile takeover bid from industry heavyweight Oracle, returns to profit in the third quarter.\n",
      "\n",
      "MessageRole.USER\n",
      "Given a label of news type, generate the chosen type of news accordingly. Always start your answer with the format provided below. Don't provide any other text, go straight to answering in the provided format and continue any partial  assistant messages.\n",
      "\n",
      "News Type: [repeat provided label]\n",
      "Text: [provide your answer here].\n",
      "------------------------------\n",
      "\n",
      "News Type: Business\n",
      "\n",
      "MessageRole.ASSISTANT\n",
      "News Type: Business\n",
      "Text: \n",
      "\n"
     ]
    }
   ],
   "source": [
    "for c in chat_messages:\n",
    "    print(c.role)\n",
    "    print(c.content)\n",
    "    print(\"\")"
   ]
  },
  {
   "cell_type": "code",
   "execution_count": 52,
   "id": "bcff2fa1-b33b-44c0-bf86-42e8fa0db5d0",
   "metadata": {},
   "outputs": [],
   "source": [
    "llm.max_tokens = 10"
   ]
  },
  {
   "cell_type": "code",
   "execution_count": 53,
   "id": "d27913d0-dd34-4012-b022-744f954bd090",
   "metadata": {},
   "outputs": [
    {
     "name": "stdout",
     "output_type": "stream",
     "text": [
      "assistant: Tech giant, Apple Inc., has announced a groundbreaking\n"
     ]
    }
   ],
   "source": [
    "print(llm.chat(chat_messages))"
   ]
  },
  {
   "cell_type": "code",
   "execution_count": 19,
   "id": "677b8648-2ffa-47cd-9a60-930c158e1df5",
   "metadata": {},
   "outputs": [
    {
     "data": {
      "text/plain": [
       "[[LogProb(token='In', logprob=-0.63690376, bytes=[73, 110]),\n",
       "  LogProb(token='Tech', logprob=-2.1681538, bytes=[84, 101, 99, 104]),\n",
       "  LogProb(token='The', logprob=-2.4806538, bytes=[84, 104, 101]),\n",
       "  LogProb(token='Global', logprob=-2.6056538, bytes=[71, 108, 111, 98, 97, 108]),\n",
       "  LogProb(token='Major', logprob=-3.7775288, bytes=[77, 97, 106, 111, 114]),\n",
       "  LogProb(token='Stock', logprob=-3.9806538, bytes=[83, 116, 111, 99, 107]),\n",
       "  LogProb(token='Shares', logprob=-4.199404, bytes=[83, 104, 97, 114, 101, 115]),\n",
       "  LogProb(token='E', logprob=-4.699404, bytes=[69]),\n",
       "  LogProb(token='Apple', logprob=-4.746279, bytes=[65, 112, 112, 108, 101]),\n",
       "  LogProb(token='Microsoft', logprob=-4.902529, bytes=[77, 105, 99, 114, 111, 115, 111, 102, 116]),\n",
       "  LogProb(token='Today', logprob=-4.965029, bytes=[84, 111, 100, 97, 121]),\n",
       "  LogProb(token='Invest', logprob=-4.996279, bytes=[73, 110, 118, 101, 115, 116]),\n",
       "  LogProb(token='Technology', logprob=-5.074404, bytes=[84, 101, 99, 104, 110, 111, 108, 111, 103, 121]),\n",
       "  LogProb(token='Market', logprob=-5.090029, bytes=[77, 97, 114, 107, 101, 116]),\n",
       "  LogProb(token='Following', logprob=-5.199404, bytes=[70, 111, 108, 108, 111, 119, 105, 110, 103]),\n",
       "  LogProb(token='Leading', logprob=-5.261904, bytes=[76, 101, 97, 100, 105, 110, 103]),\n",
       "  LogProb(token='Ren', logprob=-5.386904, bytes=[82, 101, 110]),\n",
       "  LogProb(token='Tesla', logprob=-5.402529, bytes=[84, 101, 115, 108, 97]),\n",
       "  LogProb(token='After', logprob=-5.715029, bytes=[65, 102, 116, 101, 114]),\n",
       "  LogProb(token='Amazon', logprob=-5.730654, bytes=[65, 109, 97, 122, 111, 110])],\n",
       " [LogProb(token=' a', logprob=-0.17309582, bytes=[32, 97]),\n",
       "  LogProb(token=' an', logprob=-2.3449707, bytes=[32, 97, 110]),\n",
       "  LogProb(token=' the', logprob=-3.8449707, bytes=[32, 116, 104, 101]),\n",
       "  LogProb(token=' recent', logprob=-5.1262207, bytes=[32, 114, 101, 99, 101, 110, 116]),\n",
       "  LogProb(token=' groundbreaking', logprob=-5.3293457, bytes=[32, 103, 114, 111, 117, 110, 100, 98, 114, 101, 97, 107, 105, 110, 103]),\n",
       "  LogProb(token=' unprecedented', logprob=-5.6105957, bytes=[32, 117, 110, 112, 114, 101, 99, 101, 100, 101, 110, 116, 101, 100]),\n",
       "  LogProb(token=' major', logprob=-5.7043457, bytes=[32, 109, 97, 106, 111, 114]),\n",
       "  LogProb(token=' what', logprob=-5.8449707, bytes=[32, 119, 104, 97, 116]),\n",
       "  LogProb(token=' landmark', logprob=-5.9074707, bytes=[32, 108, 97, 110, 100, 109, 97, 114, 107]),\n",
       "  LogProb(token=' today', logprob=-5.9387207, bytes=[32, 116, 111, 100, 97, 121]),\n",
       "  LogProb(token=' response', logprob=-6.3137207, bytes=[32, 114, 101, 115, 112, 111, 110, 115, 101]),\n",
       "  LogProb(token=' breaking', logprob=-7.0168457, bytes=[32, 98, 114, 101, 97, 107, 105, 110, 103]),\n",
       "  LogProb(token='nov', logprob=-7.0480957, bytes=[110, 111, 118]),\n",
       "  LogProb(token=' historic', logprob=-7.0637207, bytes=[32, 104, 105, 115, 116, 111, 114, 105, 99]),\n",
       "  LogProb(token=' another', logprob=-7.1262207, bytes=[32, 97, 110, 111, 116, 104, 101, 114]),\n",
       "  LogProb(token=' latest', logprob=-7.2355957, bytes=[32, 108, 97, 116, 101, 115, 116]),\n",
       "  LogProb(token=' significant', logprob=-7.2355957, bytes=[32, 115, 105, 103, 110, 105, 102, 105, 99, 97, 110, 116]),\n",
       "  LogProb(token=' unexpected', logprob=-7.2355957, bytes=[32, 117, 110, 101, 120, 112, 101, 99, 116, 101, 100]),\n",
       "  LogProb(token=' surprising', logprob=-7.462158, bytes=[32, 115, 117, 114, 112, 114, 105, 115, 105, 110, 103]),\n",
       "  LogProb(token=' light', logprob=-7.634033, bytes=[32, 108, 105, 103, 104, 116])],\n",
       " [LogProb(token=' surprising', logprob=-1.2206372, bytes=[32, 115, 117, 114, 112, 114, 105, 115, 105, 110, 103]),\n",
       "  LogProb(token=' major', logprob=-2.2050123, bytes=[32, 109, 97, 106, 111, 114]),\n",
       "  LogProb(token=' groundbreaking', logprob=-2.3768873, bytes=[32, 103, 114, 111, 117, 110, 100, 98, 114, 101, 97, 107, 105, 110, 103]),\n",
       "  LogProb(token=' significant', logprob=-2.4393873, bytes=[32, 115, 105, 103, 110, 105, 102, 105, 99, 97, 110, 116]),\n",
       "  LogProb(token=' landmark', logprob=-2.4706373, bytes=[32, 108, 97, 110, 100, 109, 97, 114, 107]),\n",
       "  LogProb(token=' historic', logprob=-2.7050123, bytes=[32, 104, 105, 115, 116, 111, 114, 105, 99]),\n",
       "  LogProb(token=' recent', logprob=-3.2050123, bytes=[32, 114, 101, 99, 101, 110, 116]),\n",
       "  LogProb(token=' stunning', logprob=-3.5331373, bytes=[32, 115, 116, 117, 110, 110, 105, 110, 103]),\n",
       "  LogProb(token=' monumental', logprob=-4.0487623, bytes=[32, 109, 111, 110, 117, 109, 101, 110, 116, 97, 108]),\n",
       "  LogProb(token=' shocking', logprob=-4.0487623, bytes=[32, 115, 104, 111, 99, 107, 105, 110, 103]),\n",
       "  LogProb(token=' bold', logprob=-4.0800123, bytes=[32, 98, 111, 108, 100]),\n",
       "  LogProb(token=' surprise', logprob=-4.1268873, bytes=[32, 115, 117, 114, 112, 114, 105, 115, 101]),\n",
       "  LogProb(token=' remarkable', logprob=-4.2362623, bytes=[32, 114, 101, 109, 97, 114, 107, 97, 98, 108, 101]),\n",
       "  LogProb(token=' ground', logprob=-4.6425123, bytes=[32, 103, 114, 111, 117, 110, 100]),\n",
       "  LogProb(token=' dramatic', logprob=-4.6893873, bytes=[32, 100, 114, 97, 109, 97, 116, 105, 99]),\n",
       "  LogProb(token=' bid', logprob=-4.9081373, bytes=[32, 98, 105, 100]),\n",
       "  LogProb(token=' breakthrough', logprob=-4.9393873, bytes=[32, 98, 114, 101, 97, 107, 116, 104, 114, 111, 117, 103, 104]),\n",
       "  LogProb(token=' strategic', logprob=-5.0800123, bytes=[32, 115, 116, 114, 97, 116, 101, 103, 105, 99]),\n",
       "  LogProb(token=' startling', logprob=-5.0956373, bytes=[32, 115, 116, 97, 114, 116, 108, 105, 110, 103]),\n",
       "  LogProb(token=' historical', logprob=-5.1425123, bytes=[32, 104, 105, 115, 116, 111, 114, 105, 99, 97, 108])]]"
      ]
     },
     "execution_count": 19,
     "metadata": {},
     "output_type": "execute_result"
    }
   ],
   "source": [
    "response = dp_simple_dataset_pack.llm.chat(chat_messages)\n",
    "response.logprobs"
   ]
  },
  {
   "cell_type": "code",
   "execution_count": 20,
   "id": "c2025fa5-71d6-485e-b6ac-ce5c43b8575e",
   "metadata": {},
   "outputs": [],
   "source": [
    "zero_shot_chat_messages = dp_simple_dataset_pack._get_messages_for_reduced_token_universe(\n",
    "                synthetic_example, label\n",
    "            )"
   ]
  },
  {
   "cell_type": "code",
   "execution_count": 21,
   "id": "2cb7a401-80b4-466b-96e8-f62979ca7834",
   "metadata": {},
   "outputs": [
    {
     "name": "stdout",
     "output_type": "stream",
     "text": [
      "MessageRole.SYSTEM\n",
      "You are a helpful assistant that follows instructions and formatting strictly.\n",
      "\n",
      "MessageRole.USER\n",
      "Given a label of news type, generate the chosen type of news accordingly. Always start your answer with the format provided below. Don't provide any other text, go straight to answering in the provided format and continue any partial  assistant messages.\n",
      "\n",
      "News Type: [repeat provided label]\n",
      "Text: [provide your answer here].\n",
      "------------------------------\n",
      "\n",
      "News Type: Business\n",
      "\n",
      "MessageRole.ASSISTANT\n",
      "News Type: Business\n",
      "Text: \n",
      "\n"
     ]
    }
   ],
   "source": [
    "for c in zero_shot_chat_messages:\n",
    "    print(c.role)\n",
    "    print(c.content)\n",
    "    print(\"\")"
   ]
  },
  {
   "cell_type": "code",
   "execution_count": 22,
   "id": "2f93573e-e8b3-419c-b5f1-6f4e092e4eca",
   "metadata": {},
   "outputs": [],
   "source": [
    "llm.max_tokens = 10\n",
    "response = dp_simple_dataset_pack.llm.chat(zero_shot_chat_messages)"
   ]
  },
  {
   "cell_type": "code",
   "execution_count": 24,
   "id": "dbc179d2-1921-400c-b009-5a0aea67bf92",
   "metadata": {},
   "outputs": [
    {
     "name": "stdout",
     "output_type": "stream",
     "text": [
      "assistant: In a surprising turn, Tech-Start Corporation,\n"
     ]
    }
   ],
   "source": [
    "print(response)"
   ]
  },
  {
   "cell_type": "code",
   "execution_count": 23,
   "id": "2e2648a6-7a76-4be3-a305-1102dc867a4f",
   "metadata": {},
   "outputs": [
    {
     "data": {
      "text/plain": [
       "[[LogProb(token='In', logprob=-0.22761486, bytes=[73, 110]),\n",
       "  LogProb(token='The', logprob=-2.6494899, bytes=[84, 104, 101]),\n",
       "  LogProb(token='Shares', logprob=-3.9463649, bytes=[83, 104, 97, 114, 101, 115]),\n",
       "  LogProb(token='Today', logprob=-4.14949, bytes=[84, 111, 100, 97, 121]),\n",
       "  LogProb(token='News', logprob=-4.24324, bytes=[78, 101, 119, 115]),\n",
       "  LogProb(token='Global', logprob=-4.49324, bytes=[71, 108, 111, 98, 97, 108]),\n",
       "  LogProb(token='Stock', logprob=-5.102615, bytes=[83, 116, 111, 99, 107]),\n",
       "  LogProb(token='Tech', logprob=-5.196365, bytes=[84, 101, 99, 104]),\n",
       "  LogProb(token='Major', logprob=-5.227615, bytes=[77, 97, 106, 111, 114]),\n",
       "  LogProb(token='Market', logprob=-5.571365, bytes=[77, 97, 114, 107, 101, 116]),\n",
       "  LogProb(token='Following', logprob=-5.58699, bytes=[70, 111, 108, 108, 111, 119, 105, 110, 103]),\n",
       "  LogProb(token='Invest', logprob=-5.74324, bytes=[73, 110, 118, 101, 115, 116]),\n",
       "  LogProb(token='Leading', logprob=-5.80574, bytes=[76, 101, 97, 100, 105, 110, 103]),\n",
       "  LogProb(token='After', logprob=-5.89949, bytes=[65, 102, 116, 101, 114]),\n",
       "  LogProb(token='Mark', logprob=-6.14949, bytes=[77, 97, 114, 107]),\n",
       "  LogProb(token='Yesterday', logprob=-6.321365, bytes=[89, 101, 115, 116, 101, 114, 100, 97, 121]),\n",
       "  LogProb(token='Reports', logprob=-6.415115, bytes=[82, 101, 112, 111, 114, 116, 115]),\n",
       "  LogProb(token='Ren', logprob=-6.52449, bytes=[82, 101, 110]),\n",
       "  LogProb(token='Am', logprob=-6.52449, bytes=[65, 109]),\n",
       "  LogProb(token='Microsoft', logprob=-6.602615, bytes=[77, 105, 99, 114, 111, 115, 111, 102, 116])],\n",
       " [LogProb(token=' a', logprob=-0.30423728, bytes=[32, 97]),\n",
       "  LogProb(token=' an', logprob=-2.2886124, bytes=[32, 97, 110]),\n",
       "  LogProb(token=' the', logprob=-2.6636124, bytes=[32, 116, 104, 101]),\n",
       "  LogProb(token=' today', logprob=-3.6792374, bytes=[32, 116, 111, 100, 97, 121]),\n",
       "  LogProb(token=' recent', logprob=-3.7729874, bytes=[32, 114, 101, 99, 101, 110, 116]),\n",
       "  LogProb(token=' unprecedented', logprob=-5.3354874, bytes=[32, 117, 110, 112, 114, 101, 99, 101, 100, 101, 110, 116, 101, 100]),\n",
       "  LogProb(token=' major', logprob=-5.3979874, bytes=[32, 109, 97, 106, 111, 114]),\n",
       "  LogProb(token=' breaking', logprob=-5.5073624, bytes=[32, 98, 114, 101, 97, 107, 105, 110, 103]),\n",
       "  LogProb(token=' what', logprob=-5.5386124, bytes=[32, 119, 104, 97, 116]),\n",
       "  LogProb(token=' groundbreaking', logprob=-5.6323624, bytes=[32, 103, 114, 111, 117, 110, 100, 98, 114, 101, 97, 107, 105, 110, 103]),\n",
       "  LogProb(token=' significant', logprob=-6.1948624, bytes=[32, 115, 105, 103, 110, 105, 102, 105, 99, 97, 110, 116]),\n",
       "  LogProb(token=' business', logprob=-6.4604874, bytes=[32, 98, 117, 115, 105, 110, 101, 115, 115]),\n",
       "  LogProb(token=' landmark', logprob=-6.5698624, bytes=[32, 108, 97, 110, 100, 109, 97, 114, 107]),\n",
       "  LogProb(token=' our', logprob=-6.6323624, bytes=[32, 111, 117, 114]),\n",
       "  LogProb(token=' financial', logprob=-6.7886124, bytes=[32, 102, 105, 110, 97, 110, 99, 105, 97, 108]),\n",
       "  LogProb(token=' latest', logprob=-6.8511124, bytes=[32, 108, 97, 116, 101, 115, 116]),\n",
       "  LogProb(token=' surprising', logprob=-6.8511124, bytes=[32, 115, 117, 114, 112, 114, 105, 115, 105, 110, 103]),\n",
       "  LogProb(token=' unexpected', logprob=-6.93705, bytes=[32, 117, 110, 101, 120, 112, 101, 99, 116, 101, 100]),\n",
       "  LogProb(token=' another', logprob=-6.983925, bytes=[32, 97, 110, 111, 116, 104, 101, 114]),\n",
       "  LogProb(token=' one', logprob=-7.1011124, bytes=[32, 111, 110, 101])],\n",
       " [LogProb(token=' surprising', logprob=-0.77891266, bytes=[32, 115, 117, 114, 112, 114, 105, 115, 105, 110, 103]),\n",
       "  LogProb(token=' significant', logprob=-2.2945375, bytes=[32, 115, 105, 103, 110, 105, 102, 105, 99, 97, 110, 116]),\n",
       "  LogProb(token=' major', logprob=-2.4820375, bytes=[32, 109, 97, 106, 111, 114]),\n",
       "  LogProb(token=' groundbreaking', logprob=-3.0601625, bytes=[32, 103, 114, 111, 117, 110, 100, 98, 114, 101, 97, 107, 105, 110, 103]),\n",
       "  LogProb(token=' stunning', logprob=-3.1070375, bytes=[32, 115, 116, 117, 110, 110, 105, 110, 103]),\n",
       "  LogProb(token=' recent', logprob=-3.3882875, bytes=[32, 114, 101, 99, 101, 110, 116]),\n",
       "  LogProb(token=' landmark', logprob=-3.4351625, bytes=[32, 108, 97, 110, 100, 109, 97, 114, 107]),\n",
       "  LogProb(token=' shocking', logprob=-3.5601625, bytes=[32, 115, 104, 111, 99, 107, 105, 110, 103]),\n",
       "  LogProb(token=' remarkable', logprob=-3.7476625, bytes=[32, 114, 101, 109, 97, 114, 107, 97, 98, 108, 101]),\n",
       "  LogProb(token=' surprise', logprob=-3.8414125, bytes=[32, 115, 117, 114, 112, 114, 105, 115, 101]),\n",
       "  LogProb(token=' historic', logprob=-4.3414125, bytes=[32, 104, 105, 115, 116, 111, 114, 105, 99]),\n",
       "  LogProb(token=' monumental', logprob=-4.4039125, bytes=[32, 109, 111, 110, 117, 109, 101, 110, 116, 97, 108]),\n",
       "  LogProb(token=' dramatic', logprob=-4.6539125, bytes=[32, 100, 114, 97, 109, 97, 116, 105, 99]),\n",
       "  LogProb(token=' startling', logprob=-4.6851625, bytes=[32, 115, 116, 97, 114, 116, 108, 105, 110, 103]),\n",
       "  LogProb(token=' bold', logprob=-4.9039125, bytes=[32, 98, 111, 108, 100]),\n",
       "  LogProb(token=' ground', logprob=-5.4351625, bytes=[32, 103, 114, 111, 117, 110, 100]),\n",
       "  LogProb(token=' turn', logprob=-5.5601625, bytes=[32, 116, 117, 114, 110]),\n",
       "  LogProb(token=' move', logprob=-5.5757875, bytes=[32, 109, 111, 118, 101]),\n",
       "  LogProb(token=' sudden', logprob=-5.6851625, bytes=[32, 115, 117, 100, 100, 101, 110]),\n",
       "  LogProb(token=' massive', logprob=-5.7945375, bytes=[32, 109, 97, 115, 115, 105, 118, 101])],\n",
       " [LogProb(token=' turn', logprob=-0.25457007, bytes=[32, 116, 117, 114, 110]),\n",
       "  LogProb(token=' move', logprob=-2.19207, bytes=[32, 109, 111, 118, 101]),\n",
       "  LogProb(token=' development', logprob=-3.332695, bytes=[32, 100, 101, 118, 101, 108, 111, 112, 109, 101, 110, 116]),\n",
       "  LogProb(token=' twist', logprob=-4.020195, bytes=[32, 116, 119, 105, 115, 116]),\n",
       "  LogProb(token=' announcement', logprob=-4.12957, bytes=[32, 97, 110, 110, 111, 117, 110, 99, 101, 109, 101, 110, 116]),\n",
       "  LogProb(token=' shift', logprob=-5.09832, bytes=[32, 115, 104, 105, 102, 116]),\n",
       "  LogProb(token=' turnaround', logprob=-5.09832, bytes=[32, 116, 117, 114, 110, 97, 114, 111, 117, 110, 100]),\n",
       "  LogProb(token=' market', logprob=-5.72332, bytes=[32, 109, 97, 114, 107, 101, 116]),\n",
       "  LogProb(token=' merger', logprob=-5.78582, bytes=[32, 109, 101, 114, 103, 101, 114]),\n",
       "  LogProb(token=' financial', logprob=-6.12957, bytes=[32, 102, 105, 110, 97, 110, 99, 105, 97, 108]),\n",
       "  LogProb(token=' and', logprob=-6.613945, bytes=[32, 97, 110, 100]),\n",
       "  LogProb(token=' corporate', logprob=-6.62957, bytes=[32, 99, 111, 114, 112, 111, 114, 97, 116, 101]),\n",
       "  LogProb(token=' new', logprob=-6.770195, bytes=[32, 110, 101, 119]),\n",
       "  LogProb(token=' yet', logprob=-6.87957, bytes=[32, 121, 101, 116]),\n",
       "  LogProb(token=' business', logprob=-6.988945, bytes=[32, 98, 117, 115, 105, 110, 101, 115, 115]),\n",
       "  LogProb(token=' revelation', logprob=-6.988945, bytes=[32, 114, 101, 118, 101, 108, 97, 116, 105, 111, 110]),\n",
       "  LogProb(token=' industry', logprob=-7.176445, bytes=[32, 105, 110, 100, 117, 115, 116, 114, 121]),\n",
       "  LogProb(token=' overnight', logprob=-7.363945, bytes=[32, 111, 118, 101, 114, 110, 105, 103, 104, 116]),\n",
       "  LogProb(token=' but', logprob=-7.4342575, bytes=[32, 98, 117, 116]),\n",
       "  LogProb(token=' reversal', logprob=-7.488945, bytes=[32, 114, 101, 118, 101, 114, 115, 97, 108])],\n",
       " [LogProb(token=' of', logprob=-0.011460036, bytes=[32, 111, 102]),\n",
       "  LogProb(token=',', logprob=-4.85521, bytes=[44]),\n",
       "  LogProb(token=' today', logprob=-6.745835, bytes=[32, 116, 111, 100, 97, 121]),\n",
       "  LogProb(token=' for', logprob=-7.433335, bytes=[32, 102, 111, 114]),\n",
       "  LogProb(token=' in', logprob=-7.527085, bytes=[32, 105, 110]),\n",
       "  LogProb(token='about', logprob=-7.964585, bytes=[97, 98, 111, 117, 116]),\n",
       "  LogProb(token='-around', logprob=-8.29271, bytes=[45, 97, 114, 111, 117, 110, 100]),\n",
       "  LogProb(token=' around', logprob=-8.339585, bytes=[32, 97, 114, 111, 117, 110, 100]),\n",
       "  LogProb(token=' events', logprob=-9.058335, bytes=[32, 101, 118, 101, 110, 116, 115]),\n",
       "  LogProb(token=' this', logprob=-9.402085, bytes=[32, 116, 104, 105, 115]),\n",
       "  LogProb(token='-of', logprob=-9.870835, bytes=[45, 111, 102]),\n",
       "  LogProb(token=' on', logprob=-10.214585, bytes=[32, 111, 110]),\n",
       "  LogProb(token=' yesterday', logprob=-10.88646, bytes=[32, 121, 101, 115, 116, 101, 114, 100, 97, 121]),\n",
       "  LogProb(token=' over', logprob=-10.909898, bytes=[32, 111, 118, 101, 114]),\n",
       "  LogProb(token=' at', logprob=-11.16771, bytes=[32, 97, 116]),\n",
       "  LogProb(token=' within', logprob=-11.495835, bytes=[32, 119, 105, 116, 104, 105, 110]),\n",
       "  LogProb(token=' up', logprob=-11.566148, bytes=[32, 117, 112]),\n",
       "  LogProb(token=' about', logprob=-11.620835, bytes=[32, 97, 98, 111, 117, 116]),\n",
       "  LogProb(token=' from', logprob=-11.706773, bytes=[32, 102, 114, 111, 109]),\n",
       "  LogProb(token=' during', logprob=-12.10521, bytes=[32, 100, 117, 114, 105, 110, 103])],\n",
       " [LogProb(token=' tech', logprob=-1.3023505, bytes=[32, 116, 101, 99, 104]),\n",
       "  LogProb(token=' the', logprob=-1.3336005, bytes=[32, 116, 104, 101]),\n",
       "  LogProb(token=' global', logprob=-3.4586005, bytes=[32, 103, 108, 111, 98, 97, 108]),\n",
       "  LogProb(token=' Tech', logprob=-3.4742255, bytes=[32, 84, 101, 99, 104]),\n",
       "  LogProb(token=' technology', logprob=-3.5836005, bytes=[32, 116, 101, 99, 104, 110, 111, 108, 111, 103, 121]),\n",
       "  LogProb(token=' Wall', logprob=-3.6929755, bytes=[32, 87, 97, 108, 108]),\n",
       "  LogProb(token=' Amazon', logprob=-3.7398505, bytes=[32, 65, 109, 97, 122, 111, 110]),\n",
       "  LogProb(token=' e', logprob=-3.9429755, bytes=[32, 101]),\n",
       "  LogProb(token=' Apple', logprob=-3.9429755, bytes=[32, 65, 112, 112, 108, 101]),\n",
       "  LogProb(token=' multinational', logprob=-4.0367255, bytes=[32, 109, 117, 108, 116, 105, 110, 97, 116, 105, 111, 110, 97, 108]),\n",
       "  LogProb(token=' Microsoft', logprob=-4.1304755, bytes=[32, 77, 105, 99, 114, 111, 115, 111, 102, 116]),\n",
       "  LogProb(token=' Tesla', logprob=-4.325788, bytes=[32, 84, 101, 115, 108, 97]),\n",
       "  LogProb(token=' leading', logprob=-4.4429755, bytes=[32, 108, 101, 97, 100, 105, 110, 103]),\n",
       "  LogProb(token=' mega', logprob=-4.4586005, bytes=[32, 109, 101, 103, 97]),\n",
       "  LogProb(token=' online', logprob=-4.575788, bytes=[32, 111, 110, 108, 105, 110, 101]),\n",
       "  LogProb(token=' major', logprob=-4.7398505, bytes=[32, 109, 97, 106, 111, 114]),\n",
       "  LogProb(token=' Ac', logprob=-4.8179755, bytes=[32, 65, 99]),\n",
       "  LogProb(token=' today', logprob=-4.9117255, bytes=[32, 116, 111, 100, 97, 121]),\n",
       "  LogProb(token=' local', logprob=-4.9429755, bytes=[32, 108, 111, 99, 97, 108]),\n",
       "  LogProb(token=' Mega', logprob=-5.122663, bytes=[32, 77, 101, 103, 97])],\n",
       " [LogProb(token=' Giant', logprob=-1.1106933, bytes=[32, 71, 105, 97, 110, 116]),\n",
       "  LogProb(token=' giant', logprob=-1.9075683, bytes=[32, 103, 105, 97, 110, 116]),\n",
       "  LogProb(token=' Titan', logprob=-2.0794435, bytes=[32, 84, 105, 116, 97, 110]),\n",
       "  LogProb(token='-g', logprob=-2.790381, bytes=[45, 103]),\n",
       "  LogProb(token=' Giants', logprob=-3.3919435, bytes=[32, 71, 105, 97, 110, 116, 115]),\n",
       "  LogProb(token='G', logprob=-3.602881, bytes=[71]),\n",
       "  LogProb(token=' titan', logprob=-3.9856935, bytes=[32, 116, 105, 116, 97, 110]),\n",
       "  LogProb(token='Start', logprob=-4.087256, bytes=[83, 116, 97, 114, 116]),\n",
       "  LogProb(token='-G', logprob=-4.087256, bytes=[45, 71]),\n",
       "  LogProb(token='Corp', logprob=-4.306006, bytes=[67, 111, 114, 112]),\n",
       "  LogProb(token='Titan', logprob=-4.712256, bytes=[84, 105, 116, 97, 110]),\n",
       "  LogProb(token=' Titans', logprob=-4.7356935, bytes=[32, 84, 105, 116, 97, 110, 115]),\n",
       "  LogProb(token='Co', logprob=-5.0169435, bytes=[67, 111]),\n",
       "  LogProb(token=' Innov', logprob=-5.0638185, bytes=[32, 73, 110, 110, 111, 118]),\n",
       "  LogProb(token=' conglomer', logprob=-5.259131, bytes=[32, 99, 111, 110, 103, 108, 111, 109, 101, 114]),\n",
       "  LogProb(token=' Corp', logprob=-5.3138185, bytes=[32, 67, 111, 114, 112]),\n",
       "  LogProb(token='-T', logprob=-5.399756, bytes=[45, 84]),\n",
       "  LogProb(token=' giants', logprob=-5.415381, bytes=[32, 103, 105, 97, 110, 116, 115]),\n",
       "  LogProb(token=' mogul', logprob=-5.415381, bytes=[32, 109, 111, 103, 117, 108]),\n",
       "  LogProb(token=' startup', logprob=-5.4231935, bytes=[32, 115, 116, 97, 114, 116, 117, 112])],\n",
       " [LogProb(token='Start', logprob=-1.2990205, bytes=[83, 116, 97, 114, 116]),\n",
       "  LogProb(token='Startup', logprob=-1.8771455, bytes=[83, 116, 97, 114, 116, 117, 112]),\n",
       "  LogProb(token='Global', logprob=-2.6740205, bytes=[71, 108, 111, 98, 97, 108]),\n",
       "  LogProb(token='Gen', logprob=-3.0333955, bytes=[71, 101, 110]),\n",
       "  LogProb(token='World', logprob=-3.4083955, bytes=[87, 111, 114, 108, 100]),\n",
       "  LogProb(token='Forward', logprob=-3.5802705, bytes=[70, 111, 114, 119, 97, 114, 100]),\n",
       "  LogProb(token='Company', logprob=-3.7521455, bytes=[67, 111, 109, 112, 97, 110, 121]),\n",
       "  LogProb(token='Link', logprob=-3.7833955, bytes=[76, 105, 110, 107]),\n",
       "  LogProb(token='Plus', logprob=-4.408396, bytes=[80, 108, 117, 115]),\n",
       "  LogProb(token='Rev', logprob=-4.533396, bytes=[82, 101, 118]),\n",
       "  LogProb(token='Over', logprob=-4.595896, bytes=[79, 118, 101, 114]),\n",
       "  LogProb(token='Bl', logprob=-4.736521, bytes=[66, 108]),\n",
       "  LogProb(token='Boost', logprob=-4.736521, bytes=[66, 111, 111, 115, 116]),\n",
       "  LogProb(token='Icon', logprob=-4.783396, bytes=[73, 99, 111, 110]),\n",
       "  LogProb(token='Edge', logprob=-4.830271, bytes=[69, 100, 103, 101]),\n",
       "  LogProb(token='Elite', logprob=-4.830271, bytes=[69, 108, 105, 116, 101]),\n",
       "  LogProb(token='Com', logprob=-4.877146, bytes=[67, 111, 109]),\n",
       "  LogProb(token='Enterprise', logprob=-4.908396, bytes=[69, 110, 116, 101, 114, 112, 114, 105, 115, 101]),\n",
       "  LogProb(token='Ed', logprob=-5.111521, bytes=[69, 100]),\n",
       "  LogProb(token='Next', logprob=-5.142771, bytes=[78, 101, 120, 116])],\n",
       " [LogProb(token=' Inc', logprob=-0.71753836, bytes=[32, 73, 110, 99]),\n",
       "  LogProb(token=' Co', logprob=-2.6862884, bytes=[32, 67, 111]),\n",
       "  LogProb(token='-Up', logprob=-2.7722259, bytes=[45, 85, 112]),\n",
       "  LogProb(token='Up', logprob=-2.8112884, bytes=[85, 112]),\n",
       "  LogProb(token=' Industries', logprob=-3.1316009, bytes=[32, 73, 110, 100, 117, 115, 116, 114, 105, 101, 115]),\n",
       "  LogProb(token=' Corporation', logprob=-3.2019134, bytes=[32, 67, 111, 114, 112, 111, 114, 97, 116, 105, 111, 110]),\n",
       "  LogProb(token=' Corp', logprob=-3.2097259, bytes=[32, 67, 111, 114, 112]),\n",
       "  LogProb(token=',', logprob=-3.5222259, bytes=[44]),\n",
       "  LogProb(token='-up', logprob=-4.225351, bytes=[45, 117, 112]),\n",
       "  LogProb(token='ups', logprob=-4.3425384, bytes=[117, 112, 115]),\n",
       "  LogProb(token=' Ltd', logprob=-4.5300384, bytes=[32, 76, 116, 100]),\n",
       "  LogProb(token=' Enterprises', logprob=-4.8112884, bytes=[32, 69, 110, 116, 101, 114, 112, 114, 105, 115, 101, 115]),\n",
       "  LogProb(token=' has', logprob=-4.819101, bytes=[32, 104, 97, 115]),\n",
       "  LogProb(token=' Company', logprob=-4.8425384, bytes=[32, 67, 111, 109, 112, 97, 110, 121]),\n",
       "  LogProb(token=' Incorporated', logprob=-4.9675384, bytes=[32, 73, 110, 99, 111, 114, 112, 111, 114, 97, 116, 101, 100]),\n",
       "  LogProb(token=' announced', logprob=-5.1081634, bytes=[32, 97, 110, 110, 111, 117, 110, 99, 101, 100]),\n",
       "  LogProb(token=' company', logprob=-5.1550384, bytes=[32, 99, 111, 109, 112, 97, 110, 121]),\n",
       "  LogProb(token=' Giant', logprob=-5.2019134, bytes=[32, 71, 105, 97, 110, 116]),\n",
       "  LogProb(token=' Up', logprob=-5.2644134, bytes=[32, 85, 112]),\n",
       "  LogProb(token=' Global', logprob=-5.2644134, bytes=[32, 71, 108, 111, 98, 97, 108])],\n",
       " [LogProb(token=' announced', logprob=-0.7415536, bytes=[32, 97, 110, 110, 111, 117, 110, 99, 101, 100]),\n",
       "  LogProb(token=',', logprob=-1.4759285, bytes=[44]),\n",
       "  LogProb(token=' has', logprob=-1.6634285, bytes=[32, 104, 97, 115]),\n",
       "  LogProb(token=' reported', logprob=-3.6009285, bytes=[32, 114, 101, 112, 111, 114, 116, 101, 100]),\n",
       "  LogProb(token=' saw', logprob=-4.616554, bytes=[32, 115, 97, 119]),\n",
       "  LogProb(token=' today', logprob=-4.882179, bytes=[32, 116, 111, 100, 97, 121]),\n",
       "  LogProb(token=' acquired', logprob=-4.960304, bytes=[32, 97, 99, 113, 117, 105, 114, 101, 100]),\n",
       "  LogProb(token=\"'s\", logprob=-5.397804, bytes=[39, 115]),\n",
       "  LogProb(token=' posted', logprob=-5.694679, bytes=[32, 112, 111, 115, 116, 101, 100]),\n",
       "  LogProb(token=' announces', logprob=-5.725929, bytes=[32, 97, 110, 110, 111, 117, 110, 99, 101, 115]),\n",
       "  LogProb(token=' managed', logprob=-5.850929, bytes=[32, 109, 97, 110, 97, 103, 101, 100]),\n",
       "  LogProb(token=' revealed', logprob=-5.944679, bytes=[32, 114, 101, 118, 101, 97, 108, 101, 100]),\n",
       "  LogProb(token=' declared', logprob=-5.944679, bytes=[32, 100, 101, 99, 108, 97, 114, 101, 100]),\n",
       "  LogProb(token=' recently', logprob=-5.975929, bytes=[32, 114, 101, 99, 101, 110, 116, 108, 121]),\n",
       "  LogProb(token=' just', logprob=-6.241554, bytes=[32, 106, 117, 115, 116]),\n",
       "  LogProb(token=' secured', logprob=-6.241554, bytes=[32, 115, 101, 99, 117, 114, 101, 100]),\n",
       "  LogProb(token=' witnessed', logprob=-6.350929, bytes=[32, 119, 105, 116, 110, 101, 115, 115, 101, 100]),\n",
       "  LogProb(token=' reports', logprob=-6.366554, bytes=[32, 114, 101, 112, 111, 114, 116, 115]),\n",
       "  LogProb(token=' experienced', logprob=-6.366554, bytes=[32, 101, 120, 112, 101, 114, 105, 101, 110, 99, 101, 100]),\n",
       "  LogProb(token=' made', logprob=-6.772804, bytes=[32, 109, 97, 100, 101])]]"
      ]
     },
     "execution_count": 23,
     "metadata": {},
     "output_type": "execute_result"
    }
   ],
   "source": [
    "response.logprobs"
   ]
  },
  {
   "cell_type": "code",
   "execution_count": 16,
   "id": "7f6f266c-5c7e-4d7f-b690-bbaf30ac6bb2",
   "metadata": {},
   "outputs": [
    {
     "name": "stdout",
     "output_type": "stream",
     "text": [
      "Generating token: 1\n",
      "Generating token: 2\n",
      "Generating token: 3\n",
      "Generating token: 4\n",
      "Generating token: 5\n",
      "Generating token: 6\n",
      "Generating token: 7\n",
      "Generating token: 8\n",
      "Generating token: 9\n",
      "Generating token: 10\n",
      "Generating token: 11\n",
      "Generating token: 12\n",
      "Generating token: 13\n",
      "Generating token: 14\n",
      "Generating token: 15\n",
      "Generating token: 16\n",
      "Generating token: 17\n",
      "Generating token: 18\n",
      "Generating token: 19\n",
      "Generating token: 20\n",
      "Generating token: 21\n",
      "Generating token: 22\n",
      "Generating token: 23\n",
      "Generating token: 24\n",
      "Generating token: 25\n",
      "Generating token: 26\n",
      "Generating token: 27\n",
      "Generating token: 28\n",
      "Generating token: 29\n",
      "Generating token: 30\n",
      "Generating token: 31\n",
      "Generating token: 32\n",
      "Generating token: 33\n",
      "Generating token: 34\n",
      "Generating token: 35\n",
      "Generating token: 36\n",
      "Generating token: 37\n",
      "Generating token: 38\n",
      "Generating token: 39\n",
      "Generating token: 40\n",
      "Generating token: 41\n",
      "Generating token: 42\n",
      "synthetic_example: In Type: In \n",
      "Text: The last yesterday from of the last theanticipateddog team another New to score late game deficient another The since seize The-b has Yankee further This ignited the perfect they  win amid\n"
     ]
    },
    {
     "data": {
      "text/plain": [
       "LabelledSimpleDataExample(reference_label='Sports', text=\"News Type: Sports\\nText: In the latest sports news, the New York Yankees managed to seize a late-game victory yesterday. This win has further ignited their perfect season, showing their resilience and ability to overcome deficits. The team's performance has been nothing short of spectacular, setting a high bar for their competitors.\", text_by=CreatedBy(model_name='gpt-4', type=<CreatedByType.AI: 'ai'>))"
      ]
     },
     "execution_count": 16,
     "metadata": {},
     "output_type": "execute_result"
    }
   ],
   "source": [
    "dp_simple_dataset_pack.generate_dp_synthetic_example(\n",
    "    label=\"Sports\",\n",
    "    t_max=42,\n",
    "    sigma=0.5,\n",
    "    num_splits=3,\n",
    "    num_samples_per_split=2\n",
    ")"
   ]
  },
  {
   "cell_type": "code",
   "execution_count": 10,
   "id": "57e6617c-163a-4555-be64-bee55fdfc5db",
   "metadata": {},
   "outputs": [
    {
     "name": "stdout",
     "output_type": "stream",
     "text": [
      "As\n",
      " Type  \n",
      "Text: The: market continue  continues show today in gains major key earnings key  investor earnings.\n"
     ]
    }
   ],
   "source": [
    "print('As\\n Type  \\nText: The: market continue  continues show today in gains major key earnings key  investor earnings.')"
   ]
  }
 ],
 "metadata": {
  "kernelspec": {
   "display_name": "diff-private-examples-gen-pack",
   "language": "python",
   "name": "diff-private-examples-gen-pack"
  },
  "language_info": {
   "codemirror_mode": {
    "name": "ipython",
    "version": 3
   },
   "file_extension": ".py",
   "mimetype": "text/x-python",
   "name": "python",
   "nbconvert_exporter": "python",
   "pygments_lexer": "ipython3",
   "version": "3.10.13"
  }
 },
 "nbformat": 4,
 "nbformat_minor": 5
}
