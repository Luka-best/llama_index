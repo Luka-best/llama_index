{
 "cells": [
  {
   "cell_type": "code",
   "execution_count": 5,
   "id": "8a344e90-a265-476c-8eec-6c77b45b2f85",
   "metadata": {},
   "outputs": [],
   "source": [
    "from llama_index.packs.diff_private_simple_dataset.simple_dataset import LabelledSimpleDataExample, LabelledSimpleDataset\n",
    "from llama_index.core.llama_dataset.base import CreatedBy, CreatedByType\n",
    "import pandas as pd"
   ]
  },
  {
   "cell_type": "markdown",
   "id": "0903c9e8-bbde-4488-896e-9a83ee27af01",
   "metadata": {},
   "source": [
    "### Load data"
   ]
  },
  {
   "cell_type": "code",
   "execution_count": 3,
   "id": "eba32ef6-fb27-4a3a-81e7-63f86a720631",
   "metadata": {},
   "outputs": [],
   "source": [
    "df = pd.read_csv(\"./data/agnews/train.csv\")"
   ]
  },
  {
   "cell_type": "code",
   "execution_count": 12,
   "id": "3ab82e0d-8c9c-427c-8523-51cbba53963d",
   "metadata": {},
   "outputs": [],
   "source": [
    "class_to_label = {\n",
    "    1: \"World\",\n",
    "    2: \"Sports\",\n",
    "    3: \"Business\",\n",
    "    4: \"Sci/Tech\"\n",
    "}"
   ]
  },
  {
   "cell_type": "code",
   "execution_count": 13,
   "id": "f23d95d9-1092-4ace-93c7-f1413bacdcd8",
   "metadata": {},
   "outputs": [],
   "source": [
    "df[\"Label\"] = df[\"Class Index\"].map(class_to_label)"
   ]
  },
  {
   "cell_type": "code",
   "execution_count": 14,
   "id": "c1028fdb-6d73-495c-8b31-e3ae33f47685",
   "metadata": {},
   "outputs": [
    {
     "data": {
      "text/html": [
       "<div>\n",
       "<style scoped>\n",
       "    .dataframe tbody tr th:only-of-type {\n",
       "        vertical-align: middle;\n",
       "    }\n",
       "\n",
       "    .dataframe tbody tr th {\n",
       "        vertical-align: top;\n",
       "    }\n",
       "\n",
       "    .dataframe thead th {\n",
       "        text-align: right;\n",
       "    }\n",
       "</style>\n",
       "<table border=\"1\" class=\"dataframe\">\n",
       "  <thead>\n",
       "    <tr style=\"text-align: right;\">\n",
       "      <th></th>\n",
       "      <th>Class Index</th>\n",
       "      <th>Title</th>\n",
       "      <th>Description</th>\n",
       "      <th>Label</th>\n",
       "    </tr>\n",
       "  </thead>\n",
       "  <tbody>\n",
       "    <tr>\n",
       "      <th>0</th>\n",
       "      <td>3</td>\n",
       "      <td>Wall St. Bears Claw Back Into the Black (Reuters)</td>\n",
       "      <td>Reuters - Short-sellers, Wall Street's dwindli...</td>\n",
       "      <td>Business</td>\n",
       "    </tr>\n",
       "    <tr>\n",
       "      <th>1</th>\n",
       "      <td>3</td>\n",
       "      <td>Carlyle Looks Toward Commercial Aerospace (Reu...</td>\n",
       "      <td>Reuters - Private investment firm Carlyle Grou...</td>\n",
       "      <td>Business</td>\n",
       "    </tr>\n",
       "    <tr>\n",
       "      <th>2</th>\n",
       "      <td>3</td>\n",
       "      <td>Oil and Economy Cloud Stocks' Outlook (Reuters)</td>\n",
       "      <td>Reuters - Soaring crude prices plus worries\\ab...</td>\n",
       "      <td>Business</td>\n",
       "    </tr>\n",
       "    <tr>\n",
       "      <th>3</th>\n",
       "      <td>3</td>\n",
       "      <td>Iraq Halts Oil Exports from Main Southern Pipe...</td>\n",
       "      <td>Reuters - Authorities have halted oil export\\f...</td>\n",
       "      <td>Business</td>\n",
       "    </tr>\n",
       "    <tr>\n",
       "      <th>4</th>\n",
       "      <td>3</td>\n",
       "      <td>Oil prices soar to all-time record, posing new...</td>\n",
       "      <td>AFP - Tearaway world oil prices, toppling reco...</td>\n",
       "      <td>Business</td>\n",
       "    </tr>\n",
       "  </tbody>\n",
       "</table>\n",
       "</div>"
      ],
      "text/plain": [
       "   Class Index                                              Title  \\\n",
       "0            3  Wall St. Bears Claw Back Into the Black (Reuters)   \n",
       "1            3  Carlyle Looks Toward Commercial Aerospace (Reu...   \n",
       "2            3    Oil and Economy Cloud Stocks' Outlook (Reuters)   \n",
       "3            3  Iraq Halts Oil Exports from Main Southern Pipe...   \n",
       "4            3  Oil prices soar to all-time record, posing new...   \n",
       "\n",
       "                                         Description     Label  \n",
       "0  Reuters - Short-sellers, Wall Street's dwindli...  Business  \n",
       "1  Reuters - Private investment firm Carlyle Grou...  Business  \n",
       "2  Reuters - Soaring crude prices plus worries\\ab...  Business  \n",
       "3  Reuters - Authorities have halted oil export\\f...  Business  \n",
       "4  AFP - Tearaway world oil prices, toppling reco...  Business  "
      ]
     },
     "execution_count": 14,
     "metadata": {},
     "output_type": "execute_result"
    }
   ],
   "source": [
    "df.head()"
   ]
  },
  {
   "cell_type": "markdown",
   "id": "9b9b4f69-5233-447e-80db-26abd2db9df8",
   "metadata": {},
   "source": [
    "### Create LabelledSimpleDataExample"
   ]
  },
  {
   "cell_type": "code",
   "execution_count": 16,
   "id": "ed53763f-b362-481f-b2a6-ac940675c650",
   "metadata": {},
   "outputs": [],
   "source": [
    "examples = []\n",
    "for index, row in df.iterrows():\n",
    "    example = LabelledSimpleDataExample(\n",
    "        reference_label=row[\"Label\"],\n",
    "        text=f\"{row['Title']} {row['Description']}\",\n",
    "        text_by=CreatedBy(type=CreatedByType.HUMAN)\n",
    "    )\n",
    "    examples.append(example)\n",
    "\n",
    "simple_dataset = LabelledSimpleDataset(examples=examples)"
   ]
  },
  {
   "cell_type": "code",
   "execution_count": 17,
   "id": "729d3561-b0f9-4dc1-9bbe-9913f5114095",
   "metadata": {},
   "outputs": [
    {
     "data": {
      "text/html": [
       "<div>\n",
       "<style scoped>\n",
       "    .dataframe tbody tr th:only-of-type {\n",
       "        vertical-align: middle;\n",
       "    }\n",
       "\n",
       "    .dataframe tbody tr th {\n",
       "        vertical-align: top;\n",
       "    }\n",
       "\n",
       "    .dataframe thead th {\n",
       "        text-align: right;\n",
       "    }\n",
       "</style>\n",
       "<table border=\"1\" class=\"dataframe\">\n",
       "  <thead>\n",
       "    <tr style=\"text-align: right;\">\n",
       "      <th></th>\n",
       "      <th>reference_label</th>\n",
       "      <th>text</th>\n",
       "      <th>text_by</th>\n",
       "    </tr>\n",
       "  </thead>\n",
       "  <tbody>\n",
       "    <tr>\n",
       "      <th>0</th>\n",
       "      <td>Business</td>\n",
       "      <td>Wall St. Bears Claw Back Into the Black (Reute...</td>\n",
       "      <td>human</td>\n",
       "    </tr>\n",
       "    <tr>\n",
       "      <th>1</th>\n",
       "      <td>Business</td>\n",
       "      <td>Carlyle Looks Toward Commercial Aerospace (Reu...</td>\n",
       "      <td>human</td>\n",
       "    </tr>\n",
       "    <tr>\n",
       "      <th>2</th>\n",
       "      <td>Business</td>\n",
       "      <td>Oil and Economy Cloud Stocks' Outlook (Reuters...</td>\n",
       "      <td>human</td>\n",
       "    </tr>\n",
       "    <tr>\n",
       "      <th>3</th>\n",
       "      <td>Business</td>\n",
       "      <td>Iraq Halts Oil Exports from Main Southern Pipe...</td>\n",
       "      <td>human</td>\n",
       "    </tr>\n",
       "    <tr>\n",
       "      <th>4</th>\n",
       "      <td>Business</td>\n",
       "      <td>Oil prices soar to all-time record, posing new...</td>\n",
       "      <td>human</td>\n",
       "    </tr>\n",
       "  </tbody>\n",
       "</table>\n",
       "</div>"
      ],
      "text/plain": [
       "  reference_label                                               text text_by\n",
       "0        Business  Wall St. Bears Claw Back Into the Black (Reute...   human\n",
       "1        Business  Carlyle Looks Toward Commercial Aerospace (Reu...   human\n",
       "2        Business  Oil and Economy Cloud Stocks' Outlook (Reuters...   human\n",
       "3        Business  Iraq Halts Oil Exports from Main Southern Pipe...   human\n",
       "4        Business  Oil prices soar to all-time record, posing new...   human"
      ]
     },
     "execution_count": 17,
     "metadata": {},
     "output_type": "execute_result"
    }
   ],
   "source": [
    "simple_dataset.to_pandas()[:5]"
   ]
  },
  {
   "cell_type": "code",
   "execution_count": 18,
   "id": "58cea2f3-73c8-4300-989c-c4d3cc3a6bfe",
   "metadata": {},
   "outputs": [],
   "source": [
    "simple_dataset.save_json(\"agnews.json\")"
   ]
  },
  {
   "cell_type": "code",
   "execution_count": 21,
   "id": "bdc40fe7-6641-40d8-ba1e-70e6d8a25cc6",
   "metadata": {},
   "outputs": [],
   "source": [
    "# loaded = LabelledSimpleDataset.from_json(\"./agnews.json\")\n",
    "# loaded.to_pandas()[:5]"
   ]
  },
  {
   "cell_type": "code",
   "execution_count": 27,
   "id": "5f0808e2-a612-49e6-bde9-72a2cbc442a9",
   "metadata": {},
   "outputs": [
    {
     "data": {
      "text/plain": [
       "reference_label\n",
       "Business    30000\n",
       "Sci/Tech    30000\n",
       "Sports      30000\n",
       "World       30000\n",
       "Name: count, dtype: int64"
      ]
     },
     "execution_count": 27,
     "metadata": {},
     "output_type": "execute_result"
    }
   ],
   "source": [
    "simple_dataset.to_pandas().value_counts(\"reference_label\")"
   ]
  },
  {
   "cell_type": "code",
   "execution_count": null,
   "id": "fb2ac609-7dfb-481a-a431-efcc530c04d6",
   "metadata": {},
   "outputs": [],
   "source": []
  }
 ],
 "metadata": {
  "kernelspec": {
   "display_name": "diff-private-examples-gen-pack",
   "language": "python",
   "name": "diff-private-examples-gen-pack"
  },
  "language_info": {
   "codemirror_mode": {
    "name": "ipython",
    "version": 3
   },
   "file_extension": ".py",
   "mimetype": "text/x-python",
   "name": "python",
   "nbconvert_exporter": "python",
   "pygments_lexer": "ipython3",
   "version": "3.10.13"
  }
 },
 "nbformat": 4,
 "nbformat_minor": 5
}
