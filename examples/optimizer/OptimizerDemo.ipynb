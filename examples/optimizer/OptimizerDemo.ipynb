{
 "cells": [
  {
   "cell_type": "code",
   "execution_count": null,
   "id": "839c4a87",
   "metadata": {},
   "outputs": [],
   "source": [
    "# My OpenAI Key\n",
    "import os\n",
    "os.environ['OPENAI_API_KEY'] = \"INSERT OPENAI KEY\""
   ]
  },
  {
   "attachments": {},
   "cell_type": "markdown",
   "id": "40cf0773",
   "metadata": {},
   "source": [
    "### Setup"
   ]
  },
  {
   "cell_type": "code",
   "execution_count": null,
   "id": "fa34cd83",
   "metadata": {},
   "outputs": [],
   "source": [
    "from llama_index import download_loader\n",
    "\n",
    "WikipediaReader = download_loader(\"WikipediaReader\")\n",
    "\n",
    "loader = WikipediaReader()\n",
    "documents = loader.load_data(pages=['Berlin'])"
   ]
  },
  {
   "cell_type": "code",
   "execution_count": null,
   "id": "f59e6c18",
   "metadata": {},
   "outputs": [],
   "source": [
    "from gpt_index import GPTSimpleVectorIndex\n",
    "index = GPTSimpleVectorIndex(documents)\n",
    "# save index to file\n",
    "index.save_to_disk(\"simple_vector_index.json\")"
   ]
  },
  {
   "attachments": {},
   "cell_type": "markdown",
   "id": "827ada33",
   "metadata": {},
   "source": [
    "Compare query with and without optimization for LLM token usage, Embedding Model usage on query, Embedding model usage for optimizer, and total time."
   ]
  },
  {
   "cell_type": "code",
   "execution_count": null,
   "id": "a04e4535",
   "metadata": {},
   "outputs": [],
   "source": [
    "import time\n",
    "from gpt_index.optimization.optimizer import SentenceEmbeddingOptimizer\n",
    "# load from disk\n",
    "index = GPTSimpleVectorIndex.load_from_disk('simple_vector_index.json')\n",
    "\n",
    "print(\"Without optimization\")\n",
    "start_time = time.time()\n",
    "res = index.query(\"What is the population of Berlin?\")\n",
    "end_time = time.time()\n",
    "print(\"Total time elapsed: {}\".format(end_time - start_time))\n",
    "print(\"Answer: {}\".format(res))\n",
    "\n",
    "print(\"With optimization\")\n",
    "start_time = time.time()\n",
    "res = index.query(\"What is the population of Berlin?\", optimizer=SentenceEmbeddingOptimizer(percentile_cutoff=0.5))\n",
    "end_time = time.time()\n",
    "print(\"Total time elapsed: {}\".format(end_time - start_time))\n",
    "print(\"Answer: {}\".format(res))\n",
    "\n",
    "print(\"Alternate optimization cutoff\")\n",
    "start_time = time.time()\n",
    "res = index.query(\"What is the population of Berlin?\", optimizer=SentenceEmbeddingOptimizer(threshold_cutoff=0.7))\n",
    "end_time = time.time()\n",
    "print(\"Total time elapsed: {}\".format(end_time - start_time))\n",
    "print(\"Answer: {}\".format(res))"
   ]
  }
 ],
 "metadata": {
  "kernelspec": {
   "display_name": "Python 3 (ipykernel)",
   "language": "python",
   "name": "python3"
  },
  "language_info": {
   "codemirror_mode": {
    "name": "ipython",
    "version": 3
   },
   "file_extension": ".py",
   "mimetype": "text/x-python",
   "name": "python",
   "nbconvert_exporter": "python",
   "pygments_lexer": "ipython3",
   "version": "3.11.0"
  }
 },
 "nbformat": 4,
 "nbformat_minor": 5
}
