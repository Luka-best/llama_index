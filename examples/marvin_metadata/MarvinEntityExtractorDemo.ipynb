{
 "cells": [
  {
   "cell_type": "code",
   "execution_count": 1,
   "metadata": {},
   "outputs": [],
   "source": [
    "from llama_index import SimpleDirectoryReader\n",
    "from llama_index.indices.service_context import ServiceContext\n",
    "from llama_index.llms import OpenAI\n",
    "from llama_index.node_parser import SimpleNodeParser\n",
    "from llama_index.node_parser.extractors import (\n",
    "    MetadataExtractor,    \n",
    ")\n",
    "from llama_index.text_splitter import TokenTextSplitter\n",
    "from llama_index.node_parser.extractors.marvin_entity_extractor import MarvinEntityExtractor"
   ]
  },
  {
   "cell_type": "code",
   "execution_count": 2,
   "metadata": {},
   "outputs": [],
   "source": [
    "import os\n",
    "\n",
    "os.environ[\"OPENAI_API_KEY\"] = \"<Your OpenAI API Key>\"\n"
   ]
  },
  {
   "cell_type": "code",
   "execution_count": 3,
   "metadata": {},
   "outputs": [],
   "source": [
    "documents = SimpleDirectoryReader(\"data\").load_data()"
   ]
  },
  {
   "cell_type": "code",
   "execution_count": 4,
   "metadata": {},
   "outputs": [],
   "source": [
    "import marvin\n",
    "from marvin import ai_model\n",
    "from pydantic import BaseModel, Field\n",
    "\n",
    "marvin.settings.openai.api_key = os.environ[\"OPENAI_API_KEY\"]\n",
    "\n",
    "@ai_model\n",
    "class SportsSupplement(BaseModel):\n",
    "    name: str = Field(..., description=\"The name of the sports supplement\")\n",
    "    description: str = Field(..., description=\"A description of the sports supplement\")\n",
    "    pros_cons: str = Field(..., description=\"The pros and cons of the sports supplement\")"
   ]
  },
  {
   "cell_type": "code",
   "execution_count": 5,
   "metadata": {},
   "outputs": [],
   "source": [
    "llm_model = \"gpt-4\"\n",
    "\n",
    "llm = OpenAI(temperature=0.1, model_name=llm_model, max_tokens=512)\n",
    "service_context = ServiceContext.from_defaults(llm=llm)\n",
    "\n",
    "#construct text splitter to split texts into chunks for processing\n",
    "text_splitter = TokenTextSplitter(separator=\" \", chunk_size=512, chunk_overlap=128)\n",
    "\n",
    "#set the global service context object, avoiding passing service_context when building the index \n",
    "from llama_index import set_global_service_context\n",
    "set_global_service_context(service_context)\n",
    "\n",
    "#create metadata extractor\n",
    "metadata_extractor = MetadataExtractor(\n",
    "    extractors=[\n",
    "        MarvinEntityExtractor(marvin_model=SportsSupplement, llm_model_string=llm_model), #let's extract custom entities for each node.\n",
    "    ],\n",
    ")\n",
    "\n",
    "#create node parser to parse nodes from document\n",
    "node_parser = SimpleNodeParser(\n",
    "    text_splitter=text_splitter,\n",
    "    metadata_extractor=metadata_extractor,\n",
    ")\n",
    "\n",
    "#use node_parser to get nodes from documents\n",
    "nodes = node_parser.get_nodes_from_documents(documents)"
   ]
  },
  {
   "cell_type": "code",
   "execution_count": 7,
   "metadata": {},
   "outputs": [
    {
     "name": "stdout",
     "output_type": "stream",
     "text": [
      "{'marvin_entities': {'description': 'L-arginine alpha-ketoglutarate. A 2006 '\n",
      "                                    'study found AAKG supplementation improved '\n",
      "                                    'maximum effort 1-repetition bench press '\n",
      "                                    'and Wingate peak power performance.',\n",
      "                     'name': 'AAKG',\n",
      "                     'pros_cons': 'Pro: Improved peak power performance. Con: '\n",
      "                                  'No significant improvement in body '\n",
      "                                  'composition, aerobic capacity, or muscle '\n",
      "                                  'endurance.'}}\n",
      "{'marvin_entities': {'description': 'Baking soda, also known as Bicarbonate of '\n",
      "                                    'soda, sodium bicarbonate, or NaHCO3, is a '\n",
      "                                    'sports supplement with a rating of 5.0. '\n",
      "                                    'It is known to boost high-intensity '\n",
      "                                    'performance and is especially beneficial '\n",
      "                                    'for anaerobic–high-intensity activities '\n",
      "                                    'such as rowing, cycling, swimming, '\n",
      "                                    'running, and others.',\n",
      "                     'name': 'Baking soda',\n",
      "                     'pros_cons': 'Baking soda makes the blood more alkaline, '\n",
      "                                  'improving performance in lactic-acid-fueled '\n",
      "                                  'events like the 800m sprint. However, it '\n",
      "                                  'has a downside of potentially causing a '\n",
      "                                  'badly upset stomach.'}}\n",
      "{'marvin_entities': {'description': 'Branched-chain amino acids, which include '\n",
      "                                    'leucine, isoleucine, and valine. They are '\n",
      "                                    'commonly used for fatigue resistance and '\n",
      "                                    'for improving aerobic endurance in '\n",
      "                                    'activities like cycling and circuit '\n",
      "                                    'training.',\n",
      "                     'name': 'BCAAs',\n",
      "                     'pros_cons': 'Based on the provided information, the pros '\n",
      "                                  'include fatigue resistance and improved '\n",
      "                                  'aerobic endurance. No cons were explicitly '\n",
      "                                  'mentioned.'}}\n",
      "{'marvin_entities': {'description': 'BCAAs, branched-chain amino acids, '\n",
      "                                    'leucine, isoleucine, valine, are known '\n",
      "                                    'for their roles in aerobic performance, '\n",
      "                                    'endurance, power, aerobic–endurance, and '\n",
      "                                    \"strength–power. They're commonly used in \"\n",
      "                                    'sports like cycling and other circuit '\n",
      "                                    'training.',\n",
      "                     'name': 'Branched-chain amino acids',\n",
      "                     'pros_cons': 'The pros of using branched-chain amino '\n",
      "                                  'acids include their beneficial impacts on '\n",
      "                                  'aerobic performance, endurance, power, '\n",
      "                                  'aerobic–endurance, and strength–power. The '\n",
      "                                  'cons include limited scientific evidence '\n",
      "                                  'and potential side effects that are not yet '\n",
      "                                  'fully understood.'}}\n",
      "{'marvin_entities': {'description': 'Branched-chain amino acids including '\n",
      "                                    'leucine, isoleucine, and valine.',\n",
      "                     'name': 'BCAAs',\n",
      "                     'pros_cons': 'Pros: Supports immune defences in athletes, '\n",
      "                                  'aids in general fitness, running, and other '\n",
      "                                  'physical activities. May also help in body '\n",
      "                                  'composition and fat burning–muscle '\n",
      "                                  'building. Cons: No known cons.'}}\n"
     ]
    }
   ],
   "source": [
    "from pprint import pprint\n",
    "for i in range(5):    \n",
    "    pprint(nodes[i].metadata)"
   ]
  }
 ],
 "metadata": {
  "kernelspec": {
   "display_name": ".venv",
   "language": "python",
   "name": "python3"
  },
  "language_info": {
   "codemirror_mode": {
    "name": "ipython",
    "version": 3
   },
   "file_extension": ".py",
   "mimetype": "text/x-python",
   "name": "python",
   "nbconvert_exporter": "python",
   "pygments_lexer": "ipython3",
   "version": "3.10.12"
  },
  "orig_nbformat": 4
 },
 "nbformat": 4,
 "nbformat_minor": 2
}
