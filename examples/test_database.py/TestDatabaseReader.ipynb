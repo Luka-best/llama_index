{
 "cells": [
  {
   "cell_type": "code",
   "execution_count": 14,
   "metadata": {},
   "outputs": [],
   "source": [
    "from __future__ import absolute_import\n",
    "\n",
    "# My OpenAI Key\n",
    "import os\n",
    "os.environ['OPENAI_API_KEY'] = \"\"\n",
    "\n",
    "from gpt_index.readers.database import DatabaseReader\n",
    "from gpt_index import GPTSimpleVectorIndex"
   ]
  },
  {
   "cell_type": "code",
   "execution_count": 20,
   "metadata": {},
   "outputs": [],
   "source": [
    "# Initialize DatabaseReader object with the following parameters:\n",
    "\n",
    "db = DatabaseReader(\n",
    "    scheme = \"postgresql\", # Database Scheme\n",
    "    host = \"localhost\", # Database Host\n",
    "    port = \"5432\", # Database Port\n",
    "    user = \"postgres\", # Database User\n",
    "    password = \"FakeExamplePassword\", # Database Password\n",
    "    dbname = \"postgres\", # Database Name\n",
    ")"
   ]
  },
  {
   "cell_type": "code",
   "execution_count": 3,
   "metadata": {},
   "outputs": [],
   "source": [
    "# The bellow SQL Query example returns a list values of each row\n",
    "# with concatenated text from the name and age columns\n",
    "# from the users table where the age is greater than or equal to 18\n",
    "\n",
    "query = f\"\"\"\n",
    "    SELECT\n",
    "        CONCAT(name, ' is ', age, ' years old.') AS text\n",
    "    FROM public.users\n",
    "    WHERE age >= 18\n",
    "    \"\"\""
   ]
  },
  {
   "cell_type": "code",
   "execution_count": null,
   "metadata": {},
   "outputs": [],
   "source": [
    "# Please refer to gpt_index.langchain_helpers.sql_wrapper\n",
    "# SQLDatabase.run_sql method\n",
    "texts = db.run_sql(command = query)\n",
    "\n",
    "# Display type(texts) and texts\n",
    "# type(texts) must return <class 'list'>\n",
    "print(type(texts))\n",
    "\n",
    "# Documents must return a list of Tuple objects\n",
    "print(texts)"
   ]
  },
  {
   "cell_type": "code",
   "execution_count": null,
   "metadata": {},
   "outputs": [],
   "source": [
    "# Please refer to gpt_index.readers.database.DatabaseReader.load_data\n",
    "# DatabaseReader.load_data method\n",
    "documents = db.load_data(query = query)\n",
    "\n",
    "# Display type(documents) and documents\n",
    "# type(documents) must return <class 'list'>\n",
    "print(type(documents))\n",
    "\n",
    "# Documents must return a list of Document objects\n",
    "print(documents)"
   ]
  },
  {
   "cell_type": "code",
   "execution_count": null,
   "metadata": {},
   "outputs": [],
   "source": [
    "try:\n",
    "    # Try to load existing Index from disk\n",
    "    index = GPTSimpleVectorIndex.load_from_disk('index.json')\n",
    "except:\n",
    "    index = GPTSimpleVectorIndex(documents)\n",
    "\n",
    "    # Save newly created Index to disk\n",
    "    index.save_to_disk('index.json')"
   ]
  }
 ],
 "metadata": {
  "kernelspec": {
   "display_name": "Python 3",
   "language": "python",
   "name": "python3"
  },
  "language_info": {
   "codemirror_mode": {
    "name": "ipython",
    "version": 3
   },
   "file_extension": ".py",
   "mimetype": "text/x-python",
   "name": "python",
   "nbconvert_exporter": "python",
   "pygments_lexer": "ipython3",
   "version": "3.10.7"
  },
  "orig_nbformat": 4,
  "vscode": {
   "interpreter": {
    "hash": "bd5508c2ffc7f17f7d31cf4086cc872f89e96996a08987e995649e5fbe85a3a4"
   }
  }
 },
 "nbformat": 4,
 "nbformat_minor": 2
}
