{
 "cells": [
  {
   "cell_type": "markdown",
   "id": "f20bdf25",
   "metadata": {},
   "source": [
    "# HyDE Query Transform Demo"
   ]
  },
  {
   "cell_type": "markdown",
   "id": "a1e7e17f",
   "metadata": {},
   "source": [
    "#### Load documents, build the GPTSimpleVectorIndex"
   ]
  },
  {
   "cell_type": "code",
   "execution_count": 10,
   "id": "f7476659",
   "metadata": {},
   "outputs": [],
   "source": [
    "import logging\n",
    "import sys\n",
    "\n",
    "logging.basicConfig(stream=sys.stdout, level=logging.INFO)\n",
    "logging.getLogger().addHandler(logging.StreamHandler(stream=sys.stdout))\n",
    "\n",
    "from gpt_index import GPTSimpleVectorIndex, SimpleDirectoryReader\n",
    "from gpt_index.indices.query.query_transform import HyDEQueryTransform\n",
    "from IPython.display import Markdown, display"
   ]
  },
  {
   "cell_type": "code",
   "execution_count": 2,
   "id": "16ff354a",
   "metadata": {},
   "outputs": [],
   "source": [
    "# load documents\n",
    "documents = SimpleDirectoryReader('../paul_graham_essay/data').load_data()"
   ]
  },
  {
   "cell_type": "code",
   "execution_count": 3,
   "id": "7d6a1b5e",
   "metadata": {},
   "outputs": [
    {
     "name": "stdout",
     "output_type": "stream",
     "text": [
      "INFO:root:> [build_index_from_documents] Total LLM token usage: 0 tokens\n",
      "> [build_index_from_documents] Total LLM token usage: 0 tokens\n",
      "INFO:root:> [build_index_from_documents] Total embedding token usage: 17598 tokens\n",
      "> [build_index_from_documents] Total embedding token usage: 17598 tokens\n"
     ]
    }
   ],
   "source": [
    "index = GPTSimpleVectorIndex(documents)"
   ]
  },
  {
   "cell_type": "code",
   "execution_count": 4,
   "id": "85665424",
   "metadata": {},
   "outputs": [],
   "source": [
    "# save index to disk\n",
    "index.save_to_disk('index_simple.json')"
   ]
  },
  {
   "cell_type": "code",
   "execution_count": 5,
   "id": "78ce3cec",
   "metadata": {},
   "outputs": [],
   "source": [
    "# load index from disk\n",
    "index = GPTSimpleVectorIndex.load_from_disk('index_simple.json')"
   ]
  },
  {
   "cell_type": "markdown",
   "id": "1cec25b6",
   "metadata": {},
   "source": [
    "## Example 1: temporal query"
   ]
  },
  {
   "cell_type": "markdown",
   "id": "1f95e231",
   "metadata": {},
   "source": [
    "Query: what did author do after going to RISD?"
   ]
  },
  {
   "cell_type": "code",
   "execution_count": 17,
   "id": "f3c39ddd",
   "metadata": {},
   "outputs": [],
   "source": [
    "query_str = \"what did Paul Graham do after going to RISD?\""
   ]
  },
  {
   "cell_type": "markdown",
   "id": "8b022d86",
   "metadata": {},
   "source": [
    "#### First, we query *without* transformation: The same query string is used for embedding lookup and also summarization."
   ]
  },
  {
   "cell_type": "code",
   "execution_count": 18,
   "id": "a5b93d35",
   "metadata": {},
   "outputs": [
    {
     "name": "stdout",
     "output_type": "stream",
     "text": [
      "INFO:root:> [query] Total LLM token usage: 3988 tokens\n",
      "> [query] Total LLM token usage: 3988 tokens\n",
      "> [query] Total LLM token usage: 3988 tokens\n",
      "INFO:root:> [query] Total embedding token usage: 11 tokens\n",
      "> [query] Total embedding token usage: 11 tokens\n",
      "> [query] Total embedding token usage: 11 tokens\n"
     ]
    },
    {
     "data": {
      "text/markdown": [
       "<b>\n",
       "\n",
       "After going to RISD, Paul Graham moved back to Providence and got a job at a software company called Interleaf. He did freelance Lisp hacking work and wrote a book on Lisp. He then moved to New York City and became a New York artist. He worked as a de facto studio assistant for Idelle Weber and started a company called Viaweb with Robert Morris to build online stores. He got $10,000 in seed funding from Julian Weber and used it to live on while working on Viaweb. They originally hoped to launch in September, but they got more ambitious and the seed funding allowed Paul to live while working on the project. Ten years later, this deal became the model for Y Combinator's.</b>"
      ],
      "text/plain": [
       "<IPython.core.display.Markdown object>"
      ]
     },
     "metadata": {},
     "output_type": "display_data"
    }
   ],
   "source": [
    "response = index.query(query_str)\n",
    "display(Markdown(f\"<b>{response}</b>\"))"
   ]
  },
  {
   "cell_type": "markdown",
   "id": "0d06ad6c",
   "metadata": {},
   "source": [
    "The output should read:\n",
    "\n",
    "> After going to RISD, Paul Graham moved back to Providence and got a job at a software company called Interleaf. He did freelance Lisp hacking work and wrote a book on Lisp. He then moved to New York City and became a New York artist. He worked as a de facto studio assistant for Idelle Weber and started a company called Viaweb with Robert Morris to build online stores. He got $10,000 in seed funding from Julian Weber and used it to live on while working on Viaweb. They originally hoped to launch in September, but they got more ambitious and the seed funding allowed Paul to live while working on the project. Ten years later, this deal became the model for Y Combinator's."
   ]
  },
  {
   "cell_type": "markdown",
   "id": "1b117ead",
   "metadata": {},
   "source": [
    "#### Now, we use `HyDEQueryTransform` to generate a hypothetical document and use it for embedding lookup. "
   ]
  },
  {
   "cell_type": "code",
   "execution_count": 19,
   "id": "8d43ee7a",
   "metadata": {},
   "outputs": [
    {
     "name": "stdout",
     "output_type": "stream",
     "text": [
      "INFO:root:> [query] Total LLM token usage: 4192 tokens\n",
      "> [query] Total LLM token usage: 4192 tokens\n",
      "> [query] Total LLM token usage: 4192 tokens\n",
      "INFO:root:> [query] Total embedding token usage: 139 tokens\n",
      "> [query] Total embedding token usage: 139 tokens\n",
      "> [query] Total embedding token usage: 139 tokens\n"
     ]
    },
    {
     "data": {
      "text/markdown": [
       "<b>\n",
       "\n",
       "After going to RISD, Paul Graham worked as a consultant for Interleaf and then co-founded Viaweb with Robert Morris. They developed software that allowed users to create online stores and got $10,000 in seed funding from Idelle's husband Julian. They then recruited Trevor Blackwell to help with the software and opened for business in January 1996. Paul Graham then worked on the software and learned a lot about retail. When Yahoo bought Viaweb, Paul Graham became rich and decided to quit to paint. He returned to New York and resumed his old life, but with more money. He then had an idea for a web app for making web apps and moved to Cambridge to start the company. However, he decided against running the company and instead worked on a new dialect of Lisp called Arc. He was invited to give a talk at a Lisp conference, so he gave one about how they'd used Lisp at Viaweb. Afterward, he put a postscript file of this talk online, on paulgraham.com, which he'd created years earlier.</b>"
      ],
      "text/plain": [
       "<IPython.core.display.Markdown object>"
      ]
     },
     "metadata": {},
     "output_type": "display_data"
    }
   ],
   "source": [
    "hyde = HyDEQueryTransform(include_original=True)\n",
    "response = index.query(query_str, query_transform=hyde)\n",
    "display(Markdown(f\"<b>{response}</b>\"))"
   ]
  },
  {
   "cell_type": "markdown",
   "id": "42a07055",
   "metadata": {},
   "source": [
    "The output should read:\n",
    "> After going to RISD, Paul Graham worked as a consultant for Interleaf and then co-founded Viaweb with Robert Morris. They developed software that allowed users to create online stores and got $10,000 in seed funding from Idelle's husband Julian. They then recruited Trevor Blackwell to help with the software and opened for business in January 1996. Paul Graham then worked on the software and learned a lot about retail. When Yahoo bought Viaweb, Paul Graham became rich and decided to quit to paint. He returned to New York and resumed his old life, but with more money. He then had an idea for a web app for making web apps and moved to Cambridge to start the company. However, he decided against running the company and instead worked on a new dialect of Lisp called Arc. He was invited to give a talk at a Lisp conference, so he gave one about how they'd used Lisp at Viaweb. Afterward, he put a postscript file of this talk online, on paulgraham.com, which he'd created years earlier."
   ]
  },
  {
   "cell_type": "markdown",
   "id": "1560cf23",
   "metadata": {},
   "source": [
    "#### In this example, `HyDE` improves output quality significantly, by hallucinating accurately what Paul Graham did after RISD, and thus improving the embedding quality, and final output."
   ]
  },
  {
   "cell_type": "code",
   "execution_count": 22,
   "id": "a4b969ab",
   "metadata": {},
   "outputs": [],
   "source": [
    "query_bundle = hyde(query_str)\n",
    "hyde_doc = query_bundle.embedding_strs[0]"
   ]
  },
  {
   "cell_type": "code",
   "execution_count": 23,
   "id": "ff7baf7c",
   "metadata": {},
   "outputs": [
    {
     "data": {
      "text/plain": [
       "'\\nAfter graduating from the Rhode Island School of Design (RISD) in 1985, Paul Graham pursued a career in the visual arts. He began by working as a freelance illustrator and graphic designer, creating artwork for magazines, books, and advertising campaigns. He also worked as a freelance photographer, capturing images of people, places, and events. In the early 1990s, Graham began to focus more on painting and sculpture, and he had his first solo exhibition in 1995. He has since had numerous solo and group exhibitions in galleries and museums around the world. In addition to his visual art, Graham has also written several books on art and design, and he has taught at RISD and other institutions. He continues to work as an artist and educator, and his work has been featured in publications such as The New York Times, The Guardian, and The Wall Street Journal.'"
      ]
     },
     "execution_count": 23,
     "metadata": {},
     "output_type": "execute_result"
    }
   ],
   "source": [
    "hyde_doc"
   ]
  },
  {
   "cell_type": "markdown",
   "id": "651480e3",
   "metadata": {},
   "source": [
    "The hypothetical document should read:\n",
    "> After graduating from the Rhode Island School of Design (RISD) in 1985, Paul Graham pursued a career in the visual arts. He began by working as a freelance illustrator and graphic designer, creating artwork for magazines, books, and advertising campaigns. He also worked as a freelance photographer, capturing images of people, places, and events. In the early 1990s, Graham began to focus more on painting and sculpture, and he had his first solo exhibition in 1995. He has since had numerous solo and group exhibitions in galleries and museums around the world. In addition to his visual art, Graham has also written several books on art and design, and he has taught at RISD and other institutions. He continues to work as an artist and educator, and his work has been featured in publications such as The New York Times, The Guardian, and The Wall Street Journal."
   ]
  },
  {
   "cell_type": "code",
   "execution_count": null,
   "id": "c0a5c5b8",
   "metadata": {},
   "outputs": [],
   "source": []
  }
 ],
 "metadata": {
  "kernelspec": {
   "display_name": "Python 3 (ipykernel)",
   "language": "python",
   "name": "python3"
  },
  "language_info": {
   "codemirror_mode": {
    "name": "ipython",
    "version": 3
   },
   "file_extension": ".py",
   "mimetype": "text/x-python",
   "name": "python",
   "nbconvert_exporter": "python",
   "pygments_lexer": "ipython3",
   "version": "3.10.9"
  }
 },
 "nbformat": 4,
 "nbformat_minor": 5
}
