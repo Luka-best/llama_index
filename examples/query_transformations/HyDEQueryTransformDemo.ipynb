{
 "cells": [
  {
   "cell_type": "markdown",
   "id": "f20bdf25",
   "metadata": {},
   "source": [
    "# HyDE Query Transform Demo"
   ]
  },
  {
   "cell_type": "markdown",
   "id": "a1e7e17f",
   "metadata": {},
   "source": [
    "#### Load documents, build the GPTSimpleVectorIndex"
   ]
  },
  {
   "cell_type": "code",
   "execution_count": 10,
   "id": "f7476659",
   "metadata": {},
   "outputs": [],
   "source": [
    "import logging\n",
    "import sys\n",
    "\n",
    "logging.basicConfig(stream=sys.stdout, level=logging.INFO)\n",
    "logging.getLogger().addHandler(logging.StreamHandler(stream=sys.stdout))\n",
    "\n",
    "from gpt_index import GPTSimpleVectorIndex, SimpleDirectoryReader\n",
    "from gpt_index.indices.query.query_transform import HyDEQueryTransform\n",
    "from IPython.display import Markdown, display"
   ]
  },
  {
   "cell_type": "code",
   "execution_count": 2,
   "id": "16ff354a",
   "metadata": {},
   "outputs": [],
   "source": [
    "# load documents\n",
    "documents = SimpleDirectoryReader('../paul_graham_essay/data').load_data()"
   ]
  },
  {
   "cell_type": "code",
   "execution_count": 3,
   "id": "7d6a1b5e",
   "metadata": {},
   "outputs": [
    {
     "name": "stdout",
     "output_type": "stream",
     "text": [
      "INFO:root:> [build_index_from_documents] Total LLM token usage: 0 tokens\n",
      "> [build_index_from_documents] Total LLM token usage: 0 tokens\n",
      "INFO:root:> [build_index_from_documents] Total embedding token usage: 17598 tokens\n",
      "> [build_index_from_documents] Total embedding token usage: 17598 tokens\n"
     ]
    }
   ],
   "source": [
    "index = GPTSimpleVectorIndex(documents)"
   ]
  },
  {
   "cell_type": "code",
   "execution_count": 4,
   "id": "85665424",
   "metadata": {},
   "outputs": [],
   "source": [
    "# save index to disk\n",
    "index.save_to_disk('index_simple.json')"
   ]
  },
  {
   "cell_type": "code",
   "execution_count": 5,
   "id": "78ce3cec",
   "metadata": {},
   "outputs": [],
   "source": [
    "# load index from disk\n",
    "index = GPTSimpleVectorIndex.load_from_disk('index_simple.json')"
   ]
  },
  {
   "cell_type": "markdown",
   "id": "1cec25b6",
   "metadata": {},
   "source": [
    "## Example 1: HyDE improves specific temporal query"
   ]
  },
  {
   "cell_type": "code",
   "execution_count": 33,
   "id": "f3c39ddd",
   "metadata": {},
   "outputs": [],
   "source": [
    "query_str = \"what did paul graham do after going to RISD\""
   ]
  },
  {
   "cell_type": "markdown",
   "id": "8b022d86",
   "metadata": {},
   "source": [
    "#### First, we query *without* transformation: The same query string is used for embedding lookup and also summarization."
   ]
  },
  {
   "cell_type": "code",
   "execution_count": 34,
   "id": "a5b93d35",
   "metadata": {},
   "outputs": [
    {
     "name": "stdout",
     "output_type": "stream",
     "text": [
      "INFO:root:> [query] Total LLM token usage: 3922 tokens\n",
      "> [query] Total LLM token usage: 3922 tokens\n",
      "> [query] Total LLM token usage: 3922 tokens\n",
      "INFO:root:> [query] Total embedding token usage: 12 tokens\n",
      "> [query] Total embedding token usage: 12 tokens\n",
      "> [query] Total embedding token usage: 12 tokens\n"
     ]
    },
    {
     "data": {
      "text/markdown": [
       "<b>\n",
       "\n",
       "After going to RISD, Paul Graham continued to pursue his passion for painting and art. He took classes in the painting department at the Accademia di Belli Arti in Florence, and he also took the entrance exam for the school. He also continued to work on his book On Lisp, and he took on consulting work to make money. At the school, Paul Graham and the other students had an arrangement where the faculty wouldn't require the students to learn anything, and in return the students wouldn't require the faculty to teach anything. Paul Graham was one of the few students who actually painted the nude model that was provided, while the rest of the students spent their time chatting or occasionally trying to imitate things they'd seen in American art magazines. The model turned out to live just down the street from Paul Graham, and she made a living from a combination of modelling and making fakes for a local antique dealer.</b>"
      ],
      "text/plain": [
       "<IPython.core.display.Markdown object>"
      ]
     },
     "metadata": {},
     "output_type": "display_data"
    }
   ],
   "source": [
    "response = index.query(query_str)\n",
    "display(Markdown(f\"<b>{response}</b>\"))"
   ]
  },
  {
   "cell_type": "markdown",
   "id": "2048e070",
   "metadata": {},
   "source": [
    "> After going to RISD, Paul Graham continued to pursue his passion for painting and art. He took classes in the painting department at the Accademia di Belli Arti in Florence, and he also took the entrance exam for the school. He also continued to work on his book On Lisp, and he took on consulting work to make money. At the school, Paul Graham and the other students had an arrangement where the faculty wouldn't require the students to learn anything, and in return the students wouldn't require the faculty to teach anything. Paul Graham was one of the few students who actually painted the nude model that was provided, while the rest of the students spent their time chatting or occasionally trying to imitate things they'd seen in American art magazines. The model turned out to live just down the street from Paul Graham, and she made a living from a combination of modelling and making fakes for a local antique dealer."
   ]
  },
  {
   "cell_type": "markdown",
   "id": "1b117ead",
   "metadata": {},
   "source": [
    "#### Now, we use `HyDEQueryTransform` to generate a hypothetical document and use it for embedding lookup. "
   ]
  },
  {
   "cell_type": "code",
   "execution_count": 36,
   "id": "8d43ee7a",
   "metadata": {},
   "outputs": [
    {
     "name": "stdout",
     "output_type": "stream",
     "text": [
      "INFO:root:> [query] Total LLM token usage: 4394 tokens\n",
      "> [query] Total LLM token usage: 4394 tokens\n",
      "> [query] Total LLM token usage: 4394 tokens\n",
      "INFO:root:> [query] Total embedding token usage: 127 tokens\n",
      "> [query] Total embedding token usage: 127 tokens\n",
      "> [query] Total embedding token usage: 127 tokens\n"
     ]
    },
    {
     "data": {
      "text/markdown": [
       "<b>\n",
       "\n",
       "After going to RISD, Paul Graham worked as a consultant for Interleaf and then co-founded Viaweb with Robert Morris. They created a software that allowed users to build websites via the web and received $10,000 in seed funding from Idelle's husband Julian. They gave Julian 10% of the company in return for the initial legal work and business advice. Paul Graham had a negative net worth due to taxes he owed, so the seed funding was necessary for him to live on. They opened for business in January 1996 with 6 stores. \n",
       "\n",
       "Paul Graham then left Yahoo after his options vested and went back to New York. He resumed his old life, but now he was rich. He tried to paint, but he didn't have much energy or ambition. He eventually moved back to Cambridge and started working on a web app for making web apps. He recruited Dan Giffin and two undergrads to help him, but he eventually realized he didn't want to run a company and decided to build a subset of the project as an open source project. He and Dan worked on a new dialect of Lisp, which he called Arc, in a house he bought in Cambridge. The subset he built as an open source project was the new Lisp, whose</b>"
      ],
      "text/plain": [
       "<IPython.core.display.Markdown object>"
      ]
     },
     "metadata": {},
     "output_type": "display_data"
    }
   ],
   "source": [
    "hyde = HyDEQueryTransform(include_original=True)\n",
    "response = index.query(query_str, query_transform=hyde)\n",
    "display(Markdown(f\"<b>{response}</b>\"))"
   ]
  },
  {
   "cell_type": "markdown",
   "id": "4c38127a",
   "metadata": {},
   "source": [
    "> After going to RISD, Paul Graham worked as a consultant for Interleaf and then co-founded Viaweb with Robert Morris. They created a software that allowed users to build websites via the web and received $10,000 in seed funding from Idelle's husband Julian. They gave Julian 10% of the company in return for the initial legal work and business advice. Paul Graham had a negative net worth due to taxes he owed, so the seed funding was necessary for him to live on. They opened for business in January 1996 with 6 stores.\n",
    "\n",
    "> Paul Graham then left Yahoo after his options vested and went back to New York. He resumed his old life, but now he was rich. He tried to paint, but he didn't have much energy or ambition. He eventually moved back to Cambridge and started working on a web app for making web apps. He recruited Dan Giffin and two undergrads to help him, but he eventually realized he didn't want to run a company and decided to build a subset of the project as an open source project. He and Dan worked on a new dialect of Lisp, which he called Arc, in a house he bought in Cambridge. The subset he built as an open source project was the new Lisp, whose"
   ]
  },
  {
   "cell_type": "markdown",
   "id": "946b04b6",
   "metadata": {},
   "source": [
    "#### In this example, `HyDE` improves output quality significantly, by hallucinating accurately what Paul Graham did after RISD (see below), and thus improving the embedding quality, and final output."
   ]
  },
  {
   "cell_type": "code",
   "execution_count": 37,
   "id": "4b3151a0",
   "metadata": {},
   "outputs": [],
   "source": [
    "query_bundle = hyde(query_str)\n",
    "hyde_doc = query_bundle.embedding_strs[0]"
   ]
  },
  {
   "cell_type": "code",
   "execution_count": 38,
   "id": "21eec301",
   "metadata": {},
   "outputs": [
    {
     "data": {
      "text/plain": [
       "'\\nAfter graduating from the Rhode Island School of Design (RISD) in 1985, Paul Graham went on to pursue a career in computer programming. He worked as a software developer for several companies, including Viaweb, which he co-founded in 1995. Viaweb was eventually acquired by Yahoo in 1998, and Graham used the proceeds to become a venture capitalist. He founded Y Combinator in 2005, a startup accelerator that has helped launch over 2,000 companies, including Dropbox, Airbnb, and Reddit. Graham has also written several books on programming and startups, and he continues to be an active investor in the tech industry.'"
      ]
     },
     "execution_count": 38,
     "metadata": {},
     "output_type": "execute_result"
    }
   ],
   "source": [
    "hyde_doc"
   ]
  },
  {
   "cell_type": "markdown",
   "id": "dd4283b2",
   "metadata": {},
   "source": [
    "> After graduating from the Rhode Island School of Design (RISD) in 1985, Paul Graham went on to pursue a career in computer programming. He worked as a software developer for several companies, including Viaweb, which he co-founded in 1995. Viaweb was eventually acquired by Yahoo in 1998, and Graham used the proceeds to become a venture capitalist. He founded Y Combinator in 2005, a startup accelerator that has helped launch over 2,000 companies, including Dropbox, Airbnb, and Reddit. Graham has also written several books on programming and startups, and he continues to be an active investor in the tech industry."
   ]
  },
  {
   "cell_type": "markdown",
   "id": "f2fd3542",
   "metadata": {},
   "source": [
    "## Example 2: open-ended query"
   ]
  },
  {
   "cell_type": "code",
   "execution_count": 70,
   "id": "aed15a14",
   "metadata": {},
   "outputs": [],
   "source": [
    "query_str = \"Is art more improtant or engineering?\""
   ]
  },
  {
   "cell_type": "markdown",
   "id": "29a22882",
   "metadata": {},
   "source": [
    "### Querying without transformation yields reasonable answer"
   ]
  },
  {
   "cell_type": "code",
   "execution_count": 71,
   "id": "e53bbe18",
   "metadata": {},
   "outputs": [
    {
     "name": "stdout",
     "output_type": "stream",
     "text": [
      "INFO:root:> [query] Total LLM token usage: 3780 tokens\n",
      "> [query] Total LLM token usage: 3780 tokens\n",
      "> [query] Total LLM token usage: 3780 tokens\n",
      "INFO:root:> [query] Total embedding token usage: 9 tokens\n",
      "> [query] Total embedding token usage: 9 tokens\n",
      "> [query] Total embedding token usage: 9 tokens\n"
     ]
    },
    {
     "data": {
      "text/markdown": [
       "<b>\n",
       "It is impossible to answer this question without prior knowledge. Art and engineering are both important in different ways, and the importance of each depends on the context. For example, in the context of a startup, engineering may be more important in order to develop the product and secure funding, while art may be more important in order to create a unique and attractive brand. Ultimately, the importance of each depends on the individual situation.</b>"
      ],
      "text/plain": [
       "<IPython.core.display.Markdown object>"
      ]
     },
     "metadata": {},
     "output_type": "display_data"
    }
   ],
   "source": [
    "response = index.query(query_str)\n",
    "display(Markdown(f\"<b>{response}</b>\"))"
   ]
  },
  {
   "cell_type": "markdown",
   "id": "4d67f034",
   "metadata": {},
   "source": [
    "> The author would say that it is important to find a balance between work and life. He experienced this firsthand when he was working on Y Combinator and his mother was ill. He realized that he needed to take time away from work to focus on his family and other aspects of his life. He also experienced this when he was working on Bel, a Lisp interpreter written in itself. He had to ban himself from writing essays during most of this time, or he would never have finished. He found that it was important to have a precisely defined goal in order to stay motivated and keep working on a project for a long time. He also found that it was important to take breaks and focus on other aspects of life in order to stay productive. He also learned that customs can continue to constrain us even after the restrictions that caused them have disappeared. This is something he experienced when he was publishing essays online, as the customs of the print world still applied even though the constraints of the print world had disappeared. He found that it was important to be aware of these customs and to be mindful of how they can affect our work-life balance."
   ]
  },
  {
   "cell_type": "code",
   "execution_count": 72,
   "id": "3b3782d9",
   "metadata": {},
   "outputs": [
    {
     "name": "stdout",
     "output_type": "stream",
     "text": [
      "INFO:root:> [query] Total LLM token usage: 3780 tokens\n",
      "> [query] Total LLM token usage: 3780 tokens\n",
      "> [query] Total LLM token usage: 3780 tokens\n",
      "INFO:root:> [query] Total embedding token usage: 179 tokens\n",
      "> [query] Total embedding token usage: 179 tokens\n",
      "> [query] Total embedding token usage: 179 tokens\n"
     ]
    },
    {
     "data": {
      "text/markdown": [
       "<b>\n",
       "It is impossible to answer this question without prior knowledge. Art and engineering are both important in different ways, and the importance of each depends on the context. For example, in the context of a startup, engineering may be more important in order to develop the product and secure funding, while art may be more important in order to create a unique and attractive brand. Ultimately, the importance of each depends on the individual situation.</b>"
      ],
      "text/plain": [
       "<IPython.core.display.Markdown object>"
      ]
     },
     "metadata": {},
     "output_type": "display_data"
    }
   ],
   "source": [
    "hyde = HyDEQueryTransform(include_original=False)\n",
    "response = index.query(query_str, query_transform=hyde)\n",
    "display(Markdown(f\"<b>{response}</b>\"))"
   ]
  },
  {
   "cell_type": "markdown",
   "id": "a04b6455",
   "metadata": {},
   "source": [
    "> The author would likely say that work life balance is important, but can be difficult to achieve. He experienced this himself when he was working at Interleaf, where he was expected to show up during certain working hours and found it difficult to balance his work with his other interests. He also experienced it when he was working on his book and freelance projects while living in New York, where he had to live frugally in order to save enough money to go back to RISD. He also learned from his experience at Interleaf that it is important to be the \"entry level\" option, as it can be dangerous to pursue prestige. He also learned that it is important to find a job that allows for flexibility and creativity, as this can help to achieve a better work life balance. Additionally, he experienced the difficulty of achieving work life balance when he was starting his own company, Viaweb, and had to rely on seed funding to live on. This experience taught him the importance of having a supportive network of people who can provide financial and emotional support when needed."
   ]
  },
  {
   "cell_type": "code",
   "execution_count": 73,
   "id": "bb9c50f0",
   "metadata": {},
   "outputs": [],
   "source": [
    "query_bundle = hyde(query_str)\n",
    "hyde_doc = query_bundle.embedding_strs[0]"
   ]
  },
  {
   "cell_type": "code",
   "execution_count": 74,
   "id": "88588298",
   "metadata": {},
   "outputs": [
    {
     "data": {
      "text/plain": [
       "'The question of whether art or engineering is more important is a difficult one to answer. Both are essential components of our society and have their own unique benefits. Art is important because it allows us to express ourselves, to explore our creativity, and to connect with others. It can also be used to tell stories, to create beauty, and to inspire. Engineering, on the other hand, is important because it allows us to build and create things that can improve our lives. It can be used to develop new technologies, to solve problems, and to create new products.\\n\\nUltimately, it is difficult to say which is more important because both art and engineering are essential to our society. Art provides us with a way to express ourselves and to connect with others, while engineering provides us with the tools to create and build things that can improve our lives. Both are important and should be valued equally.'"
      ]
     },
     "execution_count": 74,
     "metadata": {},
     "output_type": "execute_result"
    }
   ],
   "source": [
    "hyde_doc"
   ]
  },
  {
   "cell_type": "code",
   "execution_count": null,
   "id": "9a2f14b4",
   "metadata": {},
   "outputs": [],
   "source": []
  }
 ],
 "metadata": {
  "kernelspec": {
   "display_name": "Python 3 (ipykernel)",
   "language": "python",
   "name": "python3"
  },
  "language_info": {
   "codemirror_mode": {
    "name": "ipython",
    "version": 3
   },
   "file_extension": ".py",
   "mimetype": "text/x-python",
   "name": "python",
   "nbconvert_exporter": "python",
   "pygments_lexer": "ipython3",
   "version": "3.10.9"
  }
 },
 "nbformat": 4,
 "nbformat_minor": 5
}
