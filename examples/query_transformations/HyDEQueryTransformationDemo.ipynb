{
 "cells": [
  {
   "cell_type": "markdown",
   "id": "be3e49e5",
   "metadata": {},
   "source": [
    "# HyDE Query Transformation Demo"
   ]
  },
  {
   "cell_type": "markdown",
   "id": "774c2a40",
   "metadata": {},
   "source": [
    "#### Load documents, build the GPTSimpleVectorIndex"
   ]
  },
  {
   "cell_type": "code",
   "execution_count": 2,
   "id": "82a59fb2",
   "metadata": {},
   "outputs": [],
   "source": [
    "import logging\n",
    "import sys\n",
    "\n",
    "logging.basicConfig(stream=sys.stdout, level=logging.INFO)\n",
    "logging.getLogger().addHandler(logging.StreamHandler(stream=sys.stdout))\n",
    "\n",
    "from gpt_index import GPTSimpleVectorIndex, SimpleDirectoryReader\n",
    "from gpt_index.indices.query.query_transform import HyDEQueryProcessor\n",
    "from IPython.display import Markdown, display"
   ]
  },
  {
   "cell_type": "code",
   "execution_count": null,
   "id": "ac5cd72e",
   "metadata": {},
   "outputs": [],
   "source": [
    "# load documents\n",
    "documents = SimpleDirectoryReader('../paul_graham_essay/data').load_data()"
   ]
  },
  {
   "cell_type": "code",
   "execution_count": null,
   "id": "78635dd6",
   "metadata": {},
   "outputs": [],
   "source": [
    "index = GPTSimpleVectorIndex(documents)"
   ]
  },
  {
   "cell_type": "code",
   "execution_count": null,
   "id": "5cf7a7e9",
   "metadata": {},
   "outputs": [],
   "source": [
    "# save index to disk\n",
    "index.save_to_disk('index_simple.json')"
   ]
  },
  {
   "cell_type": "code",
   "execution_count": null,
   "id": "be02bde4",
   "metadata": {},
   "outputs": [],
   "source": [
    "# load index from disk\n",
    "index = GPTSimpleVectorIndex.load_from_disk('index_simple.json')b"
   ]
  },
  {
   "cell_type": "markdown",
   "id": "8b40580c",
   "metadata": {},
   "source": [
    "## Example 1: temporal query"
   ]
  },
  {
   "cell_type": "markdown",
   "id": "d5559891",
   "metadata": {},
   "source": [
    "Query: what did author do after going to RISD?"
   ]
  },
  {
   "cell_type": "code",
   "execution_count": null,
   "id": "03c0da3b",
   "metadata": {},
   "outputs": [],
   "source": [
    "query_str = \"What did the author do growing up?\""
   ]
  },
  {
   "cell_type": "markdown",
   "id": "1fd3de18",
   "metadata": {},
   "source": [
    "First, we query *without* transformation. The same query string is used for embedding lookup and also summarization."
   ]
  },
  {
   "cell_type": "code",
   "execution_count": 6,
   "id": "10cf3152",
   "metadata": {
    "collapsed": true
   },
   "outputs": [
    {
     "ename": "NameError",
     "evalue": "name 'index' is not defined",
     "output_type": "error",
     "traceback": [
      "\u001b[0;31m---------------------------------------------------------------------------\u001b[0m",
      "\u001b[0;31mNameError\u001b[0m                                 Traceback (most recent call last)",
      "Cell \u001b[0;32mIn[6], line 1\u001b[0m\n\u001b[0;32m----> 1\u001b[0m response \u001b[38;5;241m=\u001b[39m \u001b[43mindex\u001b[49m\u001b[38;5;241m.\u001b[39mquery(\u001b[38;5;124m\"\u001b[39m\u001b[38;5;124mWhat did the author do growing up?\u001b[39m\u001b[38;5;124m\"\u001b[39m)\n\u001b[1;32m      2\u001b[0m display(Markdown(\u001b[38;5;124mf\u001b[39m\u001b[38;5;124m\"\u001b[39m\u001b[38;5;124m<b>\u001b[39m\u001b[38;5;132;01m{\u001b[39;00mresponse\u001b[38;5;132;01m}\u001b[39;00m\u001b[38;5;124m</b>\u001b[39m\u001b[38;5;124m\"\u001b[39m))\n",
      "\u001b[0;31mNameError\u001b[0m: name 'index' is not defined"
     ]
    }
   ],
   "source": [
    "response = index.query(query_str)\n",
    "display(Markdown(f\"<b>{response}</b>\"))"
   ]
  },
  {
   "cell_type": "markdown",
   "id": "6de6b350",
   "metadata": {},
   "source": [
    "Now, we use `HyDEQueryProcessor` to generate a hypothetical document and use it for embedding lookup. "
   ]
  },
  {
   "cell_type": "code",
   "execution_count": 7,
   "id": "c8f73729",
   "metadata": {
    "collapsed": true
   },
   "outputs": [
    {
     "ename": "NameError",
     "evalue": "name 'index' is not defined",
     "output_type": "error",
     "traceback": [
      "\u001b[0;31m---------------------------------------------------------------------------\u001b[0m",
      "\u001b[0;31mNameError\u001b[0m                                 Traceback (most recent call last)",
      "Cell \u001b[0;32mIn[7], line 2\u001b[0m\n\u001b[1;32m      1\u001b[0m query_transform \u001b[38;5;241m=\u001b[39m HyDEQueryProcessor(include_original\u001b[38;5;241m=\u001b[39m\u001b[38;5;28;01mTrue\u001b[39;00m)\n\u001b[0;32m----> 2\u001b[0m response \u001b[38;5;241m=\u001b[39m \u001b[43mindex\u001b[49m\u001b[38;5;241m.\u001b[39mquery(query_str, query_transform\u001b[38;5;241m=\u001b[39mquery_transform)\n",
      "\u001b[0;31mNameError\u001b[0m: name 'index' is not defined"
     ]
    }
   ],
   "source": [
    "query_transform = HyDEQueryProcessor(include_original=True)\n",
    "response = index.query(query_str, query_transform=query_transform)\n",
    "display(Markdown(f\"<b>{response}</b>\"))"
   ]
  },
  {
   "cell_type": "code",
   "execution_count": null,
   "id": "d65eda5b",
   "metadata": {},
   "outputs": [],
   "source": []
  }
 ],
 "metadata": {
  "kernelspec": {
   "display_name": "Python 3 (ipykernel)",
   "language": "python",
   "name": "python3"
  },
  "language_info": {
   "codemirror_mode": {
    "name": "ipython",
    "version": 3
   },
   "file_extension": ".py",
   "mimetype": "text/x-python",
   "name": "python",
   "nbconvert_exporter": "python",
   "pygments_lexer": "ipython3",
   "version": "3.10.9"
  }
 },
 "nbformat": 4,
 "nbformat_minor": 5
}
