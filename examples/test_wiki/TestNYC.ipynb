{
 "cells": [
  {
   "cell_type": "code",
   "execution_count": 1,
   "id": "b4b4387b-413e-4016-ba1e-88b3d9410a38",
   "metadata": {},
   "outputs": [],
   "source": [
    "# fetch \"New York City\" page from Wikipedia\n",
    "from pathlib import Path\n",
    "\n",
    "import requests\n",
    "response = requests.get(\n",
    "    'https://en.wikipedia.org/w/api.php',\n",
    "    params={\n",
    "        'action': 'query',\n",
    "        'format': 'json',\n",
    "        'titles': 'New York City',\n",
    "        'prop': 'extracts',\n",
    "        # 'exintro': True,\n",
    "        'explaintext': True,\n",
    "    }\n",
    ").json()\n",
    "page = next(iter(response['query']['pages'].values()))\n",
    "nyc_text = page['extract']\n",
    "\n",
    "data_path = Path('data')\n",
    "if not data_path.exists():\n",
    "    Path.mkdir(data_path)\n",
    "\n",
    "with open('data/nyc_text.txt', 'w') as fp:\n",
    "    fp.write(nyc_text)"
   ]
  },
  {
   "cell_type": "code",
   "execution_count": 2,
   "id": "f1a9eb90-335c-4214-8bb6-fd1edbe3ccbd",
   "metadata": {},
   "outputs": [],
   "source": [
    "# My OpenAI Key\n",
    "import os\n",
    "os.environ['OPENAI_API_KEY'] = \"MY_OPENAI_KEY\""
   ]
  },
  {
   "cell_type": "code",
   "execution_count": 1,
   "id": "8d0b2364-4806-4656-81e7-3f6e4b910b5b",
   "metadata": {},
   "outputs": [
    {
     "name": "stderr",
     "output_type": "stream",
     "text": [
      "None of PyTorch, TensorFlow >= 2.0, or Flax have been found. Models won't be available and only tokenizers, configuration and file/data utilities can be used.\n"
     ]
    }
   ],
   "source": [
    "from gpt_index.index import GPTIndex"
   ]
  },
  {
   "cell_type": "code",
   "execution_count": 2,
   "id": "1298bbb4-c99e-431e-93ef-eb32c0a2fc2a",
   "metadata": {
    "tags": []
   },
   "outputs": [
    {
     "name": "stdout",
     "output_type": "stream",
     "text": [
      "building index from nodes: 9 chunks\n",
      "0/92\n",
      "0/92, summary: \n",
      "New York City is the most populous city in the United States, with a 2020 population of 8,804,190. It is located at the southern tip of New York State in the Eastern Time Zone. New York City is a global cultural, financial, and media center. It is home to the headquarters of the United Nations and is sometimes described as the capital of the world. New York City traces its origins to a trading post founded by Dutch colonists in approximately 1624. The city was renamed New York after King Charles II of England granted the lands to his brother, the Duke of York. New York City was the capital of the United States from 1785 until 1790. The Statue of Liberty greeted millions of immigrants as they came to the U.S. by ship in the late 19th and early 20th centuries. In the 21st century, New York City has emerged as a global node of creativity, entrepreneurship, and environmental sustainability.\n",
      "10/92\n",
      "10/92, summary: \n",
      "New York City has a long and rich history, dating back to the early 1700s. It has been a major center of trade and commerce, and has played host to many important events in American history. The city has undergone many changes over the centuries, including a large influx of immigrants in the 19th and 20th centuries. New York City was significantly impacted by the 9/11 attacks in 2001, and has since rebounded and become a leading global city once again.\n",
      "20/92\n",
      "20/92, summary: \n",
      "New York City is made up of five boroughs - Manhattan, Brooklyn, Queens, The Bronx, and Staten Island. It is home to Central Park, the Woolworth Building, the Chrysler Building, and the Empire State Building, among other notable landmarks. The city has a humid subtropical climate, with hot, humid summers and cold, damp winters.\n",
      "30/92\n",
      "30/92, summary: \n",
      "New York City is the most populous city in the United States, with 8,804,190 residents as of 2020. The majority of New York City residents in 2020 were living on Long Island, in Brooklyn, or in Queens. The city's population is racially and ethnically diverse, with the largest groups being White (non-Hispanic), Hispanic or Latino, Black or African American (non-Hispanic), and Asian. The Chinese population constitutes the fastest-growing nationality in New York State. New York City is also home to the largest Tibetan population outside of China, India, and Nepal.\n",
      "40/92\n",
      "40/92, summary: \n",
      "New York City is one of the most populous and ethnically diverse cities in the world. It is also a leading global center for business, finance, media, and culture. The city has a high degree of income inequality, with a large number of wealthy residents and a significant homeless population.\n",
      "50/92\n",
      "50/92, summary: \n",
      "New York City is one of the most populous and economically powerful cities in the United States. The city is a major center for the tech and biotech industries, as well as for real estate, media and entertainment, tourism, and education. New York City is home to some of the nation's most valuable real estate and to many of the world's most prestigious universities. The city's public school system is the largest in the nation, and the city is home to more than a million students enrolled in higher education institutions.\n",
      "60/92\n",
      "60/92, summary: \n",
      "The City Health and Hospitals Corporation (HHC) is the largest municipal healthcare system in the United States, serving 1.4 million patients. It was created in 1969 by the New York State Legislature as a public benefit corporation. HHC operates 11 acute care hospitals, five nursing homes, six diagnostic and treatment centers, and more than 70 community-based primary care sites. In August 2017, Mayor Bill de Blasio signed legislation outlawing pharmacies from selling cigarettes.\n",
      "\n",
      "The New York Police Department (NYPD) is the largest police force in the United States. Crime overall has trended downward in New York City since the 1990s. In 2012, the NYPD came under scrutiny for its use of a stop-and-frisk program, which has undergone several policy revisions since then. In 2014, New York City had the third-lowest murder rate among the largest U.S. cities.\n",
      "\n",
      "The Fire Department of New York (FDNY) provides fire protection, technical rescue, primary response to biological, chemical, and radioactive hazards, and emergency medical services for the five boroughs of New York City. The FDNY is the largest municipal fire department in the United States and the second largest in the world after the Tokyo Fire Department.\n",
      "\n",
      "The New\n",
      "70/92\n",
      "70/92, summary: \n",
      "New York City is home to a variety of professional sports teams, as well as the headquarters of many major league organizations. The city is also known for its high rate of public transit use, its large number of pedestrian commuters, and its many green buildings. The city government is responsible for public education, correctional institutions, public safety, recreational facilities, sanitation, water supply, and welfare services. The mayor and council members are elected to four-year terms, and the City Council is a unicameral body consisting of 51 council members.\n",
      "80/92\n",
      "80/92, summary: \n",
      "New York City is divided into five boroughs, each of which is coextensive with a judicial district. The city has a strong Democratic Party presence and is known for its extensive public transportation system. New York City is also home to the busiest airport in the United States, John F. Kennedy International Airport.\n",
      "90/92\n",
      "90/92, summary: \n",
      "New York City has a Global Partners program which promotes the exchange of ideas and innovation between its citizenry and policymakers with a network of cities worldwide. New York's historic sister cities are denoted by the year they joined New York City's partnership network.\n"
     ]
    }
   ],
   "source": [
    "index = GPTIndex.from_input_dir('data')"
   ]
  },
  {
   "cell_type": "code",
   "execution_count": 3,
   "id": "0b4fe9b6-5762-4e86-b51e-aac45d3ecdb1",
   "metadata": {},
   "outputs": [],
   "source": [
    "index.save_to_disk('index.json')"
   ]
  },
  {
   "cell_type": "code",
   "execution_count": 2,
   "id": "5eec265d-211b-4f26-b05b-5b4e7072bc6e",
   "metadata": {},
   "outputs": [],
   "source": [
    "# try loading\n",
    "new_index = GPTIndex.load_from_disk('index.json')"
   ]
  },
  {
   "cell_type": "code",
   "execution_count": 3,
   "id": "68c9ebfe-b1b6-4f4e-9278-174346de8c90",
   "metadata": {
    "tags": []
   },
   "outputs": [
    {
     "name": "stdout",
     "output_type": "stream",
     "text": [
      "Starting query: What the three main airports within New York City?\n",
      "==============\n",
      "current prompt template: Context information is below. It is provided in a numbered list (1 to 10),where each item in the list corresponds to a summary.\n",
      "---------------------\n",
      "(1)  New York City is the most populous city in the United States, with a 2020 population of 8,804,190. It is located at the southern tip of New York State in the Eastern Time Zone. New York City is a global cultural, financial, and media center. It is home to the headquarters of the United Nations and is sometimes described as the capital of the world. New York City traces its origins to a trading post founded by Dutch colonists in approximately 1624. The city was renamed New York after King Charles II of England granted the lands to his brother, the Duke of York. New York City was the capital of the United States from 1785 until 1790. The Statue of Liberty greeted millions of immigrants as they came to the U.S. by ship in the late 19th and early 20th centuries. In the 21st century, New York City has emerged as a global node of creativity, entrepreneurship, and environmental sustainability.\n",
      "\n",
      "(2)  New York City has a long and rich history, dating back to the early 1700s. It has been a major center of trade and commerce, and has played host to many important events in American history. The city has undergone many changes over the centuries, including a large influx of immigrants in the 19th and 20th centuries. New York City was significantly impacted by the 9/11 attacks in 2001, and has since rebounded and become a leading global city once again.\n",
      "\n",
      "(3)  New York City is made up of five boroughs - Manhattan, Brooklyn, Queens, The Bronx, and Staten Island. It is home to Central Park, the Woolworth Building, the Chrysler Building, and the Empire State Building, among other notable landmarks. The city has a humid subtropical climate, with hot, humid summers and cold, damp winters.\n",
      "\n",
      "(4)  New York City is the most populous city in the United States, with 8,804,190 residents as of 2020. The majority of New York City residents in 2020 were living on Long Island, in Brooklyn, or in Queens. The city's population is racially and ethnically diverse, with the largest groups being White (non-Hispanic), Hispanic or Latino, Black or African American (non-Hispanic), and Asian. The Chinese population constitutes the fastest-growing nationality in New York State. New York City is also home to the largest Tibetan population outside of China, India, and Nepal.\n",
      "\n",
      "(5)  New York City is one of the most populous and ethnically diverse cities in the world. It is also a leading global center for business, finance, media, and culture. The city has a high degree of income inequality, with a large number of wealthy residents and a significant homeless population.\n",
      "\n",
      "(6)  New York City is one of the most populous and economically powerful cities in the United States. The city is a major center for the tech and biotech industries, as well as for real estate, media and entertainment, tourism, and education. New York City is home to some of the nation's most valuable real estate and to many of the world's most prestigious universities. The city's public school system is the largest in the nation, and the city is home to more than a million students enrolled in higher education institutions.\n",
      "\n",
      "(7)  The City Health and Hospitals Corporation (HHC) is the largest municipal healthcare system in the United States, serving 1.4 million patients. It was created in 1969 by the New York State Legislature as a public benefit corporation. HHC operates 11 acute care hospitals, five nursing homes, six diagnostic and treatment centers, and more than 70 community-based primary care sites. In August 2017, Mayor Bill de Blasio signed legislation outlawing pharmacies from selling cigarettes.  The New York Police Department (NYPD) is the largest police force in the United States. Crime overall has trended downward in New York City since the 1990s. In 2012, the NYPD came under scrutiny for its use of a stop-and-frisk program, which has undergone several policy revisions since then. In 2014, New York City had the third-lowest murder rate among the largest U.S. cities.  The Fire Department of New York (FDNY) provides fire protection, technical rescue, primary response to biological, chemical, and radioactive hazards, and emergency medical services for the five boroughs of New York City. The FDNY is the largest municipal fire department in the United States and the second largest in the world after the Tokyo Fire Department.  The New\n",
      "\n",
      "(8)  New York City is home to a variety of professional sports teams, as well as the headquarters of many major league organizations. The city is also known for its high rate of public transit use, its large number of pedestrian commuters, and its many green buildings. The city government is responsible for public education, correctional institutions, public safety, recreational facilities, sanitation, water supply, and welfare services. The mayor and council members are elected to four-year terms, and the City Council is a unicameral body consisting of 51 council members.\n",
      "\n",
      "(9)  New York City is divided into five boroughs, each of which is coextensive with a judicial district. The city has a strong Democratic Party presence and is known for its extensive public transportation system. New York City is also home to the busiest airport in the United States, John F. Kennedy International Airport.\n",
      "\n",
      "(10)  New York City has a Global Partners program which promotes the exchange of ideas and innovation between its citizenry and policymakers with a network of cities worldwide. New York's historic sister cities are denoted by the year they joined New York City's partnership network.\n",
      "\n",
      "---------------------\n",
      "Given the context information, answer the question: What the three main airports within New York City?\n",
      "The answer should be the number corresponding to the summary that is most relevant to the question.\n",
      "\n",
      "cur query response: \n",
      "(7) The Fire Department of New York (FDNY) provides fire protection, technical rescue, primary response to biological, chemical, and radioactive hazards, and emergency medical services for the five boroughs of New York City. The FDNY is the largest municipal fire department in the United States and the second largest in the world after the Tokyo Fire Department.\n"
     ]
    },
    {
     "data": {
      "text/plain": [
       "'The three main airports within New York City are John F. Kennedy International Airport, LaGuardia Airport, and Newark Liberty International Airport.'"
      ]
     },
     "execution_count": 3,
     "metadata": {},
     "output_type": "execute_result"
    }
   ],
   "source": [
    "# try verbose=True for more detailed outputs\n",
    "new_index.query(\"What the three main airports within New York City?\", verbose=True)"
   ]
  },
  {
   "cell_type": "code",
   "execution_count": null,
   "id": "4fc3f18a-0ef9-453c-acf8-7aedd784cdcf",
   "metadata": {},
   "outputs": [],
   "source": []
  }
 ],
 "metadata": {
  "kernelspec": {
   "display_name": "gpt_retrieve_venv",
   "language": "python",
   "name": "gpt_retrieve_venv"
  },
  "language_info": {
   "codemirror_mode": {
    "name": "ipython",
    "version": 3
   },
   "file_extension": ".py",
   "mimetype": "text/x-python",
   "name": "python",
   "nbconvert_exporter": "python",
   "pygments_lexer": "ipython3",
   "version": "3.8.4"
  }
 },
 "nbformat": 4,
 "nbformat_minor": 5
}
