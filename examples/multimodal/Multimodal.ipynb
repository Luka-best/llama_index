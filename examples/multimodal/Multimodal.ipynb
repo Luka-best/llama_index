{
 "cells": [
  {
   "cell_type": "code",
   "execution_count": 1,
   "id": "b17355bc",
   "metadata": {},
   "outputs": [],
   "source": [
    "%load_ext autoreload\n",
    "%autoreload 2"
   ]
  },
  {
   "cell_type": "code",
   "execution_count": 132,
   "id": "0435c596",
   "metadata": {},
   "outputs": [],
   "source": [
    "from gpt_index.readers.file.base import DEFAULT_FILE_EXTRACTOR, ImageParser\n",
    "from gpt_index import SimpleDirectoryReader, GPTSimpleVectorIndex"
   ]
  },
  {
   "cell_type": "code",
   "execution_count": 94,
   "id": "a4b74e87",
   "metadata": {},
   "outputs": [],
   "source": [
    "file_extractor = DEFAULT_FILE_EXTRACTOR\n",
    "file_extractor.update(\n",
    "{\n",
    "    \".jpg\": ImageParser(keep_image=True, parse_text=True),\n",
    "    \".png\": ImageParser(keep_image=True, parse_text=True),\n",
    "    \".jpeg\": ImageParser(keep_image=True, parse_text=True),\n",
    "})"
   ]
  },
  {
   "cell_type": "code",
   "execution_count": 112,
   "id": "d5f04295",
   "metadata": {
    "scrolled": true
   },
   "outputs": [],
   "source": [
    "# reader = SimpleDirectoryReader('../../docs/_static/indices', recursive=True, file_extractor=file_extractor)\n",
    "# NOTE: processing 11 images is too slow, try with a few first\n",
    "\n",
    "reader = SimpleDirectoryReader(\n",
    "    input_files=[\n",
    "        '../../docs/_static/indices/vector_store.png', \n",
    "        '../../docs/_static/indices/list.png',\n",
    "        '../../docs/guides/index_guide.md',\n",
    "    ], \n",
    "    file_extractor=file_extractor, \n",
    "    file_metadata=lambda filename: {'filename': filename}\n",
    ")\n",
    "documents = reader.load_data()"
   ]
  },
  {
   "cell_type": "code",
   "execution_count": 113,
   "id": "46db4191",
   "metadata": {},
   "outputs": [
    {
     "name": "stderr",
     "output_type": "stream",
     "text": [
      "INFO:root:> [build_index_from_documents] Total LLM token usage: 0 tokens\n",
      "INFO:root:> [build_index_from_documents] Total embedding token usage: 294 tokens\n"
     ]
    }
   ],
   "source": [
    "index = GPTSimpleVectorIndex(documents)"
   ]
  },
  {
   "cell_type": "code",
   "execution_count": 114,
   "id": "92569825",
   "metadata": {
    "scrolled": true
   },
   "outputs": [
    {
     "name": "stderr",
     "output_type": "stream",
     "text": [
      "INFO:root:> [query] Total LLM token usage: 785 tokens\n",
      "INFO:root:> [query] Total embedding token usage: 13 tokens\n"
     ]
    }
   ],
   "source": [
    "response = index.query('Explain how vector store index works and show me an illustration.', similarity_top_k=2)"
   ]
  },
  {
   "cell_type": "code",
   "execution_count": 154,
   "id": "5b7152b1",
   "metadata": {},
   "outputs": [
    {
     "data": {
      "text/markdown": [
       "**`Final Response:`** Vector store index is a type of indexing system that stores data in a vector format. This type of indexing system is useful for quickly retrieving data from large datasets. It works by storing data in a vector format, which is a collection of numbers that represent the data. This allows for faster retrieval of data as the data can be quickly accessed by its vector coordinates. \n",
       "\n",
       "An illustration of vector store index is shown below. It shows how data is stored in a vector format and how it can be quickly accessed by its vector coordinates. Vector store index is used in LlamaIndex's response synthesis module to quickly retrieve data from Documents and synthesize a response. \n",
       "![Vector Store Index](../../docs/_static/indices/vector_store.png)"
      ],
      "text/plain": [
       "<IPython.core.display.Markdown object>"
      ]
     },
     "metadata": {},
     "output_type": "display_data"
    },
    {
     "data": {
      "text/markdown": [
       "---"
      ],
      "text/plain": [
       "<IPython.core.display.Markdown object>"
      ]
     },
     "metadata": {},
     "output_type": "display_data"
    },
    {
     "data": {
      "text/markdown": [
       "**`Source Node 1/2`**"
      ],
      "text/plain": [
       "<IPython.core.display.Markdown object>"
      ]
     },
     "metadata": {},
     "output_type": "display_data"
    },
    {
     "data": {
      "text/markdown": [
       "**Document ID:** 76e73c7b-d7bf-44e1-86ec-e8a5cc5fc534<br>**Similarity:** 0.8101791889133566<br>>**Text:** filename: ../../docs/_static/indices/vector_store.png\n",
       "\n",
       "<s_menu><s_nm> Nodel</s_nm><s_unitprice> Node2</s_unitprice><s_cnt> 3</s_cnt><s_price> Node3</s_price><sep/><s_nm> embedding 2</s_menuqty_cnt></s_total>...<br>**Image:**"
      ],
      "text/plain": [
       "<IPython.core.display.Markdown object>"
      ]
     },
     "metadata": {},
     "output_type": "display_data"
    },
    {
     "data": {
      "image/png": "[encoded data removed]",
      "text/plain": [
       "<PIL.JpegImagePlugin.JpegImageFile image mode=RGB size=512x313>"
      ]
     },
     "metadata": {},
     "output_type": "display_data"
    },
    {
     "data": {
      "text/markdown": [
       "---"
      ],
      "text/plain": [
       "<IPython.core.display.Markdown object>"
      ]
     },
     "metadata": {},
     "output_type": "display_data"
    },
    {
     "data": {
      "text/markdown": [
       "**`Source Node 2/2`**"
      ],
      "text/plain": [
       "<IPython.core.display.Markdown object>"
      ]
     },
     "metadata": {},
     "output_type": "display_data"
    },
    {
     "data": {
      "text/markdown": [
       "**Document ID:** 2a114055-27b4-41ed-929a-caba37d5bbe0<br>**Similarity:** 0.7813584901476683<br>>**Text:** filename: ../../docs/guides/index_guide.md\n",
       "\n",
       "\n",
       "\n",
       "How Each Index Works\n",
       "\n",
       "This guide describes how each index works with diagrams. We also visually highlight our \"Response Synthesis\" modes.\n",
       "\n",
       "Some terminology:\n",
       "- **Node**: Corresponds to a chunk of text from a ...<br>"
      ],
      "text/plain": [
       "<IPython.core.display.Markdown object>"
      ]
     },
     "metadata": {},
     "output_type": "display_data"
    }
   ],
   "source": [
    "response.display()"
   ]
  },
  {
   "cell_type": "code",
   "execution_count": 156,
   "id": "3ae29337",
   "metadata": {},
   "outputs": [
    {
     "name": "stderr",
     "output_type": "stream",
     "text": [
      "INFO:root:> [query] Total LLM token usage: 584 tokens\n",
      "INFO:root:> [query] Total embedding token usage: 7 tokens\n"
     ]
    }
   ],
   "source": [
    "response = index.query('Show me how list index works.', similarity_top_k=2)"
   ]
  },
  {
   "cell_type": "code",
   "execution_count": 157,
   "id": "f8d12cd0",
   "metadata": {},
   "outputs": [
    {
     "data": {
      "text/markdown": [
       "**`Final Response:`** List index works by taking a list of items and creating an index of each item in the list. This index can then be used to quickly search for a specific item in the list. The index is typically organized in a hierarchical structure, with each item in the list having its own entry in the index. This allows for quick retrieval of the item when searching. For example, in the image provided (../../docs/_static/indices/list.png), the list is organized into nodes, with each node containing a name and a price. This allows for quick retrieval of the item when searching for a specific name or price."
      ],
      "text/plain": [
       "<IPython.core.display.Markdown object>"
      ]
     },
     "metadata": {},
     "output_type": "display_data"
    },
    {
     "data": {
      "text/markdown": [
       "---"
      ],
      "text/plain": [
       "<IPython.core.display.Markdown object>"
      ]
     },
     "metadata": {},
     "output_type": "display_data"
    },
    {
     "data": {
      "text/markdown": [
       "**`Source Node 1/2`**"
      ],
      "text/plain": [
       "<IPython.core.display.Markdown object>"
      ]
     },
     "metadata": {},
     "output_type": "display_data"
    },
    {
     "data": {
      "text/markdown": [
       "**Document ID:** 2a114055-27b4-41ed-929a-caba37d5bbe0<br>**Similarity:** 0.7828760953434136<br>**Text:** filename: ../../docs/guides/index_guide.md\n",
       "\n",
       "\n",
       "\n",
       "How Each Index Works\n",
       "\n",
       "This guide describes how each index works with diagrams. We also visually highlight our \"Response Synthesis\" modes.\n",
       "\n",
       "Some terminology:\n",
       "- **Node**: Corresponds to a chunk of text from a ...<br>"
      ],
      "text/plain": [
       "<IPython.core.display.Markdown object>"
      ]
     },
     "metadata": {},
     "output_type": "display_data"
    },
    {
     "data": {
      "text/markdown": [
       "---"
      ],
      "text/plain": [
       "<IPython.core.display.Markdown object>"
      ]
     },
     "metadata": {},
     "output_type": "display_data"
    },
    {
     "data": {
      "text/markdown": [
       "**`Source Node 2/2`**"
      ],
      "text/plain": [
       "<IPython.core.display.Markdown object>"
      ]
     },
     "metadata": {},
     "output_type": "display_data"
    },
    {
     "data": {
      "text/markdown": [
       "**Document ID:** 6578a915-6dd0-4b0a-be65-1585ba8be132<br>**Similarity:** 0.7790688893753183<br>**Text:** filename: ../../docs/_static/indices/list.png\n",
       "\n",
       "<s_menu><s_nm> Node2</s_nm><s_price> Node3</s_price></s_menu><s_total></s_total>...<br>**Image:**"
      ],
      "text/plain": [
       "<IPython.core.display.Markdown object>"
      ]
     },
     "metadata": {},
     "output_type": "display_data"
    },
    {
     "data": {
      "image/png": "[encoded data removed]",
      "text/plain": [
       "<PIL.JpegImagePlugin.JpegImageFile image mode=RGB size=512x239>"
      ]
     },
     "metadata": {},
     "output_type": "display_data"
    }
   ],
   "source": [
    "response.display()"
   ]
  },
  {
   "cell_type": "code",
   "execution_count": null,
   "id": "c8d47f79",
   "metadata": {},
   "outputs": [],
   "source": []
  }
 ],
 "metadata": {
  "kernelspec": {
   "display_name": "Python 3 (ipykernel)",
   "language": "python",
   "name": "python3"
  },
  "language_info": {
   "codemirror_mode": {
    "name": "ipython",
    "version": 3
   },
   "file_extension": ".py",
   "mimetype": "text/x-python",
   "name": "python",
   "nbconvert_exporter": "python",
   "pygments_lexer": "ipython3",
   "version": "3.10.9"
  }
 },
 "nbformat": 4,
 "nbformat_minor": 5
}
