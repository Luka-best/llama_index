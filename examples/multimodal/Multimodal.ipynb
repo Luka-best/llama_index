{
 "cells": [
  {
   "cell_type": "code",
   "execution_count": null,
   "id": "d4073749",
   "metadata": {},
   "outputs": [],
   "source": [
    "from gpt_index import SimpleDirectoryReader, GPTSimpleVectorIndex\n",
    "from gpt_index.readers.file.base import (\n",
    "    DEFAULT_FILE_EXTRACTOR, \n",
    "    ImageParser,\n",
    ")\n",
    "from gpt_index.response.notebook_utils import (\n",
    "    display_response, \n",
    "    display_image,\n",
    ")\n",
    "from gpt_index.indices.query.query_transform.base import (\n",
    "    ImageOutputQueryTransform,\n",
    ")"
   ]
  },
  {
   "cell_type": "code",
   "execution_count": null,
   "id": "a4b74e87",
   "metadata": {},
   "outputs": [],
   "source": [
    "image_parser = ImageParser(keep_image=True, parse_text=True)\n",
    "file_extractor = DEFAULT_FILE_EXTRACTOR\n",
    "file_extractor.update(\n",
    "{\n",
    "    \".jpg\": image_parser,\n",
    "    \".png\": image_parser,\n",
    "    \".jpeg\": image_parser,\n",
    "})\n",
    "filename_fn = lambda filename: {'file_name': filename}\n",
    "image_output_transform=ImageOutputQueryTransform(width=400)"
   ]
  },
  {
   "cell_type": "markdown",
   "id": "fa834925",
   "metadata": {},
   "source": [
    "# LlamaIndex Documentation"
   ]
  },
  {
   "cell_type": "code",
   "execution_count": null,
   "id": "d5f04295",
   "metadata": {
    "scrolled": true
   },
   "outputs": [],
   "source": [
    "llama_reader = SimpleDirectoryReader(\n",
    "    input_dir='data/llama',\n",
    "    file_extractor=file_extractor, \n",
    "    file_metadata=filename_fn,\n",
    ")\n",
    "llama_documents = llama_reader.load_data(concatenate=True)"
   ]
  },
  {
   "cell_type": "code",
   "execution_count": null,
   "id": "46db4191",
   "metadata": {},
   "outputs": [],
   "source": [
    "llama_index = GPTSimpleVectorIndex(llama_documents)"
   ]
  },
  {
   "cell_type": "code",
   "execution_count": null,
   "id": "92569825",
   "metadata": {
    "scrolled": true
   },
   "outputs": [],
   "source": [
    "llama_response = llama_index.query(\n",
    "    'Show an image to illustrate how vector store index works and explain briefly.', \n",
    "    query_transform=image_output_transform,\n",
    "    similarity_top_k=2\n",
    ")"
   ]
  },
  {
   "cell_type": "code",
   "execution_count": null,
   "id": "7cfdd68d",
   "metadata": {},
   "outputs": [],
   "source": [
    "display_response(llama_response)"
   ]
  },
  {
   "cell_type": "code",
   "execution_count": null,
   "id": "4a4cc090",
   "metadata": {
    "scrolled": true
   },
   "outputs": [],
   "source": [
    "llama_response = llama_index.query(\n",
    "    'Show an image to illustrate how tree index works and explain briefly.', \n",
    "    query_transform=image_output_transform,\n",
    "    similarity_top_k=2\n",
    ")"
   ]
  },
  {
   "cell_type": "code",
   "execution_count": null,
   "id": "5c5721d6",
   "metadata": {
    "scrolled": false
   },
   "outputs": [],
   "source": [
    "display_response(llama_response)"
   ]
  },
  {
   "cell_type": "markdown",
   "id": "ca801c8c",
   "metadata": {},
   "source": [
    "# Receipts"
   ]
  },
  {
   "cell_type": "code",
   "execution_count": null,
   "id": "dbc28f2d",
   "metadata": {},
   "outputs": [],
   "source": [
    "receipt_reader = SimpleDirectoryReader(\n",
    "    input_dir='data/', \n",
    "    file_extractor=file_extractor, \n",
    "    file_metadata=filename_fn,\n",
    ")\n",
    "receipt_documents = receipt_reader.load_data()"
   ]
  },
  {
   "cell_type": "code",
   "execution_count": null,
   "id": "629cab63",
   "metadata": {},
   "outputs": [],
   "source": [
    "receipts_index = GPTSimpleVectorIndex(receipt_documents)"
   ]
  },
  {
   "cell_type": "code",
   "execution_count": null,
   "id": "7c078dc0",
   "metadata": {},
   "outputs": [],
   "source": [
    "receipts_response = receipts_index.query(\n",
    "    'When was the last time I went to McDonald and how much did I spend. \\\n",
    "    Also show me the receipt from my visit.',\n",
    "    query_transform=ImageOutputQueryTransform(width=400)\n",
    ")"
   ]
  },
  {
   "cell_type": "code",
   "execution_count": null,
   "id": "810ad2e9",
   "metadata": {},
   "outputs": [],
   "source": [
    "display_response(receipts_response)"
   ]
  },
  {
   "cell_type": "code",
   "execution_count": null,
   "id": "26cae6b7",
   "metadata": {},
   "outputs": [],
   "source": []
  }
 ],
 "metadata": {
  "kernelspec": {
   "display_name": "Python 3 (ipykernel)",
   "language": "python",
   "name": "python3"
  },
  "language_info": {
   "codemirror_mode": {
    "name": "ipython",
    "version": 3
   },
   "file_extension": ".py",
   "mimetype": "text/x-python",
   "name": "python",
   "nbconvert_exporter": "python",
   "pygments_lexer": "ipython3",
   "version": "3.10.9"
  }
 },
 "nbformat": 4,
 "nbformat_minor": 5
}
