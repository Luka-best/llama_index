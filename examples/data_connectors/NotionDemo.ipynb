{
 "cells": [
  {
   "cell_type": "markdown",
   "id": "effeb5a7-8544-4ee4-8c11-bad0d8165394",
   "metadata": {},
   "source": [
    "# Notion Demo\n",
    "Demonstrates our Notion data connector"
   ]
  },
  {
   "cell_type": "code",
   "execution_count": 1,
   "id": "6ea1f66d-10ed-4417-bdcb-f8a894836ea5",
   "metadata": {},
   "outputs": [],
   "source": [
    "from gpt_index import GPTListIndex, NotionPageReader\n",
    "from IPython.display import Markdown, display\n",
    "import os"
   ]
  },
  {
   "cell_type": "code",
   "execution_count": null,
   "id": "da90589a-fb44-4ec6-9706-753dba4fa968",
   "metadata": {},
   "outputs": [],
   "source": [
    "integration_token = os.getenv(\"NOTION_INTEGRATION_TOKEN\")\n",
    "page_ids = [\"<page_id>\"]\n",
    "documents = NotionPageReader(integration_token=integration_token).load_data(page_ids=page_ids)"
   ]
  },
  {
   "cell_type": "code",
   "execution_count": null,
   "id": "341295df-2029-4728-ab3d-2ee178a7e6f1",
   "metadata": {},
   "outputs": [],
   "source": [
    "index = GPTListIndex(documents)"
   ]
  },
  {
   "cell_type": "code",
   "execution_count": null,
   "id": "01c26b9d-49ec-4a6e-9c61-5c06bb86bbb2",
   "metadata": {},
   "outputs": [],
   "source": [
    "response = index.query(\"<query_text>\", verbose=True)"
   ]
  },
  {
   "cell_type": "code",
   "execution_count": null,
   "id": "f160c678-2fb5-4d6d-b2bc-87abb61cfdec",
   "metadata": {},
   "outputs": [],
   "source": [
    "display(Markdown(f\"<b>{response}</b>\"))"
   ]
  },
  {
   "attachments": {},
   "cell_type": "markdown",
   "id": "8e8e1b13",
   "metadata": {},
   "source": [
    "You can also pass the id of a database to index all the pages in that database:"
   ]
  },
  {
   "cell_type": "code",
   "execution_count": 4,
   "id": "e59014d6",
   "metadata": {},
   "outputs": [
    {
     "ename": "ValueError",
     "evalue": "Must specify either `page_ids` or `database_id`.",
     "output_type": "error",
     "traceback": [
      "\u001b[0;31m---------------------------------------------------------------------------\u001b[0m",
      "\u001b[0;31mValueError\u001b[0m                                Traceback (most recent call last)",
      "Cell \u001b[0;32mIn[4], line 5\u001b[0m\n\u001b[1;32m      3\u001b[0m \u001b[39m# https://developers.notion.com/docs/working-with-databases for how to find your database id\u001b[39;00m\n\u001b[1;32m      4\u001b[0m integration_token \u001b[39m=\u001b[39m \u001b[39m'\u001b[39m\u001b[39m123\u001b[39m\u001b[39m'\u001b[39m\n\u001b[0;32m----> 5\u001b[0m documents \u001b[39m=\u001b[39m NotionPageReader(integration_token\u001b[39m=\u001b[39;49mintegration_token)\u001b[39m.\u001b[39;49mload_data()\n\u001b[1;32m      7\u001b[0m \u001b[39mprint\u001b[39m(documents)\n\u001b[1;32m      9\u001b[0m index \u001b[39m=\u001b[39m GPTListIndex(documents)\n",
      "File \u001b[0;32m~/Projects/python/gpt_index/gpt_index/readers/notion.py:147\u001b[0m, in \u001b[0;36mNotionPageReader.load_data\u001b[0;34m(self, page_ids, database_id)\u001b[0m\n\u001b[1;32m    137\u001b[0m \u001b[39m\"\"\"Load data from the input directory.\u001b[39;00m\n\u001b[1;32m    138\u001b[0m \n\u001b[1;32m    139\u001b[0m \u001b[39mArgs:\u001b[39;00m\n\u001b[0;32m   (...)\u001b[0m\n\u001b[1;32m    144\u001b[0m \n\u001b[1;32m    145\u001b[0m \u001b[39m\"\"\"\u001b[39;00m\n\u001b[1;32m    146\u001b[0m \u001b[39mif\u001b[39;00m \u001b[39mnot\u001b[39;00m page_ids \u001b[39mand\u001b[39;00m \u001b[39mnot\u001b[39;00m database_id:\n\u001b[0;32m--> 147\u001b[0m     \u001b[39mraise\u001b[39;00m \u001b[39mValueError\u001b[39;00m(\u001b[39m\"\u001b[39m\u001b[39mMust specify either `page_ids` or `database_id`.\u001b[39m\u001b[39m\"\u001b[39m)\n\u001b[1;32m    148\u001b[0m docs \u001b[39m=\u001b[39m []\n\u001b[1;32m    149\u001b[0m \u001b[39mif\u001b[39;00m database_id:\n\u001b[1;32m    150\u001b[0m     \u001b[39m#get all the pages in the database\u001b[39;00m\n",
      "\u001b[0;31mValueError\u001b[0m: Must specify either `page_ids` or `database_id`."
     ]
    }
   ],
   "source": [
    "database_id = \"<database-id>\"\n",
    "\n",
    "# https://developers.notion.com/docs/working-with-databases for how to find your database id\n",
    "\n",
    "documents = NotionPageReader(integration_token=integration_token).load_data()\n",
    "\n",
    "print(documents)\n",
    "\n",
    "index = GPTListIndex(documents)\n",
    "\n",
    "response = index.query(\"What is AgentHQ?\", verbose=True)\n",
    "\n",
    "display(Markdown(f\"<b>{response}</b>\"))"
   ]
  }
 ],
 "metadata": {
  "kernelspec": {
   "display_name": "Python 3",
   "language": "python",
   "name": "python3"
  },
  "language_info": {
   "codemirror_mode": {
    "name": "ipython",
    "version": 3
   },
   "file_extension": ".py",
   "mimetype": "text/x-python",
   "name": "python",
   "nbconvert_exporter": "python",
   "pygments_lexer": "ipython3",
   "version": "3.10.8"
  },
  "vscode": {
   "interpreter": {
    "hash": "c32397a35d2e76e766f80c3872b208f0c0029e8a6a9b8e2a8fe7b1641cfa009b"
   }
  }
 },
 "nbformat": 4,
 "nbformat_minor": 5
}
