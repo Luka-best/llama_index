{
 "cells": [
  {
   "cell_type": "code",
   "execution_count": null,
   "id": "839c4a87",
   "metadata": {},
   "outputs": [],
   "source": [
    "# My OpenAI Key\n",
    "import os\n",
    "os.environ['OPENAI_API_KEY'] = \"INSERT OPENAI KEY\""
   ]
  },
  {
   "cell_type": "code",
   "execution_count": null,
   "id": "d726e871",
   "metadata": {},
   "outputs": [],
   "source": [
    "# Hide INFO logs regarding token usage, etc\n",
    "import logging\n",
    "logger = logging.getLogger()\n",
    "logger.setLevel(logging.CRITICAL)"
   ]
  },
  {
   "cell_type": "markdown",
   "id": "40cf0773",
   "metadata": {},
   "source": [
    "## Setup\n",
    "\n",
    "### Generate some example Documents"
   ]
  },
  {
   "cell_type": "code",
   "execution_count": null,
   "id": "fa34cd83",
   "metadata": {},
   "outputs": [],
   "source": [
    "from llama_index import download_loader\n",
    "from llama_index.indices.vector_store import GPTSimpleVectorIndex\n",
    "from llama_index.indices.tree.base import GPTTreeIndex\n",
    "\n",
    "WikipediaReader = download_loader(\"WikipediaReader\")\n",
    "\n",
    "loader = WikipediaReader()\n",
    "documents = loader.load_data(pages=['Berlin'])"
   ]
  },
  {
   "cell_type": "markdown",
   "id": "0c32392b",
   "metadata": {},
   "source": [
    "### Create a list of any sort of indices (custom LLMs, custom embeddings, etc)"
   ]
  },
  {
   "cell_type": "code",
   "execution_count": null,
   "id": "f59e6c18",
   "metadata": {},
   "outputs": [],
   "source": [
    "indices = [GPTSimpleVectorIndex(documents), GPTTreeIndex(documents)]\n",
    "\n",
    "# save indices to disk for later use\n",
    "indices[0].save_to_disk(\"simple_vector_index.json\")\n",
    "indices[1].save_to_disk(\"tree_index.json\")"
   ]
  },
  {
   "cell_type": "markdown",
   "id": "827ada33",
   "metadata": {},
   "source": [
    "## Using the Playground\n",
    "\n",
    "\n",
    "### Initialize with indices"
   ]
  },
  {
   "cell_type": "code",
   "execution_count": null,
   "id": "a04e4535",
   "metadata": {},
   "outputs": [],
   "source": [
    "# load from disk\n",
    "indices = [GPTSimpleVectorIndex.load_from_disk('simple_vector_index.json'), GPTTreeIndex.load_from_disk('tree_index.json')]\n",
    "from gpt_index.playground import Playground\n",
    "\n",
    "playground = Playground(indices=indices)"
   ]
  },
  {
   "cell_type": "code",
   "execution_count": null,
   "id": "5f6999fc",
   "metadata": {},
   "outputs": [],
   "source": [
    "from gpt_index.optimzation.optimizer import Optimizer\n",
    "# playground.compare(\"What is the population of Berlin?\")\n",
    "playground.compare_with_optimizer(\"What is the population of Berlin?\")"
   ]
  },
  {
   "cell_type": "markdown",
   "id": "8829a829",
   "metadata": {},
   "source": [
    "### Initialize with Documents"
   ]
  },
  {
   "cell_type": "code",
   "execution_count": null,
   "id": "dfbc8ade",
   "metadata": {},
   "outputs": [],
   "source": [
    "# Uses documents in a preset list of indices\n",
    "# playground = Playground.from_docs(documents=documents)"
   ]
  }
 ],
 "metadata": {
  "kernelspec": {
   "display_name": "Python 3 (ipykernel)",
   "language": "python",
   "name": "python3"
  },
  "language_info": {
   "codemirror_mode": {
    "name": "ipython",
    "version": 3
   },
   "file_extension": ".py",
   "mimetype": "text/x-python",
   "name": "python",
   "nbconvert_exporter": "python",
   "pygments_lexer": "ipython3",
   "version": "3.11.0"
  }
 },
 "nbformat": 4,
 "nbformat_minor": 5
}
