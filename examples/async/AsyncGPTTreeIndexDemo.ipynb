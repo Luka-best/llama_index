{
 "cells": [
  {
   "cell_type": "markdown",
   "id": "96b2b1e4",
   "metadata": {},
   "source": [
    "# Async GPTTreeIndex Demo"
   ]
  },
  {
   "cell_type": "code",
   "execution_count": 1,
   "id": "9331cfeb",
   "metadata": {},
   "outputs": [],
   "source": [
    "# NOTE: This is ONLY necessary in jupyter notebook.\n",
    "# Details: Jupyter runs an event-loop behind the scenes. \n",
    "#          This results in nested event-loops when we start an event-loop to make async queries.\n",
    "#          This is normally not allowed, we use nest_asyncio to allow it for convenience.  \n",
    "import nest_asyncio\n",
    "nest_asyncio.apply()"
   ]
  },
  {
   "cell_type": "code",
   "execution_count": 5,
   "id": "8a1d2821",
   "metadata": {},
   "outputs": [],
   "source": [
    "import time\n",
    "from gpt_index import GPTTreeIndex, SimpleDirectoryReader"
   ]
  },
  {
   "cell_type": "code",
   "execution_count": 3,
   "id": "6948df36",
   "metadata": {},
   "outputs": [],
   "source": [
    "# load documents\n",
    "documents = SimpleDirectoryReader('../paul_graham_essay/data').load_data()"
   ]
  },
  {
   "cell_type": "markdown",
   "id": "2d9115d1",
   "metadata": {},
   "source": [
    "#### By default, GPTTreeIndex makes blocking LLM calls"
   ]
  },
  {
   "cell_type": "code",
   "execution_count": 6,
   "id": "d9ef0fef",
   "metadata": {},
   "outputs": [
    {
     "name": "stderr",
     "output_type": "stream",
     "text": [
      "INFO:root:> Building index from nodes: 5 chunks\n",
      "INFO:root:> [build_index_from_documents] Total LLM token usage: 18913 tokens\n",
      "INFO:root:> [build_index_from_documents] Total embedding token usage: 0 tokens\n"
     ]
    }
   ],
   "source": [
    "start_time = time.perf_counter()\n",
    "index = GPTTreeIndex(documents)\n",
    "elapsed_time = time.perf_counter() - start_time"
   ]
  },
  {
   "cell_type": "markdown",
   "id": "9392d573",
   "metadata": {},
   "source": [
    "It takes ~47s to finish building GPTTreeIndex from 5 text chunks."
   ]
  },
  {
   "cell_type": "markdown",
   "id": "474f82d1",
   "metadata": {},
   "source": [
    "#### Pass in `use_async=True` to enable asynchronous LLM calls"
   ]
  },
  {
   "cell_type": "code",
   "execution_count": 9,
   "id": "78a02987",
   "metadata": {
    "scrolled": true
   },
   "outputs": [
    {
     "name": "stderr",
     "output_type": "stream",
     "text": [
      "INFO:root:> Building index from nodes: 5 chunks\n",
      "INFO:openai:message='OpenAI API response' path=https://api.openai.com/v1/completions processing_ms=6554 request_id=a95999fa266b4f0c4f2400622d3badf2 response_code=200\n",
      "INFO:openai:message='OpenAI API response' path=https://api.openai.com/v1/completions processing_ms=7715 request_id=11cb1f59f9f101cf3bdbc92fb6b5119e response_code=200\n",
      "INFO:openai:message='OpenAI API response' path=https://api.openai.com/v1/completions processing_ms=7729 request_id=3635123218ee8f785d0dfddf9cb6b47f response_code=200\n",
      "INFO:openai:message='OpenAI API response' path=https://api.openai.com/v1/completions processing_ms=8330 request_id=200f81360d15e628f6353ef2e44508ce response_code=200\n",
      "INFO:openai:message='OpenAI API response' path=https://api.openai.com/v1/completions processing_ms=8842 request_id=f20c265316caa67a7f71bdcd2d939fe2 response_code=200\n",
      "INFO:openai:message='OpenAI API response' path=https://api.openai.com/v1/completions processing_ms=11306 request_id=96d9b715d563868b6a0e57618ea0b1d5 response_code=200\n",
      "INFO:root:> [build_index_from_documents] Total LLM token usage: 18985 tokens\n",
      "INFO:root:> [build_index_from_documents] Total embedding token usage: 0 tokens\n"
     ]
    }
   ],
   "source": [
    "start_time = time.perf_counter()\n",
    "index = GPTTreeIndex(documents, use_async=True)\n",
    "elapsed_time = time.perf_counter() - start_time"
   ]
  },
  {
   "cell_type": "markdown",
   "id": "23469128",
   "metadata": {},
   "source": [
    "It takes ~12s to finish building the GPTTreeIndex from 5 text chunks."
   ]
  },
  {
   "cell_type": "code",
   "execution_count": null,
   "id": "59c1c27e",
   "metadata": {},
   "outputs": [],
   "source": []
  }
 ],
 "metadata": {
  "kernelspec": {
   "display_name": "Python 3 (ipykernel)",
   "language": "python",
   "name": "python3"
  },
  "language_info": {
   "codemirror_mode": {
    "name": "ipython",
    "version": 3
   },
   "file_extension": ".py",
   "mimetype": "text/x-python",
   "name": "python",
   "nbconvert_exporter": "python",
   "pygments_lexer": "ipython3",
   "version": "3.10.9"
  }
 },
 "nbformat": 4,
 "nbformat_minor": 5
}
