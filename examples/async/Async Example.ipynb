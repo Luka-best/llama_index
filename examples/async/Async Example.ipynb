{
 "cells": [
  {
   "cell_type": "markdown",
   "id": "43cea4f8",
   "metadata": {},
   "source": [
    "# Async LLMPredictor"
   ]
  },
  {
   "cell_type": "code",
   "execution_count": null,
   "id": "b6d46041",
   "metadata": {},
   "outputs": [],
   "source": [
    "from gpt_index.langchain_helpers.chain_wrapper import LLMPredictor\n",
    "from gpt_index.prompts.default_prompts import DEFAULT_SUMMARY_PROMPT\n",
    "import asyncio\n",
    "import time"
   ]
  },
  {
   "cell_type": "code",
   "execution_count": null,
   "id": "19e0b5e0",
   "metadata": {},
   "outputs": [],
   "source": [
    "context_strs = [\n",
    "    'Paul Graham',\n",
    "    'Steve Jobs',\n",
    "    'Barack Obama',\n",
    "]"
   ]
  },
  {
   "cell_type": "code",
   "execution_count": null,
   "id": "bc7f9a89",
   "metadata": {},
   "outputs": [],
   "source": [
    "prompt = DEFAULT_SUMMARY_PROMPT"
   ]
  },
  {
   "cell_type": "code",
   "execution_count": null,
   "id": "884c9df3",
   "metadata": {},
   "outputs": [],
   "source": [
    "llm = LLMPredictor()"
   ]
  },
  {
   "cell_type": "markdown",
   "id": "3c5b368b",
   "metadata": {},
   "source": [
    "Sync execution"
   ]
  },
  {
   "cell_type": "code",
   "execution_count": null,
   "id": "26ed839a",
   "metadata": {},
   "outputs": [],
   "source": [
    "start_time = time.perf_counter()\n",
    "outputs = [llm.predict(prompt, context_str=context_str) for context_str in context_strs]\n",
    "elapsed_time = time.perf_counter() - start_time"
   ]
  },
  {
   "cell_type": "markdown",
   "id": "dba14b97",
   "metadata": {},
   "source": [
    "Async execution"
   ]
  },
  {
   "cell_type": "code",
   "execution_count": null,
   "id": "fb007b19",
   "metadata": {},
   "outputs": [],
   "source": [
    "start_time = time.perf_counter()\n",
    "tasks = [llm.apredict(prompt, context_str=context_str) for context_str in context_strs]\n",
    "await asyncio.gather(*tasks)\n",
    "elapsed_time = time.perf_counter() - start_time"
   ]
  },
  {
   "cell_type": "markdown",
   "id": "96b2b1e4",
   "metadata": {},
   "source": [
    "# Async GPTTreeIndex"
   ]
  },
  {
   "cell_type": "code",
   "execution_count": null,
   "id": "9331cfeb",
   "metadata": {},
   "outputs": [],
   "source": [
    "# NOTE: this is necessary only in jupyter notebook\n",
    "import nest_asyncio\n",
    "nest_asyncio.apply()"
   ]
  },
  {
   "cell_type": "code",
   "execution_count": null,
   "id": "8a1d2821",
   "metadata": {},
   "outputs": [],
   "source": [
    "from gpt_index import GPTTreeIndex, SimpleDirectoryReader"
   ]
  },
  {
   "cell_type": "code",
   "execution_count": null,
   "id": "6948df36",
   "metadata": {},
   "outputs": [],
   "source": [
    "# load documents\n",
    "documents = SimpleDirectoryReader('../paul_graham_essay/data').load_data()"
   ]
  },
  {
   "cell_type": "code",
   "execution_count": null,
   "id": "d9ef0fef",
   "metadata": {},
   "outputs": [],
   "source": [
    "start_time = time.perf_counter()\n",
    "index = GPTTreeIndex(documents)\n",
    "elapsed_time = time.perf_counter() - start_time"
   ]
  },
  {
   "cell_type": "code",
   "execution_count": null,
   "id": "78a02987",
   "metadata": {},
   "outputs": [
    {
     "name": "stderr",
     "output_type": "stream",
     "text": [
      "INFO:openai:error_code=None error_message='The server had an error while processing your request. Sorry about that!' error_param=None error_type=server_error message='OpenAI API error received' stream_error=False\n",
      "WARNING:langchain.llms.openai:Retrying langchain.llms.openai.BaseOpenAI.completion_with_retry.<locals>._completion_with_retry in 4.0 seconds as it raised RateLimitError: The server had an error while processing your request. Sorry about that!.\n"
     ]
    }
   ],
   "source": [
    "start_time = time.perf_counter()\n",
    "index = GPTTreeIndex(documents, async_=False)\n",
    "elapsed_time = time.perf_counter() - start_time"
   ]
  },
  {
   "cell_type": "code",
   "execution_count": null,
   "id": "f116fdf4",
   "metadata": {},
   "outputs": [],
   "source": []
  }
 ],
 "metadata": {
  "kernelspec": {
   "display_name": "Python 3 (ipykernel)",
   "language": "python",
   "name": "python3"
  },
  "language_info": {
   "codemirror_mode": {
    "name": "ipython",
    "version": 3
   },
   "file_extension": ".py",
   "mimetype": "text/x-python",
   "name": "python",
   "nbconvert_exporter": "python",
   "pygments_lexer": "ipython3",
   "version": "3.10.9"
  }
 },
 "nbformat": 4,
 "nbformat_minor": 5
}
