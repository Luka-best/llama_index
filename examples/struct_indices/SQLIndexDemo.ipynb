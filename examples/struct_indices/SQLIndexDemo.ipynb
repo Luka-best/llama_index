{
 "cells": [
  {
   "cell_type": "markdown",
   "id": "e45f9b60-cd6b-4c15-958f-1feca5438128",
   "metadata": {},
   "source": [
    "# SQL Index Demo"
   ]
  },
  {
   "cell_type": "code",
   "execution_count": 2,
   "id": "107396a9-4aa7-49b3-9f0f-a755726c19ba",
   "metadata": {},
   "outputs": [],
   "source": [
    "from gpt_index import GPTSQLStructStoreIndex, SimpleDirectoryReader, WikipediaReader\n",
    "from IPython.display import Markdown, display"
   ]
  },
  {
   "cell_type": "markdown",
   "id": "77ac8d94-cd61-4869-a32b-0b2e7d18b83f",
   "metadata": {},
   "source": [
    "### Load Wikipedia Data"
   ]
  },
  {
   "cell_type": "code",
   "execution_count": null,
   "id": "93301fcf-a52b-430c-98a3-5360e6c8fc4a",
   "metadata": {},
   "outputs": [],
   "source": [
    "# install wikipedia python package\n",
    "!pip install wikipedia"
   ]
  },
  {
   "cell_type": "code",
   "execution_count": 3,
   "id": "ba3f7e5e-cdc4-4529-bba9-db45d8457dba",
   "metadata": {},
   "outputs": [],
   "source": [
    "wiki_docs = WikipediaReader().load_data(pages=['Toronto', 'Berlin', 'Tokyo'])"
   ]
  },
  {
   "cell_type": "code",
   "execution_count": 4,
   "id": "aee11fac-c7c0-411f-92b7-db391614086a",
   "metadata": {},
   "outputs": [
    {
     "data": {
      "text/plain": [
       "3"
      ]
     },
     "execution_count": 4,
     "metadata": {},
     "output_type": "execute_result"
    }
   ],
   "source": [
    "len(wiki_docs)"
   ]
  },
  {
   "cell_type": "markdown",
   "id": "461438c8-302d-45c5-8e69-16ad604686d1",
   "metadata": {},
   "source": [
    "### Create Database Schema"
   ]
  },
  {
   "cell_type": "code",
   "execution_count": 5,
   "id": "a370b266-66f5-4624-bbf9-2ad57f0511f8",
   "metadata": {},
   "outputs": [],
   "source": [
    "from sqlalchemy import create_engine, MetaData, Table, Column, String, Integer, select, column"
   ]
  },
  {
   "cell_type": "code",
   "execution_count": 6,
   "id": "ea24f794-f10b-42e6-922d-9258b7167405",
   "metadata": {},
   "outputs": [],
   "source": [
    "engine = create_engine(\"sqlite:///:memory:\")\n",
    "metadata_obj = MetaData(bind=engine)"
   ]
  },
  {
   "cell_type": "code",
   "execution_count": 7,
   "id": "b4154b29-7e23-4c26-a507-370a66186ae7",
   "metadata": {},
   "outputs": [],
   "source": [
    "# create city SQL table\n",
    "table_name = \"city_stats\"\n",
    "city_stats_table = Table(\n",
    "    table_name,\n",
    "    metadata_obj,\n",
    "    Column(\"city_name\", String(16), primary_key=True),\n",
    "    Column(\"population\", Integer),\n",
    "    Column(\"country\", String(16), nullable=False),\n",
    ")\n",
    "metadata_obj.create_all()"
   ]
  },
  {
   "cell_type": "markdown",
   "id": "1c09089a-6bcd-48db-8120-a84c8da3f82e",
   "metadata": {},
   "source": [
    "### Build Index"
   ]
  },
  {
   "cell_type": "code",
   "execution_count": null,
   "id": "95043e10-6cdf-4f66-96bd-ce307ea7df3e",
   "metadata": {},
   "outputs": [],
   "source": [
    "index = GPTSQLStructStoreIndex(wiki_docs, sql_engine=engine, table_name=\"city_stats\")"
   ]
  },
  {
   "cell_type": "code",
   "execution_count": null,
   "id": "b315b8ff-7dd7-4e7d-ac47-8c5a0c3e7ae9",
   "metadata": {},
   "outputs": [],
   "source": [
    "stmt = select([column(\"city_name\"), column(\"population\"), column(\"country\")]).select_from(city_stats_table)"
   ]
  },
  {
   "cell_type": "markdown",
   "id": "051a171f-8c97-40ed-ae17-4e3fa3785487",
   "metadata": {},
   "source": [
    "### Query Index"
   ]
  },
  {
   "cell_type": "code",
   "execution_count": null,
   "id": "2bd80cf7-a5bc-4797-b203-6e115821d1be",
   "metadata": {},
   "outputs": [],
   "source": [
    "# raw SQL query\n",
    "response = index.query(\"SELECT * from city_stats\", mode=\"sql\")"
   ]
  },
  {
   "cell_type": "code",
   "execution_count": null,
   "id": "4253d4c3-f3e5-4779-bcd1-2e6e2818305f",
   "metadata": {},
   "outputs": [],
   "source": [
    "display(Markdown(f\"<b>{response}</b>\"))"
   ]
  },
  {
   "cell_type": "code",
   "execution_count": null,
   "id": "aa1c9fb1-cfba-485a-bcf4-ab0acf7d1871",
   "metadata": {},
   "outputs": [],
   "source": [
    "# natural language query\n",
    "response = index.query(\"Which city has the highest population?\", mode=\"default\")"
   ]
  }
 ],
 "metadata": {
  "kernelspec": {
   "display_name": "gpt_retrieve_venv",
   "language": "python",
   "name": "gpt_retrieve_venv"
  },
  "language_info": {
   "codemirror_mode": {
    "name": "ipython",
    "version": 3
   },
   "file_extension": ".py",
   "mimetype": "text/x-python",
   "name": "python",
   "nbconvert_exporter": "python",
   "pygments_lexer": "ipython3",
   "version": "3.9.16"
  }
 },
 "nbformat": 4,
 "nbformat_minor": 5
}
