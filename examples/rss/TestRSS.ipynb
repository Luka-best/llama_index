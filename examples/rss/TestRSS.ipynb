{
 "cells": [
  {
   "cell_type": "markdown",
   "id": "31f9fb0a5237b0f7",
   "metadata": {
    "collapsed": false,
    "jupyter": {
     "outputs_hidden": false
    }
   },
   "source": [
    "# Test RSSNewsLoader and NewsArticleLoader"
   ]
  },
  {
   "cell_type": "code",
   "execution_count": null,
   "id": "3a02f4f5b627be4c",
   "metadata": {
    "collapsed": false,
    "jupyter": {
     "outputs_hidden": false
    }
   },
   "outputs": [],
   "source": [
    "from llama_index.readers.news import RssNewsReader"
   ]
  },
  {
   "cell_type": "markdown",
   "id": "3a9f11557f36d413",
   "metadata": {
    "collapsed": false,
    "jupyter": {
     "outputs_hidden": false
    }
   },
   "source": [
    "<b>This reads articles in an RSS feed and processes each one with the `newspaper` library.</b>"
   ]
  },
  {
   "cell_type": "code",
   "execution_count": null,
   "id": "f4c4f1986a663ca2",
   "metadata": {
    "ExecuteTime": {
     "end_time": "2023-08-03T16:01:59.156092500Z",
     "start_time": "2023-08-03T16:01:59.136497900Z"
    },
    "collapsed": false,
    "jupyter": {
     "outputs_hidden": false
    }
   },
   "outputs": [],
   "source": [
    "reader = RssNewsReader()\n",
    "docs = reader.load_data(urls=[\"https://www.engadget.com/rss.xml\"])\n",
    "docs[0]"
   ]
  },
  {
   "cell_type": "markdown",
   "id": "3535b9975651b2cf",
   "metadata": {
    "collapsed": false,
    "jupyter": {
     "outputs_hidden": false
    }
   },
   "source": [
    "<b>Generate keywords and summary for each article using the `use_nlp` arg:</b>"
   ]
  },
  {
   "cell_type": "code",
   "execution_count": null,
   "id": "93ec4188ec904aa6",
   "metadata": {
    "collapsed": false,
    "jupyter": {
     "outputs_hidden": false
    }
   },
   "outputs": [],
   "source": [
    "reader = RssNewsReader(use_nlp=True)\n",
    "docs = reader.load_data(urls=[\"https://www.engadget.com/rss.xml\"])\n",
    "docs[0]"
   ]
  },
  {
   "cell_type": "markdown",
   "id": "ad38509942190d76",
   "metadata": {
    "collapsed": false,
    "jupyter": {
     "outputs_hidden": false
    }
   },
   "source": [
    "<b>Use OPML by reading the file contents.</b>"
   ]
  },
  {
   "cell_type": "code",
   "execution_count": null,
   "id": "c52c6f2fcaacc9f1",
   "metadata": {
    "collapsed": false,
    "jupyter": {
     "outputs_hidden": false
    }
   },
   "outputs": [],
   "source": [
    "reader = RssNewsReader()\n",
    "with open(\"sample_rss_feeds.opml\", \"r\") as f:\n",
    "    opml = f.read()\n",
    "\n",
    "docs = reader.load_data(opml=opml)\n",
    "docs[0]"
   ]
  }
 ],
 "metadata": {
  "kernelspec": {
   "display_name": "Python 3 (ipykernel)",
   "language": "python",
   "name": "python3"
  },
  "language_info": {
   "codemirror_mode": {
    "name": "ipython",
    "version": 3
   },
   "file_extension": ".py",
   "mimetype": "text/x-python",
   "name": "python",
   "nbconvert_exporter": "python",
   "pygments_lexer": "ipython3",
   "version": "3.10.0"
  }
 },
 "nbformat": 4,
 "nbformat_minor": 5
}
