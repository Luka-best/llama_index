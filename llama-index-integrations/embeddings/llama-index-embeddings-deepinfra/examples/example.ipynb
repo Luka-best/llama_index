{
 "cells": [
  {
   "cell_type": "markdown",
   "id": "58e4d359804aa8a9",
   "metadata": {},
   "source": [
    "# DeepInfra Embeddings\n",
    "Before getting started, make sure you have the following installed:\n",
    "1-) Get your API token from https://deepinfra.com/ and set it as an environment variable `DEEPINFRA_API_TOKEN`\n",
    "2-) Install the `llama_index` package by running `pip install llama_index`\n",
    "3-) Install the `llama_index-embeddings-deepinfra` package by running `pip install llama_index-embeddings-deepinfra`"
   ]
  },
  {
   "cell_type": "code",
   "execution_count": null,
   "id": "initial_id",
   "metadata": {},
   "outputs": [
    {
     "ename": "ModuleNotFoundError",
     "evalue": "No module named 'llama_index'",
     "output_type": "error",
     "traceback": [
      "\u001b[0;31m---------------------------------------------------------------------------\u001b[0m",
      "\u001b[0;31mModuleNotFoundError\u001b[0m                       Traceback (most recent call last)",
      "Cell \u001b[0;32mIn[1], line 1\u001b[0m\n\u001b[0;32m----> 1\u001b[0m \u001b[38;5;28;01mfrom\u001b[39;00m \u001b[38;5;21;01mllama_index\u001b[39;00m\u001b[38;5;21;01m.\u001b[39;00m\u001b[38;5;21;01membeddings\u001b[39;00m\u001b[38;5;21;01m.\u001b[39;00m\u001b[38;5;21;01mdeepinfra\u001b[39;00m \u001b[38;5;28;01mimport\u001b[39;00m DeepInfraEmbeddingModel\n",
      "\u001b[0;31mModuleNotFoundError\u001b[0m: No module named 'llama_index'"
     ]
    }
   ],
   "source": [
    "from llama_index.embeddings.deepinfra import DeepInfraEmbeddingModel"
   ]
  },
  {
   "cell_type": "code",
   "execution_count": null,
   "id": "baa1c5366b775fbe",
   "metadata": {},
   "outputs": [],
   "source": [
    "model = DeepInfraEmbeddingModel()\n",
    "responses = model.get_text_embeddings([\"hello world\", \"goodbye world\"])\n",
    "print(responses)"
   ]
  }
 ],
 "metadata": {
  "kernelspec": {
   "display_name": "Python 3",
   "language": "python",
   "name": "python3"
  },
  "language_info": {
   "codemirror_mode": {
    "name": "ipython",
    "version": 2
   },
   "file_extension": ".py",
   "mimetype": "text/x-python",
   "name": "python",
   "nbconvert_exporter": "python",
   "pygments_lexer": "ipython2"
  }
 },
 "nbformat": 4,
 "nbformat_minor": 5
}
