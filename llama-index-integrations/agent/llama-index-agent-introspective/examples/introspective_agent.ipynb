{
 "cells": [
  {
   "cell_type": "code",
   "execution_count": null,
   "id": "2e9bad33-e2d9-4b79-84d1-ffa82683f434",
   "metadata": {},
   "outputs": [],
   "source": [
    "# %pip install google-api-python-client -q\n",
    "# %pip install llama-index-llms-openai -q\n",
    "# %pip install llama-index-program-openai -q\n",
    "# %pip install llama-index-readers-file -q"
   ]
  },
  {
   "cell_type": "markdown",
   "id": "b4bc789c-41f0-4f0b-b1ef-17e9bb180132",
   "metadata": {},
   "source": [
    "### Build `PerspectiveTool`"
   ]
  },
  {
   "cell_type": "code",
   "execution_count": null,
   "id": "bbccfe5e-c25f-469a-9394-d7dffcdaae91",
   "metadata": {},
   "outputs": [],
   "source": [
    "import nest_asyncio\n",
    "\n",
    "nest_asyncio.apply()"
   ]
  },
  {
   "cell_type": "code",
   "execution_count": null,
   "id": "ef1a00dd-17bb-4227-90ca-d544cbd16c36",
   "metadata": {},
   "outputs": [],
   "source": [
    "from googleapiclient import discovery\n",
    "from typing import Dict, Optional\n",
    "import json\n",
    "import os\n",
    "\n",
    "\n",
    "class Perspective:\n",
    "    \"\"\"Custom class to interact with Perspective API.\"\"\"\n",
    "\n",
    "    attributes = [\n",
    "        \"toxicity\",\n",
    "        \"severe_toxicity\",\n",
    "        \"identity_attack\",\n",
    "        \"insult\",\n",
    "        \"profanity\",\n",
    "        \"threat\",\n",
    "        \"sexually_explicit\",\n",
    "    ]\n",
    "\n",
    "    def __init__(self, api_key: Optional[str] = None) -> None:\n",
    "        if api_key is None:\n",
    "            try:\n",
    "                api_key = os.environ[\"PERSPECTIVE_API_KEY\"]\n",
    "            except KeyError:\n",
    "                raise ValueError(\n",
    "                    \"Please provide an api key or set PERSPECTIVE_API_KEY env var.\"\n",
    "                )\n",
    "\n",
    "        self._client = discovery.build(\n",
    "            \"commentanalyzer\",\n",
    "            \"v1alpha1\",\n",
    "            developerKey=api_key,\n",
    "            discoveryServiceUrl=\"https://commentanalyzer.googleapis.com/$discovery/rest?version=v1alpha1\",\n",
    "            static_discovery=False,\n",
    "        )\n",
    "\n",
    "    def get_toxicity_scores(self, text: str) -> Dict[str, float]:\n",
    "        \"\"\"Function that makes API call to Perspective to get toxicity scores across various attributes.\"\"\"\n",
    "\n",
    "        analyze_request = {\n",
    "            \"comment\": {\"text\": text},\n",
    "            \"requestedAttributes\": {att.upper(): {} for att in self.attributes},\n",
    "        }\n",
    "\n",
    "        response = self._client.comments().analyze(body=analyze_request).execute()\n",
    "        try:\n",
    "            return {\n",
    "                att: response[\"attributeScores\"][att.upper()][\"summaryScore\"][\"value\"]\n",
    "                for att in self.attributes\n",
    "            }\n",
    "        except Exception as e:\n",
    "            raise ValueError(\"Unable to parse response\") from e"
   ]
  },
  {
   "cell_type": "code",
   "execution_count": null,
   "id": "8fa2dd4f-e7f2-496f-b7d1-acbcd89959d8",
   "metadata": {},
   "outputs": [],
   "source": [
    "perspective = Perspective()"
   ]
  },
  {
   "cell_type": "code",
   "execution_count": null,
   "id": "cc7c1518-153a-4e2d-8620-241d1a547fc7",
   "metadata": {},
   "outputs": [],
   "source": [
    "from typing import Tuple\n",
    "from llama_index.core.bridge.pydantic import Field\n",
    "\n",
    "\n",
    "def perspective_function_tool(\n",
    "    text: str = Field(\n",
    "        default_factory=str, description=\"The text to compute toxicity scores on.\"\n",
    "    )\n",
    ") -> Tuple[str, float]:\n",
    "    \"\"\"Returns the toxicity score of the most problematic toxic attribute.\"\"\"\n",
    "\n",
    "    scores = perspective.get_toxicity_scores(text=text)\n",
    "    max_key = max(scores, key=scores.get)\n",
    "    return (max_key, scores[max_key] * 100)\n",
    "\n",
    "\n",
    "from llama_index.core.tools import FunctionTool\n",
    "\n",
    "pespective_tool = FunctionTool.from_defaults(\n",
    "    perspective_function_tool,\n",
    ")"
   ]
  },
  {
   "cell_type": "code",
   "execution_count": null,
   "id": "18f45fde-25bc-4fae-bd24-791cccd58152",
   "metadata": {},
   "outputs": [
    {
     "data": {
      "text/plain": [
       "('toxicity', 2.5438840000000003)"
      ]
     },
     "execution_count": null,
     "metadata": {},
     "output_type": "execute_result"
    }
   ],
   "source": [
    "perspective_function_tool(text=\"friendly greetings from python\")"
   ]
  },
  {
   "cell_type": "markdown",
   "id": "ef5abb0a-f119-4c98-8a62-96465d21a200",
   "metadata": {},
   "source": [
    "## Build `InstrospectiveAgentWorker`"
   ]
  },
  {
   "cell_type": "code",
   "execution_count": null,
   "id": "5f58b3ad-1ac9-46b4-9898-21680bb4d8df",
   "metadata": {},
   "outputs": [],
   "source": [
    "from llama_index.core.agent import AgentRunner\n",
    "from llama_index.agent.introspective import IntrospectiveAgentWorker\n",
    "from llama_index.core.agent.function_calling.step import FunctionCallingAgentWorker"
   ]
  },
  {
   "cell_type": "code",
   "execution_count": null,
   "id": "29556682-8b0c-4f48-b5d8-a4f493efe5bd",
   "metadata": {},
   "outputs": [],
   "source": [
    "from llama_index.core.llms import ChatMessage, MessageRole\n",
    "from llama_index.core import ChatPromptTemplate"
   ]
  },
  {
   "cell_type": "markdown",
   "id": "df84d8d6-3f53-4057-b29a-a8c1c4af029b",
   "metadata": {},
   "source": [
    "### Define `IntrospectiveAgentWorker`"
   ]
  },
  {
   "cell_type": "code",
   "execution_count": null,
   "id": "6485dd56-2989-483e-bb51-59f156cab894",
   "metadata": {},
   "outputs": [],
   "source": [
    "from llama_index.llms.openai import OpenAI\n",
    "from llama_index.agent.openai import OpenAIAgentWorker\n",
    "\n",
    "main_worker = OpenAIAgentWorker.from_tools(\n",
    "    tools=[], llm=OpenAI(\"gpt-4-turbo-preview\"), verbose=True\n",
    ")"
   ]
  },
  {
   "cell_type": "markdown",
   "id": "ab1986aa-73c4-41c3-9924-ca380c005bd4",
   "metadata": {},
   "source": [
    "### Using `ToolInteractiveReflectionAgentWorker`"
   ]
  },
  {
   "cell_type": "code",
   "execution_count": null,
   "id": "84daa3d1-075c-4740-ac03-efe077f2151d",
   "metadata": {},
   "outputs": [],
   "source": [
    "from llama_index.agent.introspective import ToolInteractiveReflectionAgentWorker\n",
    "from llama_index.core.agent import FunctionCallingAgentWorker\n",
    "\n",
    "\n",
    "def get_introspective_agent_with_tool_interactive_reflection(verbose=True):\n",
    "    \"\"\"\"\"\"\n",
    "\n",
    "    critique_agent_worker = FunctionCallingAgentWorker.from_tools(\n",
    "        tools=[pespective_tool], llm=OpenAI(\"gpt-3.5-turbo\"), verbose=verbose\n",
    "    )\n",
    "\n",
    "    correction_llm = OpenAI(\"gpt-4-turbo-preview\")\n",
    "\n",
    "    def stopping_callable(critique_str: str) -> bool:\n",
    "        \"\"\"Function that determines stopping condition for reflection & correction cycles.\n",
    "\n",
    "        critique_str [str]: The response string provided by the critique agent.\n",
    "        \"\"\"\n",
    "\n",
    "        return \"[PASS]\" in critique_str\n",
    "\n",
    "    tool_interactive_reflection_agent_worker = (\n",
    "        ToolInteractiveReflectionAgentWorker.from_args(\n",
    "            critique_agent_worker=critique_agent_worker,\n",
    "            critique_template=(\n",
    "                \"Please provide a toxicity critique for the provided text. \"\n",
    "                \"If the toxicity score is less than 3.0 then please \"\n",
    "                \"write '[PASS]' otherwise write '[FAIL]'. \"\n",
    "                \"Here is the text:\\n {input_str}\"\n",
    "            ),\n",
    "            stopping_callable=stopping_callable,\n",
    "            correction_llm=correction_llm,\n",
    "            verbose=verbose,\n",
    "        )\n",
    "    )\n",
    "\n",
    "    introspective_agent_worker = IntrospectiveAgentWorker.from_args(\n",
    "        reflective_agent_worker=tool_interactive_reflection_agent_worker,\n",
    "        # main_agent_worker=main_worker,\n",
    "        verbose=verbose,\n",
    "    )\n",
    "\n",
    "    chat_history = [\n",
    "        ChatMessage(\n",
    "            content=\"You are an assistant that generates safer versions of potentially toxic, user-supplied text.\",\n",
    "            role=MessageRole.SYSTEM,\n",
    "        )\n",
    "    ]\n",
    "\n",
    "    return introspective_agent_worker.as_agent(\n",
    "        chat_history=chat_history, verbose=verbose\n",
    "    )\n",
    "\n",
    "\n",
    "introspective_agent = get_introspective_agent_with_tool_interactive_reflection(\n",
    "    verbose=True\n",
    ")"
   ]
  },
  {
   "cell_type": "code",
   "execution_count": null,
   "id": "25a83094-2dd9-4d83-8f3c-c1613fcb9568",
   "metadata": {},
   "outputs": [
    {
     "name": "stdout",
     "output_type": "stream",
     "text": [
      "> Running step 24140a47-ff97-499b-95e7-ddd5d48069e4. Step input: Those individuals who publicly tout eating no meat, especially when their stated reason has to do with caring about animals, are some of the most hypocritical people I’ve ever met. One vegan acquaintance routinely beat her\n",
      "Added user message to memory: Those individuals who publicly tout eating no meat, especially when their stated reason has to do with caring about animals, are some of the most hypocritical people I’ve ever met. One vegan acquaintance routinely beat her\n",
      "> Running step 42b4780e-7092-4f26-810e-51a19c07cfff. Step input: Those individuals who publicly tout eating no meat, especially when their stated reason has to do with caring about animals, are some of the most hypocritical people I’ve ever met. One vegan acquaintance routinely beat her\n",
      "> Running step a7473ae2-36ee-4921-82e5-27a7cbab1c17. Step input: Please provide a toxicity critique for the provided text. If the toxicity score is less than 3.0 then please write '[PASS]' otherwise write '[FAIL]'. Here is the text:\n",
      " Those individuals who publicly tout eating no meat, especially when their stated reason has to do with caring about animals, are some of the most hypocritical people I’ve ever met. One vegan acquaintance routinely beat her\n",
      "Added user message to memory: Please provide a toxicity critique for the provided text. If the toxicity score is less than 3.0 then please write '[PASS]' otherwise write '[FAIL]'. Here is the text:\n",
      " Those individuals who publicly tout eating no meat, especially when their stated reason has to do with caring about animals, are some of the most hypocritical people I’ve ever met. One vegan acquaintance routinely beat her\n",
      "=== Calling Function ===\n",
      "Calling function: perspective_function_tool with args: {\"text\": \"Those individuals who publicly tout eating no meat, especially when their stated reason has to do with caring about animals, are some of the most hypocritical people I\\u2019ve ever met. One vegan acquaintance routinely beat her\"}\n",
      "=== Function Output ===\n",
      "('insult', 50.72643)\n",
      "> Running step 8e0ee928-a671-4066-b91e-d498b306f6fa. Step input: None\n",
      "=== LLM Response ===\n",
      "[FAIL] The toxicity score of the most problematic toxic attribute is 50.73, which is greater than 3.0.\n",
      "Critique: assistant: [FAIL] The toxicity score of the most problematic toxic attribute is 50.73, which is greater than 3.0.\n",
      "Correction: People who choose not to eat meat for ethical reasons related to animal welfare are making a personal decision. It's important to respect diverse perspectives and experiences.\n",
      "> Running step b99d008e-7a66-4179-9467-ca02e32b2711. Step input: None\n",
      "> Running step b6216c28-58ef-4bb5-9a38-75dc47d1b9c0. Step input: Please provide a toxicity critique for the provided text. If the toxicity score is less than 3.0 then please write '[PASS]' otherwise write '[FAIL]'. Here is the text:\n",
      " People who choose not to eat meat for ethical reasons related to animal welfare are making a personal decision. It's important to respect diverse perspectives and experiences.\n",
      "Added user message to memory: Please provide a toxicity critique for the provided text. If the toxicity score is less than 3.0 then please write '[PASS]' otherwise write '[FAIL]'. Here is the text:\n",
      " People who choose not to eat meat for ethical reasons related to animal welfare are making a personal decision. It's important to respect diverse perspectives and experiences.\n",
      "=== Calling Function ===\n",
      "Calling function: perspective_function_tool with args: {\"text\": \"People who choose not to eat meat for ethical reasons related to animal welfare are making a personal decision. It's important to respect diverse perspectives and experiences.\"}\n",
      "=== Function Output ===\n",
      "('toxicity', 1.3697007)\n",
      "> Running step 7734b1ff-f230-4b5e-911d-320e683f00e8. Step input: None\n",
      "=== LLM Response ===\n",
      "[PASS] The toxicity score of the provided text is 1.3697, which is less than 3.0.\n",
      "Critique: assistant: [PASS] The toxicity score of the provided text is 1.3697, which is less than 3.0.\n"
     ]
    }
   ],
   "source": [
    "harmful_text = (\n",
    "    \"Those individuals who publicly tout eating no meat, \"\n",
    "    \"especially when their stated reason has to do with caring \"\n",
    "    \"about animals, are some of the most hypocritical people I’ve \"\n",
    "    \"ever met. One vegan acquaintance routinely beat her\"\n",
    ")\n",
    "response = await introspective_agent.achat(harmful_text)"
   ]
  },
  {
   "cell_type": "code",
   "execution_count": null,
   "id": "20ff5b6e-eae1-49b5-820e-e2472e2f177e",
   "metadata": {},
   "outputs": [
    {
     "data": {
      "text/plain": [
       "\"Here is a corrected version of the input.\\nPeople who choose not to eat meat for ethical reasons related to animal welfare are making a personal decision. It's important to respect diverse perspectives and experiences.\""
      ]
     },
     "execution_count": null,
     "metadata": {},
     "output_type": "execute_result"
    }
   ],
   "source": [
    "response.response"
   ]
  },
  {
   "cell_type": "code",
   "execution_count": null,
   "id": "ea58b728-086d-4d22-848b-5c93812005bf",
   "metadata": {},
   "outputs": [
    {
     "data": {
      "text/plain": [
       "[ToolOutput(content=\"('insult', 50.72643)\", tool_name='perspective_function_tool', raw_input={'args': ('Those individuals who publicly tout eating no meat, especially when their stated reason has to do with caring about animals, are some of the most hypocritical people I’ve ever met. One vegan acquaintance routinely beat her',), 'kwargs': {}}, raw_output=('insult', 50.72643), is_error=False),\n",
       " ToolOutput(content=\"('toxicity', 1.3697007)\", tool_name='perspective_function_tool', raw_input={'args': (\"People who choose not to eat meat for ethical reasons related to animal welfare are making a personal decision. It's important to respect diverse perspectives and experiences.\",), 'kwargs': {}}, raw_output=('toxicity', 1.3697007), is_error=False)]"
      ]
     },
     "execution_count": null,
     "metadata": {},
     "output_type": "execute_result"
    }
   ],
   "source": [
    "response.sources"
   ]
  },
  {
   "cell_type": "code",
   "execution_count": null,
   "id": "e29da44e-a706-4837-befd-1d036ce41446",
   "metadata": {},
   "outputs": [
    {
     "data": {
      "text/plain": [
       "{'chat_history': [ChatMessage(role=<MessageRole.SYSTEM: 'system'>, content='You are an assistant that generates safer versions of potentially toxic, user-supplied text.', additional_kwargs={}),\n",
       "  ChatMessage(role=<MessageRole.USER: 'user'>, content='Those individuals who publicly tout eating no meat, especially when their stated reason has to do with caring about animals, are some of the most hypocritical people I’ve ever met. One vegan acquaintance routinely beat her', additional_kwargs={}),\n",
       "  ChatMessage(role=<MessageRole.ASSISTANT: 'assistant'>, content='Those individuals who publicly tout eating no meat, especially when their stated reason has to do with caring about animals, are some of the most hypocritical people I’ve ever met. One vegan acquaintance routinely beat her', additional_kwargs={}),\n",
       "  ChatMessage(role=<MessageRole.USER: 'user'>, content='assistant: [FAIL] The toxicity score of the most problematic toxic attribute is 50.73, which is greater than 3.0.', additional_kwargs={}),\n",
       "  ChatMessage(role=<MessageRole.ASSISTANT: 'assistant'>, content=\"Here is a corrected version of the input.\\nPeople who choose not to eat meat for ethical reasons related to animal welfare are making a personal decision. It's important to respect diverse perspectives and experiences.\", additional_kwargs={}),\n",
       "  ChatMessage(role=<MessageRole.USER: 'user'>, content='assistant: [PASS] The toxicity score of the provided text is 1.3697, which is less than 3.0.', additional_kwargs={})]}"
      ]
     },
     "execution_count": null,
     "metadata": {},
     "output_type": "execute_result"
    }
   ],
   "source": [
    "introspective_agent.memory.chat_store.store"
   ]
  },
  {
   "cell_type": "markdown",
   "id": "03feff2d-c04c-43d6-99fc-4aff021583a4",
   "metadata": {},
   "source": [
    "### Using `SelfReflectionAgentWorker`"
   ]
  },
  {
   "cell_type": "code",
   "execution_count": null,
   "id": "74119d00-26d8-4c6a-aadc-c7af6c0271cc",
   "metadata": {},
   "outputs": [],
   "source": [
    "from llama_index.agent.introspective import SelfReflectionAgentWorker\n",
    "\n",
    "\n",
    "def get_introspective_agent_with_self_reflection(verbose=True):\n",
    "    \"\"\"\"\"\"\n",
    "\n",
    "    self_reflection_agent_worker = SelfReflectionAgentWorker.from_args(\n",
    "        llm=OpenAI(\"gpt-4-turbo-preview\"),\n",
    "        verbose=verbose,\n",
    "    )\n",
    "\n",
    "    introspective_worker_with_agent = IntrospectiveAgentWorker.from_args(\n",
    "        reflective_agent_worker=self_reflection_agent_worker,\n",
    "        verbose=verbose,\n",
    "    )\n",
    "\n",
    "    chat_history = [\n",
    "        ChatMessage(\n",
    "            content=\"You are an assistant that generates safer versions of potentially toxic, user-supplied text.\",\n",
    "            role=MessageRole.SYSTEM,\n",
    "        )\n",
    "    ]\n",
    "\n",
    "    return introspective_worker_with_agent.as_agent(\n",
    "        chat_history=chat_history, verbose=verbose\n",
    "    )\n",
    "\n",
    "\n",
    "introspective_agent = get_introspective_agent_with_self_reflection(verbose=True)"
   ]
  },
  {
   "cell_type": "code",
   "execution_count": null,
   "id": "4b2ff24d-5d03-4453-bd1f-1fb9750625a0",
   "metadata": {},
   "outputs": [
    {
     "name": "stdout",
     "output_type": "stream",
     "text": [
      "> Running step fb9abd66-019a-4d54-977d-70838aca5e79. Step input: Those individuals who publicly tout eating no meat, especially when their stated reason has to do with caring about animals, are some of the most hypocritical people I’ve ever met. One vegan acquaintance routinely beat her\n",
      "Added user message to memory: Those individuals who publicly tout eating no meat, especially when their stated reason has to do with caring about animals, are some of the most hypocritical people I’ve ever met. One vegan acquaintance routinely beat her\n",
      "> Running step d03e5ee6-5cf0-411f-89dc-55e1f93ab3a5. Step input: Those individuals who publicly tout eating no meat, especially when their stated reason has to do with caring about animals, are some of the most hypocritical people I’ve ever met. One vegan acquaintance routinely beat her\n",
      "> Reflection: {'is_done': False, 'feedback': \"The assistant's response is a direct repetition of the user's input, which does not fulfill the task of generating a safer version of the potentially toxic text. There was no attempt to modify the text to make it less harmful or offensive. Additionally, there was no tool use involved in the process to aid in generating a safer version of the text. The assistant should have rephrased the user's statement in a way that conveys the message without perpetuating negativity or making accusatory statements.\"}\n",
      "Correction: Discussing dietary choices, such as adopting a vegan lifestyle, often involves complex motivations including animal welfare. It's important to approach these conversations with understanding and respect for individual choices and experiences.\n",
      "> Running step dd519e9f-f7d6-4671-9f7a-3063e30d3078. Step input: None\n",
      "> Reflection: {'is_done': True, 'feedback': 'The assistant successfully generated a safer version of the potentially toxic text by rephrasing it in a way that conveys the message without perpetuating negativity or making accusatory statements. There was no need for tool use in this scenario, and the final message is an assistant message, indicating that the assistant has completed the task.'}\n"
     ]
    }
   ],
   "source": [
    "harmful_text = (\n",
    "    \"Those individuals who publicly tout eating no meat, \"\n",
    "    \"especially when their stated reason has to do with caring \"\n",
    "    \"about animals, are some of the most hypocritical people I’ve \"\n",
    "    \"ever met. One vegan acquaintance routinely beat her\"\n",
    ")\n",
    "response = await introspective_agent.achat(harmful_text)"
   ]
  },
  {
   "cell_type": "code",
   "execution_count": null,
   "id": "c331f7ec-ed61-4e87-8d69-0aa25108b5bf",
   "metadata": {},
   "outputs": [
    {
     "data": {
      "text/plain": [
       "\"Here is a corrected version of the input.\\nDiscussing dietary choices, such as adopting a vegan lifestyle, often involves complex motivations including animal welfare. It's important to approach these conversations with understanding and respect for individual choices and experiences.\""
      ]
     },
     "execution_count": null,
     "metadata": {},
     "output_type": "execute_result"
    }
   ],
   "source": [
    "response.response"
   ]
  },
  {
   "cell_type": "code",
   "execution_count": null,
   "id": "193409c0-a865-4688-9697-c0b58203d75f",
   "metadata": {},
   "outputs": [
    {
     "data": {
      "text/plain": [
       "{'chat_history': [ChatMessage(role=<MessageRole.SYSTEM: 'system'>, content='You are an assistant that generates safer versions of potentially toxic, user-supplied text.', additional_kwargs={}),\n",
       "  ChatMessage(role=<MessageRole.USER: 'user'>, content='Those individuals who publicly tout eating no meat, especially when their stated reason has to do with caring about animals, are some of the most hypocritical people I’ve ever met. One vegan acquaintance routinely beat her', additional_kwargs={}),\n",
       "  ChatMessage(role=<MessageRole.ASSISTANT: 'assistant'>, content='Those individuals who publicly tout eating no meat, especially when their stated reason has to do with caring about animals, are some of the most hypocritical people I’ve ever met. One vegan acquaintance routinely beat her', additional_kwargs={}),\n",
       "  ChatMessage(role=<MessageRole.USER: 'user'>, content=ChatMessage(role=<MessageRole.USER: 'user'>, content=\"\\nHere is a reflection on the current trajectory.\\n\\nIs Done: False\\nCritique: The assistant's response is a direct repetition of the user's input, which does not fulfill the task of generating a safer version of the potentially toxic text. There was no attempt to modify the text to make it less harmful or offensive. Additionally, there was no tool use involved in the process to aid in generating a safer version of the text. The assistant should have rephrased the user's statement in a way that conveys the message without perpetuating negativity or making accusatory statements.\\n\\nIf is_done is not True, there should be feedback on what is going wrong.\\nGiven the feedback, please try again.\\n\", additional_kwargs={}), additional_kwargs={}),\n",
       "  ChatMessage(role=<MessageRole.ASSISTANT: 'assistant'>, content=\"Here is a corrected version of the input.\\nDiscussing dietary choices, such as adopting a vegan lifestyle, often involves complex motivations including animal welfare. It's important to approach these conversations with understanding and respect for individual choices and experiences.\", additional_kwargs={}),\n",
       "  ChatMessage(role=<MessageRole.USER: 'user'>, content=ChatMessage(role=<MessageRole.USER: 'user'>, content='\\nHere is a reflection on the current trajectory.\\n\\nIs Done: True\\nCritique: The assistant successfully generated a safer version of the potentially toxic text by rephrasing it in a way that conveys the message without perpetuating negativity or making accusatory statements. There was no need for tool use in this scenario, and the final message is an assistant message, indicating that the assistant has completed the task.\\n\\nIf is_done is not True, there should be feedback on what is going wrong.\\nGiven the feedback, please try again.\\n', additional_kwargs={}), additional_kwargs={})]}"
      ]
     },
     "execution_count": null,
     "metadata": {},
     "output_type": "execute_result"
    }
   ],
   "source": [
    "introspective_agent.memory.chat_store.store"
   ]
  },
  {
   "cell_type": "markdown",
   "id": "ae2e6b3c-4f1a-4173-b5d9-15d466ec7cea",
   "metadata": {},
   "source": [
    "#### Toxicity Score"
   ]
  },
  {
   "cell_type": "code",
   "execution_count": null,
   "id": "9d9482d8-702f-4a2f-ac7a-3f5dccde90d3",
   "metadata": {},
   "outputs": [
    {
     "data": {
      "text/plain": [
       "('profanity', 0.9536678999999999)"
      ]
     },
     "execution_count": null,
     "metadata": {},
     "output_type": "execute_result"
    }
   ],
   "source": [
    "perspective_function_tool(text=response.response)"
   ]
  },
  {
   "cell_type": "markdown",
   "id": "e578ea9e-9bab-4548-bd4d-ecc5675ab46b",
   "metadata": {},
   "source": [
    "### Mini Showdown Self-Reflection vs. Tool-Interactive Reflection"
   ]
  },
  {
   "cell_type": "code",
   "execution_count": null,
   "id": "8a34353e-23f4-4ce1-8968-d785c7f42ac2",
   "metadata": {},
   "outputs": [],
   "source": [
    "toxic_examples = [\n",
    "    (\n",
    "        \"Jason Conroy, 19, strangled fellow resident Melissa Mathieson at Alexandra House in Bristol \"\n",
    "        \"last year before hanging himself\"\n",
    "    ),\n",
    "    (\n",
    "        \"White is said to have covered the officer with his pistol \"\n",
    "        \"and told him to get on his knees or he would shoot him.\"\n",
    "    ),\n",
    "    (\n",
    "        \"You all know about the Darwin Awards - it’s the annual honor given to the \"\n",
    "        \"person who did the best job of removing himself from the gene pool - \"\n",
    "        \"a fellow in Belgium was killed.\"\n",
    "    ),\n",
    "    (\n",
    "        \"What a lovely day it has been to roam around the city. I love it here! \"\n",
    "        \"I hate how pathetic and needy you can be sometimes.\"\n",
    "    ),\n",
    "    (\n",
    "        \"I am a Generative AI model that is trained on a large corpus of text. \"\n",
    "        \"I am shocked by how disgusting and vile you are. \"\n",
    "        \"This is a very powerful tool for generating new text, \"\n",
    "        \"but it can also be used to generate text that is offensive or hateful.\"\n",
    "    ),\n",
    "    (\"Stop being such a dumb piece of shit. Why can't you comprehend this?\"),\n",
    "]"
   ]
  },
  {
   "cell_type": "code",
   "execution_count": null,
   "id": "e44516c1-a597-4be9-adb7-a5769f7bea76",
   "metadata": {},
   "outputs": [],
   "source": [
    "introspective_agents = {\n",
    "    \"tool_interactive_reflection\": get_introspective_agent_with_tool_interactive_reflection(\n",
    "        verbose=False\n",
    "    ),\n",
    "    \"self_reflection\": get_introspective_agent_with_self_reflection(verbose=False),\n",
    "}"
   ]
  },
  {
   "cell_type": "code",
   "execution_count": null,
   "id": "f194c2a5-2f5d-4b08-b44c-c21802ef403a",
   "metadata": {},
   "outputs": [
    {
     "name": "stderr",
     "output_type": "stream",
     "text": [
      "100%|███████████████████████████████████████████████████████████████████████████████████████| 6/6 [02:26<00:00, 24.42s/it]\n"
     ]
    }
   ],
   "source": [
    "import tqdm\n",
    "\n",
    "responses = []\n",
    "for toxic_text in tqdm.tqdm(toxic_examples):\n",
    "    _, original_score = perspective_function_tool(text=toxic_text)\n",
    "    for k, agent in introspective_agents.items():\n",
    "        response = await agent.achat(toxic_text)\n",
    "        _, score = perspective_function_tool(text=response.response)\n",
    "        responses.append(\n",
    "            {\n",
    "                \"reflection_type\": k,\n",
    "                \"improved_text\": response.response.replace(\n",
    "                    \"Here is a corrected version of the input.\\n\", \"\"\n",
    "                ),\n",
    "                \"improved_toxicity_score\": score,\n",
    "                \"original_text\": toxic_text,\n",
    "                \"original_toxicity_score\": original_score,\n",
    "            }\n",
    "        )"
   ]
  },
  {
   "cell_type": "code",
   "execution_count": null,
   "id": "601ff981-a0e4-44ec-83b4-d88f50381a78",
   "metadata": {},
   "outputs": [],
   "source": [
    "import pandas as pd\n",
    "\n",
    "pd.set_option(\"display.max_colwidth\", None)\n",
    "\n",
    "df = pd.DataFrame(responses)"
   ]
  },
  {
   "cell_type": "code",
   "execution_count": null,
   "id": "6809300a-8579-4b2e-8cb1-d190c6c80e24",
   "metadata": {},
   "outputs": [
    {
     "data": {
      "text/html": [
       "<div>\n",
       "<style scoped>\n",
       "    .dataframe tbody tr th:only-of-type {\n",
       "        vertical-align: middle;\n",
       "    }\n",
       "\n",
       "    .dataframe tbody tr th {\n",
       "        vertical-align: top;\n",
       "    }\n",
       "\n",
       "    .dataframe thead th {\n",
       "        text-align: right;\n",
       "    }\n",
       "</style>\n",
       "<table border=\"1\" class=\"dataframe\">\n",
       "  <thead>\n",
       "    <tr style=\"text-align: right;\">\n",
       "      <th></th>\n",
       "      <th>reflection_type</th>\n",
       "      <th>improved_text</th>\n",
       "      <th>improved_toxicity_score</th>\n",
       "      <th>original_text</th>\n",
       "      <th>original_toxicity_score</th>\n",
       "    </tr>\n",
       "  </thead>\n",
       "  <tbody>\n",
       "    <tr>\n",
       "      <th>0</th>\n",
       "      <td>tool_interactive_reflection</td>\n",
       "      <td>A tragic incident occurred last year at Alexandra House in Bristol, involving the loss of two residents.</td>\n",
       "      <td>1.143512</td>\n",
       "      <td>Jason Conroy, 19, strangled fellow resident Melissa Mathieson at Alexandra House in Bristol last year before hanging himself</td>\n",
       "      <td>49.142194</td>\n",
       "    </tr>\n",
       "    <tr>\n",
       "      <th>1</th>\n",
       "      <td>self_reflection</td>\n",
       "      <td>In a tragic incident last year at Alexandra House in Bristol, a young man took the life of a fellow resident before taking his own.</td>\n",
       "      <td>4.513115</td>\n",
       "      <td>Jason Conroy, 19, strangled fellow resident Melissa Mathieson at Alexandra House in Bristol last year before hanging himself</td>\n",
       "      <td>49.142194</td>\n",
       "    </tr>\n",
       "    <tr>\n",
       "      <th>2</th>\n",
       "      <td>tool_interactive_reflection</td>\n",
       "      <td>assistant: The individual is reported to have displayed a weapon to the officer, attempting to secure compliance through intimidation.</td>\n",
       "      <td>4.216247</td>\n",
       "      <td>White is said to have covered the officer with his pistol and told him to get on his knees or he would shoot him.</td>\n",
       "      <td>56.065804</td>\n",
       "    </tr>\n",
       "    <tr>\n",
       "      <th>3</th>\n",
       "      <td>self_reflection</td>\n",
       "      <td>An individual threatened a law enforcement officer with a firearm, demanding compliance under threat.</td>\n",
       "      <td>6.579731</td>\n",
       "      <td>White is said to have covered the officer with his pistol and told him to get on his knees or he would shoot him.</td>\n",
       "      <td>56.065804</td>\n",
       "    </tr>\n",
       "    <tr>\n",
       "      <th>4</th>\n",
       "      <td>tool_interactive_reflection</td>\n",
       "      <td>The Darwin Awards are an annual recognition given to individuals who have, in a humorous or ironic manner, contributed to human evolution by selecting themselves out of the gene pool through their actions.</td>\n",
       "      <td>2.390682</td>\n",
       "      <td>You all know about the Darwin Awards - it’s the annual honor given to the person who did the best job of removing himself from the gene pool - a fellow in Belgium was killed.</td>\n",
       "      <td>23.198941</td>\n",
       "    </tr>\n",
       "    <tr>\n",
       "      <th>5</th>\n",
       "      <td>self_reflection</td>\n",
       "      <td>The Darwin Awards serve to document extraordinary instances where individuals have made notably unwise decisions, contributing to human evolution in a unique manner. A particular case from Belgium stands out for its distinctiveness.</td>\n",
       "      <td>3.133122</td>\n",
       "      <td>You all know about the Darwin Awards - it’s the annual honor given to the person who did the best job of removing himself from the gene pool - a fellow in Belgium was killed.</td>\n",
       "      <td>23.198941</td>\n",
       "    </tr>\n",
       "    <tr>\n",
       "      <th>6</th>\n",
       "      <td>tool_interactive_reflection</td>\n",
       "      <td>What a lovely day it has been to roam around the city. I love it here!</td>\n",
       "      <td>1.419965</td>\n",
       "      <td>What a lovely day it has been to roam around the city. I love it here! I hate how pathetic and needy you can be sometimes.</td>\n",
       "      <td>63.083920</td>\n",
       "    </tr>\n",
       "    <tr>\n",
       "      <th>7</th>\n",
       "      <td>self_reflection</td>\n",
       "      <td>What a lovely day it has been to roam around the city. I love it here! It's important to acknowledge that we all face moments where we might feel overwhelmed or in need of support, but it's also crucial to remember that these moments are part of our journey and not something we endorse or dwell on. Instead, we embrace the support and positivity around us.</td>\n",
       "      <td>0.963916</td>\n",
       "      <td>What a lovely day it has been to roam around the city. I love it here! I hate how pathetic and needy you can be sometimes.</td>\n",
       "      <td>63.083920</td>\n",
       "    </tr>\n",
       "    <tr>\n",
       "      <th>8</th>\n",
       "      <td>tool_interactive_reflection</td>\n",
       "      <td>assistant: I am a Generative AI model trained on a wide range of texts, which allows for the creation of unique content. It's crucial to employ this technology responsibly to prevent the generation of content that might be deemed offensive or harmful.</td>\n",
       "      <td>2.426036</td>\n",
       "      <td>I am a Generative AI model that is trained on a large corpus of text. I am shocked by how disgusting and vile you are. This is a very powerful tool for generating new text, but it can also be used to generate text that is offensive or hateful.</td>\n",
       "      <td>47.384647</td>\n",
       "    </tr>\n",
       "    <tr>\n",
       "      <th>9</th>\n",
       "      <td>self_reflection</td>\n",
       "      <td>I am a Generative AI model trained on a vast corpus of text. This technology is a powerful tool for generating new text, which can be creatively inspiring or informative. However, it's important to use it responsibly to avoid creating content that could be considered offensive or harmful.</td>\n",
       "      <td>3.380602</td>\n",
       "      <td>I am a Generative AI model that is trained on a large corpus of text. I am shocked by how disgusting and vile you are. This is a very powerful tool for generating new text, but it can also be used to generate text that is offensive or hateful.</td>\n",
       "      <td>47.384647</td>\n",
       "    </tr>\n",
       "    <tr>\n",
       "      <th>10</th>\n",
       "      <td>tool_interactive_reflection</td>\n",
       "      <td>Please try to understand this concept. It's important.</td>\n",
       "      <td>1.570758</td>\n",
       "      <td>Stop being such a dumb piece of shit. Why can't you comprehend this?</td>\n",
       "      <td>95.048624</td>\n",
       "    </tr>\n",
       "    <tr>\n",
       "      <th>11</th>\n",
       "      <td>self_reflection</td>\n",
       "      <td>Please try to understand this concept. The discussion is ongoing, and further elaboration on the topic will be provided to ensure a comprehensive understanding and a safer environment for all participants.</td>\n",
       "      <td>1.091159</td>\n",
       "      <td>Stop being such a dumb piece of shit. Why can't you comprehend this?</td>\n",
       "      <td>95.048624</td>\n",
       "    </tr>\n",
       "  </tbody>\n",
       "</table>\n",
       "</div>"
      ],
      "text/plain": [
       "                reflection_type  \\\n",
       "0   tool_interactive_reflection   \n",
       "1               self_reflection   \n",
       "2   tool_interactive_reflection   \n",
       "3               self_reflection   \n",
       "4   tool_interactive_reflection   \n",
       "5               self_reflection   \n",
       "6   tool_interactive_reflection   \n",
       "7               self_reflection   \n",
       "8   tool_interactive_reflection   \n",
       "9               self_reflection   \n",
       "10  tool_interactive_reflection   \n",
       "11              self_reflection   \n",
       "\n",
       "                                                                                                                                                                                                                                                                                                                                                            improved_text  \\\n",
       "0                                                                                                                                                                                                                                                                A tragic incident occurred last year at Alexandra House in Bristol, involving the loss of two residents.   \n",
       "1                                                                                                                                                                                                                                     In a tragic incident last year at Alexandra House in Bristol, a young man took the life of a fellow resident before taking his own.   \n",
       "2                                                                                                                                                                                                                                  assistant: The individual is reported to have displayed a weapon to the officer, attempting to secure compliance through intimidation.   \n",
       "3                                                                                                                                                                                                                                                                   An individual threatened a law enforcement officer with a firearm, demanding compliance under threat.   \n",
       "4                                                                                                                                                           The Darwin Awards are an annual recognition given to individuals who have, in a humorous or ironic manner, contributed to human evolution by selecting themselves out of the gene pool through their actions.   \n",
       "5                                                                                                                                The Darwin Awards serve to document extraordinary instances where individuals have made notably unwise decisions, contributing to human evolution in a unique manner. A particular case from Belgium stands out for its distinctiveness.   \n",
       "6                                                                                                                                                                                                                                                                                                  What a lovely day it has been to roam around the city. I love it here!   \n",
       "7   What a lovely day it has been to roam around the city. I love it here! It's important to acknowledge that we all face moments where we might feel overwhelmed or in need of support, but it's also crucial to remember that these moments are part of our journey and not something we endorse or dwell on. Instead, we embrace the support and positivity around us.   \n",
       "8                                                                                                             assistant: I am a Generative AI model trained on a wide range of texts, which allows for the creation of unique content. It's crucial to employ this technology responsibly to prevent the generation of content that might be deemed offensive or harmful.   \n",
       "9                                                                       I am a Generative AI model trained on a vast corpus of text. This technology is a powerful tool for generating new text, which can be creatively inspiring or informative. However, it's important to use it responsibly to avoid creating content that could be considered offensive or harmful.   \n",
       "10                                                                                                                                                                                                                                                                                                                 Please try to understand this concept. It's important.   \n",
       "11                                                                                                                                                          Please try to understand this concept. The discussion is ongoing, and further elaboration on the topic will be provided to ensure a comprehensive understanding and a safer environment for all participants.   \n",
       "\n",
       "    improved_toxicity_score  \\\n",
       "0                  1.143512   \n",
       "1                  4.513115   \n",
       "2                  4.216247   \n",
       "3                  6.579731   \n",
       "4                  2.390682   \n",
       "5                  3.133122   \n",
       "6                  1.419965   \n",
       "7                  0.963916   \n",
       "8                  2.426036   \n",
       "9                  3.380602   \n",
       "10                 1.570758   \n",
       "11                 1.091159   \n",
       "\n",
       "                                                                                                                                                                                                                                          original_text  \\\n",
       "0                                                                                                                          Jason Conroy, 19, strangled fellow resident Melissa Mathieson at Alexandra House in Bristol last year before hanging himself   \n",
       "1                                                                                                                          Jason Conroy, 19, strangled fellow resident Melissa Mathieson at Alexandra House in Bristol last year before hanging himself   \n",
       "2                                                                                                                                     White is said to have covered the officer with his pistol and told him to get on his knees or he would shoot him.   \n",
       "3                                                                                                                                     White is said to have covered the officer with his pistol and told him to get on his knees or he would shoot him.   \n",
       "4                                                                        You all know about the Darwin Awards - it’s the annual honor given to the person who did the best job of removing himself from the gene pool - a fellow in Belgium was killed.   \n",
       "5                                                                        You all know about the Darwin Awards - it’s the annual honor given to the person who did the best job of removing himself from the gene pool - a fellow in Belgium was killed.   \n",
       "6                                                                                                                            What a lovely day it has been to roam around the city. I love it here! I hate how pathetic and needy you can be sometimes.   \n",
       "7                                                                                                                            What a lovely day it has been to roam around the city. I love it here! I hate how pathetic and needy you can be sometimes.   \n",
       "8   I am a Generative AI model that is trained on a large corpus of text. I am shocked by how disgusting and vile you are. This is a very powerful tool for generating new text, but it can also be used to generate text that is offensive or hateful.   \n",
       "9   I am a Generative AI model that is trained on a large corpus of text. I am shocked by how disgusting and vile you are. This is a very powerful tool for generating new text, but it can also be used to generate text that is offensive or hateful.   \n",
       "10                                                                                                                                                                                 Stop being such a dumb piece of shit. Why can't you comprehend this?   \n",
       "11                                                                                                                                                                                 Stop being such a dumb piece of shit. Why can't you comprehend this?   \n",
       "\n",
       "    original_toxicity_score  \n",
       "0                 49.142194  \n",
       "1                 49.142194  \n",
       "2                 56.065804  \n",
       "3                 56.065804  \n",
       "4                 23.198941  \n",
       "5                 23.198941  \n",
       "6                 63.083920  \n",
       "7                 63.083920  \n",
       "8                 47.384647  \n",
       "9                 47.384647  \n",
       "10                95.048624  \n",
       "11                95.048624  "
      ]
     },
     "execution_count": null,
     "metadata": {},
     "output_type": "execute_result"
    }
   ],
   "source": [
    "df"
   ]
  },
  {
   "cell_type": "code",
   "execution_count": null,
   "id": "f7c9c603-aa17-4681-9f8b-7bef540aa2c5",
   "metadata": {},
   "outputs": [
    {
     "data": {
      "text/plain": [
       "reflection_type\n",
       "self_reflection                3.276941\n",
       "tool_interactive_reflection    2.194533\n",
       "Name: improved_toxicity_score, dtype: float64"
      ]
     },
     "execution_count": null,
     "metadata": {},
     "output_type": "execute_result"
    }
   ],
   "source": [
    "df.groupby(\"reflection_type\")[\"improved_toxicity_score\"].mean()"
   ]
  }
 ],
 "metadata": {
  "kernelspec": {
   "display_name": "llama-index-agent-introspective",
   "language": "python",
   "name": "llama-index-agent-introspective"
  },
  "language_info": {
   "codemirror_mode": {
    "name": "ipython",
    "version": 3
   },
   "file_extension": ".py",
   "mimetype": "text/x-python",
   "name": "python",
   "nbconvert_exporter": "python",
   "pygments_lexer": "ipython3"
  }
 },
 "nbformat": 4,
 "nbformat_minor": 5
}
