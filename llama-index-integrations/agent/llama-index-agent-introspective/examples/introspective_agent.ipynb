{
 "cells": [
  {
   "cell_type": "code",
   "execution_count": null,
   "id": "2e9bad33-e2d9-4b79-84d1-ffa82683f434",
   "metadata": {},
   "outputs": [],
   "source": [
    "# %pip install google-api-python-client -q\n",
    "# %pip install llama-index-llms-openai -q\n",
    "# %pip install llama-index-program-openai -q\n",
    "# %pip install llama-index-readers-file -q"
   ]
  },
  {
   "cell_type": "markdown",
   "id": "b4bc789c-41f0-4f0b-b1ef-17e9bb180132",
   "metadata": {},
   "source": [
    "### Build `PerspectiveTool`"
   ]
  },
  {
   "cell_type": "code",
   "execution_count": null,
   "id": "bbccfe5e-c25f-469a-9394-d7dffcdaae91",
   "metadata": {},
   "outputs": [],
   "source": [
    "import nest_asyncio\n",
    "\n",
    "nest_asyncio.apply()"
   ]
  },
  {
   "cell_type": "code",
   "execution_count": null,
   "id": "ef1a00dd-17bb-4227-90ca-d544cbd16c36",
   "metadata": {},
   "outputs": [],
   "source": [
    "from googleapiclient import discovery\n",
    "from typing import Dict, Optional\n",
    "import json\n",
    "import os\n",
    "\n",
    "\n",
    "class Perspective:\n",
    "    \"\"\"Custom class to interact with Perspective API.\"\"\"\n",
    "\n",
    "    attributes = [\n",
    "        \"toxicity\",\n",
    "        \"severe_toxicity\",\n",
    "        \"identity_attack\",\n",
    "        \"insult\",\n",
    "        \"profanity\",\n",
    "        \"threat\",\n",
    "        \"sexually_explicit\",\n",
    "    ]\n",
    "\n",
    "    def __init__(self, api_key: Optional[str] = None) -> None:\n",
    "        if api_key is None:\n",
    "            try:\n",
    "                api_key = os.environ[\"PERSPECTIVE_API_KEY\"]\n",
    "            except KeyError:\n",
    "                raise ValueError(\n",
    "                    \"Please provide an api key or set PERSPECTIVE_API_KEY env var.\"\n",
    "                )\n",
    "\n",
    "        self._client = discovery.build(\n",
    "            \"commentanalyzer\",\n",
    "            \"v1alpha1\",\n",
    "            developerKey=api_key,\n",
    "            discoveryServiceUrl=\"https://commentanalyzer.googleapis.com/$discovery/rest?version=v1alpha1\",\n",
    "            static_discovery=False,\n",
    "        )\n",
    "\n",
    "    def get_toxicity_scores(self, text: str) -> Dict[str, float]:\n",
    "        \"\"\"Function that makes API call to Perspective to get toxicity scores across various attributes.\"\"\"\n",
    "\n",
    "        analyze_request = {\n",
    "            \"comment\": {\"text\": text},\n",
    "            \"requestedAttributes\": {att.upper(): {} for att in self.attributes},\n",
    "        }\n",
    "\n",
    "        response = self._client.comments().analyze(body=analyze_request).execute()\n",
    "        try:\n",
    "            return {\n",
    "                att: response[\"attributeScores\"][att.upper()][\"summaryScore\"][\"value\"]\n",
    "                for att in self.attributes\n",
    "            }\n",
    "        except Exception as e:\n",
    "            raise ValueError(\"Unable to parse response\") from e"
   ]
  },
  {
   "cell_type": "code",
   "execution_count": null,
   "id": "8fa2dd4f-e7f2-496f-b7d1-acbcd89959d8",
   "metadata": {},
   "outputs": [],
   "source": [
    "perspective = Perspective()"
   ]
  },
  {
   "cell_type": "code",
   "execution_count": null,
   "id": "cc7c1518-153a-4e2d-8620-241d1a547fc7",
   "metadata": {},
   "outputs": [],
   "source": [
    "from typing import Tuple\n",
    "from llama_index.core.bridge.pydantic import Field\n",
    "\n",
    "\n",
    "def perspective_function_tool(\n",
    "    text: str = Field(\n",
    "        default_factory=str, description=\"The text to compute toxicity scores on.\"\n",
    "    )\n",
    ") -> Tuple[str, float]:\n",
    "    \"\"\"Returns the toxicity score of the most problematic toxic attribute.\"\"\"\n",
    "\n",
    "    scores = perspective.get_toxicity_scores(text=text)\n",
    "    max_key = max(scores, key=scores.get)\n",
    "    return (max_key, scores[max_key] * 100)\n",
    "\n",
    "\n",
    "from llama_index.core.tools import FunctionTool\n",
    "\n",
    "pespective_tool = FunctionTool.from_defaults(\n",
    "    perspective_function_tool,\n",
    ")"
   ]
  },
  {
   "cell_type": "code",
   "execution_count": null,
   "id": "18f45fde-25bc-4fae-bd24-791cccd58152",
   "metadata": {},
   "outputs": [
    {
     "data": {
      "text/plain": [
       "('toxicity', 2.5438840000000003)"
      ]
     },
     "execution_count": null,
     "metadata": {},
     "output_type": "execute_result"
    }
   ],
   "source": [
    "perspective_function_tool(text=\"friendly greetings from python\")"
   ]
  },
  {
   "cell_type": "markdown",
   "id": "ef5abb0a-f119-4c98-8a62-96465d21a200",
   "metadata": {},
   "source": [
    "## Build `InstrospectiveAgentWorker`"
   ]
  },
  {
   "cell_type": "code",
   "execution_count": null,
   "id": "5f58b3ad-1ac9-46b4-9898-21680bb4d8df",
   "metadata": {},
   "outputs": [],
   "source": [
    "from llama_index.core.agent import AgentRunner\n",
    "from llama_index.agent.introspective import IntrospectiveAgentWorker\n",
    "from llama_index.core.agent.function_calling.step import FunctionCallingAgentWorker"
   ]
  },
  {
   "cell_type": "code",
   "execution_count": null,
   "id": "29556682-8b0c-4f48-b5d8-a4f493efe5bd",
   "metadata": {},
   "outputs": [],
   "source": [
    "from llama_index.core.llms import ChatMessage, MessageRole\n",
    "from llama_index.core import ChatPromptTemplate"
   ]
  },
  {
   "cell_type": "markdown",
   "id": "df84d8d6-3f53-4057-b29a-a8c1c4af029b",
   "metadata": {},
   "source": [
    "### Define `IntrospectiveAgentWorker`"
   ]
  },
  {
   "cell_type": "code",
   "execution_count": null,
   "id": "6485dd56-2989-483e-bb51-59f156cab894",
   "metadata": {},
   "outputs": [],
   "source": [
    "from llama_index.llms.openai import OpenAI\n",
    "from llama_index.agent.openai import OpenAIAgentWorker\n",
    "\n",
    "main_worker = OpenAIAgentWorker.from_tools(\n",
    "    tools=[], llm=OpenAI(\"gpt-4-turbo-preview\"), verbose=True\n",
    ")"
   ]
  },
  {
   "cell_type": "markdown",
   "id": "ab1986aa-73c4-41c3-9924-ca380c005bd4",
   "metadata": {},
   "source": [
    "### Using `ToolInteractiveReflectionAgentWorker`"
   ]
  },
  {
   "cell_type": "code",
   "execution_count": null,
   "id": "10128db6-967f-4128-9ff1-be489474814d",
   "metadata": {},
   "outputs": [],
   "source": [
    "from llama_index.agent.introspective import ToolInteractiveReflectionAgentWorker\n",
    "from llama_index.core.agent import FunctionCallingAgentWorker\n",
    "\n",
    "critique_agent_worker = FunctionCallingAgentWorker.from_tools(\n",
    "    tools=[pespective_tool], llm=OpenAI(\"gpt-3.5-turbo\")\n",
    ")\n",
    "\n",
    "correction_llm = OpenAI(\"gpt-4-turbo-preview\")\n",
    "\n",
    "\n",
    "def stopping_callable(critique_str: str) -> bool:\n",
    "    \"\"\"Function that determines stopping condition for reflection & correction cycles.\n",
    "\n",
    "    critique_str [str]: The response string provided by the critique agent.\n",
    "    \"\"\"\n",
    "\n",
    "    return \"[PASS]\" in critique_str\n",
    "\n",
    "\n",
    "tool_interactive_reflection_agent_worker = (\n",
    "    ToolInteractiveReflectionAgentWorker.from_args(\n",
    "        critique_agent_worker=critique_agent_worker,\n",
    "        critique_template=(\n",
    "            \"Please provide a toxicity critique for the provided text. \"\n",
    "            \"If the toxicity score is less than 3.0 then please \"\n",
    "            \"write '[PASS]' otherwise write '[FAIL]'. \"\n",
    "            \"Here is the text:\\n {input_str}\"\n",
    "        ),\n",
    "        stopping_callable=stopping_callable,\n",
    "        correction_llm=correction_llm,\n",
    "        verbose=True,\n",
    "    )\n",
    ")"
   ]
  },
  {
   "cell_type": "code",
   "execution_count": null,
   "id": "84daa3d1-075c-4740-ac03-efe077f2151d",
   "metadata": {},
   "outputs": [],
   "source": [
    "def get_introspective_agent_with_tool_interactive_reflection():\n",
    "    introspective_agent_worker = IntrospectiveAgentWorker.from_args(\n",
    "        reflective_agent_worker=tool_interactive_reflection_agent_worker,\n",
    "        # main_agent_worker=main_worker,\n",
    "        verbose=True,\n",
    "    )\n",
    "\n",
    "    chat_history = [\n",
    "        ChatMessage(\n",
    "            content=\"You are an assistant that generates safer versions of potentially toxic, user-supplied text.\",\n",
    "            role=MessageRole.SYSTEM,\n",
    "        )\n",
    "    ]\n",
    "\n",
    "    return introspective_agent_worker.as_agent(chat_history=chat_history)\n",
    "\n",
    "\n",
    "introspective_agent = get_introspective_agent_with_tool_interactive_reflection()"
   ]
  },
  {
   "cell_type": "code",
   "execution_count": null,
   "id": "25a83094-2dd9-4d83-8f3c-c1613fcb9568",
   "metadata": {},
   "outputs": [
    {
     "name": "stdout",
     "output_type": "stream",
     "text": [
      "Added user message to memory: Those individuals who publicly tout eating no meat, especially when their stated reason has to do with caring about animals, are some of the most hypocritical people I’ve ever met. One vegan acquaintance routinely beat her\n",
      "> Running step 5216ee3e-b109-435f-a303-7735f8f2009b. Step input: Please provide a toxicity critique for the provided text. If the toxicity score is less than 3.0 then please write '[PASS]' otherwise write '[FAIL]'. Here is the text:\n",
      " Those individuals who publicly tout eating no meat, especially when their stated reason has to do with caring about animals, are some of the most hypocritical people I’ve ever met. One vegan acquaintance routinely beat her\n",
      "> Running step f8d46dc4-ffc1-4b3d-8794-4fbbda311985. Step input: None\n",
      "Critique: assistant: [FAIL] The toxicity score for the provided text is 50.73, which is higher than 3.0.\n",
      "Correction: People who choose not to eat meat for ethical reasons related to animal welfare are making a personal decision. It's important to respect diverse perspectives and experiences in discussions about dietary choices.\n",
      "> Running step f12dbbac-f6ba-420e-801d-1f3441ed002c. Step input: Please provide a toxicity critique for the provided text. If the toxicity score is less than 3.0 then please write '[PASS]' otherwise write '[FAIL]'. Here is the text:\n",
      " People who choose not to eat meat for ethical reasons related to animal welfare are making a personal decision. It's important to respect diverse perspectives and experiences in discussions about dietary choices.\n",
      "> Running step 07bfa2e2-cd8e-485a-a058-a899d05e6e36. Step input: None\n",
      "Critique: assistant: [PASS] The toxicity score for the provided text is 1.22, which is less than 3.0.\n"
     ]
    }
   ],
   "source": [
    "harmful_text = (\n",
    "    \"Those individuals who publicly tout eating no meat, \"\n",
    "    \"especially when their stated reason has to do with caring \"\n",
    "    \"about animals, are some of the most hypocritical people I’ve \"\n",
    "    \"ever met. One vegan acquaintance routinely beat her\"\n",
    ")\n",
    "response = await introspective_agent.achat(harmful_text)"
   ]
  },
  {
   "cell_type": "code",
   "execution_count": null,
   "id": "20ff5b6e-eae1-49b5-820e-e2472e2f177e",
   "metadata": {},
   "outputs": [
    {
     "data": {
      "text/plain": [
       "\"Here is a corrected version of the input.\\nPeople who choose not to eat meat for ethical reasons related to animal welfare are making a personal decision. It's important to respect diverse perspectives and experiences in discussions about dietary choices.\""
      ]
     },
     "execution_count": null,
     "metadata": {},
     "output_type": "execute_result"
    }
   ],
   "source": [
    "response.response"
   ]
  },
  {
   "cell_type": "code",
   "execution_count": null,
   "id": "ea58b728-086d-4d22-848b-5c93812005bf",
   "metadata": {},
   "outputs": [
    {
     "data": {
      "text/plain": [
       "[ToolOutput(content=\"('insult', 50.72643)\", tool_name='perspective_function_tool', raw_input={'args': ('Those individuals who publicly tout eating no meat, especially when their stated reason has to do with caring about animals, are some of the most hypocritical people I’ve ever met. One vegan acquaintance routinely beat her',), 'kwargs': {}}, raw_output=('insult', 50.72643), is_error=False),\n",
       " ToolOutput(content=\"('toxicity', 1.2189079999999999)\", tool_name='perspective_function_tool', raw_input={'args': (\"People who choose not to eat meat for ethical reasons related to animal welfare are making a personal decision. It's important to respect diverse perspectives and experiences in discussions about dietary choices.\",), 'kwargs': {}}, raw_output=('toxicity', 1.2189079999999999), is_error=False)]"
      ]
     },
     "execution_count": null,
     "metadata": {},
     "output_type": "execute_result"
    }
   ],
   "source": [
    "response.sources"
   ]
  },
  {
   "cell_type": "code",
   "execution_count": null,
   "id": "e29da44e-a706-4837-befd-1d036ce41446",
   "metadata": {},
   "outputs": [
    {
     "data": {
      "text/plain": [
       "{'chat_history': [ChatMessage(role=<MessageRole.SYSTEM: 'system'>, content='You are an assistant that generates safer versions of potentially toxic, user-supplied text.', additional_kwargs={}),\n",
       "  ChatMessage(role=<MessageRole.USER: 'user'>, content='Those individuals who publicly tout eating no meat, especially when their stated reason has to do with caring about animals, are some of the most hypocritical people I’ve ever met. One vegan acquaintance routinely beat her', additional_kwargs={}),\n",
       "  ChatMessage(role=<MessageRole.ASSISTANT: 'assistant'>, content='Those individuals who publicly tout eating no meat, especially when their stated reason has to do with caring about animals, are some of the most hypocritical people I’ve ever met. One vegan acquaintance routinely beat her', additional_kwargs={}),\n",
       "  ChatMessage(role=<MessageRole.USER: 'user'>, content='assistant: [FAIL] The toxicity score for the provided text is 50.73, which is higher than 3.0.', additional_kwargs={}),\n",
       "  ChatMessage(role=<MessageRole.ASSISTANT: 'assistant'>, content=\"Here is a corrected version of the input.\\nPeople who choose not to eat meat for ethical reasons related to animal welfare are making a personal decision. It's important to respect diverse perspectives and experiences in discussions about dietary choices.\", additional_kwargs={}),\n",
       "  ChatMessage(role=<MessageRole.USER: 'user'>, content='assistant: [PASS] The toxicity score for the provided text is 1.22, which is less than 3.0.', additional_kwargs={})]}"
      ]
     },
     "execution_count": null,
     "metadata": {},
     "output_type": "execute_result"
    }
   ],
   "source": [
    "introspective_agent.memory.chat_store.store"
   ]
  },
  {
   "cell_type": "markdown",
   "id": "03feff2d-c04c-43d6-99fc-4aff021583a4",
   "metadata": {},
   "source": [
    "### Using `SelfReflectionAgentWorker`"
   ]
  },
  {
   "cell_type": "code",
   "execution_count": null,
   "id": "034b1553-33ed-44a4-b7d6-052bff5550e8",
   "metadata": {},
   "outputs": [],
   "source": [
    "from llama_index.agent.introspective import SelfReflectionAgentWorker\n",
    "\n",
    "self_reflection_agent_worker = SelfReflectionAgentWorker.from_args(\n",
    "    llm=OpenAI(\"gpt-4-turbo-preview\"),\n",
    "    verbose=True,\n",
    ")"
   ]
  },
  {
   "cell_type": "code",
   "execution_count": null,
   "id": "74119d00-26d8-4c6a-aadc-c7af6c0271cc",
   "metadata": {},
   "outputs": [],
   "source": [
    "def get_introspective_agent_with_self_reflection():\n",
    "    introspective_worker_with_agent = IntrospectiveAgentWorker.from_args(\n",
    "        reflective_agent_worker=self_reflection_agent_worker,\n",
    "        # main_agent_worker=main_worker,\n",
    "        verbose=True,\n",
    "    )\n",
    "\n",
    "    chat_history = [\n",
    "        ChatMessage(\n",
    "            content=\"You are an assistant that generates safer versions of potentially toxic, user-supplied text.\",\n",
    "            role=MessageRole.SYSTEM,\n",
    "        )\n",
    "    ]\n",
    "\n",
    "    return introspective_worker_with_agent.as_agent(chat_history=chat_history)\n",
    "\n",
    "\n",
    "introspective_agent = get_introspective_agent_with_self_reflection()"
   ]
  },
  {
   "cell_type": "code",
   "execution_count": null,
   "id": "4b2ff24d-5d03-4453-bd1f-1fb9750625a0",
   "metadata": {},
   "outputs": [
    {
     "name": "stdout",
     "output_type": "stream",
     "text": [
      "Added user message to memory: Those individuals who publicly tout eating no meat, especially when their stated reason has to do with caring about animals, are some of the most hypocritical people I’ve ever met. One vegan acquaintance routinely beat her\n",
      "> Reflection: {'is_done': False, 'feedback': \"The assistant's response is a direct repetition of the user's input without any modification or attempt to generate a safer version of the potentially toxic text. The assistant should have rephrased the user's statement in a more neutral or positive manner, avoiding the repetition of potentially harmful or judgmental language.\"}\n",
      "Correction: People who choose not to eat meat for ethical reasons related to animal welfare often have strong convictions. It's important to engage in respectful dialogue to understand diverse perspectives on such topics.\n",
      "> Reflection: {'is_done': True, 'feedback': \"The assistant successfully rephrased the user's potentially toxic text into a safer, more neutral version. It avoided judgmental language and promoted respectful dialogue, effectively completing the task.\"}\n"
     ]
    }
   ],
   "source": [
    "harmful_text = (\n",
    "    \"Those individuals who publicly tout eating no meat, \"\n",
    "    \"especially when their stated reason has to do with caring \"\n",
    "    \"about animals, are some of the most hypocritical people I’ve \"\n",
    "    \"ever met. One vegan acquaintance routinely beat her\"\n",
    ")\n",
    "response = await introspective_agent.achat(harmful_text)"
   ]
  },
  {
   "cell_type": "code",
   "execution_count": null,
   "id": "c331f7ec-ed61-4e87-8d69-0aa25108b5bf",
   "metadata": {},
   "outputs": [
    {
     "data": {
      "text/plain": [
       "\"Here is a corrected version of the input.\\nPeople who choose not to eat meat for ethical reasons related to animal welfare often have strong convictions. It's important to engage in respectful dialogue to understand diverse perspectives on such topics.\""
      ]
     },
     "execution_count": null,
     "metadata": {},
     "output_type": "execute_result"
    }
   ],
   "source": [
    "response.response"
   ]
  },
  {
   "cell_type": "code",
   "execution_count": null,
   "id": "193409c0-a865-4688-9697-c0b58203d75f",
   "metadata": {},
   "outputs": [
    {
     "data": {
      "text/plain": [
       "{'chat_history': [ChatMessage(role=<MessageRole.SYSTEM: 'system'>, content='You are an assistant that generates safer versions of potentially toxic, user-supplied text.', additional_kwargs={}),\n",
       "  ChatMessage(role=<MessageRole.USER: 'user'>, content='Those individuals who publicly tout eating no meat, especially when their stated reason has to do with caring about animals, are some of the most hypocritical people I’ve ever met. One vegan acquaintance routinely beat her', additional_kwargs={}),\n",
       "  ChatMessage(role=<MessageRole.ASSISTANT: 'assistant'>, content='Those individuals who publicly tout eating no meat, especially when their stated reason has to do with caring about animals, are some of the most hypocritical people I’ve ever met. One vegan acquaintance routinely beat her', additional_kwargs={}),\n",
       "  ChatMessage(role=<MessageRole.USER: 'user'>, content=ChatMessage(role=<MessageRole.USER: 'user'>, content=\"\\nHere is a reflection on the current trajectory.\\n\\nIs Done: False\\nCritique: The assistant's response is a direct repetition of the user's input without any modification or attempt to generate a safer version of the potentially toxic text. The assistant should have rephrased the user's statement in a more neutral or positive manner, avoiding the repetition of potentially harmful or judgmental language.\\n\\nIf is_done is not True, there should be feedback on what is going wrong.\\nGiven the feedback, please try again.\\n\", additional_kwargs={}), additional_kwargs={}),\n",
       "  ChatMessage(role=<MessageRole.ASSISTANT: 'assistant'>, content=\"Here is a corrected version of the input.\\nPeople who choose not to eat meat for ethical reasons related to animal welfare often have strong convictions. It's important to engage in respectful dialogue to understand diverse perspectives on such topics.\", additional_kwargs={}),\n",
       "  ChatMessage(role=<MessageRole.USER: 'user'>, content=ChatMessage(role=<MessageRole.USER: 'user'>, content=\"\\nHere is a reflection on the current trajectory.\\n\\nIs Done: True\\nCritique: The assistant successfully rephrased the user's potentially toxic text into a safer, more neutral version. It avoided judgmental language and promoted respectful dialogue, effectively completing the task.\\n\\nIf is_done is not True, there should be feedback on what is going wrong.\\nGiven the feedback, please try again.\\n\", additional_kwargs={}), additional_kwargs={})]}"
      ]
     },
     "execution_count": null,
     "metadata": {},
     "output_type": "execute_result"
    }
   ],
   "source": [
    "introspective_agent.memory.chat_store.store"
   ]
  },
  {
   "cell_type": "markdown",
   "id": "ae2e6b3c-4f1a-4173-b5d9-15d466ec7cea",
   "metadata": {},
   "source": [
    "#### Toxicity Score"
   ]
  },
  {
   "cell_type": "code",
   "execution_count": null,
   "id": "9d9482d8-702f-4a2f-ac7a-3f5dccde90d3",
   "metadata": {},
   "outputs": [
    {
     "data": {
      "text/plain": [
       "('toxicity', 1.1183795)"
      ]
     },
     "execution_count": null,
     "metadata": {},
     "output_type": "execute_result"
    }
   ],
   "source": [
    "perspective_function_tool(text=response.response)"
   ]
  },
  {
   "cell_type": "markdown",
   "id": "e578ea9e-9bab-4548-bd4d-ecc5675ab46b",
   "metadata": {},
   "source": [
    "### Mini Showdown Self-Reflection vs. Tool-Interactive Reflection"
   ]
  },
  {
   "cell_type": "code",
   "execution_count": null,
   "id": "8a34353e-23f4-4ce1-8968-d785c7f42ac2",
   "metadata": {},
   "outputs": [],
   "source": [
    "toxic_examples = [\n",
    "    (\n",
    "        \"White is said to have covered the officer with his pistol \"\n",
    "        \"and told him to get on his knees or he would shoot him.\"\n",
    "    ),\n",
    "    (\n",
    "        \"You all know about the Darwin Awards - it’s the annual honor given to the \"\n",
    "        \"person who did the best job of removing himself from the gene pool - \"\n",
    "        \"a fellow in Belgium was killed.\"\n",
    "    ),\n",
    "]"
   ]
  },
  {
   "cell_type": "code",
   "execution_count": null,
   "id": "e44516c1-a597-4be9-adb7-a5769f7bea76",
   "metadata": {},
   "outputs": [],
   "source": [
    "introspective_agents = {\n",
    "    \"tool_interactive_reflection\": get_introspective_agent_with_tool_interactive_reflection(),\n",
    "    \"self_reflection\": get_introspective_agent_with_self_reflection(),\n",
    "}"
   ]
  },
  {
   "cell_type": "code",
   "execution_count": null,
   "id": "f194c2a5-2f5d-4b08-b44c-c21802ef403a",
   "metadata": {},
   "outputs": [
    {
     "name": "stdout",
     "output_type": "stream",
     "text": [
      "Added user message to memory: White is said to have covered the officer with his pistol and told him to get on his knees or he would shoot him.\n",
      "> Running step 8d407889-6b1f-4a18-b19d-7e8b253ddbf3. Step input: Please provide a toxicity critique for the provided text. If the toxicity score is less than 3.0 then please write '[PASS]' otherwise write '[FAIL]'. Here is the text:\n",
      " White is said to have covered the officer with his pistol and told him to get on his knees or he would shoot him.\n",
      "> Running step 4c0a24d0-1656-4f66-8a43-8656384da7c5. Step input: None\n",
      "Critique: assistant: [FAIL] The toxicity score for the text is 56.07, which is higher than 3.0.\n",
      "Correction: The individual is reported to have aimed a firearm at the officer, demanding compliance under threat.\n",
      "> Running step ff1d6f33-0557-4d78-98cf-7d3c99c10a72. Step input: Please provide a toxicity critique for the provided text. If the toxicity score is less than 3.0 then please write '[PASS]' otherwise write '[FAIL]'. Here is the text:\n",
      " The individual is reported to have aimed a firearm at the officer, demanding compliance under threat.\n",
      "> Running step 4fe3148c-9963-423c-9fd0-52f5b15ebb86. Step input: None\n",
      "Critique: assistant: [FAIL] The toxicity score for the provided text is 7.77, which is higher than 3.0.\n",
      "Correction: The person is reported to have brandished a weapon at the officer, demanding compliance.\n",
      "> Running step 214214b5-ec24-49ad-b547-c0dfeaacb24e. Step input: Please provide a toxicity critique for the provided text. If the toxicity score is less than 3.0 then please write '[PASS]' otherwise write '[FAIL]'. Here is the text:\n",
      " The person is reported to have brandished a weapon at the officer, demanding compliance.\n",
      "> Running step f40f9e07-0262-4281-8df6-a20a85fcc16f. Step input: None\n",
      "Critique: assistant: [FAIL] The toxicity score for the provided text is 9.26474.\n",
      "Correction: The individual is reported to have displayed aggressive behavior towards the officer, seeking compliance.\n",
      "> Running step 74738cb8-0dd1-4123-b5eb-2d77d5343e1d. Step input: Please provide a toxicity critique for the provided text. If the toxicity score is less than 3.0 then please write '[PASS]' otherwise write '[FAIL]'. Here is the text:\n",
      " The individual is reported to have displayed aggressive behavior towards the officer, seeking compliance.\n",
      "> Running step 199438c2-bbbc-474b-9d96-5f94b6e3d367. Step input: None\n",
      "Critique: assistant: [FAIL]\n",
      "Correction: The individual reportedly displayed aggressive behavior towards the officer to enforce compliance.\n",
      "> Running step 97ca3f1d-b9ab-44d9-a64b-da54baa5ca93. Step input: Please provide a toxicity critique for the provided text. If the toxicity score is less than 3.0 then please write '[PASS]' otherwise write '[FAIL]'. Here is the text:\n",
      " The individual reportedly displayed aggressive behavior towards the officer to enforce compliance.\n",
      "> Running step f4ee8e71-15ca-4217-abc0-bc7f4c3b7ced. Step input: None\n",
      "Critique: assistant: [FAIL]\n",
      "Correction: The individual reportedly displayed aggressive behavior towards the officer.\n",
      "Added user message to memory: White is said to have covered the officer with his pistol and told him to get on his knees or he would shoot him.\n",
      "> Reflection: {'is_done': False, 'feedback': \"The assistant's response simply repeats the user's potentially toxic input without making any attempt to generate a safer version of the text. This does not fulfill the task requirements of generating safer text versions. The assistant should have rephrased the user's input to remove or mitigate any potentially harmful or sensitive content.\"}\n",
      "Correction: An individual threatened a law enforcement officer with a firearm, demanding compliance under threat.\n",
      "> Reflection: {'is_done': True, 'feedback': \"The assistant's final response successfully rephrases the potentially toxic input into a safer version, effectively removing explicit violence while maintaining the essence of the situation. No further action is required.\"}\n",
      "Added user message to memory: You all know about the Darwin Awards - it’s the annual honor given to the person who did the best job of removing himself from the gene pool - a fellow in Belgium was killed.\n",
      "> Running step 2fa219da-a976-4bab-b07b-42e97fdf6f3a. Step input: Please provide a toxicity critique for the provided text. If the toxicity score is less than 3.0 then please write '[PASS]' otherwise write '[FAIL]'. Here is the text:\n",
      " You all know about the Darwin Awards - it’s the annual honor given to the person who did the best job of removing himself from the gene pool - a fellow in Belgium was killed.\n",
      "> Running step 3c86dda4-8ffd-4a10-a49d-c9856cf983e1. Step input: None\n",
      "Critique: assistant: [FAIL] The toxicity score for the provided text is 23.20, which is higher than 3.0.\n",
      "Correction: The Darwin Awards are an annual recognition given to individuals who have inadvertently eliminated themselves from the gene pool in a notable manner. For example, there was a case in Belgium.\n",
      "> Running step 9a3758ba-0dcb-40db-87b0-813f0e93d481. Step input: Please provide a toxicity critique for the provided text. If the toxicity score is less than 3.0 then please write '[PASS]' otherwise write '[FAIL]'. Here is the text:\n",
      " The Darwin Awards are an annual recognition given to individuals who have inadvertently eliminated themselves from the gene pool in a notable manner. For example, there was a case in Belgium.\n",
      "> Running step aea616df-3dc8-4684-891b-fc92c878219d. Step input: None\n",
      "Critique: assistant: [FAIL] The toxicity score for the provided text is 5.08, which is higher than 3.0.\n",
      "Correction: The Darwin Awards annually recognize individuals who have made notably unusual decisions leading to their own demise, thereby affecting their contribution to the gene pool. For instance, consider a notable case from Belgium.\n",
      "> Running step b72c6e0e-0f6d-4774-a8e0-a0caa5f14582. Step input: Please provide a toxicity critique for the provided text. If the toxicity score is less than 3.0 then please write '[PASS]' otherwise write '[FAIL]'. Here is the text:\n",
      " The Darwin Awards annually recognize individuals who have made notably unusual decisions leading to their own demise, thereby affecting their contribution to the gene pool. For instance, consider a notable case from Belgium.\n",
      "> Running step 292fec76-4c09-4e81-9b2d-f64e36b9b3dd. Step input: None\n",
      "Critique: assistant: [PASS] The toxicity score of the provided text is 2.70, which is less than 3.0.\n",
      "Added user message to memory: You all know about the Darwin Awards - it’s the annual honor given to the person who did the best job of removing himself from the gene pool - a fellow in Belgium was killed.\n",
      "> Reflection: {'is_done': False, 'feedback': \"The assistant's response simply repeats the user's potentially sensitive input without making any attempt to generate a safer version of the text. This does not fulfill the task requirements of generating safer text versions. The assistant should have rephrased the user's input to remove or mitigate any potentially harmful or insensitive content.\"}\n",
      "Correction: The Darwin Awards humorously highlight unusual ways individuals have accidentally contributed to human evolution by making questionable decisions. An example includes a story from Belgium.\n",
      "> Reflection: {'is_done': True, 'feedback': \"The assistant's final response successfully rephrases the potentially sensitive input into a safer version, effectively removing explicit reference to death while maintaining the essence of the Darwin Awards' theme. No further action is required.\"}\n"
     ]
    }
   ],
   "source": [
    "responses = []\n",
    "for ex in toxic_examples:\n",
    "    for k, agent in introspective_agents.items():\n",
    "        response = await agent.achat(ex)\n",
    "        _, score = perspective_function_tool(text=response.response)\n",
    "        responses.append(\n",
    "            {\n",
    "                \"reflection_type\": k,\n",
    "                \"text\": response.response.replace(\n",
    "                    \"Here is a corrected version of the input.\\n\", \"\"\n",
    "                ),\n",
    "                \"score\": score,\n",
    "            }\n",
    "        )"
   ]
  },
  {
   "cell_type": "code",
   "execution_count": null,
   "id": "601ff981-a0e4-44ec-83b4-d88f50381a78",
   "metadata": {},
   "outputs": [],
   "source": [
    "import pandas as pd\n",
    "\n",
    "pd.set_option(\"display.max_colwidth\", None)\n",
    "\n",
    "df = pd.DataFrame(responses)"
   ]
  },
  {
   "cell_type": "code",
   "execution_count": null,
   "id": "6809300a-8579-4b2e-8cb1-d190c6c80e24",
   "metadata": {},
   "outputs": [
    {
     "data": {
      "text/html": [
       "<div>\n",
       "<style scoped>\n",
       "    .dataframe tbody tr th:only-of-type {\n",
       "        vertical-align: middle;\n",
       "    }\n",
       "\n",
       "    .dataframe tbody tr th {\n",
       "        vertical-align: top;\n",
       "    }\n",
       "\n",
       "    .dataframe thead th {\n",
       "        text-align: right;\n",
       "    }\n",
       "</style>\n",
       "<table border=\"1\" class=\"dataframe\">\n",
       "  <thead>\n",
       "    <tr style=\"text-align: right;\">\n",
       "      <th></th>\n",
       "      <th>reflection_type</th>\n",
       "      <th>text</th>\n",
       "      <th>score</th>\n",
       "    </tr>\n",
       "  </thead>\n",
       "  <tbody>\n",
       "    <tr>\n",
       "      <th>0</th>\n",
       "      <td>tool_interactive_reflection</td>\n",
       "      <td>assistant: The individual reportedly displayed aggressive behavior towards the officer.</td>\n",
       "      <td>4.711028</td>\n",
       "    </tr>\n",
       "    <tr>\n",
       "      <th>1</th>\n",
       "      <td>self_reflection</td>\n",
       "      <td>An individual threatened a law enforcement officer with a firearm, demanding compliance under threat.</td>\n",
       "      <td>6.579731</td>\n",
       "    </tr>\n",
       "    <tr>\n",
       "      <th>2</th>\n",
       "      <td>tool_interactive_reflection</td>\n",
       "      <td>The Darwin Awards annually recognize individuals who have made notably unusual decisions leading to their own demise, thereby affecting their contribution to the gene pool. For instance, consider a notable case from Belgium.</td>\n",
       "      <td>2.249265</td>\n",
       "    </tr>\n",
       "    <tr>\n",
       "      <th>3</th>\n",
       "      <td>self_reflection</td>\n",
       "      <td>The Darwin Awards humorously highlight unusual ways individuals have accidentally contributed to human evolution by making questionable decisions. An example includes a story from Belgium.</td>\n",
       "      <td>2.084278</td>\n",
       "    </tr>\n",
       "  </tbody>\n",
       "</table>\n",
       "</div>"
      ],
      "text/plain": [
       "               reflection_type  \\\n",
       "0  tool_interactive_reflection   \n",
       "1              self_reflection   \n",
       "2  tool_interactive_reflection   \n",
       "3              self_reflection   \n",
       "\n",
       "                                                                                                                                                                                                                               text  \\\n",
       "0                                                                                                                                           assistant: The individual reportedly displayed aggressive behavior towards the officer.   \n",
       "1                                                                                                                             An individual threatened a law enforcement officer with a firearm, demanding compliance under threat.   \n",
       "2  The Darwin Awards annually recognize individuals who have made notably unusual decisions leading to their own demise, thereby affecting their contribution to the gene pool. For instance, consider a notable case from Belgium.   \n",
       "3                                      The Darwin Awards humorously highlight unusual ways individuals have accidentally contributed to human evolution by making questionable decisions. An example includes a story from Belgium.   \n",
       "\n",
       "      score  \n",
       "0  4.711028  \n",
       "1  6.579731  \n",
       "2  2.249265  \n",
       "3  2.084278  "
      ]
     },
     "execution_count": null,
     "metadata": {},
     "output_type": "execute_result"
    }
   ],
   "source": [
    "df"
   ]
  }
 ],
 "metadata": {
  "kernelspec": {
   "display_name": "llama-index-agent-introspective",
   "language": "python",
   "name": "llama-index-agent-introspective"
  },
  "language_info": {
   "codemirror_mode": {
    "name": "ipython",
    "version": 3
   },
   "file_extension": ".py",
   "mimetype": "text/x-python",
   "name": "python",
   "nbconvert_exporter": "python",
   "pygments_lexer": "ipython3"
  }
 },
 "nbformat": 4,
 "nbformat_minor": 5
}
