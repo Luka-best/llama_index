{
 "cells": [
  {
   "cell_type": "markdown",
   "id": "6463dfe0-31f0-494e-995e-9d3b96db0eeb",
   "metadata": {},
   "source": [
    "# Azure Cosmos DB No SQL Vector Store\n",
    "\n",
    "In this notebook we are going to show a quick demo of how to use AzureCosmosDBNoSqlVectorSearch to perform vector searches in LlamaIndex.\n",
    "\n",
    "If you're opening this Notebook on colab, you will probably need to install LlamaIndex 🦙."
   ]
  },
  {
   "cell_type": "code",
   "execution_count": 8,
   "id": "d865e38e-7cfb-44fc-a811-ccbbb6bd5c8e",
   "metadata": {},
   "outputs": [
    {
     "name": "stdout",
     "output_type": "stream",
     "text": [
      "Requirement already satisfied: llama-index-embeddings-openai in c:\\users\\t-garagundi\\appdata\\local\\programs\\python\\python312\\lib\\site-packages (0.1.10)\n",
      "Requirement already satisfied: llama-index-core<0.11.0,>=0.10.1 in c:\\users\\t-garagundi\\appdata\\local\\programs\\python\\python312\\lib\\site-packages (from llama-index-embeddings-openai) (0.10.43)\n",
      "Requirement already satisfied: PyYAML>=6.0.1 in c:\\users\\t-garagundi\\appdata\\local\\programs\\python\\python312\\lib\\site-packages (from llama-index-core<0.11.0,>=0.10.1->llama-index-embeddings-openai) (6.0.1)\n",
      "Requirement already satisfied: SQLAlchemy>=1.4.49 in c:\\users\\t-garagundi\\appdata\\local\\programs\\python\\python312\\lib\\site-packages (from SQLAlchemy[asyncio]>=1.4.49->llama-index-core<0.11.0,>=0.10.1->llama-index-embeddings-openai) (2.0.30)\n",
      "Requirement already satisfied: aiohttp<4.0.0,>=3.8.6 in c:\\users\\t-garagundi\\appdata\\local\\programs\\python\\python312\\lib\\site-packages (from llama-index-core<0.11.0,>=0.10.1->llama-index-embeddings-openai) (3.9.5)\n",
      "Requirement already satisfied: dataclasses-json in c:\\users\\t-garagundi\\appdata\\local\\programs\\python\\python312\\lib\\site-packages (from llama-index-core<0.11.0,>=0.10.1->llama-index-embeddings-openai) (0.6.6)\n",
      "Requirement already satisfied: deprecated>=1.2.9.3 in c:\\users\\t-garagundi\\appdata\\local\\programs\\python\\python312\\lib\\site-packages (from llama-index-core<0.11.0,>=0.10.1->llama-index-embeddings-openai) (1.2.14)\n",
      "Requirement already satisfied: dirtyjson<2.0.0,>=1.0.8 in c:\\users\\t-garagundi\\appdata\\local\\programs\\python\\python312\\lib\\site-packages (from llama-index-core<0.11.0,>=0.10.1->llama-index-embeddings-openai) (1.0.8)\n",
      "Requirement already satisfied: fsspec>=2023.5.0 in c:\\users\\t-garagundi\\appdata\\local\\programs\\python\\python312\\lib\\site-packages (from llama-index-core<0.11.0,>=0.10.1->llama-index-embeddings-openai) (2024.6.0)\n",
      "Requirement already satisfied: httpx in c:\\users\\t-garagundi\\appdata\\local\\programs\\python\\python312\\lib\\site-packages (from llama-index-core<0.11.0,>=0.10.1->llama-index-embeddings-openai) (0.27.0)\n",
      "Requirement already satisfied: llamaindex-py-client<0.2.0,>=0.1.18 in c:\\users\\t-garagundi\\appdata\\local\\programs\\python\\python312\\lib\\site-packages (from llama-index-core<0.11.0,>=0.10.1->llama-index-embeddings-openai) (0.1.19)\n",
      "Requirement already satisfied: nest-asyncio<2.0.0,>=1.5.8 in c:\\users\\t-garagundi\\appdata\\local\\programs\\python\\python312\\lib\\site-packages (from llama-index-core<0.11.0,>=0.10.1->llama-index-embeddings-openai) (1.6.0)\n",
      "Requirement already satisfied: networkx>=3.0 in c:\\users\\t-garagundi\\appdata\\local\\programs\\python\\python312\\lib\\site-packages (from llama-index-core<0.11.0,>=0.10.1->llama-index-embeddings-openai) (3.3)\n",
      "Requirement already satisfied: nltk<4.0.0,>=3.8.1 in c:\\users\\t-garagundi\\appdata\\local\\programs\\python\\python312\\lib\\site-packages (from llama-index-core<0.11.0,>=0.10.1->llama-index-embeddings-openai) (3.8.1)\n",
      "Requirement already satisfied: numpy in c:\\users\\t-garagundi\\appdata\\local\\programs\\python\\python312\\lib\\site-packages (from llama-index-core<0.11.0,>=0.10.1->llama-index-embeddings-openai) (1.26.4)\n",
      "Requirement already satisfied: openai>=1.1.0 in c:\\users\\t-garagundi\\appdata\\local\\programs\\python\\python312\\lib\\site-packages (from llama-index-core<0.11.0,>=0.10.1->llama-index-embeddings-openai) (1.31.0)\n",
      "Requirement already satisfied: pandas in c:\\users\\t-garagundi\\appdata\\local\\programs\\python\\python312\\lib\\site-packages (from llama-index-core<0.11.0,>=0.10.1->llama-index-embeddings-openai) (2.2.2)\n",
      "Requirement already satisfied: pillow>=9.0.0 in c:\\users\\t-garagundi\\appdata\\local\\programs\\python\\python312\\lib\\site-packages (from llama-index-core<0.11.0,>=0.10.1->llama-index-embeddings-openai) (10.3.0)\n",
      "Requirement already satisfied: requests>=2.31.0 in c:\\users\\t-garagundi\\appdata\\local\\programs\\python\\python312\\lib\\site-packages (from llama-index-core<0.11.0,>=0.10.1->llama-index-embeddings-openai) (2.32.2)\n",
      "Requirement already satisfied: tenacity<9.0.0,>=8.2.0 in c:\\users\\t-garagundi\\appdata\\local\\programs\\python\\python312\\lib\\site-packages (from llama-index-core<0.11.0,>=0.10.1->llama-index-embeddings-openai) (8.3.0)\n",
      "Requirement already satisfied: tiktoken>=0.3.3 in c:\\users\\t-garagundi\\appdata\\local\\programs\\python\\python312\\lib\\site-packages (from llama-index-core<0.11.0,>=0.10.1->llama-index-embeddings-openai) (0.7.0)\n",
      "Requirement already satisfied: tqdm<5.0.0,>=4.66.1 in c:\\users\\t-garagundi\\appdata\\local\\programs\\python\\python312\\lib\\site-packages (from llama-index-core<0.11.0,>=0.10.1->llama-index-embeddings-openai) (4.66.4)\n",
      "Requirement already satisfied: typing-extensions>=4.5.0 in c:\\users\\t-garagundi\\appdata\\local\\programs\\python\\python312\\lib\\site-packages (from llama-index-core<0.11.0,>=0.10.1->llama-index-embeddings-openai) (4.12.0)\n",
      "Requirement already satisfied: typing-inspect>=0.8.0 in c:\\users\\t-garagundi\\appdata\\local\\programs\\python\\python312\\lib\\site-packages (from llama-index-core<0.11.0,>=0.10.1->llama-index-embeddings-openai) (0.9.0)\n",
      "Requirement already satisfied: wrapt in c:\\users\\t-garagundi\\appdata\\local\\programs\\python\\python312\\lib\\site-packages (from llama-index-core<0.11.0,>=0.10.1->llama-index-embeddings-openai) (1.16.0)\n",
      "Requirement already satisfied: aiosignal>=1.1.2 in c:\\users\\t-garagundi\\appdata\\local\\programs\\python\\python312\\lib\\site-packages (from aiohttp<4.0.0,>=3.8.6->llama-index-core<0.11.0,>=0.10.1->llama-index-embeddings-openai) (1.3.1)\n",
      "Requirement already satisfied: attrs>=17.3.0 in c:\\users\\t-garagundi\\appdata\\local\\programs\\python\\python312\\lib\\site-packages (from aiohttp<4.0.0,>=3.8.6->llama-index-core<0.11.0,>=0.10.1->llama-index-embeddings-openai) (23.2.0)\n",
      "Requirement already satisfied: frozenlist>=1.1.1 in c:\\users\\t-garagundi\\appdata\\local\\programs\\python\\python312\\lib\\site-packages (from aiohttp<4.0.0,>=3.8.6->llama-index-core<0.11.0,>=0.10.1->llama-index-embeddings-openai) (1.4.1)\n",
      "Requirement already satisfied: multidict<7.0,>=4.5 in c:\\users\\t-garagundi\\appdata\\local\\programs\\python\\python312\\lib\\site-packages (from aiohttp<4.0.0,>=3.8.6->llama-index-core<0.11.0,>=0.10.1->llama-index-embeddings-openai) (6.0.5)\n",
      "Requirement already satisfied: yarl<2.0,>=1.0 in c:\\users\\t-garagundi\\appdata\\local\\programs\\python\\python312\\lib\\site-packages (from aiohttp<4.0.0,>=3.8.6->llama-index-core<0.11.0,>=0.10.1->llama-index-embeddings-openai) (1.9.4)\n",
      "Requirement already satisfied: pydantic>=1.10 in c:\\users\\t-garagundi\\appdata\\local\\programs\\python\\python312\\lib\\site-packages (from llamaindex-py-client<0.2.0,>=0.1.18->llama-index-core<0.11.0,>=0.10.1->llama-index-embeddings-openai) (2.7.3)\n",
      "Requirement already satisfied: anyio in c:\\users\\t-garagundi\\appdata\\local\\programs\\python\\python312\\lib\\site-packages (from httpx->llama-index-core<0.11.0,>=0.10.1->llama-index-embeddings-openai) (4.4.0)\n",
      "Requirement already satisfied: certifi in c:\\users\\t-garagundi\\appdata\\local\\programs\\python\\python312\\lib\\site-packages (from httpx->llama-index-core<0.11.0,>=0.10.1->llama-index-embeddings-openai) (2024.2.2)\n",
      "Requirement already satisfied: httpcore==1.* in c:\\users\\t-garagundi\\appdata\\local\\programs\\python\\python312\\lib\\site-packages (from httpx->llama-index-core<0.11.0,>=0.10.1->llama-index-embeddings-openai) (1.0.5)\n",
      "Requirement already satisfied: idna in c:\\users\\t-garagundi\\appdata\\local\\programs\\python\\python312\\lib\\site-packages (from httpx->llama-index-core<0.11.0,>=0.10.1->llama-index-embeddings-openai) (3.7)\n",
      "Requirement already satisfied: sniffio in c:\\users\\t-garagundi\\appdata\\local\\programs\\python\\python312\\lib\\site-packages (from httpx->llama-index-core<0.11.0,>=0.10.1->llama-index-embeddings-openai) (1.3.1)\n",
      "Requirement already satisfied: h11<0.15,>=0.13 in c:\\users\\t-garagundi\\appdata\\local\\programs\\python\\python312\\lib\\site-packages (from httpcore==1.*->httpx->llama-index-core<0.11.0,>=0.10.1->llama-index-embeddings-openai) (0.14.0)\n",
      "Requirement already satisfied: click in c:\\users\\t-garagundi\\appdata\\local\\programs\\python\\python312\\lib\\site-packages (from nltk<4.0.0,>=3.8.1->llama-index-core<0.11.0,>=0.10.1->llama-index-embeddings-openai) (8.1.7)\n",
      "Requirement already satisfied: joblib in c:\\users\\t-garagundi\\appdata\\local\\programs\\python\\python312\\lib\\site-packages (from nltk<4.0.0,>=3.8.1->llama-index-core<0.11.0,>=0.10.1->llama-index-embeddings-openai) (1.4.2)\n",
      "Requirement already satisfied: regex>=2021.8.3 in c:\\users\\t-garagundi\\appdata\\local\\programs\\python\\python312\\lib\\site-packages (from nltk<4.0.0,>=3.8.1->llama-index-core<0.11.0,>=0.10.1->llama-index-embeddings-openai) (2024.5.15)\n",
      "Requirement already satisfied: distro<2,>=1.7.0 in c:\\users\\t-garagundi\\appdata\\local\\programs\\python\\python312\\lib\\site-packages (from openai>=1.1.0->llama-index-core<0.11.0,>=0.10.1->llama-index-embeddings-openai) (1.9.0)\n",
      "Requirement already satisfied: charset-normalizer<4,>=2 in c:\\users\\t-garagundi\\appdata\\local\\programs\\python\\python312\\lib\\site-packages (from requests>=2.31.0->llama-index-core<0.11.0,>=0.10.1->llama-index-embeddings-openai) (3.3.2)\n",
      "Requirement already satisfied: urllib3<3,>=1.21.1 in c:\\users\\t-garagundi\\appdata\\local\\programs\\python\\python312\\lib\\site-packages (from requests>=2.31.0->llama-index-core<0.11.0,>=0.10.1->llama-index-embeddings-openai) (2.2.1)\n",
      "Requirement already satisfied: greenlet!=0.4.17 in c:\\users\\t-garagundi\\appdata\\local\\programs\\python\\python312\\lib\\site-packages (from SQLAlchemy>=1.4.49->SQLAlchemy[asyncio]>=1.4.49->llama-index-core<0.11.0,>=0.10.1->llama-index-embeddings-openai) (3.0.3)\n",
      "Requirement already satisfied: colorama in c:\\users\\t-garagundi\\appdata\\local\\programs\\python\\python312\\lib\\site-packages (from tqdm<5.0.0,>=4.66.1->llama-index-core<0.11.0,>=0.10.1->llama-index-embeddings-openai) (0.4.6)\n",
      "Requirement already satisfied: mypy-extensions>=0.3.0 in c:\\users\\t-garagundi\\appdata\\local\\programs\\python\\python312\\lib\\site-packages (from typing-inspect>=0.8.0->llama-index-core<0.11.0,>=0.10.1->llama-index-embeddings-openai) (1.0.0)\n",
      "Requirement already satisfied: marshmallow<4.0.0,>=3.18.0 in c:\\users\\t-garagundi\\appdata\\local\\programs\\python\\python312\\lib\\site-packages (from dataclasses-json->llama-index-core<0.11.0,>=0.10.1->llama-index-embeddings-openai) (3.21.3)\n",
      "Requirement already satisfied: python-dateutil>=2.8.2 in c:\\users\\t-garagundi\\appdata\\local\\programs\\python\\python312\\lib\\site-packages (from pandas->llama-index-core<0.11.0,>=0.10.1->llama-index-embeddings-openai) (2.9.0.post0)\n",
      "Requirement already satisfied: pytz>=2020.1 in c:\\users\\t-garagundi\\appdata\\local\\programs\\python\\python312\\lib\\site-packages (from pandas->llama-index-core<0.11.0,>=0.10.1->llama-index-embeddings-openai) (2024.1)\n",
      "Requirement already satisfied: tzdata>=2022.7 in c:\\users\\t-garagundi\\appdata\\local\\programs\\python\\python312\\lib\\site-packages (from pandas->llama-index-core<0.11.0,>=0.10.1->llama-index-embeddings-openai) (2024.1)\n",
      "Requirement already satisfied: packaging>=17.0 in c:\\users\\t-garagundi\\appdata\\local\\programs\\python\\python312\\lib\\site-packages (from marshmallow<4.0.0,>=3.18.0->dataclasses-json->llama-index-core<0.11.0,>=0.10.1->llama-index-embeddings-openai) (24.0)\n",
      "Requirement already satisfied: annotated-types>=0.4.0 in c:\\users\\t-garagundi\\appdata\\local\\programs\\python\\python312\\lib\\site-packages (from pydantic>=1.10->llamaindex-py-client<0.2.0,>=0.1.18->llama-index-core<0.11.0,>=0.10.1->llama-index-embeddings-openai) (0.7.0)\n",
      "Requirement already satisfied: pydantic-core==2.18.4 in c:\\users\\t-garagundi\\appdata\\local\\programs\\python\\python312\\lib\\site-packages (from pydantic>=1.10->llamaindex-py-client<0.2.0,>=0.1.18->llama-index-core<0.11.0,>=0.10.1->llama-index-embeddings-openai) (2.18.4)\n",
      "Requirement already satisfied: six>=1.5 in c:\\users\\t-garagundi\\appdata\\local\\programs\\python\\python312\\lib\\site-packages (from python-dateutil>=2.8.2->pandas->llama-index-core<0.11.0,>=0.10.1->llama-index-embeddings-openai) (1.16.0)\n",
      "Note: you may need to restart the kernel to use updated packages.\n",
      "Requirement already satisfied: llama-index-llms-azure-openai in c:\\users\\t-garagundi\\appdata\\local\\programs\\python\\python312\\lib\\site-packages (0.1.8)\n",
      "Requirement already satisfied: azure-identity<2.0.0,>=1.15.0 in c:\\users\\t-garagundi\\appdata\\local\\programs\\python\\python312\\lib\\site-packages (from llama-index-llms-azure-openai) (1.17.0)\n",
      "Requirement already satisfied: httpx in c:\\users\\t-garagundi\\appdata\\local\\programs\\python\\python312\\lib\\site-packages (from llama-index-llms-azure-openai) (0.27.0)\n",
      "Requirement already satisfied: llama-index-core<0.11.0,>=0.10.11.post1 in c:\\users\\t-garagundi\\appdata\\local\\programs\\python\\python312\\lib\\site-packages (from llama-index-llms-azure-openai) (0.10.43)\n",
      "Requirement already satisfied: llama-index-llms-openai<0.2.0,>=0.1.1 in c:\\users\\t-garagundi\\appdata\\local\\programs\\python\\python312\\lib\\site-packages (from llama-index-llms-azure-openai) (0.1.22)\n",
      "Requirement already satisfied: azure-core>=1.23.0 in c:\\users\\t-garagundi\\appdata\\local\\programs\\python\\python312\\lib\\site-packages (from azure-identity<2.0.0,>=1.15.0->llama-index-llms-azure-openai) (1.30.1)\n",
      "Requirement already satisfied: cryptography>=2.5 in c:\\users\\t-garagundi\\appdata\\local\\programs\\python\\python312\\lib\\site-packages (from azure-identity<2.0.0,>=1.15.0->llama-index-llms-azure-openai) (42.0.8)\n",
      "Requirement already satisfied: msal>=1.24.0 in c:\\users\\t-garagundi\\appdata\\local\\programs\\python\\python312\\lib\\site-packages (from azure-identity<2.0.0,>=1.15.0->llama-index-llms-azure-openai) (1.28.1)\n",
      "Requirement already satisfied: msal-extensions>=0.3.0 in c:\\users\\t-garagundi\\appdata\\local\\programs\\python\\python312\\lib\\site-packages (from azure-identity<2.0.0,>=1.15.0->llama-index-llms-azure-openai) (1.1.0)\n",
      "Requirement already satisfied: typing-extensions>=4.0.0 in c:\\users\\t-garagundi\\appdata\\local\\programs\\python\\python312\\lib\\site-packages (from azure-identity<2.0.0,>=1.15.0->llama-index-llms-azure-openai) (4.12.0)\n",
      "Requirement already satisfied: PyYAML>=6.0.1 in c:\\users\\t-garagundi\\appdata\\local\\programs\\python\\python312\\lib\\site-packages (from llama-index-core<0.11.0,>=0.10.11.post1->llama-index-llms-azure-openai) (6.0.1)\n",
      "Requirement already satisfied: SQLAlchemy>=1.4.49 in c:\\users\\t-garagundi\\appdata\\local\\programs\\python\\python312\\lib\\site-packages (from SQLAlchemy[asyncio]>=1.4.49->llama-index-core<0.11.0,>=0.10.11.post1->llama-index-llms-azure-openai) (2.0.30)\n",
      "Requirement already satisfied: aiohttp<4.0.0,>=3.8.6 in c:\\users\\t-garagundi\\appdata\\local\\programs\\python\\python312\\lib\\site-packages (from llama-index-core<0.11.0,>=0.10.11.post1->llama-index-llms-azure-openai) (3.9.5)\n",
      "Requirement already satisfied: dataclasses-json in c:\\users\\t-garagundi\\appdata\\local\\programs\\python\\python312\\lib\\site-packages (from llama-index-core<0.11.0,>=0.10.11.post1->llama-index-llms-azure-openai) (0.6.6)\n",
      "Requirement already satisfied: deprecated>=1.2.9.3 in c:\\users\\t-garagundi\\appdata\\local\\programs\\python\\python312\\lib\\site-packages (from llama-index-core<0.11.0,>=0.10.11.post1->llama-index-llms-azure-openai) (1.2.14)\n",
      "Requirement already satisfied: dirtyjson<2.0.0,>=1.0.8 in c:\\users\\t-garagundi\\appdata\\local\\programs\\python\\python312\\lib\\site-packages (from llama-index-core<0.11.0,>=0.10.11.post1->llama-index-llms-azure-openai) (1.0.8)\n",
      "Requirement already satisfied: fsspec>=2023.5.0 in c:\\users\\t-garagundi\\appdata\\local\\programs\\python\\python312\\lib\\site-packages (from llama-index-core<0.11.0,>=0.10.11.post1->llama-index-llms-azure-openai) (2024.6.0)\n",
      "Requirement already satisfied: llamaindex-py-client<0.2.0,>=0.1.18 in c:\\users\\t-garagundi\\appdata\\local\\programs\\python\\python312\\lib\\site-packages (from llama-index-core<0.11.0,>=0.10.11.post1->llama-index-llms-azure-openai) (0.1.19)\n",
      "Requirement already satisfied: nest-asyncio<2.0.0,>=1.5.8 in c:\\users\\t-garagundi\\appdata\\local\\programs\\python\\python312\\lib\\site-packages (from llama-index-core<0.11.0,>=0.10.11.post1->llama-index-llms-azure-openai) (1.6.0)\n",
      "Requirement already satisfied: networkx>=3.0 in c:\\users\\t-garagundi\\appdata\\local\\programs\\python\\python312\\lib\\site-packages (from llama-index-core<0.11.0,>=0.10.11.post1->llama-index-llms-azure-openai) (3.3)\n",
      "Requirement already satisfied: nltk<4.0.0,>=3.8.1 in c:\\users\\t-garagundi\\appdata\\local\\programs\\python\\python312\\lib\\site-packages (from llama-index-core<0.11.0,>=0.10.11.post1->llama-index-llms-azure-openai) (3.8.1)\n",
      "Requirement already satisfied: numpy in c:\\users\\t-garagundi\\appdata\\local\\programs\\python\\python312\\lib\\site-packages (from llama-index-core<0.11.0,>=0.10.11.post1->llama-index-llms-azure-openai) (1.26.4)\n",
      "Requirement already satisfied: openai>=1.1.0 in c:\\users\\t-garagundi\\appdata\\local\\programs\\python\\python312\\lib\\site-packages (from llama-index-core<0.11.0,>=0.10.11.post1->llama-index-llms-azure-openai) (1.31.0)\n",
      "Requirement already satisfied: pandas in c:\\users\\t-garagundi\\appdata\\local\\programs\\python\\python312\\lib\\site-packages (from llama-index-core<0.11.0,>=0.10.11.post1->llama-index-llms-azure-openai) (2.2.2)\n",
      "Requirement already satisfied: pillow>=9.0.0 in c:\\users\\t-garagundi\\appdata\\local\\programs\\python\\python312\\lib\\site-packages (from llama-index-core<0.11.0,>=0.10.11.post1->llama-index-llms-azure-openai) (10.3.0)\n",
      "Requirement already satisfied: requests>=2.31.0 in c:\\users\\t-garagundi\\appdata\\local\\programs\\python\\python312\\lib\\site-packages (from llama-index-core<0.11.0,>=0.10.11.post1->llama-index-llms-azure-openai) (2.32.2)\n",
      "Requirement already satisfied: tenacity<9.0.0,>=8.2.0 in c:\\users\\t-garagundi\\appdata\\local\\programs\\python\\python312\\lib\\site-packages (from llama-index-core<0.11.0,>=0.10.11.post1->llama-index-llms-azure-openai) (8.3.0)\n",
      "Requirement already satisfied: tiktoken>=0.3.3 in c:\\users\\t-garagundi\\appdata\\local\\programs\\python\\python312\\lib\\site-packages (from llama-index-core<0.11.0,>=0.10.11.post1->llama-index-llms-azure-openai) (0.7.0)\n",
      "Requirement already satisfied: tqdm<5.0.0,>=4.66.1 in c:\\users\\t-garagundi\\appdata\\local\\programs\\python\\python312\\lib\\site-packages (from llama-index-core<0.11.0,>=0.10.11.post1->llama-index-llms-azure-openai) (4.66.4)\n",
      "Requirement already satisfied: typing-inspect>=0.8.0 in c:\\users\\t-garagundi\\appdata\\local\\programs\\python\\python312\\lib\\site-packages (from llama-index-core<0.11.0,>=0.10.11.post1->llama-index-llms-azure-openai) (0.9.0)\n",
      "Requirement already satisfied: wrapt in c:\\users\\t-garagundi\\appdata\\local\\programs\\python\\python312\\lib\\site-packages (from llama-index-core<0.11.0,>=0.10.11.post1->llama-index-llms-azure-openai) (1.16.0)\n",
      "Requirement already satisfied: anyio in c:\\users\\t-garagundi\\appdata\\local\\programs\\python\\python312\\lib\\site-packages (from httpx->llama-index-llms-azure-openai) (4.4.0)\n",
      "Requirement already satisfied: certifi in c:\\users\\t-garagundi\\appdata\\local\\programs\\python\\python312\\lib\\site-packages (from httpx->llama-index-llms-azure-openai) (2024.2.2)\n",
      "Requirement already satisfied: httpcore==1.* in c:\\users\\t-garagundi\\appdata\\local\\programs\\python\\python312\\lib\\site-packages (from httpx->llama-index-llms-azure-openai) (1.0.5)\n",
      "Requirement already satisfied: idna in c:\\users\\t-garagundi\\appdata\\local\\programs\\python\\python312\\lib\\site-packages (from httpx->llama-index-llms-azure-openai) (3.7)\n",
      "Requirement already satisfied: sniffio in c:\\users\\t-garagundi\\appdata\\local\\programs\\python\\python312\\lib\\site-packages (from httpx->llama-index-llms-azure-openai) (1.3.1)\n",
      "Requirement already satisfied: h11<0.15,>=0.13 in c:\\users\\t-garagundi\\appdata\\local\\programs\\python\\python312\\lib\\site-packages (from httpcore==1.*->httpx->llama-index-llms-azure-openai) (0.14.0)\n",
      "Requirement already satisfied: aiosignal>=1.1.2 in c:\\users\\t-garagundi\\appdata\\local\\programs\\python\\python312\\lib\\site-packages (from aiohttp<4.0.0,>=3.8.6->llama-index-core<0.11.0,>=0.10.11.post1->llama-index-llms-azure-openai) (1.3.1)\n",
      "Requirement already satisfied: attrs>=17.3.0 in c:\\users\\t-garagundi\\appdata\\local\\programs\\python\\python312\\lib\\site-packages (from aiohttp<4.0.0,>=3.8.6->llama-index-core<0.11.0,>=0.10.11.post1->llama-index-llms-azure-openai) (23.2.0)\n",
      "Requirement already satisfied: frozenlist>=1.1.1 in c:\\users\\t-garagundi\\appdata\\local\\programs\\python\\python312\\lib\\site-packages (from aiohttp<4.0.0,>=3.8.6->llama-index-core<0.11.0,>=0.10.11.post1->llama-index-llms-azure-openai) (1.4.1)\n",
      "Requirement already satisfied: multidict<7.0,>=4.5 in c:\\users\\t-garagundi\\appdata\\local\\programs\\python\\python312\\lib\\site-packages (from aiohttp<4.0.0,>=3.8.6->llama-index-core<0.11.0,>=0.10.11.post1->llama-index-llms-azure-openai) (6.0.5)\n",
      "Requirement already satisfied: yarl<2.0,>=1.0 in c:\\users\\t-garagundi\\appdata\\local\\programs\\python\\python312\\lib\\site-packages (from aiohttp<4.0.0,>=3.8.6->llama-index-core<0.11.0,>=0.10.11.post1->llama-index-llms-azure-openai) (1.9.4)\n",
      "Requirement already satisfied: six>=1.11.0 in c:\\users\\t-garagundi\\appdata\\local\\programs\\python\\python312\\lib\\site-packages (from azure-core>=1.23.0->azure-identity<2.0.0,>=1.15.0->llama-index-llms-azure-openai) (1.16.0)\n",
      "Requirement already satisfied: cffi>=1.12 in c:\\users\\t-garagundi\\appdata\\local\\programs\\python\\python312\\lib\\site-packages (from cryptography>=2.5->azure-identity<2.0.0,>=1.15.0->llama-index-llms-azure-openai) (1.16.0)\n",
      "Requirement already satisfied: pydantic>=1.10 in c:\\users\\t-garagundi\\appdata\\local\\programs\\python\\python312\\lib\\site-packages (from llamaindex-py-client<0.2.0,>=0.1.18->llama-index-core<0.11.0,>=0.10.11.post1->llama-index-llms-azure-openai) (2.7.3)\n",
      "Requirement already satisfied: PyJWT<3,>=1.0.0 in c:\\users\\t-garagundi\\appdata\\local\\programs\\python\\python312\\lib\\site-packages (from PyJWT[crypto]<3,>=1.0.0->msal>=1.24.0->azure-identity<2.0.0,>=1.15.0->llama-index-llms-azure-openai) (2.8.0)\n",
      "Requirement already satisfied: packaging in c:\\users\\t-garagundi\\appdata\\local\\programs\\python\\python312\\lib\\site-packages (from msal-extensions>=0.3.0->azure-identity<2.0.0,>=1.15.0->llama-index-llms-azure-openai) (24.0)\n",
      "Requirement already satisfied: portalocker<3,>=1.6 in c:\\users\\t-garagundi\\appdata\\local\\programs\\python\\python312\\lib\\site-packages (from msal-extensions>=0.3.0->azure-identity<2.0.0,>=1.15.0->llama-index-llms-azure-openai) (2.8.2)\n",
      "Requirement already satisfied: click in c:\\users\\t-garagundi\\appdata\\local\\programs\\python\\python312\\lib\\site-packages (from nltk<4.0.0,>=3.8.1->llama-index-core<0.11.0,>=0.10.11.post1->llama-index-llms-azure-openai) (8.1.7)\n",
      "Requirement already satisfied: joblib in c:\\users\\t-garagundi\\appdata\\local\\programs\\python\\python312\\lib\\site-packages (from nltk<4.0.0,>=3.8.1->llama-index-core<0.11.0,>=0.10.11.post1->llama-index-llms-azure-openai) (1.4.2)\n",
      "Requirement already satisfied: regex>=2021.8.3 in c:\\users\\t-garagundi\\appdata\\local\\programs\\python\\python312\\lib\\site-packages (from nltk<4.0.0,>=3.8.1->llama-index-core<0.11.0,>=0.10.11.post1->llama-index-llms-azure-openai) (2024.5.15)\n",
      "Requirement already satisfied: distro<2,>=1.7.0 in c:\\users\\t-garagundi\\appdata\\local\\programs\\python\\python312\\lib\\site-packages (from openai>=1.1.0->llama-index-core<0.11.0,>=0.10.11.post1->llama-index-llms-azure-openai) (1.9.0)\n",
      "Requirement already satisfied: charset-normalizer<4,>=2 in c:\\users\\t-garagundi\\appdata\\local\\programs\\python\\python312\\lib\\site-packages (from requests>=2.31.0->llama-index-core<0.11.0,>=0.10.11.post1->llama-index-llms-azure-openai) (3.3.2)\n",
      "Requirement already satisfied: urllib3<3,>=1.21.1 in c:\\users\\t-garagundi\\appdata\\local\\programs\\python\\python312\\lib\\site-packages (from requests>=2.31.0->llama-index-core<0.11.0,>=0.10.11.post1->llama-index-llms-azure-openai) (2.2.1)\n",
      "Requirement already satisfied: greenlet!=0.4.17 in c:\\users\\t-garagundi\\appdata\\local\\programs\\python\\python312\\lib\\site-packages (from SQLAlchemy>=1.4.49->SQLAlchemy[asyncio]>=1.4.49->llama-index-core<0.11.0,>=0.10.11.post1->llama-index-llms-azure-openai) (3.0.3)\n",
      "Requirement already satisfied: colorama in c:\\users\\t-garagundi\\appdata\\local\\programs\\python\\python312\\lib\\site-packages (from tqdm<5.0.0,>=4.66.1->llama-index-core<0.11.0,>=0.10.11.post1->llama-index-llms-azure-openai) (0.4.6)\n",
      "Requirement already satisfied: mypy-extensions>=0.3.0 in c:\\users\\t-garagundi\\appdata\\local\\programs\\python\\python312\\lib\\site-packages (from typing-inspect>=0.8.0->llama-index-core<0.11.0,>=0.10.11.post1->llama-index-llms-azure-openai) (1.0.0)\n",
      "Requirement already satisfied: marshmallow<4.0.0,>=3.18.0 in c:\\users\\t-garagundi\\appdata\\local\\programs\\python\\python312\\lib\\site-packages (from dataclasses-json->llama-index-core<0.11.0,>=0.10.11.post1->llama-index-llms-azure-openai) (3.21.3)\n",
      "Requirement already satisfied: python-dateutil>=2.8.2 in c:\\users\\t-garagundi\\appdata\\local\\programs\\python\\python312\\lib\\site-packages (from pandas->llama-index-core<0.11.0,>=0.10.11.post1->llama-index-llms-azure-openai) (2.9.0.post0)\n",
      "Requirement already satisfied: pytz>=2020.1 in c:\\users\\t-garagundi\\appdata\\local\\programs\\python\\python312\\lib\\site-packages (from pandas->llama-index-core<0.11.0,>=0.10.11.post1->llama-index-llms-azure-openai) (2024.1)\n",
      "Requirement already satisfied: tzdata>=2022.7 in c:\\users\\t-garagundi\\appdata\\local\\programs\\python\\python312\\lib\\site-packages (from pandas->llama-index-core<0.11.0,>=0.10.11.post1->llama-index-llms-azure-openai) (2024.1)\n",
      "Requirement already satisfied: pycparser in c:\\users\\t-garagundi\\appdata\\local\\programs\\python\\python312\\lib\\site-packages (from cffi>=1.12->cryptography>=2.5->azure-identity<2.0.0,>=1.15.0->llama-index-llms-azure-openai) (2.22)\n",
      "Requirement already satisfied: pywin32>=226 in c:\\users\\t-garagundi\\appdata\\local\\programs\\python\\python312\\lib\\site-packages (from portalocker<3,>=1.6->msal-extensions>=0.3.0->azure-identity<2.0.0,>=1.15.0->llama-index-llms-azure-openai) (306)\n",
      "Requirement already satisfied: annotated-types>=0.4.0 in c:\\users\\t-garagundi\\appdata\\local\\programs\\python\\python312\\lib\\site-packages (from pydantic>=1.10->llamaindex-py-client<0.2.0,>=0.1.18->llama-index-core<0.11.0,>=0.10.11.post1->llama-index-llms-azure-openai) (0.7.0)\n",
      "Requirement already satisfied: pydantic-core==2.18.4 in c:\\users\\t-garagundi\\appdata\\local\\programs\\python\\python312\\lib\\site-packages (from pydantic>=1.10->llamaindex-py-client<0.2.0,>=0.1.18->llama-index-core<0.11.0,>=0.10.11.post1->llama-index-llms-azure-openai) (2.18.4)\n",
      "Note: you may need to restart the kernel to use updated packages.\n"
     ]
    }
   ],
   "source": [
    "%pip install llama-index-embeddings-openai\n",
    "%pip install llama-index-llms-azure-openai"
   ]
  },
  {
   "cell_type": "code",
   "execution_count": 9,
   "id": "5ed73758-4a14-4c9e-a4de-7c9c584fbdc0",
   "metadata": {},
   "outputs": [
    {
     "name": "stdout",
     "output_type": "stream",
     "text": [
      "Requirement already satisfied: llama-index in c:\\users\\t-garagundi\\appdata\\local\\programs\\python\\python312\\lib\\site-packages (0.10.43)\n",
      "Requirement already satisfied: llama-index-agent-openai<0.3.0,>=0.1.4 in c:\\users\\t-garagundi\\appdata\\local\\programs\\python\\python312\\lib\\site-packages (from llama-index) (0.2.7)\n",
      "Requirement already satisfied: llama-index-cli<0.2.0,>=0.1.2 in c:\\users\\t-garagundi\\appdata\\local\\programs\\python\\python312\\lib\\site-packages (from llama-index) (0.1.12)\n",
      "Requirement already satisfied: llama-index-core==0.10.43 in c:\\users\\t-garagundi\\appdata\\local\\programs\\python\\python312\\lib\\site-packages (from llama-index) (0.10.43)\n",
      "Requirement already satisfied: llama-index-embeddings-openai<0.2.0,>=0.1.5 in c:\\users\\t-garagundi\\appdata\\local\\programs\\python\\python312\\lib\\site-packages (from llama-index) (0.1.10)\n",
      "Requirement already satisfied: llama-index-indices-managed-llama-cloud<0.2.0,>=0.1.2 in c:\\users\\t-garagundi\\appdata\\local\\programs\\python\\python312\\lib\\site-packages (from llama-index) (0.1.6)\n",
      "Requirement already satisfied: llama-index-legacy<0.10.0,>=0.9.48 in c:\\users\\t-garagundi\\appdata\\local\\programs\\python\\python312\\lib\\site-packages (from llama-index) (0.9.48)\n",
      "Requirement already satisfied: llama-index-llms-openai<0.2.0,>=0.1.13 in c:\\users\\t-garagundi\\appdata\\local\\programs\\python\\python312\\lib\\site-packages (from llama-index) (0.1.22)\n",
      "Requirement already satisfied: llama-index-multi-modal-llms-openai<0.2.0,>=0.1.3 in c:\\users\\t-garagundi\\appdata\\local\\programs\\python\\python312\\lib\\site-packages (from llama-index) (0.1.6)\n",
      "Requirement already satisfied: llama-index-program-openai<0.2.0,>=0.1.3 in c:\\users\\t-garagundi\\appdata\\local\\programs\\python\\python312\\lib\\site-packages (from llama-index) (0.1.6)\n",
      "Requirement already satisfied: llama-index-question-gen-openai<0.2.0,>=0.1.2 in c:\\users\\t-garagundi\\appdata\\local\\programs\\python\\python312\\lib\\site-packages (from llama-index) (0.1.3)\n",
      "Requirement already satisfied: llama-index-readers-file<0.2.0,>=0.1.4 in c:\\users\\t-garagundi\\appdata\\local\\programs\\python\\python312\\lib\\site-packages (from llama-index) (0.1.23)\n",
      "Requirement already satisfied: llama-index-readers-llama-parse<0.2.0,>=0.1.2 in c:\\users\\t-garagundi\\appdata\\local\\programs\\python\\python312\\lib\\site-packages (from llama-index) (0.1.4)\n",
      "Requirement already satisfied: PyYAML>=6.0.1 in c:\\users\\t-garagundi\\appdata\\local\\programs\\python\\python312\\lib\\site-packages (from llama-index-core==0.10.43->llama-index) (6.0.1)\n",
      "Requirement already satisfied: SQLAlchemy>=1.4.49 in c:\\users\\t-garagundi\\appdata\\local\\programs\\python\\python312\\lib\\site-packages (from SQLAlchemy[asyncio]>=1.4.49->llama-index-core==0.10.43->llama-index) (2.0.30)\n",
      "Requirement already satisfied: aiohttp<4.0.0,>=3.8.6 in c:\\users\\t-garagundi\\appdata\\local\\programs\\python\\python312\\lib\\site-packages (from llama-index-core==0.10.43->llama-index) (3.9.5)\n",
      "Requirement already satisfied: dataclasses-json in c:\\users\\t-garagundi\\appdata\\local\\programs\\python\\python312\\lib\\site-packages (from llama-index-core==0.10.43->llama-index) (0.6.6)\n",
      "Requirement already satisfied: deprecated>=1.2.9.3 in c:\\users\\t-garagundi\\appdata\\local\\programs\\python\\python312\\lib\\site-packages (from llama-index-core==0.10.43->llama-index) (1.2.14)\n",
      "Requirement already satisfied: dirtyjson<2.0.0,>=1.0.8 in c:\\users\\t-garagundi\\appdata\\local\\programs\\python\\python312\\lib\\site-packages (from llama-index-core==0.10.43->llama-index) (1.0.8)\n",
      "Requirement already satisfied: fsspec>=2023.5.0 in c:\\users\\t-garagundi\\appdata\\local\\programs\\python\\python312\\lib\\site-packages (from llama-index-core==0.10.43->llama-index) (2024.6.0)\n",
      "Requirement already satisfied: httpx in c:\\users\\t-garagundi\\appdata\\local\\programs\\python\\python312\\lib\\site-packages (from llama-index-core==0.10.43->llama-index) (0.27.0)\n",
      "Requirement already satisfied: llamaindex-py-client<0.2.0,>=0.1.18 in c:\\users\\t-garagundi\\appdata\\local\\programs\\python\\python312\\lib\\site-packages (from llama-index-core==0.10.43->llama-index) (0.1.19)\n",
      "Requirement already satisfied: nest-asyncio<2.0.0,>=1.5.8 in c:\\users\\t-garagundi\\appdata\\local\\programs\\python\\python312\\lib\\site-packages (from llama-index-core==0.10.43->llama-index) (1.6.0)\n",
      "Requirement already satisfied: networkx>=3.0 in c:\\users\\t-garagundi\\appdata\\local\\programs\\python\\python312\\lib\\site-packages (from llama-index-core==0.10.43->llama-index) (3.3)\n",
      "Requirement already satisfied: nltk<4.0.0,>=3.8.1 in c:\\users\\t-garagundi\\appdata\\local\\programs\\python\\python312\\lib\\site-packages (from llama-index-core==0.10.43->llama-index) (3.8.1)\n",
      "Requirement already satisfied: numpy in c:\\users\\t-garagundi\\appdata\\local\\programs\\python\\python312\\lib\\site-packages (from llama-index-core==0.10.43->llama-index) (1.26.4)\n",
      "Requirement already satisfied: openai>=1.1.0 in c:\\users\\t-garagundi\\appdata\\local\\programs\\python\\python312\\lib\\site-packages (from llama-index-core==0.10.43->llama-index) (1.31.0)\n",
      "Requirement already satisfied: pandas in c:\\users\\t-garagundi\\appdata\\local\\programs\\python\\python312\\lib\\site-packages (from llama-index-core==0.10.43->llama-index) (2.2.2)\n",
      "Requirement already satisfied: pillow>=9.0.0 in c:\\users\\t-garagundi\\appdata\\local\\programs\\python\\python312\\lib\\site-packages (from llama-index-core==0.10.43->llama-index) (10.3.0)\n",
      "Requirement already satisfied: requests>=2.31.0 in c:\\users\\t-garagundi\\appdata\\local\\programs\\python\\python312\\lib\\site-packages (from llama-index-core==0.10.43->llama-index) (2.32.2)\n",
      "Requirement already satisfied: tenacity<9.0.0,>=8.2.0 in c:\\users\\t-garagundi\\appdata\\local\\programs\\python\\python312\\lib\\site-packages (from llama-index-core==0.10.43->llama-index) (8.3.0)\n",
      "Requirement already satisfied: tiktoken>=0.3.3 in c:\\users\\t-garagundi\\appdata\\local\\programs\\python\\python312\\lib\\site-packages (from llama-index-core==0.10.43->llama-index) (0.7.0)\n",
      "Requirement already satisfied: tqdm<5.0.0,>=4.66.1 in c:\\users\\t-garagundi\\appdata\\local\\programs\\python\\python312\\lib\\site-packages (from llama-index-core==0.10.43->llama-index) (4.66.4)\n",
      "Requirement already satisfied: typing-extensions>=4.5.0 in c:\\users\\t-garagundi\\appdata\\local\\programs\\python\\python312\\lib\\site-packages (from llama-index-core==0.10.43->llama-index) (4.12.0)\n",
      "Requirement already satisfied: typing-inspect>=0.8.0 in c:\\users\\t-garagundi\\appdata\\local\\programs\\python\\python312\\lib\\site-packages (from llama-index-core==0.10.43->llama-index) (0.9.0)\n",
      "Requirement already satisfied: wrapt in c:\\users\\t-garagundi\\appdata\\local\\programs\\python\\python312\\lib\\site-packages (from llama-index-core==0.10.43->llama-index) (1.16.0)\n",
      "Requirement already satisfied: beautifulsoup4<5.0.0,>=4.12.3 in c:\\users\\t-garagundi\\appdata\\local\\programs\\python\\python312\\lib\\site-packages (from llama-index-readers-file<0.2.0,>=0.1.4->llama-index) (4.12.3)\n",
      "Requirement already satisfied: pypdf<5.0.0,>=4.0.1 in c:\\users\\t-garagundi\\appdata\\local\\programs\\python\\python312\\lib\\site-packages (from llama-index-readers-file<0.2.0,>=0.1.4->llama-index) (4.2.0)\n",
      "Requirement already satisfied: striprtf<0.0.27,>=0.0.26 in c:\\users\\t-garagundi\\appdata\\local\\programs\\python\\python312\\lib\\site-packages (from llama-index-readers-file<0.2.0,>=0.1.4->llama-index) (0.0.26)\n",
      "Requirement already satisfied: llama-parse<0.5.0,>=0.4.0 in c:\\users\\t-garagundi\\appdata\\local\\programs\\python\\python312\\lib\\site-packages (from llama-index-readers-llama-parse<0.2.0,>=0.1.2->llama-index) (0.4.4)\n",
      "Requirement already satisfied: aiosignal>=1.1.2 in c:\\users\\t-garagundi\\appdata\\local\\programs\\python\\python312\\lib\\site-packages (from aiohttp<4.0.0,>=3.8.6->llama-index-core==0.10.43->llama-index) (1.3.1)\n",
      "Requirement already satisfied: attrs>=17.3.0 in c:\\users\\t-garagundi\\appdata\\local\\programs\\python\\python312\\lib\\site-packages (from aiohttp<4.0.0,>=3.8.6->llama-index-core==0.10.43->llama-index) (23.2.0)\n",
      "Requirement already satisfied: frozenlist>=1.1.1 in c:\\users\\t-garagundi\\appdata\\local\\programs\\python\\python312\\lib\\site-packages (from aiohttp<4.0.0,>=3.8.6->llama-index-core==0.10.43->llama-index) (1.4.1)\n",
      "Requirement already satisfied: multidict<7.0,>=4.5 in c:\\users\\t-garagundi\\appdata\\local\\programs\\python\\python312\\lib\\site-packages (from aiohttp<4.0.0,>=3.8.6->llama-index-core==0.10.43->llama-index) (6.0.5)\n",
      "Requirement already satisfied: yarl<2.0,>=1.0 in c:\\users\\t-garagundi\\appdata\\local\\programs\\python\\python312\\lib\\site-packages (from aiohttp<4.0.0,>=3.8.6->llama-index-core==0.10.43->llama-index) (1.9.4)\n",
      "Requirement already satisfied: soupsieve>1.2 in c:\\users\\t-garagundi\\appdata\\local\\programs\\python\\python312\\lib\\site-packages (from beautifulsoup4<5.0.0,>=4.12.3->llama-index-readers-file<0.2.0,>=0.1.4->llama-index) (2.5)\n",
      "Requirement already satisfied: pydantic>=1.10 in c:\\users\\t-garagundi\\appdata\\local\\programs\\python\\python312\\lib\\site-packages (from llamaindex-py-client<0.2.0,>=0.1.18->llama-index-core==0.10.43->llama-index) (2.7.3)\n",
      "Requirement already satisfied: anyio in c:\\users\\t-garagundi\\appdata\\local\\programs\\python\\python312\\lib\\site-packages (from httpx->llama-index-core==0.10.43->llama-index) (4.4.0)\n",
      "Requirement already satisfied: certifi in c:\\users\\t-garagundi\\appdata\\local\\programs\\python\\python312\\lib\\site-packages (from httpx->llama-index-core==0.10.43->llama-index) (2024.2.2)\n",
      "Requirement already satisfied: httpcore==1.* in c:\\users\\t-garagundi\\appdata\\local\\programs\\python\\python312\\lib\\site-packages (from httpx->llama-index-core==0.10.43->llama-index) (1.0.5)\n",
      "Requirement already satisfied: idna in c:\\users\\t-garagundi\\appdata\\local\\programs\\python\\python312\\lib\\site-packages (from httpx->llama-index-core==0.10.43->llama-index) (3.7)\n",
      "Requirement already satisfied: sniffio in c:\\users\\t-garagundi\\appdata\\local\\programs\\python\\python312\\lib\\site-packages (from httpx->llama-index-core==0.10.43->llama-index) (1.3.1)\n",
      "Requirement already satisfied: h11<0.15,>=0.13 in c:\\users\\t-garagundi\\appdata\\local\\programs\\python\\python312\\lib\\site-packages (from httpcore==1.*->httpx->llama-index-core==0.10.43->llama-index) (0.14.0)\n",
      "Requirement already satisfied: click in c:\\users\\t-garagundi\\appdata\\local\\programs\\python\\python312\\lib\\site-packages (from nltk<4.0.0,>=3.8.1->llama-index-core==0.10.43->llama-index) (8.1.7)\n",
      "Requirement already satisfied: joblib in c:\\users\\t-garagundi\\appdata\\local\\programs\\python\\python312\\lib\\site-packages (from nltk<4.0.0,>=3.8.1->llama-index-core==0.10.43->llama-index) (1.4.2)\n",
      "Requirement already satisfied: regex>=2021.8.3 in c:\\users\\t-garagundi\\appdata\\local\\programs\\python\\python312\\lib\\site-packages (from nltk<4.0.0,>=3.8.1->llama-index-core==0.10.43->llama-index) (2024.5.15)\n",
      "Requirement already satisfied: distro<2,>=1.7.0 in c:\\users\\t-garagundi\\appdata\\local\\programs\\python\\python312\\lib\\site-packages (from openai>=1.1.0->llama-index-core==0.10.43->llama-index) (1.9.0)\n",
      "Requirement already satisfied: charset-normalizer<4,>=2 in c:\\users\\t-garagundi\\appdata\\local\\programs\\python\\python312\\lib\\site-packages (from requests>=2.31.0->llama-index-core==0.10.43->llama-index) (3.3.2)\n",
      "Requirement already satisfied: urllib3<3,>=1.21.1 in c:\\users\\t-garagundi\\appdata\\local\\programs\\python\\python312\\lib\\site-packages (from requests>=2.31.0->llama-index-core==0.10.43->llama-index) (2.2.1)\n",
      "Requirement already satisfied: greenlet!=0.4.17 in c:\\users\\t-garagundi\\appdata\\local\\programs\\python\\python312\\lib\\site-packages (from SQLAlchemy>=1.4.49->SQLAlchemy[asyncio]>=1.4.49->llama-index-core==0.10.43->llama-index) (3.0.3)\n",
      "Requirement already satisfied: colorama in c:\\users\\t-garagundi\\appdata\\local\\programs\\python\\python312\\lib\\site-packages (from tqdm<5.0.0,>=4.66.1->llama-index-core==0.10.43->llama-index) (0.4.6)\n",
      "Requirement already satisfied: mypy-extensions>=0.3.0 in c:\\users\\t-garagundi\\appdata\\local\\programs\\python\\python312\\lib\\site-packages (from typing-inspect>=0.8.0->llama-index-core==0.10.43->llama-index) (1.0.0)\n",
      "Requirement already satisfied: marshmallow<4.0.0,>=3.18.0 in c:\\users\\t-garagundi\\appdata\\local\\programs\\python\\python312\\lib\\site-packages (from dataclasses-json->llama-index-core==0.10.43->llama-index) (3.21.3)\n",
      "Requirement already satisfied: python-dateutil>=2.8.2 in c:\\users\\t-garagundi\\appdata\\local\\programs\\python\\python312\\lib\\site-packages (from pandas->llama-index-core==0.10.43->llama-index) (2.9.0.post0)\n",
      "Requirement already satisfied: pytz>=2020.1 in c:\\users\\t-garagundi\\appdata\\local\\programs\\python\\python312\\lib\\site-packages (from pandas->llama-index-core==0.10.43->llama-index) (2024.1)\n",
      "Requirement already satisfied: tzdata>=2022.7 in c:\\users\\t-garagundi\\appdata\\local\\programs\\python\\python312\\lib\\site-packages (from pandas->llama-index-core==0.10.43->llama-index) (2024.1)\n",
      "Requirement already satisfied: packaging>=17.0 in c:\\users\\t-garagundi\\appdata\\local\\programs\\python\\python312\\lib\\site-packages (from marshmallow<4.0.0,>=3.18.0->dataclasses-json->llama-index-core==0.10.43->llama-index) (24.0)\n",
      "Requirement already satisfied: annotated-types>=0.4.0 in c:\\users\\t-garagundi\\appdata\\local\\programs\\python\\python312\\lib\\site-packages (from pydantic>=1.10->llamaindex-py-client<0.2.0,>=0.1.18->llama-index-core==0.10.43->llama-index) (0.7.0)\n",
      "Requirement already satisfied: pydantic-core==2.18.4 in c:\\users\\t-garagundi\\appdata\\local\\programs\\python\\python312\\lib\\site-packages (from pydantic>=1.10->llamaindex-py-client<0.2.0,>=0.1.18->llama-index-core==0.10.43->llama-index) (2.18.4)\n",
      "Requirement already satisfied: six>=1.5 in c:\\users\\t-garagundi\\appdata\\local\\programs\\python\\python312\\lib\\site-packages (from python-dateutil>=2.8.2->pandas->llama-index-core==0.10.43->llama-index) (1.16.0)\n"
     ]
    }
   ],
   "source": [
    "!pip install llama-index"
   ]
  },
  {
   "cell_type": "code",
   "execution_count": 17,
   "id": "0609a213-479b-4924-8a31-07f9076bcb4a",
   "metadata": {},
   "outputs": [],
   "source": [
    "import os\n",
    "import json\n",
    "import openai\n",
    "from llama_index.llms.azure_openai import AzureOpenAI\n",
    "from llama_index.embeddings.openai import OpenAIEmbedding\n",
    "from llama_index.core import VectorStoreIndex, SimpleDirectoryReader\n",
    "from llama_index.embeddings.azure_openai import AzureOpenAIEmbedding\n",
    "#from llama_index.vector_stores.azurecosmosnosql import AzureCosmosDBNoSqlVectorSearch"
   ]
  },
  {
   "cell_type": "markdown",
   "id": "d1cf060d-7ab1-4a56-8098-4fb306d3401e",
   "metadata": {},
   "source": [
    "# Setup Azure OpenAI"
   ]
  },
  {
   "cell_type": "code",
   "execution_count": 18,
   "id": "230c386e-b118-4cef-aabe-37f78e478f97",
   "metadata": {},
   "outputs": [],
   "source": [
    "llm = AzureOpenAI(    \n",
    "    model=\"AZURE_OPENAI_MODEL\",\n",
    "    deployment_name=\"AZURE_OPENAI_DEPLOYMENT_NAME\",\n",
    "    azure_endpoint=\"AZURE_OPENAI_BASE\",\n",
    "    api_key=\"AZURE_OPENAI_KEY\",\n",
    "    api_version=\"AZURE_OPENAI_VERSION\",\n",
    ")\n",
    "\n",
    "embed_model = AzureOpenAIEmbedding(\n",
    "    model=\"AZURE_OPENAI_EMBEDDING_MODEL\",\n",
    "    deployment_name=\"AZURE_OPENAI_EMBEDDING_MODEL_DEPLOYMENT_NAME\",\n",
    "    azure_endpoint=\"AZURE_OPENAI_BASE\",\n",
    "    api_key=\"AZURE_OPENAI_KEY\",\n",
    "    api_version=\"AZURE_OPENAI_VERSION\",\n",
    ")"
   ]
  },
  {
   "cell_type": "code",
   "execution_count": 20,
   "id": "8da35d45-9689-4f3a-9011-1cda0fb361ea",
   "metadata": {},
   "outputs": [],
   "source": [
    "from llama_index.core import Settings\n",
    "\n",
    "Settings.llm=llm\n",
    "Settings.embed_model=embed_model"
   ]
  },
  {
   "cell_type": "markdown",
   "id": "084aa964-7222-47b2-bdab-825c85a6ffed",
   "metadata": {},
   "source": [
    "# Loading Documents"
   ]
  },
  {
   "cell_type": "code",
   "execution_count": 25,
   "id": "4d5c454d-fee7-411f-81d0-7858d2d88412",
   "metadata": {},
   "outputs": [
    {
     "name": "stdout",
     "output_type": "stream",
     "text": [
      "C:\\Users\\t-garagundi\\Documents\\GitHub\\llama_index\\llama-index-integrations\\vector_stores\\llama-index-vector-stores-azurecosmosnosql\n"
     ]
    }
   ],
   "source": [
    "import os\n",
    "current_path = os.getcwd()\n",
    "print(current_path)"
   ]
  },
  {
   "cell_type": "code",
   "execution_count": 31,
   "id": "8f689978-93c6-4c34-9a6e-9fca606a1058",
   "metadata": {},
   "outputs": [
    {
     "ename": "ValueError",
     "evalue": "Directory .../.../.../docs/docs/examples/data/paul_graham/paul_graham_essay.txt does not exist.",
     "output_type": "error",
     "traceback": [
      "\u001b[1;31m---------------------------------------------------------------------------\u001b[0m",
      "\u001b[1;31mValueError\u001b[0m                                Traceback (most recent call last)",
      "Cell \u001b[1;32mIn[31], line 1\u001b[0m\n\u001b[1;32m----> 1\u001b[0m documents \u001b[38;5;241m=\u001b[39m \u001b[43mSimpleDirectoryReader\u001b[49m\u001b[43m(\u001b[49m\u001b[38;5;124;43mr\u001b[39;49m\u001b[38;5;124;43m\"\u001b[39;49m\u001b[38;5;124;43m.../.../.../docs/docs/examples/data/paul_graham/paul_graham_essay.txt\u001b[39;49m\u001b[38;5;124;43m\"\u001b[39;49m\u001b[43m)\u001b[49m\u001b[38;5;241m.\u001b[39mload_data()\n\u001b[0;32m      3\u001b[0m \u001b[38;5;28mprint\u001b[39m(\u001b[38;5;124m\"\u001b[39m\u001b[38;5;124mDocument ID:\u001b[39m\u001b[38;5;124m\"\u001b[39m, documents[\u001b[38;5;241m0\u001b[39m])\n",
      "File \u001b[1;32m~\\AppData\\Local\\Programs\\Python\\Python312\\Lib\\site-packages\\llama_index\\core\\readers\\file\\base.py:255\u001b[0m, in \u001b[0;36mSimpleDirectoryReader.__init__\u001b[1;34m(self, input_dir, input_files, exclude, exclude_hidden, errors, recursive, encoding, filename_as_id, required_exts, file_extractor, num_files_limit, file_metadata, raise_on_error, fs)\u001b[0m\n\u001b[0;32m    253\u001b[0m \u001b[38;5;28;01melif\u001b[39;00m input_dir:\n\u001b[0;32m    254\u001b[0m     \u001b[38;5;28;01mif\u001b[39;00m \u001b[38;5;129;01mnot\u001b[39;00m \u001b[38;5;28mself\u001b[39m\u001b[38;5;241m.\u001b[39mfs\u001b[38;5;241m.\u001b[39misdir(input_dir):\n\u001b[1;32m--> 255\u001b[0m         \u001b[38;5;28;01mraise\u001b[39;00m \u001b[38;5;167;01mValueError\u001b[39;00m(\u001b[38;5;124mf\u001b[39m\u001b[38;5;124m\"\u001b[39m\u001b[38;5;124mDirectory \u001b[39m\u001b[38;5;132;01m{\u001b[39;00minput_dir\u001b[38;5;132;01m}\u001b[39;00m\u001b[38;5;124m does not exist.\u001b[39m\u001b[38;5;124m\"\u001b[39m)\n\u001b[0;32m    256\u001b[0m     \u001b[38;5;28mself\u001b[39m\u001b[38;5;241m.\u001b[39minput_dir \u001b[38;5;241m=\u001b[39m _Path(input_dir)\n\u001b[0;32m    257\u001b[0m     \u001b[38;5;28mself\u001b[39m\u001b[38;5;241m.\u001b[39mexclude \u001b[38;5;241m=\u001b[39m exclude\n",
      "\u001b[1;31mValueError\u001b[0m: Directory .../.../.../docs/docs/examples/data/paul_graham/paul_graham_essay.txt does not exist."
     ]
    }
   ],
   "source": [
    "documents = SimpleDirectoryReader(r\"/docs/docs/examples/data/paul_graham/paul_graham_essay.txt\").load_data()\n",
    "\n",
    "print(\"Document ID:\", documents[0])"
   ]
  },
  {
   "cell_type": "code",
   "execution_count": null,
   "id": "3525d5bd-22dd-44ff-99b4-c20447649b46",
   "metadata": {},
   "outputs": [],
   "source": []
  }
 ],
 "metadata": {
  "kernelspec": {
   "display_name": "Python 3 (ipykernel)",
   "language": "python",
   "name": "python3"
  },
  "language_info": {
   "codemirror_mode": {
    "name": "ipython",
    "version": 3
   },
   "file_extension": ".py",
   "mimetype": "text/x-python",
   "name": "python",
   "nbconvert_exporter": "python",
   "pygments_lexer": "ipython3",
   "version": "3.12.3"
  }
 },
 "nbformat": 4,
 "nbformat_minor": 5
}
