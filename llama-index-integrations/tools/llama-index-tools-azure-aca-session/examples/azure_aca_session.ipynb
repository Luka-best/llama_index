{
 "cells": [
  {
   "cell_type": "code",
   "execution_count": 2,
   "id": "34e66a0e-e41d-48e0-8a1f-b82b5ea18ad1",
   "metadata": {},
   "outputs": [],
   "source": [
    "# Setup Azure OpenAI Agent\n",
    "from llama_index.llms.azure_openai import AzureOpenAI\n",
    "\n",
    "api_key = \"your_api_key\"\n",
    "azure_endpoint = \"https://<your_azure_openai_name>.openai.azure.com/\"\n",
    "api_version = \"2023-08-01-preview\""
   ]
  },
  {
   "cell_type": "code",
   "execution_count": 11,
   "id": "eb11c1a6-1540-4538-8d1a-bb8b265fdb64",
   "metadata": {},
   "outputs": [
    {
     "name": "stdout",
     "output_type": "stream",
     "text": [
      "\u001b[1;3;38;5;200mThought: The current language of the user is: English. I need to use a tool to help me answer the question.\n",
      "Action: code_interpreter\n",
      "Action Input: {'python_code': \"import datetime\\nimport pytz\\ndatetime.datetime.now(pytz.timezone('America/Los_Angeles')).strftime('%Y-%m-%d %H:%M:%S')\"}\n",
      "\u001b[0m\u001b[1;3;34mObservation: {'$id': '1', 'status': 'Success', 'stdout': '', 'stderr': '', 'result': '2024-04-24 17:11:33', 'executionTimeInMilliseconds': 60}\n",
      "\u001b[0m\u001b[1;3;38;5;200mThought: I have the current time in Seattle. I'll use the user's language to answer.\n",
      "Answer: The current time in Seattle is 2024-04-24 17:11:33.\n",
      "\u001b[0mThe current time in Seattle is 2024-04-24 17:11:33.\n"
     ]
    }
   ],
   "source": [
    "from llama_index.tools.azure_aca_session import AzureACASessionToolSpec\n",
    "from llama_index.core.agent import ReActAgent\n",
    "\n",
    "aca_session_tool = AzureACASessionToolSpec(pool_managment_endpoint=\"your_pool_management_endpoint\")\n",
    "\n",
    "llm = AzureOpenAI(\n",
    "    model=\"gpt-35-turbo\",\n",
    "    deployment_name=\"test-gpt-35-deploy\",\n",
    "    api_key=api_key,\n",
    "    azure_endpoint=azure_endpoint,\n",
    "    api_version=api_version,\n",
    ")\n",
    "\n",
    "agent = ReActAgent.from_tools(aca_session_tool.to_tool_list(), llm=llm, verbose=True)\n",
    "\n",
    "print(agent.chat(\"Tell me the current time in Seattle.\"))"
   ]
  }
 ],
 "metadata": {
  "kernelspec": {
   "display_name": "Python 3 (ipykernel)",
   "language": "python",
   "name": "python3"
  },
  "language_info": {
   "codemirror_mode": {
    "name": "ipython",
    "version": 3
   },
   "file_extension": ".py",
   "mimetype": "text/x-python",
   "name": "python",
   "nbconvert_exporter": "python",
   "pygments_lexer": "ipython3",
   "version": "3.10.11"
  }
 },
 "nbformat": 4,
 "nbformat_minor": 5
}
