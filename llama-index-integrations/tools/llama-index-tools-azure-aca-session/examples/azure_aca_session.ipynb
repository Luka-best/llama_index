{
 "cells": [
  {
   "cell_type": "code",
   "execution_count": 1,
   "id": "34e66a0e-e41d-48e0-8a1f-b82b5ea18ad1",
   "metadata": {},
   "outputs": [],
   "source": [
    "# Setup Azure OpenAI Agent\n",
    "from llama_index.llms.azure_openai import AzureOpenAI\n",
    "\n",
    "api_key = \"your_azure_openai_api_key\"\n",
    "azure_endpoint = \"https://<your_azure_openai_name>.openai.azure.com/\"\n",
    "api_version = \"2023-08-01-preview\""
   ]
  },
  {
   "cell_type": "code",
   "execution_count": 2,
   "id": "eb11c1a6-1540-4538-8d1a-bb8b265fdb64",
   "metadata": {},
   "outputs": [
    {
     "name": "stdout",
     "output_type": "stream",
     "text": [
      "\u001b[1;3;38;5;200mThought: The current language of the user is: English. I need to use a tool to help me answer the question.\n",
      "Action: code_interpreter\n",
      "Action Input: {'python_code': \"import datetime\\nimport pytz\\ndatetime.datetime.now(pytz.timezone('America/Los_Angeles')).strftime('%Y-%m-%d %H:%M:%S')\"}\n",
      "\u001b[0m\u001b[1;3;34mObservation: {'$id': '1', 'status': 'Success', 'stdout': '', 'stderr': '', 'result': '2024-04-25 00:25:18', 'executionTimeInMilliseconds': 100}\n",
      "\u001b[0m\u001b[1;3;38;5;200mThought: I have the current time in Seattle. I'll use the user's language to answer.\n",
      "Answer: The current time in Seattle is 2024-04-25 00:25:18.\n",
      "\u001b[0mThe current time in Seattle is 2024-04-25 00:25:18.\n"
     ]
    }
   ],
   "source": [
    "# Import the AzureACASessionToolSpec from llama_index\n",
    "from llama_index.tools.azure_aca_session import AzureACASessionToolSpec\n",
    "# Import the ReActAgent\n",
    "from llama_index.core.agent import ReActAgent\n",
    "\n",
    "# Create the AzureACASessionToolSpec with the pool_managment_endpoint set to your session management endpoint\n",
    "aca_session_tool = AzureACASessionToolSpec(pool_managment_endpoint=\"<your_session_management_endpoint>\")\n",
    "\n",
    "llm = AzureOpenAI(\n",
    "    model=\"gpt-35-turbo\",\n",
    "    deployment_name=\"test-gpt-35-deploy\",\n",
    "    api_key=api_key,\n",
    "    azure_endpoint=azure_endpoint,\n",
    "    api_version=api_version,\n",
    ")\n",
    "\n",
    "# Create the ReActAgent and inject the tools defined in the AzureACASessionToolSpec\n",
    "agent = ReActAgent.from_tools(aca_session_tool.to_tool_list(), llm=llm, verbose=True)\n",
    "\n",
    "# Test the agent\n",
    "print(agent.chat(\"Tell me the current time in Seattle.\"))\n"
   ]
  },
  {
   "cell_type": "code",
   "execution_count": 3,
   "id": "83345ac5",
   "metadata": {},
   "outputs": [
    {
     "name": "stdout",
     "output_type": "stream",
     "text": [
      "\u001b[1;3;38;5;200mThought: I need to use a tool to help me answer the question.\n",
      "Action: list_files\n",
      "Action Input: {}\n",
      "\u001b[0m\u001b[1;3;34mObservation: [RemoteFileMetadata(filename='TemperatureData.csv', size_in_bytes=514, file_full_path='/mnt/data/TemperatureData.csv')]\n",
      "\u001b[0m\u001b[1;3;38;5;200mThought: I can use the pandas library to read the csv file and find the highest temperature.\n",
      "Action: code_interpreter\n",
      "Action Input: {'python_code': \"import pandas as pd\\n\\nfile_path = '/mnt/data/TemperatureData.csv'\\ndata = pd.read_csv(file_path)\\n\\nhighest_temp = data['Temperature'].max()\\nprint(highest_temp)\"}\n",
      "\u001b[0m\u001b[1;3;34mObservation: {'$id': '1', 'status': 'Success', 'stdout': '12.4\\n', 'stderr': '', 'result': '', 'executionTimeInMilliseconds': 1692}\n",
      "\u001b[0m\u001b[1;3;38;5;200mThought: I can answer without using any more tools. I'll use the user's language to answer.\n",
      "Answer: The highest temperature in the file TemperatureData.csv is 12.4.\n",
      "\u001b[0mThe highest temperature in the file TemperatureData.csv is 12.4.\n"
     ]
    }
   ],
   "source": [
    "# Upload a sample temperature file of a day in Redmond Washington and ask a question about it\n",
    "res = aca_session_tool.upload_file(local_file_path=\"<some_local_path>/TemperatureData.csv\")\n",
    "if len(res) != 0:\n",
    "    print(agent.chat(\"What is the highest temperature in the file I uploaded into the home directory?\"))\n"
   ]
  },
  {
   "cell_type": "code",
   "execution_count": 4,
   "id": "6d971e55",
   "metadata": {},
   "outputs": [
    {
     "name": "stdout",
     "output_type": "stream",
     "text": [
      "\u001b[1;3;38;5;200mThought: I need to use the list_files tool to check if the file exists in the home directory. Then I'll use the code_interpreter tool to read the csv file and sort the temperature data in descending order. Finally, I'll use the code_interpreter tool to save the sorted data back to the original csv file.\n",
      "Action: list_files\n",
      "Action Input: {}\n",
      "\u001b[0m\u001b[1;3;34mObservation: [RemoteFileMetadata(filename='TemperatureData.csv', size_in_bytes=514, file_full_path='/mnt/data/TemperatureData.csv')]\n",
      "\u001b[0m\u001b[1;3;38;5;200mThought: The file exists in the home directory. I'll now use the code_interpreter tool to read the csv file and sort the temperature data in descending order.\n",
      "Action: code_interpreter\n",
      "Action Input: {'python_code': \"import pandas as pd\\n\\n# Read the csv file\\ndf = pd.read_csv('/mnt/data/TemperatureData.csv')\\n\\n# Sort the temperature data in descending order\\nsorted_df = df.sort_values(by=['Temperature'], ascending=False)\\n\\n# Save the sorted data back to the original csv file\\nsorted_df.to_csv('/mnt/data/TemperatureData.csv', index=False)\"}\n",
      "\u001b[0m\u001b[1;3;34mObservation: {'$id': '1', 'status': 'Success', 'stdout': '', 'stderr': '', 'result': '', 'executionTimeInMilliseconds': 18}\n",
      "\u001b[0m\u001b[1;3;38;5;200mThought: The temperature data has been sorted in descending order and saved back to the original csv file. I have completed the task.\n",
      "Answer: The temperature data has been rearranged in a descending order and saved back to the original csv file.\n",
      "\u001b[0mThe temperature data has been rearranged in a descending order and saved back to the original csv file.\n"
     ]
    }
   ],
   "source": [
    "# Ask the LLM to perform modifications on the sample temperature file\n",
    "print(agent.chat(\"Rearrange the temperature data in a descending order and save it back to the original csv file.\"))\n"
   ]
  },
  {
   "cell_type": "code",
   "execution_count": 5,
   "id": "5a918f31",
   "metadata": {},
   "outputs": [],
   "source": [
    "# Download the modified file\n",
    "aca_session_tool.download_file(remote_file_path=\"TemperatureData.csv\", local_file_path=\"<some_local_path>/SortedTemperatureData.csv\")\n"
   ]
  },
  {
   "cell_type": "code",
   "execution_count": 8,
   "id": "60e7d94f",
   "metadata": {},
   "outputs": [
    {
     "name": "stdout",
     "output_type": "stream",
     "text": [
      "Time,Temperature\n",
      "4/11/2024 0:00,6.5\n",
      "4/11/2024 1:00,5.2\n",
      "4/11/2024 2:00,4.8\n",
      "4/11/2024 3:00,5.1\n",
      "4/11/2024 4:00,5.7\n",
      "4/11/2024 5:00,5.1\n",
      "4/11/2024 6:00,4.5\n",
      "4/11/2024 7:00,5.5\n",
      "4/11/2024 8:00,5.3\n"
     ]
    }
   ],
   "source": [
    "# For comparison, print the first 10 lines of the original file\n",
    "with open(\"TemperatureData.csv\", \"r\") as f:\n",
    "    for i in range(10):\n",
    "        print(f.readline().strip())\n"
   ]
  },
  {
   "cell_type": "code",
   "execution_count": 7,
   "id": "5a381145",
   "metadata": {},
   "outputs": [
    {
     "name": "stdout",
     "output_type": "stream",
     "text": [
      "Time,Temperature\n",
      "4/11/2024 20:00,12.4\n",
      "4/11/2024 19:00,12.3\n",
      "4/11/2024 17:00,12.3\n",
      "4/11/2024 18:00,12.1\n",
      "4/11/2024 16:00,11.7\n",
      "4/11/2024 15:00,11.3\n",
      "4/11/2024 21:00,10.9\n",
      "4/11/2024 22:00,10.0\n",
      "4/11/2024 23:00,9.4\n"
     ]
    }
   ],
   "source": [
    "# For comparison, print the first 10 lines of the sorted file downloaded from session pool\n",
    "with open(\"SortedTemperatureData.csv\", \"r\") as f:\n",
    "    for i in range(10):\n",
    "        print(f.readline().strip())\n"
   ]
  }
 ],
 "metadata": {
  "kernelspec": {
   "display_name": "Python 3 (ipykernel)",
   "language": "python",
   "name": "python3"
  },
  "language_info": {
   "codemirror_mode": {
    "name": "ipython",
    "version": 3
   },
   "file_extension": ".py",
   "mimetype": "text/x-python",
   "name": "python",
   "nbconvert_exporter": "python",
   "pygments_lexer": "ipython3",
   "version": "3.10.11"
  }
 },
 "nbformat": 4,
 "nbformat_minor": 5
}
