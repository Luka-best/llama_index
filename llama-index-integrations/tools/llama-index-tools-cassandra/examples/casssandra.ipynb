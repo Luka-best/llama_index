{
 "cells": [
  {
   "cell_type": "code",
   "execution_count": null,
   "metadata": {},
   "outputs": [
    {
     "data": {
      "text/plain": [
       "True"
      ]
     },
     "execution_count": null,
     "metadata": {},
     "output_type": "execute_result"
    }
   ],
   "source": [
    "from dotenv import load_dotenv\n",
    "\n",
    "load_dotenv(override=True)"
   ]
  },
  {
   "cell_type": "code",
   "execution_count": null,
   "metadata": {},
   "outputs": [],
   "source": [
    "# Import necessary libraries\n",
    "import os\n",
    "\n",
    "import cassio\n",
    "\n",
    "# from llama_index.tools.tavily_research.base import TavilyToolSpec\n",
    "from llama_index.tools.cassandra.base import CassandraDatabaseToolSpec\n",
    "from llama_index.tools.cassandra.cassandra_database_wrapper import CassandraDatabase\n",
    "import openai\n",
    "\n",
    "from llama_index.agent.openai import OpenAIAgent\n",
    "from llama_index.llms.openai import OpenAI"
   ]
  },
  {
   "cell_type": "code",
   "execution_count": null,
   "metadata": {},
   "outputs": [
    {
     "name": "stdout",
     "output_type": "stream",
     "text": [
      "cassandra_db_schema\n",
      "cassandra_db_schema(keyspace: str) -> List[llama_index.core.schema.Document]\n",
      "Input to this tool is a keyspace name, output is a table description\n",
      "            of Apache Cassandra tables.\n",
      "            If the query is not correct, an error message will be returned.\n",
      "            If an error is returned, report back to the user that the keyspace\n",
      "            doesn't exist and stop.\n",
      "\n",
      "        Args:\n",
      "            keyspace (str): The name of the keyspace for which to return the schema.\n",
      "\n",
      "        Returns:\n",
      "            List[Document]: A list of Document objects, each containing a table description.\n",
      "        \n",
      "<class 'pydantic.main.cassandra_db_schema'>\n",
      "cassandra_db_select_table_data\n",
      "cassandra_db_select_table_data(keyspace: str, table: str, predicate: str, limit: int) -> List[llama_index.core.schema.Document]\n",
      " Tool for getting data from a table in an Apache Cassandra database.\n",
      "            Use the WHERE clause to specify the predicate for the query that uses the\n",
      "            primary key. A blank predicate will return all rows. Avoid this if possible.\n",
      "            Use the limit to specify the number of rows to return. A blank limit will\n",
      "            return all rows.\n",
      "\n",
      "        Args:\n",
      "            keyspace (str): The name of the keyspace containing the table.\n",
      "            table (str): The name of the table for which to return data.\n",
      "            predicate (str): The predicate for the query that uses the primary key.\n",
      "            limit (int): The maximum number of rows to return.\n",
      "\n",
      "        Returns:\n",
      "            List[Document]: A list of Document objects, each containing a row of data.\n",
      "        \n",
      "<class 'pydantic.main.cassandra_db_select_table_data'>\n"
     ]
    }
   ],
   "source": [
    "cassio.init(auto=True)\n",
    "\n",
    "session = cassio.config.resolve_session()\n",
    "if not session:\n",
    "    raise Exception(\n",
    "        \"Check environment configuration or manually configure cassio connection parameters\"\n",
    "    )\n",
    "\n",
    "# Create a CassandraDatabaseToolSpec object\n",
    "db = CassandraDatabase()\n",
    "\n",
    "spec = CassandraDatabaseToolSpec(db=db)\n",
    "\n",
    "tools = spec.to_tool_list()\n",
    "for tool in tools:\n",
    "    print(tool.metadata.name)\n",
    "    print(tool.metadata.description)\n",
    "    print(tool.metadata.fn_schema)"
   ]
  },
  {
   "cell_type": "code",
   "execution_count": null,
   "metadata": {},
   "outputs": [
    {
     "name": "stdout",
     "output_type": "stream",
     "text": [
      "Added user message to memory: What tables are in the keyspace langchain_agent_test?\n",
      "=== Calling Function ===\n",
      "Calling function: cassandra_db_schema with args: {\"keyspace\":\"langchain_agent_test\"}\n",
      "Got output: [Document(id_='ef42ca5a-be46-496b-b8f9-037106182c71', embedding=None, metadata={}, excluded_embed_metadata_keys=[], excluded_llm_metadata_keys=[], relationships={}, text='Table Name: user_credentials\\n- Keyspace: langchain_agent_test\\n- Columns\\n  - password (text)\\n  - user_email (text)\\n  - user_id (uuid)\\n- Partition Keys: (user_email)\\n- Clustering Keys: \\n\\nTable Name: user_videos\\n- Keyspace: langchain_agent_test\\n- Columns\\n  - description (text)\\n  - title (text)\\n  - user_id (uuid)\\n  - video_id (uuid)\\n- Partition Keys: (user_id)\\n- Clustering Keys: (video_id asc)\\n\\n\\nTable Name: users\\n- Keyspace: langchain_agent_test\\n- Columns\\n  - email (text)\\n  - id (uuid)\\n  - name (text)\\n- Partition Keys: (id)\\n- Clustering Keys: \\n\\n', start_char_idx=None, end_char_idx=None, text_template='{metadata_str}\\n\\n{content}', metadata_template='{key}: {value}', metadata_seperator='\\n')]\n",
      "========================\n",
      "\n",
      "Added user message to memory: What is the userid for patrick@datastax.com ?\n",
      "=== Calling Function ===\n",
      "Calling function: cassandra_db_select_table_data with args: {\"keyspace\":\"langchain_agent_test\",\"table\":\"user_credentials\",\"predicate\":\"user_email = 'patrick@datastax.com'\",\"limit\":1}\n",
      "Got output: [Document(id_='2b477f24-5db4-454c-871c-17fb3c542719', embedding=None, metadata={}, excluded_embed_metadata_keys=[], excluded_llm_metadata_keys=[], relationships={}, text=\"Row(user_email='patrick@datastax.com', password=None, user_id=UUID('522b1fe2-2e36-4cef-a667-cd4237d08b89'))\", start_char_idx=None, end_char_idx=None, text_template='{metadata_str}\\n\\n{content}', metadata_template='{key}: {value}', metadata_seperator='\\n')]\n",
      "========================\n",
      "\n"
     ]
    },
    {
     "data": {
      "text/plain": [
       "AgentChatResponse(response='The user ID for `patrick@datastax.com` is `522b1fe2-2e36-4cef-a667-cd4237d08b89`.', sources=[ToolOutput(content='[Document(id_=\\'2b477f24-5db4-454c-871c-17fb3c542719\\', embedding=None, metadata={}, excluded_embed_metadata_keys=[], excluded_llm_metadata_keys=[], relationships={}, text=\"Row(user_email=\\'patrick@datastax.com\\', password=None, user_id=UUID(\\'522b1fe2-2e36-4cef-a667-cd4237d08b89\\'))\", start_char_idx=None, end_char_idx=None, text_template=\\'{metadata_str}\\\\n\\\\n{content}\\', metadata_template=\\'{key}: {value}\\', metadata_seperator=\\'\\\\n\\')]', tool_name='cassandra_db_select_table_data', raw_input={'args': (), 'kwargs': {'keyspace': 'langchain_agent_test', 'table': 'user_credentials', 'predicate': \"user_email = 'patrick@datastax.com'\", 'limit': 1}}, raw_output=[Document(id_='2b477f24-5db4-454c-871c-17fb3c542719', embedding=None, metadata={}, excluded_embed_metadata_keys=[], excluded_llm_metadata_keys=[], relationships={}, text=\"Row(user_email='patrick@datastax.com', password=None, user_id=UUID('522b1fe2-2e36-4cef-a667-cd4237d08b89'))\", start_char_idx=None, end_char_idx=None, text_template='{metadata_str}\\n\\n{content}', metadata_template='{key}: {value}', metadata_seperator='\\n')], is_error=False)], source_nodes=[], is_dummy_stream=False)"
      ]
     },
     "execution_count": null,
     "metadata": {},
     "output_type": "execute_result"
    }
   ],
   "source": [
    "# Create the Agent with our tools\n",
    "llm = OpenAI(model=\"gpt-4-1106-preview\")\n",
    "agent = OpenAIAgent.from_tools(tools, llm=llm, verbose=True)\n",
    "\n",
    "agent.chat(\"What tables are in the keyspace langchain_agent_test?\")\n",
    "agent.chat(\"What is the userid for patrick@datastax.com ?\")\n",
    "agent.chat(\"What videos did user patrick@datastax.com upload?\")"
   ]
  }
 ],
 "metadata": {
  "kernelspec": {
   "display_name": "llamaindex",
   "language": "python",
   "name": "python3"
  },
  "language_info": {
   "codemirror_mode": {
    "name": "ipython",
    "version": 3
   },
   "file_extension": ".py",
   "mimetype": "text/x-python",
   "name": "python",
   "nbconvert_exporter": "python",
   "pygments_lexer": "ipython3"
  }
 },
 "nbformat": 4,
 "nbformat_minor": 2
}
