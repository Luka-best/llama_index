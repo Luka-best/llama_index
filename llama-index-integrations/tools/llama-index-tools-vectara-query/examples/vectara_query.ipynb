{
 "cells": [
  {
   "cell_type": "markdown",
   "id": "a2762271-0db4-4d50-aa50-036d01926a7d",
   "metadata": {},
   "source": [
    "## Vectara Query Tool"
   ]
  },
  {
   "cell_type": "markdown",
   "id": "4452df2a-976b-4e1c-9f9b-2fa983569948",
   "metadata": {},
   "source": [
    "To get started with Vectara, [sign up](https://vectara.com/integrations/llamaindex) (if you haven't already) and follow our [quickstart](https://docs.vectara.com/docs/quickstart) guide to create a corpus and an API key.\n",
    "\n",
    "Once you have done this, you are ready to use the Vectara query tool."
   ]
  },
  {
   "cell_type": "code",
   "execution_count": null,
   "id": "b0a1f07a-2c71-4d3b-bf12-c7382b06a01d",
   "metadata": {},
   "outputs": [],
   "source": [
    "import sys\n",
    "\n",
    "sys.path.append(\n",
    "    \"/Users/david/Documents/llama_index/llama-index-integrations/tools/llama-index-tools-vectara-query/llama_index/tools/vectara_query\"\n",
    ")\n",
    "\n",
    "from base import VectaraQueryToolSpec"
   ]
  },
  {
   "cell_type": "code",
   "execution_count": null,
   "id": "adbd9f2c-1cc9-4220-a117-7099a248d855",
   "metadata": {},
   "outputs": [],
   "source": [
    "# Import and initialize our tool spec\n",
    "# pip install -U llama-index-tools-vectara-query\n",
    "# from llama_index.tools.vectara_query.base import VectaraQueryToolSpec\n",
    "import os\n",
    "\n",
    "os.environ[\"VECTARA_CUSTOMER_ID\"] = \"YOUR_VECTARA_CUSTOMER_ID\"\n",
    "os.environ[\"VECTARA_CORPUS_ID\"] = \"YOUR_VECTARA_CORPUS_ID\"\n",
    "os.environ[\"VECTARA_API_KEY\"] = \"YOUR_VECTARA_API_KEY\"\n",
    "\n",
    "tool_spec = VectaraQueryToolSpec(\n",
    "    vectara_customer_id=os.environ[\"VECTARA_CUSTOMER_ID\"],\n",
    "    vectara_corpus_id=os.environ[\"VECTARA_CORPUS_ID\"],\n",
    "    vectara_api_key=os.environ[\"VECTARA_API_KEY\"],\n",
    ")"
   ]
  },
  {
   "cell_type": "markdown",
   "id": "ac3f03a4-2448-4ef2-8aa8-e6c536875a0e",
   "metadata": {},
   "source": [
    "After initializing the tool spec, we can provide it to our agent. For this notebook, we will use the OpenAI Agent, but our tool can be used with any type of agent. You will need your own OpenAI API key to run this notebook."
   ]
  },
  {
   "cell_type": "code",
   "execution_count": null,
   "id": "4f9fe90d-4a54-416f-a0ed-81c3de614487",
   "metadata": {},
   "outputs": [],
   "source": [
    "# Setup OpenAI Agent\n",
    "import openai\n",
    "\n",
    "openai.api_key = \"sk-your-key\"\n",
    "from llama_index.agent.openai import OpenAIAgent\n",
    "\n",
    "agent = OpenAIAgent.from_tools(\n",
    "    tool_spec.to_tool_list(),\n",
    "    verbose=True,\n",
    ")"
   ]
  }
 ],
 "metadata": {
  "kernelspec": {
   "display_name": "Python 3 (ipykernel)",
   "language": "python",
   "name": "python3"
  },
  "language_info": {
   "codemirror_mode": {
    "name": "ipython",
    "version": 3
   },
   "file_extension": ".py",
   "mimetype": "text/x-python",
   "name": "python",
   "nbconvert_exporter": "python",
   "pygments_lexer": "ipython3"
  }
 },
 "nbformat": 4,
 "nbformat_minor": 5
}
