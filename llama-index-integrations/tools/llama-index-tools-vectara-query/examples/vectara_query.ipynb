{
 "cells": [
  {
   "cell_type": "markdown",
   "id": "a2762271-0db4-4d50-aa50-036d01926a7d",
   "metadata": {},
   "source": [
    "## Vectara Query Tool"
   ]
  },
  {
   "cell_type": "markdown",
   "id": "4452df2a-976b-4e1c-9f9b-2fa983569948",
   "metadata": {},
   "source": [
    "To get started with Vectara, [sign up](https://vectara.com/integrations/llamaindex) (if you haven't already) and follow our [quickstart](https://docs.vectara.com/docs/quickstart) guide to create a corpus and an API key.\n",
    "\n",
    "Once you have done this, you are ready to use the Vectara query tool.\n",
    "\n",
    "To initialize the tool, provide your Vectara information and any query parameters that you want to adjust, such as the reranker, summarizer prompt, etc. To see the entire list of parameters, see the [VectaraQueryToolSpec class definition](https://github.com/david-oplatka/llama_index/blob/main/llama-index-integrations/tools/llama-index-tools-vectara-query/llama_index/tools/vectara_query/base.py#L11)."
   ]
  },
  {
   "cell_type": "code",
   "execution_count": null,
   "id": "b0a1f07a-2c71-4d3b-bf12-c7382b06a01d",
   "metadata": {},
   "outputs": [],
   "source": [
    "import sys\n",
    "\n",
    "sys.path.append(\n",
    "    \"/Users/david/Documents/llama_index/llama-index-integrations/tools/llama-index-tools-vectara-query/llama_index/tools/vectara_query\"\n",
    ")\n",
    "\n",
    "from base import VectaraQueryToolSpec"
   ]
  },
  {
   "cell_type": "code",
   "execution_count": null,
   "id": "adbd9f2c-1cc9-4220-a117-7099a248d855",
   "metadata": {},
   "outputs": [],
   "source": [
    "# Import and initialize our tool spec\n",
    "# pip install -U llama-index-tools-vectara-query\n",
    "\n",
    "# from llama_index.tools.vectara_query.base import VectaraQueryToolSpec\n",
    "import os\n",
    "\n",
    "tool_spec = VectaraQueryToolSpec(\n",
    "    vectara_customer_id=os.environ[\"VECTARA_CUSTOMER_ID\"],\n",
    "    vectara_corpus_id=os.environ[\"VECTARA_CORPUS_ID\"],\n",
    "    vectara_api_key=os.environ[\"VECTARA_API_KEY\"],\n",
    ")"
   ]
  },
  {
   "cell_type": "markdown",
   "id": "ac3f03a4-2448-4ef2-8aa8-e6c536875a0e",
   "metadata": {},
   "source": [
    "After initializing the tool spec, we can provide it to our agent. For this notebook, we will use the OpenAI Agent, but our tool can be used with any type of agent. You will need your own OpenAI API key to run this notebook."
   ]
  },
  {
   "cell_type": "code",
   "execution_count": null,
   "id": "4f9fe90d-4a54-416f-a0ed-81c3de614487",
   "metadata": {},
   "outputs": [],
   "source": [
    "# Setup OpenAI Agent\n",
    "import openai\n",
    "\n",
    "openai.api_key = \"sk-your-key\"\n",
    "from llama_index.agent.openai import OpenAIAgent\n",
    "\n",
    "agent = OpenAIAgent.from_tools(\n",
    "    tool_spec.to_tool_list(),\n",
    "    verbose=True,\n",
    ")"
   ]
  },
  {
   "cell_type": "code",
   "execution_count": null,
   "id": "fb2fea58-8084-48b8-84f1-713e2d476b47",
   "metadata": {},
   "outputs": [
    {
     "name": "stdout",
     "output_type": "stream",
     "text": [
      "Added user message to memory: What are the different types of electric vehicles? How do they work?\n",
      "=== Calling Function ===\n",
      "Calling function: semantic_search with args: {\"query\":\"types of electric vehicles and how they work\"}\n",
      "Got output: [{'text': 'Will has been featured in the Associated Press and a number of major outlets on the topics of infotainment and vehicle data, vehicle subscription services and autonomous vehicles. Will started his career in online publishing by writing and editing standardized test guides, but he has a lot more fun writing about cars. 8/29/2023 Share: There are four major types of electric or electrified vehicles: BEV, HEV, PHEV and FCEV. In this article, we’ll explain each electric vehicle type, along with its pros and cons. BEV: Battery electric vehicle HEV: Hybrid electric vehicle PHEV: Plug-in hybrid electric vehicle FCEV: Fuel cell electric vehicle Back to the top Am I Ready for an EV?', 'citation_metadata': {'lang': 'eng', 'offset': '870', 'len': '105', 'source': 'website', 'url': 'https://www.edmunds.com/electric-car/articles/types-of-electric-cars.html', 'title': 'Types of Electric Cars | Edmunds'}, 'factual_consistency_score': 0.8706762}, {'text': 'How Do Electric Cars Work? An In-Depth Guide | Edmunds How Do Electric Cars Work? An In-Depth Guide | Edmunds Skip to main content Popular searches Volvo S60 Silverado 1500 Car Appraiser Tool Honda CR-V Lease Deals New Car Pricing Used Cars for Sale Appraise My Car Car Reviews How Do Electric Cars Work? An In-Depth Guide written by Will Kaufman Senior Editor and Content Strategist, CarMax Will Kaufman has worked in the automotive industry since 2017.', 'citation_metadata': {'lang': 'eng', 'offset': '0', 'len': '26', 'source': 'website', 'url': 'https://www.edmunds.com/electric-car/articles/how-do-electric-cars-work.html', 'title': 'How Do Electric Cars Work? An In-Depth Guide | Edmunds'}, 'factual_consistency_score': 0.51116955}, {'text': \"If you're looking for guidance, Edmunds is here to say: DON'T PANIC. The EV landscape really isn't that complicated if you have someone to talk you through it, and we're here for you. At the highest level, there are several types of electrified vehicles to be aware of: hybrid cars (HEVs), plug-in hybrids (PHEVs) and fully electric vehicles (EVs). Each of these vehicle types come with their own set of benefits and drawbacks. After you've decided which type of electrified vehicle you're interested in, you'll also want to know more about range, charging and what it's like to drive one.\", 'citation_metadata': {'lang': 'eng', 'offset': '1392', 'len': '164', 'source': 'website', 'url': 'https://www.edmunds.com/electric-car/articles/know-before-you-buy.html', 'title': 'EV 101: Know Before You Buy | Edmunds'}, 'factual_consistency_score': 0.5041388}, {'text': 'For more information about Google Translate™ visit: https://translate.google.com/about/intl/en_ALL/ . Please consult a translator for accuracy if you are relying on the translation or are using this site for official business. Select Language Spanish Powered by Translate English Toggle navigation Main navigation Search Vehicles Search Incentives Vehicle Types Battery-Electric Hydrogen Fuel Cell Plug-in Hybrid Hybrid Other Charging & Fueling Electric Car Charging Hydrogen Fueling Resources Facts and Guides Tools and Calculators FAQs For Dealers For Fleets Glossary Electric Car Overview Electric cars come in three main types with differing power systems designed to meet varying driving needs.They are: fuel cell, battery-electric, plug-in hybrid electric cars. Battery-Electric Cars Battery-Electric Cars Battery-electric cars are all electric and don’t use gasoline, and instead have a large battery that powers one or more electric motors. Currently, battery-electrics have a driving range of 80 to more than 300 miles, with ranges increasing as new models are introduced.', 'citation_metadata': {'lang': 'eng', 'offset': '952', 'len': '540', 'source': 'website', 'url': 'https://driveclean.ca.gov/electric-car-overview#main-content', 'title': 'Electric Car Overview | DriveClean'}, 'factual_consistency_score': 0.4977281}, {'text': 'NOx is a lung irritant. When combined with hydrocarbons and sunlight, NOx compounds form smog Plug-in electric vehicle or PEV – These cars can be recharged from any external source of electricity and the electricity is stored in a rechargeable battery pack to drive or contribute to driving the wheels. These types of cars include battery-electric vehicles and plug-in hybrid-electric vehicles PHEV – Plug-in hybrid-electric cars are similar to traditional hybrids but are also equipped with a larger, more advanced battery that allows the vehicle to be plugged in and recharged in addition to refueling with gasoline. This larger battery allows the car to drive on battery alone, gasoline alone or a combination of electric and gasoline fuels PM – Particulate matter. Tiny particles of solid matter that lodge in the lungs and form deposits on buildings.', 'citation_metadata': {'lang': 'eng', 'offset': '9648', 'len': '315', 'source': 'website', 'url': 'https://driveclean.ca.gov/glossary', 'title': 'Glossary of Terms | DriveClean'}, 'factual_consistency_score': 0.49546754}]\n",
      "========================\n",
      "\n"
     ]
    },
    {
     "data": {
      "text/markdown": [
       "There are four major types of electric or electrified vehicles:\n",
       "\n",
       "1. Battery Electric Vehicle (BEV): These vehicles are all-electric and do not use gasoline. They have a large battery that powers one or more electric motors. BEVs have a driving range of 80 to more than 300 miles.\n",
       "\n",
       "2. Hybrid Electric Vehicle (HEV): Hybrid cars have both an internal combustion engine and an electric motor. The electric motor assists the engine to improve fuel efficiency.\n",
       "\n",
       "3. Plug-in Hybrid Electric Vehicle (PHEV): PHEVs are similar to traditional hybrids but have a larger, more advanced battery that can be plugged in and recharged. This allows the vehicle to drive on battery alone, gasoline alone, or a combination of both.\n",
       "\n",
       "4. Fuel Cell Electric Vehicle (FCEV): FCEVs use hydrogen as fuel and produce electricity through a chemical reaction with oxygen in the air. They are considered zero-emission vehicles.\n",
       "\n",
       "Each type of electric vehicle has its own set of benefits and drawbacks. The choice of vehicle depends on individual preferences and driving needs.\n",
       "\n",
       "If you would like to know more about how electric cars work in detail, I can provide information on that as well."
      ],
      "text/plain": [
       "<IPython.core.display.Markdown object>"
      ]
     },
     "metadata": {},
     "output_type": "display_data"
    }
   ],
   "source": [
    "from IPython.display import Markdown, display\n",
    "\n",
    "response = agent.chat(\n",
    "    \"What are the different types of electric vehicles? How do they work?\"\n",
    ").response\n",
    "display(Markdown(response))"
   ]
  },
  {
   "cell_type": "code",
   "execution_count": null,
   "id": "1a736f3b-5ea6-4191-9781-1c4985086c5f",
   "metadata": {},
   "outputs": [
    {
     "name": "stdout",
     "output_type": "stream",
     "text": [
      "Added user message to memory: What are the pros and cons of Fuel Cell EVs? What are some popular models?\n",
      "=== Calling Function ===\n",
      "Calling function: rag_query with args: {\"query\":\"Pros and cons of Fuel Cell Electric Vehicles (FCEVs) and popular models\"}\n",
      "Got output: {'summary': 'Fuel Cell Electric Vehicles (FCEVs) like the Toyota Mirai and Hyundai Nexo offer advantages such as zero tailpipe emissions, quicker refueling with hydrogen compared to charging electric cars, and smaller battery requirements. However, FCEVs can be heavy due to bulky hydrogen tanks. Popular models include the Toyota Mirai, Hyundai Nexo, and Honda Clarity fuel cell for used markets. On the downside, FCEVs face challenges like weight due to tank size and limited infrastructure for hydrogen refueling [1].', 'citation_metadata': [NodeWithScore(node=TextNode(id_='https-www-edmunds-com-electric-car-articles-types-of-electric-cars-html', embedding=None, metadata={'lang': 'eng', 'offset': '8155', 'len': '230', 'source': 'website', 'url': 'https://www.edmunds.com/electric-car/articles/types-of-electric-cars.html', 'title': 'Types of Electric Cars | Edmunds'}, excluded_embed_metadata_keys=[], excluded_llm_metadata_keys=[], relationships={}, text=\"Currently, the only new FCEVs on sale are the Toyota Mirai and Hyundai Nexo. You can also find the Honda Clarity fuel cell on the used market. FCEV advantages and disadvantages The only emission from fuel cell vehicles is water, meaning there's no dangerous tailpipe pollution, and FCEVs' smaller batteries require fewer resources to  build than big electric car batteries. Refueling with hydrogen is also much quicker than charging an electric car, taking only a little longer than filling up with regular gasoline. Even though they have smaller batteries than BEVs, hydrogen cars are still pretty heavy due to the bulky reinforced tanks required to store the liquid hydrogen.\", mimetype='text/plain', start_char_idx=None, end_char_idx=None, text_template='{metadata_str}\\n\\n{content}', metadata_template='{key}: {value}', metadata_seperator='\\n'), score=0.93908167), NodeWithScore(node=TextNode(id_='https-www-edmunds-com-electric-car-articles-pros-cons-electric-cars-html', embedding=None, metadata={'lang': 'eng', 'offset': '0', 'len': '353', 'source': 'website', 'url': 'https://www.edmunds.com/electric-car/articles/pros-cons-electric-cars.html', 'title': 'Pros and Cons of Electric Vehicles | Edmunds'}, excluded_embed_metadata_keys=[], excluded_llm_metadata_keys=[], relationships={}, text='Pros and Cons of Electric Vehicles | Edmunds Pros and Cons of Electric Vehicles | Edmunds Skip to main content Popular searches Volvo S60 Silverado 1500 Car Appraiser Tool Honda CR-V Lease Deals New Car Pricing Used Cars for Sale Appraise My Car Car Reviews Pros and Cons of Electric Vehicles written by Jake Sundstrom Editor, CarMax Jake Sundstrom has worked in the automotive industry since 2017. He has written hundreds of car-related articles. Jake is currently an Editor for CarMax and has also contributed to National Hot Rod Association publications.', mimetype='text/plain', start_char_idx=None, end_char_idx=None, text_template='{metadata_str}\\n\\n{content}', metadata_template='{key}: {value}', metadata_seperator='\\n'), score=0.52676284), NodeWithScore(node=TextNode(id_='https-www-iea-org-reports-global-ev-outlook-2024-trends-in-electric-cars', embedding=None, metadata={'lang': 'eng', 'offset': '72532', 'len': '280', 'source': 'website', 'url': 'https://www.iea.org/reports/global-ev-outlook-2024/trends-in-electric-cars', 'title': 'Trends in electric cars – Global EV Outlook 2024 – Analysis - IEA'}, excluded_embed_metadata_keys=[], excluded_llm_metadata_keys=[], relationships={}, text='In this regard, advanced economies and EMDEs should strengthen co-operation to facilitate second-hand trade while ensuring adequate end-of-life strategies. For example, there could be incentives or allowances associated with extended vehicle lifetimes via use in second-hand markets internationally before recycling, as long as recycling in the destination market is guaranteed, or the EV battery is returned at end of life. References Throughout this report, unless otherwise specified, “electric cars” refers to both battery electric and plug-in hybrid cars, and “electric vehicles” (EVs) refers to battery electric (BEV) and plug-in hybrid (PHEV) vehicles, excluding fuel cell electric vehicles (FCEV). Unless otherwise specified, EVs include all modes of road transport. Throughout this report, unless otherwise specified, regional groupings refer to those described in the Annex.', mimetype='text/plain', start_char_idx=None, end_char_idx=None, text_template='{metadata_str}\\n\\n{content}', metadata_template='{key}: {value}', metadata_seperator='\\n'), score=0.5172697), NodeWithScore(node=TextNode(id_='https-www-edmunds-com-electric-car-articles-pros-cons-electric-cars-html', embedding=None, metadata={'lang': 'eng', 'offset': '615', 'len': '268', 'source': 'website', 'url': 'https://www.edmunds.com/electric-car/articles/pros-cons-electric-cars.html', 'title': 'Pros and Cons of Electric Vehicles | Edmunds'}, excluded_embed_metadata_keys=[], excluded_llm_metadata_keys=[], relationships={}, text='Jake is currently an Editor for CarMax and has also contributed to National Hot Rod Association publications. When he\\'s not driving cars, he\\'s eating takeout inside of them (probably burgers, burritos or pizza). 3/7/2023 (updated 8/4/2023 ) Share: The main \"pros\" of electric vehicles are that they cost less to refuel, accelerate instantly and promote better air quality, while the main \"cons\" are range anxiety, limited recharging infrastructure and a lack of affordable models. One thing is for certain, though: The future of automobiles is increasingly electric. California has pledged to end the sale of new gasoline-powered vehicles by 2035 and many other states look set to follow suit.', mimetype='text/plain', start_char_idx=None, end_char_idx=None, text_template='{metadata_str}\\n\\n{content}', metadata_template='{key}: {value}', metadata_seperator='\\n'), score=0.5146493), NodeWithScore(node=TextNode(id_='https-www-edmunds-com-electric-car-articles-types-of-electric-cars-html', embedding=None, metadata={'lang': 'eng', 'offset': '7530', 'len': '187', 'source': 'website', 'url': 'https://www.edmunds.com/electric-car/articles/types-of-electric-cars.html', 'title': 'Types of Electric Cars | Edmunds'}, excluded_embed_metadata_keys=[], excluded_llm_metadata_keys=[], relationships={}, text=\"To date, only the Fisker Karma and some versions of the BMW i3 are pure range-extended EVs. (The Chevrolet Volt was billed as a range-extended EV, but the gasoline engine can directly power the wheels in some circumstances.) Back to the top FCEV: Fuel cell electric vehicle Fuel cell vehicles are often referred to as hydrogen cars because they get their energy from liquid hydrogen stored in a pressurized tank. But FCEVs don't burn hydrogen in an internal combustion engine — instead, they use a chemical reaction to generate electricity while converting hydrogen into water. That electricity is sent directly to the car's electric motor, with some stored in a relatively small battery for reserve power.\", mimetype='text/plain', start_char_idx=None, end_char_idx=None, text_template='{metadata_str}\\n\\n{content}', metadata_template='{key}: {value}', metadata_seperator='\\n'), score=0.5086343)], 'factual_consistency_score': 0.93961954}\n",
      "========================\n",
      "\n"
     ]
    },
    {
     "data": {
      "text/markdown": [
       "Fuel Cell Electric Vehicles (FCEVs) like the Toyota Mirai and Hyundai Nexo offer several advantages, including:\n",
       "\n",
       "- Zero tailpipe emissions: FCEVs produce only water as a byproduct, making them environmentally friendly.\n",
       "- Quicker refueling with hydrogen: Refueling FCEVs with hydrogen is faster compared to charging electric cars.\n",
       "- Smaller battery requirements: FCEVs have smaller batteries than battery-electric vehicles, reducing the resources needed for battery production.\n",
       "\n",
       "However, FCEVs also have some drawbacks, such as:\n",
       "\n",
       "- Heavy weight: FCEVs can be heavy due to the bulky reinforced tanks required to store liquid hydrogen.\n",
       "- Limited infrastructure for hydrogen refueling: The availability of hydrogen refueling stations is still limited compared to electric charging stations.\n",
       "\n",
       "Popular models of Fuel Cell Electric Vehicles include the Toyota Mirai, Hyundai Nexo, and Honda Clarity fuel cell (for the used market).\n",
       "\n",
       "If you would like more detailed information or have any other questions, feel free to ask!"
      ],
      "text/plain": [
       "<IPython.core.display.Markdown object>"
      ]
     },
     "metadata": {},
     "output_type": "display_data"
    }
   ],
   "source": [
    "response = agent.chat(\n",
    "    \"What are the pros and cons of Fuel Cell EVs? What are some popular models?\"\n",
    ").response\n",
    "display(Markdown(response))"
   ]
  }
 ],
 "metadata": {
  "kernelspec": {
   "display_name": "Python 3 (ipykernel)",
   "language": "python",
   "name": "python3"
  },
  "language_info": {
   "codemirror_mode": {
    "name": "ipython",
    "version": 3
   },
   "file_extension": ".py",
   "mimetype": "text/x-python",
   "name": "python",
   "nbconvert_exporter": "python",
   "pygments_lexer": "ipython3"
  }
 },
 "nbformat": 4,
 "nbformat_minor": 5
}
