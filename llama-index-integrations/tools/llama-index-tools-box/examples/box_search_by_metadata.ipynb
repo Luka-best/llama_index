{
 "cells": [
  {
   "cell_type": "code",
   "execution_count": null,
   "metadata": {},
   "outputs": [],
   "source": [
    "# Setup Box Client\n",
    "from box_sdk_gen import DeveloperTokenConfig, BoxDeveloperTokenAuth, BoxClient\n",
    "\n",
    "BOX_DEV_TOKEN = \"your-box-dev-token\"\n",
    "\n",
    "config = DeveloperTokenConfig(BOX_DEV_TOKEN)\n",
    "auth = BoxDeveloperTokenAuth(config)\n",
    "box_client = BoxClient(auth)"
   ]
  },
  {
   "cell_type": "code",
   "execution_count": null,
   "metadata": {},
   "outputs": [],
   "source": [
    "# Set up OpenAI Client and Agent\n",
    "import openai\n",
    "\n",
    "openai.api_key = \"your_openai_api_key\"\n",
    "\n",
    "from llama_index.agent.openai import OpenAIAgent"
   ]
  },
  {
   "cell_type": "code",
   "execution_count": null,
   "metadata": {},
   "outputs": [],
   "source": [
    "from llama_index.tools.box import (\n",
    "    BoxSearchByMetadataToolSpec,\n",
    "    BoxSearchByMetadataOptions,\n",
    ")\n",
    "\n",
    "# Define your metadata search query\n",
    "# This must be done when instantiating the tool because the AI agent wont have a clue how to execute the search\n",
    "\n",
    "# Parameters\n",
    "from_ = \"enterprise_\" + \"your_box_enterprise_id\" + \".\" + \"your_metadata_template_key\"\n",
    "ancestor_folder_id = \"your_starting_folder_id\"\n",
    "query = \"documentType = :docType \"  # Your metadata query string\n",
    "query_params = {\"docType\": \"Invoice\"}  # Your metadata query parameters\n",
    "\n",
    "# Search options\n",
    "options = BoxSearchByMetadataOptions(\n",
    "    from_=from_,\n",
    "    ancestor_folder_id=ancestor_folder_id,\n",
    "    query=query,\n",
    "    query_params=query_params,\n",
    ")\n",
    "\n",
    "box_tool = BoxSearchByMetadataToolSpec(box_client=box_client, options=options)\n",
    "\n",
    "# Define the agent and execute the search\n",
    "agent = OpenAIAgent.from_tools(\n",
    "    box_tool.to_tool_list(),\n",
    "    verbose=True,\n",
    ")\n",
    "\n",
    "answer = agent.chat(\"search all documents\")\n",
    "print(answer)"
   ]
  },
  {
   "cell_type": "markdown",
   "metadata": {},
   "source": [
    "```\n",
    "I found the following documents:\n",
    "1. Document ID: 4d49085d-21a4-4835-8e08-a0819c9cfb02\n",
    "   - Name: Invoice-B1234.txt\n",
    "   - Size: 168 bytes\n",
    "   - Created By: RB Admin\n",
    "   - Created At: 2024-04-30 06:22:15\n",
    "   - Modified At: 2024-04-30 06:22:15\n",
    "\n",
    "2. Document ID: 31120f86-1bde-477d-b0e2-86c5d29c3ff8\n",
    "   - Name: Invoice-C9876.txt\n",
    "   - Size: 189 bytes\n",
    "   - Created By: RB Admin\n",
    "   - Created At: 2024-04-30 06:22:17\n",
    "   - Modified At: 2024-04-30 06:22:17\n",
    "\n",
    "3. Document ID: 93e5ef72-f9a7-4155-845a-52f1cc70cf6a\n",
    "   - Name: Invoice-Q2468.txt\n",
    "   - Size: 176 bytes\n",
    "   - Created By: RB Admin\n",
    "   - Created At: 2024-04-30 06:22:19\n",
    "   - Modified At: 2024-04-30 06:22:19\n",
    "\n",
    "These are the documents that were found in the search.\n",
    "```"
   ]
  }
 ],
 "metadata": {
  "kernelspec": {
   "display_name": "llama-index-readers-box-9HYYEbiN-py3.12",
   "language": "python",
   "name": "python3"
  },
  "language_info": {
   "name": "python"
  }
 },
 "nbformat": 4,
 "nbformat_minor": 2
}
