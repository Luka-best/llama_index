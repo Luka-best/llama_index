{
 "cells": [
  {
   "cell_type": "code",
   "execution_count": 2,
   "id": "f445c1d1-acb9-431e-a7ff-50c41f064359",
   "metadata": {},
   "outputs": [],
   "source": [
    "from utils import (\n",
    "    get_train_str,\n",
    "    get_train_and_eval_data,\n",
    "    get_eval_preds\n",
    ")"
   ]
  },
  {
   "cell_type": "code",
   "execution_count": 4,
   "id": "cf3cbd90-d5e1-4c30-a3bc-8b39fbd85d70",
   "metadata": {},
   "outputs": [],
   "source": [
    "# load up the titanic data\n",
    "train_df, train_labels, eval_df, eval_labels = get_train_and_eval_data('data/train.csv')"
   ]
  },
  {
   "cell_type": "markdown",
   "id": "fa2634f9-cb33-4f1e-81f9-3a3b285e2580",
   "metadata": {},
   "source": [
    "## Few-shot Prompting with GPT-3 for Titanic Dataset"
   ]
  },
  {
   "cell_type": "code",
   "execution_count": 5,
   "id": "4b39e2e7-be07-42f8-a27a-3419e84cfb2c",
   "metadata": {},
   "outputs": [
    {
     "name": "stdout",
     "output_type": "stream",
     "text": [
      "Getting preds: 0/20: 0.0\n",
      "Getting preds: 1/20: 0.5\n",
      "Getting preds: 2/20: 0.1\n",
      "Getting preds: 3/20: None\n",
      "Getting preds: 4/20: 0.425\n",
      "Getting preds: 5/20: 0.74\n",
      "Getting preds: 6/20: 0.125\n",
      "Getting preds: 7/20: 0.23\n",
      "Getting preds: 8/20: 0.5\n",
      "Getting preds: 9/20: None\n",
      "Getting preds: 10/20: 0.8\n",
      "Getting preds: 11/20: 0.0\n",
      "Getting preds: 12/20: 0.5\n",
      "Getting preds: 13/20: 0.0\n",
      "Getting preds: 14/20: 0.5\n",
      "Getting preds: 15/20: 0.7\n",
      "Getting preds: 16/20: 0.8\n",
      "Getting preds: 17/20: 0.125\n",
      "Getting preds: 18/20: 0.5\n",
      "Getting preds: 19/20: 0.5\n"
     ]
    }
   ],
   "source": [
    "# do few-shot learning \n",
    "train_n = 10\n",
    "eval_n = 20\n",
    "train_str = get_train_str(train_df, train_labels, train_n=train_n)\n",
    "eval_preds = get_eval_preds(train_str, eval_df, n=eval_n)"
   ]
  },
  {
   "cell_type": "code",
   "execution_count": 7,
   "id": "050a6b32-aee5-4ad6-a37f-97c18828e508",
   "metadata": {},
   "outputs": [
    {
     "name": "stderr",
     "output_type": "stream",
     "text": [
      "/var/folders/dv/596g_q_95pzbml1zkv6m66000000gn/T/ipykernel_63667/2200748940.py:5: FutureWarning: The behavior of `series[i:j]` with an integer-dtype index is deprecated. In a future version, this will be treated as *label-based* indexing, consistent with e.g. `series[i]` lookups. To retain the old behavior, use `series.iloc[i:j]`. To get the future behavior, use `series.loc[i:j]`.\n",
      "  eval_label_chunk = eval_labels[:eval_n]\n"
     ]
    },
    {
     "data": {
      "text/plain": [
       "0.6"
      ]
     },
     "execution_count": 7,
     "metadata": {},
     "output_type": "execute_result"
    }
   ],
   "source": [
    "# do evaluation\n",
    "from sklearn.metrics import accuracy_score\n",
    "import numpy as np\n",
    "\n",
    "eval_label_chunk = eval_labels[:eval_n]\n",
    "accuracy_score(eval_label_chunk, np.array(eval_preds).round())"
   ]
  },
  {
   "cell_type": "code",
   "execution_count": 7,
   "id": "ae5b6ef9-eae4-4aa4-bc14-f6724380fd56",
   "metadata": {},
   "outputs": [],
   "source": []
  },
  {
   "cell_type": "markdown",
   "id": "8f0a5e4b-e627-4b47-a807-939813596594",
   "metadata": {},
   "source": [
    "## Extending with GPT List Index"
   ]
  },
  {
   "cell_type": "code",
   "execution_count": 5,
   "id": "6c59b030-855d-4e27-89c3-74c972d1bf19",
   "metadata": {},
   "outputs": [],
   "source": [
    "from gpt_index import GPTListIndex\n",
    "from gpt_index.schema import Document"
   ]
  },
  {
   "cell_type": "code",
   "execution_count": null,
   "id": "8f9556de-e323-4318-bb71-cff75bf8c3c1",
   "metadata": {},
   "outputs": [],
   "source": [
    "index = GPTListIndex([])"
   ]
  },
  {
   "cell_type": "code",
   "execution_count": null,
   "id": "e27720fc-af36-40fd-8c55-41485248aa9f",
   "metadata": {},
   "outputs": [],
   "source": [
    "batch_size = 40\n",
    "for i in range(0, len(train_df), batch_size):\n",
    "    print(f\"{i}/{len(train_df)}\")\n",
    "    train_batch = train_df.iloc[i:i+batch_size]\n",
    "    labels_batch = train_labels.iloc[i:i+batch_size]\n",
    "    all_train_str = get_train_str(train_batch, labels_batch, train_n=batch_size)\n",
    "    index.insert(Document(all_train_str))"
   ]
  },
  {
   "cell_type": "code",
   "execution_count": null,
   "id": "9cb90564-1de2-412f-8318-d5280855004e",
   "metadata": {},
   "outputs": [],
   "source": []
  }
 ],
 "metadata": {
  "kernelspec": {
   "display_name": "gpt_retrieve_venv",
   "language": "python",
   "name": "gpt_retrieve_venv"
  },
  "language_info": {
   "codemirror_mode": {
    "name": "ipython",
    "version": 3
   },
   "file_extension": ".py",
   "mimetype": "text/x-python",
   "name": "python",
   "nbconvert_exporter": "python",
   "pygments_lexer": "ipython3",
   "version": "3.8.4"
  }
 },
 "nbformat": 4,
 "nbformat_minor": 5
}
