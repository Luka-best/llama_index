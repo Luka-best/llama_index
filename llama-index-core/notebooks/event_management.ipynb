{
 "cells": [
  {
   "cell_type": "code",
   "execution_count": null,
   "id": "0d716b26-57ce-48e8-bbb8-bc879fcc2b24",
   "metadata": {},
   "outputs": [
    {
     "name": "stdout",
     "output_type": "stream",
     "text": [
      "\n",
      "\u001b[1m[\u001b[0m\u001b[34;49mnotice\u001b[0m\u001b[1;39;49m]\u001b[0m\u001b[39;49m A new release of pip is available: \u001b[0m\u001b[31;49m23.3.2\u001b[0m\u001b[39;49m -> \u001b[0m\u001b[32;49m24.0\u001b[0m\n",
      "\u001b[1m[\u001b[0m\u001b[34;49mnotice\u001b[0m\u001b[1;39;49m]\u001b[0m\u001b[39;49m To update, run: \u001b[0m\u001b[32;49mpip install --upgrade pip\u001b[0m\n",
      "Note: you may need to restart the kernel to use updated packages.\n"
     ]
    }
   ],
   "source": [
    "%pip install llama-index-readers-file -q"
   ]
  },
  {
   "cell_type": "code",
   "execution_count": null,
   "id": "9692504e-51a2-4a58-86ae-5de5f5994966",
   "metadata": {},
   "outputs": [],
   "source": [
    "import nest_asyncio\n",
    "\n",
    "nest_asyncio.apply()"
   ]
  },
  {
   "cell_type": "markdown",
   "id": "3cb70687-c568-4991-b962-778b5edb3dbf",
   "metadata": {},
   "source": [
    "### Custom handlers"
   ]
  },
  {
   "cell_type": "code",
   "execution_count": null,
   "id": "8c4ec173-3dc9-49c6-b613-b4a9bf88871f",
   "metadata": {},
   "outputs": [],
   "source": [
    "from llama_index.core.instrumentation.event_handlers import BaseEventHandler\n",
    "from llama_index.core.instrumentation.span_handlers import SimpleSpanHandler"
   ]
  },
  {
   "cell_type": "code",
   "execution_count": null,
   "id": "d5e113aa-f507-4c4e-89a9-bfdc6dbf31ec",
   "metadata": {},
   "outputs": [],
   "source": [
    "class MyEventHandler(BaseEventHandler):\n",
    "    @classmethod\n",
    "    def class_name(cls) -> str:\n",
    "        \"\"\"Class name.\"\"\"\n",
    "        return \"MyEventHandler\"\n",
    "\n",
    "    def handle(self, event) -> None:\n",
    "        \"\"\"Logic for handling event.\"\"\"\n",
    "        print(event.class_name())\n",
    "        with open(\"log.txt\", \"a\") as f:\n",
    "            f.write(str(event))\n",
    "            f.write(\"\\n\")"
   ]
  },
  {
   "cell_type": "markdown",
   "id": "9ab6d442-6d40-4a19-ac9b-1253ba00028e",
   "metadata": {},
   "source": [
    "### Dispatcher\n"
   ]
  },
  {
   "cell_type": "code",
   "execution_count": null,
   "id": "d3138230-2014-4030-9076-59f9d06c0b8d",
   "metadata": {},
   "outputs": [],
   "source": [
    "import llama_index.core.instrumentation as instrument\n",
    "\n",
    "dispatcher = instrument.get_dispatcher()  # modify root dispatcher"
   ]
  },
  {
   "cell_type": "code",
   "execution_count": null,
   "id": "8d65a394-e390-486b-b261-e2f318c4b9e1",
   "metadata": {},
   "outputs": [],
   "source": [
    "dispatcher.add_event_handler(MyEventHandler())\n",
    "dispatcher.span_handler = SimpleSpanHandler()"
   ]
  },
  {
   "cell_type": "code",
   "execution_count": null,
   "id": "77910c6a-c634-499f-8519-cad98179742e",
   "metadata": {},
   "outputs": [
    {
     "data": {
      "text/plain": [
       "Dispatcher(name='root', event_handlers=[NullEventHandler(), MyEventHandler()], span_handler=SimpleSpanHandler(open_spans={}, current_span_id=None, completed_spans=[]), parent_name='', manager=None, root_name='root', propagate=False)"
      ]
     },
     "execution_count": null,
     "metadata": {},
     "output_type": "execute_result"
    }
   ],
   "source": [
    "dispatcher"
   ]
  },
  {
   "cell_type": "code",
   "execution_count": null,
   "id": "bb3b145f-77b0-49dd-af88-adcdc2363c83",
   "metadata": {},
   "outputs": [],
   "source": [
    "qe_dispatcher = instrument.get_dispatcher(\"llama_index.core.base.query_engine\")"
   ]
  },
  {
   "cell_type": "code",
   "execution_count": null,
   "id": "5d66abf7-dfd9-4bbc-95b2-25068a76ab81",
   "metadata": {},
   "outputs": [
    {
     "data": {
      "text/plain": [
       "Dispatcher(name='llama_index.core.base.query_engine', event_handlers=[], span_handler=NullSpanHandler(open_spans={}, current_span_id=None), parent_name='root', manager=<llama_index.core.instrumentation.dispatcher.Manager object at 0x137796830>, root_name='root', propagate=True)"
      ]
     },
     "execution_count": null,
     "metadata": {},
     "output_type": "execute_result"
    }
   ],
   "source": [
    "qe_dispatcher"
   ]
  },
  {
   "cell_type": "code",
   "execution_count": null,
   "id": "fe83cad8-5980-4250-9a75-36a12b9a2376",
   "metadata": {},
   "outputs": [
    {
     "data": {
      "text/plain": [
       "Dispatcher(name='root', event_handlers=[NullEventHandler(), MyEventHandler()], span_handler=SimpleSpanHandler(open_spans={}, current_span_id=None, completed_spans=[]), parent_name='', manager=None, root_name='root', propagate=False)"
      ]
     },
     "execution_count": null,
     "metadata": {},
     "output_type": "execute_result"
    }
   ],
   "source": [
    "qe_dispatcher.parent"
   ]
  },
  {
   "cell_type": "code",
   "execution_count": null,
   "id": "23cf980e-7f4c-4d49-a2e1-83fbeeac6ac2",
   "metadata": {},
   "outputs": [
    {
     "data": {
      "text/plain": [
       "Dispatcher(name='root', event_handlers=[NullEventHandler(), MyEventHandler()], span_handler=SimpleSpanHandler(open_spans={}, current_span_id=None, completed_spans=[]), parent_name='', manager=None, root_name='root', propagate=False)"
      ]
     },
     "execution_count": null,
     "metadata": {},
     "output_type": "execute_result"
    }
   ],
   "source": [
    "qe_dispatcher.root"
   ]
  },
  {
   "cell_type": "markdown",
   "id": "2ebcd2fa-84d7-459d-9d33-4d02f52c48df",
   "metadata": {},
   "source": [
    "### Test It Out"
   ]
  },
  {
   "cell_type": "code",
   "execution_count": null,
   "id": "f02f8dc5-18da-4e70-abed-614e0b98ce8c",
   "metadata": {},
   "outputs": [],
   "source": [
    "from llama_index.core import SimpleDirectoryReader, VectorStoreIndex\n",
    "\n",
    "documents = SimpleDirectoryReader(input_dir=\"./data\").load_data()\n",
    "index = VectorStoreIndex.from_documents(documents)"
   ]
  },
  {
   "cell_type": "code",
   "execution_count": null,
   "id": "a3de7479-e48e-42fd-8515-f04e1c314469",
   "metadata": {},
   "outputs": [],
   "source": [
    "query_engine = index.as_query_engine()"
   ]
  },
  {
   "cell_type": "code",
   "execution_count": null,
   "id": "5719b4d5-d50b-49bc-80ca-a1233817c64d",
   "metadata": {},
   "outputs": [
    {
     "name": "stdout",
     "output_type": "stream",
     "text": [
      "QueryStartEvent\n",
      "RetrievalStartEvent\n",
      "RetrievalEndEvent\n",
      "SynthesizeStartEvent\n",
      "GetResponseStartEvent\n",
      "LLMPredictStartEvent\n",
      "LLMPredictEndEvent\n",
      "GetResponseEndEvent\n",
      "SynthesizeEndEvent\n",
      "QueryEndEvent\n"
     ]
    }
   ],
   "source": [
    "query_result = query_engine.query(\"Who is Paul?\")"
   ]
  },
  {
   "cell_type": "code",
   "execution_count": null,
   "id": "6ac549a6-f10d-4b12-98b6-5352ab3c0df6",
   "metadata": {},
   "outputs": [
    {
     "data": {
      "text/plain": [
       "[SimpleSpan(id_='VectorIndexRetriever._retrieve-9a7ed109-2dfc-4f95-b40a-bd2a860bbebb', parent_id='BaseRetriever.retrieve-c7e5911f-8d8f-491f-8587-bd24328b314c', start_time=datetime.datetime(2024, 3, 7, 3, 7, 47, 114256), end_time=datetime.datetime(2024, 3, 7, 3, 7, 47, 259116), duration=0.14486),\n",
       " SimpleSpan(id_='BaseRetriever.retrieve-c7e5911f-8d8f-491f-8587-bd24328b314c', parent_id='RetrieverQueryEngine._query-516036eb-9a85-4aa3-a2da-6956db99cd53', start_time=datetime.datetime(2024, 3, 7, 3, 7, 47, 114017), end_time=datetime.datetime(2024, 3, 7, 3, 7, 47, 259339), duration=0.145322),\n",
       " SimpleSpan(id_='LLM.predict-30dbcb1a-85d5-4ac7-856a-2d0ab80dec94', parent_id='Refine.get_response-db0d21ba-a909-4cff-91d0-b5687f5a7525', start_time=datetime.datetime(2024, 3, 7, 3, 7, 47, 262980), end_time=datetime.datetime(2024, 3, 7, 3, 7, 48, 831717), duration=1.568737),\n",
       " SimpleSpan(id_='Refine.get_response-db0d21ba-a909-4cff-91d0-b5687f5a7525', parent_id='CompactAndRefine.get_response-c9d6cc90-cba5-44b9-b053-e49763222ae4', start_time=datetime.datetime(2024, 3, 7, 3, 7, 47, 261534), end_time=datetime.datetime(2024, 3, 7, 3, 7, 48, 832012), duration=1.570478),\n",
       " SimpleSpan(id_='CompactAndRefine.get_response-c9d6cc90-cba5-44b9-b053-e49763222ae4', parent_id='BaseSynthesizer.synthesize-74f37a74-a288-4ed5-8e3e-b8999970866a', start_time=datetime.datetime(2024, 3, 7, 3, 7, 47, 259479), end_time=datetime.datetime(2024, 3, 7, 3, 7, 48, 832030), duration=1.572551),\n",
       " SimpleSpan(id_='BaseSynthesizer.synthesize-74f37a74-a288-4ed5-8e3e-b8999970866a', parent_id='RetrieverQueryEngine._query-516036eb-9a85-4aa3-a2da-6956db99cd53', start_time=datetime.datetime(2024, 3, 7, 3, 7, 47, 259363), end_time=datetime.datetime(2024, 3, 7, 3, 7, 48, 832236), duration=1.572873),\n",
       " SimpleSpan(id_='RetrieverQueryEngine._query-516036eb-9a85-4aa3-a2da-6956db99cd53', parent_id='BaseQueryEngine.query-45040750-4cf2-4190-a772-41571ea6d82e', start_time=datetime.datetime(2024, 3, 7, 3, 7, 47, 113996), end_time=datetime.datetime(2024, 3, 7, 3, 7, 48, 832292), duration=1.718296),\n",
       " SimpleSpan(id_='BaseQueryEngine.query-45040750-4cf2-4190-a772-41571ea6d82e', parent_id=None, start_time=datetime.datetime(2024, 3, 7, 3, 7, 47, 113283), end_time=datetime.datetime(2024, 3, 7, 3, 7, 48, 832517), duration=1.719234)]"
      ]
     },
     "execution_count": null,
     "metadata": {},
     "output_type": "execute_result"
    }
   ],
   "source": [
    "dispatcher.span_handler.completed_spans"
   ]
  },
  {
   "cell_type": "code",
   "execution_count": null,
   "id": "23e70e94-e116-4e00-b75d-d13a3b1c23d8",
   "metadata": {},
   "outputs": [
    {
     "name": "stdout",
     "output_type": "stream",
     "text": [
      "QueryStartEvent\n",
      "RetrievalStartEvent\n",
      "RetrievalEndEvent\n",
      "SynthesizeStartEvent\n",
      "GetResponseStartEvent\n",
      "LLMPredictStartEvent\n",
      "LLMPredictEndEvent\n",
      "GetResponseEndEvent\n",
      "SynthesizeEndEvent\n",
      "QueryEndEvent\n"
     ]
    }
   ],
   "source": [
    "query_result = await query_engine.aquery(\"Who is Paul?\")"
   ]
  },
  {
   "cell_type": "code",
   "execution_count": null,
   "id": "286951aa-d121-4dfe-b6af-0562a708fdfb",
   "metadata": {},
   "outputs": [
    {
     "data": {
      "text/plain": [
       "[SimpleSpan(id_='VectorIndexRetriever._retrieve-9a7ed109-2dfc-4f95-b40a-bd2a860bbebb', parent_id='BaseRetriever.retrieve-c7e5911f-8d8f-491f-8587-bd24328b314c', start_time=datetime.datetime(2024, 3, 7, 3, 7, 47, 114256), end_time=datetime.datetime(2024, 3, 7, 3, 7, 47, 259116), duration=0.14486),\n",
       " SimpleSpan(id_='BaseRetriever.retrieve-c7e5911f-8d8f-491f-8587-bd24328b314c', parent_id='RetrieverQueryEngine._query-516036eb-9a85-4aa3-a2da-6956db99cd53', start_time=datetime.datetime(2024, 3, 7, 3, 7, 47, 114017), end_time=datetime.datetime(2024, 3, 7, 3, 7, 47, 259339), duration=0.145322),\n",
       " SimpleSpan(id_='LLM.predict-30dbcb1a-85d5-4ac7-856a-2d0ab80dec94', parent_id='Refine.get_response-db0d21ba-a909-4cff-91d0-b5687f5a7525', start_time=datetime.datetime(2024, 3, 7, 3, 7, 47, 262980), end_time=datetime.datetime(2024, 3, 7, 3, 7, 48, 831717), duration=1.568737),\n",
       " SimpleSpan(id_='Refine.get_response-db0d21ba-a909-4cff-91d0-b5687f5a7525', parent_id='CompactAndRefine.get_response-c9d6cc90-cba5-44b9-b053-e49763222ae4', start_time=datetime.datetime(2024, 3, 7, 3, 7, 47, 261534), end_time=datetime.datetime(2024, 3, 7, 3, 7, 48, 832012), duration=1.570478),\n",
       " SimpleSpan(id_='CompactAndRefine.get_response-c9d6cc90-cba5-44b9-b053-e49763222ae4', parent_id='BaseSynthesizer.synthesize-74f37a74-a288-4ed5-8e3e-b8999970866a', start_time=datetime.datetime(2024, 3, 7, 3, 7, 47, 259479), end_time=datetime.datetime(2024, 3, 7, 3, 7, 48, 832030), duration=1.572551),\n",
       " SimpleSpan(id_='BaseSynthesizer.synthesize-74f37a74-a288-4ed5-8e3e-b8999970866a', parent_id='RetrieverQueryEngine._query-516036eb-9a85-4aa3-a2da-6956db99cd53', start_time=datetime.datetime(2024, 3, 7, 3, 7, 47, 259363), end_time=datetime.datetime(2024, 3, 7, 3, 7, 48, 832236), duration=1.572873),\n",
       " SimpleSpan(id_='RetrieverQueryEngine._query-516036eb-9a85-4aa3-a2da-6956db99cd53', parent_id='BaseQueryEngine.query-45040750-4cf2-4190-a772-41571ea6d82e', start_time=datetime.datetime(2024, 3, 7, 3, 7, 47, 113996), end_time=datetime.datetime(2024, 3, 7, 3, 7, 48, 832292), duration=1.718296),\n",
       " SimpleSpan(id_='BaseQueryEngine.query-45040750-4cf2-4190-a772-41571ea6d82e', parent_id=None, start_time=datetime.datetime(2024, 3, 7, 3, 7, 47, 113283), end_time=datetime.datetime(2024, 3, 7, 3, 7, 48, 832517), duration=1.719234),\n",
       " SimpleSpan(id_='VectorIndexRetriever._aretrieve-3b030e68-bb79-4ffc-970c-5c9be6a94d96', parent_id='BaseRetriever.aretrieve-821c75a8-8b3b-42a3-83bd-0a5fe5ef9525', start_time=datetime.datetime(2024, 3, 7, 3, 7, 51, 907582), end_time=datetime.datetime(2024, 3, 7, 3, 7, 52, 100441), duration=0.192859),\n",
       " SimpleSpan(id_='BaseRetriever.aretrieve-821c75a8-8b3b-42a3-83bd-0a5fe5ef9525', parent_id='RetrieverQueryEngine._aquery-eb44b732-dcec-466e-8fc5-0e218d4f2aeb', start_time=datetime.datetime(2024, 3, 7, 3, 7, 51, 907320), end_time=datetime.datetime(2024, 3, 7, 3, 7, 52, 100914), duration=0.193594),\n",
       " SimpleSpan(id_='LLM.apredict-51902b25-7e98-4f47-9fe9-ec170b0ea40c', parent_id='Refine.aget_response-028a809b-7997-45ea-9c6e-4838de510b21', start_time=datetime.datetime(2024, 3, 7, 3, 7, 52, 108949), end_time=datetime.datetime(2024, 3, 7, 3, 7, 53, 772741), duration=1.663792),\n",
       " SimpleSpan(id_='Refine.aget_response-028a809b-7997-45ea-9c6e-4838de510b21', parent_id='CompactAndRefine.aget_response-b6714a29-8439-4464-9cde-c5b8ad6d6e07', start_time=datetime.datetime(2024, 3, 7, 3, 7, 52, 105468), end_time=datetime.datetime(2024, 3, 7, 3, 7, 53, 773008), duration=1.66754),\n",
       " SimpleSpan(id_='CompactAndRefine.aget_response-b6714a29-8439-4464-9cde-c5b8ad6d6e07', parent_id='BaseSynthesizer.asynthesize-09fe4ba8-98cf-4150-a9b3-e4c67910e47c', start_time=datetime.datetime(2024, 3, 7, 3, 7, 52, 101311), end_time=datetime.datetime(2024, 3, 7, 3, 7, 53, 773023), duration=1.671712),\n",
       " SimpleSpan(id_='BaseSynthesizer.asynthesize-09fe4ba8-98cf-4150-a9b3-e4c67910e47c', parent_id='RetrieverQueryEngine._aquery-eb44b732-dcec-466e-8fc5-0e218d4f2aeb', start_time=datetime.datetime(2024, 3, 7, 3, 7, 52, 100964), end_time=datetime.datetime(2024, 3, 7, 3, 7, 53, 773239), duration=1.672275),\n",
       " SimpleSpan(id_='RetrieverQueryEngine._aquery-eb44b732-dcec-466e-8fc5-0e218d4f2aeb', parent_id='BaseQueryEngine.aquery-2433b050-6418-46a0-a3e6-0747e9523c46', start_time=datetime.datetime(2024, 3, 7, 3, 7, 51, 907261), end_time=datetime.datetime(2024, 3, 7, 3, 7, 53, 773273), duration=1.866012),\n",
       " SimpleSpan(id_='BaseQueryEngine.aquery-2433b050-6418-46a0-a3e6-0747e9523c46', parent_id=None, start_time=datetime.datetime(2024, 3, 7, 3, 7, 51, 906455), end_time=datetime.datetime(2024, 3, 7, 3, 7, 53, 773447), duration=1.866992)]"
      ]
     },
     "execution_count": null,
     "metadata": {},
     "output_type": "execute_result"
    }
   ],
   "source": [
    "dispatcher.span_handler.completed_spans"
   ]
  },
  {
   "cell_type": "markdown",
   "id": "4bc1ef8f-caff-481b-b764-c12d1c32c6f0",
   "metadata": {},
   "source": [
    "### Very Primitive Tree Viz"
   ]
  },
  {
   "cell_type": "code",
   "execution_count": null,
   "id": "6e7a88eb-8ed3-482a-9a70-ce332b2f7e15",
   "metadata": {},
   "outputs": [
    {
     "name": "stdout",
     "output_type": "stream",
     "text": [
      "\n",
      "\u001b[1m[\u001b[0m\u001b[34;49mnotice\u001b[0m\u001b[1;39;49m]\u001b[0m\u001b[39;49m A new release of pip is available: \u001b[0m\u001b[31;49m23.3.2\u001b[0m\u001b[39;49m -> \u001b[0m\u001b[32;49m24.0\u001b[0m\n",
      "\u001b[1m[\u001b[0m\u001b[34;49mnotice\u001b[0m\u001b[1;39;49m]\u001b[0m\u001b[39;49m To update, run: \u001b[0m\u001b[32;49mpip install --upgrade pip\u001b[0m\n",
      "Note: you may need to restart the kernel to use updated packages.\n"
     ]
    }
   ],
   "source": [
    "%pip install treelib -q"
   ]
  },
  {
   "cell_type": "code",
   "execution_count": null,
   "id": "efd1c91d-4ef7-4d26-a569-6ef8d11fc043",
   "metadata": {},
   "outputs": [],
   "source": [
    "from treelib import Node, Tree\n",
    "\n",
    "tree = Tree()"
   ]
  },
  {
   "cell_type": "code",
   "execution_count": null,
   "id": "ec09a7a7-1e61-4842-8d73-27eab47b50e6",
   "metadata": {},
   "outputs": [],
   "source": [
    "for span in reversed(dispatcher.span_handler.completed_spans[:8]):\n",
    "    tree.create_node(\n",
    "        tag=f\"{span.id_} ({span.duration})\",\n",
    "        identifier=span.id_,\n",
    "        parent=span.parent_id,\n",
    "        data=span.duration,\n",
    "    )"
   ]
  },
  {
   "cell_type": "code",
   "execution_count": null,
   "id": "ef11d194-3ecd-45c9-8ad9-bc0c8ef8f6b2",
   "metadata": {},
   "outputs": [
    {
     "name": "stdout",
     "output_type": "stream",
     "text": [
      "BaseQueryEngine.query-45040750-4cf2-4190-a772-41571ea6d82e (1.719234)\n",
      "└── RetrieverQueryEngine._query-516036eb-9a85-4aa3-a2da-6956db99cd53 (1.718296)\n",
      "    ├── BaseRetriever.retrieve-c7e5911f-8d8f-491f-8587-bd24328b314c (0.145322)\n",
      "    │   └── VectorIndexRetriever._retrieve-9a7ed109-2dfc-4f95-b40a-bd2a860bbebb (0.14486)\n",
      "    └── BaseSynthesizer.synthesize-74f37a74-a288-4ed5-8e3e-b8999970866a (1.572873)\n",
      "        └── CompactAndRefine.get_response-c9d6cc90-cba5-44b9-b053-e49763222ae4 (1.572551)\n",
      "            └── Refine.get_response-db0d21ba-a909-4cff-91d0-b5687f5a7525 (1.570478)\n",
      "                └── LLM.predict-30dbcb1a-85d5-4ac7-856a-2d0ab80dec94 (1.568737)\n",
      "\n"
     ]
    }
   ],
   "source": [
    "print(tree.show(stdout=False))"
   ]
  }
 ],
 "metadata": {
  "kernelspec": {
   "display_name": "fork-llama-index-core",
   "language": "python",
   "name": "fork-llama-index-core"
  },
  "language_info": {
   "codemirror_mode": {
    "name": "ipython",
    "version": 3
   },
   "file_extension": ".py",
   "mimetype": "text/x-python",
   "name": "python",
   "nbconvert_exporter": "python",
   "pygments_lexer": "ipython3"
  }
 },
 "nbformat": 4,
 "nbformat_minor": 5
}
