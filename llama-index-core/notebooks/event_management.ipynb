{
 "cells": [
  {
   "cell_type": "code",
   "execution_count": null,
   "id": "0d716b26-57ce-48e8-bbb8-bc879fcc2b24",
   "metadata": {},
   "outputs": [
    {
     "name": "stdout",
     "output_type": "stream",
     "text": [
      "\n",
      "\u001b[1m[\u001b[0m\u001b[34;49mnotice\u001b[0m\u001b[1;39;49m]\u001b[0m\u001b[39;49m A new release of pip is available: \u001b[0m\u001b[31;49m23.3.2\u001b[0m\u001b[39;49m -> \u001b[0m\u001b[32;49m24.0\u001b[0m\n",
      "\u001b[1m[\u001b[0m\u001b[34;49mnotice\u001b[0m\u001b[1;39;49m]\u001b[0m\u001b[39;49m To update, run: \u001b[0m\u001b[32;49mpip install --upgrade pip\u001b[0m\n",
      "Note: you may need to restart the kernel to use updated packages.\n"
     ]
    }
   ],
   "source": [
    "%pip install llama-index-readers-file -q"
   ]
  },
  {
   "cell_type": "code",
   "execution_count": null,
   "id": "9692504e-51a2-4a58-86ae-5de5f5994966",
   "metadata": {},
   "outputs": [],
   "source": [
    "import nest_asyncio\n",
    "\n",
    "nest_asyncio.apply()"
   ]
  },
  {
   "cell_type": "markdown",
   "id": "3cb70687-c568-4991-b962-778b5edb3dbf",
   "metadata": {},
   "source": [
    "### Custom handlers"
   ]
  },
  {
   "cell_type": "code",
   "execution_count": null,
   "id": "8c4ec173-3dc9-49c6-b613-b4a9bf88871f",
   "metadata": {},
   "outputs": [],
   "source": [
    "from llama_index.core.instrumentation.event_handlers import BaseEventHandler\n",
    "from llama_index.core.instrumentation.span_handlers import SimpleSpanHandler"
   ]
  },
  {
   "cell_type": "code",
   "execution_count": null,
   "id": "d5e113aa-f507-4c4e-89a9-bfdc6dbf31ec",
   "metadata": {},
   "outputs": [],
   "source": [
    "class MyEventHandler(BaseEventHandler):\n",
    "    @classmethod\n",
    "    def class_name(cls) -> str:\n",
    "        \"\"\"Class name.\"\"\"\n",
    "        return \"MyEventHandler\"\n",
    "\n",
    "    def handle(self, event) -> None:\n",
    "        \"\"\"Logic for handling event.\"\"\"\n",
    "        print(event.class_name())\n",
    "        with open(\"log.txt\", \"a\") as f:\n",
    "            f.write(str(event))\n",
    "            f.write(\"\\n\")\n",
    "\n",
    "\n",
    "# class MyQueryEndEventHandler(BaseEventHandler):\n",
    "#     @classmethod\n",
    "#     def class_name(cls) -> str:\n",
    "#         \"\"\"Class name.\"\"\"\n",
    "#         return \"MyQueryEndEventHandler\"\n",
    "\n",
    "#     def handle(self, event) -> None:\n",
    "#         \"\"\"Logic for handling event.\"\"\"\n",
    "#         if isinstance(event, QueryEndEvent):\n",
    "#             print(self.class_name())\n",
    "#             with open(\"log.txt\", \"a\") as f:\n",
    "#                 f.write(str(event))\n",
    "#                 f.write(\"\\n\")"
   ]
  },
  {
   "cell_type": "markdown",
   "id": "9ab6d442-6d40-4a19-ac9b-1253ba00028e",
   "metadata": {},
   "source": [
    "### Dispatcher\n"
   ]
  },
  {
   "cell_type": "code",
   "execution_count": null,
   "id": "d3138230-2014-4030-9076-59f9d06c0b8d",
   "metadata": {},
   "outputs": [],
   "source": [
    "import llama_index.core.instrumentation as instrument\n",
    "\n",
    "dispatcher = instrument.get_dispatcher(\"app\")"
   ]
  },
  {
   "cell_type": "code",
   "execution_count": null,
   "id": "8d65a394-e390-486b-b261-e2f318c4b9e1",
   "metadata": {},
   "outputs": [],
   "source": [
    "dispatcher.add_event_handler(MyEventHandler())\n",
    "dispatcher.span_handler = SimpleSpanHandler()"
   ]
  },
  {
   "cell_type": "markdown",
   "id": "2ebcd2fa-84d7-459d-9d33-4d02f52c48df",
   "metadata": {},
   "source": [
    "### Test It Out"
   ]
  },
  {
   "cell_type": "code",
   "execution_count": null,
   "id": "f02f8dc5-18da-4e70-abed-614e0b98ce8c",
   "metadata": {},
   "outputs": [],
   "source": [
    "from llama_index.core import SimpleDirectoryReader, VectorStoreIndex\n",
    "\n",
    "documents = SimpleDirectoryReader(input_dir=\"./data\").load_data()\n",
    "index = VectorStoreIndex.from_documents(documents, dispatcher=dispatcher)"
   ]
  },
  {
   "cell_type": "code",
   "execution_count": null,
   "id": "b74d153e-6230-415f-8d39-0b3666fd9d94",
   "metadata": {},
   "outputs": [],
   "source": [
    "retriever = index.as_retriever()"
   ]
  },
  {
   "cell_type": "code",
   "execution_count": null,
   "id": "8321bf7f-453d-4cdf-9e41-b6a7ed8b8fc7",
   "metadata": {},
   "outputs": [
    {
     "data": {
      "text/plain": [
       "Dispatcher(name='app', event_handlers=[MyEventHandler()], span_handler=SimpleSpanHandler(open_spans={}, current_span_id=None, completed_spans=[]), parent=Dispatcher(name='root', event_handlers=[NullEventHandler()], span_handler=NullSpanHandler(open_spans={}, current_span_id=None), parent=None, propagate=False), propagate=True)"
      ]
     },
     "execution_count": null,
     "metadata": {},
     "output_type": "execute_result"
    }
   ],
   "source": [
    "retriever.dispatcher"
   ]
  },
  {
   "cell_type": "code",
   "execution_count": null,
   "id": "a3de7479-e48e-42fd-8515-f04e1c314469",
   "metadata": {},
   "outputs": [
    {
     "name": "stdout",
     "output_type": "stream",
     "text": [
      "retriever dispatcher: name='app' event_handlers=[MyEventHandler()] span_handler=SimpleSpanHandler(open_spans={}, current_span_id=None, completed_spans=[]) parent=Dispatcher(name='root', event_handlers=[NullEventHandler()], span_handler=NullSpanHandler(open_spans={}, current_span_id=None), parent=None, propagate=False) propagate=True\n"
     ]
    }
   ],
   "source": [
    "query_engine = index.as_query_engine()"
   ]
  },
  {
   "cell_type": "code",
   "execution_count": null,
   "id": "d3359eb5-8d5e-4443-92f7-e07f7db36dc9",
   "metadata": {},
   "outputs": [
    {
     "data": {
      "text/plain": [
       "Dispatcher(name='app', event_handlers=[MyEventHandler()], span_handler=SimpleSpanHandler(open_spans={}, current_span_id=None, completed_spans=[]), parent=Dispatcher(name='root', event_handlers=[NullEventHandler()], span_handler=NullSpanHandler(open_spans={}, current_span_id=None), parent=None, propagate=False), propagate=True)"
      ]
     },
     "execution_count": null,
     "metadata": {},
     "output_type": "execute_result"
    }
   ],
   "source": [
    "query_engine.dispatcher"
   ]
  },
  {
   "cell_type": "code",
   "execution_count": null,
   "id": "0ff888c9-b398-45d0-8e84-972c564145f9",
   "metadata": {},
   "outputs": [
    {
     "data": {
      "text/plain": [
       "Dispatcher(name='app', event_handlers=[MyEventHandler()], span_handler=SimpleSpanHandler(open_spans={}, current_span_id=None, completed_spans=[]), parent=Dispatcher(name='root', event_handlers=[NullEventHandler()], span_handler=NullSpanHandler(open_spans={}, current_span_id=None), parent=None, propagate=False), propagate=True)"
      ]
     },
     "execution_count": null,
     "metadata": {},
     "output_type": "execute_result"
    }
   ],
   "source": [
    "query_engine._response_synthesizer.dispatcher"
   ]
  },
  {
   "cell_type": "code",
   "execution_count": null,
   "id": "5719b4d5-d50b-49bc-80ca-a1233817c64d",
   "metadata": {},
   "outputs": [
    {
     "name": "stdout",
     "output_type": "stream",
     "text": [
      "QueryStartEvent\n",
      "RetrievalStartEvent\n",
      "RetrievalEndEvent\n",
      "QueryEndEvent\n"
     ]
    }
   ],
   "source": [
    "query_result = query_engine.query(\"Who is Paul?\")"
   ]
  },
  {
   "cell_type": "code",
   "execution_count": null,
   "id": "6ac549a6-f10d-4b12-98b6-5352ab3c0df6",
   "metadata": {},
   "outputs": [
    {
     "data": {
      "text/plain": [
       "[SimpleSpan(id_='retrieve-6cc1f7dd-dd63-47d5-88f4-93401ac4a806', parent_id='query-75e7b287-231b-44d0-bffd-02564dacf867', start_time=datetime.datetime(2024, 3, 4, 14, 23, 12, 66248), end_time=datetime.datetime(2024, 3, 4, 14, 23, 12, 249150), duration=0.182902),\n",
       " SimpleSpan(id_='get_response-897267ed-36fe-4890-a312-94ccccbecde5', parent_id='synthesize-a2c476ce-266c-4378-ade7-174fc2a9d218', start_time=datetime.datetime(2024, 3, 4, 14, 23, 12, 249292), end_time=datetime.datetime(2024, 3, 4, 14, 23, 13, 275620), duration=1.026328),\n",
       " SimpleSpan(id_='synthesize-a2c476ce-266c-4378-ade7-174fc2a9d218', parent_id='query-75e7b287-231b-44d0-bffd-02564dacf867', start_time=datetime.datetime(2024, 3, 4, 14, 23, 12, 249212), end_time=datetime.datetime(2024, 3, 4, 14, 23, 13, 275685), duration=1.026473),\n",
       " SimpleSpan(id_='query-75e7b287-231b-44d0-bffd-02564dacf867', parent_id=None, start_time=datetime.datetime(2024, 3, 4, 14, 23, 12, 63844), end_time=datetime.datetime(2024, 3, 4, 14, 23, 13, 276340), duration=1.212496)]"
      ]
     },
     "execution_count": null,
     "metadata": {},
     "output_type": "execute_result"
    }
   ],
   "source": [
    "query_engine.dispatcher.span_handler.completed_spans"
   ]
  },
  {
   "cell_type": "code",
   "execution_count": null,
   "id": "23e70e94-e116-4e00-b75d-d13a3b1c23d8",
   "metadata": {},
   "outputs": [
    {
     "name": "stdout",
     "output_type": "stream",
     "text": [
      "QueryStartEvent\n",
      "RetrievalStartEvent\n",
      "RetrievalEndEvent\n",
      "QueryEndEvent\n"
     ]
    }
   ],
   "source": [
    "query_result = await query_engine.aquery(\"Who is Paul?\")"
   ]
  },
  {
   "cell_type": "code",
   "execution_count": null,
   "id": "286951aa-d121-4dfe-b6af-0562a708fdfb",
   "metadata": {},
   "outputs": [
    {
     "data": {
      "text/plain": [
       "[SimpleSpan(id_='retrieve-6cc1f7dd-dd63-47d5-88f4-93401ac4a806', parent_id='query-75e7b287-231b-44d0-bffd-02564dacf867', start_time=datetime.datetime(2024, 3, 4, 14, 23, 12, 66248), end_time=datetime.datetime(2024, 3, 4, 14, 23, 12, 249150), duration=0.182902),\n",
       " SimpleSpan(id_='get_response-897267ed-36fe-4890-a312-94ccccbecde5', parent_id='synthesize-a2c476ce-266c-4378-ade7-174fc2a9d218', start_time=datetime.datetime(2024, 3, 4, 14, 23, 12, 249292), end_time=datetime.datetime(2024, 3, 4, 14, 23, 13, 275620), duration=1.026328),\n",
       " SimpleSpan(id_='synthesize-a2c476ce-266c-4378-ade7-174fc2a9d218', parent_id='query-75e7b287-231b-44d0-bffd-02564dacf867', start_time=datetime.datetime(2024, 3, 4, 14, 23, 12, 249212), end_time=datetime.datetime(2024, 3, 4, 14, 23, 13, 275685), duration=1.026473),\n",
       " SimpleSpan(id_='query-75e7b287-231b-44d0-bffd-02564dacf867', parent_id=None, start_time=datetime.datetime(2024, 3, 4, 14, 23, 12, 63844), end_time=datetime.datetime(2024, 3, 4, 14, 23, 13, 276340), duration=1.212496),\n",
       " SimpleSpan(id_='aretrieve-3f20f648-88d0-4be8-8a5a-1698aefdf6ac', parent_id='aquery-5616db78-c849-4cd8-b521-d3f77022066c', start_time=datetime.datetime(2024, 3, 4, 14, 23, 22, 767871), end_time=datetime.datetime(2024, 3, 4, 14, 23, 23, 24868), duration=0.256997),\n",
       " SimpleSpan(id_='aget_response-0131649e-b7ed-4f98-9bfd-678e8b8c8535', parent_id='asynthesize-1c577427-f4ed-4547-a2a1-62af452c23b6', start_time=datetime.datetime(2024, 3, 4, 14, 23, 23, 25034), end_time=datetime.datetime(2024, 3, 4, 14, 23, 25, 358128), duration=2.333094),\n",
       " SimpleSpan(id_='asynthesize-1c577427-f4ed-4547-a2a1-62af452c23b6', parent_id='aquery-5616db78-c849-4cd8-b521-d3f77022066c', start_time=datetime.datetime(2024, 3, 4, 14, 23, 23, 24940), end_time=datetime.datetime(2024, 3, 4, 14, 23, 25, 358190), duration=2.33325),\n",
       " SimpleSpan(id_='aquery-5616db78-c849-4cd8-b521-d3f77022066c', parent_id=None, start_time=datetime.datetime(2024, 3, 4, 14, 23, 22, 767148), end_time=datetime.datetime(2024, 3, 4, 14, 23, 25, 358811), duration=2.591663)]"
      ]
     },
     "execution_count": null,
     "metadata": {},
     "output_type": "execute_result"
    }
   ],
   "source": [
    "query_engine.dispatcher.span_handler.completed_spans"
   ]
  }
 ],
 "metadata": {
  "kernelspec": {
   "display_name": "fork-llama-index-core",
   "language": "python",
   "name": "fork-llama-index-core"
  },
  "language_info": {
   "codemirror_mode": {
    "name": "ipython",
    "version": 3
   },
   "file_extension": ".py",
   "mimetype": "text/x-python",
   "name": "python",
   "nbconvert_exporter": "python",
   "pygments_lexer": "ipython3"
  }
 },
 "nbformat": 4,
 "nbformat_minor": 5
}
