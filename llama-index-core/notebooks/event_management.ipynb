{
 "cells": [
  {
   "cell_type": "code",
   "execution_count": null,
   "id": "0d716b26-57ce-48e8-bbb8-bc879fcc2b24",
   "metadata": {},
   "outputs": [
    {
     "name": "stdout",
     "output_type": "stream",
     "text": [
      "\n",
      "\u001b[1m[\u001b[0m\u001b[34;49mnotice\u001b[0m\u001b[1;39;49m]\u001b[0m\u001b[39;49m A new release of pip is available: \u001b[0m\u001b[31;49m23.3.2\u001b[0m\u001b[39;49m -> \u001b[0m\u001b[32;49m24.0\u001b[0m\n",
      "\u001b[1m[\u001b[0m\u001b[34;49mnotice\u001b[0m\u001b[1;39;49m]\u001b[0m\u001b[39;49m To update, run: \u001b[0m\u001b[32;49mpip install --upgrade pip\u001b[0m\n",
      "Note: you may need to restart the kernel to use updated packages.\n"
     ]
    }
   ],
   "source": [
    "%pip install llama-index-readers-file -q"
   ]
  },
  {
   "cell_type": "code",
   "execution_count": null,
   "id": "9692504e-51a2-4a58-86ae-5de5f5994966",
   "metadata": {},
   "outputs": [],
   "source": [
    "import nest_asyncio\n",
    "\n",
    "nest_asyncio.apply()"
   ]
  },
  {
   "cell_type": "markdown",
   "id": "3cb70687-c568-4991-b962-778b5edb3dbf",
   "metadata": {},
   "source": [
    "### Custom handlers"
   ]
  },
  {
   "cell_type": "code",
   "execution_count": null,
   "id": "8c4ec173-3dc9-49c6-b613-b4a9bf88871f",
   "metadata": {},
   "outputs": [],
   "source": [
    "from llama_index.core.instrumentation.event_handlers import BaseEventHandler\n",
    "from llama_index.core.instrumentation.span_handlers import SimpleSpanHandler"
   ]
  },
  {
   "cell_type": "code",
   "execution_count": null,
   "id": "d5e113aa-f507-4c4e-89a9-bfdc6dbf31ec",
   "metadata": {},
   "outputs": [],
   "source": [
    "class MyEventHandler(BaseEventHandler):\n",
    "    @classmethod\n",
    "    def class_name(cls) -> str:\n",
    "        \"\"\"Class name.\"\"\"\n",
    "        return \"MyEventHandler\"\n",
    "\n",
    "    def handle(self, event) -> None:\n",
    "        \"\"\"Logic for handling event.\"\"\"\n",
    "        print(event.class_name())\n",
    "        with open(\"log.txt\", \"a\") as f:\n",
    "            f.write(str(event))\n",
    "            f.write(\"\\n\")\n",
    "\n",
    "\n",
    "# class MyQueryEndEventHandler(BaseEventHandler):\n",
    "#     @classmethod\n",
    "#     def class_name(cls) -> str:\n",
    "#         \"\"\"Class name.\"\"\"\n",
    "#         return \"MyQueryEndEventHandler\"\n",
    "\n",
    "#     def handle(self, event) -> None:\n",
    "#         \"\"\"Logic for handling event.\"\"\"\n",
    "#         if isinstance(event, QueryEndEvent):\n",
    "#             print(self.class_name())\n",
    "#             with open(\"log.txt\", \"a\") as f:\n",
    "#                 f.write(str(event))\n",
    "#                 f.write(\"\\n\")"
   ]
  },
  {
   "cell_type": "markdown",
   "id": "9ab6d442-6d40-4a19-ac9b-1253ba00028e",
   "metadata": {},
   "source": [
    "### Dispatcher\n"
   ]
  },
  {
   "cell_type": "code",
   "execution_count": null,
   "id": "d3138230-2014-4030-9076-59f9d06c0b8d",
   "metadata": {},
   "outputs": [],
   "source": [
    "import llama_index.core.instrumentation as instrument\n",
    "\n",
    "dispatcher = instrument.get_dispatcher()  # modify root dispatcher"
   ]
  },
  {
   "cell_type": "code",
   "execution_count": null,
   "id": "8d65a394-e390-486b-b261-e2f318c4b9e1",
   "metadata": {},
   "outputs": [],
   "source": [
    "dispatcher.add_event_handler(MyEventHandler())\n",
    "dispatcher.span_handler = SimpleSpanHandler()"
   ]
  },
  {
   "cell_type": "code",
   "execution_count": null,
   "id": "77910c6a-c634-499f-8519-cad98179742e",
   "metadata": {},
   "outputs": [
    {
     "data": {
      "text/plain": [
       "Dispatcher(name='root', event_handlers=[NullEventHandler(), MyEventHandler()], span_handler=SimpleSpanHandler(open_spans={}, current_span_id=None, completed_spans=[]), parent_name='', manager=None, root_name='root', propagate=False)"
      ]
     },
     "execution_count": null,
     "metadata": {},
     "output_type": "execute_result"
    }
   ],
   "source": [
    "dispatcher"
   ]
  },
  {
   "cell_type": "code",
   "execution_count": null,
   "id": "bb3b145f-77b0-49dd-af88-adcdc2363c83",
   "metadata": {},
   "outputs": [],
   "source": [
    "qe_dispatcher = instrument.get_dispatcher(\"llama_index.core.base.query_engine\")"
   ]
  },
  {
   "cell_type": "code",
   "execution_count": null,
   "id": "5d66abf7-dfd9-4bbc-95b2-25068a76ab81",
   "metadata": {},
   "outputs": [
    {
     "data": {
      "text/plain": [
       "Dispatcher(name='llama_index.core.base.query_engine', event_handlers=[], span_handler=NullSpanHandler(open_spans={}, current_span_id=None), parent_name='root', manager=<llama_index.core.instrumentation.dispatcher.Manager object at 0x118542ec0>, root_name='root', propagate=True)"
      ]
     },
     "execution_count": null,
     "metadata": {},
     "output_type": "execute_result"
    }
   ],
   "source": [
    "qe_dispatcher"
   ]
  },
  {
   "cell_type": "code",
   "execution_count": null,
   "id": "fe83cad8-5980-4250-9a75-36a12b9a2376",
   "metadata": {},
   "outputs": [
    {
     "data": {
      "text/plain": [
       "Dispatcher(name='root', event_handlers=[NullEventHandler(), MyEventHandler()], span_handler=SimpleSpanHandler(open_spans={}, current_span_id=None, completed_spans=[]), parent_name='', manager=None, root_name='root', propagate=False)"
      ]
     },
     "execution_count": null,
     "metadata": {},
     "output_type": "execute_result"
    }
   ],
   "source": [
    "qe_dispatcher.parent"
   ]
  },
  {
   "cell_type": "code",
   "execution_count": null,
   "id": "23cf980e-7f4c-4d49-a2e1-83fbeeac6ac2",
   "metadata": {},
   "outputs": [
    {
     "data": {
      "text/plain": [
       "Dispatcher(name='root', event_handlers=[NullEventHandler(), MyEventHandler()], span_handler=SimpleSpanHandler(open_spans={}, current_span_id=None, completed_spans=[]), parent_name='', manager=None, root_name='root', propagate=False)"
      ]
     },
     "execution_count": null,
     "metadata": {},
     "output_type": "execute_result"
    }
   ],
   "source": [
    "qe_dispatcher.root"
   ]
  },
  {
   "cell_type": "markdown",
   "id": "2ebcd2fa-84d7-459d-9d33-4d02f52c48df",
   "metadata": {},
   "source": [
    "### Test It Out"
   ]
  },
  {
   "cell_type": "code",
   "execution_count": null,
   "id": "f02f8dc5-18da-4e70-abed-614e0b98ce8c",
   "metadata": {},
   "outputs": [],
   "source": [
    "from llama_index.core import SimpleDirectoryReader, VectorStoreIndex\n",
    "\n",
    "documents = SimpleDirectoryReader(input_dir=\"./data\").load_data()\n",
    "index = VectorStoreIndex.from_documents(documents)"
   ]
  },
  {
   "cell_type": "code",
   "execution_count": null,
   "id": "a3de7479-e48e-42fd-8515-f04e1c314469",
   "metadata": {},
   "outputs": [],
   "source": [
    "query_engine = index.as_query_engine()"
   ]
  },
  {
   "cell_type": "code",
   "execution_count": null,
   "id": "5719b4d5-d50b-49bc-80ca-a1233817c64d",
   "metadata": {},
   "outputs": [
    {
     "name": "stdout",
     "output_type": "stream",
     "text": [
      "RetrievalStartEvent\n",
      "RetrievalEndEvent\n",
      "SynthesizeStartEvent\n",
      "GetResponseStartEvent\n",
      "LLMPredictStartEvent\n",
      "LLMPredictEndEvent\n",
      "GetResponseEndEvent\n",
      "SynthesizeEndEvent\n"
     ]
    }
   ],
   "source": [
    "query_result = query_engine.query(\"Who is Paul?\")"
   ]
  },
  {
   "cell_type": "code",
   "execution_count": null,
   "id": "6ac549a6-f10d-4b12-98b6-5352ab3c0df6",
   "metadata": {},
   "outputs": [
    {
     "data": {
      "text/plain": [
       "[SimpleSpan(id_='BaseRetriever.retrieve-85a56b6e-936e-4469-828d-182b4bcb759c', parent_id=None, start_time=datetime.datetime(2024, 3, 6, 11, 14, 54, 420305), end_time=datetime.datetime(2024, 3, 6, 11, 14, 54, 557290), duration=0.136985),\n",
       " SimpleSpan(id_='LLM.predict-ad3d8669-03fe-4eef-b43b-dbba0a7dd6f2', parent_id='Refine.get_response-43eb56e9-1de8-4506-ab35-f618241557c3', start_time=datetime.datetime(2024, 3, 6, 11, 14, 54, 561170), end_time=datetime.datetime(2024, 3, 6, 11, 14, 56, 71075), duration=1.509905),\n",
       " SimpleSpan(id_='Refine.get_response-43eb56e9-1de8-4506-ab35-f618241557c3', parent_id='CompactAndRefine.get_response-b7749ea7-084d-4b14-91ae-f55fb55eea88', start_time=datetime.datetime(2024, 3, 6, 11, 14, 54, 559704), end_time=datetime.datetime(2024, 3, 6, 11, 14, 56, 71339), duration=1.511635),\n",
       " SimpleSpan(id_='CompactAndRefine.get_response-b7749ea7-084d-4b14-91ae-f55fb55eea88', parent_id='BaseSynthesizer.synthesize-a20edc50-74a1-4454-b8de-09fd1aff6759', start_time=datetime.datetime(2024, 3, 6, 11, 14, 54, 557700), end_time=datetime.datetime(2024, 3, 6, 11, 14, 56, 71354), duration=1.513654),\n",
       " SimpleSpan(id_='BaseSynthesizer.synthesize-a20edc50-74a1-4454-b8de-09fd1aff6759', parent_id=None, start_time=datetime.datetime(2024, 3, 6, 11, 14, 54, 557323), end_time=datetime.datetime(2024, 3, 6, 11, 14, 56, 71524), duration=1.514201)]"
      ]
     },
     "execution_count": null,
     "metadata": {},
     "output_type": "execute_result"
    }
   ],
   "source": [
    "dispatcher.span_handler.completed_spans"
   ]
  },
  {
   "cell_type": "code",
   "execution_count": null,
   "id": "23e70e94-e116-4e00-b75d-d13a3b1c23d8",
   "metadata": {},
   "outputs": [
    {
     "name": "stdout",
     "output_type": "stream",
     "text": [
      "QueryStartEvent\n",
      "RetrievalStartEvent\n",
      "RetrievalEndEvent\n",
      "SynthesizeStartEvent\n",
      "GetResponseStartEvent\n",
      "LLMPredictStartEvent\n",
      "LLMPredictEndEvent\n",
      "GetResponseEndEvent\n",
      "SynthesizeEndEvent\n",
      "QueryEndEvent\n"
     ]
    }
   ],
   "source": [
    "query_result = await query_engine.aquery(\"Who is Paul?\")"
   ]
  },
  {
   "cell_type": "code",
   "execution_count": null,
   "id": "286951aa-d121-4dfe-b6af-0562a708fdfb",
   "metadata": {},
   "outputs": [
    {
     "data": {
      "text/plain": [
       "[SimpleSpan(id_='BaseRetriever.retrieve-b7162490-df65-4889-b7ff-e30486aa2d47', parent_id='BaseQueryEngine.query-ec37c135-a604-431c-93b0-ac59e04b08f2', start_time=datetime.datetime(2024, 3, 5, 15, 8, 24, 783652), end_time=datetime.datetime(2024, 3, 5, 15, 8, 25, 94676), duration=0.311024),\n",
       " SimpleSpan(id_='LLM.predict-907308ff-eb95-4ab3-b501-e52acdc8cdb7', parent_id='Refine.get_response-fbf03458-b07c-4695-b819-18ddf9d04049', start_time=datetime.datetime(2024, 3, 5, 15, 8, 25, 103614), end_time=datetime.datetime(2024, 3, 5, 15, 8, 26, 630280), duration=1.526666),\n",
       " SimpleSpan(id_='Refine.get_response-fbf03458-b07c-4695-b819-18ddf9d04049', parent_id='CompactAndRefine.get_response-98c996cc-7fde-4b33-9626-97ab049e6354', start_time=datetime.datetime(2024, 3, 5, 15, 8, 25, 99861), end_time=datetime.datetime(2024, 3, 5, 15, 8, 26, 630540), duration=1.530679),\n",
       " SimpleSpan(id_='CompactAndRefine.get_response-98c996cc-7fde-4b33-9626-97ab049e6354', parent_id='BaseSynthesizer.synthesize-625a8f49-0d4e-4a99-8839-934a22b86df5', start_time=datetime.datetime(2024, 3, 5, 15, 8, 25, 95385), end_time=datetime.datetime(2024, 3, 5, 15, 8, 26, 630556), duration=1.535171),\n",
       " SimpleSpan(id_='BaseSynthesizer.synthesize-625a8f49-0d4e-4a99-8839-934a22b86df5', parent_id='BaseQueryEngine.query-ec37c135-a604-431c-93b0-ac59e04b08f2', start_time=datetime.datetime(2024, 3, 5, 15, 8, 25, 94773), end_time=datetime.datetime(2024, 3, 5, 15, 8, 26, 630738), duration=1.535965),\n",
       " SimpleSpan(id_='BaseQueryEngine.query-ec37c135-a604-431c-93b0-ac59e04b08f2', parent_id=None, start_time=datetime.datetime(2024, 3, 5, 15, 8, 24, 782943), end_time=datetime.datetime(2024, 3, 5, 15, 8, 26, 630896), duration=1.847953),\n",
       " SimpleSpan(id_='BaseRetriever.aretrieve-9ac02f4a-aef0-495e-9909-70c7b2465c4a', parent_id='BaseQueryEngine.aquery-32b21545-9251-46f1-9fac-b9fa07326ce1', start_time=datetime.datetime(2024, 3, 5, 15, 8, 28, 145229), end_time=datetime.datetime(2024, 3, 5, 15, 8, 28, 375647), duration=0.230418),\n",
       " SimpleSpan(id_='LLM.apredict-c68c5e09-a4bc-4614-a3fc-6d62f2fe32a5', parent_id='Refine.aget_response-0d1615ba-5149-4405-b203-b482fb5316d3', start_time=datetime.datetime(2024, 3, 5, 15, 8, 28, 383551), end_time=datetime.datetime(2024, 3, 5, 15, 8, 29, 800368), duration=1.416817),\n",
       " SimpleSpan(id_='Refine.aget_response-0d1615ba-5149-4405-b203-b482fb5316d3', parent_id='CompactAndRefine.aget_response-b8a659a0-894d-4b68-b555-14cb2f3bf2d0', start_time=datetime.datetime(2024, 3, 5, 15, 8, 28, 380102), end_time=datetime.datetime(2024, 3, 5, 15, 8, 29, 800654), duration=1.420552),\n",
       " SimpleSpan(id_='CompactAndRefine.aget_response-b8a659a0-894d-4b68-b555-14cb2f3bf2d0', parent_id='BaseSynthesizer.asynthesize-a0b43fe8-0d6a-427d-9d92-a4a4d6db3e54', start_time=datetime.datetime(2024, 3, 5, 15, 8, 28, 376009), end_time=datetime.datetime(2024, 3, 5, 15, 8, 29, 800669), duration=1.42466),\n",
       " SimpleSpan(id_='BaseSynthesizer.asynthesize-a0b43fe8-0d6a-427d-9d92-a4a4d6db3e54', parent_id='BaseQueryEngine.aquery-32b21545-9251-46f1-9fac-b9fa07326ce1', start_time=datetime.datetime(2024, 3, 5, 15, 8, 28, 375719), end_time=datetime.datetime(2024, 3, 5, 15, 8, 29, 800867), duration=1.425148),\n",
       " SimpleSpan(id_='BaseQueryEngine.aquery-32b21545-9251-46f1-9fac-b9fa07326ce1', parent_id=None, start_time=datetime.datetime(2024, 3, 5, 15, 8, 28, 144088), end_time=datetime.datetime(2024, 3, 5, 15, 8, 29, 801056), duration=1.656968)]"
      ]
     },
     "execution_count": null,
     "metadata": {},
     "output_type": "execute_result"
    }
   ],
   "source": [
    "dispatcher.span_handler.completed_spans"
   ]
  },
  {
   "cell_type": "markdown",
   "id": "4bc1ef8f-caff-481b-b764-c12d1c32c6f0",
   "metadata": {},
   "source": [
    "### Very Primitive Tree Viz"
   ]
  },
  {
   "cell_type": "code",
   "execution_count": null,
   "id": "6e7a88eb-8ed3-482a-9a70-ce332b2f7e15",
   "metadata": {},
   "outputs": [
    {
     "name": "stdout",
     "output_type": "stream",
     "text": [
      "\n",
      "\u001b[1m[\u001b[0m\u001b[34;49mnotice\u001b[0m\u001b[1;39;49m]\u001b[0m\u001b[39;49m A new release of pip is available: \u001b[0m\u001b[31;49m23.3.2\u001b[0m\u001b[39;49m -> \u001b[0m\u001b[32;49m24.0\u001b[0m\n",
      "\u001b[1m[\u001b[0m\u001b[34;49mnotice\u001b[0m\u001b[1;39;49m]\u001b[0m\u001b[39;49m To update, run: \u001b[0m\u001b[32;49mpip install --upgrade pip\u001b[0m\n",
      "Note: you may need to restart the kernel to use updated packages.\n"
     ]
    }
   ],
   "source": [
    "%pip install treelib -q"
   ]
  },
  {
   "cell_type": "code",
   "execution_count": null,
   "id": "efd1c91d-4ef7-4d26-a569-6ef8d11fc043",
   "metadata": {},
   "outputs": [],
   "source": [
    "from treelib import Node, Tree\n",
    "\n",
    "tree = Tree()"
   ]
  },
  {
   "cell_type": "code",
   "execution_count": null,
   "id": "ec09a7a7-1e61-4842-8d73-27eab47b50e6",
   "metadata": {},
   "outputs": [],
   "source": [
    "for span in reversed(dispatcher.span_handler.completed_spans[:6]):\n",
    "    tree.create_node(\n",
    "        tag=f\"{span.id_} ({span.duration})\",\n",
    "        identifier=span.id_,\n",
    "        parent=span.parent_id,\n",
    "        data=span.duration,\n",
    "    )"
   ]
  },
  {
   "cell_type": "code",
   "execution_count": null,
   "id": "ef11d194-3ecd-45c9-8ad9-bc0c8ef8f6b2",
   "metadata": {},
   "outputs": [
    {
     "name": "stdout",
     "output_type": "stream",
     "text": [
      "BaseQueryEngine.query-ec37c135-a604-431c-93b0-ac59e04b08f2 (1.847953)\n",
      "├── BaseRetriever.retrieve-b7162490-df65-4889-b7ff-e30486aa2d47 (0.311024)\n",
      "└── BaseSynthesizer.synthesize-625a8f49-0d4e-4a99-8839-934a22b86df5 (1.535965)\n",
      "    └── CompactAndRefine.get_response-98c996cc-7fde-4b33-9626-97ab049e6354 (1.535171)\n",
      "        └── Refine.get_response-fbf03458-b07c-4695-b819-18ddf9d04049 (1.530679)\n",
      "            └── LLM.predict-907308ff-eb95-4ab3-b501-e52acdc8cdb7 (1.526666)\n",
      "\n"
     ]
    }
   ],
   "source": [
    "print(tree.show(stdout=False))"
   ]
  }
 ],
 "metadata": {
  "kernelspec": {
   "display_name": "fork-llama-index-core",
   "language": "python",
   "name": "fork-llama-index-core"
  },
  "language_info": {
   "codemirror_mode": {
    "name": "ipython",
    "version": 3
   },
   "file_extension": ".py",
   "mimetype": "text/x-python",
   "name": "python",
   "nbconvert_exporter": "python",
   "pygments_lexer": "ipython3"
  }
 },
 "nbformat": 4,
 "nbformat_minor": 5
}
