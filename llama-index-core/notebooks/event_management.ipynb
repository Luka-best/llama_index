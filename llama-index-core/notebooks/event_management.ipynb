{
 "cells": [
  {
   "cell_type": "code",
   "execution_count": null,
   "id": "0d716b26-57ce-48e8-bbb8-bc879fcc2b24",
   "metadata": {},
   "outputs": [
    {
     "name": "stdout",
     "output_type": "stream",
     "text": [
      "\n",
      "\u001b[1m[\u001b[0m\u001b[34;49mnotice\u001b[0m\u001b[1;39;49m]\u001b[0m\u001b[39;49m A new release of pip is available: \u001b[0m\u001b[31;49m23.3.2\u001b[0m\u001b[39;49m -> \u001b[0m\u001b[32;49m24.0\u001b[0m\n",
      "\u001b[1m[\u001b[0m\u001b[34;49mnotice\u001b[0m\u001b[1;39;49m]\u001b[0m\u001b[39;49m To update, run: \u001b[0m\u001b[32;49mpip install --upgrade pip\u001b[0m\n",
      "Note: you may need to restart the kernel to use updated packages.\n"
     ]
    }
   ],
   "source": [
    "%pip install llama-index-readers-file -q"
   ]
  },
  {
   "cell_type": "code",
   "execution_count": null,
   "id": "9692504e-51a2-4a58-86ae-5de5f5994966",
   "metadata": {},
   "outputs": [],
   "source": [
    "import nest_asyncio\n",
    "\n",
    "nest_asyncio.apply()"
   ]
  },
  {
   "cell_type": "markdown",
   "id": "3cb70687-c568-4991-b962-778b5edb3dbf",
   "metadata": {},
   "source": [
    "### Custom handlers"
   ]
  },
  {
   "cell_type": "code",
   "execution_count": null,
   "id": "8c4ec173-3dc9-49c6-b613-b4a9bf88871f",
   "metadata": {},
   "outputs": [],
   "source": [
    "from llama_index.core.instrumentation.event_handlers import BaseEventHandler\n",
    "from llama_index.core.instrumentation.span_handlers import SimpleSpanHandler"
   ]
  },
  {
   "cell_type": "code",
   "execution_count": null,
   "id": "d5e113aa-f507-4c4e-89a9-bfdc6dbf31ec",
   "metadata": {},
   "outputs": [],
   "source": [
    "class MyEventHandler(BaseEventHandler):\n",
    "    @classmethod\n",
    "    def class_name(cls) -> str:\n",
    "        \"\"\"Class name.\"\"\"\n",
    "        return \"MyEventHandler\"\n",
    "\n",
    "    def handle(self, event) -> None:\n",
    "        \"\"\"Logic for handling event.\"\"\"\n",
    "        print(event.class_name())\n",
    "        with open(\"log.txt\", \"a\") as f:\n",
    "            f.write(str(event))\n",
    "            f.write(\"\\n\")\n",
    "\n",
    "\n",
    "# class MyQueryEndEventHandler(BaseEventHandler):\n",
    "#     @classmethod\n",
    "#     def class_name(cls) -> str:\n",
    "#         \"\"\"Class name.\"\"\"\n",
    "#         return \"MyQueryEndEventHandler\"\n",
    "\n",
    "#     def handle(self, event) -> None:\n",
    "#         \"\"\"Logic for handling event.\"\"\"\n",
    "#         if isinstance(event, QueryEndEvent):\n",
    "#             print(self.class_name())\n",
    "#             with open(\"log.txt\", \"a\") as f:\n",
    "#                 f.write(str(event))\n",
    "#                 f.write(\"\\n\")"
   ]
  },
  {
   "cell_type": "markdown",
   "id": "9ab6d442-6d40-4a19-ac9b-1253ba00028e",
   "metadata": {},
   "source": [
    "### Dispatcher\n"
   ]
  },
  {
   "cell_type": "code",
   "execution_count": null,
   "id": "d3138230-2014-4030-9076-59f9d06c0b8d",
   "metadata": {},
   "outputs": [],
   "source": [
    "import llama_index.core.instrumentation as instrument\n",
    "\n",
    "dispatcher = instrument.get_dispatcher()  # modify root dispatcher"
   ]
  },
  {
   "cell_type": "code",
   "execution_count": null,
   "id": "8d65a394-e390-486b-b261-e2f318c4b9e1",
   "metadata": {},
   "outputs": [],
   "source": [
    "dispatcher.add_event_handler(MyEventHandler())\n",
    "dispatcher.span_handler = SimpleSpanHandler()"
   ]
  },
  {
   "cell_type": "code",
   "execution_count": null,
   "id": "77910c6a-c634-499f-8519-cad98179742e",
   "metadata": {},
   "outputs": [
    {
     "data": {
      "text/plain": [
       "Dispatcher(name='root', event_handlers=[NullEventHandler(), MyEventHandler()], span_handler=SimpleSpanHandler(open_spans={}, current_span_id=None, completed_spans=[]), parent_name='', manager=None, root_name='root', propagate=False)"
      ]
     },
     "execution_count": null,
     "metadata": {},
     "output_type": "execute_result"
    }
   ],
   "source": [
    "dispatcher"
   ]
  },
  {
   "cell_type": "code",
   "execution_count": null,
   "id": "bb3b145f-77b0-49dd-af88-adcdc2363c83",
   "metadata": {},
   "outputs": [],
   "source": [
    "qe_dispatcher = instrument.get_dispatcher(\"llama_index.core.base.query_engine\")"
   ]
  },
  {
   "cell_type": "code",
   "execution_count": null,
   "id": "5d66abf7-dfd9-4bbc-95b2-25068a76ab81",
   "metadata": {},
   "outputs": [
    {
     "data": {
      "text/plain": [
       "Dispatcher(name='llama_index.core.base.query_engine', event_handlers=[], span_handler=NullSpanHandler(open_spans={}, current_span_id=None), parent_name='root', manager=<llama_index.core.instrumentation.dispatcher.Manager object at 0x109146e60>, root_name='root', propagate=True)"
      ]
     },
     "execution_count": null,
     "metadata": {},
     "output_type": "execute_result"
    }
   ],
   "source": [
    "qe_dispatcher"
   ]
  },
  {
   "cell_type": "code",
   "execution_count": null,
   "id": "fe83cad8-5980-4250-9a75-36a12b9a2376",
   "metadata": {},
   "outputs": [
    {
     "data": {
      "text/plain": [
       "Dispatcher(name='root', event_handlers=[NullEventHandler(), MyEventHandler()], span_handler=SimpleSpanHandler(open_spans={}, current_span_id=None, completed_spans=[]), parent_name='', manager=None, root_name='root', propagate=False)"
      ]
     },
     "execution_count": null,
     "metadata": {},
     "output_type": "execute_result"
    }
   ],
   "source": [
    "qe_dispatcher.parent"
   ]
  },
  {
   "cell_type": "code",
   "execution_count": null,
   "id": "23cf980e-7f4c-4d49-a2e1-83fbeeac6ac2",
   "metadata": {},
   "outputs": [
    {
     "data": {
      "text/plain": [
       "Dispatcher(name='root', event_handlers=[NullEventHandler(), MyEventHandler()], span_handler=SimpleSpanHandler(open_spans={}, current_span_id=None, completed_spans=[]), parent_name='', manager=None, root_name='root', propagate=False)"
      ]
     },
     "execution_count": null,
     "metadata": {},
     "output_type": "execute_result"
    }
   ],
   "source": [
    "qe_dispatcher.root"
   ]
  },
  {
   "cell_type": "markdown",
   "id": "2ebcd2fa-84d7-459d-9d33-4d02f52c48df",
   "metadata": {},
   "source": [
    "### Test It Out"
   ]
  },
  {
   "cell_type": "code",
   "execution_count": null,
   "id": "f02f8dc5-18da-4e70-abed-614e0b98ce8c",
   "metadata": {},
   "outputs": [],
   "source": [
    "from llama_index.core import SimpleDirectoryReader, VectorStoreIndex\n",
    "\n",
    "documents = SimpleDirectoryReader(input_dir=\"./data\").load_data()\n",
    "index = VectorStoreIndex.from_documents(documents)"
   ]
  },
  {
   "cell_type": "code",
   "execution_count": null,
   "id": "a3de7479-e48e-42fd-8515-f04e1c314469",
   "metadata": {},
   "outputs": [],
   "source": [
    "query_engine = index.as_query_engine()"
   ]
  },
  {
   "cell_type": "code",
   "execution_count": null,
   "id": "5719b4d5-d50b-49bc-80ca-a1233817c64d",
   "metadata": {},
   "outputs": [],
   "source": [
    "query_result = query_engine.query(\"Who is Paul?\")"
   ]
  },
  {
   "cell_type": "code",
   "execution_count": null,
   "id": "6ac549a6-f10d-4b12-98b6-5352ab3c0df6",
   "metadata": {},
   "outputs": [
    {
     "data": {
      "text/plain": [
       "[]"
      ]
     },
     "execution_count": null,
     "metadata": {},
     "output_type": "execute_result"
    }
   ],
   "source": [
    "dispatcher.span_handler.completed_spans"
   ]
  },
  {
   "cell_type": "code",
   "execution_count": null,
   "id": "23e70e94-e116-4e00-b75d-d13a3b1c23d8",
   "metadata": {},
   "outputs": [
    {
     "name": "stdout",
     "output_type": "stream",
     "text": [
      "QueryStartEvent\n",
      "RetrievalStartEvent\n",
      "RetrievalEndEvent\n",
      "SynthesizeStartEvent\n",
      "GetResponseStartEvent\n",
      "LLMPredictStartEvent\n",
      "LLMPredictEndEvent\n",
      "GetResponseEndEvent\n",
      "SynthesizeEndEvent\n",
      "QueryEndEvent\n"
     ]
    }
   ],
   "source": [
    "query_result = await query_engine.aquery(\"Who is Paul?\")"
   ]
  },
  {
   "cell_type": "code",
   "execution_count": null,
   "id": "286951aa-d121-4dfe-b6af-0562a708fdfb",
   "metadata": {},
   "outputs": [
    {
     "data": {
      "text/plain": [
       "[SimpleSpan(id_='BaseRetriever.retrieve-94735787-1cd9-4a18-af8d-779e6df326b6', parent_id='BaseQueryEngine.query-55813549-6757-44c4-b97d-507ef0ec2c4a', start_time=datetime.datetime(2024, 3, 4, 15, 25, 25, 308791), end_time=datetime.datetime(2024, 3, 4, 15, 25, 25, 447625), duration=0.138834),\n",
       " SimpleSpan(id_='LLM.predict-2cb262a6-9cc8-457f-b930-5fd85aac1f25', parent_id='Refine.get_response-64681daf-915c-45b2-97e8-763e32d59886', start_time=datetime.datetime(2024, 3, 4, 15, 25, 25, 456168), end_time=datetime.datetime(2024, 3, 4, 15, 25, 27, 16449), duration=1.560281),\n",
       " SimpleSpan(id_='Refine.get_response-64681daf-915c-45b2-97e8-763e32d59886', parent_id='CompactAndRefine.get_response-e809cf8d-0eab-4e69-8534-0af8308eef48', start_time=datetime.datetime(2024, 3, 4, 15, 25, 25, 452438), end_time=datetime.datetime(2024, 3, 4, 15, 25, 27, 16700), duration=1.564262),\n",
       " SimpleSpan(id_='CompactAndRefine.get_response-e809cf8d-0eab-4e69-8534-0af8308eef48', parent_id='BaseSynthesizer.synthesize-1f742779-3839-4e95-9686-bcc8f07bd683', start_time=datetime.datetime(2024, 3, 4, 15, 25, 25, 448027), end_time=datetime.datetime(2024, 3, 4, 15, 25, 27, 16715), duration=1.568688),\n",
       " SimpleSpan(id_='BaseSynthesizer.synthesize-1f742779-3839-4e95-9686-bcc8f07bd683', parent_id='BaseQueryEngine.query-55813549-6757-44c4-b97d-507ef0ec2c4a', start_time=datetime.datetime(2024, 3, 4, 15, 25, 25, 447687), end_time=datetime.datetime(2024, 3, 4, 15, 25, 27, 16893), duration=1.569206),\n",
       " SimpleSpan(id_='BaseQueryEngine.query-55813549-6757-44c4-b97d-507ef0ec2c4a', parent_id=None, start_time=datetime.datetime(2024, 3, 4, 15, 25, 25, 307661), end_time=datetime.datetime(2024, 3, 4, 15, 25, 27, 17051), duration=1.70939),\n",
       " SimpleSpan(id_='BaseRetriever.aretrieve-099183cf-c046-4c46-a5d6-c29cbd6b2e78', parent_id='BaseQueryEngine.aquery-a5934c53-31ed-489f-9219-727fc0b1210d', start_time=datetime.datetime(2024, 3, 4, 15, 25, 27, 713840), end_time=datetime.datetime(2024, 3, 4, 15, 25, 27, 890154), duration=0.176314),\n",
       " SimpleSpan(id_='LLM.apredict-5f1ee9c2-fd18-49f3-891c-591074da57b0', parent_id='CompactAndRefine.aget_response-c60e83f5-5c51-4aec-ad2e-8e4be02f97cf', start_time=datetime.datetime(2024, 3, 4, 15, 25, 27, 898680), end_time=datetime.datetime(2024, 3, 4, 15, 25, 29, 303450), duration=1.40477),\n",
       " SimpleSpan(id_='CompactAndRefine.aget_response-c60e83f5-5c51-4aec-ad2e-8e4be02f97cf', parent_id='BaseSynthesizer.asynthesize-f4858f3c-0eb4-434b-9065-9051982e1726', start_time=datetime.datetime(2024, 3, 4, 15, 25, 27, 890683), end_time=datetime.datetime(2024, 3, 4, 15, 25, 29, 303679), duration=1.412996),\n",
       " SimpleSpan(id_='BaseSynthesizer.asynthesize-f4858f3c-0eb4-434b-9065-9051982e1726', parent_id='BaseQueryEngine.aquery-a5934c53-31ed-489f-9219-727fc0b1210d', start_time=datetime.datetime(2024, 3, 4, 15, 25, 27, 890228), end_time=datetime.datetime(2024, 3, 4, 15, 25, 29, 303868), duration=1.41364),\n",
       " SimpleSpan(id_='BaseQueryEngine.aquery-a5934c53-31ed-489f-9219-727fc0b1210d', parent_id=None, start_time=datetime.datetime(2024, 3, 4, 15, 25, 27, 712823), end_time=datetime.datetime(2024, 3, 4, 15, 25, 29, 304017), duration=1.591194)]"
      ]
     },
     "execution_count": null,
     "metadata": {},
     "output_type": "execute_result"
    }
   ],
   "source": [
    "query_engine.dispatcher.span_handler.completed_spans"
   ]
  }
 ],
 "metadata": {
  "kernelspec": {
   "display_name": "fork-llama-index-core",
   "language": "python",
   "name": "fork-llama-index-core"
  },
  "language_info": {
   "codemirror_mode": {
    "name": "ipython",
    "version": 3
   },
   "file_extension": ".py",
   "mimetype": "text/x-python",
   "name": "python",
   "nbconvert_exporter": "python",
   "pygments_lexer": "ipython3"
  }
 },
 "nbformat": 4,
 "nbformat_minor": 5
}
