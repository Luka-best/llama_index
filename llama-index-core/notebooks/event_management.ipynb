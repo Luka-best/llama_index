{
 "cells": [
  {
   "cell_type": "code",
   "execution_count": null,
   "id": "0d716b26-57ce-48e8-bbb8-bc879fcc2b24",
   "metadata": {},
   "outputs": [
    {
     "name": "stdout",
     "output_type": "stream",
     "text": [
      "\n",
      "\u001b[1m[\u001b[0m\u001b[34;49mnotice\u001b[0m\u001b[1;39;49m]\u001b[0m\u001b[39;49m A new release of pip is available: \u001b[0m\u001b[31;49m23.3.2\u001b[0m\u001b[39;49m -> \u001b[0m\u001b[32;49m24.0\u001b[0m\n",
      "\u001b[1m[\u001b[0m\u001b[34;49mnotice\u001b[0m\u001b[1;39;49m]\u001b[0m\u001b[39;49m To update, run: \u001b[0m\u001b[32;49mpip install --upgrade pip\u001b[0m\n",
      "Note: you may need to restart the kernel to use updated packages.\n"
     ]
    }
   ],
   "source": [
    "%pip install llama-index-readers-file -q"
   ]
  },
  {
   "cell_type": "markdown",
   "id": "3cb70687-c568-4991-b962-778b5edb3dbf",
   "metadata": {},
   "source": [
    "### Custom handlers"
   ]
  },
  {
   "cell_type": "code",
   "execution_count": null,
   "id": "8c4ec173-3dc9-49c6-b613-b4a9bf88871f",
   "metadata": {},
   "outputs": [],
   "source": [
    "from llama_index.core.event_management.handlers import BaseEventHandler\n",
    "from llama_index.core.event_management.events.query import (\n",
    "    QueryEndEvent,\n",
    "    QueryStartEvent,\n",
    ")"
   ]
  },
  {
   "cell_type": "code",
   "execution_count": null,
   "id": "d5e113aa-f507-4c4e-89a9-bfdc6dbf31ec",
   "metadata": {},
   "outputs": [],
   "source": [
    "class MyQueryStartEventHandler(BaseEventHandler):\n",
    "    @classmethod\n",
    "    def class_name(cls) -> str:\n",
    "        \"\"\"Class name.\"\"\"\n",
    "        return \"MyQueryStartEventHandler\"\n",
    "\n",
    "    def handle(self, event) -> None:\n",
    "        \"\"\"Logic for handling event.\"\"\"\n",
    "        if isinstance(event, QueryStartEvent):\n",
    "            print(self.class_name())\n",
    "            with open(\"log.txt\", \"a\") as f:\n",
    "                f.write(str(event))\n",
    "                f.write(\"\\n\")\n",
    "\n",
    "    def span_enter(self, id: str) -> None:\n",
    "        \"\"\"Logic for entering a span.\"\"\"\n",
    "        return\n",
    "\n",
    "    def span_exit(self, id: str) -> None:\n",
    "        \"\"\"Logic for exiting a span.\"\"\"\n",
    "        return\n",
    "\n",
    "\n",
    "class MyQueryEndEventHandler(BaseEventHandler):\n",
    "    @classmethod\n",
    "    def class_name(cls) -> str:\n",
    "        \"\"\"Class name.\"\"\"\n",
    "        return \"MyQueryEndEventHandler\"\n",
    "\n",
    "    def handle(self, event) -> None:\n",
    "        \"\"\"Logic for handling event.\"\"\"\n",
    "        if isinstance(event, QueryEndEvent):\n",
    "            print(self.class_name())\n",
    "            with open(\"log.txt\", \"a\") as f:\n",
    "                f.write(str(event))\n",
    "                f.write(\"\\n\")\n",
    "\n",
    "    def span_enter(self, id: str) -> None:\n",
    "        \"\"\"Logic for entering a span.\"\"\"\n",
    "        return\n",
    "\n",
    "    def span_exit(self, id: str) -> None:\n",
    "        \"\"\"Logic for exiting a span.\"\"\"\n",
    "        return\n",
    "\n",
    "\n",
    "class QueryTracer(BaseEventHandler):\n",
    "    @classmethod\n",
    "    def class_name(cls) -> str:\n",
    "        \"\"\"Class name.\"\"\"\n",
    "        return \"QueryTracer\"\n",
    "\n",
    "    def handle(self, event) -> None:\n",
    "        \"\"\"Logic for handling event.\"\"\"\n",
    "        return\n",
    "\n",
    "    def span_enter(self, id: str) -> None:\n",
    "        \"\"\"Logic for entering a span.\"\"\"\n",
    "        print(f\"Span: {id} entered.\")\n",
    "\n",
    "    def span_exit(self, id: str) -> None:\n",
    "        \"\"\"Logic for exiting a span.\"\"\"\n",
    "        print(f\"Span: {id} exited.\")"
   ]
  },
  {
   "cell_type": "markdown",
   "id": "9ab6d442-6d40-4a19-ac9b-1253ba00028e",
   "metadata": {},
   "source": [
    "### Dispatcher\n"
   ]
  },
  {
   "cell_type": "code",
   "execution_count": null,
   "id": "d3138230-2014-4030-9076-59f9d06c0b8d",
   "metadata": {},
   "outputs": [],
   "source": [
    "import llama_index.core.event_management as evt_mgmt\n",
    "\n",
    "dispatcher = evt_mgmt.get_dispatcher(\"app\")"
   ]
  },
  {
   "cell_type": "code",
   "execution_count": null,
   "id": "8d65a394-e390-486b-b261-e2f318c4b9e1",
   "metadata": {},
   "outputs": [],
   "source": [
    "dispatcher.add_handler(MyQueryStartEventHandler())\n",
    "dispatcher.add_handler(MyQueryEndEventHandler())\n",
    "dispatcher.add_handler(QueryTracer())"
   ]
  },
  {
   "cell_type": "markdown",
   "id": "2ebcd2fa-84d7-459d-9d33-4d02f52c48df",
   "metadata": {},
   "source": [
    "### Test It Out"
   ]
  },
  {
   "cell_type": "code",
   "execution_count": null,
   "id": "f02f8dc5-18da-4e70-abed-614e0b98ce8c",
   "metadata": {},
   "outputs": [],
   "source": [
    "from llama_index.core import SimpleDirectoryReader, VectorStoreIndex\n",
    "\n",
    "documents = SimpleDirectoryReader(input_dir=\"./data\").load_data()\n",
    "index = VectorStoreIndex.from_documents(documents)"
   ]
  },
  {
   "cell_type": "code",
   "execution_count": null,
   "id": "a3de7479-e48e-42fd-8515-f04e1c314469",
   "metadata": {},
   "outputs": [],
   "source": [
    "query_engine = index.as_query_engine(dispatcher=dispatcher)"
   ]
  },
  {
   "cell_type": "code",
   "execution_count": null,
   "id": "d3359eb5-8d5e-4443-92f7-e07f7db36dc9",
   "metadata": {},
   "outputs": [
    {
     "data": {
      "text/plain": [
       "Dispatcher(name='app', handlers=[<__main__.MyQueryStartEventHandler object at 0x1241fb190>, <__main__.MyQueryEndEventHandler object at 0x1241fb7c0>, <__main__.QueryTracer object at 0x1241facb0>], parent=Dispatcher(name='root', handlers=[<llama_index.core.event_management.handlers.null_handler.NullHandler object at 0x1117bfeb0>], parent=None, propagate=False), propagate=True)"
      ]
     },
     "execution_count": null,
     "metadata": {},
     "output_type": "execute_result"
    }
   ],
   "source": [
    "query_engine.dispatcher"
   ]
  },
  {
   "cell_type": "code",
   "execution_count": null,
   "id": "5719b4d5-d50b-49bc-80ca-a1233817c64d",
   "metadata": {},
   "outputs": [
    {
     "name": "stdout",
     "output_type": "stream",
     "text": [
      "Span: <built-in function id> entered.\n",
      "MyQueryStartEventHandler\n",
      "MyQueryEndEventHandler\n",
      "Span: <built-in function id> entered.\n"
     ]
    }
   ],
   "source": [
    "query_result = query_engine.query(\"Who is Paul?\")"
   ]
  },
  {
   "cell_type": "code",
   "execution_count": null,
   "id": "23e70e94-e116-4e00-b75d-d13a3b1c23d8",
   "metadata": {},
   "outputs": [],
   "source": [
    "query_result"
   ]
  }
 ],
 "metadata": {
  "kernelspec": {
   "display_name": "fork-llama-index-core",
   "language": "python",
   "name": "fork-llama-index-core"
  },
  "language_info": {
   "codemirror_mode": {
    "name": "ipython",
    "version": 3
   },
   "file_extension": ".py",
   "mimetype": "text/x-python",
   "name": "python",
   "nbconvert_exporter": "python",
   "pygments_lexer": "ipython3"
  }
 },
 "nbformat": 4,
 "nbformat_minor": 5
}
