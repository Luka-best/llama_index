{
 "cells": [
  {
   "cell_type": "code",
   "execution_count": null,
   "id": "0d716b26-57ce-48e8-bbb8-bc879fcc2b24",
   "metadata": {},
   "outputs": [
    {
     "name": "stdout",
     "output_type": "stream",
     "text": [
      "\n",
      "\u001b[1m[\u001b[0m\u001b[34;49mnotice\u001b[0m\u001b[1;39;49m]\u001b[0m\u001b[39;49m A new release of pip is available: \u001b[0m\u001b[31;49m23.3.2\u001b[0m\u001b[39;49m -> \u001b[0m\u001b[32;49m24.0\u001b[0m\n",
      "\u001b[1m[\u001b[0m\u001b[34;49mnotice\u001b[0m\u001b[1;39;49m]\u001b[0m\u001b[39;49m To update, run: \u001b[0m\u001b[32;49mpip install --upgrade pip\u001b[0m\n",
      "Note: you may need to restart the kernel to use updated packages.\n"
     ]
    }
   ],
   "source": [
    "%pip install llama-index-readers-file -q"
   ]
  },
  {
   "cell_type": "code",
   "execution_count": null,
   "id": "9692504e-51a2-4a58-86ae-5de5f5994966",
   "metadata": {},
   "outputs": [],
   "source": [
    "import nest_asyncio\n",
    "\n",
    "nest_asyncio.apply()"
   ]
  },
  {
   "cell_type": "markdown",
   "id": "3cb70687-c568-4991-b962-778b5edb3dbf",
   "metadata": {},
   "source": [
    "### Custom handlers"
   ]
  },
  {
   "cell_type": "code",
   "execution_count": null,
   "id": "8c4ec173-3dc9-49c6-b613-b4a9bf88871f",
   "metadata": {},
   "outputs": [],
   "source": [
    "from llama_index.core.instrumentation.event_handlers import BaseEventHandler\n",
    "from llama_index.core.instrumentation.span_handlers import SimpleSpanHandler"
   ]
  },
  {
   "cell_type": "code",
   "execution_count": null,
   "id": "d5e113aa-f507-4c4e-89a9-bfdc6dbf31ec",
   "metadata": {},
   "outputs": [],
   "source": [
    "class MyEventHandler(BaseEventHandler):\n",
    "    @classmethod\n",
    "    def class_name(cls) -> str:\n",
    "        \"\"\"Class name.\"\"\"\n",
    "        return \"MyEventHandler\"\n",
    "\n",
    "    def handle(self, event) -> None:\n",
    "        \"\"\"Logic for handling event.\"\"\"\n",
    "        print(event.class_name())\n",
    "        print(event.dict())\n",
    "        print(\"\")\n",
    "        with open(\"log.txt\", \"a\") as f:\n",
    "            f.write(str(event))\n",
    "            f.write(\"\\n\")"
   ]
  },
  {
   "cell_type": "markdown",
   "id": "9ab6d442-6d40-4a19-ac9b-1253ba00028e",
   "metadata": {},
   "source": [
    "### Dispatcher\n"
   ]
  },
  {
   "cell_type": "code",
   "execution_count": null,
   "id": "d3138230-2014-4030-9076-59f9d06c0b8d",
   "metadata": {},
   "outputs": [],
   "source": [
    "import llama_index.core.instrumentation as instrument\n",
    "\n",
    "dispatcher = instrument.get_dispatcher()  # modify root dispatcher"
   ]
  },
  {
   "cell_type": "code",
   "execution_count": null,
   "id": "8d65a394-e390-486b-b261-e2f318c4b9e1",
   "metadata": {},
   "outputs": [],
   "source": [
    "dispatcher.add_event_handler(MyEventHandler())\n",
    "dispatcher.span_handler = SimpleSpanHandler()"
   ]
  },
  {
   "cell_type": "code",
   "execution_count": null,
   "id": "77910c6a-c634-499f-8519-cad98179742e",
   "metadata": {},
   "outputs": [
    {
     "data": {
      "text/plain": [
       "Dispatcher(name='root', event_handlers=[NullEventHandler(), MyEventHandler()], span_handler=SimpleSpanHandler(open_spans={}, current_span_id=None, completed_spans=[]), parent_name='', manager=None, root_name='root', propagate=False)"
      ]
     },
     "execution_count": null,
     "metadata": {},
     "output_type": "execute_result"
    }
   ],
   "source": [
    "dispatcher"
   ]
  },
  {
   "cell_type": "code",
   "execution_count": null,
   "id": "bb3b145f-77b0-49dd-af88-adcdc2363c83",
   "metadata": {},
   "outputs": [],
   "source": [
    "qe_dispatcher = instrument.get_dispatcher(\"llama_index.core.base.query_engine\")"
   ]
  },
  {
   "cell_type": "code",
   "execution_count": null,
   "id": "5d66abf7-dfd9-4bbc-95b2-25068a76ab81",
   "metadata": {},
   "outputs": [
    {
     "data": {
      "text/plain": [
       "Dispatcher(name='llama_index.core.base.query_engine', event_handlers=[], span_handler=NullSpanHandler(open_spans={}, current_span_id=None), parent_name='root', manager=<llama_index.core.instrumentation.dispatcher.Manager object at 0x1577b2f50>, root_name='root', propagate=True)"
      ]
     },
     "execution_count": null,
     "metadata": {},
     "output_type": "execute_result"
    }
   ],
   "source": [
    "qe_dispatcher"
   ]
  },
  {
   "cell_type": "code",
   "execution_count": null,
   "id": "fe83cad8-5980-4250-9a75-36a12b9a2376",
   "metadata": {},
   "outputs": [
    {
     "data": {
      "text/plain": [
       "Dispatcher(name='root', event_handlers=[NullEventHandler(), MyEventHandler()], span_handler=SimpleSpanHandler(open_spans={}, current_span_id=None, completed_spans=[]), parent_name='', manager=None, root_name='root', propagate=False)"
      ]
     },
     "execution_count": null,
     "metadata": {},
     "output_type": "execute_result"
    }
   ],
   "source": [
    "qe_dispatcher.parent"
   ]
  },
  {
   "cell_type": "code",
   "execution_count": null,
   "id": "23cf980e-7f4c-4d49-a2e1-83fbeeac6ac2",
   "metadata": {},
   "outputs": [
    {
     "data": {
      "text/plain": [
       "Dispatcher(name='root', event_handlers=[NullEventHandler(), MyEventHandler()], span_handler=SimpleSpanHandler(open_spans={}, current_span_id=None, completed_spans=[]), parent_name='', manager=None, root_name='root', propagate=False)"
      ]
     },
     "execution_count": null,
     "metadata": {},
     "output_type": "execute_result"
    }
   ],
   "source": [
    "qe_dispatcher.root"
   ]
  },
  {
   "cell_type": "markdown",
   "id": "2ebcd2fa-84d7-459d-9d33-4d02f52c48df",
   "metadata": {},
   "source": [
    "### Test It Out"
   ]
  },
  {
   "cell_type": "code",
   "execution_count": null,
   "id": "f02f8dc5-18da-4e70-abed-614e0b98ce8c",
   "metadata": {},
   "outputs": [],
   "source": [
    "from llama_index.core import SimpleDirectoryReader, VectorStoreIndex\n",
    "\n",
    "documents = SimpleDirectoryReader(input_dir=\"./data\").load_data()\n",
    "index = VectorStoreIndex.from_documents(documents)"
   ]
  },
  {
   "cell_type": "code",
   "execution_count": null,
   "id": "a3de7479-e48e-42fd-8515-f04e1c314469",
   "metadata": {},
   "outputs": [],
   "source": [
    "query_engine = index.as_query_engine()"
   ]
  },
  {
   "cell_type": "code",
   "execution_count": null,
   "id": "5719b4d5-d50b-49bc-80ca-a1233817c64d",
   "metadata": {},
   "outputs": [
    {
     "name": "stdout",
     "output_type": "stream",
     "text": [
      "QueryStartEvent\n",
      "{'timestamp': datetime.datetime(2024, 3, 11, 17, 49, 5, 776495), 'id_': UUID('278cdd77-1ddb-4645-83ce-aae1bbfe04bc')}\n",
      "\n",
      "RetrievalStartEvent\n",
      "{'timestamp': datetime.datetime(2024, 3, 11, 17, 49, 5, 778082), 'id_': UUID('af7e88ef-59bf-4ee3-8d62-551078752ecc')}\n",
      "\n",
      "RetrievalEndEvent\n",
      "{'timestamp': datetime.datetime(2024, 3, 11, 17, 49, 5, 963703), 'id_': UUID('81135615-eb82-4bf0-9f9e-c2756002189a')}\n",
      "\n",
      "SynthesizeStartEvent\n",
      "{'timestamp': datetime.datetime(2024, 3, 11, 17, 49, 5, 964581), 'id_': UUID('4fa8e49f-88d0-49fc-9cda-89d586ba952b')}\n",
      "\n",
      "GetResponseStartEvent\n",
      "{'timestamp': datetime.datetime(2024, 3, 11, 17, 49, 5, 975952), 'id_': UUID('2283feee-3ce3-42e1-b789-8a5a315e2652')}\n",
      "\n",
      "LLMPredictStartEvent\n",
      "{'timestamp': datetime.datetime(2024, 3, 11, 17, 49, 5, 980634), 'id_': UUID('592d347e-d148-467f-837b-7ff582ec5a2f')}\n",
      "\n",
      "LLMPredictEndEvent\n",
      "{'timestamp': datetime.datetime(2024, 3, 11, 17, 49, 7, 576994), 'id_': UUID('132b8211-bb60-4c80-bb8e-068593083b17')}\n",
      "\n",
      "GetResponseEndEvent\n",
      "{'timestamp': datetime.datetime(2024, 3, 11, 17, 49, 7, 577766), 'id_': UUID('4f50090d-0886-4ba0-bc00-bfe8719348e1')}\n",
      "\n",
      "SynthesizeEndEvent\n",
      "{'timestamp': datetime.datetime(2024, 3, 11, 17, 49, 7, 578045), 'id_': UUID('f15b968b-186c-4cfc-b524-ea377e6f53f8')}\n",
      "\n",
      "QueryEndEvent\n",
      "{'timestamp': datetime.datetime(2024, 3, 11, 17, 49, 7, 578255), 'id_': UUID('fa2c28f4-5bba-4ca2-9ef5-b6f1ffe0f920')}\n",
      "\n"
     ]
    }
   ],
   "source": [
    "query_result = query_engine.query(\"Who is Paul?\")"
   ]
  },
  {
   "cell_type": "code",
   "execution_count": null,
   "id": "6ac549a6-f10d-4b12-98b6-5352ab3c0df6",
   "metadata": {},
   "outputs": [
    {
     "data": {
      "text/plain": [
       "[SimpleSpan(id_='VectorIndexRetriever._retrieve-29db3ffd-8b6d-4fbb-a3b4-8e8083beecc4', parent_id='BaseRetriever.retrieve-a6932e9b-923e-4bdb-bd9b-8d7851487807', start_time=datetime.datetime(2024, 3, 11, 17, 49, 5, 778394), end_time=datetime.datetime(2024, 3, 11, 17, 49, 5, 963457), duration=0.185063),\n",
       " SimpleSpan(id_='BaseRetriever.retrieve-a6932e9b-923e-4bdb-bd9b-8d7851487807', parent_id='RetrieverQueryEngine._query-f115e05c-df1f-4e83-8848-bf0bc5e51f46', start_time=datetime.datetime(2024, 3, 11, 17, 49, 5, 778061), end_time=datetime.datetime(2024, 3, 11, 17, 49, 5, 964456), duration=0.186395),\n",
       " SimpleSpan(id_='LLM.predict-69c3336f-fd4b-4ab2-ac2a-66051620cc7d', parent_id='Refine.get_response-b62868e4-ee86-49b4-85b3-d6a542c9d83c', start_time=datetime.datetime(2024, 3, 11, 17, 49, 5, 980594), end_time=datetime.datetime(2024, 3, 11, 17, 49, 7, 577694), duration=1.5971),\n",
       " SimpleSpan(id_='Refine.get_response-b62868e4-ee86-49b4-85b3-d6a542c9d83c', parent_id='CompactAndRefine.get_response-b34a3839-187f-48f8-9d78-bd4dcfb506ef', start_time=datetime.datetime(2024, 3, 11, 17, 49, 5, 975923), end_time=datetime.datetime(2024, 3, 11, 17, 49, 7, 577981), duration=1.602058),\n",
       " SimpleSpan(id_='CompactAndRefine.get_response-b34a3839-187f-48f8-9d78-bd4dcfb506ef', parent_id='BaseSynthesizer.synthesize-aad0a67e-cd56-4bd6-8e5a-2bf022e14c8f', start_time=datetime.datetime(2024, 3, 11, 17, 49, 5, 965203), end_time=datetime.datetime(2024, 3, 11, 17, 49, 7, 577999), duration=1.612796),\n",
       " SimpleSpan(id_='BaseSynthesizer.synthesize-aad0a67e-cd56-4bd6-8e5a-2bf022e14c8f', parent_id='RetrieverQueryEngine._query-f115e05c-df1f-4e83-8848-bf0bc5e51f46', start_time=datetime.datetime(2024, 3, 11, 17, 49, 5, 964544), end_time=datetime.datetime(2024, 3, 11, 17, 49, 7, 578195), duration=1.613651),\n",
       " SimpleSpan(id_='RetrieverQueryEngine._query-f115e05c-df1f-4e83-8848-bf0bc5e51f46', parent_id='BaseQueryEngine.query-775f0058-9733-41c9-8d80-0dfa03090f11', start_time=datetime.datetime(2024, 3, 11, 17, 49, 5, 778011), end_time=datetime.datetime(2024, 3, 11, 17, 49, 7, 578241), duration=1.80023),\n",
       " SimpleSpan(id_='BaseQueryEngine.query-775f0058-9733-41c9-8d80-0dfa03090f11', parent_id=None, start_time=datetime.datetime(2024, 3, 11, 17, 49, 5, 776471), end_time=datetime.datetime(2024, 3, 11, 17, 49, 7, 578425), duration=1.801954)]"
      ]
     },
     "execution_count": null,
     "metadata": {},
     "output_type": "execute_result"
    }
   ],
   "source": [
    "dispatcher.span_handler.completed_spans"
   ]
  },
  {
   "cell_type": "code",
   "execution_count": null,
   "id": "23e70e94-e116-4e00-b75d-d13a3b1c23d8",
   "metadata": {},
   "outputs": [
    {
     "name": "stdout",
     "output_type": "stream",
     "text": [
      "QueryStartEvent\n",
      "{'timestamp': datetime.datetime(2024, 3, 11, 17, 49, 9, 74694), 'id_': UUID('14dc639f-7198-43bf-956e-71f27d55a9ac')}\n",
      "\n",
      "RetrievalStartEvent\n",
      "{'timestamp': datetime.datetime(2024, 3, 11, 17, 49, 9, 76843), 'id_': UUID('3780a57d-38b1-454f-a66d-55b27aff2906')}\n",
      "\n",
      "RetrievalEndEvent\n",
      "{'timestamp': datetime.datetime(2024, 3, 11, 17, 49, 9, 270904), 'id_': UUID('4df1e26c-badf-416a-83e5-8e4d2521e13c')}\n",
      "\n",
      "SynthesizeStartEvent\n",
      "{'timestamp': datetime.datetime(2024, 3, 11, 17, 49, 9, 271904), 'id_': UUID('d14b7aa7-47d1-4f49-b7ad-4f37352b10c2')}\n",
      "\n",
      "GetResponseStartEvent\n",
      "{'timestamp': datetime.datetime(2024, 3, 11, 17, 49, 9, 279373), 'id_': UUID('ec509571-6d85-4c83-9671-43317a478981')}\n",
      "\n",
      "LLMPredictStartEvent\n",
      "{'timestamp': datetime.datetime(2024, 3, 11, 17, 49, 9, 283686), 'id_': UUID('bccb9803-ed68-480f-ad05-02bbca08d7e6')}\n",
      "\n",
      "LLMPredictEndEvent\n",
      "{'timestamp': datetime.datetime(2024, 3, 11, 17, 49, 10, 755812), 'id_': UUID('1c551765-2ea7-485d-80fc-ca70d7d8baee')}\n",
      "\n",
      "GetResponseEndEvent\n",
      "{'timestamp': datetime.datetime(2024, 3, 11, 17, 49, 10, 757317), 'id_': UUID('f227e3f2-0eba-4b6e-acfb-0b383374a417')}\n",
      "\n",
      "SynthesizeEndEvent\n",
      "{'timestamp': datetime.datetime(2024, 3, 11, 17, 49, 10, 757839), 'id_': UUID('c05c5326-dc0c-4840-9235-8c6a837b362f')}\n",
      "\n",
      "QueryEndEvent\n",
      "{'timestamp': datetime.datetime(2024, 3, 11, 17, 49, 10, 758271), 'id_': UUID('e23bd8f8-f4ca-46e7-9fb7-5d852f1102a5')}\n",
      "\n"
     ]
    }
   ],
   "source": [
    "query_result = await query_engine.aquery(\"Who is Paul?\")"
   ]
  },
  {
   "cell_type": "code",
   "execution_count": null,
   "id": "286951aa-d121-4dfe-b6af-0562a708fdfb",
   "metadata": {},
   "outputs": [
    {
     "data": {
      "text/plain": [
       "[SimpleSpan(id_='VectorIndexRetriever._retrieve-29db3ffd-8b6d-4fbb-a3b4-8e8083beecc4', parent_id='BaseRetriever.retrieve-a6932e9b-923e-4bdb-bd9b-8d7851487807', start_time=datetime.datetime(2024, 3, 11, 17, 49, 5, 778394), end_time=datetime.datetime(2024, 3, 11, 17, 49, 5, 963457), duration=0.185063),\n",
       " SimpleSpan(id_='BaseRetriever.retrieve-a6932e9b-923e-4bdb-bd9b-8d7851487807', parent_id='RetrieverQueryEngine._query-f115e05c-df1f-4e83-8848-bf0bc5e51f46', start_time=datetime.datetime(2024, 3, 11, 17, 49, 5, 778061), end_time=datetime.datetime(2024, 3, 11, 17, 49, 5, 964456), duration=0.186395),\n",
       " SimpleSpan(id_='LLM.predict-69c3336f-fd4b-4ab2-ac2a-66051620cc7d', parent_id='Refine.get_response-b62868e4-ee86-49b4-85b3-d6a542c9d83c', start_time=datetime.datetime(2024, 3, 11, 17, 49, 5, 980594), end_time=datetime.datetime(2024, 3, 11, 17, 49, 7, 577694), duration=1.5971),\n",
       " SimpleSpan(id_='Refine.get_response-b62868e4-ee86-49b4-85b3-d6a542c9d83c', parent_id='CompactAndRefine.get_response-b34a3839-187f-48f8-9d78-bd4dcfb506ef', start_time=datetime.datetime(2024, 3, 11, 17, 49, 5, 975923), end_time=datetime.datetime(2024, 3, 11, 17, 49, 7, 577981), duration=1.602058),\n",
       " SimpleSpan(id_='CompactAndRefine.get_response-b34a3839-187f-48f8-9d78-bd4dcfb506ef', parent_id='BaseSynthesizer.synthesize-aad0a67e-cd56-4bd6-8e5a-2bf022e14c8f', start_time=datetime.datetime(2024, 3, 11, 17, 49, 5, 965203), end_time=datetime.datetime(2024, 3, 11, 17, 49, 7, 577999), duration=1.612796),\n",
       " SimpleSpan(id_='BaseSynthesizer.synthesize-aad0a67e-cd56-4bd6-8e5a-2bf022e14c8f', parent_id='RetrieverQueryEngine._query-f115e05c-df1f-4e83-8848-bf0bc5e51f46', start_time=datetime.datetime(2024, 3, 11, 17, 49, 5, 964544), end_time=datetime.datetime(2024, 3, 11, 17, 49, 7, 578195), duration=1.613651),\n",
       " SimpleSpan(id_='RetrieverQueryEngine._query-f115e05c-df1f-4e83-8848-bf0bc5e51f46', parent_id='BaseQueryEngine.query-775f0058-9733-41c9-8d80-0dfa03090f11', start_time=datetime.datetime(2024, 3, 11, 17, 49, 5, 778011), end_time=datetime.datetime(2024, 3, 11, 17, 49, 7, 578241), duration=1.80023),\n",
       " SimpleSpan(id_='BaseQueryEngine.query-775f0058-9733-41c9-8d80-0dfa03090f11', parent_id=None, start_time=datetime.datetime(2024, 3, 11, 17, 49, 5, 776471), end_time=datetime.datetime(2024, 3, 11, 17, 49, 7, 578425), duration=1.801954),\n",
       " SimpleSpan(id_='VectorIndexRetriever._aretrieve-d34d901f-cf5a-4140-8a38-264832afb7cb', parent_id='BaseRetriever.aretrieve-4879bb04-1552-42ca-bedd-f485ba681aaa', start_time=datetime.datetime(2024, 3, 11, 17, 49, 9, 77844), end_time=datetime.datetime(2024, 3, 11, 17, 49, 9, 270716), duration=0.192872),\n",
       " SimpleSpan(id_='BaseRetriever.aretrieve-4879bb04-1552-42ca-bedd-f485ba681aaa', parent_id='RetrieverQueryEngine._aquery-fd3f9e18-d7d7-45fc-8613-47d01089cf00', start_time=datetime.datetime(2024, 3, 11, 17, 49, 9, 76806), end_time=datetime.datetime(2024, 3, 11, 17, 49, 9, 271771), duration=0.194965),\n",
       " SimpleSpan(id_='LLM.apredict-982e8f45-91a4-4b90-b16c-3b33479ddbee', parent_id='Refine.aget_response-0748c919-b678-40d0-8440-5218623fb750', start_time=datetime.datetime(2024, 3, 11, 17, 49, 9, 283662), end_time=datetime.datetime(2024, 3, 11, 17, 49, 10, 757210), duration=1.473548),\n",
       " SimpleSpan(id_='Refine.aget_response-0748c919-b678-40d0-8440-5218623fb750', parent_id='CompactAndRefine.aget_response-5c43904d-0f69-44e1-8142-ad2a37cc7d4f', start_time=datetime.datetime(2024, 3, 11, 17, 49, 9, 279348), end_time=datetime.datetime(2024, 3, 11, 17, 49, 10, 757730), duration=1.478382),\n",
       " SimpleSpan(id_='CompactAndRefine.aget_response-5c43904d-0f69-44e1-8142-ad2a37cc7d4f', parent_id='BaseSynthesizer.asynthesize-d2a4ecfc-2d34-4ea5-b04d-ff0f599e96f9', start_time=datetime.datetime(2024, 3, 11, 17, 49, 9, 272494), end_time=datetime.datetime(2024, 3, 11, 17, 49, 10, 757762), duration=1.485268),\n",
       " SimpleSpan(id_='BaseSynthesizer.asynthesize-d2a4ecfc-2d34-4ea5-b04d-ff0f599e96f9', parent_id='RetrieverQueryEngine._aquery-fd3f9e18-d7d7-45fc-8613-47d01089cf00', start_time=datetime.datetime(2024, 3, 11, 17, 49, 9, 271876), end_time=datetime.datetime(2024, 3, 11, 17, 49, 10, 758171), duration=1.486295),\n",
       " SimpleSpan(id_='RetrieverQueryEngine._aquery-fd3f9e18-d7d7-45fc-8613-47d01089cf00', parent_id='BaseQueryEngine.aquery-8750e208-dad6-4f2a-a8a7-28735fbce73c', start_time=datetime.datetime(2024, 3, 11, 17, 49, 9, 76308), end_time=datetime.datetime(2024, 3, 11, 17, 49, 10, 758246), duration=1.681938),\n",
       " SimpleSpan(id_='BaseQueryEngine.aquery-8750e208-dad6-4f2a-a8a7-28735fbce73c', parent_id=None, start_time=datetime.datetime(2024, 3, 11, 17, 49, 9, 74661), end_time=datetime.datetime(2024, 3, 11, 17, 49, 10, 758627), duration=1.683966)]"
      ]
     },
     "execution_count": null,
     "metadata": {},
     "output_type": "execute_result"
    }
   ],
   "source": [
    "dispatcher.span_handler.completed_spans"
   ]
  },
  {
   "cell_type": "markdown",
   "id": "c9757b0b-62c7-42c6-abf9-90d9f920696e",
   "metadata": {},
   "source": [
    "### Stream Chat"
   ]
  },
  {
   "cell_type": "code",
   "execution_count": null,
   "id": "fef4f47b-291a-4878-81e0-bef7cb5299e4",
   "metadata": {},
   "outputs": [],
   "source": [
    "chat_engine = index.as_chat_engine()"
   ]
  },
  {
   "cell_type": "code",
   "execution_count": null,
   "id": "821147ba-f076-4786-9b1a-15522936beef",
   "metadata": {},
   "outputs": [],
   "source": [
    "# response = chat_engine.chat(\"Tell me a joke.\")"
   ]
  },
  {
   "cell_type": "code",
   "execution_count": null,
   "id": "7e590a49-3251-4349-a895-db9597a73b40",
   "metadata": {},
   "outputs": [],
   "source": [
    "dispatcher.span_handler = SimpleSpanHandler()"
   ]
  },
  {
   "cell_type": "code",
   "execution_count": null,
   "id": "491e0962-d49d-428f-b861-b9883e1708fc",
   "metadata": {},
   "outputs": [
    {
     "ename": "NameError",
     "evalue": "name 'AgentChatWithStepStartEvents' is not defined",
     "output_type": "error",
     "traceback": [
      "\u001b[0;31m---------------------------------------------------------------------------\u001b[0m",
      "\u001b[0;31mNameError\u001b[0m                                 Traceback (most recent call last)",
      "Cell \u001b[0;32mIn[15], line 1\u001b[0m\n\u001b[0;32m----> 1\u001b[0m streaming_response \u001b[38;5;241m=\u001b[39m \u001b[43mchat_engine\u001b[49m\u001b[38;5;241;43m.\u001b[39;49m\u001b[43mstream_chat\u001b[49m\u001b[43m(\u001b[49m\u001b[38;5;124;43m\"\u001b[39;49m\u001b[38;5;124;43mTell me a joke.\u001b[39;49m\u001b[38;5;124;43m\"\u001b[39;49m\u001b[43m)\u001b[49m\n",
      "File \u001b[0;32m~/Projects/forks/llama_index/llama-index-core/llama_index/core/instrumentation/dispatcher.py:97\u001b[0m, in \u001b[0;36mDispatcher.span.<locals>.wrapper\u001b[0;34m(*args, **kwargs)\u001b[0m\n\u001b[1;32m     95\u001b[0m     result \u001b[38;5;241m=\u001b[39m func(\u001b[38;5;241m*\u001b[39margs, \u001b[38;5;241m*\u001b[39m\u001b[38;5;241m*\u001b[39mkwargs)\n\u001b[1;32m     96\u001b[0m \u001b[38;5;28;01mexcept\u001b[39;00m \u001b[38;5;167;01mException\u001b[39;00m \u001b[38;5;28;01mas\u001b[39;00m e:\n\u001b[0;32m---> 97\u001b[0m     \u001b[38;5;28;43mself\u001b[39;49m\u001b[38;5;241;43m.\u001b[39;49m\u001b[43mspan_drop\u001b[49m\u001b[43m(\u001b[49m\u001b[38;5;28;43mid\u001b[39;49m\u001b[38;5;241;43m=\u001b[39;49m\u001b[38;5;28;43mid\u001b[39;49m\u001b[43m,\u001b[49m\u001b[43m \u001b[49m\u001b[43merr\u001b[49m\u001b[38;5;241;43m=\u001b[39;49m\u001b[43me\u001b[49m\u001b[43m)\u001b[49m\n\u001b[1;32m     98\u001b[0m \u001b[38;5;28;01melse\u001b[39;00m:\n\u001b[1;32m     99\u001b[0m     \u001b[38;5;28mself\u001b[39m\u001b[38;5;241m.\u001b[39mspan_exit(\u001b[38;5;28mid\u001b[39m\u001b[38;5;241m=\u001b[39m\u001b[38;5;28mid\u001b[39m, result\u001b[38;5;241m=\u001b[39mresult)\n",
      "File \u001b[0;32m~/Projects/forks/llama_index/llama-index-core/llama_index/core/instrumentation/dispatcher.py:73\u001b[0m, in \u001b[0;36mDispatcher.span_drop\u001b[0;34m(self, id, err, **kwargs)\u001b[0m\n\u001b[1;32m     71\u001b[0m c \u001b[38;5;241m=\u001b[39m \u001b[38;5;28mself\u001b[39m\n\u001b[1;32m     72\u001b[0m \u001b[38;5;28;01mwhile\u001b[39;00m c:\n\u001b[0;32m---> 73\u001b[0m     \u001b[43mc\u001b[49m\u001b[38;5;241;43m.\u001b[39;49m\u001b[43mspan_handler\u001b[49m\u001b[38;5;241;43m.\u001b[39;49m\u001b[43mspan_drop\u001b[49m\u001b[43m(\u001b[49m\u001b[38;5;28;43mid\u001b[39;49m\u001b[43m,\u001b[49m\u001b[43m \u001b[49m\u001b[43merr\u001b[49m\u001b[43m,\u001b[49m\u001b[43m \u001b[49m\u001b[38;5;241;43m*\u001b[39;49m\u001b[38;5;241;43m*\u001b[39;49m\u001b[43mkwargs\u001b[49m\u001b[43m)\u001b[49m\n\u001b[1;32m     74\u001b[0m     \u001b[38;5;28;01mif\u001b[39;00m \u001b[38;5;129;01mnot\u001b[39;00m c\u001b[38;5;241m.\u001b[39mpropagate:\n\u001b[1;32m     75\u001b[0m         c \u001b[38;5;241m=\u001b[39m \u001b[38;5;28;01mNone\u001b[39;00m\n",
      "File \u001b[0;32m~/Projects/forks/llama_index/llama-index-core/llama_index/core/instrumentation/span_handlers/base.py:45\u001b[0m, in \u001b[0;36mBaseSpanHandler.span_drop\u001b[0;34m(self, id, err, **kwargs)\u001b[0m\n\u001b[1;32m     43\u001b[0m \u001b[38;5;28;01mdef\u001b[39;00m \u001b[38;5;21mspan_drop\u001b[39m(\u001b[38;5;28mself\u001b[39m, \u001b[38;5;28mid\u001b[39m: \u001b[38;5;28mstr\u001b[39m, err: Optional[\u001b[38;5;167;01mException\u001b[39;00m], \u001b[38;5;241m*\u001b[39m\u001b[38;5;241m*\u001b[39mkwargs) \u001b[38;5;241m-\u001b[39m\u001b[38;5;241m>\u001b[39m \u001b[38;5;28;01mNone\u001b[39;00m:\n\u001b[1;32m     44\u001b[0m \u001b[38;5;250m    \u001b[39m\u001b[38;5;124;03m\"\"\"Logic for dropping a span i.e. early exit.\"\"\"\u001b[39;00m\n\u001b[0;32m---> 45\u001b[0m     \u001b[38;5;28;43mself\u001b[39;49m\u001b[38;5;241;43m.\u001b[39;49m\u001b[43mprepare_to_drop_span\u001b[49m\u001b[43m(\u001b[49m\u001b[38;5;28;43mid\u001b[39;49m\u001b[43m,\u001b[49m\u001b[43m \u001b[49m\u001b[43merr\u001b[49m\u001b[43m,\u001b[49m\u001b[43m \u001b[49m\u001b[38;5;241;43m*\u001b[39;49m\u001b[38;5;241;43m*\u001b[39;49m\u001b[43mkwargs\u001b[49m\u001b[43m)\u001b[49m\n\u001b[1;32m     46\u001b[0m     \u001b[38;5;28;01mif\u001b[39;00m \u001b[38;5;28mself\u001b[39m\u001b[38;5;241m.\u001b[39mcurrent_span_id \u001b[38;5;241m==\u001b[39m \u001b[38;5;28mid\u001b[39m:\n\u001b[1;32m     47\u001b[0m         \u001b[38;5;28mself\u001b[39m\u001b[38;5;241m.\u001b[39mcurrent_span_id \u001b[38;5;241m=\u001b[39m \u001b[38;5;28mself\u001b[39m\u001b[38;5;241m.\u001b[39mopen_spans[\u001b[38;5;28mid\u001b[39m]\u001b[38;5;241m.\u001b[39mparent_id\n",
      "File \u001b[0;32m~/Projects/forks/llama_index/llama-index-core/llama_index/core/instrumentation/span_handlers/simple.py:36\u001b[0m, in \u001b[0;36mSimpleSpanHandler.prepare_to_drop_span\u001b[0;34m(self, id, err, **kwargs)\u001b[0m\n\u001b[1;32m     34\u001b[0m \u001b[38;5;250m\u001b[39m\u001b[38;5;124;03m\"\"\"Logic for droppping a span.\"\"\"\u001b[39;00m\n\u001b[1;32m     35\u001b[0m \u001b[38;5;28;01mif\u001b[39;00m err:\n\u001b[0;32m---> 36\u001b[0m     \u001b[38;5;28;01mraise\u001b[39;00m err\n\u001b[1;32m     37\u001b[0m \u001b[38;5;28;01mreturn\u001b[39;00m\n",
      "File \u001b[0;32m~/Projects/forks/llama_index/llama-index-core/llama_index/core/instrumentation/dispatcher.py:95\u001b[0m, in \u001b[0;36mDispatcher.span.<locals>.wrapper\u001b[0;34m(*args, **kwargs)\u001b[0m\n\u001b[1;32m     93\u001b[0m \u001b[38;5;28mself\u001b[39m\u001b[38;5;241m.\u001b[39mspan_enter(\u001b[38;5;28mid\u001b[39m\u001b[38;5;241m=\u001b[39m\u001b[38;5;28mid\u001b[39m, \u001b[38;5;241m*\u001b[39m\u001b[38;5;241m*\u001b[39mkwargs)\n\u001b[1;32m     94\u001b[0m \u001b[38;5;28;01mtry\u001b[39;00m:\n\u001b[0;32m---> 95\u001b[0m     result \u001b[38;5;241m=\u001b[39m \u001b[43mfunc\u001b[49m\u001b[43m(\u001b[49m\u001b[38;5;241;43m*\u001b[39;49m\u001b[43margs\u001b[49m\u001b[43m,\u001b[49m\u001b[43m \u001b[49m\u001b[38;5;241;43m*\u001b[39;49m\u001b[38;5;241;43m*\u001b[39;49m\u001b[43mkwargs\u001b[49m\u001b[43m)\u001b[49m\n\u001b[1;32m     96\u001b[0m \u001b[38;5;28;01mexcept\u001b[39;00m \u001b[38;5;167;01mException\u001b[39;00m \u001b[38;5;28;01mas\u001b[39;00m e:\n\u001b[1;32m     97\u001b[0m     \u001b[38;5;28mself\u001b[39m\u001b[38;5;241m.\u001b[39mspan_drop(\u001b[38;5;28mid\u001b[39m\u001b[38;5;241m=\u001b[39m\u001b[38;5;28mid\u001b[39m, err\u001b[38;5;241m=\u001b[39me)\n",
      "File \u001b[0;32m~/Projects/forks/llama_index/llama-index-core/llama_index/core/agent/runner/base.py:648\u001b[0m, in \u001b[0;36mAgentRunner.stream_chat\u001b[0;34m(self, message, chat_history, tool_choice)\u001b[0m\n\u001b[1;32m    646\u001b[0m \u001b[38;5;28;01mif\u001b[39;00m tool_choice \u001b[38;5;129;01mis\u001b[39;00m \u001b[38;5;28;01mNone\u001b[39;00m:\n\u001b[1;32m    647\u001b[0m     tool_choice \u001b[38;5;241m=\u001b[39m \u001b[38;5;28mself\u001b[39m\u001b[38;5;241m.\u001b[39mdefault_tool_choice\n\u001b[0;32m--> 648\u001b[0m chat_response \u001b[38;5;241m=\u001b[39m \u001b[38;5;28;43mself\u001b[39;49m\u001b[38;5;241;43m.\u001b[39;49m\u001b[43m_chat\u001b[49m\u001b[43m(\u001b[49m\n\u001b[1;32m    649\u001b[0m \u001b[43m    \u001b[49m\u001b[43mmessage\u001b[49m\u001b[38;5;241;43m=\u001b[39;49m\u001b[43mmessage\u001b[49m\u001b[43m,\u001b[49m\n\u001b[1;32m    650\u001b[0m \u001b[43m    \u001b[49m\u001b[43mchat_history\u001b[49m\u001b[38;5;241;43m=\u001b[39;49m\u001b[43mchat_history\u001b[49m\u001b[43m,\u001b[49m\n\u001b[1;32m    651\u001b[0m \u001b[43m    \u001b[49m\u001b[43mtool_choice\u001b[49m\u001b[38;5;241;43m=\u001b[39;49m\u001b[43mtool_choice\u001b[49m\u001b[43m,\u001b[49m\n\u001b[1;32m    652\u001b[0m \u001b[43m    \u001b[49m\u001b[43mmode\u001b[49m\u001b[38;5;241;43m=\u001b[39;49m\u001b[43mChatResponseMode\u001b[49m\u001b[38;5;241;43m.\u001b[39;49m\u001b[43mSTREAM\u001b[49m\u001b[43m,\u001b[49m\n\u001b[1;32m    653\u001b[0m \u001b[43m\u001b[49m\u001b[43m)\u001b[49m\n\u001b[1;32m    654\u001b[0m \u001b[38;5;28;01massert\u001b[39;00m \u001b[38;5;28misinstance\u001b[39m(chat_response, StreamingAgentChatResponse)\n\u001b[1;32m    655\u001b[0m \u001b[38;5;28;01mreturn\u001b[39;00m chat_response\n",
      "File \u001b[0;32m~/Projects/forks/llama_index/llama-index-core/llama_index/core/instrumentation/dispatcher.py:97\u001b[0m, in \u001b[0;36mDispatcher.span.<locals>.wrapper\u001b[0;34m(*args, **kwargs)\u001b[0m\n\u001b[1;32m     95\u001b[0m     result \u001b[38;5;241m=\u001b[39m func(\u001b[38;5;241m*\u001b[39margs, \u001b[38;5;241m*\u001b[39m\u001b[38;5;241m*\u001b[39mkwargs)\n\u001b[1;32m     96\u001b[0m \u001b[38;5;28;01mexcept\u001b[39;00m \u001b[38;5;167;01mException\u001b[39;00m \u001b[38;5;28;01mas\u001b[39;00m e:\n\u001b[0;32m---> 97\u001b[0m     \u001b[38;5;28;43mself\u001b[39;49m\u001b[38;5;241;43m.\u001b[39;49m\u001b[43mspan_drop\u001b[49m\u001b[43m(\u001b[49m\u001b[38;5;28;43mid\u001b[39;49m\u001b[38;5;241;43m=\u001b[39;49m\u001b[38;5;28;43mid\u001b[39;49m\u001b[43m,\u001b[49m\u001b[43m \u001b[49m\u001b[43merr\u001b[49m\u001b[38;5;241;43m=\u001b[39;49m\u001b[43me\u001b[49m\u001b[43m)\u001b[49m\n\u001b[1;32m     98\u001b[0m \u001b[38;5;28;01melse\u001b[39;00m:\n\u001b[1;32m     99\u001b[0m     \u001b[38;5;28mself\u001b[39m\u001b[38;5;241m.\u001b[39mspan_exit(\u001b[38;5;28mid\u001b[39m\u001b[38;5;241m=\u001b[39m\u001b[38;5;28mid\u001b[39m, result\u001b[38;5;241m=\u001b[39mresult)\n",
      "File \u001b[0;32m~/Projects/forks/llama_index/llama-index-core/llama_index/core/instrumentation/dispatcher.py:73\u001b[0m, in \u001b[0;36mDispatcher.span_drop\u001b[0;34m(self, id, err, **kwargs)\u001b[0m\n\u001b[1;32m     71\u001b[0m c \u001b[38;5;241m=\u001b[39m \u001b[38;5;28mself\u001b[39m\n\u001b[1;32m     72\u001b[0m \u001b[38;5;28;01mwhile\u001b[39;00m c:\n\u001b[0;32m---> 73\u001b[0m     \u001b[43mc\u001b[49m\u001b[38;5;241;43m.\u001b[39;49m\u001b[43mspan_handler\u001b[49m\u001b[38;5;241;43m.\u001b[39;49m\u001b[43mspan_drop\u001b[49m\u001b[43m(\u001b[49m\u001b[38;5;28;43mid\u001b[39;49m\u001b[43m,\u001b[49m\u001b[43m \u001b[49m\u001b[43merr\u001b[49m\u001b[43m,\u001b[49m\u001b[43m \u001b[49m\u001b[38;5;241;43m*\u001b[39;49m\u001b[38;5;241;43m*\u001b[39;49m\u001b[43mkwargs\u001b[49m\u001b[43m)\u001b[49m\n\u001b[1;32m     74\u001b[0m     \u001b[38;5;28;01mif\u001b[39;00m \u001b[38;5;129;01mnot\u001b[39;00m c\u001b[38;5;241m.\u001b[39mpropagate:\n\u001b[1;32m     75\u001b[0m         c \u001b[38;5;241m=\u001b[39m \u001b[38;5;28;01mNone\u001b[39;00m\n",
      "File \u001b[0;32m~/Projects/forks/llama_index/llama-index-core/llama_index/core/instrumentation/span_handlers/base.py:45\u001b[0m, in \u001b[0;36mBaseSpanHandler.span_drop\u001b[0;34m(self, id, err, **kwargs)\u001b[0m\n\u001b[1;32m     43\u001b[0m \u001b[38;5;28;01mdef\u001b[39;00m \u001b[38;5;21mspan_drop\u001b[39m(\u001b[38;5;28mself\u001b[39m, \u001b[38;5;28mid\u001b[39m: \u001b[38;5;28mstr\u001b[39m, err: Optional[\u001b[38;5;167;01mException\u001b[39;00m], \u001b[38;5;241m*\u001b[39m\u001b[38;5;241m*\u001b[39mkwargs) \u001b[38;5;241m-\u001b[39m\u001b[38;5;241m>\u001b[39m \u001b[38;5;28;01mNone\u001b[39;00m:\n\u001b[1;32m     44\u001b[0m \u001b[38;5;250m    \u001b[39m\u001b[38;5;124;03m\"\"\"Logic for dropping a span i.e. early exit.\"\"\"\u001b[39;00m\n\u001b[0;32m---> 45\u001b[0m     \u001b[38;5;28;43mself\u001b[39;49m\u001b[38;5;241;43m.\u001b[39;49m\u001b[43mprepare_to_drop_span\u001b[49m\u001b[43m(\u001b[49m\u001b[38;5;28;43mid\u001b[39;49m\u001b[43m,\u001b[49m\u001b[43m \u001b[49m\u001b[43merr\u001b[49m\u001b[43m,\u001b[49m\u001b[43m \u001b[49m\u001b[38;5;241;43m*\u001b[39;49m\u001b[38;5;241;43m*\u001b[39;49m\u001b[43mkwargs\u001b[49m\u001b[43m)\u001b[49m\n\u001b[1;32m     46\u001b[0m     \u001b[38;5;28;01mif\u001b[39;00m \u001b[38;5;28mself\u001b[39m\u001b[38;5;241m.\u001b[39mcurrent_span_id \u001b[38;5;241m==\u001b[39m \u001b[38;5;28mid\u001b[39m:\n\u001b[1;32m     47\u001b[0m         \u001b[38;5;28mself\u001b[39m\u001b[38;5;241m.\u001b[39mcurrent_span_id \u001b[38;5;241m=\u001b[39m \u001b[38;5;28mself\u001b[39m\u001b[38;5;241m.\u001b[39mopen_spans[\u001b[38;5;28mid\u001b[39m]\u001b[38;5;241m.\u001b[39mparent_id\n",
      "File \u001b[0;32m~/Projects/forks/llama_index/llama-index-core/llama_index/core/instrumentation/span_handlers/simple.py:36\u001b[0m, in \u001b[0;36mSimpleSpanHandler.prepare_to_drop_span\u001b[0;34m(self, id, err, **kwargs)\u001b[0m\n\u001b[1;32m     34\u001b[0m \u001b[38;5;250m\u001b[39m\u001b[38;5;124;03m\"\"\"Logic for droppping a span.\"\"\"\u001b[39;00m\n\u001b[1;32m     35\u001b[0m \u001b[38;5;28;01mif\u001b[39;00m err:\n\u001b[0;32m---> 36\u001b[0m     \u001b[38;5;28;01mraise\u001b[39;00m err\n\u001b[1;32m     37\u001b[0m \u001b[38;5;28;01mreturn\u001b[39;00m\n",
      "File \u001b[0;32m~/Projects/forks/llama_index/llama-index-core/llama_index/core/instrumentation/dispatcher.py:95\u001b[0m, in \u001b[0;36mDispatcher.span.<locals>.wrapper\u001b[0;34m(*args, **kwargs)\u001b[0m\n\u001b[1;32m     93\u001b[0m \u001b[38;5;28mself\u001b[39m\u001b[38;5;241m.\u001b[39mspan_enter(\u001b[38;5;28mid\u001b[39m\u001b[38;5;241m=\u001b[39m\u001b[38;5;28mid\u001b[39m, \u001b[38;5;241m*\u001b[39m\u001b[38;5;241m*\u001b[39mkwargs)\n\u001b[1;32m     94\u001b[0m \u001b[38;5;28;01mtry\u001b[39;00m:\n\u001b[0;32m---> 95\u001b[0m     result \u001b[38;5;241m=\u001b[39m \u001b[43mfunc\u001b[49m\u001b[43m(\u001b[49m\u001b[38;5;241;43m*\u001b[39;49m\u001b[43margs\u001b[49m\u001b[43m,\u001b[49m\u001b[43m \u001b[49m\u001b[38;5;241;43m*\u001b[39;49m\u001b[38;5;241;43m*\u001b[39;49m\u001b[43mkwargs\u001b[49m\u001b[43m)\u001b[49m\n\u001b[1;32m     96\u001b[0m \u001b[38;5;28;01mexcept\u001b[39;00m \u001b[38;5;167;01mException\u001b[39;00m \u001b[38;5;28;01mas\u001b[39;00m e:\n\u001b[1;32m     97\u001b[0m     \u001b[38;5;28mself\u001b[39m\u001b[38;5;241m.\u001b[39mspan_drop(\u001b[38;5;28mid\u001b[39m\u001b[38;5;241m=\u001b[39m\u001b[38;5;28mid\u001b[39m, err\u001b[38;5;241m=\u001b[39me)\n",
      "File \u001b[0;32m~/Projects/forks/llama_index/llama-index-core/llama_index/core/agent/runner/base.py:536\u001b[0m, in \u001b[0;36mAgentRunner._chat\u001b[0;34m(self, message, chat_history, tool_choice, mode)\u001b[0m\n\u001b[1;32m    533\u001b[0m task \u001b[38;5;241m=\u001b[39m \u001b[38;5;28mself\u001b[39m\u001b[38;5;241m.\u001b[39mcreate_task(message)\n\u001b[1;32m    535\u001b[0m result_output \u001b[38;5;241m=\u001b[39m \u001b[38;5;28;01mNone\u001b[39;00m\n\u001b[0;32m--> 536\u001b[0m event \u001b[38;5;241m=\u001b[39m \u001b[43mAgentChatWithStepStartEvents\u001b[49m()\n\u001b[1;32m    537\u001b[0m \u001b[38;5;28mprint\u001b[39m(\u001b[38;5;124mf\u001b[39m\u001b[38;5;124m\"\u001b[39m\u001b[38;5;124mpassing, \u001b[39m\u001b[38;5;132;01m{\u001b[39;00mevent\u001b[38;5;132;01m}\u001b[39;00m\u001b[38;5;124m\"\u001b[39m, flush\u001b[38;5;241m=\u001b[39m\u001b[38;5;28;01mTrue\u001b[39;00m)\n\u001b[1;32m    538\u001b[0m dispatcher\u001b[38;5;241m.\u001b[39mevent()\n",
      "\u001b[0;31mNameError\u001b[0m: name 'AgentChatWithStepStartEvents' is not defined"
     ]
    }
   ],
   "source": [
    "streaming_response = chat_engine.stream_chat(\"Tell me a joke.\")"
   ]
  },
  {
   "cell_type": "code",
   "execution_count": null,
   "id": "63869629-9d2f-4543-a5c8-672071e257ae",
   "metadata": {},
   "outputs": [
    {
     "data": {
      "text/plain": [
       "{}"
      ]
     },
     "execution_count": null,
     "metadata": {},
     "output_type": "execute_result"
    }
   ],
   "source": [
    "dispatcher.span_handler.open_spans"
   ]
  },
  {
   "cell_type": "code",
   "execution_count": null,
   "id": "27e4c33f-ee90-4716-8dc9-2ed22edd5197",
   "metadata": {},
   "outputs": [
    {
     "ename": "AttributeError",
     "evalue": "'NoneType' object has no attribute 'response_gen'",
     "output_type": "error",
     "traceback": [
      "\u001b[0;31m---------------------------------------------------------------------------\u001b[0m",
      "\u001b[0;31mAttributeError\u001b[0m                            Traceback (most recent call last)",
      "Cell \u001b[0;32mIn[24], line 1\u001b[0m\n\u001b[0;32m----> 1\u001b[0m \u001b[38;5;28;01mfor\u001b[39;00m token \u001b[38;5;129;01min\u001b[39;00m \u001b[43mstreaming_response\u001b[49m\u001b[38;5;241;43m.\u001b[39;49m\u001b[43mresponse_gen\u001b[49m:\n\u001b[1;32m      2\u001b[0m     \u001b[38;5;28mprint\u001b[39m(token, end\u001b[38;5;241m=\u001b[39m\u001b[38;5;124m\"\u001b[39m\u001b[38;5;124m\"\u001b[39m)\n",
      "\u001b[0;31mAttributeError\u001b[0m: 'NoneType' object has no attribute 'response_gen'"
     ]
    }
   ],
   "source": [
    "for token in streaming_response.response_gen:\n",
    "    print(token, end=\"\")"
   ]
  },
  {
   "cell_type": "markdown",
   "id": "4bc1ef8f-caff-481b-b764-c12d1c32c6f0",
   "metadata": {},
   "source": [
    "### Very Primitive Tree Viz"
   ]
  },
  {
   "cell_type": "code",
   "execution_count": null,
   "id": "6e7a88eb-8ed3-482a-9a70-ce332b2f7e15",
   "metadata": {},
   "outputs": [],
   "source": [
    "# %pip install treelib -q"
   ]
  },
  {
   "cell_type": "code",
   "execution_count": null,
   "id": "efd1c91d-4ef7-4d26-a569-6ef8d11fc043",
   "metadata": {},
   "outputs": [],
   "source": [
    "from treelib import Node, Tree\n",
    "\n",
    "tree = Tree()"
   ]
  },
  {
   "cell_type": "code",
   "execution_count": null,
   "id": "f2cd008f-8361-47bd-b4a2-251d9245e611",
   "metadata": {},
   "outputs": [],
   "source": [
    "sorted_spans = sorted(\n",
    "    dispatcher.span_handler.completed_spans, key=lambda x: x.start_time\n",
    ")"
   ]
  },
  {
   "cell_type": "code",
   "execution_count": null,
   "id": "f39ece99-5eac-466c-a9ca-caee4bf4dabc",
   "metadata": {},
   "outputs": [
    {
     "data": {
      "text/plain": [
       "[SimpleSpan(id_='AgentRunner.stream_chat-3eeaa89f-0d1b-4e4e-9730-8bd667fe37e4', parent_id=None, start_time=datetime.datetime(2024, 3, 11, 16, 55, 32, 121490), end_time=datetime.datetime(2024, 3, 11, 16, 55, 34, 91977), duration=1.970487),\n",
       " SimpleSpan(id_='AgentRunner._chat-8d7be06d-2113-45e4-956a-23d672026ba6', parent_id='AgentRunner.stream_chat-3eeaa89f-0d1b-4e4e-9730-8bd667fe37e4', start_time=datetime.datetime(2024, 3, 11, 16, 55, 32, 121878), end_time=datetime.datetime(2024, 3, 11, 16, 55, 34, 91920), duration=1.970042),\n",
       " SimpleSpan(id_='AgentRunner._run_step-a9ee29e6-848e-4606-a0e9-8481ef4b7e4b', parent_id='AgentRunner._chat-8d7be06d-2113-45e4-956a-23d672026ba6', start_time=datetime.datetime(2024, 3, 11, 16, 55, 32, 124157), end_time=datetime.datetime(2024, 3, 11, 16, 55, 33, 715950), duration=1.591793),\n",
       " SimpleSpan(id_='OpenAIAgentWorker._run_step-1f1d9b69-ca3d-464b-bfb1-a3a0a9b62186', parent_id='AgentRunner._run_step-a9ee29e6-848e-4606-a0e9-8481ef4b7e4b', start_time=datetime.datetime(2024, 3, 11, 16, 55, 32, 124629), end_time=datetime.datetime(2024, 3, 11, 16, 55, 33, 715581), duration=1.590952),\n",
       " SimpleSpan(id_='OpenAIAgentWorker._call_function-4a83bfe6-f145-4aab-8cd7-9292948a8973', parent_id='OpenAIAgentWorker._run_step-1f1d9b69-ca3d-464b-bfb1-a3a0a9b62186', start_time=datetime.datetime(2024, 3, 11, 16, 55, 32, 866309), end_time=datetime.datetime(2024, 3, 11, 16, 55, 33, 715400), duration=0.849091),\n",
       " SimpleSpan(id_='call_function-40673cbe-809b-41f6-8ef7-e1df744b8035', parent_id='OpenAIAgentWorker._call_function-4a83bfe6-f145-4aab-8cd7-9292948a8973', start_time=datetime.datetime(2024, 3, 11, 16, 55, 32, 868353), end_time=datetime.datetime(2024, 3, 11, 16, 55, 33, 715340), duration=0.846987),\n",
       " SimpleSpan(id_='BaseQueryEngine.query-6b840334-9ecc-4bec-a63f-eaeb02264c7f', parent_id='call_function-40673cbe-809b-41f6-8ef7-e1df744b8035', start_time=datetime.datetime(2024, 3, 11, 16, 55, 32, 868540), end_time=datetime.datetime(2024, 3, 11, 16, 55, 33, 715171), duration=0.846631),\n",
       " SimpleSpan(id_='RetrieverQueryEngine._query-f4e86072-f8f8-4489-bca9-e819b0fcf416', parent_id='BaseQueryEngine.query-6b840334-9ecc-4bec-a63f-eaeb02264c7f', start_time=datetime.datetime(2024, 3, 11, 16, 55, 32, 869206), end_time=datetime.datetime(2024, 3, 11, 16, 55, 33, 714811), duration=0.845605),\n",
       " SimpleSpan(id_='BaseRetriever.retrieve-d13492e7-6762-49f7-841f-8b1a926161b8', parent_id='RetrieverQueryEngine._query-f4e86072-f8f8-4489-bca9-e819b0fcf416', start_time=datetime.datetime(2024, 3, 11, 16, 55, 32, 869318), end_time=datetime.datetime(2024, 3, 11, 16, 55, 33, 103292), duration=0.233974),\n",
       " SimpleSpan(id_='VectorIndexRetriever._retrieve-457a481a-0b3b-4504-9127-a74da2607971', parent_id='BaseRetriever.retrieve-d13492e7-6762-49f7-841f-8b1a926161b8', start_time=datetime.datetime(2024, 3, 11, 16, 55, 32, 869873), end_time=datetime.datetime(2024, 3, 11, 16, 55, 33, 101450), duration=0.231577),\n",
       " SimpleSpan(id_='BaseSynthesizer.synthesize-bafac62b-d0e4-493e-bac0-884005252cf2', parent_id='RetrieverQueryEngine._query-f4e86072-f8f8-4489-bca9-e819b0fcf416', start_time=datetime.datetime(2024, 3, 11, 16, 55, 33, 103439), end_time=datetime.datetime(2024, 3, 11, 16, 55, 33, 714705), duration=0.611266),\n",
       " SimpleSpan(id_='CompactAndRefine.get_response-e55575a9-9abe-46ef-b612-8eaca8b11643', parent_id='BaseSynthesizer.synthesize-bafac62b-d0e4-493e-bac0-884005252cf2', start_time=datetime.datetime(2024, 3, 11, 16, 55, 33, 104383), end_time=datetime.datetime(2024, 3, 11, 16, 55, 33, 714302), duration=0.609919),\n",
       " SimpleSpan(id_='Refine.get_response-b16d3364-8668-4740-a5f7-d6096c9106c9', parent_id='CompactAndRefine.get_response-e55575a9-9abe-46ef-b612-8eaca8b11643', start_time=datetime.datetime(2024, 3, 11, 16, 55, 33, 115076), end_time=datetime.datetime(2024, 3, 11, 16, 55, 33, 714265), duration=0.599189),\n",
       " SimpleSpan(id_='LLM.predict-7e09b5f3-1e47-44eb-b8d6-c3eb04603d9c', parent_id='Refine.get_response-b16d3364-8668-4740-a5f7-d6096c9106c9', start_time=datetime.datetime(2024, 3, 11, 16, 55, 33, 119058), end_time=datetime.datetime(2024, 3, 11, 16, 55, 33, 713717), duration=0.594659),\n",
       " SimpleSpan(id_='AgentRunner._run_step-12d7d22c-aaba-41b7-a424-7fd548a827c0', parent_id='AgentRunner._chat-8d7be06d-2113-45e4-956a-23d672026ba6', start_time=datetime.datetime(2024, 3, 11, 16, 55, 33, 716094), end_time=datetime.datetime(2024, 3, 11, 16, 55, 34, 91779), duration=0.375685),\n",
       " SimpleSpan(id_='OpenAIAgentWorker._run_step-a6110158-0c8a-4dc0-a567-f4f6b44175bf', parent_id='AgentRunner._run_step-12d7d22c-aaba-41b7-a424-7fd548a827c0', start_time=datetime.datetime(2024, 3, 11, 16, 55, 33, 716449), end_time=datetime.datetime(2024, 3, 11, 16, 55, 34, 89942), duration=0.373493)]"
      ]
     },
     "execution_count": null,
     "metadata": {},
     "output_type": "execute_result"
    }
   ],
   "source": [
    "sorted_spans"
   ]
  },
  {
   "cell_type": "code",
   "execution_count": null,
   "id": "ec09a7a7-1e61-4842-8d73-27eab47b50e6",
   "metadata": {},
   "outputs": [],
   "source": [
    "for span in sorted_spans:\n",
    "    tree.create_node(\n",
    "        tag=f\"{span.id_} ({span.duration})\",\n",
    "        identifier=span.id_,\n",
    "        parent=span.parent_id,\n",
    "        data=span.start_time,\n",
    "    )"
   ]
  },
  {
   "cell_type": "code",
   "execution_count": null,
   "id": "ef11d194-3ecd-45c9-8ad9-bc0c8ef8f6b2",
   "metadata": {},
   "outputs": [
    {
     "name": "stdout",
     "output_type": "stream",
     "text": [
      "AgentRunner.stream_chat-3eeaa89f-0d1b-4e4e-9730-8bd667fe37e4 (1.970487)\n",
      "└── AgentRunner._chat-8d7be06d-2113-45e4-956a-23d672026ba6 (1.970042)\n",
      "    ├── AgentRunner._run_step-a9ee29e6-848e-4606-a0e9-8481ef4b7e4b (1.591793)\n",
      "    │   └── OpenAIAgentWorker._run_step-1f1d9b69-ca3d-464b-bfb1-a3a0a9b62186 (1.590952)\n",
      "    │       └── OpenAIAgentWorker._call_function-4a83bfe6-f145-4aab-8cd7-9292948a8973 (0.849091)\n",
      "    │           └── call_function-40673cbe-809b-41f6-8ef7-e1df744b8035 (0.846987)\n",
      "    │               └── BaseQueryEngine.query-6b840334-9ecc-4bec-a63f-eaeb02264c7f (0.846631)\n",
      "    │                   └── RetrieverQueryEngine._query-f4e86072-f8f8-4489-bca9-e819b0fcf416 (0.845605)\n",
      "    │                       ├── BaseRetriever.retrieve-d13492e7-6762-49f7-841f-8b1a926161b8 (0.233974)\n",
      "    │                       │   └── VectorIndexRetriever._retrieve-457a481a-0b3b-4504-9127-a74da2607971 (0.231577)\n",
      "    │                       └── BaseSynthesizer.synthesize-bafac62b-d0e4-493e-bac0-884005252cf2 (0.611266)\n",
      "    │                           └── CompactAndRefine.get_response-e55575a9-9abe-46ef-b612-8eaca8b11643 (0.609919)\n",
      "    │                               └── Refine.get_response-b16d3364-8668-4740-a5f7-d6096c9106c9 (0.599189)\n",
      "    │                                   └── LLM.predict-7e09b5f3-1e47-44eb-b8d6-c3eb04603d9c (0.594659)\n",
      "    └── AgentRunner._run_step-12d7d22c-aaba-41b7-a424-7fd548a827c0 (0.375685)\n",
      "        └── OpenAIAgentWorker._run_step-a6110158-0c8a-4dc0-a567-f4f6b44175bf (0.373493)\n",
      "\n"
     ]
    }
   ],
   "source": [
    "print(tree.show(stdout=False, sorting=True, key=lambda node: node.data))"
   ]
  }
 ],
 "metadata": {
  "kernelspec": {
   "display_name": "fork-llama-index-core",
   "language": "python",
   "name": "fork-llama-index-core"
  },
  "language_info": {
   "codemirror_mode": {
    "name": "ipython",
    "version": 3
   },
   "file_extension": ".py",
   "mimetype": "text/x-python",
   "name": "python",
   "nbconvert_exporter": "python",
   "pygments_lexer": "ipython3"
  }
 },
 "nbformat": 4,
 "nbformat_minor": 5
}
