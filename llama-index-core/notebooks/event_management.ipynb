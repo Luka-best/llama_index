{
 "cells": [
  {
   "cell_type": "code",
   "execution_count": null,
   "id": "0d716b26-57ce-48e8-bbb8-bc879fcc2b24",
   "metadata": {},
   "outputs": [
    {
     "name": "stdout",
     "output_type": "stream",
     "text": [
      "\n",
      "\u001b[1m[\u001b[0m\u001b[34;49mnotice\u001b[0m\u001b[1;39;49m]\u001b[0m\u001b[39;49m A new release of pip is available: \u001b[0m\u001b[31;49m23.3.2\u001b[0m\u001b[39;49m -> \u001b[0m\u001b[32;49m24.0\u001b[0m\n",
      "\u001b[1m[\u001b[0m\u001b[34;49mnotice\u001b[0m\u001b[1;39;49m]\u001b[0m\u001b[39;49m To update, run: \u001b[0m\u001b[32;49mpip install --upgrade pip\u001b[0m\n",
      "Note: you may need to restart the kernel to use updated packages.\n"
     ]
    }
   ],
   "source": [
    "%pip install llama-index-readers-file -q"
   ]
  },
  {
   "cell_type": "code",
   "execution_count": null,
   "id": "9692504e-51a2-4a58-86ae-5de5f5994966",
   "metadata": {},
   "outputs": [],
   "source": [
    "import nest_asyncio\n",
    "\n",
    "nest_asyncio.apply()"
   ]
  },
  {
   "cell_type": "markdown",
   "id": "3cb70687-c568-4991-b962-778b5edb3dbf",
   "metadata": {},
   "source": [
    "### Custom handlers"
   ]
  },
  {
   "cell_type": "code",
   "execution_count": null,
   "id": "8c4ec173-3dc9-49c6-b613-b4a9bf88871f",
   "metadata": {},
   "outputs": [],
   "source": [
    "from llama_index.core.instrumentation.event_handlers import BaseEventHandler\n",
    "from llama_index.core.instrumentation.span_handlers import SimpleSpanHandler"
   ]
  },
  {
   "cell_type": "code",
   "execution_count": null,
   "id": "d5e113aa-f507-4c4e-89a9-bfdc6dbf31ec",
   "metadata": {},
   "outputs": [],
   "source": [
    "class MyEventHandler(BaseEventHandler):\n",
    "    @classmethod\n",
    "    def class_name(cls) -> str:\n",
    "        \"\"\"Class name.\"\"\"\n",
    "        return \"MyEventHandler\"\n",
    "\n",
    "    def handle(self, event) -> None:\n",
    "        \"\"\"Logic for handling event.\"\"\"\n",
    "        print(event.class_name())\n",
    "        with open(\"log.txt\", \"a\") as f:\n",
    "            f.write(str(event))\n",
    "            f.write(\"\\n\")\n",
    "\n",
    "\n",
    "# class MyQueryEndEventHandler(BaseEventHandler):\n",
    "#     @classmethod\n",
    "#     def class_name(cls) -> str:\n",
    "#         \"\"\"Class name.\"\"\"\n",
    "#         return \"MyQueryEndEventHandler\"\n",
    "\n",
    "#     def handle(self, event) -> None:\n",
    "#         \"\"\"Logic for handling event.\"\"\"\n",
    "#         if isinstance(event, QueryEndEvent):\n",
    "#             print(self.class_name())\n",
    "#             with open(\"log.txt\", \"a\") as f:\n",
    "#                 f.write(str(event))\n",
    "#                 f.write(\"\\n\")"
   ]
  },
  {
   "cell_type": "markdown",
   "id": "9ab6d442-6d40-4a19-ac9b-1253ba00028e",
   "metadata": {},
   "source": [
    "### Dispatcher\n"
   ]
  },
  {
   "cell_type": "code",
   "execution_count": null,
   "id": "d3138230-2014-4030-9076-59f9d06c0b8d",
   "metadata": {},
   "outputs": [],
   "source": [
    "import llama_index.core.instrumentation as instrument\n",
    "\n",
    "dispatcher = instrument.get_dispatcher()  # modify root dispatcher"
   ]
  },
  {
   "cell_type": "code",
   "execution_count": null,
   "id": "8d65a394-e390-486b-b261-e2f318c4b9e1",
   "metadata": {},
   "outputs": [],
   "source": [
    "dispatcher.add_event_handler(MyEventHandler())\n",
    "dispatcher.span_handler = SimpleSpanHandler()"
   ]
  },
  {
   "cell_type": "code",
   "execution_count": null,
   "id": "77910c6a-c634-499f-8519-cad98179742e",
   "metadata": {},
   "outputs": [
    {
     "data": {
      "text/plain": [
       "Dispatcher(name='root', event_handlers=[NullEventHandler(), MyEventHandler()], span_handler=SimpleSpanHandler(open_spans={}, current_span_id=None, completed_spans=[]), parent_name='', manager=None, root_name='root', propagate=False)"
      ]
     },
     "execution_count": null,
     "metadata": {},
     "output_type": "execute_result"
    }
   ],
   "source": [
    "dispatcher"
   ]
  },
  {
   "cell_type": "code",
   "execution_count": null,
   "id": "bb3b145f-77b0-49dd-af88-adcdc2363c83",
   "metadata": {},
   "outputs": [],
   "source": [
    "qe_dispatcher = instrument.get_dispatcher(\"llama_index.core.base.query_engine\")"
   ]
  },
  {
   "cell_type": "code",
   "execution_count": null,
   "id": "5d66abf7-dfd9-4bbc-95b2-25068a76ab81",
   "metadata": {},
   "outputs": [
    {
     "data": {
      "text/plain": [
       "Dispatcher(name='llama_index.core.base.query_engine', event_handlers=[], span_handler=NullSpanHandler(open_spans={}, current_span_id=None), parent_name='root', manager=<llama_index.core.instrumentation.dispatcher.Manager object at 0x1422ae8f0>, root_name='root', propagate=True)"
      ]
     },
     "execution_count": null,
     "metadata": {},
     "output_type": "execute_result"
    }
   ],
   "source": [
    "qe_dispatcher"
   ]
  },
  {
   "cell_type": "code",
   "execution_count": null,
   "id": "fe83cad8-5980-4250-9a75-36a12b9a2376",
   "metadata": {},
   "outputs": [
    {
     "data": {
      "text/plain": [
       "Dispatcher(name='root', event_handlers=[NullEventHandler(), MyEventHandler()], span_handler=SimpleSpanHandler(open_spans={}, current_span_id=None, completed_spans=[]), parent_name='', manager=None, root_name='root', propagate=False)"
      ]
     },
     "execution_count": null,
     "metadata": {},
     "output_type": "execute_result"
    }
   ],
   "source": [
    "qe_dispatcher.parent"
   ]
  },
  {
   "cell_type": "code",
   "execution_count": null,
   "id": "23cf980e-7f4c-4d49-a2e1-83fbeeac6ac2",
   "metadata": {},
   "outputs": [
    {
     "data": {
      "text/plain": [
       "Dispatcher(name='root', event_handlers=[NullEventHandler(), MyEventHandler()], span_handler=SimpleSpanHandler(open_spans={}, current_span_id=None, completed_spans=[]), parent_name='', manager=None, root_name='root', propagate=False)"
      ]
     },
     "execution_count": null,
     "metadata": {},
     "output_type": "execute_result"
    }
   ],
   "source": [
    "qe_dispatcher.root"
   ]
  },
  {
   "cell_type": "markdown",
   "id": "2ebcd2fa-84d7-459d-9d33-4d02f52c48df",
   "metadata": {},
   "source": [
    "### Test It Out"
   ]
  },
  {
   "cell_type": "code",
   "execution_count": null,
   "id": "f02f8dc5-18da-4e70-abed-614e0b98ce8c",
   "metadata": {},
   "outputs": [],
   "source": [
    "from llama_index.core import SimpleDirectoryReader, VectorStoreIndex\n",
    "\n",
    "documents = SimpleDirectoryReader(input_dir=\"./data\").load_data()\n",
    "index = VectorStoreIndex.from_documents(documents)"
   ]
  },
  {
   "cell_type": "code",
   "execution_count": null,
   "id": "a3de7479-e48e-42fd-8515-f04e1c314469",
   "metadata": {},
   "outputs": [],
   "source": [
    "query_engine = index.as_query_engine()"
   ]
  },
  {
   "cell_type": "code",
   "execution_count": null,
   "id": "5719b4d5-d50b-49bc-80ca-a1233817c64d",
   "metadata": {},
   "outputs": [
    {
     "name": "stdout",
     "output_type": "stream",
     "text": [
      "QueryStartEvent\n",
      "RetrievalStartEvent\n",
      "RetrievalEndEvent\n",
      "SynthesizeStartEvent\n",
      "GetResponseStartEvent\n",
      "LLMPredictStartEvent\n",
      "LLMPredictEndEvent\n",
      "GetResponseEndEvent\n",
      "SynthesizeEndEvent\n",
      "QueryEndEvent\n"
     ]
    }
   ],
   "source": [
    "query_result = query_engine.query(\"Who is Paul?\")"
   ]
  },
  {
   "cell_type": "code",
   "execution_count": null,
   "id": "6ac549a6-f10d-4b12-98b6-5352ab3c0df6",
   "metadata": {},
   "outputs": [
    {
     "data": {
      "text/plain": [
       "[SimpleSpan(id_='BaseRetriever.retrieve-91639d99-5285-49e9-89ca-13ee3b176aee', parent_id='RetrieverQueryEngine._query-9fb670e4-787b-42cf-8f03-84109f647971', start_time=datetime.datetime(2024, 3, 6, 16, 43, 57, 35059), end_time=datetime.datetime(2024, 3, 6, 16, 43, 57, 195471), duration=0.160412),\n",
       " SimpleSpan(id_='LLM.predict-bdb613f4-466e-4b25-8126-8aa91526b25c', parent_id='Refine.get_response-807d5060-c340-4a9e-b660-fb0c6a4dafd9', start_time=datetime.datetime(2024, 3, 6, 16, 43, 57, 201071), end_time=datetime.datetime(2024, 3, 6, 16, 43, 58, 961112), duration=1.760041),\n",
       " SimpleSpan(id_='Refine.get_response-807d5060-c340-4a9e-b660-fb0c6a4dafd9', parent_id='CompactAndRefine.get_response-eaa177a5-61c4-4e75-bcc9-bf82b300400e', start_time=datetime.datetime(2024, 3, 6, 16, 43, 57, 198646), end_time=datetime.datetime(2024, 3, 6, 16, 43, 58, 961409), duration=1.762763),\n",
       " SimpleSpan(id_='CompactAndRefine.get_response-eaa177a5-61c4-4e75-bcc9-bf82b300400e', parent_id='BaseSynthesizer.synthesize-a8fabe88-45d2-4c2e-a817-b68b52211f9a', start_time=datetime.datetime(2024, 3, 6, 16, 43, 57, 195935), end_time=datetime.datetime(2024, 3, 6, 16, 43, 58, 961451), duration=1.765516),\n",
       " SimpleSpan(id_='BaseSynthesizer.synthesize-a8fabe88-45d2-4c2e-a817-b68b52211f9a', parent_id='RetrieverQueryEngine._query-9fb670e4-787b-42cf-8f03-84109f647971', start_time=datetime.datetime(2024, 3, 6, 16, 43, 57, 195514), end_time=datetime.datetime(2024, 3, 6, 16, 43, 58, 961663), duration=1.766149),\n",
       " SimpleSpan(id_='RetrieverQueryEngine._query-9fb670e4-787b-42cf-8f03-84109f647971', parent_id='BaseQueryEngine.query-c46703f1-5312-4852-a58b-559559ca9bea', start_time=datetime.datetime(2024, 3, 6, 16, 43, 57, 35045), end_time=datetime.datetime(2024, 3, 6, 16, 43, 58, 961707), duration=1.926662),\n",
       " SimpleSpan(id_='BaseQueryEngine.query-c46703f1-5312-4852-a58b-559559ca9bea', parent_id=None, start_time=datetime.datetime(2024, 3, 6, 16, 43, 57, 34425), end_time=datetime.datetime(2024, 3, 6, 16, 43, 58, 961874), duration=1.927449)]"
      ]
     },
     "execution_count": null,
     "metadata": {},
     "output_type": "execute_result"
    }
   ],
   "source": [
    "dispatcher.span_handler.completed_spans"
   ]
  },
  {
   "cell_type": "code",
   "execution_count": null,
   "id": "23e70e94-e116-4e00-b75d-d13a3b1c23d8",
   "metadata": {},
   "outputs": [
    {
     "name": "stdout",
     "output_type": "stream",
     "text": [
      "QueryStartEvent\n",
      "RetrievalStartEvent\n",
      "RetrievalEndEvent\n",
      "SynthesizeStartEvent\n",
      "GetResponseStartEvent\n",
      "LLMPredictStartEvent\n",
      "LLMPredictEndEvent\n",
      "GetResponseEndEvent\n",
      "SynthesizeEndEvent\n",
      "QueryEndEvent\n"
     ]
    }
   ],
   "source": [
    "query_result = await query_engine.aquery(\"Who is Paul?\")"
   ]
  },
  {
   "cell_type": "code",
   "execution_count": null,
   "id": "286951aa-d121-4dfe-b6af-0562a708fdfb",
   "metadata": {},
   "outputs": [
    {
     "data": {
      "text/plain": [
       "[SimpleSpan(id_='BaseRetriever.retrieve-91639d99-5285-49e9-89ca-13ee3b176aee', parent_id='RetrieverQueryEngine._query-9fb670e4-787b-42cf-8f03-84109f647971', start_time=datetime.datetime(2024, 3, 6, 16, 43, 57, 35059), end_time=datetime.datetime(2024, 3, 6, 16, 43, 57, 195471), duration=0.160412),\n",
       " SimpleSpan(id_='LLM.predict-bdb613f4-466e-4b25-8126-8aa91526b25c', parent_id='Refine.get_response-807d5060-c340-4a9e-b660-fb0c6a4dafd9', start_time=datetime.datetime(2024, 3, 6, 16, 43, 57, 201071), end_time=datetime.datetime(2024, 3, 6, 16, 43, 58, 961112), duration=1.760041),\n",
       " SimpleSpan(id_='Refine.get_response-807d5060-c340-4a9e-b660-fb0c6a4dafd9', parent_id='CompactAndRefine.get_response-eaa177a5-61c4-4e75-bcc9-bf82b300400e', start_time=datetime.datetime(2024, 3, 6, 16, 43, 57, 198646), end_time=datetime.datetime(2024, 3, 6, 16, 43, 58, 961409), duration=1.762763),\n",
       " SimpleSpan(id_='CompactAndRefine.get_response-eaa177a5-61c4-4e75-bcc9-bf82b300400e', parent_id='BaseSynthesizer.synthesize-a8fabe88-45d2-4c2e-a817-b68b52211f9a', start_time=datetime.datetime(2024, 3, 6, 16, 43, 57, 195935), end_time=datetime.datetime(2024, 3, 6, 16, 43, 58, 961451), duration=1.765516),\n",
       " SimpleSpan(id_='BaseSynthesizer.synthesize-a8fabe88-45d2-4c2e-a817-b68b52211f9a', parent_id='RetrieverQueryEngine._query-9fb670e4-787b-42cf-8f03-84109f647971', start_time=datetime.datetime(2024, 3, 6, 16, 43, 57, 195514), end_time=datetime.datetime(2024, 3, 6, 16, 43, 58, 961663), duration=1.766149),\n",
       " SimpleSpan(id_='RetrieverQueryEngine._query-9fb670e4-787b-42cf-8f03-84109f647971', parent_id='BaseQueryEngine.query-c46703f1-5312-4852-a58b-559559ca9bea', start_time=datetime.datetime(2024, 3, 6, 16, 43, 57, 35045), end_time=datetime.datetime(2024, 3, 6, 16, 43, 58, 961707), duration=1.926662),\n",
       " SimpleSpan(id_='BaseQueryEngine.query-c46703f1-5312-4852-a58b-559559ca9bea', parent_id=None, start_time=datetime.datetime(2024, 3, 6, 16, 43, 57, 34425), end_time=datetime.datetime(2024, 3, 6, 16, 43, 58, 961874), duration=1.927449),\n",
       " SimpleSpan(id_='BaseRetriever.aretrieve-393d553d-fe84-4d4a-b666-8d7e97dd5d60', parent_id='RetrieverQueryEngine._aquery-1f60a248-fc22-4c3f-b5af-9409c9588b73', start_time=datetime.datetime(2024, 3, 6, 16, 44, 35, 227915), end_time=datetime.datetime(2024, 3, 6, 16, 44, 35, 436447), duration=0.208532),\n",
       " SimpleSpan(id_='LLM.apredict-095c5c08-b9b3-4d10-bfc9-145003f63ccf', parent_id='Refine.aget_response-dba37da3-7738-4e3e-991a-c1497eb5e666', start_time=datetime.datetime(2024, 3, 6, 16, 44, 35, 447102), end_time=datetime.datetime(2024, 3, 6, 16, 44, 36, 743535), duration=1.296433),\n",
       " SimpleSpan(id_='Refine.aget_response-dba37da3-7738-4e3e-991a-c1497eb5e666', parent_id='CompactAndRefine.aget_response-21ae2928-3b24-4307-9e3c-7e3ddeb674f2', start_time=datetime.datetime(2024, 3, 6, 16, 44, 35, 443228), end_time=datetime.datetime(2024, 3, 6, 16, 44, 36, 743798), duration=1.30057),\n",
       " SimpleSpan(id_='CompactAndRefine.aget_response-21ae2928-3b24-4307-9e3c-7e3ddeb674f2', parent_id='BaseSynthesizer.asynthesize-9a358cf6-3bce-4523-9c9e-4aa9b02b56a9', start_time=datetime.datetime(2024, 3, 6, 16, 44, 35, 436856), end_time=datetime.datetime(2024, 3, 6, 16, 44, 36, 743813), duration=1.306957),\n",
       " SimpleSpan(id_='BaseSynthesizer.asynthesize-9a358cf6-3bce-4523-9c9e-4aa9b02b56a9', parent_id='RetrieverQueryEngine._aquery-1f60a248-fc22-4c3f-b5af-9409c9588b73', start_time=datetime.datetime(2024, 3, 6, 16, 44, 35, 436558), end_time=datetime.datetime(2024, 3, 6, 16, 44, 36, 744002), duration=1.307444),\n",
       " SimpleSpan(id_='RetrieverQueryEngine._aquery-1f60a248-fc22-4c3f-b5af-9409c9588b73', parent_id='BaseQueryEngine.aquery-ecd4a8cb-15ba-42a6-a709-018eb13ffe3e', start_time=datetime.datetime(2024, 3, 6, 16, 44, 35, 227793), end_time=datetime.datetime(2024, 3, 6, 16, 44, 36, 744040), duration=1.516247),\n",
       " SimpleSpan(id_='BaseQueryEngine.aquery-ecd4a8cb-15ba-42a6-a709-018eb13ffe3e', parent_id=None, start_time=datetime.datetime(2024, 3, 6, 16, 44, 35, 225932), end_time=datetime.datetime(2024, 3, 6, 16, 44, 36, 744199), duration=1.518267)]"
      ]
     },
     "execution_count": null,
     "metadata": {},
     "output_type": "execute_result"
    }
   ],
   "source": [
    "dispatcher.span_handler.completed_spans"
   ]
  },
  {
   "cell_type": "markdown",
   "id": "4bc1ef8f-caff-481b-b764-c12d1c32c6f0",
   "metadata": {},
   "source": [
    "### Very Primitive Tree Viz"
   ]
  },
  {
   "cell_type": "code",
   "execution_count": null,
   "id": "6e7a88eb-8ed3-482a-9a70-ce332b2f7e15",
   "metadata": {},
   "outputs": [
    {
     "name": "stdout",
     "output_type": "stream",
     "text": [
      "\n",
      "\u001b[1m[\u001b[0m\u001b[34;49mnotice\u001b[0m\u001b[1;39;49m]\u001b[0m\u001b[39;49m A new release of pip is available: \u001b[0m\u001b[31;49m23.3.2\u001b[0m\u001b[39;49m -> \u001b[0m\u001b[32;49m24.0\u001b[0m\n",
      "\u001b[1m[\u001b[0m\u001b[34;49mnotice\u001b[0m\u001b[1;39;49m]\u001b[0m\u001b[39;49m To update, run: \u001b[0m\u001b[32;49mpip install --upgrade pip\u001b[0m\n",
      "Note: you may need to restart the kernel to use updated packages.\n"
     ]
    }
   ],
   "source": [
    "%pip install treelib -q"
   ]
  },
  {
   "cell_type": "code",
   "execution_count": null,
   "id": "efd1c91d-4ef7-4d26-a569-6ef8d11fc043",
   "metadata": {},
   "outputs": [],
   "source": [
    "from treelib import Node, Tree\n",
    "\n",
    "tree = Tree()"
   ]
  },
  {
   "cell_type": "code",
   "execution_count": null,
   "id": "ec09a7a7-1e61-4842-8d73-27eab47b50e6",
   "metadata": {},
   "outputs": [],
   "source": [
    "for span in reversed(dispatcher.span_handler.completed_spans[:7]):\n",
    "    tree.create_node(\n",
    "        tag=f\"{span.id_} ({span.duration})\",\n",
    "        identifier=span.id_,\n",
    "        parent=span.parent_id,\n",
    "        data=span.duration,\n",
    "    )"
   ]
  },
  {
   "cell_type": "code",
   "execution_count": null,
   "id": "ef11d194-3ecd-45c9-8ad9-bc0c8ef8f6b2",
   "metadata": {},
   "outputs": [
    {
     "name": "stdout",
     "output_type": "stream",
     "text": [
      "BaseQueryEngine.query-c46703f1-5312-4852-a58b-559559ca9bea (1.927449)\n",
      "└── RetrieverQueryEngine._query-9fb670e4-787b-42cf-8f03-84109f647971 (1.926662)\n",
      "    ├── BaseRetriever.retrieve-91639d99-5285-49e9-89ca-13ee3b176aee (0.160412)\n",
      "    └── BaseSynthesizer.synthesize-a8fabe88-45d2-4c2e-a817-b68b52211f9a (1.766149)\n",
      "        └── CompactAndRefine.get_response-eaa177a5-61c4-4e75-bcc9-bf82b300400e (1.765516)\n",
      "            └── Refine.get_response-807d5060-c340-4a9e-b660-fb0c6a4dafd9 (1.762763)\n",
      "                └── LLM.predict-bdb613f4-466e-4b25-8126-8aa91526b25c (1.760041)\n",
      "\n"
     ]
    }
   ],
   "source": [
    "print(tree.show(stdout=False))"
   ]
  }
 ],
 "metadata": {
  "kernelspec": {
   "display_name": "fork-llama-index-core",
   "language": "python",
   "name": "fork-llama-index-core"
  },
  "language_info": {
   "codemirror_mode": {
    "name": "ipython",
    "version": 3
   },
   "file_extension": ".py",
   "mimetype": "text/x-python",
   "name": "python",
   "nbconvert_exporter": "python",
   "pygments_lexer": "ipython3"
  }
 },
 "nbformat": 4,
 "nbformat_minor": 5
}
