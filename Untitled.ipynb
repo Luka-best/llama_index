{
 "cells": [
  {
   "cell_type": "code",
   "execution_count": 1,
   "id": "1f1f4491",
   "metadata": {},
   "outputs": [],
   "source": [
    "from typing import Iterable\n",
    "from itertools import islice\n",
    "\n",
    "def batch(iterable: Iterable, size: int):\n",
    "    \"\"\"Batch an iterable into chunks of a given size.\"\"\"\n",
    "    iterator = iter(iterable)\n",
    "    for first in iterator:\n",
    "        yield list(islice(iterator, size))\n",
    "\n"
   ]
  },
  {
   "cell_type": "code",
   "execution_count": 3,
   "id": "94f49698",
   "metadata": {},
   "outputs": [],
   "source": [
    "from llama_index.core.postprocessor import SimilarityPostprocessor\n",
    "from llama_index.core.data_structs import Node\n",
    "from llama_index.core.schema import NodeWithScore\n",
    "query = \"which way should i go?\"\n",
    "passages = [\n",
    "    \"two roads diverged in a yellow wood, and sorry i could not travel both and be one traveler, long i stood and looked down one as far as i could to where it bent in the undergrowth;\",\n",
    "    \"then took the other, as just as fair, and having perhaps the better claim because it was grassy and wanted wear, though as for that the passing there had worn them really about the same,\",\n",
    "    \"and both that morning equally lay in leaves no step had trodden black. oh, i marked the first for another day! yet knowing how way leads on to way i doubted if i should ever come back.\",\n",
    "    \"i shall be telling this with a sigh somewhere ages and ages hense: two roads diverged in a wood, and i, i took the one less traveled by, and that has made all the difference.\"\n",
    "]\n",
    "\n",
    "nodes = [\n",
    "    NodeWithScore(node=Node(text=passages[0]), score=0.7),\n",
    "    NodeWithScore(node=Node(text=passages[1]), score=0.8),\n",
    "]\n"
   ]
  },
  {
   "cell_type": "code",
   "execution_count": 9,
   "id": "98c80fa7",
   "metadata": {},
   "outputs": [
    {
     "name": "stdout",
     "output_type": "stream",
     "text": [
      "------------------------------\n",
      "[1, 2, 3, 4, 5]\n",
      "------------------------------\n",
      "[7, 8, 9, 10, 11]\n",
      "------------------------------\n",
      "[13, 14, 15, 16, 17]\n",
      "------------------------------\n",
      "[19, 20, 21, 22, 23]\n",
      "------------------------------\n",
      "[25, 26, 27, 28, 29]\n",
      "------------------------------\n",
      "[31, 32, 33, 34, 35]\n",
      "------------------------------\n",
      "[37, 38, 39, 40, 41]\n",
      "------------------------------\n",
      "[43, 44, 45, 46, 47]\n",
      "------------------------------\n",
      "[49, 50, 51, 52, 53]\n",
      "------------------------------\n",
      "[55, 56, 57, 58, 59]\n",
      "------------------------------\n",
      "[61, 62, 63, 64, 65]\n",
      "------------------------------\n",
      "[67, 68, 69, 70, 71]\n",
      "------------------------------\n",
      "[73, 74, 75, 76, 77]\n",
      "------------------------------\n",
      "[79, 80, 81, 82, 83]\n",
      "------------------------------\n",
      "[85, 86, 87, 88, 89]\n",
      "------------------------------\n",
      "[91, 92, 93, 94, 95]\n",
      "------------------------------\n",
      "[97, 98, 99]\n"
     ]
    }
   ],
   "source": [
    "batch_size = 5\n",
    "ls=[a for a in range(100)]\n",
    "for batch_nodes in batch(ls, batch_size):\n",
    "    print(\"---\"*10)\n",
    "    print(batch_nodes)\n"
   ]
  }
 ],
 "metadata": {
  "kernelspec": {
   "display_name": "Python 3 (ipykernel)",
   "language": "python",
   "name": "python3"
  },
  "language_info": {
   "codemirror_mode": {
    "name": "ipython",
    "version": 3
   },
   "file_extension": ".py",
   "mimetype": "text/x-python",
   "name": "python",
   "nbconvert_exporter": "python",
   "pygments_lexer": "ipython3",
   "version": "3.10.6"
  }
 },
 "nbformat": 4,
 "nbformat_minor": 5
}
