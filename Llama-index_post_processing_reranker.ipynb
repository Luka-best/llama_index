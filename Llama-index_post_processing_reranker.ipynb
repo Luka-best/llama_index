{
 "cells": [
  {
   "cell_type": "markdown",
   "id": "bae80b82",
   "metadata": {},
   "source": [
    "#uncomment to install llama-index, make sure it is above 0.10.x\n",
    "## TODO :\n",
    "Once the llama-index pip installable package is ready, implement the **models = NVIDIARerank.get_available_models()** , it is not implemnted right now !"
   ]
  },
  {
   "cell_type": "markdown",
   "id": "e09611e4",
   "metadata": {},
   "source": [
    "## establish the reranker class with the local nim, supplying a base_url"
   ]
  },
  {
   "cell_type": "code",
   "execution_count": 1,
   "id": "1a8002ac",
   "metadata": {},
   "outputs": [],
   "source": [
    "from llama_index.postprocessor.nvidia_rerank import NVIDIARerank\n",
    "rerank=NVIDIARerank().mode(type_mode=\"nim\", base_url=\"http://localhost:1976/v1\")"
   ]
  },
  {
   "cell_type": "markdown",
   "id": "a5035baf",
   "metadata": {},
   "source": [
    "## we can set top_n like this"
   ]
  },
  {
   "cell_type": "code",
   "execution_count": 2,
   "id": "f530b820",
   "metadata": {},
   "outputs": [
    {
     "name": "stdout",
     "output_type": "stream",
     "text": [
      "2\n"
     ]
    },
    {
     "data": {
      "text/plain": [
       "('nv-rerank-qa-mistral-4b:1', 'http://localhost:1976/v1/ranking')"
      ]
     },
     "execution_count": 2,
     "metadata": {},
     "output_type": "execute_result"
    }
   ],
   "source": [
    "## setting top_n\n",
    "rerank.top_n=2\n",
    "print(rerank.top_n)\n",
    "rerank.model.default, rerank.url"
   ]
  },
  {
   "cell_type": "markdown",
   "id": "450e578f",
   "metadata": {},
   "source": [
    "## load some toy data"
   ]
  },
  {
   "cell_type": "code",
   "execution_count": 3,
   "id": "20251480",
   "metadata": {},
   "outputs": [],
   "source": [
    "from llama_index.core.postprocessor import SimilarityPostprocessor\n",
    "from llama_index.core.data_structs import Node\n",
    "from llama_index.core.schema import NodeWithScore\n",
    "query = \"which way should i go?\"\n",
    "passages = [\n",
    "    \"two roads diverged in a yellow wood, and sorry i could not travel both and be one traveler, long i stood and looked down one as far as i could to where it bent in the undergrowth;\",\n",
    "    \"then took the other, as just as fair, and having perhaps the better claim because it was grassy and wanted wear, though as for that the passing there had worn them really about the same,\",\n",
    "    \"and both that morning equally lay in leaves no step had trodden black. oh, i marked the first for another day! yet knowing how way leads on to way i doubted if i should ever come back.\",\n",
    "    \"i shall be telling this with a sigh somewhere ages and ages hense: two roads diverged in a wood, and i, i took the one less traveled by, and that has made all the difference.\"\n",
    "]\n",
    "\n",
    "nodes = [\n",
    "    NodeWithScore(node=Node(text=passages[0]), score=0.7),\n",
    "    NodeWithScore(node=Node(text=passages[1]), score=0.8),\n",
    "]\n"
   ]
  },
  {
   "cell_type": "markdown",
   "id": "9832b4db",
   "metadata": {},
   "source": [
    "## validate with NVreranker works"
   ]
  },
  {
   "cell_type": "code",
   "execution_count": 4,
   "id": "c91475cf",
   "metadata": {},
   "outputs": [
    {
     "name": "stdout",
     "output_type": "stream",
     "text": [
      "model nv-rerank-qa-mistral-4b:1 , url :http://localhost:1976/v1/ranking\n",
      "----------> \n",
      " [{'index': 0, 'logit': 1.185546875}, {'index': 1, 'logit': -0.783203125}]\n"
     ]
    },
    {
     "data": {
      "text/plain": [
       "[NodeWithScore(node=TextNode(id_='b8a03603-bd92-49d1-92a8-0f76db090f9c', embedding=None, metadata={}, excluded_embed_metadata_keys=[], excluded_llm_metadata_keys=[], relationships={}, text='then took the other, as just as fair, and having perhaps the better claim because it was grassy and wanted wear, though as for that the passing there had worn them really about the same,', start_char_idx=None, end_char_idx=None, text_template='{metadata_str}\\n\\n{content}', metadata_template='{key}: {value}', metadata_seperator='\\n'), score=0.8),\n",
       " NodeWithScore(node=TextNode(id_='bdec85b9-570c-4a26-9e2f-dafecae7e46e', embedding=None, metadata={}, excluded_embed_metadata_keys=[], excluded_llm_metadata_keys=[], relationships={}, text='two roads diverged in a yellow wood, and sorry i could not travel both and be one traveler, long i stood and looked down one as far as i could to where it bent in the undergrowth;', start_char_idx=None, end_char_idx=None, text_template='{metadata_str}\\n\\n{content}', metadata_template='{key}: {value}', metadata_seperator='\\n'), score=0.7)]"
      ]
     },
     "execution_count": 4,
     "metadata": {},
     "output_type": "execute_result"
    }
   ],
   "source": [
    "from llama_index.postprocessor.nvidia_rerank import NVIDIARerank\n",
    "rerank.postprocess_nodes(nodes, query_str=query )\n"
   ]
  },
  {
   "cell_type": "markdown",
   "id": "5c1707b0",
   "metadata": {},
   "source": [
    "## switch to APICatalog , for that we need to set the NVIDIA_API_KEY"
   ]
  },
  {
   "cell_type": "code",
   "execution_count": 5,
   "id": "6521a7a4",
   "metadata": {},
   "outputs": [
    {
     "name": "stdin",
     "output_type": "stream",
     "text": [
      "NVAPI Key (starts with nvapi-):  ······································································\n"
     ]
    }
   ],
   "source": [
    "import getpass\n",
    "import os\n",
    "\n",
    "## API Key can be found by going to NVIDIA NGC -> AI Foundation Models -> (some model) -> Get API Code or similar.\n",
    "## 10K free queries to any endpoint (which is a lot actually).\n",
    "\n",
    "# del os.environ['NVIDIA_API_KEY']  ## delete key and reset\n",
    "if os.environ.get(\"NVIDIA_API_KEY\", \"\").startswith(\"nvapi-\"):\n",
    "    print(\"Valid NVIDIA_API_KEY already in environment. Delete to reset\")\n",
    "    nvapi_key=os.environ[\"NVIDIA_API_KEY\"] \n",
    "\n",
    "else:\n",
    "    nvapi_key = getpass.getpass(\"NVAPI Key (starts with nvapi-): \")\n",
    "    assert nvapi_key.startswith(\"nvapi-\"), f\"{nvapi_key[:5]}... is not a valid key\"\n",
    "    os.environ[\"NVIDIA_API_KEY\"] = nvapi_key\n"
   ]
  },
  {
   "cell_type": "code",
   "execution_count": 6,
   "id": "b48bd04f",
   "metadata": {},
   "outputs": [],
   "source": [
    "from llama_index.postprocessor.nvidia_rerank import NVIDIARerank\n",
    "\n",
    "rerank=NVIDIARerank().mode(type_mode=\"catalog\")"
   ]
  },
  {
   "cell_type": "code",
   "execution_count": 7,
   "id": "4811cd28",
   "metadata": {},
   "outputs": [
    {
     "data": {
      "text/plain": [
       "('nv-rerank-qa-mistral-4b:1',\n",
       " 'https://ai.api.nvidia.com/v1/retrieval/nvidia/reranking')"
      ]
     },
     "execution_count": 7,
     "metadata": {},
     "output_type": "execute_result"
    }
   ],
   "source": [
    "rerank.model.default , rerank.url[0].default"
   ]
  },
  {
   "cell_type": "code",
   "execution_count": null,
   "id": "0af28cbe",
   "metadata": {},
   "outputs": [],
   "source": []
  },
  {
   "cell_type": "code",
   "execution_count": 8,
   "id": "b4c3e6ed",
   "metadata": {},
   "outputs": [
    {
     "name": "stdout",
     "output_type": "stream",
     "text": [
      "model nv-rerank-qa-mistral-4b:1 , url :https://ai.api.nvidia.com/v1/retrieval/nvidia/reranking\n",
      "----------> \n",
      " [{'index': 0, 'logit': -0.47705078125}, {'index': 1, 'logit': -7.921875}]\n",
      "Query unsuccessful 200, please visit this page for more info : https://developer.nvidia.com/docs/nemo-microservices/inference/tools.html\n"
     ]
    },
    {
     "data": {
      "text/plain": [
       "[NodeWithScore(node=TextNode(id_='bdec85b9-570c-4a26-9e2f-dafecae7e46e', embedding=None, metadata={}, excluded_embed_metadata_keys=[], excluded_llm_metadata_keys=[], relationships={}, text='two roads diverged in a yellow wood, and sorry i could not travel both and be one traveler, long i stood and looked down one as far as i could to where it bent in the undergrowth;', start_char_idx=None, end_char_idx=None, text_template='{metadata_str}\\n\\n{content}', metadata_template='{key}: {value}', metadata_seperator='\\n'), score=-0.47705078125),\n",
       " NodeWithScore(node=TextNode(id_='b8a03603-bd92-49d1-92a8-0f76db090f9c', embedding=None, metadata={}, excluded_embed_metadata_keys=[], excluded_llm_metadata_keys=[], relationships={}, text='then took the other, as just as fair, and having perhaps the better claim because it was grassy and wanted wear, though as for that the passing there had worn them really about the same,', start_char_idx=None, end_char_idx=None, text_template='{metadata_str}\\n\\n{content}', metadata_template='{key}: {value}', metadata_seperator='\\n'), score=-7.921875)]"
      ]
     },
     "execution_count": 8,
     "metadata": {},
     "output_type": "execute_result"
    }
   ],
   "source": [
    "rerank.postprocess_nodes(nodes, query_str=query )"
   ]
  }
 ],
 "metadata": {
  "kernelspec": {
   "display_name": "Python 3 (ipykernel)",
   "language": "python",
   "name": "python3"
  },
  "language_info": {
   "codemirror_mode": {
    "name": "ipython",
    "version": 3
   },
   "file_extension": ".py",
   "mimetype": "text/x-python",
   "name": "python",
   "nbconvert_exporter": "python",
   "pygments_lexer": "ipython3",
   "version": "3.10.6"
  }
 },
 "nbformat": 4,
 "nbformat_minor": 5
}
