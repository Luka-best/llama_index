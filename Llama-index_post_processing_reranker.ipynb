{
 "cells": [
  {
   "cell_type": "markdown",
   "id": "f7a7c672",
   "metadata": {},
   "source": [
    "#uncomment to install llama-index, make sure it is above 0.10.x\n",
    "## TODO :\n",
    "NVIDIARerank.get_available_models is currently hardcoded as dictionaly items"
   ]
  },
  {
   "cell_type": "code",
   "execution_count": 1,
   "id": "ee731e2e",
   "metadata": {},
   "outputs": [
    {
     "data": {
      "text/plain": [
       "dict_items([('nvidia', ['nv-rerank-qa-mistral-4b:1']), ('nim', ['nv-rerank-qa-mistral-4b:1'])])"
      ]
     },
     "execution_count": 1,
     "metadata": {},
     "output_type": "execute_result"
    }
   ],
   "source": [
    "from llama_index.postprocessor.nvidia_rerank import NVIDIARerank\n",
    "\n",
    "NVIDIARerank.get_available_models()"
   ]
  },
  {
   "cell_type": "code",
   "execution_count": null,
   "id": "5a4f5a0f",
   "metadata": {},
   "outputs": [],
   "source": []
  },
  {
   "cell_type": "code",
   "execution_count": 2,
   "id": "9bc3a1de",
   "metadata": {},
   "outputs": [],
   "source": [
    "from llama_index.postprocessor.nvidia_rerank import NVIDIARerank\n",
    "import os\n",
    "# making the data directory to hold txt data\n",
    "if os.path.exists('./data'):\n",
    "    os.removedirs('./data')\n",
    "os.makedirs(\"./data\", exist_ok=True)\n",
    "\n",
    "\n",
    "ranker = NVIDIARerank(top_n=5)"
   ]
  },
  {
   "cell_type": "markdown",
   "id": "908a177b",
   "metadata": {},
   "source": [
    "## establish the reranker class with the local nim, supplying a base_url"
   ]
  },
  {
   "cell_type": "code",
   "execution_count": 3,
   "id": "aaf69854",
   "metadata": {},
   "outputs": [],
   "source": [
    "from llama_index.postprocessor.nvidia_rerank import NVIDIARerank\n",
    "rerank=NVIDIARerank().mode(mode=\"nim\", base_url=\"http://127.0.0.1:1976/v1\")"
   ]
  },
  {
   "cell_type": "markdown",
   "id": "d3821a69",
   "metadata": {},
   "source": [
    "## we can set top_n like this"
   ]
  },
  {
   "cell_type": "code",
   "execution_count": 4,
   "id": "5242d464",
   "metadata": {},
   "outputs": [
    {
     "name": "stdout",
     "output_type": "stream",
     "text": [
      "2\n"
     ]
    }
   ],
   "source": [
    "## setting top_n since our examples dont have more than 5 \n",
    "rerank.top_n=2\n",
    "print(rerank.top_n)\n",
    "rerank.max_batch_size = 32\n"
   ]
  },
  {
   "cell_type": "markdown",
   "id": "4680cd1f",
   "metadata": {},
   "source": [
    "## use wget to fetch toy data from GenerativeAIexamples \n",
    "\n",
    "I created a folder called **data** under my current directory inside docker container\n"
   ]
  },
  {
   "cell_type": "code",
   "execution_count": 5,
   "id": "baaa6355",
   "metadata": {},
   "outputs": [
    {
     "name": "stdout",
     "output_type": "stream",
     "text": [
      "--2024-04-24 13:07:02--  https://raw.githubusercontent.com/NVIDIA/GenerativeAIExamples/main/notebooks/toy_data/Sweden.txt\n",
      "Resolving raw.githubusercontent.com (raw.githubusercontent.com)... 185.199.111.133, 185.199.108.133, 185.199.109.133, ...\n",
      "Connecting to raw.githubusercontent.com (raw.githubusercontent.com)|185.199.111.133|:443... connected.\n",
      "HTTP request sent, awaiting response... 200 OK\n",
      "Length: 123365 (120K) [text/plain]\n",
      "Saving to: ‘./data/Sweden.txt’\n",
      "\n",
      "./data/Sweden.txt   100%[===================>] 120.47K   311KB/s    in 0.4s    \n",
      "\n",
      "2024-04-24 13:07:04 (311 KB/s) - ‘./data/Sweden.txt’ saved [123365/123365]\n",
      "\n"
     ]
    }
   ],
   "source": [
    "!wget https://raw.githubusercontent.com/NVIDIA/GenerativeAIExamples/main/notebooks/toy_data/Sweden.txt -O ./data/Sweden.txt"
   ]
  },
  {
   "cell_type": "code",
   "execution_count": 6,
   "id": "4b6cd3ba",
   "metadata": {},
   "outputs": [
    {
     "name": "stdout",
     "output_type": "stream",
     "text": [
      "--2024-04-24 13:07:04--  https://raw.githubusercontent.com/NVIDIA/GenerativeAIExamples/main/notebooks/toy_data/Titanic_film.txt\n",
      "Resolving raw.githubusercontent.com (raw.githubusercontent.com)... 185.199.108.133, 185.199.109.133, 185.199.110.133, ...\n",
      "Connecting to raw.githubusercontent.com (raw.githubusercontent.com)|185.199.108.133|:443... connected.\n",
      "HTTP request sent, awaiting response... 200 OK\n",
      "Length: 85063 (83K) [text/plain]\n",
      "Saving to: ‘./data/Titanic_film.txt’\n",
      "\n",
      "./data/Titanic_film 100%[===================>]  83.07K   321KB/s    in 0.3s    \n",
      "\n",
      "2024-04-24 13:07:05 (321 KB/s) - ‘./data/Titanic_film.txt’ saved [85063/85063]\n",
      "\n"
     ]
    }
   ],
   "source": [
    "!wget https://raw.githubusercontent.com/NVIDIA/GenerativeAIExamples/main/notebooks/toy_data/Titanic_film.txt -O ./data/Titanic_film.txt"
   ]
  },
  {
   "cell_type": "code",
   "execution_count": 7,
   "id": "6f61a22e",
   "metadata": {},
   "outputs": [
    {
     "name": "stdout",
     "output_type": "stream",
     "text": [
      "Sweden.txt  Titanic_film.txt\n"
     ]
    }
   ],
   "source": [
    "!ls ./data"
   ]
  },
  {
   "cell_type": "markdown",
   "id": "ec5d3437",
   "metadata": {},
   "source": [
    "## load some toy data"
   ]
  },
  {
   "cell_type": "code",
   "execution_count": 8,
   "id": "c3c0983b",
   "metadata": {},
   "outputs": [],
   "source": [
    "from llama_index.core import Document\n",
    "from llama_index.core import VectorStoreIndex, SimpleDirectoryReader\n",
    "from llama_index.core.node_parser import SentenceSplitter,SimpleFileNodeParser\n",
    "# load documents\n",
    "import os \n",
    "\n",
    "documents = SimpleDirectoryReader(\"./data\").load_data()\n",
    "\n",
    "# parse nodes\n",
    "parser = SentenceSplitter(separator='\\n', chunk_size=200, chunk_overlap=0)\n",
    "nodes = parser.get_nodes_from_documents(documents)\n",
    "\n"
   ]
  },
  {
   "cell_type": "code",
   "execution_count": 9,
   "id": "f6cebee7",
   "metadata": {},
   "outputs": [
    {
     "data": {
      "text/plain": [
       "(<bound method TextNode.get_content of TextNode(id_='71234f14-5991-4c34-bc13-7c8197705e0f', embedding=None, metadata={'file_path': '/workspace/APICatalog_reranker/llama_index/data/Sweden.txt', 'file_name': 'Sweden.txt', 'file_type': 'text/plain', 'file_size': 123365, 'creation_date': '2024-04-24', 'last_modified_date': '2024-04-24'}, excluded_embed_metadata_keys=['file_name', 'file_type', 'file_size', 'creation_date', 'last_modified_date', 'last_accessed_date'], excluded_llm_metadata_keys=['file_name', 'file_type', 'file_size', 'creation_date', 'last_modified_date', 'last_accessed_date'], relationships={<NodeRelationship.SOURCE: '1'>: RelatedNodeInfo(node_id='86c8c2ed-787a-4428-bc68-50679e105d30', node_type=<ObjectType.DOCUMENT: '4'>, metadata={'file_path': '/workspace/APICatalog_reranker/llama_index/data/Sweden.txt', 'file_name': 'Sweden.txt', 'file_type': 'text/plain', 'file_size': 123365, 'creation_date': '2024-04-24', 'last_modified_date': '2024-04-24'}, hash='d00e68df561e30e85c2d50c9d30976353fc03e06dc91bf05a038f2e845bf3a06'), <NodeRelationship.NEXT: '3'>: RelatedNodeInfo(node_id='d2e8e28e-4ee1-4f46-8207-408d8615d633', node_type=<ObjectType.TEXT: '1'>, metadata={}, hash='70b0930164af3bda07bd0f1fa9b355b2da40da2601b05df50d62ccb6814229c9')}, text='Sweden, formally the Kingdom of Sweden, is a Nordic country located on the Scandinavian Peninsula in Northern Europe. It borders Norway to the west and north, Finland to the east, and is connected to Denmark in the southwest by a bridge–tunnel across the Öresund. At 447,425 square kilometres (172,752 sq mi), Sweden is the largest Nordic country, the third-largest country in the European Union, and the fifth-largest country in Europe. The capital and largest city is Stockholm. Sweden has a total population of 10.5 million, and a low population density of 25.5 inhabitants per square kilometre (66/sq mi), with around 87% of Swedes residing in urban areas, which cover 1.5% of the entire land area, in the central and southern half of the country.', start_char_idx=0, end_char_idx=751, text_template='{metadata_str}\\n\\n{content}', metadata_template='{key}: {value}', metadata_seperator='\\n')>,\n",
       " <bound method TextNode.get_content of TextNode(id_='d2e8e28e-4ee1-4f46-8207-408d8615d633', embedding=None, metadata={'file_path': '/workspace/APICatalog_reranker/llama_index/data/Sweden.txt', 'file_name': 'Sweden.txt', 'file_type': 'text/plain', 'file_size': 123365, 'creation_date': '2024-04-24', 'last_modified_date': '2024-04-24'}, excluded_embed_metadata_keys=['file_name', 'file_type', 'file_size', 'creation_date', 'last_modified_date', 'last_accessed_date'], excluded_llm_metadata_keys=['file_name', 'file_type', 'file_size', 'creation_date', 'last_modified_date', 'last_accessed_date'], relationships={<NodeRelationship.SOURCE: '1'>: RelatedNodeInfo(node_id='86c8c2ed-787a-4428-bc68-50679e105d30', node_type=<ObjectType.DOCUMENT: '4'>, metadata={'file_path': '/workspace/APICatalog_reranker/llama_index/data/Sweden.txt', 'file_name': 'Sweden.txt', 'file_type': 'text/plain', 'file_size': 123365, 'creation_date': '2024-04-24', 'last_modified_date': '2024-04-24'}, hash='d00e68df561e30e85c2d50c9d30976353fc03e06dc91bf05a038f2e845bf3a06'), <NodeRelationship.PREVIOUS: '2'>: RelatedNodeInfo(node_id='71234f14-5991-4c34-bc13-7c8197705e0f', node_type=<ObjectType.TEXT: '1'>, metadata={'file_path': '/workspace/APICatalog_reranker/llama_index/data/Sweden.txt', 'file_name': 'Sweden.txt', 'file_type': 'text/plain', 'file_size': 123365, 'creation_date': '2024-04-24', 'last_modified_date': '2024-04-24'}, hash='99692d5a4c4bdf0137a3b98d2cee827aa2c5da326299ea85ab4ac0b45152c627'), <NodeRelationship.NEXT: '3'>: RelatedNodeInfo(node_id='33efe2c9-4160-4b85-b4ec-4a92469798e7', node_type=<ObjectType.TEXT: '1'>, metadata={}, hash='6bcecec621b5f74b988d9fb3957e27d0227ff8311df50438ce39f3a7cb5fccae')}, text='Nature in Sweden is dominated by forests and many lakes, including some of the largest in Europe. Many long rivers run from the Scandes range through the landscape, primarily emptying into the northern tributaries of the Baltic Sea. It has an extensive coastline and most of the population lives near a major body of water. With the country ranging from 55°N to 69°N, the climate of Sweden is diverse due to the length of the country. The usual conditions are mild for the latitudes with a maritime south, continental centre and subarctic north. Snow cover is variable in the densely populated south, but reliable in higher latitudes. Furthermore, the rain shadow of the Scandes results in quite dry winters and sunny summers in much of the country.', start_char_idx=752, end_char_idx=1501, text_template='{metadata_str}\\n\\n{content}', metadata_template='{key}: {value}', metadata_seperator='\\n')>)"
      ]
     },
     "execution_count": 9,
     "metadata": {},
     "output_type": "execute_result"
    }
   ],
   "source": [
    "nodes[0].get_content , nodes[1].get_content"
   ]
  },
  {
   "cell_type": "code",
   "execution_count": null,
   "id": "a5c6d90f",
   "metadata": {},
   "outputs": [],
   "source": []
  },
  {
   "cell_type": "markdown",
   "id": "924da394",
   "metadata": {},
   "source": [
    "## validate with NVreranker works"
   ]
  },
  {
   "cell_type": "code",
   "execution_count": 10,
   "id": "a9a6bd6a",
   "metadata": {},
   "outputs": [
    {
     "data": {
      "text/plain": [
       "[NodeWithScore(node=TextNode(id_='71234f14-5991-4c34-bc13-7c8197705e0f', embedding=None, metadata={'file_path': '/workspace/APICatalog_reranker/llama_index/data/Sweden.txt', 'file_name': 'Sweden.txt', 'file_type': 'text/plain', 'file_size': 123365, 'creation_date': '2024-04-24', 'last_modified_date': '2024-04-24'}, excluded_embed_metadata_keys=['file_name', 'file_type', 'file_size', 'creation_date', 'last_modified_date', 'last_accessed_date'], excluded_llm_metadata_keys=['file_name', 'file_type', 'file_size', 'creation_date', 'last_modified_date', 'last_accessed_date'], relationships={<NodeRelationship.SOURCE: '1'>: RelatedNodeInfo(node_id='86c8c2ed-787a-4428-bc68-50679e105d30', node_type=<ObjectType.DOCUMENT: '4'>, metadata={'file_path': '/workspace/APICatalog_reranker/llama_index/data/Sweden.txt', 'file_name': 'Sweden.txt', 'file_type': 'text/plain', 'file_size': 123365, 'creation_date': '2024-04-24', 'last_modified_date': '2024-04-24'}, hash='d00e68df561e30e85c2d50c9d30976353fc03e06dc91bf05a038f2e845bf3a06'), <NodeRelationship.NEXT: '3'>: RelatedNodeInfo(node_id='d2e8e28e-4ee1-4f46-8207-408d8615d633', node_type=<ObjectType.TEXT: '1'>, metadata={}, hash='70b0930164af3bda07bd0f1fa9b355b2da40da2601b05df50d62ccb6814229c9')}, text='Sweden, formally the Kingdom of Sweden, is a Nordic country located on the Scandinavian Peninsula in Northern Europe. It borders Norway to the west and north, Finland to the east, and is connected to Denmark in the southwest by a bridge–tunnel across the Öresund. At 447,425 square kilometres (172,752 sq mi), Sweden is the largest Nordic country, the third-largest country in the European Union, and the fifth-largest country in Europe. The capital and largest city is Stockholm. Sweden has a total population of 10.5 million, and a low population density of 25.5 inhabitants per square kilometre (66/sq mi), with around 87% of Swedes residing in urban areas, which cover 1.5% of the entire land area, in the central and southern half of the country.', start_char_idx=0, end_char_idx=751, text_template='{metadata_str}\\n\\n{content}', metadata_template='{key}: {value}', metadata_seperator='\\n'), score=1.0),\n",
       " NodeWithScore(node=TextNode(id_='bb348d2e-f558-4c68-a0ee-11a78830942c', embedding=None, metadata={'file_path': '/workspace/APICatalog_reranker/llama_index/data/Sweden.txt', 'file_name': 'Sweden.txt', 'file_type': 'text/plain', 'file_size': 123365, 'creation_date': '2024-04-24', 'last_modified_date': '2024-04-24'}, excluded_embed_metadata_keys=['file_name', 'file_type', 'file_size', 'creation_date', 'last_modified_date', 'last_accessed_date'], excluded_llm_metadata_keys=['file_name', 'file_type', 'file_size', 'creation_date', 'last_modified_date', 'last_accessed_date'], relationships={<NodeRelationship.SOURCE: '1'>: RelatedNodeInfo(node_id='86c8c2ed-787a-4428-bc68-50679e105d30', node_type=<ObjectType.DOCUMENT: '4'>, metadata={'file_path': '/workspace/APICatalog_reranker/llama_index/data/Sweden.txt', 'file_name': 'Sweden.txt', 'file_type': 'text/plain', 'file_size': 123365, 'creation_date': '2024-04-24', 'last_modified_date': '2024-04-24'}, hash='d00e68df561e30e85c2d50c9d30976353fc03e06dc91bf05a038f2e845bf3a06'), <NodeRelationship.PREVIOUS: '2'>: RelatedNodeInfo(node_id='9c656eea-4571-455b-aa6a-2afd3dd81212', node_type=<ObjectType.TEXT: '1'>, metadata={'file_path': '/workspace/APICatalog_reranker/llama_index/data/Sweden.txt', 'file_name': 'Sweden.txt', 'file_type': 'text/plain', 'file_size': 123365, 'creation_date': '2024-04-24', 'last_modified_date': '2024-04-24'}, hash='7fc921b228fc7f4f2e1168187f52d3f06f92df43d534c820207f7dbb7b2bf7ce'), <NodeRelationship.NEXT: '3'>: RelatedNodeInfo(node_id='616f16c7-06e7-483a-81e0-1a35a49bc21c', node_type=<ObjectType.TEXT: '1'>, metadata={}, hash='55310be90c50314ccf3e53f9ad2879e9d21731be4382b3d2d70e4cedea155e7b')}, text='It is not known how long they existed: the epic poem Beowulf describes semi-legendary Swedish-Geatish wars in the sixth century. Götaland in this sense mainly includes the provinces of Östergötland (East Gothia) and Västergötland (West Gothia). The island of Gotland was disputed by other than Swedes, at this time (Danish, Hanseatic, and Gotland-domestic). Småland was at that time of little interest to anyone due to the deep pine forests, and only the city of Kalmar with its castle was of importance. The south-west parts of the Scandinavian peninsula consisted of three Danish provinces (Scania, Blekinge and Halland). North of Halland, Denmark had a direct border to Norway and its province Bohuslän.', start_char_idx=9136, end_char_idx=9842, text_template='{metadata_str}\\n\\n{content}', metadata_template='{key}: {value}', metadata_seperator='\\n'), score=1.0)]"
      ]
     },
     "execution_count": 10,
     "metadata": {},
     "output_type": "execute_result"
    }
   ],
   "source": [
    "from llama_index.postprocessor.nvidia_rerank import NVIDIARerank\n",
    "query=\"tell me about Sweden's geography?\"\n",
    "rerank.postprocess_nodes(nodes, query_str=query )\n"
   ]
  },
  {
   "cell_type": "markdown",
   "id": "6ddf2c9f",
   "metadata": {},
   "source": [
    "## switch to APICatalog , for that we need to set the NVIDIA_API_KEY"
   ]
  },
  {
   "cell_type": "code",
   "execution_count": 11,
   "id": "32140b08",
   "metadata": {},
   "outputs": [
    {
     "name": "stdin",
     "output_type": "stream",
     "text": [
      "NVAPI Key (starts with nvapi-):  ······································································\n"
     ]
    }
   ],
   "source": [
    "import getpass\n",
    "import os\n",
    "\n",
    "## API Key can be found by going to NVIDIA NGC -> AI Foundation Models -> (some model) -> Get API Code or similar.\n",
    "## 10K free queries to any endpoint (which is a lot actually).\n",
    "\n",
    "# del os.environ['NVIDIA_API_KEY']  ## delete key and reset\n",
    "if os.environ.get(\"NVIDIA_API_KEY\", \"\").startswith(\"nvapi-\"):\n",
    "    print(\"Valid NVIDIA_API_KEY already in environment. Delete to reset\")\n",
    "    nvapi_key=os.environ[\"NVIDIA_API_KEY\"] \n",
    "\n",
    "else:\n",
    "    nvapi_key = getpass.getpass(\"NVAPI Key (starts with nvapi-): \")\n",
    "    assert nvapi_key.startswith(\"nvapi-\"), f\"{nvapi_key[:5]}... is not a valid key\"\n",
    "    os.environ[\"NVIDIA_API_KEY\"] = nvapi_key\n"
   ]
  },
  {
   "cell_type": "code",
   "execution_count": 12,
   "id": "2173a2df",
   "metadata": {},
   "outputs": [],
   "source": [
    "from llama_index.postprocessor.nvidia_rerank import NVIDIARerank\n",
    "\n",
    "my_key=os.environ[\"NVIDIA_API_KEY\"]\n",
    "rerank=NVIDIARerank().mode(mode=\"nvidia\",api_key=my_key)"
   ]
  },
  {
   "cell_type": "markdown",
   "id": "7a6c53ac",
   "metadata": {},
   "source": [
    "## query the reranker via API Catalog's reranker"
   ]
  },
  {
   "cell_type": "code",
   "execution_count": 13,
   "id": "471fd417",
   "metadata": {},
   "outputs": [
    {
     "data": {
      "text/plain": [
       "[NodeWithScore(node=TextNode(id_='bb348d2e-f558-4c68-a0ee-11a78830942c', embedding=None, metadata={'file_path': '/workspace/APICatalog_reranker/llama_index/data/Sweden.txt', 'file_name': 'Sweden.txt', 'file_type': 'text/plain', 'file_size': 123365, 'creation_date': '2024-04-24', 'last_modified_date': '2024-04-24'}, excluded_embed_metadata_keys=['file_name', 'file_type', 'file_size', 'creation_date', 'last_modified_date', 'last_accessed_date'], excluded_llm_metadata_keys=['file_name', 'file_type', 'file_size', 'creation_date', 'last_modified_date', 'last_accessed_date'], relationships={<NodeRelationship.SOURCE: '1'>: RelatedNodeInfo(node_id='86c8c2ed-787a-4428-bc68-50679e105d30', node_type=<ObjectType.DOCUMENT: '4'>, metadata={'file_path': '/workspace/APICatalog_reranker/llama_index/data/Sweden.txt', 'file_name': 'Sweden.txt', 'file_type': 'text/plain', 'file_size': 123365, 'creation_date': '2024-04-24', 'last_modified_date': '2024-04-24'}, hash='d00e68df561e30e85c2d50c9d30976353fc03e06dc91bf05a038f2e845bf3a06'), <NodeRelationship.PREVIOUS: '2'>: RelatedNodeInfo(node_id='9c656eea-4571-455b-aa6a-2afd3dd81212', node_type=<ObjectType.TEXT: '1'>, metadata={'file_path': '/workspace/APICatalog_reranker/llama_index/data/Sweden.txt', 'file_name': 'Sweden.txt', 'file_type': 'text/plain', 'file_size': 123365, 'creation_date': '2024-04-24', 'last_modified_date': '2024-04-24'}, hash='7fc921b228fc7f4f2e1168187f52d3f06f92df43d534c820207f7dbb7b2bf7ce'), <NodeRelationship.NEXT: '3'>: RelatedNodeInfo(node_id='616f16c7-06e7-483a-81e0-1a35a49bc21c', node_type=<ObjectType.TEXT: '1'>, metadata={}, hash='55310be90c50314ccf3e53f9ad2879e9d21731be4382b3d2d70e4cedea155e7b')}, text='It is not known how long they existed: the epic poem Beowulf describes semi-legendary Swedish-Geatish wars in the sixth century. Götaland in this sense mainly includes the provinces of Östergötland (East Gothia) and Västergötland (West Gothia). The island of Gotland was disputed by other than Swedes, at this time (Danish, Hanseatic, and Gotland-domestic). Småland was at that time of little interest to anyone due to the deep pine forests, and only the city of Kalmar with its castle was of importance. The south-west parts of the Scandinavian peninsula consisted of three Danish provinces (Scania, Blekinge and Halland). North of Halland, Denmark had a direct border to Norway and its province Bohuslän.', start_char_idx=9136, end_char_idx=9842, text_template='{metadata_str}\\n\\n{content}', metadata_template='{key}: {value}', metadata_seperator='\\n'), score=9.203125),\n",
       " NodeWithScore(node=TextNode(id_='71234f14-5991-4c34-bc13-7c8197705e0f', embedding=None, metadata={'file_path': '/workspace/APICatalog_reranker/llama_index/data/Sweden.txt', 'file_name': 'Sweden.txt', 'file_type': 'text/plain', 'file_size': 123365, 'creation_date': '2024-04-24', 'last_modified_date': '2024-04-24'}, excluded_embed_metadata_keys=['file_name', 'file_type', 'file_size', 'creation_date', 'last_modified_date', 'last_accessed_date'], excluded_llm_metadata_keys=['file_name', 'file_type', 'file_size', 'creation_date', 'last_modified_date', 'last_accessed_date'], relationships={<NodeRelationship.SOURCE: '1'>: RelatedNodeInfo(node_id='86c8c2ed-787a-4428-bc68-50679e105d30', node_type=<ObjectType.DOCUMENT: '4'>, metadata={'file_path': '/workspace/APICatalog_reranker/llama_index/data/Sweden.txt', 'file_name': 'Sweden.txt', 'file_type': 'text/plain', 'file_size': 123365, 'creation_date': '2024-04-24', 'last_modified_date': '2024-04-24'}, hash='d00e68df561e30e85c2d50c9d30976353fc03e06dc91bf05a038f2e845bf3a06'), <NodeRelationship.NEXT: '3'>: RelatedNodeInfo(node_id='d2e8e28e-4ee1-4f46-8207-408d8615d633', node_type=<ObjectType.TEXT: '1'>, metadata={}, hash='70b0930164af3bda07bd0f1fa9b355b2da40da2601b05df50d62ccb6814229c9')}, text='Sweden, formally the Kingdom of Sweden, is a Nordic country located on the Scandinavian Peninsula in Northern Europe. It borders Norway to the west and north, Finland to the east, and is connected to Denmark in the southwest by a bridge–tunnel across the Öresund. At 447,425 square kilometres (172,752 sq mi), Sweden is the largest Nordic country, the third-largest country in the European Union, and the fifth-largest country in Europe. The capital and largest city is Stockholm. Sweden has a total population of 10.5 million, and a low population density of 25.5 inhabitants per square kilometre (66/sq mi), with around 87% of Swedes residing in urban areas, which cover 1.5% of the entire land area, in the central and southern half of the country.', start_char_idx=0, end_char_idx=751, text_template='{metadata_str}\\n\\n{content}', metadata_template='{key}: {value}', metadata_seperator='\\n'), score=3.30859375)]"
      ]
     },
     "execution_count": 13,
     "metadata": {},
     "output_type": "execute_result"
    }
   ],
   "source": [
    "\n",
    "rerank.postprocess_nodes(nodes, query_str=query )"
   ]
  }
 ],
 "metadata": {
  "kernelspec": {
   "display_name": "Python 3 (ipykernel)",
   "language": "python",
   "name": "python3"
  },
  "language_info": {
   "codemirror_mode": {
    "name": "ipython",
    "version": 3
   },
   "file_extension": ".py",
   "mimetype": "text/x-python",
   "name": "python",
   "nbconvert_exporter": "python",
   "pygments_lexer": "ipython3",
   "version": "3.10.6"
  }
 },
 "nbformat": 4,
 "nbformat_minor": 5
}
