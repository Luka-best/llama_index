{
 "cells": [
  {
   "cell_type": "markdown",
   "id": "b41c66ba",
   "metadata": {},
   "source": [
    "#uncomment to install llama-index, make sure it is above 0.10.x\n",
    "## TODO :\n",
    "NVIDIARerank.get_available_models is currently hardcoded as dictionaly items"
   ]
  },
  {
   "cell_type": "code",
   "execution_count": 1,
   "id": "f86e6118",
   "metadata": {},
   "outputs": [
    {
     "data": {
      "text/plain": [
       "dict_items([('nvidia', ['nv-rerank-qa-mistral-4b:1']), ('nim', ['nv-rerank-qa-mistral-4b:1'])])"
      ]
     },
     "execution_count": 1,
     "metadata": {},
     "output_type": "execute_result"
    }
   ],
   "source": [
    "from llama_index.postprocessor.nvidia_rerank import NVIDIARerank\n",
    "\n",
    "NVIDIARerank.get_available_models()"
   ]
  },
  {
   "cell_type": "code",
   "execution_count": 2,
   "id": "97ff46ee",
   "metadata": {},
   "outputs": [],
   "source": [
    "from llama_index.postprocessor.nvidia_rerank import NVIDIARerank\n",
    "\n",
    "ranker = NVIDIARerank(top_n=5)"
   ]
  },
  {
   "cell_type": "markdown",
   "id": "26741f82",
   "metadata": {},
   "source": [
    "## establish the reranker class with the local nim, supplying a base_url"
   ]
  },
  {
   "cell_type": "code",
   "execution_count": 3,
   "id": "09e227fd",
   "metadata": {},
   "outputs": [],
   "source": [
    "from llama_index.postprocessor.nvidia_rerank import NVIDIARerank\n",
    "rerank=NVIDIARerank().mode(mode=\"nim\", base_url=\"http://localhost:1976/v1\")"
   ]
  },
  {
   "cell_type": "markdown",
   "id": "72dd74b1",
   "metadata": {},
   "source": [
    "## we can set top_n like this"
   ]
  },
  {
   "cell_type": "code",
   "execution_count": 4,
   "id": "41b8c676",
   "metadata": {},
   "outputs": [
    {
     "name": "stdout",
     "output_type": "stream",
     "text": [
      "2\n"
     ]
    }
   ],
   "source": [
    "## setting top_n since our examples dont have more than 5 \n",
    "rerank.top_n=2\n",
    "print(rerank.top_n)\n"
   ]
  },
  {
   "cell_type": "markdown",
   "id": "cb4733ef",
   "metadata": {},
   "source": [
    "## load some toy data"
   ]
  },
  {
   "cell_type": "code",
   "execution_count": 5,
   "id": "8a5206a8",
   "metadata": {},
   "outputs": [],
   "source": [
    "from llama_index.core.postprocessor import SimilarityPostprocessor\n",
    "from llama_index.core.data_structs import Node\n",
    "from llama_index.core.schema import NodeWithScore\n",
    "query = \"which way should i go?\"\n",
    "passages = [\n",
    "    \"two roads diverged in a yellow wood, and sorry i could not travel both and be one traveler, long i stood and looked down one as far as i could to where it bent in the undergrowth;\",\n",
    "    \"then took the other, as just as fair, and having perhaps the better claim because it was grassy and wanted wear, though as for that the passing there had worn them really about the same,\",\n",
    "    \"and both that morning equally lay in leaves no step had trodden black. oh, i marked the first for another day! yet knowing how way leads on to way i doubted if i should ever come back.\",\n",
    "    \"i shall be telling this with a sigh somewhere ages and ages hense: two roads diverged in a wood, and i, i took the one less traveled by, and that has made all the difference.\"\n",
    "]\n",
    "\n",
    "nodes = [\n",
    "    NodeWithScore(node=Node(text=passages[0]), score=0.7),\n",
    "    NodeWithScore(node=Node(text=passages[1]), score=0.8),\n",
    "]\n"
   ]
  },
  {
   "cell_type": "markdown",
   "id": "ba900a1f",
   "metadata": {},
   "source": [
    "## validate with NVreranker works"
   ]
  },
  {
   "cell_type": "code",
   "execution_count": 6,
   "id": "6bb9d6ab",
   "metadata": {},
   "outputs": [
    {
     "data": {
      "text/plain": [
       "[NodeWithScore(node=TextNode(id_='c2e51eb0-11e7-41cb-b378-9283f610da41', embedding=None, metadata={}, excluded_embed_metadata_keys=[], excluded_llm_metadata_keys=[], relationships={}, text='two roads diverged in a yellow wood, and sorry i could not travel both and be one traveler, long i stood and looked down one as far as i could to where it bent in the undergrowth;', start_char_idx=None, end_char_idx=None, text_template='{metadata_str}\\n\\n{content}', metadata_template='{key}: {value}', metadata_seperator='\\n'), score=1.0),\n",
       " NodeWithScore(node=TextNode(id_='c2e51eb0-11e7-41cb-b378-9283f610da41', embedding=None, metadata={}, excluded_embed_metadata_keys=[], excluded_llm_metadata_keys=[], relationships={}, text='two roads diverged in a yellow wood, and sorry i could not travel both and be one traveler, long i stood and looked down one as far as i could to where it bent in the undergrowth;', start_char_idx=None, end_char_idx=None, text_template='{metadata_str}\\n\\n{content}', metadata_template='{key}: {value}', metadata_seperator='\\n'), score=1.0)]"
      ]
     },
     "execution_count": 6,
     "metadata": {},
     "output_type": "execute_result"
    }
   ],
   "source": [
    "from llama_index.postprocessor.nvidia_rerank import NVIDIARerank\n",
    "rerank.postprocess_nodes(nodes, query_str=query )\n"
   ]
  },
  {
   "cell_type": "markdown",
   "id": "db8c9b9e",
   "metadata": {},
   "source": [
    "## switch to APICatalog , for that we need to set the NVIDIA_API_KEY"
   ]
  },
  {
   "cell_type": "code",
   "execution_count": 7,
   "id": "7366a0ed",
   "metadata": {},
   "outputs": [
    {
     "name": "stdin",
     "output_type": "stream",
     "text": [
      "NVAPI Key (starts with nvapi-):  ······································································\n"
     ]
    }
   ],
   "source": [
    "import getpass\n",
    "import os\n",
    "\n",
    "## API Key can be found by going to NVIDIA NGC -> AI Foundation Models -> (some model) -> Get API Code or similar.\n",
    "## 10K free queries to any endpoint (which is a lot actually).\n",
    "\n",
    "# del os.environ['NVIDIA_API_KEY']  ## delete key and reset\n",
    "if os.environ.get(\"NVIDIA_API_KEY\", \"\").startswith(\"nvapi-\"):\n",
    "    print(\"Valid NVIDIA_API_KEY already in environment. Delete to reset\")\n",
    "    nvapi_key=os.environ[\"NVIDIA_API_KEY\"] \n",
    "\n",
    "else:\n",
    "    nvapi_key = getpass.getpass(\"NVAPI Key (starts with nvapi-): \")\n",
    "    assert nvapi_key.startswith(\"nvapi-\"), f\"{nvapi_key[:5]}... is not a valid key\"\n",
    "    os.environ[\"NVIDIA_API_KEY\"] = nvapi_key\n"
   ]
  },
  {
   "cell_type": "code",
   "execution_count": 8,
   "id": "9ec947cf",
   "metadata": {},
   "outputs": [],
   "source": [
    "from llama_index.postprocessor.nvidia_rerank import NVIDIARerank\n",
    "\n",
    "my_key=os.environ[\"NVIDIA_API_KEY\"]\n",
    "rerank=NVIDIARerank().mode(mode=\"nvidia\",api_key=my_key)"
   ]
  },
  {
   "cell_type": "markdown",
   "id": "8f7925d2",
   "metadata": {},
   "source": [
    "## query the reranker via API Catalog's reranker"
   ]
  },
  {
   "cell_type": "code",
   "execution_count": 9,
   "id": "5fef779f",
   "metadata": {},
   "outputs": [
    {
     "data": {
      "text/plain": [
       "[NodeWithScore(node=TextNode(id_='c2e51eb0-11e7-41cb-b378-9283f610da41', embedding=None, metadata={}, excluded_embed_metadata_keys=[], excluded_llm_metadata_keys=[], relationships={}, text='two roads diverged in a yellow wood, and sorry i could not travel both and be one traveler, long i stood and looked down one as far as i could to where it bent in the undergrowth;', start_char_idx=None, end_char_idx=None, text_template='{metadata_str}\\n\\n{content}', metadata_template='{key}: {value}', metadata_seperator='\\n'), score=-0.47705078125),\n",
       " NodeWithScore(node=TextNode(id_='c2e51eb0-11e7-41cb-b378-9283f610da41', embedding=None, metadata={}, excluded_embed_metadata_keys=[], excluded_llm_metadata_keys=[], relationships={}, text='two roads diverged in a yellow wood, and sorry i could not travel both and be one traveler, long i stood and looked down one as far as i could to where it bent in the undergrowth;', start_char_idx=None, end_char_idx=None, text_template='{metadata_str}\\n\\n{content}', metadata_template='{key}: {value}', metadata_seperator='\\n'), score=-0.47705078125)]"
      ]
     },
     "execution_count": 9,
     "metadata": {},
     "output_type": "execute_result"
    }
   ],
   "source": [
    "\n",
    "rerank.postprocess_nodes(nodes, query_str=query )"
   ]
  }
 ],
 "metadata": {
  "kernelspec": {
   "display_name": "Python 3 (ipykernel)",
   "language": "python",
   "name": "python3"
  },
  "language_info": {
   "codemirror_mode": {
    "name": "ipython",
    "version": 3
   },
   "file_extension": ".py",
   "mimetype": "text/x-python",
   "name": "python",
   "nbconvert_exporter": "python",
   "pygments_lexer": "ipython3",
   "version": "3.10.6"
  }
 },
 "nbformat": 4,
 "nbformat_minor": 5
}
