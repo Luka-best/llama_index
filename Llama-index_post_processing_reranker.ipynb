{
 "cells": [
  {
   "cell_type": "markdown",
   "id": "04dd9eb4",
   "metadata": {},
   "source": [
    "#uncomment to install llama-index, make sure it is above 0.10.x\n",
    "## TODO :\n",
    "NVIDIARerank.get_available_models is currently hardcoded as dictionaly items"
   ]
  },
  {
   "cell_type": "code",
   "execution_count": null,
   "id": "420e9080",
   "metadata": {},
   "outputs": [],
   "source": [
    "from llama_index.postprocessor.nvidia_rerank import NVIDIARerank\n",
    "\n",
    "NVIDIARerank.get_available_models()"
   ]
  },
  {
   "cell_type": "code",
   "execution_count": null,
   "id": "435cb1cb",
   "metadata": {},
   "outputs": [],
   "source": [
    "from llama_index.postprocessor.nvidia_rerank import NVIDIARerank\n",
    "\n",
    "ranker = NVIDIARerank(top_n=5)"
   ]
  },
  {
   "cell_type": "markdown",
   "id": "a9dc0b8b",
   "metadata": {},
   "source": [
    "## establish the reranker class with the local nim, supplying a base_url"
   ]
  },
  {
   "cell_type": "code",
   "execution_count": 1,
   "id": "27f22a39",
   "metadata": {},
   "outputs": [],
   "source": [
    "from llama_index.postprocessor.nvidia_rerank import NVIDIARerank\n",
    "rerank=NVIDIARerank().mode(mode=\"nim\", base_url=\"http://127.0.0.1:1976/v1\")"
   ]
  },
  {
   "cell_type": "markdown",
   "id": "7ee7b501",
   "metadata": {},
   "source": [
    "## we can set top_n like this"
   ]
  },
  {
   "cell_type": "code",
   "execution_count": 2,
   "id": "44be8747",
   "metadata": {},
   "outputs": [
    {
     "name": "stdout",
     "output_type": "stream",
     "text": [
      "2\n"
     ]
    }
   ],
   "source": [
    "## setting top_n since our examples dont have more than 5 \n",
    "rerank.top_n=2\n",
    "print(rerank.top_n)\n",
    "rerank.max_batch_size = 32\n"
   ]
  },
  {
   "cell_type": "code",
   "execution_count": null,
   "id": "a3faef6b",
   "metadata": {},
   "outputs": [],
   "source": [
    "\n"
   ]
  },
  {
   "cell_type": "code",
   "execution_count": 3,
   "id": "27228623",
   "metadata": {},
   "outputs": [],
   "source": [
    "from llama_index.core import Document\n",
    "from llama_index.core import VectorStoreIndex, SimpleDirectoryReader\n",
    "from llama_index.core.node_parser import SentenceSplitter,SimpleFileNodeParser\n",
    "# load documents\n",
    "documents = SimpleDirectoryReader(\"/workspace/APICatalog_reranker/data\").load_data()\n",
    "\n",
    "# parse nodes\n",
    "parser = SentenceSplitter(separator='\\n', chunk_size=200, chunk_overlap=0)\n",
    "nodes = parser.get_nodes_from_documents(documents)\n",
    "\n"
   ]
  },
  {
   "cell_type": "code",
   "execution_count": null,
   "id": "bd16d37e",
   "metadata": {},
   "outputs": [],
   "source": [
    "nodes[0].get_content , nodes[1].get_content"
   ]
  },
  {
   "cell_type": "markdown",
   "id": "2511ca27",
   "metadata": {},
   "source": [
    "## load some toy data"
   ]
  },
  {
   "cell_type": "code",
   "execution_count": null,
   "id": "24a3ea6c",
   "metadata": {},
   "outputs": [],
   "source": [
    "from llama_index.core.postprocessor import SimilarityPostprocessor\n",
    "from llama_index.core.data_structs import Node\n",
    "from llama_index.core.schema import NodeWithScore\n",
    "query = \"which way should i go?\"\n",
    "passages = [\n",
    "    \"two roads diverged in a yellow wood, and sorry i could not travel both and be one traveler, long i stood and looked down one as far as i could to where it bent in the undergrowth;\",\n",
    "    \"then took the other, as just as fair, and having perhaps the better claim because it was grassy and wanted wear, though as for that the passing there had worn them really about the same,\",\n",
    "    \"and both that morning equally lay in leaves no step had trodden black. oh, i marked the first for another day! yet knowing how way leads on to way i doubted if i should ever come back.\",\n",
    "    \"i shall be telling this with a sigh somewhere ages and ages hense: two roads diverged in a wood, and i, i took the one less traveled by, and that has made all the difference.\"\n",
    "]\n",
    "\n",
    "nodes = [\n",
    "    NodeWithScore(node=Node(text=passages[0]), score=0.7),\n",
    "    NodeWithScore(node=Node(text=passages[1]), score=0.8)\n",
    "]\n"
   ]
  },
  {
   "cell_type": "markdown",
   "id": "3c2cfadc",
   "metadata": {},
   "source": [
    "## validate with NVreranker works"
   ]
  },
  {
   "cell_type": "code",
   "execution_count": 6,
   "id": "5b9161fc",
   "metadata": {},
   "outputs": [
    {
     "data": {
      "text/plain": [
       "[NodeWithScore(node=TextNode(id_='110bf467-4e16-411b-b4a9-5b1192cd20f5', embedding=None, metadata={'file_path': '/workspace/APICatalog_reranker/data/Sweden.txt', 'file_name': 'Sweden.txt', 'file_type': 'text/plain', 'file_size': 123365, 'creation_date': '2024-04-24', 'last_modified_date': '2024-04-24'}, excluded_embed_metadata_keys=['file_name', 'file_type', 'file_size', 'creation_date', 'last_modified_date', 'last_accessed_date'], excluded_llm_metadata_keys=['file_name', 'file_type', 'file_size', 'creation_date', 'last_modified_date', 'last_accessed_date'], relationships={<NodeRelationship.SOURCE: '1'>: RelatedNodeInfo(node_id='26e9f026-0115-43f4-b6be-f84117b91af7', node_type=<ObjectType.DOCUMENT: '4'>, metadata={'file_path': '/workspace/APICatalog_reranker/data/Sweden.txt', 'file_name': 'Sweden.txt', 'file_type': 'text/plain', 'file_size': 123365, 'creation_date': '2024-04-24', 'last_modified_date': '2024-04-24'}, hash='f2937488cfafa01fbfa630608ec381098029b73d3e708bc59804eb5ab978c8d0'), <NodeRelationship.NEXT: '3'>: RelatedNodeInfo(node_id='a4afa76c-f195-443e-8103-a20dc5512d0d', node_type=<ObjectType.TEXT: '1'>, metadata={}, hash='70b0930164af3bda07bd0f1fa9b355b2da40da2601b05df50d62ccb6814229c9')}, text='Sweden, formally the Kingdom of Sweden, is a Nordic country located on the Scandinavian Peninsula in Northern Europe. It borders Norway to the west and north, Finland to the east, and is connected to Denmark in the southwest by a bridge–tunnel across the Öresund. At 447,425 square kilometres (172,752 sq mi), Sweden is the largest Nordic country, the third-largest country in the European Union, and the fifth-largest country in Europe. The capital and largest city is Stockholm. Sweden has a total population of 10.5 million, and a low population density of 25.5 inhabitants per square kilometre (66/sq mi), with around 87% of Swedes residing in urban areas, which cover 1.5% of the entire land area, in the central and southern half of the country.', start_char_idx=0, end_char_idx=751, text_template='{metadata_str}\\n\\n{content}', metadata_template='{key}: {value}', metadata_seperator='\\n'), score=1.0),\n",
       " NodeWithScore(node=TextNode(id_='ea35199e-feb3-44d6-81f4-c342a08bd212', embedding=None, metadata={'file_path': '/workspace/APICatalog_reranker/data/Sweden.txt', 'file_name': 'Sweden.txt', 'file_type': 'text/plain', 'file_size': 123365, 'creation_date': '2024-04-24', 'last_modified_date': '2024-04-24'}, excluded_embed_metadata_keys=['file_name', 'file_type', 'file_size', 'creation_date', 'last_modified_date', 'last_accessed_date'], excluded_llm_metadata_keys=['file_name', 'file_type', 'file_size', 'creation_date', 'last_modified_date', 'last_accessed_date'], relationships={<NodeRelationship.SOURCE: '1'>: RelatedNodeInfo(node_id='26e9f026-0115-43f4-b6be-f84117b91af7', node_type=<ObjectType.DOCUMENT: '4'>, metadata={'file_path': '/workspace/APICatalog_reranker/data/Sweden.txt', 'file_name': 'Sweden.txt', 'file_type': 'text/plain', 'file_size': 123365, 'creation_date': '2024-04-24', 'last_modified_date': '2024-04-24'}, hash='f2937488cfafa01fbfa630608ec381098029b73d3e708bc59804eb5ab978c8d0'), <NodeRelationship.PREVIOUS: '2'>: RelatedNodeInfo(node_id='5095a960-cd7f-44f0-8b1e-9cfa306aa57a', node_type=<ObjectType.TEXT: '1'>, metadata={'file_path': '/workspace/APICatalog_reranker/data/Sweden.txt', 'file_name': 'Sweden.txt', 'file_type': 'text/plain', 'file_size': 123365, 'creation_date': '2024-04-24', 'last_modified_date': '2024-04-24'}, hash='3d9d9050bc28627b9763cac91fce2187042130dfba844f29c35b679f4a2e3305'), <NodeRelationship.NEXT: '3'>: RelatedNodeInfo(node_id='59c27ed4-55ef-414b-ad80-86f0bc92140f', node_type=<ObjectType.TEXT: '1'>, metadata={}, hash='8abd545a39fdff20166fceb692a9ed75026d2ccf8fdd0172d66fa08b666aaacb')}, text='But there were Swedish settlements along the southern coastline of Norrland.\\n\\nDuring the early stages of the Scandinavian Viking Age, Ystad in the Danish province Scania and Paviken on Gotland were flourishing centres of trade, but they were not parts of the early Swedish Kingdom. Remains of what is believed to have been a large market dating from 600 to 700 CE have been found in Ystad. In Paviken, an important centre of trade in the Baltic region during the ninth and tenth century, remains have been found of a large Viking Age harbour with shipbuilding yards and handicraft industries. Between 800 and 1000, trade brought an abundance of silver to Gotland, and according to some scholars, the Gotlanders of this era hoarded more silver than the rest of the population of Scandinavia combined.', start_char_idx=9843, end_char_idx=10642, text_template='{metadata_str}\\n\\n{content}', metadata_template='{key}: {value}', metadata_seperator='\\n'), score=1.0)]"
      ]
     },
     "execution_count": 6,
     "metadata": {},
     "output_type": "execute_result"
    }
   ],
   "source": [
    "from llama_index.postprocessor.nvidia_rerank import NVIDIARerank\n",
    "query=\"tell me about Sweden's geography?\"\n",
    "rerank.postprocess_nodes(nodes, query_str=query )\n"
   ]
  },
  {
   "cell_type": "markdown",
   "id": "a0be7a8a",
   "metadata": {},
   "source": [
    "## switch to APICatalog , for that we need to set the NVIDIA_API_KEY"
   ]
  },
  {
   "cell_type": "code",
   "execution_count": 7,
   "id": "19029bbf",
   "metadata": {},
   "outputs": [
    {
     "name": "stdin",
     "output_type": "stream",
     "text": [
      "NVAPI Key (starts with nvapi-):  ······································································\n"
     ]
    }
   ],
   "source": [
    "import getpass\n",
    "import os\n",
    "\n",
    "## API Key can be found by going to NVIDIA NGC -> AI Foundation Models -> (some model) -> Get API Code or similar.\n",
    "## 10K free queries to any endpoint (which is a lot actually).\n",
    "\n",
    "# del os.environ['NVIDIA_API_KEY']  ## delete key and reset\n",
    "if os.environ.get(\"NVIDIA_API_KEY\", \"\").startswith(\"nvapi-\"):\n",
    "    print(\"Valid NVIDIA_API_KEY already in environment. Delete to reset\")\n",
    "    nvapi_key=os.environ[\"NVIDIA_API_KEY\"] \n",
    "\n",
    "else:\n",
    "    nvapi_key = getpass.getpass(\"NVAPI Key (starts with nvapi-): \")\n",
    "    assert nvapi_key.startswith(\"nvapi-\"), f\"{nvapi_key[:5]}... is not a valid key\"\n",
    "    os.environ[\"NVIDIA_API_KEY\"] = nvapi_key\n"
   ]
  },
  {
   "cell_type": "code",
   "execution_count": 8,
   "id": "6f21509f",
   "metadata": {},
   "outputs": [],
   "source": [
    "from llama_index.postprocessor.nvidia_rerank import NVIDIARerank\n",
    "\n",
    "my_key=os.environ[\"NVIDIA_API_KEY\"]\n",
    "rerank=NVIDIARerank().mode(mode=\"nvidia\",api_key=my_key)"
   ]
  },
  {
   "cell_type": "markdown",
   "id": "c7b07505",
   "metadata": {},
   "source": [
    "## query the reranker via API Catalog's reranker"
   ]
  },
  {
   "cell_type": "code",
   "execution_count": 9,
   "id": "f436d8bb",
   "metadata": {},
   "outputs": [
    {
     "data": {
      "text/plain": [
       "[NodeWithScore(node=TextNode(id_='110bf467-4e16-411b-b4a9-5b1192cd20f5', embedding=None, metadata={'file_path': '/workspace/APICatalog_reranker/data/Sweden.txt', 'file_name': 'Sweden.txt', 'file_type': 'text/plain', 'file_size': 123365, 'creation_date': '2024-04-24', 'last_modified_date': '2024-04-24'}, excluded_embed_metadata_keys=['file_name', 'file_type', 'file_size', 'creation_date', 'last_modified_date', 'last_accessed_date'], excluded_llm_metadata_keys=['file_name', 'file_type', 'file_size', 'creation_date', 'last_modified_date', 'last_accessed_date'], relationships={<NodeRelationship.SOURCE: '1'>: RelatedNodeInfo(node_id='26e9f026-0115-43f4-b6be-f84117b91af7', node_type=<ObjectType.DOCUMENT: '4'>, metadata={'file_path': '/workspace/APICatalog_reranker/data/Sweden.txt', 'file_name': 'Sweden.txt', 'file_type': 'text/plain', 'file_size': 123365, 'creation_date': '2024-04-24', 'last_modified_date': '2024-04-24'}, hash='f2937488cfafa01fbfa630608ec381098029b73d3e708bc59804eb5ab978c8d0'), <NodeRelationship.NEXT: '3'>: RelatedNodeInfo(node_id='a4afa76c-f195-443e-8103-a20dc5512d0d', node_type=<ObjectType.TEXT: '1'>, metadata={}, hash='70b0930164af3bda07bd0f1fa9b355b2da40da2601b05df50d62ccb6814229c9')}, text='Sweden, formally the Kingdom of Sweden, is a Nordic country located on the Scandinavian Peninsula in Northern Europe. It borders Norway to the west and north, Finland to the east, and is connected to Denmark in the southwest by a bridge–tunnel across the Öresund. At 447,425 square kilometres (172,752 sq mi), Sweden is the largest Nordic country, the third-largest country in the European Union, and the fifth-largest country in Europe. The capital and largest city is Stockholm. Sweden has a total population of 10.5 million, and a low population density of 25.5 inhabitants per square kilometre (66/sq mi), with around 87% of Swedes residing in urban areas, which cover 1.5% of the entire land area, in the central and southern half of the country.', start_char_idx=0, end_char_idx=751, text_template='{metadata_str}\\n\\n{content}', metadata_template='{key}: {value}', metadata_seperator='\\n'), score=3.30859375),\n",
       " NodeWithScore(node=TextNode(id_='158fd454-da94-49a1-b366-d2ed08eed55d', embedding=None, metadata={'file_path': '/workspace/APICatalog_reranker/data/Sweden.txt', 'file_name': 'Sweden.txt', 'file_type': 'text/plain', 'file_size': 123365, 'creation_date': '2024-04-24', 'last_modified_date': '2024-04-24'}, excluded_embed_metadata_keys=['file_name', 'file_type', 'file_size', 'creation_date', 'last_modified_date', 'last_accessed_date'], excluded_llm_metadata_keys=['file_name', 'file_type', 'file_size', 'creation_date', 'last_modified_date', 'last_accessed_date'], relationships={<NodeRelationship.SOURCE: '1'>: RelatedNodeInfo(node_id='26e9f026-0115-43f4-b6be-f84117b91af7', node_type=<ObjectType.DOCUMENT: '4'>, metadata={'file_path': '/workspace/APICatalog_reranker/data/Sweden.txt', 'file_name': 'Sweden.txt', 'file_type': 'text/plain', 'file_size': 123365, 'creation_date': '2024-04-24', 'last_modified_date': '2024-04-24'}, hash='f2937488cfafa01fbfa630608ec381098029b73d3e708bc59804eb5ab978c8d0'), <NodeRelationship.PREVIOUS: '2'>: RelatedNodeInfo(node_id='2a88bb31-18a2-4b12-8539-3a732bfd5733', node_type=<ObjectType.TEXT: '1'>, metadata={'file_path': '/workspace/APICatalog_reranker/data/Sweden.txt', 'file_name': 'Sweden.txt', 'file_type': 'text/plain', 'file_size': 123365, 'creation_date': '2024-04-24', 'last_modified_date': '2024-04-24'}, hash='6310d2def5faff6a344c254cdad08c9132e0b966cdcdf08ddc37953592f2c1e7'), <NodeRelationship.NEXT: '3'>: RelatedNodeInfo(node_id='5095a960-cd7f-44f0-8b1e-9cfa306aa57a', node_type=<ObjectType.TEXT: '1'>, metadata={}, hash='b54c547f2b2c6ffbd0a881dcd1e2714c2f2b0f8a6075c5e5f9ccf02510a49e6b')}, text='The last major Swedish Viking expedition appears to have been the ill-fated expedition of Ingvar the Far-Travelled to Serkland, the region south-east of the Caspian Sea. Its members are commemorated on the Ingvar runestones, none of which mentions any survivor. What happened to the crew is unknown, but it is believed that they died of sickness.\\n\\n\\n=== Kingdom of Sweden ===\\nIt is not known when and how the kingdom of Sweden was born, but the list of Swedish monarchs is drawn from the first kings known to have ruled both Svealand (Sweden) and Götaland (Gothia) as one province, beginning with Eric the Victorious. Sweden and Gothia were two separate nations long before that and since antiquity.', start_char_idx=8437, end_char_idx=9135, text_template='{metadata_str}\\n\\n{content}', metadata_template='{key}: {value}', metadata_seperator='\\n'), score=0.68896484375)]"
      ]
     },
     "execution_count": 9,
     "metadata": {},
     "output_type": "execute_result"
    }
   ],
   "source": [
    "\n",
    "rerank.postprocess_nodes(nodes, query_str=query )"
   ]
  }
 ],
 "metadata": {
  "kernelspec": {
   "display_name": "Python 3 (ipykernel)",
   "language": "python",
   "name": "python3"
  },
  "language_info": {
   "codemirror_mode": {
    "name": "ipython",
    "version": 3
   },
   "file_extension": ".py",
   "mimetype": "text/x-python",
   "name": "python",
   "nbconvert_exporter": "python",
   "pygments_lexer": "ipython3",
   "version": "3.10.6"
  }
 },
 "nbformat": 4,
 "nbformat_minor": 5
}
